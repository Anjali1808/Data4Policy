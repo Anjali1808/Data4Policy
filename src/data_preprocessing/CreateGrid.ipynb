{
 "cells": [
  {
   "cell_type": "code",
   "execution_count": 1,
   "metadata": {},
   "outputs": [
    {
     "name": "stderr",
     "output_type": "stream",
     "text": [
      "/home/luckyw0w/.local/lib/python3.10/site-packages/geopandas/_compat.py:123: UserWarning: The Shapely GEOS version (3.10.3-CAPI-1.16.1) is incompatible with the GEOS version PyGEOS was compiled with (3.10.4-CAPI-1.16.2). Conversions between both will be slow.\n",
      "  warnings.warn(\n"
     ]
    }
   ],
   "source": [
    "import geopandas as gpd\n",
    "import numpy as np\n",
    "import shapely.geometry"
   ]
  },
  {
   "cell_type": "code",
   "execution_count": 10,
   "metadata": {},
   "outputs": [],
   "source": [
    "gdf = gpd.read_file(\"base_geojson/TL_state_shapefile_for_clip.geojson\")  #Given location of shapefile of which grid has to be make\n",
    "\n",
    "STEP = 10000 # size of one cube of grid (in metres)\n",
    "crs = gdf.estimate_utm_crs() # EPSG:32644 - NOTE:- CONVERT INTO DEGREE COORDINATE SYSTEM TO METRIC IF NOT"
   ]
  },
  {
   "cell_type": "code",
   "execution_count": 11,
   "metadata": {},
   "outputs": [],
   "source": [
    "#DEGREE\n",
    "gdf = gdf.to_crs(4326)\n",
    "STEP = 0.009021 # size of one cube of grid (in degrees)\n",
    "crs = gdf.crs"
   ]
  },
  {
   "cell_type": "code",
   "execution_count": 12,
   "metadata": {},
   "outputs": [],
   "source": [
    "a, b, c, d = gdf.to_crs(crs).total_bounds  #degree"
   ]
  },
  {
   "cell_type": "code",
   "execution_count": 13,
   "metadata": {},
   "outputs": [],
   "source": [
    "#a, b, c, d = gdf.to_crs(crs).total_bounds\n",
    "#METRIC\n",
    "# create a grid for geometry\n",
    "gdf_grid = gpd.GeoDataFrame(\n",
    "    geometry=[\n",
    "        shapely.geometry.box(minx, miny, maxx, maxy)\n",
    "        for minx, maxx in zip(np.arange(a, c, STEP), np.arange(a, c, STEP)[1:])\n",
    "        for miny, maxy in zip(np.arange(b, d, STEP), np.arange(b, d, STEP)[1:])\n",
    "    ],\n",
    "    crs=crs,\n",
    ").to_crs(gdf.crs)\n",
    "\n",
    "# exclude geometries that cross antimeridian \n",
    "gdf_grid = gdf_grid.loc[~gdf_grid[\"geometry\"].bounds.pipe(lambda d: d[\"maxx\"] - d[\"minx\"]).ge(350)]\n",
    "\n",
    "# restrict grid to only squares that intersect with geometry\n",
    "gdf_grid = (\n",
    "    gdf_grid.sjoin(gdf.dissolve().loc[:,[\"geometry\"]])\n",
    "    .pipe(lambda d: d.groupby(d.index).first())\n",
    "    .set_crs(gdf.crs)\n",
    "    .drop(columns=[\"index_right\"])\n",
    ")\n",
    "m = gdf.explore(color=\"red\", style_kwds={\"fillOpacity\":0})\n",
    "#gdf_grid.explore(m=m)"
   ]
  },
  {
   "cell_type": "code",
   "execution_count": 14,
   "metadata": {},
   "outputs": [],
   "source": [
    "#SAVE GRID\n",
    "gdf_grid.to_file('base_geojson/Telangana_grid1km_degree.geojson')"
   ]
  },
  {
   "cell_type": "code",
   "execution_count": null,
   "metadata": {},
   "outputs": [],
   "source": []
  }
 ],
 "metadata": {
  "kernelspec": {
   "display_name": "Python 3.10.6 64-bit",
   "language": "python",
   "name": "python3"
  },
  "language_info": {
   "codemirror_mode": {
    "name": "ipython",
    "version": 3
   },
   "file_extension": ".py",
   "mimetype": "text/x-python",
   "name": "python",
   "nbconvert_exporter": "python",
   "pygments_lexer": "ipython3",
   "version": "3.10.6"
  },
  "orig_nbformat": 4,
  "vscode": {
   "interpreter": {
    "hash": "916dbcbb3f70747c44a77c7bcd40155683ae19c65e1c03b4aa3499c5328201f1"
   }
  }
 },
 "nbformat": 4,
 "nbformat_minor": 2
}
