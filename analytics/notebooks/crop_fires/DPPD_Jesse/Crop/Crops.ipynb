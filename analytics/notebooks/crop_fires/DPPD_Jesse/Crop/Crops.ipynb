{
 "cells": [
  {
   "cell_type": "code",
   "execution_count": 41,
   "metadata": {},
   "outputs": [],
   "source": [
    "import pandas as pd\n",
    "import os\n",
    "import geopandas as gpd\n",
    "import geoplot\n",
    "import geoplot.crs as gcrs\n",
    "import matplotlib.pyplot as plt\n",
    "from shapely.geometry import Point\n",
    "import folium\n",
    "import rasterio\n",
    "import numpy as np\n",
    "import datetime as dt\n",
    "from rasterstats import zonal_stats\n",
    "from sklearn.linear_model import LinearRegression"
   ]
  },
  {
   "cell_type": "code",
   "execution_count": 3,
   "metadata": {},
   "outputs": [],
   "source": [
    "os.chdir('c:\\\\Users\\\\Jesse\\\\OneDrive\\\\Documenten\\\\Master BAOR\\\\Thesis\\\\GitHub\\\\dicra\\\\src\\\\data_preprocessing\\\\tsdm\\\\')\n",
    "mandal_boundaries = gpd.read_file('Mandal_Boundary.shp')\n",
    "mandal_boundaries = mandal_boundaries.reset_index()\n",
    "\n",
    "os.chdir('c:\\\\Users\\\\Jesse\\\\OneDrive\\\\Documenten\\\\Master BAOR\\\\Thesis\\\\GitHub\\\\dicra\\\\analytics\\\\notebooks\\\\crop_fires\\\\Landuse_Analysis')\n"
   ]
  },
  {
   "cell_type": "code",
   "execution_count": 4,
   "metadata": {},
   "outputs": [],
   "source": [
    "def crop_counts(boundaries, year):\n",
    "    tiff = '01-01-'+str(year)+'.tif'\n",
    "    lulc = rasterio.open(tiff, mode = 'r')\n",
    "    lulc_array = lulc.read(1) # landuse corresponding to each rasterpixel, so we extracted the pixel values from the raster\n",
    "    # affine: 1: corresponds to the width of each pixel, 2: row rotation, 3: x-coordinate of the upper left pixel, 4: column rotation, 5: height of each pixel, 6: y-coordinate of the upper left pixel\n",
    "    affine = lulc.transform\n",
    "\n",
    "    cmap = {1: 'Water', 2: 'Trees', 4: 'Flooded Vegetation', 5: 'Crops', 7: 'Built Area', 8: 'Bare Ground', 9: 'Snow/Ice', 10: 'Clouds', 11: 'Rangeland'}\n",
    "    boundaries['Crops ' + str(year)] = 0\n",
    "\n",
    "    for i in range(0, len(boundaries)):\n",
    "        test = zonal_stats(boundaries.iloc[i].geometry, lulc_array, affine = affine, geojson_out = True, nodata = lulc.nodata, categorical=True, category_map = cmap)\n",
    "        try:\n",
    "            boundaries['Crops ' + str(year)].iloc[i] = test[0]['properties']['Crops']  \n",
    "        except:\n",
    "            boundaries['Crops ' + str(year)].iloc[i] = 0\n",
    "        \n",
    "    return (boundaries)"
   ]
  },
  {
   "cell_type": "code",
   "execution_count": 5,
   "metadata": {},
   "outputs": [
    {
     "name": "stderr",
     "output_type": "stream",
     "text": [
      "c:\\Users\\Jesse\\Anaconda3\\envs\\gurobi\\lib\\site-packages\\pandas\\core\\indexing.py:1732: SettingWithCopyWarning: \n",
      "A value is trying to be set on a copy of a slice from a DataFrame\n",
      "\n",
      "See the caveats in the documentation: https://pandas.pydata.org/pandas-docs/stable/user_guide/indexing.html#returning-a-view-versus-a-copy\n",
      "  self._setitem_single_block(indexer, value, name)\n"
     ]
    },
    {
     "name": "stdout",
     "output_type": "stream",
     "text": [
      "Year 2017 is completed.\n",
      "Year 2018 is completed.\n",
      "Year 2019 is completed.\n",
      "Year 2020 is completed.\n",
      "Year 2021 is completed.\n"
     ]
    }
   ],
   "source": [
    "for a in range(2017, 2022):\n",
    "    mandal_boundaries = crop_counts(mandal_boundaries, a)\n",
    "    print('Year ' + str(a) + ' is completed.')"
   ]
  },
  {
   "cell_type": "code",
   "execution_count": 38,
   "metadata": {},
   "outputs": [],
   "source": [
    "os.chdir('c:\\\\Users\\\\Jesse\\\\OneDrive\\\\Documenten\\\\Master BAOR\\\\Thesis\\\\GitHub\\\\dicra\\\\analytics\\\\notebooks\\\\crop_fires\\\\DPPD_Jesse\\\\Crop')\n",
    "crops_df = mandal_boundaries[['Crops 2017', 'Crops 2018', 'Crops 2019', 'Crops 2020', 'Crops 2021']]\n",
    "crops_df.to_csv('Crops_years.csv')"
   ]
  },
  {
   "cell_type": "code",
   "execution_count": 39,
   "metadata": {},
   "outputs": [],
   "source": [
    "crops_df = crops_df.transpose()\n",
    "crops_df = crops_df.reset_index()\n",
    "crops_df['day'] = 1 \n",
    "crops_df['year'] = [2017, 2018, 2019, 2020, 2021]\n",
    "crops_df['month'] = 1\n",
    "crops_df['ModifiedDateTime'] = pd.to_datetime(crops_df[['year', 'month', 'day']].astype('int64').astype('str'), yearfirst=True)\n",
    "crops_df['ModifiedDateTime_num'] = crops_df['ModifiedDateTime'].map(dt.datetime.toordinal)"
   ]
  },
  {
   "cell_type": "code",
   "execution_count": 40,
   "metadata": {},
   "outputs": [
    {
     "data": {
      "text/html": [
       "<div>\n",
       "<style scoped>\n",
       "    .dataframe tbody tr th:only-of-type {\n",
       "        vertical-align: middle;\n",
       "    }\n",
       "\n",
       "    .dataframe tbody tr th {\n",
       "        vertical-align: top;\n",
       "    }\n",
       "\n",
       "    .dataframe thead th {\n",
       "        text-align: right;\n",
       "    }\n",
       "</style>\n",
       "<table border=\"1\" class=\"dataframe\">\n",
       "  <thead>\n",
       "    <tr style=\"text-align: right;\">\n",
       "      <th></th>\n",
       "      <th>index</th>\n",
       "      <th>0</th>\n",
       "      <th>1</th>\n",
       "      <th>2</th>\n",
       "      <th>3</th>\n",
       "      <th>4</th>\n",
       "      <th>5</th>\n",
       "      <th>6</th>\n",
       "      <th>7</th>\n",
       "      <th>8</th>\n",
       "      <th>...</th>\n",
       "      <th>587</th>\n",
       "      <th>588</th>\n",
       "      <th>589</th>\n",
       "      <th>590</th>\n",
       "      <th>591</th>\n",
       "      <th>day</th>\n",
       "      <th>year</th>\n",
       "      <th>month</th>\n",
       "      <th>ModifiedDateTime</th>\n",
       "      <th>ModifiedDateTime_num</th>\n",
       "    </tr>\n",
       "  </thead>\n",
       "  <tbody>\n",
       "    <tr>\n",
       "      <th>0</th>\n",
       "      <td>Crops 2017</td>\n",
       "      <td>849836</td>\n",
       "      <td>1975611</td>\n",
       "      <td>812996</td>\n",
       "      <td>1268147</td>\n",
       "      <td>1082324</td>\n",
       "      <td>1256216</td>\n",
       "      <td>74094</td>\n",
       "      <td>2636072</td>\n",
       "      <td>1504092</td>\n",
       "      <td>...</td>\n",
       "      <td>239109</td>\n",
       "      <td>300628</td>\n",
       "      <td>832802</td>\n",
       "      <td>453161</td>\n",
       "      <td>679970</td>\n",
       "      <td>1</td>\n",
       "      <td>2017</td>\n",
       "      <td>1</td>\n",
       "      <td>2017-01-01</td>\n",
       "      <td>736330</td>\n",
       "    </tr>\n",
       "    <tr>\n",
       "      <th>1</th>\n",
       "      <td>Crops 2018</td>\n",
       "      <td>802551</td>\n",
       "      <td>2078593</td>\n",
       "      <td>861867</td>\n",
       "      <td>1300430</td>\n",
       "      <td>1130839</td>\n",
       "      <td>1450355</td>\n",
       "      <td>80052</td>\n",
       "      <td>2642390</td>\n",
       "      <td>1530209</td>\n",
       "      <td>...</td>\n",
       "      <td>245527</td>\n",
       "      <td>300674</td>\n",
       "      <td>877785</td>\n",
       "      <td>488000</td>\n",
       "      <td>688364</td>\n",
       "      <td>1</td>\n",
       "      <td>2018</td>\n",
       "      <td>1</td>\n",
       "      <td>2018-01-01</td>\n",
       "      <td>736695</td>\n",
       "    </tr>\n",
       "    <tr>\n",
       "      <th>2</th>\n",
       "      <td>Crops 2019</td>\n",
       "      <td>902137</td>\n",
       "      <td>1839440</td>\n",
       "      <td>847520</td>\n",
       "      <td>1328201</td>\n",
       "      <td>1026739</td>\n",
       "      <td>1377551</td>\n",
       "      <td>74407</td>\n",
       "      <td>2613427</td>\n",
       "      <td>1540098</td>\n",
       "      <td>...</td>\n",
       "      <td>247084</td>\n",
       "      <td>301379</td>\n",
       "      <td>903907</td>\n",
       "      <td>493215</td>\n",
       "      <td>689191</td>\n",
       "      <td>1</td>\n",
       "      <td>2019</td>\n",
       "      <td>1</td>\n",
       "      <td>2019-01-01</td>\n",
       "      <td>737060</td>\n",
       "    </tr>\n",
       "    <tr>\n",
       "      <th>3</th>\n",
       "      <td>Crops 2020</td>\n",
       "      <td>761404</td>\n",
       "      <td>2066133</td>\n",
       "      <td>844137</td>\n",
       "      <td>1294461</td>\n",
       "      <td>1139548</td>\n",
       "      <td>1282916</td>\n",
       "      <td>73218</td>\n",
       "      <td>2634133</td>\n",
       "      <td>1568421</td>\n",
       "      <td>...</td>\n",
       "      <td>242441</td>\n",
       "      <td>318042</td>\n",
       "      <td>909823</td>\n",
       "      <td>476468</td>\n",
       "      <td>681570</td>\n",
       "      <td>1</td>\n",
       "      <td>2020</td>\n",
       "      <td>1</td>\n",
       "      <td>2020-01-01</td>\n",
       "      <td>737425</td>\n",
       "    </tr>\n",
       "    <tr>\n",
       "      <th>4</th>\n",
       "      <td>Crops 2021</td>\n",
       "      <td>844641</td>\n",
       "      <td>2182740</td>\n",
       "      <td>889952</td>\n",
       "      <td>1296141</td>\n",
       "      <td>1159068</td>\n",
       "      <td>1393983</td>\n",
       "      <td>77866</td>\n",
       "      <td>2671878</td>\n",
       "      <td>1570838</td>\n",
       "      <td>...</td>\n",
       "      <td>247101</td>\n",
       "      <td>320116</td>\n",
       "      <td>872330</td>\n",
       "      <td>486953</td>\n",
       "      <td>680995</td>\n",
       "      <td>1</td>\n",
       "      <td>2021</td>\n",
       "      <td>1</td>\n",
       "      <td>2021-01-01</td>\n",
       "      <td>737791</td>\n",
       "    </tr>\n",
       "  </tbody>\n",
       "</table>\n",
       "<p>5 rows × 598 columns</p>\n",
       "</div>"
      ],
      "text/plain": [
       "        index       0        1       2        3        4        5      6  \\\n",
       "0  Crops 2017  849836  1975611  812996  1268147  1082324  1256216  74094   \n",
       "1  Crops 2018  802551  2078593  861867  1300430  1130839  1450355  80052   \n",
       "2  Crops 2019  902137  1839440  847520  1328201  1026739  1377551  74407   \n",
       "3  Crops 2020  761404  2066133  844137  1294461  1139548  1282916  73218   \n",
       "4  Crops 2021  844641  2182740  889952  1296141  1159068  1393983  77866   \n",
       "\n",
       "         7        8  ...     587     588     589     590     591  day  year  \\\n",
       "0  2636072  1504092  ...  239109  300628  832802  453161  679970    1  2017   \n",
       "1  2642390  1530209  ...  245527  300674  877785  488000  688364    1  2018   \n",
       "2  2613427  1540098  ...  247084  301379  903907  493215  689191    1  2019   \n",
       "3  2634133  1568421  ...  242441  318042  909823  476468  681570    1  2020   \n",
       "4  2671878  1570838  ...  247101  320116  872330  486953  680995    1  2021   \n",
       "\n",
       "   month  ModifiedDateTime  ModifiedDateTime_num  \n",
       "0      1        2017-01-01                736330  \n",
       "1      1        2018-01-01                736695  \n",
       "2      1        2019-01-01                737060  \n",
       "3      1        2020-01-01                737425  \n",
       "4      1        2021-01-01                737791  \n",
       "\n",
       "[5 rows x 598 columns]"
      ]
     },
     "execution_count": 40,
     "metadata": {},
     "output_type": "execute_result"
    }
   ],
   "source": [
    "crops_df"
   ]
  },
  {
   "cell_type": "code",
   "execution_count": 45,
   "metadata": {},
   "outputs": [],
   "source": [
    "scores = []\n",
    "\n",
    "for i in mandal_boundaries['index']:\n",
    "\n",
    "    #Set the data in the right format for Linear Regression\n",
    "    X = np.array(crops_df['ModifiedDateTime_num'])\n",
    "    X = X.reshape(-1, 1)\n",
    "    y = np.array(crops_df[i])\n",
    "    y = y.reshape(-1, 1)\n",
    "\n",
    "    #Perform Linear Regression and obtain the slope\n",
    "    reg = LinearRegression().fit(X, y)\n",
    "    y_pred_trend = reg.predict(X)\n",
    "    slope, intercept = np.polyfit(np.array(crops_df['ModifiedDateTime_num']), y_pred_trend,1)\n",
    "    line_slope = slope[0]\n",
    "\n",
    "    scores.append(line_slope)"
   ]
  },
  {
   "cell_type": "code",
   "execution_count": 52,
   "metadata": {},
   "outputs": [],
   "source": [
    "data={'index': mandal_boundaries.index, 'scores':scores,'geometry':mandal_boundaries['geometry']}\n",
    "\n",
    "df=pd.DataFrame(data)"
   ]
  },
  {
   "cell_type": "code",
   "execution_count": 54,
   "metadata": {},
   "outputs": [],
   "source": [
    "os.chdir('c:\\\\Users\\\\Jesse\\\\OneDrive\\\\Documenten\\\\Master BAOR\\\\Thesis\\\\GitHub\\\\dicra\\\\analytics\\\\notebooks\\\\crop_fires\\\\DPPD_Jesse\\\\Fires\\\\results')\n",
    "DPPD_Fires = pd.read_csv('DPPD_Fires_2017-2021.csv', index_col = 0)\n",
    "DPPD_Fires.columns = ['index', 'Slope Score Fires', 'geometry']\n",
    "\n",
    "Corr = DPPD_Fires.merge(df[['scores', 'index']], how = 'left', on = ['index'])"
   ]
  },
  {
   "cell_type": "code",
   "execution_count": 56,
   "metadata": {},
   "outputs": [
    {
     "data": {
      "image/png": "[encoded data removed]",
      "text/plain": [
       "<Figure size 640x480 with 1 Axes>"
      ]
     },
     "metadata": {},
     "output_type": "display_data"
    }
   ],
   "source": [
    "plt.scatter(Corr['Slope Score Fires'], Corr['scores'])\n",
    "plt.title('Relation Between Amount of Crops pixel and Amount of Fires Changes over the Years 2017-2021')\n",
    "plt.xlabel('Deviance Score Fires')\n",
    "plt.ylabel('Deviance Score Crops')\n",
    "os.chdir('c:\\\\Users\\\\Jesse\\\\OneDrive\\\\Documenten\\\\Master BAOR\\\\Thesis\\\\GitHub\\\\dicra\\\\analytics\\\\notebooks\\\\crop_fires\\\\DPPD_Jesse\\\\Crop\\\\result')\n",
    "plt.savefig('Relation between Amount of Crops and Fires Changes.png', bbox_inches='tight')\n",
    "plt.show()"
   ]
  }
 ],
 "metadata": {
  "kernelspec": {
   "display_name": "Python 3.8.11 ('gurobi')",
   "language": "python",
   "name": "python3"
  },
  "language_info": {
   "codemirror_mode": {
    "name": "ipython",
    "version": 3
   },
   "file_extension": ".py",
   "mimetype": "text/x-python",
   "name": "python",
   "nbconvert_exporter": "python",
   "pygments_lexer": "ipython3",
   "version": "3.8.11"
  },
  "orig_nbformat": 4,
  "vscode": {
   "interpreter": {
    "hash": "8137cca2c96495771a6332c43a92746d2e8f2f032dec7e1d4873522724197fcb"
   }
  }
 },
 "nbformat": 4,
 "nbformat_minor": 2
}
