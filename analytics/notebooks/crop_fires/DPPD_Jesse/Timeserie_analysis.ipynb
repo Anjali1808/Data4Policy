{
 "cells": [
  {
   "cell_type": "code",
   "execution_count": 2,
   "metadata": {},
   "outputs": [],
   "source": [
    "import pandas as pd\n",
    "import os\n",
    "import geopandas as gpd\n",
    "import geoplot\n",
    "import geoplot.crs as gcrs\n",
    "import matplotlib.pyplot as plt\n",
    "from shapely.geometry import Point\n",
    "import folium\n",
    "import rasterio\n",
    "from statsmodels.tsa.seasonal import seasonal_decompose"
   ]
  },
  {
   "cell_type": "code",
   "execution_count": 3,
   "metadata": {},
   "outputs": [],
   "source": [
    "os.chdir('c:\\\\Users\\\\Jesse\\\\OneDrive\\\\Documenten\\\\Master BAOR\\\\Thesis\\\\GitHub\\\\dicra\\\\analytics\\\\notebooks\\\\crop_fires')\n",
    "fire_data_classified = pd.read_csv('fires_data_classified.csv', index_col=0)\n",
    "\n",
    "os.chdir('c:\\\\Users\\\\Jesse\\\\OneDrive\\\\Documenten\\\\Master BAOR\\\\Thesis\\\\GitHub\\\\dicra\\\\analytics\\\\geospatial_internship\\\\datasets')\n",
    "telangana_shape = gpd.read_file('telangana_shapefile.geojson')\n",
    "\n",
    "os.chdir('c:\\\\Users\\\\Jesse\\\\OneDrive\\\\Documenten\\\\Master BAOR\\\\Thesis\\\\GitHub\\\\dicra\\\\src\\\\data_preprocessing\\\\tsdm\\\\')\n",
    "district_boundaries = gpd.read_file('District_Boundary.shp')\n",
    "\n",
    "os.chdir('c:\\\\Users\\\\Jesse\\\\OneDrive\\\\Documenten\\\\Master BAOR\\\\Thesis\\\\GitHub\\\\dicra\\\\src\\\\data_preprocessing\\\\tsdm\\\\')\n",
    "mandal_boundaries = gpd.read_file('Mandal_Boundary.shp')"
   ]
  },
  {
   "cell_type": "code",
   "execution_count": 4,
   "metadata": {},
   "outputs": [
    {
     "data": {
      "text/plain": [
       "6373"
      ]
     },
     "execution_count": 4,
     "metadata": {},
     "output_type": "execute_result"
    }
   ],
   "source": [
    "#Select only the agricultural fires\n",
    "fire_data = fire_data_classified[fire_data_classified['agricultural'] == 1]\n",
    "del fire_data['agricultural']\n",
    "len(fire_data)"
   ]
  },
  {
   "cell_type": "code",
   "execution_count": 5,
   "metadata": {},
   "outputs": [
    {
     "name": "stderr",
     "output_type": "stream",
     "text": [
      "c:\\Users\\Jesse\\Anaconda3\\envs\\gurobi\\lib\\site-packages\\pyproj\\crs\\crs.py:53: FutureWarning: '+init=<authority>:<code>' syntax is deprecated. '<authority>:<code>' is the preferred initialization method. When making the change, be mindful of axis order changes: https://pyproj4.github.io/pyproj/stable/gotchas.html#axis-order-changes-in-proj-6\n",
      "  return _prepare_from_string(\" \".join(pjargs))\n"
     ]
    }
   ],
   "source": [
    "#Create geodataframe from the data\n",
    "geo_fire_data = gpd.GeoDataFrame(fire_data,geometry = gpd.points_from_xy(fire_data.longitude,fire_data.latitude), crs = {'init': 'epsg:4326'}) \n",
    "\n",
    "#Make sure the geometry columns are in the right format\n",
    "geo_fire_data['geometry'] = geo_fire_data['geometry'].geometry.to_crs(epsg = 4326)\n",
    "district_boundaries['geometry'] = district_boundaries['geometry'].geometry.to_crs(epsg = 4326)\n",
    "mandal_boundaries['geometry'] = mandal_boundaries['geometry'].geometry.to_crs(epsg = 4326)"
   ]
  },
  {
   "cell_type": "code",
   "execution_count": 6,
   "metadata": {},
   "outputs": [],
   "source": [
    "#Load date into date format\n",
    "geo_fire_data['acq_date'] =  pd.to_datetime(geo_fire_data['acq_date'])\n",
    "geo_fire_data['year'] = (geo_fire_data['acq_date']).dt.year\n",
    "geo_fire_data['month'] = (geo_fire_data['acq_date']).dt.month"
   ]
  },
  {
   "cell_type": "code",
   "execution_count": 7,
   "metadata": {},
   "outputs": [
    {
     "name": "stderr",
     "output_type": "stream",
     "text": [
      "<ipython-input-7-6fd086e0389a>:1: UserWarning: CRS mismatch between the CRS of left geometries and the CRS of right geometries.\n",
      "Use `to_crs()` to reproject one of the input geometries to match the CRS of the other.\n",
      "\n",
      "Left CRS: +init=epsg:4326 +type=crs\n",
      "Right CRS: EPSG:4326\n",
      "\n",
      "  fires_per_mandal= gpd.sjoin(geo_fire_data, mandal_boundaries, how=\"inner\", op='intersects')\n"
     ]
    }
   ],
   "source": [
    "fires_per_mandal= gpd.sjoin(geo_fire_data, mandal_boundaries, how=\"inner\", op='intersects')\n",
    "\n",
    "fires_per_mandal['day'] = 1\n",
    "fires_per_mandal['year'] = pd.Series(pd.to_numeric(fires_per_mandal['year'], errors='coerce'), dtype='int64')\n",
    "fires_per_mandal['month'] = pd.Series(pd.to_numeric(fires_per_mandal['month'], errors='coerce'), dtype='int64')\n",
    "fires_per_mandal['ModifiedDateTime'] = pd.to_datetime(fires_per_mandal[['year', 'month', 'day']].astype('int64').astype('str'), yearfirst=True)\n",
    "\n",
    "fires_per_mandal_count = fires_per_mandal.sort_values(by=['Mandal_Nam', 'ModifiedDateTime'])\n",
    "\n",
    "fires_per_mandal_count = fires_per_mandal.groupby(['Dist_Name', 'Mandal_Nam', 'Area', 'ModifiedDateTime'])['frp'].sum().unstack(fill_value=0).stack().reset_index()\n",
    "fires_per_mandal_count['frp per squared km'] = fires_per_mandal_count[0] / (fires_per_mandal_count['Area'])\n",
    "#new_geo_mandal = pd.merge(mandal_boundaries, fires_per_mandal_count, on = ['Dist_Name', 'Mandal_Nam'])\n",
    "del fires_per_mandal_count[0]"
   ]
  },
  {
   "cell_type": "code",
   "execution_count": 8,
   "metadata": {},
   "outputs": [],
   "source": [
    "fires_per_mandal_count= fires_per_mandal_count[(fires_per_mandal_count['ModifiedDateTime']>='2016-01-01') & (fires_per_mandal_count['ModifiedDateTime']<'2021-01-01')]"
   ]
  },
  {
   "cell_type": "code",
   "execution_count": 35,
   "metadata": {},
   "outputs": [
    {
     "data": {
      "text/plain": [
       "array(['Adilabad Rural', 'Bazarhathnoor', 'Bheempoor', 'Boath', 'Ichoda',\n",
       "       'Inderavelly', 'Jainad', 'Narnoor', 'Sirikonda', 'Talamadugu',\n",
       "       'Tamsi', 'Utnur', 'Allapalli', 'Annapureddipalle', 'Aswapuram',\n",
       "       'Aswaraopeta', 'Burgampadu', 'Chandrugonda', 'Cherla',\n",
       "       'Chunchupally', 'Dammapeta', 'Dummugudem', 'Gundala', 'Julurupad',\n",
       "       'Karakagudem', 'Laxmidevipally', 'Manuguru', 'Mulakalapally',\n",
       "       'Palvancha', 'Pinapaka', 'Sujathanagar', 'Tekulapalle', 'Yellandu',\n",
       "       'Beerpur', 'Buggaram', 'Dharmapuri', 'Gollapalli', 'Ibrahimpatnam',\n",
       "       'Jagityal_Rural', 'Jagtial', 'Kathlapur', 'Kodimial', 'Korutla',\n",
       "       'Mallapur', 'Mallial', 'Medipalle', 'Metpalli', 'Pegadapalli',\n",
       "       'Raikal', 'Sarangapur', 'Velgatur', 'Bachannapet', 'Devaruppula',\n",
       "       'Ghanpur (Stn)', 'Jangoan', 'Kodakandla', 'Lingalaghanpur',\n",
       "       'Narmetta', 'Palakurthy', 'Ragunathpally', 'Tharigoppula',\n",
       "       'Zaffergadh', 'Bhupalpally', 'Chityal', 'Ghanapur_Mulug',\n",
       "       'Kataram', 'Mahadevpur', 'Malharrao', 'Mogullapally',\n",
       "       'Mutharam_Mahadevpur', 'Palmela', 'Regonda', 'Tekumatla', 'Aiza',\n",
       "       'Alampur', 'Dharoor', 'Gadwal', 'Ghattu', 'Itikyal',\n",
       "       'Kaloor_Thimmandoddi', 'Maldakal', 'Manopad', 'Rajoli',\n",
       "       'Undavelly', 'Waddepally', 'Banswada', 'Bhiknoor', 'Bibipet',\n",
       "       'Bichkunda', 'Birkoor', 'Gandhari', 'Jukkal', 'Kamareddy',\n",
       "       'Lingampet', 'Machareddy', 'Madnur', 'Nagi_Reddypet',\n",
       "       'Nasurullabad', 'Nizamsagar', 'Pitlam', 'Rajampet', 'Ramareddy',\n",
       "       'Sadashivnagar', 'Tadwai', 'Yellareddy', 'Chigurumamidi',\n",
       "       'Choppadandi', 'Ellandakunta', 'Gangadhara', 'Huzurabad',\n",
       "       'Jammikunta', 'Karimnagar_Rural', 'Kothapally', 'Manakondur',\n",
       "       'Ramadugu', 'Shankarapatnam', 'Thimmapur', 'V_Saidapur',\n",
       "       'Veenavanka', 'Bonakal', 'Chintakani', 'Enkoor', 'Kalluru',\n",
       "       'Kamepally', 'Khammam_Rural', 'Khammam_Urban', 'Konijerla',\n",
       "       'Kusumanchi', 'Madhira', 'Mudigonda', 'Nelakondapally',\n",
       "       'Penuballi', 'Raghunadhapalem', 'Sathupally', 'Singareni',\n",
       "       'Thallada', 'Tirumalayapalem', 'Vemsoor', 'Wyra', 'Yerrupalem',\n",
       "       'Asifabad', 'Bejjur', 'Chintalamanepally', 'Dahegaon',\n",
       "       'Kagaznagar', 'Kerameri', 'Kouthala', 'Rebbena', 'Sirpur_T',\n",
       "       'Tiryani', 'Wankidi', 'Bayyaram', 'Chinnagudur', 'Danthalapalle',\n",
       "       'Dornakal', 'Gangaram', 'Garla', 'Gudur', 'Kesamudram',\n",
       "       'Kothaguda', 'Kuravi', 'Mahabubabad', 'Maripeda', 'Nellikudur',\n",
       "       'Peddavangara', 'Thorrur', 'Addakal', 'Balanagar', 'Bhoothpur',\n",
       "       'Chinna Chinta Kunta', 'Devarkadra', 'Jadcherla', 'Koilkonda',\n",
       "       'Mahabubnagar_Rural', 'Mahabubnagar_Urban', 'Midjil', 'Moosapet',\n",
       "       'Nawabpet', 'Rajapur', 'Bellampalle', 'Bheemaram', 'Bheemini',\n",
       "       'Chennur', 'Dandepalle', 'Hajipur', 'Jaipur', 'Jannaram',\n",
       "       'Kannepalli', 'Kotapalle', 'Luxettipet', 'Mandamarri', 'Nennel',\n",
       "       'Tandur', 'Vemanpalle', 'Alladurg', 'Chegunta', 'Chilipched',\n",
       "       'Havelighanpur', 'Kowdipally', 'Kulcharam', 'Manoharabad',\n",
       "       'Masaipet', 'Medak', 'Narsapur', 'Narsingi', 'Papannapet',\n",
       "       'Ramayampet', 'Regode', 'Shankarampet_A', 'Shankarampet_R',\n",
       "       'Shivampet', 'Tekmal', 'Toopran', 'Yeldurthy',\n",
       "       'Dundigal Gandimaisamma', 'Ghatkesar', 'Keesara', 'Medchal',\n",
       "       'Muduchinthalaphally', 'Shamirpet', 'Eturnagaram', 'Govindaraopet',\n",
       "       'Kannaigudem', 'Mangapet', 'Mulug', 'Tadvai (Sammakka Sarakka)',\n",
       "       'Venkatapur', 'Venkatapuram', 'Wazeed', 'Achampet', 'Amrabad',\n",
       "       'Balmoor', 'Bijinapalle', 'Charakonda', 'Kalwakurthy', 'Kodair',\n",
       "       'Lingal', 'Nagar_Kurnool', 'Padara', 'Peddakothapalle',\n",
       "       'Pentlavelli', 'Tadoor', 'Telkapalle', 'Thimmajipeta', 'Urkonda',\n",
       "       'Vangoor', 'Veldanda', 'Anumula_Haliya', 'Chandampet',\n",
       "       'Chinthapally', 'Damaracherla', 'Devarakonda', 'Gundlapally',\n",
       "       'Gurrampode', 'Kanagal', 'Kattangur', 'Kethepally',\n",
       "       'Madugulapally', 'Marriguda', 'Miryalaguda', 'Munugode',\n",
       "       'Nalgonda', 'Nampally', 'Narketpally', 'Neredugommu', 'Nidamanoor',\n",
       "       'Peda Adisharla Palli', 'Peddavoora', 'Shaligouraram', 'Tipparthy',\n",
       "       'Tripuraram', 'Vemulapally', 'Damargidda', 'Dhanwada', 'Kosgi',\n",
       "       'Krishna', 'Maddur', 'Maganoor', 'Makthal', 'Marikal',\n",
       "       'Narayanpet', 'Narva', 'Utkoor', 'Basar', 'Bhainsa', 'Dasturabad',\n",
       "       'Dilawarpur', 'Kaddampeddur', 'Khanapur', 'Kubeer', 'Kuntala',\n",
       "       'Laxmanchanda', 'Lokeshwaram', 'Mamda', 'Mudhole', 'Narsapur_G',\n",
       "       'Nirmal Rural', 'Pembi', 'Soan', 'Armoor', 'Balkonda', 'Bheemgal',\n",
       "       'Bodhan', 'Chandur', 'Dharpally', 'Dichpally', 'Indalwai',\n",
       "       'Jakranpally', 'Kammarpally', 'Kotagiri', 'Makloor', 'Mendora',\n",
       "       'Morthad', 'Mosra', 'Mugpal', 'Mupkal', 'Nandipet', 'Navipet',\n",
       "       'Nizamabad North', 'Nizamabad Rural', 'Nizamabad South', 'Renjal',\n",
       "       'Rudrur', 'Vailpur', 'Varni', 'Yedapally', 'Yergatla',\n",
       "       'Anthergaon', 'Dharmaram', 'Eligaid', 'Julapalli', 'Kamanpur',\n",
       "       'Manthani', 'Mutharam_Manthani', 'Odela', 'Peddapalli', 'Ramagiri',\n",
       "       'Ramagundam', 'Srirampur', 'Sultanabad', 'Boinpalli', 'Chendurthi',\n",
       "       'Gambhiraopet', 'Illanthakunta', 'Konaraopet', 'Mustabad',\n",
       "       'Rudrangi', 'Sircilla', 'Thangallapalli', 'Veernapalli',\n",
       "       'Vemulawada', 'Vemulawada Rural', 'Yellareddypet', 'Abdullapurmet',\n",
       "       'Balapur', 'Chevella', 'Farooqnagar', 'Kadthal', 'Kandukur',\n",
       "       'Keshampeta', 'Kondurg', 'Kothur', 'Madgul', 'Maheswaram',\n",
       "       'Manchal', 'Moinabad', 'Nandigama', 'Serilingampalle', 'Shabad',\n",
       "       'Shamshabad', 'Shankarpalle', 'Talakondapally', 'Yacharam',\n",
       "       'Andole', 'Chowtakur', 'Gummadidala', 'Hathnoora', 'Jharasangam',\n",
       "       'Jinnaram', 'Kalher', 'Kandi', 'Kangti', 'Kohir', 'Kondapur',\n",
       "       'Manoor', 'Mogudampally', 'Munipally', 'Nagalgidda', 'Narayankhed',\n",
       "       'Nyalkal', 'Patancheruvu', 'Pulkal', 'Raikode', 'Ramachandrapuram',\n",
       "       'Sadasivpet', 'Sangareddy', 'Sirgapoor', 'Vatpally', 'Zahirabad',\n",
       "       'Akkannapet', 'Bejjanki', 'Cherial', 'Chinnakodur', 'Dhoolumitta',\n",
       "       'Dubbak', 'Gajwel', 'Husnabad', 'Jagdevpur', 'Koheda', 'Kondapak',\n",
       "       'Markook', 'Mirdoddi', 'Nangnoor', 'Narayanraopet', 'Raipole',\n",
       "       'Siddipet_Rural', 'Siddipet_Urban', 'Thoguta', 'Wargal',\n",
       "       'Ananthagiri', 'Atmakur_S', 'Chilkur', 'Chinthala palem',\n",
       "       'Chivvemla', 'Garidepalli', 'Huzur nagar', 'Jajireddigudem',\n",
       "       'Kodad', 'Maddirala', 'Mattampalli', 'Mellachervu', 'Mothey',\n",
       "       'Munagala', 'Nadigudem', 'Nagaram', 'Nereducherla', 'Penpahad',\n",
       "       'Suryapet', 'Tirumalagiri', 'Bantwaram', 'Basheerabad',\n",
       "       'Bommaraspeta', 'Doulthabad', 'Kodangal', 'Kotepally', 'Marpalle',\n",
       "       'Mominpet', 'Pargi', 'Peddemul', 'Pudur', 'Vikarabad', 'Yelal',\n",
       "       'Amarchintha', 'Atmakur', 'Chinnambavi', 'Ghanpur', 'Kothakota',\n",
       "       'Madanapur', 'Pebbair', 'Peddamandaddi', 'Srirangapur',\n",
       "       'Wanaparthy', 'Weepangandla', 'Chennaraopet', 'Damera', 'Duggondi',\n",
       "       'Geesugonda', 'Nadikuda', 'Nallabelli', 'Narsampet', 'Nekkonda',\n",
       "       'Parkal', 'Parvathagiri', 'Raiparthy', 'Sangem', 'Shayampet',\n",
       "       'Wardhannapet', 'Dharmasagar', 'Elkathurthi', 'Hasanparthy',\n",
       "       'Inavolu', 'Kamalapur', 'Khaazipet', 'Khila Warangal', 'Velair',\n",
       "       'Warangal', 'Addagudur', 'Alair', 'Athmakur (M)', 'B.Pochampally',\n",
       "       'Bhongiri', 'Bibinagar', 'Choutuppal', 'Motakondur', 'Mothkur',\n",
       "       'Narayanapoor', 'Rajapeta', 'Ramannapet', 'Turkapalle_M',\n",
       "       'Valigonda', 'Yadagirigutta'], dtype=object)"
      ]
     },
     "execution_count": 35,
     "metadata": {},
     "output_type": "execute_result"
    }
   ],
   "source": [
    "fires_per_mandal_count['Mandal_Nam'].unique()"
   ]
  },
  {
   "cell_type": "code",
   "execution_count": 36,
   "metadata": {},
   "outputs": [],
   "source": [
    "#Try out on one mandal \n",
    "example_man = fires_per_mandal_count[fires_per_mandal_count['Mandal_Nam'] == 'Narmetta']"
   ]
  },
  {
   "cell_type": "code",
   "execution_count": 37,
   "metadata": {},
   "outputs": [],
   "source": [
    "series = example_man[['ModifiedDateTime', 'frp per squared km']]\n",
    "series.set_index('ModifiedDateTime', inplace=True)"
   ]
  },
  {
   "cell_type": "code",
   "execution_count": 38,
   "metadata": {},
   "outputs": [],
   "source": [
    "result = seasonal_decompose(series, model='additive', period = 5)\n",
    "#print(result.trend)\n",
    "#print(result.seasonal)\n",
    "#print(result.resid)\n",
    "#print(result.observed)"
   ]
  },
  {
   "cell_type": "code",
   "execution_count": 39,
   "metadata": {},
   "outputs": [
    {
     "data": {
      "image/png": "[encoded data removed]",
      "text/plain": [
       "<Figure size 640x480 with 4 Axes>"
      ]
     },
     "metadata": {},
     "output_type": "display_data"
    }
   ],
   "source": [
    "result.plot()\n",
    "plt.show()"
   ]
  },
  {
   "cell_type": "code",
   "execution_count": 27,
   "metadata": {},
   "outputs": [],
   "source": [
    "df = pd.DataFrame({})\n",
    "df.index = result.trend.index"
   ]
  },
  {
   "cell_type": "code",
   "execution_count": 28,
   "metadata": {},
   "outputs": [
    {
     "name": "stderr",
     "output_type": "stream",
     "text": [
      "<ipython-input-28-92702690ec70>:7: PerformanceWarning: DataFrame is highly fragmented.  This is usually the result of calling `frame.insert` many times, which has poor performance.  Consider joining all columns at once using pd.concat(axis=1) instead.  To get a de-fragmented frame, use `newframe = frame.copy()`\n",
      "  df[i] = result.trend.to_list()\n"
     ]
    }
   ],
   "source": [
    "for i in fires_per_mandal_count['Mandal_Nam'].unique():\n",
    "    example_man = fires_per_mandal_count[fires_per_mandal_count['Mandal_Nam'] == i]\n",
    "    if len(example_man) == len(df.index):\n",
    "        series = example_man[['ModifiedDateTime', 'frp per squared km']]\n",
    "        series.set_index('ModifiedDateTime', inplace=True)\n",
    "        result = seasonal_decompose(series, model='additive', period = 5)\n",
    "        df[i] = result.trend.to_list()"
   ]
  },
  {
   "cell_type": "code",
   "execution_count": 29,
   "metadata": {},
   "outputs": [],
   "source": [
    "df = df.reset_index()"
   ]
  },
  {
   "cell_type": "code",
   "execution_count": 30,
   "metadata": {},
   "outputs": [],
   "source": [
    "df['ModifiedDateTime'] = df['ModifiedDateTime'].astype('str')\n",
    "df = df.set_index('ModifiedDateTime')"
   ]
  },
  {
   "cell_type": "code",
   "execution_count": 31,
   "metadata": {},
   "outputs": [],
   "source": [
    "trend_df = df.transpose().reset_index()"
   ]
  },
  {
   "cell_type": "code",
   "execution_count": 32,
   "metadata": {},
   "outputs": [
    {
     "name": "stderr",
     "output_type": "stream",
     "text": [
      "c:\\Users\\Jesse\\Anaconda3\\envs\\gurobi\\lib\\site-packages\\pandas\\core\\indexing.py:1732: SettingWithCopyWarning: \n",
      "A value is trying to be set on a copy of a slice from a DataFrame\n",
      "\n",
      "See the caveats in the documentation: https://pandas.pydata.org/pandas-docs/stable/user_guide/indexing.html#returning-a-view-versus-a-copy\n",
      "  self._setitem_single_block(indexer, value, name)\n"
     ]
    }
   ],
   "source": [
    "trend_df['geometry'] = 0\n",
    "for i in range(0, len(trend_df)):\n",
    "    trend_df['geometry'].iloc[i] = mandal_boundaries[mandal_boundaries['Mandal_Nam'] == trend_df['index'].iloc[i]]['geometry'].iloc[0]"
   ]
  },
  {
   "cell_type": "code",
   "execution_count": 33,
   "metadata": {},
   "outputs": [
    {
     "name": "stderr",
     "output_type": "stream",
     "text": [
      "c:\\Users\\Jesse\\Anaconda3\\envs\\gurobi\\lib\\site-packages\\pyproj\\crs\\crs.py:53: FutureWarning: '+init=<authority>:<code>' syntax is deprecated. '<authority>:<code>' is the preferred initialization method. When making the change, be mindful of axis order changes: https://pyproj4.github.io/pyproj/stable/gotchas.html#axis-order-changes-in-proj-6\n",
      "  return _prepare_from_string(\" \".join(pjargs))\n"
     ]
    }
   ],
   "source": [
    "trend_df = gpd.GeoDataFrame(trend_df, geometry = trend_df.geometry, crs = {'init': 'epsg:4326'}) "
   ]
  },
  {
   "cell_type": "code",
   "execution_count": 34,
   "metadata": {},
   "outputs": [],
   "source": [
    "trend_df.to_file('C:\\\\Users\\\\Jesse\\\\OneDrive\\\\Documenten\\\\Master BAOR\\\\Thesis\\\\GitHub\\\\dicra\\\\analytics\\\\notebooks\\\\crop_fires\\\\trend FRP over time.geojson', driver=\"GeoJSON\")  "
   ]
  }
 ],
 "metadata": {
  "interpreter": {
   "hash": "8137cca2c96495771a6332c43a92746d2e8f2f032dec7e1d4873522724197fcb"
  },
  "kernelspec": {
   "display_name": "Python 3.8.11 ('gurobi')",
   "language": "python",
   "name": "python3"
  },
  "language_info": {
   "codemirror_mode": {
    "name": "ipython",
    "version": 3
   },
   "file_extension": ".py",
   "mimetype": "text/x-python",
   "name": "python",
   "nbconvert_exporter": "python",
   "pygments_lexer": "ipython3",
   "version": "3.8.11"
  },
  "orig_nbformat": 4
 },
 "nbformat": 4,
 "nbformat_minor": 2
}
