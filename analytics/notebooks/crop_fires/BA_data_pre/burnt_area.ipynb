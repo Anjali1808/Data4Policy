{
 "cells": [
  {
   "cell_type": "code",
   "execution_count": 1,
   "metadata": {},
   "outputs": [],
   "source": [
    "# Import packages\n",
    "import os\n",
    "import geopandas as gpd\n",
    "import numpy as np\n",
    "from osgeo import gdal\n",
    "import rasterio\n",
    "import rasterio.mask\n",
    "import netCDF4 as nc"
   ]
  },
  {
   "cell_type": "code",
   "execution_count": 2,
   "metadata": {},
   "outputs": [
    {
     "name": "stderr",
     "output_type": "stream",
     "text": [
      "C:\\Users\\Jesse\\AppData\\Local\\Temp\\ipykernel_12008\\1639596723.py:3: FutureWarning: Currently, index_parts defaults to True, but in the future, it will default to False to be consistent with Pandas. Use `index_parts=True` to keep the current behavior and True/False to silence the warning.\n",
      "  shape_telangana = shape_telangana.explode()\n"
     ]
    }
   ],
   "source": [
    "os.chdir('c:\\\\Users\\\\Jesse\\\\OneDrive\\\\Documenten\\\\Master BAOR\\\\Thesis\\\\GitHub\\\\dicra\\\\analytics\\\\geospatial_internship\\\\datasets')\n",
    "shape_telangana = gpd.read_file('telangana_shapefile.geojson')\n",
    "shape_telangana = shape_telangana.explode()"
   ]
  },
  {
   "cell_type": "code",
   "execution_count": 6,
   "metadata": {},
   "outputs": [],
   "source": [
    "path = 'c:\\\\Users\\\\Jesse\\\\OneDrive\\\\Documenten\\\\Master BAOR\\\\Thesis\\\\GitHub\\\\dicra\\\\analytics\\\\notebooks\\\\crop_fires\\\\BA_data_pre\\\\c_gls_BA300_202205310000_GLOBE_S3_V1.2.1.nc'"
   ]
  },
  {
   "cell_type": "code",
   "execution_count": 7,
   "metadata": {},
   "outputs": [
    {
     "data": {
      "text/plain": [
       "<class 'netCDF4._netCDF4.Dataset'>\n",
       "root group (NETCDF4 data model, file format HDF5):\n",
       "    Conventions: CF-1.6\n",
       "    processing_level: L3\n",
       "    identifier: urn:cgls:global:ba300_v1_333m:BA300_202205310000_GLOBE_S3_V1.2.1\n",
       "    institution: VITO NV\n",
       "    time_coverage_end: 2022-05-31T23:59:59Z\n",
       "    source: Derived from EO satellite imagery\n",
       "    processing_mode: Near Real Time\n",
       "    copyright: Copernicus Service information 2022\n",
       "    references: https://land.copernicus.eu/global/products/ba\n",
       "    sensor: OLCI,SLSTR\n",
       "    long_name: Burnt Area\n",
       "    product_version: V1.2.1\n",
       "    orbit_type: LEO\n",
       "    time_coverage_start: 2022-05-21T00:00:00Z\n",
       "    platform: Sentinel-3\n",
       "    title: 10-daily Burnt Area 333M: GLOBE 2022-05-31T00:00:00Z\n",
       "    archive_facility: VITO\n",
       "    parent_identifier: urn:cgls:global:ba300_v1_333m\n",
       "    history: 2022-06-03: Processing line BA\n",
       "    dimensions(sizes): lon(120960), lat(47040), time(1)\n",
       "    variables(dimensions): uint8 BA_DEKAD(time, lat, lon), uint16 FDOB_DEKAD(time, lat, lon), uint16 FDOB_SEASON(time, lat, lon), uint8 NOBS(time, lat, lon), |S1 crs(), float64 lat(lat), float64 lon(lon), float64 time(time)\n",
       "    groups: "
      ]
     },
     "execution_count": 7,
     "metadata": {},
     "output_type": "execute_result"
    }
   ],
   "source": [
    "nc_metadata = nc.Dataset(path)\n",
    "nc_metadata"
   ]
  },
  {
   "cell_type": "code",
   "execution_count": 11,
   "metadata": {},
   "outputs": [],
   "source": [
    "# Import the netCDF data for Leaf Area Index\n",
    "nc_file = gdal.Open('NETCDF:c:\\\\Users\\\\Jesse\\\\OneDrive\\\\Documenten\\\\Master BAOR\\\\Thesis\\\\GitHub\\\\dicra\\\\analytics\\\\notebooks\\\\crop_fires\\\\BA_data_pre\\\\c_gls_BA300_202205310000_GLOBE_S3_V1.2.1.nc:NOBS')\n",
    "# Convert the netCDF to Geotiff file\n",
    "tif_file = gdal.Translate('c:\\\\Users\\\\Jesse\\\\OneDrive\\\\Documenten\\\\Master BAOR\\\\Thesis\\\\GitHub\\\\dicra\\\\analytics\\\\notebooks\\\\crop_fires\\\\BA_data_pre\\\\ba_tiff.tif', nc_file)"
   ]
  },
  {
   "cell_type": "code",
   "execution_count": 13,
   "metadata": {},
   "outputs": [],
   "source": [
    "# In the next two code blocks, we crop the Geotiff file to Burnt Area in Telangana\n",
    "ba_data = \"c:\\\\Users\\\\Jesse\\\\OneDrive\\\\Documenten\\\\Master BAOR\\\\Thesis\\\\GitHub\\\\dicra\\\\analytics\\\\notebooks\\\\crop_fires\\\\BA_data_pre\\\\ba_tiff.tif\"\n",
    "with rasterio.open(ba_data) as src:\n",
    "    out_image, out_transform = rasterio.mask.mask(src, shape_telangana.geometry, crop=True)\n",
    "    out_meta = src.meta"
   ]
  },
  {
   "cell_type": "code",
   "execution_count": 14,
   "metadata": {},
   "outputs": [],
   "source": [
    "out_meta.update({\"driver\": \"GTiff\",\n",
    "                 \"height\": out_image.shape[1],\n",
    "                 \"width\": out_image.shape[2],\n",
    "                 \"transform\": out_transform})\n",
    "\n",
    "# Save the Geotiff file to Burnt Area in Telangana\n",
    "with rasterio.open(\"c:\\\\Users\\\\Jesse\\\\OneDrive\\\\Documenten\\\\Master BAOR\\\\Thesis\\\\GitHub\\\\dicra\\\\analytics\\\\notebooks\\\\crop_fires\\\\BA_data_pre\\\\ba_cropped_tiff.tif\", \"w\", **out_meta) as dest:\n",
    "    dest.write(out_image)\n",
    "    "
   ]
  },
  {
   "cell_type": "code",
   "execution_count": 13,
   "metadata": {},
   "outputs": [],
   "source": [
    "# For each of the BA images, we crop the Geotiff file to BA in Telangana\n",
    "folder_names = os.listdir('c:\\\\Users\\\\Jesse\\\\OneDrive\\\\Documenten\\\\Master BAOR\\\\Thesis\\\\GitHub\\\\dicra\\\\analytics\\\\notebooks\\\\crop_fires\\\\BA_data_pre\\\\Input')\n",
    "for i in folder_names:\n",
    "    file_names = os.listdir('c:\\\\Users\\\\Jesse\\\\OneDrive\\\\Documenten\\\\Master BAOR\\\\Thesis\\\\GitHub\\\\dicra\\\\analytics\\\\notebooks\\\\crop_fires\\\\BA_data_pre\\\\Input\\\\' + i)\n",
    "    for j in file_names:\n",
    "        BA_data = \"c:\\\\Users\\\\Jesse\\\\OneDrive\\\\Documenten\\\\Master BAOR\\\\Thesis\\\\GitHub\\\\dicra\\\\analytics\\\\notebooks\\\\crop_fires\\\\BA_data_pre\\\\Input\\\\\" + i + \"/\" + j\n",
    "        with rasterio.open(BA_data) as src:\n",
    "            out_image, out_transform = rasterio.mask.mask(src, shape_telangana.geometry, crop=True)\n",
    "            out_meta = src.meta\n",
    "\n",
    "        out_meta.update({\"driver\": \"GTiff\",\n",
    "                        \"height\": out_image.shape[1],\n",
    "                        \"width\": out_image.shape[2],\n",
    "                        \"transform\": out_transform})\n",
    "\n",
    "        # photometric = 'YCbCr'\n",
    "        # photometric = 'RGB', compress = 'JPEG'\n",
    "        # Save the Geotiff file to BA in Telangana\n",
    "        with rasterio.open(\"c:\\\\Users\\\\Jesse\\\\OneDrive\\\\Documenten\\\\Master BAOR\\\\Thesis\\\\GitHub\\\\dicra\\\\analytics\\\\notebooks\\\\crop_fires\\\\BA_data_pre\\\\Output\\\\\" + j, \"w\", **out_meta) as dest:\n",
    "            dest.write(out_image)"
   ]
  },
  {
   "cell_type": "code",
   "execution_count": null,
   "metadata": {},
   "outputs": [],
   "source": [
    "#for %N in (C:/Users/Jesse/OneDrive/Documenten/Output/*.tiff) DO gdal_translate C:/Users/Jesse/OneDrive/Documenten/Output/%~nN.tiff  C:/Users/Jesse/OneDrive/Documenten/COG/%~nN.tiff -co COMPRESS=LZW -co TILED=YES"
   ]
  }
 ],
 "metadata": {
  "interpreter": {
   "hash": "85fe551ca6ec3e966e44737ee4e92b01787f73c66dac3a7d2763a3ed3ad1eb1c"
  },
  "kernelspec": {
   "display_name": "Python 3.9.12 ('test')",
   "language": "python",
   "name": "python3"
  },
  "language_info": {
   "codemirror_mode": {
    "name": "ipython",
    "version": 3
   },
   "file_extension": ".py",
   "mimetype": "text/x-python",
   "name": "python",
   "nbconvert_exporter": "python",
   "pygments_lexer": "ipython3",
   "version": "3.9.12"
  },
  "orig_nbformat": 4
 },
 "nbformat": 4,
 "nbformat_minor": 2
}
