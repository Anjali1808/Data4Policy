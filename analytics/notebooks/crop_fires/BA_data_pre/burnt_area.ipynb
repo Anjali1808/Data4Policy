{
 "cells": [
  {
   "cell_type": "code",
   "execution_count": 2,
   "metadata": {},
   "outputs": [],
   "source": [
    "# Import packages\n",
    "import os\n",
    "import geopandas as gpd\n",
    "import numpy as np\n",
    "from osgeo import gdal\n",
    "import rasterio\n",
    "import rasterio.mask\n",
    "#import netCDF4 as nc"
   ]
  },
  {
   "cell_type": "code",
   "execution_count": 6,
   "metadata": {},
   "outputs": [
    {
     "name": "stderr",
     "output_type": "stream",
     "text": [
      "C:\\Users\\Jesse\\AppData\\Local\\Temp\\ipykernel_1608\\1639596723.py:3: FutureWarning: Currently, index_parts defaults to True, but in the future, it will default to False to be consistent with Pandas. Use `index_parts=True` to keep the current behavior and True/False to silence the warning.\n",
      "  shape_telangana = shape_telangana.explode()\n"
     ]
    }
   ],
   "source": [
    "os.chdir('c:\\\\Users\\\\Jesse\\\\OneDrive\\\\Documenten\\\\Master BAOR\\\\Thesis\\\\GitHub\\\\dicra\\\\analytics\\\\geospatial_internship\\\\datasets')\n",
    "shape_telangana = gpd.read_file('telangana_shapefile.geojson')\n",
    "shape_telangana = shape_telangana.explode()"
   ]
  },
  {
   "cell_type": "code",
   "execution_count": 8,
   "metadata": {},
   "outputs": [],
   "source": [
    "path = 'c:\\\\Users\\\\Jesse\\\\OneDrive\\\\Documenten\\\\Master BAOR\\\\Thesis\\\\GitHub\\\\dicra\\\\analytics\\\\notebooks\\\\crop_fires\\\\BA_data_pre\\\\c_gls_BA300_202205310000_GLOBE_S3_V1.2.1.nc'\n",
    "#path2 = 'c:\\\\Users\\\\Jesse\\\\OneDrive\\\\Documenten\\\\Master BAOR\\\\Thesis\\\\GitHub\\\\dicra\\\\analytics\\\\notebooks\\\\crop_fires\\\\test.tiff'"
   ]
  },
  {
   "cell_type": "code",
   "execution_count": 10,
   "metadata": {},
   "outputs": [
    {
     "data": {
      "text/plain": [
       "<class 'netCDF4._netCDF4.Variable'>\n",
       "uint8 NOBS(time, lat, lon)\n",
       "    _FillValue: 255\n",
       "    standard_name: burned_area_fraction number_of_observations\n",
       "    grid_mapping: crs\n",
       "    units: \n",
       "    valid_range: [ 0 44]\n",
       "    flag_values: [254 255]\n",
       "    flag_meanings: Water Missing\n",
       "    missing_value: 255\n",
       "unlimited dimensions: time\n",
       "current shape = (1, 47040, 120960)\n",
       "filling on"
      ]
     },
     "execution_count": 10,
     "metadata": {},
     "output_type": "execute_result"
    }
   ],
   "source": [
    "# Print some metadata related to the Leaf Area Index\n",
    "#nc_metadata = nc.Dataset(path)\n",
    "#nc_metadata['NOBS']"
   ]
  },
  {
   "cell_type": "code",
   "execution_count": 11,
   "metadata": {},
   "outputs": [],
   "source": [
    "# Import the netCDF data for Leaf Area Index\n",
    "nc_file = gdal.Open('NETCDF:c:\\\\Users\\\\Jesse\\\\OneDrive\\\\Documenten\\\\Master BAOR\\\\Thesis\\\\GitHub\\\\dicra\\\\analytics\\\\notebooks\\\\crop_fires\\\\BA_data_pre\\\\c_gls_BA300_202205310000_GLOBE_S3_V1.2.1.nc:NOBS')\n",
    "# Convert the netCDF to Geotiff file\n",
    "tif_file = gdal.Translate('c:\\\\Users\\\\Jesse\\\\OneDrive\\\\Documenten\\\\Master BAOR\\\\Thesis\\\\GitHub\\\\dicra\\\\analytics\\\\notebooks\\\\crop_fires\\\\BA_data_pre\\\\ba_tiff.tif', nc_file)"
   ]
  },
  {
   "cell_type": "code",
   "execution_count": 13,
   "metadata": {},
   "outputs": [],
   "source": [
    "# In the next two code blocks, we crop the Geotiff file to Leaf Area Index in Telangana\n",
    "ba_data = \"c:\\\\Users\\\\Jesse\\\\OneDrive\\\\Documenten\\\\Master BAOR\\\\Thesis\\\\GitHub\\\\dicra\\\\analytics\\\\notebooks\\\\crop_fires\\\\BA_data_pre\\\\ba_tiff.tif\"\n",
    "with rasterio.open(ba_data) as src:\n",
    "    out_image, out_transform = rasterio.mask.mask(src, shape_telangana.geometry, crop=True)\n",
    "    out_meta = src.meta"
   ]
  },
  {
   "cell_type": "code",
   "execution_count": 14,
   "metadata": {},
   "outputs": [],
   "source": [
    "out_meta.update({\"driver\": \"GTiff\",\n",
    "                 \"height\": out_image.shape[1],\n",
    "                 \"width\": out_image.shape[2],\n",
    "                 \"transform\": out_transform})\n",
    "\n",
    "# Save the Geotiff file to Leaf Area Index in Telangana\n",
    "with rasterio.open(\"c:\\\\Users\\\\Jesse\\\\OneDrive\\\\Documenten\\\\Master BAOR\\\\Thesis\\\\GitHub\\\\dicra\\\\analytics\\\\notebooks\\\\crop_fires\\\\BA_data_pre\\\\ba_cropped_tiff.tif\", \"w\", **out_meta) as dest:\n",
    "    dest.write(out_image)\n",
    "    "
   ]
  }
 ],
 "metadata": {
  "interpreter": {
   "hash": "85fe551ca6ec3e966e44737ee4e92b01787f73c66dac3a7d2763a3ed3ad1eb1c"
  },
  "kernelspec": {
   "display_name": "Python 3.9.12 ('test')",
   "language": "python",
   "name": "python3"
  },
  "language_info": {
   "codemirror_mode": {
    "name": "ipython",
    "version": 3
   },
   "file_extension": ".py",
   "mimetype": "text/x-python",
   "name": "python",
   "nbconvert_exporter": "python",
   "pygments_lexer": "ipython3",
   "version": "3.9.12"
  },
  "orig_nbformat": 4
 },
 "nbformat": 4,
 "nbformat_minor": 2
}
