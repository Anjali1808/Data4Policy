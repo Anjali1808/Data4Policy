{
 "cells": [
  {
   "cell_type": "code",
   "execution_count": 1,
   "metadata": {},
   "outputs": [],
   "source": [
    "# Import packages\n",
    "import os\n",
    "import geopandas as gpd\n",
    "import numpy as np\n",
    "from osgeo import gdal\n",
    "import rasterio\n",
    "import rasterio.mask\n",
    "import netCDF4 as nc"
   ]
  },
  {
   "cell_type": "code",
   "execution_count": 2,
   "metadata": {},
   "outputs": [
    {
     "name": "stderr",
     "output_type": "stream",
     "text": [
      "C:\\Users\\Jesse\\AppData\\Local\\Temp\\ipykernel_14040\\1639596723.py:3: FutureWarning: Currently, index_parts defaults to True, but in the future, it will default to False to be consistent with Pandas. Use `index_parts=True` to keep the current behavior and True/False to silence the warning.\n",
      "  shape_telangana = shape_telangana.explode()\n"
     ]
    }
   ],
   "source": [
    "os.chdir('c:\\\\Users\\\\Jesse\\\\OneDrive\\\\Documenten\\\\Master BAOR\\\\Thesis\\\\GitHub\\\\dicra\\\\analytics\\\\geospatial_internship\\\\datasets')\n",
    "shape_telangana = gpd.read_file('telangana_shapefile.geojson')\n",
    "shape_telangana = shape_telangana.explode()"
   ]
  },
  {
   "cell_type": "code",
   "execution_count": null,
   "metadata": {},
   "outputs": [],
   "source": [
    "folder_names = os.listdir('C:\\\\Users\\\\Jesse\\\\OneDrive\\\\Documenten\\\\PM2.5\\\\')\n",
    "for i in folder_names:\n",
    "    file_names = os.listdir('C:\\\\Users\\\\Jesse\\\\OneDrive\\\\Documenten\\\\PM2.5\\\\' + i)\n",
    "    for j in file_names:\n",
    "        nc_data = \"C:\\\\Users\\\\Jesse\\\\OneDrive\\\\Documenten\\\\PM2.5\\\\\" + i + \"\\\\\" + j\n",
    "        nc_file = gdal.Open('NETCDF:'+ nc_data + ':GWRPM25')\n",
    "        # Convert the netCDF to Geotiff file\n",
    "        tiff_file = gdal.Translate('C:\\\\Users\\\\Jesse\\\\OneDrive\\\\Documenten\\\\Tiff\\\\'+ j + '.tif', nc_file)"
   ]
  },
  {
   "cell_type": "code",
   "execution_count": 3,
   "metadata": {},
   "outputs": [],
   "source": [
    "path = 'C:\\\\Users\\\\Jesse\\\\OneDrive\\\\Documenten\\\\PM2.5\\\\2015\\\\V5GL02.HybridPM25.Asia.201501-201501.nc'"
   ]
  },
  {
   "cell_type": "code",
   "execution_count": 5,
   "metadata": {},
   "outputs": [
    {
     "data": {
      "text/plain": [
       "<class 'netCDF4._netCDF4.Variable'>\n",
       "float32 GWRPM25(lat, lon)\n",
       "    long_name: Hybrid PM_2_._5 [\\mug/m^3]\n",
       "    units: [\\mug/m^3]\n",
       "unlimited dimensions: \n",
       "current shape = (5500, 8000)\n",
       "filling on, default _FillValue of 9.969209968386869e+36 used"
      ]
     },
     "execution_count": 5,
     "metadata": {},
     "output_type": "execute_result"
    }
   ],
   "source": [
    "nc_metadata = nc.Dataset(path)\n",
    "nc_metadata['GWRPM25']"
   ]
  },
  {
   "cell_type": "code",
   "execution_count": 11,
   "metadata": {},
   "outputs": [],
   "source": [
    "# Import the netCDF data for Leaf Area Index\n",
    "nc_file = gdal.Open('NETCDF:c:\\\\Users\\\\Jesse\\\\OneDrive\\\\Documenten\\\\Master BAOR\\\\Thesis\\\\GitHub\\\\dicra\\\\analytics\\\\notebooks\\\\crop_fires\\\\BA_data_pre\\\\c_gls_BA300_202205310000_GLOBE_S3_V1.2.1.nc:NOBS')\n",
    "# Convert the netCDF to Geotiff file\n",
    "tif_file = gdal.Translate('c:\\\\Users\\\\Jesse\\\\OneDrive\\\\Documenten\\\\Master BAOR\\\\Thesis\\\\GitHub\\\\dicra\\\\analytics\\\\notebooks\\\\crop_fires\\\\BA_data_pre\\\\ba_tiff.tif', nc_file)"
   ]
  },
  {
   "cell_type": "code",
   "execution_count": 13,
   "metadata": {},
   "outputs": [],
   "source": [
    "# In the next two code blocks, we crop the Geotiff file to Burnt Area in Telangana\n",
    "ba_data = \"c:\\\\Users\\\\Jesse\\\\OneDrive\\\\Documenten\\\\Master BAOR\\\\Thesis\\\\GitHub\\\\dicra\\\\analytics\\\\notebooks\\\\crop_fires\\\\BA_data_pre\\\\ba_tiff.tif\"\n",
    "with rasterio.open(ba_data) as src:\n",
    "    out_image, out_transform = rasterio.mask.mask(src, shape_telangana.geometry, crop=True)\n",
    "    out_meta = src.meta"
   ]
  },
  {
   "cell_type": "code",
   "execution_count": 14,
   "metadata": {},
   "outputs": [],
   "source": [
    "out_meta.update({\"driver\": \"GTiff\",\n",
    "                 \"height\": out_image.shape[1],\n",
    "                 \"width\": out_image.shape[2],\n",
    "                 \"transform\": out_transform})\n",
    "\n",
    "# Save the Geotiff file to Burnt Area in Telangana\n",
    "with rasterio.open(\"c:\\\\Users\\\\Jesse\\\\OneDrive\\\\Documenten\\\\Master BAOR\\\\Thesis\\\\GitHub\\\\dicra\\\\analytics\\\\notebooks\\\\crop_fires\\\\BA_data_pre\\\\ba_cropped_tiff.tif\", \"w\", **out_meta) as dest:\n",
    "    dest.write(out_image)\n",
    "    "
   ]
  },
  {
   "cell_type": "code",
   "execution_count": 3,
   "metadata": {},
   "outputs": [],
   "source": [
    "# For each of the BA images, we crop the Geotiff file to BA in Telangana\n",
    "folder_names = os.listdir('c:\\\\Users\\\\Jesse\\\\OneDrive\\\\Documenten\\\\Master BAOR\\\\Thesis\\\\GitHub\\\\dicra\\\\analytics\\\\notebooks\\\\crop_fires\\\\BA_data_pre\\\\Input')\n",
    "for i in folder_names:\n",
    "    file_names = os.listdir('c:\\\\Users\\\\Jesse\\\\OneDrive\\\\Documenten\\\\Master BAOR\\\\Thesis\\\\GitHub\\\\dicra\\\\analytics\\\\notebooks\\\\crop_fires\\\\BA_data_pre\\\\Input\\\\' + i)\n",
    "    for j in file_names:\n",
    "        BA_data = \"c:\\\\Users\\\\Jesse\\\\OneDrive\\\\Documenten\\\\Master BAOR\\\\Thesis\\\\GitHub\\\\dicra\\\\analytics\\\\notebooks\\\\crop_fires\\\\BA_data_pre\\\\Input\\\\\" + i + \"/\" + j\n",
    "        with rasterio.open(BA_data) as src:\n",
    "            out_image, out_transform = rasterio.mask.mask(src, shape_telangana.geometry, crop=True)\n",
    "            out_meta = src.meta\n",
    "\n",
    "        out_meta.update({\"driver\": \"GTiff\",\n",
    "                        \"height\": out_image.shape[1],\n",
    "                        \"width\": out_image.shape[2],\n",
    "                        \"transform\": out_transform})\n",
    "\n",
    "        # photometric = 'YCbCr'\n",
    "        # photometric = 'RGB', compress = 'JPEG'\n",
    "        # Save the Geotiff file to BA in Telangana\n",
    "        with rasterio.open(\"c:\\\\Users\\\\Jesse\\\\OneDrive\\\\Documenten\\\\Master BAOR\\\\Thesis\\\\GitHub\\\\dicra\\\\analytics\\\\notebooks\\\\crop_fires\\\\BA_data_pre\\\\Output\\\\\" + j, \"w\", **out_meta) as dest:\n",
    "            dest.write(out_image)"
   ]
  },
  {
   "cell_type": "code",
   "execution_count": null,
   "metadata": {},
   "outputs": [],
   "source": [
    "#for %N in (C:/Users/Jesse/OneDrive/Documenten/Output/*.tiff) DO gdal_translate C:/Users/Jesse/OneDrive/Documenten/Output/%~nN.tiff  C:/Users/Jesse/OneDrive/Documenten/COG/%~nN.tiff -co COMPRESS=LZW -co TILED=YES"
   ]
  }
 ],
 "metadata": {
  "interpreter": {
   "hash": "85fe551ca6ec3e966e44737ee4e92b01787f73c66dac3a7d2763a3ed3ad1eb1c"
  },
  "kernelspec": {
   "display_name": "Python 3.9.12 ('test')",
   "language": "python",
   "name": "python3"
  },
  "language_info": {
   "codemirror_mode": {
    "name": "ipython",
    "version": 3
   },
   "file_extension": ".py",
   "mimetype": "text/x-python",
   "name": "python",
   "nbconvert_exporter": "python",
   "pygments_lexer": "ipython3",
   "version": "3.9.12"
  },
  "orig_nbformat": 4
 },
 "nbformat": 4,
 "nbformat_minor": 2
}
