{
 "cells": [
  {
   "cell_type": "code",
   "execution_count": 4,
   "metadata": {},
   "outputs": [],
   "source": [
    "# Import packages\n",
    "import os\n",
    "import geopandas as gpd\n",
    "import numpy as np\n",
    "import rasterio\n",
    "import rasterio.mask"
   ]
  },
  {
   "cell_type": "code",
   "execution_count": 5,
   "metadata": {},
   "outputs": [
    {
     "data": {
      "text/html": [
       "<div>\n",
       "<style scoped>\n",
       "    .dataframe tbody tr th:only-of-type {\n",
       "        vertical-align: middle;\n",
       "    }\n",
       "\n",
       "    .dataframe tbody tr th {\n",
       "        vertical-align: top;\n",
       "    }\n",
       "\n",
       "    .dataframe thead th {\n",
       "        text-align: right;\n",
       "    }\n",
       "</style>\n",
       "<table border=\"1\" class=\"dataframe\">\n",
       "  <thead>\n",
       "    <tr style=\"text-align: right;\">\n",
       "      <th></th>\n",
       "      <th>GID_0</th>\n",
       "      <th>NAME_0</th>\n",
       "      <th>GID_1</th>\n",
       "      <th>NAME_1</th>\n",
       "      <th>VARNAME_1</th>\n",
       "      <th>NL_NAME_1</th>\n",
       "      <th>TYPE_1</th>\n",
       "      <th>ENGTYPE_1</th>\n",
       "      <th>CC_1</th>\n",
       "      <th>HASC_1</th>\n",
       "      <th>geometry</th>\n",
       "    </tr>\n",
       "  </thead>\n",
       "  <tbody>\n",
       "    <tr>\n",
       "      <th>0</th>\n",
       "      <td>IND</td>\n",
       "      <td>India</td>\n",
       "      <td>IND.32_1</td>\n",
       "      <td>Telangana</td>\n",
       "      <td>None</td>\n",
       "      <td>None</td>\n",
       "      <td>State</td>\n",
       "      <td>State</td>\n",
       "      <td>None</td>\n",
       "      <td>IN.TG</td>\n",
       "      <td>MULTIPOLYGON (((79.21147 16.36281, 79.22324 16...</td>\n",
       "    </tr>\n",
       "  </tbody>\n",
       "</table>\n",
       "</div>"
      ],
      "text/plain": [
       "  GID_0 NAME_0     GID_1     NAME_1 VARNAME_1 NL_NAME_1 TYPE_1 ENGTYPE_1  \\\n",
       "0   IND  India  IND.32_1  Telangana      None      None  State     State   \n",
       "\n",
       "   CC_1 HASC_1                                           geometry  \n",
       "0  None  IN.TG  MULTIPOLYGON (((79.21147 16.36281, 79.22324 16...  "
      ]
     },
     "execution_count": 5,
     "metadata": {},
     "output_type": "execute_result"
    }
   ],
   "source": [
    "# Import this file to derive the polygon geometry for Telangana\n",
    "bound_Telangana = gpd.read_file('C:/Users/mieke/Documents/Msc Thesis/GitHub repositories/dicra/analytics/geospatial_internship/datasets/telangana_shapefile.geojson')\n",
    "bound_Telangana.head()"
   ]
  },
  {
   "cell_type": "code",
   "execution_count": 6,
   "metadata": {},
   "outputs": [
    {
     "name": "stderr",
     "output_type": "stream",
     "text": [
      "C:\\Users\\mieke\\AppData\\Local\\Temp\\ipykernel_22400\\3231266139.py:2: FutureWarning: Currently, index_parts defaults to True, but in the future, it will default to False to be consistent with Pandas. Use `index_parts=True` to keep the current behavior and True/False to silence the warning.\n",
      "  bound_Telangana = bound_Telangana.explode()\n"
     ]
    },
    {
     "data": {
      "text/html": [
       "<div>\n",
       "<style scoped>\n",
       "    .dataframe tbody tr th:only-of-type {\n",
       "        vertical-align: middle;\n",
       "    }\n",
       "\n",
       "    .dataframe tbody tr th {\n",
       "        vertical-align: top;\n",
       "    }\n",
       "\n",
       "    .dataframe thead th {\n",
       "        text-align: right;\n",
       "    }\n",
       "</style>\n",
       "<table border=\"1\" class=\"dataframe\">\n",
       "  <thead>\n",
       "    <tr style=\"text-align: right;\">\n",
       "      <th></th>\n",
       "      <th></th>\n",
       "      <th>GID_0</th>\n",
       "      <th>NAME_0</th>\n",
       "      <th>GID_1</th>\n",
       "      <th>NAME_1</th>\n",
       "      <th>VARNAME_1</th>\n",
       "      <th>NL_NAME_1</th>\n",
       "      <th>TYPE_1</th>\n",
       "      <th>ENGTYPE_1</th>\n",
       "      <th>CC_1</th>\n",
       "      <th>HASC_1</th>\n",
       "      <th>geometry</th>\n",
       "    </tr>\n",
       "  </thead>\n",
       "  <tbody>\n",
       "    <tr>\n",
       "      <th>0</th>\n",
       "      <th>0</th>\n",
       "      <td>IND</td>\n",
       "      <td>India</td>\n",
       "      <td>IND.32_1</td>\n",
       "      <td>Telangana</td>\n",
       "      <td>None</td>\n",
       "      <td>None</td>\n",
       "      <td>State</td>\n",
       "      <td>State</td>\n",
       "      <td>None</td>\n",
       "      <td>IN.TG</td>\n",
       "      <td>POLYGON ((79.21147 16.36281, 79.22324 16.35036...</td>\n",
       "    </tr>\n",
       "  </tbody>\n",
       "</table>\n",
       "</div>"
      ],
      "text/plain": [
       "    GID_0 NAME_0     GID_1     NAME_1 VARNAME_1 NL_NAME_1 TYPE_1 ENGTYPE_1  \\\n",
       "0 0   IND  India  IND.32_1  Telangana      None      None  State     State   \n",
       "\n",
       "     CC_1 HASC_1                                           geometry  \n",
       "0 0  None  IN.TG  POLYGON ((79.21147 16.36281, 79.22324 16.35036...  "
      ]
     },
     "execution_count": 6,
     "metadata": {},
     "output_type": "execute_result"
    }
   ],
   "source": [
    "# Create a Polygon geometry of Telangana\n",
    "bound_Telangana = bound_Telangana.explode()\n",
    "bound_Telangana.head()"
   ]
  },
  {
   "cell_type": "code",
   "execution_count": 12,
   "metadata": {},
   "outputs": [],
   "source": [
    "# For each of the LAI images, we crop the Geotiff file to Leaf Area Index in Telangana\n",
    "folder_names = os.listdir('C:/Users/mieke/Documents/Msc Thesis/Notebooks Python/LAI/Input/LAI images')\n",
    "for i in folder_names:\n",
    "    file_names = os.listdir('C:/Users/mieke/Documents/Msc Thesis/Notebooks Python/LAI/Input/LAI images/' + i)\n",
    "    for j in file_names:\n",
    "        LAI_data = \"C:/Users/mieke/Documents/Msc Thesis/Notebooks Python/LAI/Input/\" + i + \"/\" + j\n",
    "        with rasterio.open(LAI_data) as src:\n",
    "            out_image, out_transform = rasterio.mask.mask(src, bound_Telangana.geometry, crop=True)\n",
    "            out_meta = src.meta\n",
    "\n",
    "        out_meta.update({\"driver\": \"GTiff\",\n",
    "                        \"height\": out_image.shape[1],\n",
    "                        \"width\": out_image.shape[2],\n",
    "                        \"transform\": out_transform})\n",
    "\n",
    "        # photometric = 'YCbCr'\n",
    "        # photometric = 'RGB', compress = 'JPEG'\n",
    "        # Save the Geotiff file to Leaf Area Index in Telangana\n",
    "        with rasterio.open(\"C:/Users/mieke/Documents/Msc Thesis/Notebooks Python/LAI/Output/Telangana_\" + j, \"w\", **out_meta) as dest:\n",
    "            dest.write(out_image)"
   ]
  }
 ],
 "metadata": {
  "kernelspec": {
   "display_name": "Python 3.10.4 ('thesis_base')",
   "language": "python",
   "name": "python3"
  },
  "language_info": {
   "codemirror_mode": {
    "name": "ipython",
    "version": 3
   },
   "file_extension": ".py",
   "mimetype": "text/x-python",
   "name": "python",
   "nbconvert_exporter": "python",
   "pygments_lexer": "ipython3",
   "version": "3.10.4"
  },
  "orig_nbformat": 4,
  "vscode": {
   "interpreter": {
    "hash": "734205a0c94b5e97d2e885f269ea6bd400da4ba9a6c87b08a93b97fdaab1acc8"
   }
  }
 },
 "nbformat": 4,
 "nbformat_minor": 2
}
