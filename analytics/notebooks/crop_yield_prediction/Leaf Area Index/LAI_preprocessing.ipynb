{
 "cells": [
  {
   "cell_type": "code",
   "execution_count": 1,
   "metadata": {},
   "outputs": [],
   "source": [
    "# Import packages\n",
    "import os\n",
    "import geopandas as gpd\n",
    "import numpy as np\n",
    "from osgeo import gdal\n",
    "import rasterio\n",
    "import rasterio.mask\n",
    "import netCDF4 as nc"
   ]
  },
  {
   "cell_type": "code",
   "execution_count": 2,
   "metadata": {},
   "outputs": [
    {
     "data": {
      "text/html": [
       "<div>\n",
       "<style scoped>\n",
       "    .dataframe tbody tr th:only-of-type {\n",
       "        vertical-align: middle;\n",
       "    }\n",
       "\n",
       "    .dataframe tbody tr th {\n",
       "        vertical-align: top;\n",
       "    }\n",
       "\n",
       "    .dataframe thead th {\n",
       "        text-align: right;\n",
       "    }\n",
       "</style>\n",
       "<table border=\"1\" class=\"dataframe\">\n",
       "  <thead>\n",
       "    <tr style=\"text-align: right;\">\n",
       "      <th></th>\n",
       "      <th>GID_0</th>\n",
       "      <th>NAME_0</th>\n",
       "      <th>GID_1</th>\n",
       "      <th>NAME_1</th>\n",
       "      <th>VARNAME_1</th>\n",
       "      <th>NL_NAME_1</th>\n",
       "      <th>TYPE_1</th>\n",
       "      <th>ENGTYPE_1</th>\n",
       "      <th>CC_1</th>\n",
       "      <th>HASC_1</th>\n",
       "      <th>geometry</th>\n",
       "    </tr>\n",
       "  </thead>\n",
       "  <tbody>\n",
       "    <tr>\n",
       "      <th>0</th>\n",
       "      <td>IND</td>\n",
       "      <td>India</td>\n",
       "      <td>IND.32_1</td>\n",
       "      <td>Telangana</td>\n",
       "      <td>None</td>\n",
       "      <td>None</td>\n",
       "      <td>State</td>\n",
       "      <td>State</td>\n",
       "      <td>None</td>\n",
       "      <td>IN.TG</td>\n",
       "      <td>MULTIPOLYGON (((79.21147 16.36281, 79.22324 16...</td>\n",
       "    </tr>\n",
       "  </tbody>\n",
       "</table>\n",
       "</div>"
      ],
      "text/plain": [
       "  GID_0 NAME_0     GID_1     NAME_1 VARNAME_1 NL_NAME_1 TYPE_1 ENGTYPE_1  \\\n",
       "0   IND  India  IND.32_1  Telangana      None      None  State     State   \n",
       "\n",
       "   CC_1 HASC_1                                           geometry  \n",
       "0  None  IN.TG  MULTIPOLYGON (((79.21147 16.36281, 79.22324 16...  "
      ]
     },
     "execution_count": 2,
     "metadata": {},
     "output_type": "execute_result"
    }
   ],
   "source": [
    "# Import this file to derive the polygon geometry for Telangana\n",
    "bound_Telangana = gpd.read_file('C:/Users/mieke/Documents/Repositories GitHub/dicra/analytics/geospatial_internship/datasets/telangana_shapefile.geojson')\n",
    "bound_Telangana.head()"
   ]
  },
  {
   "cell_type": "code",
   "execution_count": 3,
   "metadata": {},
   "outputs": [
    {
     "name": "stderr",
     "output_type": "stream",
     "text": [
      "C:\\Users\\mieke\\AppData\\Local\\Temp\\ipykernel_21968\\3231266139.py:2: FutureWarning: Currently, index_parts defaults to True, but in the future, it will default to False to be consistent with Pandas. Use `index_parts=True` to keep the current behavior and True/False to silence the warning.\n",
      "  bound_Telangana = bound_Telangana.explode()\n"
     ]
    },
    {
     "data": {
      "text/html": [
       "<div>\n",
       "<style scoped>\n",
       "    .dataframe tbody tr th:only-of-type {\n",
       "        vertical-align: middle;\n",
       "    }\n",
       "\n",
       "    .dataframe tbody tr th {\n",
       "        vertical-align: top;\n",
       "    }\n",
       "\n",
       "    .dataframe thead th {\n",
       "        text-align: right;\n",
       "    }\n",
       "</style>\n",
       "<table border=\"1\" class=\"dataframe\">\n",
       "  <thead>\n",
       "    <tr style=\"text-align: right;\">\n",
       "      <th></th>\n",
       "      <th></th>\n",
       "      <th>GID_0</th>\n",
       "      <th>NAME_0</th>\n",
       "      <th>GID_1</th>\n",
       "      <th>NAME_1</th>\n",
       "      <th>VARNAME_1</th>\n",
       "      <th>NL_NAME_1</th>\n",
       "      <th>TYPE_1</th>\n",
       "      <th>ENGTYPE_1</th>\n",
       "      <th>CC_1</th>\n",
       "      <th>HASC_1</th>\n",
       "      <th>geometry</th>\n",
       "    </tr>\n",
       "  </thead>\n",
       "  <tbody>\n",
       "    <tr>\n",
       "      <th>0</th>\n",
       "      <th>0</th>\n",
       "      <td>IND</td>\n",
       "      <td>India</td>\n",
       "      <td>IND.32_1</td>\n",
       "      <td>Telangana</td>\n",
       "      <td>None</td>\n",
       "      <td>None</td>\n",
       "      <td>State</td>\n",
       "      <td>State</td>\n",
       "      <td>None</td>\n",
       "      <td>IN.TG</td>\n",
       "      <td>POLYGON ((79.21147 16.36281, 79.22324 16.35036...</td>\n",
       "    </tr>\n",
       "  </tbody>\n",
       "</table>\n",
       "</div>"
      ],
      "text/plain": [
       "    GID_0 NAME_0     GID_1     NAME_1 VARNAME_1 NL_NAME_1 TYPE_1 ENGTYPE_1  \\\n",
       "0 0   IND  India  IND.32_1  Telangana      None      None  State     State   \n",
       "\n",
       "     CC_1 HASC_1                                           geometry  \n",
       "0 0  None  IN.TG  POLYGON ((79.21147 16.36281, 79.22324 16.35036...  "
      ]
     },
     "execution_count": 3,
     "metadata": {},
     "output_type": "execute_result"
    }
   ],
   "source": [
    "# Create a Polygon geometry of Telangana\n",
    "bound_Telangana = bound_Telangana.explode()\n",
    "bound_Telangana.head()"
   ]
  },
  {
   "cell_type": "code",
   "execution_count": 4,
   "metadata": {},
   "outputs": [],
   "source": [
    "# Import the netCDF data for Leaf Area Index\n",
    "nc_file = gdal.Open('NETCDF:C:/Users/mieke/Downloads/c_gls_LAI300-RT0_202205310000_GLOBE_OLCI_V1.1.2.nc:LAI')\n",
    "# Convert the netCDF to Geotiff file\n",
    "tif_file = gdal.Translate('C:/Users/mieke/Downloads/nc_to_tiffile.tif', nc_file)"
   ]
  },
  {
   "cell_type": "code",
   "execution_count": 5,
   "metadata": {},
   "outputs": [
    {
     "data": {
      "text/plain": [
       "<class 'netCDF4._netCDF4.Variable'>\n",
       "uint8 LAI(time, lat, lon)\n",
       "    _FillValue: 255\n",
       "    standard_name: leaf_area_index\n",
       "    long_name: Leaf Area Index 333m\n",
       "    grid_mapping: crs\n",
       "    scale_factor: 0.0333333333\n",
       "    add_offset: 0.0\n",
       "    units: m^2/m^2\n",
       "    valid_range: [  0 210]\n",
       "    missing_value: 255\n",
       "unlimited dimensions: time\n",
       "current shape = (1, 47040, 120960)\n",
       "filling on"
      ]
     },
     "execution_count": 5,
     "metadata": {},
     "output_type": "execute_result"
    }
   ],
   "source": [
    "# Print some metadata related to the Leaf Area Index\n",
    "nc_metadata = nc.Dataset('C:/Users/mieke/Downloads/c_gls_LAI300-RT0_202205310000_GLOBE_OLCI_V1.1.2.nc')\n",
    "nc_metadata['LAI']"
   ]
  },
  {
   "cell_type": "code",
   "execution_count": 6,
   "metadata": {},
   "outputs": [],
   "source": [
    "# In the next two code blocks, we crop the Geotiff file to Leaf Area Index in Telangana\n",
    "LAI_data = \"C:/Users/mieke/Downloads/nc_to_tiffile.tif\"\n",
    "with rasterio.open(LAI_data) as src:\n",
    "    out_image, out_transform = rasterio.mask.mask(src, bound_Telangana.geometry, crop=True)\n",
    "    out_meta = src.meta"
   ]
  },
  {
   "cell_type": "code",
   "execution_count": 12,
   "metadata": {},
   "outputs": [
    {
     "ename": "CPLE_AppDefinedError",
     "evalue": "C:/Users/mieke/Downloads/Telangana_LAI.tif: MissingRequired:TIFF directory is missing required \"StripOffsets\" field",
     "output_type": "error",
     "traceback": [
      "\u001b[1;31m---------------------------------------------------------------------------\u001b[0m",
      "\u001b[1;31mCPLE_AppDefinedError\u001b[0m                      Traceback (most recent call last)",
      "\u001b[1;32mc:\\Users\\mieke\\Documents\\Repositories GitHub\\dicra\\analytics\\notebooks\\crop_yield_prediction\\Leaf Area Index\\LAI_preprocessing.ipynb Cell 7'\u001b[0m in \u001b[0;36m<cell line: 7>\u001b[1;34m()\u001b[0m\n\u001b[0;32m      <a href='vscode-notebook-cell:/c%3A/Users/mieke/Documents/Repositories%20GitHub/dicra/analytics/notebooks/crop_yield_prediction/Leaf%20Area%20Index/LAI_preprocessing.ipynb#ch0000006?line=0'>1</a>\u001b[0m out_meta\u001b[39m.\u001b[39mupdate({\u001b[39m\"\u001b[39m\u001b[39mdriver\u001b[39m\u001b[39m\"\u001b[39m: \u001b[39m\"\u001b[39m\u001b[39mGTiff\u001b[39m\u001b[39m\"\u001b[39m,\n\u001b[0;32m      <a href='vscode-notebook-cell:/c%3A/Users/mieke/Documents/Repositories%20GitHub/dicra/analytics/notebooks/crop_yield_prediction/Leaf%20Area%20Index/LAI_preprocessing.ipynb#ch0000006?line=1'>2</a>\u001b[0m                  \u001b[39m\"\u001b[39m\u001b[39mheight\u001b[39m\u001b[39m\"\u001b[39m: out_image\u001b[39m.\u001b[39mshape[\u001b[39m1\u001b[39m],\n\u001b[0;32m      <a href='vscode-notebook-cell:/c%3A/Users/mieke/Documents/Repositories%20GitHub/dicra/analytics/notebooks/crop_yield_prediction/Leaf%20Area%20Index/LAI_preprocessing.ipynb#ch0000006?line=2'>3</a>\u001b[0m                  \u001b[39m\"\u001b[39m\u001b[39mwidth\u001b[39m\u001b[39m\"\u001b[39m: out_image\u001b[39m.\u001b[39mshape[\u001b[39m2\u001b[39m],\n\u001b[0;32m      <a href='vscode-notebook-cell:/c%3A/Users/mieke/Documents/Repositories%20GitHub/dicra/analytics/notebooks/crop_yield_prediction/Leaf%20Area%20Index/LAI_preprocessing.ipynb#ch0000006?line=3'>4</a>\u001b[0m                  \u001b[39m\"\u001b[39m\u001b[39mtransform\u001b[39m\u001b[39m\"\u001b[39m: out_transform})\n\u001b[0;32m      <a href='vscode-notebook-cell:/c%3A/Users/mieke/Documents/Repositories%20GitHub/dicra/analytics/notebooks/crop_yield_prediction/Leaf%20Area%20Index/LAI_preprocessing.ipynb#ch0000006?line=5'>6</a>\u001b[0m \u001b[39m# Save the Geotiff file to Leaf Area Index in Telangana\u001b[39;00m\n\u001b[1;32m----> <a href='vscode-notebook-cell:/c%3A/Users/mieke/Documents/Repositories%20GitHub/dicra/analytics/notebooks/crop_yield_prediction/Leaf%20Area%20Index/LAI_preprocessing.ipynb#ch0000006?line=6'>7</a>\u001b[0m \u001b[39mwith\u001b[39;00m rasterio\u001b[39m.\u001b[39mopen(\u001b[39m\"\u001b[39m\u001b[39mC:/Users/mieke/Downloads/Telangana_LAI.tif\u001b[39m\u001b[39m\"\u001b[39m, \u001b[39m\"\u001b[39m\u001b[39mw\u001b[39m\u001b[39m\"\u001b[39m, \u001b[39m*\u001b[39m\u001b[39m*\u001b[39mout_meta, photometric\u001b[39m=\u001b[39m\u001b[39m\"\u001b[39m\u001b[39mRGB\u001b[39m\u001b[39m\"\u001b[39m) \u001b[39mas\u001b[39;00m dest:\n\u001b[0;32m      <a href='vscode-notebook-cell:/c%3A/Users/mieke/Documents/Repositories%20GitHub/dicra/analytics/notebooks/crop_yield_prediction/Leaf%20Area%20Index/LAI_preprocessing.ipynb#ch0000006?line=7'>8</a>\u001b[0m     dest\u001b[39m.\u001b[39mwrite(out_image)\n",
      "File \u001b[1;32mc:\\Users\\mieke\\anaconda3\\envs\\project_ah\\lib\\site-packages\\rasterio\\env.py:437\u001b[0m, in \u001b[0;36mensure_env_with_credentials.<locals>.wrapper\u001b[1;34m(*args, **kwds)\u001b[0m\n\u001b[0;32m    <a href='file:///c%3A/Users/mieke/anaconda3/envs/project_ah/lib/site-packages/rasterio/env.py?line=433'>434</a>\u001b[0m     session \u001b[39m=\u001b[39m DummySession()\n\u001b[0;32m    <a href='file:///c%3A/Users/mieke/anaconda3/envs/project_ah/lib/site-packages/rasterio/env.py?line=435'>436</a>\u001b[0m \u001b[39mwith\u001b[39;00m env_ctor(session\u001b[39m=\u001b[39msession):\n\u001b[1;32m--> <a href='file:///c%3A/Users/mieke/anaconda3/envs/project_ah/lib/site-packages/rasterio/env.py?line=436'>437</a>\u001b[0m     \u001b[39mreturn\u001b[39;00m f(\u001b[39m*\u001b[39margs, \u001b[39m*\u001b[39m\u001b[39m*\u001b[39mkwds)\n",
      "File \u001b[1;32mc:\\Users\\mieke\\anaconda3\\envs\\project_ah\\lib\\site-packages\\rasterio\\__init__.py:230\u001b[0m, in \u001b[0;36mopen\u001b[1;34m(fp, mode, driver, width, height, count, crs, transform, dtype, nodata, sharing, **kwargs)\u001b[0m\n\u001b[0;32m    <a href='file:///c%3A/Users/mieke/anaconda3/envs/project_ah/lib/site-packages/rasterio/__init__.py?line=227'>228</a>\u001b[0m writer \u001b[39m=\u001b[39m get_writer_for_driver(driver)\n\u001b[0;32m    <a href='file:///c%3A/Users/mieke/anaconda3/envs/project_ah/lib/site-packages/rasterio/__init__.py?line=228'>229</a>\u001b[0m \u001b[39mif\u001b[39;00m writer \u001b[39mis\u001b[39;00m \u001b[39mnot\u001b[39;00m \u001b[39mNone\u001b[39;00m:\n\u001b[1;32m--> <a href='file:///c%3A/Users/mieke/anaconda3/envs/project_ah/lib/site-packages/rasterio/__init__.py?line=229'>230</a>\u001b[0m     s \u001b[39m=\u001b[39m writer(path, mode, driver\u001b[39m=\u001b[39mdriver,\n\u001b[0;32m    <a href='file:///c%3A/Users/mieke/anaconda3/envs/project_ah/lib/site-packages/rasterio/__init__.py?line=230'>231</a>\u001b[0m                width\u001b[39m=\u001b[39mwidth, height\u001b[39m=\u001b[39mheight,\n\u001b[0;32m    <a href='file:///c%3A/Users/mieke/anaconda3/envs/project_ah/lib/site-packages/rasterio/__init__.py?line=231'>232</a>\u001b[0m                count\u001b[39m=\u001b[39mcount, crs\u001b[39m=\u001b[39mcrs,\n\u001b[0;32m    <a href='file:///c%3A/Users/mieke/anaconda3/envs/project_ah/lib/site-packages/rasterio/__init__.py?line=232'>233</a>\u001b[0m                transform\u001b[39m=\u001b[39mtransform,\n\u001b[0;32m    <a href='file:///c%3A/Users/mieke/anaconda3/envs/project_ah/lib/site-packages/rasterio/__init__.py?line=233'>234</a>\u001b[0m                dtype\u001b[39m=\u001b[39mdtype, nodata\u001b[39m=\u001b[39mnodata,\n\u001b[0;32m    <a href='file:///c%3A/Users/mieke/anaconda3/envs/project_ah/lib/site-packages/rasterio/__init__.py?line=234'>235</a>\u001b[0m                sharing\u001b[39m=\u001b[39msharing,\n\u001b[0;32m    <a href='file:///c%3A/Users/mieke/anaconda3/envs/project_ah/lib/site-packages/rasterio/__init__.py?line=235'>236</a>\u001b[0m                \u001b[39m*\u001b[39m\u001b[39m*\u001b[39mkwargs)\n\u001b[0;32m    <a href='file:///c%3A/Users/mieke/anaconda3/envs/project_ah/lib/site-packages/rasterio/__init__.py?line=236'>237</a>\u001b[0m \u001b[39melse\u001b[39;00m:\n\u001b[0;32m    <a href='file:///c%3A/Users/mieke/anaconda3/envs/project_ah/lib/site-packages/rasterio/__init__.py?line=237'>238</a>\u001b[0m     \u001b[39mraise\u001b[39;00m DriverCapabilityError(\n\u001b[0;32m    <a href='file:///c%3A/Users/mieke/anaconda3/envs/project_ah/lib/site-packages/rasterio/__init__.py?line=238'>239</a>\u001b[0m         \u001b[39m\"\u001b[39m\u001b[39mWriter does not exist for driver: \u001b[39m\u001b[39m%s\u001b[39;00m\u001b[39m\"\u001b[39m \u001b[39m%\u001b[39m \u001b[39mstr\u001b[39m(driver)\n\u001b[0;32m    <a href='file:///c%3A/Users/mieke/anaconda3/envs/project_ah/lib/site-packages/rasterio/__init__.py?line=239'>240</a>\u001b[0m     )\n",
      "File \u001b[1;32mrasterio\\_io.pyx:1122\u001b[0m, in \u001b[0;36mrasterio._io.DatasetWriterBase.__init__\u001b[1;34m()\u001b[0m\n",
      "File \u001b[1;32mrasterio\\_io.pyx:70\u001b[0m, in \u001b[0;36mrasterio._io._delete_dataset_if_exists\u001b[1;34m()\u001b[0m\n",
      "File \u001b[1;32mrasterio\\_shim.pyx:78\u001b[0m, in \u001b[0;36mrasterio._shim.open_dataset\u001b[1;34m()\u001b[0m\n",
      "File \u001b[1;32mrasterio\\_err.pyx:216\u001b[0m, in \u001b[0;36mrasterio._err.exc_wrap_pointer\u001b[1;34m()\u001b[0m\n",
      "\u001b[1;31mCPLE_AppDefinedError\u001b[0m: C:/Users/mieke/Downloads/Telangana_LAI.tif: MissingRequired:TIFF directory is missing required \"StripOffsets\" field"
     ]
    }
   ],
   "source": [
    "out_meta.update({\"driver\": \"GTiff\",\n",
    "                 \"height\": out_image.shape[1],\n",
    "                 \"width\": out_image.shape[2],\n",
    "                 \"transform\": out_transform})\n",
    "\n",
    "# Save the Geotiff file to Leaf Area Index in Telangana\n",
    "with rasterio.open(\"C:/Users/mieke/Downloads/Telangana_LAI.tif\", \"w\", **out_meta) as dest:\n",
    "    dest.write(out_image)"
   ]
  }
 ],
 "metadata": {
  "interpreter": {
   "hash": "66a2945c31ba00f3043dd21e8500999959e8098ad982a514045c6fc0788ce07f"
  },
  "kernelspec": {
   "display_name": "Python 3.10.4 ('project_ah')",
   "language": "python",
   "name": "python3"
  },
  "language_info": {
   "codemirror_mode": {
    "name": "ipython",
    "version": 3
   },
   "file_extension": ".py",
   "mimetype": "text/x-python",
   "name": "python",
   "nbconvert_exporter": "python",
   "pygments_lexer": "ipython3",
   "version": "3.10.4"
  },
  "orig_nbformat": 4
 },
 "nbformat": 4,
 "nbformat_minor": 2
}
