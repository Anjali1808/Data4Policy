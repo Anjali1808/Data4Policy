{
 "cells": [
  {
   "cell_type": "code",
   "execution_count": 1,
   "metadata": {},
   "outputs": [],
   "source": [
    "# Import packages\n",
    "import os\n",
    "import geopandas as gpd\n",
    "import numpy as np\n",
    "from osgeo import gdal\n",
    "import rasterio\n",
    "import rasterio.mask\n",
    "import netCDF4 as nc"
   ]
  },
  {
   "cell_type": "code",
   "execution_count": 2,
   "metadata": {},
   "outputs": [
    {
     "data": {
      "text/html": [
       "<div>\n",
       "<style scoped>\n",
       "    .dataframe tbody tr th:only-of-type {\n",
       "        vertical-align: middle;\n",
       "    }\n",
       "\n",
       "    .dataframe tbody tr th {\n",
       "        vertical-align: top;\n",
       "    }\n",
       "\n",
       "    .dataframe thead th {\n",
       "        text-align: right;\n",
       "    }\n",
       "</style>\n",
       "<table border=\"1\" class=\"dataframe\">\n",
       "  <thead>\n",
       "    <tr style=\"text-align: right;\">\n",
       "      <th></th>\n",
       "      <th>GID_0</th>\n",
       "      <th>NAME_0</th>\n",
       "      <th>GID_1</th>\n",
       "      <th>NAME_1</th>\n",
       "      <th>VARNAME_1</th>\n",
       "      <th>NL_NAME_1</th>\n",
       "      <th>TYPE_1</th>\n",
       "      <th>ENGTYPE_1</th>\n",
       "      <th>CC_1</th>\n",
       "      <th>HASC_1</th>\n",
       "      <th>geometry</th>\n",
       "    </tr>\n",
       "  </thead>\n",
       "  <tbody>\n",
       "    <tr>\n",
       "      <th>0</th>\n",
       "      <td>IND</td>\n",
       "      <td>India</td>\n",
       "      <td>IND.32_1</td>\n",
       "      <td>Telangana</td>\n",
       "      <td>None</td>\n",
       "      <td>None</td>\n",
       "      <td>State</td>\n",
       "      <td>State</td>\n",
       "      <td>None</td>\n",
       "      <td>IN.TG</td>\n",
       "      <td>MULTIPOLYGON (((79.21147 16.36281, 79.22324 16...</td>\n",
       "    </tr>\n",
       "  </tbody>\n",
       "</table>\n",
       "</div>"
      ],
      "text/plain": [
       "  GID_0 NAME_0     GID_1     NAME_1 VARNAME_1 NL_NAME_1 TYPE_1 ENGTYPE_1  \\\n",
       "0   IND  India  IND.32_1  Telangana      None      None  State     State   \n",
       "\n",
       "   CC_1 HASC_1                                           geometry  \n",
       "0  None  IN.TG  MULTIPOLYGON (((79.21147 16.36281, 79.22324 16...  "
      ]
     },
     "execution_count": 2,
     "metadata": {},
     "output_type": "execute_result"
    }
   ],
   "source": [
    "# Import this file to derive the polygon geometry for Telangana\n",
    "bound_Telangana = gpd.read_file('C:/Users/mieke/Documents/Repositories GitHub/dicra/analytics/geospatial_internship/datasets/telangana_shapefile.geojson')\n",
    "bound_Telangana.head()"
   ]
  },
  {
   "cell_type": "code",
   "execution_count": 3,
   "metadata": {},
   "outputs": [
    {
     "name": "stderr",
     "output_type": "stream",
     "text": [
      "C:\\Users\\mieke\\AppData\\Local\\Temp\\ipykernel_20516\\3231266139.py:2: FutureWarning: Currently, index_parts defaults to True, but in the future, it will default to False to be consistent with Pandas. Use `index_parts=True` to keep the current behavior and True/False to silence the warning.\n",
      "  bound_Telangana = bound_Telangana.explode()\n"
     ]
    },
    {
     "data": {
      "text/html": [
       "<div>\n",
       "<style scoped>\n",
       "    .dataframe tbody tr th:only-of-type {\n",
       "        vertical-align: middle;\n",
       "    }\n",
       "\n",
       "    .dataframe tbody tr th {\n",
       "        vertical-align: top;\n",
       "    }\n",
       "\n",
       "    .dataframe thead th {\n",
       "        text-align: right;\n",
       "    }\n",
       "</style>\n",
       "<table border=\"1\" class=\"dataframe\">\n",
       "  <thead>\n",
       "    <tr style=\"text-align: right;\">\n",
       "      <th></th>\n",
       "      <th></th>\n",
       "      <th>GID_0</th>\n",
       "      <th>NAME_0</th>\n",
       "      <th>GID_1</th>\n",
       "      <th>NAME_1</th>\n",
       "      <th>VARNAME_1</th>\n",
       "      <th>NL_NAME_1</th>\n",
       "      <th>TYPE_1</th>\n",
       "      <th>ENGTYPE_1</th>\n",
       "      <th>CC_1</th>\n",
       "      <th>HASC_1</th>\n",
       "      <th>geometry</th>\n",
       "    </tr>\n",
       "  </thead>\n",
       "  <tbody>\n",
       "    <tr>\n",
       "      <th>0</th>\n",
       "      <th>0</th>\n",
       "      <td>IND</td>\n",
       "      <td>India</td>\n",
       "      <td>IND.32_1</td>\n",
       "      <td>Telangana</td>\n",
       "      <td>None</td>\n",
       "      <td>None</td>\n",
       "      <td>State</td>\n",
       "      <td>State</td>\n",
       "      <td>None</td>\n",
       "      <td>IN.TG</td>\n",
       "      <td>POLYGON ((79.21147 16.36281, 79.22324 16.35036...</td>\n",
       "    </tr>\n",
       "  </tbody>\n",
       "</table>\n",
       "</div>"
      ],
      "text/plain": [
       "    GID_0 NAME_0     GID_1     NAME_1 VARNAME_1 NL_NAME_1 TYPE_1 ENGTYPE_1  \\\n",
       "0 0   IND  India  IND.32_1  Telangana      None      None  State     State   \n",
       "\n",
       "     CC_1 HASC_1                                           geometry  \n",
       "0 0  None  IN.TG  POLYGON ((79.21147 16.36281, 79.22324 16.35036...  "
      ]
     },
     "execution_count": 3,
     "metadata": {},
     "output_type": "execute_result"
    }
   ],
   "source": [
    "# Create a Polygon geometry of Telangana\n",
    "bound_Telangana = bound_Telangana.explode()\n",
    "bound_Telangana.head()"
   ]
  },
  {
   "cell_type": "code",
   "execution_count": 4,
   "metadata": {},
   "outputs": [],
   "source": [
    "# Import the netCDF data for Leaf Area Index\n",
    "nc_file = gdal.Open('NETCDF:C:/Users/mieke/Downloads/c_gls_LAI300-RT0_202205310000_GLOBE_OLCI_V1.1.2.nc:LAI')\n",
    "# Convert the netCDF to Geotiff file\n",
    "tif_file = gdal.Translate('C:/Users/mieke/Downloads/nc_to_tiffile.tif', nc_file)"
   ]
  },
  {
   "cell_type": "code",
   "execution_count": 5,
   "metadata": {},
   "outputs": [
    {
     "data": {
      "text/plain": [
       "<class 'netCDF4._netCDF4.Variable'>\n",
       "uint8 LAI(time, lat, lon)\n",
       "    _FillValue: 255\n",
       "    standard_name: leaf_area_index\n",
       "    long_name: Leaf Area Index 333m\n",
       "    grid_mapping: crs\n",
       "    scale_factor: 0.0333333333\n",
       "    add_offset: 0.0\n",
       "    units: m^2/m^2\n",
       "    valid_range: [  0 210]\n",
       "    missing_value: 255\n",
       "unlimited dimensions: time\n",
       "current shape = (1, 47040, 120960)\n",
       "filling on"
      ]
     },
     "execution_count": 5,
     "metadata": {},
     "output_type": "execute_result"
    }
   ],
   "source": [
    "# Print some metadata related to the Leaf Area Index\n",
    "nc_metadata = nc.Dataset('C:/Users/mieke/Downloads/c_gls_LAI300-RT0_202205310000_GLOBE_OLCI_V1.1.2.nc')\n",
    "nc_metadata['LAI']"
   ]
  },
  {
   "cell_type": "code",
   "execution_count": 6,
   "metadata": {},
   "outputs": [],
   "source": [
    "# In the next two code blocks, we crop the Geotiff file to Leaf Area Index in Telangana\n",
    "LAI_data = \"C:/Users/mieke/Downloads/nc_to_tiffile.tif\"\n",
    "with rasterio.open(LAI_data) as src:\n",
    "    out_image, out_transform = rasterio.mask.mask(src, bound_Telangana.geometry, crop=True)\n",
    "    out_meta = src.meta"
   ]
  },
  {
   "cell_type": "code",
   "execution_count": 7,
   "metadata": {},
   "outputs": [],
   "source": [
    "out_meta.update({\"driver\": \"GTiff\",\n",
    "                 \"height\": out_image.shape[1],\n",
    "                 \"width\": out_image.shape[2],\n",
    "                 \"transform\": out_transform})\n",
    "\n",
    "# photometric = 'YCbCr'\n",
    "# photometric = 'RGB', compress = 'JPEG'\n",
    "# Save the Geotiff file to Leaf Area Index in Telangana\n",
    "with rasterio.open(\"C:/Users/mieke/Downloads/LAI_Telangana.tif\", \"w\", **out_meta) as dest:\n",
    "    dest.write(out_image)"
   ]
  }
 ],
 "metadata": {
  "interpreter": {
   "hash": "66a2945c31ba00f3043dd21e8500999959e8098ad982a514045c6fc0788ce07f"
  },
  "kernelspec": {
   "display_name": "Python 3.10.4 ('project_ah')",
   "language": "python",
   "name": "python3"
  },
  "language_info": {
   "codemirror_mode": {
    "name": "ipython",
    "version": 3
   },
   "file_extension": ".py",
   "mimetype": "text/x-python",
   "name": "python",
   "nbconvert_exporter": "python",
   "pygments_lexer": "ipython3",
   "version": "3.10.4"
  },
  "orig_nbformat": 4
 },
 "nbformat": 4,
 "nbformat_minor": 2
}
