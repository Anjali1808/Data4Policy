{
 "cells": [
  {
   "cell_type": "markdown",
   "metadata": {},
   "source": [
    "For this time series analysis, we use the masked NDVI GeoTIFFs such that only the pixel values are taken into account which belong to the crop landuse."
   ]
  },
  {
   "cell_type": "code",
   "execution_count": null,
   "metadata": {},
   "outputs": [],
   "source": [
    "# Import packages\n",
    "import pandas as pd\n",
    "import os\n",
    "import geopandas as gpd\n",
    "import matplotlib.pyplot as plt\n",
    "import rasterio\n",
    "from statsmodels.tsa.seasonal import STL\n",
    "import numpy as np\n",
    "from sklearn.linear_model import LinearRegression\n",
    "import datetime as dt\n",
    "from matplotlib.colors import TwoSlopeNorm\n",
    "import time\n",
    "from rasterstats import zonal_stats\n",
    "from osgeo import gdal\n",
    "import re\n",
    "import plotly.express as px\n",
    "from scipy.stats import pearsonr"
   ]
  },
  {
   "cell_type": "code",
   "execution_count": null,
   "metadata": {},
   "outputs": [],
   "source": [
    "# Import district boundaries\n",
    "district_bounds = gpd.read_file('C:/Users/mieke/Documents/Msc Thesis/GitHub repositories/dicra/src/data_preprocessing/tsdm/District_Boundary.shp')\n",
    "district_bounds = district_bounds.reset_index()\n",
    "# Import mandal boundaries\n",
    "mandal_bounds = gpd.read_file('C:/Users/mieke/Documents/Msc Thesis/GitHub repositories/dicra/src/data_preprocessing/tsdm/Mandal_Boundary.shp')\n",
    "mandal_bounds = mandal_bounds.reset_index()"
   ]
  },
  {
   "cell_type": "code",
   "execution_count": null,
   "metadata": {},
   "outputs": [],
   "source": [
    "# This function determines the trend score regarding NDVI for each polygon. The function returns the deviance of each polygon\n",
    "def Trend_Score(df, index:int): \n",
    "    # df: dataframe containing the average value of NDVI per polygon\n",
    "\n",
    "    df_selected = df[['ModifiedDateTime', index]]\n",
    "    df_selected = df_selected.sort_values(by=['ModifiedDateTime'])\n",
    "    df_selected.index = df_selected['ModifiedDateTime']\n",
    "\n",
    "    if not df_selected.empty: # If the dataframe is not empty\n",
    "\n",
    "        X = df_selected[index]\n",
    "\n",
    "        # Decompose using STL Seasonal-Trend Decomposition using LOESS\n",
    "        # period = 17, since there are approximately 17 images within a season/cycle (102/6=17)\n",
    "        # seasonal = 5, since there are approximately 5 full seasons/cycles within the dataset (for visualization, see cell at bottom)\n",
    "        stl = STL(X, period = 17, seasonal = 5) \n",
    "        res = stl.fit()\n",
    "\n",
    "        df_trend = res.trend.to_frame().reset_index().dropna() # drop the nan values from the dataframe\n",
    "\n",
    "        # Convert the date to a numerical value\n",
    "        df_trend['ModifiedDateTime_num'] = df_trend['ModifiedDateTime'].map(dt.datetime.toordinal)\n",
    "\n",
    "        # Put the data in the right format for Linear Regression\n",
    "        X = np.array(df_trend['ModifiedDateTime_num'])\n",
    "        X = X.reshape(-1, 1)\n",
    "        y = np.array(df_trend['trend'])\n",
    "        y = y.reshape(-1, 1)\n",
    "\n",
    "        # Perform Linear Regression and obtain the slope\n",
    "        reg = LinearRegression().fit(X, y)\n",
    "        y_pred_trend = reg.predict(X)\n",
    "        slope, intercept = np.polyfit(np.array(df_trend['ModifiedDateTime_num']), y_pred_trend,1)\n",
    "        line_slope = slope[0]\n",
    "\n",
    "    else:\n",
    "        #If the dataframe is empty, there is no slope line. We are not interested in these regions.\n",
    "        line_slope = 'Unknown'\n",
    "\n",
    "    return(line_slope)"
   ]
  },
  {
   "cell_type": "code",
   "execution_count": null,
   "metadata": {},
   "outputs": [],
   "source": [
    "def correlation_function(data, endyear, param, boundaries, level_name):\n",
    "    data['ModifiedDateTime'] = pd.to_datetime(data['ModifiedDateTime'])\n",
    "    data = data[data['ModifiedDateTime']<str(endyear+1)+'-01-01']\n",
    "\n",
    "    ids= []\n",
    "    scores = []\n",
    "    # This for loop calculates a deviant score for each boundary\n",
    "    for i in data.columns[1:-1]:\n",
    "        ids.append(i)\n",
    "        score = Trend_Score(data, i) # calculate the trend score per specific area\n",
    "        scores.append(score)\n",
    "\n",
    "    # Create a Dataframe containing the trend scores\n",
    "    DPPD_df = pd.DataFrame({'index': ids, 'Slope Score': scores}) \n",
    "\n",
    "    # We are only interested in regions that do not have unknown scores\n",
    "    DPPD_df = DPPD_df[DPPD_df['Slope Score'] != 'Unknown']\n",
    "\n",
    "    DPPD_df['index'] = DPPD_df['index'].astype(int)\n",
    "\n",
    "    # Merge the dataframe with the boundaries dataframe such that the corresponding geometry is added\n",
    "    DPPD_df = DPPD_df.merge(boundaries[['index', 'geometry']], how='left', on=['index'])\n",
    "\n",
    "    # Translate the dataframe to a geodataframe\n",
    "    DPPD_df = gpd.GeoDataFrame(DPPD_df, geometry = DPPD_df.geometry, crs = {'init': 'epsg:4326'}) \n",
    "    DPPD_df['Slope Score'] = DPPD_df['Slope Score'].astype('float')\n",
    "\n",
    "    # Define text for the plots\n",
    "    text = 'Changes in ' + param + ' 2016-'+ str(endyear) + ' on ' + level_name + ' level'\n",
    "    ranges = max(abs(DPPD_df['Slope Score'].min()), (DPPD_df['Slope Score'].max()))\n",
    "    vmin, vmax, vcenter = ranges*-1 , ranges, 0\n",
    "    norm = TwoSlopeNorm(vmin= vmin , vcenter=vcenter, vmax= vmax) \n",
    "    # create a normalized colorbar\n",
    "    cmap = 'RdYlGn'\n",
    "    cbar = plt.cm.ScalarMappable(norm=norm, cmap=cmap)\n",
    "    DPPD_df.plot(column = 'Slope Score', \n",
    "                        legend = True, \n",
    "                        figsize = [20,10],\\\n",
    "                        legend_kwds = {'label': 'Deviance'}, \n",
    "                        cmap = 'RdYlGn',\n",
    "                        norm = norm)\n",
    "    plt.title(text)\n",
    "    #os.chdir('C:/Users/mieke/Documents/Msc Thesis/Temporary Output')\n",
    "    #plt.savefig('C:/Users/mieke/Documents/Msc Thesis/Temporary Output/Tomorrow/' + name + '_district' + '.png', bbox_inches='tight')\n",
    "    plt.show()\n",
    "\n",
    "    return(scores)"
   ]
  },
  {
   "cell_type": "code",
   "execution_count": null,
   "metadata": {},
   "outputs": [],
   "source": [
    "# Read data from tiff files\n",
    "columns =['index', 'Dist_Name','geometry']\n",
    "NDVI_df = district_bounds[columns]\n",
    "\n",
    "folder_names = os.listdir('C:/Users/mieke/Documents/Msc Thesis/Datasets/DiCRA/NDVI_masked') # contains all foldernames within the folder NDVI_masked\n",
    "for i in folder_names:\n",
    "    file_names = os.listdir('C:/Users/mieke/Documents/Msc Thesis/Datasets/DiCRA/NDVI_masked/' + i + '/RASTER') # contains all filesnames within the folder selected folder i\n",
    "    year = re.findall('[0-9]+', folder_names[folder_names.index(i)]) # the year belonging to the GeoTIFFs in the current folder\n",
    "\n",
    "    for j in file_names:\n",
    "        path = 'C:/Users/mieke/Documents/Msc Thesis/Datasets/DiCRA/NDVI_masked/' + i + '/RASTER/' + j # the path of the selected GeoTIFF\n",
    "        NDVI = rasterio.open(path, mode = 'r') # open the selected GeoTIFF\n",
    "        NDVI_array = NDVI.read(1) # Assign raster values to a numpy nd array\n",
    "        affine = NDVI.transform\n",
    "\n",
    "        # For each image, we calculate the mean parameter value for every geometry within the dataframe\n",
    "        zonal_param = zonal_stats(district_bounds, NDVI_array, affine = affine, stats=['mean'], geojson_out = True, nodata = NDVI.nodata)\n",
    "        NDVI_df[j[6:10] + j[2:6] + j[:2]] = np.nan\n",
    "        for k in range(len(district_bounds)):\n",
    "            NDVI_df[j[6:10] + j[2:6] + j[:2]].iloc[k] = zonal_param[k]['properties']['mean']\n",
    "\n",
    "## @ SHIVANG, this is where I am in doubt whether it handles nan-values correctly.        \n",
    "NDVI_df = NDVI_df.dropna() # Set axis=0 if we want to remove districts/mandal. Set axis=1 if we do not want to remove districts/mandals. Set default if we don't really care\n",
    "NDVI_df = NDVI_df.iloc[:, 4:].transpose().reset_index()\n",
    "NDVI_df['ModifiedDateTime'] = pd.to_datetime(NDVI_df['index'])#, dayfirst=True)#, format = '%d-%m-%Y')\n",
    "\n",
    "#NDVI_df.to_csv('C:/Users/mieke/Documents/Msc Thesis/Temporary Output/Tomorrow/NDVI_district.csv')"
   ]
  },
  {
   "cell_type": "code",
   "execution_count": null,
   "metadata": {},
   "outputs": [],
   "source": [
    "score_NDVI = correlation_function(NDVI_df, 2021, 'NDVI', district_bounds, 'district') # Run the correlation function to derive a positive deviance analysis plot"
   ]
  },
  {
   "cell_type": "code",
   "execution_count": null,
   "metadata": {},
   "outputs": [],
   "source": [
    "score_NDVI = correlation_function(NDVI_df, 2021, 'NDVI', mandal_bounds, 'mandal') # Run the correlation function to derive a positive deviance analysis plot"
   ]
  },
  {
   "cell_type": "code",
   "execution_count": null,
   "metadata": {},
   "outputs": [],
   "source": [
    "# In this cell, we select one datapoint to give more insight on what the trend looks like and which values we should assign to the period and season attribute\n",
    "#  \n",
    "index=4\n",
    "df_selected = NDVI_df[['ModifiedDateTime', index]]\n",
    "df_selected = df_selected.sort_values(by=['ModifiedDateTime'])\n",
    "df_selected.index = df_selected['ModifiedDateTime']\n",
    "\n",
    "X = df_selected[index]\n",
    "\n",
    "# Decompose using STL Seasonal-Trend Decomposition using LOESS\n",
    "stl = STL(X, period = 17, seasonal=5)\n",
    "res = stl.fit()\n",
    "res.plot()"
   ]
  }
 ],
 "metadata": {
  "kernelspec": {
   "display_name": "Python 3.10.4 ('thesis_base')",
   "language": "python",
   "name": "python3"
  },
  "language_info": {
   "codemirror_mode": {
    "name": "ipython",
    "version": 3
   },
   "file_extension": ".py",
   "mimetype": "text/x-python",
   "name": "python",
   "nbconvert_exporter": "python",
   "pygments_lexer": "ipython3",
   "version": "3.10.4"
  },
  "orig_nbformat": 4,
  "vscode": {
   "interpreter": {
    "hash": "734205a0c94b5e97d2e885f269ea6bd400da4ba9a6c87b08a93b97fdaab1acc8"
   }
  }
 },
 "nbformat": 4,
 "nbformat_minor": 2
}
