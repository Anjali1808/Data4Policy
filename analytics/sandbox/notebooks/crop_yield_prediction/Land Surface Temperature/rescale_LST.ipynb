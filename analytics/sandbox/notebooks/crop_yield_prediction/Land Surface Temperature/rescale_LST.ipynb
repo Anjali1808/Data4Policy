{
 "cells": [
  {
   "cell_type": "code",
   "execution_count": 1,
   "metadata": {},
   "outputs": [],
   "source": [
    "# Import packages\n",
    "import pandas as pd\n",
    "import os\n",
    "import geopandas as gpd\n",
    "import matplotlib.pyplot as plt\n",
    "import rasterio\n",
    "from statsmodels.tsa.seasonal import STL\n",
    "import numpy as np\n",
    "from sklearn.linear_model import LinearRegression\n",
    "import datetime as dt\n",
    "from matplotlib.colors import TwoSlopeNorm\n",
    "import time\n",
    "from rasterstats import zonal_stats\n",
    "from osgeo import gdal\n",
    "import re"
   ]
  },
  {
   "cell_type": "code",
   "execution_count": 2,
   "metadata": {},
   "outputs": [],
   "source": [
    "# This function rescales the pixel value such that we derive the physical values\n",
    "def rescale(j, nodata_value_new, Scaling, Offset, file_path):\n",
    "    tiff_open = gdal.Open(file_path) # open the GeoTIFF we want to rescale\n",
    "    band = tiff_open.GetRasterBand(1) # Select the band\n",
    "    tiff_array = tiff_open.ReadAsArray() # Assign raster values to a numpy nd array\n",
    "\n",
    "    nodata_value_old = tiff_open.GetRasterBand(1).GetNoDataValue() # value which has been assigned for the nodata\n",
    "    #nodata_value_new = -9999 # new data value\n",
    "\n",
    "    tiff_array_new = np.where(tiff_array != nodata_value_old, tiff_array * Scaling + Offset, nodata_value_new) # Rescale pixel values and change nodatavalue to -9999\n",
    "\n",
    "    col = tiff_open.RasterXSize # number of columns\n",
    "    rows = tiff_open.RasterYSize # number of rows\n",
    "    driver = tiff_open.GetDriver()\n",
    "\n",
    "    # Create a new raster to save the average-values\n",
    "    new_raster = driver.Create(j, col, rows, 1, gdal.GDT_Float32)\n",
    "\n",
    "    # Copy the properties of the original raster\n",
    "    new_raster.SetGeoTransform(tiff_open.GetGeoTransform())\n",
    "    new_raster.SetProjection(tiff_open.GetProjection())\n",
    "\n",
    "    # Add the average values to newly created raster\n",
    "    new_raster.GetRasterBand(1).WriteArray(tiff_array_new)\n",
    "    new_raster.GetRasterBand(1).SetNoDataValue(nodata_value_new)\n",
    "\n",
    "    # close the raster\n",
    "    new_raster = None\n",
    "    del new_raster"
   ]
  },
  {
   "cell_type": "markdown",
   "metadata": {},
   "source": [
    "Before running the code, we should set Offset and Scaling equal to as provided on the website. Furthermore, create the folders to which we will save the rescaling GeoTIFFs."
   ]
  },
  {
   "cell_type": "code",
   "execution_count": 3,
   "metadata": {},
   "outputs": [],
   "source": [
    "offset = -273.15 # We use this Offset since we want to convert Kelvin to Celsius\n",
    "scaling = 0.02\n",
    "ndv = -9999\n",
    "\n",
    "# For each of the LST images, we rescale the Geotiff\n",
    "path = 'C:/Users/mieke/Documents/Msc Thesis/Datasets/GEE/LST/Telangana/aoi/'\n",
    "file_names = os.listdir(path) # contains all filenames\n",
    "os.chdir('C:/Users/mieke/Documents/Msc Thesis/Datasets/GEE/LST/Telangana/aoi_rescaled/') # Set path\n",
    "for i in file_names:\n",
    "    tiff_path = path + i # the selected GeoTIFF path\n",
    "    rescale(i, ndv, scaling, offset, tiff_path)"
   ]
  },
  {
   "cell_type": "markdown",
   "metadata": {},
   "source": [
    "Below, we find the exact same approach used for Karnataka."
   ]
  },
  {
   "cell_type": "code",
   "execution_count": 4,
   "metadata": {},
   "outputs": [],
   "source": [
    "offset = -273.15 # We use this Offset since we want to convert Kelvin to Celsius\n",
    "scaling = 0.02\n",
    "ndv = -9999\n",
    "\n",
    "# For each of the LST images, we rescale the Geotiff\n",
    "path = 'C:/Users/mieke/Documents/Msc Thesis/Datasets/GEE/LST/Karnataka/aoi/'\n",
    "file_names = os.listdir(path) # contains all filenames\n",
    "os.chdir('C:/Users/mieke/Documents/Msc Thesis/Datasets/GEE/LST/Karnataka/aoi_rescaled/') # Set path\n",
    "for i in file_names:\n",
    "    tiff_path = path + i # the selected GeoTIFF path\n",
    "    rescale(i, ndv, scaling, offset, tiff_path)"
   ]
  },
  {
   "cell_type": "markdown",
   "metadata": {},
   "source": [
    "The rescaling is finished. Below is just a small check."
   ]
  },
  {
   "cell_type": "code",
   "execution_count": 6,
   "metadata": {},
   "outputs": [
    {
     "name": "stdout",
     "output_type": "stream",
     "text": [
      "-9999.0\n",
      "-9999.0\n"
     ]
    },
    {
     "data": {
      "text/plain": [
       "Affine(0.008324017892424106, 0.0, 74.05046317100485,\n",
       "       0.0, -0.008324017892424106, 18.462671685396668)"
      ]
     },
     "execution_count": 6,
     "metadata": {},
     "output_type": "execute_result"
    }
   ],
   "source": [
    "path_r = 'C:/Users/mieke/Documents/Msc Thesis/Datasets/GEE/LST/Karnataka/aoi_rescaled/' + i # the path of the selected GeoTIFF\n",
    "LST_r = rasterio.open(path_r, mode = 'r') # open the selected GeoTIFF\n",
    "LST_r_array = LST_r.read(1) # Assign raster values to a numpy nd array\n",
    "row_r_134 = LST_r_array[134]\n",
    "print(row_r_134[357])\n",
    "type(row_r_134[357])\n",
    "print(LST_r.nodata)\n",
    "LST_r.meta\n",
    "LST_r.transform # Note that the first element shows the resolution. To translate the resolution to metres, we use element * 10^5"
   ]
  }
 ],
 "metadata": {
  "kernelspec": {
   "display_name": "Python 3.10.4 ('thesis_base')",
   "language": "python",
   "name": "python3"
  },
  "language_info": {
   "codemirror_mode": {
    "name": "ipython",
    "version": 3
   },
   "file_extension": ".py",
   "mimetype": "text/x-python",
   "name": "python",
   "nbconvert_exporter": "python",
   "pygments_lexer": "ipython3",
   "version": "3.10.4"
  },
  "orig_nbformat": 4,
  "vscode": {
   "interpreter": {
    "hash": "734205a0c94b5e97d2e885f269ea6bd400da4ba9a6c87b08a93b97fdaab1acc8"
   }
  }
 },
 "nbformat": 4,
 "nbformat_minor": 2
}
