{
 "cells": [
  {
   "cell_type": "code",
   "execution_count": 1,
   "metadata": {},
   "outputs": [
    {
     "name": "stderr",
     "output_type": "stream",
     "text": [
      "/home/luckyw0w/anaconda3/lib/python3.9/site-packages/geopandas/_compat.py:111: UserWarning: The Shapely GEOS version (3.9.1-CAPI-1.14.2) is incompatible with the GEOS version PyGEOS was compiled with (3.10.3-CAPI-1.16.1). Conversions between both will be slow.\n",
      "  warnings.warn(\n"
     ]
    }
   ],
   "source": [
    "import geopandas as gpd\n",
    "import pandas as pd\n",
    "import rasterio\n",
    "from rasterio import mask\n",
    "\n",
    "import shapely\n",
    "from shapely.geometry import Polygon, Point\n",
    "from shapely.ops import cascaded_union\n",
    "import shapely.speedups\n",
    "\n",
    "shapely.speedups.enable()"
   ]
  },
  {
   "cell_type": "code",
   "execution_count": 7,
   "metadata": {},
   "outputs": [],
   "source": [
    "df_district_boundaries = gpd.read_file('data/TSDM/District_Boundary.shp')"
   ]
  },
  {
   "cell_type": "code",
   "execution_count": 9,
   "metadata": {},
   "outputs": [
    {
     "data": {
      "text/plain": [
       "33"
      ]
     },
     "execution_count": 9,
     "metadata": {},
     "output_type": "execute_result"
    }
   ],
   "source": [
    "df_district_boundaries['Dist_Name'].nunique()"
   ]
  },
  {
   "cell_type": "code",
   "execution_count": 12,
   "metadata": {},
   "outputs": [
    {
     "name": "stdout",
     "output_type": "stream",
     "text": [
      "No. of bands: 1\n",
      "Total population - Telangana (2020):  0.04 billion\n"
     ]
    }
   ],
   "source": [
    "india_worldpop_raster_2020 = rasterio.open('data/ind_ppp_2020_1km_Aggregated_UNadj.tif')\n",
    "print('No. of bands:',(india_worldpop_raster_2020.count))\n",
    "# Reading the first band, filtering negative raster values and visualise data with matplotlib\n",
    "india_worldpop_raster_2020_tot = india_worldpop_raster_2020.read(1)\n",
    "india_worldpop_raster_2020_tot[india_worldpop_raster_2020_tot<0] = None\n",
    "\n",
    "india_worldpop_raster_2020_nonzero = india_worldpop_raster_2020_tot[india_worldpop_raster_2020_tot>0]\n",
    "population_worldpop = india_worldpop_raster_2020_nonzero[india_worldpop_raster_2020_nonzero > 0].sum()\n",
    "print('Total population - Telangana (2020): ',round(population_worldpop/1000000000,2),'billion')"
   ]
  },
  {
   "cell_type": "code",
   "execution_count": 13,
   "metadata": {},
   "outputs": [],
   "source": [
    "def get_population_count(vector_polygon,raster_layer):\n",
    "    gtraster, bound = rasterio.mask.mask(raster_layer, [vector_polygon], crop=True)\n",
    "    pop_estimate = gtraster[0][gtraster[0]>0].sum()\n",
    "    return (pop_estimate.round(2))"
   ]
  },
  {
   "cell_type": "code",
   "execution_count": 14,
   "metadata": {},
   "outputs": [
    {
     "name": "stdout",
     "output_type": "stream",
     "text": [
      "CPU times: user 456 ms, sys: 12.4 ms, total: 469 ms\n",
      "Wall time: 483 ms\n"
     ]
    }
   ],
   "source": [
    "%%time\n",
    "df_district_boundaries['population_count_wp'] = df_district_boundaries['geometry'].apply(get_population_count,raster_layer=india_worldpop_raster_2020)\n"
   ]
  },
  {
   "cell_type": "code",
   "execution_count": 15,
   "metadata": {},
   "outputs": [],
   "source": [
    "district_population = df_district_boundaries.groupby(['Dist_Name'])['population_count_wp'].sum().round().reset_index().sort_values(by='population_count_wp')\n"
   ]
  },
  {
   "cell_type": "code",
   "execution_count": 17,
   "metadata": {},
   "outputs": [],
   "source": [
    "relative_wealth_data = pd.read_csv('data/ind_pak_relative_wealth_index.csv')"
   ]
  },
  {
   "cell_type": "code",
   "execution_count": 18,
   "metadata": {},
   "outputs": [
    {
     "name": "stderr",
     "output_type": "stream",
     "text": [
      "/home/luckyw0w/anaconda3/lib/python3.9/site-packages/pandas/core/dtypes/cast.py:122: ShapelyDeprecationWarning: The array interface is deprecated and will no longer work in Shapely 2.0. Convert the '.coords' to a numpy array instead.\n",
      "  arr = construct_1d_object_array_from_listlike(values)\n"
     ]
    }
   ],
   "source": [
    "def convert_Point(facebook_relative_wealth):\n",
    "    return Point(facebook_relative_wealth['longitude'],facebook_relative_wealth['latitude'])\n",
    "\n",
    "relative_wealth_data['geometry'] = relative_wealth_data[['latitude','longitude']].apply(convert_Point,axis=1)\n",
    "relative_wealth_data = gpd.GeoDataFrame(relative_wealth_data)"
   ]
  },
  {
   "cell_type": "code",
   "execution_count": 19,
   "metadata": {},
   "outputs": [
    {
     "data": {
      "text/html": [
       "<div>\n",
       "<style scoped>\n",
       "    .dataframe tbody tr th:only-of-type {\n",
       "        vertical-align: middle;\n",
       "    }\n",
       "\n",
       "    .dataframe tbody tr th {\n",
       "        vertical-align: top;\n",
       "    }\n",
       "\n",
       "    .dataframe thead th {\n",
       "        text-align: right;\n",
       "    }\n",
       "</style>\n",
       "<table border=\"1\" class=\"dataframe\">\n",
       "  <thead>\n",
       "    <tr style=\"text-align: right;\">\n",
       "      <th></th>\n",
       "      <th>latitude</th>\n",
       "      <th>longitude</th>\n",
       "      <th>rwi</th>\n",
       "      <th>error</th>\n",
       "      <th>geometry</th>\n",
       "    </tr>\n",
       "  </thead>\n",
       "  <tbody>\n",
       "    <tr>\n",
       "      <th>0</th>\n",
       "      <td>33.897776</td>\n",
       "      <td>70.037842</td>\n",
       "      <td>-0.074</td>\n",
       "      <td>0.624</td>\n",
       "      <td>POINT (70.03784 33.89778)</td>\n",
       "    </tr>\n",
       "    <tr>\n",
       "      <th>1</th>\n",
       "      <td>31.118794</td>\n",
       "      <td>66.807861</td>\n",
       "      <td>-0.569</td>\n",
       "      <td>0.368</td>\n",
       "      <td>POINT (66.80786 31.11879)</td>\n",
       "    </tr>\n",
       "  </tbody>\n",
       "</table>\n",
       "</div>"
      ],
      "text/plain": [
       "    latitude  longitude    rwi  error                   geometry\n",
       "0  33.897776  70.037842 -0.074  0.624  POINT (70.03784 33.89778)\n",
       "1  31.118794  66.807861 -0.569  0.368  POINT (66.80786 31.11879)"
      ]
     },
     "execution_count": 19,
     "metadata": {},
     "output_type": "execute_result"
    }
   ],
   "source": [
    "relative_wealth_data.head(2)"
   ]
  },
  {
   "cell_type": "code",
   "execution_count": 20,
   "metadata": {},
   "outputs": [],
   "source": [
    "def get_rwi_mean(vector_polygon,vector_layer):\n",
    "    pip_mask = vector_layer.within(vector_polygon)\n",
    "    pip_data = vector_layer.loc[pip_mask]\n",
    "    mean_val = round(pip_data['rwi'].mean(),2)\n",
    "    return(mean_val)"
   ]
  },
  {
   "cell_type": "code",
   "execution_count": 21,
   "metadata": {},
   "outputs": [],
   "source": [
    "def get_rwi_median(vector_polygon,vector_layer):\n",
    "    pip_mask = vector_layer.within(vector_polygon)\n",
    "    pip_data = vector_layer.loc[pip_mask]\n",
    "    mean_val = round(pip_data['rwi'].median(),2)\n",
    "    return(mean_val)"
   ]
  },
  {
   "cell_type": "code",
   "execution_count": 22,
   "metadata": {},
   "outputs": [],
   "source": [
    "df_district_boundaries['rwi_mean'] = df_district_boundaries['geometry'].apply(get_rwi_mean,\n",
    "                                                                              vector_layer=relative_wealth_data)\n"
   ]
  },
  {
   "cell_type": "code",
   "execution_count": 24,
   "metadata": {},
   "outputs": [],
   "source": [
    "district_average_rwi = df_district_boundaries.groupby(['Dist_Name'])['rwi_mean'].mean().reset_index().sort_values(by='rwi_mean')\n"
   ]
  },
  {
   "cell_type": "code",
   "execution_count": 25,
   "metadata": {},
   "outputs": [
    {
     "data": {
      "text/html": [
       "<div>\n",
       "<style scoped>\n",
       "    .dataframe tbody tr th:only-of-type {\n",
       "        vertical-align: middle;\n",
       "    }\n",
       "\n",
       "    .dataframe tbody tr th {\n",
       "        vertical-align: top;\n",
       "    }\n",
       "\n",
       "    .dataframe thead th {\n",
       "        text-align: right;\n",
       "    }\n",
       "</style>\n",
       "<table border=\"1\" class=\"dataframe\">\n",
       "  <thead>\n",
       "    <tr style=\"text-align: right;\">\n",
       "      <th></th>\n",
       "      <th>Dist_Name</th>\n",
       "      <th>population_count_wp</th>\n",
       "    </tr>\n",
       "  </thead>\n",
       "  <tbody>\n",
       "    <tr>\n",
       "      <th>16</th>\n",
       "      <td>Mulugu</td>\n",
       "      <td>302228.0</td>\n",
       "    </tr>\n",
       "    <tr>\n",
       "      <th>5</th>\n",
       "      <td>Jayashankar Bhupalpally</td>\n",
       "      <td>424225.0</td>\n",
       "    </tr>\n",
       "  </tbody>\n",
       "</table>\n",
       "</div>"
      ],
      "text/plain": [
       "                  Dist_Name  population_count_wp\n",
       "16                   Mulugu             302228.0\n",
       "5   Jayashankar Bhupalpally             424225.0"
      ]
     },
     "execution_count": 25,
     "metadata": {},
     "output_type": "execute_result"
    }
   ],
   "source": [
    "district_population.head(2)"
   ]
  },
  {
   "cell_type": "code",
   "execution_count": 27,
   "metadata": {},
   "outputs": [],
   "source": [
    "df_combined = pd.merge(district_average_rwi,district_population,on=['Dist_Name'])"
   ]
  },
  {
   "cell_type": "code",
   "execution_count": 28,
   "metadata": {},
   "outputs": [],
   "source": [
    "df_combined['weighted'] = df_combined['population_count_wp']*df_combined['rwi_mean']"
   ]
  },
  {
   "cell_type": "code",
   "execution_count": 29,
   "metadata": {},
   "outputs": [],
   "source": [
    "df_combined.sort_values(by='weighted').to_excel('result/rwi_average.xlsx')"
   ]
  },
  {
   "cell_type": "code",
   "execution_count": 30,
   "metadata": {},
   "outputs": [],
   "source": [
    "df_district_boundaries['rwi_median'] = df_district_boundaries['geometry'].apply(get_rwi_median,\n",
    "                                                                              vector_layer=relative_wealth_data)\n",
    "\n"
   ]
  },
  {
   "cell_type": "code",
   "execution_count": 31,
   "metadata": {},
   "outputs": [],
   "source": [
    "district_median_rwi = df_district_boundaries.groupby(['Dist_Name'])['rwi_median'].mean().reset_index().sort_values(by='rwi_median')\n",
    "\n"
   ]
  },
  {
   "cell_type": "code",
   "execution_count": 32,
   "metadata": {},
   "outputs": [],
   "source": [
    "df_combined = pd.merge(district_median_rwi,district_population,on=['Dist_Name'])"
   ]
  },
  {
   "cell_type": "code",
   "execution_count": 33,
   "metadata": {},
   "outputs": [],
   "source": [
    "df_combined['weighted'] = df_combined['population_count_wp']*df_combined['rwi_median']"
   ]
  },
  {
   "cell_type": "code",
   "execution_count": 34,
   "metadata": {},
   "outputs": [],
   "source": [
    "df_combined.sort_values(by='weighted').to_excel('result/rwi_median.xlsx')"
   ]
  },
  {
   "cell_type": "code",
   "execution_count": 35,
   "metadata": {},
   "outputs": [],
   "source": [
    "adm_name = gpd.read_file('data/TSDM/Mandal_Boundary.shp')  #Mandal (an administrative boundary) Shapefile\n",
    "\n",
    "relative_wealth_data = pd.read_csv('data/ind_pak_relative_wealth_index.csv')\n",
    "relative_wealth_data = gpd.GeoDataFrame(relative_wealth_data,                        #Converting fire points into dataframe\n",
    "                         geometry=gpd.points_from_xy(\n",
    "                             relative_wealth_data.longitude,\n",
    "                             relative_wealth_data.latitude),\n",
    "                         crs=4326)\n",
    "\n",
    "rwi_telangna = relative_wealth_data.clip(adm_name)                   #Clipping fire points with Telangana boundaries"
   ]
  },
  {
   "cell_type": "code",
   "execution_count": 38,
   "metadata": {},
   "outputs": [
    {
     "name": "stderr",
     "output_type": "stream",
     "text": [
      "/tmp/ipykernel_49377/1679016454.py:4: SettingWithCopyWarning: \n",
      "A value is trying to be set on a copy of a slice from a DataFrame.\n",
      "Try using .loc[row_indexer,col_indexer] = value instead\n",
      "\n",
      "See the caveats in the documentation: https://pandas.pydata.org/pandas-docs/stable/user_guide/indexing.html#returning-a-view-versus-a-copy\n",
      "  df2['rwi'] = list(rwi_telangna['rwi'])                           #add column of rwi values\n"
     ]
    }
   ],
   "source": [
    "import rioxarray as rio\n",
    "\n",
    "df2 = rwi_telangna[['latitude','longitude']]                     #create a dataframe with lat lon values of rwi dataframe\n",
    "df2['rwi'] = list(rwi_telangna['rwi'])                           #add column of rwi values\n",
    "da = df2.set_index(['latitude', 'longitude']).to_xarray()        #convert new dataframe to xarray\n",
    "da = da.set_coords(['latitude', 'longitude'])                    #set lat and lon as coordinates\n",
    "\n",
    "da.fillna(-9999.0)                                               #fill None values\n",
    "da = da.rename({'longitude': 'x','latitude': 'y'})               # change lon lat to x  y for exporting xarray to tif\n",
    "\n",
    "\n",
    "import rasterio\n",
    "da.rio.to_raster('result/rwioutput.tif')                                #dump xarray to GeoTIFF\n",
    "crs = rasterio.crs.CRS({\"init\": \"epsg:4326\"})    # or whatever CRS you know the image is in    \n",
    "with rasterio.open('result/rwioutput.tif', mode='r+') as src:     \n",
    "    #src.transform = transform\n",
    "    src.crs = crs\n",
    "    src.close()"
   ]
  },
  {
   "cell_type": "code",
   "execution_count": null,
   "metadata": {},
   "outputs": [],
   "source": []
  }
 ],
 "metadata": {
  "kernelspec": {
   "display_name": "Python 3.9.7 ('base')",
   "language": "python",
   "name": "python3"
  },
  "language_info": {
   "codemirror_mode": {
    "name": "ipython",
    "version": 3
   },
   "file_extension": ".py",
   "mimetype": "text/x-python",
   "name": "python",
   "nbconvert_exporter": "python",
   "pygments_lexer": "ipython3",
   "version": "3.9.7"
  },
  "vscode": {
   "interpreter": {
    "hash": "9bc77666b88a93c823efa9f24a54909d6fd806880c59e700ac6a37bcb7352378"
   }
  }
 },
 "nbformat": 4,
 "nbformat_minor": 4
}
