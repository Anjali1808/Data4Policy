{
 "cells": [
  {
   "cell_type": "code",
   "execution_count": 87,
   "metadata": {},
   "outputs": [],
   "source": [
    "import numpy as np\n",
    "import os\n",
    "import pandas as pd\n",
    "import geopandas as gpd\n",
    "import rasterio\n",
    "from rasterstats import zonal_stats\n",
    "from fuzzywuzzy import process\n",
    "from fuzzywuzzy import fuzz\n",
    "import warnings\n",
    "import math\n"
   ]
  },
  {
   "cell_type": "code",
   "execution_count": 88,
   "metadata": {},
   "outputs": [],
   "source": [
    "os.chdir('c:\\\\Users\\\\Jesse\\\\OneDrive\\\\Documenten\\\\Master BAOR\\\\Thesis\\\\GitHub\\\\dicra\\\\src\\\\data_preprocessing\\\\tsdm\\\\')\n",
    "mandal_boundaries = gpd.read_file('Mandal_Boundary.shp')\n",
    "mandal_boundaries = mandal_boundaries.reset_index()\n",
    "\n",
    "os.chdir('c:\\\\Users\\\\Jesse\\\\OneDrive\\\\Documenten\\\\Master BAOR\\\\Thesis\\\\GitHub\\\\dicra\\\\src\\\\data_preprocessing\\\\tsdm\\\\')\n",
    "district_boundaries = gpd.read_file('District_Boundary.shp')\n",
    "district_boundaries = district_boundaries.reset_index()\n",
    "\n",
    "os.chdir('c:\\\\Users\\\\Jesse\\\\OneDrive\\\\Documenten\\\\Master BAOR\\\\Thesis\\\\GitHub\\\\dicra\\\\src\\\\data_preprocessing\\\\base_geojson')\n",
    "shape_telangana = gpd.read_file('TL_state_shapefile_for_clip.geojson')\n",
    "shape_telangana = shape_telangana.explode()\n",
    "\n",
    "warnings.filterwarnings('ignore')\n"
   ]
  },
  {
   "cell_type": "code",
   "execution_count": 89,
   "metadata": {},
   "outputs": [],
   "source": [
    "#https://towardsdatascience.com/timeseries-data-munging-lagging-variables-that-are-distributed-across-multiple-groups-86e0a038460c\n",
    "def lag_by_group(key, value_df):\n",
    "    df = value_df.assign(group = key) # this pandas method returns a copy of the df, with group columns assigned the key value\n",
    "    return (df.sort_values(by=[\"ModifiedDateTime\"], ascending=True).set_index([\"ModifiedDateTime\"]).shift(12)) # the parenthesis allow you to chain methods and avoid intermediate variable assignment"
   ]
  },
  {
   "cell_type": "code",
   "execution_count": 90,
   "metadata": {},
   "outputs": [],
   "source": [
    "os.chdir('c:\\\\Users\\\\Jesse\\\\OneDrive\\\\Documenten\\\\Master BAOR\\\\Thesis\\\\GitHub\\\\dicra\\\\analytics\\\\sandbox\\\\notebooks\\\\crop_fires\\\\Data_csv\\\\results_csv')\n",
    "df = pd.read_csv('data_tiffs.csv', index_col = 0)"
   ]
  },
  {
   "cell_type": "code",
   "execution_count": 91,
   "metadata": {},
   "outputs": [
    {
     "data": {
      "text/html": [
       "<div>\n",
       "<style scoped>\n",
       "    .dataframe tbody tr th:only-of-type {\n",
       "        vertical-align: middle;\n",
       "    }\n",
       "\n",
       "    .dataframe tbody tr th {\n",
       "        vertical-align: top;\n",
       "    }\n",
       "\n",
       "    .dataframe thead th {\n",
       "        text-align: right;\n",
       "    }\n",
       "</style>\n",
       "<table border=\"1\" class=\"dataframe\">\n",
       "  <thead>\n",
       "    <tr style=\"text-align: right;\">\n",
       "      <th></th>\n",
       "      <th>index</th>\n",
       "      <th>Mandal_Nam</th>\n",
       "      <th>Dist_Name</th>\n",
       "      <th>geometry</th>\n",
       "      <th>ModifiedDateTime</th>\n",
       "      <th>NO2</th>\n",
       "      <th>PM2.5</th>\n",
       "      <th>BA</th>\n",
       "      <th>SSM</th>\n",
       "      <th>ST_mean</th>\n",
       "      <th>...</th>\n",
       "      <th>RWI_min</th>\n",
       "      <th>RWI_percentile_90</th>\n",
       "      <th>Soil Type</th>\n",
       "      <th>Season</th>\n",
       "      <th>POP_median</th>\n",
       "      <th>RWI_median</th>\n",
       "      <th>time_to_rur_median</th>\n",
       "      <th>ST_median</th>\n",
       "      <th>AOT_median</th>\n",
       "      <th>PRE_median</th>\n",
       "    </tr>\n",
       "  </thead>\n",
       "  <tbody>\n",
       "    <tr>\n",
       "      <th>0</th>\n",
       "      <td>0</td>\n",
       "      <td>Abdullapurmet</td>\n",
       "      <td>Rangareddy</td>\n",
       "      <td>POLYGON ((78.59020512800009 17.34506113200013,...</td>\n",
       "      <td>2015-01-01</td>\n",
       "      <td>205.954725</td>\n",
       "      <td>46.725000</td>\n",
       "      <td>0.15</td>\n",
       "      <td>NaN</td>\n",
       "      <td>32.310774</td>\n",
       "      <td>...</td>\n",
       "      <td>-0.121311</td>\n",
       "      <td>0.713832</td>\n",
       "      <td>Chromic Luvisols</td>\n",
       "      <td>None</td>\n",
       "      <td>570.191162</td>\n",
       "      <td>0.484890</td>\n",
       "      <td>8.0</td>\n",
       "      <td>32.854759</td>\n",
       "      <td>0.344488</td>\n",
       "      <td>0.0</td>\n",
       "    </tr>\n",
       "    <tr>\n",
       "      <th>1</th>\n",
       "      <td>1</td>\n",
       "      <td>Achampet</td>\n",
       "      <td>Nagarkurnool</td>\n",
       "      <td>POLYGON ((78.91204436700008 16.54875844100007,...</td>\n",
       "      <td>2015-01-01</td>\n",
       "      <td>98.706412</td>\n",
       "      <td>33.335714</td>\n",
       "      <td>0.60</td>\n",
       "      <td>NaN</td>\n",
       "      <td>31.586830</td>\n",
       "      <td>...</td>\n",
       "      <td>-0.791279</td>\n",
       "      <td>-0.152916</td>\n",
       "      <td>Lithosols</td>\n",
       "      <td>None</td>\n",
       "      <td>94.313026</td>\n",
       "      <td>-0.246196</td>\n",
       "      <td>13.0</td>\n",
       "      <td>31.784624</td>\n",
       "      <td>0.218504</td>\n",
       "      <td>0.0</td>\n",
       "    </tr>\n",
       "    <tr>\n",
       "      <th>2</th>\n",
       "      <td>2</td>\n",
       "      <td>Adavidevulapally</td>\n",
       "      <td>Nalgonda</td>\n",
       "      <td>POLYGON ((79.52429751700004 16.72522135500003,...</td>\n",
       "      <td>2015-01-01</td>\n",
       "      <td>250.984257</td>\n",
       "      <td>50.575001</td>\n",
       "      <td>0.00</td>\n",
       "      <td>NaN</td>\n",
       "      <td>31.488140</td>\n",
       "      <td>...</td>\n",
       "      <td>-0.511713</td>\n",
       "      <td>-0.202731</td>\n",
       "      <td>Pellic Luvisols</td>\n",
       "      <td>None</td>\n",
       "      <td>63.175112</td>\n",
       "      <td>-0.259970</td>\n",
       "      <td>12.0</td>\n",
       "      <td>31.409379</td>\n",
       "      <td>0.608268</td>\n",
       "      <td>0.0</td>\n",
       "    </tr>\n",
       "    <tr>\n",
       "      <th>3</th>\n",
       "      <td>3</td>\n",
       "      <td>Addagudur</td>\n",
       "      <td>Yadadri Bhuvanagiri</td>\n",
       "      <td>POLYGON ((79.36516547400004 17.48429223000005,...</td>\n",
       "      <td>2015-01-01</td>\n",
       "      <td>153.543312</td>\n",
       "      <td>38.425001</td>\n",
       "      <td>0.00</td>\n",
       "      <td>NaN</td>\n",
       "      <td>33.219243</td>\n",
       "      <td>...</td>\n",
       "      <td>-0.419614</td>\n",
       "      <td>-0.097529</td>\n",
       "      <td>Chromic Luvisols</td>\n",
       "      <td>None</td>\n",
       "      <td>141.221695</td>\n",
       "      <td>-0.185715</td>\n",
       "      <td>12.0</td>\n",
       "      <td>33.089455</td>\n",
       "      <td>0.291339</td>\n",
       "      <td>0.0</td>\n",
       "    </tr>\n",
       "    <tr>\n",
       "      <th>4</th>\n",
       "      <td>4</td>\n",
       "      <td>Addakal</td>\n",
       "      <td>Mahabubnagar</td>\n",
       "      <td>POLYGON ((77.92377499000008 16.58074325200005,...</td>\n",
       "      <td>2015-01-01</td>\n",
       "      <td>137.007880</td>\n",
       "      <td>38.500000</td>\n",
       "      <td>0.03</td>\n",
       "      <td>NaN</td>\n",
       "      <td>33.908098</td>\n",
       "      <td>...</td>\n",
       "      <td>-0.567442</td>\n",
       "      <td>-0.034675</td>\n",
       "      <td>Pellic Luvisols</td>\n",
       "      <td>None</td>\n",
       "      <td>185.453217</td>\n",
       "      <td>-0.184086</td>\n",
       "      <td>12.0</td>\n",
       "      <td>33.994997</td>\n",
       "      <td>0.389764</td>\n",
       "      <td>0.0</td>\n",
       "    </tr>\n",
       "  </tbody>\n",
       "</table>\n",
       "<p>5 rows × 39 columns</p>\n",
       "</div>"
      ],
      "text/plain": [
       "   index        Mandal_Nam            Dist_Name  \\\n",
       "0      0     Abdullapurmet           Rangareddy   \n",
       "1      1          Achampet         Nagarkurnool   \n",
       "2      2  Adavidevulapally             Nalgonda   \n",
       "3      3         Addagudur  Yadadri Bhuvanagiri   \n",
       "4      4           Addakal         Mahabubnagar   \n",
       "\n",
       "                                            geometry ModifiedDateTime  \\\n",
       "0  POLYGON ((78.59020512800009 17.34506113200013,...       2015-01-01   \n",
       "1  POLYGON ((78.91204436700008 16.54875844100007,...       2015-01-01   \n",
       "2  POLYGON ((79.52429751700004 16.72522135500003,...       2015-01-01   \n",
       "3  POLYGON ((79.36516547400004 17.48429223000005,...       2015-01-01   \n",
       "4  POLYGON ((77.92377499000008 16.58074325200005,...       2015-01-01   \n",
       "\n",
       "          NO2      PM2.5    BA  SSM    ST_mean  ...   RWI_min  \\\n",
       "0  205.954725  46.725000  0.15  NaN  32.310774  ... -0.121311   \n",
       "1   98.706412  33.335714  0.60  NaN  31.586830  ... -0.791279   \n",
       "2  250.984257  50.575001  0.00  NaN  31.488140  ... -0.511713   \n",
       "3  153.543312  38.425001  0.00  NaN  33.219243  ... -0.419614   \n",
       "4  137.007880  38.500000  0.03  NaN  33.908098  ... -0.567442   \n",
       "\n",
       "   RWI_percentile_90         Soil Type  Season  POP_median  RWI_median  \\\n",
       "0           0.713832  Chromic Luvisols    None  570.191162    0.484890   \n",
       "1          -0.152916         Lithosols    None   94.313026   -0.246196   \n",
       "2          -0.202731   Pellic Luvisols    None   63.175112   -0.259970   \n",
       "3          -0.097529  Chromic Luvisols    None  141.221695   -0.185715   \n",
       "4          -0.034675   Pellic Luvisols    None  185.453217   -0.184086   \n",
       "\n",
       "   time_to_rur_median  ST_median  AOT_median  PRE_median  \n",
       "0                 8.0  32.854759    0.344488         0.0  \n",
       "1                13.0  31.784624    0.218504         0.0  \n",
       "2                12.0  31.409379    0.608268         0.0  \n",
       "3                12.0  33.089455    0.291339         0.0  \n",
       "4                12.0  33.994997    0.389764         0.0  \n",
       "\n",
       "[5 rows x 39 columns]"
      ]
     },
     "execution_count": 91,
     "metadata": {},
     "output_type": "execute_result"
    }
   ],
   "source": [
    "df.head()"
   ]
  },
  {
   "cell_type": "markdown",
   "metadata": {},
   "source": [
    "# Crop types"
   ]
  },
  {
   "cell_type": "code",
   "execution_count": 92,
   "metadata": {},
   "outputs": [],
   "source": [
    "os.chdir('C:\\\\Users\\\\Jesse\\\\OneDrive\\\\Documenten\\\\Data_thesis\\\\crop_area_data')\n",
    "\n",
    "filenames = os.listdir('C:\\\\Users\\\\Jesse\\\\OneDrive\\\\Documenten\\\\Data_thesis\\\\crop_area_data')\n",
    "frames = []\n",
    "\n",
    "for j in filenames:\n",
    "    df1 = pd.read_csv(j)\n",
    "    if j == 'mahabubabad_kharif_2016-17.csv':\n",
    "        df1.columns = ['year', 'season', 'districtName', 'crop', 'mandalName', 'normalAreaSown', 'actualAreaSown']\n",
    "    else:\n",
    "        df1.columns = ['year', 'season', 'districtName', 'mandalName', 'crop','normalAreaSown', 'actualAreaSown']\n",
    "   \n",
    "    frames.append(df1)  \n",
    "        \n",
    "result = pd.concat(frames)\n",
    "\n"
   ]
  },
  {
   "cell_type": "code",
   "execution_count": 93,
   "metadata": {},
   "outputs": [],
   "source": [
    "#Rewite Year column\n",
    "result['Year'] = 0\n",
    "result['year'] = result['year'].astype(str)\n",
    "for i in range(0, len(result)):\n",
    "    result['Year'].iloc[i] = result['year'].iloc[i][0:4]\n",
    "\n",
    "del result['year']"
   ]
  },
  {
   "cell_type": "code",
   "execution_count": 94,
   "metadata": {},
   "outputs": [],
   "source": [
    "result.columns = ['Season', 'Dist_Name', 'Mandal_Nam', 'Crop Type', 'NormalAreaSown', 'ActualAreaSown', 'Year']"
   ]
  },
  {
   "cell_type": "code",
   "execution_count": 95,
   "metadata": {},
   "outputs": [],
   "source": [
    "foods = ['Cashewnut', 'Tobacco', 'Turmeric', 'Acid Lime', 'Ajwam (Vamu)', 'Amala', 'Anumulu', 'Apples', 'Ash Gourd', 'Bajra', 'Banana', 'Batavia', 'Bengal', 'Bhendi', 'Bitter Guard', 'Black', 'Bodakakara', 'Bottle Guard', \n",
    "'Brinjal', 'Cabbage', 'Cauliflower', 'Capsicum', 'Carrot', 'Castor', 'Chikkudu', 'Chillies', 'Coccinea', 'Coconut', 'Coriander', 'Cotton', 'Cow', 'Cucumber', 'Custard Apple', 'Danimma', 'Donda', 'Drum Stick', 'Eucalyptus', \n",
    "'Flowers', 'Jowar', 'Fruit', 'Ginger', 'Gokara', 'Grapes', 'Green', 'Groundnut', 'Guava', 'Horse', 'Horticulture', 'Jowar', 'Jasmine', 'Korra', 'Kothemmeera', 'Maize', 'Mango', 'Mulberry', 'Mustard', 'Onions', 'Other', 'Orange',\n",
    "'Paddy', 'Palm Oil', 'Papaya', 'Peas', 'Plantain', 'Pomegranate', 'Potato', 'Ragi', 'Red', 'Rice', 'Ridge Gourd', 'Rose', 'Safflower', 'Sesamum', 'Soybean', 'Sugarcane', 'Sunflower', 'Tobacco', 'Tomatoes', 'Wheat', 'Total', 'Vegetables']\n",
    "#colors = ['Black', 'Cow', 'Red', 'Green', 'Bengal', 'Horse']"
   ]
  },
  {
   "cell_type": "code",
   "execution_count": 96,
   "metadata": {},
   "outputs": [],
   "source": [
    "#Delete a few uninteresting columns\n",
    "result = result[(result['Crop Type'] != 'Total') & (result['ActualAreaSown']!=0) & (result['Crop Type'] != 'Gross Area Sown') & (result['Crop Type'] != 'Gross Area') & (result['Crop Type'] != 'Gross areas ') & (result['Crop Type'] != 'Grand Total') & (result['Crop Type'] != 'Grand Total') ]\n",
    "result = result.dropna(subset=['ActualAreaSown'])"
   ]
  },
  {
   "cell_type": "code",
   "execution_count": 97,
   "metadata": {},
   "outputs": [],
   "source": [
    "result['ActualAreaSown'] = result['ActualAreaSown']*0.01"
   ]
  },
  {
   "cell_type": "code",
   "execution_count": 98,
   "metadata": {},
   "outputs": [],
   "source": [
    "#Find most similar districts\n",
    "max_score = 0\n",
    "max_district = ''\n",
    "result['Matched District'] = 'None'\n",
    "\n",
    "for line in range(0, len(result)):\n",
    "    for district in range(0, len(mandal_boundaries['Dist_Name'].unique())):\n",
    "        score = fuzz.token_set_ratio(mandal_boundaries['Dist_Name'].unique()[district], result['Dist_Name'].iloc[line])\n",
    "        if score>max_score:\n",
    "            max_district = mandal_boundaries['Dist_Name'].unique()[district]\n",
    "            max_score = score\n",
    "\n",
    "    result['Matched District'].iloc[line] = max_district\n",
    "    max_score = 0\n",
    "    max_district = ''\n",
    "        "
   ]
  },
  {
   "cell_type": "code",
   "execution_count": 99,
   "metadata": {},
   "outputs": [],
   "source": [
    "#Change wrong districts by hand\n",
    "for i in range(0, len(result)):\n",
    "    if result['Dist_Name'].iloc[i] == 'Medchal':\n",
    "        result['Matched District'].iloc[i] = 'Medchal_Malkajgiri'\n",
    "    elif result['Dist_Name'].iloc[i] == 'Warangal (Urban)':\n",
    "        result['Matched District'].iloc[i] = 'Warangal_Urban'"
   ]
  },
  {
   "cell_type": "code",
   "execution_count": 100,
   "metadata": {},
   "outputs": [],
   "source": [
    "#Find most similar mandal within the selected district\n",
    "max_score = 0\n",
    "max_mandal = ''\n",
    "result['Matched Mandal'] = 'None'\n",
    "\n",
    "for line in range(0, len(result)):\n",
    "    district = mandal_boundaries[mandal_boundaries['Dist_Name'] == result['Matched District'].iloc[line]]\n",
    "    for mandal in range(0, len(district)):\n",
    "        score = fuzz.token_set_ratio(district['Mandal_Nam'].iloc[mandal], result['Mandal_Nam'].iloc[line])\n",
    "        if score>max_score:\n",
    "            max_mandal = district['Mandal_Nam'].iloc[mandal]\n",
    "            max_score = score\n",
    "\n",
    "    result['Matched Mandal'].iloc[line] = max_mandal\n",
    "    max_score = 0\n",
    "    max_mandal = ''\n",
    "        \n"
   ]
  },
  {
   "cell_type": "code",
   "execution_count": 101,
   "metadata": {},
   "outputs": [],
   "source": [
    "#Find the most similar crop type\n",
    "max_score = 0\n",
    "max_crop = ''\n",
    "result['Matched Crop'] = 'None'\n",
    "\n",
    "for line in range(0, len(result)):\n",
    "    for crop in range(0, len(foods)):\n",
    "        score = fuzz.token_set_ratio(foods[crop], result['Crop Type'].iloc[line])\n",
    "        if score>max_score:\n",
    "            max_crop = foods[crop]\n",
    "            max_score = score\n",
    "\n",
    "    result['Matched Crop'].iloc[line] = max_crop\n",
    "    max_score = 0\n",
    "    max_crop = ''"
   ]
  },
  {
   "cell_type": "code",
   "execution_count": 102,
   "metadata": {},
   "outputs": [],
   "source": [
    "result['Matched Crop'] = result['Matched Crop'].replace('Rice', 'Paddy')\n",
    "result_test = result[['Season', 'Dist_Name', 'Mandal_Nam', 'Year', 'ActualAreaSown', 'Matched Mandal', 'Matched District', 'Matched Crop']]\n"
   ]
  },
  {
   "cell_type": "code",
   "execution_count": 103,
   "metadata": {},
   "outputs": [],
   "source": [
    "pivoted = pd.pivot_table(result_test, values='ActualAreaSown', index=['Season', 'Year', 'Dist_Name', 'Mandal_Nam', 'Matched Mandal', 'Matched District'],\n",
    "                    columns=['Matched Crop'], aggfunc='mean', fill_value=0).reset_index()"
   ]
  },
  {
   "cell_type": "code",
   "execution_count": 104,
   "metadata": {},
   "outputs": [],
   "source": [
    "pivoted.columns = ['Season', 'Year', 'Actual Dist', 'Actual Mandal', 'Mandal_Nam', 'Dist_Name', 'Acid Lime', 'Ajwam (Vamu)', 'Amala', 'Anumulu',\n",
    "       'Apples', 'Ash Gourd', 'Bajra', 'Banana', 'Batavia', 'Bengal', 'Bhendi',\n",
    "       'Bitter Guard', 'Black', 'Bodakakara', 'Bottle Guard', 'Brinjal',\n",
    "       'Cabbage', 'Capsicum', 'Carrot', 'Cashewnut', 'Castor', 'Cauliflower',\n",
    "       'Chikkudu', 'Chillies', 'Coccinea', 'Coriander', 'Cotton', 'Cow',\n",
    "       'Cucumber', 'Custard Apple', 'Danimma', 'Donda', 'Drum Stick',\n",
    "       'Flowers', 'Fruit', 'Ginger', 'Gokara', 'Grapes', 'Green', 'Groundnut',\n",
    "       'Guava', 'Horse', 'Horticulture', 'Jasmine', 'Jowar', 'Korra',\n",
    "       'Kothemmeera', 'Maize', 'Mango', 'Mulberry', 'Mustard', 'Onions',\n",
    "       'Orange', 'Other', 'Paddy', 'Palm Oil', 'Papaya', 'Peas', 'Plantain',\n",
    "       'Pomegranate', 'Potato', 'Ragi', 'Red', 'Ridge Gourd', 'Rose',\n",
    "       'Safflower', 'Sesamum', 'Soybean', 'Sugarcane', 'Sunflower', 'Tobacco',\n",
    "       'Tomatoes', 'Total', 'Turmeric', 'Vegetables', 'Wheat']"
   ]
  },
  {
   "cell_type": "code",
   "execution_count": 105,
   "metadata": {},
   "outputs": [],
   "source": [
    "for a in range(0, len(pivoted)):\n",
    "    #Adilabad\n",
    "    if (pivoted['Dist_Name'].iloc[a] == 'Adilabad') & (pivoted['Actual Mandal'].iloc[a] == 'Adilabad U'):\n",
    "        pivoted['Mandal_Nam'].iloc[a] = 'Adilabad Urban'\n",
    "    #Bhadradri Kothagudem\n",
    "    elif (pivoted['Dist_Name'].iloc[a] == 'Bhadradri Kothagudem') & (pivoted['Actual Mandal'].iloc[a] == 'Onions'):\n",
    "        pivoted['Mandal_Nam'].iloc[a] = 'Unknown'\n",
    "    #Jagtial\n",
    "    elif (pivoted['Dist_Name'].iloc[a] == 'Jagtial') & ((pivoted['Actual Mandal'].iloc[a] == 'Jagtial R') | (pivoted['Actual Mandal'].iloc[a] == 'Jagtial R ')):\n",
    "        pivoted['Mandal_Nam'].iloc[a] = 'Jagityal_Rural'\n",
    "    #Jangoan\n",
    "    elif (pivoted['Dist_Name'].iloc[a] == 'Jangoan') & ((pivoted['Actual Mandal'].iloc[a] == 'Lingal Ghanpur') | (pivoted['Actual Mandal'].iloc[a] == 'Lingala Ghanpur')):\n",
    "        pivoted['Mandal_Nam'].iloc[a] = 'Lingalaghanpur'\n",
    "    elif (pivoted['Dist_Name'].iloc[a] == 'Jangoan') & ((pivoted['Actual Mandal'].iloc[a] == 'Gundala')):\n",
    "        pivoted['Mandal_Nam'].iloc[a] = 'Unknown'\n",
    "    #Jayashankar Bhupalpally\n",
    "    elif  (pivoted['Dist_Name'].iloc[a] == 'Jayashankar Bhupalpally') & ((pivoted['Actual Mandal'].iloc[a] == 'Eturnagaram') |  (pivoted['Actual Mandal'].iloc[a] == 'Eturunagaram') | (pivoted['Actual Mandal'].iloc[a] == 'Kannaigudem') | (pivoted['Actual Mandal'].iloc[a] == 'Mahamutharam') |  (pivoted['Actual Mandal'].iloc[a] == 'Mahamuttaram') | (pivoted['Actual Mandal'].iloc[a] == 'Tadvai') | (pivoted['Actual Mandal'].iloc[a] == 'VENKATAPURAM')|  (pivoted['Actual Mandal'].iloc[a] == 'Venkatapur') | (pivoted['Actual Mandal'].iloc[a] == 'Venkatapur ') | (pivoted['Actual Mandal'].iloc[a] == 'Venkatapuram')|  (pivoted['Actual Mandal'].iloc[a] == 'Venkatapuram ') | (pivoted['Actual Mandal'].iloc[a] == 'Mangapet') | (pivoted['Actual Mandal'].iloc[a] == 'Wajedu') | (pivoted['Actual Mandal'].iloc[a] == 'Govindaraopet')):\n",
    "        pivoted['Mandal_Nam'].iloc[a] = 'Unknown'\n",
    "    #Karimnagar\n",
    "    elif (pivoted['Dist_Name'].iloc[a] == 'Karimnagar') & ((pivoted['Actual Mandal'].iloc[a] == 'Karimnagar (Rural)') | (pivoted['Actual Mandal'].iloc[a] == 'Karimnagar Rural ') | (pivoted['Actual Mandal'].iloc[a] == 'Karimnagar Rural')):\n",
    "        pivoted['Mandal_Nam'].iloc[a] = 'Karimnagar_Rural'\n",
    "    #Khammam \n",
    "    elif (pivoted['Dist_Name'].iloc[a] == 'Khammam') & ((pivoted['Actual Mandal'].iloc[a] == 'Khammam (U)') | (pivoted['Actual Mandal'].iloc[a] == 'Khammam (u)')):\n",
    "        pivoted['Mandal_Nam'].iloc[a] = 'Khammam_Urban'\n",
    "    #Mahabubnagar\n",
    "    elif (pivoted['Dist_Name'].iloc[a] == 'Mahabubnagar') & ((pivoted['Actual Mandal'].iloc[a] == 'Maddur') | (pivoted['Actual Mandal'].iloc[a] == 'Makthal') | (pivoted['Actual Mandal'].iloc[a] == 'Marikal') | (pivoted['Actual Mandal'].iloc[a] == 'Maganoor') | (pivoted['Actual Mandal'].iloc[a] == 'Utkoor')| (pivoted['Actual Mandal'].iloc[a] == 'Utkur') | (pivoted['Actual Mandal'].iloc[a] == 'Damaragidda')| (pivoted['Actual Mandal'].iloc[a] == 'Damargidda') | (pivoted['Actual Mandal'].iloc[a] == 'Dhanwada')| (pivoted['Actual Mandal'].iloc[a] == 'Narva')| (pivoted['Actual Mandal'].iloc[a] == 'Kosgi') | (pivoted['Actual Mandal'].iloc[a] == 'Krishna')| (pivoted['Actual Mandal'].iloc[a] == 'Narayanpet') | (pivoted['Actual Mandal'].iloc[a] == 'Narwa')):\n",
    "        pivoted['Mandal_Nam'].iloc[a] = 'Unknown'\n",
    "    elif (pivoted['Dist_Name'].iloc[a] == 'Mahabubnagar') & ((pivoted['Actual Mandal'].iloc[a] == 'Mahabubnagar ( r )') | (pivoted['Actual Mandal'].iloc[a] == 'Mahabubnagar (r)') | (pivoted['Actual Mandal'].iloc[a] == 'Mahabubnagar(r)')):\n",
    "        pivoted['Mandal_Nam'].iloc[a] = 'Mahabubnagar_Rural'\n",
    "    #Medak\n",
    "    elif (pivoted['Dist_Name'].iloc[a] == 'Medak') & (pivoted['Actual Mandal'].iloc[a] == 'Shankarampet (R)'):\n",
    "        pivoted['Mandal_Nam'].iloc[a] = 'Shankarampet_R'\n",
    "    #Nalgonda\n",
    "    elif (pivoted['Dist_Name'].iloc[a] == 'Nalgonda') & ((pivoted['Actual Mandal'].iloc[a] == 'P a pally') |  (pivoted['Actual Mandal'].iloc[a] == 'P.A.Pally') ):\n",
    "        pivoted['Mandal_Nam'].iloc[a] = 'Peda Adisharla Palli'\n",
    "    #Nirmal\n",
    "    elif (pivoted['Dist_Name'].iloc[a] == 'Nirmal') & (pivoted['Actual Mandal'].iloc[a] == 'Nirmal Rural'):\n",
    "        pivoted['Mandal_Nam'].iloc[a] = 'Nirmal Rural'\n",
    "    #Nizamabad\n",
    "    elif (pivoted['Dist_Name'].iloc[a] == 'Nizamabad') & (pivoted['Actual Mandal'].iloc[a] == 'Yeda Palle'):\n",
    "        pivoted['Mandal_Nam'].iloc[a] = 'Yedapally'\n",
    "    #Peddapalli\n",
    "    elif (pivoted['Dist_Name'].iloc[a] == 'Peddapalli') & ((pivoted['Actual Mandal'].iloc[a] == 'Mutharam manthani')|(pivoted['Actual Mandal'].iloc[a] == 'Mutharam(manthani)')):\n",
    "        pivoted['Mandal_Nam'].iloc[a] = 'Mutharam_Manthani'\n",
    "    #Rajanna Sircilla\n",
    "    elif (pivoted['Dist_Name'].iloc[a] == 'Rajanna Sircilla') & ((pivoted['Actual Mandal'].iloc[a] == 'Vemulawada (R)')|(pivoted['Actual Mandal'].iloc[a] == 'Vemulawada (rural)')|(pivoted['Actual Mandal'].iloc[a] == 'Vemulawada( rural)')):\n",
    "        pivoted['Mandal_Nam'].iloc[a] = 'Vemulawada Rural'\n",
    "    #Rangareddy\n",
    "    elif (pivoted['Dist_Name'].iloc[a] == 'Rangareddy') & ((pivoted['Actual Mandal'].iloc[a] == 'Qutbullahpur')|(pivoted['Actual Mandal'].iloc[a] == 'Quthbullapur')|(pivoted['Actual Mandal'].iloc[a] == 'Yalal')|(pivoted['Actual Mandal'].iloc[a] == 'Malkajgiri')|(pivoted['Actual Mandal'].iloc[a] == 'Pudur')|(pivoted['Actual Mandal'].iloc[a] == 'Kulkacherla')|(pivoted['Actual Mandal'].iloc[a] == 'Pargi')|(pivoted['Actual Mandal'].iloc[a] == 'Gandeed')|(pivoted['Actual Mandal'].iloc[a] == 'Mominpet')|(pivoted['Actual Mandal'].iloc[a] == 'Nawabpet')|(pivoted['Actual Mandal'].iloc[a] == 'Tandur')|(pivoted['Actual Mandal'].iloc[a] == 'Keesara')|(pivoted['Actual Mandal'].iloc[a] == 'Shameerpet')|(pivoted['Actual Mandal'].iloc[a] == 'Shamirpet')|(pivoted['Actual Mandal'].iloc[a] == 'Dharur')|(pivoted['Actual Mandal'].iloc[a] == 'Peddemul')|(pivoted['Actual Mandal'].iloc[a] == 'Uppal')|(pivoted['Actual Mandal'].iloc[a] == 'Ghatkesar')|(pivoted['Actual Mandal'].iloc[a] == 'Vikarabad')|(pivoted['Actual Mandal'].iloc[a] == 'Doma')|(pivoted['Actual Mandal'].iloc[a] == 'Parigi')|(pivoted['Actual Mandal'].iloc[a] == 'Basheerabad')|(pivoted['Actual Mandal'].iloc[a] == 'Marpalle')|(pivoted['Actual Mandal'].iloc[a] == 'Marpally')|(pivoted['Actual Mandal'].iloc[a] == 'Basheerabad')|(pivoted['Actual Mandal'].iloc[a] == 'Bantaram')|(pivoted['Actual Mandal'].iloc[a] == 'Kulkacharla')):\n",
    "        pivoted['Mandal_Nam'].iloc[a] = 'Unknown'\n",
    "    #Sangareddy\n",
    "    elif (pivoted['Dist_Name'].iloc[a] == 'Sangareddy') & ((pivoted['Actual Mandal'].iloc[a] == 'Jagadevpur')|(pivoted['Actual Mandal'].iloc[a] == 'Chinnakodur')|(pivoted['Actual Mandal'].iloc[a] == 'Medak')|(pivoted['Actual Mandal'].iloc[a] == 'Toopran')|(pivoted['Actual Mandal'].iloc[a] == 'Alladurg')|(pivoted['Actual Mandal'].iloc[a] == 'Kulcharam')|(pivoted['Actual Mandal'].iloc[a] == 'Tekmal')|(pivoted['Actual Mandal'].iloc[a] == 'Narsapur')|(pivoted['Actual Mandal'].iloc[a] == 'Yeldurthy')|(pivoted['Actual Mandal'].iloc[a] == 'Nangnoor')|(pivoted['Actual Mandal'].iloc[a] == 'Kowdipally')|(pivoted['Actual Mandal'].iloc[a] == 'Toguta')|(pivoted['Actual Mandal'].iloc[a] == 'Mulugu')|(pivoted['Actual Mandal'].iloc[a] == 'Gajwel')|(pivoted['Actual Mandal'].iloc[a] == 'Wargal')|(pivoted['Actual Mandal'].iloc[a] == 'Dubbak')|(pivoted['Actual Mandal'].iloc[a] == 'Mirdoddi')|(pivoted['Actual Mandal'].iloc[a] == 'Shankarampet-A')|(pivoted['Actual Mandal'].iloc[a] == 'Shankarampet-R')|(pivoted['Actual Mandal'].iloc[a] == 'Doma')|(pivoted['Actual Mandal'].iloc[a] == 'Jogipet')|(pivoted['Actual Mandal'].iloc[a] == 'Papannapet')|(pivoted['Actual Mandal'].iloc[a] == 'Ramayampet')|(pivoted['Actual Mandal'].iloc[a] == 'Shivampet')|(pivoted['Actual Mandal'].iloc[a] == 'Siddipet')|(pivoted['Actual Mandal'].iloc[a] == 'Velimela')|(pivoted['Actual Mandal'].iloc[a] == 'Doulthabad') |(pivoted['Actual Mandal'].iloc[a] == 'Chegunta')):\n",
    "        pivoted['Mandal_Nam'].iloc[a] = 'Unknown'\n",
    "    #Warangal_Urban\n",
    "    elif (pivoted['Dist_Name'].iloc[a] == 'Warangal_Urban') & ((pivoted['Actual Mandal'].iloc[a] == 'Warangal')):\n",
    "        pivoted['Mandal_Nam'].iloc[a] = 'Warangal'\n",
    "    elif (pivoted['Dist_Name'].iloc[a] == 'Warangal_Urban') & ((pivoted['Actual Mandal'].iloc[a] == 'Killa-warangal')):\n",
    "        pivoted['Mandal_Nam'].iloc[a] = 'Khila Warangal'\n",
    "\n"
   ]
  },
  {
   "cell_type": "code",
   "execution_count": 106,
   "metadata": {},
   "outputs": [],
   "source": [
    "matched = pd.merge(pivoted, mandal_boundaries[['index', 'Mandal_Nam', 'Dist_Name']], how = 'inner', on=['Mandal_Nam', 'Dist_Name'])"
   ]
  },
  {
   "cell_type": "code",
   "execution_count": 107,
   "metadata": {},
   "outputs": [],
   "source": [
    "matched_pivots = pd.merge(pivoted, mandal_boundaries[['index', 'Mandal_Nam', 'Dist_Name']], how = 'inner', on=['Mandal_Nam', 'Dist_Name'])\n",
    "all_matched_pivots = pd.merge(pivoted, mandal_boundaries[['index', 'Mandal_Nam', 'Dist_Name']], how = 'left', on=['Mandal_Nam', 'Dist_Name'])\n",
    "all_matched_mandals = pd.merge(pivoted, mandal_boundaries[['index', 'Mandal_Nam', 'Dist_Name']], how = 'right', on=['Mandal_Nam', 'Dist_Name'])"
   ]
  },
  {
   "cell_type": "code",
   "execution_count": 108,
   "metadata": {},
   "outputs": [],
   "source": [
    "unknowns = all_matched_pivots[all_matched_pivots['Mandal_Nam']=='Unknown']\n",
    "missing_mandals = all_matched_mandals[(all_matched_mandals['Actual Dist'].isnull()) &  (all_matched_mandals['Dist_Name']!='Hyderabad')]"
   ]
  },
  {
   "cell_type": "code",
   "execution_count": 109,
   "metadata": {},
   "outputs": [],
   "source": [
    "#Match unknowns from district with the missing mandals\n",
    "max_score = 0\n",
    "max_crop = ''\n",
    "unknowns['Matching Dist'] = 0\n",
    "\n",
    "for line in range(0, len(unknowns)):\n",
    "    for mandals in range(0, len(missing_mandals)):\n",
    "        score = fuzz.token_set_ratio(missing_mandals['Mandal_Nam'].iloc[mandals], unknowns['Actual Mandal'].iloc[line])\n",
    "        if score>max_score:\n",
    "            max_crop = missing_mandals['Mandal_Nam'].iloc[mandals]\n",
    "            dist = missing_mandals['Dist_Name'].iloc[mandals]\n",
    "            max_score = score\n",
    "\n",
    "    unknowns['Mandal_Nam'].iloc[line] = max_crop\n",
    "    unknowns['Matching Dist'].iloc[line] = dist\n",
    "    max_score = 0\n",
    "    max_crop = ''"
   ]
  },
  {
   "cell_type": "code",
   "execution_count": 110,
   "metadata": {},
   "outputs": [],
   "source": [
    "for i in range(0, len(unknowns)):\n",
    "    if (unknowns['Dist_Name'].iloc[i] == 'Bhadradri Kothagudem') & (unknowns['Actual Mandal'].iloc[i] == 'Onions'):\n",
    "        unknowns['Mandal_Nam'].iloc[i]='Unknown'\n",
    "    elif (unknowns['Dist_Name'].iloc[i] == 'Jayashankar Bhupalpally') & ((unknowns['Actual Mandal'].iloc[i] == 'Mahamutharam')|(unknowns['Actual Mandal'].iloc[i] == 'Mahamuttaram')|(unknowns['Actual Mandal'].iloc[i] == 'Wajedu')):\n",
    "        unknowns['Mandal_Nam'].iloc[i]='Unknown'\n",
    "    elif (unknowns['Dist_Name'].iloc[i] == 'Rangareddy') & ((unknowns['Actual Mandal'].iloc[i] == 'Bantaram')|(unknowns['Actual Mandal'].iloc[i] == 'Basheerabad')|(unknowns['Actual Mandal'].iloc[i] == 'Dharur')|(unknowns['Actual Mandal'].iloc[i] == 'Doma')|(unknowns['Actual Mandal'].iloc[i] == 'Gandeed')|(unknowns['Actual Mandal'].iloc[i] == 'Kulkacharla')|(unknowns['Actual Mandal'].iloc[i] == 'Kulkacherla')|(unknowns['Actual Mandal'].iloc[i] == 'Mominpet')|(unknowns['Actual Mandal'].iloc[i] == 'Nawabpet')|(unknowns['Actual Mandal'].iloc[i] == 'Pargi')|(unknowns['Actual Mandal'].iloc[i] == 'Parigi')|(unknowns['Actual Mandal'].iloc[i] == 'Peddemul')|(unknowns['Actual Mandal'].iloc[i] == 'Pudur')|(unknowns['Actual Mandal'].iloc[i] == 'Tandur')|(unknowns['Actual Mandal'].iloc[i] == 'Vikarabad')|(unknowns['Actual Mandal'].iloc[i] == 'Yalal')):\n",
    "        unknowns['Mandal_Nam'].iloc[i]='Unknown'\n",
    "    elif (unknowns['Dist_Name'].iloc[i] == 'Rangareddy') & ((unknowns['Actual Mandal'].iloc[i] == 'Marpalle')):\n",
    "        unknowns['Mandal_Nam'].iloc[i]='Unknown'\n",
    "    elif  (unknowns['Dist_Name'].iloc[i] == 'Sangareddy') &  (unknowns['Actual Mandal'].iloc[i] in ['Alladurg','Chegunta','Chinnakodur','Doulthabad','Dubbak','Gajwel','Jagadevpur','Jogipet','Kowdipally','Kulcharam','Medak','Mirdoddi','Nangnoor','Narsapur','Papannapet','Ramayampet','Shankarampet-A','Shankarampet-R','Shivampet','Siddipet','Tekmal','Toguta','Toopran','Velimela','Wargal','Yeldurthy']):\n",
    "        unknowns['Mandal_Nam'].iloc[i]='Unknown'\n"
   ]
  },
  {
   "cell_type": "code",
   "execution_count": 111,
   "metadata": {},
   "outputs": [],
   "source": [
    "new_adds = unknowns[unknowns['Mandal_Nam']!='Unknown']\n",
    "new_adds['Dist_Name'] = new_adds['Matching Dist']\n",
    "del new_adds['Matching Dist']\n",
    "del new_adds['index']\n",
    "new_unknowns = unknowns[unknowns['Mandal_Nam']=='Unknown']\n",
    "del new_unknowns['Matching Dist']\n",
    "del new_unknowns['index']"
   ]
  },
  {
   "cell_type": "code",
   "execution_count": 112,
   "metadata": {},
   "outputs": [],
   "source": [
    "linked = pd.merge(new_adds, mandal_boundaries[['Dist_Name', 'Mandal_Nam', 'index']], on =['Dist_Name', 'Mandal_Nam'], how='left')\n",
    "matched_pivots = matched_pivots.append(linked)"
   ]
  },
  {
   "cell_type": "code",
   "execution_count": 113,
   "metadata": {},
   "outputs": [],
   "source": [
    "#Match unknowns with all possible mandals\n",
    "max_score = 0\n",
    "max_crop = ''\n",
    "new_unknowns['Matching Dist'] = 0\n",
    "\n",
    "\n",
    "for line in range(0, len(new_unknowns)):\n",
    "    for mandals in range(0, len(mandal_boundaries)):\n",
    "        score = fuzz.token_set_ratio(mandal_boundaries['Mandal_Nam'].iloc[mandals], new_unknowns['Actual Mandal'].iloc[line])\n",
    "        if score>max_score:\n",
    "            max_crop = mandal_boundaries['Mandal_Nam'].iloc[mandals]\n",
    "            dist = mandal_boundaries['Dist_Name'].iloc[mandals]\n",
    "            max_score = score\n",
    "\n",
    "    new_unknowns['Mandal_Nam'].iloc[line] = max_crop\n",
    "    new_unknowns['Matching Dist'].iloc[line] = dist\n",
    "    max_score = 0\n",
    "    max_crop = ''"
   ]
  },
  {
   "cell_type": "code",
   "execution_count": 114,
   "metadata": {},
   "outputs": [],
   "source": [
    "for i in range(0, len(new_unknowns)):\n",
    "    if (new_unknowns['Dist_Name'].iloc[i] == 'Sangareddy') & (new_unknowns['Actual Mandal'].iloc[i] == 'Gandipet'):\n",
    "        new_unknowns['Mandal_Nam'].iloc[i]='Unknown'\n",
    "    elif (new_unknowns['Dist_Name'].iloc[i] == 'Bhadradri Kothagudem') & (new_unknowns['Actual Mandal'].iloc[i] == 'Onions'):\n",
    "        new_unknowns['Mandal_Nam'].iloc[i]='Unknown'\n",
    "    elif (new_unknowns['Dist_Name'].iloc[i] == 'Jayashankar Bhupalpally') & ((new_unknowns['Actual Mandal'].iloc[i] == 'Wajedu') | (new_unknowns['Actual Mandal'].iloc[i] == 'Mahamutharam') | (new_unknowns['Actual Mandal'].iloc[i] == 'Mahamuttaram')):\n",
    "        new_unknowns['Mandal_Nam'].iloc[i]='Unknown'\n",
    "    elif (new_unknowns['Dist_Name'].iloc[i] == 'Sangareddy') & ((new_unknowns['Actual Mandal'].iloc[i] == 'Velimela')):\n",
    "        new_unknowns['Mandal_Nam'].iloc[i]='Unknown'\n",
    "    elif (new_unknowns['Dist_Name'].iloc[i] == 'Sangareddy') & ((new_unknowns['Actual Mandal'].iloc[i] == 'Shankarampet-R')):\n",
    "        new_unknowns['Mandal_Nam'].iloc[i]='Shankarampet_R'\n"
   ]
  },
  {
   "cell_type": "code",
   "execution_count": 115,
   "metadata": {},
   "outputs": [],
   "source": [
    "new_adds2 = new_unknowns[new_unknowns['Mandal_Nam']!='Unknown']\n",
    "new_adds2['Dist_Name'] = new_adds2['Matching Dist']\n",
    "del new_adds2['Matching Dist']\n",
    "new_unknowns2 = new_unknowns[new_unknowns['Mandal_Nam']=='Unknown']\n",
    "del new_unknowns2['Matching Dist']"
   ]
  },
  {
   "cell_type": "code",
   "execution_count": 116,
   "metadata": {},
   "outputs": [],
   "source": [
    "new_linked = pd.merge(new_adds2, mandal_boundaries[['Dist_Name', 'Mandal_Nam', 'index']], on =['Dist_Name', 'Mandal_Nam'], how='left')\n",
    "matched_pivots2 = matched_pivots.append(new_linked)\n"
   ]
  },
  {
   "cell_type": "code",
   "execution_count": 117,
   "metadata": {},
   "outputs": [
    {
     "data": {
      "text/plain": [
       "[13, 34, 37, 220, 265, 579, 584, 585, 586, 587, 588, 591]"
      ]
     },
     "execution_count": 117,
     "metadata": {},
     "output_type": "execute_result"
    }
   ],
   "source": [
    "#Completely Missing Mandals\n",
    "not_found = pd.merge(matched_pivots2, mandal_boundaries[['Dist_Name', 'Mandal_Nam', 'index']], on =['Dist_Name', 'Mandal_Nam', 'index'], how='right')\n",
    "not_found[(not_found['Year'].isnull()) & (not_found['Dist_Name']!='Hyderabad')]['index'].to_list()"
   ]
  },
  {
   "cell_type": "code",
   "execution_count": 118,
   "metadata": {},
   "outputs": [],
   "source": [
    "matched_pivots2 = matched_pivots2.groupby(['index', 'Year', 'Season', 'Mandal_Nam',\n",
    "       'Dist_Name'])['Acid Lime', 'Ajwam (Vamu)', 'Amala', 'Anumulu', 'Apples',\n",
    "       'Ash Gourd', 'Bajra', 'Banana', 'Batavia', 'Bengal', 'Bhendi',\n",
    "       'Bitter Guard', 'Black', 'Bodakakara', 'Bottle Guard', 'Brinjal',\n",
    "       'Cabbage', 'Capsicum', 'Carrot', 'Cashewnut', 'Castor', 'Cauliflower',\n",
    "       'Chikkudu', 'Chillies', 'Coccinea', 'Coriander', 'Cotton', 'Cow',\n",
    "       'Cucumber', 'Custard Apple', 'Danimma', 'Donda', 'Drum Stick',\n",
    "       'Flowers', 'Fruit', 'Ginger', 'Gokara', 'Grapes', 'Green', 'Groundnut',\n",
    "       'Guava', 'Horse', 'Horticulture', 'Jasmine', 'Jowar', 'Korra',\n",
    "       'Kothemmeera', 'Maize', 'Mango', 'Mulberry', 'Mustard', 'Onions',\n",
    "       'Orange', 'Other', 'Paddy', 'Palm Oil', 'Papaya', 'Peas', 'Plantain',\n",
    "       'Pomegranate', 'Potato', 'Ragi', 'Red', 'Ridge Gourd', 'Rose',\n",
    "       'Safflower', 'Sesamum', 'Soybean', 'Sugarcane', 'Sunflower', 'Tobacco',\n",
    "       'Tomatoes', 'Total', 'Turmeric', 'Vegetables', 'Wheat'].sum().reset_index()"
   ]
  },
  {
   "cell_type": "code",
   "execution_count": 119,
   "metadata": {},
   "outputs": [],
   "source": [
    "total = pd.merge(matched_pivots2, mandal_boundaries[['Dist_Name', 'Mandal_Nam', 'index']], on=['Dist_Name', 'Mandal_Nam','index'], how = 'inner')"
   ]
  },
  {
   "cell_type": "code",
   "execution_count": 120,
   "metadata": {},
   "outputs": [],
   "source": [
    "total = total[['Season', 'Year', 'index' , 'Mandal_Nam', 'Dist_Name', 'Paddy', 'Maize', 'Soybean', 'Cotton', 'Chillies', 'Turmeric']]"
   ]
  },
  {
   "cell_type": "code",
   "execution_count": 121,
   "metadata": {},
   "outputs": [],
   "source": [
    "total['Year'] = total['Year'].astype(int)"
   ]
  },
  {
   "cell_type": "code",
   "execution_count": 122,
   "metadata": {},
   "outputs": [],
   "source": [
    "df_total = pd.merge(df, total, on=['index', 'Mandal_Nam', 'Dist_Name', 'Season', 'Year'], how='left')"
   ]
  },
  {
   "cell_type": "code",
   "execution_count": 123,
   "metadata": {},
   "outputs": [],
   "source": [
    "off_season = df_total.loc[df_total.Season == 'None']\n",
    "hyderabad = df_total.loc[df_total['Dist_Name']=='Hyderabad'] "
   ]
  },
  {
   "cell_type": "code",
   "execution_count": 124,
   "metadata": {},
   "outputs": [],
   "source": [
    "off_season[['Paddy', 'Maize', 'Soybean', 'Cotton', 'Chillies', 'Turmeric']] = off_season[['Paddy', 'Maize', 'Soybean', 'Cotton', 'Chillies', 'Turmeric']].fillna(value=0)\n",
    "hyderabad[['Paddy', 'Maize', 'Soybean', 'Cotton', 'Chillies', 'Turmeric']] = hyderabad[['Paddy', 'Maize', 'Soybean', 'Cotton', 'Chillies', 'Turmeric']].fillna(value=0)"
   ]
  },
  {
   "cell_type": "code",
   "execution_count": 125,
   "metadata": {},
   "outputs": [],
   "source": [
    "df_total.loc[df_total.Season == 'None'] = off_season\n",
    "df_total.loc[df_total['Dist_Name']=='Hyderabad'] = hyderabad"
   ]
  },
  {
   "cell_type": "code",
   "execution_count": 126,
   "metadata": {},
   "outputs": [],
   "source": [
    "df_total = df_total.reset_index()\n",
    "del df_total['level_0'] "
   ]
  },
  {
   "cell_type": "code",
   "execution_count": 127,
   "metadata": {},
   "outputs": [],
   "source": [
    "data = df_total[(df_total['ModifiedDateTime']>='2015-01-01') & (df_total['ModifiedDateTime']<'2019-01-01')]"
   ]
  },
  {
   "cell_type": "code",
   "execution_count": 128,
   "metadata": {},
   "outputs": [
    {
     "data": {
      "text/plain": [
       "Index(['index', 'Mandal_Nam', 'Dist_Name', 'geometry', 'ModifiedDateTime',\n",
       "       'NO2', 'PM2.5', 'BA', 'SSM', 'ST_mean', 'ST_percentile_90', 'ST_max',\n",
       "       'ST_min', 'AOT_mean', 'AOT_percentile_90', 'AOT_max', 'AOT_min',\n",
       "       'PRE_mean', 'PRE_percentile_90', 'PRE_max', 'PRE_min', 'Year', 'Month',\n",
       "       'Crops', 'Trees', 'Built Area', 'POP_mean', 'RWI_mean', 'RWI_max',\n",
       "       'RWI_min', 'RWI_percentile_90', 'Soil Type', 'Season', 'POP_median',\n",
       "       'RWI_median', 'time_to_rur_median', 'ST_median', 'AOT_median',\n",
       "       'PRE_median', 'Paddy', 'Maize', 'Soybean', 'Cotton', 'Chillies',\n",
       "       'Turmeric'],\n",
       "      dtype='object')"
      ]
     },
     "execution_count": 128,
     "metadata": {},
     "output_type": "execute_result"
    }
   ],
   "source": [
    "data.columns"
   ]
  },
  {
   "cell_type": "code",
   "execution_count": 129,
   "metadata": {},
   "outputs": [],
   "source": [
    "final_lags = data[['index', 'ModifiedDateTime', 'SSM', 'SSM_median', 'ST_mean', 'ST_max', 'ST_min', 'ST_percentile_90', 'ST_median', 'BA', 'AOT_mean', 'AOT_max', 'AOT_min', 'AOT_median', 'AOT_percentile_90', 'PRE_mean', 'PRE_max', 'PRE_min', 'PRE_percentile_90', 'PRE_median']].groupby([\"index\"])\n",
    "dflist = [lag_by_group(g, final_lags.get_group(g)) for g in final_lags.groups.keys()]\n",
    "lagged_12months = pd.concat(dflist, axis=0).reset_index()\n"
   ]
  },
  {
   "cell_type": "code",
   "execution_count": 130,
   "metadata": {},
   "outputs": [
    {
     "data": {
      "text/plain": [
       "Index(['ModifiedDateTime', 'index', 'SSM', 'ST_mean', 'ST_max', 'ST_min',\n",
       "       'ST_percentile_90', 'ST_median', 'BA', 'AOT_mean', 'AOT_max', 'AOT_min',\n",
       "       'AOT_median', 'AOT_percentile_90', 'PRE_mean', 'PRE_max', 'PRE_min',\n",
       "       'PRE_percentile_90', 'PRE_median', 'group'],\n",
       "      dtype='object')"
      ]
     },
     "execution_count": 130,
     "metadata": {},
     "output_type": "execute_result"
    }
   ],
   "source": [
    "lagged_12months.columns"
   ]
  },
  {
   "cell_type": "code",
   "execution_count": 131,
   "metadata": {},
   "outputs": [],
   "source": [
    "lagged_12months.columns = ['ModifiedDateTime', 'index', 'SSM_lagged', 'SSM_lagged_median', 'ST_lagged', 'ST_max_lagged', 'ST_min_lagged', 'ST_percentile_90_lagged', 'ST_median_lagged', 'BA_lagged', 'AOT_lagged', 'AOT_max_lagged', 'AOT_min_lagged', 'AOT_percentile_90_lagged', 'AOT_median_lagged', 'PRE_lagged', 'PRE_max_lagged', 'PRE_min_lagged', 'PRE_percentile_90_lagged', 'PRE_median_lagged', 'group']"
   ]
  },
  {
   "cell_type": "code",
   "execution_count": 132,
   "metadata": {},
   "outputs": [],
   "source": [
    "lagged_12months = lagged_12months[lagged_12months['ModifiedDateTime']>='2016-01-01']\n",
    "lagged_12months['index'] = lagged_12months['index'].astype(int)"
   ]
  },
  {
   "cell_type": "code",
   "execution_count": 133,
   "metadata": {},
   "outputs": [],
   "source": [
    "final_selected = data[data['ModifiedDateTime']>='2016-01-01']"
   ]
  },
  {
   "cell_type": "code",
   "execution_count": 134,
   "metadata": {},
   "outputs": [],
   "source": [
    "final_df = pd.merge(final_selected, lagged_12months[['ModifiedDateTime', 'index', 'SSM_lagged', 'SSM_lagged_median', 'ST_lagged', 'ST_max_lagged', 'ST_min_lagged', 'ST_percentile_90_lagged', 'ST_median_lagged', 'BA_lagged', 'AOT_lagged', 'AOT_max_lagged', 'AOT_min_lagged', 'AOT_percentile_90_lagged', 'AOT_median_lagged', 'PRE_lagged', 'PRE_max_lagged', 'PRE_min_lagged', 'PRE_percentile_90_lagged', 'PRE_median_lagged']], on=['ModifiedDateTime', 'index'], how='left')"
   ]
  },
  {
   "cell_type": "markdown",
   "metadata": {},
   "source": [
    "Create Soil Type dummies"
   ]
  },
  {
   "cell_type": "code",
   "execution_count": 135,
   "metadata": {},
   "outputs": [],
   "source": [
    "soil_type_dummies = pd.get_dummies(final_df['Soil Type'])"
   ]
  },
  {
   "cell_type": "code",
   "execution_count": 136,
   "metadata": {},
   "outputs": [],
   "source": [
    "final_df = pd.concat([final_df, soil_type_dummies], axis = 1)"
   ]
  },
  {
   "cell_type": "code",
   "execution_count": 137,
   "metadata": {},
   "outputs": [
    {
     "data": {
      "text/plain": [
       "Index(['index', 'Mandal_Nam', 'Dist_Name', 'geometry', 'ModifiedDateTime',\n",
       "       'NO2', 'PM2.5', 'BA', 'SSM', 'ST_mean', 'ST_percentile_90', 'ST_max',\n",
       "       'ST_min', 'AOT_mean', 'AOT_percentile_90', 'AOT_max', 'AOT_min',\n",
       "       'PRE_mean', 'PRE_percentile_90', 'PRE_max', 'PRE_min', 'Year', 'Month',\n",
       "       'Crops', 'Trees', 'Built Area', 'POP_mean', 'RWI_mean', 'RWI_max',\n",
       "       'RWI_min', 'RWI_percentile_90', 'Soil Type', 'Season', 'POP_median',\n",
       "       'RWI_median', 'time_to_rur_median', 'ST_median', 'AOT_median',\n",
       "       'PRE_median', 'Paddy', 'Maize', 'Soybean', 'Cotton', 'Chillies',\n",
       "       'Turmeric', 'SSM_lagged', 'ST_lagged', 'ST_max_lagged', 'ST_min_lagged',\n",
       "       'ST_percentile_90_lagged', 'ST_median_lagged', 'BA_lagged',\n",
       "       'AOT_lagged', 'AOT_max_lagged', 'AOT_min_lagged',\n",
       "       'AOT_percentile_90_lagged', 'AOT_median_lagged', 'PRE_lagged',\n",
       "       'PRE_max_lagged', 'PRE_min_lagged', 'PRE_percentile_90_lagged',\n",
       "       'PRE_median_lagged', 'Chromic Luvisols', 'Chromic Vertisols',\n",
       "       'Eutric Nitosols', 'Lithosols', 'Pellic Luvisols', 'Plinthic Luvisols',\n",
       "       'Vertic Cambisols'],\n",
       "      dtype='object')"
      ]
     },
     "execution_count": 137,
     "metadata": {},
     "output_type": "execute_result"
    }
   ],
   "source": [
    "final_df.columns"
   ]
  },
  {
   "cell_type": "code",
   "execution_count": 138,
   "metadata": {},
   "outputs": [],
   "source": [
    "del final_df['SSM']\n",
    "del final_df['SSM_median']\n",
    "del final_df['ST_mean']\n",
    "del final_df['ST_max']\n",
    "del final_df['ST_min']\n",
    "del final_df['ST_median']\n",
    "del final_df['ST_percentile_90']\n",
    "del final_df['AOT_mean']\n",
    "del final_df['AOT_max']\n",
    "del final_df['AOT_min']\n",
    "del final_df['AOT_median']\n",
    "del final_df['AOT_percentile_90']\n",
    "del final_df['PRE_mean']\n",
    "del final_df['PRE_max']\n",
    "del final_df['PRE_min']\n",
    "del final_df['PRE_median']\n",
    "del final_df['PRE_percentile_90']\n",
    "del final_df['BA']\n",
    "del final_df['geometry']\n",
    "del final_df['Soil Type']"
   ]
  },
  {
   "cell_type": "code",
   "execution_count": 139,
   "metadata": {},
   "outputs": [
    {
     "data": {
      "text/plain": [
       "Index(['index', 'Mandal_Nam', 'Dist_Name', 'ModifiedDateTime', 'NO2', 'PM2.5',\n",
       "       'Year', 'Month', 'Crops', 'Trees', 'Built Area', 'POP_mean', 'RWI_mean',\n",
       "       'RWI_max', 'RWI_min', 'RWI_percentile_90', 'Season', 'POP_median',\n",
       "       'RWI_median', 'time_to_rur_median', 'Paddy', 'Maize', 'Soybean',\n",
       "       'Cotton', 'Chillies', 'Turmeric', 'SSM_lagged', 'ST_lagged',\n",
       "       'ST_max_lagged', 'ST_min_lagged', 'ST_percentile_90_lagged',\n",
       "       'ST_median_lagged', 'BA_lagged', 'AOT_lagged', 'AOT_max_lagged',\n",
       "       'AOT_min_lagged', 'AOT_percentile_90_lagged', 'AOT_median_lagged',\n",
       "       'PRE_lagged', 'PRE_max_lagged', 'PRE_min_lagged',\n",
       "       'PRE_percentile_90_lagged', 'PRE_median_lagged', 'Chromic Luvisols',\n",
       "       'Chromic Vertisols', 'Eutric Nitosols', 'Lithosols', 'Pellic Luvisols',\n",
       "       'Plinthic Luvisols', 'Vertic Cambisols'],\n",
       "      dtype='object')"
      ]
     },
     "execution_count": 139,
     "metadata": {},
     "output_type": "execute_result"
    }
   ],
   "source": [
    "final_df.columns"
   ]
  },
  {
   "cell_type": "code",
   "execution_count": 140,
   "metadata": {},
   "outputs": [],
   "source": [
    "final_df = pd.merge(final_df, mandal_boundaries[['geometry', 'index']], on = ['index'])"
   ]
  },
  {
   "cell_type": "code",
   "execution_count": 141,
   "metadata": {},
   "outputs": [],
   "source": [
    "final_df = gpd.GeoDataFrame(final_df, geometry = final_df.geometry, crs = {'init': 'epsg:4326'}) "
   ]
  },
  {
   "cell_type": "code",
   "execution_count": 142,
   "metadata": {},
   "outputs": [
    {
     "data": {
      "text/html": [
       "<div>\n",
       "<style scoped>\n",
       "    .dataframe tbody tr th:only-of-type {\n",
       "        vertical-align: middle;\n",
       "    }\n",
       "\n",
       "    .dataframe tbody tr th {\n",
       "        vertical-align: top;\n",
       "    }\n",
       "\n",
       "    .dataframe thead th {\n",
       "        text-align: right;\n",
       "    }\n",
       "</style>\n",
       "<table border=\"1\" class=\"dataframe\">\n",
       "  <thead>\n",
       "    <tr style=\"text-align: right;\">\n",
       "      <th></th>\n",
       "      <th>index</th>\n",
       "      <th>Mandal_Nam</th>\n",
       "      <th>Dist_Name</th>\n",
       "      <th>ModifiedDateTime</th>\n",
       "      <th>NO2</th>\n",
       "      <th>PM2.5</th>\n",
       "      <th>Year</th>\n",
       "      <th>Month</th>\n",
       "      <th>Crops</th>\n",
       "      <th>Trees</th>\n",
       "      <th>...</th>\n",
       "      <th>PRE_percentile_90_lagged</th>\n",
       "      <th>PRE_median_lagged</th>\n",
       "      <th>Chromic Luvisols</th>\n",
       "      <th>Chromic Vertisols</th>\n",
       "      <th>Eutric Nitosols</th>\n",
       "      <th>Lithosols</th>\n",
       "      <th>Pellic Luvisols</th>\n",
       "      <th>Plinthic Luvisols</th>\n",
       "      <th>Vertic Cambisols</th>\n",
       "      <th>geometry</th>\n",
       "    </tr>\n",
       "  </thead>\n",
       "  <tbody>\n",
       "    <tr>\n",
       "      <th>0</th>\n",
       "      <td>0</td>\n",
       "      <td>Abdullapurmet</td>\n",
       "      <td>Rangareddy</td>\n",
       "      <td>2016-01-01</td>\n",
       "      <td>238.435040</td>\n",
       "      <td>47.6750</td>\n",
       "      <td>2016</td>\n",
       "      <td>1</td>\n",
       "      <td>84.998</td>\n",
       "      <td>5.2694</td>\n",
       "      <td>...</td>\n",
       "      <td>0.000000</td>\n",
       "      <td>0.000000</td>\n",
       "      <td>1</td>\n",
       "      <td>0</td>\n",
       "      <td>0</td>\n",
       "      <td>0</td>\n",
       "      <td>0</td>\n",
       "      <td>0</td>\n",
       "      <td>0</td>\n",
       "      <td>POLYGON ((78.59021 17.34506, 78.59009 17.34537...</td>\n",
       "    </tr>\n",
       "    <tr>\n",
       "      <th>1</th>\n",
       "      <td>0</td>\n",
       "      <td>Abdullapurmet</td>\n",
       "      <td>Rangareddy</td>\n",
       "      <td>2017-01-01</td>\n",
       "      <td>284.202753</td>\n",
       "      <td>53.4500</td>\n",
       "      <td>2017</td>\n",
       "      <td>1</td>\n",
       "      <td>84.998</td>\n",
       "      <td>5.2694</td>\n",
       "      <td>...</td>\n",
       "      <td>0.000000</td>\n",
       "      <td>0.000000</td>\n",
       "      <td>1</td>\n",
       "      <td>0</td>\n",
       "      <td>0</td>\n",
       "      <td>0</td>\n",
       "      <td>0</td>\n",
       "      <td>0</td>\n",
       "      <td>0</td>\n",
       "      <td>POLYGON ((78.59021 17.34506, 78.59009 17.34537...</td>\n",
       "    </tr>\n",
       "    <tr>\n",
       "      <th>2</th>\n",
       "      <td>0</td>\n",
       "      <td>Abdullapurmet</td>\n",
       "      <td>Rangareddy</td>\n",
       "      <td>2018-01-01</td>\n",
       "      <td>282.726379</td>\n",
       "      <td>57.2625</td>\n",
       "      <td>2018</td>\n",
       "      <td>1</td>\n",
       "      <td>80.257</td>\n",
       "      <td>3.8207</td>\n",
       "      <td>...</td>\n",
       "      <td>0.000000</td>\n",
       "      <td>0.000000</td>\n",
       "      <td>1</td>\n",
       "      <td>0</td>\n",
       "      <td>0</td>\n",
       "      <td>0</td>\n",
       "      <td>0</td>\n",
       "      <td>0</td>\n",
       "      <td>0</td>\n",
       "      <td>POLYGON ((78.59021 17.34506, 78.59009 17.34537...</td>\n",
       "    </tr>\n",
       "    <tr>\n",
       "      <th>3</th>\n",
       "      <td>0</td>\n",
       "      <td>Abdullapurmet</td>\n",
       "      <td>Rangareddy</td>\n",
       "      <td>2016-02-01</td>\n",
       "      <td>240.649612</td>\n",
       "      <td>41.2625</td>\n",
       "      <td>2016</td>\n",
       "      <td>2</td>\n",
       "      <td>84.998</td>\n",
       "      <td>5.2694</td>\n",
       "      <td>...</td>\n",
       "      <td>0.284605</td>\n",
       "      <td>0.255540</td>\n",
       "      <td>1</td>\n",
       "      <td>0</td>\n",
       "      <td>0</td>\n",
       "      <td>0</td>\n",
       "      <td>0</td>\n",
       "      <td>0</td>\n",
       "      <td>0</td>\n",
       "      <td>POLYGON ((78.59021 17.34506, 78.59009 17.34537...</td>\n",
       "    </tr>\n",
       "    <tr>\n",
       "      <th>4</th>\n",
       "      <td>0</td>\n",
       "      <td>Abdullapurmet</td>\n",
       "      <td>Rangareddy</td>\n",
       "      <td>2017-02-01</td>\n",
       "      <td>296.751968</td>\n",
       "      <td>40.4500</td>\n",
       "      <td>2017</td>\n",
       "      <td>2</td>\n",
       "      <td>84.998</td>\n",
       "      <td>5.2694</td>\n",
       "      <td>...</td>\n",
       "      <td>0.309042</td>\n",
       "      <td>0.264388</td>\n",
       "      <td>1</td>\n",
       "      <td>0</td>\n",
       "      <td>0</td>\n",
       "      <td>0</td>\n",
       "      <td>0</td>\n",
       "      <td>0</td>\n",
       "      <td>0</td>\n",
       "      <td>POLYGON ((78.59021 17.34506, 78.59009 17.34537...</td>\n",
       "    </tr>\n",
       "  </tbody>\n",
       "</table>\n",
       "<p>5 rows × 51 columns</p>\n",
       "</div>"
      ],
      "text/plain": [
       "   index     Mandal_Nam   Dist_Name ModifiedDateTime         NO2    PM2.5  \\\n",
       "0      0  Abdullapurmet  Rangareddy       2016-01-01  238.435040  47.6750   \n",
       "1      0  Abdullapurmet  Rangareddy       2017-01-01  284.202753  53.4500   \n",
       "2      0  Abdullapurmet  Rangareddy       2018-01-01  282.726379  57.2625   \n",
       "3      0  Abdullapurmet  Rangareddy       2016-02-01  240.649612  41.2625   \n",
       "4      0  Abdullapurmet  Rangareddy       2017-02-01  296.751968  40.4500   \n",
       "\n",
       "   Year  Month   Crops   Trees  ...  PRE_percentile_90_lagged  \\\n",
       "0  2016      1  84.998  5.2694  ...                  0.000000   \n",
       "1  2017      1  84.998  5.2694  ...                  0.000000   \n",
       "2  2018      1  80.257  3.8207  ...                  0.000000   \n",
       "3  2016      2  84.998  5.2694  ...                  0.284605   \n",
       "4  2017      2  84.998  5.2694  ...                  0.309042   \n",
       "\n",
       "   PRE_median_lagged  Chromic Luvisols  Chromic Vertisols  Eutric Nitosols  \\\n",
       "0           0.000000                 1                  0                0   \n",
       "1           0.000000                 1                  0                0   \n",
       "2           0.000000                 1                  0                0   \n",
       "3           0.255540                 1                  0                0   \n",
       "4           0.264388                 1                  0                0   \n",
       "\n",
       "   Lithosols Pellic Luvisols  Plinthic Luvisols  Vertic Cambisols  \\\n",
       "0          0               0                  0                 0   \n",
       "1          0               0                  0                 0   \n",
       "2          0               0                  0                 0   \n",
       "3          0               0                  0                 0   \n",
       "4          0               0                  0                 0   \n",
       "\n",
       "                                            geometry  \n",
       "0  POLYGON ((78.59021 17.34506, 78.59009 17.34537...  \n",
       "1  POLYGON ((78.59021 17.34506, 78.59009 17.34537...  \n",
       "2  POLYGON ((78.59021 17.34506, 78.59009 17.34537...  \n",
       "3  POLYGON ((78.59021 17.34506, 78.59009 17.34537...  \n",
       "4  POLYGON ((78.59021 17.34506, 78.59009 17.34537...  \n",
       "\n",
       "[5 rows x 51 columns]"
      ]
     },
     "execution_count": 142,
     "metadata": {},
     "output_type": "execute_result"
    }
   ],
   "source": [
    "final_df.head()"
   ]
  },
  {
   "cell_type": "code",
   "execution_count": 143,
   "metadata": {},
   "outputs": [
    {
     "data": {
      "text/plain": [
       "Index(['index', 'Mandal_Nam', 'Dist_Name', 'ModifiedDateTime', 'NO2', 'PM2.5',\n",
       "       'Year', 'Month', 'Crops', 'Trees', 'Built Area', 'POP_mean', 'RWI_mean',\n",
       "       'RWI_max', 'RWI_min', 'RWI_percentile_90', 'Season', 'POP_median',\n",
       "       'RWI_median', 'time_to_rur_median', 'Paddy', 'Maize', 'Soybean',\n",
       "       'Cotton', 'Chillies', 'Turmeric', 'SSM_lagged', 'ST_lagged',\n",
       "       'ST_max_lagged', 'ST_min_lagged', 'ST_percentile_90_lagged',\n",
       "       'ST_median_lagged', 'BA_lagged', 'AOT_lagged', 'AOT_max_lagged',\n",
       "       'AOT_min_lagged', 'AOT_percentile_90_lagged', 'AOT_median_lagged',\n",
       "       'PRE_lagged', 'PRE_max_lagged', 'PRE_min_lagged',\n",
       "       'PRE_percentile_90_lagged', 'PRE_median_lagged', 'Chromic Luvisols',\n",
       "       'Chromic Vertisols', 'Eutric Nitosols', 'Lithosols', 'Pellic Luvisols',\n",
       "       'Plinthic Luvisols', 'Vertic Cambisols', 'geometry'],\n",
       "      dtype='object')"
      ]
     },
     "execution_count": 143,
     "metadata": {},
     "output_type": "execute_result"
    }
   ],
   "source": [
    "final_df.columns"
   ]
  },
  {
   "cell_type": "code",
   "execution_count": 144,
   "metadata": {},
   "outputs": [],
   "source": [
    "os.chdir('c:\\\\Users\\\\Jesse\\\\OneDrive\\\\Documenten\\\\Master BAOR\\\\Thesis\\\\GitHub\\\\dicra\\\\analytics\\\\sandbox\\\\notebooks\\\\crop_fires\\\\Model\\\\Data')\n",
    "final_df.to_file('Data_combined.geojson', driver='GeoJSON')"
   ]
  }
 ],
 "metadata": {
  "kernelspec": {
   "display_name": "Python 3.8.11 ('gurobi')",
   "language": "python",
   "name": "python3"
  },
  "language_info": {
   "codemirror_mode": {
    "name": "ipython",
    "version": 3
   },
   "file_extension": ".py",
   "mimetype": "text/x-python",
   "name": "python",
   "nbconvert_exporter": "python",
   "pygments_lexer": "ipython3",
   "version": "3.8.11"
  },
  "orig_nbformat": 4,
  "vscode": {
   "interpreter": {
    "hash": "8137cca2c96495771a6332c43a92746d2e8f2f032dec7e1d4873522724197fcb"
   }
  }
 },
 "nbformat": 4,
 "nbformat_minor": 2
}
