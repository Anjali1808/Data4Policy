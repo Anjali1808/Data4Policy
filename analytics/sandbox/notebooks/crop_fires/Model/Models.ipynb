{
 "cells": [
  {
   "cell_type": "code",
   "execution_count": 188,
   "metadata": {},
   "outputs": [],
   "source": [
    "import numpy as np\n",
    "import os\n",
    "import pandas as pd\n",
    "from sklearn.linear_model import LinearRegression\n",
    "from sklearn.metrics import mean_squared_error\n",
    "from sklearn.ensemble import RandomForestRegressor\n",
    "from sklearn.tree import export_graphviz\n",
    "import pydot\n",
    "import matplotlib.pyplot as plt\n",
    "import datetime\n",
    "from sklearn.preprocessing import MinMaxScaler\n",
    "from sklearn import preprocessing\n",
    "from sklearn.metrics import mean_absolute_error, accuracy_score"
   ]
  },
  {
   "cell_type": "code",
   "execution_count": 189,
   "metadata": {},
   "outputs": [],
   "source": [
    "#https://towardsdatascience.com/timeseries-data-munging-lagging-variables-that-are-distributed-across-multiple-groups-86e0a038460c\n",
    "def lag_by_group(key, value_df):\n",
    "    df = value_df.assign(group = key) # this pandas method returns a copy of the df, with group columns assigned the key value\n",
    "    return (df.sort_values(by=[\"Date\"], ascending=True).set_index([\"Date\"]).shift(12)) # the parenthesis allow you to chain methods and avoid intermediate variable assignment"
   ]
  },
  {
   "cell_type": "code",
   "execution_count": 190,
   "metadata": {},
   "outputs": [],
   "source": [
    "plt.style.use('fivethirtyeight')"
   ]
  },
  {
   "cell_type": "code",
   "execution_count": 191,
   "metadata": {},
   "outputs": [],
   "source": [
    "os.chdir('c:\\\\Users\\\\Jesse\\\\OneDrive\\\\Documenten\\\\Master BAOR\\\\Thesis\\\\GitHub\\\\dicra\\\\analytics\\\\sandbox\\\\notebooks\\\\crop_fires\\\\Model\\\\Preprocessed_Data')\n",
    "NO2_df = pd.read_csv('NO2.csv', index_col = 0)\n",
    "SSM_df = pd.read_csv('SSM.csv', index_col = 0)\n",
    "Soil_Temp_df = pd.read_csv('Soil_Temperature.csv', index_col = 0)\n",
    "Ozon_df =  pd.read_csv('Ozon.csv', index_col = 0)\n",
    "PM25_df = pd.read_csv('PM2.5.csv', index_col = 0)\n",
    "Crops_df = pd.read_csv('crops_dummies.csv', index_col = 0)\n",
    "FRP_df = pd.read_csv('frp_mandals.csv', index_col = 0)\n",
    "Croparea_df = pd.read_csv('mandals_cropsarea.csv', index_col = 0)\n"
   ]
  },
  {
   "cell_type": "code",
   "execution_count": 192,
   "metadata": {},
   "outputs": [],
   "source": [
    "Croparea_df_selected = pd.melt(Croparea_df, id_vars=['index', 'Mandal_Nam', 'Dist_Name'], value_vars=Croparea_df.columns[3:])\n",
    "Croparea_df_selected = Croparea_df_selected.rename(columns={\"variable\": 'Year', 'value': 'Crops'})\n",
    "Croparea_df_selected['Year'] = Croparea_df_selected['Year'].astype(int)"
   ]
  },
  {
   "cell_type": "code",
   "execution_count": 193,
   "metadata": {},
   "outputs": [],
   "source": [
    "FRP_df.columns = ['index', 'Date', 'FRP (MW)']\n",
    "FRP_df_selected = FRP_df[FRP_df['Date']<'2019-01-01']"
   ]
  },
  {
   "cell_type": "code",
   "execution_count": 194,
   "metadata": {},
   "outputs": [],
   "source": [
    "SSM_df_selected = pd.melt(SSM_df, id_vars=['index', 'Mandal_Nam', 'Dist_Name', 'geometry'], value_vars=SSM_df.columns[:-43])\n",
    "SSM_df_selected = SSM_df_selected.rename(columns={\"variable\": 'Date', 'value': 'SSM'})\n"
   ]
  },
  {
   "cell_type": "code",
   "execution_count": 195,
   "metadata": {},
   "outputs": [],
   "source": [
    "NO2_df_selected = pd.melt(NO2_df, id_vars=['index', 'Mandal_Nam', 'Dist_Name', 'geometry'], value_vars=NO2_df.columns[:-36])\n",
    "NO2_df_selected = NO2_df_selected.rename(columns={\"variable\": 'Date', 'value': 'NO2 (Dobson Units)'})"
   ]
  },
  {
   "cell_type": "code",
   "execution_count": 196,
   "metadata": {},
   "outputs": [],
   "source": [
    "Soil_Temp_df_selected = pd.melt(Soil_Temp_df, id_vars=['index', 'Mandal_Nam', 'Dist_Name', 'geometry'], value_vars=Soil_Temp_df.columns[:-36])\n",
    "Soil_Temp_df_selected = Soil_Temp_df_selected.rename(columns={\"variable\": 'Date', 'value': 'Soil Temperature (Celcius)'})\n"
   ]
  },
  {
   "cell_type": "code",
   "execution_count": 197,
   "metadata": {},
   "outputs": [],
   "source": [
    "Ozon_df_selected = pd.melt(Ozon_df, id_vars=['index', 'Mandal_Nam', 'Dist_Name', 'geometry'], value_vars=Ozon_df.columns[:-36])\n",
    "Ozon_df_selected = Ozon_df_selected.rename(columns={\"variable\": 'Date', 'value': 'Ozon (Billion Molecules/mm2)'})"
   ]
  },
  {
   "cell_type": "code",
   "execution_count": 198,
   "metadata": {},
   "outputs": [],
   "source": [
    "PM25_df_selected = pd.melt(PM25_df, id_vars=['index', 'Mandal_Nam', 'Dist_Name', 'geometry'], value_vars=PM25_df.columns[:-24])\n",
    "PM25_df_selected = PM25_df_selected.rename(columns={\"variable\": 'Date', 'value': 'PM2.5 (ug/m3)'})"
   ]
  },
  {
   "cell_type": "code",
   "execution_count": 199,
   "metadata": {},
   "outputs": [
    {
     "data": {
      "text/plain": [
       "(24432, 26640, 28416, 28416, 28416, 28416)"
      ]
     },
     "execution_count": 199,
     "metadata": {},
     "output_type": "execute_result"
    }
   ],
   "source": [
    "len(FRP_df_selected), len(SSM_df_selected), len(NO2_df_selected), len(Soil_Temp_df_selected), len(Ozon_df_selected), len(PM25_df_selected)"
   ]
  },
  {
   "cell_type": "code",
   "execution_count": 200,
   "metadata": {},
   "outputs": [],
   "source": [
    "total = pd.concat([NO2_df_selected, Soil_Temp_df_selected['Soil Temperature (Celcius)'], Ozon_df_selected['Ozon (Billion Molecules/mm2)'], PM25_df_selected['PM2.5 (ug/m3)']], axis=1)\n",
    "total = pd.merge(total, SSM_df_selected[['index', 'Date', 'SSM']], on=['index', 'Date'], how = 'left')\n",
    "total = pd.merge(total, FRP_df_selected[['index', 'Date', 'FRP (MW)']], on=['index', 'Date'], how = 'left')\n",
    "total['FRP (MW)'] = total['FRP (MW)'].fillna(0)\n",
    "\n",
    "total['Date'] =  pd.to_datetime(total['Date'])\n",
    "total['Year'] = (total['Date']).dt.year\n",
    "total['Month'] = (total['Date']).dt.month\n",
    "\n",
    "total['Year'] = total['Year'].astype(int)\n",
    "total['Month'] = total['Month'].astype(int)\n",
    "\n",
    "total = pd.merge(total, Croparea_df_selected[['index', 'Year', 'Crops']], on=['index', 'Year'], how = 'left')"
   ]
  },
  {
   "cell_type": "code",
   "execution_count": 201,
   "metadata": {},
   "outputs": [
    {
     "name": "stderr",
     "output_type": "stream",
     "text": [
      "c:\\Users\\Jesse\\Anaconda3\\envs\\gurobi\\lib\\site-packages\\pandas\\core\\indexing.py:1732: SettingWithCopyWarning: \n",
      "A value is trying to be set on a copy of a slice from a DataFrame\n",
      "\n",
      "See the caveats in the documentation: https://pandas.pydata.org/pandas-docs/stable/user_guide/indexing.html#returning-a-view-versus-a-copy\n",
      "  self._setitem_single_block(indexer, value, name)\n"
     ]
    }
   ],
   "source": [
    "total['Kharif'] = 0\n",
    "total['Rabi'] = 0\n",
    "\n",
    "for i in range(0, len(total)):\n",
    "    if (total['Month'].iloc[i] == 5) | (total['Month'].iloc[i] == 6) | (total['Month'].iloc[i] == 7):\n",
    "        total['Rabi'].iloc[i] = 1\n",
    "    elif (total['Month'].iloc[i] == 9) | (total['Month'].iloc[i] == 10):\n",
    "        total['Kharif'].iloc[i] = 1 "
   ]
  },
  {
   "cell_type": "code",
   "execution_count": 202,
   "metadata": {},
   "outputs": [],
   "source": [
    "crops = Crops_df.columns[4:-2]"
   ]
  },
  {
   "cell_type": "code",
   "execution_count": 203,
   "metadata": {},
   "outputs": [],
   "source": [
    "total = total.merge(Crops_df, on=['index', 'Dist_Name', 'Mandal_Nam', 'Year', 'Kharif', 'Rabi'], how='outer')\n",
    "total[crops] = total[crops].fillna(0)"
   ]
  },
  {
   "cell_type": "code",
   "execution_count": 204,
   "metadata": {},
   "outputs": [],
   "source": [
    "total_df = total[['index', 'Date',\n",
    "       'NO2 (Dobson Units)', 'Soil Temperature (Celcius)', 'SSM',\n",
    "       'Ozon (Billion Molecules/mm2)', 'PM2.5 (ug/m3)', 'FRP (MW)']].groupby([\"index\"])\n",
    "dflist = [lag_by_group(g, total_df.get_group(g)) for g in total_df.groups.keys()]\n",
    "lagged_12months = pd.concat(dflist, axis=0).reset_index()"
   ]
  },
  {
   "cell_type": "code",
   "execution_count": 205,
   "metadata": {},
   "outputs": [],
   "source": [
    "lagged_12months = lagged_12months[lagged_12months['Date']>='2016-01-01']\n",
    "lagged_12months = lagged_12months.sort_values(by=['Date', 'index'])\n",
    "lagged_12months.columns = ['Date', 'index', 'NO2_12lag', 'Soil_Temp_12lag',\n",
    "       'SSM_12lag', 'Ozon_12lag', 'PM2.5_12lag', 'FRP_12lag', 'group']\n",
    "lagged_12months['index'] = lagged_12months['index'].astype(int)"
   ]
  },
  {
   "cell_type": "code",
   "execution_count": 206,
   "metadata": {},
   "outputs": [],
   "source": [
    "total = total[total['Date']>='2016-01-01']\n",
    "total = total.sort_values(by=['Date', 'index'])"
   ]
  },
  {
   "cell_type": "code",
   "execution_count": 207,
   "metadata": {},
   "outputs": [],
   "source": [
    "total['NO2_12lag'] = lagged_12months['NO2_12lag']\n",
    "total['Soil_Temp_12lag'] = lagged_12months['Soil_Temp_12lag']\n",
    "total['SSM_12lag'] = lagged_12months['SSM_12lag']\n",
    "total['Ozon_12lag'] = lagged_12months['Ozon_12lag']\n",
    "total['PM2.5_12lag'] = lagged_12months['PM2.5_12lag']\n",
    "total['FRP_12lag'] = lagged_12months['FRP_12lag']"
   ]
  },
  {
   "cell_type": "code",
   "execution_count": 208,
   "metadata": {},
   "outputs": [
    {
     "name": "stdout",
     "output_type": "stream",
     "text": [
      "Amount of missing values: 33620\n"
     ]
    }
   ],
   "source": [
    "print('Amount of missing values: ' + str(total.isnull().sum().sum()))"
   ]
  },
  {
   "cell_type": "code",
   "execution_count": 209,
   "metadata": {},
   "outputs": [
    {
     "data": {
      "text/plain": [
       "14397"
      ]
     },
     "execution_count": 209,
     "metadata": {},
     "output_type": "execute_result"
    }
   ],
   "source": [
    "total = total.sort_values(by=['Mandal_Nam','Date'])\n",
    "total = total.dropna()\n",
    "len(total)"
   ]
  },
  {
   "cell_type": "code",
   "execution_count": 210,
   "metadata": {},
   "outputs": [
    {
     "name": "stdout",
     "output_type": "stream",
     "text": [
      "9671 4726\n"
     ]
    }
   ],
   "source": [
    "train = total[total['Date']<'2018']\n",
    "test = total[total['Date']>='2018']\n",
    "print(len(train), len(test))"
   ]
  },
  {
   "cell_type": "code",
   "execution_count": 211,
   "metadata": {},
   "outputs": [],
   "source": [
    "train = train.reset_index()\n",
    "test = test.reset_index()\n",
    "\n",
    "del train['level_0']\n",
    "del test['level_0']"
   ]
  },
  {
   "cell_type": "code",
   "execution_count": 212,
   "metadata": {},
   "outputs": [
    {
     "data": {
      "text/plain": [
       "Index(['index', 'Mandal_Nam', 'Dist_Name', 'geometry', 'Date',\n",
       "       'NO2 (Dobson Units)', 'Soil Temperature (Celcius)',\n",
       "       'Ozon (Billion Molecules/mm2)', 'PM2.5 (ug/m3)', 'SSM', 'FRP (MW)',\n",
       "       'Year', 'Month', 'Crops', 'Kharif', 'Rabi', 'Bengal Gram', 'Castor',\n",
       "       'Chillies', 'Cotton', 'Green Gram', 'Groundnut', 'Jowar', 'Maize',\n",
       "       'Onion', 'Paddy', 'Red Gram', 'Sesamum', 'Soyabean', 'Sugarcane',\n",
       "       'Sunflower', 'NO2_12lag', 'Soil_Temp_12lag', 'SSM_12lag', 'Ozon_12lag',\n",
       "       'PM2.5_12lag', 'FRP_12lag'],\n",
       "      dtype='object')"
      ]
     },
     "execution_count": 212,
     "metadata": {},
     "output_type": "execute_result"
    }
   ],
   "source": [
    "train.columns"
   ]
  },
  {
   "cell_type": "code",
   "execution_count": 213,
   "metadata": {},
   "outputs": [],
   "source": [
    "feature_list = ['Soil_Temp_12lag', 'SSM_12lag', 'Crops']\n",
    "for crop in crops:\n",
    "    feature_list.append(crop)\n",
    "predictors = ['NO2 (Dobson Units)', 'PM2.5 (ug/m3)']"
   ]
  },
  {
   "cell_type": "code",
   "execution_count": 214,
   "metadata": {},
   "outputs": [],
   "source": [
    "normalized_columns = ['NO2 (Dobson Units)', 'Soil Temperature (Celcius)', 'SSM',\n",
    "       'Ozon (Billion Molecules/mm2)', 'PM2.5 (ug/m3)', 'FRP (MW)', 'Crops', 'NO2_12lag',\n",
    "       'Soil_Temp_12lag', 'SSM_12lag', 'Ozon_12lag', 'PM2.5_12lag',\n",
    "       'FRP_12lag', 'Year', 'Month']\n",
    "\n",
    "\n",
    "non_normalized_columns = []\n",
    "\n",
    "for i in train.columns:\n",
    "       if i not in normalized_columns:\n",
    "              non_normalized_columns.append(i)\n"
   ]
  },
  {
   "cell_type": "code",
   "execution_count": 215,
   "metadata": {},
   "outputs": [],
   "source": [
    "scaler_train = MinMaxScaler() \n",
    "scaled_values_train = scaler_train.fit_transform(train[normalized_columns]) \n",
    "train_scaled = pd.DataFrame(scaled_values_train, columns = normalized_columns)\n",
    "train_scaled = pd.concat([train[non_normalized_columns], train_scaled[normalized_columns]], axis=1)\n",
    "\n",
    "scaler_test = MinMaxScaler() \n",
    "scaled_values_test = scaler_test.fit_transform(test[normalized_columns]) \n",
    "test_scaled = pd.DataFrame(scaled_values_test, columns = normalized_columns)\n",
    "test_scaled = pd.concat([test[non_normalized_columns], test_scaled[normalized_columns]], axis=1)\n"
   ]
  },
  {
   "cell_type": "code",
   "execution_count": 216,
   "metadata": {},
   "outputs": [],
   "source": [
    "def subsets (l):\n",
    "    subset_list = []\n",
    "    for i in range(len(l) + 1):\n",
    "        for j in range(i):\n",
    "            subset_list.append(l[j: i])\n",
    "    return subset_list\n"
   ]
  },
  {
   "cell_type": "markdown",
   "metadata": {},
   "source": [
    "# Linear Regression"
   ]
  },
  {
   "cell_type": "code",
   "execution_count": 217,
   "metadata": {},
   "outputs": [],
   "source": [
    "parameter_scores_LR = []\n",
    "\n",
    "for predic in predictors:\n",
    "    for features in subsets(feature_list):\n",
    "        \n",
    "        scaler_train = MinMaxScaler()\n",
    "        scaler_test = MinMaxScaler() \n",
    "\n",
    "        x_train = np.array(train[features])\n",
    "        x_test = np.array(test[features])\n",
    "        x_train_scaled = scaler_train.fit_transform(x_train) \n",
    "        x_test_scaled = scaler_test.fit_transform(x_test) \n",
    "\n",
    "        y_train = np.array(train[predic])\n",
    "        y_test = np.array(test[predic])\n",
    "        y_train = y_train.reshape(-1, 1)\n",
    "        y_test = y_test.reshape(-1, 1)\n",
    "        y_train_scaled = scaler_train.fit_transform(y_train) \n",
    "        y_test_scaled = scaler_test.fit_transform(y_test) \n",
    "\n",
    "        model = LinearRegression().fit(x_train_scaled, y_train_scaled)\n",
    "\n",
    "        #Make a prediction on the test data\n",
    "        predictions_scaled = model.predict(x_test_scaled)\n",
    "        predictions_scaled = predictions_scaled.reshape(1,-1)\n",
    "        predictions = scaler_test.inverse_transform(predictions_scaled)\n",
    "        predictions = predictions.reshape(predictions.shape[1],)\n",
    "        #Calculate mean absolute error\n",
    "        MAE = mean_absolute_error(y_test_scaled, predictions)\n",
    "\n",
    "        #Accuracy\n",
    "        errors = abs(predictions - y_test)\n",
    "        mape = 100 * (errors / y_test)\n",
    "        # Calculate and display accuracy\n",
    "        accuracy = 100 - np.mean(mape)\n",
    "\n",
    "\n",
    "        parameter_scores_LR.append((MAE, accuracy, predic, features))"
   ]
  },
  {
   "cell_type": "code",
   "execution_count": 218,
   "metadata": {},
   "outputs": [
    {
     "name": "stdout",
     "output_type": "stream",
     "text": [
      "(42.650468424293344, 59.86120183398779, 'PM2.5 (ug/m3)', ['Soil_Temp_12lag', 'SSM_12lag', 'Crops', 'Bengal Gram', 'Castor', 'Chillies', 'Cotton', 'Green Gram', 'Groundnut', 'Jowar', 'Maize'])\n"
     ]
    }
   ],
   "source": [
    "parameter_scores_LR.sort(key=lambda x: x[0])\n",
    "print(parameter_scores_LR[0])"
   ]
  },
  {
   "cell_type": "code",
   "execution_count": 219,
   "metadata": {},
   "outputs": [],
   "source": [
    "df_LR_results = pd.DataFrame(parameter_scores_LR, columns = ['MAE', 'Accuracy', 'Predictor', 'Features'] )"
   ]
  },
  {
   "cell_type": "code",
   "execution_count": 220,
   "metadata": {},
   "outputs": [
    {
     "data": {
      "text/plain": [
       "['Soil_Temp_12lag',\n",
       " 'SSM_12lag',\n",
       " 'Crops',\n",
       " 'Bengal Gram',\n",
       " 'Castor',\n",
       " 'Chillies',\n",
       " 'Cotton',\n",
       " 'Green Gram',\n",
       " 'Groundnut',\n",
       " 'Jowar',\n",
       " 'Maize']"
      ]
     },
     "execution_count": 220,
     "metadata": {},
     "output_type": "execute_result"
    }
   ],
   "source": [
    "df_LR_results[df_LR_results['Predictor'] == 'PM2.5 (ug/m3)']['Features'].iloc[0]"
   ]
  },
  {
   "cell_type": "code",
   "execution_count": 221,
   "metadata": {},
   "outputs": [
    {
     "data": {
      "text/plain": [
       "['Soil_Temp_12lag',\n",
       " 'SSM_12lag',\n",
       " 'Crops',\n",
       " 'Bengal Gram',\n",
       " 'Castor',\n",
       " 'Chillies',\n",
       " 'Cotton',\n",
       " 'Green Gram',\n",
       " 'Groundnut',\n",
       " 'Jowar',\n",
       " 'Maize']"
      ]
     },
     "execution_count": 221,
     "metadata": {},
     "output_type": "execute_result"
    }
   ],
   "source": [
    "df_LR_results[df_LR_results['Predictor'] == 'NO2 (Dobson Units)']['Features'].iloc[0]"
   ]
  },
  {
   "cell_type": "code",
   "execution_count": 222,
   "metadata": {},
   "outputs": [
    {
     "name": "stderr",
     "output_type": "stream",
     "text": [
      "<ipython-input-222-85b9d92a1fe2>:2: VisibleDeprecationWarning: Creating an ndarray from ragged nested sequences (which is a list-or-tuple of lists-or-tuples-or ndarrays with different lengths or shapes) is deprecated. If you meant to do this, you must specify 'dtype=object' when creating the ndarray.\n",
      "  parameter_scores_LR = np.array(parameter_scores_LR)\n"
     ]
    }
   ],
   "source": [
    "os.chdir('c:\\\\Users\\\\Jesse\\\\OneDrive\\\\Documenten\\\\Master BAOR\\\\Thesis\\\\GitHub\\\\dicra\\\\analytics\\\\sandbox\\\\notebooks\\\\crop_fires\\\\Model\\\\Results')\n",
    "parameter_scores_LR = np.array(parameter_scores_LR)\n",
    "np.save('LR_parameters_scores.npy', parameter_scores_LR)"
   ]
  },
  {
   "cell_type": "code",
   "execution_count": 223,
   "metadata": {},
   "outputs": [],
   "source": [
    "optimal_features = ['Soil_Temp_12lag', 'SSM_12lag', 'Crops', 'Bengal Gram', 'Castor', 'Chillies', 'Cotton', 'Green Gram', 'Groundnut', 'Jowar', 'Maize']\n",
    "optimal_predictor = 'PM2.5 (ug/m3)'\n",
    "\n",
    "x_train_scaled = np.array(train_scaled[optimal_features])\n",
    "x_test_scaled = np.array(test_scaled[optimal_features])\n",
    "#x_test_scaled = x_test_scaled.reshape(1, -1)\n",
    "\n",
    "y_train_scaled = np.array(train_scaled[optimal_predictor])\n",
    "y_test_scaled = np.array(test_scaled[optimal_predictor])\n",
    "#y_test_scaled = y_test_scaled.reshape(1, -1)"
   ]
  },
  {
   "cell_type": "code",
   "execution_count": 224,
   "metadata": {},
   "outputs": [],
   "source": [
    "scaler_train = MinMaxScaler()\n",
    "scaler_test = MinMaxScaler() \n",
    "\n",
    "x_train = np.array(train[optimal_features])\n",
    "x_test = np.array(test[optimal_features])\n",
    "x_train_scaled = scaler_train.fit_transform(x_train) \n",
    "x_test_scaled = scaler_test.fit_transform(x_test) \n",
    "\n",
    "y_train = np.array(train[optimal_predictor])\n",
    "y_test = np.array(test[optimal_predictor])\n",
    "y_train = y_train.reshape(-1, 1)\n",
    "y_test = y_test.reshape(-1, 1)\n",
    "y_train_scaled = scaler_train.fit_transform(y_train) \n",
    "y_test_scaled = scaler_test.fit_transform(y_test) "
   ]
  },
  {
   "cell_type": "code",
   "execution_count": 225,
   "metadata": {},
   "outputs": [],
   "source": [
    "model = LinearRegression().fit(x_train_scaled, y_train_scaled)"
   ]
  },
  {
   "cell_type": "code",
   "execution_count": 226,
   "metadata": {},
   "outputs": [
    {
     "name": "stdout",
     "output_type": "stream",
     "text": [
      "coefficient of determination: 0.09289194425441982\n",
      "intercept: [0.43540026]\n",
      "Slopes:\n",
      "Soil_Temp_12lag: 0.005263837167364541\n",
      "SSM_12lag: 0.0030426230326964197\n",
      "Crops: -0.07341371146106733\n",
      "Bengal Gram: -0.2003072441248999\n",
      "Castor: -0.03796725688568682\n",
      "Chillies: -0.18905780220274415\n",
      "Cotton: -0.05213053235418958\n",
      "Green Gram: -0.11976705756263925\n",
      "Groundnut: -0.20030567652995354\n",
      "Jowar: -0.16796162412306445\n",
      "Maize: -0.14847503065508014\n"
     ]
    }
   ],
   "source": [
    "r_sq = model.score(x_train_scaled, y_train_scaled)\n",
    "print(f\"coefficient of determination: {r_sq}\")\n",
    "print(f\"intercept: {model.intercept_}\")\n",
    "print(f\"Slopes:\")\n",
    "for i in range(0, len(optimal_features)):\n",
    "    print(optimal_features[i] + ': '+ str(model.coef_[0][i]))"
   ]
  },
  {
   "cell_type": "code",
   "execution_count": 227,
   "metadata": {},
   "outputs": [],
   "source": [
    "y_pred_scaled = model.predict(x_test_scaled)\n",
    "y_pred_scaled = y_pred_scaled.reshape(1, -1)\n",
    "y_pred = scaler_test.inverse_transform(y_pred_scaled)\n",
    "\n",
    "\n",
    "test['y_pred'] = y_pred[0]"
   ]
  },
  {
   "cell_type": "code",
   "execution_count": 228,
   "metadata": {},
   "outputs": [
    {
     "name": "stdout",
     "output_type": "stream",
     "text": [
      "Mean Absolute Error: 11.37\n",
      "Average PM2.5 (ug/m3): 36.03370520730888\n"
     ]
    }
   ],
   "source": [
    "errors = abs(y_pred - y_test)\n",
    "\n",
    "print('Mean Absolute Error:', round(np.mean(errors), 2))\n",
    "print('Average ' + optimal_predictor + ': ' + str(y_test.mean()))"
   ]
  },
  {
   "cell_type": "code",
   "execution_count": 229,
   "metadata": {},
   "outputs": [
    {
     "name": "stdout",
     "output_type": "stream",
     "text": [
      "Accuracy: 59.86 %.\n"
     ]
    }
   ],
   "source": [
    "# Calculate mean absolute percentage error (MAPE)\n",
    "mape = 100 * (errors / y_test)\n",
    "# Calculate and display accuracy\n",
    "accuracy = 100 - np.mean(mape)\n",
    "print('Accuracy:', round(accuracy, 2), '%.')"
   ]
  },
  {
   "cell_type": "code",
   "execution_count": 230,
   "metadata": {},
   "outputs": [],
   "source": [
    "mandal_name = 'Yellandu'\n",
    "\n",
    "mandal_y_test = np.array(test[test['Mandal_Nam']==mandal_name][optimal_predictor])\n",
    "mandal_x_test = np.array(test[test['Mandal_Nam']==mandal_name][feature_list])\n",
    "\n",
    "mandal_y_pred_test = np.array(test[test['Mandal_Nam']==mandal_name]['y_pred'])"
   ]
  },
  {
   "cell_type": "code",
   "execution_count": 231,
   "metadata": {},
   "outputs": [
    {
     "data": {
      "image/png": "[encoded data removed]",
      "text/plain": [
       "<Figure size 640x480 with 1 Axes>"
      ]
     },
     "metadata": {},
     "output_type": "display_data"
    }
   ],
   "source": [
    "dates = test[test['Mandal_Nam']==mandal_name]['Date']\n",
    "\n",
    "plt.plot(dates, mandal_y_test, label = 'Actual')\n",
    "plt.scatter(dates, mandal_y_pred_test, label='Predicted', color = 'red')\n",
    "plt.legend()\n",
    "plt.title(optimal_predictor + ' Values')\n",
    "plt.ylabel(optimal_predictor)\n",
    "plt.xlabel('Date')\n",
    "plt.show()"
   ]
  },
  {
   "cell_type": "markdown",
   "metadata": {},
   "source": [
    "# Random Forest\n",
    "###### https://towardsdatascience.com/random-forest-in-python-24d0893d51c0"
   ]
  },
  {
   "cell_type": "code",
   "execution_count": 232,
   "metadata": {},
   "outputs": [],
   "source": [
    "#MAE_test = []\n",
    "#MAE_train = []\n",
    "\n",
    "#depth = [5, 10, 15, 20, 25]\n",
    "\n",
    "#for maxdepth in depth:\n",
    "#    if maxdepth%2==0:\n",
    "#        print(maxdepth)\n",
    "#    rf_trial = RandomForestRegressor(n_estimators = 64, random_state = 42, max_depth = maxdepth) \n",
    "#    rf_trial.fit(x_train, y_train)\n",
    "#    predictions_train = rf_trial.predict(x_train)\n",
    "#    predictions_test = rf_trial.predict(x_test)\n",
    "#    MAE_train.append(round(np.mean(abs(predictions_train - y_train)), 2))\n",
    "#    MAE_test.append(round(np.mean(abs(predictions_test - y_test)), 2))\n",
    "\n",
    "\n",
    "\n",
    "#plt.plot(depth, MAE_train, label='Train')\n",
    "#plt.plot(depth, MAE_test, label='Test', color='red')\n",
    "#plt.title('MAE Based on the Max Tree Depth')\n",
    "#plt.xlabel('Max Tree Depth')\n",
    "#plt.ylabel('MAE ')\n",
    "#plt.legend()\n",
    "#plt.show()\n"
   ]
  },
  {
   "cell_type": "code",
   "execution_count": 233,
   "metadata": {},
   "outputs": [],
   "source": [
    "depth_min = 3\n",
    "depth_max = 15\n",
    "n_estimators_min = 64\n",
    "n_estimators_max = 65\n",
    "n_estimators = [128]"
   ]
  },
  {
   "cell_type": "code",
   "execution_count": 234,
   "metadata": {},
   "outputs": [],
   "source": [
    "#Investigate every subset of explanatory variables\n",
    "parameter_scores = []\n",
    "\n",
    "for predic in predictors:\n",
    "\n",
    "    for num_trees in n_estimators:\n",
    "\n",
    "        for depth in range(depth_min, depth_max):\n",
    "\n",
    "            for features in subsets(feature_list):\n",
    "                    \n",
    "                x_train = np.array(train[features])\n",
    "                x_test = np.array(test[features])\n",
    "\n",
    "                y_train = np.array(train[predic])\n",
    "                y_test = np.array(test[predic])\n",
    "\n",
    "                clf = RandomForestRegressor(n_estimators=num_trees, max_depth=depth, random_state=0)\n",
    "\n",
    "                #Fit to the training data\n",
    "                clf.fit(x_train, y_train)\n",
    "\n",
    "                #Make a prediction on the test data\n",
    "                predictions = clf.predict(x_test)\n",
    "\n",
    "                #Calculate mean absolute error\n",
    "                MAE = mean_absolute_error(y_test, predictions)\n",
    "\n",
    "                #Accuracy\n",
    "                errors = abs(predictions - y_test)\n",
    "                mape = 100 * (errors / y_test)\n",
    "                # Calculate and display accuracy\n",
    "                accuracy = 100 - np.mean(mape)\n",
    "\n",
    "\n",
    "                parameter_scores.append((MAE, accuracy, depth, num_trees, predic, features))"
   ]
  },
  {
   "cell_type": "code",
   "execution_count": 235,
   "metadata": {},
   "outputs": [
    {
     "name": "stdout",
     "output_type": "stream",
     "text": [
      "(7.665176983905532, 76.98512377668686, 14, 128, 'PM2.5 (ug/m3)', ['Soil_Temp_12lag', 'SSM_12lag', 'Crops', 'Bengal Gram', 'Castor', 'Chillies', 'Cotton', 'Green Gram', 'Groundnut', 'Jowar', 'Maize', 'Onion', 'Paddy', 'Red Gram', 'Sesamum', 'Soyabean'])\n"
     ]
    }
   ],
   "source": [
    "parameter_scores.sort(key=lambda x: x[0])\n",
    "print(parameter_scores[0])"
   ]
  },
  {
   "cell_type": "markdown",
   "metadata": {},
   "source": []
  },
  {
   "cell_type": "code",
   "execution_count": 236,
   "metadata": {},
   "outputs": [],
   "source": [
    "#With Month: (4.863297988637786, 86.82453373715869, 13, 128, 'PM2.5 (ug/m3)', ['Soil_Temp_12lag', 'SSM_12lag', 'Crops', 'Month', 'Bengal Gram', 'Castor', 'Chillies', 'Cotton', 'Green Gram', 'Groundnut', 'Jowar', 'Maize', 'Onion', 'Paddy'])\n",
    "#Without Month: (7.139011176541303, 78.76802708006134, 13, 128, 'PM2.5 (ug/m3)', ['Kharif', 'Rabi', 'Soil_Temp_12lag', 'SSM_12lag', 'Crops', 'Bengal Gram', 'Castor', 'Chillies', 'Cotton', 'Green Gram', 'Groundnut', 'Jowar', 'Maize', 'Onion', 'Paddy', 'Red Gram', 'Sesamum', 'Soyabean', 'Sugarcane']"
   ]
  },
  {
   "cell_type": "code",
   "execution_count": 237,
   "metadata": {},
   "outputs": [],
   "source": [
    "df_RF_results = pd.DataFrame(parameter_scores, columns = ['MAE', 'Accuracy', 'Tree Depth', 'Number of Trees', 'Predictor', 'Features'] )"
   ]
  },
  {
   "cell_type": "code",
   "execution_count": 263,
   "metadata": {},
   "outputs": [
    {
     "data": {
      "text/html": [
       "<div>\n",
       "<style scoped>\n",
       "    .dataframe tbody tr th:only-of-type {\n",
       "        vertical-align: middle;\n",
       "    }\n",
       "\n",
       "    .dataframe tbody tr th {\n",
       "        vertical-align: top;\n",
       "    }\n",
       "\n",
       "    .dataframe thead th {\n",
       "        text-align: right;\n",
       "    }\n",
       "</style>\n",
       "<table border=\"1\" class=\"dataframe\">\n",
       "  <thead>\n",
       "    <tr style=\"text-align: right;\">\n",
       "      <th></th>\n",
       "      <th>MAE</th>\n",
       "      <th>Accuracy</th>\n",
       "      <th>Tree Depth</th>\n",
       "      <th>Number of Trees</th>\n",
       "      <th>Predictor</th>\n",
       "      <th>Features</th>\n",
       "    </tr>\n",
       "  </thead>\n",
       "  <tbody>\n",
       "    <tr>\n",
       "      <th>0</th>\n",
       "      <td>7.665177</td>\n",
       "      <td>76.985124</td>\n",
       "      <td>14</td>\n",
       "      <td>128</td>\n",
       "      <td>PM2.5 (ug/m3)</td>\n",
       "      <td>[Soil_Temp_12lag, SSM_12lag, Crops, Bengal Gra...</td>\n",
       "    </tr>\n",
       "    <tr>\n",
       "      <th>1</th>\n",
       "      <td>7.666261</td>\n",
       "      <td>76.975333</td>\n",
       "      <td>14</td>\n",
       "      <td>128</td>\n",
       "      <td>PM2.5 (ug/m3)</td>\n",
       "      <td>[Soil_Temp_12lag, SSM_12lag, Crops, Bengal Gra...</td>\n",
       "    </tr>\n",
       "    <tr>\n",
       "      <th>2</th>\n",
       "      <td>7.666400</td>\n",
       "      <td>76.996502</td>\n",
       "      <td>14</td>\n",
       "      <td>128</td>\n",
       "      <td>PM2.5 (ug/m3)</td>\n",
       "      <td>[Soil_Temp_12lag, SSM_12lag, Crops, Bengal Gra...</td>\n",
       "    </tr>\n",
       "    <tr>\n",
       "      <th>3</th>\n",
       "      <td>7.668107</td>\n",
       "      <td>76.987902</td>\n",
       "      <td>14</td>\n",
       "      <td>128</td>\n",
       "      <td>PM2.5 (ug/m3)</td>\n",
       "      <td>[Soil_Temp_12lag, SSM_12lag, Crops, Bengal Gra...</td>\n",
       "    </tr>\n",
       "    <tr>\n",
       "      <th>4</th>\n",
       "      <td>7.668653</td>\n",
       "      <td>76.990335</td>\n",
       "      <td>13</td>\n",
       "      <td>128</td>\n",
       "      <td>PM2.5 (ug/m3)</td>\n",
       "      <td>[Soil_Temp_12lag, SSM_12lag, Crops, Bengal Gra...</td>\n",
       "    </tr>\n",
       "    <tr>\n",
       "      <th>...</th>\n",
       "      <td>...</td>\n",
       "      <td>...</td>\n",
       "      <td>...</td>\n",
       "      <td>...</td>\n",
       "      <td>...</td>\n",
       "      <td>...</td>\n",
       "    </tr>\n",
       "    <tr>\n",
       "      <th>2047</th>\n",
       "      <td>9.040064</td>\n",
       "      <td>72.474071</td>\n",
       "      <td>13</td>\n",
       "      <td>128</td>\n",
       "      <td>PM2.5 (ug/m3)</td>\n",
       "      <td>[SSM_12lag]</td>\n",
       "    </tr>\n",
       "    <tr>\n",
       "      <th>2048</th>\n",
       "      <td>9.040320</td>\n",
       "      <td>72.522298</td>\n",
       "      <td>13</td>\n",
       "      <td>128</td>\n",
       "      <td>PM2.5 (ug/m3)</td>\n",
       "      <td>[Soil_Temp_12lag, SSM_12lag]</td>\n",
       "    </tr>\n",
       "    <tr>\n",
       "      <th>2049</th>\n",
       "      <td>9.047337</td>\n",
       "      <td>72.465997</td>\n",
       "      <td>14</td>\n",
       "      <td>128</td>\n",
       "      <td>PM2.5 (ug/m3)</td>\n",
       "      <td>[Soil_Temp_12lag]</td>\n",
       "    </tr>\n",
       "    <tr>\n",
       "      <th>2050</th>\n",
       "      <td>9.057719</td>\n",
       "      <td>72.417624</td>\n",
       "      <td>14</td>\n",
       "      <td>128</td>\n",
       "      <td>PM2.5 (ug/m3)</td>\n",
       "      <td>[SSM_12lag]</td>\n",
       "    </tr>\n",
       "    <tr>\n",
       "      <th>2051</th>\n",
       "      <td>9.065834</td>\n",
       "      <td>72.450649</td>\n",
       "      <td>14</td>\n",
       "      <td>128</td>\n",
       "      <td>PM2.5 (ug/m3)</td>\n",
       "      <td>[Soil_Temp_12lag, SSM_12lag]</td>\n",
       "    </tr>\n",
       "  </tbody>\n",
       "</table>\n",
       "<p>2052 rows × 6 columns</p>\n",
       "</div>"
      ],
      "text/plain": [
       "           MAE   Accuracy  Tree Depth  Number of Trees      Predictor  \\\n",
       "0     7.665177  76.985124          14              128  PM2.5 (ug/m3)   \n",
       "1     7.666261  76.975333          14              128  PM2.5 (ug/m3)   \n",
       "2     7.666400  76.996502          14              128  PM2.5 (ug/m3)   \n",
       "3     7.668107  76.987902          14              128  PM2.5 (ug/m3)   \n",
       "4     7.668653  76.990335          13              128  PM2.5 (ug/m3)   \n",
       "...        ...        ...         ...              ...            ...   \n",
       "2047  9.040064  72.474071          13              128  PM2.5 (ug/m3)   \n",
       "2048  9.040320  72.522298          13              128  PM2.5 (ug/m3)   \n",
       "2049  9.047337  72.465997          14              128  PM2.5 (ug/m3)   \n",
       "2050  9.057719  72.417624          14              128  PM2.5 (ug/m3)   \n",
       "2051  9.065834  72.450649          14              128  PM2.5 (ug/m3)   \n",
       "\n",
       "                                               Features  \n",
       "0     [Soil_Temp_12lag, SSM_12lag, Crops, Bengal Gra...  \n",
       "1     [Soil_Temp_12lag, SSM_12lag, Crops, Bengal Gra...  \n",
       "2     [Soil_Temp_12lag, SSM_12lag, Crops, Bengal Gra...  \n",
       "3     [Soil_Temp_12lag, SSM_12lag, Crops, Bengal Gra...  \n",
       "4     [Soil_Temp_12lag, SSM_12lag, Crops, Bengal Gra...  \n",
       "...                                                 ...  \n",
       "2047                                        [SSM_12lag]  \n",
       "2048                       [Soil_Temp_12lag, SSM_12lag]  \n",
       "2049                                  [Soil_Temp_12lag]  \n",
       "2050                                        [SSM_12lag]  \n",
       "2051                       [Soil_Temp_12lag, SSM_12lag]  \n",
       "\n",
       "[2052 rows x 6 columns]"
      ]
     },
     "execution_count": 263,
     "metadata": {},
     "output_type": "execute_result"
    }
   ],
   "source": [
    "df_RF_results[df_RF_results['Predictor'] == 'PM2.5 (ug/m3)']"
   ]
  },
  {
   "cell_type": "code",
   "execution_count": 275,
   "metadata": {},
   "outputs": [
    {
     "data": {
      "text/plain": [
       "['Soil_Temp_12lag',\n",
       " 'SSM_12lag',\n",
       " 'Crops',\n",
       " 'Bengal Gram',\n",
       " 'Castor',\n",
       " 'Chillies',\n",
       " 'Cotton',\n",
       " 'Green Gram',\n",
       " 'Groundnut',\n",
       " 'Jowar']"
      ]
     },
     "execution_count": 275,
     "metadata": {},
     "output_type": "execute_result"
    }
   ],
   "source": [
    "df_RF_results[df_RF_results['Predictor'] == 'NO2 (Dobson Units)']['Features'].iloc[0]"
   ]
  },
  {
   "cell_type": "code",
   "execution_count": 240,
   "metadata": {},
   "outputs": [
    {
     "data": {
      "text/plain": [
       "4104"
      ]
     },
     "execution_count": 240,
     "metadata": {},
     "output_type": "execute_result"
    }
   ],
   "source": [
    "len(parameter_scores)"
   ]
  },
  {
   "cell_type": "code",
   "execution_count": 241,
   "metadata": {},
   "outputs": [
    {
     "name": "stderr",
     "output_type": "stream",
     "text": [
      "<ipython-input-241-14d1203da985>:2: VisibleDeprecationWarning: Creating an ndarray from ragged nested sequences (which is a list-or-tuple of lists-or-tuples-or ndarrays with different lengths or shapes) is deprecated. If you meant to do this, you must specify 'dtype=object' when creating the ndarray.\n",
      "  parameter_scores = np.array(parameter_scores)\n"
     ]
    }
   ],
   "source": [
    "os.chdir('c:\\\\Users\\\\Jesse\\\\OneDrive\\\\Documenten\\\\Master BAOR\\\\Thesis\\\\GitHub\\\\dicra\\\\analytics\\\\sandbox\\\\notebooks\\\\crop_fires\\\\Model\\\\Results')\n",
    "parameter_scores = np.array(parameter_scores)\n",
    "np.save('RF_parameters_scores.npy', parameter_scores)"
   ]
  },
  {
   "cell_type": "code",
   "execution_count": 276,
   "metadata": {},
   "outputs": [],
   "source": [
    "optimal_features = ['Soil_Temp_12lag',\n",
    " 'SSM_12lag',\n",
    " 'Crops',\n",
    " 'Bengal Gram',\n",
    " 'Castor',\n",
    " 'Chillies',\n",
    " 'Cotton',\n",
    " 'Green Gram',\n",
    " 'Groundnut',\n",
    " 'Jowar']\n",
    "optimal_predictor = 'NO2 (Dobson Units)'\n",
    "\n",
    "x_train = np.array(train[optimal_features])\n",
    "x_test = np.array(test[optimal_features])\n",
    "\n",
    "y_train = np.array(train[optimal_predictor])\n",
    "y_test = np.array(test[optimal_predictor])\n"
   ]
  },
  {
   "cell_type": "code",
   "execution_count": 278,
   "metadata": {},
   "outputs": [
    {
     "name": "stdout",
     "output_type": "stream",
     "text": [
      "Mean Absolute Error: 75.39\n",
      "Average NO2 (Dobson Units): 241.29590374241752\n",
      "Accuracy: 60.46 %.\n"
     ]
    }
   ],
   "source": [
    "rf = RandomForestRegressor(n_estimators = 128, random_state = 42, max_depth = 13)  #max_depth can be added\n",
    "\n",
    "y_train = y_train.reshape(len(train),)\n",
    "y_test = y_test.reshape(len(test),)\n",
    "\n",
    "rf.fit(x_train, y_train)\n",
    "\n",
    "predictions = rf.predict(x_test)\n",
    "\n",
    "errors = abs(predictions - y_test)\n",
    "\n",
    "print('Mean Absolute Error:', round(np.mean(errors), 2))\n",
    "print('Average ' + str(optimal_predictor) + ': ' + str(total[optimal_predictor].mean()))\n",
    "\n",
    "#https://towardsdatascience.com/random-forest-in-python-24d0893d51c0\n",
    "\n",
    "# Calculate mean absolute percentage error (MAPE)\n",
    "mape = 100 * (errors / y_test)\n",
    "# Calculate and display accuracy\n",
    "accuracy = 100 - np.mean(mape)\n",
    "print('Accuracy:', round(accuracy, 2), '%.')"
   ]
  },
  {
   "cell_type": "code",
   "execution_count": 279,
   "metadata": {},
   "outputs": [],
   "source": [
    "# Pull out one tree from the forest\n",
    "tree = rf.estimators_[5]\n",
    "# Export the image to a dot file\n",
    "export_graphviz(tree, out_file = 'tree_optimal.dot', feature_names = optimal_features, rounded = True, precision = 1)\n",
    "# Use dot file to create a graph\n",
    "os.chdir('c:\\\\Users\\\\Jesse\\\\OneDrive\\\\Documenten\\\\Master BAOR\\\\Thesis\\\\GitHub\\\\dicra\\\\analytics\\\\sandbox\\\\notebooks\\\\crop_fires\\\\Model\\\\Results')\n",
    "(graph, ) = pydot.graph_from_dot_file('tree_optimal.dot')\n",
    "# Write graph to a png file\n",
    "graph.write_png('tree_optimal.png')"
   ]
  },
  {
   "cell_type": "code",
   "execution_count": 280,
   "metadata": {},
   "outputs": [
    {
     "name": "stdout",
     "output_type": "stream",
     "text": [
      "Variable: Crops                Importance: 0.364034899071743\n",
      "Variable: SSM_12lag            Importance: 0.267827082752226\n",
      "Variable: Soil_Temp_12lag      Importance: 0.244830036419625\n",
      "Variable: Cotton               Importance: 0.071327693938128\n",
      "Variable: Groundnut            Importance: 0.030197135783334\n",
      "Variable: Bengal Gram          Importance: 0.019589420066721\n",
      "Variable: Jowar                Importance: 0.001375180732921\n",
      "Variable: Chillies             Importance: 0.000490197753979\n",
      "Variable: Green Gram           Importance: 0.000324749417245\n",
      "Variable: Castor               Importance: 3.604064078e-06\n"
     ]
    },
    {
     "data": {
      "text/plain": [
       "[None, None, None, None, None, None, None, None, None, None]"
      ]
     },
     "execution_count": 280,
     "metadata": {},
     "output_type": "execute_result"
    }
   ],
   "source": [
    "# Get numerical feature importances\n",
    "importances = list(rf.feature_importances_)\n",
    "# List of tuples with variable and importance\n",
    "feature_importances = [(feature, round(importance, 15)) for feature, importance in zip(optimal_features, importances)]\n",
    "# Sort the feature importances by most important first\n",
    "feature_importances = sorted(feature_importances, key = lambda x: x[1], reverse = True)\n",
    "# Print out the feature and importances \n",
    "[print('Variable: {:20} Importance: {}'.format(*pair)) for pair in feature_importances]"
   ]
  },
  {
   "cell_type": "code",
   "execution_count": 281,
   "metadata": {},
   "outputs": [],
   "source": [
    "importances.sort(reverse=True)"
   ]
  },
  {
   "cell_type": "code",
   "execution_count": 282,
   "metadata": {},
   "outputs": [
    {
     "data": {
      "image/png": "[encoded data removed]",
      "text/plain": [
       "<Figure size 640x480 with 1 Axes>"
      ]
     },
     "metadata": {},
     "output_type": "display_data"
    }
   ],
   "source": [
    "# Import matplotlib for plotting and use magic command for Jupyter Notebooks\n",
    "import matplotlib.pyplot as plt\n",
    "# Set the style\n",
    "# list of x locations for plotting\n",
    "x_values = list(range(len(importances)))\n",
    "# Make a bar chart\n",
    "plt.bar(x_values, importances, orientation = 'vertical')\n",
    "# Tick labels for x axis\n",
    "plt.xticks(x_values, optimal_features, rotation='vertical')\n",
    "# Axis labels and title\n",
    "plt.ylabel('Importance'); plt.xlabel('Variable'); plt.title('Variable Importances')\n",
    "plt.show()"
   ]
  },
  {
   "cell_type": "code",
   "execution_count": 283,
   "metadata": {},
   "outputs": [],
   "source": [
    "mandal_name = 'Aiza'\n",
    "\n",
    "test_mandal = test[test['Mandal_Nam'] == mandal_name]\n",
    "\n",
    "predictions_mandal = rf.predict(np.array(test_mandal[optimal_features]))"
   ]
  },
  {
   "cell_type": "code",
   "execution_count": 284,
   "metadata": {},
   "outputs": [
    {
     "data": {
      "text/plain": [
       "array(['Abdullapurmet', 'Achampet', 'Adavidevulapally', 'Addagudur',\n",
       "       'Addakal', 'Adilabad Rural', 'Adilabad Urban', 'Aiza',\n",
       "       'Akkannapet', 'Alair', 'Alampur', 'Alladurg', 'Allapalli', 'Alwal',\n",
       "       'Amangal', 'Amarchintha', 'Amberpet', 'Ameenpur', 'Ammerpet',\n",
       "       'Amrabad', 'Ananthagiri', 'Andole', 'Annapureddipalle',\n",
       "       'Anthergaon', 'Anumula_Haliya', 'Armoor', 'Asifabad', 'Asifnagar',\n",
       "       'Aswapuram', 'Aswaraopeta', 'Athmakur (M)', 'Atmakur', 'Atmakur_S',\n",
       "       'B.Pochampally', 'Bachannapet', 'Bachupally', 'Bahadurpura',\n",
       "       'Balanagar', 'Balapur', 'Balkonda', 'Balmoor', 'Bandlaguda',\n",
       "       'Banswada', 'Bantwaram', 'Basar', 'Basheerabad', 'Bayyaram',\n",
       "       'Bazarhathnoor', 'Beerpur', 'Bejjanki', 'Bejjur', 'Bela',\n",
       "       'Bellampalle', 'Bhadrachalam', 'Bhainsa', 'Bheemadevarapalli',\n",
       "       'Bheemaram', 'Bheemgal', 'Bheemini', 'Bheempoor', 'Bhiknoor',\n",
       "       'Bhongiri', 'Bhoothpur', 'Bhupalpally', 'Bibinagar', 'Bibipet',\n",
       "       'Bichkunda', 'Bijinapalle', 'Birkoor', 'Boath', 'Bodhan',\n",
       "       'Boinpalli', 'Bommalaramaram', 'Bommaraspeta', 'Bonakal',\n",
       "       'Buggaram', 'Burgampadu', 'Chandampet', 'Chandrugonda', 'Chandur',\n",
       "       'Charakonda', 'Charminar', 'Chegunta', 'Chendurthi',\n",
       "       'Chennaraopet', 'Chennur', 'Cherial', 'Cherla', 'Chevella',\n",
       "       'Chigurumamidi', 'Chilipched', 'Chilkur', 'Chilpur',\n",
       "       'Chinna Chinta Kunta', 'Chinnagudur', 'Chinnakodur', 'Chinnambavi',\n",
       "       'Chintakani', 'Chintalamanepally', 'Chinthala palem',\n",
       "       'Chinthapally', 'Chityal', 'Chivvemla', 'Choppadandi',\n",
       "       'Choutuppal', 'Chowdergudem', 'Chowtakur', 'Chunchupally',\n",
       "       'Dahegaon', 'Damaracherla', 'Damargidda', 'Damera', 'Dammapeta',\n",
       "       'Dandepalle', 'Danthalapalle', 'Dasturabad', 'Devarakonda',\n",
       "       'Devarkadra', 'Devaruppula', 'Dhanwada', 'Dharmapuri', 'Dharmaram',\n",
       "       'Dharmasagar', 'Dharoor', 'Dharpally', 'Dhoolumitta', 'Dichpally',\n",
       "       'Dilawarpur', 'Doma', 'Domakonda', 'Dornakal', 'Doultabad',\n",
       "       'Doulthabad', 'Dubbak', 'Duggondi', 'Dummugudem',\n",
       "       'Dundigal Gandimaisamma', 'Eligaid', 'Elkathurthi', 'Ellandakunta',\n",
       "       'Enkoor', 'Eturnagaram', 'Farooqnagar', 'Gadiguda', 'Gadwal',\n",
       "       'Gajwel', 'Gambhiraopet', 'Gandeed', 'Gandhari', 'Gandipet',\n",
       "       'Gangadhara', 'Gangaram', 'Ganneruvaram', 'Garidepalli', 'Garla',\n",
       "       'Geesugonda', 'Ghanapur_Mulug', 'Ghanpur', 'Ghanpur (Stn)',\n",
       "       'Ghatkesar', 'Ghattu', 'Golkonda', 'Gollapalli', 'Gopalpet',\n",
       "       'Govindaraopet', 'Gudihathnur', 'Gudur', 'Gummadidala', 'Gundala',\n",
       "       'Gundlapally', 'Gurrampode', 'Hajipur', 'Hanamkonda', 'Hanwada',\n",
       "       'Hasanparthy', 'Hathnoora', 'Havelighanpur', 'Hayathnagar',\n",
       "       'Himayatnagar', 'Husnabad', 'Huzur nagar', 'Huzurabad',\n",
       "       'Ibrahimpatnam', 'Ichoda', 'Illanthakunta', 'Inavolu', 'Indalwai',\n",
       "       'Inderavelly', 'Itikyal', 'Jadcherla', 'Jagdevpur',\n",
       "       'Jagityal_Rural', 'Jagtial', 'Jainad', 'Jainoor', 'Jaipur',\n",
       "       'Jajireddigudem', 'Jakranpally', 'Jammikunta', 'Jangoan',\n",
       "       'Jannaram', 'Jharasangam', 'Jinnaram', 'Jukkal', 'Julapalli',\n",
       "       'Julurupad', 'Kaddampeddur', 'Kadthal', 'Kagaznagar', 'Kalher',\n",
       "       'Kalluru', 'Kaloor_Thimmandoddi', 'Kalwakurthy', 'Kamalapur',\n",
       "       'Kamanpur', 'Kamareddy', 'Kamepally', 'Kammarpally', 'Kanagal',\n",
       "       'Kandi', 'Kandukur', 'Kangti', 'Kannaigudem', 'Kannepalli',\n",
       "       'Kapra', 'Karakagudem', 'Karimnagar', 'Karimnagar_Rural',\n",
       "       'Kasipet', 'Kataram', 'Kathlapur', 'Kattangur', 'Keesara',\n",
       "       'Kerameri', 'Kesamudram', 'Keshampeta', 'Kethepally', 'Khaazipet',\n",
       "       'Khairatabad', 'Khammam_Rural', 'Khammam_Urban', 'Khanapur',\n",
       "       'Khila Warangal', 'Kodad', 'Kodair', 'Kodakandla', 'Kodangal',\n",
       "       'Kodimial', 'Koheda', 'Kohir', 'Koilkonda', 'Kollapur',\n",
       "       'Komuravelli', 'Konaraopet', 'Kondamallapally', 'Kondapak',\n",
       "       'Kondapur', 'Kondurg', 'Konijerla', 'Korutla', 'Kosgi', 'Kotagiri',\n",
       "       'Kotapalle', 'Kotepally', 'Kothaguda', 'Kothagudem', 'Kothakota',\n",
       "       'Kothapally', 'Kothur', 'Kouthala', 'Kowdipally', 'Kubeer',\n",
       "       'Kukatpally', 'Kulcharam', 'Kulkacharla', 'Kuntala', 'Kuravi',\n",
       "       'Kusumanchi', 'Laxmanchanda', 'Laxmidevipally', 'Lingal',\n",
       "       'Lingalaghanpur', 'Lingampet', 'Lingapur', 'Lokeshwaram',\n",
       "       'Luxettipet', 'Machareddy', 'Madanapur', 'Maddirala', 'Maddur',\n",
       "       'Madgul', 'Madhira', 'Madnur', 'Madugulapally', 'Maganoor',\n",
       "       'Mahabubabad', 'Mahabubnagar_Rural', 'Mahabubnagar_Urban',\n",
       "       'Mahadevpur', 'Maheswaram', 'Makloor', 'Makthal', 'Maldakal',\n",
       "       'Malharrao', 'Malkajgiri', 'Mallapur', 'Mallial', 'Mamda',\n",
       "       'Manakondur', 'Manchal', 'Mancherial', 'Mandamarri', 'Mangapet',\n",
       "       'Manoharabad', 'Manoor', 'Manopad', 'Manthani', 'Manuguru',\n",
       "       'Maredpally', 'Marikal', 'Maripeda', 'Markook', 'Marpalle',\n",
       "       'Marriguda', 'Masaipet', 'Mattampalli', 'Mavala', 'Medak',\n",
       "       'Medchal', 'Medipalle', 'Medipally', 'Mellachervu', 'Mendora',\n",
       "       'Metpalli', 'Midjil', 'Mirdoddi', 'Miryalaguda', 'Mogudampally',\n",
       "       'Mogullapally', 'Moinabad', 'Mominpet', 'Moosapet', 'Morthad',\n",
       "       'Mosra', 'Motakondur', 'Mothey', 'Mothkur', 'Mudhole', 'Mudigonda',\n",
       "       'Muduchinthalaphally', 'Mugpal', 'Mulakalapally', 'Mulug',\n",
       "       'Munagala', 'Munipally', 'Munugode', 'Mupkal', 'Musheerabad',\n",
       "       'Mustabad', 'Mutharam_Mahadevpur', 'Mutharam_Manthani',\n",
       "       'Nadigudem', 'Nadikuda', 'Nagalgidda', 'Nagar_Kurnool', 'Nagaram',\n",
       "       'Nagi_Reddypet', 'Nakrekal', 'Nalgonda', 'Nallabelli', 'Nampally',\n",
       "       'Nandigama', 'Nandipet', 'Nangnoor', 'Narayanapoor', 'Narayankhed',\n",
       "       'Narayanpet', 'Narayanraopet', 'Narmetta', 'Narnoor', 'Narsampet',\n",
       "       'Narsapur', 'Narsapur_G', 'Narsimhulapet', 'Narsingi', 'Narva',\n",
       "       'Naspur', 'Nasurullabad', 'Navipet', 'Nawabpet', 'Nekkonda',\n",
       "       'Nelakondapally', 'Nellikudur', 'Nennel', 'Neradigonda',\n",
       "       'Nereducherla', 'Neredugommu', 'Nidamanoor', 'Nirmal',\n",
       "       'Nirmal Rural', 'Nizamabad North', 'Nizamabad Rural',\n",
       "       'Nizamabad South', 'Nizampet', 'Nizamsagar', 'Noothankal',\n",
       "       'Nyalkal', 'Odela', 'Padara', 'Palakeedu', 'Palakurthy', 'Palmela',\n",
       "       'Palvancha', 'Pangal', 'Papannapet', 'Pargi', 'Parkal',\n",
       "       'Parvathagiri', 'Patancheruvu', 'Pebbair', 'Peda Adisharla Palli',\n",
       "       'Pedda Kodapgal', 'Peddakothapalle', 'Peddamandaddi', 'Peddapalli',\n",
       "       'Peddavangara', 'Peddavoora', 'Peddemul', 'Pegadapalli', 'Pembi',\n",
       "       'Penchikalpet', 'Penpahad', 'Pentlavelli', 'Penuballi', 'Pinapaka',\n",
       "       'Pitlam', 'Pudur', 'Pulkal', 'Quthbullapur', 'Raghunadhapalem',\n",
       "       'Ragunathpally', 'Raikal', 'Raikode', 'Raiparthy', 'Raipole',\n",
       "       'Rajampet', 'Rajapeta', 'Rajapur', 'Rajendranagar',\n",
       "       'Ramachandrapuram', 'Ramadugu', 'Ramagiri', 'Ramagundam',\n",
       "       'Ramannapet', 'Ramareddy', 'Ramayampet', 'Rebbena', 'Regode',\n",
       "       'Regonda', 'Renjal', 'Revally', 'Rudrangi', 'Rudrur',\n",
       "       'Sadashivnagar', 'Sadasivpet', 'Saidabad', 'Sangareddy', 'Sangem',\n",
       "       'Sarangapur', 'Saroornagar', 'Sathupally', 'Secunderabad',\n",
       "       'Serilingampalle', 'Shabad', 'Shaikpet', 'Shaligouraram',\n",
       "       'Shamirpet', 'Shamshabad', 'Shankarampet_A', 'Shankarampet_R',\n",
       "       'Shankarapatnam', 'Shankarpalle', 'Shayampet', 'Shivampet',\n",
       "       'Siddipet_Rural', 'Siddipet_Urban', 'Singareni', 'Sircilla',\n",
       "       'Sirgapoor', 'Sirikonda', 'Sirpur_T', 'Sirpur_U', 'Soan',\n",
       "       'Srirampur', 'Srirangapur', 'Sujathanagar', 'Sultanabad',\n",
       "       'Suryapet', 'Tadoor', 'Tadvai (Sammakka Sarakka)', 'Tadwai',\n",
       "       'Talakondapally', 'Talamadugu', 'Tamsi', 'Tandur', 'Tanoor',\n",
       "       'Tekmal', 'Tekulapalle', 'Tekumatla', 'Telkapalle', 'Thallada',\n",
       "       'Thangallapalli', 'Tharigoppula', 'Thimmajipeta', 'Thimmapur',\n",
       "       'Thoguta', 'Thorrur', 'Thungathurthy', 'Tipparthy', 'Tirumalagiri',\n",
       "       'Tirumalagiri_Sagar', 'Tirumalayapalem', 'Tirumalgiri', 'Tiryani',\n",
       "       'Toopran', 'Tripuraram', 'Turkapalle_M', 'Undavelly', 'Uppal',\n",
       "       'Uppunuthala', 'Urkonda', 'Utkoor', 'Utnur', 'V_Saidapur',\n",
       "       'Vailpur', 'Valigonda', 'Vangoor', 'Varni', 'Vatpally',\n",
       "       'Veenavanka', 'Veernapalli', 'Velair', 'Veldanda', 'Velgatur',\n",
       "       'Vemanpalle', 'Vemsoor', 'Vemulapally', 'Vemulawada',\n",
       "       'Vemulawada Rural', 'Venkatapur', 'Venkatapuram', 'Vikarabad',\n",
       "       'Waddepally', 'Wanaparthy', 'Wankidi', 'Warangal', 'Wardhannapet',\n",
       "       'Wargal', 'Wazeed', 'Weepangandla', 'Wyra', 'Yacharam',\n",
       "       'Yadagirigutta', 'Yedapally', 'Yelal', 'Yeldurthy', 'Yellandu',\n",
       "       'Yellareddy', 'Yellareddypet', 'Yergatla', 'Yerrupalem',\n",
       "       'Zaffergadh', 'Zahirabad'], dtype=object)"
      ]
     },
     "execution_count": 284,
     "metadata": {},
     "output_type": "execute_result"
    }
   ],
   "source": [
    "test['Mandal_Nam'].unique()"
   ]
  },
  {
   "cell_type": "code",
   "execution_count": 285,
   "metadata": {},
   "outputs": [
    {
     "data": {
      "image/png": "[encoded data removed]",
      "text/plain": [
       "<Figure size 640x480 with 1 Axes>"
      ]
     },
     "metadata": {},
     "output_type": "display_data"
    }
   ],
   "source": [
    "# Dates of training values\n",
    "months = np.array(test_mandal['Month'])\n",
    "days = np.empty(len(months))\n",
    "days.fill(1)\n",
    "years = np.array(test_mandal['Year'])\n",
    "\n",
    "# List and then convert to datetime object\n",
    "dates = [str(int(year)) + '-' + str(int(month)) + '-' + str(int(day)) for year, month, day in zip(years, months, days)]\n",
    "dates = [datetime.datetime.strptime(date, '%Y-%m-%d') for date in dates]\n",
    "\n",
    "# Dataframe with true values and dates\n",
    "true_data = pd.DataFrame(data = {'date': dates, 'actual': test_mandal[optimal_predictor]})\n",
    "\n",
    "# Dates of predictions\n",
    "months = np.array(test_mandal['Month'])\n",
    "days = np.empty(len(months))\n",
    "days.fill(1)\n",
    "years = np.array(test_mandal['Year'])\n",
    "\n",
    "# Column of dates\n",
    "test_dates = [str(int(year)) + '-' + str(int(month)) + '-' + str(int(day)) for year, month, day in zip(years, months, days)]\n",
    "\n",
    "# Convert to datetime objects\n",
    "test_dates = [datetime.datetime.strptime(date, '%Y-%m-%d') for date in test_dates]\n",
    "\n",
    "# Dataframe with predictions and dates\n",
    "predictions_data = pd.DataFrame(data = {'date': test_dates, 'prediction': predictions_mandal})\n",
    "\n",
    "# Plot the actual values\n",
    "plt.plot(true_data['date'], true_data['actual'], 'b-', label = 'actual')\n",
    "\n",
    "# Plot the predicted values\n",
    "plt.plot(predictions_data['date'], predictions_data['prediction'], 'ro', label = 'prediction')\n",
    "plt.xticks(rotation = '60'); \n",
    "plt.legend()\n",
    "\n",
    "# Graph labels\n",
    "plt.xlabel('Date'); plt.ylabel(optimal_predictor); plt.title('Actual and Predicted Values ' + mandal_name)\n",
    "plt.show()"
   ]
  },
  {
   "cell_type": "code",
   "execution_count": 286,
   "metadata": {},
   "outputs": [
    {
     "name": "stdout",
     "output_type": "stream",
     "text": [
      "Mean Absolute Error: 39.63\n"
     ]
    }
   ],
   "source": [
    "errors = abs(predictions_mandal - test_mandal[optimal_predictor])\n",
    "\n",
    "print('Mean Absolute Error:', round(np.mean(errors), 2))"
   ]
  }
 ],
 "metadata": {
  "kernelspec": {
   "display_name": "Python 3.8.11 ('gurobi')",
   "language": "python",
   "name": "python3"
  },
  "language_info": {
   "codemirror_mode": {
    "name": "ipython",
    "version": 3
   },
   "file_extension": ".py",
   "mimetype": "text/x-python",
   "name": "python",
   "nbconvert_exporter": "python",
   "pygments_lexer": "ipython3",
   "version": "3.8.11"
  },
  "orig_nbformat": 4,
  "vscode": {
   "interpreter": {
    "hash": "8137cca2c96495771a6332c43a92746d2e8f2f032dec7e1d4873522724197fcb"
   }
  }
 },
 "nbformat": 4,
 "nbformat_minor": 2
}
