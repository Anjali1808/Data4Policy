{
 "cells": [
  {
   "cell_type": "code",
   "execution_count": 1,
   "metadata": {},
   "outputs": [],
   "source": [
    "import os\n",
    "import geopandas as gpd\n",
    "import numpy as np\n",
    "from osgeo import gdal\n",
    "import rasterio\n",
    "import rasterio.mask\n",
    "import netCDF4 as nc\n",
    "import sys \n",
    "\n",
    "\n",
    "#Functions Imports \n",
    "sys.path.append(os.path.abspath(\"c:\\\\Users\\\\Jesse\\\\OneDrive\\\\Documenten\\\\Master BAOR\\\\Thesis\\\\GitHub\\\\dicra\\\\analytics\\\\sandbox\\\\notebooks\\\\crop_fires\\\\Functions\"))\n",
    "import Preprocess\n",
    "import ncdf_tiff"
   ]
  },
  {
   "cell_type": "code",
   "execution_count": 17,
   "metadata": {},
   "outputs": [],
   "source": [
    "os.chdir('c:\\\\Users\\\\Jesse\\\\OneDrive\\\\Documenten\\\\Master BAOR\\\\Thesis\\\\GitHub\\\\dicra\\\\src\\\\data_preprocessing\\\\base_geojson')\n",
    "mandal_boundaries = gpd.read_file('TS_mandal_boundary.json')\n",
    "mandal_boundaries = mandal_boundaries.reset_index()\n",
    "\n",
    "os.chdir('c:\\\\Users\\\\Jesse\\\\OneDrive\\\\Documenten\\\\Master BAOR\\\\Thesis\\\\GitHub\\\\dicra\\\\src\\\\data_preprocessing\\\\base_geojson')\n",
    "shape_telangana = gpd.read_file('TL_state_shapefile_for_clip.geojson')\n",
    "shape_telangana = shape_telangana.explode()"
   ]
  },
  {
   "cell_type": "code",
   "execution_count": 18,
   "metadata": {},
   "outputs": [
    {
     "data": {
      "text/plain": [
       "<module 'Preprocess' from 'c:\\\\Users\\\\Jesse\\\\OneDrive\\\\Documenten\\\\Master BAOR\\\\Thesis\\\\GitHub\\\\dicra\\\\analytics\\\\sandbox\\\\notebooks\\\\crop_fires\\\\Functions\\\\Preprocess.py'>"
      ]
     },
     "execution_count": 18,
     "metadata": {},
     "output_type": "execute_result"
    }
   ],
   "source": [
    "import importlib\n",
    "importlib.reload(Preprocess)\n",
    "importlib.reload(ncdf_tiff)\n"
   ]
  },
  {
   "cell_type": "markdown",
   "metadata": {},
   "source": [
    "# Rewriting NETCDF Files\n",
    "##### Add all NETCDF files that need to be rewritten into geotiff in Input Map, the geotiff will be saved in the Output Map."
   ]
  },
  {
   "cell_type": "code",
   "execution_count": 21,
   "metadata": {},
   "outputs": [],
   "source": [
    "#Choose Parameter\n",
    "\n",
    "#PM2.5\n",
    "parameter = ':GWRPM25'\n"
   ]
  },
  {
   "cell_type": "code",
   "execution_count": 22,
   "metadata": {},
   "outputs": [],
   "source": [
    "ncdf_tiff.netcdf_to_tiff(parameter)"
   ]
  },
  {
   "cell_type": "markdown",
   "metadata": {},
   "source": [
    "## Cropping Telangana Shape\n",
    "#### Add all files that need to be cropped into the Output Map, the files in the Output Map will be replaced by the cropped files."
   ]
  },
  {
   "cell_type": "code",
   "execution_count": 23,
   "metadata": {},
   "outputs": [],
   "source": [
    "Preprocess.crop_image(shape_telangana)"
   ]
  },
  {
   "cell_type": "markdown",
   "metadata": {},
   "source": [
    "# Rescale the size if necessary"
   ]
  },
  {
   "cell_type": "markdown",
   "metadata": {},
   "source": [
    "NO2"
   ]
  },
  {
   "cell_type": "code",
   "execution_count": 29,
   "metadata": {},
   "outputs": [],
   "source": [
    "#First set all 255 values from NO2 to the following new data values\n",
    "ndv = -9999\n",
    "\n",
    "path = 'c:\\\\Users\\\\Jesse\\\\OneDrive\\\\Documenten\\\\Master BAOR\\\\Thesis\\\\GitHub\\\\dicra\\\\analytics\\\\sandbox\\\\notebooks\\\\crop_fires\\\\Preprocessing_Data_Dicra\\\\Output\\\\'\n",
    "file_names = os.listdir(path) # contains all filenames\n",
    "os.chdir('c:\\\\Users\\\\Jesse\\\\OneDrive\\\\Documenten\\\\Master BAOR\\\\Thesis\\\\GitHub\\\\dicra\\\\analytics\\\\sandbox\\\\notebooks\\\\crop_fires\\\\Preprocessing_Data_Dicra\\\\Changed_NDV\\\\') # Set path\n",
    "for i in file_names:\n",
    "    tiff_path = path + i # the selected GeoTIFF path\n",
    "    try:\n",
    "        Preprocess.del_rescale(i, ndv, tiff_path)\n",
    "    except:\n",
    "        print(i)\n",
    "\n",
    "#For NO2, we need to rescale from 0-254 to 0-1500\n",
    "scaling = 1500/254\n",
    "offset = 0\n",
    "ndv = -9999\n",
    "\n",
    "path = 'c:\\\\Users\\\\Jesse\\\\OneDrive\\\\Documenten\\\\Master BAOR\\\\Thesis\\\\GitHub\\\\dicra\\\\analytics\\\\sandbox\\\\notebooks\\\\crop_fires\\\\Preprocessing_Data_Dicra\\\\Changed_NDV\\\\'\n",
    "file_names = os.listdir(path) # contains all filenames\n",
    "os.chdir('c:\\\\Users\\\\Jesse\\\\OneDrive\\\\Documenten\\\\Rescaled\\\\') # Set path\n",
    "for i in file_names:\n",
    "    tiff_path = path + i # the selected GeoTIFF path\n",
    "    try:\n",
    "        Preprocess.rescale(i, ndv, scaling, offset, tiff_path)\n",
    "    except:\n",
    "        print(i)"
   ]
  },
  {
   "cell_type": "markdown",
   "metadata": {},
   "source": [
    "LST"
   ]
  },
  {
   "cell_type": "code",
   "execution_count": 34,
   "metadata": {},
   "outputs": [],
   "source": [
    "#First set all 255 values from Soil Temperature to the following new data values\n",
    "ndv = -9999\n",
    "\n",
    "path = 'c:\\\\Users\\\\Jesse\\\\OneDrive\\\\Documenten\\\\Master BAOR\\\\Thesis\\\\GitHub\\\\dicra\\\\analytics\\\\sandbox\\\\notebooks\\\\crop_fires\\\\Preprocessing_Data_Dicra\\\\Output\\\\'\n",
    "file_names = os.listdir(path) # contains all filenames\n",
    "os.chdir('c:\\\\Users\\\\Jesse\\\\OneDrive\\\\Documenten\\\\Master BAOR\\\\Thesis\\\\GitHub\\\\dicra\\\\analytics\\\\sandbox\\\\notebooks\\\\crop_fires\\\\Preprocessing_Data_Dicra\\\\Changed_NDV\\\\') # Set path\n",
    "for i in file_names:\n",
    "    tiff_path = path + i # the selected GeoTIFF path\n",
    "    try:\n",
    "        Preprocess.del_rescale(i, ndv, tiff_path)\n",
    "    except:\n",
    "        print(i)\n",
    "\n",
    "#For Soil Temperature, we need to rescale from 0-254 to -25 - 45\n",
    "scaling = 70/254\n",
    "offset = -25\n",
    "ndv = -9999\n",
    "\n",
    "path = 'c:\\\\Users\\\\Jesse\\\\OneDrive\\\\Documenten\\\\Master BAOR\\\\Thesis\\\\GitHub\\\\dicra\\\\analytics\\\\sandbox\\\\notebooks\\\\crop_fires\\\\Preprocessing_Data_Dicra\\\\Changed_NDV\\\\'\n",
    "file_names = os.listdir(path) # contains all filenames\n",
    "os.chdir('c:\\\\Users\\\\Jesse\\\\OneDrive\\\\Documenten\\\\Rescaled\\\\') # Set path\n",
    "for i in file_names:\n",
    "    tiff_path = path + i # the selected GeoTIFF path\n",
    "    try:\n",
    "        Preprocess.rescale(i, ndv, scaling, offset, tiff_path)\n",
    "    except:\n",
    "        print(i)"
   ]
  },
  {
   "cell_type": "markdown",
   "metadata": {},
   "source": [
    "PM2.5"
   ]
  },
  {
   "cell_type": "code",
   "execution_count": 14,
   "metadata": {},
   "outputs": [],
   "source": [
    "#For PM2.5 we do not need to rescale but only change the no data value to -9999\n",
    "scaling = 1\n",
    "offset = 0\n",
    "ndv = -9999\n",
    "\n",
    "path = 'c:\\\\Users\\\\Jesse\\\\OneDrive\\\\Documenten\\\\Master BAOR\\\\Thesis\\\\GitHub\\\\dicra\\\\analytics\\\\sandbox\\\\notebooks\\\\crop_fires\\\\Preprocessing_Data_Dicra\\\\Output\\\\'\n",
    "file_names = os.listdir(path) # contains all filenames\n",
    "os.chdir('c:\\\\Users\\\\Jesse\\\\OneDrive\\\\Documenten\\\\Rescaled\\\\') # Set path\n",
    "for i in file_names:\n",
    "    tiff_path = path + i # the selected GeoTIFF path\n",
    "    try:\n",
    "        Preprocess.rescale(i, ndv, scaling, offset, tiff_path)\n",
    "    except:\n",
    "        print(i)"
   ]
  },
  {
   "cell_type": "markdown",
   "metadata": {},
   "source": [
    "# COG\n",
    "##### We need to create a geooptimized tif file. Add the following text in OSGeo4W Shell : "
   ]
  },
  {
   "cell_type": "markdown",
   "metadata": {},
   "source": [
    "#for %N in (C:/Users/Jesse/OneDrive/Documenten/Rescaled/*.tiff) DO gdal_translate C:/Users/Jesse/OneDrive/Documenten/Rescaled/%~nN.tiff  C:/Users/Jesse/OneDrive/Documenten/COG/%~nN.tiff -co COMPRESS=LZW -co TILED=YES\n",
    "\n",
    "\n",
    "#OR\n",
    "for %N in (C:/Users/Jesse/OneDrive/Documenten/Rescaled/*.tif) DO gdal_translate C:/Users/Jesse/OneDrive/Documenten/Rescaled/%~nN.tif  C:/Users/Jesse/OneDrive/Documenten/COG/%~nN.tif -co COMPRESS=LZW -co TILED=YES\n",
    " \n"
   ]
  }
 ],
 "metadata": {
  "kernelspec": {
   "display_name": "Python 3.9.12 ('test')",
   "language": "python",
   "name": "python3"
  },
  "language_info": {
   "codemirror_mode": {
    "name": "ipython",
    "version": 3
   },
   "file_extension": ".py",
   "mimetype": "text/x-python",
   "name": "python",
   "nbconvert_exporter": "python",
   "pygments_lexer": "ipython3",
   "version": "3.9.12"
  },
  "orig_nbformat": 4,
  "vscode": {
   "interpreter": {
    "hash": "85fe551ca6ec3e966e44737ee4e92b01787f73c66dac3a7d2763a3ed3ad1eb1c"
   }
  }
 },
 "nbformat": 4,
 "nbformat_minor": 2
}
