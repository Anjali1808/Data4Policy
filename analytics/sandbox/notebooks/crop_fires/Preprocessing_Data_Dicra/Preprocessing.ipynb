{
 "cells": [
  {
   "cell_type": "code",
   "execution_count": 1,
   "metadata": {},
   "outputs": [],
   "source": [
    "import os\n",
    "import geopandas as gpd\n",
    "import numpy as np\n",
    "from osgeo import gdal\n",
    "import rasterio\n",
    "import rasterio.mask\n",
    "import netCDF4 as nc"
   ]
  },
  {
   "cell_type": "code",
   "execution_count": 2,
   "metadata": {},
   "outputs": [
    {
     "name": "stderr",
     "output_type": "stream",
     "text": [
      "C:\\Users\\Jesse\\AppData\\Local\\Temp\\ipykernel_12208\\31479843.py:7: FutureWarning: Currently, index_parts defaults to True, but in the future, it will default to False to be consistent with Pandas. Use `index_parts=True` to keep the current behavior and True/False to silence the warning.\n",
      "  shape_telangana = shape_telangana.explode()\n"
     ]
    }
   ],
   "source": [
    "os.chdir('c:\\\\Users\\\\Jesse\\\\OneDrive\\\\Documenten\\\\Master BAOR\\\\Thesis\\\\GitHub\\\\dicra\\\\src\\\\data_preprocessing\\\\base_geojson')\n",
    "mandal_boundaries = gpd.read_file('TS_mandal_boundary.json')\n",
    "mandal_boundaries = mandal_boundaries.reset_index()\n",
    "\n",
    "os.chdir('c:\\\\Users\\\\Jesse\\\\OneDrive\\\\Documenten\\\\Master BAOR\\\\Thesis\\\\GitHub\\\\dicra\\\\src\\\\data_preprocessing\\\\base_geojson')\n",
    "shape_telangana = gpd.read_file('TL_state_shapefile_for_clip.geojson')\n",
    "shape_telangana = shape_telangana.explode()"
   ]
  },
  {
   "cell_type": "code",
   "execution_count": 3,
   "metadata": {},
   "outputs": [],
   "source": [
    "# This function rescales the pixel value such that we derive the physical values\n",
    "def del_rescale(j, nodata_value_new, file_path):\n",
    "    tiff_open = gdal.Open(file_path) # open the GeoTIFF we want to rescale\n",
    "    band = tiff_open.GetRasterBand(1) # Select the band\n",
    "    tiff_array = tiff_open.ReadAsArray() # Assign raster values to a numpy nd array\n",
    "\n",
    "    nodata_value_old = 255\n",
    "    nodata_value_old_2 = tiff_open.GetRasterBand(1).GetNoDataValue()\n",
    "\n",
    "    tiff_array_new = np.where(tiff_array != nodata_value_old, tiff_array, nodata_value_new) # Rescale pixel values and change nodatavalue to -9999\n",
    "    tiff_array_new = np.where(tiff_array_new != nodata_value_old_2, tiff_array_new, nodata_value_new)\n",
    "\n",
    "    col = tiff_open.RasterXSize # number of columns\n",
    "    rows = tiff_open.RasterYSize # number of rows\n",
    "    driver = tiff_open.GetDriver()\n",
    "\n",
    "    # Create a new raster to save the average-values\n",
    "    new_raster = driver.Create(j, col, rows, 1, gdal.GDT_Float32)\n",
    "\n",
    "    # Copy the properties of the original raster\n",
    "    new_raster.SetGeoTransform(tiff_open.GetGeoTransform())\n",
    "    new_raster.SetProjection(tiff_open.GetProjection())\n",
    "\n",
    "    # Add the average values to newly created raster\n",
    "    new_raster.GetRasterBand(1).WriteArray(tiff_array_new)\n",
    "    new_raster.GetRasterBand(1).SetNoDataValue(nodata_value_new)\n",
    "\n",
    "    # close the raster\n",
    "    new_raster = None\n",
    "    del new_raster"
   ]
  },
  {
   "cell_type": "code",
   "execution_count": 13,
   "metadata": {},
   "outputs": [],
   "source": [
    "# This function rescales the pixel value such that we derive the physical values\n",
    "def rescale(j, nodata_value_new, Scaling, Offset, file_path):\n",
    "    tiff_open = gdal.Open(file_path) # open the GeoTIFF we want to rescale\n",
    "    band = tiff_open.GetRasterBand(1) # Select the band\n",
    "    tiff_array = tiff_open.ReadAsArray() # Assign raster values to a numpy nd array\n",
    "\n",
    "    nodata_value_old = tiff_open.GetRasterBand(1).GetNoDataValue() # value which has been assigned for the nodata\n",
    "    tiff_array_new = np.where(tiff_array != nodata_value_old, tiff_array * Scaling + Offset, nodata_value_new) # Rescale pixel values and change nodatavalue to -9999\n",
    "\n",
    "    col = tiff_open.RasterXSize # number of columns\n",
    "    rows = tiff_open.RasterYSize # number of rows\n",
    "    driver = tiff_open.GetDriver()\n",
    "\n",
    "    # Create a new raster to save the average-values\n",
    "    new_raster = driver.Create(j, col, rows, 1, gdal.GDT_Float32)\n",
    "\n",
    "    # Copy the properties of the original raster\n",
    "    new_raster.SetGeoTransform(tiff_open.GetGeoTransform())\n",
    "    new_raster.SetProjection(tiff_open.GetProjection())\n",
    "\n",
    "    # Add the average values to newly created raster\n",
    "    new_raster.GetRasterBand(1).WriteArray(tiff_array_new)\n",
    "    new_raster.GetRasterBand(1).SetNoDataValue(nodata_value_new)\n",
    "\n",
    "    # close the raster\n",
    "    new_raster = None\n",
    "    del new_raster"
   ]
  },
  {
   "cell_type": "markdown",
   "metadata": {},
   "source": [
    "# Rewriting NETCDF Files\n",
    "##### Add all NETCDF files that need to be rewritten into geotiff in Input Map"
   ]
  },
  {
   "cell_type": "code",
   "execution_count": 5,
   "metadata": {},
   "outputs": [],
   "source": [
    "#Choose Parameter\n",
    "\n",
    "#PM2.5\n",
    "parameter = ':GWRPM25'\n",
    "#BA"
   ]
  },
  {
   "cell_type": "code",
   "execution_count": 6,
   "metadata": {},
   "outputs": [],
   "source": [
    "folder_names = os.listdir('C:\\\\Users\\\\Jesse\\\\OneDrive\\\\Documenten\\\\Master BAOR\\\\Thesis\\\\GitHub\\\\dicra\\\\analytics\\\\sandbox\\\\notebooks\\\\crop_fires\\\\Preprocessing_Data_Dicra\\\\Input\\\\')\n",
    "for i in folder_names:\n",
    "    file_names = os.listdir('C:\\\\Users\\\\Jesse\\\\OneDrive\\\\Documenten\\\\Master BAOR\\\\Thesis\\\\GitHub\\\\dicra\\\\analytics\\\\sandbox\\\\notebooks\\\\crop_fires\\\\Preprocessing_Data_Dicra\\\\Input\\\\' + i)\n",
    "    for j in file_names:\n",
    "        nc_data = \"C:\\\\Users\\\\Jesse\\\\OneDrive\\\\Documenten\\\\Master BAOR\\\\Thesis\\\\GitHub\\\\dicra\\\\analytics\\\\sandbox\\\\notebooks\\\\crop_fires\\\\Preprocessing_Data_Dicra\\\\Input\\\\\" + i + \"\\\\\" + j\n",
    "        nc_file = gdal.Open('NETCDF:'+ nc_data + parameter)\n",
    "        # Convert the netCDF to Geotiff file\n",
    "        tiff_file = gdal.Translate('C:\\\\Users\\\\Jesse\\\\OneDrive\\\\Documenten\\\\Master BAOR\\\\Thesis\\\\GitHub\\\\dicra\\\\analytics\\\\sandbox\\\\notebooks\\\\crop_fires\\\\Preprocessing_Data_Dicra\\\\Output\\\\'+ j[:-3] + '.tif', nc_file)"
   ]
  },
  {
   "cell_type": "markdown",
   "metadata": {},
   "source": [
    "## Cropping Telangana Shape\n",
    "#### Add all files that need to be cropped into the Output File"
   ]
  },
  {
   "cell_type": "code",
   "execution_count": 5,
   "metadata": {},
   "outputs": [
    {
     "name": "stdout",
     "output_type": "stream",
     "text": [
      "V5GL02.HybridPM25c_0p10.Asia.201501-201501.tif\n",
      "V5GL02.HybridPM25c_0p10.Asia.201502-201502.tif\n",
      "V5GL02.HybridPM25c_0p10.Asia.201503-201503.tif\n",
      "V5GL02.HybridPM25c_0p10.Asia.201504-201504.tif\n",
      "V5GL02.HybridPM25c_0p10.Asia.201505-201505.tif\n",
      "V5GL02.HybridPM25c_0p10.Asia.201506-201506.tif\n",
      "V5GL02.HybridPM25c_0p10.Asia.201507-201507.tif\n",
      "V5GL02.HybridPM25c_0p10.Asia.201508-201508.tif\n",
      "V5GL02.HybridPM25c_0p10.Asia.201509-201509.tif\n",
      "V5GL02.HybridPM25c_0p10.Asia.201510-201510.tif\n",
      "V5GL02.HybridPM25c_0p10.Asia.201511-201511.tif\n",
      "V5GL02.HybridPM25c_0p10.Asia.201512-201512.tif\n",
      "V5GL02.HybridPM25c_0p10.Asia.201601-201601.tif\n",
      "V5GL02.HybridPM25c_0p10.Asia.201602-201602.tif\n",
      "V5GL02.HybridPM25c_0p10.Asia.201603-201603.tif\n",
      "V5GL02.HybridPM25c_0p10.Asia.201604-201604.tif\n",
      "V5GL02.HybridPM25c_0p10.Asia.201605-201605.tif\n",
      "V5GL02.HybridPM25c_0p10.Asia.201606-201606.tif\n",
      "V5GL02.HybridPM25c_0p10.Asia.201607-201607.tif\n",
      "V5GL02.HybridPM25c_0p10.Asia.201608-201608.tif\n",
      "V5GL02.HybridPM25c_0p10.Asia.201609-201609.tif\n",
      "V5GL02.HybridPM25c_0p10.Asia.201610-201610.tif\n",
      "V5GL02.HybridPM25c_0p10.Asia.201611-201611.tif\n",
      "V5GL02.HybridPM25c_0p10.Asia.201612-201612.tif\n",
      "V5GL02.HybridPM25c_0p10.Asia.201701-201701.tif\n",
      "V5GL02.HybridPM25c_0p10.Asia.201702-201702.tif\n",
      "V5GL02.HybridPM25c_0p10.Asia.201703-201703.tif\n",
      "V5GL02.HybridPM25c_0p10.Asia.201704-201704.tif\n",
      "V5GL02.HybridPM25c_0p10.Asia.201705-201705.tif\n",
      "V5GL02.HybridPM25c_0p10.Asia.201706-201706.tif\n",
      "V5GL02.HybridPM25c_0p10.Asia.201707-201707.tif\n",
      "V5GL02.HybridPM25c_0p10.Asia.201708-201708.tif\n",
      "V5GL02.HybridPM25c_0p10.Asia.201709-201709.tif\n",
      "V5GL02.HybridPM25c_0p10.Asia.201710-201710.tif\n",
      "V5GL02.HybridPM25c_0p10.Asia.201711-201711.tif\n",
      "V5GL02.HybridPM25c_0p10.Asia.201712-201712.tif\n",
      "V5GL02.HybridPM25c_0p10.Asia.201801-201801.tif\n",
      "V5GL02.HybridPM25c_0p10.Asia.201802-201802.tif\n",
      "V5GL02.HybridPM25c_0p10.Asia.201803-201803.tif\n",
      "V5GL02.HybridPM25c_0p10.Asia.201804-201804.tif\n",
      "V5GL02.HybridPM25c_0p10.Asia.201805-201805.tif\n",
      "V5GL02.HybridPM25c_0p10.Asia.201806-201806.tif\n",
      "V5GL02.HybridPM25c_0p10.Asia.201807-201807.tif\n",
      "V5GL02.HybridPM25c_0p10.Asia.201808-201808.tif\n",
      "V5GL02.HybridPM25c_0p10.Asia.201809-201809.tif\n",
      "V5GL02.HybridPM25c_0p10.Asia.201810-201810.tif\n",
      "V5GL02.HybridPM25c_0p10.Asia.201811-201811.tif\n",
      "V5GL02.HybridPM25c_0p10.Asia.201812-201812.tif\n",
      "V5GL02.HybridPM25c_0p10.Asia.201901-201901.tif\n",
      "V5GL02.HybridPM25c_0p10.Asia.201902-201902.tif\n",
      "V5GL02.HybridPM25c_0p10.Asia.201903-201903.tif\n",
      "V5GL02.HybridPM25c_0p10.Asia.201904-201904.tif\n",
      "V5GL02.HybridPM25c_0p10.Asia.201905-201905.tif\n",
      "V5GL02.HybridPM25c_0p10.Asia.201906-201906.tif\n",
      "V5GL02.HybridPM25c_0p10.Asia.201907-201907.tif\n",
      "V5GL02.HybridPM25c_0p10.Asia.201908-201908.tif\n",
      "V5GL02.HybridPM25c_0p10.Asia.201909-201909.tif\n",
      "V5GL02.HybridPM25c_0p10.Asia.201910-201910.tif\n",
      "V5GL02.HybridPM25c_0p10.Asia.201911-201911.tif\n",
      "V5GL02.HybridPM25c_0p10.Asia.201912-201912.tif\n",
      "V5GL02.HybridPM25c_0p10.Asia.202001-202001.tif\n",
      "V5GL02.HybridPM25c_0p10.Asia.202002-202002.tif\n",
      "V5GL02.HybridPM25c_0p10.Asia.202003-202003.tif\n",
      "V5GL02.HybridPM25c_0p10.Asia.202004-202004.tif\n",
      "V5GL02.HybridPM25c_0p10.Asia.202005-202005.tif\n",
      "V5GL02.HybridPM25c_0p10.Asia.202006-202006.tif\n",
      "V5GL02.HybridPM25c_0p10.Asia.202007-202007.tif\n",
      "V5GL02.HybridPM25c_0p10.Asia.202008-202008.tif\n",
      "V5GL02.HybridPM25c_0p10.Asia.202009-202009.tif\n",
      "V5GL02.HybridPM25c_0p10.Asia.202010-202010.tif\n",
      "V5GL02.HybridPM25c_0p10.Asia.202011-202011.tif\n",
      "V5GL02.HybridPM25c_0p10.Asia.202012-202012.tif\n"
     ]
    }
   ],
   "source": [
    "#Crop the file in the form of the Telangana Shape file \n",
    "file_names = os.listdir(\"c:\\\\Users\\\\Jesse\\\\OneDrive\\\\Documenten\\\\Master BAOR\\\\Thesis\\\\GitHub\\\\dicra\\\\analytics\\\\sandbox\\\\notebooks\\\\crop_fires\\\\Preprocessing_Data_Dicra\\\\Output\")\n",
    "for i in file_names:\n",
    "    file_name = \"c:\\\\Users\\\\Jesse\\\\OneDrive\\\\Documenten\\\\Master BAOR\\\\Thesis\\\\GitHub\\\\dicra\\\\analytics\\\\sandbox\\\\notebooks\\\\crop_fires\\\\Preprocessing_Data_Dicra\\\\Output\\\\\" + i\n",
    "    with rasterio.open(file_name) as src:\n",
    "        out_image, out_transform = rasterio.mask.mask(src, shape_telangana.geometry, crop=True)\n",
    "        out_meta = src.meta\n",
    "    \n",
    "    out_meta.update({\"driver\": \"GTiff\",\n",
    "                \"height\": out_image.shape[1],\n",
    "                \"width\": out_image.shape[2],\n",
    "                \"transform\": out_transform})\n",
    "\n",
    "    # Save the Geotiff file to Burnt Area in Telangana\n",
    "    with rasterio.open(\"c:\\\\Users\\\\Jesse\\\\OneDrive\\\\Documenten\\\\Master BAOR\\\\Thesis\\\\GitHub\\\\dicra\\\\analytics\\\\sandbox\\\\notebooks\\\\crop_fires\\\\Preprocessing_Data_Dicra\\\\Output\\\\\" + i, \"w\", **out_meta) as dest:\n",
    "        dest.write(out_image)\n",
    "\n",
    "    print(i)"
   ]
  },
  {
   "cell_type": "markdown",
   "metadata": {},
   "source": [
    "# Rescale the size if necessary"
   ]
  },
  {
   "cell_type": "markdown",
   "metadata": {},
   "source": [
    "NO2"
   ]
  },
  {
   "cell_type": "code",
   "execution_count": 29,
   "metadata": {},
   "outputs": [],
   "source": [
    "#First set all 255 values from NO2 to the following new data values\n",
    "ndv = -9999\n",
    "\n",
    "path = 'c:\\\\Users\\\\Jesse\\\\OneDrive\\\\Documenten\\\\Master BAOR\\\\Thesis\\\\GitHub\\\\dicra\\\\analytics\\\\sandbox\\\\notebooks\\\\crop_fires\\\\Preprocessing_Data_Dicra\\\\Output\\\\'\n",
    "file_names = os.listdir(path) # contains all filenames\n",
    "os.chdir('c:\\\\Users\\\\Jesse\\\\OneDrive\\\\Documenten\\\\Master BAOR\\\\Thesis\\\\GitHub\\\\dicra\\\\analytics\\\\sandbox\\\\notebooks\\\\crop_fires\\\\Preprocessing_Data_Dicra\\\\Changed_NDV\\\\') # Set path\n",
    "for i in file_names:\n",
    "    tiff_path = path + i # the selected GeoTIFF path\n",
    "    try:\n",
    "        del_rescale(i, ndv, tiff_path)\n",
    "    except:\n",
    "        print(i)\n",
    "\n",
    "#For NO2, we need to rescale from 0-254 to 0-1500\n",
    "scaling = 1500/254\n",
    "offset = 0\n",
    "ndv = -9999\n",
    "\n",
    "path = 'c:\\\\Users\\\\Jesse\\\\OneDrive\\\\Documenten\\\\Master BAOR\\\\Thesis\\\\GitHub\\\\dicra\\\\analytics\\\\sandbox\\\\notebooks\\\\crop_fires\\\\Preprocessing_Data_Dicra\\\\Changed_NDV\\\\'\n",
    "file_names = os.listdir(path) # contains all filenames\n",
    "os.chdir('c:\\\\Users\\\\Jesse\\\\OneDrive\\\\Documenten\\\\Rescaled\\\\') # Set path\n",
    "for i in file_names:\n",
    "    tiff_path = path + i # the selected GeoTIFF path\n",
    "    try:\n",
    "        rescale(i, ndv, scaling, offset, tiff_path)\n",
    "    except:\n",
    "        print(i)"
   ]
  },
  {
   "cell_type": "markdown",
   "metadata": {},
   "source": [
    "LST"
   ]
  },
  {
   "cell_type": "code",
   "execution_count": 34,
   "metadata": {},
   "outputs": [],
   "source": [
    "#First set all 255 values from Soil Temperature to the following new data values\n",
    "ndv = -9999\n",
    "\n",
    "path = 'c:\\\\Users\\\\Jesse\\\\OneDrive\\\\Documenten\\\\Master BAOR\\\\Thesis\\\\GitHub\\\\dicra\\\\analytics\\\\sandbox\\\\notebooks\\\\crop_fires\\\\Preprocessing_Data_Dicra\\\\Output\\\\'\n",
    "file_names = os.listdir(path) # contains all filenames\n",
    "os.chdir('c:\\\\Users\\\\Jesse\\\\OneDrive\\\\Documenten\\\\Master BAOR\\\\Thesis\\\\GitHub\\\\dicra\\\\analytics\\\\sandbox\\\\notebooks\\\\crop_fires\\\\Preprocessing_Data_Dicra\\\\Changed_NDV\\\\') # Set path\n",
    "for i in file_names:\n",
    "    tiff_path = path + i # the selected GeoTIFF path\n",
    "    try:\n",
    "        del_rescale(i, ndv, tiff_path)\n",
    "    except:\n",
    "        print(i)\n",
    "\n",
    "#For Soil Temperature, we need to rescale from 0-254 to -25 - 45\n",
    "scaling = 70/254\n",
    "offset = -25\n",
    "ndv = -9999\n",
    "\n",
    "path = 'c:\\\\Users\\\\Jesse\\\\OneDrive\\\\Documenten\\\\Master BAOR\\\\Thesis\\\\GitHub\\\\dicra\\\\analytics\\\\sandbox\\\\notebooks\\\\crop_fires\\\\Preprocessing_Data_Dicra\\\\Changed_NDV\\\\'\n",
    "file_names = os.listdir(path) # contains all filenames\n",
    "os.chdir('c:\\\\Users\\\\Jesse\\\\OneDrive\\\\Documenten\\\\Rescaled\\\\') # Set path\n",
    "for i in file_names:\n",
    "    tiff_path = path + i # the selected GeoTIFF path\n",
    "    try:\n",
    "        rescale(i, ndv, scaling, offset, tiff_path)\n",
    "    except:\n",
    "        print(i)"
   ]
  },
  {
   "cell_type": "markdown",
   "metadata": {},
   "source": [
    "PM2.5"
   ]
  },
  {
   "cell_type": "code",
   "execution_count": 14,
   "metadata": {},
   "outputs": [],
   "source": [
    "#For PM2.5 we do not need to rescale but only change the no data value to -9999\n",
    "scaling = 1\n",
    "offset = 0\n",
    "ndv = -9999\n",
    "\n",
    "path = 'c:\\\\Users\\\\Jesse\\\\OneDrive\\\\Documenten\\\\Master BAOR\\\\Thesis\\\\GitHub\\\\dicra\\\\analytics\\\\sandbox\\\\notebooks\\\\crop_fires\\\\Preprocessing_Data_Dicra\\\\Output\\\\'\n",
    "file_names = os.listdir(path) # contains all filenames\n",
    "os.chdir('c:\\\\Users\\\\Jesse\\\\OneDrive\\\\Documenten\\\\Rescaled\\\\') # Set path\n",
    "for i in file_names:\n",
    "    tiff_path = path + i # the selected GeoTIFF path\n",
    "    try:\n",
    "        rescale(i, ndv, scaling, offset, tiff_path)\n",
    "    except:\n",
    "        print(i)"
   ]
  },
  {
   "cell_type": "markdown",
   "metadata": {},
   "source": [
    "# COG\n",
    "##### We need to create a geooptimized tif file. Add the following text in OSGeo4W Shell : "
   ]
  },
  {
   "cell_type": "markdown",
   "metadata": {},
   "source": [
    "#for %N in (C:/Users/Jesse/OneDrive/Documenten/Rescaled/*.tiff) DO gdal_translate C:/Users/Jesse/OneDrive/Documenten/Rescaled/%~nN.tiff  C:/Users/Jesse/OneDrive/Documenten/COG/%~nN.tiff -co COMPRESS=LZW -co TILED=YES\n",
    "\n",
    "\n",
    "#OR\n",
    "for %N in (C:/Users/Jesse/OneDrive/Documenten/Rescaled/*.tif) DO gdal_translate C:/Users/Jesse/OneDrive/Documenten/Rescaled/%~nN.tif  C:/Users/Jesse/OneDrive/Documenten/COG/%~nN.tif -co COMPRESS=LZW -co TILED=YES\n",
    " \n"
   ]
  }
 ],
 "metadata": {
  "kernelspec": {
   "display_name": "Python 3.9.12 ('test')",
   "language": "python",
   "name": "python3"
  },
  "language_info": {
   "codemirror_mode": {
    "name": "ipython",
    "version": 3
   },
   "file_extension": ".py",
   "mimetype": "text/x-python",
   "name": "python",
   "nbconvert_exporter": "python",
   "pygments_lexer": "ipython3",
   "version": "3.9.12"
  },
  "orig_nbformat": 4,
  "vscode": {
   "interpreter": {
    "hash": "85fe551ca6ec3e966e44737ee4e92b01787f73c66dac3a7d2763a3ed3ad1eb1c"
   }
  }
 },
 "nbformat": 4,
 "nbformat_minor": 2
}
