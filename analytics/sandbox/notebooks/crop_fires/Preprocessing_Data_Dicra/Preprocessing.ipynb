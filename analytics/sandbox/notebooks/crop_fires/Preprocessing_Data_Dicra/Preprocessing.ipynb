{
 "cells": [
  {
   "cell_type": "code",
   "execution_count": 1,
   "metadata": {},
   "outputs": [],
   "source": [
    "import os\n",
    "import geopandas as gpd\n",
    "import numpy as np\n",
    "from osgeo import gdal\n",
    "import rasterio\n",
    "import rasterio.mask\n",
    "#import netCDF4 as nc\n",
    "import sys \n",
    "import re\n",
    "\n",
    "\n",
    "#Functions Imports \n",
    "sys.path.append(os.path.abspath(\"c:\\\\Users\\\\Jesse\\\\OneDrive\\\\Documenten\\\\Master BAOR\\\\Thesis\\\\GitHub\\\\dicra\\\\analytics\\\\sandbox\\\\notebooks\\\\crop_fires\\\\Functions\"))\n",
    "import Preprocess\n",
    "#import ncdf_tiff"
   ]
  },
  {
   "cell_type": "code",
   "execution_count": 2,
   "metadata": {},
   "outputs": [],
   "source": [
    "os.chdir('c:\\\\Users\\\\Jesse\\\\OneDrive\\\\Documenten\\\\Master BAOR\\\\Thesis\\\\GitHub\\\\dicra\\\\src\\\\data_preprocessing\\\\base_geojson')\n",
    "mandal_boundaries = gpd.read_file('TS_mandal_boundary.json')\n",
    "mandal_boundaries = mandal_boundaries.reset_index()\n",
    "\n",
    "os.chdir('c:\\\\Users\\\\Jesse\\\\OneDrive\\\\Documenten\\\\Master BAOR\\\\Thesis\\\\GitHub\\\\dicra\\\\src\\\\data_preprocessing\\\\base_geojson')\n",
    "shape_telangana = gpd.read_file('TL_state_shapefile_for_clip.geojson')\n",
    "shape_telangana = shape_telangana.explode()"
   ]
  },
  {
   "cell_type": "code",
   "execution_count": 3,
   "metadata": {},
   "outputs": [
    {
     "data": {
      "text/plain": [
       "<module 'Preprocess' from 'c:\\\\Users\\\\Jesse\\\\OneDrive\\\\Documenten\\\\Master BAOR\\\\Thesis\\\\GitHub\\\\dicra\\\\analytics\\\\sandbox\\\\notebooks\\\\crop_fires\\\\Functions\\\\Preprocess.py'>"
      ]
     },
     "execution_count": 3,
     "metadata": {},
     "output_type": "execute_result"
    }
   ],
   "source": [
    "import importlib\n",
    "importlib.reload(Preprocess)\n",
    "#importlib.reload(ncdf_tiff)\n"
   ]
  },
  {
   "cell_type": "markdown",
   "metadata": {},
   "source": [
    "# Rewriting NETCDF Files\n",
    "##### Add all NETCDF files that need to be rewritten into geotiff in Input Map, the geotiff will be saved in the Output Map."
   ]
  },
  {
   "cell_type": "code",
   "execution_count": 31,
   "metadata": {},
   "outputs": [],
   "source": [
    "#Choose Parameter\n",
    "\n",
    "#PM2.5\n",
    "parameter = ':GWRPM25'\n"
   ]
  },
  {
   "cell_type": "code",
   "execution_count": 22,
   "metadata": {},
   "outputs": [],
   "source": [
    "ncdf_tiff.netcdf_to_tiff(parameter)"
   ]
  },
  {
   "cell_type": "markdown",
   "metadata": {},
   "source": [
    "## Cropping Telangana Shape\n",
    "#### Add all files that need to be cropped into the Output Map, the files in the Output Map will be replaced by the cropped files."
   ]
  },
  {
   "cell_type": "code",
   "execution_count": 4,
   "metadata": {},
   "outputs": [],
   "source": [
    "Preprocess.crop_image(shape_telangana)"
   ]
  },
  {
   "cell_type": "markdown",
   "metadata": {},
   "source": [
    "# Rescale the size if necessary"
   ]
  },
  {
   "cell_type": "markdown",
   "metadata": {},
   "source": [
    "BA"
   ]
  },
  {
   "cell_type": "code",
   "execution_count": 40,
   "metadata": {},
   "outputs": [],
   "source": [
    "ndv = -9999\n",
    "\n",
    "path = 'c:\\\\Users\\\\Jesse\\\\OneDrive\\\\Documenten\\\\Master BAOR\\\\Thesis\\\\GitHub\\\\dicra\\\\analytics\\\\sandbox\\\\notebooks\\\\crop_fires\\\\Preprocessing_Data_Dicra\\\\Output\\\\'\n",
    "maps = os.listdir(path) # contains all filenames\n",
    "for i in maps:\n",
    "    times = os.listdir('c:\\\\Users\\\\Jesse\\\\OneDrive\\\\Documenten\\\\Master BAOR\\\\Thesis\\\\GitHub\\\\dicra\\\\analytics\\\\sandbox\\\\notebooks\\\\crop_fires\\\\Preprocessing_Data_Dicra\\\\Output\\\\'+ i + '\\\\')\n",
    "    for j in times:\n",
    "        path2 = 'c:\\\\Users\\\\Jesse\\\\OneDrive\\\\Documenten\\\\Master BAOR\\\\Thesis\\\\GitHub\\\\dicra\\\\analytics\\\\sandbox\\\\notebooks\\\\crop_fires\\\\Preprocessing_Data_Dicra\\\\Output\\\\'+ i + '\\\\' + j + '\\\\'\n",
    "        file_names = os.listdir(path2)\n",
    "        os.chdir('c:\\\\Users\\\\Jesse\\\\OneDrive\\\\Documenten\\\\Master BAOR\\\\Thesis\\\\GitHub\\\\dicra\\\\analytics\\\\sandbox\\\\notebooks\\\\crop_fires\\\\Preprocessing_Data_Dicra\\\\Changed_NDV\\\\') # Set path\n",
    "        for a in file_names:\n",
    "            tiff_path = path2 + a # the selected GeoTIFF path\n",
    "            test = Preprocess.del_rescale(a, ndv, tiff_path, 255)\n",
    "            test2 = Preprocess.del_rescale(a, ndv, tiff_path, 254)\n",
    "            if len(np.where((test2==255)|(test2==254))[0]) >0:\n",
    "                print(a)\n",
    "\n"
   ]
  },
  {
   "cell_type": "code",
   "execution_count": 43,
   "metadata": {},
   "outputs": [
    {
     "name": "stdout",
     "output_type": "stream",
     "text": [
      "desktop.ini\n"
     ]
    }
   ],
   "source": [
    "scaling = 1\n",
    "offset = 0\n",
    "ndv = -9999\n",
    "\n",
    "path = 'c:\\\\Users\\\\Jesse\\\\OneDrive\\\\Documenten\\\\Master BAOR\\\\Thesis\\\\GitHub\\\\dicra\\\\analytics\\\\sandbox\\\\notebooks\\\\crop_fires\\\\Preprocessing_Data_Dicra\\\\Changed_NDV\\\\'\n",
    "file_names = os.listdir(path) # contains all filenames\n",
    "os.chdir('c:\\\\Users\\\\Jesse\\\\OneDrive\\\\Documenten\\\\Rescaled\\\\') # Set path\n",
    "for i in file_names:\n",
    "    tiff_path = path + i # the selected GeoTIFF path\n",
    "    try:\n",
    "        array = Preprocess.rescale(i, ndv, scaling, offset, tiff_path)\n",
    "        if len(np.where((array==255)|(array==254))[0]) >0:\n",
    "            print(i, np.where((array==255)))\n",
    "    except:\n",
    "        print(i)"
   ]
  },
  {
   "cell_type": "markdown",
   "metadata": {},
   "source": [
    "NO2"
   ]
  },
  {
   "cell_type": "code",
   "execution_count": 29,
   "metadata": {},
   "outputs": [],
   "source": [
    "#First set all 255 values from NO2 to the following new data values\n",
    "ndv = -9999\n",
    "\n",
    "path = 'c:\\\\Users\\\\Jesse\\\\OneDrive\\\\Documenten\\\\Master BAOR\\\\Thesis\\\\GitHub\\\\dicra\\\\analytics\\\\sandbox\\\\notebooks\\\\crop_fires\\\\Preprocessing_Data_Dicra\\\\Output\\\\'\n",
    "file_names = os.listdir(path) # contains all filenames\n",
    "os.chdir('c:\\\\Users\\\\Jesse\\\\OneDrive\\\\Documenten\\\\Master BAOR\\\\Thesis\\\\GitHub\\\\dicra\\\\analytics\\\\sandbox\\\\notebooks\\\\crop_fires\\\\Preprocessing_Data_Dicra\\\\Changed_NDV\\\\') # Set path\n",
    "for i in file_names:\n",
    "    tiff_path = path + i # the selected GeoTIFF path\n",
    "    try:\n",
    "        test = Preprocess.del_rescale(i, ndv, tiff_path, 255)\n",
    "    except:\n",
    "        print(i)\n",
    "\n",
    "#For NO2, we need to rescale from 0-254 to 0-1500\n",
    "scaling = 1500/254\n",
    "offset = 0\n",
    "ndv = -9999\n",
    "\n",
    "path = 'c:\\\\Users\\\\Jesse\\\\OneDrive\\\\Documenten\\\\Master BAOR\\\\Thesis\\\\GitHub\\\\dicra\\\\analytics\\\\sandbox\\\\notebooks\\\\crop_fires\\\\Preprocessing_Data_Dicra\\\\Changed_NDV\\\\'\n",
    "file_names = os.listdir(path) # contains all filenames\n",
    "os.chdir('c:\\\\Users\\\\Jesse\\\\OneDrive\\\\Documenten\\\\Rescaled\\\\') # Set path\n",
    "for i in file_names:\n",
    "    tiff_path = path + i # the selected GeoTIFF path\n",
    "    try:\n",
    "        test = Preprocess.rescale(i, ndv, scaling, offset, tiff_path)\n",
    "    except:\n",
    "        print(i)"
   ]
  },
  {
   "cell_type": "markdown",
   "metadata": {},
   "source": [
    "LST"
   ]
  },
  {
   "cell_type": "code",
   "execution_count": 34,
   "metadata": {},
   "outputs": [],
   "source": [
    "#First set all 255 values from Soil Temperature to the following new data values\n",
    "ndv = -9999\n",
    "\n",
    "path = 'c:\\\\Users\\\\Jesse\\\\OneDrive\\\\Documenten\\\\Master BAOR\\\\Thesis\\\\GitHub\\\\dicra\\\\analytics\\\\sandbox\\\\notebooks\\\\crop_fires\\\\Preprocessing_Data_Dicra\\\\Output\\\\'\n",
    "file_names = os.listdir(path) # contains all filenames\n",
    "os.chdir('c:\\\\Users\\\\Jesse\\\\OneDrive\\\\Documenten\\\\Master BAOR\\\\Thesis\\\\GitHub\\\\dicra\\\\analytics\\\\sandbox\\\\notebooks\\\\crop_fires\\\\Preprocessing_Data_Dicra\\\\Changed_NDV\\\\') # Set path\n",
    "for i in file_names:\n",
    "    tiff_path = path + i # the selected GeoTIFF path\n",
    "    try:\n",
    "        test = Preprocess.del_rescale(i, ndv, tiff_path, 255)\n",
    "    except:\n",
    "        print(i)\n",
    "\n",
    "#For Soil Temperature, we need to rescale from 0-254 to -25 - 45\n",
    "scaling = 70/254\n",
    "offset = -25\n",
    "ndv = -9999\n",
    "\n",
    "path = 'c:\\\\Users\\\\Jesse\\\\OneDrive\\\\Documenten\\\\Master BAOR\\\\Thesis\\\\GitHub\\\\dicra\\\\analytics\\\\sandbox\\\\notebooks\\\\crop_fires\\\\Preprocessing_Data_Dicra\\\\Changed_NDV\\\\'\n",
    "file_names = os.listdir(path) # contains all filenames\n",
    "os.chdir('c:\\\\Users\\\\Jesse\\\\OneDrive\\\\Documenten\\\\Rescaled\\\\') # Set path\n",
    "for i in file_names:\n",
    "    tiff_path = path + i # the selected GeoTIFF path\n",
    "    try:\n",
    "        test = Preprocess.rescale(i, ndv, scaling, offset, tiff_path)\n",
    "    except:\n",
    "        print(i)"
   ]
  },
  {
   "cell_type": "markdown",
   "metadata": {},
   "source": [
    "PM2.5"
   ]
  },
  {
   "cell_type": "code",
   "execution_count": 14,
   "metadata": {},
   "outputs": [],
   "source": [
    "#For PM2.5 we do not need to rescale but only change the no data value to -9999\n",
    "scaling = 1\n",
    "offset = 0\n",
    "ndv = -9999\n",
    "\n",
    "path = 'c:\\\\Users\\\\Jesse\\\\OneDrive\\\\Documenten\\\\Master BAOR\\\\Thesis\\\\GitHub\\\\dicra\\\\analytics\\\\sandbox\\\\notebooks\\\\crop_fires\\\\Preprocessing_Data_Dicra\\\\Output\\\\'\n",
    "file_names = os.listdir(path) # contains all filenames\n",
    "os.chdir('c:\\\\Users\\\\Jesse\\\\OneDrive\\\\Documenten\\\\Rescaled\\\\') # Set path\n",
    "for i in file_names:\n",
    "    tiff_path = path + i # the selected GeoTIFF path\n",
    "    try:\n",
    "        Preprocess.rescale(i, ndv, scaling, offset, tiff_path)\n",
    "    except:\n",
    "        print(i)"
   ]
  },
  {
   "cell_type": "markdown",
   "metadata": {},
   "source": [
    "Aerosol Thickness"
   ]
  },
  {
   "cell_type": "code",
   "execution_count": 6,
   "metadata": {},
   "outputs": [],
   "source": [
    "#First set all 255 values from AOT to the following new data values\n",
    "ndv = -9999\n",
    "\n",
    "path = 'c:\\\\Users\\\\Jesse\\\\OneDrive\\\\Documenten\\\\Master BAOR\\\\Thesis\\\\GitHub\\\\dicra\\\\analytics\\\\sandbox\\\\notebooks\\\\crop_fires\\\\Preprocessing_Data_Dicra\\\\Output\\\\'\n",
    "file_names = os.listdir(path) # contains all filenames\n",
    "os.chdir('c:\\\\Users\\\\Jesse\\\\OneDrive\\\\Documenten\\\\Master BAOR\\\\Thesis\\\\GitHub\\\\dicra\\\\analytics\\\\sandbox\\\\notebooks\\\\crop_fires\\\\Preprocessing_Data_Dicra\\\\Changed_NDV\\\\') # Set path\n",
    "for i in file_names:\n",
    "    tiff_path = path + i # the selected GeoTIFF path\n",
    "    try:\n",
    "        test = Preprocess.del_rescale(i, ndv, tiff_path, 255)\n",
    "    except:\n",
    "        print(i)\n",
    "\n",
    "#For AOT , we need to rescale from 0-254 to 0-1\n",
    "scaling = 1/254\n",
    "offset = 0\n",
    "ndv = -9999\n",
    "\n",
    "path = 'c:\\\\Users\\\\Jesse\\\\OneDrive\\\\Documenten\\\\Master BAOR\\\\Thesis\\\\GitHub\\\\dicra\\\\analytics\\\\sandbox\\\\notebooks\\\\crop_fires\\\\Preprocessing_Data_Dicra\\\\Changed_NDV\\\\'\n",
    "file_names = os.listdir(path) # contains all filenames\n",
    "os.chdir('c:\\\\Users\\\\Jesse\\\\OneDrive\\\\Documenten\\\\Rescaled\\\\') # Set path\n",
    "for i in file_names:\n",
    "    tiff_path = path + i # the selected GeoTIFF path\n",
    "    try:\n",
    "        test = Preprocess.rescale(i, ndv, scaling, offset, tiff_path)\n",
    "    except:\n",
    "        print(i)"
   ]
  },
  {
   "cell_type": "markdown",
   "metadata": {},
   "source": [
    "## Rename"
   ]
  },
  {
   "cell_type": "code",
   "execution_count": 9,
   "metadata": {},
   "outputs": [],
   "source": [
    "path = 'C:\\\\Users\\\\Jesse\\\\OneDrive\\\\Documenten\\\\Data_Thesis\\\\NO2\\\\'\n",
    "file_names = os.listdir(path)\n",
    "for i in file_names:\n",
    "    os.rename(path + i, path + i[19:21] + '-' + i[16:18] + '-' + i[11:15] + '.tif')"
   ]
  },
  {
   "cell_type": "code",
   "execution_count": 12,
   "metadata": {},
   "outputs": [],
   "source": [
    "path = 'C:\\\\Users\\\\Jesse\\\\OneDrive\\\\Documenten\\\\Data_Thesis\\\\PM2.5\\\\'\n",
    "file_names = os.listdir(path)\n",
    "for i in file_names:\n",
    "    os.rename(path + i, path + '01' + '-' + i[33:35] + '-' + i[29:33] + '.tif')"
   ]
  },
  {
   "cell_type": "code",
   "execution_count": 64,
   "metadata": {},
   "outputs": [],
   "source": [
    "path = 'C:\\\\Users\\\\Jesse\\\\OneDrive\\\\Documenten\\\\Data_Thesis\\\\BA\\\\'\n",
    "file_names = os.listdir(path)\n",
    "for i in file_names:\n",
    "    #print(i[6:10], i[3:5], i[:2])\n",
    "    os.rename(path + i, path + i[6:10] + '-' + i[3:5] + '-' + i[:2] + '.tif')"
   ]
  },
  {
   "cell_type": "code",
   "execution_count": 2,
   "metadata": {},
   "outputs": [],
   "source": [
    "path = 'C:\\\\Users\\\\Jesse\\\\OneDrive\\\\Documenten\\\\Data_Thesis\\\\AOT\\\\'\n",
    "file_names = os.listdir(path)\n",
    "for i in file_names:\n",
    "    os.rename(path + i, path + i[24:26] + '-' + i[21:23] + '-' + i[16:20] + '.tif')"
   ]
  },
  {
   "cell_type": "code",
   "execution_count": 8,
   "metadata": {},
   "outputs": [],
   "source": [
    "path = 'C:\\\\Users\\\\Jesse\\\\OneDrive\\\\Documenten\\\\Data_Thesis\\\\PRE\\\\'\n",
    "file_names = os.listdir(path)\n",
    "for i in file_names:\n",
    "    #print(i[0:4] + '-' + i[4:6] + '-' + i[6:8])\n",
    "    os.rename(path + i, path + i[0:4] + '-' + i[4:6] + '-' + i[6:8] + '.tif')"
   ]
  },
  {
   "cell_type": "markdown",
   "metadata": {},
   "source": [
    "## Aggregate Per Month"
   ]
  },
  {
   "cell_type": "markdown",
   "metadata": {},
   "source": [
    "BA "
   ]
  },
  {
   "cell_type": "code",
   "execution_count": 78,
   "metadata": {},
   "outputs": [
    {
     "name": "stdout",
     "output_type": "stream",
     "text": [
      "[]\n",
      "[]\n",
      "[]\n",
      "['2014-04-10.tif', '2014-04-20.tif', '2014-04-30.tif']\n",
      "['2014-05-10.tif', '2014-05-20.tif', '2014-05-31.tif']\n",
      "['2014-06-10.tif', '2014-06-20.tif', '2014-06-30.tif']\n",
      "['2014-07-10.tif', '2014-07-20.tif', '2014-07-31.tif']\n",
      "['2014-08-10.tif', '2014-08-20.tif', '2014-08-31.tif']\n",
      "['2014-09-10.tif', '2014-09-20.tif', '2014-09-30.tif']\n",
      "['2014-10-10.tif', '2014-10-20.tif', '2014-10-31.tif']\n",
      "['2014-11-10.tif', '2014-11-20.tif', '2014-11-30.tif']\n",
      "['2014-12-10.tif', '2014-12-20.tif', '2014-12-31.tif']\n",
      "['2015-01-10.tif', '2015-01-20.tif', '2015-01-31.tif']\n",
      "['2015-02-10.tif', '2015-02-20.tif', '2015-02-28.tif']\n",
      "['2015-03-10.tif', '2015-03-20.tif', '2015-03-31.tif']\n",
      "['2015-04-10.tif', '2015-04-20.tif', '2015-04-30.tif']\n",
      "['2015-05-10.tif', '2015-05-20.tif', '2015-05-31.tif']\n",
      "['2015-06-10.tif', '2015-06-20.tif', '2015-06-30.tif']\n",
      "['2015-07-10.tif', '2015-07-20.tif', '2015-07-31.tif']\n",
      "['2015-08-10.tif', '2015-08-20.tif', '2015-08-31.tif']\n",
      "['2015-09-10.tif', '2015-09-20.tif', '2015-09-30.tif']\n",
      "['2015-10-10.tif', '2015-10-20.tif', '2015-10-31.tif']\n",
      "['2015-11-10.tif', '2015-11-20.tif', '2015-11-30.tif']\n",
      "['2015-12-10.tif', '2015-12-20.tif', '2015-12-31.tif']\n",
      "['2016-01-10.tif', '2016-01-20.tif', '2016-01-31.tif']\n",
      "['2016-02-10.tif', '2016-02-20.tif', '2016-02-29.tif']\n",
      "['2016-03-10.tif', '2016-03-20.tif', '2016-03-31.tif']\n",
      "['2016-04-10.tif', '2016-04-20.tif', '2016-04-30.tif']\n",
      "['2016-05-10.tif', '2016-05-20.tif', '2016-05-31.tif']\n",
      "['2016-06-10.tif', '2016-06-20.tif', '2016-06-30.tif']\n",
      "['2016-07-10.tif', '2016-07-20.tif', '2016-07-31.tif']\n",
      "['2016-08-10.tif', '2016-08-20.tif', '2016-08-31.tif']\n",
      "['2016-09-10.tif', '2016-09-20.tif', '2016-09-30.tif']\n",
      "['2016-10-10.tif', '2016-10-20.tif', '2016-10-31.tif']\n",
      "['2016-11-10.tif', '2016-11-20.tif', '2016-11-30.tif']\n",
      "['2016-12-10.tif', '2016-12-20.tif', '2016-12-31.tif']\n",
      "['2017-01-10.tif', '2017-01-20.tif', '2017-01-31.tif']\n",
      "['2017-02-10.tif', '2017-02-20.tif', '2017-02-28.tif']\n",
      "['2017-03-10.tif', '2017-03-20.tif', '2017-03-31.tif']\n",
      "['2017-04-10.tif', '2017-04-20.tif', '2017-04-30.tif']\n",
      "['2017-05-10.tif', '2017-05-20.tif', '2017-05-31.tif']\n",
      "['2017-06-10.tif', '2017-06-20.tif', '2017-06-30.tif']\n",
      "['2017-07-10.tif', '2017-07-20.tif', '2017-07-31.tif']\n",
      "['2017-08-10.tif', '2017-08-20.tif', '2017-08-31.tif']\n",
      "['2017-09-10.tif', '2017-09-20.tif', '2017-09-30.tif']\n",
      "['2017-10-10.tif', '2017-10-20.tif', '2017-10-31.tif']\n",
      "['2017-11-10.tif', '2017-11-20.tif', '2017-11-30.tif']\n",
      "['2017-12-10.tif', '2017-12-20.tif', '2017-12-31.tif']\n",
      "['2018-01-10.tif', '2018-01-20.tif', '2018-01-31.tif']\n",
      "['2018-02-10.tif', '2018-02-20.tif', '2018-02-28.tif']\n",
      "['2018-03-10.tif', '2018-03-20.tif', '2018-03-31.tif']\n",
      "['2018-04-10.tif', '2018-04-20.tif', '2018-04-30.tif']\n",
      "['2018-05-10.tif', '2018-05-20.tif', '2018-05-31.tif']\n",
      "['2018-06-10.tif', '2018-06-20.tif', '2018-06-30.tif']\n",
      "['2018-07-10.tif', '2018-07-20.tif', '2018-07-31.tif']\n",
      "['2018-08-10.tif', '2018-08-20.tif', '2018-08-31.tif']\n",
      "['2018-09-10.tif', '2018-09-20.tif', '2018-09-30.tif']\n",
      "['2018-10-10.tif', '2018-10-20.tif', '2018-10-31.tif']\n",
      "['2018-11-10.tif', '2018-11-20.tif', '2018-11-30.tif']\n",
      "['2018-12-10.tif', '2018-12-20.tif', '2018-12-31.tif']\n",
      "['2019-01-10.tif', '2019-01-20.tif', '2019-01-31.tif']\n",
      "['2019-02-10.tif', '2019-02-20.tif', '2019-02-28.tif']\n",
      "['2019-03-10.tif', '2019-03-20.tif', '2019-03-31.tif']\n",
      "['2019-04-10.tif', '2019-04-20.tif', '2019-04-30.tif']\n",
      "['2019-05-10.tif', '2019-05-20.tif', '2019-05-31.tif']\n",
      "['2019-06-10.tif', '2019-06-20.tif', '2019-06-30.tif']\n",
      "['2019-07-10.tif', '2019-07-20.tif', '2019-07-31.tif']\n",
      "['2019-08-10.tif', '2019-08-20.tif', '2019-08-31.tif']\n",
      "['2019-09-10.tif', '2019-09-20.tif', '2019-09-30.tif']\n",
      "['2019-10-10.tif', '2019-10-20.tif', '2019-10-31.tif']\n",
      "['2019-11-10.tif', '2019-11-20.tif', '2019-11-30.tif']\n",
      "['2019-12-10.tif', '2019-12-20.tif', '2019-12-31.tif']\n",
      "['2020-01-10.tif', '2020-01-20.tif', '2020-01-31.tif']\n",
      "['2020-02-10.tif', '2020-02-20.tif', '2020-02-29.tif']\n",
      "['2020-03-10.tif', '2020-03-20.tif', '2020-03-31.tif']\n",
      "['2020-04-10.tif', '2020-04-20.tif', '2020-04-30.tif']\n",
      "['2020-05-10.tif', '2020-05-20.tif', '2020-05-31.tif']\n",
      "['2020-06-10.tif', '2020-06-20.tif', '2020-06-30.tif']\n",
      "['2020-07-10.tif', '2020-07-20.tif', '2020-07-31.tif']\n",
      "['2020-08-10.tif', '2020-08-20.tif', '2020-08-31.tif']\n",
      "['2020-09-10.tif', '2020-09-20.tif', '2020-09-30.tif']\n",
      "['2020-10-10.tif', '2020-10-20.tif', '2020-10-31.tif']\n",
      "['2020-11-10.tif', '2020-11-20.tif', '2020-11-30.tif']\n",
      "['2020-12-10.tif', '2020-12-20.tif', '2020-12-31.tif']\n",
      "['2021-01-10.tif', '2021-01-20.tif', '2021-01-31.tif']\n",
      "['2021-02-10.tif', '2021-02-20.tif', '2021-02-28.tif']\n",
      "['2021-03-10.tif', '2021-03-20.tif', '2021-03-31.tif']\n",
      "['2021-04-10.tif', '2021-04-20.tif', '2021-04-30.tif']\n",
      "['2021-05-10.tif', '2021-05-20.tif', '2021-05-31.tif']\n",
      "['2021-06-10.tif', '2021-06-20.tif', '2021-06-30.tif']\n",
      "['2021-07-10.tif', '2021-07-20.tif', '2021-07-31.tif']\n",
      "['2021-08-10.tif', '2021-08-20.tif', '2021-08-31.tif']\n",
      "['2021-09-10.tif', '2021-09-20.tif', '2021-09-30.tif']\n",
      "['2021-10-10.tif', '2021-10-20.tif', '2021-10-31.tif']\n",
      "['2021-11-10.tif', '2021-11-20.tif', '2021-11-30.tif']\n",
      "['2021-12-10.tif', '2021-12-20.tif', '2021-12-31.tif']\n",
      "['2022-01-10.tif', '2022-01-20.tif', '2022-01-31.tif']\n",
      "['2022-02-10.tif', '2022-02-20.tif', '2022-02-28.tif']\n",
      "['2022-03-10.tif', '2022-03-20.tif', '2022-03-31.tif']\n",
      "['2022-04-10.tif', '2022-04-20.tif', '2022-04-30.tif']\n",
      "['2022-05-10.tif', '2022-05-20.tif', '2022-05-31.tif']\n",
      "[]\n",
      "[]\n",
      "[]\n",
      "[]\n",
      "[]\n",
      "[]\n",
      "[]\n"
     ]
    }
   ],
   "source": [
    "import importlib\n",
    "importlib.reload(Preprocess)\n",
    "#importlib.reload(ncdf_tiff)\n",
    "\n",
    "Preprocess.monthly_averages('C:\\\\Users\\\\Jesse\\\\OneDrive\\\\Documenten\\\\Data_Thesis\\\\BA\\\\', 'C:\\\\Users\\\\Jesse\\\\OneDrive\\\\Documenten\\\\Data_Thesis\\\\BA_monthly\\\\', 2014, 2022)"
   ]
  },
  {
   "cell_type": "markdown",
   "metadata": {},
   "source": [
    "PRE"
   ]
  },
  {
   "cell_type": "code",
   "execution_count": 13,
   "metadata": {},
   "outputs": [
    {
     "name": "stdout",
     "output_type": "stream",
     "text": [
      "['2015-01-01.tif', '2015-01-02.tif', '2015-01-03.tif', '2015-01-04.tif', '2015-01-05.tif', '2015-01-06.tif', '2015-01-07.tif', '2015-01-08.tif', '2015-01-09.tif', '2015-01-10.tif', '2015-01-11.tif', '2015-01-12.tif', '2015-01-13.tif', '2015-01-14.tif', '2015-01-15.tif', '2015-01-16.tif', '2015-01-16.tif.aux.xml', '2015-01-17.tif', '2015-01-18.tif', '2015-01-19.tif', '2015-01-20.tif', '2015-01-21.tif', '2015-01-22.tif', '2015-01-23.tif', '2015-01-24.tif', '2015-01-25.tif', '2015-01-26.tif', '2015-01-27.tif', '2015-01-28.tif', '2015-01-29.tif', '2015-01-30.tif', '2015-01-31.tif']\n"
     ]
    },
    {
     "ename": "AttributeError",
     "evalue": "'NoneType' object has no attribute 'GetRasterBand'",
     "output_type": "error",
     "traceback": [
      "\u001b[1;31m---------------------------------------------------------------------------\u001b[0m",
      "\u001b[1;31mAttributeError\u001b[0m                            Traceback (most recent call last)",
      "\u001b[1;32m<ipython-input-13-67cff9e1847c>\u001b[0m in \u001b[0;36m<module>\u001b[1;34m\u001b[0m\n\u001b[0;32m      3\u001b[0m \u001b[1;31m#importlib.reload(ncdf_tiff)\u001b[0m\u001b[1;33m\u001b[0m\u001b[1;33m\u001b[0m\u001b[1;33m\u001b[0m\u001b[0m\n\u001b[0;32m      4\u001b[0m \u001b[1;33m\u001b[0m\u001b[0m\n\u001b[1;32m----> 5\u001b[1;33m \u001b[0mPreprocess\u001b[0m\u001b[1;33m.\u001b[0m\u001b[0mmonthly_averages\u001b[0m\u001b[1;33m(\u001b[0m\u001b[1;34m'C:\\\\Users\\\\Jesse\\\\OneDrive\\\\Documenten\\\\Data_Thesis\\\\PRE\\\\'\u001b[0m\u001b[1;33m,\u001b[0m \u001b[1;34m'C:\\\\Users\\\\Jesse\\\\OneDrive\\\\Documenten\\\\Data_Thesis\\\\PRE_monthly\\\\'\u001b[0m\u001b[1;33m,\u001b[0m \u001b[1;36m2015\u001b[0m\u001b[1;33m,\u001b[0m \u001b[1;36m2018\u001b[0m\u001b[1;33m)\u001b[0m\u001b[1;33m\u001b[0m\u001b[1;33m\u001b[0m\u001b[0m\n\u001b[0m",
      "\u001b[1;32mc:\\Users\\Jesse\\OneDrive\\Documenten\\Master BAOR\\Thesis\\GitHub\\dicra\\analytics\\sandbox\\notebooks\\crop_fires\\Functions\\Preprocess.py\u001b[0m in \u001b[0;36mmonthly_averages\u001b[1;34m(folder_path, dest_path, beginyear, endyear)\u001b[0m\n\u001b[0;32m    166\u001b[0m                 \u001b[1;32mfor\u001b[0m \u001b[0mj\u001b[0m \u001b[1;32min\u001b[0m \u001b[0mrange\u001b[0m\u001b[1;33m(\u001b[0m\u001b[0mn\u001b[0m\u001b[1;33m)\u001b[0m\u001b[1;33m:\u001b[0m\u001b[1;33m\u001b[0m\u001b[1;33m\u001b[0m\u001b[0m\n\u001b[0;32m    167\u001b[0m                     \u001b[0mimages\u001b[0m\u001b[1;33m.\u001b[0m\u001b[0mappend\u001b[0m\u001b[1;33m(\u001b[0m\u001b[0mgdal\u001b[0m\u001b[1;33m.\u001b[0m\u001b[0mOpen\u001b[0m\u001b[1;33m(\u001b[0m\u001b[0mfolder_path\u001b[0m \u001b[1;33m+\u001b[0m \u001b[0mgroup\u001b[0m\u001b[1;33m[\u001b[0m\u001b[0mj\u001b[0m\u001b[1;33m]\u001b[0m\u001b[1;33m)\u001b[0m\u001b[1;33m)\u001b[0m \u001b[1;31m# Open each of the n images\u001b[0m\u001b[1;33m\u001b[0m\u001b[1;33m\u001b[0m\u001b[0m\n\u001b[1;32m--> 168\u001b[1;33m                     \u001b[0mval_array\u001b[0m\u001b[1;33m.\u001b[0m\u001b[0mappend\u001b[0m\u001b[1;33m(\u001b[0m\u001b[0mimages\u001b[0m\u001b[1;33m[\u001b[0m\u001b[0mj\u001b[0m\u001b[1;33m]\u001b[0m\u001b[1;33m.\u001b[0m\u001b[0mGetRasterBand\u001b[0m\u001b[1;33m(\u001b[0m\u001b[1;36m1\u001b[0m\u001b[1;33m)\u001b[0m\u001b[1;33m.\u001b[0m\u001b[0mReadAsArray\u001b[0m\u001b[1;33m(\u001b[0m\u001b[1;33m)\u001b[0m\u001b[1;33m.\u001b[0m\u001b[0mflatten\u001b[0m\u001b[1;33m(\u001b[0m\u001b[1;33m)\u001b[0m\u001b[1;33m)\u001b[0m  \u001b[1;31m# Read each of the n images as an array\u001b[0m\u001b[1;33m\u001b[0m\u001b[1;33m\u001b[0m\u001b[0m\n\u001b[0m\u001b[0;32m    169\u001b[0m \u001b[1;33m\u001b[0m\u001b[0m\n\u001b[0;32m    170\u001b[0m                 \u001b[0mcol\u001b[0m \u001b[1;33m=\u001b[0m \u001b[0mimages\u001b[0m\u001b[1;33m[\u001b[0m\u001b[1;36m0\u001b[0m\u001b[1;33m]\u001b[0m\u001b[1;33m.\u001b[0m\u001b[0mRasterXSize\u001b[0m \u001b[1;31m# number of columns\u001b[0m\u001b[1;33m\u001b[0m\u001b[1;33m\u001b[0m\u001b[0m\n",
      "\u001b[1;31mAttributeError\u001b[0m: 'NoneType' object has no attribute 'GetRasterBand'"
     ]
    }
   ],
   "source": [
    "import importlib\n",
    "importlib.reload(Preprocess)\n",
    "#importlib.reload(ncdf_tiff)\n",
    "\n",
    "Preprocess.monthly_averages('C:\\\\Users\\\\Jesse\\\\OneDrive\\\\Documenten\\\\Data_Thesis\\\\PRE\\\\', 'C:\\\\Users\\\\Jesse\\\\OneDrive\\\\Documenten\\\\Data_Thesis\\\\PRE_monthly\\\\', 2015, 2018)"
   ]
  },
  {
   "cell_type": "markdown",
   "metadata": {},
   "source": [
    "# COG\n",
    "##### We need to create a geooptimized tif file. Add the following text in OSGeo4W Shell : "
   ]
  },
  {
   "cell_type": "markdown",
   "metadata": {},
   "source": [
    "#for %N in (C:/Users/Jesse/OneDrive/Documenten/Rescaled/*.tiff) DO gdal_translate C:/Users/Jesse/OneDrive/Documenten/Rescaled/%~nN.tiff  C:/Users/Jesse/OneDrive/Documenten/COG/%~nN.tiff -co COMPRESS=LZW -co TILED=YES\n",
    "\n",
    "\n",
    "#OR\n",
    "for %N in (C:/Users/Jesse/OneDrive/Documenten/Rescaled/*.tif) DO gdal_translate C:/Users/Jesse/OneDrive/Documenten/Rescaled/%~nN.tif  C:/Users/Jesse/OneDrive/Documenten/COG/%~nN.tif -co COMPRESS=LZW -co TILED=YES\n",
    " \n"
   ]
  }
 ],
 "metadata": {
  "kernelspec": {
   "display_name": "Python 3.8.11 ('gurobi')",
   "language": "python",
   "name": "python3"
  },
  "language_info": {
   "codemirror_mode": {
    "name": "ipython",
    "version": 3
   },
   "file_extension": ".py",
   "mimetype": "text/x-python",
   "name": "python",
   "nbconvert_exporter": "python",
   "pygments_lexer": "ipython3",
   "version": "3.8.11"
  },
  "orig_nbformat": 4,
  "vscode": {
   "interpreter": {
    "hash": "8137cca2c96495771a6332c43a92746d2e8f2f032dec7e1d4873522724197fcb"
   }
  }
 },
 "nbformat": 4,
 "nbformat_minor": 2
}
