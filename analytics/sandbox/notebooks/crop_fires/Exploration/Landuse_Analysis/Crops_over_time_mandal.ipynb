{
 "cells": [
  {
   "cell_type": "code",
   "execution_count": null,
   "metadata": {},
   "outputs": [],
   "source": [
    "import pandas as pd\n",
    "import os\n",
    "import geopandas as gpd\n",
    "import geoplot\n",
    "import geoplot.crs as gcrs\n",
    "import matplotlib.pyplot as plt\n",
    "from shapely.geometry import Point\n",
    "import folium\n",
    "import rasterio\n",
    "import numpy as np\n",
    "import datetime as dt\n",
    "from rasterstats import zonal_stats\n",
    "from matplotlib import pyplot\n",
    "\n",
    "oldpwd = os.getcwd()"
   ]
  },
  {
   "cell_type": "code",
   "execution_count": null,
   "metadata": {},
   "outputs": [],
   "source": [
    "mandal_boundaries = gpd.read_file('../../../../../../src/data_preprocessing/tsdm/Mandal_Boundary.shp')\n",
    "mandal_boundaries = mandal_boundaries.reset_index()\n",
    "\n",
    "shape_telangana = gpd.read_file('../../../../../../src/data_preprocessing/base_geojson/TL_state_shapefile_for_clip.geojson')\n",
    "shape_telangana = shape_telangana.explode()\n"
   ]
  },
  {
   "cell_type": "code",
   "execution_count": null,
   "metadata": {},
   "outputs": [],
   "source": [
    "def crop_counts(boundaries, year):\n",
    "    tiff = '01-01-'+str(year)+'.tif'\n",
    "    lulc = rasterio.open(tiff, mode = 'r')\n",
    "    lulc_array = lulc.read(1) # landuse corresponding to each rasterpixel, so we extracted the pixel values from the raster\n",
    "    # affine: 1: corresponds to the width of each pixel, 2: row rotation, 3: x-coordinate of the upper left pixel, 4: column rotation, 5: height of each pixel, 6: y-coordinate of the upper left pixel\n",
    "    affine = lulc.transform\n",
    "\n",
    "    cmap = {1: 'Water', 2: 'Trees', 4: 'Flooded Vegetation', 5: 'Crops', 7: 'Built Area', 8: 'Bare Ground', 9: 'Snow/Ice', 10: 'Clouds', 11: 'Rangeland'}\n",
    "    boundaries['Crops ' + str(year)] = 0\n",
    "    boundaries['Flooded Vegetation ' + str(year)] = 0\n",
    "\n",
    "    test = zonal_stats(boundaries.geometry, lulc_array, affine = affine, geojson_out = True, nodata = lulc.nodata, categorical=True, category_map = cmap)\n",
    "\n",
    "    for i in range(0, len(test)):\n",
    "        try:\n",
    "            boundaries['Crops ' + str(year)].iloc[i] = test[i]['properties']['Crops']  * 0.0001\n",
    "        except:\n",
    "            boundaries['Crops ' + str(year)].iloc[i] = 0\n",
    "        try:\n",
    "            boundaries['Flooded Vegetation ' + str(year)].iloc[i] = test[i]['properties']['Flooded Vegetation']  * 0.0001\n",
    "        except:\n",
    "            boundaries['Flooded Vegetation ' + str(year)].iloc[i] = 0\n",
    "        \n",
    "    return (boundaries)"
   ]
  },
  {
   "cell_type": "code",
   "execution_count": null,
   "metadata": {},
   "outputs": [],
   "source": [
    "for a in range(2017, 2020):\n",
    "    mandal_boundaries = crop_counts(mandal_boundaries, a)\n",
    "    print('Year ' + str(a) + ' is completed.')"
   ]
  },
  {
   "cell_type": "code",
   "execution_count": null,
   "metadata": {},
   "outputs": [],
   "source": [
    "crops_over_time_mandal = mandal_boundaries[['geometry', 'Crops 2017', 'Crops 2018', 'Crops 2019', 'Flooded Vegetation 2017', 'Flooded Vegetation 2018', 'Flooded Vegetation 2019' ]]\n"
   ]
  },
  {
   "cell_type": "code",
   "execution_count": null,
   "metadata": {},
   "outputs": [],
   "source": [
    "crops_over_time_mandal['2017'] = crops_over_time_mandal['Crops 2017'] + crops_over_time_mandal['Flooded Vegetation 2017']\n",
    "crops_over_time_mandal['2018'] = crops_over_time_mandal['Crops 2018'] + crops_over_time_mandal['Flooded Vegetation 2018']\n",
    "crops_over_time_mandal['2019'] = crops_over_time_mandal['Crops 2019'] + crops_over_time_mandal['Flooded Vegetation 2019']"
   ]
  },
  {
   "cell_type": "code",
   "execution_count": null,
   "metadata": {},
   "outputs": [],
   "source": [
    "#crops_over_time_mandal = crops_over_time_mandal.reset_index()\n",
    "fig, (axs) = pyplot.subplots(ncols=3, figsize=(12,4))\n",
    "axs=axs.ravel()\n",
    "\n",
    "axs[0].axis('off')\n",
    "axs[0].set_title('2017')\n",
    "crops_over_time_mandal.plot(ax = axs[0], column = '2017')\n",
    "\n",
    "axs[1].axis('off')\n",
    "axs[1].set_title('2018')\n",
    "crops_over_time_mandal.plot(ax = axs[1], column = '2018')\n",
    "\n",
    "axs[2].axis('off')\n",
    "axs[2].set_title('2019')\n",
    "crops_over_time_mandal.plot(ax = axs[2], column = '2019')\n",
    "\n",
    "patch_col = axs[0].collections[0]\n",
    "cb = fig.colorbar(patch_col, ax=axs, shrink = 0.75)\n",
    "fig.suptitle('Crop Area km2')\n",
    "plt.show()"
   ]
  },
  {
   "cell_type": "code",
   "execution_count": null,
   "metadata": {},
   "outputs": [],
   "source": [
    "plt.plot(['2017', '2018', '2019'], [crops_over_time_mandal['2017'].sum(), crops_over_time_mandal['2018'].sum() , crops_over_time_mandal['2019'].sum()])\n",
    "plt.title('Area Crops Over Time')\n",
    "plt.ylim([0, 80000])\n",
    "plt.xlabel('Year')\n",
    "plt.ylabel('Area km2')\n",
    "plt.show()"
   ]
  },
  {
   "cell_type": "code",
   "execution_count": null,
   "metadata": {},
   "outputs": [],
   "source": [
    "fig = plt.figure(figsize = (20,18))\n",
    "\n",
    "for i in range(0, len(mandal_boundaries)):\n",
    "    x_axis = ['01-01-2017', '01-01-2018', '01-01-2019', '01-01-2020', '01-01-2021']\n",
    "    y_axis = crops_over_time[i].to_list()\n",
    "    plt.plot(x_axis, y_axis)\n",
    "\n",
    "plt.title('Amount of Crop Area per Mandal')\n",
    "plt.xlabel('Date')\n",
    "plt.ylabel('Crop Area (Amount of pixels)')\n",
    "plt.show()"
   ]
  },
  {
   "cell_type": "code",
   "execution_count": null,
   "metadata": {},
   "outputs": [],
   "source": [
    "from statsmodels.tsa.stattools import adfuller     \n",
    "from statsmodels.tsa.stattools import kpss\n",
    "\n",
    "adf_test = []\n",
    "kpss_test = []\n",
    "for i in range(0, len(mandal_boundaries)):\n",
    "    X = crops_over_time[i]\n",
    "    result = adfuller(X)\n",
    "    adf_test.append(result[1])\n",
    "\n",
    "    try:\n",
    "        kpsstest = kpss(X, regression='c', nlags=\"auto\")\n",
    "        kpss_output = pd.Series(kpsstest[0:3], index=['Test Statistic','p-value','#Lags Used'])\n",
    "        kpss_test.append(kpss_output[1])\n",
    "    except:\n",
    "        kpss_test.append(0.1)\n"
   ]
  },
  {
   "cell_type": "code",
   "execution_count": null,
   "metadata": {},
   "outputs": [],
   "source": [
    "fig = plt.figure(figsize = (20,18))\n",
    "\n",
    "for i in range(0, len(mandal_boundaries)):\n",
    "    kpss_test[i]\n",
    "    if (kpss_test[i]<0.05) & (adf_test[i]>0.05):\n",
    "        x_axis = ['01-01-2017', '01-01-2018', '01-01-2019', '01-01-2020', '01-01-2021']\n",
    "        y_axis = crops_over_time[i].to_list()\n",
    "        plt.plot(x_axis, y_axis)\n",
    "\n",
    "plt.title('Amount of Crop Area per Mandal')\n",
    "plt.xlabel('Date')\n",
    "plt.ylabel('Crop Area (Amount of pixels)')\n",
    "plt.show()"
   ]
  },
  {
   "cell_type": "code",
   "execution_count": null,
   "metadata": {},
   "outputs": [],
   "source": [
    "crops_over_time.mean(axis = 1).plot()\n",
    "plt.ylim(1000000, 1300000)\n",
    "plt.title('Average Amount of Crops per Mandal')\n",
    "plt.ylabel('Crops (Amount of Pixels)')\n",
    "plt.show()\n"
   ]
  }
 ],
 "metadata": {
  "kernelspec": {
   "display_name": "Python 3.10.6 64-bit",
   "language": "python",
   "name": "python3"
  },
  "language_info": {
   "codemirror_mode": {
    "name": "ipython",
    "version": 3
   },
   "file_extension": ".py",
   "mimetype": "text/x-python",
   "name": "python",
   "nbconvert_exporter": "python",
   "pygments_lexer": "ipython3",
   "version": "3.10.6"
  },
  "orig_nbformat": 4,
  "vscode": {
   "interpreter": {
    "hash": "916dbcbb3f70747c44a77c7bcd40155683ae19c65e1c03b4aa3499c5328201f1"
   }
  }
 },
 "nbformat": 4,
 "nbformat_minor": 2
}
