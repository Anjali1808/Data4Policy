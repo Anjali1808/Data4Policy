{
 "cells": [
  {
   "cell_type": "code",
   "execution_count": 10,
   "metadata": {},
   "outputs": [],
   "source": [
    "import pandas as pd\n",
    "import os\n",
    "import geopandas as gpd\n",
    "import geoplot\n",
    "import geoplot.crs as gcrs\n",
    "import matplotlib.pyplot as plt\n",
    "import rasterio\n",
    "from statsmodels.tsa.seasonal import STL\n",
    "import numpy as np\n",
    "from sklearn.linear_model import LinearRegression\n",
    "import datetime as dt\n",
    "from matplotlib.colors import TwoSlopeNorm\n",
    "import time\n",
    "from rasterstats import zonal_stats\n",
    "from scipy.stats import pearsonr\n",
    "import plotly.express as px"
   ]
  },
  {
   "cell_type": "code",
   "execution_count": 11,
   "metadata": {},
   "outputs": [],
   "source": [
    "os.chdir('c:\\\\Users\\\\Jesse\\\\OneDrive\\\\Documenten\\\\Master BAOR\\\\Thesis\\\\GitHub\\\\dicra\\\\analytics\\\\sandbox\\\\notebooks\\\\crop_fires\\\\Mandal_boundaries_pre')\n",
    "mandal_boundaries = gpd.read_file('mandal_boundaries.shp')\n",
    "mandal_boundaries = mandal_boundaries.reset_index()\n",
    "\n",
    "os.chdir('c:\\\\Users\\\\Jesse\\\\OneDrive\\\\Documenten\\\\Master BAOR\\\\Thesis\\\\GitHub\\\\dicra\\\\src\\\\data_preprocessing\\\\tsdm\\\\')\n",
    "district_boundaries = gpd.read_file('District_Boundary.shp')\n",
    "district_boundaries = district_boundaries.reset_index()\n"
   ]
  },
  {
   "cell_type": "code",
   "execution_count": 12,
   "metadata": {},
   "outputs": [],
   "source": [
    "def Trend_Score(df, index:int): \n",
    "    \"\"\"Determines the trend score of a polygon it takes as input a dataframe that counts the fires per region per month and the index of a specific region and returns \n",
    "    the deviance score of that particular region\"\"\"\n",
    "    df_selected = df[['ModifiedDateTime', index]]\n",
    "    df_selected = df_selected.sort_values(by=['ModifiedDateTime'])\n",
    "    df_selected.index = df_selected['ModifiedDateTime']\n",
    "\n",
    "    if not df_selected.empty:\n",
    "\n",
    "        X = df_selected[index]\n",
    "\n",
    "        #Decompose using STL Seasonal-Trend Decomposition using LOESS\n",
    "        stl = STL(X, seasonal=7)\n",
    "        res = stl.fit()\n",
    "\n",
    "        df_trend = res.trend.to_frame().reset_index().dropna()\n",
    "\n",
    "        #Date needs to be converted to a numerical value\n",
    "        df_trend['ModifiedDateTime_num'] = df_trend['ModifiedDateTime'].map(dt.datetime.toordinal)\n",
    "\n",
    "        #Set the data in the right format for Linear Regression\n",
    "        X = np.array(df_trend['ModifiedDateTime_num'])\n",
    "        X = X.reshape(-1, 1)\n",
    "        y = np.array(df_trend['trend'])\n",
    "        y = y.reshape(-1, 1)\n",
    "\n",
    "        #Perform Linear Regression and obtain the slope\n",
    "        reg = LinearRegression().fit(X, y)\n",
    "        y_pred_trend = reg.predict(X)\n",
    "        slope, intercept = np.polyfit(np.array(df_trend['ModifiedDateTime_num']), y_pred_trend,1)\n",
    "        line_slope = slope[0]\n",
    "\n",
    "    else:\n",
    "        #If the dataframe is empty there are no fires in that region at all, also no slope line. We are not interested in these regions.\n",
    "        line_slope = 'Unknown'\n",
    "\n",
    "    return(line_slope)"
   ]
  },
  {
   "cell_type": "code",
   "execution_count": 13,
   "metadata": {},
   "outputs": [],
   "source": [
    "def correlation(data, endyear, name, boundaries, col_name):\n",
    "    data['ModifiedDateTime'] = pd.to_datetime(data['ModifiedDateTime'])\n",
    "    data = data[data['ModifiedDateTime']<str(endyear+1)+'-01-01']\n",
    "\n",
    "    #We will loop over all boundaries and calculate it's deviant score\n",
    "    ids= []\n",
    "    scores = []\n",
    "\n",
    "    for i in data.columns[1:-1]:\n",
    "        ids.append(i)\n",
    "        #We use the previously defined function in order to calculate the trend score per specific area\n",
    "        score = Trend_Score(data, i)\n",
    "        scores.append(score)\n",
    "\n",
    "    #Create a Dataframe from the scores\n",
    "    DPPD_df = pd.DataFrame({'index': ids, 'Slope Score': scores}) \n",
    "\n",
    "    #Only select the regions that do not have unknown scores\n",
    "    DPPD_df = DPPD_df[DPPD_df['Slope Score'] != 'Unknown']\n",
    "\n",
    "    DPPD_df['index'] = DPPD_df['index'].astype(int)\n",
    "\n",
    "    #We merge the dataframe with the boundaries dataframe such that we have the geometry variable\n",
    "    DPPD_df = DPPD_df.merge(boundaries[['index', 'geometry']], how='left', on=['index'])\n",
    "\n",
    "    #Making sure data has the right type\n",
    "    DPPD_df = gpd.GeoDataFrame(DPPD_df, geometry = DPPD_df.geometry, crs = {'init': 'epsg:4326'}) \n",
    "    DPPD_df['Slope Score'] = DPPD_df['Slope Score'].astype('float')\n",
    "\n",
    "    if col_name == 'Dist_Name':\n",
    "        word = 'district level'\n",
    "    else:\n",
    "        word = 'mandal level'\n",
    "\n",
    "    #Define text for the plots\n",
    "    text = 'Changes ' + name + ' 2015-'+ str(endyear) + ' ' + word\n",
    "    ranges = max(abs(DPPD_df['Slope Score'].min()), (DPPD_df['Slope Score'].max()))\n",
    "    vmin, vmax, vcenter = ranges*-1 , ranges, 0\n",
    "    norm = TwoSlopeNorm(vmin= vmin , vcenter=vcenter, vmax= vmax) \n",
    "    # create a normalized colorbar\n",
    "    cmap = 'RdYlGn_r'\n",
    "    cbar = plt.cm.ScalarMappable(norm=norm, cmap=cmap)\n",
    "    DPPD_df.plot(column = 'Slope Score', \n",
    "                        legend = True, \n",
    "                        figsize = [20,10],\\\n",
    "                        legend_kwds = {'label': 'Deviance'}, \n",
    "                        cmap = 'RdYlGn_r',\n",
    "                        norm = norm)\n",
    "    plt.title(text)\n",
    "    os.chdir('c:\\\\Users\\\\Jesse\\\\OneDrive\\\\Documenten\\\\Master BAOR\\\\Thesis\\\\GitHub\\\\dicra\\\\analytics\\\\sandbox\\\\notebooks\\\\crop_fires\\\\DPPD_Jesse\\\\'+name+'\\\\result')\n",
    "    plt.savefig(text + '.png', bbox_inches='tight')\n",
    "    plt.show()\n",
    "\n",
    "    os.chdir('c:\\\\Users\\\\Jesse\\\\OneDrive\\\\Documenten\\\\Master BAOR\\\\Thesis\\\\GitHub\\\\dicra\\\\analytics\\\\sandbox\\\\notebooks\\\\crop_fires\\\\DPPD_Jesse\\\\Fires\\\\results')\n",
    "    DPPD_Fires = pd.read_csv('DPPD_Fires_'+str(endyear)+'.csv', index_col = 0)\n",
    "    DPPD_Fires.columns = ['index', 'Slope Score Fires', 'geometry']\n",
    "\n",
    "    Corr = DPPD_Fires.merge(DPPD_df[['Slope Score', 'index']], how = 'left', on = ['index'])\n",
    "    Corr = Corr.merge(boundaries[['index', col_name]], how = 'left', on = ['index'])\n",
    "    Corr = Corr.dropna()\n",
    "\n",
    "    fig = px.scatter(x=Corr['Slope Score Fires'], y=Corr['Slope Score'], color = Corr[col_name], title = 'Relation Between ' + name + ' and Amount of Fires Changes over the Years 2015-'+str(endyear),\n",
    "                    labels={\n",
    "                     \"x\": \"Deviance Scores Amount of Fires\",\n",
    "                     \"y\": \"Deviance Scores \" + name,\n",
    "                     \"color\": \"Area\"\n",
    "                 },)\n",
    "    fig.show()\n",
    "    os.chdir('c:\\\\Users\\\\Jesse\\\\OneDrive\\\\Documenten\\\\Master BAOR\\\\Thesis\\\\GitHub\\\\dicra\\\\analytics\\\\sandbox\\\\notebooks\\\\crop_fires\\\\DPPD_Jesse\\\\'+name+'\\\\result')\n",
    "    fig.write_image('Relation between '+ name +' and Fires Changes ' + word + '.png')\n",
    "    plt.scatter(Corr['Slope Score Fires'], Corr['Slope Score'])\n",
    "    plt.title('Relation Between ' + name + ' and Amount of Fires Changes over the Years 2015-'+str(endyear))\n",
    "    plt.xlabel('Deviance Score Fires')\n",
    "    plt.ylabel('Deviance Score '+name)\n",
    "    os.chdir('c:\\\\Users\\\\Jesse\\\\OneDrive\\\\Documenten\\\\Master BAOR\\\\Thesis\\\\GitHub\\\\dicra\\\\analytics\\\\sandbox\\\\notebooks\\\\crop_fires\\\\DPPD_Jesse\\\\'+name+'\\\\result')\n",
    "    plt.savefig('Relation between '+ name +' and Fires Changes matplotlib' + word + '.png', bbox_inches='tight')\n",
    "    #plt.show()\n",
    "\n",
    "    corr, _ = pearsonr(Corr['Slope Score Fires'], Corr['Slope Score'])\n",
    "    print('Pearsons correlation: %.3f' % corr)\n",
    "    return()"
   ]
  },
  {
   "cell_type": "code",
   "execution_count": 6,
   "metadata": {},
   "outputs": [
    {
     "name": "stderr",
     "output_type": "stream",
     "text": [
      "c:\\Users\\Jesse\\Anaconda3\\envs\\gurobi\\lib\\site-packages\\geopandas\\geodataframe.py:1322: SettingWithCopyWarning: \n",
      "A value is trying to be set on a copy of a slice from a DataFrame.\n",
      "Try using .loc[row_indexer,col_indexer] = value instead\n",
      "\n",
      "See the caveats in the documentation: https://pandas.pydata.org/pandas-docs/stable/user_guide/indexing.html#returning-a-view-versus-a-copy\n",
      "  super(GeoDataFrame, self).__setitem__(key, value)\n",
      "c:\\Users\\Jesse\\Anaconda3\\envs\\gurobi\\lib\\site-packages\\pandas\\core\\indexing.py:1732: SettingWithCopyWarning: \n",
      "A value is trying to be set on a copy of a slice from a DataFrame\n",
      "\n",
      "See the caveats in the documentation: https://pandas.pydata.org/pandas-docs/stable/user_guide/indexing.html#returning-a-view-versus-a-copy\n",
      "  self._setitem_single_block(indexer, value, name)\n",
      "c:\\Users\\Jesse\\Anaconda3\\envs\\gurobi\\lib\\site-packages\\pandas\\core\\indexing.py:1965: SettingWithCopyWarning: \n",
      "A value is trying to be set on a copy of a slice from a DataFrame\n",
      "\n",
      "See the caveats in the documentation: https://pandas.pydata.org/pandas-docs/stable/user_guide/indexing.html#returning-a-view-versus-a-copy\n",
      "  self.obj._check_is_chained_assignment_possible()\n"
     ]
    }
   ],
   "source": [
    "#Read data from tiff files\n",
    "boundaries = mandal_boundaries\n",
    "columns =['index', 'Dist_Name', 'Mandal_Nam', 'geometry']\n",
    "\n",
    "Soil_temp_df = boundaries[columns]\n",
    "Soil_temp_df.head()\n",
    "\n",
    "months = ['01', '02', '03', '04', '05', '06', '07', '08', '09', '10', '11', '12']\n",
    "\n",
    "for year in range(2015, 2022):\n",
    "    for month in months:\n",
    "        os.chdir('c:\\\\Users\\\\Jesse\\\\OneDrive\\\\Documenten\\\\Soil Temperature')\n",
    "        tiff = 'MOD_LSTD_M_'+ str(year) + '-'+ month + '-01_rgb_3600x1800.tiff'\n",
    "        lulc = rasterio.open(tiff, mode = 'r')\n",
    "        lulc_array = lulc.read(1) \n",
    "        affine = lulc.transform\n",
    "\n",
    "        Soil_temp_df[str(year) + '-'+ month + '-01'] = 0\n",
    "        for a in range(0, len(boundaries)):\n",
    "            soil_mean = zonal_stats(boundaries.iloc[a].geometry, lulc_array, affine = affine, geojson_out = True, nodata = lulc.nodata)[0]['properties']['mean']\n",
    "            Soil_temp_df[str(year) + '-'+ month + '-01'].iloc[a] = soil_mean\n",
    "\n",
    "Soil_temp_df = Soil_temp_df.dropna()\n",
    "Soil_temp_df = Soil_temp_df.iloc[:, 4:].transpose().reset_index()\n",
    "Soil_temp_df['ModifiedDateTime'] = pd.to_datetime(Soil_temp_df['index'])\n",
    "\n",
    "os.chdir('c:\\\\Users\\\\Jesse\\\\OneDrive\\\\Documenten\\\\Master BAOR\\\\Thesis\\\\GitHub\\\\dicra\\\\analytics\\\\sandbox\\\\notebooks\\\\crop_fires\\\\DPPD_Jesse\\\\Soil_Temp')\n",
    "Soil_temp_df.to_csv('Soil_Temp_years_mandal.csv')\n"
   ]
  },
  {
   "cell_type": "code",
   "execution_count": 12,
   "metadata": {},
   "outputs": [],
   "source": [
    "#os.chdir('c:\\\\Users\\\\Jesse\\\\OneDrive\\\\Documenten\\\\Soil Temperature')\n",
    "#tiff = 'MOD_LSTD_M_2015-01-01_rgb_3600x1800.tiff'\n",
    "#lulc = rasterio.open(tiff, mode = 'r')\n",
    "#lulc_array = lulc.read(1) \n",
    "#affine = lulc.transform\n",
    "\n",
    "\n",
    "#zonal_stats(boundaries.iloc[0].geometry, lulc_array, affine = affine, geojson_out = True, nodata = lulc.nodata)[0]\n"
   ]
  },
  {
   "cell_type": "code",
   "execution_count": 14,
   "metadata": {},
   "outputs": [
    {
     "name": "stderr",
     "output_type": "stream",
     "text": [
      "c:\\Users\\Jesse\\Anaconda3\\envs\\gurobi\\lib\\site-packages\\pyproj\\crs\\crs.py:53: FutureWarning: '+init=<authority>:<code>' syntax is deprecated. '<authority>:<code>' is the preferred initialization method. When making the change, be mindful of axis order changes: https://pyproj4.github.io/pyproj/stable/gotchas.html#axis-order-changes-in-proj-6\n",
      "  return _prepare_from_string(\" \".join(pjargs))\n"
     ]
    },
    {
     "data": {
      "image/png": "[encoded data removed]",
      "text/plain": [
       "<Figure size 2000x1000 with 2 Axes>"
      ]
     },
     "metadata": {},
     "output_type": "display_data"
    },
    {
     "data": {
      "application/vnd.plotly.v1+json": {
       "config": {
        "plotlyServerURL": "https://plot.ly"
       },
       "data": [
        {
         "hovertemplate": "Area=Bhadradri Kothagudem<br>Deviance Scores Amount of Fires=%{x}<br>Deviance Scores Soil_Temp=%{y}<extra></extra>",
         "legendgroup": "Bhadradri Kothagudem",
         "marker": {
          "color": "#636efa",
          "symbol": "circle"
         },
         "mode": "markers",
         "name": "Bhadradri Kothagudem",
         "orientation": "v",
         "showlegend": true,
         "type": "scatter",
         "x": [
          -0.00003904194030099539
         ],
         "xaxis": "x",
         "y": [
          -0.0028607401606070447
         ],
         "yaxis": "y"
        },
        {
         "hovertemplate": "Area=Jagtial<br>Deviance Scores Amount of Fires=%{x}<br>Deviance Scores Soil_Temp=%{y}<extra></extra>",
         "legendgroup": "Jagtial",
         "marker": {
          "color": "#EF553B",
          "symbol": "circle"
         },
         "mode": "markers",
         "name": "Jagtial",
         "orientation": "v",
         "showlegend": true,
         "type": "scatter",
         "x": [
          0.00004817862055273215
         ],
         "xaxis": "x",
         "y": [
          -0.0060637069087858065
         ],
         "yaxis": "y"
        },
        {
         "hovertemplate": "Area=Mulugu<br>Deviance Scores Amount of Fires=%{x}<br>Deviance Scores Soil_Temp=%{y}<extra></extra>",
         "legendgroup": "Mulugu",
         "marker": {
          "color": "#00cc96",
          "symbol": "circle"
         },
         "mode": "markers",
         "name": "Mulugu",
         "orientation": "v",
         "showlegend": true,
         "type": "scatter",
         "x": [
          0.00007702679402203895
         ],
         "xaxis": "x",
         "y": [
          -0.002555104245261422
         ],
         "yaxis": "y"
        },
        {
         "hovertemplate": "Area=Kamareddy<br>Deviance Scores Amount of Fires=%{x}<br>Deviance Scores Soil_Temp=%{y}<extra></extra>",
         "legendgroup": "Kamareddy",
         "marker": {
          "color": "#ab63fa",
          "symbol": "circle"
         },
         "mode": "markers",
         "name": "Kamareddy",
         "orientation": "v",
         "showlegend": true,
         "type": "scatter",
         "x": [
          0.0004656943424186
         ],
         "xaxis": "x",
         "y": [
          -0.005829777008009399
         ],
         "yaxis": "y"
        },
        {
         "hovertemplate": "Area=Karimnagar<br>Deviance Scores Amount of Fires=%{x}<br>Deviance Scores Soil_Temp=%{y}<extra></extra>",
         "legendgroup": "Karimnagar",
         "marker": {
          "color": "#FFA15A",
          "symbol": "circle"
         },
         "mode": "markers",
         "name": "Karimnagar",
         "orientation": "v",
         "showlegend": true,
         "type": "scatter",
         "x": [
          -0.00001465475629417234
         ],
         "xaxis": "x",
         "y": [
          -0.007486802030165659
         ],
         "yaxis": "y"
        },
        {
         "hovertemplate": "Area=Mahabubabad<br>Deviance Scores Amount of Fires=%{x}<br>Deviance Scores Soil_Temp=%{y}<extra></extra>",
         "legendgroup": "Mahabubabad",
         "marker": {
          "color": "#19d3f3",
          "symbol": "circle"
         },
         "mode": "markers",
         "name": "Mahabubabad",
         "orientation": "v",
         "showlegend": true,
         "type": "scatter",
         "x": [
          0.000024500426919763263
         ],
         "xaxis": "x",
         "y": [
          -0.004005077822461119
         ],
         "yaxis": "y"
        },
        {
         "hovertemplate": "Area=Mancherial<br>Deviance Scores Amount of Fires=%{x}<br>Deviance Scores Soil_Temp=%{y}<extra></extra>",
         "legendgroup": "Mancherial",
         "marker": {
          "color": "#FF6692",
          "symbol": "circle"
         },
         "mode": "markers",
         "name": "Mancherial",
         "orientation": "v",
         "showlegend": true,
         "type": "scatter",
         "x": [
          0.00001684000864893318
         ],
         "xaxis": "x",
         "y": [
          -0.004229451174416739
         ],
         "yaxis": "y"
        },
        {
         "hovertemplate": "Area=Medak<br>Deviance Scores Amount of Fires=%{x}<br>Deviance Scores Soil_Temp=%{y}<extra></extra>",
         "legendgroup": "Medak",
         "marker": {
          "color": "#B6E880",
          "symbol": "circle"
         },
         "mode": "markers",
         "name": "Medak",
         "orientation": "v",
         "showlegend": true,
         "type": "scatter",
         "x": [
          0.00002666614412205709
         ],
         "xaxis": "x",
         "y": [
          -0.004577472294006775
         ],
         "yaxis": "y"
        },
        {
         "hovertemplate": "Area=Nagarkurnool<br>Deviance Scores Amount of Fires=%{x}<br>Deviance Scores Soil_Temp=%{y}<extra></extra>",
         "legendgroup": "Nagarkurnool",
         "marker": {
          "color": "#FF97FF",
          "symbol": "circle"
         },
         "mode": "markers",
         "name": "Nagarkurnool",
         "orientation": "v",
         "showlegend": true,
         "type": "scatter",
         "x": [
          0.000020697297194972982
         ],
         "xaxis": "x",
         "y": [
          -0.006477418274406722
         ],
         "yaxis": "y"
        },
        {
         "hovertemplate": "Area=Nalgonda<br>Deviance Scores Amount of Fires=%{x}<br>Deviance Scores Soil_Temp=%{y}<extra></extra>",
         "legendgroup": "Nalgonda",
         "marker": {
          "color": "#FECB52",
          "symbol": "circle"
         },
         "mode": "markers",
         "name": "Nalgonda",
         "orientation": "v",
         "showlegend": true,
         "type": "scatter",
         "x": [
          -0.00001344309143103946
         ],
         "xaxis": "x",
         "y": [
          -0.006122989058991434
         ],
         "yaxis": "y"
        },
        {
         "hovertemplate": "Area=Nirmal<br>Deviance Scores Amount of Fires=%{x}<br>Deviance Scores Soil_Temp=%{y}<extra></extra>",
         "legendgroup": "Nirmal",
         "marker": {
          "color": "#636efa",
          "symbol": "circle"
         },
         "mode": "markers",
         "name": "Nirmal",
         "orientation": "v",
         "showlegend": true,
         "type": "scatter",
         "x": [
          -0.0000151779323594159
         ],
         "xaxis": "x",
         "y": [
          -0.005486778089938113
         ],
         "yaxis": "y"
        },
        {
         "hovertemplate": "Area=Rajanna Sircilla<br>Deviance Scores Amount of Fires=%{x}<br>Deviance Scores Soil_Temp=%{y}<extra></extra>",
         "legendgroup": "Rajanna Sircilla",
         "marker": {
          "color": "#EF553B",
          "symbol": "circle"
         },
         "mode": "markers",
         "name": "Rajanna Sircilla",
         "orientation": "v",
         "showlegend": true,
         "type": "scatter",
         "x": [
          0.000015364814241880098
         ],
         "xaxis": "x",
         "y": [
          -0.0067184582552990675
         ],
         "yaxis": "y"
        },
        {
         "hovertemplate": "Area=Vikarabad<br>Deviance Scores Amount of Fires=%{x}<br>Deviance Scores Soil_Temp=%{y}<extra></extra>",
         "legendgroup": "Vikarabad",
         "marker": {
          "color": "#00cc96",
          "symbol": "circle"
         },
         "mode": "markers",
         "name": "Vikarabad",
         "orientation": "v",
         "showlegend": true,
         "type": "scatter",
         "x": [
          0.00002612444171694199
         ],
         "xaxis": "x",
         "y": [
          -0.0042819019847594115
         ],
         "yaxis": "y"
        },
        {
         "hovertemplate": "Area=Wanaparthy<br>Deviance Scores Amount of Fires=%{x}<br>Deviance Scores Soil_Temp=%{y}<extra></extra>",
         "legendgroup": "Wanaparthy",
         "marker": {
          "color": "#ab63fa",
          "symbol": "circle"
         },
         "mode": "markers",
         "name": "Wanaparthy",
         "orientation": "v",
         "showlegend": true,
         "type": "scatter",
         "x": [
          -0.00001959912952713305
         ],
         "xaxis": "x",
         "y": [
          -0.0076927252151453036
         ],
         "yaxis": "y"
        },
        {
         "hovertemplate": "Area=Warangal Rural<br>Deviance Scores Amount of Fires=%{x}<br>Deviance Scores Soil_Temp=%{y}<extra></extra>",
         "legendgroup": "Warangal Rural",
         "marker": {
          "color": "#FFA15A",
          "symbol": "circle"
         },
         "mode": "markers",
         "name": "Warangal Rural",
         "orientation": "v",
         "showlegend": true,
         "type": "scatter",
         "x": [
          -0.000008551544115508802
         ],
         "xaxis": "x",
         "y": [
          -0.004059136625821775
         ],
         "yaxis": "y"
        },
        {
         "hovertemplate": "Area=Warangal Urban<br>Deviance Scores Amount of Fires=%{x}<br>Deviance Scores Soil_Temp=%{y}<extra></extra>",
         "legendgroup": "Warangal Urban",
         "marker": {
          "color": "#19d3f3",
          "symbol": "circle"
         },
         "mode": "markers",
         "name": "Warangal Urban",
         "orientation": "v",
         "showlegend": true,
         "type": "scatter",
         "x": [
          0.000128618555937
         ],
         "xaxis": "x",
         "y": [
          -0.006618192942224304
         ],
         "yaxis": "y"
        },
        {
         "hovertemplate": "Area=Yadadri Bhuvanagiri<br>Deviance Scores Amount of Fires=%{x}<br>Deviance Scores Soil_Temp=%{y}<extra></extra>",
         "legendgroup": "Yadadri Bhuvanagiri",
         "marker": {
          "color": "#FF6692",
          "symbol": "circle"
         },
         "mode": "markers",
         "name": "Yadadri Bhuvanagiri",
         "orientation": "v",
         "showlegend": true,
         "type": "scatter",
         "x": [
          -0.00006423419089129302
         ],
         "xaxis": "x",
         "y": [
          -0.006369234339768321
         ],
         "yaxis": "y"
        },
        {
         "hovertemplate": "Area=Narayanpet<br>Deviance Scores Amount of Fires=%{x}<br>Deviance Scores Soil_Temp=%{y}<extra></extra>",
         "legendgroup": "Narayanpet",
         "marker": {
          "color": "#B6E880",
          "symbol": "circle"
         },
         "mode": "markers",
         "name": "Narayanpet",
         "orientation": "v",
         "showlegend": true,
         "type": "scatter",
         "x": [
          0.000024723627455510597
         ],
         "xaxis": "x",
         "y": [
          -0.006212986460771875
         ],
         "yaxis": "y"
        },
        {
         "hovertemplate": "Area=Jogulamba Gadwal<br>Deviance Scores Amount of Fires=%{x}<br>Deviance Scores Soil_Temp=%{y}<extra></extra>",
         "legendgroup": "Jogulamba Gadwal",
         "marker": {
          "color": "#FF97FF",
          "symbol": "circle"
         },
         "mode": "markers",
         "name": "Jogulamba Gadwal",
         "orientation": "v",
         "showlegend": true,
         "type": "scatter",
         "x": [
          -0.000004512009435352603
         ],
         "xaxis": "x",
         "y": [
          -0.006476744599054138
         ],
         "yaxis": "y"
        },
        {
         "hovertemplate": "Area=Suryapet<br>Deviance Scores Amount of Fires=%{x}<br>Deviance Scores Soil_Temp=%{y}<extra></extra>",
         "legendgroup": "Suryapet",
         "marker": {
          "color": "#FECB52",
          "symbol": "circle"
         },
         "mode": "markers",
         "name": "Suryapet",
         "orientation": "v",
         "showlegend": true,
         "type": "scatter",
         "x": [
          -0.00005261212269466971
         ],
         "xaxis": "x",
         "y": [
          -0.0065719859398889495
         ],
         "yaxis": "y"
        },
        {
         "hovertemplate": "Area=Medchal Malkajgiri<br>Deviance Scores Amount of Fires=%{x}<br>Deviance Scores Soil_Temp=%{y}<extra></extra>",
         "legendgroup": "Medchal Malkajgiri",
         "marker": {
          "color": "#636efa",
          "symbol": "circle"
         },
         "mode": "markers",
         "name": "Medchal Malkajgiri",
         "orientation": "v",
         "showlegend": true,
         "type": "scatter",
         "x": [
          -0.0001347562299189
         ],
         "xaxis": "x",
         "y": [
          -0.005378629119259489
         ],
         "yaxis": "y"
        },
        {
         "hovertemplate": "Area=Adilabad<br>Deviance Scores Amount of Fires=%{x}<br>Deviance Scores Soil_Temp=%{y}<extra></extra>",
         "legendgroup": "Adilabad",
         "marker": {
          "color": "#EF553B",
          "symbol": "circle"
         },
         "mode": "markers",
         "name": "Adilabad",
         "orientation": "v",
         "showlegend": true,
         "type": "scatter",
         "x": [
          0.00000887957799205207
         ],
         "xaxis": "x",
         "y": [
          -0.0032174251518888065
         ],
         "yaxis": "y"
        },
        {
         "hovertemplate": "Area=Hyderabad<br>Deviance Scores Amount of Fires=%{x}<br>Deviance Scores Soil_Temp=%{y}<extra></extra>",
         "legendgroup": "Hyderabad",
         "marker": {
          "color": "#00cc96",
          "symbol": "circle"
         },
         "mode": "markers",
         "name": "Hyderabad",
         "orientation": "v",
         "showlegend": true,
         "type": "scatter",
         "x": [
          -0.00008013384616764917
         ],
         "xaxis": "x",
         "y": [
          -0.004132271008705077
         ],
         "yaxis": "y"
        },
        {
         "hovertemplate": "Area=Kumurambheem Asifabad<br>Deviance Scores Amount of Fires=%{x}<br>Deviance Scores Soil_Temp=%{y}<extra></extra>",
         "legendgroup": "Kumurambheem Asifabad",
         "marker": {
          "color": "#ab63fa",
          "symbol": "circle"
         },
         "mode": "markers",
         "name": "Kumurambheem Asifabad",
         "orientation": "v",
         "showlegend": true,
         "type": "scatter",
         "x": [
          0.00009504124752745903
         ],
         "xaxis": "x",
         "y": [
          -0.003702905264137837
         ],
         "yaxis": "y"
        },
        {
         "hovertemplate": "Area=Jayashankar Bhupalpally<br>Deviance Scores Amount of Fires=%{x}<br>Deviance Scores Soil_Temp=%{y}<extra></extra>",
         "legendgroup": "Jayashankar Bhupalpally",
         "marker": {
          "color": "#FFA15A",
          "symbol": "circle"
         },
         "mode": "markers",
         "name": "Jayashankar Bhupalpally",
         "orientation": "v",
         "showlegend": true,
         "type": "scatter",
         "x": [
          0.0000019910224268776446
         ],
         "xaxis": "x",
         "y": [
          -0.004179030686093599
         ],
         "yaxis": "y"
        },
        {
         "hovertemplate": "Area=Mahabubnagar<br>Deviance Scores Amount of Fires=%{x}<br>Deviance Scores Soil_Temp=%{y}<extra></extra>",
         "legendgroup": "Mahabubnagar",
         "marker": {
          "color": "#19d3f3",
          "symbol": "circle"
         },
         "mode": "markers",
         "name": "Mahabubnagar",
         "orientation": "v",
         "showlegend": true,
         "type": "scatter",
         "x": [
          -0.000075036844902414
         ],
         "xaxis": "x",
         "y": [
          -0.006195699184365569
         ],
         "yaxis": "y"
        }
       ],
       "layout": {
        "legend": {
         "title": {
          "text": "Area"
         },
         "tracegroupgap": 0
        },
        "template": {
         "data": {
          "bar": [
           {
            "error_x": {
             "color": "#2a3f5f"
            },
            "error_y": {
             "color": "#2a3f5f"
            },
            "marker": {
             "line": {
              "color": "#E5ECF6",
              "width": 0.5
             },
             "pattern": {
              "fillmode": "overlay",
              "size": 10,
              "solidity": 0.2
             }
            },
            "type": "bar"
           }
          ],
          "barpolar": [
           {
            "marker": {
             "line": {
              "color": "#E5ECF6",
              "width": 0.5
             },
             "pattern": {
              "fillmode": "overlay",
              "size": 10,
              "solidity": 0.2
             }
            },
            "type": "barpolar"
           }
          ],
          "carpet": [
           {
            "aaxis": {
             "endlinecolor": "#2a3f5f",
             "gridcolor": "white",
             "linecolor": "white",
             "minorgridcolor": "white",
             "startlinecolor": "#2a3f5f"
            },
            "baxis": {
             "endlinecolor": "#2a3f5f",
             "gridcolor": "white",
             "linecolor": "white",
             "minorgridcolor": "white",
             "startlinecolor": "#2a3f5f"
            },
            "type": "carpet"
           }
          ],
          "choropleth": [
           {
            "colorbar": {
             "outlinewidth": 0,
             "ticks": ""
            },
            "type": "choropleth"
           }
          ],
          "contour": [
           {
            "colorbar": {
             "outlinewidth": 0,
             "ticks": ""
            },
            "colorscale": [
             [
              0,
              "#0d0887"
             ],
             [
              0.1111111111111111,
              "#46039f"
             ],
             [
              0.2222222222222222,
              "#7201a8"
             ],
             [
              0.3333333333333333,
              "#9c179e"
             ],
             [
              0.4444444444444444,
              "#bd3786"
             ],
             [
              0.5555555555555556,
              "#d8576b"
             ],
             [
              0.6666666666666666,
              "#ed7953"
             ],
             [
              0.7777777777777778,
              "#fb9f3a"
             ],
             [
              0.8888888888888888,
              "#fdca26"
             ],
             [
              1,
              "#f0f921"
             ]
            ],
            "type": "contour"
           }
          ],
          "contourcarpet": [
           {
            "colorbar": {
             "outlinewidth": 0,
             "ticks": ""
            },
            "type": "contourcarpet"
           }
          ],
          "heatmap": [
           {
            "colorbar": {
             "outlinewidth": 0,
             "ticks": ""
            },
            "colorscale": [
             [
              0,
              "#0d0887"
             ],
             [
              0.1111111111111111,
              "#46039f"
             ],
             [
              0.2222222222222222,
              "#7201a8"
             ],
             [
              0.3333333333333333,
              "#9c179e"
             ],
             [
              0.4444444444444444,
              "#bd3786"
             ],
             [
              0.5555555555555556,
              "#d8576b"
             ],
             [
              0.6666666666666666,
              "#ed7953"
             ],
             [
              0.7777777777777778,
              "#fb9f3a"
             ],
             [
              0.8888888888888888,
              "#fdca26"
             ],
             [
              1,
              "#f0f921"
             ]
            ],
            "type": "heatmap"
           }
          ],
          "heatmapgl": [
           {
            "colorbar": {
             "outlinewidth": 0,
             "ticks": ""
            },
            "colorscale": [
             [
              0,
              "#0d0887"
             ],
             [
              0.1111111111111111,
              "#46039f"
             ],
             [
              0.2222222222222222,
              "#7201a8"
             ],
             [
              0.3333333333333333,
              "#9c179e"
             ],
             [
              0.4444444444444444,
              "#bd3786"
             ],
             [
              0.5555555555555556,
              "#d8576b"
             ],
             [
              0.6666666666666666,
              "#ed7953"
             ],
             [
              0.7777777777777778,
              "#fb9f3a"
             ],
             [
              0.8888888888888888,
              "#fdca26"
             ],
             [
              1,
              "#f0f921"
             ]
            ],
            "type": "heatmapgl"
           }
          ],
          "histogram": [
           {
            "marker": {
             "pattern": {
              "fillmode": "overlay",
              "size": 10,
              "solidity": 0.2
             }
            },
            "type": "histogram"
           }
          ],
          "histogram2d": [
           {
            "colorbar": {
             "outlinewidth": 0,
             "ticks": ""
            },
            "colorscale": [
             [
              0,
              "#0d0887"
             ],
             [
              0.1111111111111111,
              "#46039f"
             ],
             [
              0.2222222222222222,
              "#7201a8"
             ],
             [
              0.3333333333333333,
              "#9c179e"
             ],
             [
              0.4444444444444444,
              "#bd3786"
             ],
             [
              0.5555555555555556,
              "#d8576b"
             ],
             [
              0.6666666666666666,
              "#ed7953"
             ],
             [
              0.7777777777777778,
              "#fb9f3a"
             ],
             [
              0.8888888888888888,
              "#fdca26"
             ],
             [
              1,
              "#f0f921"
             ]
            ],
            "type": "histogram2d"
           }
          ],
          "histogram2dcontour": [
           {
            "colorbar": {
             "outlinewidth": 0,
             "ticks": ""
            },
            "colorscale": [
             [
              0,
              "#0d0887"
             ],
             [
              0.1111111111111111,
              "#46039f"
             ],
             [
              0.2222222222222222,
              "#7201a8"
             ],
             [
              0.3333333333333333,
              "#9c179e"
             ],
             [
              0.4444444444444444,
              "#bd3786"
             ],
             [
              0.5555555555555556,
              "#d8576b"
             ],
             [
              0.6666666666666666,
              "#ed7953"
             ],
             [
              0.7777777777777778,
              "#fb9f3a"
             ],
             [
              0.8888888888888888,
              "#fdca26"
             ],
             [
              1,
              "#f0f921"
             ]
            ],
            "type": "histogram2dcontour"
           }
          ],
          "mesh3d": [
           {
            "colorbar": {
             "outlinewidth": 0,
             "ticks": ""
            },
            "type": "mesh3d"
           }
          ],
          "parcoords": [
           {
            "line": {
             "colorbar": {
              "outlinewidth": 0,
              "ticks": ""
             }
            },
            "type": "parcoords"
           }
          ],
          "pie": [
           {
            "automargin": true,
            "type": "pie"
           }
          ],
          "scatter": [
           {
            "marker": {
             "colorbar": {
              "outlinewidth": 0,
              "ticks": ""
             }
            },
            "type": "scatter"
           }
          ],
          "scatter3d": [
           {
            "line": {
             "colorbar": {
              "outlinewidth": 0,
              "ticks": ""
             }
            },
            "marker": {
             "colorbar": {
              "outlinewidth": 0,
              "ticks": ""
             }
            },
            "type": "scatter3d"
           }
          ],
          "scattercarpet": [
           {
            "marker": {
             "colorbar": {
              "outlinewidth": 0,
              "ticks": ""
             }
            },
            "type": "scattercarpet"
           }
          ],
          "scattergeo": [
           {
            "marker": {
             "colorbar": {
              "outlinewidth": 0,
              "ticks": ""
             }
            },
            "type": "scattergeo"
           }
          ],
          "scattergl": [
           {
            "marker": {
             "colorbar": {
              "outlinewidth": 0,
              "ticks": ""
             }
            },
            "type": "scattergl"
           }
          ],
          "scattermapbox": [
           {
            "marker": {
             "colorbar": {
              "outlinewidth": 0,
              "ticks": ""
             }
            },
            "type": "scattermapbox"
           }
          ],
          "scatterpolar": [
           {
            "marker": {
             "colorbar": {
              "outlinewidth": 0,
              "ticks": ""
             }
            },
            "type": "scatterpolar"
           }
          ],
          "scatterpolargl": [
           {
            "marker": {
             "colorbar": {
              "outlinewidth": 0,
              "ticks": ""
             }
            },
            "type": "scatterpolargl"
           }
          ],
          "scatterternary": [
           {
            "marker": {
             "colorbar": {
              "outlinewidth": 0,
              "ticks": ""
             }
            },
            "type": "scatterternary"
           }
          ],
          "surface": [
           {
            "colorbar": {
             "outlinewidth": 0,
             "ticks": ""
            },
            "colorscale": [
             [
              0,
              "#0d0887"
             ],
             [
              0.1111111111111111,
              "#46039f"
             ],
             [
              0.2222222222222222,
              "#7201a8"
             ],
             [
              0.3333333333333333,
              "#9c179e"
             ],
             [
              0.4444444444444444,
              "#bd3786"
             ],
             [
              0.5555555555555556,
              "#d8576b"
             ],
             [
              0.6666666666666666,
              "#ed7953"
             ],
             [
              0.7777777777777778,
              "#fb9f3a"
             ],
             [
              0.8888888888888888,
              "#fdca26"
             ],
             [
              1,
              "#f0f921"
             ]
            ],
            "type": "surface"
           }
          ],
          "table": [
           {
            "cells": {
             "fill": {
              "color": "#EBF0F8"
             },
             "line": {
              "color": "white"
             }
            },
            "header": {
             "fill": {
              "color": "#C8D4E3"
             },
             "line": {
              "color": "white"
             }
            },
            "type": "table"
           }
          ]
         },
         "layout": {
          "annotationdefaults": {
           "arrowcolor": "#2a3f5f",
           "arrowhead": 0,
           "arrowwidth": 1
          },
          "autotypenumbers": "strict",
          "coloraxis": {
           "colorbar": {
            "outlinewidth": 0,
            "ticks": ""
           }
          },
          "colorscale": {
           "diverging": [
            [
             0,
             "#8e0152"
            ],
            [
             0.1,
             "#c51b7d"
            ],
            [
             0.2,
             "#de77ae"
            ],
            [
             0.3,
             "#f1b6da"
            ],
            [
             0.4,
             "#fde0ef"
            ],
            [
             0.5,
             "#f7f7f7"
            ],
            [
             0.6,
             "#e6f5d0"
            ],
            [
             0.7,
             "#b8e186"
            ],
            [
             0.8,
             "#7fbc41"
            ],
            [
             0.9,
             "#4d9221"
            ],
            [
             1,
             "#276419"
            ]
           ],
           "sequential": [
            [
             0,
             "#0d0887"
            ],
            [
             0.1111111111111111,
             "#46039f"
            ],
            [
             0.2222222222222222,
             "#7201a8"
            ],
            [
             0.3333333333333333,
             "#9c179e"
            ],
            [
             0.4444444444444444,
             "#bd3786"
            ],
            [
             0.5555555555555556,
             "#d8576b"
            ],
            [
             0.6666666666666666,
             "#ed7953"
            ],
            [
             0.7777777777777778,
             "#fb9f3a"
            ],
            [
             0.8888888888888888,
             "#fdca26"
            ],
            [
             1,
             "#f0f921"
            ]
           ],
           "sequentialminus": [
            [
             0,
             "#0d0887"
            ],
            [
             0.1111111111111111,
             "#46039f"
            ],
            [
             0.2222222222222222,
             "#7201a8"
            ],
            [
             0.3333333333333333,
             "#9c179e"
            ],
            [
             0.4444444444444444,
             "#bd3786"
            ],
            [
             0.5555555555555556,
             "#d8576b"
            ],
            [
             0.6666666666666666,
             "#ed7953"
            ],
            [
             0.7777777777777778,
             "#fb9f3a"
            ],
            [
             0.8888888888888888,
             "#fdca26"
            ],
            [
             1,
             "#f0f921"
            ]
           ]
          },
          "colorway": [
           "#636efa",
           "#EF553B",
           "#00cc96",
           "#ab63fa",
           "#FFA15A",
           "#19d3f3",
           "#FF6692",
           "#B6E880",
           "#FF97FF",
           "#FECB52"
          ],
          "font": {
           "color": "#2a3f5f"
          },
          "geo": {
           "bgcolor": "white",
           "lakecolor": "white",
           "landcolor": "#E5ECF6",
           "showlakes": true,
           "showland": true,
           "subunitcolor": "white"
          },
          "hoverlabel": {
           "align": "left"
          },
          "hovermode": "closest",
          "mapbox": {
           "style": "light"
          },
          "paper_bgcolor": "white",
          "plot_bgcolor": "#E5ECF6",
          "polar": {
           "angularaxis": {
            "gridcolor": "white",
            "linecolor": "white",
            "ticks": ""
           },
           "bgcolor": "#E5ECF6",
           "radialaxis": {
            "gridcolor": "white",
            "linecolor": "white",
            "ticks": ""
           }
          },
          "scene": {
           "xaxis": {
            "backgroundcolor": "#E5ECF6",
            "gridcolor": "white",
            "gridwidth": 2,
            "linecolor": "white",
            "showbackground": true,
            "ticks": "",
            "zerolinecolor": "white"
           },
           "yaxis": {
            "backgroundcolor": "#E5ECF6",
            "gridcolor": "white",
            "gridwidth": 2,
            "linecolor": "white",
            "showbackground": true,
            "ticks": "",
            "zerolinecolor": "white"
           },
           "zaxis": {
            "backgroundcolor": "#E5ECF6",
            "gridcolor": "white",
            "gridwidth": 2,
            "linecolor": "white",
            "showbackground": true,
            "ticks": "",
            "zerolinecolor": "white"
           }
          },
          "shapedefaults": {
           "line": {
            "color": "#2a3f5f"
           }
          },
          "ternary": {
           "aaxis": {
            "gridcolor": "white",
            "linecolor": "white",
            "ticks": ""
           },
           "baxis": {
            "gridcolor": "white",
            "linecolor": "white",
            "ticks": ""
           },
           "bgcolor": "#E5ECF6",
           "caxis": {
            "gridcolor": "white",
            "linecolor": "white",
            "ticks": ""
           }
          },
          "title": {
           "x": 0.05
          },
          "xaxis": {
           "automargin": true,
           "gridcolor": "white",
           "linecolor": "white",
           "ticks": "",
           "title": {
            "standoff": 15
           },
           "zerolinecolor": "white",
           "zerolinewidth": 2
          },
          "yaxis": {
           "automargin": true,
           "gridcolor": "white",
           "linecolor": "white",
           "ticks": "",
           "title": {
            "standoff": 15
           },
           "zerolinecolor": "white",
           "zerolinewidth": 2
          }
         }
        },
        "title": {
         "text": "Relation Between Soil_Temp and Amount of Fires Changes over the Years 2015-2021"
        },
        "xaxis": {
         "anchor": "y",
         "domain": [
          0,
          1
         ],
         "title": {
          "text": "Deviance Scores Amount of Fires"
         }
        },
        "yaxis": {
         "anchor": "x",
         "domain": [
          0,
          1
         ],
         "title": {
          "text": "Deviance Scores Soil_Temp"
         }
        }
       }
      }
     },
     "metadata": {},
     "output_type": "display_data"
    },
    {
     "name": "stdout",
     "output_type": "stream",
     "text": [
      "Pearsons correlation: 0.017\n"
     ]
    },
    {
     "data": {
      "text/plain": [
       "()"
      ]
     },
     "execution_count": 14,
     "metadata": {},
     "output_type": "execute_result"
    }
   ],
   "source": [
    "os.chdir('c:\\\\Users\\\\Jesse\\\\OneDrive\\\\Documenten\\\\Master BAOR\\\\Thesis\\\\GitHub\\\\dicra\\\\analytics\\\\sandbox\\\\notebooks\\\\crop_fires\\\\DPPD_Jesse\\\\Soil_Temp')\n",
    "Soil_Temp_df = pd.read_csv('Soil_Temp_years_district.csv', index_col=0)\n",
    "correlation(Soil_Temp_df, 2021, 'Soil_Temp', district_boundaries, 'Dist_Name')"
   ]
  },
  {
   "cell_type": "code",
   "execution_count": 15,
   "metadata": {},
   "outputs": [
    {
     "name": "stderr",
     "output_type": "stream",
     "text": [
      "c:\\Users\\Jesse\\Anaconda3\\envs\\gurobi\\lib\\site-packages\\pyproj\\crs\\crs.py:53: FutureWarning:\n",
      "\n",
      "'+init=<authority>:<code>' syntax is deprecated. '<authority>:<code>' is the preferred initialization method. When making the change, be mindful of axis order changes: https://pyproj4.github.io/pyproj/stable/gotchas.html#axis-order-changes-in-proj-6\n",
      "\n"
     ]
    },
    {
     "data": {
      "image/png": "[encoded data removed]",
      "text/plain": [
       "<Figure size 640x480 with 1 Axes>"
      ]
     },
     "metadata": {},
     "output_type": "display_data"
    },
    {
     "data": {
      "image/png": "[encoded data removed]",
      "text/plain": [
       "<Figure size 2000x1000 with 2 Axes>"
      ]
     },
     "metadata": {},
     "output_type": "display_data"
    },
    {
     "data": {
      "application/vnd.plotly.v1+json": {
       "config": {
        "plotlyServerURL": "https://plot.ly"
       },
       "data": [
        {
         "hovertemplate": "Area=Abdullapurmet<br>Deviance Scores Amount of Fires=%{x}<br>Deviance Scores Soil_Temp=%{y}<extra></extra>",
         "legendgroup": "Abdullapurmet",
         "marker": {
          "color": "#636efa",
          "symbol": "circle"
         },
         "mode": "markers",
         "name": "Abdullapurmet",
         "orientation": "v",
         "showlegend": true,
         "type": "scatter",
         "x": [
          -0.00003904194030099539
         ],
         "xaxis": "x",
         "y": [
          -0.004827618559169016
         ],
         "yaxis": "y"
        },
        {
         "hovertemplate": "Area=Achampet<br>Deviance Scores Amount of Fires=%{x}<br>Deviance Scores Soil_Temp=%{y}<extra></extra>",
         "legendgroup": "Achampet",
         "marker": {
          "color": "#EF553B",
          "symbol": "circle"
         },
         "mode": "markers",
         "name": "Achampet",
         "orientation": "v",
         "showlegend": true,
         "type": "scatter",
         "x": [
          0.00004817862055273215
         ],
         "xaxis": "x",
         "y": [
          -0.006226315194343645
         ],
         "yaxis": "y"
        },
        {
         "hovertemplate": "Area=Addagudur<br>Deviance Scores Amount of Fires=%{x}<br>Deviance Scores Soil_Temp=%{y}<extra></extra>",
         "legendgroup": "Addagudur",
         "marker": {
          "color": "#00cc96",
          "symbol": "circle"
         },
         "mode": "markers",
         "name": "Addagudur",
         "orientation": "v",
         "showlegend": true,
         "type": "scatter",
         "x": [
          0.00007702679402203895
         ],
         "xaxis": "x",
         "y": [
          -0.006003658559588594
         ],
         "yaxis": "y"
        },
        {
         "hovertemplate": "Area=Addakal<br>Deviance Scores Amount of Fires=%{x}<br>Deviance Scores Soil_Temp=%{y}<extra></extra>",
         "legendgroup": "Addakal",
         "marker": {
          "color": "#ab63fa",
          "symbol": "circle"
         },
         "mode": "markers",
         "name": "Addakal",
         "orientation": "v",
         "showlegend": true,
         "type": "scatter",
         "x": [
          0.0004656943424186
         ],
         "xaxis": "x",
         "y": [
          -0.008384026271641554
         ],
         "yaxis": "y"
        },
        {
         "hovertemplate": "Area=Adilabad Rural<br>Deviance Scores Amount of Fires=%{x}<br>Deviance Scores Soil_Temp=%{y}<extra></extra>",
         "legendgroup": "Adilabad Rural",
         "marker": {
          "color": "#FFA15A",
          "symbol": "circle"
         },
         "mode": "markers",
         "name": "Adilabad Rural",
         "orientation": "v",
         "showlegend": true,
         "type": "scatter",
         "x": [
          -0.00001465475629417234
         ],
         "xaxis": "x",
         "y": [
          -0.00297814641419898
         ],
         "yaxis": "y"
        },
        {
         "hovertemplate": "Area=Aiza<br>Deviance Scores Amount of Fires=%{x}<br>Deviance Scores Soil_Temp=%{y}<extra></extra>",
         "legendgroup": "Aiza",
         "marker": {
          "color": "#19d3f3",
          "symbol": "circle"
         },
         "mode": "markers",
         "name": "Aiza",
         "orientation": "v",
         "showlegend": true,
         "type": "scatter",
         "x": [
          0.000024500426919763263
         ],
         "xaxis": "x",
         "y": [
          -0.006748603757157332
         ],
         "yaxis": "y"
        },
        {
         "hovertemplate": "Area=Akkannapet<br>Deviance Scores Amount of Fires=%{x}<br>Deviance Scores Soil_Temp=%{y}<extra></extra>",
         "legendgroup": "Akkannapet",
         "marker": {
          "color": "#FF6692",
          "symbol": "circle"
         },
         "mode": "markers",
         "name": "Akkannapet",
         "orientation": "v",
         "showlegend": true,
         "type": "scatter",
         "x": [
          0.00001684000864893318
         ],
         "xaxis": "x",
         "y": [
          -0.005351090682421008
         ],
         "yaxis": "y"
        },
        {
         "hovertemplate": "Area=Alair<br>Deviance Scores Amount of Fires=%{x}<br>Deviance Scores Soil_Temp=%{y}<extra></extra>",
         "legendgroup": "Alair",
         "marker": {
          "color": "#B6E880",
          "symbol": "circle"
         },
         "mode": "markers",
         "name": "Alair",
         "orientation": "v",
         "showlegend": true,
         "type": "scatter",
         "x": [
          0.00002666614412205709
         ],
         "xaxis": "x",
         "y": [
          -0.006221941791194872
         ],
         "yaxis": "y"
        },
        {
         "hovertemplate": "Area=Alampur<br>Deviance Scores Amount of Fires=%{x}<br>Deviance Scores Soil_Temp=%{y}<extra></extra>",
         "legendgroup": "Alampur",
         "marker": {
          "color": "#FF97FF",
          "symbol": "circle"
         },
         "mode": "markers",
         "name": "Alampur",
         "orientation": "v",
         "showlegend": true,
         "type": "scatter",
         "x": [
          0.000020697297194972982
         ],
         "xaxis": "x",
         "y": [
          -0.011146007389179398
         ],
         "yaxis": "y"
        },
        {
         "hovertemplate": "Area=Alladurg<br>Deviance Scores Amount of Fires=%{x}<br>Deviance Scores Soil_Temp=%{y}<extra></extra>",
         "legendgroup": "Alladurg",
         "marker": {
          "color": "#FECB52",
          "symbol": "circle"
         },
         "mode": "markers",
         "name": "Alladurg",
         "orientation": "v",
         "showlegend": true,
         "type": "scatter",
         "x": [
          -0.00001344309143103946
         ],
         "xaxis": "x",
         "y": [
          -0.00412866551180679
         ],
         "yaxis": "y"
        },
        {
         "hovertemplate": "Area=Allapalli<br>Deviance Scores Amount of Fires=%{x}<br>Deviance Scores Soil_Temp=%{y}<extra></extra>",
         "legendgroup": "Allapalli",
         "marker": {
          "color": "#636efa",
          "symbol": "circle"
         },
         "mode": "markers",
         "name": "Allapalli",
         "orientation": "v",
         "showlegend": true,
         "type": "scatter",
         "x": [
          -0.0000151779323594159
         ],
         "xaxis": "x",
         "y": [
          -0.0019666362667151416
         ],
         "yaxis": "y"
        },
        {
         "hovertemplate": "Area=Amrabad<br>Deviance Scores Amount of Fires=%{x}<br>Deviance Scores Soil_Temp=%{y}<extra></extra>",
         "legendgroup": "Amrabad",
         "marker": {
          "color": "#EF553B",
          "symbol": "circle"
         },
         "mode": "markers",
         "name": "Amrabad",
         "orientation": "v",
         "showlegend": true,
         "type": "scatter",
         "x": [
          0.00002612444171694199
         ],
         "xaxis": "x",
         "y": [
          -0.004506947327555457
         ],
         "yaxis": "y"
        },
        {
         "hovertemplate": "Area=Ananthagiri<br>Deviance Scores Amount of Fires=%{x}<br>Deviance Scores Soil_Temp=%{y}<extra></extra>",
         "legendgroup": "Ananthagiri",
         "marker": {
          "color": "#00cc96",
          "symbol": "circle"
         },
         "mode": "markers",
         "name": "Ananthagiri",
         "orientation": "v",
         "showlegend": true,
         "type": "scatter",
         "x": [
          -0.00001959912952713305
         ],
         "xaxis": "x",
         "y": [
          -0.0057906093809544585
         ],
         "yaxis": "y"
        },
        {
         "hovertemplate": "Area=Andole<br>Deviance Scores Amount of Fires=%{x}<br>Deviance Scores Soil_Temp=%{y}<extra></extra>",
         "legendgroup": "Andole",
         "marker": {
          "color": "#ab63fa",
          "symbol": "circle"
         },
         "mode": "markers",
         "name": "Andole",
         "orientation": "v",
         "showlegend": true,
         "type": "scatter",
         "x": [
          -0.000008551544115508802
         ],
         "xaxis": "x",
         "y": [
          -0.004622671806348521
         ],
         "yaxis": "y"
        },
        {
         "hovertemplate": "Area=Annapureddipalle<br>Deviance Scores Amount of Fires=%{x}<br>Deviance Scores Soil_Temp=%{y}<extra></extra>",
         "legendgroup": "Annapureddipalle",
         "marker": {
          "color": "#FFA15A",
          "symbol": "circle"
         },
         "mode": "markers",
         "name": "Annapureddipalle",
         "orientation": "v",
         "showlegend": true,
         "type": "scatter",
         "x": [
          0.000128618555937
         ],
         "xaxis": "x",
         "y": [
          -0.0018283973258133247
         ],
         "yaxis": "y"
        },
        {
         "hovertemplate": "Area=Anumula_Haliya<br>Deviance Scores Amount of Fires=%{x}<br>Deviance Scores Soil_Temp=%{y}<extra></extra>",
         "legendgroup": "Anumula_Haliya",
         "marker": {
          "color": "#19d3f3",
          "symbol": "circle"
         },
         "mode": "markers",
         "name": "Anumula_Haliya",
         "orientation": "v",
         "showlegend": true,
         "type": "scatter",
         "x": [
          -0.00006423419089129302
         ],
         "xaxis": "x",
         "y": [
          -0.007075697744795501
         ],
         "yaxis": "y"
        },
        {
         "hovertemplate": "Area=Armoor<br>Deviance Scores Amount of Fires=%{x}<br>Deviance Scores Soil_Temp=%{y}<extra></extra>",
         "legendgroup": "Armoor",
         "marker": {
          "color": "#FF6692",
          "symbol": "circle"
         },
         "mode": "markers",
         "name": "Armoor",
         "orientation": "v",
         "showlegend": true,
         "type": "scatter",
         "x": [
          0.000024723627455510597
         ],
         "xaxis": "x",
         "y": [
          -0.006517607285370117
         ],
         "yaxis": "y"
        },
        {
         "hovertemplate": "Area=Asifabad<br>Deviance Scores Amount of Fires=%{x}<br>Deviance Scores Soil_Temp=%{y}<extra></extra>",
         "legendgroup": "Asifabad",
         "marker": {
          "color": "#B6E880",
          "symbol": "circle"
         },
         "mode": "markers",
         "name": "Asifabad",
         "orientation": "v",
         "showlegend": true,
         "type": "scatter",
         "x": [
          -0.000004512009435352603
         ],
         "xaxis": "x",
         "y": [
          -0.0032696538667362027
         ],
         "yaxis": "y"
        },
        {
         "hovertemplate": "Area=Aswapuram<br>Deviance Scores Amount of Fires=%{x}<br>Deviance Scores Soil_Temp=%{y}<extra></extra>",
         "legendgroup": "Aswapuram",
         "marker": {
          "color": "#FF97FF",
          "symbol": "circle"
         },
         "mode": "markers",
         "name": "Aswapuram",
         "orientation": "v",
         "showlegend": true,
         "type": "scatter",
         "x": [
          -0.00005261212269466971
         ],
         "xaxis": "x",
         "y": [
          -0.0016751296205722826
         ],
         "yaxis": "y"
        },
        {
         "hovertemplate": "Area=Aswaraopeta<br>Deviance Scores Amount of Fires=%{x}<br>Deviance Scores Soil_Temp=%{y}<extra></extra>",
         "legendgroup": "Aswaraopeta",
         "marker": {
          "color": "#FECB52",
          "symbol": "circle"
         },
         "mode": "markers",
         "name": "Aswaraopeta",
         "orientation": "v",
         "showlegend": true,
         "type": "scatter",
         "x": [
          -0.0001347562299189
         ],
         "xaxis": "x",
         "y": [
          -0.0035573864420816686
         ],
         "yaxis": "y"
        },
        {
         "hovertemplate": "Area=Athmakur (M)<br>Deviance Scores Amount of Fires=%{x}<br>Deviance Scores Soil_Temp=%{y}<extra></extra>",
         "legendgroup": "Athmakur (M)",
         "marker": {
          "color": "#636efa",
          "symbol": "circle"
         },
         "mode": "markers",
         "name": "Athmakur (M)",
         "orientation": "v",
         "showlegend": true,
         "type": "scatter",
         "x": [
          0.00000887957799205207
         ],
         "xaxis": "x",
         "y": [
          -0.005092887245511572
         ],
         "yaxis": "y"
        },
        {
         "hovertemplate": "Area=Atmakur<br>Deviance Scores Amount of Fires=%{x}<br>Deviance Scores Soil_Temp=%{y}<extra></extra>",
         "legendgroup": "Atmakur",
         "marker": {
          "color": "#EF553B",
          "symbol": "circle"
         },
         "mode": "markers",
         "name": "Atmakur",
         "orientation": "v",
         "showlegend": true,
         "type": "scatter",
         "x": [
          -0.00008013384616764917,
          0.00009504124752745903
         ],
         "xaxis": "x",
         "y": [
          -0.005941268817405665,
          -0.004591398607520879
         ],
         "yaxis": "y"
        },
        {
         "hovertemplate": "Area=Atmakur_S<br>Deviance Scores Amount of Fires=%{x}<br>Deviance Scores Soil_Temp=%{y}<extra></extra>",
         "legendgroup": "Atmakur_S",
         "marker": {
          "color": "#00cc96",
          "symbol": "circle"
         },
         "mode": "markers",
         "name": "Atmakur_S",
         "orientation": "v",
         "showlegend": true,
         "type": "scatter",
         "x": [
          0.0000019910224268776446
         ],
         "xaxis": "x",
         "y": [
          -0.008432383694230583
         ],
         "yaxis": "y"
        },
        {
         "hovertemplate": "Area=B.Pochampally<br>Deviance Scores Amount of Fires=%{x}<br>Deviance Scores Soil_Temp=%{y}<extra></extra>",
         "legendgroup": "B.Pochampally",
         "marker": {
          "color": "#ab63fa",
          "symbol": "circle"
         },
         "mode": "markers",
         "name": "B.Pochampally",
         "orientation": "v",
         "showlegend": true,
         "type": "scatter",
         "x": [
          -0.000075036844902414
         ],
         "xaxis": "x",
         "y": [
          -0.0053275190944903125
         ],
         "yaxis": "y"
        },
        {
         "hovertemplate": "Area=Bachannapet<br>Deviance Scores Amount of Fires=%{x}<br>Deviance Scores Soil_Temp=%{y}<extra></extra>",
         "legendgroup": "Bachannapet",
         "marker": {
          "color": "#FFA15A",
          "symbol": "circle"
         },
         "mode": "markers",
         "name": "Bachannapet",
         "orientation": "v",
         "showlegend": true,
         "type": "scatter",
         "x": [
          0.00003340638839552044
         ],
         "xaxis": "x",
         "y": [
          -0.005893969032691042
         ],
         "yaxis": "y"
        },
        {
         "hovertemplate": "Area=Balanagar<br>Deviance Scores Amount of Fires=%{x}<br>Deviance Scores Soil_Temp=%{y}<extra></extra>",
         "legendgroup": "Balanagar",
         "marker": {
          "color": "#19d3f3",
          "symbol": "circle"
         },
         "mode": "markers",
         "name": "Balanagar",
         "orientation": "v",
         "showlegend": true,
         "type": "scatter",
         "x": [
          0.00005332258216825061
         ],
         "xaxis": "x",
         "y": [
          -0.0052382852680363
         ],
         "yaxis": "y"
        },
        {
         "hovertemplate": "Area=Balapur<br>Deviance Scores Amount of Fires=%{x}<br>Deviance Scores Soil_Temp=%{y}<extra></extra>",
         "legendgroup": "Balapur",
         "marker": {
          "color": "#FF6692",
          "symbol": "circle"
         },
         "mode": "markers",
         "name": "Balapur",
         "orientation": "v",
         "showlegend": true,
         "type": "scatter",
         "x": [
          0.00001983212116905084
         ],
         "xaxis": "x",
         "y": [
          -0.004806907044760383
         ],
         "yaxis": "y"
        },
        {
         "hovertemplate": "Area=Balkonda<br>Deviance Scores Amount of Fires=%{x}<br>Deviance Scores Soil_Temp=%{y}<extra></extra>",
         "legendgroup": "Balkonda",
         "marker": {
          "color": "#B6E880",
          "symbol": "circle"
         },
         "mode": "markers",
         "name": "Balkonda",
         "orientation": "v",
         "showlegend": true,
         "type": "scatter",
         "x": [
          0.000015911049457220126
         ],
         "xaxis": "x",
         "y": [
          -0.007238710272608822
         ],
         "yaxis": "y"
        },
        {
         "hovertemplate": "Area=Balmoor<br>Deviance Scores Amount of Fires=%{x}<br>Deviance Scores Soil_Temp=%{y}<extra></extra>",
         "legendgroup": "Balmoor",
         "marker": {
          "color": "#FF97FF",
          "symbol": "circle"
         },
         "mode": "markers",
         "name": "Balmoor",
         "orientation": "v",
         "showlegend": true,
         "type": "scatter",
         "x": [
          -0.000031464312862038064
         ],
         "xaxis": "x",
         "y": [
          -0.004969914301391783
         ],
         "yaxis": "y"
        },
        {
         "hovertemplate": "Area=Bantwaram<br>Deviance Scores Amount of Fires=%{x}<br>Deviance Scores Soil_Temp=%{y}<extra></extra>",
         "legendgroup": "Bantwaram",
         "marker": {
          "color": "#FECB52",
          "symbol": "circle"
         },
         "mode": "markers",
         "name": "Bantwaram",
         "orientation": "v",
         "showlegend": true,
         "type": "scatter",
         "x": [
          -0.0000376082143246598
         ],
         "xaxis": "x",
         "y": [
          -0.0037740185152597694
         ],
         "yaxis": "y"
        },
        {
         "hovertemplate": "Area=Basar<br>Deviance Scores Amount of Fires=%{x}<br>Deviance Scores Soil_Temp=%{y}<extra></extra>",
         "legendgroup": "Basar",
         "marker": {
          "color": "#636efa",
          "symbol": "circle"
         },
         "mode": "markers",
         "name": "Basar",
         "orientation": "v",
         "showlegend": true,
         "type": "scatter",
         "x": [
          -0.000007164623477911956
         ],
         "xaxis": "x",
         "y": [
          -0.007396794474209203
         ],
         "yaxis": "y"
        },
        {
         "hovertemplate": "Area=Basheerabad<br>Deviance Scores Amount of Fires=%{x}<br>Deviance Scores Soil_Temp=%{y}<extra></extra>",
         "legendgroup": "Basheerabad",
         "marker": {
          "color": "#EF553B",
          "symbol": "circle"
         },
         "mode": "markers",
         "name": "Basheerabad",
         "orientation": "v",
         "showlegend": true,
         "type": "scatter",
         "x": [
          -0.000014554635269131057
         ],
         "xaxis": "x",
         "y": [
          -0.004630899054943775
         ],
         "yaxis": "y"
        },
        {
         "hovertemplate": "Area=Bayyaram<br>Deviance Scores Amount of Fires=%{x}<br>Deviance Scores Soil_Temp=%{y}<extra></extra>",
         "legendgroup": "Bayyaram",
         "marker": {
          "color": "#00cc96",
          "symbol": "circle"
         },
         "mode": "markers",
         "name": "Bayyaram",
         "orientation": "v",
         "showlegend": true,
         "type": "scatter",
         "x": [
          -0.0003129681195003
         ],
         "xaxis": "x",
         "y": [
          -0.00363039232597045
         ],
         "yaxis": "y"
        },
        {
         "hovertemplate": "Area=Bazarhathnoor<br>Deviance Scores Amount of Fires=%{x}<br>Deviance Scores Soil_Temp=%{y}<extra></extra>",
         "legendgroup": "Bazarhathnoor",
         "marker": {
          "color": "#ab63fa",
          "symbol": "circle"
         },
         "mode": "markers",
         "name": "Bazarhathnoor",
         "orientation": "v",
         "showlegend": true,
         "type": "scatter",
         "x": [
          -0.000017573854757702368
         ],
         "xaxis": "x",
         "y": [
          -0.0030634847009067467
         ],
         "yaxis": "y"
        },
        {
         "hovertemplate": "Area=Beerpur<br>Deviance Scores Amount of Fires=%{x}<br>Deviance Scores Soil_Temp=%{y}<extra></extra>",
         "legendgroup": "Beerpur",
         "marker": {
          "color": "#FFA15A",
          "symbol": "circle"
         },
         "mode": "markers",
         "name": "Beerpur",
         "orientation": "v",
         "showlegend": true,
         "type": "scatter",
         "x": [
          0.00004446482689267496
         ],
         "xaxis": "x",
         "y": [
          -0.004256772120962699
         ],
         "yaxis": "y"
        },
        {
         "hovertemplate": "Area=Bejjanki<br>Deviance Scores Amount of Fires=%{x}<br>Deviance Scores Soil_Temp=%{y}<extra></extra>",
         "legendgroup": "Bejjanki",
         "marker": {
          "color": "#19d3f3",
          "symbol": "circle"
         },
         "mode": "markers",
         "name": "Bejjanki",
         "orientation": "v",
         "showlegend": true,
         "type": "scatter",
         "x": [
          -0.0000178239279882192
         ],
         "xaxis": "x",
         "y": [
          -0.006438086739930767
         ],
         "yaxis": "y"
        },
        {
         "hovertemplate": "Area=Bejjur<br>Deviance Scores Amount of Fires=%{x}<br>Deviance Scores Soil_Temp=%{y}<extra></extra>",
         "legendgroup": "Bejjur",
         "marker": {
          "color": "#FF6692",
          "symbol": "circle"
         },
         "mode": "markers",
         "name": "Bejjur",
         "orientation": "v",
         "showlegend": true,
         "type": "scatter",
         "x": [
          0.000022012304247333523
         ],
         "xaxis": "x",
         "y": [
          -0.0025311667958609137
         ],
         "yaxis": "y"
        },
        {
         "hovertemplate": "Area=Bellampalle<br>Deviance Scores Amount of Fires=%{x}<br>Deviance Scores Soil_Temp=%{y}<extra></extra>",
         "legendgroup": "Bellampalle",
         "marker": {
          "color": "#B6E880",
          "symbol": "circle"
         },
         "mode": "markers",
         "name": "Bellampalle",
         "orientation": "v",
         "showlegend": true,
         "type": "scatter",
         "x": [
          0.0000581437850213113
         ],
         "xaxis": "x",
         "y": [
          -0.005578310836412163
         ],
         "yaxis": "y"
        },
        {
         "hovertemplate": "Area=Bhainsa<br>Deviance Scores Amount of Fires=%{x}<br>Deviance Scores Soil_Temp=%{y}<extra></extra>",
         "legendgroup": "Bhainsa",
         "marker": {
          "color": "#FF97FF",
          "symbol": "circle"
         },
         "mode": "markers",
         "name": "Bhainsa",
         "orientation": "v",
         "showlegend": true,
         "type": "scatter",
         "x": [
          0.00000371082149456148
         ],
         "xaxis": "x",
         "y": [
          -0.005218903908329277
         ],
         "yaxis": "y"
        },
        {
         "hovertemplate": "Area=Bheemaram<br>Deviance Scores Amount of Fires=%{x}<br>Deviance Scores Soil_Temp=%{y}<extra></extra>",
         "legendgroup": "Bheemaram",
         "marker": {
          "color": "#FECB52",
          "symbol": "circle"
         },
         "mode": "markers",
         "name": "Bheemaram",
         "orientation": "v",
         "showlegend": true,
         "type": "scatter",
         "x": [
          -0.000008381782678059807
         ],
         "xaxis": "x",
         "y": [
          -0.004234194252479348
         ],
         "yaxis": "y"
        },
        {
         "hovertemplate": "Area=Bheemgal<br>Deviance Scores Amount of Fires=%{x}<br>Deviance Scores Soil_Temp=%{y}<extra></extra>",
         "legendgroup": "Bheemgal",
         "marker": {
          "color": "#636efa",
          "symbol": "circle"
         },
         "mode": "markers",
         "name": "Bheemgal",
         "orientation": "v",
         "showlegend": true,
         "type": "scatter",
         "x": [
          -0.00003369236371509577
         ],
         "xaxis": "x",
         "y": [
          -0.0062767224481073206
         ],
         "yaxis": "y"
        },
        {
         "hovertemplate": "Area=Bheemini<br>Deviance Scores Amount of Fires=%{x}<br>Deviance Scores Soil_Temp=%{y}<extra></extra>",
         "legendgroup": "Bheemini",
         "marker": {
          "color": "#EF553B",
          "symbol": "circle"
         },
         "mode": "markers",
         "name": "Bheemini",
         "orientation": "v",
         "showlegend": true,
         "type": "scatter",
         "x": [
          -0.000051633323216330326
         ],
         "xaxis": "x",
         "y": [
          -0.0026899647228107236
         ],
         "yaxis": "y"
        },
        {
         "hovertemplate": "Area=Bheempoor<br>Deviance Scores Amount of Fires=%{x}<br>Deviance Scores Soil_Temp=%{y}<extra></extra>",
         "legendgroup": "Bheempoor",
         "marker": {
          "color": "#00cc96",
          "symbol": "circle"
         },
         "mode": "markers",
         "name": "Bheempoor",
         "orientation": "v",
         "showlegend": true,
         "type": "scatter",
         "x": [
          0.00000979224193981311
         ],
         "xaxis": "x",
         "y": [
          -0.002570535798250664
         ],
         "yaxis": "y"
        },
        {
         "hovertemplate": "Area=Bhiknoor<br>Deviance Scores Amount of Fires=%{x}<br>Deviance Scores Soil_Temp=%{y}<extra></extra>",
         "legendgroup": "Bhiknoor",
         "marker": {
          "color": "#ab63fa",
          "symbol": "circle"
         },
         "mode": "markers",
         "name": "Bhiknoor",
         "orientation": "v",
         "showlegend": true,
         "type": "scatter",
         "x": [
          -0.00009089727774955634
         ],
         "xaxis": "x",
         "y": [
          -0.005721257643519221
         ],
         "yaxis": "y"
        },
        {
         "hovertemplate": "Area=Bhongiri<br>Deviance Scores Amount of Fires=%{x}<br>Deviance Scores Soil_Temp=%{y}<extra></extra>",
         "legendgroup": "Bhongiri",
         "marker": {
          "color": "#FFA15A",
          "symbol": "circle"
         },
         "mode": "markers",
         "name": "Bhongiri",
         "orientation": "v",
         "showlegend": true,
         "type": "scatter",
         "x": [
          0.00001871523130249374
         ],
         "xaxis": "x",
         "y": [
          -0.006779858707688962
         ],
         "yaxis": "y"
        },
        {
         "hovertemplate": "Area=Bhoothpur<br>Deviance Scores Amount of Fires=%{x}<br>Deviance Scores Soil_Temp=%{y}<extra></extra>",
         "legendgroup": "Bhoothpur",
         "marker": {
          "color": "#19d3f3",
          "symbol": "circle"
         },
         "mode": "markers",
         "name": "Bhoothpur",
         "orientation": "v",
         "showlegend": true,
         "type": "scatter",
         "x": [
          -0.00005388557230328491
         ],
         "xaxis": "x",
         "y": [
          -0.0063306405489219975
         ],
         "yaxis": "y"
        },
        {
         "hovertemplate": "Area=Bhupalpally<br>Deviance Scores Amount of Fires=%{x}<br>Deviance Scores Soil_Temp=%{y}<extra></extra>",
         "legendgroup": "Bhupalpally",
         "marker": {
          "color": "#FF6692",
          "symbol": "circle"
         },
         "mode": "markers",
         "name": "Bhupalpally",
         "orientation": "v",
         "showlegend": true,
         "type": "scatter",
         "x": [
          -0.00005860659939288905
         ],
         "xaxis": "x",
         "y": [
          -0.0022459809140182706
         ],
         "yaxis": "y"
        },
        {
         "hovertemplate": "Area=Bibinagar<br>Deviance Scores Amount of Fires=%{x}<br>Deviance Scores Soil_Temp=%{y}<extra></extra>",
         "legendgroup": "Bibinagar",
         "marker": {
          "color": "#B6E880",
          "symbol": "circle"
         },
         "mode": "markers",
         "name": "Bibinagar",
         "orientation": "v",
         "showlegend": true,
         "type": "scatter",
         "x": [
          0.000018011600511526282
         ],
         "xaxis": "x",
         "y": [
          -0.007329198167401204
         ],
         "yaxis": "y"
        },
        {
         "hovertemplate": "Area=Bibipet<br>Deviance Scores Amount of Fires=%{x}<br>Deviance Scores Soil_Temp=%{y}<extra></extra>",
         "legendgroup": "Bibipet",
         "marker": {
          "color": "#FF97FF",
          "symbol": "circle"
         },
         "mode": "markers",
         "name": "Bibipet",
         "orientation": "v",
         "showlegend": true,
         "type": "scatter",
         "x": [
          -0.000019977779690741656
         ],
         "xaxis": "x",
         "y": [
          -0.0066492366045151985
         ],
         "yaxis": "y"
        },
        {
         "hovertemplate": "Area=Bijinapalle<br>Deviance Scores Amount of Fires=%{x}<br>Deviance Scores Soil_Temp=%{y}<extra></extra>",
         "legendgroup": "Bijinapalle",
         "marker": {
          "color": "#FECB52",
          "symbol": "circle"
         },
         "mode": "markers",
         "name": "Bijinapalle",
         "orientation": "v",
         "showlegend": true,
         "type": "scatter",
         "x": [
          0.000055083424932321726
         ],
         "xaxis": "x",
         "y": [
          -0.009397010656288923
         ],
         "yaxis": "y"
        },
        {
         "hovertemplate": "Area=Boath<br>Deviance Scores Amount of Fires=%{x}<br>Deviance Scores Soil_Temp=%{y}<extra></extra>",
         "legendgroup": "Boath",
         "marker": {
          "color": "#636efa",
          "symbol": "circle"
         },
         "mode": "markers",
         "name": "Boath",
         "orientation": "v",
         "showlegend": true,
         "type": "scatter",
         "x": [
          -0.000038656931482939125
         ],
         "xaxis": "x",
         "y": [
          -0.0035006354254848333
         ],
         "yaxis": "y"
        },
        {
         "hovertemplate": "Area=Bodhan<br>Deviance Scores Amount of Fires=%{x}<br>Deviance Scores Soil_Temp=%{y}<extra></extra>",
         "legendgroup": "Bodhan",
         "marker": {
          "color": "#EF553B",
          "symbol": "circle"
         },
         "mode": "markers",
         "name": "Bodhan",
         "orientation": "v",
         "showlegend": true,
         "type": "scatter",
         "x": [
          -0.0001067084626713
         ],
         "xaxis": "x",
         "y": [
          -0.005923657773277662
         ],
         "yaxis": "y"
        },
        {
         "hovertemplate": "Area=Boinpalli<br>Deviance Scores Amount of Fires=%{x}<br>Deviance Scores Soil_Temp=%{y}<extra></extra>",
         "legendgroup": "Boinpalli",
         "marker": {
          "color": "#00cc96",
          "symbol": "circle"
         },
         "mode": "markers",
         "name": "Boinpalli",
         "orientation": "v",
         "showlegend": true,
         "type": "scatter",
         "x": [
          0.000007224332118073138
         ],
         "xaxis": "x",
         "y": [
          -0.007306448263332041
         ],
         "yaxis": "y"
        },
        {
         "hovertemplate": "Area=Bommaraspeta<br>Deviance Scores Amount of Fires=%{x}<br>Deviance Scores Soil_Temp=%{y}<extra></extra>",
         "legendgroup": "Bommaraspeta",
         "marker": {
          "color": "#ab63fa",
          "symbol": "circle"
         },
         "mode": "markers",
         "name": "Bommaraspeta",
         "orientation": "v",
         "showlegend": true,
         "type": "scatter",
         "x": [
          -0.000008944372555280128
         ],
         "xaxis": "x",
         "y": [
          -0.00479647831114658
         ],
         "yaxis": "y"
        },
        {
         "hovertemplate": "Area=Bonakal<br>Deviance Scores Amount of Fires=%{x}<br>Deviance Scores Soil_Temp=%{y}<extra></extra>",
         "legendgroup": "Bonakal",
         "marker": {
          "color": "#FFA15A",
          "symbol": "circle"
         },
         "mode": "markers",
         "name": "Bonakal",
         "orientation": "v",
         "showlegend": true,
         "type": "scatter",
         "x": [
          -0.00008448490114882627
         ],
         "xaxis": "x",
         "y": [
          -0.004886909622170394
         ],
         "yaxis": "y"
        },
        {
         "hovertemplate": "Area=Buggaram<br>Deviance Scores Amount of Fires=%{x}<br>Deviance Scores Soil_Temp=%{y}<extra></extra>",
         "legendgroup": "Buggaram",
         "marker": {
          "color": "#19d3f3",
          "symbol": "circle"
         },
         "mode": "markers",
         "name": "Buggaram",
         "orientation": "v",
         "showlegend": true,
         "type": "scatter",
         "x": [
          -0.0000409741370278184
         ],
         "xaxis": "x",
         "y": [
          -0.006625892103457797
         ],
         "yaxis": "y"
        },
        {
         "hovertemplate": "Area=Burgampadu<br>Deviance Scores Amount of Fires=%{x}<br>Deviance Scores Soil_Temp=%{y}<extra></extra>",
         "legendgroup": "Burgampadu",
         "marker": {
          "color": "#FF6692",
          "symbol": "circle"
         },
         "mode": "markers",
         "name": "Burgampadu",
         "orientation": "v",
         "showlegend": true,
         "type": "scatter",
         "x": [
          0.00006291042931960586
         ],
         "xaxis": "x",
         "y": [
          -0.003784693253842198
         ],
         "yaxis": "y"
        },
        {
         "hovertemplate": "Area=Chandampet<br>Deviance Scores Amount of Fires=%{x}<br>Deviance Scores Soil_Temp=%{y}<extra></extra>",
         "legendgroup": "Chandampet",
         "marker": {
          "color": "#B6E880",
          "symbol": "circle"
         },
         "mode": "markers",
         "name": "Chandampet",
         "orientation": "v",
         "showlegend": true,
         "type": "scatter",
         "x": [
          0.00004234121642340661
         ],
         "xaxis": "x",
         "y": [
          -0.006386098514920475
         ],
         "yaxis": "y"
        },
        {
         "hovertemplate": "Area=Chandrugonda<br>Deviance Scores Amount of Fires=%{x}<br>Deviance Scores Soil_Temp=%{y}<extra></extra>",
         "legendgroup": "Chandrugonda",
         "marker": {
          "color": "#FF97FF",
          "symbol": "circle"
         },
         "mode": "markers",
         "name": "Chandrugonda",
         "orientation": "v",
         "showlegend": true,
         "type": "scatter",
         "x": [
          -0.000014043345561058767
         ],
         "xaxis": "x",
         "y": [
          -0.003614297252602908
         ],
         "yaxis": "y"
        },
        {
         "hovertemplate": "Area=Charakonda<br>Deviance Scores Amount of Fires=%{x}<br>Deviance Scores Soil_Temp=%{y}<extra></extra>",
         "legendgroup": "Charakonda",
         "marker": {
          "color": "#FECB52",
          "symbol": "circle"
         },
         "mode": "markers",
         "name": "Charakonda",
         "orientation": "v",
         "showlegend": true,
         "type": "scatter",
         "x": [
          0.0000026745316672900645
         ],
         "xaxis": "x",
         "y": [
          -0.0056853770002109295
         ],
         "yaxis": "y"
        },
        {
         "hovertemplate": "Area=Chendurthi<br>Deviance Scores Amount of Fires=%{x}<br>Deviance Scores Soil_Temp=%{y}<extra></extra>",
         "legendgroup": "Chendurthi",
         "marker": {
          "color": "#636efa",
          "symbol": "circle"
         },
         "mode": "markers",
         "name": "Chendurthi",
         "orientation": "v",
         "showlegend": true,
         "type": "scatter",
         "x": [
          -0.00007703990535824424
         ],
         "xaxis": "x",
         "y": [
          -0.006061789095115452
         ],
         "yaxis": "y"
        },
        {
         "hovertemplate": "Area=Chennaraopet<br>Deviance Scores Amount of Fires=%{x}<br>Deviance Scores Soil_Temp=%{y}<extra></extra>",
         "legendgroup": "Chennaraopet",
         "marker": {
          "color": "#EF553B",
          "symbol": "circle"
         },
         "mode": "markers",
         "name": "Chennaraopet",
         "orientation": "v",
         "showlegend": true,
         "type": "scatter",
         "x": [
          0.000047866746645490734
         ],
         "xaxis": "x",
         "y": [
          -0.002051046590332211
         ],
         "yaxis": "y"
        },
        {
         "hovertemplate": "Area=Chennur<br>Deviance Scores Amount of Fires=%{x}<br>Deviance Scores Soil_Temp=%{y}<extra></extra>",
         "legendgroup": "Chennur",
         "marker": {
          "color": "#00cc96",
          "symbol": "circle"
         },
         "mode": "markers",
         "name": "Chennur",
         "orientation": "v",
         "showlegend": true,
         "type": "scatter",
         "x": [
          -0.000007484536475365336
         ],
         "xaxis": "x",
         "y": [
          -0.005295357437105252
         ],
         "yaxis": "y"
        },
        {
         "hovertemplate": "Area=Cherial<br>Deviance Scores Amount of Fires=%{x}<br>Deviance Scores Soil_Temp=%{y}<extra></extra>",
         "legendgroup": "Cherial",
         "marker": {
          "color": "#ab63fa",
          "symbol": "circle"
         },
         "mode": "markers",
         "name": "Cherial",
         "orientation": "v",
         "showlegend": true,
         "type": "scatter",
         "x": [
          -0.000001029581463470491
         ],
         "xaxis": "x",
         "y": [
          -0.006388728797427623
         ],
         "yaxis": "y"
        },
        {
         "hovertemplate": "Area=Cherla<br>Deviance Scores Amount of Fires=%{x}<br>Deviance Scores Soil_Temp=%{y}<extra></extra>",
         "legendgroup": "Cherla",
         "marker": {
          "color": "#FFA15A",
          "symbol": "circle"
         },
         "mode": "markers",
         "name": "Cherla",
         "orientation": "v",
         "showlegend": true,
         "type": "scatter",
         "x": [
          -0.00003260633048153487
         ],
         "xaxis": "x",
         "y": [
          -0.002010105773726928
         ],
         "yaxis": "y"
        },
        {
         "hovertemplate": "Area=Chevella<br>Deviance Scores Amount of Fires=%{x}<br>Deviance Scores Soil_Temp=%{y}<extra></extra>",
         "legendgroup": "Chevella",
         "marker": {
          "color": "#19d3f3",
          "symbol": "circle"
         },
         "mode": "markers",
         "name": "Chevella",
         "orientation": "v",
         "showlegend": true,
         "type": "scatter",
         "x": [
          0.00006823945796807914
         ],
         "xaxis": "x",
         "y": [
          -0.004126994612552157
         ],
         "yaxis": "y"
        },
        {
         "hovertemplate": "Area=Chigurumamidi<br>Deviance Scores Amount of Fires=%{x}<br>Deviance Scores Soil_Temp=%{y}<extra></extra>",
         "legendgroup": "Chigurumamidi",
         "marker": {
          "color": "#FF6692",
          "symbol": "circle"
         },
         "mode": "markers",
         "name": "Chigurumamidi",
         "orientation": "v",
         "showlegend": true,
         "type": "scatter",
         "x": [
          0.0000779165514871015
         ],
         "xaxis": "x",
         "y": [
          -0.008324942945150435
         ],
         "yaxis": "y"
        },
        {
         "hovertemplate": "Area=Chinna Chinta Kunta<br>Deviance Scores Amount of Fires=%{x}<br>Deviance Scores Soil_Temp=%{y}<extra></extra>",
         "legendgroup": "Chinna Chinta Kunta",
         "marker": {
          "color": "#B6E880",
          "symbol": "circle"
         },
         "mode": "markers",
         "name": "Chinna Chinta Kunta",
         "orientation": "v",
         "showlegend": true,
         "type": "scatter",
         "x": [
          0.000014411245942026244
         ],
         "xaxis": "x",
         "y": [
          -0.006654596763863505
         ],
         "yaxis": "y"
        },
        {
         "hovertemplate": "Area=Chinnakodur<br>Deviance Scores Amount of Fires=%{x}<br>Deviance Scores Soil_Temp=%{y}<extra></extra>",
         "legendgroup": "Chinnakodur",
         "marker": {
          "color": "#FF97FF",
          "symbol": "circle"
         },
         "mode": "markers",
         "name": "Chinnakodur",
         "orientation": "v",
         "showlegend": true,
         "type": "scatter",
         "x": [
          -0.000038844943648054746
         ],
         "xaxis": "x",
         "y": [
          -0.00567340459351786
         ],
         "yaxis": "y"
        },
        {
         "hovertemplate": "Area=Chinnambavi<br>Deviance Scores Amount of Fires=%{x}<br>Deviance Scores Soil_Temp=%{y}<extra></extra>",
         "legendgroup": "Chinnambavi",
         "marker": {
          "color": "#FECB52",
          "symbol": "circle"
         },
         "mode": "markers",
         "name": "Chinnambavi",
         "orientation": "v",
         "showlegend": true,
         "type": "scatter",
         "x": [
          0.0000496340884050301
         ],
         "xaxis": "x",
         "y": [
          -0.006188684974680747
         ],
         "yaxis": "y"
        },
        {
         "hovertemplate": "Area=Chintakani<br>Deviance Scores Amount of Fires=%{x}<br>Deviance Scores Soil_Temp=%{y}<extra></extra>",
         "legendgroup": "Chintakani",
         "marker": {
          "color": "#636efa",
          "symbol": "circle"
         },
         "mode": "markers",
         "name": "Chintakani",
         "orientation": "v",
         "showlegend": true,
         "type": "scatter",
         "x": [
          0.00007738832170335005
         ],
         "xaxis": "x",
         "y": [
          -0.006543499557605974
         ],
         "yaxis": "y"
        },
        {
         "hovertemplate": "Area=Chintalamanepally<br>Deviance Scores Amount of Fires=%{x}<br>Deviance Scores Soil_Temp=%{y}<extra></extra>",
         "legendgroup": "Chintalamanepally",
         "marker": {
          "color": "#EF553B",
          "symbol": "circle"
         },
         "mode": "markers",
         "name": "Chintalamanepally",
         "orientation": "v",
         "showlegend": true,
         "type": "scatter",
         "x": [
          -0.000009717083699700925
         ],
         "xaxis": "x",
         "y": [
          -0.002637107176215002
         ],
         "yaxis": "y"
        },
        {
         "hovertemplate": "Area=Chinthala palem<br>Deviance Scores Amount of Fires=%{x}<br>Deviance Scores Soil_Temp=%{y}<extra></extra>",
         "legendgroup": "Chinthala palem",
         "marker": {
          "color": "#00cc96",
          "symbol": "circle"
         },
         "mode": "markers",
         "name": "Chinthala palem",
         "orientation": "v",
         "showlegend": true,
         "type": "scatter",
         "x": [
          -0.00001398171812595507
         ],
         "xaxis": "x",
         "y": [
          -0.00698521357563459
         ],
         "yaxis": "y"
        },
        {
         "hovertemplate": "Area=Chinthapally<br>Deviance Scores Amount of Fires=%{x}<br>Deviance Scores Soil_Temp=%{y}<extra></extra>",
         "legendgroup": "Chinthapally",
         "marker": {
          "color": "#ab63fa",
          "symbol": "circle"
         },
         "mode": "markers",
         "name": "Chinthapally",
         "orientation": "v",
         "showlegend": true,
         "type": "scatter",
         "x": [
          0.0002119332439792
         ],
         "xaxis": "x",
         "y": [
          -0.005924508996464348
         ],
         "yaxis": "y"
        },
        {
         "hovertemplate": "Area=Chityal<br>Deviance Scores Amount of Fires=%{x}<br>Deviance Scores Soil_Temp=%{y}<extra></extra>",
         "legendgroup": "Chityal",
         "marker": {
          "color": "#FFA15A",
          "symbol": "circle"
         },
         "mode": "markers",
         "name": "Chityal",
         "orientation": "v",
         "showlegend": true,
         "type": "scatter",
         "x": [
          0.000040384507085711405,
          0.00003936290505146362
         ],
         "xaxis": "x",
         "y": [
          -0.006126383710564592,
          -0.005713565758519644
         ],
         "yaxis": "y"
        },
        {
         "hovertemplate": "Area=Chivvemla<br>Deviance Scores Amount of Fires=%{x}<br>Deviance Scores Soil_Temp=%{y}<extra></extra>",
         "legendgroup": "Chivvemla",
         "marker": {
          "color": "#19d3f3",
          "symbol": "circle"
         },
         "mode": "markers",
         "name": "Chivvemla",
         "orientation": "v",
         "showlegend": true,
         "type": "scatter",
         "x": [
          0.000013678012480492226
         ],
         "xaxis": "x",
         "y": [
          -0.006643869450261871
         ],
         "yaxis": "y"
        },
        {
         "hovertemplate": "Area=Choppadandi<br>Deviance Scores Amount of Fires=%{x}<br>Deviance Scores Soil_Temp=%{y}<extra></extra>",
         "legendgroup": "Choppadandi",
         "marker": {
          "color": "#FF6692",
          "symbol": "circle"
         },
         "mode": "markers",
         "name": "Choppadandi",
         "orientation": "v",
         "showlegend": true,
         "type": "scatter",
         "x": [
          0.0001866136126838
         ],
         "xaxis": "x",
         "y": [
          -0.007075391850381241
         ],
         "yaxis": "y"
        },
        {
         "hovertemplate": "Area=Choutuppal<br>Deviance Scores Amount of Fires=%{x}<br>Deviance Scores Soil_Temp=%{y}<extra></extra>",
         "legendgroup": "Choutuppal",
         "marker": {
          "color": "#B6E880",
          "symbol": "circle"
         },
         "mode": "markers",
         "name": "Choutuppal",
         "orientation": "v",
         "showlegend": true,
         "type": "scatter",
         "x": [
          0.0000049819216179297886
         ],
         "xaxis": "x",
         "y": [
          -0.0071567898110701505
         ],
         "yaxis": "y"
        },
        {
         "hovertemplate": "Area=Chunchupally<br>Deviance Scores Amount of Fires=%{x}<br>Deviance Scores Soil_Temp=%{y}<extra></extra>",
         "legendgroup": "Chunchupally",
         "marker": {
          "color": "#FF97FF",
          "symbol": "circle"
         },
         "mode": "markers",
         "name": "Chunchupally",
         "orientation": "v",
         "showlegend": true,
         "type": "scatter",
         "x": [
          0.0001640766923315
         ],
         "xaxis": "x",
         "y": [
          -0.0021579220816598404
         ],
         "yaxis": "y"
        },
        {
         "hovertemplate": "Area=Dahegaon<br>Deviance Scores Amount of Fires=%{x}<br>Deviance Scores Soil_Temp=%{y}<extra></extra>",
         "legendgroup": "Dahegaon",
         "marker": {
          "color": "#FECB52",
          "symbol": "circle"
         },
         "mode": "markers",
         "name": "Dahegaon",
         "orientation": "v",
         "showlegend": true,
         "type": "scatter",
         "x": [
          0.00005205641885558323
         ],
         "xaxis": "x",
         "y": [
          -0.0027940500029513303
         ],
         "yaxis": "y"
        },
        {
         "hovertemplate": "Area=Damaracherla<br>Deviance Scores Amount of Fires=%{x}<br>Deviance Scores Soil_Temp=%{y}<extra></extra>",
         "legendgroup": "Damaracherla",
         "marker": {
          "color": "#636efa",
          "symbol": "circle"
         },
         "mode": "markers",
         "name": "Damaracherla",
         "orientation": "v",
         "showlegend": true,
         "type": "scatter",
         "x": [
          -0.00002826023360395315
         ],
         "xaxis": "x",
         "y": [
          -0.006858869230939537
         ],
         "yaxis": "y"
        },
        {
         "hovertemplate": "Area=Damargidda<br>Deviance Scores Amount of Fires=%{x}<br>Deviance Scores Soil_Temp=%{y}<extra></extra>",
         "legendgroup": "Damargidda",
         "marker": {
          "color": "#EF553B",
          "symbol": "circle"
         },
         "mode": "markers",
         "name": "Damargidda",
         "orientation": "v",
         "showlegend": true,
         "type": "scatter",
         "x": [
          -0.00002032454838750726
         ],
         "xaxis": "x",
         "y": [
          -0.006729524293781484
         ],
         "yaxis": "y"
        },
        {
         "hovertemplate": "Area=Damera<br>Deviance Scores Amount of Fires=%{x}<br>Deviance Scores Soil_Temp=%{y}<extra></extra>",
         "legendgroup": "Damera",
         "marker": {
          "color": "#00cc96",
          "symbol": "circle"
         },
         "mode": "markers",
         "name": "Damera",
         "orientation": "v",
         "showlegend": true,
         "type": "scatter",
         "x": [
          -0.000019605896355022808
         ],
         "xaxis": "x",
         "y": [
          -0.00457536868596894
         ],
         "yaxis": "y"
        },
        {
         "hovertemplate": "Area=Dammapeta<br>Deviance Scores Amount of Fires=%{x}<br>Deviance Scores Soil_Temp=%{y}<extra></extra>",
         "legendgroup": "Dammapeta",
         "marker": {
          "color": "#ab63fa",
          "symbol": "circle"
         },
         "mode": "markers",
         "name": "Dammapeta",
         "orientation": "v",
         "showlegend": true,
         "type": "scatter",
         "x": [
          -0.000011841678451211177
         ],
         "xaxis": "x",
         "y": [
          -0.003497233381165964
         ],
         "yaxis": "y"
        },
        {
         "hovertemplate": "Area=Dandepalle<br>Deviance Scores Amount of Fires=%{x}<br>Deviance Scores Soil_Temp=%{y}<extra></extra>",
         "legendgroup": "Dandepalle",
         "marker": {
          "color": "#FFA15A",
          "symbol": "circle"
         },
         "mode": "markers",
         "name": "Dandepalle",
         "orientation": "v",
         "showlegend": true,
         "type": "scatter",
         "x": [
          -0.000007454768512773685
         ],
         "xaxis": "x",
         "y": [
          -0.004071308031027763
         ],
         "yaxis": "y"
        },
        {
         "hovertemplate": "Area=Danthalapalle<br>Deviance Scores Amount of Fires=%{x}<br>Deviance Scores Soil_Temp=%{y}<extra></extra>",
         "legendgroup": "Danthalapalle",
         "marker": {
          "color": "#19d3f3",
          "symbol": "circle"
         },
         "mode": "markers",
         "name": "Danthalapalle",
         "orientation": "v",
         "showlegend": true,
         "type": "scatter",
         "x": [
          0.00008920669995884536
         ],
         "xaxis": "x",
         "y": [
          -0.00612296648383627
         ],
         "yaxis": "y"
        },
        {
         "hovertemplate": "Area=Devarakonda<br>Deviance Scores Amount of Fires=%{x}<br>Deviance Scores Soil_Temp=%{y}<extra></extra>",
         "legendgroup": "Devarakonda",
         "marker": {
          "color": "#FF6692",
          "symbol": "circle"
         },
         "mode": "markers",
         "name": "Devarakonda",
         "orientation": "v",
         "showlegend": true,
         "type": "scatter",
         "x": [
          0.00005749405656366281
         ],
         "xaxis": "x",
         "y": [
          -0.00719345147187107
         ],
         "yaxis": "y"
        },
        {
         "hovertemplate": "Area=Devarkadra<br>Deviance Scores Amount of Fires=%{x}<br>Deviance Scores Soil_Temp=%{y}<extra></extra>",
         "legendgroup": "Devarkadra",
         "marker": {
          "color": "#B6E880",
          "symbol": "circle"
         },
         "mode": "markers",
         "name": "Devarkadra",
         "orientation": "v",
         "showlegend": true,
         "type": "scatter",
         "x": [
          0.00007825755259941895
         ],
         "xaxis": "x",
         "y": [
          -0.007206892095535395
         ],
         "yaxis": "y"
        },
        {
         "hovertemplate": "Area=Devaruppula<br>Deviance Scores Amount of Fires=%{x}<br>Deviance Scores Soil_Temp=%{y}<extra></extra>",
         "legendgroup": "Devaruppula",
         "marker": {
          "color": "#FF97FF",
          "symbol": "circle"
         },
         "mode": "markers",
         "name": "Devaruppula",
         "orientation": "v",
         "showlegend": true,
         "type": "scatter",
         "x": [
          0.00002599279567009284
         ],
         "xaxis": "x",
         "y": [
          -0.00517976840597897
         ],
         "yaxis": "y"
        },
        {
         "hovertemplate": "Area=Dhanwada<br>Deviance Scores Amount of Fires=%{x}<br>Deviance Scores Soil_Temp=%{y}<extra></extra>",
         "legendgroup": "Dhanwada",
         "marker": {
          "color": "#FECB52",
          "symbol": "circle"
         },
         "mode": "markers",
         "name": "Dhanwada",
         "orientation": "v",
         "showlegend": true,
         "type": "scatter",
         "x": [
          -0.000008517173742803076
         ],
         "xaxis": "x",
         "y": [
          -0.005163453052389554
         ],
         "yaxis": "y"
        },
        {
         "hovertemplate": "Area=Dharmapuri<br>Deviance Scores Amount of Fires=%{x}<br>Deviance Scores Soil_Temp=%{y}<extra></extra>",
         "legendgroup": "Dharmapuri",
         "marker": {
          "color": "#636efa",
          "symbol": "circle"
         },
         "mode": "markers",
         "name": "Dharmapuri",
         "orientation": "v",
         "showlegend": true,
         "type": "scatter",
         "x": [
          0.000008943456334268608
         ],
         "xaxis": "x",
         "y": [
          -0.005150101358641344
         ],
         "yaxis": "y"
        },
        {
         "hovertemplate": "Area=Dharmaram<br>Deviance Scores Amount of Fires=%{x}<br>Deviance Scores Soil_Temp=%{y}<extra></extra>",
         "legendgroup": "Dharmaram",
         "marker": {
          "color": "#EF553B",
          "symbol": "circle"
         },
         "mode": "markers",
         "name": "Dharmaram",
         "orientation": "v",
         "showlegend": true,
         "type": "scatter",
         "x": [
          0.000008369255947338253
         ],
         "xaxis": "x",
         "y": [
          -0.006804655357402131
         ],
         "yaxis": "y"
        },
        {
         "hovertemplate": "Area=Dharoor<br>Deviance Scores Amount of Fires=%{x}<br>Deviance Scores Soil_Temp=%{y}<extra></extra>",
         "legendgroup": "Dharoor",
         "marker": {
          "color": "#00cc96",
          "symbol": "circle"
         },
         "mode": "markers",
         "name": "Dharoor",
         "orientation": "v",
         "showlegend": true,
         "type": "scatter",
         "x": [
          -0.000006069973463916811,
          -0.00002184807612306133
         ],
         "xaxis": "x",
         "y": [
          -0.006276692791277767,
          -0.0041103584095226525
         ],
         "yaxis": "y"
        },
        {
         "hovertemplate": "Area=Dharpally<br>Deviance Scores Amount of Fires=%{x}<br>Deviance Scores Soil_Temp=%{y}<extra></extra>",
         "legendgroup": "Dharpally",
         "marker": {
          "color": "#ab63fa",
          "symbol": "circle"
         },
         "mode": "markers",
         "name": "Dharpally",
         "orientation": "v",
         "showlegend": true,
         "type": "scatter",
         "x": [
          0.0000015129727162137844
         ],
         "xaxis": "x",
         "y": [
          -0.00655850462979387
         ],
         "yaxis": "y"
        },
        {
         "hovertemplate": "Area=Dichpally<br>Deviance Scores Amount of Fires=%{x}<br>Deviance Scores Soil_Temp=%{y}<extra></extra>",
         "legendgroup": "Dichpally",
         "marker": {
          "color": "#FFA15A",
          "symbol": "circle"
         },
         "mode": "markers",
         "name": "Dichpally",
         "orientation": "v",
         "showlegend": true,
         "type": "scatter",
         "x": [
          0.00003188496805450261
         ],
         "xaxis": "x",
         "y": [
          -0.006717975318849382
         ],
         "yaxis": "y"
        },
        {
         "hovertemplate": "Area=Dilawarpur<br>Deviance Scores Amount of Fires=%{x}<br>Deviance Scores Soil_Temp=%{y}<extra></extra>",
         "legendgroup": "Dilawarpur",
         "marker": {
          "color": "#19d3f3",
          "symbol": "circle"
         },
         "mode": "markers",
         "name": "Dilawarpur",
         "orientation": "v",
         "showlegend": true,
         "type": "scatter",
         "x": [
          0.000025284389405894154
         ],
         "xaxis": "x",
         "y": [
          -0.006885633685215068
         ],
         "yaxis": "y"
        },
        {
         "hovertemplate": "Area=Dornakal<br>Deviance Scores Amount of Fires=%{x}<br>Deviance Scores Soil_Temp=%{y}<extra></extra>",
         "legendgroup": "Dornakal",
         "marker": {
          "color": "#FF6692",
          "symbol": "circle"
         },
         "mode": "markers",
         "name": "Dornakal",
         "orientation": "v",
         "showlegend": true,
         "type": "scatter",
         "x": [
          -0.00004139731661049024
         ],
         "xaxis": "x",
         "y": [
          -0.00512861066693269
         ],
         "yaxis": "y"
        },
        {
         "hovertemplate": "Area=Doulthabad<br>Deviance Scores Amount of Fires=%{x}<br>Deviance Scores Soil_Temp=%{y}<extra></extra>",
         "legendgroup": "Doulthabad",
         "marker": {
          "color": "#B6E880",
          "symbol": "circle"
         },
         "mode": "markers",
         "name": "Doulthabad",
         "orientation": "v",
         "showlegend": true,
         "type": "scatter",
         "x": [
          -0.000003473053285653931
         ],
         "xaxis": "x",
         "y": [
          -0.005873414051725895
         ],
         "yaxis": "y"
        },
        {
         "hovertemplate": "Area=Dubbak<br>Deviance Scores Amount of Fires=%{x}<br>Deviance Scores Soil_Temp=%{y}<extra></extra>",
         "legendgroup": "Dubbak",
         "marker": {
          "color": "#FF97FF",
          "symbol": "circle"
         },
         "mode": "markers",
         "name": "Dubbak",
         "orientation": "v",
         "showlegend": true,
         "type": "scatter",
         "x": [
          -0.00008127562409694963
         ],
         "xaxis": "x",
         "y": [
          -0.004659535154930709
         ],
         "yaxis": "y"
        },
        {
         "hovertemplate": "Area=Dummugudem<br>Deviance Scores Amount of Fires=%{x}<br>Deviance Scores Soil_Temp=%{y}<extra></extra>",
         "legendgroup": "Dummugudem",
         "marker": {
          "color": "#FECB52",
          "symbol": "circle"
         },
         "mode": "markers",
         "name": "Dummugudem",
         "orientation": "v",
         "showlegend": true,
         "type": "scatter",
         "x": [
          0.000003992167966019302
         ],
         "xaxis": "x",
         "y": [
          -0.0013884784137366425
         ],
         "yaxis": "y"
        },
        {
         "hovertemplate": "Area=Dundigal Gandimaisamma<br>Deviance Scores Amount of Fires=%{x}<br>Deviance Scores Soil_Temp=%{y}<extra></extra>",
         "legendgroup": "Dundigal Gandimaisamma",
         "marker": {
          "color": "#636efa",
          "symbol": "circle"
         },
         "mode": "markers",
         "name": "Dundigal Gandimaisamma",
         "orientation": "v",
         "showlegend": true,
         "type": "scatter",
         "x": [
          -0.000004459557274881877
         ],
         "xaxis": "x",
         "y": [
          -0.005734344119196453
         ],
         "yaxis": "y"
        },
        {
         "hovertemplate": "Area=Eligaid<br>Deviance Scores Amount of Fires=%{x}<br>Deviance Scores Soil_Temp=%{y}<extra></extra>",
         "legendgroup": "Eligaid",
         "marker": {
          "color": "#EF553B",
          "symbol": "circle"
         },
         "mode": "markers",
         "name": "Eligaid",
         "orientation": "v",
         "showlegend": true,
         "type": "scatter",
         "x": [
          0.0001220322749828
         ],
         "xaxis": "x",
         "y": [
          -0.007880980674853816
         ],
         "yaxis": "y"
        },
        {
         "hovertemplate": "Area=Elkathurthi<br>Deviance Scores Amount of Fires=%{x}<br>Deviance Scores Soil_Temp=%{y}<extra></extra>",
         "legendgroup": "Elkathurthi",
         "marker": {
          "color": "#00cc96",
          "symbol": "circle"
         },
         "mode": "markers",
         "name": "Elkathurthi",
         "orientation": "v",
         "showlegend": true,
         "type": "scatter",
         "x": [
          0.000027523900402079844
         ],
         "xaxis": "x",
         "y": [
          -0.007653500233423722
         ],
         "yaxis": "y"
        },
        {
         "hovertemplate": "Area=Ellandakunta<br>Deviance Scores Amount of Fires=%{x}<br>Deviance Scores Soil_Temp=%{y}<extra></extra>",
         "legendgroup": "Ellandakunta",
         "marker": {
          "color": "#ab63fa",
          "symbol": "circle"
         },
         "mode": "markers",
         "name": "Ellandakunta",
         "orientation": "v",
         "showlegend": true,
         "type": "scatter",
         "x": [
          0.000059951990056436176
         ],
         "xaxis": "x",
         "y": [
          -0.0068480505902359925
         ],
         "yaxis": "y"
        },
        {
         "hovertemplate": "Area=Enkoor<br>Deviance Scores Amount of Fires=%{x}<br>Deviance Scores Soil_Temp=%{y}<extra></extra>",
         "legendgroup": "Enkoor",
         "marker": {
          "color": "#FFA15A",
          "symbol": "circle"
         },
         "mode": "markers",
         "name": "Enkoor",
         "orientation": "v",
         "showlegend": true,
         "type": "scatter",
         "x": [
          0.00004678123016103791
         ],
         "xaxis": "x",
         "y": [
          -0.004397087986189615
         ],
         "yaxis": "y"
        },
        {
         "hovertemplate": "Area=Eturnagaram<br>Deviance Scores Amount of Fires=%{x}<br>Deviance Scores Soil_Temp=%{y}<extra></extra>",
         "legendgroup": "Eturnagaram",
         "marker": {
          "color": "#19d3f3",
          "symbol": "circle"
         },
         "mode": "markers",
         "name": "Eturnagaram",
         "orientation": "v",
         "showlegend": true,
         "type": "scatter",
         "x": [
          -0.0001921335410768
         ],
         "xaxis": "x",
         "y": [
          -0.0027612420999792316
         ],
         "yaxis": "y"
        },
        {
         "hovertemplate": "Area=Farooqnagar<br>Deviance Scores Amount of Fires=%{x}<br>Deviance Scores Soil_Temp=%{y}<extra></extra>",
         "legendgroup": "Farooqnagar",
         "marker": {
          "color": "#FF6692",
          "symbol": "circle"
         },
         "mode": "markers",
         "name": "Farooqnagar",
         "orientation": "v",
         "showlegend": true,
         "type": "scatter",
         "x": [
          -0.00002489211647417153
         ],
         "xaxis": "x",
         "y": [
          -0.0048941765383699294
         ],
         "yaxis": "y"
        },
        {
         "hovertemplate": "Area=Gadwal<br>Deviance Scores Amount of Fires=%{x}<br>Deviance Scores Soil_Temp=%{y}<extra></extra>",
         "legendgroup": "Gadwal",
         "marker": {
          "color": "#B6E880",
          "symbol": "circle"
         },
         "mode": "markers",
         "name": "Gadwal",
         "orientation": "v",
         "showlegend": true,
         "type": "scatter",
         "x": [
          -0.000030620885484275633
         ],
         "xaxis": "x",
         "y": [
          -0.005530036384783813
         ],
         "yaxis": "y"
        },
        {
         "hovertemplate": "Area=Gajwel<br>Deviance Scores Amount of Fires=%{x}<br>Deviance Scores Soil_Temp=%{y}<extra></extra>",
         "legendgroup": "Gajwel",
         "marker": {
          "color": "#FF97FF",
          "symbol": "circle"
         },
         "mode": "markers",
         "name": "Gajwel",
         "orientation": "v",
         "showlegend": true,
         "type": "scatter",
         "x": [
          -0.000011035118115307111
         ],
         "xaxis": "x",
         "y": [
          -0.005199070023564402
         ],
         "yaxis": "y"
        },
        {
         "hovertemplate": "Area=Gambhiraopet<br>Deviance Scores Amount of Fires=%{x}<br>Deviance Scores Soil_Temp=%{y}<extra></extra>",
         "legendgroup": "Gambhiraopet",
         "marker": {
          "color": "#FECB52",
          "symbol": "circle"
         },
         "mode": "markers",
         "name": "Gambhiraopet",
         "orientation": "v",
         "showlegend": true,
         "type": "scatter",
         "x": [
          -0.00001721058799524249
         ],
         "xaxis": "x",
         "y": [
          -0.006392551785077648
         ],
         "yaxis": "y"
        },
        {
         "hovertemplate": "Area=Gandhari<br>Deviance Scores Amount of Fires=%{x}<br>Deviance Scores Soil_Temp=%{y}<extra></extra>",
         "legendgroup": "Gandhari",
         "marker": {
          "color": "#636efa",
          "symbol": "circle"
         },
         "mode": "markers",
         "name": "Gandhari",
         "orientation": "v",
         "showlegend": true,
         "type": "scatter",
         "x": [
          0.00007148932942127725
         ],
         "xaxis": "x",
         "y": [
          -0.004544459963595273
         ],
         "yaxis": "y"
        },
        {
         "hovertemplate": "Area=Gangadhara<br>Deviance Scores Amount of Fires=%{x}<br>Deviance Scores Soil_Temp=%{y}<extra></extra>",
         "legendgroup": "Gangadhara",
         "marker": {
          "color": "#EF553B",
          "symbol": "circle"
         },
         "mode": "markers",
         "name": "Gangadhara",
         "orientation": "v",
         "showlegend": true,
         "type": "scatter",
         "x": [
          0.000044880487731866434
         ],
         "xaxis": "x",
         "y": [
          -0.007858177829633281
         ],
         "yaxis": "y"
        },
        {
         "hovertemplate": "Area=Gangaram<br>Deviance Scores Amount of Fires=%{x}<br>Deviance Scores Soil_Temp=%{y}<extra></extra>",
         "legendgroup": "Gangaram",
         "marker": {
          "color": "#00cc96",
          "symbol": "circle"
         },
         "mode": "markers",
         "name": "Gangaram",
         "orientation": "v",
         "showlegend": true,
         "type": "scatter",
         "x": [
          -0.0002239626799046
         ],
         "xaxis": "x",
         "y": [
          -0.0018239021036470721
         ],
         "yaxis": "y"
        },
        {
         "hovertemplate": "Area=Garidepalli<br>Deviance Scores Amount of Fires=%{x}<br>Deviance Scores Soil_Temp=%{y}<extra></extra>",
         "legendgroup": "Garidepalli",
         "marker": {
          "color": "#ab63fa",
          "symbol": "circle"
         },
         "mode": "markers",
         "name": "Garidepalli",
         "orientation": "v",
         "showlegend": true,
         "type": "scatter",
         "x": [
          -0.0000017408686113186543
         ],
         "xaxis": "x",
         "y": [
          -0.0036457037644110134
         ],
         "yaxis": "y"
        },
        {
         "hovertemplate": "Area=Geesugonda<br>Deviance Scores Amount of Fires=%{x}<br>Deviance Scores Soil_Temp=%{y}<extra></extra>",
         "legendgroup": "Geesugonda",
         "marker": {
          "color": "#FFA15A",
          "symbol": "circle"
         },
         "mode": "markers",
         "name": "Geesugonda",
         "orientation": "v",
         "showlegend": true,
         "type": "scatter",
         "x": [
          -0.00005413192853862896
         ],
         "xaxis": "x",
         "y": [
          -0.0021523062715216464
         ],
         "yaxis": "y"
        },
        {
         "hovertemplate": "Area=Ghanapur_Mulug<br>Deviance Scores Amount of Fires=%{x}<br>Deviance Scores Soil_Temp=%{y}<extra></extra>",
         "legendgroup": "Ghanapur_Mulug",
         "marker": {
          "color": "#19d3f3",
          "symbol": "circle"
         },
         "mode": "markers",
         "name": "Ghanapur_Mulug",
         "orientation": "v",
         "showlegend": true,
         "type": "scatter",
         "x": [
          -0.0002605550167632
         ],
         "xaxis": "x",
         "y": [
          -0.0045700678089134516
         ],
         "yaxis": "y"
        },
        {
         "hovertemplate": "Area=Ghanpur<br>Deviance Scores Amount of Fires=%{x}<br>Deviance Scores Soil_Temp=%{y}<extra></extra>",
         "legendgroup": "Ghanpur",
         "marker": {
          "color": "#FF6692",
          "symbol": "circle"
         },
         "mode": "markers",
         "name": "Ghanpur",
         "orientation": "v",
         "showlegend": true,
         "type": "scatter",
         "x": [
          0.00007137410157105247
         ],
         "xaxis": "x",
         "y": [
          -0.007381530702561302
         ],
         "yaxis": "y"
        },
        {
         "hovertemplate": "Area=Ghanpur (Stn)<br>Deviance Scores Amount of Fires=%{x}<br>Deviance Scores Soil_Temp=%{y}<extra></extra>",
         "legendgroup": "Ghanpur (Stn)",
         "marker": {
          "color": "#B6E880",
          "symbol": "circle"
         },
         "mode": "markers",
         "name": "Ghanpur (Stn)",
         "orientation": "v",
         "showlegend": true,
         "type": "scatter",
         "x": [
          2.3737293855997e-7
         ],
         "xaxis": "x",
         "y": [
          -0.006042996707560994
         ],
         "yaxis": "y"
        },
        {
         "hovertemplate": "Area=Ghatkesar<br>Deviance Scores Amount of Fires=%{x}<br>Deviance Scores Soil_Temp=%{y}<extra></extra>",
         "legendgroup": "Ghatkesar",
         "marker": {
          "color": "#FF97FF",
          "symbol": "circle"
         },
         "mode": "markers",
         "name": "Ghatkesar",
         "orientation": "v",
         "showlegend": true,
         "type": "scatter",
         "x": [
          0.000029923229311385786
         ],
         "xaxis": "x",
         "y": [
          -0.005382204193276966
         ],
         "yaxis": "y"
        },
        {
         "hovertemplate": "Area=Ghattu<br>Deviance Scores Amount of Fires=%{x}<br>Deviance Scores Soil_Temp=%{y}<extra></extra>",
         "legendgroup": "Ghattu",
         "marker": {
          "color": "#FECB52",
          "symbol": "circle"
         },
         "mode": "markers",
         "name": "Ghattu",
         "orientation": "v",
         "showlegend": true,
         "type": "scatter",
         "x": [
          0.000006040587210744618
         ],
         "xaxis": "x",
         "y": [
          -0.006931534744900031
         ],
         "yaxis": "y"
        },
        {
         "hovertemplate": "Area=Govindaraopet<br>Deviance Scores Amount of Fires=%{x}<br>Deviance Scores Soil_Temp=%{y}<extra></extra>",
         "legendgroup": "Govindaraopet",
         "marker": {
          "color": "#636efa",
          "symbol": "circle"
         },
         "mode": "markers",
         "name": "Govindaraopet",
         "orientation": "v",
         "showlegend": true,
         "type": "scatter",
         "x": [
          -0.0002137028568814
         ],
         "xaxis": "x",
         "y": [
          -0.0013949867325997389
         ],
         "yaxis": "y"
        },
        {
         "hovertemplate": "Area=Gudur<br>Deviance Scores Amount of Fires=%{x}<br>Deviance Scores Soil_Temp=%{y}<extra></extra>",
         "legendgroup": "Gudur",
         "marker": {
          "color": "#EF553B",
          "symbol": "circle"
         },
         "mode": "markers",
         "name": "Gudur",
         "orientation": "v",
         "showlegend": true,
         "type": "scatter",
         "x": [
          0.0000036045301071200326
         ],
         "xaxis": "x",
         "y": [
          -0.0013949312731369981
         ],
         "yaxis": "y"
        },
        {
         "hovertemplate": "Area=Gundala<br>Deviance Scores Amount of Fires=%{x}<br>Deviance Scores Soil_Temp=%{y}<extra></extra>",
         "legendgroup": "Gundala",
         "marker": {
          "color": "#00cc96",
          "symbol": "circle"
         },
         "mode": "markers",
         "name": "Gundala",
         "orientation": "v",
         "showlegend": true,
         "type": "scatter",
         "x": [
          -0.0005573034548833,
          0.0001083083696327
         ],
         "xaxis": "x",
         "y": [
          -0.0015771327106525598,
          -0.005814807655903821
         ],
         "yaxis": "y"
        },
        {
         "hovertemplate": "Area=Gundlapally<br>Deviance Scores Amount of Fires=%{x}<br>Deviance Scores Soil_Temp=%{y}<extra></extra>",
         "legendgroup": "Gundlapally",
         "marker": {
          "color": "#ab63fa",
          "symbol": "circle"
         },
         "mode": "markers",
         "name": "Gundlapally",
         "orientation": "v",
         "showlegend": true,
         "type": "scatter",
         "x": [
          0.00003306348524368044
         ],
         "xaxis": "x",
         "y": [
          -0.0071655133901576285
         ],
         "yaxis": "y"
        },
        {
         "hovertemplate": "Area=Gurrampode<br>Deviance Scores Amount of Fires=%{x}<br>Deviance Scores Soil_Temp=%{y}<extra></extra>",
         "legendgroup": "Gurrampode",
         "marker": {
          "color": "#FFA15A",
          "symbol": "circle"
         },
         "mode": "markers",
         "name": "Gurrampode",
         "orientation": "v",
         "showlegend": true,
         "type": "scatter",
         "x": [
          0.000003918470083062929
         ],
         "xaxis": "x",
         "y": [
          -0.006050903064587031
         ],
         "yaxis": "y"
        },
        {
         "hovertemplate": "Area=Hajipur<br>Deviance Scores Amount of Fires=%{x}<br>Deviance Scores Soil_Temp=%{y}<extra></extra>",
         "legendgroup": "Hajipur",
         "marker": {
          "color": "#19d3f3",
          "symbol": "circle"
         },
         "mode": "markers",
         "name": "Hajipur",
         "orientation": "v",
         "showlegend": true,
         "type": "scatter",
         "x": [
          -0.00000988712134653139
         ],
         "xaxis": "x",
         "y": [
          -0.004188136724421093
         ],
         "yaxis": "y"
        },
        {
         "hovertemplate": "Area=Hasanparthy<br>Deviance Scores Amount of Fires=%{x}<br>Deviance Scores Soil_Temp=%{y}<extra></extra>",
         "legendgroup": "Hasanparthy",
         "marker": {
          "color": "#FF6692",
          "symbol": "circle"
         },
         "mode": "markers",
         "name": "Hasanparthy",
         "orientation": "v",
         "showlegend": true,
         "type": "scatter",
         "x": [
          0.00001910853066350949
         ],
         "xaxis": "x",
         "y": [
          -0.007822058525288774
         ],
         "yaxis": "y"
        },
        {
         "hovertemplate": "Area=Hathnoora<br>Deviance Scores Amount of Fires=%{x}<br>Deviance Scores Soil_Temp=%{y}<extra></extra>",
         "legendgroup": "Hathnoora",
         "marker": {
          "color": "#B6E880",
          "symbol": "circle"
         },
         "mode": "markers",
         "name": "Hathnoora",
         "orientation": "v",
         "showlegend": true,
         "type": "scatter",
         "x": [
          -0.000051850947344571137
         ],
         "xaxis": "x",
         "y": [
          -0.0035400092016341705
         ],
         "yaxis": "y"
        },
        {
         "hovertemplate": "Area=Havelighanpur<br>Deviance Scores Amount of Fires=%{x}<br>Deviance Scores Soil_Temp=%{y}<extra></extra>",
         "legendgroup": "Havelighanpur",
         "marker": {
          "color": "#FF97FF",
          "symbol": "circle"
         },
         "mode": "markers",
         "name": "Havelighanpur",
         "orientation": "v",
         "showlegend": true,
         "type": "scatter",
         "x": [
          -0.00006065654705303585
         ],
         "xaxis": "x",
         "y": [
          -0.004882273215932363
         ],
         "yaxis": "y"
        },
        {
         "hovertemplate": "Area=Husnabad<br>Deviance Scores Amount of Fires=%{x}<br>Deviance Scores Soil_Temp=%{y}<extra></extra>",
         "legendgroup": "Husnabad",
         "marker": {
          "color": "#FECB52",
          "symbol": "circle"
         },
         "mode": "markers",
         "name": "Husnabad",
         "orientation": "v",
         "showlegend": true,
         "type": "scatter",
         "x": [
          -0.00004677382661652892
         ],
         "xaxis": "x",
         "y": [
          -0.005592596271399384
         ],
         "yaxis": "y"
        },
        {
         "hovertemplate": "Area=Huzur nagar<br>Deviance Scores Amount of Fires=%{x}<br>Deviance Scores Soil_Temp=%{y}<extra></extra>",
         "legendgroup": "Huzur nagar",
         "marker": {
          "color": "#636efa",
          "symbol": "circle"
         },
         "mode": "markers",
         "name": "Huzur nagar",
         "orientation": "v",
         "showlegend": true,
         "type": "scatter",
         "x": [
          -0.0001271187345737
         ],
         "xaxis": "x",
         "y": [
          -0.005252036945215961
         ],
         "yaxis": "y"
        },
        {
         "hovertemplate": "Area=Huzurabad<br>Deviance Scores Amount of Fires=%{x}<br>Deviance Scores Soil_Temp=%{y}<extra></extra>",
         "legendgroup": "Huzurabad",
         "marker": {
          "color": "#EF553B",
          "symbol": "circle"
         },
         "mode": "markers",
         "name": "Huzurabad",
         "orientation": "v",
         "showlegend": true,
         "type": "scatter",
         "x": [
          0.00005829855839404941
         ],
         "xaxis": "x",
         "y": [
          -0.007901338730517385
         ],
         "yaxis": "y"
        },
        {
         "hovertemplate": "Area=Ibrahimpatnam<br>Deviance Scores Amount of Fires=%{x}<br>Deviance Scores Soil_Temp=%{y}<extra></extra>",
         "legendgroup": "Ibrahimpatnam",
         "marker": {
          "color": "#00cc96",
          "symbol": "circle"
         },
         "mode": "markers",
         "name": "Ibrahimpatnam",
         "orientation": "v",
         "showlegend": true,
         "type": "scatter",
         "x": [
          0.00007898809739634305,
          0.00002907189251065565
         ],
         "xaxis": "x",
         "y": [
          -0.0070774637872498,
          -0.006029358009966738
         ],
         "yaxis": "y"
        },
        {
         "hovertemplate": "Area=Ichoda<br>Deviance Scores Amount of Fires=%{x}<br>Deviance Scores Soil_Temp=%{y}<extra></extra>",
         "legendgroup": "Ichoda",
         "marker": {
          "color": "#ab63fa",
          "symbol": "circle"
         },
         "mode": "markers",
         "name": "Ichoda",
         "orientation": "v",
         "showlegend": true,
         "type": "scatter",
         "x": [
          -0.000024948926792639987
         ],
         "xaxis": "x",
         "y": [
          -0.0032997239371349647
         ],
         "yaxis": "y"
        },
        {
         "hovertemplate": "Area=Illanthakunta<br>Deviance Scores Amount of Fires=%{x}<br>Deviance Scores Soil_Temp=%{y}<extra></extra>",
         "legendgroup": "Illanthakunta",
         "marker": {
          "color": "#FFA15A",
          "symbol": "circle"
         },
         "mode": "markers",
         "name": "Illanthakunta",
         "orientation": "v",
         "showlegend": true,
         "type": "scatter",
         "x": [
          -0.0000066256898455693445
         ],
         "xaxis": "x",
         "y": [
          -0.007176646186026365
         ],
         "yaxis": "y"
        },
        {
         "hovertemplate": "Area=Inavolu<br>Deviance Scores Amount of Fires=%{x}<br>Deviance Scores Soil_Temp=%{y}<extra></extra>",
         "legendgroup": "Inavolu",
         "marker": {
          "color": "#19d3f3",
          "symbol": "circle"
         },
         "mode": "markers",
         "name": "Inavolu",
         "orientation": "v",
         "showlegend": true,
         "type": "scatter",
         "x": [
          0.00003698283844788903
         ],
         "xaxis": "x",
         "y": [
          -0.0035255815380190033
         ],
         "yaxis": "y"
        },
        {
         "hovertemplate": "Area=Indalwai<br>Deviance Scores Amount of Fires=%{x}<br>Deviance Scores Soil_Temp=%{y}<extra></extra>",
         "legendgroup": "Indalwai",
         "marker": {
          "color": "#FF6692",
          "symbol": "circle"
         },
         "mode": "markers",
         "name": "Indalwai",
         "orientation": "v",
         "showlegend": true,
         "type": "scatter",
         "x": [
          0.000004168685153476839
         ],
         "xaxis": "x",
         "y": [
          -0.006311711716504717
         ],
         "yaxis": "y"
        },
        {
         "hovertemplate": "Area=Inderavelly<br>Deviance Scores Amount of Fires=%{x}<br>Deviance Scores Soil_Temp=%{y}<extra></extra>",
         "legendgroup": "Inderavelly",
         "marker": {
          "color": "#B6E880",
          "symbol": "circle"
         },
         "mode": "markers",
         "name": "Inderavelly",
         "orientation": "v",
         "showlegend": true,
         "type": "scatter",
         "x": [
          -0.000014957825921392195
         ],
         "xaxis": "x",
         "y": [
          -0.0023223214656365324
         ],
         "yaxis": "y"
        },
        {
         "hovertemplate": "Area=Itikyal<br>Deviance Scores Amount of Fires=%{x}<br>Deviance Scores Soil_Temp=%{y}<extra></extra>",
         "legendgroup": "Itikyal",
         "marker": {
          "color": "#FF97FF",
          "symbol": "circle"
         },
         "mode": "markers",
         "name": "Itikyal",
         "orientation": "v",
         "showlegend": true,
         "type": "scatter",
         "x": [
          0.000015326042841794235
         ],
         "xaxis": "x",
         "y": [
          -0.005616868451858425
         ],
         "yaxis": "y"
        },
        {
         "hovertemplate": "Area=Jadcherla<br>Deviance Scores Amount of Fires=%{x}<br>Deviance Scores Soil_Temp=%{y}<extra></extra>",
         "legendgroup": "Jadcherla",
         "marker": {
          "color": "#FECB52",
          "symbol": "circle"
         },
         "mode": "markers",
         "name": "Jadcherla",
         "orientation": "v",
         "showlegend": true,
         "type": "scatter",
         "x": [
          0.000009248596104541823
         ],
         "xaxis": "x",
         "y": [
          -0.005876956121094788
         ],
         "yaxis": "y"
        },
        {
         "hovertemplate": "Area=Jagdevpur<br>Deviance Scores Amount of Fires=%{x}<br>Deviance Scores Soil_Temp=%{y}<extra></extra>",
         "legendgroup": "Jagdevpur",
         "marker": {
          "color": "#636efa",
          "symbol": "circle"
         },
         "mode": "markers",
         "name": "Jagdevpur",
         "orientation": "v",
         "showlegend": true,
         "type": "scatter",
         "x": [
          0.000005252859017803975
         ],
         "xaxis": "x",
         "y": [
          -0.006868739767183072
         ],
         "yaxis": "y"
        },
        {
         "hovertemplate": "Area=Jagityal_Rural<br>Deviance Scores Amount of Fires=%{x}<br>Deviance Scores Soil_Temp=%{y}<extra></extra>",
         "legendgroup": "Jagityal_Rural",
         "marker": {
          "color": "#EF553B",
          "symbol": "circle"
         },
         "mode": "markers",
         "name": "Jagityal_Rural",
         "orientation": "v",
         "showlegend": true,
         "type": "scatter",
         "x": [
          0.00000844411506924193
         ],
         "xaxis": "x",
         "y": [
          -0.005805239908036507
         ],
         "yaxis": "y"
        },
        {
         "hovertemplate": "Area=Jainad<br>Deviance Scores Amount of Fires=%{x}<br>Deviance Scores Soil_Temp=%{y}<extra></extra>",
         "legendgroup": "Jainad",
         "marker": {
          "color": "#00cc96",
          "symbol": "circle"
         },
         "mode": "markers",
         "name": "Jainad",
         "orientation": "v",
         "showlegend": true,
         "type": "scatter",
         "x": [
          0.00006431316996989578
         ],
         "xaxis": "x",
         "y": [
          -0.002096609881380825
         ],
         "yaxis": "y"
        },
        {
         "hovertemplate": "Area=Jaipur<br>Deviance Scores Amount of Fires=%{x}<br>Deviance Scores Soil_Temp=%{y}<extra></extra>",
         "legendgroup": "Jaipur",
         "marker": {
          "color": "#ab63fa",
          "symbol": "circle"
         },
         "mode": "markers",
         "name": "Jaipur",
         "orientation": "v",
         "showlegend": true,
         "type": "scatter",
         "x": [
          0.00002041949355763514
         ],
         "xaxis": "x",
         "y": [
          -0.004938594976648256
         ],
         "yaxis": "y"
        },
        {
         "hovertemplate": "Area=Jajireddigudem<br>Deviance Scores Amount of Fires=%{x}<br>Deviance Scores Soil_Temp=%{y}<extra></extra>",
         "legendgroup": "Jajireddigudem",
         "marker": {
          "color": "#FFA15A",
          "symbol": "circle"
         },
         "mode": "markers",
         "name": "Jajireddigudem",
         "orientation": "v",
         "showlegend": true,
         "type": "scatter",
         "x": [
          -0.00002060742339080737
         ],
         "xaxis": "x",
         "y": [
          -0.007357220354007859
         ],
         "yaxis": "y"
        },
        {
         "hovertemplate": "Area=Jammikunta<br>Deviance Scores Amount of Fires=%{x}<br>Deviance Scores Soil_Temp=%{y}<extra></extra>",
         "legendgroup": "Jammikunta",
         "marker": {
          "color": "#19d3f3",
          "symbol": "circle"
         },
         "mode": "markers",
         "name": "Jammikunta",
         "orientation": "v",
         "showlegend": true,
         "type": "scatter",
         "x": [
          -0.0000676545433803172
         ],
         "xaxis": "x",
         "y": [
          -0.006479247910759813
         ],
         "yaxis": "y"
        },
        {
         "hovertemplate": "Area=Jangoan<br>Deviance Scores Amount of Fires=%{x}<br>Deviance Scores Soil_Temp=%{y}<extra></extra>",
         "legendgroup": "Jangoan",
         "marker": {
          "color": "#FF6692",
          "symbol": "circle"
         },
         "mode": "markers",
         "name": "Jangoan",
         "orientation": "v",
         "showlegend": true,
         "type": "scatter",
         "x": [
          0.000007687023137008827
         ],
         "xaxis": "x",
         "y": [
          -0.006338567935381389
         ],
         "yaxis": "y"
        },
        {
         "hovertemplate": "Area=Jannaram<br>Deviance Scores Amount of Fires=%{x}<br>Deviance Scores Soil_Temp=%{y}<extra></extra>",
         "legendgroup": "Jannaram",
         "marker": {
          "color": "#B6E880",
          "symbol": "circle"
         },
         "mode": "markers",
         "name": "Jannaram",
         "orientation": "v",
         "showlegend": true,
         "type": "scatter",
         "x": [
          0.00001718105108991029
         ],
         "xaxis": "x",
         "y": [
          -0.003196497004483386
         ],
         "yaxis": "y"
        },
        {
         "hovertemplate": "Area=Jharasangam<br>Deviance Scores Amount of Fires=%{x}<br>Deviance Scores Soil_Temp=%{y}<extra></extra>",
         "legendgroup": "Jharasangam",
         "marker": {
          "color": "#FF97FF",
          "symbol": "circle"
         },
         "mode": "markers",
         "name": "Jharasangam",
         "orientation": "v",
         "showlegend": true,
         "type": "scatter",
         "x": [
          0.00005691612439519311
         ],
         "xaxis": "x",
         "y": [
          -0.003344977344225029
         ],
         "yaxis": "y"
        },
        {
         "hovertemplate": "Area=Jukkal<br>Deviance Scores Amount of Fires=%{x}<br>Deviance Scores Soil_Temp=%{y}<extra></extra>",
         "legendgroup": "Jukkal",
         "marker": {
          "color": "#FECB52",
          "symbol": "circle"
         },
         "mode": "markers",
         "name": "Jukkal",
         "orientation": "v",
         "showlegend": true,
         "type": "scatter",
         "x": [
          -0.00000292537610553361
         ],
         "xaxis": "x",
         "y": [
          -0.006037188139736395
         ],
         "yaxis": "y"
        },
        {
         "hovertemplate": "Area=Julurupad<br>Deviance Scores Amount of Fires=%{x}<br>Deviance Scores Soil_Temp=%{y}<extra></extra>",
         "legendgroup": "Julurupad",
         "marker": {
          "color": "#636efa",
          "symbol": "circle"
         },
         "mode": "markers",
         "name": "Julurupad",
         "orientation": "v",
         "showlegend": true,
         "type": "scatter",
         "x": [
          0.000005663545797073957
         ],
         "xaxis": "x",
         "y": [
          -0.003767941505114345
         ],
         "yaxis": "y"
        },
        {
         "hovertemplate": "Area=Kaddampeddur<br>Deviance Scores Amount of Fires=%{x}<br>Deviance Scores Soil_Temp=%{y}<extra></extra>",
         "legendgroup": "Kaddampeddur",
         "marker": {
          "color": "#EF553B",
          "symbol": "circle"
         },
         "mode": "markers",
         "name": "Kaddampeddur",
         "orientation": "v",
         "showlegend": true,
         "type": "scatter",
         "x": [
          -0.00005581848982575428
         ],
         "xaxis": "x",
         "y": [
          -0.003898130209774579
         ],
         "yaxis": "y"
        },
        {
         "hovertemplate": "Area=Kadthal<br>Deviance Scores Amount of Fires=%{x}<br>Deviance Scores Soil_Temp=%{y}<extra></extra>",
         "legendgroup": "Kadthal",
         "marker": {
          "color": "#00cc96",
          "symbol": "circle"
         },
         "mode": "markers",
         "name": "Kadthal",
         "orientation": "v",
         "showlegend": true,
         "type": "scatter",
         "x": [
          0.00002056534008108365
         ],
         "xaxis": "x",
         "y": [
          -0.005613485556463334
         ],
         "yaxis": "y"
        },
        {
         "hovertemplate": "Area=Kagaznagar<br>Deviance Scores Amount of Fires=%{x}<br>Deviance Scores Soil_Temp=%{y}<extra></extra>",
         "legendgroup": "Kagaznagar",
         "marker": {
          "color": "#ab63fa",
          "symbol": "circle"
         },
         "mode": "markers",
         "name": "Kagaznagar",
         "orientation": "v",
         "showlegend": true,
         "type": "scatter",
         "x": [
          0.000022961594924693608
         ],
         "xaxis": "x",
         "y": [
          -0.004152545672528239
         ],
         "yaxis": "y"
        },
        {
         "hovertemplate": "Area=Kalher<br>Deviance Scores Amount of Fires=%{x}<br>Deviance Scores Soil_Temp=%{y}<extra></extra>",
         "legendgroup": "Kalher",
         "marker": {
          "color": "#FFA15A",
          "symbol": "circle"
         },
         "mode": "markers",
         "name": "Kalher",
         "orientation": "v",
         "showlegend": true,
         "type": "scatter",
         "x": [
          0.000027421929750068937
         ],
         "xaxis": "x",
         "y": [
          -0.005773454620299473
         ],
         "yaxis": "y"
        },
        {
         "hovertemplate": "Area=Kalluru<br>Deviance Scores Amount of Fires=%{x}<br>Deviance Scores Soil_Temp=%{y}<extra></extra>",
         "legendgroup": "Kalluru",
         "marker": {
          "color": "#19d3f3",
          "symbol": "circle"
         },
         "mode": "markers",
         "name": "Kalluru",
         "orientation": "v",
         "showlegend": true,
         "type": "scatter",
         "x": [
          -0.000015191759219095977
         ],
         "xaxis": "x",
         "y": [
          -0.005140252108000445
         ],
         "yaxis": "y"
        },
        {
         "hovertemplate": "Area=Kaloor_Thimmandoddi<br>Deviance Scores Amount of Fires=%{x}<br>Deviance Scores Soil_Temp=%{y}<extra></extra>",
         "legendgroup": "Kaloor_Thimmandoddi",
         "marker": {
          "color": "#FF6692",
          "symbol": "circle"
         },
         "mode": "markers",
         "name": "Kaloor_Thimmandoddi",
         "orientation": "v",
         "showlegend": true,
         "type": "scatter",
         "x": [
          0.00001684000864893318
         ],
         "xaxis": "x",
         "y": [
          -0.006271709843774091
         ],
         "yaxis": "y"
        },
        {
         "hovertemplate": "Area=Kalwakurthy<br>Deviance Scores Amount of Fires=%{x}<br>Deviance Scores Soil_Temp=%{y}<extra></extra>",
         "legendgroup": "Kalwakurthy",
         "marker": {
          "color": "#B6E880",
          "symbol": "circle"
         },
         "mode": "markers",
         "name": "Kalwakurthy",
         "orientation": "v",
         "showlegend": true,
         "type": "scatter",
         "x": [
          0.000003725742234915752
         ],
         "xaxis": "x",
         "y": [
          -0.0059090833428781285
         ],
         "yaxis": "y"
        },
        {
         "hovertemplate": "Area=Kamalapur<br>Deviance Scores Amount of Fires=%{x}<br>Deviance Scores Soil_Temp=%{y}<extra></extra>",
         "legendgroup": "Kamalapur",
         "marker": {
          "color": "#FF97FF",
          "symbol": "circle"
         },
         "mode": "markers",
         "name": "Kamalapur",
         "orientation": "v",
         "showlegend": true,
         "type": "scatter",
         "x": [
          0.0002985432175946
         ],
         "xaxis": "x",
         "y": [
          -0.007180152629502457
         ],
         "yaxis": "y"
        },
        {
         "hovertemplate": "Area=Kamanpur<br>Deviance Scores Amount of Fires=%{x}<br>Deviance Scores Soil_Temp=%{y}<extra></extra>",
         "legendgroup": "Kamanpur",
         "marker": {
          "color": "#FECB52",
          "symbol": "circle"
         },
         "mode": "markers",
         "name": "Kamanpur",
         "orientation": "v",
         "showlegend": true,
         "type": "scatter",
         "x": [
          0.000035760187494660067
         ],
         "xaxis": "x",
         "y": [
          -0.004640029103815082
         ],
         "yaxis": "y"
        },
        {
         "hovertemplate": "Area=Kamareddy<br>Deviance Scores Amount of Fires=%{x}<br>Deviance Scores Soil_Temp=%{y}<extra></extra>",
         "legendgroup": "Kamareddy",
         "marker": {
          "color": "#636efa",
          "symbol": "circle"
         },
         "mode": "markers",
         "name": "Kamareddy",
         "orientation": "v",
         "showlegend": true,
         "type": "scatter",
         "x": [
          0.00004149741642788737
         ],
         "xaxis": "x",
         "y": [
          -0.006128936245450533
         ],
         "yaxis": "y"
        },
        {
         "hovertemplate": "Area=Kamepally<br>Deviance Scores Amount of Fires=%{x}<br>Deviance Scores Soil_Temp=%{y}<extra></extra>",
         "legendgroup": "Kamepally",
         "marker": {
          "color": "#EF553B",
          "symbol": "circle"
         },
         "mode": "markers",
         "name": "Kamepally",
         "orientation": "v",
         "showlegend": true,
         "type": "scatter",
         "x": [
          0.00002989720790555023
         ],
         "xaxis": "x",
         "y": [
          -0.004329883514129576
         ],
         "yaxis": "y"
        },
        {
         "hovertemplate": "Area=Kanagal<br>Deviance Scores Amount of Fires=%{x}<br>Deviance Scores Soil_Temp=%{y}<extra></extra>",
         "legendgroup": "Kanagal",
         "marker": {
          "color": "#00cc96",
          "symbol": "circle"
         },
         "mode": "markers",
         "name": "Kanagal",
         "orientation": "v",
         "showlegend": true,
         "type": "scatter",
         "x": [
          -0.00003865561307911884
         ],
         "xaxis": "x",
         "y": [
          -0.006032621705772196
         ],
         "yaxis": "y"
        },
        {
         "hovertemplate": "Area=Kandukur<br>Deviance Scores Amount of Fires=%{x}<br>Deviance Scores Soil_Temp=%{y}<extra></extra>",
         "legendgroup": "Kandukur",
         "marker": {
          "color": "#ab63fa",
          "symbol": "circle"
         },
         "mode": "markers",
         "name": "Kandukur",
         "orientation": "v",
         "showlegend": true,
         "type": "scatter",
         "x": [
          0.00007858493830262373
         ],
         "xaxis": "x",
         "y": [
          -0.00615041606954938
         ],
         "yaxis": "y"
        },
        {
         "hovertemplate": "Area=Kangti<br>Deviance Scores Amount of Fires=%{x}<br>Deviance Scores Soil_Temp=%{y}<extra></extra>",
         "legendgroup": "Kangti",
         "marker": {
          "color": "#FFA15A",
          "symbol": "circle"
         },
         "mode": "markers",
         "name": "Kangti",
         "orientation": "v",
         "showlegend": true,
         "type": "scatter",
         "x": [
          -0.000008287801934868748
         ],
         "xaxis": "x",
         "y": [
          -0.006462994320869174
         ],
         "yaxis": "y"
        },
        {
         "hovertemplate": "Area=Kannaigudem<br>Deviance Scores Amount of Fires=%{x}<br>Deviance Scores Soil_Temp=%{y}<extra></extra>",
         "legendgroup": "Kannaigudem",
         "marker": {
          "color": "#19d3f3",
          "symbol": "circle"
         },
         "mode": "markers",
         "name": "Kannaigudem",
         "orientation": "v",
         "showlegend": true,
         "type": "scatter",
         "x": [
          -0.000023385352920669743
         ],
         "xaxis": "x",
         "y": [
          -0.0032267612021648663
         ],
         "yaxis": "y"
        },
        {
         "hovertemplate": "Area=Kannepalli<br>Deviance Scores Amount of Fires=%{x}<br>Deviance Scores Soil_Temp=%{y}<extra></extra>",
         "legendgroup": "Kannepalli",
         "marker": {
          "color": "#FF6692",
          "symbol": "circle"
         },
         "mode": "markers",
         "name": "Kannepalli",
         "orientation": "v",
         "showlegend": true,
         "type": "scatter",
         "x": [
          0.00005601069585023105
         ],
         "xaxis": "x",
         "y": [
          -0.005170099865704806
         ],
         "yaxis": "y"
        },
        {
         "hovertemplate": "Area=Karakagudem<br>Deviance Scores Amount of Fires=%{x}<br>Deviance Scores Soil_Temp=%{y}<extra></extra>",
         "legendgroup": "Karakagudem",
         "marker": {
          "color": "#B6E880",
          "symbol": "circle"
         },
         "mode": "markers",
         "name": "Karakagudem",
         "orientation": "v",
         "showlegend": true,
         "type": "scatter",
         "x": [
          0.000037750715675953466
         ],
         "xaxis": "x",
         "y": [
          -0.0025294141033124456
         ],
         "yaxis": "y"
        },
        {
         "hovertemplate": "Area=Karimnagar_Rural<br>Deviance Scores Amount of Fires=%{x}<br>Deviance Scores Soil_Temp=%{y}<extra></extra>",
         "legendgroup": "Karimnagar_Rural",
         "marker": {
          "color": "#FF97FF",
          "symbol": "circle"
         },
         "mode": "markers",
         "name": "Karimnagar_Rural",
         "orientation": "v",
         "showlegend": true,
         "type": "scatter",
         "x": [
          0.0000457409434624149
         ],
         "xaxis": "x",
         "y": [
          -0.006058488675455822
         ],
         "yaxis": "y"
        },
        {
         "hovertemplate": "Area=Kataram<br>Deviance Scores Amount of Fires=%{x}<br>Deviance Scores Soil_Temp=%{y}<extra></extra>",
         "legendgroup": "Kataram",
         "marker": {
          "color": "#FECB52",
          "symbol": "circle"
         },
         "mode": "markers",
         "name": "Kataram",
         "orientation": "v",
         "showlegend": true,
         "type": "scatter",
         "x": [
          0.000024281546098703967
         ],
         "xaxis": "x",
         "y": [
          -0.0041233827218115264
         ],
         "yaxis": "y"
        },
        {
         "hovertemplate": "Area=Kathlapur<br>Deviance Scores Amount of Fires=%{x}<br>Deviance Scores Soil_Temp=%{y}<extra></extra>",
         "legendgroup": "Kathlapur",
         "marker": {
          "color": "#636efa",
          "symbol": "circle"
         },
         "mode": "markers",
         "name": "Kathlapur",
         "orientation": "v",
         "showlegend": true,
         "type": "scatter",
         "x": [
          0.00007816993337312558
         ],
         "xaxis": "x",
         "y": [
          -0.005730740672706217
         ],
         "yaxis": "y"
        },
        {
         "hovertemplate": "Area=Kattangur<br>Deviance Scores Amount of Fires=%{x}<br>Deviance Scores Soil_Temp=%{y}<extra></extra>",
         "legendgroup": "Kattangur",
         "marker": {
          "color": "#EF553B",
          "symbol": "circle"
         },
         "mode": "markers",
         "name": "Kattangur",
         "orientation": "v",
         "showlegend": true,
         "type": "scatter",
         "x": [
          0.0001058186174403
         ],
         "xaxis": "x",
         "y": [
          -0.006610537754882003
         ],
         "yaxis": "y"
        },
        {
         "hovertemplate": "Area=Keesara<br>Deviance Scores Amount of Fires=%{x}<br>Deviance Scores Soil_Temp=%{y}<extra></extra>",
         "legendgroup": "Keesara",
         "marker": {
          "color": "#00cc96",
          "symbol": "circle"
         },
         "mode": "markers",
         "name": "Keesara",
         "orientation": "v",
         "showlegend": true,
         "type": "scatter",
         "x": [
          -0.0000230352446177079
         ],
         "xaxis": "x",
         "y": [
          -0.005427502592344626
         ],
         "yaxis": "y"
        },
        {
         "hovertemplate": "Area=Kerameri<br>Deviance Scores Amount of Fires=%{x}<br>Deviance Scores Soil_Temp=%{y}<extra></extra>",
         "legendgroup": "Kerameri",
         "marker": {
          "color": "#ab63fa",
          "symbol": "circle"
         },
         "mode": "markers",
         "name": "Kerameri",
         "orientation": "v",
         "showlegend": true,
         "type": "scatter",
         "x": [
          0.00002825949326269255
         ],
         "xaxis": "x",
         "y": [
          -0.004789159198941093
         ],
         "yaxis": "y"
        },
        {
         "hovertemplate": "Area=Kesamudram<br>Deviance Scores Amount of Fires=%{x}<br>Deviance Scores Soil_Temp=%{y}<extra></extra>",
         "legendgroup": "Kesamudram",
         "marker": {
          "color": "#FFA15A",
          "symbol": "circle"
         },
         "mode": "markers",
         "name": "Kesamudram",
         "orientation": "v",
         "showlegend": true,
         "type": "scatter",
         "x": [
          0.00007064841085173132
         ],
         "xaxis": "x",
         "y": [
          -0.00527303280681191
         ],
         "yaxis": "y"
        },
        {
         "hovertemplate": "Area=Keshampeta<br>Deviance Scores Amount of Fires=%{x}<br>Deviance Scores Soil_Temp=%{y}<extra></extra>",
         "legendgroup": "Keshampeta",
         "marker": {
          "color": "#19d3f3",
          "symbol": "circle"
         },
         "mode": "markers",
         "name": "Keshampeta",
         "orientation": "v",
         "showlegend": true,
         "type": "scatter",
         "x": [
          0.00006145399454946237
         ],
         "xaxis": "x",
         "y": [
          -0.0055660479436767975
         ],
         "yaxis": "y"
        },
        {
         "hovertemplate": "Area=Kethepally<br>Deviance Scores Amount of Fires=%{x}<br>Deviance Scores Soil_Temp=%{y}<extra></extra>",
         "legendgroup": "Kethepally",
         "marker": {
          "color": "#FF6692",
          "symbol": "circle"
         },
         "mode": "markers",
         "name": "Kethepally",
         "orientation": "v",
         "showlegend": true,
         "type": "scatter",
         "x": [
          -0.0000093824769451221
         ],
         "xaxis": "x",
         "y": [
          -0.006436939803428024
         ],
         "yaxis": "y"
        },
        {
         "hovertemplate": "Area=Khaazipet<br>Deviance Scores Amount of Fires=%{x}<br>Deviance Scores Soil_Temp=%{y}<extra></extra>",
         "legendgroup": "Khaazipet",
         "marker": {
          "color": "#B6E880",
          "symbol": "circle"
         },
         "mode": "markers",
         "name": "Khaazipet",
         "orientation": "v",
         "showlegend": true,
         "type": "scatter",
         "x": [
          0.0000645057060173775
         ],
         "xaxis": "x",
         "y": [
          -0.005011900523920079
         ],
         "yaxis": "y"
        },
        {
         "hovertemplate": "Area=Khammam_Rural<br>Deviance Scores Amount of Fires=%{x}<br>Deviance Scores Soil_Temp=%{y}<extra></extra>",
         "legendgroup": "Khammam_Rural",
         "marker": {
          "color": "#FF97FF",
          "symbol": "circle"
         },
         "mode": "markers",
         "name": "Khammam_Rural",
         "orientation": "v",
         "showlegend": true,
         "type": "scatter",
         "x": [
          0.00001657969263399111
         ],
         "xaxis": "x",
         "y": [
          -0.0050152726283320525
         ],
         "yaxis": "y"
        },
        {
         "hovertemplate": "Area=Khammam_Urban<br>Deviance Scores Amount of Fires=%{x}<br>Deviance Scores Soil_Temp=%{y}<extra></extra>",
         "legendgroup": "Khammam_Urban",
         "marker": {
          "color": "#FECB52",
          "symbol": "circle"
         },
         "mode": "markers",
         "name": "Khammam_Urban",
         "orientation": "v",
         "showlegend": true,
         "type": "scatter",
         "x": [
          0.000009357808421603843
         ],
         "xaxis": "x",
         "y": [
          -0.004572049597800779
         ],
         "yaxis": "y"
        },
        {
         "hovertemplate": "Area=Khanapur<br>Deviance Scores Amount of Fires=%{x}<br>Deviance Scores Soil_Temp=%{y}<extra></extra>",
         "legendgroup": "Khanapur",
         "marker": {
          "color": "#636efa",
          "symbol": "circle"
         },
         "mode": "markers",
         "name": "Khanapur",
         "orientation": "v",
         "showlegend": true,
         "type": "scatter",
         "x": [
          0.00009845162607114878,
          0.00005728776691120001
         ],
         "xaxis": "x",
         "y": [
          -0.004526448174277882,
          -0.00293325658291654
         ],
         "yaxis": "y"
        },
        {
         "hovertemplate": "Area=Kodad<br>Deviance Scores Amount of Fires=%{x}<br>Deviance Scores Soil_Temp=%{y}<extra></extra>",
         "legendgroup": "Kodad",
         "marker": {
          "color": "#EF553B",
          "symbol": "circle"
         },
         "mode": "markers",
         "name": "Kodad",
         "orientation": "v",
         "showlegend": true,
         "type": "scatter",
         "x": [
          -0.000025755967419515583
         ],
         "xaxis": "x",
         "y": [
          -0.006801429841449639
         ],
         "yaxis": "y"
        },
        {
         "hovertemplate": "Area=Kodair<br>Deviance Scores Amount of Fires=%{x}<br>Deviance Scores Soil_Temp=%{y}<extra></extra>",
         "legendgroup": "Kodair",
         "marker": {
          "color": "#00cc96",
          "symbol": "circle"
         },
         "mode": "markers",
         "name": "Kodair",
         "orientation": "v",
         "showlegend": true,
         "type": "scatter",
         "x": [
          0.00003844475691325635
         ],
         "xaxis": "x",
         "y": [
          -0.008324704605632432
         ],
         "yaxis": "y"
        },
        {
         "hovertemplate": "Area=Kodangal<br>Deviance Scores Amount of Fires=%{x}<br>Deviance Scores Soil_Temp=%{y}<extra></extra>",
         "legendgroup": "Kodangal",
         "marker": {
          "color": "#ab63fa",
          "symbol": "circle"
         },
         "mode": "markers",
         "name": "Kodangal",
         "orientation": "v",
         "showlegend": true,
         "type": "scatter",
         "x": [
          0.0001199851072608
         ],
         "xaxis": "x",
         "y": [
          -0.006195267322887386
         ],
         "yaxis": "y"
        },
        {
         "hovertemplate": "Area=Kodimial<br>Deviance Scores Amount of Fires=%{x}<br>Deviance Scores Soil_Temp=%{y}<extra></extra>",
         "legendgroup": "Kodimial",
         "marker": {
          "color": "#FFA15A",
          "symbol": "circle"
         },
         "mode": "markers",
         "name": "Kodimial",
         "orientation": "v",
         "showlegend": true,
         "type": "scatter",
         "x": [
          0.00002696186767774516
         ],
         "xaxis": "x",
         "y": [
          -0.006202160965960168
         ],
         "yaxis": "y"
        },
        {
         "hovertemplate": "Area=Koheda<br>Deviance Scores Amount of Fires=%{x}<br>Deviance Scores Soil_Temp=%{y}<extra></extra>",
         "legendgroup": "Koheda",
         "marker": {
          "color": "#19d3f3",
          "symbol": "circle"
         },
         "mode": "markers",
         "name": "Koheda",
         "orientation": "v",
         "showlegend": true,
         "type": "scatter",
         "x": [
          0.00009264113135540946
         ],
         "xaxis": "x",
         "y": [
          -0.005365734914850743
         ],
         "yaxis": "y"
        },
        {
         "hovertemplate": "Area=Kohir<br>Deviance Scores Amount of Fires=%{x}<br>Deviance Scores Soil_Temp=%{y}<extra></extra>",
         "legendgroup": "Kohir",
         "marker": {
          "color": "#FF6692",
          "symbol": "circle"
         },
         "mode": "markers",
         "name": "Kohir",
         "orientation": "v",
         "showlegend": true,
         "type": "scatter",
         "x": [
          0.0001186494229106
         ],
         "xaxis": "x",
         "y": [
          -0.004170446216599937
         ],
         "yaxis": "y"
        },
        {
         "hovertemplate": "Area=Koilkonda<br>Deviance Scores Amount of Fires=%{x}<br>Deviance Scores Soil_Temp=%{y}<extra></extra>",
         "legendgroup": "Koilkonda",
         "marker": {
          "color": "#B6E880",
          "symbol": "circle"
         },
         "mode": "markers",
         "name": "Koilkonda",
         "orientation": "v",
         "showlegend": true,
         "type": "scatter",
         "x": [
          -0.000017161894035350814
         ],
         "xaxis": "x",
         "y": [
          -0.006395317115840152
         ],
         "yaxis": "y"
        },
        {
         "hovertemplate": "Area=Konaraopet<br>Deviance Scores Amount of Fires=%{x}<br>Deviance Scores Soil_Temp=%{y}<extra></extra>",
         "legendgroup": "Konaraopet",
         "marker": {
          "color": "#FF97FF",
          "symbol": "circle"
         },
         "mode": "markers",
         "name": "Konaraopet",
         "orientation": "v",
         "showlegend": true,
         "type": "scatter",
         "x": [
          -0.000001812412174963251
         ],
         "xaxis": "x",
         "y": [
          -0.005916376773196087
         ],
         "yaxis": "y"
        },
        {
         "hovertemplate": "Area=Kondapak<br>Deviance Scores Amount of Fires=%{x}<br>Deviance Scores Soil_Temp=%{y}<extra></extra>",
         "legendgroup": "Kondapak",
         "marker": {
          "color": "#FECB52",
          "symbol": "circle"
         },
         "mode": "markers",
         "name": "Kondapak",
         "orientation": "v",
         "showlegend": true,
         "type": "scatter",
         "x": [
          0.00002314495649092541
         ],
         "xaxis": "x",
         "y": [
          -0.006430470297882523
         ],
         "yaxis": "y"
        },
        {
         "hovertemplate": "Area=Kondapur<br>Deviance Scores Amount of Fires=%{x}<br>Deviance Scores Soil_Temp=%{y}<extra></extra>",
         "legendgroup": "Kondapur",
         "marker": {
          "color": "#636efa",
          "symbol": "circle"
         },
         "mode": "markers",
         "name": "Kondapur",
         "orientation": "v",
         "showlegend": true,
         "type": "scatter",
         "x": [
          0.000020847919970308045
         ],
         "xaxis": "x",
         "y": [
          -0.002317612642531727
         ],
         "yaxis": "y"
        },
        {
         "hovertemplate": "Area=Kondurg<br>Deviance Scores Amount of Fires=%{x}<br>Deviance Scores Soil_Temp=%{y}<extra></extra>",
         "legendgroup": "Kondurg",
         "marker": {
          "color": "#EF553B",
          "symbol": "circle"
         },
         "mode": "markers",
         "name": "Kondurg",
         "orientation": "v",
         "showlegend": true,
         "type": "scatter",
         "x": [
          -0.0000320220559237325
         ],
         "xaxis": "x",
         "y": [
          -0.0038358139187155173
         ],
         "yaxis": "y"
        },
        {
         "hovertemplate": "Area=Konijerla<br>Deviance Scores Amount of Fires=%{x}<br>Deviance Scores Soil_Temp=%{y}<extra></extra>",
         "legendgroup": "Konijerla",
         "marker": {
          "color": "#00cc96",
          "symbol": "circle"
         },
         "mode": "markers",
         "name": "Konijerla",
         "orientation": "v",
         "showlegend": true,
         "type": "scatter",
         "x": [
          0.0001084588585878
         ],
         "xaxis": "x",
         "y": [
          -0.005514324582500472
         ],
         "yaxis": "y"
        },
        {
         "hovertemplate": "Area=Korutla<br>Deviance Scores Amount of Fires=%{x}<br>Deviance Scores Soil_Temp=%{y}<extra></extra>",
         "legendgroup": "Korutla",
         "marker": {
          "color": "#ab63fa",
          "symbol": "circle"
         },
         "mode": "markers",
         "name": "Korutla",
         "orientation": "v",
         "showlegend": true,
         "type": "scatter",
         "x": [
          -0.00006376855531959238
         ],
         "xaxis": "x",
         "y": [
          -0.0063350116310630766
         ],
         "yaxis": "y"
        },
        {
         "hovertemplate": "Area=Kosgi<br>Deviance Scores Amount of Fires=%{x}<br>Deviance Scores Soil_Temp=%{y}<extra></extra>",
         "legendgroup": "Kosgi",
         "marker": {
          "color": "#FFA15A",
          "symbol": "circle"
         },
         "mode": "markers",
         "name": "Kosgi",
         "orientation": "v",
         "showlegend": true,
         "type": "scatter",
         "x": [
          0.00004639862143085504
         ],
         "xaxis": "x",
         "y": [
          -0.0053931278182383505
         ],
         "yaxis": "y"
        },
        {
         "hovertemplate": "Area=Kotagiri<br>Deviance Scores Amount of Fires=%{x}<br>Deviance Scores Soil_Temp=%{y}<extra></extra>",
         "legendgroup": "Kotagiri",
         "marker": {
          "color": "#19d3f3",
          "symbol": "circle"
         },
         "mode": "markers",
         "name": "Kotagiri",
         "orientation": "v",
         "showlegend": true,
         "type": "scatter",
         "x": [
          -0.000030026169952014027
         ],
         "xaxis": "x",
         "y": [
          -0.006337115825288702
         ],
         "yaxis": "y"
        },
        {
         "hovertemplate": "Area=Kothaguda<br>Deviance Scores Amount of Fires=%{x}<br>Deviance Scores Soil_Temp=%{y}<extra></extra>",
         "legendgroup": "Kothaguda",
         "marker": {
          "color": "#FF6692",
          "symbol": "circle"
         },
         "mode": "markers",
         "name": "Kothaguda",
         "orientation": "v",
         "showlegend": true,
         "type": "scatter",
         "x": [
          -0.0001881082586189
         ],
         "xaxis": "x",
         "y": [
          -0.0022170377581711685
         ],
         "yaxis": "y"
        },
        {
         "hovertemplate": "Area=Kothakota<br>Deviance Scores Amount of Fires=%{x}<br>Deviance Scores Soil_Temp=%{y}<extra></extra>",
         "legendgroup": "Kothakota",
         "marker": {
          "color": "#B6E880",
          "symbol": "circle"
         },
         "mode": "markers",
         "name": "Kothakota",
         "orientation": "v",
         "showlegend": true,
         "type": "scatter",
         "x": [
          0.000020030765438423148
         ],
         "xaxis": "x",
         "y": [
          -0.0074449321377979185
         ],
         "yaxis": "y"
        },
        {
         "hovertemplate": "Area=Kothapally<br>Deviance Scores Amount of Fires=%{x}<br>Deviance Scores Soil_Temp=%{y}<extra></extra>",
         "legendgroup": "Kothapally",
         "marker": {
          "color": "#FF97FF",
          "symbol": "circle"
         },
         "mode": "markers",
         "name": "Kothapally",
         "orientation": "v",
         "showlegend": true,
         "type": "scatter",
         "x": [
          0.000004382987790132269
         ],
         "xaxis": "x",
         "y": [
          -0.006579637037778959
         ],
         "yaxis": "y"
        },
        {
         "hovertemplate": "Area=Kothur<br>Deviance Scores Amount of Fires=%{x}<br>Deviance Scores Soil_Temp=%{y}<extra></extra>",
         "legendgroup": "Kothur",
         "marker": {
          "color": "#FECB52",
          "symbol": "circle"
         },
         "mode": "markers",
         "name": "Kothur",
         "orientation": "v",
         "showlegend": true,
         "type": "scatter",
         "x": [
          -0.000005960294912725894
         ],
         "xaxis": "x",
         "y": [
          -0.005271881719187853
         ],
         "yaxis": "y"
        },
        {
         "hovertemplate": "Area=Kouthala<br>Deviance Scores Amount of Fires=%{x}<br>Deviance Scores Soil_Temp=%{y}<extra></extra>",
         "legendgroup": "Kouthala",
         "marker": {
          "color": "#636efa",
          "symbol": "circle"
         },
         "mode": "markers",
         "name": "Kouthala",
         "orientation": "v",
         "showlegend": true,
         "type": "scatter",
         "x": [
          0.000008860746948010082
         ],
         "xaxis": "x",
         "y": [
          -0.0028955219893918196
         ],
         "yaxis": "y"
        },
        {
         "hovertemplate": "Area=Kowdipally<br>Deviance Scores Amount of Fires=%{x}<br>Deviance Scores Soil_Temp=%{y}<extra></extra>",
         "legendgroup": "Kowdipally",
         "marker": {
          "color": "#EF553B",
          "symbol": "circle"
         },
         "mode": "markers",
         "name": "Kowdipally",
         "orientation": "v",
         "showlegend": true,
         "type": "scatter",
         "x": [
          -0.000005908405161357243
         ],
         "xaxis": "x",
         "y": [
          -0.0033904959708802593
         ],
         "yaxis": "y"
        },
        {
         "hovertemplate": "Area=Kubeer<br>Deviance Scores Amount of Fires=%{x}<br>Deviance Scores Soil_Temp=%{y}<extra></extra>",
         "legendgroup": "Kubeer",
         "marker": {
          "color": "#00cc96",
          "symbol": "circle"
         },
         "mode": "markers",
         "name": "Kubeer",
         "orientation": "v",
         "showlegend": true,
         "type": "scatter",
         "x": [
          -0.00004391141383886101
         ],
         "xaxis": "x",
         "y": [
          -0.005292298006363638
         ],
         "yaxis": "y"
        },
        {
         "hovertemplate": "Area=Kulcharam<br>Deviance Scores Amount of Fires=%{x}<br>Deviance Scores Soil_Temp=%{y}<extra></extra>",
         "legendgroup": "Kulcharam",
         "marker": {
          "color": "#ab63fa",
          "symbol": "circle"
         },
         "mode": "markers",
         "name": "Kulcharam",
         "orientation": "v",
         "showlegend": true,
         "type": "scatter",
         "x": [
          -0.00007004237492323927
         ],
         "xaxis": "x",
         "y": [
          -0.002789305289733751
         ],
         "yaxis": "y"
        },
        {
         "hovertemplate": "Area=Kuntala<br>Deviance Scores Amount of Fires=%{x}<br>Deviance Scores Soil_Temp=%{y}<extra></extra>",
         "legendgroup": "Kuntala",
         "marker": {
          "color": "#FFA15A",
          "symbol": "circle"
         },
         "mode": "markers",
         "name": "Kuntala",
         "orientation": "v",
         "showlegend": true,
         "type": "scatter",
         "x": [
          0.000056147405723195074
         ],
         "xaxis": "x",
         "y": [
          -0.004887311275284532
         ],
         "yaxis": "y"
        },
        {
         "hovertemplate": "Area=Kuravi<br>Deviance Scores Amount of Fires=%{x}<br>Deviance Scores Soil_Temp=%{y}<extra></extra>",
         "legendgroup": "Kuravi",
         "marker": {
          "color": "#19d3f3",
          "symbol": "circle"
         },
         "mode": "markers",
         "name": "Kuravi",
         "orientation": "v",
         "showlegend": true,
         "type": "scatter",
         "x": [
          0.00009545702244212547
         ],
         "xaxis": "x",
         "y": [
          -0.004254061920306032
         ],
         "yaxis": "y"
        },
        {
         "hovertemplate": "Area=Kusumanchi<br>Deviance Scores Amount of Fires=%{x}<br>Deviance Scores Soil_Temp=%{y}<extra></extra>",
         "legendgroup": "Kusumanchi",
         "marker": {
          "color": "#FF6692",
          "symbol": "circle"
         },
         "mode": "markers",
         "name": "Kusumanchi",
         "orientation": "v",
         "showlegend": true,
         "type": "scatter",
         "x": [
          0.00001663029495065663
         ],
         "xaxis": "x",
         "y": [
          -0.007566682940992396
         ],
         "yaxis": "y"
        },
        {
         "hovertemplate": "Area=Laxmanchanda<br>Deviance Scores Amount of Fires=%{x}<br>Deviance Scores Soil_Temp=%{y}<extra></extra>",
         "legendgroup": "Laxmanchanda",
         "marker": {
          "color": "#B6E880",
          "symbol": "circle"
         },
         "mode": "markers",
         "name": "Laxmanchanda",
         "orientation": "v",
         "showlegend": true,
         "type": "scatter",
         "x": [
          -0.0000335994693727125
         ],
         "xaxis": "x",
         "y": [
          -0.005705964887589188
         ],
         "yaxis": "y"
        },
        {
         "hovertemplate": "Area=Laxmidevipally<br>Deviance Scores Amount of Fires=%{x}<br>Deviance Scores Soil_Temp=%{y}<extra></extra>",
         "legendgroup": "Laxmidevipally",
         "marker": {
          "color": "#FF97FF",
          "symbol": "circle"
         },
         "mode": "markers",
         "name": "Laxmidevipally",
         "orientation": "v",
         "showlegend": true,
         "type": "scatter",
         "x": [
          0.0001344928687139
         ],
         "xaxis": "x",
         "y": [
          -0.0030567564621164817
         ],
         "yaxis": "y"
        },
        {
         "hovertemplate": "Area=Lingalaghanpur<br>Deviance Scores Amount of Fires=%{x}<br>Deviance Scores Soil_Temp=%{y}<extra></extra>",
         "legendgroup": "Lingalaghanpur",
         "marker": {
          "color": "#FECB52",
          "symbol": "circle"
         },
         "mode": "markers",
         "name": "Lingalaghanpur",
         "orientation": "v",
         "showlegend": true,
         "type": "scatter",
         "x": [
          -0.00002448008070868588
         ],
         "xaxis": "x",
         "y": [
          -0.005769882221455798
         ],
         "yaxis": "y"
        },
        {
         "hovertemplate": "Area=Lingampet<br>Deviance Scores Amount of Fires=%{x}<br>Deviance Scores Soil_Temp=%{y}<extra></extra>",
         "legendgroup": "Lingampet",
         "marker": {
          "color": "#636efa",
          "symbol": "circle"
         },
         "mode": "markers",
         "name": "Lingampet",
         "orientation": "v",
         "showlegend": true,
         "type": "scatter",
         "x": [
          -0.000004852460936981996
         ],
         "xaxis": "x",
         "y": [
          -0.005420468869079983
         ],
         "yaxis": "y"
        },
        {
         "hovertemplate": "Area=Lokeshwaram<br>Deviance Scores Amount of Fires=%{x}<br>Deviance Scores Soil_Temp=%{y}<extra></extra>",
         "legendgroup": "Lokeshwaram",
         "marker": {
          "color": "#EF553B",
          "symbol": "circle"
         },
         "mode": "markers",
         "name": "Lokeshwaram",
         "orientation": "v",
         "showlegend": true,
         "type": "scatter",
         "x": [
          0.00005234798164892778
         ],
         "xaxis": "x",
         "y": [
          -0.007628310134267635
         ],
         "yaxis": "y"
        },
        {
         "hovertemplate": "Area=Luxettipet<br>Deviance Scores Amount of Fires=%{x}<br>Deviance Scores Soil_Temp=%{y}<extra></extra>",
         "legendgroup": "Luxettipet",
         "marker": {
          "color": "#00cc96",
          "symbol": "circle"
         },
         "mode": "markers",
         "name": "Luxettipet",
         "orientation": "v",
         "showlegend": true,
         "type": "scatter",
         "x": [
          -0.00002053215058838225
         ],
         "xaxis": "x",
         "y": [
          -0.004208588083524605
         ],
         "yaxis": "y"
        },
        {
         "hovertemplate": "Area=Machareddy<br>Deviance Scores Amount of Fires=%{x}<br>Deviance Scores Soil_Temp=%{y}<extra></extra>",
         "legendgroup": "Machareddy",
         "marker": {
          "color": "#ab63fa",
          "symbol": "circle"
         },
         "mode": "markers",
         "name": "Machareddy",
         "orientation": "v",
         "showlegend": true,
         "type": "scatter",
         "x": [
          0.00004816876359978543
         ],
         "xaxis": "x",
         "y": [
          -0.006013643592082812
         ],
         "yaxis": "y"
        },
        {
         "hovertemplate": "Area=Madanapur<br>Deviance Scores Amount of Fires=%{x}<br>Deviance Scores Soil_Temp=%{y}<extra></extra>",
         "legendgroup": "Madanapur",
         "marker": {
          "color": "#FFA15A",
          "symbol": "circle"
         },
         "mode": "markers",
         "name": "Madanapur",
         "orientation": "v",
         "showlegend": true,
         "type": "scatter",
         "x": [
          0.00003672274106178308
         ],
         "xaxis": "x",
         "y": [
          -0.007000487464201286
         ],
         "yaxis": "y"
        },
        {
         "hovertemplate": "Area=Maddirala<br>Deviance Scores Amount of Fires=%{x}<br>Deviance Scores Soil_Temp=%{y}<extra></extra>",
         "legendgroup": "Maddirala",
         "marker": {
          "color": "#19d3f3",
          "symbol": "circle"
         },
         "mode": "markers",
         "name": "Maddirala",
         "orientation": "v",
         "showlegend": true,
         "type": "scatter",
         "x": [
          4.903134152865732e-9
         ],
         "xaxis": "x",
         "y": [
          -0.006593647871861484
         ],
         "yaxis": "y"
        },
        {
         "hovertemplate": "Area=Maddur<br>Deviance Scores Amount of Fires=%{x}<br>Deviance Scores Soil_Temp=%{y}<extra></extra>",
         "legendgroup": "Maddur",
         "marker": {
          "color": "#FF6692",
          "symbol": "circle"
         },
         "mode": "markers",
         "name": "Maddur",
         "orientation": "v",
         "showlegend": true,
         "type": "scatter",
         "x": [
          0.00000829384727603822,
          0.000050932887377549655
         ],
         "xaxis": "x",
         "y": [
          -0.006401792724141187,
          -0.005258478865150516
         ],
         "yaxis": "y"
        },
        {
         "hovertemplate": "Area=Madgul<br>Deviance Scores Amount of Fires=%{x}<br>Deviance Scores Soil_Temp=%{y}<extra></extra>",
         "legendgroup": "Madgul",
         "marker": {
          "color": "#B6E880",
          "symbol": "circle"
         },
         "mode": "markers",
         "name": "Madgul",
         "orientation": "v",
         "showlegend": true,
         "type": "scatter",
         "x": [
          0.00005210694795432976
         ],
         "xaxis": "x",
         "y": [
          -0.005590393542179396
         ],
         "yaxis": "y"
        },
        {
         "hovertemplate": "Area=Madhira<br>Deviance Scores Amount of Fires=%{x}<br>Deviance Scores Soil_Temp=%{y}<extra></extra>",
         "legendgroup": "Madhira",
         "marker": {
          "color": "#FF97FF",
          "symbol": "circle"
         },
         "mode": "markers",
         "name": "Madhira",
         "orientation": "v",
         "showlegend": true,
         "type": "scatter",
         "x": [
          0.000030919956408513245
         ],
         "xaxis": "x",
         "y": [
          -0.005478777833093485
         ],
         "yaxis": "y"
        },
        {
         "hovertemplate": "Area=Madnur<br>Deviance Scores Amount of Fires=%{x}<br>Deviance Scores Soil_Temp=%{y}<extra></extra>",
         "legendgroup": "Madnur",
         "marker": {
          "color": "#FECB52",
          "symbol": "circle"
         },
         "mode": "markers",
         "name": "Madnur",
         "orientation": "v",
         "showlegend": true,
         "type": "scatter",
         "x": [
          -0.000034864550408991574
         ],
         "xaxis": "x",
         "y": [
          -0.005764038367665648
         ],
         "yaxis": "y"
        },
        {
         "hovertemplate": "Area=Madugulapally<br>Deviance Scores Amount of Fires=%{x}<br>Deviance Scores Soil_Temp=%{y}<extra></extra>",
         "legendgroup": "Madugulapally",
         "marker": {
          "color": "#636efa",
          "symbol": "circle"
         },
         "mode": "markers",
         "name": "Madugulapally",
         "orientation": "v",
         "showlegend": true,
         "type": "scatter",
         "x": [
          -0.000018816112590139524
         ],
         "xaxis": "x",
         "y": [
          -0.006218530116348352
         ],
         "yaxis": "y"
        },
        {
         "hovertemplate": "Area=Maganoor<br>Deviance Scores Amount of Fires=%{x}<br>Deviance Scores Soil_Temp=%{y}<extra></extra>",
         "legendgroup": "Maganoor",
         "marker": {
          "color": "#EF553B",
          "symbol": "circle"
         },
         "mode": "markers",
         "name": "Maganoor",
         "orientation": "v",
         "showlegend": true,
         "type": "scatter",
         "x": [
          0.00007740610114165173
         ],
         "xaxis": "x",
         "y": [
          -0.006875028534032783
         ],
         "yaxis": "y"
        },
        {
         "hovertemplate": "Area=Mahabubabad<br>Deviance Scores Amount of Fires=%{x}<br>Deviance Scores Soil_Temp=%{y}<extra></extra>",
         "legendgroup": "Mahabubabad",
         "marker": {
          "color": "#00cc96",
          "symbol": "circle"
         },
         "mode": "markers",
         "name": "Mahabubabad",
         "orientation": "v",
         "showlegend": true,
         "type": "scatter",
         "x": [
          -0.00000326188299608532
         ],
         "xaxis": "x",
         "y": [
          -0.0038377090874145586
         ],
         "yaxis": "y"
        },
        {
         "hovertemplate": "Area=Mahabubnagar_Urban<br>Deviance Scores Amount of Fires=%{x}<br>Deviance Scores Soil_Temp=%{y}<extra></extra>",
         "legendgroup": "Mahabubnagar_Urban",
         "marker": {
          "color": "#ab63fa",
          "symbol": "circle"
         },
         "mode": "markers",
         "name": "Mahabubnagar_Urban",
         "orientation": "v",
         "showlegend": true,
         "type": "scatter",
         "x": [
          -0.00002642527687295673
         ],
         "xaxis": "x",
         "y": [
          -0.0050343810991836605
         ],
         "yaxis": "y"
        },
        {
         "hovertemplate": "Area=Mahadevpur<br>Deviance Scores Amount of Fires=%{x}<br>Deviance Scores Soil_Temp=%{y}<extra></extra>",
         "legendgroup": "Mahadevpur",
         "marker": {
          "color": "#FFA15A",
          "symbol": "circle"
         },
         "mode": "markers",
         "name": "Mahadevpur",
         "orientation": "v",
         "showlegend": true,
         "type": "scatter",
         "x": [
          0.0001056906707451
         ],
         "xaxis": "x",
         "y": [
          -0.0047059956614848835
         ],
         "yaxis": "y"
        },
        {
         "hovertemplate": "Area=Maheswaram<br>Deviance Scores Amount of Fires=%{x}<br>Deviance Scores Soil_Temp=%{y}<extra></extra>",
         "legendgroup": "Maheswaram",
         "marker": {
          "color": "#19d3f3",
          "symbol": "circle"
         },
         "mode": "markers",
         "name": "Maheswaram",
         "orientation": "v",
         "showlegend": true,
         "type": "scatter",
         "x": [
          -0.00004273073130582031
         ],
         "xaxis": "x",
         "y": [
          -0.005149697197306586
         ],
         "yaxis": "y"
        },
        {
         "hovertemplate": "Area=Makloor<br>Deviance Scores Amount of Fires=%{x}<br>Deviance Scores Soil_Temp=%{y}<extra></extra>",
         "legendgroup": "Makloor",
         "marker": {
          "color": "#FF6692",
          "symbol": "circle"
         },
         "mode": "markers",
         "name": "Makloor",
         "orientation": "v",
         "showlegend": true,
         "type": "scatter",
         "x": [
          -0.00009940647236925863
         ],
         "xaxis": "x",
         "y": [
          -0.00629617865723228
         ],
         "yaxis": "y"
        },
        {
         "hovertemplate": "Area=Makthal<br>Deviance Scores Amount of Fires=%{x}<br>Deviance Scores Soil_Temp=%{y}<extra></extra>",
         "legendgroup": "Makthal",
         "marker": {
          "color": "#B6E880",
          "symbol": "circle"
         },
         "mode": "markers",
         "name": "Makthal",
         "orientation": "v",
         "showlegend": true,
         "type": "scatter",
         "x": [
          0.000052953241704113016
         ],
         "xaxis": "x",
         "y": [
          -0.006445159199825043
         ],
         "yaxis": "y"
        },
        {
         "hovertemplate": "Area=Maldakal<br>Deviance Scores Amount of Fires=%{x}<br>Deviance Scores Soil_Temp=%{y}<extra></extra>",
         "legendgroup": "Maldakal",
         "marker": {
          "color": "#FF97FF",
          "symbol": "circle"
         },
         "mode": "markers",
         "name": "Maldakal",
         "orientation": "v",
         "showlegend": true,
         "type": "scatter",
         "x": [
          0.00001081926683142786
         ],
         "xaxis": "x",
         "y": [
          -0.006746146661007898
         ],
         "yaxis": "y"
        },
        {
         "hovertemplate": "Area=Malharrao<br>Deviance Scores Amount of Fires=%{x}<br>Deviance Scores Soil_Temp=%{y}<extra></extra>",
         "legendgroup": "Malharrao",
         "marker": {
          "color": "#FECB52",
          "symbol": "circle"
         },
         "mode": "markers",
         "name": "Malharrao",
         "orientation": "v",
         "showlegend": true,
         "type": "scatter",
         "x": [
          0.0001513742001905
         ],
         "xaxis": "x",
         "y": [
          -0.003832053694375821
         ],
         "yaxis": "y"
        },
        {
         "hovertemplate": "Area=Mallapur<br>Deviance Scores Amount of Fires=%{x}<br>Deviance Scores Soil_Temp=%{y}<extra></extra>",
         "legendgroup": "Mallapur",
         "marker": {
          "color": "#636efa",
          "symbol": "circle"
         },
         "mode": "markers",
         "name": "Mallapur",
         "orientation": "v",
         "showlegend": true,
         "type": "scatter",
         "x": [
          -0.000133890648644
         ],
         "xaxis": "x",
         "y": [
          -0.005687833464675211
         ],
         "yaxis": "y"
        },
        {
         "hovertemplate": "Area=Mallial<br>Deviance Scores Amount of Fires=%{x}<br>Deviance Scores Soil_Temp=%{y}<extra></extra>",
         "legendgroup": "Mallial",
         "marker": {
          "color": "#EF553B",
          "symbol": "circle"
         },
         "mode": "markers",
         "name": "Mallial",
         "orientation": "v",
         "showlegend": true,
         "type": "scatter",
         "x": [
          -0.00001587550306462978
         ],
         "xaxis": "x",
         "y": [
          -0.005593196969956614
         ],
         "yaxis": "y"
        },
        {
         "hovertemplate": "Area=Mamda<br>Deviance Scores Amount of Fires=%{x}<br>Deviance Scores Soil_Temp=%{y}<extra></extra>",
         "legendgroup": "Mamda",
         "marker": {
          "color": "#00cc96",
          "symbol": "circle"
         },
         "mode": "markers",
         "name": "Mamda",
         "orientation": "v",
         "showlegend": true,
         "type": "scatter",
         "x": [
          -0.00005545903817856015
         ],
         "xaxis": "x",
         "y": [
          -0.005078141094753562
         ],
         "yaxis": "y"
        },
        {
         "hovertemplate": "Area=Manakondur<br>Deviance Scores Amount of Fires=%{x}<br>Deviance Scores Soil_Temp=%{y}<extra></extra>",
         "legendgroup": "Manakondur",
         "marker": {
          "color": "#ab63fa",
          "symbol": "circle"
         },
         "mode": "markers",
         "name": "Manakondur",
         "orientation": "v",
         "showlegend": true,
         "type": "scatter",
         "x": [
          0.00009857323467693874
         ],
         "xaxis": "x",
         "y": [
          -0.006652852953267202
         ],
         "yaxis": "y"
        },
        {
         "hovertemplate": "Area=Manchal<br>Deviance Scores Amount of Fires=%{x}<br>Deviance Scores Soil_Temp=%{y}<extra></extra>",
         "legendgroup": "Manchal",
         "marker": {
          "color": "#FFA15A",
          "symbol": "circle"
         },
         "mode": "markers",
         "name": "Manchal",
         "orientation": "v",
         "showlegend": true,
         "type": "scatter",
         "x": [
          -0.00002826023360395315
         ],
         "xaxis": "x",
         "y": [
          -0.0060706720408199065
         ],
         "yaxis": "y"
        },
        {
         "hovertemplate": "Area=Mandamarri<br>Deviance Scores Amount of Fires=%{x}<br>Deviance Scores Soil_Temp=%{y}<extra></extra>",
         "legendgroup": "Mandamarri",
         "marker": {
          "color": "#19d3f3",
          "symbol": "circle"
         },
         "mode": "markers",
         "name": "Mandamarri",
         "orientation": "v",
         "showlegend": true,
         "type": "scatter",
         "x": [
          0.00007841817300665968
         ],
         "xaxis": "x",
         "y": [
          -0.0038399461998775393
         ],
         "yaxis": "y"
        },
        {
         "hovertemplate": "Area=Mangapet<br>Deviance Scores Amount of Fires=%{x}<br>Deviance Scores Soil_Temp=%{y}<extra></extra>",
         "legendgroup": "Mangapet",
         "marker": {
          "color": "#FF6692",
          "symbol": "circle"
         },
         "mode": "markers",
         "name": "Mangapet",
         "orientation": "v",
         "showlegend": true,
         "type": "scatter",
         "x": [
          -0.00006981989066045704
         ],
         "xaxis": "x",
         "y": [
          -0.003246181823723428
         ],
         "yaxis": "y"
        },
        {
         "hovertemplate": "Area=Manoor<br>Deviance Scores Amount of Fires=%{x}<br>Deviance Scores Soil_Temp=%{y}<extra></extra>",
         "legendgroup": "Manoor",
         "marker": {
          "color": "#B6E880",
          "symbol": "circle"
         },
         "mode": "markers",
         "name": "Manoor",
         "orientation": "v",
         "showlegend": true,
         "type": "scatter",
         "x": [
          0.000023423253947992635
         ],
         "xaxis": "x",
         "y": [
          -0.00494039581885593
         ],
         "yaxis": "y"
        },
        {
         "hovertemplate": "Area=Manopad<br>Deviance Scores Amount of Fires=%{x}<br>Deviance Scores Soil_Temp=%{y}<extra></extra>",
         "legendgroup": "Manopad",
         "marker": {
          "color": "#FF97FF",
          "symbol": "circle"
         },
         "mode": "markers",
         "name": "Manopad",
         "orientation": "v",
         "showlegend": true,
         "type": "scatter",
         "x": [
          -0.00003998152523130581
         ],
         "xaxis": "x",
         "y": [
          -0.003610387842864585
         ],
         "yaxis": "y"
        },
        {
         "hovertemplate": "Area=Manthani<br>Deviance Scores Amount of Fires=%{x}<br>Deviance Scores Soil_Temp=%{y}<extra></extra>",
         "legendgroup": "Manthani",
         "marker": {
          "color": "#FECB52",
          "symbol": "circle"
         },
         "mode": "markers",
         "name": "Manthani",
         "orientation": "v",
         "showlegend": true,
         "type": "scatter",
         "x": [
          0.000026832989009312214
         ],
         "xaxis": "x",
         "y": [
          -0.005409271686318424
         ],
         "yaxis": "y"
        },
        {
         "hovertemplate": "Area=Manuguru<br>Deviance Scores Amount of Fires=%{x}<br>Deviance Scores Soil_Temp=%{y}<extra></extra>",
         "legendgroup": "Manuguru",
         "marker": {
          "color": "#636efa",
          "symbol": "circle"
         },
         "mode": "markers",
         "name": "Manuguru",
         "orientation": "v",
         "showlegend": true,
         "type": "scatter",
         "x": [
          -0.000050157340927327406
         ],
         "xaxis": "x",
         "y": [
          -0.0024816690389115837
         ],
         "yaxis": "y"
        },
        {
         "hovertemplate": "Area=Marikal<br>Deviance Scores Amount of Fires=%{x}<br>Deviance Scores Soil_Temp=%{y}<extra></extra>",
         "legendgroup": "Marikal",
         "marker": {
          "color": "#EF553B",
          "symbol": "circle"
         },
         "mode": "markers",
         "name": "Marikal",
         "orientation": "v",
         "showlegend": true,
         "type": "scatter",
         "x": [
          0.000013096072129175975
         ],
         "xaxis": "x",
         "y": [
          -0.006788289068769957
         ],
         "yaxis": "y"
        },
        {
         "hovertemplate": "Area=Maripeda<br>Deviance Scores Amount of Fires=%{x}<br>Deviance Scores Soil_Temp=%{y}<extra></extra>",
         "legendgroup": "Maripeda",
         "marker": {
          "color": "#00cc96",
          "symbol": "circle"
         },
         "mode": "markers",
         "name": "Maripeda",
         "orientation": "v",
         "showlegend": true,
         "type": "scatter",
         "x": [
          0.000027577939566780197
         ],
         "xaxis": "x",
         "y": [
          -0.006283554116444651
         ],
         "yaxis": "y"
        },
        {
         "hovertemplate": "Area=Markook<br>Deviance Scores Amount of Fires=%{x}<br>Deviance Scores Soil_Temp=%{y}<extra></extra>",
         "legendgroup": "Markook",
         "marker": {
          "color": "#ab63fa",
          "symbol": "circle"
         },
         "mode": "markers",
         "name": "Markook",
         "orientation": "v",
         "showlegend": true,
         "type": "scatter",
         "x": [
          -0.0000414719738304098
         ],
         "xaxis": "x",
         "y": [
          -0.006539564658228122
         ],
         "yaxis": "y"
        },
        {
         "hovertemplate": "Area=Marpalle<br>Deviance Scores Amount of Fires=%{x}<br>Deviance Scores Soil_Temp=%{y}<extra></extra>",
         "legendgroup": "Marpalle",
         "marker": {
          "color": "#FFA15A",
          "symbol": "circle"
         },
         "mode": "markers",
         "name": "Marpalle",
         "orientation": "v",
         "showlegend": true,
         "type": "scatter",
         "x": [
          0.0001807187856145
         ],
         "xaxis": "x",
         "y": [
          -0.004109208271465093
         ],
         "yaxis": "y"
        },
        {
         "hovertemplate": "Area=Marriguda<br>Deviance Scores Amount of Fires=%{x}<br>Deviance Scores Soil_Temp=%{y}<extra></extra>",
         "legendgroup": "Marriguda",
         "marker": {
          "color": "#19d3f3",
          "symbol": "circle"
         },
         "mode": "markers",
         "name": "Marriguda",
         "orientation": "v",
         "showlegend": true,
         "type": "scatter",
         "x": [
          0.000017747515179743085
         ],
         "xaxis": "x",
         "y": [
          -0.00558688347464705
         ],
         "yaxis": "y"
        },
        {
         "hovertemplate": "Area=Mattampalli<br>Deviance Scores Amount of Fires=%{x}<br>Deviance Scores Soil_Temp=%{y}<extra></extra>",
         "legendgroup": "Mattampalli",
         "marker": {
          "color": "#FF6692",
          "symbol": "circle"
         },
         "mode": "markers",
         "name": "Mattampalli",
         "orientation": "v",
         "showlegend": true,
         "type": "scatter",
         "x": [
          -0.000003318417901288806
         ],
         "xaxis": "x",
         "y": [
          -0.006824048372081136
         ],
         "yaxis": "y"
        },
        {
         "hovertemplate": "Area=Medak<br>Deviance Scores Amount of Fires=%{x}<br>Deviance Scores Soil_Temp=%{y}<extra></extra>",
         "legendgroup": "Medak",
         "marker": {
          "color": "#B6E880",
          "symbol": "circle"
         },
         "mode": "markers",
         "name": "Medak",
         "orientation": "v",
         "showlegend": true,
         "type": "scatter",
         "x": [
          -0.00007279274997481969
         ],
         "xaxis": "x",
         "y": [
          -0.004535944386240697
         ],
         "yaxis": "y"
        },
        {
         "hovertemplate": "Area=Medchal<br>Deviance Scores Amount of Fires=%{x}<br>Deviance Scores Soil_Temp=%{y}<extra></extra>",
         "legendgroup": "Medchal",
         "marker": {
          "color": "#FF97FF",
          "symbol": "circle"
         },
         "mode": "markers",
         "name": "Medchal",
         "orientation": "v",
         "showlegend": true,
         "type": "scatter",
         "x": [
          0.00002866165334445717
         ],
         "xaxis": "x",
         "y": [
          -0.005149703416790532
         ],
         "yaxis": "y"
        },
        {
         "hovertemplate": "Area=Medipalle<br>Deviance Scores Amount of Fires=%{x}<br>Deviance Scores Soil_Temp=%{y}<extra></extra>",
         "legendgroup": "Medipalle",
         "marker": {
          "color": "#FECB52",
          "symbol": "circle"
         },
         "mode": "markers",
         "name": "Medipalle",
         "orientation": "v",
         "showlegend": true,
         "type": "scatter",
         "x": [
          0.000006494105565837586
         ],
         "xaxis": "x",
         "y": [
          -0.005403874928868873
         ],
         "yaxis": "y"
        },
        {
         "hovertemplate": "Area=Mellachervu<br>Deviance Scores Amount of Fires=%{x}<br>Deviance Scores Soil_Temp=%{y}<extra></extra>",
         "legendgroup": "Mellachervu",
         "marker": {
          "color": "#636efa",
          "symbol": "circle"
         },
         "mode": "markers",
         "name": "Mellachervu",
         "orientation": "v",
         "showlegend": true,
         "type": "scatter",
         "x": [
          0.0000062116188056612976
         ],
         "xaxis": "x",
         "y": [
          -0.006313796568544232
         ],
         "yaxis": "y"
        },
        {
         "hovertemplate": "Area=Mendora<br>Deviance Scores Amount of Fires=%{x}<br>Deviance Scores Soil_Temp=%{y}<extra></extra>",
         "legendgroup": "Mendora",
         "marker": {
          "color": "#EF553B",
          "symbol": "circle"
         },
         "mode": "markers",
         "name": "Mendora",
         "orientation": "v",
         "showlegend": true,
         "type": "scatter",
         "x": [
          -0.000024289744560043978
         ],
         "xaxis": "x",
         "y": [
          -0.00622751340037038
         ],
         "yaxis": "y"
        },
        {
         "hovertemplate": "Area=Metpalli<br>Deviance Scores Amount of Fires=%{x}<br>Deviance Scores Soil_Temp=%{y}<extra></extra>",
         "legendgroup": "Metpalli",
         "marker": {
          "color": "#00cc96",
          "symbol": "circle"
         },
         "mode": "markers",
         "name": "Metpalli",
         "orientation": "v",
         "showlegend": true,
         "type": "scatter",
         "x": [
          0.00009147060190410723
         ],
         "xaxis": "x",
         "y": [
          -0.006700430191397659
         ],
         "yaxis": "y"
        },
        {
         "hovertemplate": "Area=Midjil<br>Deviance Scores Amount of Fires=%{x}<br>Deviance Scores Soil_Temp=%{y}<extra></extra>",
         "legendgroup": "Midjil",
         "marker": {
          "color": "#ab63fa",
          "symbol": "circle"
         },
         "mode": "markers",
         "name": "Midjil",
         "orientation": "v",
         "showlegend": true,
         "type": "scatter",
         "x": [
          -0.000029935010560043607
         ],
         "xaxis": "x",
         "y": [
          -0.006945168760143364
         ],
         "yaxis": "y"
        },
        {
         "hovertemplate": "Area=Mirdoddi<br>Deviance Scores Amount of Fires=%{x}<br>Deviance Scores Soil_Temp=%{y}<extra></extra>",
         "legendgroup": "Mirdoddi",
         "marker": {
          "color": "#FFA15A",
          "symbol": "circle"
         },
         "mode": "markers",
         "name": "Mirdoddi",
         "orientation": "v",
         "showlegend": true,
         "type": "scatter",
         "x": [
          0.00003833204278580099
         ],
         "xaxis": "x",
         "y": [
          -0.00463648406163919
         ],
         "yaxis": "y"
        },
        {
         "hovertemplate": "Area=Miryalaguda<br>Deviance Scores Amount of Fires=%{x}<br>Deviance Scores Soil_Temp=%{y}<extra></extra>",
         "legendgroup": "Miryalaguda",
         "marker": {
          "color": "#19d3f3",
          "symbol": "circle"
         },
         "mode": "markers",
         "name": "Miryalaguda",
         "orientation": "v",
         "showlegend": true,
         "type": "scatter",
         "x": [
          -0.00002757968203359586
         ],
         "xaxis": "x",
         "y": [
          -0.004671382945867593
         ],
         "yaxis": "y"
        },
        {
         "hovertemplate": "Area=Moinabad<br>Deviance Scores Amount of Fires=%{x}<br>Deviance Scores Soil_Temp=%{y}<extra></extra>",
         "legendgroup": "Moinabad",
         "marker": {
          "color": "#FF6692",
          "symbol": "circle"
         },
         "mode": "markers",
         "name": "Moinabad",
         "orientation": "v",
         "showlegend": true,
         "type": "scatter",
         "x": [
          -0.000028362107355315624
         ],
         "xaxis": "x",
         "y": [
          -0.0050028893793232715
         ],
         "yaxis": "y"
        },
        {
         "hovertemplate": "Area=Mominpet<br>Deviance Scores Amount of Fires=%{x}<br>Deviance Scores Soil_Temp=%{y}<extra></extra>",
         "legendgroup": "Mominpet",
         "marker": {
          "color": "#B6E880",
          "symbol": "circle"
         },
         "mode": "markers",
         "name": "Mominpet",
         "orientation": "v",
         "showlegend": true,
         "type": "scatter",
         "x": [
          0.0001605279546832
         ],
         "xaxis": "x",
         "y": [
          -0.003120891903876276
         ],
         "yaxis": "y"
        },
        {
         "hovertemplate": "Area=Morthad<br>Deviance Scores Amount of Fires=%{x}<br>Deviance Scores Soil_Temp=%{y}<extra></extra>",
         "legendgroup": "Morthad",
         "marker": {
          "color": "#FF97FF",
          "symbol": "circle"
         },
         "mode": "markers",
         "name": "Morthad",
         "orientation": "v",
         "showlegend": true,
         "type": "scatter",
         "x": [
          0.0001009158917969
         ],
         "xaxis": "x",
         "y": [
          -0.008125462548143527
         ],
         "yaxis": "y"
        },
        {
         "hovertemplate": "Area=Motakondur<br>Deviance Scores Amount of Fires=%{x}<br>Deviance Scores Soil_Temp=%{y}<extra></extra>",
         "legendgroup": "Motakondur",
         "marker": {
          "color": "#FECB52",
          "symbol": "circle"
         },
         "mode": "markers",
         "name": "Motakondur",
         "orientation": "v",
         "showlegend": true,
         "type": "scatter",
         "x": [
          0.0000849594255643717
         ],
         "xaxis": "x",
         "y": [
          -0.006073714916410202
         ],
         "yaxis": "y"
        },
        {
         "hovertemplate": "Area=Mothey<br>Deviance Scores Amount of Fires=%{x}<br>Deviance Scores Soil_Temp=%{y}<extra></extra>",
         "legendgroup": "Mothey",
         "marker": {
          "color": "#636efa",
          "symbol": "circle"
         },
         "mode": "markers",
         "name": "Mothey",
         "orientation": "v",
         "showlegend": true,
         "type": "scatter",
         "x": [
          -0.00002225385624568882
         ],
         "xaxis": "x",
         "y": [
          -0.008088231187138212
         ],
         "yaxis": "y"
        },
        {
         "hovertemplate": "Area=Mothkur<br>Deviance Scores Amount of Fires=%{x}<br>Deviance Scores Soil_Temp=%{y}<extra></extra>",
         "legendgroup": "Mothkur",
         "marker": {
          "color": "#EF553B",
          "symbol": "circle"
         },
         "mode": "markers",
         "name": "Mothkur",
         "orientation": "v",
         "showlegend": true,
         "type": "scatter",
         "x": [
          -0.000026069043714516023
         ],
         "xaxis": "x",
         "y": [
          -0.005149354499565602
         ],
         "yaxis": "y"
        },
        {
         "hovertemplate": "Area=Mudhole<br>Deviance Scores Amount of Fires=%{x}<br>Deviance Scores Soil_Temp=%{y}<extra></extra>",
         "legendgroup": "Mudhole",
         "marker": {
          "color": "#00cc96",
          "symbol": "circle"
         },
         "mode": "markers",
         "name": "Mudhole",
         "orientation": "v",
         "showlegend": true,
         "type": "scatter",
         "x": [
          0.00003762124255297427
         ],
         "xaxis": "x",
         "y": [
          -0.007061808035863047
         ],
         "yaxis": "y"
        },
        {
         "hovertemplate": "Area=Mudigonda<br>Deviance Scores Amount of Fires=%{x}<br>Deviance Scores Soil_Temp=%{y}<extra></extra>",
         "legendgroup": "Mudigonda",
         "marker": {
          "color": "#ab63fa",
          "symbol": "circle"
         },
         "mode": "markers",
         "name": "Mudigonda",
         "orientation": "v",
         "showlegend": true,
         "type": "scatter",
         "x": [
          -0.000060670854063424265
         ],
         "xaxis": "x",
         "y": [
          -0.006825190258744615
         ],
         "yaxis": "y"
        },
        {
         "hovertemplate": "Area=Mugpal<br>Deviance Scores Amount of Fires=%{x}<br>Deviance Scores Soil_Temp=%{y}<extra></extra>",
         "legendgroup": "Mugpal",
         "marker": {
          "color": "#FFA15A",
          "symbol": "circle"
         },
         "mode": "markers",
         "name": "Mugpal",
         "orientation": "v",
         "showlegend": true,
         "type": "scatter",
         "x": [
          0.0001603174066675
         ],
         "xaxis": "x",
         "y": [
          -0.006450792865839604
         ],
         "yaxis": "y"
        },
        {
         "hovertemplate": "Area=Mulakalapally<br>Deviance Scores Amount of Fires=%{x}<br>Deviance Scores Soil_Temp=%{y}<extra></extra>",
         "legendgroup": "Mulakalapally",
         "marker": {
          "color": "#19d3f3",
          "symbol": "circle"
         },
         "mode": "markers",
         "name": "Mulakalapally",
         "orientation": "v",
         "showlegend": true,
         "type": "scatter",
         "x": [
          -0.000017034047638619456
         ],
         "xaxis": "x",
         "y": [
          -0.00251503370816399
         ],
         "yaxis": "y"
        },
        {
         "hovertemplate": "Area=Mulug<br>Deviance Scores Amount of Fires=%{x}<br>Deviance Scores Soil_Temp=%{y}<extra></extra>",
         "legendgroup": "Mulug",
         "marker": {
          "color": "#FF6692",
          "symbol": "circle"
         },
         "mode": "markers",
         "name": "Mulug",
         "orientation": "v",
         "showlegend": true,
         "type": "scatter",
         "x": [
          -0.0001565083145085,
          0.00009617621866825006
         ],
         "xaxis": "x",
         "y": [
          -0.0023478238464544133,
          -0.006750880040279329
         ],
         "yaxis": "y"
        },
        {
         "hovertemplate": "Area=Munagala<br>Deviance Scores Amount of Fires=%{x}<br>Deviance Scores Soil_Temp=%{y}<extra></extra>",
         "legendgroup": "Munagala",
         "marker": {
          "color": "#B6E880",
          "symbol": "circle"
         },
         "mode": "markers",
         "name": "Munagala",
         "orientation": "v",
         "showlegend": true,
         "type": "scatter",
         "x": [
          0.00002963465337416129
         ],
         "xaxis": "x",
         "y": [
          -0.007248449654609038
         ],
         "yaxis": "y"
        },
        {
         "hovertemplate": "Area=Munipally<br>Deviance Scores Amount of Fires=%{x}<br>Deviance Scores Soil_Temp=%{y}<extra></extra>",
         "legendgroup": "Munipally",
         "marker": {
          "color": "#FF97FF",
          "symbol": "circle"
         },
         "mode": "markers",
         "name": "Munipally",
         "orientation": "v",
         "showlegend": true,
         "type": "scatter",
         "x": [
          0.0000014213659108711036
         ],
         "xaxis": "x",
         "y": [
          -0.0027936232813404295
         ],
         "yaxis": "y"
        },
        {
         "hovertemplate": "Area=Mupkal<br>Deviance Scores Amount of Fires=%{x}<br>Deviance Scores Soil_Temp=%{y}<extra></extra>",
         "legendgroup": "Mupkal",
         "marker": {
          "color": "#FECB52",
          "symbol": "circle"
         },
         "mode": "markers",
         "name": "Mupkal",
         "orientation": "v",
         "showlegend": true,
         "type": "scatter",
         "x": [
          -0.000013420192314869818
         ],
         "xaxis": "x",
         "y": [
          -0.006775110933172376
         ],
         "yaxis": "y"
        },
        {
         "hovertemplate": "Area=Mustabad<br>Deviance Scores Amount of Fires=%{x}<br>Deviance Scores Soil_Temp=%{y}<extra></extra>",
         "legendgroup": "Mustabad",
         "marker": {
          "color": "#636efa",
          "symbol": "circle"
         },
         "mode": "markers",
         "name": "Mustabad",
         "orientation": "v",
         "showlegend": true,
         "type": "scatter",
         "x": [
          0.000007600880916531285
         ],
         "xaxis": "x",
         "y": [
          -0.005102626808637546
         ],
         "yaxis": "y"
        },
        {
         "hovertemplate": "Area=Mutharam_Mahadevpur<br>Deviance Scores Amount of Fires=%{x}<br>Deviance Scores Soil_Temp=%{y}<extra></extra>",
         "legendgroup": "Mutharam_Mahadevpur",
         "marker": {
          "color": "#EF553B",
          "symbol": "circle"
         },
         "mode": "markers",
         "name": "Mutharam_Mahadevpur",
         "orientation": "v",
         "showlegend": true,
         "type": "scatter",
         "x": [
          0.00006515373586578416
         ],
         "xaxis": "x",
         "y": [
          -0.0036618046122622976
         ],
         "yaxis": "y"
        },
        {
         "hovertemplate": "Area=Mutharam_Manthani<br>Deviance Scores Amount of Fires=%{x}<br>Deviance Scores Soil_Temp=%{y}<extra></extra>",
         "legendgroup": "Mutharam_Manthani",
         "marker": {
          "color": "#00cc96",
          "symbol": "circle"
         },
         "mode": "markers",
         "name": "Mutharam_Manthani",
         "orientation": "v",
         "showlegend": true,
         "type": "scatter",
         "x": [
          -0.00006951042099137375
         ],
         "xaxis": "x",
         "y": [
          -0.004248907963993577
         ],
         "yaxis": "y"
        },
        {
         "hovertemplate": "Area=Nadigudem<br>Deviance Scores Amount of Fires=%{x}<br>Deviance Scores Soil_Temp=%{y}<extra></extra>",
         "legendgroup": "Nadigudem",
         "marker": {
          "color": "#ab63fa",
          "symbol": "circle"
         },
         "mode": "markers",
         "name": "Nadigudem",
         "orientation": "v",
         "showlegend": true,
         "type": "scatter",
         "x": [
          -0.000021896513243848688
         ],
         "xaxis": "x",
         "y": [
          -0.005254417080430456
         ],
         "yaxis": "y"
        },
        {
         "hovertemplate": "Area=Nagalgidda<br>Deviance Scores Amount of Fires=%{x}<br>Deviance Scores Soil_Temp=%{y}<extra></extra>",
         "legendgroup": "Nagalgidda",
         "marker": {
          "color": "#FFA15A",
          "symbol": "circle"
         },
         "mode": "markers",
         "name": "Nagalgidda",
         "orientation": "v",
         "showlegend": true,
         "type": "scatter",
         "x": [
          0.00003482108188597228
         ],
         "xaxis": "x",
         "y": [
          -0.004864451649477152
         ],
         "yaxis": "y"
        },
        {
         "hovertemplate": "Area=Nagaram<br>Deviance Scores Amount of Fires=%{x}<br>Deviance Scores Soil_Temp=%{y}<extra></extra>",
         "legendgroup": "Nagaram",
         "marker": {
          "color": "#19d3f3",
          "symbol": "circle"
         },
         "mode": "markers",
         "name": "Nagaram",
         "orientation": "v",
         "showlegend": true,
         "type": "scatter",
         "x": [
          0.000003928988418029202
         ],
         "xaxis": "x",
         "y": [
          -0.0059223920066965195
         ],
         "yaxis": "y"
        },
        {
         "hovertemplate": "Area=Nagi_Reddypet<br>Deviance Scores Amount of Fires=%{x}<br>Deviance Scores Soil_Temp=%{y}<extra></extra>",
         "legendgroup": "Nagi_Reddypet",
         "marker": {
          "color": "#FF6692",
          "symbol": "circle"
         },
         "mode": "markers",
         "name": "Nagi_Reddypet",
         "orientation": "v",
         "showlegend": true,
         "type": "scatter",
         "x": [
          0.00005686384267434289
         ],
         "xaxis": "x",
         "y": [
          -0.006218341634683609
         ],
         "yaxis": "y"
        },
        {
         "hovertemplate": "Area=Nalgonda<br>Deviance Scores Amount of Fires=%{x}<br>Deviance Scores Soil_Temp=%{y}<extra></extra>",
         "legendgroup": "Nalgonda",
         "marker": {
          "color": "#B6E880",
          "symbol": "circle"
         },
         "mode": "markers",
         "name": "Nalgonda",
         "orientation": "v",
         "showlegend": true,
         "type": "scatter",
         "x": [
          0.0000987333935163548
         ],
         "xaxis": "x",
         "y": [
          -0.005511811868193775
         ],
         "yaxis": "y"
        },
        {
         "hovertemplate": "Area=Nallabelli<br>Deviance Scores Amount of Fires=%{x}<br>Deviance Scores Soil_Temp=%{y}<extra></extra>",
         "legendgroup": "Nallabelli",
         "marker": {
          "color": "#FF97FF",
          "symbol": "circle"
         },
         "mode": "markers",
         "name": "Nallabelli",
         "orientation": "v",
         "showlegend": true,
         "type": "scatter",
         "x": [
          -0.0001934798538035
         ],
         "xaxis": "x",
         "y": [
          -0.00416097846717364
         ],
         "yaxis": "y"
        },
        {
         "hovertemplate": "Area=Nampally<br>Deviance Scores Amount of Fires=%{x}<br>Deviance Scores Soil_Temp=%{y}<extra></extra>",
         "legendgroup": "Nampally",
         "marker": {
          "color": "#FECB52",
          "symbol": "circle"
         },
         "mode": "markers",
         "name": "Nampally",
         "orientation": "v",
         "showlegend": true,
         "type": "scatter",
         "x": [
          0.0001225320666071
         ],
         "xaxis": "x",
         "y": [
          -0.00582969497251968
         ],
         "yaxis": "y"
        },
        {
         "hovertemplate": "Area=Nandipet<br>Deviance Scores Amount of Fires=%{x}<br>Deviance Scores Soil_Temp=%{y}<extra></extra>",
         "legendgroup": "Nandipet",
         "marker": {
          "color": "#636efa",
          "symbol": "circle"
         },
         "mode": "markers",
         "name": "Nandipet",
         "orientation": "v",
         "showlegend": true,
         "type": "scatter",
         "x": [
          -0.000046581479618077885
         ],
         "xaxis": "x",
         "y": [
          -0.007990752138441673
         ],
         "yaxis": "y"
        },
        {
         "hovertemplate": "Area=Nangnoor<br>Deviance Scores Amount of Fires=%{x}<br>Deviance Scores Soil_Temp=%{y}<extra></extra>",
         "legendgroup": "Nangnoor",
         "marker": {
          "color": "#EF553B",
          "symbol": "circle"
         },
         "mode": "markers",
         "name": "Nangnoor",
         "orientation": "v",
         "showlegend": true,
         "type": "scatter",
         "x": [
          0.0001484004006987
         ],
         "xaxis": "x",
         "y": [
          -0.006052695429396413
         ],
         "yaxis": "y"
        },
        {
         "hovertemplate": "Area=Narayanapoor<br>Deviance Scores Amount of Fires=%{x}<br>Deviance Scores Soil_Temp=%{y}<extra></extra>",
         "legendgroup": "Narayanapoor",
         "marker": {
          "color": "#00cc96",
          "symbol": "circle"
         },
         "mode": "markers",
         "name": "Narayanapoor",
         "orientation": "v",
         "showlegend": true,
         "type": "scatter",
         "x": [
          0.00001910911358727637
         ],
         "xaxis": "x",
         "y": [
          -0.005768101390151571
         ],
         "yaxis": "y"
        },
        {
         "hovertemplate": "Area=Narayankhed<br>Deviance Scores Amount of Fires=%{x}<br>Deviance Scores Soil_Temp=%{y}<extra></extra>",
         "legendgroup": "Narayankhed",
         "marker": {
          "color": "#ab63fa",
          "symbol": "circle"
         },
         "mode": "markers",
         "name": "Narayankhed",
         "orientation": "v",
         "showlegend": true,
         "type": "scatter",
         "x": [
          0.00008273381870033986
         ],
         "xaxis": "x",
         "y": [
          -0.005502616692434716
         ],
         "yaxis": "y"
        },
        {
         "hovertemplate": "Area=Narayanpet<br>Deviance Scores Amount of Fires=%{x}<br>Deviance Scores Soil_Temp=%{y}<extra></extra>",
         "legendgroup": "Narayanpet",
         "marker": {
          "color": "#FFA15A",
          "symbol": "circle"
         },
         "mode": "markers",
         "name": "Narayanpet",
         "orientation": "v",
         "showlegend": true,
         "type": "scatter",
         "x": [
          3.97860249256112e-7
         ],
         "xaxis": "x",
         "y": [
          -0.005789794072084873
         ],
         "yaxis": "y"
        },
        {
         "hovertemplate": "Area=Narketpally<br>Deviance Scores Amount of Fires=%{x}<br>Deviance Scores Soil_Temp=%{y}<extra></extra>",
         "legendgroup": "Narketpally",
         "marker": {
          "color": "#19d3f3",
          "symbol": "circle"
         },
         "mode": "markers",
         "name": "Narketpally",
         "orientation": "v",
         "showlegend": true,
         "type": "scatter",
         "x": [
          0.000028346346278037595
         ],
         "xaxis": "x",
         "y": [
          -0.006223303292011487
         ],
         "yaxis": "y"
        },
        {
         "hovertemplate": "Area=Narmetta<br>Deviance Scores Amount of Fires=%{x}<br>Deviance Scores Soil_Temp=%{y}<extra></extra>",
         "legendgroup": "Narmetta",
         "marker": {
          "color": "#FF6692",
          "symbol": "circle"
         },
         "mode": "markers",
         "name": "Narmetta",
         "orientation": "v",
         "showlegend": true,
         "type": "scatter",
         "x": [
          -4.1827494826358374e-7
         ],
         "xaxis": "x",
         "y": [
          -0.005129131483331946
         ],
         "yaxis": "y"
        },
        {
         "hovertemplate": "Area=Narnoor<br>Deviance Scores Amount of Fires=%{x}<br>Deviance Scores Soil_Temp=%{y}<extra></extra>",
         "legendgroup": "Narnoor",
         "marker": {
          "color": "#B6E880",
          "symbol": "circle"
         },
         "mode": "markers",
         "name": "Narnoor",
         "orientation": "v",
         "showlegend": true,
         "type": "scatter",
         "x": [
          0.000027075513212539585
         ],
         "xaxis": "x",
         "y": [
          -0.004451857634625351
         ],
         "yaxis": "y"
        },
        {
         "hovertemplate": "Area=Narsampet<br>Deviance Scores Amount of Fires=%{x}<br>Deviance Scores Soil_Temp=%{y}<extra></extra>",
         "legendgroup": "Narsampet",
         "marker": {
          "color": "#FF97FF",
          "symbol": "circle"
         },
         "mode": "markers",
         "name": "Narsampet",
         "orientation": "v",
         "showlegend": true,
         "type": "scatter",
         "x": [
          0.000024974924333752905
         ],
         "xaxis": "x",
         "y": [
          -0.0019496249029919755
         ],
         "yaxis": "y"
        },
        {
         "hovertemplate": "Area=Narsapur<br>Deviance Scores Amount of Fires=%{x}<br>Deviance Scores Soil_Temp=%{y}<extra></extra>",
         "legendgroup": "Narsapur",
         "marker": {
          "color": "#FECB52",
          "symbol": "circle"
         },
         "mode": "markers",
         "name": "Narsapur",
         "orientation": "v",
         "showlegend": true,
         "type": "scatter",
         "x": [
          0.00008676236483219658
         ],
         "xaxis": "x",
         "y": [
          -0.003475387080829919
         ],
         "yaxis": "y"
        },
        {
         "hovertemplate": "Area=Narsapur_G<br>Deviance Scores Amount of Fires=%{x}<br>Deviance Scores Soil_Temp=%{y}<extra></extra>",
         "legendgroup": "Narsapur_G",
         "marker": {
          "color": "#636efa",
          "symbol": "circle"
         },
         "mode": "markers",
         "name": "Narsapur_G",
         "orientation": "v",
         "showlegend": true,
         "type": "scatter",
         "x": [
          -0.000005701175450059136
         ],
         "xaxis": "x",
         "y": [
          -0.005128785031725983
         ],
         "yaxis": "y"
        },
        {
         "hovertemplate": "Area=Narsingi<br>Deviance Scores Amount of Fires=%{x}<br>Deviance Scores Soil_Temp=%{y}<extra></extra>",
         "legendgroup": "Narsingi",
         "marker": {
          "color": "#EF553B",
          "symbol": "circle"
         },
         "mode": "markers",
         "name": "Narsingi",
         "orientation": "v",
         "showlegend": true,
         "type": "scatter",
         "x": [
          0.00004396509649798743
         ],
         "xaxis": "x",
         "y": [
          -0.004791303590397194
         ],
         "yaxis": "y"
        },
        {
         "hovertemplate": "Area=Narva<br>Deviance Scores Amount of Fires=%{x}<br>Deviance Scores Soil_Temp=%{y}<extra></extra>",
         "legendgroup": "Narva",
         "marker": {
          "color": "#00cc96",
          "symbol": "circle"
         },
         "mode": "markers",
         "name": "Narva",
         "orientation": "v",
         "showlegend": true,
         "type": "scatter",
         "x": [
          0.000003469623193474365
         ],
         "xaxis": "x",
         "y": [
          -0.00766134794123241
         ],
         "yaxis": "y"
        },
        {
         "hovertemplate": "Area=Nasurullabad<br>Deviance Scores Amount of Fires=%{x}<br>Deviance Scores Soil_Temp=%{y}<extra></extra>",
         "legendgroup": "Nasurullabad",
         "marker": {
          "color": "#ab63fa",
          "symbol": "circle"
         },
         "mode": "markers",
         "name": "Nasurullabad",
         "orientation": "v",
         "showlegend": true,
         "type": "scatter",
         "x": [
          0.000076094143119072
         ],
         "xaxis": "x",
         "y": [
          -0.005893270398454194
         ],
         "yaxis": "y"
        },
        {
         "hovertemplate": "Area=Navipet<br>Deviance Scores Amount of Fires=%{x}<br>Deviance Scores Soil_Temp=%{y}<extra></extra>",
         "legendgroup": "Navipet",
         "marker": {
          "color": "#FFA15A",
          "symbol": "circle"
         },
         "mode": "markers",
         "name": "Navipet",
         "orientation": "v",
         "showlegend": true,
         "type": "scatter",
         "x": [
          0.0001848914210251
         ],
         "xaxis": "x",
         "y": [
          -0.006762592765208545
         ],
         "yaxis": "y"
        },
        {
         "hovertemplate": "Area=Nawabpet<br>Deviance Scores Amount of Fires=%{x}<br>Deviance Scores Soil_Temp=%{y}<extra></extra>",
         "legendgroup": "Nawabpet",
         "marker": {
          "color": "#19d3f3",
          "symbol": "circle"
         },
         "mode": "markers",
         "name": "Nawabpet",
         "orientation": "v",
         "showlegend": true,
         "type": "scatter",
         "x": [
          -0.00009054968002848948,
          0.000037950968640918175
         ],
         "xaxis": "x",
         "y": [
          -0.005215934274515813,
          -0.0022726719457490455
         ],
         "yaxis": "y"
        },
        {
         "hovertemplate": "Area=Nekkonda<br>Deviance Scores Amount of Fires=%{x}<br>Deviance Scores Soil_Temp=%{y}<extra></extra>",
         "legendgroup": "Nekkonda",
         "marker": {
          "color": "#FF6692",
          "symbol": "circle"
         },
         "mode": "markers",
         "name": "Nekkonda",
         "orientation": "v",
         "showlegend": true,
         "type": "scatter",
         "x": [
          0.000030842840881980536
         ],
         "xaxis": "x",
         "y": [
          -0.0025547611783700757
         ],
         "yaxis": "y"
        },
        {
         "hovertemplate": "Area=Nelakondapally<br>Deviance Scores Amount of Fires=%{x}<br>Deviance Scores Soil_Temp=%{y}<extra></extra>",
         "legendgroup": "Nelakondapally",
         "marker": {
          "color": "#B6E880",
          "symbol": "circle"
         },
         "mode": "markers",
         "name": "Nelakondapally",
         "orientation": "v",
         "showlegend": true,
         "type": "scatter",
         "x": [
          -0.0001553602325578
         ],
         "xaxis": "x",
         "y": [
          -0.00532851938055389
         ],
         "yaxis": "y"
        },
        {
         "hovertemplate": "Area=Nellikudur<br>Deviance Scores Amount of Fires=%{x}<br>Deviance Scores Soil_Temp=%{y}<extra></extra>",
         "legendgroup": "Nellikudur",
         "marker": {
          "color": "#FF97FF",
          "symbol": "circle"
         },
         "mode": "markers",
         "name": "Nellikudur",
         "orientation": "v",
         "showlegend": true,
         "type": "scatter",
         "x": [
          -0.000010289378663805018
         ],
         "xaxis": "x",
         "y": [
          -0.005668075141658098
         ],
         "yaxis": "y"
        },
        {
         "hovertemplate": "Area=Nennel<br>Deviance Scores Amount of Fires=%{x}<br>Deviance Scores Soil_Temp=%{y}<extra></extra>",
         "legendgroup": "Nennel",
         "marker": {
          "color": "#FECB52",
          "symbol": "circle"
         },
         "mode": "markers",
         "name": "Nennel",
         "orientation": "v",
         "showlegend": true,
         "type": "scatter",
         "x": [
          -0.000009244817318026726
         ],
         "xaxis": "x",
         "y": [
          -0.004578236273214498
         ],
         "yaxis": "y"
        },
        {
         "hovertemplate": "Area=Nereducherla<br>Deviance Scores Amount of Fires=%{x}<br>Deviance Scores Soil_Temp=%{y}<extra></extra>",
         "legendgroup": "Nereducherla",
         "marker": {
          "color": "#636efa",
          "symbol": "circle"
         },
         "mode": "markers",
         "name": "Nereducherla",
         "orientation": "v",
         "showlegend": true,
         "type": "scatter",
         "x": [
          -0.00006600725078930648
         ],
         "xaxis": "x",
         "y": [
          -0.0048824213602739214
         ],
         "yaxis": "y"
        },
        {
         "hovertemplate": "Area=Neredugommu<br>Deviance Scores Amount of Fires=%{x}<br>Deviance Scores Soil_Temp=%{y}<extra></extra>",
         "legendgroup": "Neredugommu",
         "marker": {
          "color": "#EF553B",
          "symbol": "circle"
         },
         "mode": "markers",
         "name": "Neredugommu",
         "orientation": "v",
         "showlegend": true,
         "type": "scatter",
         "x": [
          -0.000002679406731816192
         ],
         "xaxis": "x",
         "y": [
          -0.00686370878585261
         ],
         "yaxis": "y"
        },
        {
         "hovertemplate": "Area=Nidamanoor<br>Deviance Scores Amount of Fires=%{x}<br>Deviance Scores Soil_Temp=%{y}<extra></extra>",
         "legendgroup": "Nidamanoor",
         "marker": {
          "color": "#00cc96",
          "symbol": "circle"
         },
         "mode": "markers",
         "name": "Nidamanoor",
         "orientation": "v",
         "showlegend": true,
         "type": "scatter",
         "x": [
          -0.0001079283086397
         ],
         "xaxis": "x",
         "y": [
          -0.005731831047919465
         ],
         "yaxis": "y"
        },
        {
         "hovertemplate": "Area=Nizamabad Rural<br>Deviance Scores Amount of Fires=%{x}<br>Deviance Scores Soil_Temp=%{y}<extra></extra>",
         "legendgroup": "Nizamabad Rural",
         "marker": {
          "color": "#ab63fa",
          "symbol": "circle"
         },
         "mode": "markers",
         "name": "Nizamabad Rural",
         "orientation": "v",
         "showlegend": true,
         "type": "scatter",
         "x": [
          -0.000011348990624756925
         ],
         "xaxis": "x",
         "y": [
          -0.0058905050655667975
         ],
         "yaxis": "y"
        },
        {
         "hovertemplate": "Area=Nizamsagar<br>Deviance Scores Amount of Fires=%{x}<br>Deviance Scores Soil_Temp=%{y}<extra></extra>",
         "legendgroup": "Nizamsagar",
         "marker": {
          "color": "#FFA15A",
          "symbol": "circle"
         },
         "mode": "markers",
         "name": "Nizamsagar",
         "orientation": "v",
         "showlegend": true,
         "type": "scatter",
         "x": [
          0.00003179107565134521
         ],
         "xaxis": "x",
         "y": [
          -0.003174465587056075
         ],
         "yaxis": "y"
        },
        {
         "hovertemplate": "Area=Nyalkal<br>Deviance Scores Amount of Fires=%{x}<br>Deviance Scores Soil_Temp=%{y}<extra></extra>",
         "legendgroup": "Nyalkal",
         "marker": {
          "color": "#19d3f3",
          "symbol": "circle"
         },
         "mode": "markers",
         "name": "Nyalkal",
         "orientation": "v",
         "showlegend": true,
         "type": "scatter",
         "x": [
          0.00007646502197347527
         ],
         "xaxis": "x",
         "y": [
          -0.00447925219561944
         ],
         "yaxis": "y"
        },
        {
         "hovertemplate": "Area=Odela<br>Deviance Scores Amount of Fires=%{x}<br>Deviance Scores Soil_Temp=%{y}<extra></extra>",
         "legendgroup": "Odela",
         "marker": {
          "color": "#FF6692",
          "symbol": "circle"
         },
         "mode": "markers",
         "name": "Odela",
         "orientation": "v",
         "showlegend": true,
         "type": "scatter",
         "x": [
          0.0001666150573762
         ],
         "xaxis": "x",
         "y": [
          -0.006080999992299259
         ],
         "yaxis": "y"
        },
        {
         "hovertemplate": "Area=Padara<br>Deviance Scores Amount of Fires=%{x}<br>Deviance Scores Soil_Temp=%{y}<extra></extra>",
         "legendgroup": "Padara",
         "marker": {
          "color": "#B6E880",
          "symbol": "circle"
         },
         "mode": "markers",
         "name": "Padara",
         "orientation": "v",
         "showlegend": true,
         "type": "scatter",
         "x": [
          0.00002907189251065565
         ],
         "xaxis": "x",
         "y": [
          -0.0058293189773465535
         ],
         "yaxis": "y"
        },
        {
         "hovertemplate": "Area=Palakurthy<br>Deviance Scores Amount of Fires=%{x}<br>Deviance Scores Soil_Temp=%{y}<extra></extra>",
         "legendgroup": "Palakurthy",
         "marker": {
          "color": "#FF97FF",
          "symbol": "circle"
         },
         "mode": "markers",
         "name": "Palakurthy",
         "orientation": "v",
         "showlegend": true,
         "type": "scatter",
         "x": [
          0.000016128430184278538,
          0.000004433237096602207
         ],
         "xaxis": "x",
         "y": [
          -0.00605411673217256,
          -0.004443729077753573
         ],
         "yaxis": "y"
        },
        {
         "hovertemplate": "Area=Palmela<br>Deviance Scores Amount of Fires=%{x}<br>Deviance Scores Soil_Temp=%{y}<extra></extra>",
         "legendgroup": "Palmela",
         "marker": {
          "color": "#FECB52",
          "symbol": "circle"
         },
         "mode": "markers",
         "name": "Palmela",
         "orientation": "v",
         "showlegend": true,
         "type": "scatter",
         "x": [
          0.000018350353293393308
         ],
         "xaxis": "x",
         "y": [
          -0.0031859710734234666
         ],
         "yaxis": "y"
        },
        {
         "hovertemplate": "Area=Palvancha<br>Deviance Scores Amount of Fires=%{x}<br>Deviance Scores Soil_Temp=%{y}<extra></extra>",
         "legendgroup": "Palvancha",
         "marker": {
          "color": "#636efa",
          "symbol": "circle"
         },
         "mode": "markers",
         "name": "Palvancha",
         "orientation": "v",
         "showlegend": true,
         "type": "scatter",
         "x": [
          -0.0001478521084098
         ],
         "xaxis": "x",
         "y": [
          -0.0008149604089598953
         ],
         "yaxis": "y"
        },
        {
         "hovertemplate": "Area=Papannapet<br>Deviance Scores Amount of Fires=%{x}<br>Deviance Scores Soil_Temp=%{y}<extra></extra>",
         "legendgroup": "Papannapet",
         "marker": {
          "color": "#EF553B",
          "symbol": "circle"
         },
         "mode": "markers",
         "name": "Papannapet",
         "orientation": "v",
         "showlegend": true,
         "type": "scatter",
         "x": [
          -0.0001371638924681
         ],
         "xaxis": "x",
         "y": [
          -0.004763230903753052
         ],
         "yaxis": "y"
        },
        {
         "hovertemplate": "Area=Pargi<br>Deviance Scores Amount of Fires=%{x}<br>Deviance Scores Soil_Temp=%{y}<extra></extra>",
         "legendgroup": "Pargi",
         "marker": {
          "color": "#00cc96",
          "symbol": "circle"
         },
         "mode": "markers",
         "name": "Pargi",
         "orientation": "v",
         "showlegend": true,
         "type": "scatter",
         "x": [
          0.000010892479285086732
         ],
         "xaxis": "x",
         "y": [
          -0.0029906319808051993
         ],
         "yaxis": "y"
        },
        {
         "hovertemplate": "Area=Parvathagiri<br>Deviance Scores Amount of Fires=%{x}<br>Deviance Scores Soil_Temp=%{y}<extra></extra>",
         "legendgroup": "Parvathagiri",
         "marker": {
          "color": "#ab63fa",
          "symbol": "circle"
         },
         "mode": "markers",
         "name": "Parvathagiri",
         "orientation": "v",
         "showlegend": true,
         "type": "scatter",
         "x": [
          0.00004105849391036909
         ],
         "xaxis": "x",
         "y": [
          -0.003716489199686661
         ],
         "yaxis": "y"
        },
        {
         "hovertemplate": "Area=Patancheruvu<br>Deviance Scores Amount of Fires=%{x}<br>Deviance Scores Soil_Temp=%{y}<extra></extra>",
         "legendgroup": "Patancheruvu",
         "marker": {
          "color": "#FFA15A",
          "symbol": "circle"
         },
         "mode": "markers",
         "name": "Patancheruvu",
         "orientation": "v",
         "showlegend": true,
         "type": "scatter",
         "x": [
          -0.00002418570643459376
         ],
         "xaxis": "x",
         "y": [
          -0.0032092252033509507
         ],
         "yaxis": "y"
        },
        {
         "hovertemplate": "Area=Pebbair<br>Deviance Scores Amount of Fires=%{x}<br>Deviance Scores Soil_Temp=%{y}<extra></extra>",
         "legendgroup": "Pebbair",
         "marker": {
          "color": "#19d3f3",
          "symbol": "circle"
         },
         "mode": "markers",
         "name": "Pebbair",
         "orientation": "v",
         "showlegend": true,
         "type": "scatter",
         "x": [
          0.000024848005609890566
         ],
         "xaxis": "x",
         "y": [
          -0.007062226188918634
         ],
         "yaxis": "y"
        },
        {
         "hovertemplate": "Area=Peda Adisharla Palli<br>Deviance Scores Amount of Fires=%{x}<br>Deviance Scores Soil_Temp=%{y}<extra></extra>",
         "legendgroup": "Peda Adisharla Palli",
         "marker": {
          "color": "#FF6692",
          "symbol": "circle"
         },
         "mode": "markers",
         "name": "Peda Adisharla Palli",
         "orientation": "v",
         "showlegend": true,
         "type": "scatter",
         "x": [
          0.000009916582327647464
         ],
         "xaxis": "x",
         "y": [
          -0.002080192266470708
         ],
         "yaxis": "y"
        },
        {
         "hovertemplate": "Area=Peddakothapalle<br>Deviance Scores Amount of Fires=%{x}<br>Deviance Scores Soil_Temp=%{y}<extra></extra>",
         "legendgroup": "Peddakothapalle",
         "marker": {
          "color": "#B6E880",
          "symbol": "circle"
         },
         "mode": "markers",
         "name": "Peddakothapalle",
         "orientation": "v",
         "showlegend": true,
         "type": "scatter",
         "x": [
          -0.00004188925492166554
         ],
         "xaxis": "x",
         "y": [
          -0.007423825381762314
         ],
         "yaxis": "y"
        },
        {
         "hovertemplate": "Area=Peddamandaddi<br>Deviance Scores Amount of Fires=%{x}<br>Deviance Scores Soil_Temp=%{y}<extra></extra>",
         "legendgroup": "Peddamandaddi",
         "marker": {
          "color": "#FF97FF",
          "symbol": "circle"
         },
         "mode": "markers",
         "name": "Peddamandaddi",
         "orientation": "v",
         "showlegend": true,
         "type": "scatter",
         "x": [
          0.0001646786842166
         ],
         "xaxis": "x",
         "y": [
          -0.008748150927652222
         ],
         "yaxis": "y"
        },
        {
         "hovertemplate": "Area=Peddapalli<br>Deviance Scores Amount of Fires=%{x}<br>Deviance Scores Soil_Temp=%{y}<extra></extra>",
         "legendgroup": "Peddapalli",
         "marker": {
          "color": "#FECB52",
          "symbol": "circle"
         },
         "mode": "markers",
         "name": "Peddapalli",
         "orientation": "v",
         "showlegend": true,
         "type": "scatter",
         "x": [
          0.00008735831221652214
         ],
         "xaxis": "x",
         "y": [
          -0.0058437480337415896
         ],
         "yaxis": "y"
        },
        {
         "hovertemplate": "Area=Peddavangara<br>Deviance Scores Amount of Fires=%{x}<br>Deviance Scores Soil_Temp=%{y}<extra></extra>",
         "legendgroup": "Peddavangara",
         "marker": {
          "color": "#636efa",
          "symbol": "circle"
         },
         "mode": "markers",
         "name": "Peddavangara",
         "orientation": "v",
         "showlegend": true,
         "type": "scatter",
         "x": [
          0.000009016079635453842
         ],
         "xaxis": "x",
         "y": [
          -0.006778337009600553
         ],
         "yaxis": "y"
        },
        {
         "hovertemplate": "Area=Peddavoora<br>Deviance Scores Amount of Fires=%{x}<br>Deviance Scores Soil_Temp=%{y}<extra></extra>",
         "legendgroup": "Peddavoora",
         "marker": {
          "color": "#EF553B",
          "symbol": "circle"
         },
         "mode": "markers",
         "name": "Peddavoora",
         "orientation": "v",
         "showlegend": true,
         "type": "scatter",
         "x": [
          0.000004149924573537903
         ],
         "xaxis": "x",
         "y": [
          -0.004503172731554937
         ],
         "yaxis": "y"
        },
        {
         "hovertemplate": "Area=Peddemul<br>Deviance Scores Amount of Fires=%{x}<br>Deviance Scores Soil_Temp=%{y}<extra></extra>",
         "legendgroup": "Peddemul",
         "marker": {
          "color": "#00cc96",
          "symbol": "circle"
         },
         "mode": "markers",
         "name": "Peddemul",
         "orientation": "v",
         "showlegend": true,
         "type": "scatter",
         "x": [
          0.00009293885188211462
         ],
         "xaxis": "x",
         "y": [
          -0.005283905327164928
         ],
         "yaxis": "y"
        },
        {
         "hovertemplate": "Area=Pegadapalli<br>Deviance Scores Amount of Fires=%{x}<br>Deviance Scores Soil_Temp=%{y}<extra></extra>",
         "legendgroup": "Pegadapalli",
         "marker": {
          "color": "#ab63fa",
          "symbol": "circle"
         },
         "mode": "markers",
         "name": "Pegadapalli",
         "orientation": "v",
         "showlegend": true,
         "type": "scatter",
         "x": [
          -0.00003579417803690386
         ],
         "xaxis": "x",
         "y": [
          -0.006599459844795435
         ],
         "yaxis": "y"
        },
        {
         "hovertemplate": "Area=Pembi<br>Deviance Scores Amount of Fires=%{x}<br>Deviance Scores Soil_Temp=%{y}<extra></extra>",
         "legendgroup": "Pembi",
         "marker": {
          "color": "#FFA15A",
          "symbol": "circle"
         },
         "mode": "markers",
         "name": "Pembi",
         "orientation": "v",
         "showlegend": true,
         "type": "scatter",
         "x": [
          0.000003052408536571253
         ],
         "xaxis": "x",
         "y": [
          -0.0038023694497064976
         ],
         "yaxis": "y"
        },
        {
         "hovertemplate": "Area=Penpahad<br>Deviance Scores Amount of Fires=%{x}<br>Deviance Scores Soil_Temp=%{y}<extra></extra>",
         "legendgroup": "Penpahad",
         "marker": {
          "color": "#19d3f3",
          "symbol": "circle"
         },
         "mode": "markers",
         "name": "Penpahad",
         "orientation": "v",
         "showlegend": true,
         "type": "scatter",
         "x": [
          -0.000026971838649512666
         ],
         "xaxis": "x",
         "y": [
          -0.007544927083536969
         ],
         "yaxis": "y"
        },
        {
         "hovertemplate": "Area=Pentlavelli<br>Deviance Scores Amount of Fires=%{x}<br>Deviance Scores Soil_Temp=%{y}<extra></extra>",
         "legendgroup": "Pentlavelli",
         "marker": {
          "color": "#FF6692",
          "symbol": "circle"
         },
         "mode": "markers",
         "name": "Pentlavelli",
         "orientation": "v",
         "showlegend": true,
         "type": "scatter",
         "x": [
          0.000005596186402192325
         ],
         "xaxis": "x",
         "y": [
          -0.007171935450960285
         ],
         "yaxis": "y"
        },
        {
         "hovertemplate": "Area=Penuballi<br>Deviance Scores Amount of Fires=%{x}<br>Deviance Scores Soil_Temp=%{y}<extra></extra>",
         "legendgroup": "Penuballi",
         "marker": {
          "color": "#B6E880",
          "symbol": "circle"
         },
         "mode": "markers",
         "name": "Penuballi",
         "orientation": "v",
         "showlegend": true,
         "type": "scatter",
         "x": [
          -0.0001711022564306
         ],
         "xaxis": "x",
         "y": [
          -0.0038188504641948158
         ],
         "yaxis": "y"
        },
        {
         "hovertemplate": "Area=Pinapaka<br>Deviance Scores Amount of Fires=%{x}<br>Deviance Scores Soil_Temp=%{y}<extra></extra>",
         "legendgroup": "Pinapaka",
         "marker": {
          "color": "#FF97FF",
          "symbol": "circle"
         },
         "mode": "markers",
         "name": "Pinapaka",
         "orientation": "v",
         "showlegend": true,
         "type": "scatter",
         "x": [
          -0.0002606965616065
         ],
         "xaxis": "x",
         "y": [
          -0.0037880372586915983
         ],
         "yaxis": "y"
        },
        {
         "hovertemplate": "Area=Pudur<br>Deviance Scores Amount of Fires=%{x}<br>Deviance Scores Soil_Temp=%{y}<extra></extra>",
         "legendgroup": "Pudur",
         "marker": {
          "color": "#FECB52",
          "symbol": "circle"
         },
         "mode": "markers",
         "name": "Pudur",
         "orientation": "v",
         "showlegend": true,
         "type": "scatter",
         "x": [
          -0.00004936704781136283
         ],
         "xaxis": "x",
         "y": [
          -0.003227672064778346
         ],
         "yaxis": "y"
        },
        {
         "hovertemplate": "Area=Pulkal<br>Deviance Scores Amount of Fires=%{x}<br>Deviance Scores Soil_Temp=%{y}<extra></extra>",
         "legendgroup": "Pulkal",
         "marker": {
          "color": "#636efa",
          "symbol": "circle"
         },
         "mode": "markers",
         "name": "Pulkal",
         "orientation": "v",
         "showlegend": true,
         "type": "scatter",
         "x": [
          -0.0001100080136459
         ],
         "xaxis": "x",
         "y": [
          -0.004107280909466437
         ],
         "yaxis": "y"
        },
        {
         "hovertemplate": "Area=Raghunadhapalem<br>Deviance Scores Amount of Fires=%{x}<br>Deviance Scores Soil_Temp=%{y}<extra></extra>",
         "legendgroup": "Raghunadhapalem",
         "marker": {
          "color": "#EF553B",
          "symbol": "circle"
         },
         "mode": "markers",
         "name": "Raghunadhapalem",
         "orientation": "v",
         "showlegend": true,
         "type": "scatter",
         "x": [
          -0.000009482521925431817
         ],
         "xaxis": "x",
         "y": [
          -0.0056889508351449574
         ],
         "yaxis": "y"
        },
        {
         "hovertemplate": "Area=Ragunathpally<br>Deviance Scores Amount of Fires=%{x}<br>Deviance Scores Soil_Temp=%{y}<extra></extra>",
         "legendgroup": "Ragunathpally",
         "marker": {
          "color": "#00cc96",
          "symbol": "circle"
         },
         "mode": "markers",
         "name": "Ragunathpally",
         "orientation": "v",
         "showlegend": true,
         "type": "scatter",
         "x": [
          0.000051740032587433466
         ],
         "xaxis": "x",
         "y": [
          -0.005127602830766941
         ],
         "yaxis": "y"
        },
        {
         "hovertemplate": "Area=Raikal<br>Deviance Scores Amount of Fires=%{x}<br>Deviance Scores Soil_Temp=%{y}<extra></extra>",
         "legendgroup": "Raikal",
         "marker": {
          "color": "#ab63fa",
          "symbol": "circle"
         },
         "mode": "markers",
         "name": "Raikal",
         "orientation": "v",
         "showlegend": true,
         "type": "scatter",
         "x": [
          0.0000665475149833428
         ],
         "xaxis": "x",
         "y": [
          -0.004244985406366543
         ],
         "yaxis": "y"
        },
        {
         "hovertemplate": "Area=Raikode<br>Deviance Scores Amount of Fires=%{x}<br>Deviance Scores Soil_Temp=%{y}<extra></extra>",
         "legendgroup": "Raikode",
         "marker": {
          "color": "#FFA15A",
          "symbol": "circle"
         },
         "mode": "markers",
         "name": "Raikode",
         "orientation": "v",
         "showlegend": true,
         "type": "scatter",
         "x": [
          0.00007426234077208052
         ],
         "xaxis": "x",
         "y": [
          -0.005117662530600814
         ],
         "yaxis": "y"
        },
        {
         "hovertemplate": "Area=Raiparthy<br>Deviance Scores Amount of Fires=%{x}<br>Deviance Scores Soil_Temp=%{y}<extra></extra>",
         "legendgroup": "Raiparthy",
         "marker": {
          "color": "#19d3f3",
          "symbol": "circle"
         },
         "mode": "markers",
         "name": "Raiparthy",
         "orientation": "v",
         "showlegend": true,
         "type": "scatter",
         "x": [
          0.000027395613215215613
         ],
         "xaxis": "x",
         "y": [
          -0.005684146458860015
         ],
         "yaxis": "y"
        },
        {
         "hovertemplate": "Area=Raipole<br>Deviance Scores Amount of Fires=%{x}<br>Deviance Scores Soil_Temp=%{y}<extra></extra>",
         "legendgroup": "Raipole",
         "marker": {
          "color": "#FF6692",
          "symbol": "circle"
         },
         "mode": "markers",
         "name": "Raipole",
         "orientation": "v",
         "showlegend": true,
         "type": "scatter",
         "x": [
          0.000012750603887236747
         ],
         "xaxis": "x",
         "y": [
          -0.005663666031286095
         ],
         "yaxis": "y"
        },
        {
         "hovertemplate": "Area=Rajampet<br>Deviance Scores Amount of Fires=%{x}<br>Deviance Scores Soil_Temp=%{y}<extra></extra>",
         "legendgroup": "Rajampet",
         "marker": {
          "color": "#B6E880",
          "symbol": "circle"
         },
         "mode": "markers",
         "name": "Rajampet",
         "orientation": "v",
         "showlegend": true,
         "type": "scatter",
         "x": [
          0.00003021581978214897
         ],
         "xaxis": "x",
         "y": [
          -0.0064213777842186395
         ],
         "yaxis": "y"
        },
        {
         "hovertemplate": "Area=Rajapeta<br>Deviance Scores Amount of Fires=%{x}<br>Deviance Scores Soil_Temp=%{y}<extra></extra>",
         "legendgroup": "Rajapeta",
         "marker": {
          "color": "#FF97FF",
          "symbol": "circle"
         },
         "mode": "markers",
         "name": "Rajapeta",
         "orientation": "v",
         "showlegend": true,
         "type": "scatter",
         "x": [
          0.000034517723637112446
         ],
         "xaxis": "x",
         "y": [
          -0.005842940786796551
         ],
         "yaxis": "y"
        },
        {
         "hovertemplate": "Area=Rajapur<br>Deviance Scores Amount of Fires=%{x}<br>Deviance Scores Soil_Temp=%{y}<extra></extra>",
         "legendgroup": "Rajapur",
         "marker": {
          "color": "#FECB52",
          "symbol": "circle"
         },
         "mode": "markers",
         "name": "Rajapur",
         "orientation": "v",
         "showlegend": true,
         "type": "scatter",
         "x": [
          -0.000032719790878835366
         ],
         "xaxis": "x",
         "y": [
          -0.006264585563497967
         ],
         "yaxis": "y"
        },
        {
         "hovertemplate": "Area=Ramachandrapuram<br>Deviance Scores Amount of Fires=%{x}<br>Deviance Scores Soil_Temp=%{y}<extra></extra>",
         "legendgroup": "Ramachandrapuram",
         "marker": {
          "color": "#636efa",
          "symbol": "circle"
         },
         "mode": "markers",
         "name": "Ramachandrapuram",
         "orientation": "v",
         "showlegend": true,
         "type": "scatter",
         "x": [
          0.00004509950191162576
         ],
         "xaxis": "x",
         "y": [
          -0.005045196157542912
         ],
         "yaxis": "y"
        },
        {
         "hovertemplate": "Area=Ramadugu<br>Deviance Scores Amount of Fires=%{x}<br>Deviance Scores Soil_Temp=%{y}<extra></extra>",
         "legendgroup": "Ramadugu",
         "marker": {
          "color": "#EF553B",
          "symbol": "circle"
         },
         "mode": "markers",
         "name": "Ramadugu",
         "orientation": "v",
         "showlegend": true,
         "type": "scatter",
         "x": [
          0.000005120011121720818
         ],
         "xaxis": "x",
         "y": [
          -0.00648375549857601
         ],
         "yaxis": "y"
        },
        {
         "hovertemplate": "Area=Ramagiri<br>Deviance Scores Amount of Fires=%{x}<br>Deviance Scores Soil_Temp=%{y}<extra></extra>",
         "legendgroup": "Ramagiri",
         "marker": {
          "color": "#00cc96",
          "symbol": "circle"
         },
         "mode": "markers",
         "name": "Ramagiri",
         "orientation": "v",
         "showlegend": true,
         "type": "scatter",
         "x": [
          -0.000022375313447833693
         ],
         "xaxis": "x",
         "y": [
          -0.005154872974056284
         ],
         "yaxis": "y"
        },
        {
         "hovertemplate": "Area=Ramagundam<br>Deviance Scores Amount of Fires=%{x}<br>Deviance Scores Soil_Temp=%{y}<extra></extra>",
         "legendgroup": "Ramagundam",
         "marker": {
          "color": "#ab63fa",
          "symbol": "circle"
         },
         "mode": "markers",
         "name": "Ramagundam",
         "orientation": "v",
         "showlegend": true,
         "type": "scatter",
         "x": [
          0.000017651655697642007
         ],
         "xaxis": "x",
         "y": [
          -0.0037038258052684995
         ],
         "yaxis": "y"
        },
        {
         "hovertemplate": "Area=Ramannapet<br>Deviance Scores Amount of Fires=%{x}<br>Deviance Scores Soil_Temp=%{y}<extra></extra>",
         "legendgroup": "Ramannapet",
         "marker": {
          "color": "#FFA15A",
          "symbol": "circle"
         },
         "mode": "markers",
         "name": "Ramannapet",
         "orientation": "v",
         "showlegend": true,
         "type": "scatter",
         "x": [
          0.0001205662224426
         ],
         "xaxis": "x",
         "y": [
          -0.006436664183369546
         ],
         "yaxis": "y"
        },
        {
         "hovertemplate": "Area=Ramareddy<br>Deviance Scores Amount of Fires=%{x}<br>Deviance Scores Soil_Temp=%{y}<extra></extra>",
         "legendgroup": "Ramareddy",
         "marker": {
          "color": "#19d3f3",
          "symbol": "circle"
         },
         "mode": "markers",
         "name": "Ramareddy",
         "orientation": "v",
         "showlegend": true,
         "type": "scatter",
         "x": [
          -0.00002482869266353484
         ],
         "xaxis": "x",
         "y": [
          -0.005052952221783935
         ],
         "yaxis": "y"
        },
        {
         "hovertemplate": "Area=Ramayampet<br>Deviance Scores Amount of Fires=%{x}<br>Deviance Scores Soil_Temp=%{y}<extra></extra>",
         "legendgroup": "Ramayampet",
         "marker": {
          "color": "#FF6692",
          "symbol": "circle"
         },
         "mode": "markers",
         "name": "Ramayampet",
         "orientation": "v",
         "showlegend": true,
         "type": "scatter",
         "x": [
          -0.0000013655481026293011
         ],
         "xaxis": "x",
         "y": [
          -0.004955684176312092
         ],
         "yaxis": "y"
        },
        {
         "hovertemplate": "Area=Rebbena<br>Deviance Scores Amount of Fires=%{x}<br>Deviance Scores Soil_Temp=%{y}<extra></extra>",
         "legendgroup": "Rebbena",
         "marker": {
          "color": "#B6E880",
          "symbol": "circle"
         },
         "mode": "markers",
         "name": "Rebbena",
         "orientation": "v",
         "showlegend": true,
         "type": "scatter",
         "x": [
          0.00001542597998483911
         ],
         "xaxis": "x",
         "y": [
          -0.003924141908135375
         ],
         "yaxis": "y"
        },
        {
         "hovertemplate": "Area=Regode<br>Deviance Scores Amount of Fires=%{x}<br>Deviance Scores Soil_Temp=%{y}<extra></extra>",
         "legendgroup": "Regode",
         "marker": {
          "color": "#FF97FF",
          "symbol": "circle"
         },
         "mode": "markers",
         "name": "Regode",
         "orientation": "v",
         "showlegend": true,
         "type": "scatter",
         "x": [
          0.00005655049811836548
         ],
         "xaxis": "x",
         "y": [
          -0.00419191617399107
         ],
         "yaxis": "y"
        },
        {
         "hovertemplate": "Area=Regonda<br>Deviance Scores Amount of Fires=%{x}<br>Deviance Scores Soil_Temp=%{y}<extra></extra>",
         "legendgroup": "Regonda",
         "marker": {
          "color": "#FECB52",
          "symbol": "circle"
         },
         "mode": "markers",
         "name": "Regonda",
         "orientation": "v",
         "showlegend": true,
         "type": "scatter",
         "x": [
          -0.000120320498386
         ],
         "xaxis": "x",
         "y": [
          -0.004522383045346971
         ],
         "yaxis": "y"
        },
        {
         "hovertemplate": "Area=Renjal<br>Deviance Scores Amount of Fires=%{x}<br>Deviance Scores Soil_Temp=%{y}<extra></extra>",
         "legendgroup": "Renjal",
         "marker": {
          "color": "#636efa",
          "symbol": "circle"
         },
         "mode": "markers",
         "name": "Renjal",
         "orientation": "v",
         "showlegend": true,
         "type": "scatter",
         "x": [
          0.0001011757347157
         ],
         "xaxis": "x",
         "y": [
          -0.006921147462772342
         ],
         "yaxis": "y"
        },
        {
         "hovertemplate": "Area=Sadashivnagar<br>Deviance Scores Amount of Fires=%{x}<br>Deviance Scores Soil_Temp=%{y}<extra></extra>",
         "legendgroup": "Sadashivnagar",
         "marker": {
          "color": "#EF553B",
          "symbol": "circle"
         },
         "mode": "markers",
         "name": "Sadashivnagar",
         "orientation": "v",
         "showlegend": true,
         "type": "scatter",
         "x": [
          0.0001494729932344
         ],
         "xaxis": "x",
         "y": [
          -0.004376733964993506
         ],
         "yaxis": "y"
        },
        {
         "hovertemplate": "Area=Sadasivpet<br>Deviance Scores Amount of Fires=%{x}<br>Deviance Scores Soil_Temp=%{y}<extra></extra>",
         "legendgroup": "Sadasivpet",
         "marker": {
          "color": "#00cc96",
          "symbol": "circle"
         },
         "mode": "markers",
         "name": "Sadasivpet",
         "orientation": "v",
         "showlegend": true,
         "type": "scatter",
         "x": [
          -0.000037959200630275055
         ],
         "xaxis": "x",
         "y": [
          -0.003078157377918381
         ],
         "yaxis": "y"
        },
        {
         "hovertemplate": "Area=Sangareddy<br>Deviance Scores Amount of Fires=%{x}<br>Deviance Scores Soil_Temp=%{y}<extra></extra>",
         "legendgroup": "Sangareddy",
         "marker": {
          "color": "#ab63fa",
          "symbol": "circle"
         },
         "mode": "markers",
         "name": "Sangareddy",
         "orientation": "v",
         "showlegend": true,
         "type": "scatter",
         "x": [
          0.000035217037061190534
         ],
         "xaxis": "x",
         "y": [
          -0.0044512733731154
         ],
         "yaxis": "y"
        },
        {
         "hovertemplate": "Area=Sangem<br>Deviance Scores Amount of Fires=%{x}<br>Deviance Scores Soil_Temp=%{y}<extra></extra>",
         "legendgroup": "Sangem",
         "marker": {
          "color": "#FFA15A",
          "symbol": "circle"
         },
         "mode": "markers",
         "name": "Sangem",
         "orientation": "v",
         "showlegend": true,
         "type": "scatter",
         "x": [
          -0.00009143604385468668
         ],
         "xaxis": "x",
         "y": [
          -0.003130890111878635
         ],
         "yaxis": "y"
        },
        {
         "hovertemplate": "Area=Sarangapur<br>Deviance Scores Amount of Fires=%{x}<br>Deviance Scores Soil_Temp=%{y}<extra></extra>",
         "legendgroup": "Sarangapur",
         "marker": {
          "color": "#19d3f3",
          "symbol": "circle"
         },
         "mode": "markers",
         "name": "Sarangapur",
         "orientation": "v",
         "showlegend": true,
         "type": "scatter",
         "x": [
          0.00007804192547450315,
          -0.0001749750508293
         ],
         "xaxis": "x",
         "y": [
          -0.004615284004135958,
          -0.004497245085736421
         ],
         "yaxis": "y"
        },
        {
         "hovertemplate": "Area=Sathupally<br>Deviance Scores Amount of Fires=%{x}<br>Deviance Scores Soil_Temp=%{y}<extra></extra>",
         "legendgroup": "Sathupally",
         "marker": {
          "color": "#FF6692",
          "symbol": "circle"
         },
         "mode": "markers",
         "name": "Sathupally",
         "orientation": "v",
         "showlegend": true,
         "type": "scatter",
         "x": [
          -0.0001074734654008
         ],
         "xaxis": "x",
         "y": [
          -0.003004346815170302
         ],
         "yaxis": "y"
        },
        {
         "hovertemplate": "Area=Serilingampalle<br>Deviance Scores Amount of Fires=%{x}<br>Deviance Scores Soil_Temp=%{y}<extra></extra>",
         "legendgroup": "Serilingampalle",
         "marker": {
          "color": "#B6E880",
          "symbol": "circle"
         },
         "mode": "markers",
         "name": "Serilingampalle",
         "orientation": "v",
         "showlegend": true,
         "type": "scatter",
         "x": [
          -0.000008287801934868748
         ],
         "xaxis": "x",
         "y": [
          -0.004291191999147648
         ],
         "yaxis": "y"
        },
        {
         "hovertemplate": "Area=Shabad<br>Deviance Scores Amount of Fires=%{x}<br>Deviance Scores Soil_Temp=%{y}<extra></extra>",
         "legendgroup": "Shabad",
         "marker": {
          "color": "#FF97FF",
          "symbol": "circle"
         },
         "mode": "markers",
         "name": "Shabad",
         "orientation": "v",
         "showlegend": true,
         "type": "scatter",
         "x": [
          0.00007939709797717111
         ],
         "xaxis": "x",
         "y": [
          -0.005333672294941218
         ],
         "yaxis": "y"
        },
        {
         "hovertemplate": "Area=Shaligouraram<br>Deviance Scores Amount of Fires=%{x}<br>Deviance Scores Soil_Temp=%{y}<extra></extra>",
         "legendgroup": "Shaligouraram",
         "marker": {
          "color": "#FECB52",
          "symbol": "circle"
         },
         "mode": "markers",
         "name": "Shaligouraram",
         "orientation": "v",
         "showlegend": true,
         "type": "scatter",
         "x": [
          0.00004366393935261335
         ],
         "xaxis": "x",
         "y": [
          -0.007245896587457383
         ],
         "yaxis": "y"
        },
        {
         "hovertemplate": "Area=Shamirpet<br>Deviance Scores Amount of Fires=%{x}<br>Deviance Scores Soil_Temp=%{y}<extra></extra>",
         "legendgroup": "Shamirpet",
         "marker": {
          "color": "#636efa",
          "symbol": "circle"
         },
         "mode": "markers",
         "name": "Shamirpet",
         "orientation": "v",
         "showlegend": true,
         "type": "scatter",
         "x": [
          0.000026482843910700136
         ],
         "xaxis": "x",
         "y": [
          -0.005217639807307215
         ],
         "yaxis": "y"
        },
        {
         "hovertemplate": "Area=Shamshabad<br>Deviance Scores Amount of Fires=%{x}<br>Deviance Scores Soil_Temp=%{y}<extra></extra>",
         "legendgroup": "Shamshabad",
         "marker": {
          "color": "#EF553B",
          "symbol": "circle"
         },
         "mode": "markers",
         "name": "Shamshabad",
         "orientation": "v",
         "showlegend": true,
         "type": "scatter",
         "x": [
          0.00005814672865933985
         ],
         "xaxis": "x",
         "y": [
          -0.0049234286156498745
         ],
         "yaxis": "y"
        },
        {
         "hovertemplate": "Area=Shankarampet_A<br>Deviance Scores Amount of Fires=%{x}<br>Deviance Scores Soil_Temp=%{y}<extra></extra>",
         "legendgroup": "Shankarampet_A",
         "marker": {
          "color": "#00cc96",
          "symbol": "circle"
         },
         "mode": "markers",
         "name": "Shankarampet_A",
         "orientation": "v",
         "showlegend": true,
         "type": "scatter",
         "x": [
          -0.0000482193067374245
         ],
         "xaxis": "x",
         "y": [
          -0.005634134624688865
         ],
         "yaxis": "y"
        },
        {
         "hovertemplate": "Area=Shankarapatnam<br>Deviance Scores Amount of Fires=%{x}<br>Deviance Scores Soil_Temp=%{y}<extra></extra>",
         "legendgroup": "Shankarapatnam",
         "marker": {
          "color": "#ab63fa",
          "symbol": "circle"
         },
         "mode": "markers",
         "name": "Shankarapatnam",
         "orientation": "v",
         "showlegend": true,
         "type": "scatter",
         "x": [
          0.0001192532400627
         ],
         "xaxis": "x",
         "y": [
          -0.007617768992950586
         ],
         "yaxis": "y"
        },
        {
         "hovertemplate": "Area=Shankarpalle<br>Deviance Scores Amount of Fires=%{x}<br>Deviance Scores Soil_Temp=%{y}<extra></extra>",
         "legendgroup": "Shankarpalle",
         "marker": {
          "color": "#FFA15A",
          "symbol": "circle"
         },
         "mode": "markers",
         "name": "Shankarpalle",
         "orientation": "v",
         "showlegend": true,
         "type": "scatter",
         "x": [
          0.0001936495096025
         ],
         "xaxis": "x",
         "y": [
          -0.0031629428346196197
         ],
         "yaxis": "y"
        },
        {
         "hovertemplate": "Area=Shayampet<br>Deviance Scores Amount of Fires=%{x}<br>Deviance Scores Soil_Temp=%{y}<extra></extra>",
         "legendgroup": "Shayampet",
         "marker": {
          "color": "#19d3f3",
          "symbol": "circle"
         },
         "mode": "markers",
         "name": "Shayampet",
         "orientation": "v",
         "showlegend": true,
         "type": "scatter",
         "x": [
          0.000033689119842719253
         ],
         "xaxis": "x",
         "y": [
          -0.0050151298845145355
         ],
         "yaxis": "y"
        },
        {
         "hovertemplate": "Area=Shivampet<br>Deviance Scores Amount of Fires=%{x}<br>Deviance Scores Soil_Temp=%{y}<extra></extra>",
         "legendgroup": "Shivampet",
         "marker": {
          "color": "#FF6692",
          "symbol": "circle"
         },
         "mode": "markers",
         "name": "Shivampet",
         "orientation": "v",
         "showlegend": true,
         "type": "scatter",
         "x": [
          0.00000922809046634338
         ],
         "xaxis": "x",
         "y": [
          -0.004517898164638277
         ],
         "yaxis": "y"
        },
        {
         "hovertemplate": "Area=Siddipet_Urban<br>Deviance Scores Amount of Fires=%{x}<br>Deviance Scores Soil_Temp=%{y}<extra></extra>",
         "legendgroup": "Siddipet_Urban",
         "marker": {
          "color": "#B6E880",
          "symbol": "circle"
         },
         "mode": "markers",
         "name": "Siddipet_Urban",
         "orientation": "v",
         "showlegend": true,
         "type": "scatter",
         "x": [
          0.000006150073626370578
         ],
         "xaxis": "x",
         "y": [
          -0.005279688026880763
         ],
         "yaxis": "y"
        },
        {
         "hovertemplate": "Area=Singareni<br>Deviance Scores Amount of Fires=%{x}<br>Deviance Scores Soil_Temp=%{y}<extra></extra>",
         "legendgroup": "Singareni",
         "marker": {
          "color": "#FF97FF",
          "symbol": "circle"
         },
         "mode": "markers",
         "name": "Singareni",
         "orientation": "v",
         "showlegend": true,
         "type": "scatter",
         "x": [
          1.3027195471269618e-7
         ],
         "xaxis": "x",
         "y": [
          -0.005221925640233405
         ],
         "yaxis": "y"
        },
        {
         "hovertemplate": "Area=Sirgapoor<br>Deviance Scores Amount of Fires=%{x}<br>Deviance Scores Soil_Temp=%{y}<extra></extra>",
         "legendgroup": "Sirgapoor",
         "marker": {
          "color": "#FECB52",
          "symbol": "circle"
         },
         "mode": "markers",
         "name": "Sirgapoor",
         "orientation": "v",
         "showlegend": true,
         "type": "scatter",
         "x": [
          -0.000025377399616189123
         ],
         "xaxis": "x",
         "y": [
          -0.005005626674963655
         ],
         "yaxis": "y"
        },
        {
         "hovertemplate": "Area=Sirikonda<br>Deviance Scores Amount of Fires=%{x}<br>Deviance Scores Soil_Temp=%{y}<extra></extra>",
         "legendgroup": "Sirikonda",
         "marker": {
          "color": "#636efa",
          "symbol": "circle"
         },
         "mode": "markers",
         "name": "Sirikonda",
         "orientation": "v",
         "showlegend": true,
         "type": "scatter",
         "x": [
          0.000018112743783797907,
          -0.000023911843619322076
         ],
         "xaxis": "x",
         "y": [
          -0.003395214997123569,
          -0.005155796103291089
         ],
         "yaxis": "y"
        },
        {
         "hovertemplate": "Area=Sirpur_T<br>Deviance Scores Amount of Fires=%{x}<br>Deviance Scores Soil_Temp=%{y}<extra></extra>",
         "legendgroup": "Sirpur_T",
         "marker": {
          "color": "#EF553B",
          "symbol": "circle"
         },
         "mode": "markers",
         "name": "Sirpur_T",
         "orientation": "v",
         "showlegend": true,
         "type": "scatter",
         "x": [
          0.00003231154143034139
         ],
         "xaxis": "x",
         "y": [
          -0.0036577400933455193
         ],
         "yaxis": "y"
        },
        {
         "hovertemplate": "Area=Soan<br>Deviance Scores Amount of Fires=%{x}<br>Deviance Scores Soil_Temp=%{y}<extra></extra>",
         "legendgroup": "Soan",
         "marker": {
          "color": "#00cc96",
          "symbol": "circle"
         },
         "mode": "markers",
         "name": "Soan",
         "orientation": "v",
         "showlegend": true,
         "type": "scatter",
         "x": [
          -0.00002113702290492296
         ],
         "xaxis": "x",
         "y": [
          -0.0055042710612625756
         ],
         "yaxis": "y"
        },
        {
         "hovertemplate": "Area=Srirampur<br>Deviance Scores Amount of Fires=%{x}<br>Deviance Scores Soil_Temp=%{y}<extra></extra>",
         "legendgroup": "Srirampur",
         "marker": {
          "color": "#ab63fa",
          "symbol": "circle"
         },
         "mode": "markers",
         "name": "Srirampur",
         "orientation": "v",
         "showlegend": true,
         "type": "scatter",
         "x": [
          0.00009493288112366872
         ],
         "xaxis": "x",
         "y": [
          -0.0053656011300102485
         ],
         "yaxis": "y"
        },
        {
         "hovertemplate": "Area=Srirangapur<br>Deviance Scores Amount of Fires=%{x}<br>Deviance Scores Soil_Temp=%{y}<extra></extra>",
         "legendgroup": "Srirangapur",
         "marker": {
          "color": "#FFA15A",
          "symbol": "circle"
         },
         "mode": "markers",
         "name": "Srirangapur",
         "orientation": "v",
         "showlegend": true,
         "type": "scatter",
         "x": [
          0.000004359996971280374
         ],
         "xaxis": "x",
         "y": [
          -0.006174249446781061
         ],
         "yaxis": "y"
        },
        {
         "hovertemplate": "Area=Sultanabad<br>Deviance Scores Amount of Fires=%{x}<br>Deviance Scores Soil_Temp=%{y}<extra></extra>",
         "legendgroup": "Sultanabad",
         "marker": {
          "color": "#19d3f3",
          "symbol": "circle"
         },
         "mode": "markers",
         "name": "Sultanabad",
         "orientation": "v",
         "showlegend": true,
         "type": "scatter",
         "x": [
          0.00008213022514471242
         ],
         "xaxis": "x",
         "y": [
          -0.006669203432305223
         ],
         "yaxis": "y"
        },
        {
         "hovertemplate": "Area=Suryapet<br>Deviance Scores Amount of Fires=%{x}<br>Deviance Scores Soil_Temp=%{y}<extra></extra>",
         "legendgroup": "Suryapet",
         "marker": {
          "color": "#FF6692",
          "symbol": "circle"
         },
         "mode": "markers",
         "name": "Suryapet",
         "orientation": "v",
         "showlegend": true,
         "type": "scatter",
         "x": [
          -0.00001355888212096692
         ],
         "xaxis": "x",
         "y": [
          -0.007696721062443967
         ],
         "yaxis": "y"
        },
        {
         "hovertemplate": "Area=Tadoor<br>Deviance Scores Amount of Fires=%{x}<br>Deviance Scores Soil_Temp=%{y}<extra></extra>",
         "legendgroup": "Tadoor",
         "marker": {
          "color": "#B6E880",
          "symbol": "circle"
         },
         "mode": "markers",
         "name": "Tadoor",
         "orientation": "v",
         "showlegend": true,
         "type": "scatter",
         "x": [
          -0.00003527823299252821
         ],
         "xaxis": "x",
         "y": [
          -0.007685682831922779
         ],
         "yaxis": "y"
        },
        {
         "hovertemplate": "Area=Tadvai (Sammakka Sarakka)<br>Deviance Scores Amount of Fires=%{x}<br>Deviance Scores Soil_Temp=%{y}<extra></extra>",
         "legendgroup": "Tadvai (Sammakka Sarakka)",
         "marker": {
          "color": "#FF97FF",
          "symbol": "circle"
         },
         "mode": "markers",
         "name": "Tadvai (Sammakka Sarakka)",
         "orientation": "v",
         "showlegend": true,
         "type": "scatter",
         "x": [
          0.000004342904422294399
         ],
         "xaxis": "x",
         "y": [
          -0.002087851827668412
         ],
         "yaxis": "y"
        },
        {
         "hovertemplate": "Area=Tadwai<br>Deviance Scores Amount of Fires=%{x}<br>Deviance Scores Soil_Temp=%{y}<extra></extra>",
         "legendgroup": "Tadwai",
         "marker": {
          "color": "#FECB52",
          "symbol": "circle"
         },
         "mode": "markers",
         "name": "Tadwai",
         "orientation": "v",
         "showlegend": true,
         "type": "scatter",
         "x": [
          0.0002024220159065
         ],
         "xaxis": "x",
         "y": [
          -0.005317235089527746
         ],
         "yaxis": "y"
        },
        {
         "hovertemplate": "Area=Talakondapally<br>Deviance Scores Amount of Fires=%{x}<br>Deviance Scores Soil_Temp=%{y}<extra></extra>",
         "legendgroup": "Talakondapally",
         "marker": {
          "color": "#636efa",
          "symbol": "circle"
         },
         "mode": "markers",
         "name": "Talakondapally",
         "orientation": "v",
         "showlegend": true,
         "type": "scatter",
         "x": [
          -0.000007865003352574705
         ],
         "xaxis": "x",
         "y": [
          -0.006075438453638419
         ],
         "yaxis": "y"
        },
        {
         "hovertemplate": "Area=Talamadugu<br>Deviance Scores Amount of Fires=%{x}<br>Deviance Scores Soil_Temp=%{y}<extra></extra>",
         "legendgroup": "Talamadugu",
         "marker": {
          "color": "#EF553B",
          "symbol": "circle"
         },
         "mode": "markers",
         "name": "Talamadugu",
         "orientation": "v",
         "showlegend": true,
         "type": "scatter",
         "x": [
          -0.00001345527126152698
         ],
         "xaxis": "x",
         "y": [
          -0.002607846538039488
         ],
         "yaxis": "y"
        },
        {
         "hovertemplate": "Area=Tandur<br>Deviance Scores Amount of Fires=%{x}<br>Deviance Scores Soil_Temp=%{y}<extra></extra>",
         "legendgroup": "Tandur",
         "marker": {
          "color": "#00cc96",
          "symbol": "circle"
         },
         "mode": "markers",
         "name": "Tandur",
         "orientation": "v",
         "showlegend": true,
         "type": "scatter",
         "x": [
          0.00008306571913164499,
          0.00003518717850394755
         ],
         "xaxis": "x",
         "y": [
          -0.004402614609731876,
          -0.0037044978490803036
         ],
         "yaxis": "y"
        },
        {
         "hovertemplate": "Area=Tekmal<br>Deviance Scores Amount of Fires=%{x}<br>Deviance Scores Soil_Temp=%{y}<extra></extra>",
         "legendgroup": "Tekmal",
         "marker": {
          "color": "#ab63fa",
          "symbol": "circle"
         },
         "mode": "markers",
         "name": "Tekmal",
         "orientation": "v",
         "showlegend": true,
         "type": "scatter",
         "x": [
          0.0001156570268019
         ],
         "xaxis": "x",
         "y": [
          -0.004999360434129935
         ],
         "yaxis": "y"
        },
        {
         "hovertemplate": "Area=Tekulapalle<br>Deviance Scores Amount of Fires=%{x}<br>Deviance Scores Soil_Temp=%{y}<extra></extra>",
         "legendgroup": "Tekulapalle",
         "marker": {
          "color": "#FFA15A",
          "symbol": "circle"
         },
         "mode": "markers",
         "name": "Tekulapalle",
         "orientation": "v",
         "showlegend": true,
         "type": "scatter",
         "x": [
          -0.0003248738174454
         ],
         "xaxis": "x",
         "y": [
          -0.003378547848577664
         ],
         "yaxis": "y"
        },
        {
         "hovertemplate": "Area=Tekumatla<br>Deviance Scores Amount of Fires=%{x}<br>Deviance Scores Soil_Temp=%{y}<extra></extra>",
         "legendgroup": "Tekumatla",
         "marker": {
          "color": "#19d3f3",
          "symbol": "circle"
         },
         "mode": "markers",
         "name": "Tekumatla",
         "orientation": "v",
         "showlegend": true,
         "type": "scatter",
         "x": [
          0.000006758743038396768
         ],
         "xaxis": "x",
         "y": [
          -0.004756212120760612
         ],
         "yaxis": "y"
        },
        {
         "hovertemplate": "Area=Telkapalle<br>Deviance Scores Amount of Fires=%{x}<br>Deviance Scores Soil_Temp=%{y}<extra></extra>",
         "legendgroup": "Telkapalle",
         "marker": {
          "color": "#FF6692",
          "symbol": "circle"
         },
         "mode": "markers",
         "name": "Telkapalle",
         "orientation": "v",
         "showlegend": true,
         "type": "scatter",
         "x": [
          -0.00003482605226689818
         ],
         "xaxis": "x",
         "y": [
          -0.007442172874443705
         ],
         "yaxis": "y"
        },
        {
         "hovertemplate": "Area=Thallada<br>Deviance Scores Amount of Fires=%{x}<br>Deviance Scores Soil_Temp=%{y}<extra></extra>",
         "legendgroup": "Thallada",
         "marker": {
          "color": "#B6E880",
          "symbol": "circle"
         },
         "mode": "markers",
         "name": "Thallada",
         "orientation": "v",
         "showlegend": true,
         "type": "scatter",
         "x": [
          0.00000400333852174084
         ],
         "xaxis": "x",
         "y": [
          -0.006001886788447135
         ],
         "yaxis": "y"
        },
        {
         "hovertemplate": "Area=Thangallapalli<br>Deviance Scores Amount of Fires=%{x}<br>Deviance Scores Soil_Temp=%{y}<extra></extra>",
         "legendgroup": "Thangallapalli",
         "marker": {
          "color": "#FF97FF",
          "symbol": "circle"
         },
         "mode": "markers",
         "name": "Thangallapalli",
         "orientation": "v",
         "showlegend": true,
         "type": "scatter",
         "x": [
          -0.00005365765604198426
         ],
         "xaxis": "x",
         "y": [
          -0.005815866387325793
         ],
         "yaxis": "y"
        },
        {
         "hovertemplate": "Area=Tharigoppula<br>Deviance Scores Amount of Fires=%{x}<br>Deviance Scores Soil_Temp=%{y}<extra></extra>",
         "legendgroup": "Tharigoppula",
         "marker": {
          "color": "#FECB52",
          "symbol": "circle"
         },
         "mode": "markers",
         "name": "Tharigoppula",
         "orientation": "v",
         "showlegend": true,
         "type": "scatter",
         "x": [
          -0.0000017976100051382666
         ],
         "xaxis": "x",
         "y": [
          -0.004412998243765009
         ],
         "yaxis": "y"
        },
        {
         "hovertemplate": "Area=Thimmajipeta<br>Deviance Scores Amount of Fires=%{x}<br>Deviance Scores Soil_Temp=%{y}<extra></extra>",
         "legendgroup": "Thimmajipeta",
         "marker": {
          "color": "#636efa",
          "symbol": "circle"
         },
         "mode": "markers",
         "name": "Thimmajipeta",
         "orientation": "v",
         "showlegend": true,
         "type": "scatter",
         "x": [
          -0.000034097304851989534
         ],
         "xaxis": "x",
         "y": [
          -0.007400339932474068
         ],
         "yaxis": "y"
        },
        {
         "hovertemplate": "Area=Thimmapur<br>Deviance Scores Amount of Fires=%{x}<br>Deviance Scores Soil_Temp=%{y}<extra></extra>",
         "legendgroup": "Thimmapur",
         "marker": {
          "color": "#EF553B",
          "symbol": "circle"
         },
         "mode": "markers",
         "name": "Thimmapur",
         "orientation": "v",
         "showlegend": true,
         "type": "scatter",
         "x": [
          -0.000014576876198627327
         ],
         "xaxis": "x",
         "y": [
          -0.008393510870978166
         ],
         "yaxis": "y"
        },
        {
         "hovertemplate": "Area=Thoguta<br>Deviance Scores Amount of Fires=%{x}<br>Deviance Scores Soil_Temp=%{y}<extra></extra>",
         "legendgroup": "Thoguta",
         "marker": {
          "color": "#00cc96",
          "symbol": "circle"
         },
         "mode": "markers",
         "name": "Thoguta",
         "orientation": "v",
         "showlegend": true,
         "type": "scatter",
         "x": [
          0.0000431505776064982
         ],
         "xaxis": "x",
         "y": [
          -0.005387743486647228
         ],
         "yaxis": "y"
        },
        {
         "hovertemplate": "Area=Thorrur<br>Deviance Scores Amount of Fires=%{x}<br>Deviance Scores Soil_Temp=%{y}<extra></extra>",
         "legendgroup": "Thorrur",
         "marker": {
          "color": "#ab63fa",
          "symbol": "circle"
         },
         "mode": "markers",
         "name": "Thorrur",
         "orientation": "v",
         "showlegend": true,
         "type": "scatter",
         "x": [
          0.0001117809068782
         ],
         "xaxis": "x",
         "y": [
          -0.006085485772530808
         ],
         "yaxis": "y"
        },
        {
         "hovertemplate": "Area=Tipparthy<br>Deviance Scores Amount of Fires=%{x}<br>Deviance Scores Soil_Temp=%{y}<extra></extra>",
         "legendgroup": "Tipparthy",
         "marker": {
          "color": "#FFA15A",
          "symbol": "circle"
         },
         "mode": "markers",
         "name": "Tipparthy",
         "orientation": "v",
         "showlegend": true,
         "type": "scatter",
         "x": [
          0.000004455512674712861
         ],
         "xaxis": "x",
         "y": [
          -0.006643207433323904
         ],
         "yaxis": "y"
        },
        {
         "hovertemplate": "Area=Tirumalayapalem<br>Deviance Scores Amount of Fires=%{x}<br>Deviance Scores Soil_Temp=%{y}<extra></extra>",
         "legendgroup": "Tirumalayapalem",
         "marker": {
          "color": "#19d3f3",
          "symbol": "circle"
         },
         "mode": "markers",
         "name": "Tirumalayapalem",
         "orientation": "v",
         "showlegend": true,
         "type": "scatter",
         "x": [
          0.000012567332618338966
         ],
         "xaxis": "x",
         "y": [
          -0.007153546863310991
         ],
         "yaxis": "y"
        },
        {
         "hovertemplate": "Area=Tiryani<br>Deviance Scores Amount of Fires=%{x}<br>Deviance Scores Soil_Temp=%{y}<extra></extra>",
         "legendgroup": "Tiryani",
         "marker": {
          "color": "#FF6692",
          "symbol": "circle"
         },
         "mode": "markers",
         "name": "Tiryani",
         "orientation": "v",
         "showlegend": true,
         "type": "scatter",
         "x": [
          0.00002312797010352721
         ],
         "xaxis": "x",
         "y": [
          -0.0032862442110279276
         ],
         "yaxis": "y"
        },
        {
         "hovertemplate": "Area=Tripuraram<br>Deviance Scores Amount of Fires=%{x}<br>Deviance Scores Soil_Temp=%{y}<extra></extra>",
         "legendgroup": "Tripuraram",
         "marker": {
          "color": "#B6E880",
          "symbol": "circle"
         },
         "mode": "markers",
         "name": "Tripuraram",
         "orientation": "v",
         "showlegend": true,
         "type": "scatter",
         "x": [
          -0.00001799930607415923
         ],
         "xaxis": "x",
         "y": [
          -0.005027106750462428
         ],
         "yaxis": "y"
        },
        {
         "hovertemplate": "Area=Turkapalle_M<br>Deviance Scores Amount of Fires=%{x}<br>Deviance Scores Soil_Temp=%{y}<extra></extra>",
         "legendgroup": "Turkapalle_M",
         "marker": {
          "color": "#FF97FF",
          "symbol": "circle"
         },
         "mode": "markers",
         "name": "Turkapalle_M",
         "orientation": "v",
         "showlegend": true,
         "type": "scatter",
         "x": [
          0.0000565189865253851
         ],
         "xaxis": "x",
         "y": [
          -0.006069408081322291
         ],
         "yaxis": "y"
        },
        {
         "hovertemplate": "Area=Undavelly<br>Deviance Scores Amount of Fires=%{x}<br>Deviance Scores Soil_Temp=%{y}<extra></extra>",
         "legendgroup": "Undavelly",
         "marker": {
          "color": "#FECB52",
          "symbol": "circle"
         },
         "mode": "markers",
         "name": "Undavelly",
         "orientation": "v",
         "showlegend": true,
         "type": "scatter",
         "x": [
          0.00003682605192298657
         ],
         "xaxis": "x",
         "y": [
          -0.007395717689783269
         ],
         "yaxis": "y"
        },
        {
         "hovertemplate": "Area=Urkonda<br>Deviance Scores Amount of Fires=%{x}<br>Deviance Scores Soil_Temp=%{y}<extra></extra>",
         "legendgroup": "Urkonda",
         "marker": {
          "color": "#636efa",
          "symbol": "circle"
         },
         "mode": "markers",
         "name": "Urkonda",
         "orientation": "v",
         "showlegend": true,
         "type": "scatter",
         "x": [
          0.00009054780651405844
         ],
         "xaxis": "x",
         "y": [
          -0.0059167510730316515
         ],
         "yaxis": "y"
        },
        {
         "hovertemplate": "Area=Utnur<br>Deviance Scores Amount of Fires=%{x}<br>Deviance Scores Soil_Temp=%{y}<extra></extra>",
         "legendgroup": "Utnur",
         "marker": {
          "color": "#EF553B",
          "symbol": "circle"
         },
         "mode": "markers",
         "name": "Utnur",
         "orientation": "v",
         "showlegend": true,
         "type": "scatter",
         "x": [
          0.0000037853121179314726
         ],
         "xaxis": "x",
         "y": [
          -0.0036519743147105698
         ],
         "yaxis": "y"
        },
        {
         "hovertemplate": "Area=V_Saidapur<br>Deviance Scores Amount of Fires=%{x}<br>Deviance Scores Soil_Temp=%{y}<extra></extra>",
         "legendgroup": "V_Saidapur",
         "marker": {
          "color": "#00cc96",
          "symbol": "circle"
         },
         "mode": "markers",
         "name": "V_Saidapur",
         "orientation": "v",
         "showlegend": true,
         "type": "scatter",
         "x": [
          0.00007385229027612856
         ],
         "xaxis": "x",
         "y": [
          -0.006667515857448191
         ],
         "yaxis": "y"
        },
        {
         "hovertemplate": "Area=Vailpur<br>Deviance Scores Amount of Fires=%{x}<br>Deviance Scores Soil_Temp=%{y}<extra></extra>",
         "legendgroup": "Vailpur",
         "marker": {
          "color": "#ab63fa",
          "symbol": "circle"
         },
         "mode": "markers",
         "name": "Vailpur",
         "orientation": "v",
         "showlegend": true,
         "type": "scatter",
         "x": [
          0.00006071202038362241
         ],
         "xaxis": "x",
         "y": [
          -0.007272267631125715
         ],
         "yaxis": "y"
        },
        {
         "hovertemplate": "Area=Valigonda<br>Deviance Scores Amount of Fires=%{x}<br>Deviance Scores Soil_Temp=%{y}<extra></extra>",
         "legendgroup": "Valigonda",
         "marker": {
          "color": "#FFA15A",
          "symbol": "circle"
         },
         "mode": "markers",
         "name": "Valigonda",
         "orientation": "v",
         "showlegend": true,
         "type": "scatter",
         "x": [
          -0.000004127307312292944
         ],
         "xaxis": "x",
         "y": [
          -0.006856353946097278
         ],
         "yaxis": "y"
        },
        {
         "hovertemplate": "Area=Vangoor<br>Deviance Scores Amount of Fires=%{x}<br>Deviance Scores Soil_Temp=%{y}<extra></extra>",
         "legendgroup": "Vangoor",
         "marker": {
          "color": "#19d3f3",
          "symbol": "circle"
         },
         "mode": "markers",
         "name": "Vangoor",
         "orientation": "v",
         "showlegend": true,
         "type": "scatter",
         "x": [
          0.000007689628973517074
         ],
         "xaxis": "x",
         "y": [
          -0.007507377280317154
         ],
         "yaxis": "y"
        },
        {
         "hovertemplate": "Area=Vatpally<br>Deviance Scores Amount of Fires=%{x}<br>Deviance Scores Soil_Temp=%{y}<extra></extra>",
         "legendgroup": "Vatpally",
         "marker": {
          "color": "#FF6692",
          "symbol": "circle"
         },
         "mode": "markers",
         "name": "Vatpally",
         "orientation": "v",
         "showlegend": true,
         "type": "scatter",
         "x": [
          0.000008014307927752381
         ],
         "xaxis": "x",
         "y": [
          -0.004785705561145828
         ],
         "yaxis": "y"
        },
        {
         "hovertemplate": "Area=Veernapalli<br>Deviance Scores Amount of Fires=%{x}<br>Deviance Scores Soil_Temp=%{y}<extra></extra>",
         "legendgroup": "Veernapalli",
         "marker": {
          "color": "#B6E880",
          "symbol": "circle"
         },
         "mode": "markers",
         "name": "Veernapalli",
         "orientation": "v",
         "showlegend": true,
         "type": "scatter",
         "x": [
          -0.000051633323216330326
         ],
         "xaxis": "x",
         "y": [
          -0.005889770377007682
         ],
         "yaxis": "y"
        },
        {
         "hovertemplate": "Area=Velair<br>Deviance Scores Amount of Fires=%{x}<br>Deviance Scores Soil_Temp=%{y}<extra></extra>",
         "legendgroup": "Velair",
         "marker": {
          "color": "#FF97FF",
          "symbol": "circle"
         },
         "mode": "markers",
         "name": "Velair",
         "orientation": "v",
         "showlegend": true,
         "type": "scatter",
         "x": [
          0.000005252859017803975
         ],
         "xaxis": "x",
         "y": [
          -0.007364366122052522
         ],
         "yaxis": "y"
        },
        {
         "hovertemplate": "Area=Veldanda<br>Deviance Scores Amount of Fires=%{x}<br>Deviance Scores Soil_Temp=%{y}<extra></extra>",
         "legendgroup": "Veldanda",
         "marker": {
          "color": "#FECB52",
          "symbol": "circle"
         },
         "mode": "markers",
         "name": "Veldanda",
         "orientation": "v",
         "showlegend": true,
         "type": "scatter",
         "x": [
          0.000042151527681923287
         ],
         "xaxis": "x",
         "y": [
          -0.005595203006657361
         ],
         "yaxis": "y"
        },
        {
         "hovertemplate": "Area=Velgatur<br>Deviance Scores Amount of Fires=%{x}<br>Deviance Scores Soil_Temp=%{y}<extra></extra>",
         "legendgroup": "Velgatur",
         "marker": {
          "color": "#636efa",
          "symbol": "circle"
         },
         "mode": "markers",
         "name": "Velgatur",
         "orientation": "v",
         "showlegend": true,
         "type": "scatter",
         "x": [
          0.000026575703070166727
         ],
         "xaxis": "x",
         "y": [
          -0.006502778898267075
         ],
         "yaxis": "y"
        },
        {
         "hovertemplate": "Area=Vemanpalle<br>Deviance Scores Amount of Fires=%{x}<br>Deviance Scores Soil_Temp=%{y}<extra></extra>",
         "legendgroup": "Vemanpalle",
         "marker": {
          "color": "#EF553B",
          "symbol": "circle"
         },
         "mode": "markers",
         "name": "Vemanpalle",
         "orientation": "v",
         "showlegend": true,
         "type": "scatter",
         "x": [
          -0.0000013655920226995543
         ],
         "xaxis": "x",
         "y": [
          -0.0030560499917063454
         ],
         "yaxis": "y"
        },
        {
         "hovertemplate": "Area=Vemsoor<br>Deviance Scores Amount of Fires=%{x}<br>Deviance Scores Soil_Temp=%{y}<extra></extra>",
         "legendgroup": "Vemsoor",
         "marker": {
          "color": "#00cc96",
          "symbol": "circle"
         },
         "mode": "markers",
         "name": "Vemsoor",
         "orientation": "v",
         "showlegend": true,
         "type": "scatter",
         "x": [
          0.00009456500295708586
         ],
         "xaxis": "x",
         "y": [
          -0.0029340602029729237
         ],
         "yaxis": "y"
        },
        {
         "hovertemplate": "Area=Vemulapally<br>Deviance Scores Amount of Fires=%{x}<br>Deviance Scores Soil_Temp=%{y}<extra></extra>",
         "legendgroup": "Vemulapally",
         "marker": {
          "color": "#ab63fa",
          "symbol": "circle"
         },
         "mode": "markers",
         "name": "Vemulapally",
         "orientation": "v",
         "showlegend": true,
         "type": "scatter",
         "x": [
          0.00003844839901822799
         ],
         "xaxis": "x",
         "y": [
          -0.006612366130020867
         ],
         "yaxis": "y"
        },
        {
         "hovertemplate": "Area=Vemulawada<br>Deviance Scores Amount of Fires=%{x}<br>Deviance Scores Soil_Temp=%{y}<extra></extra>",
         "legendgroup": "Vemulawada",
         "marker": {
          "color": "#FFA15A",
          "symbol": "circle"
         },
         "mode": "markers",
         "name": "Vemulawada",
         "orientation": "v",
         "showlegend": true,
         "type": "scatter",
         "x": [
          -0.00000564460495047425
         ],
         "xaxis": "x",
         "y": [
          -0.007899651285033088
         ],
         "yaxis": "y"
        },
        {
         "hovertemplate": "Area=Vemulawada Rural<br>Deviance Scores Amount of Fires=%{x}<br>Deviance Scores Soil_Temp=%{y}<extra></extra>",
         "legendgroup": "Vemulawada Rural",
         "marker": {
          "color": "#19d3f3",
          "symbol": "circle"
         },
         "mode": "markers",
         "name": "Vemulawada Rural",
         "orientation": "v",
         "showlegend": true,
         "type": "scatter",
         "x": [
          -0.0000010598348596423798
         ],
         "xaxis": "x",
         "y": [
          -0.006659434422101957
         ],
         "yaxis": "y"
        },
        {
         "hovertemplate": "Area=Venkatapur<br>Deviance Scores Amount of Fires=%{x}<br>Deviance Scores Soil_Temp=%{y}<extra></extra>",
         "legendgroup": "Venkatapur",
         "marker": {
          "color": "#FF6692",
          "symbol": "circle"
         },
         "mode": "markers",
         "name": "Venkatapur",
         "orientation": "v",
         "showlegend": true,
         "type": "scatter",
         "x": [
          -0.0004514156847391
         ],
         "xaxis": "x",
         "y": [
          -0.0029748291643103704
         ],
         "yaxis": "y"
        },
        {
         "hovertemplate": "Area=Venkatapuram<br>Deviance Scores Amount of Fires=%{x}<br>Deviance Scores Soil_Temp=%{y}<extra></extra>",
         "legendgroup": "Venkatapuram",
         "marker": {
          "color": "#B6E880",
          "symbol": "circle"
         },
         "mode": "markers",
         "name": "Venkatapuram",
         "orientation": "v",
         "showlegend": true,
         "type": "scatter",
         "x": [
          -0.00002340599084938134
         ],
         "xaxis": "x",
         "y": [
          -0.0016764446401242783
         ],
         "yaxis": "y"
        },
        {
         "hovertemplate": "Area=Vikarabad<br>Deviance Scores Amount of Fires=%{x}<br>Deviance Scores Soil_Temp=%{y}<extra></extra>",
         "legendgroup": "Vikarabad",
         "marker": {
          "color": "#FF97FF",
          "symbol": "circle"
         },
         "mode": "markers",
         "name": "Vikarabad",
         "orientation": "v",
         "showlegend": true,
         "type": "scatter",
         "x": [
          0.000151776204679
         ],
         "xaxis": "x",
         "y": [
          -0.0034866224223709624
         ],
         "yaxis": "y"
        },
        {
         "hovertemplate": "Area=Waddepally<br>Deviance Scores Amount of Fires=%{x}<br>Deviance Scores Soil_Temp=%{y}<extra></extra>",
         "legendgroup": "Waddepally",
         "marker": {
          "color": "#FECB52",
          "symbol": "circle"
         },
         "mode": "markers",
         "name": "Waddepally",
         "orientation": "v",
         "showlegend": true,
         "type": "scatter",
         "x": [
          0.000036018969546808133
         ],
         "xaxis": "x",
         "y": [
          -0.004805451793591797
         ],
         "yaxis": "y"
        },
        {
         "hovertemplate": "Area=Wanaparthy<br>Deviance Scores Amount of Fires=%{x}<br>Deviance Scores Soil_Temp=%{y}<extra></extra>",
         "legendgroup": "Wanaparthy",
         "marker": {
          "color": "#636efa",
          "symbol": "circle"
         },
         "mode": "markers",
         "name": "Wanaparthy",
         "orientation": "v",
         "showlegend": true,
         "type": "scatter",
         "x": [
          -0.000016702592616828606
         ],
         "xaxis": "x",
         "y": [
          -0.007189038465220198
         ],
         "yaxis": "y"
        },
        {
         "hovertemplate": "Area=Wankidi<br>Deviance Scores Amount of Fires=%{x}<br>Deviance Scores Soil_Temp=%{y}<extra></extra>",
         "legendgroup": "Wankidi",
         "marker": {
          "color": "#EF553B",
          "symbol": "circle"
         },
         "mode": "markers",
         "name": "Wankidi",
         "orientation": "v",
         "showlegend": true,
         "type": "scatter",
         "x": [
          0.00002825949326269255
         ],
         "xaxis": "x",
         "y": [
          -0.0027510756173286465
         ],
         "yaxis": "y"
        },
        {
         "hovertemplate": "Area=Wardhannapet<br>Deviance Scores Amount of Fires=%{x}<br>Deviance Scores Soil_Temp=%{y}<extra></extra>",
         "legendgroup": "Wardhannapet",
         "marker": {
          "color": "#00cc96",
          "symbol": "circle"
         },
         "mode": "markers",
         "name": "Wardhannapet",
         "orientation": "v",
         "showlegend": true,
         "type": "scatter",
         "x": [
          0.00002366118184737109
         ],
         "xaxis": "x",
         "y": [
          -0.005363599296697491
         ],
         "yaxis": "y"
        },
        {
         "hovertemplate": "Area=Wargal<br>Deviance Scores Amount of Fires=%{x}<br>Deviance Scores Soil_Temp=%{y}<extra></extra>",
         "legendgroup": "Wargal",
         "marker": {
          "color": "#ab63fa",
          "symbol": "circle"
         },
         "mode": "markers",
         "name": "Wargal",
         "orientation": "v",
         "showlegend": true,
         "type": "scatter",
         "x": [
          8.696566046338488e-7
         ],
         "xaxis": "x",
         "y": [
          -0.0059082900267629496
         ],
         "yaxis": "y"
        },
        {
         "hovertemplate": "Area=Weepangandla<br>Deviance Scores Amount of Fires=%{x}<br>Deviance Scores Soil_Temp=%{y}<extra></extra>",
         "legendgroup": "Weepangandla",
         "marker": {
          "color": "#FFA15A",
          "symbol": "circle"
         },
         "mode": "markers",
         "name": "Weepangandla",
         "orientation": "v",
         "showlegend": true,
         "type": "scatter",
         "x": [
          0.000012730841535576634
         ],
         "xaxis": "x",
         "y": [
          -0.006709919592051247
         ],
         "yaxis": "y"
        },
        {
         "hovertemplate": "Area=Wyra<br>Deviance Scores Amount of Fires=%{x}<br>Deviance Scores Soil_Temp=%{y}<extra></extra>",
         "legendgroup": "Wyra",
         "marker": {
          "color": "#19d3f3",
          "symbol": "circle"
         },
         "mode": "markers",
         "name": "Wyra",
         "orientation": "v",
         "showlegend": true,
         "type": "scatter",
         "x": [
          -0.00006831052029631657
         ],
         "xaxis": "x",
         "y": [
          -0.005131953847496712
         ],
         "yaxis": "y"
        },
        {
         "hovertemplate": "Area=Yacharam<br>Deviance Scores Amount of Fires=%{x}<br>Deviance Scores Soil_Temp=%{y}<extra></extra>",
         "legendgroup": "Yacharam",
         "marker": {
          "color": "#FF6692",
          "symbol": "circle"
         },
         "mode": "markers",
         "name": "Yacharam",
         "orientation": "v",
         "showlegend": true,
         "type": "scatter",
         "x": [
          0.0001202357633603
         ],
         "xaxis": "x",
         "y": [
          -0.006596281070080649
         ],
         "yaxis": "y"
        },
        {
         "hovertemplate": "Area=Yadagirigutta<br>Deviance Scores Amount of Fires=%{x}<br>Deviance Scores Soil_Temp=%{y}<extra></extra>",
         "legendgroup": "Yadagirigutta",
         "marker": {
          "color": "#B6E880",
          "symbol": "circle"
         },
         "mode": "markers",
         "name": "Yadagirigutta",
         "orientation": "v",
         "showlegend": true,
         "type": "scatter",
         "x": [
          0.000024783470643006043
         ],
         "xaxis": "x",
         "y": [
          -0.00670486065150062
         ],
         "yaxis": "y"
        },
        {
         "hovertemplate": "Area=Yelal<br>Deviance Scores Amount of Fires=%{x}<br>Deviance Scores Soil_Temp=%{y}<extra></extra>",
         "legendgroup": "Yelal",
         "marker": {
          "color": "#FF97FF",
          "symbol": "circle"
         },
         "mode": "markers",
         "name": "Yelal",
         "orientation": "v",
         "showlegend": true,
         "type": "scatter",
         "x": [
          0.0000016564905769558102
         ],
         "xaxis": "x",
         "y": [
          -0.004476585050595751
         ],
         "yaxis": "y"
        },
        {
         "hovertemplate": "Area=Yeldurthy<br>Deviance Scores Amount of Fires=%{x}<br>Deviance Scores Soil_Temp=%{y}<extra></extra>",
         "legendgroup": "Yeldurthy",
         "marker": {
          "color": "#FECB52",
          "symbol": "circle"
         },
         "mode": "markers",
         "name": "Yeldurthy",
         "orientation": "v",
         "showlegend": true,
         "type": "scatter",
         "x": [
          -0.000024582824326011204
         ],
         "xaxis": "x",
         "y": [
          -0.003760108683855275
         ],
         "yaxis": "y"
        },
        {
         "hovertemplate": "Area=Yellandu<br>Deviance Scores Amount of Fires=%{x}<br>Deviance Scores Soil_Temp=%{y}<extra></extra>",
         "legendgroup": "Yellandu",
         "marker": {
          "color": "#636efa",
          "symbol": "circle"
         },
         "mode": "markers",
         "name": "Yellandu",
         "orientation": "v",
         "showlegend": true,
         "type": "scatter",
         "x": [
          -0.0004683816957436
         ],
         "xaxis": "x",
         "y": [
          -0.004882179906666785
         ],
         "yaxis": "y"
        },
        {
         "hovertemplate": "Area=Yellareddy<br>Deviance Scores Amount of Fires=%{x}<br>Deviance Scores Soil_Temp=%{y}<extra></extra>",
         "legendgroup": "Yellareddy",
         "marker": {
          "color": "#EF553B",
          "symbol": "circle"
         },
         "mode": "markers",
         "name": "Yellareddy",
         "orientation": "v",
         "showlegend": true,
         "type": "scatter",
         "x": [
          0.00003561457589592378
         ],
         "xaxis": "x",
         "y": [
          -0.006251277578593019
         ],
         "yaxis": "y"
        },
        {
         "hovertemplate": "Area=Yellareddypet<br>Deviance Scores Amount of Fires=%{x}<br>Deviance Scores Soil_Temp=%{y}<extra></extra>",
         "legendgroup": "Yellareddypet",
         "marker": {
          "color": "#00cc96",
          "symbol": "circle"
         },
         "mode": "markers",
         "name": "Yellareddypet",
         "orientation": "v",
         "showlegend": true,
         "type": "scatter",
         "x": [
          -0.00003458259703599866
         ],
         "xaxis": "x",
         "y": [
          -0.005858719236274384
         ],
         "yaxis": "y"
        },
        {
         "hovertemplate": "Area=Yerrupalem<br>Deviance Scores Amount of Fires=%{x}<br>Deviance Scores Soil_Temp=%{y}<extra></extra>",
         "legendgroup": "Yerrupalem",
         "marker": {
          "color": "#ab63fa",
          "symbol": "circle"
         },
         "mode": "markers",
         "name": "Yerrupalem",
         "orientation": "v",
         "showlegend": true,
         "type": "scatter",
         "x": [
          0.0001127832082227
         ],
         "xaxis": "x",
         "y": [
          -0.004512591325804293
         ],
         "yaxis": "y"
        },
        {
         "hovertemplate": "Area=Zaffergadh<br>Deviance Scores Amount of Fires=%{x}<br>Deviance Scores Soil_Temp=%{y}<extra></extra>",
         "legendgroup": "Zaffergadh",
         "marker": {
          "color": "#FFA15A",
          "symbol": "circle"
         },
         "mode": "markers",
         "name": "Zaffergadh",
         "orientation": "v",
         "showlegend": true,
         "type": "scatter",
         "x": [
          0.000027075513212539585
         ],
         "xaxis": "x",
         "y": [
          -0.0051581584313056175
         ],
         "yaxis": "y"
        },
        {
         "hovertemplate": "Area=Zahirabad<br>Deviance Scores Amount of Fires=%{x}<br>Deviance Scores Soil_Temp=%{y}<extra></extra>",
         "legendgroup": "Zahirabad",
         "marker": {
          "color": "#19d3f3",
          "symbol": "circle"
         },
         "mode": "markers",
         "name": "Zahirabad",
         "orientation": "v",
         "showlegend": true,
         "type": "scatter",
         "x": [
          0.0001798715922107
         ],
         "xaxis": "x",
         "y": [
          -0.004420681292937049
         ],
         "yaxis": "y"
        },
        {
         "hovertemplate": "Area=Lingal<br>Deviance Scores Amount of Fires=%{x}<br>Deviance Scores Soil_Temp=%{y}<extra></extra>",
         "legendgroup": "Lingal",
         "marker": {
          "color": "#FF6692",
          "symbol": "circle"
         },
         "mode": "markers",
         "name": "Lingal",
         "orientation": "v",
         "showlegend": true,
         "type": "scatter",
         "x": [
          6.406623594062658e-7
         ],
         "xaxis": "x",
         "y": [
          -0.00515603555238048
         ],
         "yaxis": "y"
        },
        {
         "hovertemplate": "Area=Nagar_Kurnool<br>Deviance Scores Amount of Fires=%{x}<br>Deviance Scores Soil_Temp=%{y}<extra></extra>",
         "legendgroup": "Nagar_Kurnool",
         "marker": {
          "color": "#B6E880",
          "symbol": "circle"
         },
         "mode": "markers",
         "name": "Nagar_Kurnool",
         "orientation": "v",
         "showlegend": true,
         "type": "scatter",
         "x": [
          -0.00006600990912841113
         ],
         "xaxis": "x",
         "y": [
          -0.008836202723444297
         ],
         "yaxis": "y"
        },
        {
         "hovertemplate": "Area=Mahabubnagar_Rural<br>Deviance Scores Amount of Fires=%{x}<br>Deviance Scores Soil_Temp=%{y}<extra></extra>",
         "legendgroup": "Mahabubnagar_Rural",
         "marker": {
          "color": "#FF97FF",
          "symbol": "circle"
         },
         "mode": "markers",
         "name": "Mahabubnagar_Rural",
         "orientation": "v",
         "showlegend": true,
         "type": "scatter",
         "x": [
          -0.000025816661608165163
         ],
         "xaxis": "x",
         "y": [
          -0.006021290669116945
         ],
         "yaxis": "y"
        },
        {
         "hovertemplate": "Area=Utkoor<br>Deviance Scores Amount of Fires=%{x}<br>Deviance Scores Soil_Temp=%{y}<extra></extra>",
         "legendgroup": "Utkoor",
         "marker": {
          "color": "#FECB52",
          "symbol": "circle"
         },
         "mode": "markers",
         "name": "Utkoor",
         "orientation": "v",
         "showlegend": true,
         "type": "scatter",
         "x": [
          0.000014280454523642084
         ],
         "xaxis": "x",
         "y": [
          -0.005158735484692343
         ],
         "yaxis": "y"
        },
        {
         "hovertemplate": "Area=Jinnaram<br>Deviance Scores Amount of Fires=%{x}<br>Deviance Scores Soil_Temp=%{y}<extra></extra>",
         "legendgroup": "Jinnaram",
         "marker": {
          "color": "#636efa",
          "symbol": "circle"
         },
         "mode": "markers",
         "name": "Jinnaram",
         "orientation": "v",
         "showlegend": true,
         "type": "scatter",
         "x": [
          0.00004942737207481208
         ],
         "xaxis": "x",
         "y": [
          -0.004724732058783081
         ],
         "yaxis": "y"
        },
        {
         "hovertemplate": "Area=Toopran<br>Deviance Scores Amount of Fires=%{x}<br>Deviance Scores Soil_Temp=%{y}<extra></extra>",
         "legendgroup": "Toopran",
         "marker": {
          "color": "#EF553B",
          "symbol": "circle"
         },
         "mode": "markers",
         "name": "Toopran",
         "orientation": "v",
         "showlegend": true,
         "type": "scatter",
         "x": [
          0.00003128392955134174
         ],
         "xaxis": "x",
         "y": [
          -0.004645279706946631
         ],
         "yaxis": "y"
        },
        {
         "hovertemplate": "Area=Manoharabad<br>Deviance Scores Amount of Fires=%{x}<br>Deviance Scores Soil_Temp=%{y}<extra></extra>",
         "legendgroup": "Manoharabad",
         "marker": {
          "color": "#00cc96",
          "symbol": "circle"
         },
         "mode": "markers",
         "name": "Manoharabad",
         "orientation": "v",
         "showlegend": true,
         "type": "scatter",
         "x": [
          0.00004979159003214144
         ],
         "xaxis": "x",
         "y": [
          -0.005290645719526005
         ],
         "yaxis": "y"
        },
        {
         "hovertemplate": "Area=Chilipched<br>Deviance Scores Amount of Fires=%{x}<br>Deviance Scores Soil_Temp=%{y}<extra></extra>",
         "legendgroup": "Chilipched",
         "marker": {
          "color": "#ab63fa",
          "symbol": "circle"
         },
         "mode": "markers",
         "name": "Chilipched",
         "orientation": "v",
         "showlegend": true,
         "type": "scatter",
         "x": [
          -0.000010780627260841442
         ],
         "xaxis": "x",
         "y": [
          -0.0021624280545360836
         ],
         "yaxis": "y"
        },
        {
         "hovertemplate": "Area=Chegunta<br>Deviance Scores Amount of Fires=%{x}<br>Deviance Scores Soil_Temp=%{y}<extra></extra>",
         "legendgroup": "Chegunta",
         "marker": {
          "color": "#FFA15A",
          "symbol": "circle"
         },
         "mode": "markers",
         "name": "Chegunta",
         "orientation": "v",
         "showlegend": true,
         "type": "scatter",
         "x": [
          -0.000010052215916702826
         ],
         "xaxis": "x",
         "y": [
          -0.004027799965059588
         ],
         "yaxis": "y"
        },
        {
         "hovertemplate": "Area=Pitlam<br>Deviance Scores Amount of Fires=%{x}<br>Deviance Scores Soil_Temp=%{y}<extra></extra>",
         "legendgroup": "Pitlam",
         "marker": {
          "color": "#19d3f3",
          "symbol": "circle"
         },
         "mode": "markers",
         "name": "Pitlam",
         "orientation": "v",
         "showlegend": true,
         "type": "scatter",
         "x": [
          -0.00006308051265112614
         ],
         "xaxis": "x",
         "y": [
          -0.006524505839564073
         ],
         "yaxis": "y"
        },
        {
         "hovertemplate": "Area=Bichkunda<br>Deviance Scores Amount of Fires=%{x}<br>Deviance Scores Soil_Temp=%{y}<extra></extra>",
         "legendgroup": "Bichkunda",
         "marker": {
          "color": "#FF6692",
          "symbol": "circle"
         },
         "mode": "markers",
         "name": "Bichkunda",
         "orientation": "v",
         "showlegend": true,
         "type": "scatter",
         "x": [
          0.00006449707788889298
         ],
         "xaxis": "x",
         "y": [
          -0.006128012958956859
         ],
         "yaxis": "y"
        },
        {
         "hovertemplate": "Area=Wazeed<br>Deviance Scores Amount of Fires=%{x}<br>Deviance Scores Soil_Temp=%{y}<extra></extra>",
         "legendgroup": "Wazeed",
         "marker": {
          "color": "#B6E880",
          "symbol": "circle"
         },
         "mode": "markers",
         "name": "Wazeed",
         "orientation": "v",
         "showlegend": true,
         "type": "scatter",
         "x": [
          0.000027413877495056272
         ],
         "xaxis": "x",
         "y": [
          -0.0020291727880931173
         ],
         "yaxis": "y"
        },
        {
         "hovertemplate": "Area=Kammarpally<br>Deviance Scores Amount of Fires=%{x}<br>Deviance Scores Soil_Temp=%{y}<extra></extra>",
         "legendgroup": "Kammarpally",
         "marker": {
          "color": "#FF97FF",
          "symbol": "circle"
         },
         "mode": "markers",
         "name": "Kammarpally",
         "orientation": "v",
         "showlegend": true,
         "type": "scatter",
         "x": [
          0.00003211313665523238
         ],
         "xaxis": "x",
         "y": [
          -0.006323864573919707
         ],
         "yaxis": "y"
        },
        {
         "hovertemplate": "Area=Kodakandla<br>Deviance Scores Amount of Fires=%{x}<br>Deviance Scores Soil_Temp=%{y}<extra></extra>",
         "legendgroup": "Kodakandla",
         "marker": {
          "color": "#FECB52",
          "symbol": "circle"
         },
         "mode": "markers",
         "name": "Kodakandla",
         "orientation": "v",
         "showlegend": true,
         "type": "scatter",
         "x": [
          0.000009164537403589135
         ],
         "xaxis": "x",
         "y": [
          -0.00559060640722963
         ],
         "yaxis": "y"
        },
        {
         "hovertemplate": "Area=Krishna<br>Deviance Scores Amount of Fires=%{x}<br>Deviance Scores Soil_Temp=%{y}<extra></extra>",
         "legendgroup": "Krishna",
         "marker": {
          "color": "#636efa",
          "symbol": "circle"
         },
         "mode": "markers",
         "name": "Krishna",
         "orientation": "v",
         "showlegend": true,
         "type": "scatter",
         "x": [
          0.00005939326039064888
         ],
         "xaxis": "x",
         "y": [
          -0.005774865438213976
         ],
         "yaxis": "y"
        },
        {
         "hovertemplate": "Area=Kotapalle<br>Deviance Scores Amount of Fires=%{x}<br>Deviance Scores Soil_Temp=%{y}<extra></extra>",
         "legendgroup": "Kotapalle",
         "marker": {
          "color": "#EF553B",
          "symbol": "circle"
         },
         "mode": "markers",
         "name": "Kotapalle",
         "orientation": "v",
         "showlegend": true,
         "type": "scatter",
         "x": [
          0.000014979234701830363
         ],
         "xaxis": "x",
         "y": [
          -0.0033349752251780754
         ],
         "yaxis": "y"
        },
        {
         "hovertemplate": "Area=Nadikuda<br>Deviance Scores Amount of Fires=%{x}<br>Deviance Scores Soil_Temp=%{y}<extra></extra>",
         "legendgroup": "Nadikuda",
         "marker": {
          "color": "#00cc96",
          "symbol": "circle"
         },
         "mode": "markers",
         "name": "Nadikuda",
         "orientation": "v",
         "showlegend": true,
         "type": "scatter",
         "x": [
          0.0000065890000281568845
         ],
         "xaxis": "x",
         "y": [
          -0.006024619390719665
         ],
         "yaxis": "y"
        },
        {
         "hovertemplate": "Area=Muduchinthalaphally<br>Deviance Scores Amount of Fires=%{x}<br>Deviance Scores Soil_Temp=%{y}<extra></extra>",
         "legendgroup": "Muduchinthalaphally",
         "marker": {
          "color": "#ab63fa",
          "symbol": "circle"
         },
         "mode": "markers",
         "name": "Muduchinthalaphally",
         "orientation": "v",
         "showlegend": true,
         "type": "scatter",
         "x": [
          0.00007558459500221681
         ],
         "xaxis": "x",
         "y": [
          -0.005706211602625427
         ],
         "yaxis": "y"
        },
        {
         "hovertemplate": "Area=Mosra<br>Deviance Scores Amount of Fires=%{x}<br>Deviance Scores Soil_Temp=%{y}<extra></extra>",
         "legendgroup": "Mosra",
         "marker": {
          "color": "#FFA15A",
          "symbol": "circle"
         },
         "mode": "markers",
         "name": "Mosra",
         "orientation": "v",
         "showlegend": true,
         "type": "scatter",
         "x": [
          0.00003126660832468597
         ],
         "xaxis": "x",
         "y": [
          -0.006141158963832971
         ],
         "yaxis": "y"
        },
        {
         "hovertemplate": "Area=Chandur<br>Deviance Scores Amount of Fires=%{x}<br>Deviance Scores Soil_Temp=%{y}<extra></extra>",
         "legendgroup": "Chandur",
         "marker": {
          "color": "#19d3f3",
          "symbol": "circle"
         },
         "mode": "markers",
         "name": "Chandur",
         "orientation": "v",
         "showlegend": true,
         "type": "scatter",
         "x": [
          -0.00001905541610426912
         ],
         "xaxis": "x",
         "y": [
          -0.005475701564621096
         ],
         "yaxis": "y"
        },
        {
         "hovertemplate": "Area=Chowtakur<br>Deviance Scores Amount of Fires=%{x}<br>Deviance Scores Soil_Temp=%{y}<extra></extra>",
         "legendgroup": "Chowtakur",
         "marker": {
          "color": "#FF6692",
          "symbol": "circle"
         },
         "mode": "markers",
         "name": "Chowtakur",
         "orientation": "v",
         "showlegend": true,
         "type": "scatter",
         "x": [
          0.00006963827561083082
         ],
         "xaxis": "x",
         "y": [
          -0.00386719042524897
         ],
         "yaxis": "y"
        }
       ],
       "layout": {
        "legend": {
         "title": {
          "text": "Area"
         },
         "tracegroupgap": 0
        },
        "template": {
         "data": {
          "bar": [
           {
            "error_x": {
             "color": "#2a3f5f"
            },
            "error_y": {
             "color": "#2a3f5f"
            },
            "marker": {
             "line": {
              "color": "#E5ECF6",
              "width": 0.5
             },
             "pattern": {
              "fillmode": "overlay",
              "size": 10,
              "solidity": 0.2
             }
            },
            "type": "bar"
           }
          ],
          "barpolar": [
           {
            "marker": {
             "line": {
              "color": "#E5ECF6",
              "width": 0.5
             },
             "pattern": {
              "fillmode": "overlay",
              "size": 10,
              "solidity": 0.2
             }
            },
            "type": "barpolar"
           }
          ],
          "carpet": [
           {
            "aaxis": {
             "endlinecolor": "#2a3f5f",
             "gridcolor": "white",
             "linecolor": "white",
             "minorgridcolor": "white",
             "startlinecolor": "#2a3f5f"
            },
            "baxis": {
             "endlinecolor": "#2a3f5f",
             "gridcolor": "white",
             "linecolor": "white",
             "minorgridcolor": "white",
             "startlinecolor": "#2a3f5f"
            },
            "type": "carpet"
           }
          ],
          "choropleth": [
           {
            "colorbar": {
             "outlinewidth": 0,
             "ticks": ""
            },
            "type": "choropleth"
           }
          ],
          "contour": [
           {
            "colorbar": {
             "outlinewidth": 0,
             "ticks": ""
            },
            "colorscale": [
             [
              0,
              "#0d0887"
             ],
             [
              0.1111111111111111,
              "#46039f"
             ],
             [
              0.2222222222222222,
              "#7201a8"
             ],
             [
              0.3333333333333333,
              "#9c179e"
             ],
             [
              0.4444444444444444,
              "#bd3786"
             ],
             [
              0.5555555555555556,
              "#d8576b"
             ],
             [
              0.6666666666666666,
              "#ed7953"
             ],
             [
              0.7777777777777778,
              "#fb9f3a"
             ],
             [
              0.8888888888888888,
              "#fdca26"
             ],
             [
              1,
              "#f0f921"
             ]
            ],
            "type": "contour"
           }
          ],
          "contourcarpet": [
           {
            "colorbar": {
             "outlinewidth": 0,
             "ticks": ""
            },
            "type": "contourcarpet"
           }
          ],
          "heatmap": [
           {
            "colorbar": {
             "outlinewidth": 0,
             "ticks": ""
            },
            "colorscale": [
             [
              0,
              "#0d0887"
             ],
             [
              0.1111111111111111,
              "#46039f"
             ],
             [
              0.2222222222222222,
              "#7201a8"
             ],
             [
              0.3333333333333333,
              "#9c179e"
             ],
             [
              0.4444444444444444,
              "#bd3786"
             ],
             [
              0.5555555555555556,
              "#d8576b"
             ],
             [
              0.6666666666666666,
              "#ed7953"
             ],
             [
              0.7777777777777778,
              "#fb9f3a"
             ],
             [
              0.8888888888888888,
              "#fdca26"
             ],
             [
              1,
              "#f0f921"
             ]
            ],
            "type": "heatmap"
           }
          ],
          "heatmapgl": [
           {
            "colorbar": {
             "outlinewidth": 0,
             "ticks": ""
            },
            "colorscale": [
             [
              0,
              "#0d0887"
             ],
             [
              0.1111111111111111,
              "#46039f"
             ],
             [
              0.2222222222222222,
              "#7201a8"
             ],
             [
              0.3333333333333333,
              "#9c179e"
             ],
             [
              0.4444444444444444,
              "#bd3786"
             ],
             [
              0.5555555555555556,
              "#d8576b"
             ],
             [
              0.6666666666666666,
              "#ed7953"
             ],
             [
              0.7777777777777778,
              "#fb9f3a"
             ],
             [
              0.8888888888888888,
              "#fdca26"
             ],
             [
              1,
              "#f0f921"
             ]
            ],
            "type": "heatmapgl"
           }
          ],
          "histogram": [
           {
            "marker": {
             "pattern": {
              "fillmode": "overlay",
              "size": 10,
              "solidity": 0.2
             }
            },
            "type": "histogram"
           }
          ],
          "histogram2d": [
           {
            "colorbar": {
             "outlinewidth": 0,
             "ticks": ""
            },
            "colorscale": [
             [
              0,
              "#0d0887"
             ],
             [
              0.1111111111111111,
              "#46039f"
             ],
             [
              0.2222222222222222,
              "#7201a8"
             ],
             [
              0.3333333333333333,
              "#9c179e"
             ],
             [
              0.4444444444444444,
              "#bd3786"
             ],
             [
              0.5555555555555556,
              "#d8576b"
             ],
             [
              0.6666666666666666,
              "#ed7953"
             ],
             [
              0.7777777777777778,
              "#fb9f3a"
             ],
             [
              0.8888888888888888,
              "#fdca26"
             ],
             [
              1,
              "#f0f921"
             ]
            ],
            "type": "histogram2d"
           }
          ],
          "histogram2dcontour": [
           {
            "colorbar": {
             "outlinewidth": 0,
             "ticks": ""
            },
            "colorscale": [
             [
              0,
              "#0d0887"
             ],
             [
              0.1111111111111111,
              "#46039f"
             ],
             [
              0.2222222222222222,
              "#7201a8"
             ],
             [
              0.3333333333333333,
              "#9c179e"
             ],
             [
              0.4444444444444444,
              "#bd3786"
             ],
             [
              0.5555555555555556,
              "#d8576b"
             ],
             [
              0.6666666666666666,
              "#ed7953"
             ],
             [
              0.7777777777777778,
              "#fb9f3a"
             ],
             [
              0.8888888888888888,
              "#fdca26"
             ],
             [
              1,
              "#f0f921"
             ]
            ],
            "type": "histogram2dcontour"
           }
          ],
          "mesh3d": [
           {
            "colorbar": {
             "outlinewidth": 0,
             "ticks": ""
            },
            "type": "mesh3d"
           }
          ],
          "parcoords": [
           {
            "line": {
             "colorbar": {
              "outlinewidth": 0,
              "ticks": ""
             }
            },
            "type": "parcoords"
           }
          ],
          "pie": [
           {
            "automargin": true,
            "type": "pie"
           }
          ],
          "scatter": [
           {
            "marker": {
             "colorbar": {
              "outlinewidth": 0,
              "ticks": ""
             }
            },
            "type": "scatter"
           }
          ],
          "scatter3d": [
           {
            "line": {
             "colorbar": {
              "outlinewidth": 0,
              "ticks": ""
             }
            },
            "marker": {
             "colorbar": {
              "outlinewidth": 0,
              "ticks": ""
             }
            },
            "type": "scatter3d"
           }
          ],
          "scattercarpet": [
           {
            "marker": {
             "colorbar": {
              "outlinewidth": 0,
              "ticks": ""
             }
            },
            "type": "scattercarpet"
           }
          ],
          "scattergeo": [
           {
            "marker": {
             "colorbar": {
              "outlinewidth": 0,
              "ticks": ""
             }
            },
            "type": "scattergeo"
           }
          ],
          "scattergl": [
           {
            "marker": {
             "colorbar": {
              "outlinewidth": 0,
              "ticks": ""
             }
            },
            "type": "scattergl"
           }
          ],
          "scattermapbox": [
           {
            "marker": {
             "colorbar": {
              "outlinewidth": 0,
              "ticks": ""
             }
            },
            "type": "scattermapbox"
           }
          ],
          "scatterpolar": [
           {
            "marker": {
             "colorbar": {
              "outlinewidth": 0,
              "ticks": ""
             }
            },
            "type": "scatterpolar"
           }
          ],
          "scatterpolargl": [
           {
            "marker": {
             "colorbar": {
              "outlinewidth": 0,
              "ticks": ""
             }
            },
            "type": "scatterpolargl"
           }
          ],
          "scatterternary": [
           {
            "marker": {
             "colorbar": {
              "outlinewidth": 0,
              "ticks": ""
             }
            },
            "type": "scatterternary"
           }
          ],
          "surface": [
           {
            "colorbar": {
             "outlinewidth": 0,
             "ticks": ""
            },
            "colorscale": [
             [
              0,
              "#0d0887"
             ],
             [
              0.1111111111111111,
              "#46039f"
             ],
             [
              0.2222222222222222,
              "#7201a8"
             ],
             [
              0.3333333333333333,
              "#9c179e"
             ],
             [
              0.4444444444444444,
              "#bd3786"
             ],
             [
              0.5555555555555556,
              "#d8576b"
             ],
             [
              0.6666666666666666,
              "#ed7953"
             ],
             [
              0.7777777777777778,
              "#fb9f3a"
             ],
             [
              0.8888888888888888,
              "#fdca26"
             ],
             [
              1,
              "#f0f921"
             ]
            ],
            "type": "surface"
           }
          ],
          "table": [
           {
            "cells": {
             "fill": {
              "color": "#EBF0F8"
             },
             "line": {
              "color": "white"
             }
            },
            "header": {
             "fill": {
              "color": "#C8D4E3"
             },
             "line": {
              "color": "white"
             }
            },
            "type": "table"
           }
          ]
         },
         "layout": {
          "annotationdefaults": {
           "arrowcolor": "#2a3f5f",
           "arrowhead": 0,
           "arrowwidth": 1
          },
          "autotypenumbers": "strict",
          "coloraxis": {
           "colorbar": {
            "outlinewidth": 0,
            "ticks": ""
           }
          },
          "colorscale": {
           "diverging": [
            [
             0,
             "#8e0152"
            ],
            [
             0.1,
             "#c51b7d"
            ],
            [
             0.2,
             "#de77ae"
            ],
            [
             0.3,
             "#f1b6da"
            ],
            [
             0.4,
             "#fde0ef"
            ],
            [
             0.5,
             "#f7f7f7"
            ],
            [
             0.6,
             "#e6f5d0"
            ],
            [
             0.7,
             "#b8e186"
            ],
            [
             0.8,
             "#7fbc41"
            ],
            [
             0.9,
             "#4d9221"
            ],
            [
             1,
             "#276419"
            ]
           ],
           "sequential": [
            [
             0,
             "#0d0887"
            ],
            [
             0.1111111111111111,
             "#46039f"
            ],
            [
             0.2222222222222222,
             "#7201a8"
            ],
            [
             0.3333333333333333,
             "#9c179e"
            ],
            [
             0.4444444444444444,
             "#bd3786"
            ],
            [
             0.5555555555555556,
             "#d8576b"
            ],
            [
             0.6666666666666666,
             "#ed7953"
            ],
            [
             0.7777777777777778,
             "#fb9f3a"
            ],
            [
             0.8888888888888888,
             "#fdca26"
            ],
            [
             1,
             "#f0f921"
            ]
           ],
           "sequentialminus": [
            [
             0,
             "#0d0887"
            ],
            [
             0.1111111111111111,
             "#46039f"
            ],
            [
             0.2222222222222222,
             "#7201a8"
            ],
            [
             0.3333333333333333,
             "#9c179e"
            ],
            [
             0.4444444444444444,
             "#bd3786"
            ],
            [
             0.5555555555555556,
             "#d8576b"
            ],
            [
             0.6666666666666666,
             "#ed7953"
            ],
            [
             0.7777777777777778,
             "#fb9f3a"
            ],
            [
             0.8888888888888888,
             "#fdca26"
            ],
            [
             1,
             "#f0f921"
            ]
           ]
          },
          "colorway": [
           "#636efa",
           "#EF553B",
           "#00cc96",
           "#ab63fa",
           "#FFA15A",
           "#19d3f3",
           "#FF6692",
           "#B6E880",
           "#FF97FF",
           "#FECB52"
          ],
          "font": {
           "color": "#2a3f5f"
          },
          "geo": {
           "bgcolor": "white",
           "lakecolor": "white",
           "landcolor": "#E5ECF6",
           "showlakes": true,
           "showland": true,
           "subunitcolor": "white"
          },
          "hoverlabel": {
           "align": "left"
          },
          "hovermode": "closest",
          "mapbox": {
           "style": "light"
          },
          "paper_bgcolor": "white",
          "plot_bgcolor": "#E5ECF6",
          "polar": {
           "angularaxis": {
            "gridcolor": "white",
            "linecolor": "white",
            "ticks": ""
           },
           "bgcolor": "#E5ECF6",
           "radialaxis": {
            "gridcolor": "white",
            "linecolor": "white",
            "ticks": ""
           }
          },
          "scene": {
           "xaxis": {
            "backgroundcolor": "#E5ECF6",
            "gridcolor": "white",
            "gridwidth": 2,
            "linecolor": "white",
            "showbackground": true,
            "ticks": "",
            "zerolinecolor": "white"
           },
           "yaxis": {
            "backgroundcolor": "#E5ECF6",
            "gridcolor": "white",
            "gridwidth": 2,
            "linecolor": "white",
            "showbackground": true,
            "ticks": "",
            "zerolinecolor": "white"
           },
           "zaxis": {
            "backgroundcolor": "#E5ECF6",
            "gridcolor": "white",
            "gridwidth": 2,
            "linecolor": "white",
            "showbackground": true,
            "ticks": "",
            "zerolinecolor": "white"
           }
          },
          "shapedefaults": {
           "line": {
            "color": "#2a3f5f"
           }
          },
          "ternary": {
           "aaxis": {
            "gridcolor": "white",
            "linecolor": "white",
            "ticks": ""
           },
           "baxis": {
            "gridcolor": "white",
            "linecolor": "white",
            "ticks": ""
           },
           "bgcolor": "#E5ECF6",
           "caxis": {
            "gridcolor": "white",
            "linecolor": "white",
            "ticks": ""
           }
          },
          "title": {
           "x": 0.05
          },
          "xaxis": {
           "automargin": true,
           "gridcolor": "white",
           "linecolor": "white",
           "ticks": "",
           "title": {
            "standoff": 15
           },
           "zerolinecolor": "white",
           "zerolinewidth": 2
          },
          "yaxis": {
           "automargin": true,
           "gridcolor": "white",
           "linecolor": "white",
           "ticks": "",
           "title": {
            "standoff": 15
           },
           "zerolinecolor": "white",
           "zerolinewidth": 2
          }
         }
        },
        "title": {
         "text": "Relation Between Soil_Temp and Amount of Fires Changes over the Years 2015-2021"
        },
        "xaxis": {
         "anchor": "y",
         "domain": [
          0,
          1
         ],
         "title": {
          "text": "Deviance Scores Amount of Fires"
         }
        },
        "yaxis": {
         "anchor": "x",
         "domain": [
          0,
          1
         ],
         "title": {
          "text": "Deviance Scores Soil_Temp"
         }
        }
       }
      }
     },
     "metadata": {},
     "output_type": "display_data"
    },
    {
     "name": "stdout",
     "output_type": "stream",
     "text": [
      "Pearsons correlation: -0.232\n"
     ]
    },
    {
     "data": {
      "text/plain": [
       "()"
      ]
     },
     "execution_count": 15,
     "metadata": {},
     "output_type": "execute_result"
    }
   ],
   "source": [
    "os.chdir('c:\\\\Users\\\\Jesse\\\\OneDrive\\\\Documenten\\\\Master BAOR\\\\Thesis\\\\GitHub\\\\dicra\\\\analytics\\\\sandbox\\\\notebooks\\\\crop_fires\\\\DPPD_Jesse\\\\Soil_Temp')\n",
    "Soil_Temp_df = pd.read_csv('Soil_Temp_years_mandal.csv', index_col=0)\n",
    "correlation(Soil_Temp_df, 2021, 'Soil_Temp', mandal_boundaries, 'Mandal_Nam')"
   ]
  }
 ],
 "metadata": {
  "kernelspec": {
   "display_name": "Python 3.8.11 ('gurobi')",
   "language": "python",
   "name": "python3"
  },
  "language_info": {
   "codemirror_mode": {
    "name": "ipython",
    "version": 3
   },
   "file_extension": ".py",
   "mimetype": "text/x-python",
   "name": "python",
   "nbconvert_exporter": "python",
   "pygments_lexer": "ipython3",
   "version": "3.8.11"
  },
  "orig_nbformat": 4,
  "vscode": {
   "interpreter": {
    "hash": "8137cca2c96495771a6332c43a92746d2e8f2f032dec7e1d4873522724197fcb"
   }
  }
 },
 "nbformat": 4,
 "nbformat_minor": 2
}
