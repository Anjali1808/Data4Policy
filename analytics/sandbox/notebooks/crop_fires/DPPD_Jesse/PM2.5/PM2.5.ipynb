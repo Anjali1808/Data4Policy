{
 "cells": [
  {
   "cell_type": "code",
   "execution_count": 12,
   "metadata": {},
   "outputs": [],
   "source": [
    "import pandas as pd\n",
    "import os\n",
    "import geopandas as gpd\n",
    "import geoplot\n",
    "import geoplot.crs as gcrs\n",
    "import matplotlib.pyplot as plt\n",
    "import rasterio\n",
    "from statsmodels.tsa.seasonal import STL\n",
    "import numpy as np\n",
    "from sklearn.linear_model import LinearRegression\n",
    "import datetime as dt\n",
    "from matplotlib.colors import TwoSlopeNorm\n",
    "import time\n",
    "from rasterstats import zonal_stats\n",
    "from scipy.stats import pearsonr\n",
    "import plotly.express as px"
   ]
  },
  {
   "cell_type": "code",
   "execution_count": 3,
   "metadata": {},
   "outputs": [],
   "source": [
    "os.chdir('c:\\\\Users\\\\Jesse\\\\OneDrive\\\\Documenten\\\\Master BAOR\\\\Thesis\\\\GitHub\\\\dicra\\\\analytics\\\\notebooks\\\\crop_fires\\\\Mandal_boundaries_pre')\n",
    "mandal_boundaries = gpd.read_file('mandal_boundaries.shp')\n",
    "mandal_boundaries = mandal_boundaries.reset_index()\n",
    "\n",
    "os.chdir('c:\\\\Users\\\\Jesse\\\\OneDrive\\\\Documenten\\\\Master BAOR\\\\Thesis\\\\GitHub\\\\dicra\\\\src\\\\data_preprocessing\\\\tsdm\\\\')\n",
    "district_boundaries = gpd.read_file('District_Boundary.shp')\n",
    "district_boundaries = district_boundaries.reset_index()"
   ]
  },
  {
   "cell_type": "code",
   "execution_count": 4,
   "metadata": {},
   "outputs": [],
   "source": [
    "def Trend_Score(df, index:int): \n",
    "    \"\"\"Determines the trend score of a polygon it takes as input a dataframe that counts the fires per region per month and the index of a specific region and returns \n",
    "    the deviance score of that particular region\"\"\"\n",
    "    df_selected = df[['ModifiedDateTime', index]]\n",
    "    df_selected = df_selected.sort_values(by=['ModifiedDateTime'])\n",
    "    df_selected.index = df_selected['ModifiedDateTime']\n",
    "\n",
    "    if not df_selected.empty:\n",
    "\n",
    "        X = df_selected[index]\n",
    "\n",
    "        #Decompose using STL Seasonal-Trend Decomposition using LOESS\n",
    "        stl = STL(X, seasonal=7)\n",
    "        res = stl.fit()\n",
    "\n",
    "        df_trend = res.trend.to_frame().reset_index().dropna()\n",
    "\n",
    "        #Date needs to be converted to a numerical value\n",
    "        df_trend['ModifiedDateTime_num'] = df_trend['ModifiedDateTime'].map(dt.datetime.toordinal)\n",
    "\n",
    "        #Set the data in the right format for Linear Regression\n",
    "        X = np.array(df_trend['ModifiedDateTime_num'])\n",
    "        X = X.reshape(-1, 1)\n",
    "        y = np.array(df_trend['trend'])\n",
    "        y = y.reshape(-1, 1)\n",
    "\n",
    "        #Perform Linear Regression and obtain the slope\n",
    "        reg = LinearRegression().fit(X, y)\n",
    "        y_pred_trend = reg.predict(X)\n",
    "        slope, intercept = np.polyfit(np.array(df_trend['ModifiedDateTime_num']), y_pred_trend,1)\n",
    "        line_slope = slope[0]\n",
    "\n",
    "    else:\n",
    "        #If the dataframe is empty there are no fires in that region at all, also no slope line. We are not interested in these regions.\n",
    "        line_slope = 'Unknown'\n",
    "\n",
    "    return(line_slope)"
   ]
  },
  {
   "cell_type": "code",
   "execution_count": 18,
   "metadata": {},
   "outputs": [],
   "source": [
    "def correlation(data, endyear, name, boundaries, col_name):\n",
    "    data['ModifiedDateTime'] = pd.to_datetime(data['ModifiedDateTime'])\n",
    "    data = data[data['ModifiedDateTime']<str(endyear+1)+'-01-01']\n",
    "\n",
    "    #We will loop over all boundaries and calculate it's deviant score\n",
    "    ids= []\n",
    "    scores = []\n",
    "\n",
    "    for i in data.columns[1:-1]:\n",
    "        ids.append(i)\n",
    "        #We use the previously defined function in order to calculate the trend score per specific area\n",
    "        score = Trend_Score(data, i)\n",
    "        scores.append(score)\n",
    "\n",
    "    #Create a Dataframe from the scores\n",
    "    DPPD_df = pd.DataFrame({'index': ids, 'Slope Score': scores}) \n",
    "\n",
    "    #Only select the regions that do not have unknown scores\n",
    "    DPPD_df = DPPD_df[DPPD_df['Slope Score'] != 'Unknown']\n",
    "\n",
    "    DPPD_df['index'] = DPPD_df['index'].astype(int)\n",
    "\n",
    "    #We merge the dataframe with the boundaries dataframe such that we have the geometry variable\n",
    "    DPPD_df = DPPD_df.merge(boundaries[['index', 'geometry']], how='left', on=['index'])\n",
    "\n",
    "    #Making sure data has the right type\n",
    "    DPPD_df = gpd.GeoDataFrame(DPPD_df, geometry = DPPD_df.geometry, crs = {'init': 'epsg:4326'}) \n",
    "    DPPD_df['Slope Score'] = DPPD_df['Slope Score'].astype('float')\n",
    "\n",
    "    if col_name == 'Dist_Name':\n",
    "        word = 'district level'\n",
    "    else:\n",
    "        word = 'mandal level'\n",
    "\n",
    "    #Define text for the plots\n",
    "    text = 'Changes ' + name + ' 2015-'+ str(endyear) + ' ' + word\n",
    "    ranges = max(abs(DPPD_df['Slope Score'].min()), (DPPD_df['Slope Score'].max()))\n",
    "    vmin, vmax, vcenter = ranges*-1 , ranges, 0\n",
    "    norm = TwoSlopeNorm(vmin= vmin , vcenter=vcenter, vmax= vmax) \n",
    "    # create a normalized colorbar\n",
    "    cmap = 'RdYlGn_r'\n",
    "    cbar = plt.cm.ScalarMappable(norm=norm, cmap=cmap)\n",
    "    DPPD_df.plot(column = 'Slope Score', \n",
    "                        legend = True, \n",
    "                        figsize = [20,10],\\\n",
    "                        legend_kwds = {'label': 'Deviance'}, \n",
    "                        cmap = 'RdYlGn_r',\n",
    "                        norm = norm)\n",
    "    plt.title(text)\n",
    "    os.chdir('c:\\\\Users\\\\Jesse\\\\OneDrive\\\\Documenten\\\\Master BAOR\\\\Thesis\\\\GitHub\\\\dicra\\\\analytics\\\\notebooks\\\\crop_fires\\\\DPPD_Jesse\\\\'+name+'\\\\result')\n",
    "    plt.savefig(text + '.png', bbox_inches='tight')\n",
    "    plt.show()\n",
    "\n",
    "    os.chdir('c:\\\\Users\\\\Jesse\\\\OneDrive\\\\Documenten\\\\Master BAOR\\\\Thesis\\\\GitHub\\\\dicra\\\\analytics\\\\notebooks\\\\crop_fires\\\\DPPD_Jesse\\\\Fires\\\\results')\n",
    "    DPPD_Fires = pd.read_csv('DPPD_Fires_'+str(endyear)+'.csv', index_col = 0)\n",
    "    DPPD_Fires.columns = ['index', 'Slope Score Fires', 'geometry']\n",
    "\n",
    "    Corr = DPPD_Fires.merge(DPPD_df[['Slope Score', 'index']], how = 'left', on = ['index'])\n",
    "    Corr = Corr.merge(boundaries[['index', col_name]], how = 'left', on = ['index'])\n",
    "    Corr = Corr.dropna()\n",
    "\n",
    "    fig = px.scatter(x=Corr['Slope Score Fires'], y=Corr['Slope Score'], color = Corr[col_name], title = 'Relation Between ' + name + ' and Amount of Fires Changes over the Years 2015-'+str(endyear),\n",
    "                    labels={\n",
    "                     \"x\": \"Deviance Scores Amount of Fires\",\n",
    "                     \"y\": \"Deviance Scores \" + name,\n",
    "                     \"color\": \"Area\"\n",
    "                 },)\n",
    "    fig.show()\n",
    "    os.chdir('c:\\\\Users\\\\Jesse\\\\OneDrive\\\\Documenten\\\\Master BAOR\\\\Thesis\\\\GitHub\\\\dicra\\\\analytics\\\\notebooks\\\\crop_fires\\\\DPPD_Jesse\\\\'+name+'\\\\result')\n",
    "    fig.write_image('Relation between '+ name +' and Fires Changes ' + word + '.png')\n",
    "    #plt.scatter(Corr['Slope Score Fires'], Corr['Slope Score'])\n",
    "    #plt.title('Relation Between ' + name + ' and Amount of Fires Changes over the Years 2015-'+str(endyear))\n",
    "    #plt.xlabel('Deviance Score Fires')\n",
    "    #plt.ylabel('Deviance Score '+name)\n",
    "    #os.chdir('c:\\\\Users\\\\Jesse\\\\OneDrive\\\\Documenten\\\\Master BAOR\\\\Thesis\\\\GitHub\\\\dicra\\\\analytics\\\\notebooks\\\\crop_fires\\\\DPPD_Jesse\\\\'+name+'\\\\result')\n",
    "    #plt.savefig('Relation between '+ name +' and Fires Changes.png', bbox_inches='tight')\n",
    "    #plt.show()\n",
    "\n",
    "    corr, _ = pearsonr(Corr['Slope Score Fires'], Corr['Slope Score'])\n",
    "    print('Pearsons correlation: %.3f' % corr)\n",
    "    return()"
   ]
  },
  {
   "cell_type": "code",
   "execution_count": 9,
   "metadata": {},
   "outputs": [
    {
     "name": "stderr",
     "output_type": "stream",
     "text": [
      "c:\\Users\\Jesse\\Anaconda3\\envs\\gurobi\\lib\\site-packages\\geopandas\\geodataframe.py:1322: SettingWithCopyWarning: \n",
      "A value is trying to be set on a copy of a slice from a DataFrame.\n",
      "Try using .loc[row_indexer,col_indexer] = value instead\n",
      "\n",
      "See the caveats in the documentation: https://pandas.pydata.org/pandas-docs/stable/user_guide/indexing.html#returning-a-view-versus-a-copy\n",
      "  super(GeoDataFrame, self).__setitem__(key, value)\n",
      "c:\\Users\\Jesse\\Anaconda3\\envs\\gurobi\\lib\\site-packages\\pandas\\core\\indexing.py:1732: SettingWithCopyWarning: \n",
      "A value is trying to be set on a copy of a slice from a DataFrame\n",
      "\n",
      "See the caveats in the documentation: https://pandas.pydata.org/pandas-docs/stable/user_guide/indexing.html#returning-a-view-versus-a-copy\n",
      "  self._setitem_single_block(indexer, value, name)\n",
      "c:\\Users\\Jesse\\Anaconda3\\envs\\gurobi\\lib\\site-packages\\pandas\\core\\indexing.py:1965: SettingWithCopyWarning: \n",
      "A value is trying to be set on a copy of a slice from a DataFrame\n",
      "\n",
      "See the caveats in the documentation: https://pandas.pydata.org/pandas-docs/stable/user_guide/indexing.html#returning-a-view-versus-a-copy\n",
      "  self.obj._check_is_chained_assignment_possible()\n"
     ]
    }
   ],
   "source": [
    "#Read data from tiff files\n",
    "boundaries = district_boundaries\n",
    "columns =['index', 'Dist_Name', 'geometry']\n",
    "\n",
    "PM_df = boundaries[columns]\n",
    "PM_df.head()\n",
    "\n",
    "months = ['01', '02', '03', '04', '05', '06', '07', '08', '09', '10', '11', '12']\n",
    "\n",
    "for year in range(2015, 2021):\n",
    "    for month in months:\n",
    "        os.chdir('c:\\\\Users\\\\Jesse\\\\OneDrive\\\\Documenten\\\\PM2.5')\n",
    "        tiff = 'V5GL02.HybridPM25c_0p10.Asia.'+ str(year)+str(month)+'-'+str(year)+str(month)+'.nc.tif'\n",
    "        lulc = rasterio.open(tiff, mode = 'r')\n",
    "        lulc_array = lulc.read(1) \n",
    "        affine = lulc.transform\n",
    "\n",
    "        PM_df[str(year) + '-'+ month + '-01'] = 0\n",
    "        for a in range(0, len(boundaries)):\n",
    "            PM_mean = zonal_stats(boundaries.iloc[a].geometry, lulc_array, affine = affine, geojson_out = True, nodata = lulc.nodata)[0]['properties']['mean']\n",
    "            PM_df[str(year) + '-'+ month + '-01'].iloc[a] = PM_mean\n",
    "\n",
    "PM_df = PM_df.dropna()\n",
    "PM_df = PM_df.iloc[:, 4:].transpose().reset_index()\n",
    "PM_df['ModifiedDateTime'] = pd.to_datetime(PM_df['index'])\n",
    "os.chdir('c:\\\\Users\\\\Jesse\\\\OneDrive\\\\Documenten\\\\Master BAOR\\\\Thesis\\\\GitHub\\\\dicra\\\\analytics\\\\notebooks\\\\crop_fires\\\\DPPD_Jesse\\\\PM2.5')\n",
    "PM_df.to_csv('PM_years_district.csv')"
   ]
  },
  {
   "cell_type": "code",
   "execution_count": 19,
   "metadata": {},
   "outputs": [
    {
     "name": "stderr",
     "output_type": "stream",
     "text": [
      "c:\\Users\\Jesse\\Anaconda3\\envs\\gurobi\\lib\\site-packages\\pyproj\\crs\\crs.py:53: FutureWarning:\n",
      "\n",
      "'+init=<authority>:<code>' syntax is deprecated. '<authority>:<code>' is the preferred initialization method. When making the change, be mindful of axis order changes: https://pyproj4.github.io/pyproj/stable/gotchas.html#axis-order-changes-in-proj-6\n",
      "\n"
     ]
    },
    {
     "data": {
      "image/png": "[encoded data removed]",
      "text/plain": [
       "<Figure size 2000x1000 with 2 Axes>"
      ]
     },
     "metadata": {},
     "output_type": "display_data"
    },
    {
     "data": {
      "application/vnd.plotly.v1+json": {
       "config": {
        "plotlyServerURL": "https://plot.ly"
       },
       "data": [
        {
         "hovertemplate": "Area=Bhadradri Kothagudem<br>Deviance Scores Amount of Fires=%{x}<br>Deviance Scores PM2.5=%{y}<extra></extra>",
         "legendgroup": "Bhadradri Kothagudem",
         "marker": {
          "color": "#636efa",
          "symbol": "circle"
         },
         "mode": "markers",
         "name": "Bhadradri Kothagudem",
         "orientation": "v",
         "showlegend": true,
         "type": "scatter",
         "x": [
          -0.00004088901834506138
         ],
         "xaxis": "x",
         "y": [
          0.00029100020075932613
         ],
         "yaxis": "y"
        },
        {
         "hovertemplate": "Area=Jagtial<br>Deviance Scores Amount of Fires=%{x}<br>Deviance Scores PM2.5=%{y}<extra></extra>",
         "legendgroup": "Jagtial",
         "marker": {
          "color": "#EF553B",
          "symbol": "circle"
         },
         "mode": "markers",
         "name": "Jagtial",
         "orientation": "v",
         "showlegend": true,
         "type": "scatter",
         "x": [
          0.000033159970329925566
         ],
         "xaxis": "x",
         "y": [
          0.002406823891845325
         ],
         "yaxis": "y"
        },
        {
         "hovertemplate": "Area=Mulugu<br>Deviance Scores Amount of Fires=%{x}<br>Deviance Scores PM2.5=%{y}<extra></extra>",
         "legendgroup": "Mulugu",
         "marker": {
          "color": "#00cc96",
          "symbol": "circle"
         },
         "mode": "markers",
         "name": "Mulugu",
         "orientation": "v",
         "showlegend": true,
         "type": "scatter",
         "x": [
          0.0001082254691249
         ],
         "xaxis": "x",
         "y": [
          0.0006207957099425173
         ],
         "yaxis": "y"
        },
        {
         "hovertemplate": "Area=Kamareddy<br>Deviance Scores Amount of Fires=%{x}<br>Deviance Scores PM2.5=%{y}<extra></extra>",
         "legendgroup": "Kamareddy",
         "marker": {
          "color": "#ab63fa",
          "symbol": "circle"
         },
         "mode": "markers",
         "name": "Kamareddy",
         "orientation": "v",
         "showlegend": true,
         "type": "scatter",
         "x": [
          0.0004342288476542
         ],
         "xaxis": "x",
         "y": [
          0.0013634726842445756
         ],
         "yaxis": "y"
        },
        {
         "hovertemplate": "Area=Karimnagar<br>Deviance Scores Amount of Fires=%{x}<br>Deviance Scores PM2.5=%{y}<extra></extra>",
         "legendgroup": "Karimnagar",
         "marker": {
          "color": "#FFA15A",
          "symbol": "circle"
         },
         "mode": "markers",
         "name": "Karimnagar",
         "orientation": "v",
         "showlegend": true,
         "type": "scatter",
         "x": [
          -0.000010754146799005015
         ],
         "xaxis": "x",
         "y": [
          0.0024401572592103247
         ],
         "yaxis": "y"
        },
        {
         "hovertemplate": "Area=Mahabubabad<br>Deviance Scores Amount of Fires=%{x}<br>Deviance Scores PM2.5=%{y}<extra></extra>",
         "legendgroup": "Mahabubabad",
         "marker": {
          "color": "#19d3f3",
          "symbol": "circle"
         },
         "mode": "markers",
         "name": "Mahabubabad",
         "orientation": "v",
         "showlegend": true,
         "type": "scatter",
         "x": [
          0.00007008307256509186
         ],
         "xaxis": "x",
         "y": [
          0.0013525990836210022
         ],
         "yaxis": "y"
        },
        {
         "hovertemplate": "Area=Mancherial<br>Deviance Scores Amount of Fires=%{x}<br>Deviance Scores PM2.5=%{y}<extra></extra>",
         "legendgroup": "Mancherial",
         "marker": {
          "color": "#FF6692",
          "symbol": "circle"
         },
         "mode": "markers",
         "name": "Mancherial",
         "orientation": "v",
         "showlegend": true,
         "type": "scatter",
         "x": [
          0.00003989457166433652
         ],
         "xaxis": "x",
         "y": [
          0.0013160913575084253
         ],
         "yaxis": "y"
        },
        {
         "hovertemplate": "Area=Medak<br>Deviance Scores Amount of Fires=%{x}<br>Deviance Scores PM2.5=%{y}<extra></extra>",
         "legendgroup": "Medak",
         "marker": {
          "color": "#B6E880",
          "symbol": "circle"
         },
         "mode": "markers",
         "name": "Medak",
         "orientation": "v",
         "showlegend": true,
         "type": "scatter",
         "x": [
          -0.00006533294884539602
         ],
         "xaxis": "x",
         "y": [
          0.0006731031702672087
         ],
         "yaxis": "y"
        },
        {
         "hovertemplate": "Area=Nagarkurnool<br>Deviance Scores Amount of Fires=%{x}<br>Deviance Scores PM2.5=%{y}<extra></extra>",
         "legendgroup": "Nagarkurnool",
         "marker": {
          "color": "#FF97FF",
          "symbol": "circle"
         },
         "mode": "markers",
         "name": "Nagarkurnool",
         "orientation": "v",
         "showlegend": true,
         "type": "scatter",
         "x": [
          0.00006469718978244212
         ],
         "xaxis": "x",
         "y": [
          0.0002118799636182572
         ],
         "yaxis": "y"
        },
        {
         "hovertemplate": "Area=Nalgonda<br>Deviance Scores Amount of Fires=%{x}<br>Deviance Scores PM2.5=%{y}<extra></extra>",
         "legendgroup": "Nalgonda",
         "marker": {
          "color": "#FECB52",
          "symbol": "circle"
         },
         "mode": "markers",
         "name": "Nalgonda",
         "orientation": "v",
         "showlegend": true,
         "type": "scatter",
         "x": [
          0.00002142038095706789
         ],
         "xaxis": "x",
         "y": [
          0.001207959490376717
         ],
         "yaxis": "y"
        },
        {
         "hovertemplate": "Area=Nirmal<br>Deviance Scores Amount of Fires=%{x}<br>Deviance Scores PM2.5=%{y}<extra></extra>",
         "legendgroup": "Nirmal",
         "marker": {
          "color": "#636efa",
          "symbol": "circle"
         },
         "mode": "markers",
         "name": "Nirmal",
         "orientation": "v",
         "showlegend": true,
         "type": "scatter",
         "x": [
          -0.0001653440600891
         ],
         "xaxis": "x",
         "y": [
          0.0018827688615494353
         ],
         "yaxis": "y"
        },
        {
         "hovertemplate": "Area=Rajanna Sircilla<br>Deviance Scores Amount of Fires=%{x}<br>Deviance Scores PM2.5=%{y}<extra></extra>",
         "legendgroup": "Rajanna Sircilla",
         "marker": {
          "color": "#EF553B",
          "symbol": "circle"
         },
         "mode": "markers",
         "name": "Rajanna Sircilla",
         "orientation": "v",
         "showlegend": true,
         "type": "scatter",
         "x": [
          0.0001308426789419
         ],
         "xaxis": "x",
         "y": [
          0.002187632397741178
         ],
         "yaxis": "y"
        },
        {
         "hovertemplate": "Area=Wanaparthy<br>Deviance Scores Amount of Fires=%{x}<br>Deviance Scores PM2.5=%{y}<extra></extra>",
         "legendgroup": "Wanaparthy",
         "marker": {
          "color": "#00cc96",
          "symbol": "circle"
         },
         "mode": "markers",
         "name": "Wanaparthy",
         "orientation": "v",
         "showlegend": true,
         "type": "scatter",
         "x": [
          0.00003208985196496777
         ],
         "xaxis": "x",
         "y": [
          0.0007214505801658482
         ],
         "yaxis": "y"
        },
        {
         "hovertemplate": "Area=Warangal Rural<br>Deviance Scores Amount of Fires=%{x}<br>Deviance Scores PM2.5=%{y}<extra></extra>",
         "legendgroup": "Warangal Rural",
         "marker": {
          "color": "#ab63fa",
          "symbol": "circle"
         },
         "mode": "markers",
         "name": "Warangal Rural",
         "orientation": "v",
         "showlegend": true,
         "type": "scatter",
         "x": [
          0.00008271170480365127
         ],
         "xaxis": "x",
         "y": [
          0.001616500976652857
         ],
         "yaxis": "y"
        },
        {
         "hovertemplate": "Area=Warangal Urban<br>Deviance Scores Amount of Fires=%{x}<br>Deviance Scores PM2.5=%{y}<extra></extra>",
         "legendgroup": "Warangal Urban",
         "marker": {
          "color": "#FFA15A",
          "symbol": "circle"
         },
         "mode": "markers",
         "name": "Warangal Urban",
         "orientation": "v",
         "showlegend": true,
         "type": "scatter",
         "x": [
          0.00008932921794487367
         ],
         "xaxis": "x",
         "y": [
          0.0016367641031150995
         ],
         "yaxis": "y"
        },
        {
         "hovertemplate": "Area=Yadadri Bhuvanagiri<br>Deviance Scores Amount of Fires=%{x}<br>Deviance Scores PM2.5=%{y}<extra></extra>",
         "legendgroup": "Yadadri Bhuvanagiri",
         "marker": {
          "color": "#19d3f3",
          "symbol": "circle"
         },
         "mode": "markers",
         "name": "Yadadri Bhuvanagiri",
         "orientation": "v",
         "showlegend": true,
         "type": "scatter",
         "x": [
          -0.00004597061920417864
         ],
         "xaxis": "x",
         "y": [
          0.0011272294391117144
         ],
         "yaxis": "y"
        },
        {
         "hovertemplate": "Area=Narayanpet<br>Deviance Scores Amount of Fires=%{x}<br>Deviance Scores PM2.5=%{y}<extra></extra>",
         "legendgroup": "Narayanpet",
         "marker": {
          "color": "#FF6692",
          "symbol": "circle"
         },
         "mode": "markers",
         "name": "Narayanpet",
         "orientation": "v",
         "showlegend": true,
         "type": "scatter",
         "x": [
          0.0001160787135332
         ],
         "xaxis": "x",
         "y": [
          0.00010412291415572005
         ],
         "yaxis": "y"
        },
        {
         "hovertemplate": "Area=Jogulamba Gadwal<br>Deviance Scores Amount of Fires=%{x}<br>Deviance Scores PM2.5=%{y}<extra></extra>",
         "legendgroup": "Jogulamba Gadwal",
         "marker": {
          "color": "#B6E880",
          "symbol": "circle"
         },
         "mode": "markers",
         "name": "Jogulamba Gadwal",
         "orientation": "v",
         "showlegend": true,
         "type": "scatter",
         "x": [
          0.000018756972155699903
         ],
         "xaxis": "x",
         "y": [
          0.0010991238519525368
         ],
         "yaxis": "y"
        },
        {
         "hovertemplate": "Area=Suryapet<br>Deviance Scores Amount of Fires=%{x}<br>Deviance Scores PM2.5=%{y}<extra></extra>",
         "legendgroup": "Suryapet",
         "marker": {
          "color": "#FF97FF",
          "symbol": "circle"
         },
         "mode": "markers",
         "name": "Suryapet",
         "orientation": "v",
         "showlegend": true,
         "type": "scatter",
         "x": [
          -0.0000038904181592098045
         ],
         "xaxis": "x",
         "y": [
          0.0016686438938840894
         ],
         "yaxis": "y"
        },
        {
         "hovertemplate": "Area=Medchal Malkajgiri<br>Deviance Scores Amount of Fires=%{x}<br>Deviance Scores PM2.5=%{y}<extra></extra>",
         "legendgroup": "Medchal Malkajgiri",
         "marker": {
          "color": "#FECB52",
          "symbol": "circle"
         },
         "mode": "markers",
         "name": "Medchal Malkajgiri",
         "orientation": "v",
         "showlegend": true,
         "type": "scatter",
         "x": [
          -0.0001818642189661
         ],
         "xaxis": "x",
         "y": [
          0.0003383052108059762
         ],
         "yaxis": "y"
        },
        {
         "hovertemplate": "Area=Adilabad<br>Deviance Scores Amount of Fires=%{x}<br>Deviance Scores PM2.5=%{y}<extra></extra>",
         "legendgroup": "Adilabad",
         "marker": {
          "color": "#636efa",
          "symbol": "circle"
         },
         "mode": "markers",
         "name": "Adilabad",
         "orientation": "v",
         "showlegend": true,
         "type": "scatter",
         "x": [
          -0.000005835742541243312
         ],
         "xaxis": "x",
         "y": [
          0.0011051274021572487
         ],
         "yaxis": "y"
        },
        {
         "hovertemplate": "Area=Hyderabad<br>Deviance Scores Amount of Fires=%{x}<br>Deviance Scores PM2.5=%{y}<extra></extra>",
         "legendgroup": "Hyderabad",
         "marker": {
          "color": "#EF553B",
          "symbol": "circle"
         },
         "mode": "markers",
         "name": "Hyderabad",
         "orientation": "v",
         "showlegend": true,
         "type": "scatter",
         "x": [
          -0.0001110389550185
         ],
         "xaxis": "x",
         "y": [
          0.0008051209578806272
         ],
         "yaxis": "y"
        },
        {
         "hovertemplate": "Area=Kumurambheem Asifabad<br>Deviance Scores Amount of Fires=%{x}<br>Deviance Scores PM2.5=%{y}<extra></extra>",
         "legendgroup": "Kumurambheem Asifabad",
         "marker": {
          "color": "#00cc96",
          "symbol": "circle"
         },
         "mode": "markers",
         "name": "Kumurambheem Asifabad",
         "orientation": "v",
         "showlegend": true,
         "type": "scatter",
         "x": [
          0.00006950982580189632
         ],
         "xaxis": "x",
         "y": [
          0.0006870257878896223
         ],
         "yaxis": "y"
        },
        {
         "hovertemplate": "Area=Jayashankar Bhupalpally<br>Deviance Scores Amount of Fires=%{x}<br>Deviance Scores PM2.5=%{y}<extra></extra>",
         "legendgroup": "Jayashankar Bhupalpally",
         "marker": {
          "color": "#ab63fa",
          "symbol": "circle"
         },
         "mode": "markers",
         "name": "Jayashankar Bhupalpally",
         "orientation": "v",
         "showlegend": true,
         "type": "scatter",
         "x": [
          0.000008204028129536852
         ],
         "xaxis": "x",
         "y": [
          0.0011920904369580882
         ],
         "yaxis": "y"
        },
        {
         "hovertemplate": "Area=Mahabubnagar<br>Deviance Scores Amount of Fires=%{x}<br>Deviance Scores PM2.5=%{y}<extra></extra>",
         "legendgroup": "Mahabubnagar",
         "marker": {
          "color": "#FFA15A",
          "symbol": "circle"
         },
         "mode": "markers",
         "name": "Mahabubnagar",
         "orientation": "v",
         "showlegend": true,
         "type": "scatter",
         "x": [
          -0.0000553353884466939
         ],
         "xaxis": "x",
         "y": [
          0.00003872026599611285
         ],
         "yaxis": "y"
        }
       ],
       "layout": {
        "legend": {
         "title": {
          "text": "Area"
         },
         "tracegroupgap": 0
        },
        "template": {
         "data": {
          "bar": [
           {
            "error_x": {
             "color": "#2a3f5f"
            },
            "error_y": {
             "color": "#2a3f5f"
            },
            "marker": {
             "line": {
              "color": "#E5ECF6",
              "width": 0.5
             },
             "pattern": {
              "fillmode": "overlay",
              "size": 10,
              "solidity": 0.2
             }
            },
            "type": "bar"
           }
          ],
          "barpolar": [
           {
            "marker": {
             "line": {
              "color": "#E5ECF6",
              "width": 0.5
             },
             "pattern": {
              "fillmode": "overlay",
              "size": 10,
              "solidity": 0.2
             }
            },
            "type": "barpolar"
           }
          ],
          "carpet": [
           {
            "aaxis": {
             "endlinecolor": "#2a3f5f",
             "gridcolor": "white",
             "linecolor": "white",
             "minorgridcolor": "white",
             "startlinecolor": "#2a3f5f"
            },
            "baxis": {
             "endlinecolor": "#2a3f5f",
             "gridcolor": "white",
             "linecolor": "white",
             "minorgridcolor": "white",
             "startlinecolor": "#2a3f5f"
            },
            "type": "carpet"
           }
          ],
          "choropleth": [
           {
            "colorbar": {
             "outlinewidth": 0,
             "ticks": ""
            },
            "type": "choropleth"
           }
          ],
          "contour": [
           {
            "colorbar": {
             "outlinewidth": 0,
             "ticks": ""
            },
            "colorscale": [
             [
              0,
              "#0d0887"
             ],
             [
              0.1111111111111111,
              "#46039f"
             ],
             [
              0.2222222222222222,
              "#7201a8"
             ],
             [
              0.3333333333333333,
              "#9c179e"
             ],
             [
              0.4444444444444444,
              "#bd3786"
             ],
             [
              0.5555555555555556,
              "#d8576b"
             ],
             [
              0.6666666666666666,
              "#ed7953"
             ],
             [
              0.7777777777777778,
              "#fb9f3a"
             ],
             [
              0.8888888888888888,
              "#fdca26"
             ],
             [
              1,
              "#f0f921"
             ]
            ],
            "type": "contour"
           }
          ],
          "contourcarpet": [
           {
            "colorbar": {
             "outlinewidth": 0,
             "ticks": ""
            },
            "type": "contourcarpet"
           }
          ],
          "heatmap": [
           {
            "colorbar": {
             "outlinewidth": 0,
             "ticks": ""
            },
            "colorscale": [
             [
              0,
              "#0d0887"
             ],
             [
              0.1111111111111111,
              "#46039f"
             ],
             [
              0.2222222222222222,
              "#7201a8"
             ],
             [
              0.3333333333333333,
              "#9c179e"
             ],
             [
              0.4444444444444444,
              "#bd3786"
             ],
             [
              0.5555555555555556,
              "#d8576b"
             ],
             [
              0.6666666666666666,
              "#ed7953"
             ],
             [
              0.7777777777777778,
              "#fb9f3a"
             ],
             [
              0.8888888888888888,
              "#fdca26"
             ],
             [
              1,
              "#f0f921"
             ]
            ],
            "type": "heatmap"
           }
          ],
          "heatmapgl": [
           {
            "colorbar": {
             "outlinewidth": 0,
             "ticks": ""
            },
            "colorscale": [
             [
              0,
              "#0d0887"
             ],
             [
              0.1111111111111111,
              "#46039f"
             ],
             [
              0.2222222222222222,
              "#7201a8"
             ],
             [
              0.3333333333333333,
              "#9c179e"
             ],
             [
              0.4444444444444444,
              "#bd3786"
             ],
             [
              0.5555555555555556,
              "#d8576b"
             ],
             [
              0.6666666666666666,
              "#ed7953"
             ],
             [
              0.7777777777777778,
              "#fb9f3a"
             ],
             [
              0.8888888888888888,
              "#fdca26"
             ],
             [
              1,
              "#f0f921"
             ]
            ],
            "type": "heatmapgl"
           }
          ],
          "histogram": [
           {
            "marker": {
             "pattern": {
              "fillmode": "overlay",
              "size": 10,
              "solidity": 0.2
             }
            },
            "type": "histogram"
           }
          ],
          "histogram2d": [
           {
            "colorbar": {
             "outlinewidth": 0,
             "ticks": ""
            },
            "colorscale": [
             [
              0,
              "#0d0887"
             ],
             [
              0.1111111111111111,
              "#46039f"
             ],
             [
              0.2222222222222222,
              "#7201a8"
             ],
             [
              0.3333333333333333,
              "#9c179e"
             ],
             [
              0.4444444444444444,
              "#bd3786"
             ],
             [
              0.5555555555555556,
              "#d8576b"
             ],
             [
              0.6666666666666666,
              "#ed7953"
             ],
             [
              0.7777777777777778,
              "#fb9f3a"
             ],
             [
              0.8888888888888888,
              "#fdca26"
             ],
             [
              1,
              "#f0f921"
             ]
            ],
            "type": "histogram2d"
           }
          ],
          "histogram2dcontour": [
           {
            "colorbar": {
             "outlinewidth": 0,
             "ticks": ""
            },
            "colorscale": [
             [
              0,
              "#0d0887"
             ],
             [
              0.1111111111111111,
              "#46039f"
             ],
             [
              0.2222222222222222,
              "#7201a8"
             ],
             [
              0.3333333333333333,
              "#9c179e"
             ],
             [
              0.4444444444444444,
              "#bd3786"
             ],
             [
              0.5555555555555556,
              "#d8576b"
             ],
             [
              0.6666666666666666,
              "#ed7953"
             ],
             [
              0.7777777777777778,
              "#fb9f3a"
             ],
             [
              0.8888888888888888,
              "#fdca26"
             ],
             [
              1,
              "#f0f921"
             ]
            ],
            "type": "histogram2dcontour"
           }
          ],
          "mesh3d": [
           {
            "colorbar": {
             "outlinewidth": 0,
             "ticks": ""
            },
            "type": "mesh3d"
           }
          ],
          "parcoords": [
           {
            "line": {
             "colorbar": {
              "outlinewidth": 0,
              "ticks": ""
             }
            },
            "type": "parcoords"
           }
          ],
          "pie": [
           {
            "automargin": true,
            "type": "pie"
           }
          ],
          "scatter": [
           {
            "marker": {
             "colorbar": {
              "outlinewidth": 0,
              "ticks": ""
             }
            },
            "type": "scatter"
           }
          ],
          "scatter3d": [
           {
            "line": {
             "colorbar": {
              "outlinewidth": 0,
              "ticks": ""
             }
            },
            "marker": {
             "colorbar": {
              "outlinewidth": 0,
              "ticks": ""
             }
            },
            "type": "scatter3d"
           }
          ],
          "scattercarpet": [
           {
            "marker": {
             "colorbar": {
              "outlinewidth": 0,
              "ticks": ""
             }
            },
            "type": "scattercarpet"
           }
          ],
          "scattergeo": [
           {
            "marker": {
             "colorbar": {
              "outlinewidth": 0,
              "ticks": ""
             }
            },
            "type": "scattergeo"
           }
          ],
          "scattergl": [
           {
            "marker": {
             "colorbar": {
              "outlinewidth": 0,
              "ticks": ""
             }
            },
            "type": "scattergl"
           }
          ],
          "scattermapbox": [
           {
            "marker": {
             "colorbar": {
              "outlinewidth": 0,
              "ticks": ""
             }
            },
            "type": "scattermapbox"
           }
          ],
          "scatterpolar": [
           {
            "marker": {
             "colorbar": {
              "outlinewidth": 0,
              "ticks": ""
             }
            },
            "type": "scatterpolar"
           }
          ],
          "scatterpolargl": [
           {
            "marker": {
             "colorbar": {
              "outlinewidth": 0,
              "ticks": ""
             }
            },
            "type": "scatterpolargl"
           }
          ],
          "scatterternary": [
           {
            "marker": {
             "colorbar": {
              "outlinewidth": 0,
              "ticks": ""
             }
            },
            "type": "scatterternary"
           }
          ],
          "surface": [
           {
            "colorbar": {
             "outlinewidth": 0,
             "ticks": ""
            },
            "colorscale": [
             [
              0,
              "#0d0887"
             ],
             [
              0.1111111111111111,
              "#46039f"
             ],
             [
              0.2222222222222222,
              "#7201a8"
             ],
             [
              0.3333333333333333,
              "#9c179e"
             ],
             [
              0.4444444444444444,
              "#bd3786"
             ],
             [
              0.5555555555555556,
              "#d8576b"
             ],
             [
              0.6666666666666666,
              "#ed7953"
             ],
             [
              0.7777777777777778,
              "#fb9f3a"
             ],
             [
              0.8888888888888888,
              "#fdca26"
             ],
             [
              1,
              "#f0f921"
             ]
            ],
            "type": "surface"
           }
          ],
          "table": [
           {
            "cells": {
             "fill": {
              "color": "#EBF0F8"
             },
             "line": {
              "color": "white"
             }
            },
            "header": {
             "fill": {
              "color": "#C8D4E3"
             },
             "line": {
              "color": "white"
             }
            },
            "type": "table"
           }
          ]
         },
         "layout": {
          "annotationdefaults": {
           "arrowcolor": "#2a3f5f",
           "arrowhead": 0,
           "arrowwidth": 1
          },
          "autotypenumbers": "strict",
          "coloraxis": {
           "colorbar": {
            "outlinewidth": 0,
            "ticks": ""
           }
          },
          "colorscale": {
           "diverging": [
            [
             0,
             "#8e0152"
            ],
            [
             0.1,
             "#c51b7d"
            ],
            [
             0.2,
             "#de77ae"
            ],
            [
             0.3,
             "#f1b6da"
            ],
            [
             0.4,
             "#fde0ef"
            ],
            [
             0.5,
             "#f7f7f7"
            ],
            [
             0.6,
             "#e6f5d0"
            ],
            [
             0.7,
             "#b8e186"
            ],
            [
             0.8,
             "#7fbc41"
            ],
            [
             0.9,
             "#4d9221"
            ],
            [
             1,
             "#276419"
            ]
           ],
           "sequential": [
            [
             0,
             "#0d0887"
            ],
            [
             0.1111111111111111,
             "#46039f"
            ],
            [
             0.2222222222222222,
             "#7201a8"
            ],
            [
             0.3333333333333333,
             "#9c179e"
            ],
            [
             0.4444444444444444,
             "#bd3786"
            ],
            [
             0.5555555555555556,
             "#d8576b"
            ],
            [
             0.6666666666666666,
             "#ed7953"
            ],
            [
             0.7777777777777778,
             "#fb9f3a"
            ],
            [
             0.8888888888888888,
             "#fdca26"
            ],
            [
             1,
             "#f0f921"
            ]
           ],
           "sequentialminus": [
            [
             0,
             "#0d0887"
            ],
            [
             0.1111111111111111,
             "#46039f"
            ],
            [
             0.2222222222222222,
             "#7201a8"
            ],
            [
             0.3333333333333333,
             "#9c179e"
            ],
            [
             0.4444444444444444,
             "#bd3786"
            ],
            [
             0.5555555555555556,
             "#d8576b"
            ],
            [
             0.6666666666666666,
             "#ed7953"
            ],
            [
             0.7777777777777778,
             "#fb9f3a"
            ],
            [
             0.8888888888888888,
             "#fdca26"
            ],
            [
             1,
             "#f0f921"
            ]
           ]
          },
          "colorway": [
           "#636efa",
           "#EF553B",
           "#00cc96",
           "#ab63fa",
           "#FFA15A",
           "#19d3f3",
           "#FF6692",
           "#B6E880",
           "#FF97FF",
           "#FECB52"
          ],
          "font": {
           "color": "#2a3f5f"
          },
          "geo": {
           "bgcolor": "white",
           "lakecolor": "white",
           "landcolor": "#E5ECF6",
           "showlakes": true,
           "showland": true,
           "subunitcolor": "white"
          },
          "hoverlabel": {
           "align": "left"
          },
          "hovermode": "closest",
          "mapbox": {
           "style": "light"
          },
          "paper_bgcolor": "white",
          "plot_bgcolor": "#E5ECF6",
          "polar": {
           "angularaxis": {
            "gridcolor": "white",
            "linecolor": "white",
            "ticks": ""
           },
           "bgcolor": "#E5ECF6",
           "radialaxis": {
            "gridcolor": "white",
            "linecolor": "white",
            "ticks": ""
           }
          },
          "scene": {
           "xaxis": {
            "backgroundcolor": "#E5ECF6",
            "gridcolor": "white",
            "gridwidth": 2,
            "linecolor": "white",
            "showbackground": true,
            "ticks": "",
            "zerolinecolor": "white"
           },
           "yaxis": {
            "backgroundcolor": "#E5ECF6",
            "gridcolor": "white",
            "gridwidth": 2,
            "linecolor": "white",
            "showbackground": true,
            "ticks": "",
            "zerolinecolor": "white"
           },
           "zaxis": {
            "backgroundcolor": "#E5ECF6",
            "gridcolor": "white",
            "gridwidth": 2,
            "linecolor": "white",
            "showbackground": true,
            "ticks": "",
            "zerolinecolor": "white"
           }
          },
          "shapedefaults": {
           "line": {
            "color": "#2a3f5f"
           }
          },
          "ternary": {
           "aaxis": {
            "gridcolor": "white",
            "linecolor": "white",
            "ticks": ""
           },
           "baxis": {
            "gridcolor": "white",
            "linecolor": "white",
            "ticks": ""
           },
           "bgcolor": "#E5ECF6",
           "caxis": {
            "gridcolor": "white",
            "linecolor": "white",
            "ticks": ""
           }
          },
          "title": {
           "x": 0.05
          },
          "xaxis": {
           "automargin": true,
           "gridcolor": "white",
           "linecolor": "white",
           "ticks": "",
           "title": {
            "standoff": 15
           },
           "zerolinecolor": "white",
           "zerolinewidth": 2
          },
          "yaxis": {
           "automargin": true,
           "gridcolor": "white",
           "linecolor": "white",
           "ticks": "",
           "title": {
            "standoff": 15
           },
           "zerolinecolor": "white",
           "zerolinewidth": 2
          }
         }
        },
        "title": {
         "text": "Relation Between PM2.5 and Amount of Fires Changes over the Years 2015-2020"
        },
        "xaxis": {
         "anchor": "y",
         "domain": [
          0,
          1
         ],
         "title": {
          "text": "Deviance Scores Amount of Fires"
         }
        },
        "yaxis": {
         "anchor": "x",
         "domain": [
          0,
          1
         ],
         "title": {
          "text": "Deviance Scores PM2.5"
         }
        }
       }
      }
     },
     "metadata": {},
     "output_type": "display_data"
    },
    {
     "name": "stdout",
     "output_type": "stream",
     "text": [
      "Pearsons correlation: 0.146\n"
     ]
    },
    {
     "data": {
      "text/plain": [
       "()"
      ]
     },
     "execution_count": 19,
     "metadata": {},
     "output_type": "execute_result"
    }
   ],
   "source": [
    "os.chdir('c:\\\\Users\\\\Jesse\\\\OneDrive\\\\Documenten\\\\Master BAOR\\\\Thesis\\\\GitHub\\\\dicra\\\\analytics\\\\notebooks\\\\crop_fires\\\\DPPD_Jesse\\\\PM2.5')\n",
    "PM_df = pd.read_csv('PM_years_district.csv', index_col=0)\n",
    "correlation(PM_df, 2020, 'PM2.5', district_boundaries, 'Dist_Name')"
   ]
  },
  {
   "cell_type": "code",
   "execution_count": 20,
   "metadata": {},
   "outputs": [
    {
     "name": "stderr",
     "output_type": "stream",
     "text": [
      "c:\\Users\\Jesse\\Anaconda3\\envs\\gurobi\\lib\\site-packages\\pyproj\\crs\\crs.py:53: FutureWarning:\n",
      "\n",
      "'+init=<authority>:<code>' syntax is deprecated. '<authority>:<code>' is the preferred initialization method. When making the change, be mindful of axis order changes: https://pyproj4.github.io/pyproj/stable/gotchas.html#axis-order-changes-in-proj-6\n",
      "\n"
     ]
    },
    {
     "data": {
      "image/png": "[encoded data removed]",
      "text/plain": [
       "<Figure size 2000x1000 with 2 Axes>"
      ]
     },
     "metadata": {},
     "output_type": "display_data"
    },
    {
     "data": {
      "application/vnd.plotly.v1+json": {
       "config": {
        "plotlyServerURL": "https://plot.ly"
       },
       "data": [
        {
         "hovertemplate": "Area=Abdullapurmet<br>Deviance Scores Amount of Fires=%{x}<br>Deviance Scores PM2.5=%{y}<extra></extra>",
         "legendgroup": "Abdullapurmet",
         "marker": {
          "color": "#636efa",
          "symbol": "circle"
         },
         "mode": "markers",
         "name": "Abdullapurmet",
         "orientation": "v",
         "showlegend": true,
         "type": "scatter",
         "x": [
          -0.00004088901834506138
         ],
         "xaxis": "x",
         "y": [
          0.00013763140420941687
         ],
         "yaxis": "y"
        },
        {
         "hovertemplate": "Area=Achampet<br>Deviance Scores Amount of Fires=%{x}<br>Deviance Scores PM2.5=%{y}<extra></extra>",
         "legendgroup": "Achampet",
         "marker": {
          "color": "#EF553B",
          "symbol": "circle"
         },
         "mode": "markers",
         "name": "Achampet",
         "orientation": "v",
         "showlegend": true,
         "type": "scatter",
         "x": [
          0.000033159970329925566
         ],
         "xaxis": "x",
         "y": [
          0.00008189878831580743
         ],
         "yaxis": "y"
        },
        {
         "hovertemplate": "Area=Addagudur<br>Deviance Scores Amount of Fires=%{x}<br>Deviance Scores PM2.5=%{y}<extra></extra>",
         "legendgroup": "Addagudur",
         "marker": {
          "color": "#00cc96",
          "symbol": "circle"
         },
         "mode": "markers",
         "name": "Addagudur",
         "orientation": "v",
         "showlegend": true,
         "type": "scatter",
         "x": [
          0.0001082254691249
         ],
         "xaxis": "x",
         "y": [
          0.0017476801430719227
         ],
         "yaxis": "y"
        },
        {
         "hovertemplate": "Area=Addakal<br>Deviance Scores Amount of Fires=%{x}<br>Deviance Scores PM2.5=%{y}<extra></extra>",
         "legendgroup": "Addakal",
         "marker": {
          "color": "#ab63fa",
          "symbol": "circle"
         },
         "mode": "markers",
         "name": "Addakal",
         "orientation": "v",
         "showlegend": true,
         "type": "scatter",
         "x": [
          0.0004342288476542
         ],
         "xaxis": "x",
         "y": [
          0.00046669913446995893
         ],
         "yaxis": "y"
        },
        {
         "hovertemplate": "Area=Adilabad Rural<br>Deviance Scores Amount of Fires=%{x}<br>Deviance Scores PM2.5=%{y}<extra></extra>",
         "legendgroup": "Adilabad Rural",
         "marker": {
          "color": "#FFA15A",
          "symbol": "circle"
         },
         "mode": "markers",
         "name": "Adilabad Rural",
         "orientation": "v",
         "showlegend": true,
         "type": "scatter",
         "x": [
          -0.000010754146799005015
         ],
         "xaxis": "x",
         "y": [
          0.0012556894957627628
         ],
         "yaxis": "y"
        },
        {
         "hovertemplate": "Area=Aiza<br>Deviance Scores Amount of Fires=%{x}<br>Deviance Scores PM2.5=%{y}<extra></extra>",
         "legendgroup": "Aiza",
         "marker": {
          "color": "#19d3f3",
          "symbol": "circle"
         },
         "mode": "markers",
         "name": "Aiza",
         "orientation": "v",
         "showlegend": true,
         "type": "scatter",
         "x": [
          0.00007008307256509186
         ],
         "xaxis": "x",
         "y": [
          0.0013391437532140392
         ],
         "yaxis": "y"
        },
        {
         "hovertemplate": "Area=Akkannapet<br>Deviance Scores Amount of Fires=%{x}<br>Deviance Scores PM2.5=%{y}<extra></extra>",
         "legendgroup": "Akkannapet",
         "marker": {
          "color": "#FF6692",
          "symbol": "circle"
         },
         "mode": "markers",
         "name": "Akkannapet",
         "orientation": "v",
         "showlegend": true,
         "type": "scatter",
         "x": [
          0.00003989457166433652
         ],
         "xaxis": "x",
         "y": [
          0.0014383657916961167
         ],
         "yaxis": "y"
        },
        {
         "hovertemplate": "Area=Alair<br>Deviance Scores Amount of Fires=%{x}<br>Deviance Scores PM2.5=%{y}<extra></extra>",
         "legendgroup": "Alair",
         "marker": {
          "color": "#B6E880",
          "symbol": "circle"
         },
         "mode": "markers",
         "name": "Alair",
         "orientation": "v",
         "showlegend": true,
         "type": "scatter",
         "x": [
          -0.00006533294884539602
         ],
         "xaxis": "x",
         "y": [
          0.001404717893631039
         ],
         "yaxis": "y"
        },
        {
         "hovertemplate": "Area=Alampur<br>Deviance Scores Amount of Fires=%{x}<br>Deviance Scores PM2.5=%{y}<extra></extra>",
         "legendgroup": "Alampur",
         "marker": {
          "color": "#FF97FF",
          "symbol": "circle"
         },
         "mode": "markers",
         "name": "Alampur",
         "orientation": "v",
         "showlegend": true,
         "type": "scatter",
         "x": [
          0.00006469718978244212
         ],
         "xaxis": "x",
         "y": [
          0.0008468716117249513
         ],
         "yaxis": "y"
        },
        {
         "hovertemplate": "Area=Alladurg<br>Deviance Scores Amount of Fires=%{x}<br>Deviance Scores PM2.5=%{y}<extra></extra>",
         "legendgroup": "Alladurg",
         "marker": {
          "color": "#FECB52",
          "symbol": "circle"
         },
         "mode": "markers",
         "name": "Alladurg",
         "orientation": "v",
         "showlegend": true,
         "type": "scatter",
         "x": [
          0.00002142038095706789
         ],
         "xaxis": "x",
         "y": [
          0.0006284492837344273
         ],
         "yaxis": "y"
        },
        {
         "hovertemplate": "Area=Allapalli<br>Deviance Scores Amount of Fires=%{x}<br>Deviance Scores PM2.5=%{y}<extra></extra>",
         "legendgroup": "Allapalli",
         "marker": {
          "color": "#636efa",
          "symbol": "circle"
         },
         "mode": "markers",
         "name": "Allapalli",
         "orientation": "v",
         "showlegend": true,
         "type": "scatter",
         "x": [
          -0.0001653440600891
         ],
         "xaxis": "x",
         "y": [
          0.0005533845815511541
         ],
         "yaxis": "y"
        },
        {
         "hovertemplate": "Area=Ananthagiri<br>Deviance Scores Amount of Fires=%{x}<br>Deviance Scores PM2.5=%{y}<extra></extra>",
         "legendgroup": "Ananthagiri",
         "marker": {
          "color": "#EF553B",
          "symbol": "circle"
         },
         "mode": "markers",
         "name": "Ananthagiri",
         "orientation": "v",
         "showlegend": true,
         "type": "scatter",
         "x": [
          0.00003208985196496777
         ],
         "xaxis": "x",
         "y": [
          0.0010482398922602722
         ],
         "yaxis": "y"
        },
        {
         "hovertemplate": "Area=Andole<br>Deviance Scores Amount of Fires=%{x}<br>Deviance Scores PM2.5=%{y}<extra></extra>",
         "legendgroup": "Andole",
         "marker": {
          "color": "#00cc96",
          "symbol": "circle"
         },
         "mode": "markers",
         "name": "Andole",
         "orientation": "v",
         "showlegend": true,
         "type": "scatter",
         "x": [
          0.00008271170480365127
         ],
         "xaxis": "x",
         "y": [
          0.0008528600146345677
         ],
         "yaxis": "y"
        },
        {
         "hovertemplate": "Area=Annapureddipalle<br>Deviance Scores Amount of Fires=%{x}<br>Deviance Scores PM2.5=%{y}<extra></extra>",
         "legendgroup": "Annapureddipalle",
         "marker": {
          "color": "#ab63fa",
          "symbol": "circle"
         },
         "mode": "markers",
         "name": "Annapureddipalle",
         "orientation": "v",
         "showlegend": true,
         "type": "scatter",
         "x": [
          0.00008932921794487367
         ],
         "xaxis": "x",
         "y": [
          0.0004824536222248274
         ],
         "yaxis": "y"
        },
        {
         "hovertemplate": "Area=Anumula_Haliya<br>Deviance Scores Amount of Fires=%{x}<br>Deviance Scores PM2.5=%{y}<extra></extra>",
         "legendgroup": "Anumula_Haliya",
         "marker": {
          "color": "#FFA15A",
          "symbol": "circle"
         },
         "mode": "markers",
         "name": "Anumula_Haliya",
         "orientation": "v",
         "showlegend": true,
         "type": "scatter",
         "x": [
          -0.00004597061920417864
         ],
         "xaxis": "x",
         "y": [
          0.001479497924123544
         ],
         "yaxis": "y"
        },
        {
         "hovertemplate": "Area=Armoor<br>Deviance Scores Amount of Fires=%{x}<br>Deviance Scores PM2.5=%{y}<extra></extra>",
         "legendgroup": "Armoor",
         "marker": {
          "color": "#19d3f3",
          "symbol": "circle"
         },
         "mode": "markers",
         "name": "Armoor",
         "orientation": "v",
         "showlegend": true,
         "type": "scatter",
         "x": [
          0.0001160787135332
         ],
         "xaxis": "x",
         "y": [
          0.003088043660497134
         ],
         "yaxis": "y"
        },
        {
         "hovertemplate": "Area=Asifabad<br>Deviance Scores Amount of Fires=%{x}<br>Deviance Scores PM2.5=%{y}<extra></extra>",
         "legendgroup": "Asifabad",
         "marker": {
          "color": "#FF6692",
          "symbol": "circle"
         },
         "mode": "markers",
         "name": "Asifabad",
         "orientation": "v",
         "showlegend": true,
         "type": "scatter",
         "x": [
          0.000018756972155699903
         ],
         "xaxis": "x",
         "y": [
          0.0005551632868452822
         ],
         "yaxis": "y"
        },
        {
         "hovertemplate": "Area=Aswapuram<br>Deviance Scores Amount of Fires=%{x}<br>Deviance Scores PM2.5=%{y}<extra></extra>",
         "legendgroup": "Aswapuram",
         "marker": {
          "color": "#B6E880",
          "symbol": "circle"
         },
         "mode": "markers",
         "name": "Aswapuram",
         "orientation": "v",
         "showlegend": true,
         "type": "scatter",
         "x": [
          -0.0000038904181592098045
         ],
         "xaxis": "x",
         "y": [
          0.0005744582149388888
         ],
         "yaxis": "y"
        },
        {
         "hovertemplate": "Area=Aswaraopeta<br>Deviance Scores Amount of Fires=%{x}<br>Deviance Scores PM2.5=%{y}<extra></extra>",
         "legendgroup": "Aswaraopeta",
         "marker": {
          "color": "#FF97FF",
          "symbol": "circle"
         },
         "mode": "markers",
         "name": "Aswaraopeta",
         "orientation": "v",
         "showlegend": true,
         "type": "scatter",
         "x": [
          -0.0001818642189661
         ],
         "xaxis": "x",
         "y": [
          0.00041650308862733424
         ],
         "yaxis": "y"
        },
        {
         "hovertemplate": "Area=Athmakur (M)<br>Deviance Scores Amount of Fires=%{x}<br>Deviance Scores PM2.5=%{y}<extra></extra>",
         "legendgroup": "Athmakur (M)",
         "marker": {
          "color": "#FECB52",
          "symbol": "circle"
         },
         "mode": "markers",
         "name": "Athmakur (M)",
         "orientation": "v",
         "showlegend": true,
         "type": "scatter",
         "x": [
          -0.000005835742541243312
         ],
         "xaxis": "x",
         "y": [
          0.0012244707450604082
         ],
         "yaxis": "y"
        },
        {
         "hovertemplate": "Area=Atmakur<br>Deviance Scores Amount of Fires=%{x}<br>Deviance Scores PM2.5=%{y}<extra></extra>",
         "legendgroup": "Atmakur",
         "marker": {
          "color": "#636efa",
          "symbol": "circle"
         },
         "mode": "markers",
         "name": "Atmakur",
         "orientation": "v",
         "showlegend": true,
         "type": "scatter",
         "x": [
          -0.0001110389550185,
          0.00006950982580189632
         ],
         "xaxis": "x",
         "y": [
          0.0009137328097430619,
          0.001640248249126814
         ],
         "yaxis": "y"
        },
        {
         "hovertemplate": "Area=Atmakur_S<br>Deviance Scores Amount of Fires=%{x}<br>Deviance Scores PM2.5=%{y}<extra></extra>",
         "legendgroup": "Atmakur_S",
         "marker": {
          "color": "#EF553B",
          "symbol": "circle"
         },
         "mode": "markers",
         "name": "Atmakur_S",
         "orientation": "v",
         "showlegend": true,
         "type": "scatter",
         "x": [
          0.000008204028129536852
         ],
         "xaxis": "x",
         "y": [
          0.0018606751465929014
         ],
         "yaxis": "y"
        },
        {
         "hovertemplate": "Area=B.Pochampally<br>Deviance Scores Amount of Fires=%{x}<br>Deviance Scores PM2.5=%{y}<extra></extra>",
         "legendgroup": "B.Pochampally",
         "marker": {
          "color": "#00cc96",
          "symbol": "circle"
         },
         "mode": "markers",
         "name": "B.Pochampally",
         "orientation": "v",
         "showlegend": true,
         "type": "scatter",
         "x": [
          -0.0000553353884466939
         ],
         "xaxis": "x",
         "y": [
          0.001204401616216678
         ],
         "yaxis": "y"
        },
        {
         "hovertemplate": "Area=Bachannapet<br>Deviance Scores Amount of Fires=%{x}<br>Deviance Scores PM2.5=%{y}<extra></extra>",
         "legendgroup": "Bachannapet",
         "marker": {
          "color": "#ab63fa",
          "symbol": "circle"
         },
         "mode": "markers",
         "name": "Bachannapet",
         "orientation": "v",
         "showlegend": true,
         "type": "scatter",
         "x": [
          0.00003494612392827381
         ],
         "xaxis": "x",
         "y": [
          0.0013248309074350552
         ],
         "yaxis": "y"
        },
        {
         "hovertemplate": "Area=Balanagar<br>Deviance Scores Amount of Fires=%{x}<br>Deviance Scores PM2.5=%{y}<extra></extra>",
         "legendgroup": "Balanagar",
         "marker": {
          "color": "#FFA15A",
          "symbol": "circle"
         },
         "mode": "markers",
         "name": "Balanagar",
         "orientation": "v",
         "showlegend": true,
         "type": "scatter",
         "x": [
          0.0001367996758842
         ],
         "xaxis": "x",
         "y": [
          -0.00044553390821417614
         ],
         "yaxis": "y"
        },
        {
         "hovertemplate": "Area=Balapur<br>Deviance Scores Amount of Fires=%{x}<br>Deviance Scores PM2.5=%{y}<extra></extra>",
         "legendgroup": "Balapur",
         "marker": {
          "color": "#19d3f3",
          "symbol": "circle"
         },
         "mode": "markers",
         "name": "Balapur",
         "orientation": "v",
         "showlegend": true,
         "type": "scatter",
         "x": [
          -0.000004603398627196654
         ],
         "xaxis": "x",
         "y": [
          -0.00006064389769745944
         ],
         "yaxis": "y"
        },
        {
         "hovertemplate": "Area=Balkonda<br>Deviance Scores Amount of Fires=%{x}<br>Deviance Scores PM2.5=%{y}<extra></extra>",
         "legendgroup": "Balkonda",
         "marker": {
          "color": "#FF6692",
          "symbol": "circle"
         },
         "mode": "markers",
         "name": "Balkonda",
         "orientation": "v",
         "showlegend": true,
         "type": "scatter",
         "x": [
          0.00003742755740114161
         ],
         "xaxis": "x",
         "y": [
          0.0032773942798724493
         ],
         "yaxis": "y"
        },
        {
         "hovertemplate": "Area=Balmoor<br>Deviance Scores Amount of Fires=%{x}<br>Deviance Scores PM2.5=%{y}<extra></extra>",
         "legendgroup": "Balmoor",
         "marker": {
          "color": "#B6E880",
          "symbol": "circle"
         },
         "mode": "markers",
         "name": "Balmoor",
         "orientation": "v",
         "showlegend": true,
         "type": "scatter",
         "x": [
          0.000004180315719419337
         ],
         "xaxis": "x",
         "y": [
          0.00006262825106771734
         ],
         "yaxis": "y"
        },
        {
         "hovertemplate": "Area=Bantwaram<br>Deviance Scores Amount of Fires=%{x}<br>Deviance Scores PM2.5=%{y}<extra></extra>",
         "legendgroup": "Bantwaram",
         "marker": {
          "color": "#FF97FF",
          "symbol": "circle"
         },
         "mode": "markers",
         "name": "Bantwaram",
         "orientation": "v",
         "showlegend": true,
         "type": "scatter",
         "x": [
          -0.00002921160650931244
         ],
         "xaxis": "x",
         "y": [
          -0.0005768534279020285
         ],
         "yaxis": "y"
        },
        {
         "hovertemplate": "Area=Basar<br>Deviance Scores Amount of Fires=%{x}<br>Deviance Scores PM2.5=%{y}<extra></extra>",
         "legendgroup": "Basar",
         "marker": {
          "color": "#FECB52",
          "symbol": "circle"
         },
         "mode": "markers",
         "name": "Basar",
         "orientation": "v",
         "showlegend": true,
         "type": "scatter",
         "x": [
          -0.00004161451765777618
         ],
         "xaxis": "x",
         "y": [
          0.002932145231205972
         ],
         "yaxis": "y"
        },
        {
         "hovertemplate": "Area=Basheerabad<br>Deviance Scores Amount of Fires=%{x}<br>Deviance Scores PM2.5=%{y}<extra></extra>",
         "legendgroup": "Basheerabad",
         "marker": {
          "color": "#636efa",
          "symbol": "circle"
         },
         "mode": "markers",
         "name": "Basheerabad",
         "orientation": "v",
         "showlegend": true,
         "type": "scatter",
         "x": [
          0.000012970941484764711
         ],
         "xaxis": "x",
         "y": [
          -0.0004338653956599419
         ],
         "yaxis": "y"
        },
        {
         "hovertemplate": "Area=Bayyaram<br>Deviance Scores Amount of Fires=%{x}<br>Deviance Scores PM2.5=%{y}<extra></extra>",
         "legendgroup": "Bayyaram",
         "marker": {
          "color": "#EF553B",
          "symbol": "circle"
         },
         "mode": "markers",
         "name": "Bayyaram",
         "orientation": "v",
         "showlegend": true,
         "type": "scatter",
         "x": [
          -0.0002716570737794
         ],
         "xaxis": "x",
         "y": [
          0.0011596314046066168
         ],
         "yaxis": "y"
        },
        {
         "hovertemplate": "Area=Bazarhathnoor<br>Deviance Scores Amount of Fires=%{x}<br>Deviance Scores PM2.5=%{y}<extra></extra>",
         "legendgroup": "Bazarhathnoor",
         "marker": {
          "color": "#00cc96",
          "symbol": "circle"
         },
         "mode": "markers",
         "name": "Bazarhathnoor",
         "orientation": "v",
         "showlegend": true,
         "type": "scatter",
         "x": [
          -0.00001822546651379063
         ],
         "xaxis": "x",
         "y": [
          0.0013445310475613248
         ],
         "yaxis": "y"
        },
        {
         "hovertemplate": "Area=Beerpur<br>Deviance Scores Amount of Fires=%{x}<br>Deviance Scores PM2.5=%{y}<extra></extra>",
         "legendgroup": "Beerpur",
         "marker": {
          "color": "#ab63fa",
          "symbol": "circle"
         },
         "mode": "markers",
         "name": "Beerpur",
         "orientation": "v",
         "showlegend": true,
         "type": "scatter",
         "x": [
          0.00002511207608455752
         ],
         "xaxis": "x",
         "y": [
          0.00230220653180405
         ],
         "yaxis": "y"
        },
        {
         "hovertemplate": "Area=Bejjanki<br>Deviance Scores Amount of Fires=%{x}<br>Deviance Scores PM2.5=%{y}<extra></extra>",
         "legendgroup": "Bejjanki",
         "marker": {
          "color": "#FFA15A",
          "symbol": "circle"
         },
         "mode": "markers",
         "name": "Bejjanki",
         "orientation": "v",
         "showlegend": true,
         "type": "scatter",
         "x": [
          0.000020397215761301225
         ],
         "xaxis": "x",
         "y": [
          0.0018291269029341024
         ],
         "yaxis": "y"
        },
        {
         "hovertemplate": "Area=Bejjur<br>Deviance Scores Amount of Fires=%{x}<br>Deviance Scores PM2.5=%{y}<extra></extra>",
         "legendgroup": "Bejjur",
         "marker": {
          "color": "#19d3f3",
          "symbol": "circle"
         },
         "mode": "markers",
         "name": "Bejjur",
         "orientation": "v",
         "showlegend": true,
         "type": "scatter",
         "x": [
          -0.000030733261908170734
         ],
         "xaxis": "x",
         "y": [
          0.000681064851660713
         ],
         "yaxis": "y"
        },
        {
         "hovertemplate": "Area=Bhainsa<br>Deviance Scores Amount of Fires=%{x}<br>Deviance Scores PM2.5=%{y}<extra></extra>",
         "legendgroup": "Bhainsa",
         "marker": {
          "color": "#FF6692",
          "symbol": "circle"
         },
         "mode": "markers",
         "name": "Bhainsa",
         "orientation": "v",
         "showlegend": true,
         "type": "scatter",
         "x": [
          0.00008288934116116097
         ],
         "xaxis": "x",
         "y": [
          0.002380771933609497
         ],
         "yaxis": "y"
        },
        {
         "hovertemplate": "Area=Bheemaram<br>Deviance Scores Amount of Fires=%{x}<br>Deviance Scores PM2.5=%{y}<extra></extra>",
         "legendgroup": "Bheemaram",
         "marker": {
          "color": "#B6E880",
          "symbol": "circle"
         },
         "mode": "markers",
         "name": "Bheemaram",
         "orientation": "v",
         "showlegend": true,
         "type": "scatter",
         "x": [
          0.0000035654465859218138
         ],
         "xaxis": "x",
         "y": [
          0.001076599030278007
         ],
         "yaxis": "y"
        },
        {
         "hovertemplate": "Area=Bheemgal<br>Deviance Scores Amount of Fires=%{x}<br>Deviance Scores PM2.5=%{y}<extra></extra>",
         "legendgroup": "Bheemgal",
         "marker": {
          "color": "#FF97FF",
          "symbol": "circle"
         },
         "mode": "markers",
         "name": "Bheemgal",
         "orientation": "v",
         "showlegend": true,
         "type": "scatter",
         "x": [
          0.000015217861695491725
         ],
         "xaxis": "x",
         "y": [
          0.0024998170244489386
         ],
         "yaxis": "y"
        },
        {
         "hovertemplate": "Area=Bheemini<br>Deviance Scores Amount of Fires=%{x}<br>Deviance Scores PM2.5=%{y}<extra></extra>",
         "legendgroup": "Bheemini",
         "marker": {
          "color": "#FECB52",
          "symbol": "circle"
         },
         "mode": "markers",
         "name": "Bheemini",
         "orientation": "v",
         "showlegend": true,
         "type": "scatter",
         "x": [
          -0.00006682978546289199
         ],
         "xaxis": "x",
         "y": [
          0.0008325367134850475
         ],
         "yaxis": "y"
        },
        {
         "hovertemplate": "Area=Bheempoor<br>Deviance Scores Amount of Fires=%{x}<br>Deviance Scores PM2.5=%{y}<extra></extra>",
         "legendgroup": "Bheempoor",
         "marker": {
          "color": "#636efa",
          "symbol": "circle"
         },
         "mode": "markers",
         "name": "Bheempoor",
         "orientation": "v",
         "showlegend": true,
         "type": "scatter",
         "x": [
          -0.000003854728272990596
         ],
         "xaxis": "x",
         "y": [
          0.0018096095535450833
         ],
         "yaxis": "y"
        },
        {
         "hovertemplate": "Area=Bhiknoor<br>Deviance Scores Amount of Fires=%{x}<br>Deviance Scores PM2.5=%{y}<extra></extra>",
         "legendgroup": "Bhiknoor",
         "marker": {
          "color": "#EF553B",
          "symbol": "circle"
         },
         "mode": "markers",
         "name": "Bhiknoor",
         "orientation": "v",
         "showlegend": true,
         "type": "scatter",
         "x": [
          -0.0001425982133084
         ],
         "xaxis": "x",
         "y": [
          0.001237028140835158
         ],
         "yaxis": "y"
        },
        {
         "hovertemplate": "Area=Bhongiri<br>Deviance Scores Amount of Fires=%{x}<br>Deviance Scores PM2.5=%{y}<extra></extra>",
         "legendgroup": "Bhongiri",
         "marker": {
          "color": "#00cc96",
          "symbol": "circle"
         },
         "mode": "markers",
         "name": "Bhongiri",
         "orientation": "v",
         "showlegend": true,
         "type": "scatter",
         "x": [
          -0.00006978873916303403
         ],
         "xaxis": "x",
         "y": [
          0.00108189404830966
         ],
         "yaxis": "y"
        },
        {
         "hovertemplate": "Area=Bhoothpur<br>Deviance Scores Amount of Fires=%{x}<br>Deviance Scores PM2.5=%{y}<extra></extra>",
         "legendgroup": "Bhoothpur",
         "marker": {
          "color": "#ab63fa",
          "symbol": "circle"
         },
         "mode": "markers",
         "name": "Bhoothpur",
         "orientation": "v",
         "showlegend": true,
         "type": "scatter",
         "x": [
          -0.0000751094392377014
         ],
         "xaxis": "x",
         "y": [
          0.000547064983626851
         ],
         "yaxis": "y"
        },
        {
         "hovertemplate": "Area=Bhupalpally<br>Deviance Scores Amount of Fires=%{x}<br>Deviance Scores PM2.5=%{y}<extra></extra>",
         "legendgroup": "Bhupalpally",
         "marker": {
          "color": "#FFA15A",
          "symbol": "circle"
         },
         "mode": "markers",
         "name": "Bhupalpally",
         "orientation": "v",
         "showlegend": true,
         "type": "scatter",
         "x": [
          -0.000004887278374920061
         ],
         "xaxis": "x",
         "y": [
          0.0010811065536385572
         ],
         "yaxis": "y"
        },
        {
         "hovertemplate": "Area=Bibinagar<br>Deviance Scores Amount of Fires=%{x}<br>Deviance Scores PM2.5=%{y}<extra></extra>",
         "legendgroup": "Bibinagar",
         "marker": {
          "color": "#19d3f3",
          "symbol": "circle"
         },
         "mode": "markers",
         "name": "Bibinagar",
         "orientation": "v",
         "showlegend": true,
         "type": "scatter",
         "x": [
          0.00005597892363436452
         ],
         "xaxis": "x",
         "y": [
          0.001336400555254413
         ],
         "yaxis": "y"
        },
        {
         "hovertemplate": "Area=Bibipet<br>Deviance Scores Amount of Fires=%{x}<br>Deviance Scores PM2.5=%{y}<extra></extra>",
         "legendgroup": "Bibipet",
         "marker": {
          "color": "#FF6692",
          "symbol": "circle"
         },
         "mode": "markers",
         "name": "Bibipet",
         "orientation": "v",
         "showlegend": true,
         "type": "scatter",
         "x": [
          -0.00001756022481386839
         ],
         "xaxis": "x",
         "y": [
          0.0017460580925506117
         ],
         "yaxis": "y"
        },
        {
         "hovertemplate": "Area=Bijinapalle<br>Deviance Scores Amount of Fires=%{x}<br>Deviance Scores PM2.5=%{y}<extra></extra>",
         "legendgroup": "Bijinapalle",
         "marker": {
          "color": "#B6E880",
          "symbol": "circle"
         },
         "mode": "markers",
         "name": "Bijinapalle",
         "orientation": "v",
         "showlegend": true,
         "type": "scatter",
         "x": [
          0.00003560010167345709
         ],
         "xaxis": "x",
         "y": [
          0.0005255149227779501
         ],
         "yaxis": "y"
        },
        {
         "hovertemplate": "Area=Boath<br>Deviance Scores Amount of Fires=%{x}<br>Deviance Scores PM2.5=%{y}<extra></extra>",
         "legendgroup": "Boath",
         "marker": {
          "color": "#FF97FF",
          "symbol": "circle"
         },
         "mode": "markers",
         "name": "Boath",
         "orientation": "v",
         "showlegend": true,
         "type": "scatter",
         "x": [
          -0.00004057852161018174
         ],
         "xaxis": "x",
         "y": [
          0.0016120212272194034
         ],
         "yaxis": "y"
        },
        {
         "hovertemplate": "Area=Bodhan<br>Deviance Scores Amount of Fires=%{x}<br>Deviance Scores PM2.5=%{y}<extra></extra>",
         "legendgroup": "Bodhan",
         "marker": {
          "color": "#FECB52",
          "symbol": "circle"
         },
         "mode": "markers",
         "name": "Bodhan",
         "orientation": "v",
         "showlegend": true,
         "type": "scatter",
         "x": [
          0.00004549352471679311
         ],
         "xaxis": "x",
         "y": [
          0.002446952356500639
         ],
         "yaxis": "y"
        },
        {
         "hovertemplate": "Area=Boinpalli<br>Deviance Scores Amount of Fires=%{x}<br>Deviance Scores PM2.5=%{y}<extra></extra>",
         "legendgroup": "Boinpalli",
         "marker": {
          "color": "#636efa",
          "symbol": "circle"
         },
         "mode": "markers",
         "name": "Boinpalli",
         "orientation": "v",
         "showlegend": true,
         "type": "scatter",
         "x": [
          -0.000019323361566390307
         ],
         "xaxis": "x",
         "y": [
          0.0025384890473047154
         ],
         "yaxis": "y"
        },
        {
         "hovertemplate": "Area=Bommaraspeta<br>Deviance Scores Amount of Fires=%{x}<br>Deviance Scores PM2.5=%{y}<extra></extra>",
         "legendgroup": "Bommaraspeta",
         "marker": {
          "color": "#EF553B",
          "symbol": "circle"
         },
         "mode": "markers",
         "name": "Bommaraspeta",
         "orientation": "v",
         "showlegend": true,
         "type": "scatter",
         "x": [
          -0.000009684825733971414
         ],
         "xaxis": "x",
         "y": [
          -0.00008326453307223144
         ],
         "yaxis": "y"
        },
        {
         "hovertemplate": "Area=Bonakal<br>Deviance Scores Amount of Fires=%{x}<br>Deviance Scores PM2.5=%{y}<extra></extra>",
         "legendgroup": "Bonakal",
         "marker": {
          "color": "#00cc96",
          "symbol": "circle"
         },
         "mode": "markers",
         "name": "Bonakal",
         "orientation": "v",
         "showlegend": true,
         "type": "scatter",
         "x": [
          -0.00003143111778168132
         ],
         "xaxis": "x",
         "y": [
          0.0007090620087631642
         ],
         "yaxis": "y"
        },
        {
         "hovertemplate": "Area=Buggaram<br>Deviance Scores Amount of Fires=%{x}<br>Deviance Scores PM2.5=%{y}<extra></extra>",
         "legendgroup": "Buggaram",
         "marker": {
          "color": "#ab63fa",
          "symbol": "circle"
         },
         "mode": "markers",
         "name": "Buggaram",
         "orientation": "v",
         "showlegend": true,
         "type": "scatter",
         "x": [
          -0.00005783763113591952
         ],
         "xaxis": "x",
         "y": [
          0.002281454330405182
         ],
         "yaxis": "y"
        },
        {
         "hovertemplate": "Area=Burgampadu<br>Deviance Scores Amount of Fires=%{x}<br>Deviance Scores PM2.5=%{y}<extra></extra>",
         "legendgroup": "Burgampadu",
         "marker": {
          "color": "#FFA15A",
          "symbol": "circle"
         },
         "mode": "markers",
         "name": "Burgampadu",
         "orientation": "v",
         "showlegend": true,
         "type": "scatter",
         "x": [
          -0.000003400932349694288
         ],
         "xaxis": "x",
         "y": [
          0.00047519872985355414
         ],
         "yaxis": "y"
        },
        {
         "hovertemplate": "Area=Chandampet<br>Deviance Scores Amount of Fires=%{x}<br>Deviance Scores PM2.5=%{y}<extra></extra>",
         "legendgroup": "Chandampet",
         "marker": {
          "color": "#19d3f3",
          "symbol": "circle"
         },
         "mode": "markers",
         "name": "Chandampet",
         "orientation": "v",
         "showlegend": true,
         "type": "scatter",
         "x": [
          0.0001107290511759
         ],
         "xaxis": "x",
         "y": [
          0.0004616283166571121
         ],
         "yaxis": "y"
        },
        {
         "hovertemplate": "Area=Chandrugonda<br>Deviance Scores Amount of Fires=%{x}<br>Deviance Scores PM2.5=%{y}<extra></extra>",
         "legendgroup": "Chandrugonda",
         "marker": {
          "color": "#FF6692",
          "symbol": "circle"
         },
         "mode": "markers",
         "name": "Chandrugonda",
         "orientation": "v",
         "showlegend": true,
         "type": "scatter",
         "x": [
          0.00005731820579285994
         ],
         "xaxis": "x",
         "y": [
          0.0005150327664288267
         ],
         "yaxis": "y"
        },
        {
         "hovertemplate": "Area=Charakonda<br>Deviance Scores Amount of Fires=%{x}<br>Deviance Scores PM2.5=%{y}<extra></extra>",
         "legendgroup": "Charakonda",
         "marker": {
          "color": "#B6E880",
          "symbol": "circle"
         },
         "mode": "markers",
         "name": "Charakonda",
         "orientation": "v",
         "showlegend": true,
         "type": "scatter",
         "x": [
          0.000017709287667043746
         ],
         "xaxis": "x",
         "y": [
          0.00039283221439954176
         ],
         "yaxis": "y"
        },
        {
         "hovertemplate": "Area=Chendurthi<br>Deviance Scores Amount of Fires=%{x}<br>Deviance Scores PM2.5=%{y}<extra></extra>",
         "legendgroup": "Chendurthi",
         "marker": {
          "color": "#FF97FF",
          "symbol": "circle"
         },
         "mode": "markers",
         "name": "Chendurthi",
         "orientation": "v",
         "showlegend": true,
         "type": "scatter",
         "x": [
          -0.0000751932654855014
         ],
         "xaxis": "x",
         "y": [
          0.0025747741843934863
         ],
         "yaxis": "y"
        },
        {
         "hovertemplate": "Area=Chennaraopet<br>Deviance Scores Amount of Fires=%{x}<br>Deviance Scores PM2.5=%{y}<extra></extra>",
         "legendgroup": "Chennaraopet",
         "marker": {
          "color": "#FECB52",
          "symbol": "circle"
         },
         "mode": "markers",
         "name": "Chennaraopet",
         "orientation": "v",
         "showlegend": true,
         "type": "scatter",
         "x": [
          0.000017488451433222563
         ],
         "xaxis": "x",
         "y": [
          0.0014350925172191332
         ],
         "yaxis": "y"
        },
        {
         "hovertemplate": "Area=Chennur<br>Deviance Scores Amount of Fires=%{x}<br>Deviance Scores PM2.5=%{y}<extra></extra>",
         "legendgroup": "Chennur",
         "marker": {
          "color": "#636efa",
          "symbol": "circle"
         },
         "mode": "markers",
         "name": "Chennur",
         "orientation": "v",
         "showlegend": true,
         "type": "scatter",
         "x": [
          0.00008029424319904525
         ],
         "xaxis": "x",
         "y": [
          0.0013866783253846952
         ],
         "yaxis": "y"
        },
        {
         "hovertemplate": "Area=Cherial<br>Deviance Scores Amount of Fires=%{x}<br>Deviance Scores PM2.5=%{y}<extra></extra>",
         "legendgroup": "Cherial",
         "marker": {
          "color": "#EF553B",
          "symbol": "circle"
         },
         "mode": "markers",
         "name": "Cherial",
         "orientation": "v",
         "showlegend": true,
         "type": "scatter",
         "x": [
          -0.000011731055105668186
         ],
         "xaxis": "x",
         "y": [
          0.0012335053574695919
         ],
         "yaxis": "y"
        },
        {
         "hovertemplate": "Area=Cherla<br>Deviance Scores Amount of Fires=%{x}<br>Deviance Scores PM2.5=%{y}<extra></extra>",
         "legendgroup": "Cherla",
         "marker": {
          "color": "#00cc96",
          "symbol": "circle"
         },
         "mode": "markers",
         "name": "Cherla",
         "orientation": "v",
         "showlegend": true,
         "type": "scatter",
         "x": [
          0.00006040339669026572
         ],
         "xaxis": "x",
         "y": [
          0.0005485005560269007
         ],
         "yaxis": "y"
        },
        {
         "hovertemplate": "Area=Chevella<br>Deviance Scores Amount of Fires=%{x}<br>Deviance Scores PM2.5=%{y}<extra></extra>",
         "legendgroup": "Chevella",
         "marker": {
          "color": "#ab63fa",
          "symbol": "circle"
         },
         "mode": "markers",
         "name": "Chevella",
         "orientation": "v",
         "showlegend": true,
         "type": "scatter",
         "x": [
          0.0000881326134317897
         ],
         "xaxis": "x",
         "y": [
          -0.0004899986377109979
         ],
         "yaxis": "y"
        },
        {
         "hovertemplate": "Area=Chigurumamidi<br>Deviance Scores Amount of Fires=%{x}<br>Deviance Scores PM2.5=%{y}<extra></extra>",
         "legendgroup": "Chigurumamidi",
         "marker": {
          "color": "#FFA15A",
          "symbol": "circle"
         },
         "mode": "markers",
         "name": "Chigurumamidi",
         "orientation": "v",
         "showlegend": true,
         "type": "scatter",
         "x": [
          0.000053407208567314846
         ],
         "xaxis": "x",
         "y": [
          0.002243095293187306
         ],
         "yaxis": "y"
        },
        {
         "hovertemplate": "Area=Chinna Chinta Kunta<br>Deviance Scores Amount of Fires=%{x}<br>Deviance Scores PM2.5=%{y}<extra></extra>",
         "legendgroup": "Chinna Chinta Kunta",
         "marker": {
          "color": "#19d3f3",
          "symbol": "circle"
         },
         "mode": "markers",
         "name": "Chinna Chinta Kunta",
         "orientation": "v",
         "showlegend": true,
         "type": "scatter",
         "x": [
          0.00008885683574169383
         ],
         "xaxis": "x",
         "y": [
          0.0009027118845185593
         ],
         "yaxis": "y"
        },
        {
         "hovertemplate": "Area=Chinnakodur<br>Deviance Scores Amount of Fires=%{x}<br>Deviance Scores PM2.5=%{y}<extra></extra>",
         "legendgroup": "Chinnakodur",
         "marker": {
          "color": "#FF6692",
          "symbol": "circle"
         },
         "mode": "markers",
         "name": "Chinnakodur",
         "orientation": "v",
         "showlegend": true,
         "type": "scatter",
         "x": [
          -0.00004155023936648364
         ],
         "xaxis": "x",
         "y": [
          0.001658130724777164
         ],
         "yaxis": "y"
        },
        {
         "hovertemplate": "Area=Chinnambavi<br>Deviance Scores Amount of Fires=%{x}<br>Deviance Scores PM2.5=%{y}<extra></extra>",
         "legendgroup": "Chinnambavi",
         "marker": {
          "color": "#B6E880",
          "symbol": "circle"
         },
         "mode": "markers",
         "name": "Chinnambavi",
         "orientation": "v",
         "showlegend": true,
         "type": "scatter",
         "x": [
          0.0001869175907736
         ],
         "xaxis": "x",
         "y": [
          0.0012288604308259446
         ],
         "yaxis": "y"
        },
        {
         "hovertemplate": "Area=Chintakani<br>Deviance Scores Amount of Fires=%{x}<br>Deviance Scores PM2.5=%{y}<extra></extra>",
         "legendgroup": "Chintakani",
         "marker": {
          "color": "#FF97FF",
          "symbol": "circle"
         },
         "mode": "markers",
         "name": "Chintakani",
         "orientation": "v",
         "showlegend": true,
         "type": "scatter",
         "x": [
          0.0002560249276024
         ],
         "xaxis": "x",
         "y": [
          0.0007094011176551745
         ],
         "yaxis": "y"
        },
        {
         "hovertemplate": "Area=Chintalamanepally<br>Deviance Scores Amount of Fires=%{x}<br>Deviance Scores PM2.5=%{y}<extra></extra>",
         "legendgroup": "Chintalamanepally",
         "marker": {
          "color": "#FECB52",
          "symbol": "circle"
         },
         "mode": "markers",
         "name": "Chintalamanepally",
         "orientation": "v",
         "showlegend": true,
         "type": "scatter",
         "x": [
          -0.0000018795199069437304
         ],
         "xaxis": "x",
         "y": [
          0.0009154239266895969
         ],
         "yaxis": "y"
        },
        {
         "hovertemplate": "Area=Chinthala palem<br>Deviance Scores Amount of Fires=%{x}<br>Deviance Scores PM2.5=%{y}<extra></extra>",
         "legendgroup": "Chinthala palem",
         "marker": {
          "color": "#636efa",
          "symbol": "circle"
         },
         "mode": "markers",
         "name": "Chinthala palem",
         "orientation": "v",
         "showlegend": true,
         "type": "scatter",
         "x": [
          -0.000015434238482661995
         ],
         "xaxis": "x",
         "y": [
          0.0011359248858883943
         ],
         "yaxis": "y"
        },
        {
         "hovertemplate": "Area=Chinthapally<br>Deviance Scores Amount of Fires=%{x}<br>Deviance Scores PM2.5=%{y}<extra></extra>",
         "legendgroup": "Chinthapally",
         "marker": {
          "color": "#EF553B",
          "symbol": "circle"
         },
         "mode": "markers",
         "name": "Chinthapally",
         "orientation": "v",
         "showlegend": true,
         "type": "scatter",
         "x": [
          0.0002393977421673
         ],
         "xaxis": "x",
         "y": [
          0.00043535006300317433
         ],
         "yaxis": "y"
        },
        {
         "hovertemplate": "Area=Chityal<br>Deviance Scores Amount of Fires=%{x}<br>Deviance Scores PM2.5=%{y}<extra></extra>",
         "legendgroup": "Chityal",
         "marker": {
          "color": "#00cc96",
          "symbol": "circle"
         },
         "mode": "markers",
         "name": "Chityal",
         "orientation": "v",
         "showlegend": true,
         "type": "scatter",
         "x": [
          0.00006862411220930447,
          0.00007930926058195995
         ],
         "xaxis": "x",
         "y": [
          0.0015031227943269599,
          0.0014069384711911277
         ],
         "yaxis": "y"
        },
        {
         "hovertemplate": "Area=Chivvemla<br>Deviance Scores Amount of Fires=%{x}<br>Deviance Scores PM2.5=%{y}<extra></extra>",
         "legendgroup": "Chivvemla",
         "marker": {
          "color": "#ab63fa",
          "symbol": "circle"
         },
         "mode": "markers",
         "name": "Chivvemla",
         "orientation": "v",
         "showlegend": true,
         "type": "scatter",
         "x": [
          0.00005806566921268336
         ],
         "xaxis": "x",
         "y": [
          0.001657517590132636
         ],
         "yaxis": "y"
        },
        {
         "hovertemplate": "Area=Choppadandi<br>Deviance Scores Amount of Fires=%{x}<br>Deviance Scores PM2.5=%{y}<extra></extra>",
         "legendgroup": "Choppadandi",
         "marker": {
          "color": "#FFA15A",
          "symbol": "circle"
         },
         "mode": "markers",
         "name": "Choppadandi",
         "orientation": "v",
         "showlegend": true,
         "type": "scatter",
         "x": [
          0.0003159819357296
         ],
         "xaxis": "x",
         "y": [
          0.0027204849865764213
         ],
         "yaxis": "y"
        },
        {
         "hovertemplate": "Area=Choutuppal<br>Deviance Scores Amount of Fires=%{x}<br>Deviance Scores PM2.5=%{y}<extra></extra>",
         "legendgroup": "Choutuppal",
         "marker": {
          "color": "#19d3f3",
          "symbol": "circle"
         },
         "mode": "markers",
         "name": "Choutuppal",
         "orientation": "v",
         "showlegend": true,
         "type": "scatter",
         "x": [
          0.00004302050362345638
         ],
         "xaxis": "x",
         "y": [
          0.0011409384938026047
         ],
         "yaxis": "y"
        },
        {
         "hovertemplate": "Area=Chunchupally<br>Deviance Scores Amount of Fires=%{x}<br>Deviance Scores PM2.5=%{y}<extra></extra>",
         "legendgroup": "Chunchupally",
         "marker": {
          "color": "#FF6692",
          "symbol": "circle"
         },
         "mode": "markers",
         "name": "Chunchupally",
         "orientation": "v",
         "showlegend": true,
         "type": "scatter",
         "x": [
          0.000055339395223353576
         ],
         "xaxis": "x",
         "y": [
          0.0002860779946297055
         ],
         "yaxis": "y"
        },
        {
         "hovertemplate": "Area=Dahegaon<br>Deviance Scores Amount of Fires=%{x}<br>Deviance Scores PM2.5=%{y}<extra></extra>",
         "legendgroup": "Dahegaon",
         "marker": {
          "color": "#B6E880",
          "symbol": "circle"
         },
         "mode": "markers",
         "name": "Dahegaon",
         "orientation": "v",
         "showlegend": true,
         "type": "scatter",
         "x": [
          0.00001259383057268803
         ],
         "xaxis": "x",
         "y": [
          0.0010061300355357734
         ],
         "yaxis": "y"
        },
        {
         "hovertemplate": "Area=Damaracherla<br>Deviance Scores Amount of Fires=%{x}<br>Deviance Scores PM2.5=%{y}<extra></extra>",
         "legendgroup": "Damaracherla",
         "marker": {
          "color": "#FF97FF",
          "symbol": "circle"
         },
         "mode": "markers",
         "name": "Damaracherla",
         "orientation": "v",
         "showlegend": true,
         "type": "scatter",
         "x": [
          -0.00003856956904585557
         ],
         "xaxis": "x",
         "y": [
          0.0015352259017100184
         ],
         "yaxis": "y"
        },
        {
         "hovertemplate": "Area=Damargidda<br>Deviance Scores Amount of Fires=%{x}<br>Deviance Scores PM2.5=%{y}<extra></extra>",
         "legendgroup": "Damargidda",
         "marker": {
          "color": "#FECB52",
          "symbol": "circle"
         },
         "mode": "markers",
         "name": "Damargidda",
         "orientation": "v",
         "showlegend": true,
         "type": "scatter",
         "x": [
          -0.00001571078439255728
         ],
         "xaxis": "x",
         "y": [
          -0.00021765270109174166
         ],
         "yaxis": "y"
        },
        {
         "hovertemplate": "Area=Damera<br>Deviance Scores Amount of Fires=%{x}<br>Deviance Scores PM2.5=%{y}<extra></extra>",
         "legendgroup": "Damera",
         "marker": {
          "color": "#636efa",
          "symbol": "circle"
         },
         "mode": "markers",
         "name": "Damera",
         "orientation": "v",
         "showlegend": true,
         "type": "scatter",
         "x": [
          0.0000010570506440217477
         ],
         "xaxis": "x",
         "y": [
          0.0011712389823481243
         ],
         "yaxis": "y"
        },
        {
         "hovertemplate": "Area=Dammapeta<br>Deviance Scores Amount of Fires=%{x}<br>Deviance Scores PM2.5=%{y}<extra></extra>",
         "legendgroup": "Dammapeta",
         "marker": {
          "color": "#EF553B",
          "symbol": "circle"
         },
         "mode": "markers",
         "name": "Dammapeta",
         "orientation": "v",
         "showlegend": true,
         "type": "scatter",
         "x": [
          -0.00001973632268866204
         ],
         "xaxis": "x",
         "y": [
          0.00046400671017824384
         ],
         "yaxis": "y"
        },
        {
         "hovertemplate": "Area=Dandepalle<br>Deviance Scores Amount of Fires=%{x}<br>Deviance Scores PM2.5=%{y}<extra></extra>",
         "legendgroup": "Dandepalle",
         "marker": {
          "color": "#00cc96",
          "symbol": "circle"
         },
         "mode": "markers",
         "name": "Dandepalle",
         "orientation": "v",
         "showlegend": true,
         "type": "scatter",
         "x": [
          0.00001966795448784748
         ],
         "xaxis": "x",
         "y": [
          0.002126820479473264
         ],
         "yaxis": "y"
        },
        {
         "hovertemplate": "Area=Danthalapalle<br>Deviance Scores Amount of Fires=%{x}<br>Deviance Scores PM2.5=%{y}<extra></extra>",
         "legendgroup": "Danthalapalle",
         "marker": {
          "color": "#ab63fa",
          "symbol": "circle"
         },
         "mode": "markers",
         "name": "Danthalapalle",
         "orientation": "v",
         "showlegend": true,
         "type": "scatter",
         "x": [
          0.000008204028129536852
         ],
         "xaxis": "x",
         "y": [
          0.0023188407591830484
         ],
         "yaxis": "y"
        },
        {
         "hovertemplate": "Area=Devarakonda<br>Deviance Scores Amount of Fires=%{x}<br>Deviance Scores PM2.5=%{y}<extra></extra>",
         "legendgroup": "Devarakonda",
         "marker": {
          "color": "#FFA15A",
          "symbol": "circle"
         },
         "mode": "markers",
         "name": "Devarakonda",
         "orientation": "v",
         "showlegend": true,
         "type": "scatter",
         "x": [
          0.0001065233134778
         ],
         "xaxis": "x",
         "y": [
          0.0008446580091360326
         ],
         "yaxis": "y"
        },
        {
         "hovertemplate": "Area=Devarkadra<br>Deviance Scores Amount of Fires=%{x}<br>Deviance Scores PM2.5=%{y}<extra></extra>",
         "legendgroup": "Devarkadra",
         "marker": {
          "color": "#19d3f3",
          "symbol": "circle"
         },
         "mode": "markers",
         "name": "Devarkadra",
         "orientation": "v",
         "showlegend": true,
         "type": "scatter",
         "x": [
          0.0001279589830743
         ],
         "xaxis": "x",
         "y": [
          0.0004587793571397487
         ],
         "yaxis": "y"
        },
        {
         "hovertemplate": "Area=Devaruppula<br>Deviance Scores Amount of Fires=%{x}<br>Deviance Scores PM2.5=%{y}<extra></extra>",
         "legendgroup": "Devaruppula",
         "marker": {
          "color": "#FF6692",
          "symbol": "circle"
         },
         "mode": "markers",
         "name": "Devaruppula",
         "orientation": "v",
         "showlegend": true,
         "type": "scatter",
         "x": [
          0.0000030805563516596137
         ],
         "xaxis": "x",
         "y": [
          0.001759686944415219
         ],
         "yaxis": "y"
        },
        {
         "hovertemplate": "Area=Dhanwada<br>Deviance Scores Amount of Fires=%{x}<br>Deviance Scores PM2.5=%{y}<extra></extra>",
         "legendgroup": "Dhanwada",
         "marker": {
          "color": "#B6E880",
          "symbol": "circle"
         },
         "mode": "markers",
         "name": "Dhanwada",
         "orientation": "v",
         "showlegend": true,
         "type": "scatter",
         "x": [
          -0.00006637317793114034
         ],
         "xaxis": "x",
         "y": [
          0.00013270744414753895
         ],
         "yaxis": "y"
        },
        {
         "hovertemplate": "Area=Dharmapuri<br>Deviance Scores Amount of Fires=%{x}<br>Deviance Scores PM2.5=%{y}<extra></extra>",
         "legendgroup": "Dharmapuri",
         "marker": {
          "color": "#FF97FF",
          "symbol": "circle"
         },
         "mode": "markers",
         "name": "Dharmapuri",
         "orientation": "v",
         "showlegend": true,
         "type": "scatter",
         "x": [
          0.00001121734702153012
         ],
         "xaxis": "x",
         "y": [
          0.0023229770929232003
         ],
         "yaxis": "y"
        },
        {
         "hovertemplate": "Area=Dharmaram<br>Deviance Scores Amount of Fires=%{x}<br>Deviance Scores PM2.5=%{y}<extra></extra>",
         "legendgroup": "Dharmaram",
         "marker": {
          "color": "#FECB52",
          "symbol": "circle"
         },
         "mode": "markers",
         "name": "Dharmaram",
         "orientation": "v",
         "showlegend": true,
         "type": "scatter",
         "x": [
          0.000056954766150172286
         ],
         "xaxis": "x",
         "y": [
          0.0022447412301742665
         ],
         "yaxis": "y"
        },
        {
         "hovertemplate": "Area=Dharoor<br>Deviance Scores Amount of Fires=%{x}<br>Deviance Scores PM2.5=%{y}<extra></extra>",
         "legendgroup": "Dharoor",
         "marker": {
          "color": "#636efa",
          "symbol": "circle"
         },
         "mode": "markers",
         "name": "Dharoor",
         "orientation": "v",
         "showlegend": true,
         "type": "scatter",
         "x": [
          0.000014656160045602064,
          -0.000029210725366664903
         ],
         "xaxis": "x",
         "y": [
          0.0011897949299593384,
          -0.00033979027564259265
         ],
         "yaxis": "y"
        },
        {
         "hovertemplate": "Area=Dharpally<br>Deviance Scores Amount of Fires=%{x}<br>Deviance Scores PM2.5=%{y}<extra></extra>",
         "legendgroup": "Dharpally",
         "marker": {
          "color": "#EF553B",
          "symbol": "circle"
         },
         "mode": "markers",
         "name": "Dharpally",
         "orientation": "v",
         "showlegend": true,
         "type": "scatter",
         "x": [
          0.0001595442522938
         ],
         "xaxis": "x",
         "y": [
          0.0022854619590167635
         ],
         "yaxis": "y"
        },
        {
         "hovertemplate": "Area=Dichpally<br>Deviance Scores Amount of Fires=%{x}<br>Deviance Scores PM2.5=%{y}<extra></extra>",
         "legendgroup": "Dichpally",
         "marker": {
          "color": "#00cc96",
          "symbol": "circle"
         },
         "mode": "markers",
         "name": "Dichpally",
         "orientation": "v",
         "showlegend": true,
         "type": "scatter",
         "x": [
          0.000314120531253
         ],
         "xaxis": "x",
         "y": [
          0.00250832241179314
         ],
         "yaxis": "y"
        },
        {
         "hovertemplate": "Area=Dilawarpur<br>Deviance Scores Amount of Fires=%{x}<br>Deviance Scores PM2.5=%{y}<extra></extra>",
         "legendgroup": "Dilawarpur",
         "marker": {
          "color": "#ab63fa",
          "symbol": "circle"
         },
         "mode": "markers",
         "name": "Dilawarpur",
         "orientation": "v",
         "showlegend": true,
         "type": "scatter",
         "x": [
          0.000116101809807
         ],
         "xaxis": "x",
         "y": [
          0.0027169432162350345
         ],
         "yaxis": "y"
        },
        {
         "hovertemplate": "Area=Dornakal<br>Deviance Scores Amount of Fires=%{x}<br>Deviance Scores PM2.5=%{y}<extra></extra>",
         "legendgroup": "Dornakal",
         "marker": {
          "color": "#FFA15A",
          "symbol": "circle"
         },
         "mode": "markers",
         "name": "Dornakal",
         "orientation": "v",
         "showlegend": true,
         "type": "scatter",
         "x": [
          -0.00003221119530455331
         ],
         "xaxis": "x",
         "y": [
          0.0011881888798752893
         ],
         "yaxis": "y"
        },
        {
         "hovertemplate": "Area=Doulthabad<br>Deviance Scores Amount of Fires=%{x}<br>Deviance Scores PM2.5=%{y}<extra></extra>",
         "legendgroup": "Doulthabad",
         "marker": {
          "color": "#19d3f3",
          "symbol": "circle"
         },
         "mode": "markers",
         "name": "Doulthabad",
         "orientation": "v",
         "showlegend": true,
         "type": "scatter",
         "x": [
          0.00003398296531662004
         ],
         "xaxis": "x",
         "y": [
          -0.000399864646958676
         ],
         "yaxis": "y"
        },
        {
         "hovertemplate": "Area=Dubbak<br>Deviance Scores Amount of Fires=%{x}<br>Deviance Scores PM2.5=%{y}<extra></extra>",
         "legendgroup": "Dubbak",
         "marker": {
          "color": "#FF6692",
          "symbol": "circle"
         },
         "mode": "markers",
         "name": "Dubbak",
         "orientation": "v",
         "showlegend": true,
         "type": "scatter",
         "x": [
          -0.0001202768238044
         ],
         "xaxis": "x",
         "y": [
          0.001361545629139001
         ],
         "yaxis": "y"
        },
        {
         "hovertemplate": "Area=Dummugudem<br>Deviance Scores Amount of Fires=%{x}<br>Deviance Scores PM2.5=%{y}<extra></extra>",
         "legendgroup": "Dummugudem",
         "marker": {
          "color": "#B6E880",
          "symbol": "circle"
         },
         "mode": "markers",
         "name": "Dummugudem",
         "orientation": "v",
         "showlegend": true,
         "type": "scatter",
         "x": [
          0.00004998933353599368
         ],
         "xaxis": "x",
         "y": [
          0.0001722829132057112
         ],
         "yaxis": "y"
        },
        {
         "hovertemplate": "Area=Dundigal Gandimaisamma<br>Deviance Scores Amount of Fires=%{x}<br>Deviance Scores PM2.5=%{y}<extra></extra>",
         "legendgroup": "Dundigal Gandimaisamma",
         "marker": {
          "color": "#FF97FF",
          "symbol": "circle"
         },
         "mode": "markers",
         "name": "Dundigal Gandimaisamma",
         "orientation": "v",
         "showlegend": true,
         "type": "scatter",
         "x": [
          -0.0000010815441779000775
         ],
         "xaxis": "x",
         "y": [
          -0.00004397903239392173
         ],
         "yaxis": "y"
        },
        {
         "hovertemplate": "Area=Eligaid<br>Deviance Scores Amount of Fires=%{x}<br>Deviance Scores PM2.5=%{y}<extra></extra>",
         "legendgroup": "Eligaid",
         "marker": {
          "color": "#FECB52",
          "symbol": "circle"
         },
         "mode": "markers",
         "name": "Eligaid",
         "orientation": "v",
         "showlegend": true,
         "type": "scatter",
         "x": [
          0.0004554466413766
         ],
         "xaxis": "x",
         "y": [
          0.002816927290370329
         ],
         "yaxis": "y"
        },
        {
         "hovertemplate": "Area=Elkathurthi<br>Deviance Scores Amount of Fires=%{x}<br>Deviance Scores PM2.5=%{y}<extra></extra>",
         "legendgroup": "Elkathurthi",
         "marker": {
          "color": "#636efa",
          "symbol": "circle"
         },
         "mode": "markers",
         "name": "Elkathurthi",
         "orientation": "v",
         "showlegend": true,
         "type": "scatter",
         "x": [
          0.00003120645620228027
         ],
         "xaxis": "x",
         "y": [
          0.0018980629679621831
         ],
         "yaxis": "y"
        },
        {
         "hovertemplate": "Area=Ellandakunta<br>Deviance Scores Amount of Fires=%{x}<br>Deviance Scores PM2.5=%{y}<extra></extra>",
         "legendgroup": "Ellandakunta",
         "marker": {
          "color": "#EF553B",
          "symbol": "circle"
         },
         "mode": "markers",
         "name": "Ellandakunta",
         "orientation": "v",
         "showlegend": true,
         "type": "scatter",
         "x": [
          0.0001185158698063
         ],
         "xaxis": "x",
         "y": [
          0.0018648860361056975
         ],
         "yaxis": "y"
        },
        {
         "hovertemplate": "Area=Enkoor<br>Deviance Scores Amount of Fires=%{x}<br>Deviance Scores PM2.5=%{y}<extra></extra>",
         "legendgroup": "Enkoor",
         "marker": {
          "color": "#00cc96",
          "symbol": "circle"
         },
         "mode": "markers",
         "name": "Enkoor",
         "orientation": "v",
         "showlegend": true,
         "type": "scatter",
         "x": [
          -0.000011486625019574868
         ],
         "xaxis": "x",
         "y": [
          0.00038550536402968467
         ],
         "yaxis": "y"
        },
        {
         "hovertemplate": "Area=Eturnagaram<br>Deviance Scores Amount of Fires=%{x}<br>Deviance Scores PM2.5=%{y}<extra></extra>",
         "legendgroup": "Eturnagaram",
         "marker": {
          "color": "#ab63fa",
          "symbol": "circle"
         },
         "mode": "markers",
         "name": "Eturnagaram",
         "orientation": "v",
         "showlegend": true,
         "type": "scatter",
         "x": [
          -0.00008897758577828695
         ],
         "xaxis": "x",
         "y": [
          0.00057847983045033
         ],
         "yaxis": "y"
        },
        {
         "hovertemplate": "Area=Farooqnagar<br>Deviance Scores Amount of Fires=%{x}<br>Deviance Scores PM2.5=%{y}<extra></extra>",
         "legendgroup": "Farooqnagar",
         "marker": {
          "color": "#FFA15A",
          "symbol": "circle"
         },
         "mode": "markers",
         "name": "Farooqnagar",
         "orientation": "v",
         "showlegend": true,
         "type": "scatter",
         "x": [
          -0.00000982172158758798
         ],
         "xaxis": "x",
         "y": [
          -0.0004685945311188682
         ],
         "yaxis": "y"
        },
        {
         "hovertemplate": "Area=Gadwal<br>Deviance Scores Amount of Fires=%{x}<br>Deviance Scores PM2.5=%{y}<extra></extra>",
         "legendgroup": "Gadwal",
         "marker": {
          "color": "#19d3f3",
          "symbol": "circle"
         },
         "mode": "markers",
         "name": "Gadwal",
         "orientation": "v",
         "showlegend": true,
         "type": "scatter",
         "x": [
          -0.000019222822976120652
         ],
         "xaxis": "x",
         "y": [
          0.001059576192128566
         ],
         "yaxis": "y"
        },
        {
         "hovertemplate": "Area=Gajwel<br>Deviance Scores Amount of Fires=%{x}<br>Deviance Scores PM2.5=%{y}<extra></extra>",
         "legendgroup": "Gajwel",
         "marker": {
          "color": "#FF6692",
          "symbol": "circle"
         },
         "mode": "markers",
         "name": "Gajwel",
         "orientation": "v",
         "showlegend": true,
         "type": "scatter",
         "x": [
          0.000026958002975427035
         ],
         "xaxis": "x",
         "y": [
          0.000701243373202084
         ],
         "yaxis": "y"
        },
        {
         "hovertemplate": "Area=Gambhiraopet<br>Deviance Scores Amount of Fires=%{x}<br>Deviance Scores PM2.5=%{y}<extra></extra>",
         "legendgroup": "Gambhiraopet",
         "marker": {
          "color": "#B6E880",
          "symbol": "circle"
         },
         "mode": "markers",
         "name": "Gambhiraopet",
         "orientation": "v",
         "showlegend": true,
         "type": "scatter",
         "x": [
          0.000022639467154455376
         ],
         "xaxis": "x",
         "y": [
          0.0020779146128460236
         ],
         "yaxis": "y"
        },
        {
         "hovertemplate": "Area=Gandhari<br>Deviance Scores Amount of Fires=%{x}<br>Deviance Scores PM2.5=%{y}<extra></extra>",
         "legendgroup": "Gandhari",
         "marker": {
          "color": "#FF97FF",
          "symbol": "circle"
         },
         "mode": "markers",
         "name": "Gandhari",
         "orientation": "v",
         "showlegend": true,
         "type": "scatter",
         "x": [
          0.0001263191450384
         ],
         "xaxis": "x",
         "y": [
          0.0013675357756366485
         ],
         "yaxis": "y"
        },
        {
         "hovertemplate": "Area=Gangadhara<br>Deviance Scores Amount of Fires=%{x}<br>Deviance Scores PM2.5=%{y}<extra></extra>",
         "legendgroup": "Gangadhara",
         "marker": {
          "color": "#FECB52",
          "symbol": "circle"
         },
         "mode": "markers",
         "name": "Gangadhara",
         "orientation": "v",
         "showlegend": true,
         "type": "scatter",
         "x": [
          0.00007874086779188847
         ],
         "xaxis": "x",
         "y": [
          0.0028369603454880296
         ],
         "yaxis": "y"
        },
        {
         "hovertemplate": "Area=Gangaram<br>Deviance Scores Amount of Fires=%{x}<br>Deviance Scores PM2.5=%{y}<extra></extra>",
         "legendgroup": "Gangaram",
         "marker": {
          "color": "#636efa",
          "symbol": "circle"
         },
         "mode": "markers",
         "name": "Gangaram",
         "orientation": "v",
         "showlegend": true,
         "type": "scatter",
         "x": [
          -0.0002967300369758
         ],
         "xaxis": "x",
         "y": [
          0.000747827767613874
         ],
         "yaxis": "y"
        },
        {
         "hovertemplate": "Area=Garidepalli<br>Deviance Scores Amount of Fires=%{x}<br>Deviance Scores PM2.5=%{y}<extra></extra>",
         "legendgroup": "Garidepalli",
         "marker": {
          "color": "#EF553B",
          "symbol": "circle"
         },
         "mode": "markers",
         "name": "Garidepalli",
         "orientation": "v",
         "showlegend": true,
         "type": "scatter",
         "x": [
          0.000032846994923803646
         ],
         "xaxis": "x",
         "y": [
          0.0015282861213253302
         ],
         "yaxis": "y"
        },
        {
         "hovertemplate": "Area=Geesugonda<br>Deviance Scores Amount of Fires=%{x}<br>Deviance Scores PM2.5=%{y}<extra></extra>",
         "legendgroup": "Geesugonda",
         "marker": {
          "color": "#00cc96",
          "symbol": "circle"
         },
         "mode": "markers",
         "name": "Geesugonda",
         "orientation": "v",
         "showlegend": true,
         "type": "scatter",
         "x": [
          -0.00005345785234393579
         ],
         "xaxis": "x",
         "y": [
          0.0014561905749661712
         ],
         "yaxis": "y"
        },
        {
         "hovertemplate": "Area=Ghanapur_Mulug<br>Deviance Scores Amount of Fires=%{x}<br>Deviance Scores PM2.5=%{y}<extra></extra>",
         "legendgroup": "Ghanapur_Mulug",
         "marker": {
          "color": "#ab63fa",
          "symbol": "circle"
         },
         "mode": "markers",
         "name": "Ghanapur_Mulug",
         "orientation": "v",
         "showlegend": true,
         "type": "scatter",
         "x": [
          -0.0001177217867378
         ],
         "xaxis": "x",
         "y": [
          0.0014928751619804322
         ],
         "yaxis": "y"
        },
        {
         "hovertemplate": "Area=Ghanpur<br>Deviance Scores Amount of Fires=%{x}<br>Deviance Scores PM2.5=%{y}<extra></extra>",
         "legendgroup": "Ghanpur",
         "marker": {
          "color": "#FFA15A",
          "symbol": "circle"
         },
         "mode": "markers",
         "name": "Ghanpur",
         "orientation": "v",
         "showlegend": true,
         "type": "scatter",
         "x": [
          0.0001776164044857
         ],
         "xaxis": "x",
         "y": [
          0.000453560699604996
         ],
         "yaxis": "y"
        },
        {
         "hovertemplate": "Area=Ghanpur (Stn)<br>Deviance Scores Amount of Fires=%{x}<br>Deviance Scores PM2.5=%{y}<extra></extra>",
         "legendgroup": "Ghanpur (Stn)",
         "marker": {
          "color": "#19d3f3",
          "symbol": "circle"
         },
         "mode": "markers",
         "name": "Ghanpur (Stn)",
         "orientation": "v",
         "showlegend": true,
         "type": "scatter",
         "x": [
          0.000021390405356068065
         ],
         "xaxis": "x",
         "y": [
          0.0018047817944850232
         ],
         "yaxis": "y"
        },
        {
         "hovertemplate": "Area=Ghatkesar<br>Deviance Scores Amount of Fires=%{x}<br>Deviance Scores PM2.5=%{y}<extra></extra>",
         "legendgroup": "Ghatkesar",
         "marker": {
          "color": "#FF6692",
          "symbol": "circle"
         },
         "mode": "markers",
         "name": "Ghatkesar",
         "orientation": "v",
         "showlegend": true,
         "type": "scatter",
         "x": [
          0.00001768815256408945
         ],
         "xaxis": "x",
         "y": [
          0.0012709785541714846
         ],
         "yaxis": "y"
        },
        {
         "hovertemplate": "Area=Ghattu<br>Deviance Scores Amount of Fires=%{x}<br>Deviance Scores PM2.5=%{y}<extra></extra>",
         "legendgroup": "Ghattu",
         "marker": {
          "color": "#B6E880",
          "symbol": "circle"
         },
         "mode": "markers",
         "name": "Ghattu",
         "orientation": "v",
         "showlegend": true,
         "type": "scatter",
         "x": [
          0.00003988278870701421
         ],
         "xaxis": "x",
         "y": [
          0.0015272431622145107
         ],
         "yaxis": "y"
        },
        {
         "hovertemplate": "Area=Govindaraopet<br>Deviance Scores Amount of Fires=%{x}<br>Deviance Scores PM2.5=%{y}<extra></extra>",
         "legendgroup": "Govindaraopet",
         "marker": {
          "color": "#FF97FF",
          "symbol": "circle"
         },
         "mode": "markers",
         "name": "Govindaraopet",
         "orientation": "v",
         "showlegend": true,
         "type": "scatter",
         "x": [
          -0.0001525000041134
         ],
         "xaxis": "x",
         "y": [
          0.0010136855908716006
         ],
         "yaxis": "y"
        },
        {
         "hovertemplate": "Area=Gudur<br>Deviance Scores Amount of Fires=%{x}<br>Deviance Scores PM2.5=%{y}<extra></extra>",
         "legendgroup": "Gudur",
         "marker": {
          "color": "#FECB52",
          "symbol": "circle"
         },
         "mode": "markers",
         "name": "Gudur",
         "orientation": "v",
         "showlegend": true,
         "type": "scatter",
         "x": [
          0.000003680694344565816
         ],
         "xaxis": "x",
         "y": [
          0.001282720522684802
         ],
         "yaxis": "y"
        },
        {
         "hovertemplate": "Area=Gundala<br>Deviance Scores Amount of Fires=%{x}<br>Deviance Scores PM2.5=%{y}<extra></extra>",
         "legendgroup": "Gundala",
         "marker": {
          "color": "#636efa",
          "symbol": "circle"
         },
         "mode": "markers",
         "name": "Gundala",
         "orientation": "v",
         "showlegend": true,
         "type": "scatter",
         "x": [
          -0.0006277170947573,
          0.0001445687934519
         ],
         "xaxis": "x",
         "y": [
          0.0005114165678585848,
          0.0013823708506467884
         ],
         "yaxis": "y"
        },
        {
         "hovertemplate": "Area=Gundlapally<br>Deviance Scores Amount of Fires=%{x}<br>Deviance Scores PM2.5=%{y}<extra></extra>",
         "legendgroup": "Gundlapally",
         "marker": {
          "color": "#EF553B",
          "symbol": "circle"
         },
         "mode": "markers",
         "name": "Gundlapally",
         "orientation": "v",
         "showlegend": true,
         "type": "scatter",
         "x": [
          0.000105405398954
         ],
         "xaxis": "x",
         "y": [
          0.0005342746197990541
         ],
         "yaxis": "y"
        },
        {
         "hovertemplate": "Area=Gurrampode<br>Deviance Scores Amount of Fires=%{x}<br>Deviance Scores PM2.5=%{y}<extra></extra>",
         "legendgroup": "Gurrampode",
         "marker": {
          "color": "#00cc96",
          "symbol": "circle"
         },
         "mode": "markers",
         "name": "Gurrampode",
         "orientation": "v",
         "showlegend": true,
         "type": "scatter",
         "x": [
          0.00009320222644251626
         ],
         "xaxis": "x",
         "y": [
          0.0009162680169694784
         ],
         "yaxis": "y"
        },
        {
         "hovertemplate": "Area=Hajipur<br>Deviance Scores Amount of Fires=%{x}<br>Deviance Scores PM2.5=%{y}<extra></extra>",
         "legendgroup": "Hajipur",
         "marker": {
          "color": "#ab63fa",
          "symbol": "circle"
         },
         "mode": "markers",
         "name": "Hajipur",
         "orientation": "v",
         "showlegend": true,
         "type": "scatter",
         "x": [
          -0.000003721121283735528
         ],
         "xaxis": "x",
         "y": [
          0.0015211763237256849
         ],
         "yaxis": "y"
        },
        {
         "hovertemplate": "Area=Hasanparthy<br>Deviance Scores Amount of Fires=%{x}<br>Deviance Scores PM2.5=%{y}<extra></extra>",
         "legendgroup": "Hasanparthy",
         "marker": {
          "color": "#FFA15A",
          "symbol": "circle"
         },
         "mode": "markers",
         "name": "Hasanparthy",
         "orientation": "v",
         "showlegend": true,
         "type": "scatter",
         "x": [
          0.000198687405514
         ],
         "xaxis": "x",
         "y": [
          0.001733672760517753
         ],
         "yaxis": "y"
        },
        {
         "hovertemplate": "Area=Hathnoora<br>Deviance Scores Amount of Fires=%{x}<br>Deviance Scores PM2.5=%{y}<extra></extra>",
         "legendgroup": "Hathnoora",
         "marker": {
          "color": "#19d3f3",
          "symbol": "circle"
         },
         "mode": "markers",
         "name": "Hathnoora",
         "orientation": "v",
         "showlegend": true,
         "type": "scatter",
         "x": [
          0.0003424765320264
         ],
         "xaxis": "x",
         "y": [
          0.0008975108539134685
         ],
         "yaxis": "y"
        },
        {
         "hovertemplate": "Area=Havelighanpur<br>Deviance Scores Amount of Fires=%{x}<br>Deviance Scores PM2.5=%{y}<extra></extra>",
         "legendgroup": "Havelighanpur",
         "marker": {
          "color": "#FF6692",
          "symbol": "circle"
         },
         "mode": "markers",
         "name": "Havelighanpur",
         "orientation": "v",
         "showlegend": true,
         "type": "scatter",
         "x": [
          -0.000003137859129970576
         ],
         "xaxis": "x",
         "y": [
          0.0010031434949583507
         ],
         "yaxis": "y"
        },
        {
         "hovertemplate": "Area=Husnabad<br>Deviance Scores Amount of Fires=%{x}<br>Deviance Scores PM2.5=%{y}<extra></extra>",
         "legendgroup": "Husnabad",
         "marker": {
          "color": "#B6E880",
          "symbol": "circle"
         },
         "mode": "markers",
         "name": "Husnabad",
         "orientation": "v",
         "showlegend": true,
         "type": "scatter",
         "x": [
          -0.000053436604258993206
         ],
         "xaxis": "x",
         "y": [
          0.0019204586905838211
         ],
         "yaxis": "y"
        },
        {
         "hovertemplate": "Area=Huzur nagar<br>Deviance Scores Amount of Fires=%{x}<br>Deviance Scores PM2.5=%{y}<extra></extra>",
         "legendgroup": "Huzur nagar",
         "marker": {
          "color": "#FF97FF",
          "symbol": "circle"
         },
         "mode": "markers",
         "name": "Huzur nagar",
         "orientation": "v",
         "showlegend": true,
         "type": "scatter",
         "x": [
          -0.0001200410102768
         ],
         "xaxis": "x",
         "y": [
          0.0013346088739434343
         ],
         "yaxis": "y"
        },
        {
         "hovertemplate": "Area=Huzurabad<br>Deviance Scores Amount of Fires=%{x}<br>Deviance Scores PM2.5=%{y}<extra></extra>",
         "legendgroup": "Huzurabad",
         "marker": {
          "color": "#FECB52",
          "symbol": "circle"
         },
         "mode": "markers",
         "name": "Huzurabad",
         "orientation": "v",
         "showlegend": true,
         "type": "scatter",
         "x": [
          0.0002394303103891
         ],
         "xaxis": "x",
         "y": [
          0.002051816326832125
         ],
         "yaxis": "y"
        },
        {
         "hovertemplate": "Area=Ibrahimpatnam<br>Deviance Scores Amount of Fires=%{x}<br>Deviance Scores PM2.5=%{y}<extra></extra>",
         "legendgroup": "Ibrahimpatnam",
         "marker": {
          "color": "#636efa",
          "symbol": "circle"
         },
         "mode": "markers",
         "name": "Ibrahimpatnam",
         "orientation": "v",
         "showlegend": true,
         "type": "scatter",
         "x": [
          0.0002618596451272
         ],
         "xaxis": "x",
         "y": [
          0.0028095107971188027
         ],
         "yaxis": "y"
        },
        {
         "hovertemplate": "Area=Ichoda<br>Deviance Scores Amount of Fires=%{x}<br>Deviance Scores PM2.5=%{y}<extra></extra>",
         "legendgroup": "Ichoda",
         "marker": {
          "color": "#EF553B",
          "symbol": "circle"
         },
         "mode": "markers",
         "name": "Ichoda",
         "orientation": "v",
         "showlegend": true,
         "type": "scatter",
         "x": [
          -0.0000199480471773586
         ],
         "xaxis": "x",
         "y": [
          0.0015702635542370498
         ],
         "yaxis": "y"
        },
        {
         "hovertemplate": "Area=Illanthakunta<br>Deviance Scores Amount of Fires=%{x}<br>Deviance Scores PM2.5=%{y}<extra></extra>",
         "legendgroup": "Illanthakunta",
         "marker": {
          "color": "#00cc96",
          "symbol": "circle"
         },
         "mode": "markers",
         "name": "Illanthakunta",
         "orientation": "v",
         "showlegend": true,
         "type": "scatter",
         "x": [
          -0.000015737658206188404
         ],
         "xaxis": "x",
         "y": [
          0.0019805819878512716
         ],
         "yaxis": "y"
        },
        {
         "hovertemplate": "Area=Inavolu<br>Deviance Scores Amount of Fires=%{x}<br>Deviance Scores PM2.5=%{y}<extra></extra>",
         "legendgroup": "Inavolu",
         "marker": {
          "color": "#ab63fa",
          "symbol": "circle"
         },
         "mode": "markers",
         "name": "Inavolu",
         "orientation": "v",
         "showlegend": true,
         "type": "scatter",
         "x": [
          0.000053866279822497566
         ],
         "xaxis": "x",
         "y": [
          0.0013870656172629131
         ],
         "yaxis": "y"
        },
        {
         "hovertemplate": "Area=Indalwai<br>Deviance Scores Amount of Fires=%{x}<br>Deviance Scores PM2.5=%{y}<extra></extra>",
         "legendgroup": "Indalwai",
         "marker": {
          "color": "#FFA15A",
          "symbol": "circle"
         },
         "mode": "markers",
         "name": "Indalwai",
         "orientation": "v",
         "showlegend": true,
         "type": "scatter",
         "x": [
          0.000057810107483257385
         ],
         "xaxis": "x",
         "y": [
          0.002061346504351869
         ],
         "yaxis": "y"
        },
        {
         "hovertemplate": "Area=Inderavelly<br>Deviance Scores Amount of Fires=%{x}<br>Deviance Scores PM2.5=%{y}<extra></extra>",
         "legendgroup": "Inderavelly",
         "marker": {
          "color": "#19d3f3",
          "symbol": "circle"
         },
         "mode": "markers",
         "name": "Inderavelly",
         "orientation": "v",
         "showlegend": true,
         "type": "scatter",
         "x": [
          -0.000013860532746844884
         ],
         "xaxis": "x",
         "y": [
          0.0010130364339600221
         ],
         "yaxis": "y"
        },
        {
         "hovertemplate": "Area=Itikyal<br>Deviance Scores Amount of Fires=%{x}<br>Deviance Scores PM2.5=%{y}<extra></extra>",
         "legendgroup": "Itikyal",
         "marker": {
          "color": "#FF6692",
          "symbol": "circle"
         },
         "mode": "markers",
         "name": "Itikyal",
         "orientation": "v",
         "showlegend": true,
         "type": "scatter",
         "x": [
          0.00007873313110955009
         ],
         "xaxis": "x",
         "y": [
          0.0009871946813164148
         ],
         "yaxis": "y"
        },
        {
         "hovertemplate": "Area=Jadcherla<br>Deviance Scores Amount of Fires=%{x}<br>Deviance Scores PM2.5=%{y}<extra></extra>",
         "legendgroup": "Jadcherla",
         "marker": {
          "color": "#B6E880",
          "symbol": "circle"
         },
         "mode": "markers",
         "name": "Jadcherla",
         "orientation": "v",
         "showlegend": true,
         "type": "scatter",
         "x": [
          0.00001387853852344708
         ],
         "xaxis": "x",
         "y": [
          0.00017594578723247026
         ],
         "yaxis": "y"
        },
        {
         "hovertemplate": "Area=Jagdevpur<br>Deviance Scores Amount of Fires=%{x}<br>Deviance Scores PM2.5=%{y}<extra></extra>",
         "legendgroup": "Jagdevpur",
         "marker": {
          "color": "#FF97FF",
          "symbol": "circle"
         },
         "mode": "markers",
         "name": "Jagdevpur",
         "orientation": "v",
         "showlegend": true,
         "type": "scatter",
         "x": [
          0.00001729754489936558
         ],
         "xaxis": "x",
         "y": [
          0.0011146481508734222
         ],
         "yaxis": "y"
        },
        {
         "hovertemplate": "Area=Jagityal_Rural<br>Deviance Scores Amount of Fires=%{x}<br>Deviance Scores PM2.5=%{y}<extra></extra>",
         "legendgroup": "Jagityal_Rural",
         "marker": {
          "color": "#FECB52",
          "symbol": "circle"
         },
         "mode": "markers",
         "name": "Jagityal_Rural",
         "orientation": "v",
         "showlegend": true,
         "type": "scatter",
         "x": [
          -0.00001556475432332298
         ],
         "xaxis": "x",
         "y": [
          0.002472247394137916
         ],
         "yaxis": "y"
        },
        {
         "hovertemplate": "Area=Jainad<br>Deviance Scores Amount of Fires=%{x}<br>Deviance Scores PM2.5=%{y}<extra></extra>",
         "legendgroup": "Jainad",
         "marker": {
          "color": "#636efa",
          "symbol": "circle"
         },
         "mode": "markers",
         "name": "Jainad",
         "orientation": "v",
         "showlegend": true,
         "type": "scatter",
         "x": [
          0.00003122002693326823
         ],
         "xaxis": "x",
         "y": [
          0.0017075088810802478
         ],
         "yaxis": "y"
        },
        {
         "hovertemplate": "Area=Jaipur<br>Deviance Scores Amount of Fires=%{x}<br>Deviance Scores PM2.5=%{y}<extra></extra>",
         "legendgroup": "Jaipur",
         "marker": {
          "color": "#EF553B",
          "symbol": "circle"
         },
         "mode": "markers",
         "name": "Jaipur",
         "orientation": "v",
         "showlegend": true,
         "type": "scatter",
         "x": [
          -0.000015447025846281227
         ],
         "xaxis": "x",
         "y": [
          0.0013326761681317963
         ],
         "yaxis": "y"
        },
        {
         "hovertemplate": "Area=Jajireddigudem<br>Deviance Scores Amount of Fires=%{x}<br>Deviance Scores PM2.5=%{y}<extra></extra>",
         "legendgroup": "Jajireddigudem",
         "marker": {
          "color": "#00cc96",
          "symbol": "circle"
         },
         "mode": "markers",
         "name": "Jajireddigudem",
         "orientation": "v",
         "showlegend": true,
         "type": "scatter",
         "x": [
          0.0000021673762066127933
         ],
         "xaxis": "x",
         "y": [
          0.0021881884016215227
         ],
         "yaxis": "y"
        },
        {
         "hovertemplate": "Area=Jammikunta<br>Deviance Scores Amount of Fires=%{x}<br>Deviance Scores PM2.5=%{y}<extra></extra>",
         "legendgroup": "Jammikunta",
         "marker": {
          "color": "#ab63fa",
          "symbol": "circle"
         },
         "mode": "markers",
         "name": "Jammikunta",
         "orientation": "v",
         "showlegend": true,
         "type": "scatter",
         "x": [
          -0.000025885970719681368
         ],
         "xaxis": "x",
         "y": [
          0.00206039707074173
         ],
         "yaxis": "y"
        },
        {
         "hovertemplate": "Area=Jangoan<br>Deviance Scores Amount of Fires=%{x}<br>Deviance Scores PM2.5=%{y}<extra></extra>",
         "legendgroup": "Jangoan",
         "marker": {
          "color": "#FFA15A",
          "symbol": "circle"
         },
         "mode": "markers",
         "name": "Jangoan",
         "orientation": "v",
         "showlegend": true,
         "type": "scatter",
         "x": [
          -0.000022454274749657987
         ],
         "xaxis": "x",
         "y": [
          0.0015168372303965688
         ],
         "yaxis": "y"
        },
        {
         "hovertemplate": "Area=Jannaram<br>Deviance Scores Amount of Fires=%{x}<br>Deviance Scores PM2.5=%{y}<extra></extra>",
         "legendgroup": "Jannaram",
         "marker": {
          "color": "#19d3f3",
          "symbol": "circle"
         },
         "mode": "markers",
         "name": "Jannaram",
         "orientation": "v",
         "showlegend": true,
         "type": "scatter",
         "x": [
          -0.000014072397767811122
         ],
         "xaxis": "x",
         "y": [
          0.0016387665293561783
         ],
         "yaxis": "y"
        },
        {
         "hovertemplate": "Area=Jharasangam<br>Deviance Scores Amount of Fires=%{x}<br>Deviance Scores PM2.5=%{y}<extra></extra>",
         "legendgroup": "Jharasangam",
         "marker": {
          "color": "#FF6692",
          "symbol": "circle"
         },
         "mode": "markers",
         "name": "Jharasangam",
         "orientation": "v",
         "showlegend": true,
         "type": "scatter",
         "x": [
          0.00000670964484612724
         ],
         "xaxis": "x",
         "y": [
          -0.00011521351232076079
         ],
         "yaxis": "y"
        },
        {
         "hovertemplate": "Area=Jukkal<br>Deviance Scores Amount of Fires=%{x}<br>Deviance Scores PM2.5=%{y}<extra></extra>",
         "legendgroup": "Jukkal",
         "marker": {
          "color": "#B6E880",
          "symbol": "circle"
         },
         "mode": "markers",
         "name": "Jukkal",
         "orientation": "v",
         "showlegend": true,
         "type": "scatter",
         "x": [
          -0.00002605439973841168
         ],
         "xaxis": "x",
         "y": [
          0.0011727780423642761
         ],
         "yaxis": "y"
        },
        {
         "hovertemplate": "Area=Julurupad<br>Deviance Scores Amount of Fires=%{x}<br>Deviance Scores PM2.5=%{y}<extra></extra>",
         "legendgroup": "Julurupad",
         "marker": {
          "color": "#FF97FF",
          "symbol": "circle"
         },
         "mode": "markers",
         "name": "Julurupad",
         "orientation": "v",
         "showlegend": true,
         "type": "scatter",
         "x": [
          0.00005957117675413938
         ],
         "xaxis": "x",
         "y": [
          0.00036061630079584897
         ],
         "yaxis": "y"
        },
        {
         "hovertemplate": "Area=Kaddampeddur<br>Deviance Scores Amount of Fires=%{x}<br>Deviance Scores PM2.5=%{y}<extra></extra>",
         "legendgroup": "Kaddampeddur",
         "marker": {
          "color": "#FECB52",
          "symbol": "circle"
         },
         "mode": "markers",
         "name": "Kaddampeddur",
         "orientation": "v",
         "showlegend": true,
         "type": "scatter",
         "x": [
          0.000014627621677203984
         ],
         "xaxis": "x",
         "y": [
          0.0014854305654102436
         ],
         "yaxis": "y"
        },
        {
         "hovertemplate": "Area=Kadthal<br>Deviance Scores Amount of Fires=%{x}<br>Deviance Scores PM2.5=%{y}<extra></extra>",
         "legendgroup": "Kadthal",
         "marker": {
          "color": "#636efa",
          "symbol": "circle"
         },
         "mode": "markers",
         "name": "Kadthal",
         "orientation": "v",
         "showlegend": true,
         "type": "scatter",
         "x": [
          -0.000010986763643348147
         ],
         "xaxis": "x",
         "y": [
          -0.00038531876052873054
         ],
         "yaxis": "y"
        },
        {
         "hovertemplate": "Area=Kagaznagar<br>Deviance Scores Amount of Fires=%{x}<br>Deviance Scores PM2.5=%{y}<extra></extra>",
         "legendgroup": "Kagaznagar",
         "marker": {
          "color": "#EF553B",
          "symbol": "circle"
         },
         "mode": "markers",
         "name": "Kagaznagar",
         "orientation": "v",
         "showlegend": true,
         "type": "scatter",
         "x": [
          0.000016796734970054706
         ],
         "xaxis": "x",
         "y": [
          0.0007175359201372299
         ],
         "yaxis": "y"
        },
        {
         "hovertemplate": "Area=Kalher<br>Deviance Scores Amount of Fires=%{x}<br>Deviance Scores PM2.5=%{y}<extra></extra>",
         "legendgroup": "Kalher",
         "marker": {
          "color": "#00cc96",
          "symbol": "circle"
         },
         "mode": "markers",
         "name": "Kalher",
         "orientation": "v",
         "showlegend": true,
         "type": "scatter",
         "x": [
          -0.000003610461579387174
         ],
         "xaxis": "x",
         "y": [
          0.0014204213758612144
         ],
         "yaxis": "y"
        },
        {
         "hovertemplate": "Area=Kalluru<br>Deviance Scores Amount of Fires=%{x}<br>Deviance Scores PM2.5=%{y}<extra></extra>",
         "legendgroup": "Kalluru",
         "marker": {
          "color": "#ab63fa",
          "symbol": "circle"
         },
         "mode": "markers",
         "name": "Kalluru",
         "orientation": "v",
         "showlegend": true,
         "type": "scatter",
         "x": [
          0.000026984257620345806
         ],
         "xaxis": "x",
         "y": [
          0.0006726391361451209
         ],
         "yaxis": "y"
        },
        {
         "hovertemplate": "Area=Kaloor_Thimmandoddi<br>Deviance Scores Amount of Fires=%{x}<br>Deviance Scores PM2.5=%{y}<extra></extra>",
         "legendgroup": "Kaloor_Thimmandoddi",
         "marker": {
          "color": "#FFA15A",
          "symbol": "circle"
         },
         "mode": "markers",
         "name": "Kaloor_Thimmandoddi",
         "orientation": "v",
         "showlegend": true,
         "type": "scatter",
         "x": [
          0.00003989457166433652
         ],
         "xaxis": "x",
         "y": [
          0.001634171259065759
         ],
         "yaxis": "y"
        },
        {
         "hovertemplate": "Area=Kalwakurthy<br>Deviance Scores Amount of Fires=%{x}<br>Deviance Scores PM2.5=%{y}<extra></extra>",
         "legendgroup": "Kalwakurthy",
         "marker": {
          "color": "#19d3f3",
          "symbol": "circle"
         },
         "mode": "markers",
         "name": "Kalwakurthy",
         "orientation": "v",
         "showlegend": true,
         "type": "scatter",
         "x": [
          0.000019650828346612497
         ],
         "xaxis": "x",
         "y": [
          0.00029609518114967427
         ],
         "yaxis": "y"
        },
        {
         "hovertemplate": "Area=Kamalapur<br>Deviance Scores Amount of Fires=%{x}<br>Deviance Scores PM2.5=%{y}<extra></extra>",
         "legendgroup": "Kamalapur",
         "marker": {
          "color": "#FF6692",
          "symbol": "circle"
         },
         "mode": "markers",
         "name": "Kamalapur",
         "orientation": "v",
         "showlegend": true,
         "type": "scatter",
         "x": [
          0.0004882090494051
         ],
         "xaxis": "x",
         "y": [
          0.001619924174745632
         ],
         "yaxis": "y"
        },
        {
         "hovertemplate": "Area=Kamanpur<br>Deviance Scores Amount of Fires=%{x}<br>Deviance Scores PM2.5=%{y}<extra></extra>",
         "legendgroup": "Kamanpur",
         "marker": {
          "color": "#B6E880",
          "symbol": "circle"
         },
         "mode": "markers",
         "name": "Kamanpur",
         "orientation": "v",
         "showlegend": true,
         "type": "scatter",
         "x": [
          0.00007699849551404527
         ],
         "xaxis": "x",
         "y": [
          0.0019541613517772343
         ],
         "yaxis": "y"
        },
        {
         "hovertemplate": "Area=Kamareddy<br>Deviance Scores Amount of Fires=%{x}<br>Deviance Scores PM2.5=%{y}<extra></extra>",
         "legendgroup": "Kamareddy",
         "marker": {
          "color": "#FF97FF",
          "symbol": "circle"
         },
         "mode": "markers",
         "name": "Kamareddy",
         "orientation": "v",
         "showlegend": true,
         "type": "scatter",
         "x": [
          0.000012304358326016648
         ],
         "xaxis": "x",
         "y": [
          0.0018505165796788012
         ],
         "yaxis": "y"
        },
        {
         "hovertemplate": "Area=Kamepally<br>Deviance Scores Amount of Fires=%{x}<br>Deviance Scores PM2.5=%{y}<extra></extra>",
         "legendgroup": "Kamepally",
         "marker": {
          "color": "#FECB52",
          "symbol": "circle"
         },
         "mode": "markers",
         "name": "Kamepally",
         "orientation": "v",
         "showlegend": true,
         "type": "scatter",
         "x": [
          0.0000323085975982963
         ],
         "xaxis": "x",
         "y": [
          0.000771902725494757
         ],
         "yaxis": "y"
        },
        {
         "hovertemplate": "Area=Kanagal<br>Deviance Scores Amount of Fires=%{x}<br>Deviance Scores PM2.5=%{y}<extra></extra>",
         "legendgroup": "Kanagal",
         "marker": {
          "color": "#636efa",
          "symbol": "circle"
         },
         "mode": "markers",
         "name": "Kanagal",
         "orientation": "v",
         "showlegend": true,
         "type": "scatter",
         "x": [
          0.000014912614486536394
         ],
         "xaxis": "x",
         "y": [
          0.0011352091457428096
         ],
         "yaxis": "y"
        },
        {
         "hovertemplate": "Area=Kandukur<br>Deviance Scores Amount of Fires=%{x}<br>Deviance Scores PM2.5=%{y}<extra></extra>",
         "legendgroup": "Kandukur",
         "marker": {
          "color": "#EF553B",
          "symbol": "circle"
         },
         "mode": "markers",
         "name": "Kandukur",
         "orientation": "v",
         "showlegend": true,
         "type": "scatter",
         "x": [
          0.0001147496864666
         ],
         "xaxis": "x",
         "y": [
          -0.0005839118264410581
         ],
         "yaxis": "y"
        },
        {
         "hovertemplate": "Area=Kangti<br>Deviance Scores Amount of Fires=%{x}<br>Deviance Scores PM2.5=%{y}<extra></extra>",
         "legendgroup": "Kangti",
         "marker": {
          "color": "#00cc96",
          "symbol": "circle"
         },
         "mode": "markers",
         "name": "Kangti",
         "orientation": "v",
         "showlegend": true,
         "type": "scatter",
         "x": [
          -0.000009120908694245184
         ],
         "xaxis": "x",
         "y": [
          0.0008000551442671394
         ],
         "yaxis": "y"
        },
        {
         "hovertemplate": "Area=Kannaigudem<br>Deviance Scores Amount of Fires=%{x}<br>Deviance Scores PM2.5=%{y}<extra></extra>",
         "legendgroup": "Kannaigudem",
         "marker": {
          "color": "#ab63fa",
          "symbol": "circle"
         },
         "mode": "markers",
         "name": "Kannaigudem",
         "orientation": "v",
         "showlegend": true,
         "type": "scatter",
         "x": [
          -0.00001947423599298855
         ],
         "xaxis": "x",
         "y": [
          0.0005611999914086912
         ],
         "yaxis": "y"
        },
        {
         "hovertemplate": "Area=Kannepalli<br>Deviance Scores Amount of Fires=%{x}<br>Deviance Scores PM2.5=%{y}<extra></extra>",
         "legendgroup": "Kannepalli",
         "marker": {
          "color": "#FFA15A",
          "symbol": "circle"
         },
         "mode": "markers",
         "name": "Kannepalli",
         "orientation": "v",
         "showlegend": true,
         "type": "scatter",
         "x": [
          0.00003019868119851863
         ],
         "xaxis": "x",
         "y": [
          0.0014724940675717392
         ],
         "yaxis": "y"
        },
        {
         "hovertemplate": "Area=Karakagudem<br>Deviance Scores Amount of Fires=%{x}<br>Deviance Scores PM2.5=%{y}<extra></extra>",
         "legendgroup": "Karakagudem",
         "marker": {
          "color": "#19d3f3",
          "symbol": "circle"
         },
         "mode": "markers",
         "name": "Karakagudem",
         "orientation": "v",
         "showlegend": true,
         "type": "scatter",
         "x": [
          0.0000803892563714185
         ],
         "xaxis": "x",
         "y": [
          0.0004807873074888903
         ],
         "yaxis": "y"
        },
        {
         "hovertemplate": "Area=Karimnagar_Rural<br>Deviance Scores Amount of Fires=%{x}<br>Deviance Scores PM2.5=%{y}<extra></extra>",
         "legendgroup": "Karimnagar_Rural",
         "marker": {
          "color": "#FF6692",
          "symbol": "circle"
         },
         "mode": "markers",
         "name": "Karimnagar_Rural",
         "orientation": "v",
         "showlegend": true,
         "type": "scatter",
         "x": [
          0.0001188569435729
         ],
         "xaxis": "x",
         "y": [
          0.002560662651109609
         ],
         "yaxis": "y"
        },
        {
         "hovertemplate": "Area=Kataram<br>Deviance Scores Amount of Fires=%{x}<br>Deviance Scores PM2.5=%{y}<extra></extra>",
         "legendgroup": "Kataram",
         "marker": {
          "color": "#B6E880",
          "symbol": "circle"
         },
         "mode": "markers",
         "name": "Kataram",
         "orientation": "v",
         "showlegend": true,
         "type": "scatter",
         "x": [
          0.00004104431546173013
         ],
         "xaxis": "x",
         "y": [
          0.0011733015091363577
         ],
         "yaxis": "y"
        },
        {
         "hovertemplate": "Area=Kathlapur<br>Deviance Scores Amount of Fires=%{x}<br>Deviance Scores PM2.5=%{y}<extra></extra>",
         "legendgroup": "Kathlapur",
         "marker": {
          "color": "#FF97FF",
          "symbol": "circle"
         },
         "mode": "markers",
         "name": "Kathlapur",
         "orientation": "v",
         "showlegend": true,
         "type": "scatter",
         "x": [
          0.0002225297975238
         ],
         "xaxis": "x",
         "y": [
          0.0023641021860853827
         ],
         "yaxis": "y"
        },
        {
         "hovertemplate": "Area=Kattangur<br>Deviance Scores Amount of Fires=%{x}<br>Deviance Scores PM2.5=%{y}<extra></extra>",
         "legendgroup": "Kattangur",
         "marker": {
          "color": "#FECB52",
          "symbol": "circle"
         },
         "mode": "markers",
         "name": "Kattangur",
         "orientation": "v",
         "showlegend": true,
         "type": "scatter",
         "x": [
          0.00007283057642033854
         ],
         "xaxis": "x",
         "y": [
          0.0017443384459243554
         ],
         "yaxis": "y"
        },
        {
         "hovertemplate": "Area=Keesara<br>Deviance Scores Amount of Fires=%{x}<br>Deviance Scores PM2.5=%{y}<extra></extra>",
         "legendgroup": "Keesara",
         "marker": {
          "color": "#636efa",
          "symbol": "circle"
         },
         "mode": "markers",
         "name": "Keesara",
         "orientation": "v",
         "showlegend": true,
         "type": "scatter",
         "x": [
          -0.000025721913636075594
         ],
         "xaxis": "x",
         "y": [
          0.00018492316815195054
         ],
         "yaxis": "y"
        },
        {
         "hovertemplate": "Area=Kesamudram<br>Deviance Scores Amount of Fires=%{x}<br>Deviance Scores PM2.5=%{y}<extra></extra>",
         "legendgroup": "Kesamudram",
         "marker": {
          "color": "#EF553B",
          "symbol": "circle"
         },
         "mode": "markers",
         "name": "Kesamudram",
         "orientation": "v",
         "showlegend": true,
         "type": "scatter",
         "x": [
          0.0001266951258923
         ],
         "xaxis": "x",
         "y": [
          0.0018707734472583105
         ],
         "yaxis": "y"
        },
        {
         "hovertemplate": "Area=Keshampeta<br>Deviance Scores Amount of Fires=%{x}<br>Deviance Scores PM2.5=%{y}<extra></extra>",
         "legendgroup": "Keshampeta",
         "marker": {
          "color": "#00cc96",
          "symbol": "circle"
         },
         "mode": "markers",
         "name": "Keshampeta",
         "orientation": "v",
         "showlegend": true,
         "type": "scatter",
         "x": [
          0.0001064989383182
         ],
         "xaxis": "x",
         "y": [
          -0.00041042804579301473
         ],
         "yaxis": "y"
        },
        {
         "hovertemplate": "Area=Kethepally<br>Deviance Scores Amount of Fires=%{x}<br>Deviance Scores PM2.5=%{y}<extra></extra>",
         "legendgroup": "Kethepally",
         "marker": {
          "color": "#ab63fa",
          "symbol": "circle"
         },
         "mode": "markers",
         "name": "Kethepally",
         "orientation": "v",
         "showlegend": true,
         "type": "scatter",
         "x": [
          0.0000028226207765887085
         ],
         "xaxis": "x",
         "y": [
          0.001647217268834268
         ],
         "yaxis": "y"
        },
        {
         "hovertemplate": "Area=Khaazipet<br>Deviance Scores Amount of Fires=%{x}<br>Deviance Scores PM2.5=%{y}<extra></extra>",
         "legendgroup": "Khaazipet",
         "marker": {
          "color": "#FFA15A",
          "symbol": "circle"
         },
         "mode": "markers",
         "name": "Khaazipet",
         "orientation": "v",
         "showlegend": true,
         "type": "scatter",
         "x": [
          0.00004037692039011148
         ],
         "xaxis": "x",
         "y": [
          0.0016797998429132802
         ],
         "yaxis": "y"
        },
        {
         "hovertemplate": "Area=Khammam_Rural<br>Deviance Scores Amount of Fires=%{x}<br>Deviance Scores PM2.5=%{y}<extra></extra>",
         "legendgroup": "Khammam_Rural",
         "marker": {
          "color": "#19d3f3",
          "symbol": "circle"
         },
         "mode": "markers",
         "name": "Khammam_Rural",
         "orientation": "v",
         "showlegend": true,
         "type": "scatter",
         "x": [
          -0.000010023494944899424
         ],
         "xaxis": "x",
         "y": [
          0.0012084965274249278
         ],
         "yaxis": "y"
        },
        {
         "hovertemplate": "Area=Khammam_Urban<br>Deviance Scores Amount of Fires=%{x}<br>Deviance Scores PM2.5=%{y}<extra></extra>",
         "legendgroup": "Khammam_Urban",
         "marker": {
          "color": "#FF6692",
          "symbol": "circle"
         },
         "mode": "markers",
         "name": "Khammam_Urban",
         "orientation": "v",
         "showlegend": true,
         "type": "scatter",
         "x": [
          0.000010015447035426476
         ],
         "xaxis": "x",
         "y": [
          0.0011698035965921154
         ],
         "yaxis": "y"
        },
        {
         "hovertemplate": "Area=Khanapur<br>Deviance Scores Amount of Fires=%{x}<br>Deviance Scores PM2.5=%{y}<extra></extra>",
         "legendgroup": "Khanapur",
         "marker": {
          "color": "#B6E880",
          "symbol": "circle"
         },
         "mode": "markers",
         "name": "Khanapur",
         "orientation": "v",
         "showlegend": true,
         "type": "scatter",
         "x": [
          0.0001191419202477,
          0.0003289153398498
         ],
         "xaxis": "x",
         "y": [
          0.0017151916880735437,
          0.0015785279911241833
         ],
         "yaxis": "y"
        },
        {
         "hovertemplate": "Area=Kodad<br>Deviance Scores Amount of Fires=%{x}<br>Deviance Scores PM2.5=%{y}<extra></extra>",
         "legendgroup": "Kodad",
         "marker": {
          "color": "#FF97FF",
          "symbol": "circle"
         },
         "mode": "markers",
         "name": "Kodad",
         "orientation": "v",
         "showlegend": true,
         "type": "scatter",
         "x": [
          -0.00002849805080428229
         ],
         "xaxis": "x",
         "y": [
          0.0014092645754990077
         ],
         "yaxis": "y"
        },
        {
         "hovertemplate": "Area=Kodair<br>Deviance Scores Amount of Fires=%{x}<br>Deviance Scores PM2.5=%{y}<extra></extra>",
         "legendgroup": "Kodair",
         "marker": {
          "color": "#FECB52",
          "symbol": "circle"
         },
         "mode": "markers",
         "name": "Kodair",
         "orientation": "v",
         "showlegend": true,
         "type": "scatter",
         "x": [
          0.0001222151395167
         ],
         "xaxis": "x",
         "y": [
          0.0007334105268340592
         ],
         "yaxis": "y"
        },
        {
         "hovertemplate": "Area=Kodangal<br>Deviance Scores Amount of Fires=%{x}<br>Deviance Scores PM2.5=%{y}<extra></extra>",
         "legendgroup": "Kodangal",
         "marker": {
          "color": "#636efa",
          "symbol": "circle"
         },
         "mode": "markers",
         "name": "Kodangal",
         "orientation": "v",
         "showlegend": true,
         "type": "scatter",
         "x": [
          0.0002628714501527
         ],
         "xaxis": "x",
         "y": [
          -0.00021569320369480135
         ],
         "yaxis": "y"
        },
        {
         "hovertemplate": "Area=Kodimial<br>Deviance Scores Amount of Fires=%{x}<br>Deviance Scores PM2.5=%{y}<extra></extra>",
         "legendgroup": "Kodimial",
         "marker": {
          "color": "#EF553B",
          "symbol": "circle"
         },
         "mode": "markers",
         "name": "Kodimial",
         "orientation": "v",
         "showlegend": true,
         "type": "scatter",
         "x": [
          -0.000010418826862292909
         ],
         "xaxis": "x",
         "y": [
          0.0022611645665968055
         ],
         "yaxis": "y"
        },
        {
         "hovertemplate": "Area=Koheda<br>Deviance Scores Amount of Fires=%{x}<br>Deviance Scores PM2.5=%{y}<extra></extra>",
         "legendgroup": "Koheda",
         "marker": {
          "color": "#00cc96",
          "symbol": "circle"
         },
         "mode": "markers",
         "name": "Koheda",
         "orientation": "v",
         "showlegend": true,
         "type": "scatter",
         "x": [
          0.00005470004948630382
         ],
         "xaxis": "x",
         "y": [
          0.0016789065780806992
         ],
         "yaxis": "y"
        },
        {
         "hovertemplate": "Area=Kohir<br>Deviance Scores Amount of Fires=%{x}<br>Deviance Scores PM2.5=%{y}<extra></extra>",
         "legendgroup": "Kohir",
         "marker": {
          "color": "#ab63fa",
          "symbol": "circle"
         },
         "mode": "markers",
         "name": "Kohir",
         "orientation": "v",
         "showlegend": true,
         "type": "scatter",
         "x": [
          0.0002472988684216
         ],
         "xaxis": "x",
         "y": [
          -0.00035012895747953235
         ],
         "yaxis": "y"
        },
        {
         "hovertemplate": "Area=Koilkonda<br>Deviance Scores Amount of Fires=%{x}<br>Deviance Scores PM2.5=%{y}<extra></extra>",
         "legendgroup": "Koilkonda",
         "marker": {
          "color": "#FFA15A",
          "symbol": "circle"
         },
         "mode": "markers",
         "name": "Koilkonda",
         "orientation": "v",
         "showlegend": true,
         "type": "scatter",
         "x": [
          -0.000017704575250410493
         ],
         "xaxis": "x",
         "y": [
          0.00008465307773350578
         ],
         "yaxis": "y"
        },
        {
         "hovertemplate": "Area=Konaraopet<br>Deviance Scores Amount of Fires=%{x}<br>Deviance Scores PM2.5=%{y}<extra></extra>",
         "legendgroup": "Konaraopet",
         "marker": {
          "color": "#19d3f3",
          "symbol": "circle"
         },
         "mode": "markers",
         "name": "Konaraopet",
         "orientation": "v",
         "showlegend": true,
         "type": "scatter",
         "x": [
          0.000035551343959878685
         ],
         "xaxis": "x",
         "y": [
          0.002199679780219781
         ],
         "yaxis": "y"
        },
        {
         "hovertemplate": "Area=Kondapak<br>Deviance Scores Amount of Fires=%{x}<br>Deviance Scores PM2.5=%{y}<extra></extra>",
         "legendgroup": "Kondapak",
         "marker": {
          "color": "#FF6692",
          "symbol": "circle"
         },
         "mode": "markers",
         "name": "Kondapak",
         "orientation": "v",
         "showlegend": true,
         "type": "scatter",
         "x": [
          0.000031556196695325244
         ],
         "xaxis": "x",
         "y": [
          0.0010817790076500088
         ],
         "yaxis": "y"
        },
        {
         "hovertemplate": "Area=Kondapur<br>Deviance Scores Amount of Fires=%{x}<br>Deviance Scores PM2.5=%{y}<extra></extra>",
         "legendgroup": "Kondapur",
         "marker": {
          "color": "#B6E880",
          "symbol": "circle"
         },
         "mode": "markers",
         "name": "Kondapur",
         "orientation": "v",
         "showlegend": true,
         "type": "scatter",
         "x": [
          0.00003496508747131931
         ],
         "xaxis": "x",
         "y": [
          0.0004200089366092261
         ],
         "yaxis": "y"
        },
        {
         "hovertemplate": "Area=Kondurg<br>Deviance Scores Amount of Fires=%{x}<br>Deviance Scores PM2.5=%{y}<extra></extra>",
         "legendgroup": "Kondurg",
         "marker": {
          "color": "#FF97FF",
          "symbol": "circle"
         },
         "mode": "markers",
         "name": "Kondurg",
         "orientation": "v",
         "showlegend": true,
         "type": "scatter",
         "x": [
          0.00003120018508912867
         ],
         "xaxis": "x",
         "y": [
          -0.00028617048811566386
         ],
         "yaxis": "y"
        },
        {
         "hovertemplate": "Area=Konijerla<br>Deviance Scores Amount of Fires=%{x}<br>Deviance Scores PM2.5=%{y}<extra></extra>",
         "legendgroup": "Konijerla",
         "marker": {
          "color": "#FECB52",
          "symbol": "circle"
         },
         "mode": "markers",
         "name": "Konijerla",
         "orientation": "v",
         "showlegend": true,
         "type": "scatter",
         "x": [
          0.0001811459133157
         ],
         "xaxis": "x",
         "y": [
          0.0007315013868872938
         ],
         "yaxis": "y"
        },
        {
         "hovertemplate": "Area=Korutla<br>Deviance Scores Amount of Fires=%{x}<br>Deviance Scores PM2.5=%{y}<extra></extra>",
         "legendgroup": "Korutla",
         "marker": {
          "color": "#636efa",
          "symbol": "circle"
         },
         "mode": "markers",
         "name": "Korutla",
         "orientation": "v",
         "showlegend": true,
         "type": "scatter",
         "x": [
          0.00008259002537912567
         ],
         "xaxis": "x",
         "y": [
          0.002786862620737182
         ],
         "yaxis": "y"
        },
        {
         "hovertemplate": "Area=Kosgi<br>Deviance Scores Amount of Fires=%{x}<br>Deviance Scores PM2.5=%{y}<extra></extra>",
         "legendgroup": "Kosgi",
         "marker": {
          "color": "#EF553B",
          "symbol": "circle"
         },
         "mode": "markers",
         "name": "Kosgi",
         "orientation": "v",
         "showlegend": true,
         "type": "scatter",
         "x": [
          0.00003856591383355101
         ],
         "xaxis": "x",
         "y": [
          -0.00026095780147336855
         ],
         "yaxis": "y"
        },
        {
         "hovertemplate": "Area=Kotagiri<br>Deviance Scores Amount of Fires=%{x}<br>Deviance Scores PM2.5=%{y}<extra></extra>",
         "legendgroup": "Kotagiri",
         "marker": {
          "color": "#00cc96",
          "symbol": "circle"
         },
         "mode": "markers",
         "name": "Kotagiri",
         "orientation": "v",
         "showlegend": true,
         "type": "scatter",
         "x": [
          0.000584589303735
         ],
         "xaxis": "x",
         "y": [
          0.0022828624106478903
         ],
         "yaxis": "y"
        },
        {
         "hovertemplate": "Area=Kothaguda<br>Deviance Scores Amount of Fires=%{x}<br>Deviance Scores PM2.5=%{y}<extra></extra>",
         "legendgroup": "Kothaguda",
         "marker": {
          "color": "#ab63fa",
          "symbol": "circle"
         },
         "mode": "markers",
         "name": "Kothaguda",
         "orientation": "v",
         "showlegend": true,
         "type": "scatter",
         "x": [
          -0.0002634179484866
         ],
         "xaxis": "x",
         "y": [
          0.0011594955202131336
         ],
         "yaxis": "y"
        },
        {
         "hovertemplate": "Area=Kothakota<br>Deviance Scores Amount of Fires=%{x}<br>Deviance Scores PM2.5=%{y}<extra></extra>",
         "legendgroup": "Kothakota",
         "marker": {
          "color": "#FFA15A",
          "symbol": "circle"
         },
         "mode": "markers",
         "name": "Kothakota",
         "orientation": "v",
         "showlegend": true,
         "type": "scatter",
         "x": [
          -0.000004603398627196654
         ],
         "xaxis": "x",
         "y": [
          0.0007212726463694138
         ],
         "yaxis": "y"
        },
        {
         "hovertemplate": "Area=Kothapally<br>Deviance Scores Amount of Fires=%{x}<br>Deviance Scores PM2.5=%{y}<extra></extra>",
         "legendgroup": "Kothapally",
         "marker": {
          "color": "#19d3f3",
          "symbol": "circle"
         },
         "mode": "markers",
         "name": "Kothapally",
         "orientation": "v",
         "showlegend": true,
         "type": "scatter",
         "x": [
          -0.00002230797387760709
         ],
         "xaxis": "x",
         "y": [
          0.0028049058795407366
         ],
         "yaxis": "y"
        },
        {
         "hovertemplate": "Area=Kothur<br>Deviance Scores Amount of Fires=%{x}<br>Deviance Scores PM2.5=%{y}<extra></extra>",
         "legendgroup": "Kothur",
         "marker": {
          "color": "#FF6692",
          "symbol": "circle"
         },
         "mode": "markers",
         "name": "Kothur",
         "orientation": "v",
         "showlegend": true,
         "type": "scatter",
         "x": [
          0.00001800774870466015
         ],
         "xaxis": "x",
         "y": [
          -0.0005528772110583316
         ],
         "yaxis": "y"
        },
        {
         "hovertemplate": "Area=Kouthala<br>Deviance Scores Amount of Fires=%{x}<br>Deviance Scores PM2.5=%{y}<extra></extra>",
         "legendgroup": "Kouthala",
         "marker": {
          "color": "#B6E880",
          "symbol": "circle"
         },
         "mode": "markers",
         "name": "Kouthala",
         "orientation": "v",
         "showlegend": true,
         "type": "scatter",
         "x": [
          -0.000032166923750571204
         ],
         "xaxis": "x",
         "y": [
          0.0010199534226173032
         ],
         "yaxis": "y"
        },
        {
         "hovertemplate": "Area=Kowdipally<br>Deviance Scores Amount of Fires=%{x}<br>Deviance Scores PM2.5=%{y}<extra></extra>",
         "legendgroup": "Kowdipally",
         "marker": {
          "color": "#FF97FF",
          "symbol": "circle"
         },
         "mode": "markers",
         "name": "Kowdipally",
         "orientation": "v",
         "showlegend": true,
         "type": "scatter",
         "x": [
          -0.000028247721186861992
         ],
         "xaxis": "x",
         "y": [
          0.0004698481080098658
         ],
         "yaxis": "y"
        },
        {
         "hovertemplate": "Area=Kubeer<br>Deviance Scores Amount of Fires=%{x}<br>Deviance Scores PM2.5=%{y}<extra></extra>",
         "legendgroup": "Kubeer",
         "marker": {
          "color": "#FECB52",
          "symbol": "circle"
         },
         "mode": "markers",
         "name": "Kubeer",
         "orientation": "v",
         "showlegend": true,
         "type": "scatter",
         "x": [
          -0.00005312556005287782
         ],
         "xaxis": "x",
         "y": [
          0.0021345163349013718
         ],
         "yaxis": "y"
        },
        {
         "hovertemplate": "Area=Kulcharam<br>Deviance Scores Amount of Fires=%{x}<br>Deviance Scores PM2.5=%{y}<extra></extra>",
         "legendgroup": "Kulcharam",
         "marker": {
          "color": "#636efa",
          "symbol": "circle"
         },
         "mode": "markers",
         "name": "Kulcharam",
         "orientation": "v",
         "showlegend": true,
         "type": "scatter",
         "x": [
          0.00009476287491067154
         ],
         "xaxis": "x",
         "y": [
          0.000860174656427536
         ],
         "yaxis": "y"
        },
        {
         "hovertemplate": "Area=Kuravi<br>Deviance Scores Amount of Fires=%{x}<br>Deviance Scores PM2.5=%{y}<extra></extra>",
         "legendgroup": "Kuravi",
         "marker": {
          "color": "#EF553B",
          "symbol": "circle"
         },
         "mode": "markers",
         "name": "Kuravi",
         "orientation": "v",
         "showlegend": true,
         "type": "scatter",
         "x": [
          0.0001344729526311
         ],
         "xaxis": "x",
         "y": [
          0.0014004769078760943
         ],
         "yaxis": "y"
        },
        {
         "hovertemplate": "Area=Kusumanchi<br>Deviance Scores Amount of Fires=%{x}<br>Deviance Scores PM2.5=%{y}<extra></extra>",
         "legendgroup": "Kusumanchi",
         "marker": {
          "color": "#00cc96",
          "symbol": "circle"
         },
         "mode": "markers",
         "name": "Kusumanchi",
         "orientation": "v",
         "showlegend": true,
         "type": "scatter",
         "x": [
          0.00002256718450972188
         ],
         "xaxis": "x",
         "y": [
          0.0015153253148764273
         ],
         "yaxis": "y"
        },
        {
         "hovertemplate": "Area=Laxmanchanda<br>Deviance Scores Amount of Fires=%{x}<br>Deviance Scores PM2.5=%{y}<extra></extra>",
         "legendgroup": "Laxmanchanda",
         "marker": {
          "color": "#ab63fa",
          "symbol": "circle"
         },
         "mode": "markers",
         "name": "Laxmanchanda",
         "orientation": "v",
         "showlegend": true,
         "type": "scatter",
         "x": [
          0.00007911479192427792
         ],
         "xaxis": "x",
         "y": [
          0.002265091026617699
         ],
         "yaxis": "y"
        },
        {
         "hovertemplate": "Area=Laxmidevipally<br>Deviance Scores Amount of Fires=%{x}<br>Deviance Scores PM2.5=%{y}<extra></extra>",
         "legendgroup": "Laxmidevipally",
         "marker": {
          "color": "#FFA15A",
          "symbol": "circle"
         },
         "mode": "markers",
         "name": "Laxmidevipally",
         "orientation": "v",
         "showlegend": true,
         "type": "scatter",
         "x": [
          0.0000788737912013527
         ],
         "xaxis": "x",
         "y": [
          0.00044761414979245837
         ],
         "yaxis": "y"
        },
        {
         "hovertemplate": "Area=Lingalaghanpur<br>Deviance Scores Amount of Fires=%{x}<br>Deviance Scores PM2.5=%{y}<extra></extra>",
         "legendgroup": "Lingalaghanpur",
         "marker": {
          "color": "#19d3f3",
          "symbol": "circle"
         },
         "mode": "markers",
         "name": "Lingalaghanpur",
         "orientation": "v",
         "showlegend": true,
         "type": "scatter",
         "x": [
          0.000011275681025093404
         ],
         "xaxis": "x",
         "y": [
          0.0015912381516186562
         ],
         "yaxis": "y"
        },
        {
         "hovertemplate": "Area=Lingampet<br>Deviance Scores Amount of Fires=%{x}<br>Deviance Scores PM2.5=%{y}<extra></extra>",
         "legendgroup": "Lingampet",
         "marker": {
          "color": "#FF6692",
          "symbol": "circle"
         },
         "mode": "markers",
         "name": "Lingampet",
         "orientation": "v",
         "showlegend": true,
         "type": "scatter",
         "x": [
          0.000017751665921225318
         ],
         "xaxis": "x",
         "y": [
          0.0012024349179550634
         ],
         "yaxis": "y"
        },
        {
         "hovertemplate": "Area=Lokeshwaram<br>Deviance Scores Amount of Fires=%{x}<br>Deviance Scores PM2.5=%{y}<extra></extra>",
         "legendgroup": "Lokeshwaram",
         "marker": {
          "color": "#B6E880",
          "symbol": "circle"
         },
         "mode": "markers",
         "name": "Lokeshwaram",
         "orientation": "v",
         "showlegend": true,
         "type": "scatter",
         "x": [
          0.00003599645494767204
         ],
         "xaxis": "x",
         "y": [
          0.003010190696119621
         ],
         "yaxis": "y"
        },
        {
         "hovertemplate": "Area=Luxettipet<br>Deviance Scores Amount of Fires=%{x}<br>Deviance Scores PM2.5=%{y}<extra></extra>",
         "legendgroup": "Luxettipet",
         "marker": {
          "color": "#FF97FF",
          "symbol": "circle"
         },
         "mode": "markers",
         "name": "Luxettipet",
         "orientation": "v",
         "showlegend": true,
         "type": "scatter",
         "x": [
          -0.000026628460836624225
         ],
         "xaxis": "x",
         "y": [
          0.0018642995355010862
         ],
         "yaxis": "y"
        },
        {
         "hovertemplate": "Area=Machareddy<br>Deviance Scores Amount of Fires=%{x}<br>Deviance Scores PM2.5=%{y}<extra></extra>",
         "legendgroup": "Machareddy",
         "marker": {
          "color": "#FECB52",
          "symbol": "circle"
         },
         "mode": "markers",
         "name": "Machareddy",
         "orientation": "v",
         "showlegend": true,
         "type": "scatter",
         "x": [
          -0.0000362336879017715
         ],
         "xaxis": "x",
         "y": [
          0.0019284008725648216
         ],
         "yaxis": "y"
        },
        {
         "hovertemplate": "Area=Madanapur<br>Deviance Scores Amount of Fires=%{x}<br>Deviance Scores PM2.5=%{y}<extra></extra>",
         "legendgroup": "Madanapur",
         "marker": {
          "color": "#636efa",
          "symbol": "circle"
         },
         "mode": "markers",
         "name": "Madanapur",
         "orientation": "v",
         "showlegend": true,
         "type": "scatter",
         "x": [
          0.00006994440520605948
         ],
         "xaxis": "x",
         "y": [
          0.0009381789637575484
         ],
         "yaxis": "y"
        },
        {
         "hovertemplate": "Area=Maddirala<br>Deviance Scores Amount of Fires=%{x}<br>Deviance Scores PM2.5=%{y}<extra></extra>",
         "legendgroup": "Maddirala",
         "marker": {
          "color": "#EF553B",
          "symbol": "circle"
         },
         "mode": "markers",
         "name": "Maddirala",
         "orientation": "v",
         "showlegend": true,
         "type": "scatter",
         "x": [
          0.000023897006829348856
         ],
         "xaxis": "x",
         "y": [
          0.0023026402963349287
         ],
         "yaxis": "y"
        },
        {
         "hovertemplate": "Area=Maddur<br>Deviance Scores Amount of Fires=%{x}<br>Deviance Scores PM2.5=%{y}<extra></extra>",
         "legendgroup": "Maddur",
         "marker": {
          "color": "#00cc96",
          "symbol": "circle"
         },
         "mode": "markers",
         "name": "Maddur",
         "orientation": "v",
         "showlegend": true,
         "type": "scatter",
         "x": [
          0.00003341974256024247,
          0.0001276008198159
         ],
         "xaxis": "x",
         "y": [
          -0.00014396359237536056,
          0.001114528072672008
         ],
         "yaxis": "y"
        },
        {
         "hovertemplate": "Area=Madgul<br>Deviance Scores Amount of Fires=%{x}<br>Deviance Scores PM2.5=%{y}<extra></extra>",
         "legendgroup": "Madgul",
         "marker": {
          "color": "#ab63fa",
          "symbol": "circle"
         },
         "mode": "markers",
         "name": "Madgul",
         "orientation": "v",
         "showlegend": true,
         "type": "scatter",
         "x": [
          0.0000622142996323489
         ],
         "xaxis": "x",
         "y": [
          0.0002401862207889318
         ],
         "yaxis": "y"
        },
        {
         "hovertemplate": "Area=Madhira<br>Deviance Scores Amount of Fires=%{x}<br>Deviance Scores PM2.5=%{y}<extra></extra>",
         "legendgroup": "Madhira",
         "marker": {
          "color": "#FFA15A",
          "symbol": "circle"
         },
         "mode": "markers",
         "name": "Madhira",
         "orientation": "v",
         "showlegend": true,
         "type": "scatter",
         "x": [
          0.000012654734563613784
         ],
         "xaxis": "x",
         "y": [
          0.0007614598706119864
         ],
         "yaxis": "y"
        },
        {
         "hovertemplate": "Area=Madnur<br>Deviance Scores Amount of Fires=%{x}<br>Deviance Scores PM2.5=%{y}<extra></extra>",
         "legendgroup": "Madnur",
         "marker": {
          "color": "#19d3f3",
          "symbol": "circle"
         },
         "mode": "markers",
         "name": "Madnur",
         "orientation": "v",
         "showlegend": true,
         "type": "scatter",
         "x": [
          0.0003505032025371
         ],
         "xaxis": "x",
         "y": [
          0.0017092782558442248
         ],
         "yaxis": "y"
        },
        {
         "hovertemplate": "Area=Madugulapally<br>Deviance Scores Amount of Fires=%{x}<br>Deviance Scores PM2.5=%{y}<extra></extra>",
         "legendgroup": "Madugulapally",
         "marker": {
          "color": "#FF6692",
          "symbol": "circle"
         },
         "mode": "markers",
         "name": "Madugulapally",
         "orientation": "v",
         "showlegend": true,
         "type": "scatter",
         "x": [
          0.000012841170612956842
         ],
         "xaxis": "x",
         "y": [
          0.0014563468209705247
         ],
         "yaxis": "y"
        },
        {
         "hovertemplate": "Area=Maganoor<br>Deviance Scores Amount of Fires=%{x}<br>Deviance Scores PM2.5=%{y}<extra></extra>",
         "legendgroup": "Maganoor",
         "marker": {
          "color": "#B6E880",
          "symbol": "circle"
         },
         "mode": "markers",
         "name": "Maganoor",
         "orientation": "v",
         "showlegend": true,
         "type": "scatter",
         "x": [
          0.0002252139903168
         ],
         "xaxis": "x",
         "y": [
          0.0006617736991905938
         ],
         "yaxis": "y"
        },
        {
         "hovertemplate": "Area=Mahabubabad<br>Deviance Scores Amount of Fires=%{x}<br>Deviance Scores PM2.5=%{y}<extra></extra>",
         "legendgroup": "Mahabubabad",
         "marker": {
          "color": "#FF97FF",
          "symbol": "circle"
         },
         "mode": "markers",
         "name": "Mahabubabad",
         "orientation": "v",
         "showlegend": true,
         "type": "scatter",
         "x": [
          8.016961154355786e-7
         ],
         "xaxis": "x",
         "y": [
          0.0018069441576534016
         ],
         "yaxis": "y"
        },
        {
         "hovertemplate": "Area=Mahabubnagar_Urban<br>Deviance Scores Amount of Fires=%{x}<br>Deviance Scores PM2.5=%{y}<extra></extra>",
         "legendgroup": "Mahabubnagar_Urban",
         "marker": {
          "color": "#FECB52",
          "symbol": "circle"
         },
         "mode": "markers",
         "name": "Mahabubnagar_Urban",
         "orientation": "v",
         "showlegend": true,
         "type": "scatter",
         "x": [
          -0.000035020497312666295
         ],
         "xaxis": "x",
         "y": [
          0.00021551804360727314
         ],
         "yaxis": "y"
        },
        {
         "hovertemplate": "Area=Mahadevpur<br>Deviance Scores Amount of Fires=%{x}<br>Deviance Scores PM2.5=%{y}<extra></extra>",
         "legendgroup": "Mahadevpur",
         "marker": {
          "color": "#636efa",
          "symbol": "circle"
         },
         "mode": "markers",
         "name": "Mahadevpur",
         "orientation": "v",
         "showlegend": true,
         "type": "scatter",
         "x": [
          -0.00003092558569373331
         ],
         "xaxis": "x",
         "y": [
          0.0010617619740960367
         ],
         "yaxis": "y"
        },
        {
         "hovertemplate": "Area=Maheswaram<br>Deviance Scores Amount of Fires=%{x}<br>Deviance Scores PM2.5=%{y}<extra></extra>",
         "legendgroup": "Maheswaram",
         "marker": {
          "color": "#EF553B",
          "symbol": "circle"
         },
         "mode": "markers",
         "name": "Maheswaram",
         "orientation": "v",
         "showlegend": true,
         "type": "scatter",
         "x": [
          -0.00006484003988868315
         ],
         "xaxis": "x",
         "y": [
          -0.0006369485143128554
         ],
         "yaxis": "y"
        },
        {
         "hovertemplate": "Area=Makloor<br>Deviance Scores Amount of Fires=%{x}<br>Deviance Scores PM2.5=%{y}<extra></extra>",
         "legendgroup": "Makloor",
         "marker": {
          "color": "#00cc96",
          "symbol": "circle"
         },
         "mode": "markers",
         "name": "Makloor",
         "orientation": "v",
         "showlegend": true,
         "type": "scatter",
         "x": [
          0.00007956028207433808
         ],
         "xaxis": "x",
         "y": [
          0.0028233055839129123
         ],
         "yaxis": "y"
        },
        {
         "hovertemplate": "Area=Makthal<br>Deviance Scores Amount of Fires=%{x}<br>Deviance Scores PM2.5=%{y}<extra></extra>",
         "legendgroup": "Makthal",
         "marker": {
          "color": "#ab63fa",
          "symbol": "circle"
         },
         "mode": "markers",
         "name": "Makthal",
         "orientation": "v",
         "showlegend": true,
         "type": "scatter",
         "x": [
          0.000018510584408090155
         ],
         "xaxis": "x",
         "y": [
          0.0007595559242550711
         ],
         "yaxis": "y"
        },
        {
         "hovertemplate": "Area=Maldakal<br>Deviance Scores Amount of Fires=%{x}<br>Deviance Scores PM2.5=%{y}<extra></extra>",
         "legendgroup": "Maldakal",
         "marker": {
          "color": "#FFA15A",
          "symbol": "circle"
         },
         "mode": "markers",
         "name": "Maldakal",
         "orientation": "v",
         "showlegend": true,
         "type": "scatter",
         "x": [
          0.000018700614857893817
         ],
         "xaxis": "x",
         "y": [
          0.001224808252337517
         ],
         "yaxis": "y"
        },
        {
         "hovertemplate": "Area=Malharrao<br>Deviance Scores Amount of Fires=%{x}<br>Deviance Scores PM2.5=%{y}<extra></extra>",
         "legendgroup": "Malharrao",
         "marker": {
          "color": "#19d3f3",
          "symbol": "circle"
         },
         "mode": "markers",
         "name": "Malharrao",
         "orientation": "v",
         "showlegend": true,
         "type": "scatter",
         "x": [
          -0.00007254441370372139
         ],
         "xaxis": "x",
         "y": [
          0.0012999249697091928
         ],
         "yaxis": "y"
        },
        {
         "hovertemplate": "Area=Mallapur<br>Deviance Scores Amount of Fires=%{x}<br>Deviance Scores PM2.5=%{y}<extra></extra>",
         "legendgroup": "Mallapur",
         "marker": {
          "color": "#FF6692",
          "symbol": "circle"
         },
         "mode": "markers",
         "name": "Mallapur",
         "orientation": "v",
         "showlegend": true,
         "type": "scatter",
         "x": [
          -0.0001430664403856
         ],
         "xaxis": "x",
         "y": [
          0.0026925662228766928
         ],
         "yaxis": "y"
        },
        {
         "hovertemplate": "Area=Mallial<br>Deviance Scores Amount of Fires=%{x}<br>Deviance Scores PM2.5=%{y}<extra></extra>",
         "legendgroup": "Mallial",
         "marker": {
          "color": "#B6E880",
          "symbol": "circle"
         },
         "mode": "markers",
         "name": "Mallial",
         "orientation": "v",
         "showlegend": true,
         "type": "scatter",
         "x": [
          -0.0000020177715513506088
         ],
         "xaxis": "x",
         "y": [
          0.0025479871318722157
         ],
         "yaxis": "y"
        },
        {
         "hovertemplate": "Area=Mamda<br>Deviance Scores Amount of Fires=%{x}<br>Deviance Scores PM2.5=%{y}<extra></extra>",
         "legendgroup": "Mamda",
         "marker": {
          "color": "#FF97FF",
          "symbol": "circle"
         },
         "mode": "markers",
         "name": "Mamda",
         "orientation": "v",
         "showlegend": true,
         "type": "scatter",
         "x": [
          -0.0000872540490200761
         ],
         "xaxis": "x",
         "y": [
          0.0019458092126228364
         ],
         "yaxis": "y"
        },
        {
         "hovertemplate": "Area=Manakondur<br>Deviance Scores Amount of Fires=%{x}<br>Deviance Scores PM2.5=%{y}<extra></extra>",
         "legendgroup": "Manakondur",
         "marker": {
          "color": "#FECB52",
          "symbol": "circle"
         },
         "mode": "markers",
         "name": "Manakondur",
         "orientation": "v",
         "showlegend": true,
         "type": "scatter",
         "x": [
          0.0003381742298085
         ],
         "xaxis": "x",
         "y": [
          0.00249446273713281
         ],
         "yaxis": "y"
        },
        {
         "hovertemplate": "Area=Manchal<br>Deviance Scores Amount of Fires=%{x}<br>Deviance Scores PM2.5=%{y}<extra></extra>",
         "legendgroup": "Manchal",
         "marker": {
          "color": "#636efa",
          "symbol": "circle"
         },
         "mode": "markers",
         "name": "Manchal",
         "orientation": "v",
         "showlegend": true,
         "type": "scatter",
         "x": [
          -0.00003856956904585557
         ],
         "xaxis": "x",
         "y": [
          -0.00009176455153046988
         ],
         "yaxis": "y"
        },
        {
         "hovertemplate": "Area=Mandamarri<br>Deviance Scores Amount of Fires=%{x}<br>Deviance Scores PM2.5=%{y}<extra></extra>",
         "legendgroup": "Mandamarri",
         "marker": {
          "color": "#EF553B",
          "symbol": "circle"
         },
         "mode": "markers",
         "name": "Mandamarri",
         "orientation": "v",
         "showlegend": true,
         "type": "scatter",
         "x": [
          0.0002941057468643
         ],
         "xaxis": "x",
         "y": [
          0.0012458684926107818
         ],
         "yaxis": "y"
        },
        {
         "hovertemplate": "Area=Mangapet<br>Deviance Scores Amount of Fires=%{x}<br>Deviance Scores PM2.5=%{y}<extra></extra>",
         "legendgroup": "Mangapet",
         "marker": {
          "color": "#00cc96",
          "symbol": "circle"
         },
         "mode": "markers",
         "name": "Mangapet",
         "orientation": "v",
         "showlegend": true,
         "type": "scatter",
         "x": [
          0.0002140523115174
         ],
         "xaxis": "x",
         "y": [
          0.0005191345947316062
         ],
         "yaxis": "y"
        },
        {
         "hovertemplate": "Area=Manoor<br>Deviance Scores Amount of Fires=%{x}<br>Deviance Scores PM2.5=%{y}<extra></extra>",
         "legendgroup": "Manoor",
         "marker": {
          "color": "#ab63fa",
          "symbol": "circle"
         },
         "mode": "markers",
         "name": "Manoor",
         "orientation": "v",
         "showlegend": true,
         "type": "scatter",
         "x": [
          0.000007662310976628948
         ],
         "xaxis": "x",
         "y": [
          0.0005628110025772312
         ],
         "yaxis": "y"
        },
        {
         "hovertemplate": "Area=Manopad<br>Deviance Scores Amount of Fires=%{x}<br>Deviance Scores PM2.5=%{y}<extra></extra>",
         "legendgroup": "Manopad",
         "marker": {
          "color": "#FFA15A",
          "symbol": "circle"
         },
         "mode": "markers",
         "name": "Manopad",
         "orientation": "v",
         "showlegend": true,
         "type": "scatter",
         "x": [
          -0.00004523206210504952
         ],
         "xaxis": "x",
         "y": [
          0.0006721564907954412
         ],
         "yaxis": "y"
        },
        {
         "hovertemplate": "Area=Manthani<br>Deviance Scores Amount of Fires=%{x}<br>Deviance Scores PM2.5=%{y}<extra></extra>",
         "legendgroup": "Manthani",
         "marker": {
          "color": "#19d3f3",
          "symbol": "circle"
         },
         "mode": "markers",
         "name": "Manthani",
         "orientation": "v",
         "showlegend": true,
         "type": "scatter",
         "x": [
          0.0002217191042227
         ],
         "xaxis": "x",
         "y": [
          0.0015658392017678135
         ],
         "yaxis": "y"
        },
        {
         "hovertemplate": "Area=Manuguru<br>Deviance Scores Amount of Fires=%{x}<br>Deviance Scores PM2.5=%{y}<extra></extra>",
         "legendgroup": "Manuguru",
         "marker": {
          "color": "#FF6692",
          "symbol": "circle"
         },
         "mode": "markers",
         "name": "Manuguru",
         "orientation": "v",
         "showlegend": true,
         "type": "scatter",
         "x": [
          3.469056445031704e-7
         ],
         "xaxis": "x",
         "y": [
          0.0005849201304742614
         ],
         "yaxis": "y"
        },
        {
         "hovertemplate": "Area=Marikal<br>Deviance Scores Amount of Fires=%{x}<br>Deviance Scores PM2.5=%{y}<extra></extra>",
         "legendgroup": "Marikal",
         "marker": {
          "color": "#B6E880",
          "symbol": "circle"
         },
         "mode": "markers",
         "name": "Marikal",
         "orientation": "v",
         "showlegend": true,
         "type": "scatter",
         "x": [
          0.000015220098607713191
         ],
         "xaxis": "x",
         "y": [
          0.0006415275112004265
         ],
         "yaxis": "y"
        },
        {
         "hovertemplate": "Area=Markook<br>Deviance Scores Amount of Fires=%{x}<br>Deviance Scores PM2.5=%{y}<extra></extra>",
         "legendgroup": "Markook",
         "marker": {
          "color": "#FF97FF",
          "symbol": "circle"
         },
         "mode": "markers",
         "name": "Markook",
         "orientation": "v",
         "showlegend": true,
         "type": "scatter",
         "x": [
          -0.000026812993462916424
         ],
         "xaxis": "x",
         "y": [
          0.0007395998791061696
         ],
         "yaxis": "y"
        },
        {
         "hovertemplate": "Area=Marpalle<br>Deviance Scores Amount of Fires=%{x}<br>Deviance Scores PM2.5=%{y}<extra></extra>",
         "legendgroup": "Marpalle",
         "marker": {
          "color": "#FECB52",
          "symbol": "circle"
         },
         "mode": "markers",
         "name": "Marpalle",
         "orientation": "v",
         "showlegend": true,
         "type": "scatter",
         "x": [
          0.0000753884673219613
         ],
         "xaxis": "x",
         "y": [
          -0.0003890144781345531
         ],
         "yaxis": "y"
        },
        {
         "hovertemplate": "Area=Marriguda<br>Deviance Scores Amount of Fires=%{x}<br>Deviance Scores PM2.5=%{y}<extra></extra>",
         "legendgroup": "Marriguda",
         "marker": {
          "color": "#636efa",
          "symbol": "circle"
         },
         "mode": "markers",
         "name": "Marriguda",
         "orientation": "v",
         "showlegend": true,
         "type": "scatter",
         "x": [
          0.0000542533040305725
         ],
         "xaxis": "x",
         "y": [
          0.0005673283751532121
         ],
         "yaxis": "y"
        },
        {
         "hovertemplate": "Area=Mattampalli<br>Deviance Scores Amount of Fires=%{x}<br>Deviance Scores PM2.5=%{y}<extra></extra>",
         "legendgroup": "Mattampalli",
         "marker": {
          "color": "#EF553B",
          "symbol": "circle"
         },
         "mode": "markers",
         "name": "Mattampalli",
         "orientation": "v",
         "showlegend": true,
         "type": "scatter",
         "x": [
          0.000009063873141707608
         ],
         "xaxis": "x",
         "y": [
          0.0008654965160299504
         ],
         "yaxis": "y"
        },
        {
         "hovertemplate": "Area=Medak<br>Deviance Scores Amount of Fires=%{x}<br>Deviance Scores PM2.5=%{y}<extra></extra>",
         "legendgroup": "Medak",
         "marker": {
          "color": "#00cc96",
          "symbol": "circle"
         },
         "mode": "markers",
         "name": "Medak",
         "orientation": "v",
         "showlegend": true,
         "type": "scatter",
         "x": [
          -0.00003367008094913328
         ],
         "xaxis": "x",
         "y": [
          0.0010847707408860507
         ],
         "yaxis": "y"
        },
        {
         "hovertemplate": "Area=Medchal<br>Deviance Scores Amount of Fires=%{x}<br>Deviance Scores PM2.5=%{y}<extra></extra>",
         "legendgroup": "Medchal",
         "marker": {
          "color": "#ab63fa",
          "symbol": "circle"
         },
         "mode": "markers",
         "name": "Medchal",
         "orientation": "v",
         "showlegend": true,
         "type": "scatter",
         "x": [
          0.00007284479715695708
         ],
         "xaxis": "x",
         "y": [
          -0.0000042260936157264336
         ],
         "yaxis": "y"
        },
        {
         "hovertemplate": "Area=Medipalle<br>Deviance Scores Amount of Fires=%{x}<br>Deviance Scores PM2.5=%{y}<extra></extra>",
         "legendgroup": "Medipalle",
         "marker": {
          "color": "#FFA15A",
          "symbol": "circle"
         },
         "mode": "markers",
         "name": "Medipalle",
         "orientation": "v",
         "showlegend": true,
         "type": "scatter",
         "x": [
          0.00009315078901512078
         ],
         "xaxis": "x",
         "y": [
          0.0026371839141453935
         ],
         "yaxis": "y"
        },
        {
         "hovertemplate": "Area=Mellachervu<br>Deviance Scores Amount of Fires=%{x}<br>Deviance Scores PM2.5=%{y}<extra></extra>",
         "legendgroup": "Mellachervu",
         "marker": {
          "color": "#19d3f3",
          "symbol": "circle"
         },
         "mode": "markers",
         "name": "Mellachervu",
         "orientation": "v",
         "showlegend": true,
         "type": "scatter",
         "x": [
          0.00003702197670518823
         ],
         "xaxis": "x",
         "y": [
          0.0009911083696021025
         ],
         "yaxis": "y"
        },
        {
         "hovertemplate": "Area=Mendora<br>Deviance Scores Amount of Fires=%{x}<br>Deviance Scores PM2.5=%{y}<extra></extra>",
         "legendgroup": "Mendora",
         "marker": {
          "color": "#FF6692",
          "symbol": "circle"
         },
         "mode": "markers",
         "name": "Mendora",
         "orientation": "v",
         "showlegend": true,
         "type": "scatter",
         "x": [
          0.000028964660319239245
         ],
         "xaxis": "x",
         "y": [
          0.0027402236643925895
         ],
         "yaxis": "y"
        },
        {
         "hovertemplate": "Area=Metpalli<br>Deviance Scores Amount of Fires=%{x}<br>Deviance Scores PM2.5=%{y}<extra></extra>",
         "legendgroup": "Metpalli",
         "marker": {
          "color": "#B6E880",
          "symbol": "circle"
         },
         "mode": "markers",
         "name": "Metpalli",
         "orientation": "v",
         "showlegend": true,
         "type": "scatter",
         "x": [
          0.0003401662769255
         ],
         "xaxis": "x",
         "y": [
          0.00305961472774498
         ],
         "yaxis": "y"
        },
        {
         "hovertemplate": "Area=Midjil<br>Deviance Scores Amount of Fires=%{x}<br>Deviance Scores PM2.5=%{y}<extra></extra>",
         "legendgroup": "Midjil",
         "marker": {
          "color": "#FF97FF",
          "symbol": "circle"
         },
         "mode": "markers",
         "name": "Midjil",
         "orientation": "v",
         "showlegend": true,
         "type": "scatter",
         "x": [
          0.00008322913582154288
         ],
         "xaxis": "x",
         "y": [
          0.00016445298138980223
         ],
         "yaxis": "y"
        },
        {
         "hovertemplate": "Area=Mirdoddi<br>Deviance Scores Amount of Fires=%{x}<br>Deviance Scores PM2.5=%{y}<extra></extra>",
         "legendgroup": "Mirdoddi",
         "marker": {
          "color": "#FECB52",
          "symbol": "circle"
         },
         "mode": "markers",
         "name": "Mirdoddi",
         "orientation": "v",
         "showlegend": true,
         "type": "scatter",
         "x": [
          0.0001072975486753
         ],
         "xaxis": "x",
         "y": [
          0.0008248372592176492
         ],
         "yaxis": "y"
        },
        {
         "hovertemplate": "Area=Miryalaguda<br>Deviance Scores Amount of Fires=%{x}<br>Deviance Scores PM2.5=%{y}<extra></extra>",
         "legendgroup": "Miryalaguda",
         "marker": {
          "color": "#636efa",
          "symbol": "circle"
         },
         "mode": "markers",
         "name": "Miryalaguda",
         "orientation": "v",
         "showlegend": true,
         "type": "scatter",
         "x": [
          -0.00003743059623627896
         ],
         "xaxis": "x",
         "y": [
          0.0015737538136158696
         ],
         "yaxis": "y"
        },
        {
         "hovertemplate": "Area=Moinabad<br>Deviance Scores Amount of Fires=%{x}<br>Deviance Scores PM2.5=%{y}<extra></extra>",
         "legendgroup": "Moinabad",
         "marker": {
          "color": "#EF553B",
          "symbol": "circle"
         },
         "mode": "markers",
         "name": "Moinabad",
         "orientation": "v",
         "showlegend": true,
         "type": "scatter",
         "x": [
          -0.00007705345859688097
         ],
         "xaxis": "x",
         "y": [
          -0.00043375935221360434
         ],
         "yaxis": "y"
        },
        {
         "hovertemplate": "Area=Mominpet<br>Deviance Scores Amount of Fires=%{x}<br>Deviance Scores PM2.5=%{y}<extra></extra>",
         "legendgroup": "Mominpet",
         "marker": {
          "color": "#00cc96",
          "symbol": "circle"
         },
         "mode": "markers",
         "name": "Mominpet",
         "orientation": "v",
         "showlegend": true,
         "type": "scatter",
         "x": [
          0.000006312426399748632
         ],
         "xaxis": "x",
         "y": [
          -0.0001215172930352577
         ],
         "yaxis": "y"
        },
        {
         "hovertemplate": "Area=Morthad<br>Deviance Scores Amount of Fires=%{x}<br>Deviance Scores PM2.5=%{y}<extra></extra>",
         "legendgroup": "Morthad",
         "marker": {
          "color": "#ab63fa",
          "symbol": "circle"
         },
         "mode": "markers",
         "name": "Morthad",
         "orientation": "v",
         "showlegend": true,
         "type": "scatter",
         "x": [
          0.0003969566847649
         ],
         "xaxis": "x",
         "y": [
          0.0034310919167078488
         ],
         "yaxis": "y"
        },
        {
         "hovertemplate": "Area=Motakondur<br>Deviance Scores Amount of Fires=%{x}<br>Deviance Scores PM2.5=%{y}<extra></extra>",
         "legendgroup": "Motakondur",
         "marker": {
          "color": "#FFA15A",
          "symbol": "circle"
         },
         "mode": "markers",
         "name": "Motakondur",
         "orientation": "v",
         "showlegend": true,
         "type": "scatter",
         "x": [
          0.00006419528703399717
         ],
         "xaxis": "x",
         "y": [
          0.00110368787157134
         ],
         "yaxis": "y"
        },
        {
         "hovertemplate": "Area=Mothey<br>Deviance Scores Amount of Fires=%{x}<br>Deviance Scores PM2.5=%{y}<extra></extra>",
         "legendgroup": "Mothey",
         "marker": {
          "color": "#19d3f3",
          "symbol": "circle"
         },
         "mode": "markers",
         "name": "Mothey",
         "orientation": "v",
         "showlegend": true,
         "type": "scatter",
         "x": [
          -0.0000377406722277677
         ],
         "xaxis": "x",
         "y": [
          0.00170778361940327
         ],
         "yaxis": "y"
        },
        {
         "hovertemplate": "Area=Mothkur<br>Deviance Scores Amount of Fires=%{x}<br>Deviance Scores PM2.5=%{y}<extra></extra>",
         "legendgroup": "Mothkur",
         "marker": {
          "color": "#FF6692",
          "symbol": "circle"
         },
         "mode": "markers",
         "name": "Mothkur",
         "orientation": "v",
         "showlegend": true,
         "type": "scatter",
         "x": [
          -0.00007169427369886321
         ],
         "xaxis": "x",
         "y": [
          0.0010670136910944377
         ],
         "yaxis": "y"
        },
        {
         "hovertemplate": "Area=Mudhole<br>Deviance Scores Amount of Fires=%{x}<br>Deviance Scores PM2.5=%{y}<extra></extra>",
         "legendgroup": "Mudhole",
         "marker": {
          "color": "#B6E880",
          "symbol": "circle"
         },
         "mode": "markers",
         "name": "Mudhole",
         "orientation": "v",
         "showlegend": true,
         "type": "scatter",
         "x": [
          0.00007772738313363434
         ],
         "xaxis": "x",
         "y": [
          0.002771484642834045
         ],
         "yaxis": "y"
        },
        {
         "hovertemplate": "Area=Mudigonda<br>Deviance Scores Amount of Fires=%{x}<br>Deviance Scores PM2.5=%{y}<extra></extra>",
         "legendgroup": "Mudigonda",
         "marker": {
          "color": "#FF97FF",
          "symbol": "circle"
         },
         "mode": "markers",
         "name": "Mudigonda",
         "orientation": "v",
         "showlegend": true,
         "type": "scatter",
         "x": [
          -0.00000777810070689712
         ],
         "xaxis": "x",
         "y": [
          0.0009252058370031683
         ],
         "yaxis": "y"
        },
        {
         "hovertemplate": "Area=Mugpal<br>Deviance Scores Amount of Fires=%{x}<br>Deviance Scores PM2.5=%{y}<extra></extra>",
         "legendgroup": "Mugpal",
         "marker": {
          "color": "#FECB52",
          "symbol": "circle"
         },
         "mode": "markers",
         "name": "Mugpal",
         "orientation": "v",
         "showlegend": true,
         "type": "scatter",
         "x": [
          0.0001077591401267
         ],
         "xaxis": "x",
         "y": [
          0.00168436686145583
         ],
         "yaxis": "y"
        },
        {
         "hovertemplate": "Area=Mulakalapally<br>Deviance Scores Amount of Fires=%{x}<br>Deviance Scores PM2.5=%{y}<extra></extra>",
         "legendgroup": "Mulakalapally",
         "marker": {
          "color": "#636efa",
          "symbol": "circle"
         },
         "mode": "markers",
         "name": "Mulakalapally",
         "orientation": "v",
         "showlegend": true,
         "type": "scatter",
         "x": [
          0.0001005901300199
         ],
         "xaxis": "x",
         "y": [
          0.0005515463807816638
         ],
         "yaxis": "y"
        },
        {
         "hovertemplate": "Area=Mulug<br>Deviance Scores Amount of Fires=%{x}<br>Deviance Scores PM2.5=%{y}<extra></extra>",
         "legendgroup": "Mulug",
         "marker": {
          "color": "#EF553B",
          "symbol": "circle"
         },
         "mode": "markers",
         "name": "Mulug",
         "orientation": "v",
         "showlegend": true,
         "type": "scatter",
         "x": [
          -0.0001383988401839,
          0.0001311512627574
         ],
         "xaxis": "x",
         "y": [
          0.001125478981778493,
          0.0002922318596314173
         ],
         "yaxis": "y"
        },
        {
         "hovertemplate": "Area=Munagala<br>Deviance Scores Amount of Fires=%{x}<br>Deviance Scores PM2.5=%{y}<extra></extra>",
         "legendgroup": "Munagala",
         "marker": {
          "color": "#00cc96",
          "symbol": "circle"
         },
         "mode": "markers",
         "name": "Munagala",
         "orientation": "v",
         "showlegend": true,
         "type": "scatter",
         "x": [
          0.0000929865655620592
         ],
         "xaxis": "x",
         "y": [
          0.0017468724940636808
         ],
         "yaxis": "y"
        },
        {
         "hovertemplate": "Area=Munipally<br>Deviance Scores Amount of Fires=%{x}<br>Deviance Scores PM2.5=%{y}<extra></extra>",
         "legendgroup": "Munipally",
         "marker": {
          "color": "#ab63fa",
          "symbol": "circle"
         },
         "mode": "markers",
         "name": "Munipally",
         "orientation": "v",
         "showlegend": true,
         "type": "scatter",
         "x": [
          -0.0000132131184589211
         ],
         "xaxis": "x",
         "y": [
          0.0002935545864503061
         ],
         "yaxis": "y"
        },
        {
         "hovertemplate": "Area=Mupkal<br>Deviance Scores Amount of Fires=%{x}<br>Deviance Scores PM2.5=%{y}<extra></extra>",
         "legendgroup": "Mupkal",
         "marker": {
          "color": "#FFA15A",
          "symbol": "circle"
         },
         "mode": "markers",
         "name": "Mupkal",
         "orientation": "v",
         "showlegend": true,
         "type": "scatter",
         "x": [
          -0.000019159835505965155
         ],
         "xaxis": "x",
         "y": [
          0.0032686314315353336
         ],
         "yaxis": "y"
        },
        {
         "hovertemplate": "Area=Mustabad<br>Deviance Scores Amount of Fires=%{x}<br>Deviance Scores PM2.5=%{y}<extra></extra>",
         "legendgroup": "Mustabad",
         "marker": {
          "color": "#19d3f3",
          "symbol": "circle"
         },
         "mode": "markers",
         "name": "Mustabad",
         "orientation": "v",
         "showlegend": true,
         "type": "scatter",
         "x": [
          0.00008471016495075315
         ],
         "xaxis": "x",
         "y": [
          0.0018078484344516926
         ],
         "yaxis": "y"
        },
        {
         "hovertemplate": "Area=Mutharam_Mahadevpur<br>Deviance Scores Amount of Fires=%{x}<br>Deviance Scores PM2.5=%{y}<extra></extra>",
         "legendgroup": "Mutharam_Mahadevpur",
         "marker": {
          "color": "#FF6692",
          "symbol": "circle"
         },
         "mode": "markers",
         "name": "Mutharam_Mahadevpur",
         "orientation": "v",
         "showlegend": true,
         "type": "scatter",
         "x": [
          -0.00009410414989720749
         ],
         "xaxis": "x",
         "y": [
          0.0009100424011734952
         ],
         "yaxis": "y"
        },
        {
         "hovertemplate": "Area=Mutharam_Manthani<br>Deviance Scores Amount of Fires=%{x}<br>Deviance Scores PM2.5=%{y}<extra></extra>",
         "legendgroup": "Mutharam_Manthani",
         "marker": {
          "color": "#B6E880",
          "symbol": "circle"
         },
         "mode": "markers",
         "name": "Mutharam_Manthani",
         "orientation": "v",
         "showlegend": true,
         "type": "scatter",
         "x": [
          -0.00002947326023097409
         ],
         "xaxis": "x",
         "y": [
          0.001808989218839942
         ],
         "yaxis": "y"
        },
        {
         "hovertemplate": "Area=Nadigudem<br>Deviance Scores Amount of Fires=%{x}<br>Deviance Scores PM2.5=%{y}<extra></extra>",
         "legendgroup": "Nadigudem",
         "marker": {
          "color": "#FF97FF",
          "symbol": "circle"
         },
         "mode": "markers",
         "name": "Nadigudem",
         "orientation": "v",
         "showlegend": true,
         "type": "scatter",
         "x": [
          0.00001438761669857267
         ],
         "xaxis": "x",
         "y": [
          0.0014691305831578735
         ],
         "yaxis": "y"
        },
        {
         "hovertemplate": "Area=Nagalgidda<br>Deviance Scores Amount of Fires=%{x}<br>Deviance Scores PM2.5=%{y}<extra></extra>",
         "legendgroup": "Nagalgidda",
         "marker": {
          "color": "#FECB52",
          "symbol": "circle"
         },
         "mode": "markers",
         "name": "Nagalgidda",
         "orientation": "v",
         "showlegend": true,
         "type": "scatter",
         "x": [
          0.000008933902857526283
         ],
         "xaxis": "x",
         "y": [
          0.0006918910104173746
         ],
         "yaxis": "y"
        },
        {
         "hovertemplate": "Area=Nagaram<br>Deviance Scores Amount of Fires=%{x}<br>Deviance Scores PM2.5=%{y}<extra></extra>",
         "legendgroup": "Nagaram",
         "marker": {
          "color": "#636efa",
          "symbol": "circle"
         },
         "mode": "markers",
         "name": "Nagaram",
         "orientation": "v",
         "showlegend": true,
         "type": "scatter",
         "x": [
          0.00003450487372902459
         ],
         "xaxis": "x",
         "y": [
          0.00207471663415152
         ],
         "yaxis": "y"
        },
        {
         "hovertemplate": "Area=Nagi_Reddypet<br>Deviance Scores Amount of Fires=%{x}<br>Deviance Scores PM2.5=%{y}<extra></extra>",
         "legendgroup": "Nagi_Reddypet",
         "marker": {
          "color": "#EF553B",
          "symbol": "circle"
         },
         "mode": "markers",
         "name": "Nagi_Reddypet",
         "orientation": "v",
         "showlegend": true,
         "type": "scatter",
         "x": [
          0.0001179486648809
         ],
         "xaxis": "x",
         "y": [
          0.0011948132966514272
         ],
         "yaxis": "y"
        },
        {
         "hovertemplate": "Area=Nalgonda<br>Deviance Scores Amount of Fires=%{x}<br>Deviance Scores PM2.5=%{y}<extra></extra>",
         "legendgroup": "Nalgonda",
         "marker": {
          "color": "#00cc96",
          "symbol": "circle"
         },
         "mode": "markers",
         "name": "Nalgonda",
         "orientation": "v",
         "showlegend": true,
         "type": "scatter",
         "x": [
          0.0001265463350519
         ],
         "xaxis": "x",
         "y": [
          0.0009536045777888883
         ],
         "yaxis": "y"
        },
        {
         "hovertemplate": "Area=Nallabelli<br>Deviance Scores Amount of Fires=%{x}<br>Deviance Scores PM2.5=%{y}<extra></extra>",
         "legendgroup": "Nallabelli",
         "marker": {
          "color": "#ab63fa",
          "symbol": "circle"
         },
         "mode": "markers",
         "name": "Nallabelli",
         "orientation": "v",
         "showlegend": true,
         "type": "scatter",
         "x": [
          -0.0001795505353849
         ],
         "xaxis": "x",
         "y": [
          0.0015240008389744613
         ],
         "yaxis": "y"
        },
        {
         "hovertemplate": "Area=Nampally<br>Deviance Scores Amount of Fires=%{x}<br>Deviance Scores PM2.5=%{y}<extra></extra>",
         "legendgroup": "Nampally",
         "marker": {
          "color": "#FFA15A",
          "symbol": "circle"
         },
         "mode": "markers",
         "name": "Nampally",
         "orientation": "v",
         "showlegend": true,
         "type": "scatter",
         "x": [
          0.0001336980515721
         ],
         "xaxis": "x",
         "y": [
          0.000670327391335211
         ],
         "yaxis": "y"
        },
        {
         "hovertemplate": "Area=Nandipet<br>Deviance Scores Amount of Fires=%{x}<br>Deviance Scores PM2.5=%{y}<extra></extra>",
         "legendgroup": "Nandipet",
         "marker": {
          "color": "#19d3f3",
          "symbol": "circle"
         },
         "mode": "markers",
         "name": "Nandipet",
         "orientation": "v",
         "showlegend": true,
         "type": "scatter",
         "x": [
          0.0002608174740495
         ],
         "xaxis": "x",
         "y": [
          0.0030513857187909853
         ],
         "yaxis": "y"
        },
        {
         "hovertemplate": "Area=Nangnoor<br>Deviance Scores Amount of Fires=%{x}<br>Deviance Scores PM2.5=%{y}<extra></extra>",
         "legendgroup": "Nangnoor",
         "marker": {
          "color": "#FF6692",
          "symbol": "circle"
         },
         "mode": "markers",
         "name": "Nangnoor",
         "orientation": "v",
         "showlegend": true,
         "type": "scatter",
         "x": [
          0.00008447766241949157
         ],
         "xaxis": "x",
         "y": [
          0.0013267764256404842
         ],
         "yaxis": "y"
        },
        {
         "hovertemplate": "Area=Narayanapoor<br>Deviance Scores Amount of Fires=%{x}<br>Deviance Scores PM2.5=%{y}<extra></extra>",
         "legendgroup": "Narayanapoor",
         "marker": {
          "color": "#B6E880",
          "symbol": "circle"
         },
         "mode": "markers",
         "name": "Narayanapoor",
         "orientation": "v",
         "showlegend": true,
         "type": "scatter",
         "x": [
          -0.000010025841587460512
         ],
         "xaxis": "x",
         "y": [
          0.0007379387744571291
         ],
         "yaxis": "y"
        },
        {
         "hovertemplate": "Area=Narayanpet<br>Deviance Scores Amount of Fires=%{x}<br>Deviance Scores PM2.5=%{y}<extra></extra>",
         "legendgroup": "Narayanpet",
         "marker": {
          "color": "#FF97FF",
          "symbol": "circle"
         },
         "mode": "markers",
         "name": "Narayanpet",
         "orientation": "v",
         "showlegend": true,
         "type": "scatter",
         "x": [
          0.00002333046933042005
         ],
         "xaxis": "x",
         "y": [
          -0.00010115912148325656
         ],
         "yaxis": "y"
        },
        {
         "hovertemplate": "Area=Narketpally<br>Deviance Scores Amount of Fires=%{x}<br>Deviance Scores PM2.5=%{y}<extra></extra>",
         "legendgroup": "Narketpally",
         "marker": {
          "color": "#FECB52",
          "symbol": "circle"
         },
         "mode": "markers",
         "name": "Narketpally",
         "orientation": "v",
         "showlegend": true,
         "type": "scatter",
         "x": [
          0.00002341197188784006
         ],
         "xaxis": "x",
         "y": [
          0.0017904289942621723
         ],
         "yaxis": "y"
        },
        {
         "hovertemplate": "Area=Narmetta<br>Deviance Scores Amount of Fires=%{x}<br>Deviance Scores PM2.5=%{y}<extra></extra>",
         "legendgroup": "Narmetta",
         "marker": {
          "color": "#636efa",
          "symbol": "circle"
         },
         "mode": "markers",
         "name": "Narmetta",
         "orientation": "v",
         "showlegend": true,
         "type": "scatter",
         "x": [
          -0.000027858685785889637
         ],
         "xaxis": "x",
         "y": [
          0.0008698866374384536
         ],
         "yaxis": "y"
        },
        {
         "hovertemplate": "Area=Narsampet<br>Deviance Scores Amount of Fires=%{x}<br>Deviance Scores PM2.5=%{y}<extra></extra>",
         "legendgroup": "Narsampet",
         "marker": {
          "color": "#EF553B",
          "symbol": "circle"
         },
         "mode": "markers",
         "name": "Narsampet",
         "orientation": "v",
         "showlegend": true,
         "type": "scatter",
         "x": [
          0.000060605816052739136
         ],
         "xaxis": "x",
         "y": [
          0.0015019939477613293
         ],
         "yaxis": "y"
        },
        {
         "hovertemplate": "Area=Narsapur<br>Deviance Scores Amount of Fires=%{x}<br>Deviance Scores PM2.5=%{y}<extra></extra>",
         "legendgroup": "Narsapur",
         "marker": {
          "color": "#00cc96",
          "symbol": "circle"
         },
         "mode": "markers",
         "name": "Narsapur",
         "orientation": "v",
         "showlegend": true,
         "type": "scatter",
         "x": [
          0.00006207854388024633
         ],
         "xaxis": "x",
         "y": [
          0.000861800332584222
         ],
         "yaxis": "y"
        },
        {
         "hovertemplate": "Area=Narsapur_G<br>Deviance Scores Amount of Fires=%{x}<br>Deviance Scores PM2.5=%{y}<extra></extra>",
         "legendgroup": "Narsapur_G",
         "marker": {
          "color": "#ab63fa",
          "symbol": "circle"
         },
         "mode": "markers",
         "name": "Narsapur_G",
         "orientation": "v",
         "showlegend": true,
         "type": "scatter",
         "x": [
          0.000021440449041645652
         ],
         "xaxis": "x",
         "y": [
          0.0024964343114605614
         ],
         "yaxis": "y"
        },
        {
         "hovertemplate": "Area=Narsingi<br>Deviance Scores Amount of Fires=%{x}<br>Deviance Scores PM2.5=%{y}<extra></extra>",
         "legendgroup": "Narsingi",
         "marker": {
          "color": "#FFA15A",
          "symbol": "circle"
         },
         "mode": "markers",
         "name": "Narsingi",
         "orientation": "v",
         "showlegend": true,
         "type": "scatter",
         "x": [
          0.0001522032718832
         ],
         "xaxis": "x",
         "y": [
          0.0006409043945570827
         ],
         "yaxis": "y"
        },
        {
         "hovertemplate": "Area=Narva<br>Deviance Scores Amount of Fires=%{x}<br>Deviance Scores PM2.5=%{y}<extra></extra>",
         "legendgroup": "Narva",
         "marker": {
          "color": "#19d3f3",
          "symbol": "circle"
         },
         "mode": "markers",
         "name": "Narva",
         "orientation": "v",
         "showlegend": true,
         "type": "scatter",
         "x": [
          -0.000014032981900183622
         ],
         "xaxis": "x",
         "y": [
          0.0007794257056252302
         ],
         "yaxis": "y"
        },
        {
         "hovertemplate": "Area=Nasurullabad<br>Deviance Scores Amount of Fires=%{x}<br>Deviance Scores PM2.5=%{y}<extra></extra>",
         "legendgroup": "Nasurullabad",
         "marker": {
          "color": "#FF6692",
          "symbol": "circle"
         },
         "mode": "markers",
         "name": "Nasurullabad",
         "orientation": "v",
         "showlegend": true,
         "type": "scatter",
         "x": [
          0.0002720542459023
         ],
         "xaxis": "x",
         "y": [
          0.001900783741470059
         ],
         "yaxis": "y"
        },
        {
         "hovertemplate": "Area=Navipet<br>Deviance Scores Amount of Fires=%{x}<br>Deviance Scores PM2.5=%{y}<extra></extra>",
         "legendgroup": "Navipet",
         "marker": {
          "color": "#B6E880",
          "symbol": "circle"
         },
         "mode": "markers",
         "name": "Navipet",
         "orientation": "v",
         "showlegend": true,
         "type": "scatter",
         "x": [
          0.0006896896492108
         ],
         "xaxis": "x",
         "y": [
          0.0031301922691471125
         ],
         "yaxis": "y"
        },
        {
         "hovertemplate": "Area=Nawabpet<br>Deviance Scores Amount of Fires=%{x}<br>Deviance Scores PM2.5=%{y}<extra></extra>",
         "legendgroup": "Nawabpet",
         "marker": {
          "color": "#FF97FF",
          "symbol": "circle"
         },
         "mode": "markers",
         "name": "Nawabpet",
         "orientation": "v",
         "showlegend": true,
         "type": "scatter",
         "x": [
          -0.0000010947661312611866,
          0.00003569214473005433
         ],
         "xaxis": "x",
         "y": [
          -0.00006527900625932636,
          -0.00013457772803157508
         ],
         "yaxis": "y"
        },
        {
         "hovertemplate": "Area=Nekkonda<br>Deviance Scores Amount of Fires=%{x}<br>Deviance Scores PM2.5=%{y}<extra></extra>",
         "legendgroup": "Nekkonda",
         "marker": {
          "color": "#FECB52",
          "symbol": "circle"
         },
         "mode": "markers",
         "name": "Nekkonda",
         "orientation": "v",
         "showlegend": true,
         "type": "scatter",
         "x": [
          0.0000241602908621183
         ],
         "xaxis": "x",
         "y": [
          0.0015321460763387106
         ],
         "yaxis": "y"
        },
        {
         "hovertemplate": "Area=Nelakondapally<br>Deviance Scores Amount of Fires=%{x}<br>Deviance Scores PM2.5=%{y}<extra></extra>",
         "legendgroup": "Nelakondapally",
         "marker": {
          "color": "#636efa",
          "symbol": "circle"
         },
         "mode": "markers",
         "name": "Nelakondapally",
         "orientation": "v",
         "showlegend": true,
         "type": "scatter",
         "x": [
          -0.0001805996037255
         ],
         "xaxis": "x",
         "y": [
          0.0009766279065532447
         ],
         "yaxis": "y"
        },
        {
         "hovertemplate": "Area=Nellikudur<br>Deviance Scores Amount of Fires=%{x}<br>Deviance Scores PM2.5=%{y}<extra></extra>",
         "legendgroup": "Nellikudur",
         "marker": {
          "color": "#EF553B",
          "symbol": "circle"
         },
         "mode": "markers",
         "name": "Nellikudur",
         "orientation": "v",
         "showlegend": true,
         "type": "scatter",
         "x": [
          -0.000040580057839904
         ],
         "xaxis": "x",
         "y": [
          0.002157513261909899
         ],
         "yaxis": "y"
        },
        {
         "hovertemplate": "Area=Nennel<br>Deviance Scores Amount of Fires=%{x}<br>Deviance Scores PM2.5=%{y}<extra></extra>",
         "legendgroup": "Nennel",
         "marker": {
          "color": "#00cc96",
          "symbol": "circle"
         },
         "mode": "markers",
         "name": "Nennel",
         "orientation": "v",
         "showlegend": true,
         "type": "scatter",
         "x": [
          -0.00003251161525791864
         ],
         "xaxis": "x",
         "y": [
          0.0011505280490065723
         ],
         "yaxis": "y"
        },
        {
         "hovertemplate": "Area=Nereducherla<br>Deviance Scores Amount of Fires=%{x}<br>Deviance Scores PM2.5=%{y}<extra></extra>",
         "legendgroup": "Nereducherla",
         "marker": {
          "color": "#ab63fa",
          "symbol": "circle"
         },
         "mode": "markers",
         "name": "Nereducherla",
         "orientation": "v",
         "showlegend": true,
         "type": "scatter",
         "x": [
          -0.00005282068476160287
         ],
         "xaxis": "x",
         "y": [
          0.001736808425566153
         ],
         "yaxis": "y"
        },
        {
         "hovertemplate": "Area=Neredugommu<br>Deviance Scores Amount of Fires=%{x}<br>Deviance Scores PM2.5=%{y}<extra></extra>",
         "legendgroup": "Neredugommu",
         "marker": {
          "color": "#FFA15A",
          "symbol": "circle"
         },
         "mode": "markers",
         "name": "Neredugommu",
         "orientation": "v",
         "showlegend": true,
         "type": "scatter",
         "x": [
          0.000004607099999548442
         ],
         "xaxis": "x",
         "y": [
          0.0003713490573267604
         ],
         "yaxis": "y"
        },
        {
         "hovertemplate": "Area=Nidamanoor<br>Deviance Scores Amount of Fires=%{x}<br>Deviance Scores PM2.5=%{y}<extra></extra>",
         "legendgroup": "Nidamanoor",
         "marker": {
          "color": "#19d3f3",
          "symbol": "circle"
         },
         "mode": "markers",
         "name": "Nidamanoor",
         "orientation": "v",
         "showlegend": true,
         "type": "scatter",
         "x": [
          -0.0001022729932781
         ],
         "xaxis": "x",
         "y": [
          0.0015013398947987804
         ],
         "yaxis": "y"
        },
        {
         "hovertemplate": "Area=Nizamabad Rural<br>Deviance Scores Amount of Fires=%{x}<br>Deviance Scores PM2.5=%{y}<extra></extra>",
         "legendgroup": "Nizamabad Rural",
         "marker": {
          "color": "#FF6692",
          "symbol": "circle"
         },
         "mode": "markers",
         "name": "Nizamabad Rural",
         "orientation": "v",
         "showlegend": true,
         "type": "scatter",
         "x": [
          0.000485542989657
         ],
         "xaxis": "x",
         "y": [
          0.0021531458482009244
         ],
         "yaxis": "y"
        },
        {
         "hovertemplate": "Area=Nizamsagar<br>Deviance Scores Amount of Fires=%{x}<br>Deviance Scores PM2.5=%{y}<extra></extra>",
         "legendgroup": "Nizamsagar",
         "marker": {
          "color": "#B6E880",
          "symbol": "circle"
         },
         "mode": "markers",
         "name": "Nizamsagar",
         "orientation": "v",
         "showlegend": true,
         "type": "scatter",
         "x": [
          0.00005466689754571779
         ],
         "xaxis": "x",
         "y": [
          0.0015237192677299957
         ],
         "yaxis": "y"
        },
        {
         "hovertemplate": "Area=Nyalkal<br>Deviance Scores Amount of Fires=%{x}<br>Deviance Scores PM2.5=%{y}<extra></extra>",
         "legendgroup": "Nyalkal",
         "marker": {
          "color": "#FF97FF",
          "symbol": "circle"
         },
         "mode": "markers",
         "name": "Nyalkal",
         "orientation": "v",
         "showlegend": true,
         "type": "scatter",
         "x": [
          -0.00001891275903944672
         ],
         "xaxis": "x",
         "y": [
          -0.0000241905681942656
         ],
         "yaxis": "y"
        },
        {
         "hovertemplate": "Area=Odela<br>Deviance Scores Amount of Fires=%{x}<br>Deviance Scores PM2.5=%{y}<extra></extra>",
         "legendgroup": "Odela",
         "marker": {
          "color": "#FECB52",
          "symbol": "circle"
         },
         "mode": "markers",
         "name": "Odela",
         "orientation": "v",
         "showlegend": true,
         "type": "scatter",
         "x": [
          0.0003329694017502
         ],
         "xaxis": "x",
         "y": [
          0.0023386891501860152
         ],
         "yaxis": "y"
        },
        {
         "hovertemplate": "Area=Palakurthy<br>Deviance Scores Amount of Fires=%{x}<br>Deviance Scores PM2.5=%{y}<extra></extra>",
         "legendgroup": "Palakurthy",
         "marker": {
          "color": "#636efa",
          "symbol": "circle"
         },
         "mode": "markers",
         "name": "Palakurthy",
         "orientation": "v",
         "showlegend": true,
         "type": "scatter",
         "x": [
          -0.000005453697206201714,
          -0.000014756498118395382
         ],
         "xaxis": "x",
         "y": [
          0.001882090812128025,
          0.0018589182224829181
         ],
         "yaxis": "y"
        },
        {
         "hovertemplate": "Area=Palmela<br>Deviance Scores Amount of Fires=%{x}<br>Deviance Scores PM2.5=%{y}<extra></extra>",
         "legendgroup": "Palmela",
         "marker": {
          "color": "#EF553B",
          "symbol": "circle"
         },
         "mode": "markers",
         "name": "Palmela",
         "orientation": "v",
         "showlegend": true,
         "type": "scatter",
         "x": [
          0.00005353368860038594
         ],
         "xaxis": "x",
         "y": [
          0.0006152467624886402
         ],
         "yaxis": "y"
        },
        {
         "hovertemplate": "Area=Palvancha<br>Deviance Scores Amount of Fires=%{x}<br>Deviance Scores PM2.5=%{y}<extra></extra>",
         "legendgroup": "Palvancha",
         "marker": {
          "color": "#00cc96",
          "symbol": "circle"
         },
         "mode": "markers",
         "name": "Palvancha",
         "orientation": "v",
         "showlegend": true,
         "type": "scatter",
         "x": [
          -0.0001331929668731
         ],
         "xaxis": "x",
         "y": [
          0.0003403253837116267
         ],
         "yaxis": "y"
        },
        {
         "hovertemplate": "Area=Papannapet<br>Deviance Scores Amount of Fires=%{x}<br>Deviance Scores PM2.5=%{y}<extra></extra>",
         "legendgroup": "Papannapet",
         "marker": {
          "color": "#ab63fa",
          "symbol": "circle"
         },
         "mode": "markers",
         "name": "Papannapet",
         "orientation": "v",
         "showlegend": true,
         "type": "scatter",
         "x": [
          -0.00003893802809134963
         ],
         "xaxis": "x",
         "y": [
          0.0012937103364825894
         ],
         "yaxis": "y"
        },
        {
         "hovertemplate": "Area=Pargi<br>Deviance Scores Amount of Fires=%{x}<br>Deviance Scores PM2.5=%{y}<extra></extra>",
         "legendgroup": "Pargi",
         "marker": {
          "color": "#FFA15A",
          "symbol": "circle"
         },
         "mode": "markers",
         "name": "Pargi",
         "orientation": "v",
         "showlegend": true,
         "type": "scatter",
         "x": [
          -0.0001319848180201
         ],
         "xaxis": "x",
         "y": [
          -0.0003430349188096208
         ],
         "yaxis": "y"
        },
        {
         "hovertemplate": "Area=Parvathagiri<br>Deviance Scores Amount of Fires=%{x}<br>Deviance Scores PM2.5=%{y}<extra></extra>",
         "legendgroup": "Parvathagiri",
         "marker": {
          "color": "#19d3f3",
          "symbol": "circle"
         },
         "mode": "markers",
         "name": "Parvathagiri",
         "orientation": "v",
         "showlegend": true,
         "type": "scatter",
         "x": [
          0.0001744324269697
         ],
         "xaxis": "x",
         "y": [
          0.0016047839484533098
         ],
         "yaxis": "y"
        },
        {
         "hovertemplate": "Area=Patancheruvu<br>Deviance Scores Amount of Fires=%{x}<br>Deviance Scores PM2.5=%{y}<extra></extra>",
         "legendgroup": "Patancheruvu",
         "marker": {
          "color": "#FF6692",
          "symbol": "circle"
         },
         "mode": "markers",
         "name": "Patancheruvu",
         "orientation": "v",
         "showlegend": true,
         "type": "scatter",
         "x": [
          0.00006076602253949128
         ],
         "xaxis": "x",
         "y": [
          0.0006414505861390462
         ],
         "yaxis": "y"
        },
        {
         "hovertemplate": "Area=Pebbair<br>Deviance Scores Amount of Fires=%{x}<br>Deviance Scores PM2.5=%{y}<extra></extra>",
         "legendgroup": "Pebbair",
         "marker": {
          "color": "#B6E880",
          "symbol": "circle"
         },
         "mode": "markers",
         "name": "Pebbair",
         "orientation": "v",
         "showlegend": true,
         "type": "scatter",
         "x": [
          0.00007374305326971969
         ],
         "xaxis": "x",
         "y": [
          0.0008515053932762707
         ],
         "yaxis": "y"
        },
        {
         "hovertemplate": "Area=Peda Adisharla Palli<br>Deviance Scores Amount of Fires=%{x}<br>Deviance Scores PM2.5=%{y}<extra></extra>",
         "legendgroup": "Peda Adisharla Palli",
         "marker": {
          "color": "#FF97FF",
          "symbol": "circle"
         },
         "mode": "markers",
         "name": "Peda Adisharla Palli",
         "orientation": "v",
         "showlegend": true,
         "type": "scatter",
         "x": [
          -0.0000185998127994857
         ],
         "xaxis": "x",
         "y": [
          0.0007863332814554333
         ],
         "yaxis": "y"
        },
        {
         "hovertemplate": "Area=Peddakothapalle<br>Deviance Scores Amount of Fires=%{x}<br>Deviance Scores PM2.5=%{y}<extra></extra>",
         "legendgroup": "Peddakothapalle",
         "marker": {
          "color": "#FECB52",
          "symbol": "circle"
         },
         "mode": "markers",
         "name": "Peddakothapalle",
         "orientation": "v",
         "showlegend": true,
         "type": "scatter",
         "x": [
          -0.0000589618093901708
         ],
         "xaxis": "x",
         "y": [
          0.0003779720426263213
         ],
         "yaxis": "y"
        },
        {
         "hovertemplate": "Area=Peddamandaddi<br>Deviance Scores Amount of Fires=%{x}<br>Deviance Scores PM2.5=%{y}<extra></extra>",
         "legendgroup": "Peddamandaddi",
         "marker": {
          "color": "#636efa",
          "symbol": "circle"
         },
         "mode": "markers",
         "name": "Peddamandaddi",
         "orientation": "v",
         "showlegend": true,
         "type": "scatter",
         "x": [
          0.0003192484280682
         ],
         "xaxis": "x",
         "y": [
          0.0006959492274109935
         ],
         "yaxis": "y"
        },
        {
         "hovertemplate": "Area=Peddapalli<br>Deviance Scores Amount of Fires=%{x}<br>Deviance Scores PM2.5=%{y}<extra></extra>",
         "legendgroup": "Peddapalli",
         "marker": {
          "color": "#EF553B",
          "symbol": "circle"
         },
         "mode": "markers",
         "name": "Peddapalli",
         "orientation": "v",
         "showlegend": true,
         "type": "scatter",
         "x": [
          0.0003568860544516
         ],
         "xaxis": "x",
         "y": [
          0.0021246377362942356
         ],
         "yaxis": "y"
        },
        {
         "hovertemplate": "Area=Peddavangara<br>Deviance Scores Amount of Fires=%{x}<br>Deviance Scores PM2.5=%{y}<extra></extra>",
         "legendgroup": "Peddavangara",
         "marker": {
          "color": "#00cc96",
          "symbol": "circle"
         },
         "mode": "markers",
         "name": "Peddavangara",
         "orientation": "v",
         "showlegend": true,
         "type": "scatter",
         "x": [
          0.000005787064837779576
         ],
         "xaxis": "x",
         "y": [
          0.0023169231752465653
         ],
         "yaxis": "y"
        },
        {
         "hovertemplate": "Area=Peddavoora<br>Deviance Scores Amount of Fires=%{x}<br>Deviance Scores PM2.5=%{y}<extra></extra>",
         "legendgroup": "Peddavoora",
         "marker": {
          "color": "#ab63fa",
          "symbol": "circle"
         },
         "mode": "markers",
         "name": "Peddavoora",
         "orientation": "v",
         "showlegend": true,
         "type": "scatter",
         "x": [
          0.00004939409760604179
         ],
         "xaxis": "x",
         "y": [
          0.0013734722694827143
         ],
         "yaxis": "y"
        },
        {
         "hovertemplate": "Area=Peddemul<br>Deviance Scores Amount of Fires=%{x}<br>Deviance Scores PM2.5=%{y}<extra></extra>",
         "legendgroup": "Peddemul",
         "marker": {
          "color": "#FFA15A",
          "symbol": "circle"
         },
         "mode": "markers",
         "name": "Peddemul",
         "orientation": "v",
         "showlegend": true,
         "type": "scatter",
         "x": [
          0.00008702829040195534
         ],
         "xaxis": "x",
         "y": [
          -0.00026998727994611334
         ],
         "yaxis": "y"
        },
        {
         "hovertemplate": "Area=Pegadapalli<br>Deviance Scores Amount of Fires=%{x}<br>Deviance Scores PM2.5=%{y}<extra></extra>",
         "legendgroup": "Pegadapalli",
         "marker": {
          "color": "#19d3f3",
          "symbol": "circle"
         },
         "mode": "markers",
         "name": "Pegadapalli",
         "orientation": "v",
         "showlegend": true,
         "type": "scatter",
         "x": [
          0.000002206902169751229
         ],
         "xaxis": "x",
         "y": [
          0.0025557650436634333
         ],
         "yaxis": "y"
        },
        {
         "hovertemplate": "Area=Pembi<br>Deviance Scores Amount of Fires=%{x}<br>Deviance Scores PM2.5=%{y}<extra></extra>",
         "legendgroup": "Pembi",
         "marker": {
          "color": "#FF6692",
          "symbol": "circle"
         },
         "mode": "markers",
         "name": "Pembi",
         "orientation": "v",
         "showlegend": true,
         "type": "scatter",
         "x": [
          -0.0001061682515496
         ],
         "xaxis": "x",
         "y": [
          0.0012605373071656232
         ],
         "yaxis": "y"
        },
        {
         "hovertemplate": "Area=Penpahad<br>Deviance Scores Amount of Fires=%{x}<br>Deviance Scores PM2.5=%{y}<extra></extra>",
         "legendgroup": "Penpahad",
         "marker": {
          "color": "#B6E880",
          "symbol": "circle"
         },
         "mode": "markers",
         "name": "Penpahad",
         "orientation": "v",
         "showlegend": true,
         "type": "scatter",
         "x": [
          0.000003961160781069772
         ],
         "xaxis": "x",
         "y": [
          0.001968540738841598
         ],
         "yaxis": "y"
        },
        {
         "hovertemplate": "Area=Pentlavelli<br>Deviance Scores Amount of Fires=%{x}<br>Deviance Scores PM2.5=%{y}<extra></extra>",
         "legendgroup": "Pentlavelli",
         "marker": {
          "color": "#FF97FF",
          "symbol": "circle"
         },
         "mode": "markers",
         "name": "Pentlavelli",
         "orientation": "v",
         "showlegend": true,
         "type": "scatter",
         "x": [
          0.000012176205356971049
         ],
         "xaxis": "x",
         "y": [
          0.0009090381427934293
         ],
         "yaxis": "y"
        },
        {
         "hovertemplate": "Area=Penuballi<br>Deviance Scores Amount of Fires=%{x}<br>Deviance Scores PM2.5=%{y}<extra></extra>",
         "legendgroup": "Penuballi",
         "marker": {
          "color": "#FECB52",
          "symbol": "circle"
         },
         "mode": "markers",
         "name": "Penuballi",
         "orientation": "v",
         "showlegend": true,
         "type": "scatter",
         "x": [
          -0.0001804556714177
         ],
         "xaxis": "x",
         "y": [
          0.0006135019735888336
         ],
         "yaxis": "y"
        },
        {
         "hovertemplate": "Area=Pinapaka<br>Deviance Scores Amount of Fires=%{x}<br>Deviance Scores PM2.5=%{y}<extra></extra>",
         "legendgroup": "Pinapaka",
         "marker": {
          "color": "#636efa",
          "symbol": "circle"
         },
         "mode": "markers",
         "name": "Pinapaka",
         "orientation": "v",
         "showlegend": true,
         "type": "scatter",
         "x": [
          -0.0001195024615535
         ],
         "xaxis": "x",
         "y": [
          0.0005846243974550171
         ],
         "yaxis": "y"
        },
        {
         "hovertemplate": "Area=Pudur<br>Deviance Scores Amount of Fires=%{x}<br>Deviance Scores PM2.5=%{y}<extra></extra>",
         "legendgroup": "Pudur",
         "marker": {
          "color": "#EF553B",
          "symbol": "circle"
         },
         "mode": "markers",
         "name": "Pudur",
         "orientation": "v",
         "showlegend": true,
         "type": "scatter",
         "x": [
          0.00001629671452560914
         ],
         "xaxis": "x",
         "y": [
          -0.00041602417142822505
         ],
         "yaxis": "y"
        },
        {
         "hovertemplate": "Area=Pulkal<br>Deviance Scores Amount of Fires=%{x}<br>Deviance Scores PM2.5=%{y}<extra></extra>",
         "legendgroup": "Pulkal",
         "marker": {
          "color": "#00cc96",
          "symbol": "circle"
         },
         "mode": "markers",
         "name": "Pulkal",
         "orientation": "v",
         "showlegend": true,
         "type": "scatter",
         "x": [
          -0.0001571165264616
         ],
         "xaxis": "x",
         "y": [
          0.0005585615894348357
         ],
         "yaxis": "y"
        },
        {
         "hovertemplate": "Area=Raghunadhapalem<br>Deviance Scores Amount of Fires=%{x}<br>Deviance Scores PM2.5=%{y}<extra></extra>",
         "legendgroup": "Raghunadhapalem",
         "marker": {
          "color": "#ab63fa",
          "symbol": "circle"
         },
         "mode": "markers",
         "name": "Raghunadhapalem",
         "orientation": "v",
         "showlegend": true,
         "type": "scatter",
         "x": [
          -0.000022832790452557176
         ],
         "xaxis": "x",
         "y": [
          0.000521753743550554
         ],
         "yaxis": "y"
        },
        {
         "hovertemplate": "Area=Ragunathpally<br>Deviance Scores Amount of Fires=%{x}<br>Deviance Scores PM2.5=%{y}<extra></extra>",
         "legendgroup": "Ragunathpally",
         "marker": {
          "color": "#FFA15A",
          "symbol": "circle"
         },
         "mode": "markers",
         "name": "Ragunathpally",
         "orientation": "v",
         "showlegend": true,
         "type": "scatter",
         "x": [
          0.0001404076820692
         ],
         "xaxis": "x",
         "y": [
          0.001489659995448071
         ],
         "yaxis": "y"
        },
        {
         "hovertemplate": "Area=Raikal<br>Deviance Scores Amount of Fires=%{x}<br>Deviance Scores PM2.5=%{y}<extra></extra>",
         "legendgroup": "Raikal",
         "marker": {
          "color": "#19d3f3",
          "symbol": "circle"
         },
         "mode": "markers",
         "name": "Raikal",
         "orientation": "v",
         "showlegend": true,
         "type": "scatter",
         "x": [
          0.000022186895881279823
         ],
         "xaxis": "x",
         "y": [
          0.002133945683269338
         ],
         "yaxis": "y"
        },
        {
         "hovertemplate": "Area=Raikode<br>Deviance Scores Amount of Fires=%{x}<br>Deviance Scores PM2.5=%{y}<extra></extra>",
         "legendgroup": "Raikode",
         "marker": {
          "color": "#FF6692",
          "symbol": "circle"
         },
         "mode": "markers",
         "name": "Raikode",
         "orientation": "v",
         "showlegend": true,
         "type": "scatter",
         "x": [
          0.0001790753760746
         ],
         "xaxis": "x",
         "y": [
          0.0004486942670508577
         ],
         "yaxis": "y"
        },
        {
         "hovertemplate": "Area=Raiparthy<br>Deviance Scores Amount of Fires=%{x}<br>Deviance Scores PM2.5=%{y}<extra></extra>",
         "legendgroup": "Raiparthy",
         "marker": {
          "color": "#B6E880",
          "symbol": "circle"
         },
         "mode": "markers",
         "name": "Raiparthy",
         "orientation": "v",
         "showlegend": true,
         "type": "scatter",
         "x": [
          -0.000035020497312666295
         ],
         "xaxis": "x",
         "y": [
          0.0022029195763347705
         ],
         "yaxis": "y"
        },
        {
         "hovertemplate": "Area=Raipole<br>Deviance Scores Amount of Fires=%{x}<br>Deviance Scores PM2.5=%{y}<extra></extra>",
         "legendgroup": "Raipole",
         "marker": {
          "color": "#FF97FF",
          "symbol": "circle"
         },
         "mode": "markers",
         "name": "Raipole",
         "orientation": "v",
         "showlegend": true,
         "type": "scatter",
         "x": [
          0.00003541723975581434
         ],
         "xaxis": "x",
         "y": [
          0.0005736989284883743
         ],
         "yaxis": "y"
        },
        {
         "hovertemplate": "Area=Rajampet<br>Deviance Scores Amount of Fires=%{x}<br>Deviance Scores PM2.5=%{y}<extra></extra>",
         "legendgroup": "Rajampet",
         "marker": {
          "color": "#FECB52",
          "symbol": "circle"
         },
         "mode": "markers",
         "name": "Rajampet",
         "orientation": "v",
         "showlegend": true,
         "type": "scatter",
         "x": [
          0.000014942773929850868
         ],
         "xaxis": "x",
         "y": [
          0.0015644641531748482
         ],
         "yaxis": "y"
        },
        {
         "hovertemplate": "Area=Rajapeta<br>Deviance Scores Amount of Fires=%{x}<br>Deviance Scores PM2.5=%{y}<extra></extra>",
         "legendgroup": "Rajapeta",
         "marker": {
          "color": "#636efa",
          "symbol": "circle"
         },
         "mode": "markers",
         "name": "Rajapeta",
         "orientation": "v",
         "showlegend": true,
         "type": "scatter",
         "x": [
          0.000014067319995007813
         ],
         "xaxis": "x",
         "y": [
          0.0012231215716299209
         ],
         "yaxis": "y"
        },
        {
         "hovertemplate": "Area=Rajapur<br>Deviance Scores Amount of Fires=%{x}<br>Deviance Scores PM2.5=%{y}<extra></extra>",
         "legendgroup": "Rajapur",
         "marker": {
          "color": "#EF553B",
          "symbol": "circle"
         },
         "mode": "markers",
         "name": "Rajapur",
         "orientation": "v",
         "showlegend": true,
         "type": "scatter",
         "x": [
          -0.000039651113223755353
         ],
         "xaxis": "x",
         "y": [
          -0.0000693162220083948
         ],
         "yaxis": "y"
        },
        {
         "hovertemplate": "Area=Ramachandrapuram<br>Deviance Scores Amount of Fires=%{x}<br>Deviance Scores PM2.5=%{y}<extra></extra>",
         "legendgroup": "Ramachandrapuram",
         "marker": {
          "color": "#00cc96",
          "symbol": "circle"
         },
         "mode": "markers",
         "name": "Ramachandrapuram",
         "orientation": "v",
         "showlegend": true,
         "type": "scatter",
         "x": [
          0.00003989457166433652
         ],
         "xaxis": "x",
         "y": [
          0.00038951178821857173
         ],
         "yaxis": "y"
        },
        {
         "hovertemplate": "Area=Ramadugu<br>Deviance Scores Amount of Fires=%{x}<br>Deviance Scores PM2.5=%{y}<extra></extra>",
         "legendgroup": "Ramadugu",
         "marker": {
          "color": "#ab63fa",
          "symbol": "circle"
         },
         "mode": "markers",
         "name": "Ramadugu",
         "orientation": "v",
         "showlegend": true,
         "type": "scatter",
         "x": [
          0.00003609498753906889
         ],
         "xaxis": "x",
         "y": [
          0.0026160175793497795
         ],
         "yaxis": "y"
        },
        {
         "hovertemplate": "Area=Ramagiri<br>Deviance Scores Amount of Fires=%{x}<br>Deviance Scores PM2.5=%{y}<extra></extra>",
         "legendgroup": "Ramagiri",
         "marker": {
          "color": "#FFA15A",
          "symbol": "circle"
         },
         "mode": "markers",
         "name": "Ramagiri",
         "orientation": "v",
         "showlegend": true,
         "type": "scatter",
         "x": [
          -0.000016925271487636007
         ],
         "xaxis": "x",
         "y": [
          0.0018700930534098926
         ],
         "yaxis": "y"
        },
        {
         "hovertemplate": "Area=Ramagundam<br>Deviance Scores Amount of Fires=%{x}<br>Deviance Scores PM2.5=%{y}<extra></extra>",
         "legendgroup": "Ramagundam",
         "marker": {
          "color": "#19d3f3",
          "symbol": "circle"
         },
         "mode": "markers",
         "name": "Ramagundam",
         "orientation": "v",
         "showlegend": true,
         "type": "scatter",
         "x": [
          0.000043435189595668965
         ],
         "xaxis": "x",
         "y": [
          0.002055808028465807
         ],
         "yaxis": "y"
        },
        {
         "hovertemplate": "Area=Ramannapet<br>Deviance Scores Amount of Fires=%{x}<br>Deviance Scores PM2.5=%{y}<extra></extra>",
         "legendgroup": "Ramannapet",
         "marker": {
          "color": "#FF6692",
          "symbol": "circle"
         },
         "mode": "markers",
         "name": "Ramannapet",
         "orientation": "v",
         "showlegend": true,
         "type": "scatter",
         "x": [
          0.0002261165533767
         ],
         "xaxis": "x",
         "y": [
          0.0016399610863551488
         ],
         "yaxis": "y"
        },
        {
         "hovertemplate": "Area=Ramareddy<br>Deviance Scores Amount of Fires=%{x}<br>Deviance Scores PM2.5=%{y}<extra></extra>",
         "legendgroup": "Ramareddy",
         "marker": {
          "color": "#B6E880",
          "symbol": "circle"
         },
         "mode": "markers",
         "name": "Ramareddy",
         "orientation": "v",
         "showlegend": true,
         "type": "scatter",
         "x": [
          -0.000022602328829096383
         ],
         "xaxis": "x",
         "y": [
          0.0016721233230776995
         ],
         "yaxis": "y"
        },
        {
         "hovertemplate": "Area=Ramayampet<br>Deviance Scores Amount of Fires=%{x}<br>Deviance Scores PM2.5=%{y}<extra></extra>",
         "legendgroup": "Ramayampet",
         "marker": {
          "color": "#FF97FF",
          "symbol": "circle"
         },
         "mode": "markers",
         "name": "Ramayampet",
         "orientation": "v",
         "showlegend": true,
         "type": "scatter",
         "x": [
          0.00003081517670689037
         ],
         "xaxis": "x",
         "y": [
          0.0007418555973122368
         ],
         "yaxis": "y"
        },
        {
         "hovertemplate": "Area=Rebbena<br>Deviance Scores Amount of Fires=%{x}<br>Deviance Scores PM2.5=%{y}<extra></extra>",
         "legendgroup": "Rebbena",
         "marker": {
          "color": "#FECB52",
          "symbol": "circle"
         },
         "mode": "markers",
         "name": "Rebbena",
         "orientation": "v",
         "showlegend": true,
         "type": "scatter",
         "x": [
          0.00003466707779326237
         ],
         "xaxis": "x",
         "y": [
          0.0005380866301560692
         ],
         "yaxis": "y"
        },
        {
         "hovertemplate": "Area=Regode<br>Deviance Scores Amount of Fires=%{x}<br>Deviance Scores PM2.5=%{y}<extra></extra>",
         "legendgroup": "Regode",
         "marker": {
          "color": "#636efa",
          "symbol": "circle"
         },
         "mode": "markers",
         "name": "Regode",
         "orientation": "v",
         "showlegend": true,
         "type": "scatter",
         "x": [
          0.000023105664268714253
         ],
         "xaxis": "x",
         "y": [
          0.000625487381505259
         ],
         "yaxis": "y"
        },
        {
         "hovertemplate": "Area=Regonda<br>Deviance Scores Amount of Fires=%{x}<br>Deviance Scores PM2.5=%{y}<extra></extra>",
         "legendgroup": "Regonda",
         "marker": {
          "color": "#EF553B",
          "symbol": "circle"
         },
         "mode": "markers",
         "name": "Regonda",
         "orientation": "v",
         "showlegend": true,
         "type": "scatter",
         "x": [
          -0.0001030740172025
         ],
         "xaxis": "x",
         "y": [
          0.0016131584005535477
         ],
         "yaxis": "y"
        },
        {
         "hovertemplate": "Area=Renjal<br>Deviance Scores Amount of Fires=%{x}<br>Deviance Scores PM2.5=%{y}<extra></extra>",
         "legendgroup": "Renjal",
         "marker": {
          "color": "#00cc96",
          "symbol": "circle"
         },
         "mode": "markers",
         "name": "Renjal",
         "orientation": "v",
         "showlegend": true,
         "type": "scatter",
         "x": [
          0.00041066784748
         ],
         "xaxis": "x",
         "y": [
          0.003047951665691995
         ],
         "yaxis": "y"
        },
        {
         "hovertemplate": "Area=Sadashivnagar<br>Deviance Scores Amount of Fires=%{x}<br>Deviance Scores PM2.5=%{y}<extra></extra>",
         "legendgroup": "Sadashivnagar",
         "marker": {
          "color": "#ab63fa",
          "symbol": "circle"
         },
         "mode": "markers",
         "name": "Sadashivnagar",
         "orientation": "v",
         "showlegend": true,
         "type": "scatter",
         "x": [
          0.0002345275559933
         ],
         "xaxis": "x",
         "y": [
          0.0016129361812594208
         ],
         "yaxis": "y"
        },
        {
         "hovertemplate": "Area=Sadasivpet<br>Deviance Scores Amount of Fires=%{x}<br>Deviance Scores PM2.5=%{y}<extra></extra>",
         "legendgroup": "Sadasivpet",
         "marker": {
          "color": "#FFA15A",
          "symbol": "circle"
         },
         "mode": "markers",
         "name": "Sadasivpet",
         "orientation": "v",
         "showlegend": true,
         "type": "scatter",
         "x": [
          0.00007151301679483883
         ],
         "xaxis": "x",
         "y": [
          0.0005846934722487452
         ],
         "yaxis": "y"
        },
        {
         "hovertemplate": "Area=Sangareddy<br>Deviance Scores Amount of Fires=%{x}<br>Deviance Scores PM2.5=%{y}<extra></extra>",
         "legendgroup": "Sangareddy",
         "marker": {
          "color": "#19d3f3",
          "symbol": "circle"
         },
         "mode": "markers",
         "name": "Sangareddy",
         "orientation": "v",
         "showlegend": true,
         "type": "scatter",
         "x": [
          0.0001556588311284
         ],
         "xaxis": "x",
         "y": [
          0.0005426783158546979
         ],
         "yaxis": "y"
        },
        {
         "hovertemplate": "Area=Sangem<br>Deviance Scores Amount of Fires=%{x}<br>Deviance Scores PM2.5=%{y}<extra></extra>",
         "legendgroup": "Sangem",
         "marker": {
          "color": "#FF6692",
          "symbol": "circle"
         },
         "mode": "markers",
         "name": "Sangem",
         "orientation": "v",
         "showlegend": true,
         "type": "scatter",
         "x": [
          -0.0001045448521146
         ],
         "xaxis": "x",
         "y": [
          0.0015793236928233949
         ],
         "yaxis": "y"
        },
        {
         "hovertemplate": "Area=Sarangapur<br>Deviance Scores Amount of Fires=%{x}<br>Deviance Scores PM2.5=%{y}<extra></extra>",
         "legendgroup": "Sarangapur",
         "marker": {
          "color": "#B6E880",
          "symbol": "circle"
         },
         "mode": "markers",
         "name": "Sarangapur",
         "orientation": "v",
         "showlegend": true,
         "type": "scatter",
         "x": [
          0.00000511029893052448,
          -0.0001991959900444
         ],
         "xaxis": "x",
         "y": [
          0.0018252518293527945,
          0.002052433436574042
         ],
         "yaxis": "y"
        },
        {
         "hovertemplate": "Area=Sathupally<br>Deviance Scores Amount of Fires=%{x}<br>Deviance Scores PM2.5=%{y}<extra></extra>",
         "legendgroup": "Sathupally",
         "marker": {
          "color": "#FF97FF",
          "symbol": "circle"
         },
         "mode": "markers",
         "name": "Sathupally",
         "orientation": "v",
         "showlegend": true,
         "type": "scatter",
         "x": [
          0.00008373971721600658
         ],
         "xaxis": "x",
         "y": [
          0.0004019401480440795
         ],
         "yaxis": "y"
        },
        {
         "hovertemplate": "Area=Serilingampalle<br>Deviance Scores Amount of Fires=%{x}<br>Deviance Scores PM2.5=%{y}<extra></extra>",
         "legendgroup": "Serilingampalle",
         "marker": {
          "color": "#FECB52",
          "symbol": "circle"
         },
         "mode": "markers",
         "name": "Serilingampalle",
         "orientation": "v",
         "showlegend": true,
         "type": "scatter",
         "x": [
          -0.000009120908694245184
         ],
         "xaxis": "x",
         "y": [
          0.00032672909854189
         ],
         "yaxis": "y"
        },
        {
         "hovertemplate": "Area=Shabad<br>Deviance Scores Amount of Fires=%{x}<br>Deviance Scores PM2.5=%{y}<extra></extra>",
         "legendgroup": "Shabad",
         "marker": {
          "color": "#636efa",
          "symbol": "circle"
         },
         "mode": "markers",
         "name": "Shabad",
         "orientation": "v",
         "showlegend": true,
         "type": "scatter",
         "x": [
          0.0000973024997590588
         ],
         "xaxis": "x",
         "y": [
          -0.00047459065381439113
         ],
         "yaxis": "y"
        },
        {
         "hovertemplate": "Area=Shaligouraram<br>Deviance Scores Amount of Fires=%{x}<br>Deviance Scores PM2.5=%{y}<extra></extra>",
         "legendgroup": "Shaligouraram",
         "marker": {
          "color": "#EF553B",
          "symbol": "circle"
         },
         "mode": "markers",
         "name": "Shaligouraram",
         "orientation": "v",
         "showlegend": true,
         "type": "scatter",
         "x": [
          0.00003581169844907365
         ],
         "xaxis": "x",
         "y": [
          0.00186304171798146
         ],
         "yaxis": "y"
        },
        {
         "hovertemplate": "Area=Shamirpet<br>Deviance Scores Amount of Fires=%{x}<br>Deviance Scores PM2.5=%{y}<extra></extra>",
         "legendgroup": "Shamirpet",
         "marker": {
          "color": "#00cc96",
          "symbol": "circle"
         },
         "mode": "markers",
         "name": "Shamirpet",
         "orientation": "v",
         "showlegend": true,
         "type": "scatter",
         "x": [
          0.000006522446508384971
         ],
         "xaxis": "x",
         "y": [
          -0.000013287626358799923
         ],
         "yaxis": "y"
        },
        {
         "hovertemplate": "Area=Shamshabad<br>Deviance Scores Amount of Fires=%{x}<br>Deviance Scores PM2.5=%{y}<extra></extra>",
         "legendgroup": "Shamshabad",
         "marker": {
          "color": "#ab63fa",
          "symbol": "circle"
         },
         "mode": "markers",
         "name": "Shamshabad",
         "orientation": "v",
         "showlegend": true,
         "type": "scatter",
         "x": [
          0.00005365271841176575
         ],
         "xaxis": "x",
         "y": [
          -0.0002485605358508382
         ],
         "yaxis": "y"
        },
        {
         "hovertemplate": "Area=Shankarampet_A<br>Deviance Scores Amount of Fires=%{x}<br>Deviance Scores PM2.5=%{y}<extra></extra>",
         "legendgroup": "Shankarampet_A",
         "marker": {
          "color": "#FFA15A",
          "symbol": "circle"
         },
         "mode": "markers",
         "name": "Shankarampet_A",
         "orientation": "v",
         "showlegend": true,
         "type": "scatter",
         "x": [
          -0.00004332189513554129
         ],
         "xaxis": "x",
         "y": [
          0.0012206358989353323
         ],
         "yaxis": "y"
        },
        {
         "hovertemplate": "Area=Shankarapatnam<br>Deviance Scores Amount of Fires=%{x}<br>Deviance Scores PM2.5=%{y}<extra></extra>",
         "legendgroup": "Shankarapatnam",
         "marker": {
          "color": "#19d3f3",
          "symbol": "circle"
         },
         "mode": "markers",
         "name": "Shankarapatnam",
         "orientation": "v",
         "showlegend": true,
         "type": "scatter",
         "x": [
          0.0001624120950089
         ],
         "xaxis": "x",
         "y": [
          0.0024063979436176747
         ],
         "yaxis": "y"
        },
        {
         "hovertemplate": "Area=Shankarpalle<br>Deviance Scores Amount of Fires=%{x}<br>Deviance Scores PM2.5=%{y}<extra></extra>",
         "legendgroup": "Shankarpalle",
         "marker": {
          "color": "#FF6692",
          "symbol": "circle"
         },
         "mode": "markers",
         "name": "Shankarpalle",
         "orientation": "v",
         "showlegend": true,
         "type": "scatter",
         "x": [
          0.0001623284102441
         ],
         "xaxis": "x",
         "y": [
          0.000029944058151867026
         ],
         "yaxis": "y"
        },
        {
         "hovertemplate": "Area=Shayampet<br>Deviance Scores Amount of Fires=%{x}<br>Deviance Scores PM2.5=%{y}<extra></extra>",
         "legendgroup": "Shayampet",
         "marker": {
          "color": "#B6E880",
          "symbol": "circle"
         },
         "mode": "markers",
         "name": "Shayampet",
         "orientation": "v",
         "showlegend": true,
         "type": "scatter",
         "x": [
          0.000013745153492846234
         ],
         "xaxis": "x",
         "y": [
          0.0015530266012270123
         ],
         "yaxis": "y"
        },
        {
         "hovertemplate": "Area=Shivampet<br>Deviance Scores Amount of Fires=%{x}<br>Deviance Scores PM2.5=%{y}<extra></extra>",
         "legendgroup": "Shivampet",
         "marker": {
          "color": "#FF97FF",
          "symbol": "circle"
         },
         "mode": "markers",
         "name": "Shivampet",
         "orientation": "v",
         "showlegend": true,
         "type": "scatter",
         "x": [
          0.000044150081424837104
         ],
         "xaxis": "x",
         "y": [
          0.0004109580362403127
         ],
         "yaxis": "y"
        },
        {
         "hovertemplate": "Area=Siddipet_Urban<br>Deviance Scores Amount of Fires=%{x}<br>Deviance Scores PM2.5=%{y}<extra></extra>",
         "legendgroup": "Siddipet_Urban",
         "marker": {
          "color": "#FECB52",
          "symbol": "circle"
         },
         "mode": "markers",
         "name": "Siddipet_Urban",
         "orientation": "v",
         "showlegend": true,
         "type": "scatter",
         "x": [
          0.000016549383964706692
         ],
         "xaxis": "x",
         "y": [
          0.001487865319306576
         ],
         "yaxis": "y"
        },
        {
         "hovertemplate": "Area=Singareni<br>Deviance Scores Amount of Fires=%{x}<br>Deviance Scores PM2.5=%{y}<extra></extra>",
         "legendgroup": "Singareni",
         "marker": {
          "color": "#636efa",
          "symbol": "circle"
         },
         "mode": "markers",
         "name": "Singareni",
         "orientation": "v",
         "showlegend": true,
         "type": "scatter",
         "x": [
          0.00008175049469631918
         ],
         "xaxis": "x",
         "y": [
          0.0006884149477388952
         ],
         "yaxis": "y"
        },
        {
         "hovertemplate": "Area=Sirgapoor<br>Deviance Scores Amount of Fires=%{x}<br>Deviance Scores PM2.5=%{y}<extra></extra>",
         "legendgroup": "Sirgapoor",
         "marker": {
          "color": "#EF553B",
          "symbol": "circle"
         },
         "mode": "markers",
         "name": "Sirgapoor",
         "orientation": "v",
         "showlegend": true,
         "type": "scatter",
         "x": [
          -0.00004184778247333284
         ],
         "xaxis": "x",
         "y": [
          0.0009042598024455598
         ],
         "yaxis": "y"
        },
        {
         "hovertemplate": "Area=Sirikonda<br>Deviance Scores Amount of Fires=%{x}<br>Deviance Scores PM2.5=%{y}<extra></extra>",
         "legendgroup": "Sirikonda",
         "marker": {
          "color": "#00cc96",
          "symbol": "circle"
         },
         "mode": "markers",
         "name": "Sirikonda",
         "orientation": "v",
         "showlegend": true,
         "type": "scatter",
         "x": [
          0.000006340430895600291,
          0.000025226925650774867
         ],
         "xaxis": "x",
         "y": [
          0.0011796054918544092,
          0.001960593938901378
         ],
         "yaxis": "y"
        },
        {
         "hovertemplate": "Area=Sirpur_T<br>Deviance Scores Amount of Fires=%{x}<br>Deviance Scores PM2.5=%{y}<extra></extra>",
         "legendgroup": "Sirpur_T",
         "marker": {
          "color": "#ab63fa",
          "symbol": "circle"
         },
         "mode": "markers",
         "name": "Sirpur_T",
         "orientation": "v",
         "showlegend": true,
         "type": "scatter",
         "x": [
          -0.000024241461520486396
         ],
         "xaxis": "x",
         "y": [
          0.0008683695150605816
         ],
         "yaxis": "y"
        },
        {
         "hovertemplate": "Area=Soan<br>Deviance Scores Amount of Fires=%{x}<br>Deviance Scores PM2.5=%{y}<extra></extra>",
         "legendgroup": "Soan",
         "marker": {
          "color": "#FFA15A",
          "symbol": "circle"
         },
         "mode": "markers",
         "name": "Soan",
         "orientation": "v",
         "showlegend": true,
         "type": "scatter",
         "x": [
          0.00009183130036750856
         ],
         "xaxis": "x",
         "y": [
          0.0027471838490782763
         ],
         "yaxis": "y"
        },
        {
         "hovertemplate": "Area=Srirampur<br>Deviance Scores Amount of Fires=%{x}<br>Deviance Scores PM2.5=%{y}<extra></extra>",
         "legendgroup": "Srirampur",
         "marker": {
          "color": "#19d3f3",
          "symbol": "circle"
         },
         "mode": "markers",
         "name": "Srirampur",
         "orientation": "v",
         "showlegend": true,
         "type": "scatter",
         "x": [
          0.0002855138593808
         ],
         "xaxis": "x",
         "y": [
          0.0021914084890440307
         ],
         "yaxis": "y"
        },
        {
         "hovertemplate": "Area=Srirangapur<br>Deviance Scores Amount of Fires=%{x}<br>Deviance Scores PM2.5=%{y}<extra></extra>",
         "legendgroup": "Srirangapur",
         "marker": {
          "color": "#FF6692",
          "symbol": "circle"
         },
         "mode": "markers",
         "name": "Srirangapur",
         "orientation": "v",
         "showlegend": true,
         "type": "scatter",
         "x": [
          0.00001763784435373289
         ],
         "xaxis": "x",
         "y": [
          0.0007922742414554387
         ],
         "yaxis": "y"
        },
        {
         "hovertemplate": "Area=Sultanabad<br>Deviance Scores Amount of Fires=%{x}<br>Deviance Scores PM2.5=%{y}<extra></extra>",
         "legendgroup": "Sultanabad",
         "marker": {
          "color": "#B6E880",
          "symbol": "circle"
         },
         "mode": "markers",
         "name": "Sultanabad",
         "orientation": "v",
         "showlegend": true,
         "type": "scatter",
         "x": [
          0.0003588036222803
         ],
         "xaxis": "x",
         "y": [
          0.002528784536003865
         ],
         "yaxis": "y"
        },
        {
         "hovertemplate": "Area=Suryapet<br>Deviance Scores Amount of Fires=%{x}<br>Deviance Scores PM2.5=%{y}<extra></extra>",
         "legendgroup": "Suryapet",
         "marker": {
          "color": "#FF97FF",
          "symbol": "circle"
         },
         "mode": "markers",
         "name": "Suryapet",
         "orientation": "v",
         "showlegend": true,
         "type": "scatter",
         "x": [
          -0.000010460851252842256
         ],
         "xaxis": "x",
         "y": [
          0.0019859000585520947
         ],
         "yaxis": "y"
        },
        {
         "hovertemplate": "Area=Tadoor<br>Deviance Scores Amount of Fires=%{x}<br>Deviance Scores PM2.5=%{y}<extra></extra>",
         "legendgroup": "Tadoor",
         "marker": {
          "color": "#FECB52",
          "symbol": "circle"
         },
         "mode": "markers",
         "name": "Tadoor",
         "orientation": "v",
         "showlegend": true,
         "type": "scatter",
         "x": [
          -0.00004413545036603558
         ],
         "xaxis": "x",
         "y": [
          0.0004414555016169879
         ],
         "yaxis": "y"
        },
        {
         "hovertemplate": "Area=Tadvai (Sammakka Sarakka)<br>Deviance Scores Amount of Fires=%{x}<br>Deviance Scores PM2.5=%{y}<extra></extra>",
         "legendgroup": "Tadvai (Sammakka Sarakka)",
         "marker": {
          "color": "#636efa",
          "symbol": "circle"
         },
         "mode": "markers",
         "name": "Tadvai (Sammakka Sarakka)",
         "orientation": "v",
         "showlegend": true,
         "type": "scatter",
         "x": [
          -0.00004148875177002559
         ],
         "xaxis": "x",
         "y": [
          0.0006442047215311268
         ],
         "yaxis": "y"
        },
        {
         "hovertemplate": "Area=Tadwai<br>Deviance Scores Amount of Fires=%{x}<br>Deviance Scores PM2.5=%{y}<extra></extra>",
         "legendgroup": "Tadwai",
         "marker": {
          "color": "#EF553B",
          "symbol": "circle"
         },
         "mode": "markers",
         "name": "Tadwai",
         "orientation": "v",
         "showlegend": true,
         "type": "scatter",
         "x": [
          0.0004413076575598
         ],
         "xaxis": "x",
         "y": [
          0.0014147759163003054
         ],
         "yaxis": "y"
        },
        {
         "hovertemplate": "Area=Talakondapally<br>Deviance Scores Amount of Fires=%{x}<br>Deviance Scores PM2.5=%{y}<extra></extra>",
         "legendgroup": "Talakondapally",
         "marker": {
          "color": "#00cc96",
          "symbol": "circle"
         },
         "mode": "markers",
         "name": "Talakondapally",
         "orientation": "v",
         "showlegend": true,
         "type": "scatter",
         "x": [
          -0.0000401916176548707
         ],
         "xaxis": "x",
         "y": [
          -0.00024450580880168985
         ],
         "yaxis": "y"
        },
        {
         "hovertemplate": "Area=Talamadugu<br>Deviance Scores Amount of Fires=%{x}<br>Deviance Scores PM2.5=%{y}<extra></extra>",
         "legendgroup": "Talamadugu",
         "marker": {
          "color": "#ab63fa",
          "symbol": "circle"
         },
         "mode": "markers",
         "name": "Talamadugu",
         "orientation": "v",
         "showlegend": true,
         "type": "scatter",
         "x": [
          -0.000120662367176
         ],
         "xaxis": "x",
         "y": [
          0.0016502936777931737
         ],
         "yaxis": "y"
        },
        {
         "hovertemplate": "Area=Tandur<br>Deviance Scores Amount of Fires=%{x}<br>Deviance Scores PM2.5=%{y}<extra></extra>",
         "legendgroup": "Tandur",
         "marker": {
          "color": "#FFA15A",
          "symbol": "circle"
         },
         "mode": "markers",
         "name": "Tandur",
         "orientation": "v",
         "showlegend": true,
         "type": "scatter",
         "x": [
          0.000021853079271498026
         ],
         "xaxis": "x",
         "y": [
          -0.0003795869209912528
         ],
         "yaxis": "y"
        },
        {
         "hovertemplate": "Area=Tekmal<br>Deviance Scores Amount of Fires=%{x}<br>Deviance Scores PM2.5=%{y}<extra></extra>",
         "legendgroup": "Tekmal",
         "marker": {
          "color": "#19d3f3",
          "symbol": "circle"
         },
         "mode": "markers",
         "name": "Tekmal",
         "orientation": "v",
         "showlegend": true,
         "type": "scatter",
         "x": [
          0.0001287683929113
         ],
         "xaxis": "x",
         "y": [
          0.0008713150999856516
         ],
         "yaxis": "y"
        },
        {
         "hovertemplate": "Area=Tekulapalle<br>Deviance Scores Amount of Fires=%{x}<br>Deviance Scores PM2.5=%{y}<extra></extra>",
         "legendgroup": "Tekulapalle",
         "marker": {
          "color": "#FF6692",
          "symbol": "circle"
         },
         "mode": "markers",
         "name": "Tekulapalle",
         "orientation": "v",
         "showlegend": true,
         "type": "scatter",
         "x": [
          -0.0004406214571109
         ],
         "xaxis": "x",
         "y": [
          0.000348222888196438
         ],
         "yaxis": "y"
        },
        {
         "hovertemplate": "Area=Tekumatla<br>Deviance Scores Amount of Fires=%{x}<br>Deviance Scores PM2.5=%{y}<extra></extra>",
         "legendgroup": "Tekumatla",
         "marker": {
          "color": "#B6E880",
          "symbol": "circle"
         },
         "mode": "markers",
         "name": "Tekumatla",
         "orientation": "v",
         "showlegend": true,
         "type": "scatter",
         "x": [
          -0.000014986786506347016
         ],
         "xaxis": "x",
         "y": [
          0.0018344485951544928
         ],
         "yaxis": "y"
        },
        {
         "hovertemplate": "Area=Telkapalle<br>Deviance Scores Amount of Fires=%{x}<br>Deviance Scores PM2.5=%{y}<extra></extra>",
         "legendgroup": "Telkapalle",
         "marker": {
          "color": "#FF97FF",
          "symbol": "circle"
         },
         "mode": "markers",
         "name": "Telkapalle",
         "orientation": "v",
         "showlegend": true,
         "type": "scatter",
         "x": [
          -0.00006233787122325617
         ],
         "xaxis": "x",
         "y": [
          0.00024184084186946919
         ],
         "yaxis": "y"
        },
        {
         "hovertemplate": "Area=Thallada<br>Deviance Scores Amount of Fires=%{x}<br>Deviance Scores PM2.5=%{y}<extra></extra>",
         "legendgroup": "Thallada",
         "marker": {
          "color": "#FECB52",
          "symbol": "circle"
         },
         "mode": "markers",
         "name": "Thallada",
         "orientation": "v",
         "showlegend": true,
         "type": "scatter",
         "x": [
          0.00001716068539101623
         ],
         "xaxis": "x",
         "y": [
          0.000587568028288532
         ],
         "yaxis": "y"
        },
        {
         "hovertemplate": "Area=Thangallapalli<br>Deviance Scores Amount of Fires=%{x}<br>Deviance Scores PM2.5=%{y}<extra></extra>",
         "legendgroup": "Thangallapalli",
         "marker": {
          "color": "#636efa",
          "symbol": "circle"
         },
         "mode": "markers",
         "name": "Thangallapalli",
         "orientation": "v",
         "showlegend": true,
         "type": "scatter",
         "x": [
          -0.0000027357331272455293
         ],
         "xaxis": "x",
         "y": [
          0.002365737748755842
         ],
         "yaxis": "y"
        },
        {
         "hovertemplate": "Area=Tharigoppula<br>Deviance Scores Amount of Fires=%{x}<br>Deviance Scores PM2.5=%{y}<extra></extra>",
         "legendgroup": "Tharigoppula",
         "marker": {
          "color": "#EF553B",
          "symbol": "circle"
         },
         "mode": "markers",
         "name": "Tharigoppula",
         "orientation": "v",
         "showlegend": true,
         "type": "scatter",
         "x": [
          -0.000032539640511249394
         ],
         "xaxis": "x",
         "y": [
          0.00116447160553354
         ],
         "yaxis": "y"
        },
        {
         "hovertemplate": "Area=Thimmajipeta<br>Deviance Scores Amount of Fires=%{x}<br>Deviance Scores PM2.5=%{y}<extra></extra>",
         "legendgroup": "Thimmajipeta",
         "marker": {
          "color": "#00cc96",
          "symbol": "circle"
         },
         "mode": "markers",
         "name": "Thimmajipeta",
         "orientation": "v",
         "showlegend": true,
         "type": "scatter",
         "x": [
          -0.00002205927205497417
         ],
         "xaxis": "x",
         "y": [
          0.0005903085683277893
         ],
         "yaxis": "y"
        },
        {
         "hovertemplate": "Area=Thimmapur<br>Deviance Scores Amount of Fires=%{x}<br>Deviance Scores PM2.5=%{y}<extra></extra>",
         "legendgroup": "Thimmapur",
         "marker": {
          "color": "#ab63fa",
          "symbol": "circle"
         },
         "mode": "markers",
         "name": "Thimmapur",
         "orientation": "v",
         "showlegend": true,
         "type": "scatter",
         "x": [
          0.000009321241361373736
         ],
         "xaxis": "x",
         "y": [
          0.0024628973784200582
         ],
         "yaxis": "y"
        },
        {
         "hovertemplate": "Area=Thoguta<br>Deviance Scores Amount of Fires=%{x}<br>Deviance Scores PM2.5=%{y}<extra></extra>",
         "legendgroup": "Thoguta",
         "marker": {
          "color": "#FFA15A",
          "symbol": "circle"
         },
         "mode": "markers",
         "name": "Thoguta",
         "orientation": "v",
         "showlegend": true,
         "type": "scatter",
         "x": [
          0.0001032327156512
         ],
         "xaxis": "x",
         "y": [
          0.000892991451921266
         ],
         "yaxis": "y"
        },
        {
         "hovertemplate": "Area=Thorrur<br>Deviance Scores Amount of Fires=%{x}<br>Deviance Scores PM2.5=%{y}<extra></extra>",
         "legendgroup": "Thorrur",
         "marker": {
          "color": "#19d3f3",
          "symbol": "circle"
         },
         "mode": "markers",
         "name": "Thorrur",
         "orientation": "v",
         "showlegend": true,
         "type": "scatter",
         "x": [
          0.00007196125611934631
         ],
         "xaxis": "x",
         "y": [
          0.0026254184754680825
         ],
         "yaxis": "y"
        },
        {
         "hovertemplate": "Area=Tipparthy<br>Deviance Scores Amount of Fires=%{x}<br>Deviance Scores PM2.5=%{y}<extra></extra>",
         "legendgroup": "Tipparthy",
         "marker": {
          "color": "#FF6692",
          "symbol": "circle"
         },
         "mode": "markers",
         "name": "Tipparthy",
         "orientation": "v",
         "showlegend": true,
         "type": "scatter",
         "x": [
          0.000010990438341817006
         ],
         "xaxis": "x",
         "y": [
          0.0015087140791604917
         ],
         "yaxis": "y"
        },
        {
         "hovertemplate": "Area=Tirumalayapalem<br>Deviance Scores Amount of Fires=%{x}<br>Deviance Scores PM2.5=%{y}<extra></extra>",
         "legendgroup": "Tirumalayapalem",
         "marker": {
          "color": "#B6E880",
          "symbol": "circle"
         },
         "mode": "markers",
         "name": "Tirumalayapalem",
         "orientation": "v",
         "showlegend": true,
         "type": "scatter",
         "x": [
          0.000015896589171120804
         ],
         "xaxis": "x",
         "y": [
          0.0012767720849944262
         ],
         "yaxis": "y"
        },
        {
         "hovertemplate": "Area=Tiryani<br>Deviance Scores Amount of Fires=%{x}<br>Deviance Scores PM2.5=%{y}<extra></extra>",
         "legendgroup": "Tiryani",
         "marker": {
          "color": "#FF97FF",
          "symbol": "circle"
         },
         "mode": "markers",
         "name": "Tiryani",
         "orientation": "v",
         "showlegend": true,
         "type": "scatter",
         "x": [
          0.00008402922787850586
         ],
         "xaxis": "x",
         "y": [
          0.0006359081658258343
         ],
         "yaxis": "y"
        },
        {
         "hovertemplate": "Area=Tripuraram<br>Deviance Scores Amount of Fires=%{x}<br>Deviance Scores PM2.5=%{y}<extra></extra>",
         "legendgroup": "Tripuraram",
         "marker": {
          "color": "#FECB52",
          "symbol": "circle"
         },
         "mode": "markers",
         "name": "Tripuraram",
         "orientation": "v",
         "showlegend": true,
         "type": "scatter",
         "x": [
          -0.00001487037349685454
         ],
         "xaxis": "x",
         "y": [
          0.0017041638003345073
         ],
         "yaxis": "y"
        },
        {
         "hovertemplate": "Area=Undavelly<br>Deviance Scores Amount of Fires=%{x}<br>Deviance Scores PM2.5=%{y}<extra></extra>",
         "legendgroup": "Undavelly",
         "marker": {
          "color": "#636efa",
          "symbol": "circle"
         },
         "mode": "markers",
         "name": "Undavelly",
         "orientation": "v",
         "showlegend": true,
         "type": "scatter",
         "x": [
          0.00004618932630316914
         ],
         "xaxis": "x",
         "y": [
          0.000887853774686451
         ],
         "yaxis": "y"
        },
        {
         "hovertemplate": "Area=Urkonda<br>Deviance Scores Amount of Fires=%{x}<br>Deviance Scores PM2.5=%{y}<extra></extra>",
         "legendgroup": "Urkonda",
         "marker": {
          "color": "#EF553B",
          "symbol": "circle"
         },
         "mode": "markers",
         "name": "Urkonda",
         "orientation": "v",
         "showlegend": true,
         "type": "scatter",
         "x": [
          0.0001509384858251
         ],
         "xaxis": "x",
         "y": [
          0.00006781817423833332
         ],
         "yaxis": "y"
        },
        {
         "hovertemplate": "Area=Utnur<br>Deviance Scores Amount of Fires=%{x}<br>Deviance Scores PM2.5=%{y}<extra></extra>",
         "legendgroup": "Utnur",
         "marker": {
          "color": "#00cc96",
          "symbol": "circle"
         },
         "mode": "markers",
         "name": "Utnur",
         "orientation": "v",
         "showlegend": true,
         "type": "scatter",
         "x": [
          -0.00002175313355521944
         ],
         "xaxis": "x",
         "y": [
          0.001232899827674434
         ],
         "yaxis": "y"
        },
        {
         "hovertemplate": "Area=V_Saidapur<br>Deviance Scores Amount of Fires=%{x}<br>Deviance Scores PM2.5=%{y}<extra></extra>",
         "legendgroup": "V_Saidapur",
         "marker": {
          "color": "#ab63fa",
          "symbol": "circle"
         },
         "mode": "markers",
         "name": "V_Saidapur",
         "orientation": "v",
         "showlegend": true,
         "type": "scatter",
         "x": [
          0.00012318487753
         ],
         "xaxis": "x",
         "y": [
          0.0017297712506020987
         ],
         "yaxis": "y"
        },
        {
         "hovertemplate": "Area=Vailpur<br>Deviance Scores Amount of Fires=%{x}<br>Deviance Scores PM2.5=%{y}<extra></extra>",
         "legendgroup": "Vailpur",
         "marker": {
          "color": "#FFA15A",
          "symbol": "circle"
         },
         "mode": "markers",
         "name": "Vailpur",
         "orientation": "v",
         "showlegend": true,
         "type": "scatter",
         "x": [
          0.0002162268519224
         ],
         "xaxis": "x",
         "y": [
          0.0029696100316705673
         ],
         "yaxis": "y"
        },
        {
         "hovertemplate": "Area=Valigonda<br>Deviance Scores Amount of Fires=%{x}<br>Deviance Scores PM2.5=%{y}<extra></extra>",
         "legendgroup": "Valigonda",
         "marker": {
          "color": "#19d3f3",
          "symbol": "circle"
         },
         "mode": "markers",
         "name": "Valigonda",
         "orientation": "v",
         "showlegend": true,
         "type": "scatter",
         "x": [
          0.00004899828726878954
         ],
         "xaxis": "x",
         "y": [
          0.001683038756604443
         ],
         "yaxis": "y"
        },
        {
         "hovertemplate": "Area=Vangoor<br>Deviance Scores Amount of Fires=%{x}<br>Deviance Scores PM2.5=%{y}<extra></extra>",
         "legendgroup": "Vangoor",
         "marker": {
          "color": "#FF6692",
          "symbol": "circle"
         },
         "mode": "markers",
         "name": "Vangoor",
         "orientation": "v",
         "showlegend": true,
         "type": "scatter",
         "x": [
          0.000029868730076875927
         ],
         "xaxis": "x",
         "y": [
          0.0003044598244480089
         ],
         "yaxis": "y"
        },
        {
         "hovertemplate": "Area=Vatpally<br>Deviance Scores Amount of Fires=%{x}<br>Deviance Scores PM2.5=%{y}<extra></extra>",
         "legendgroup": "Vatpally",
         "marker": {
          "color": "#B6E880",
          "symbol": "circle"
         },
         "mode": "markers",
         "name": "Vatpally",
         "orientation": "v",
         "showlegend": true,
         "type": "scatter",
         "x": [
          0.00003124623364088528
         ],
         "xaxis": "x",
         "y": [
          0.0006688323689713789
         ],
         "yaxis": "y"
        },
        {
         "hovertemplate": "Area=Veernapalli<br>Deviance Scores Amount of Fires=%{x}<br>Deviance Scores PM2.5=%{y}<extra></extra>",
         "legendgroup": "Veernapalli",
         "marker": {
          "color": "#FF97FF",
          "symbol": "circle"
         },
         "mode": "markers",
         "name": "Veernapalli",
         "orientation": "v",
         "showlegend": true,
         "type": "scatter",
         "x": [
          -0.00006682978546289199
         ],
         "xaxis": "x",
         "y": [
          0.0016881314386362639
         ],
         "yaxis": "y"
        },
        {
         "hovertemplate": "Area=Velair<br>Deviance Scores Amount of Fires=%{x}<br>Deviance Scores PM2.5=%{y}<extra></extra>",
         "legendgroup": "Velair",
         "marker": {
          "color": "#FECB52",
          "symbol": "circle"
         },
         "mode": "markers",
         "name": "Velair",
         "orientation": "v",
         "showlegend": true,
         "type": "scatter",
         "x": [
          0.00001729754489936558
         ],
         "xaxis": "x",
         "y": [
          0.0016409270326611521
         ],
         "yaxis": "y"
        },
        {
         "hovertemplate": "Area=Veldanda<br>Deviance Scores Amount of Fires=%{x}<br>Deviance Scores PM2.5=%{y}<extra></extra>",
         "legendgroup": "Veldanda",
         "marker": {
          "color": "#636efa",
          "symbol": "circle"
         },
         "mode": "markers",
         "name": "Veldanda",
         "orientation": "v",
         "showlegend": true,
         "type": "scatter",
         "x": [
          0.00007980367594712753
         ],
         "xaxis": "x",
         "y": [
          0.00006384602417040905
         ],
         "yaxis": "y"
        },
        {
         "hovertemplate": "Area=Velgatur<br>Deviance Scores Amount of Fires=%{x}<br>Deviance Scores PM2.5=%{y}<extra></extra>",
         "legendgroup": "Velgatur",
         "marker": {
          "color": "#EF553B",
          "symbol": "circle"
         },
         "mode": "markers",
         "name": "Velgatur",
         "orientation": "v",
         "showlegend": true,
         "type": "scatter",
         "x": [
          0.00005866195675385145
         ],
         "xaxis": "x",
         "y": [
          0.00224479109213992
         ],
         "yaxis": "y"
        },
        {
         "hovertemplate": "Area=Vemanpalle<br>Deviance Scores Amount of Fires=%{x}<br>Deviance Scores PM2.5=%{y}<extra></extra>",
         "legendgroup": "Vemanpalle",
         "marker": {
          "color": "#00cc96",
          "symbol": "circle"
         },
         "mode": "markers",
         "name": "Vemanpalle",
         "orientation": "v",
         "showlegend": true,
         "type": "scatter",
         "x": [
          -0.000016743089785252043
         ],
         "xaxis": "x",
         "y": [
          0.0011092333323571716
         ],
         "yaxis": "y"
        },
        {
         "hovertemplate": "Area=Vemsoor<br>Deviance Scores Amount of Fires=%{x}<br>Deviance Scores PM2.5=%{y}<extra></extra>",
         "legendgroup": "Vemsoor",
         "marker": {
          "color": "#ab63fa",
          "symbol": "circle"
         },
         "mode": "markers",
         "name": "Vemsoor",
         "orientation": "v",
         "showlegend": true,
         "type": "scatter",
         "x": [
          0.0001136294073003
         ],
         "xaxis": "x",
         "y": [
          0.0004714684234736318
         ],
         "yaxis": "y"
        },
        {
         "hovertemplate": "Area=Vemulapally<br>Deviance Scores Amount of Fires=%{x}<br>Deviance Scores PM2.5=%{y}<extra></extra>",
         "legendgroup": "Vemulapally",
         "marker": {
          "color": "#FFA15A",
          "symbol": "circle"
         },
         "mode": "markers",
         "name": "Vemulapally",
         "orientation": "v",
         "showlegend": true,
         "type": "scatter",
         "x": [
          0.00003548766770969254
         ],
         "xaxis": "x",
         "y": [
          0.0018591387685073125
         ],
         "yaxis": "y"
        },
        {
         "hovertemplate": "Area=Vemulawada<br>Deviance Scores Amount of Fires=%{x}<br>Deviance Scores PM2.5=%{y}<extra></extra>",
         "legendgroup": "Vemulawada",
         "marker": {
          "color": "#19d3f3",
          "symbol": "circle"
         },
         "mode": "markers",
         "name": "Vemulawada",
         "orientation": "v",
         "showlegend": true,
         "type": "scatter",
         "x": [
          -0.000003708860286015441
         ],
         "xaxis": "x",
         "y": [
          0.0025835546155015044
         ],
         "yaxis": "y"
        },
        {
         "hovertemplate": "Area=Vemulawada Rural<br>Deviance Scores Amount of Fires=%{x}<br>Deviance Scores PM2.5=%{y}<extra></extra>",
         "legendgroup": "Vemulawada Rural",
         "marker": {
          "color": "#FF6692",
          "symbol": "circle"
         },
         "mode": "markers",
         "name": "Vemulawada Rural",
         "orientation": "v",
         "showlegend": true,
         "type": "scatter",
         "x": [
          0.000021577828497711032
         ],
         "xaxis": "x",
         "y": [
          0.002437706378190861
         ],
         "yaxis": "y"
        },
        {
         "hovertemplate": "Area=Venkatapur<br>Deviance Scores Amount of Fires=%{x}<br>Deviance Scores PM2.5=%{y}<extra></extra>",
         "legendgroup": "Venkatapur",
         "marker": {
          "color": "#B6E880",
          "symbol": "circle"
         },
         "mode": "markers",
         "name": "Venkatapur",
         "orientation": "v",
         "showlegend": true,
         "type": "scatter",
         "x": [
          -0.0002899754989586
         ],
         "xaxis": "x",
         "y": [
          0.0010897711795419685
         ],
         "yaxis": "y"
        },
        {
         "hovertemplate": "Area=Venkatapuram<br>Deviance Scores Amount of Fires=%{x}<br>Deviance Scores PM2.5=%{y}<extra></extra>",
         "legendgroup": "Venkatapuram",
         "marker": {
          "color": "#FF97FF",
          "symbol": "circle"
         },
         "mode": "markers",
         "name": "Venkatapuram",
         "orientation": "v",
         "showlegend": true,
         "type": "scatter",
         "x": [
          0.000034237745164032744
         ],
         "xaxis": "x",
         "y": [
          0.0005839272968497331
         ],
         "yaxis": "y"
        },
        {
         "hovertemplate": "Area=Vikarabad<br>Deviance Scores Amount of Fires=%{x}<br>Deviance Scores PM2.5=%{y}<extra></extra>",
         "legendgroup": "Vikarabad",
         "marker": {
          "color": "#FECB52",
          "symbol": "circle"
         },
         "mode": "markers",
         "name": "Vikarabad",
         "orientation": "v",
         "showlegend": true,
         "type": "scatter",
         "x": [
          0.0002126004606603
         ],
         "xaxis": "x",
         "y": [
          -0.0004105598980984845
         ],
         "yaxis": "y"
        },
        {
         "hovertemplate": "Area=Waddepally<br>Deviance Scores Amount of Fires=%{x}<br>Deviance Scores PM2.5=%{y}<extra></extra>",
         "legendgroup": "Waddepally",
         "marker": {
          "color": "#636efa",
          "symbol": "circle"
         },
         "mode": "markers",
         "name": "Waddepally",
         "orientation": "v",
         "showlegend": true,
         "type": "scatter",
         "x": [
          0.00001121734702153012
         ],
         "xaxis": "x",
         "y": [
          0.0009106934480863322
         ],
         "yaxis": "y"
        },
        {
         "hovertemplate": "Area=Wanaparthy<br>Deviance Scores Amount of Fires=%{x}<br>Deviance Scores PM2.5=%{y}<extra></extra>",
         "legendgroup": "Wanaparthy",
         "marker": {
          "color": "#EF553B",
          "symbol": "circle"
         },
         "mode": "markers",
         "name": "Wanaparthy",
         "orientation": "v",
         "showlegend": true,
         "type": "scatter",
         "x": [
          -0.00005160918967488841
         ],
         "xaxis": "x",
         "y": [
          0.0006224707270256064
         ],
         "yaxis": "y"
        },
        {
         "hovertemplate": "Area=Wardhannapet<br>Deviance Scores Amount of Fires=%{x}<br>Deviance Scores PM2.5=%{y}<extra></extra>",
         "legendgroup": "Wardhannapet",
         "marker": {
          "color": "#00cc96",
          "symbol": "circle"
         },
         "mode": "markers",
         "name": "Wardhannapet",
         "orientation": "v",
         "showlegend": true,
         "type": "scatter",
         "x": [
          0.00006755184493729399
         ],
         "xaxis": "x",
         "y": [
          0.0018500905451590412
         ],
         "yaxis": "y"
        },
        {
         "hovertemplate": "Area=Wargal<br>Deviance Scores Amount of Fires=%{x}<br>Deviance Scores PM2.5=%{y}<extra></extra>",
         "legendgroup": "Wargal",
         "marker": {
          "color": "#ab63fa",
          "symbol": "circle"
         },
         "mode": "markers",
         "name": "Wargal",
         "orientation": "v",
         "showlegend": true,
         "type": "scatter",
         "x": [
          0.00002499284809832447
         ],
         "xaxis": "x",
         "y": [
          0.0002360640385276349
         ],
         "yaxis": "y"
        },
        {
         "hovertemplate": "Area=Weepangandla<br>Deviance Scores Amount of Fires=%{x}<br>Deviance Scores PM2.5=%{y}<extra></extra>",
         "legendgroup": "Weepangandla",
         "marker": {
          "color": "#FFA15A",
          "symbol": "circle"
         },
         "mode": "markers",
         "name": "Weepangandla",
         "orientation": "v",
         "showlegend": true,
         "type": "scatter",
         "x": [
          0.00005511005551190703
         ],
         "xaxis": "x",
         "y": [
          0.0009119967306709015
         ],
         "yaxis": "y"
        },
        {
         "hovertemplate": "Area=Wyra<br>Deviance Scores Amount of Fires=%{x}<br>Deviance Scores PM2.5=%{y}<extra></extra>",
         "legendgroup": "Wyra",
         "marker": {
          "color": "#19d3f3",
          "symbol": "circle"
         },
         "mode": "markers",
         "name": "Wyra",
         "orientation": "v",
         "showlegend": true,
         "type": "scatter",
         "x": [
          -0.00007989009897393401
         ],
         "xaxis": "x",
         "y": [
          0.0006469888646999801
         ],
         "yaxis": "y"
        },
        {
         "hovertemplate": "Area=Yacharam<br>Deviance Scores Amount of Fires=%{x}<br>Deviance Scores PM2.5=%{y}<extra></extra>",
         "legendgroup": "Yacharam",
         "marker": {
          "color": "#FF6692",
          "symbol": "circle"
         },
         "mode": "markers",
         "name": "Yacharam",
         "orientation": "v",
         "showlegend": true,
         "type": "scatter",
         "x": [
          0.00007473141713533371
         ],
         "xaxis": "x",
         "y": [
          -0.0002445722313716452
         ],
         "yaxis": "y"
        },
        {
         "hovertemplate": "Area=Yadagirigutta<br>Deviance Scores Amount of Fires=%{x}<br>Deviance Scores PM2.5=%{y}<extra></extra>",
         "legendgroup": "Yadagirigutta",
         "marker": {
          "color": "#B6E880",
          "symbol": "circle"
         },
         "mode": "markers",
         "name": "Yadagirigutta",
         "orientation": "v",
         "showlegend": true,
         "type": "scatter",
         "x": [
          0.00004565384143661033
         ],
         "xaxis": "x",
         "y": [
          0.0010865812836436653
         ],
         "yaxis": "y"
        },
        {
         "hovertemplate": "Area=Yelal<br>Deviance Scores Amount of Fires=%{x}<br>Deviance Scores PM2.5=%{y}<extra></extra>",
         "legendgroup": "Yelal",
         "marker": {
          "color": "#FF97FF",
          "symbol": "circle"
         },
         "mode": "markers",
         "name": "Yelal",
         "orientation": "v",
         "showlegend": true,
         "type": "scatter",
         "x": [
          -0.00001765140232484591
         ],
         "xaxis": "x",
         "y": [
          -0.00019104317815884616
         ],
         "yaxis": "y"
        },
        {
         "hovertemplate": "Area=Yeldurthy<br>Deviance Scores Amount of Fires=%{x}<br>Deviance Scores PM2.5=%{y}<extra></extra>",
         "legendgroup": "Yeldurthy",
         "marker": {
          "color": "#FECB52",
          "symbol": "circle"
         },
         "mode": "markers",
         "name": "Yeldurthy",
         "orientation": "v",
         "showlegend": true,
         "type": "scatter",
         "x": [
          -0.000006551653919199095
         ],
         "xaxis": "x",
         "y": [
          0.0007909234884890549
         ],
         "yaxis": "y"
        },
        {
         "hovertemplate": "Area=Yellandu<br>Deviance Scores Amount of Fires=%{x}<br>Deviance Scores PM2.5=%{y}<extra></extra>",
         "legendgroup": "Yellandu",
         "marker": {
          "color": "#636efa",
          "symbol": "circle"
         },
         "mode": "markers",
         "name": "Yellandu",
         "orientation": "v",
         "showlegend": true,
         "type": "scatter",
         "x": [
          -0.0007517023495366
         ],
         "xaxis": "x",
         "y": [
          0.0006881150804283792
         ],
         "yaxis": "y"
        },
        {
         "hovertemplate": "Area=Yellareddy<br>Deviance Scores Amount of Fires=%{x}<br>Deviance Scores PM2.5=%{y}<extra></extra>",
         "legendgroup": "Yellareddy",
         "marker": {
          "color": "#EF553B",
          "symbol": "circle"
         },
         "mode": "markers",
         "name": "Yellareddy",
         "orientation": "v",
         "showlegend": true,
         "type": "scatter",
         "x": [
          0.00006732244039235758
         ],
         "xaxis": "x",
         "y": [
          0.0013064623738586487
         ],
         "yaxis": "y"
        },
        {
         "hovertemplate": "Area=Yellareddypet<br>Deviance Scores Amount of Fires=%{x}<br>Deviance Scores PM2.5=%{y}<extra></extra>",
         "legendgroup": "Yellareddypet",
         "marker": {
          "color": "#00cc96",
          "symbol": "circle"
         },
         "mode": "markers",
         "name": "Yellareddypet",
         "orientation": "v",
         "showlegend": true,
         "type": "scatter",
         "x": [
          -0.00003777789360085245
         ],
         "xaxis": "x",
         "y": [
          0.0022444141280168394
         ],
         "yaxis": "y"
        },
        {
         "hovertemplate": "Area=Yerrupalem<br>Deviance Scores Amount of Fires=%{x}<br>Deviance Scores PM2.5=%{y}<extra></extra>",
         "legendgroup": "Yerrupalem",
         "marker": {
          "color": "#ab63fa",
          "symbol": "circle"
         },
         "mode": "markers",
         "name": "Yerrupalem",
         "orientation": "v",
         "showlegend": true,
         "type": "scatter",
         "x": [
          0.00003120678832632039
         ],
         "xaxis": "x",
         "y": [
          0.0008234356928039695
         ],
         "yaxis": "y"
        },
        {
         "hovertemplate": "Area=Zahirabad<br>Deviance Scores Amount of Fires=%{x}<br>Deviance Scores PM2.5=%{y}<extra></extra>",
         "legendgroup": "Zahirabad",
         "marker": {
          "color": "#FFA15A",
          "symbol": "circle"
         },
         "mode": "markers",
         "name": "Zahirabad",
         "orientation": "v",
         "showlegend": true,
         "type": "scatter",
         "x": [
          0.00004830404522869205
         ],
         "xaxis": "x",
         "y": [
          -0.00045551924738336964
         ],
         "yaxis": "y"
        },
        {
         "hovertemplate": "Area=Lingal<br>Deviance Scores Amount of Fires=%{x}<br>Deviance Scores PM2.5=%{y}<extra></extra>",
         "legendgroup": "Lingal",
         "marker": {
          "color": "#19d3f3",
          "symbol": "circle"
         },
         "mode": "markers",
         "name": "Lingal",
         "orientation": "v",
         "showlegend": true,
         "type": "scatter",
         "x": [
          0.000003978847956598705
         ],
         "xaxis": "x",
         "y": [
          0.00025648469656893596
         ],
         "yaxis": "y"
        },
        {
         "hovertemplate": "Area=Nagar_Kurnool<br>Deviance Scores Amount of Fires=%{x}<br>Deviance Scores PM2.5=%{y}<extra></extra>",
         "legendgroup": "Nagar_Kurnool",
         "marker": {
          "color": "#FF6692",
          "symbol": "circle"
         },
         "mode": "markers",
         "name": "Nagar_Kurnool",
         "orientation": "v",
         "showlegend": true,
         "type": "scatter",
         "x": [
          -0.00003529833863572416
         ],
         "xaxis": "x",
         "y": [
          0.00031716104229013
         ],
         "yaxis": "y"
        },
        {
         "hovertemplate": "Area=Mahabubnagar_Rural<br>Deviance Scores Amount of Fires=%{x}<br>Deviance Scores PM2.5=%{y}<extra></extra>",
         "legendgroup": "Mahabubnagar_Rural",
         "marker": {
          "color": "#B6E880",
          "symbol": "circle"
         },
         "mode": "markers",
         "name": "Mahabubnagar_Rural",
         "orientation": "v",
         "showlegend": true,
         "type": "scatter",
         "x": [
          -0.00003341489273144599
         ],
         "xaxis": "x",
         "y": [
          0.0003007807389743872
         ],
         "yaxis": "y"
        },
        {
         "hovertemplate": "Area=Utkoor<br>Deviance Scores Amount of Fires=%{x}<br>Deviance Scores PM2.5=%{y}<extra></extra>",
         "legendgroup": "Utkoor",
         "marker": {
          "color": "#FF97FF",
          "symbol": "circle"
         },
         "mode": "markers",
         "name": "Utkoor",
         "orientation": "v",
         "showlegend": true,
         "type": "scatter",
         "x": [
          0.000008209960543172005
         ],
         "xaxis": "x",
         "y": [
          0.00045199312363687513
         ],
         "yaxis": "y"
        },
        {
         "hovertemplate": "Area=Jinnaram<br>Deviance Scores Amount of Fires=%{x}<br>Deviance Scores PM2.5=%{y}<extra></extra>",
         "legendgroup": "Jinnaram",
         "marker": {
          "color": "#FECB52",
          "symbol": "circle"
         },
         "mode": "markers",
         "name": "Jinnaram",
         "orientation": "v",
         "showlegend": true,
         "type": "scatter",
         "x": [
          0.0001156977415006
         ],
         "xaxis": "x",
         "y": [
          0.00020451901091862488
         ],
         "yaxis": "y"
        },
        {
         "hovertemplate": "Area=Toopran<br>Deviance Scores Amount of Fires=%{x}<br>Deviance Scores PM2.5=%{y}<extra></extra>",
         "legendgroup": "Toopran",
         "marker": {
          "color": "#636efa",
          "symbol": "circle"
         },
         "mode": "markers",
         "name": "Toopran",
         "orientation": "v",
         "showlegend": true,
         "type": "scatter",
         "x": [
          0.00008986369818928413
         ],
         "xaxis": "x",
         "y": [
          0.0004438729879585144
         ],
         "yaxis": "y"
        },
        {
         "hovertemplate": "Area=Manoharabad<br>Deviance Scores Amount of Fires=%{x}<br>Deviance Scores PM2.5=%{y}<extra></extra>",
         "legendgroup": "Manoharabad",
         "marker": {
          "color": "#EF553B",
          "symbol": "circle"
         },
         "mode": "markers",
         "name": "Manoharabad",
         "orientation": "v",
         "showlegend": true,
         "type": "scatter",
         "x": [
          0.0001170263993314
         ],
         "xaxis": "x",
         "y": [
          0.00020175136611602914
         ],
         "yaxis": "y"
        },
        {
         "hovertemplate": "Area=Chilipched<br>Deviance Scores Amount of Fires=%{x}<br>Deviance Scores PM2.5=%{y}<extra></extra>",
         "legendgroup": "Chilipched",
         "marker": {
          "color": "#00cc96",
          "symbol": "circle"
         },
         "mode": "markers",
         "name": "Chilipched",
         "orientation": "v",
         "showlegend": true,
         "type": "scatter",
         "x": [
          0.0000830196138988522
         ],
         "xaxis": "x",
         "y": [
          0.0008252129290386732
         ],
         "yaxis": "y"
        },
        {
         "hovertemplate": "Area=Chegunta<br>Deviance Scores Amount of Fires=%{x}<br>Deviance Scores PM2.5=%{y}<extra></extra>",
         "legendgroup": "Chegunta",
         "marker": {
          "color": "#ab63fa",
          "symbol": "circle"
         },
         "mode": "markers",
         "name": "Chegunta",
         "orientation": "v",
         "showlegend": true,
         "type": "scatter",
         "x": [
          -0.000013338207270728364
         ],
         "xaxis": "x",
         "y": [
          0.0008254496866177398
         ],
         "yaxis": "y"
        },
        {
         "hovertemplate": "Area=Pitlam<br>Deviance Scores Amount of Fires=%{x}<br>Deviance Scores PM2.5=%{y}<extra></extra>",
         "legendgroup": "Pitlam",
         "marker": {
          "color": "#FFA15A",
          "symbol": "circle"
         },
         "mode": "markers",
         "name": "Pitlam",
         "orientation": "v",
         "showlegend": true,
         "type": "scatter",
         "x": [
          -0.000014473213818239015
         ],
         "xaxis": "x",
         "y": [
          0.001845782468359851
         ],
         "yaxis": "y"
        },
        {
         "hovertemplate": "Area=Bichkunda<br>Deviance Scores Amount of Fires=%{x}<br>Deviance Scores PM2.5=%{y}<extra></extra>",
         "legendgroup": "Bichkunda",
         "marker": {
          "color": "#19d3f3",
          "symbol": "circle"
         },
         "mode": "markers",
         "name": "Bichkunda",
         "orientation": "v",
         "showlegend": true,
         "type": "scatter",
         "x": [
          0.0001965809781824
         ],
         "xaxis": "x",
         "y": [
          0.0018096364681089569
         ],
         "yaxis": "y"
        },
        {
         "hovertemplate": "Area=Wazeed<br>Deviance Scores Amount of Fires=%{x}<br>Deviance Scores PM2.5=%{y}<extra></extra>",
         "legendgroup": "Wazeed",
         "marker": {
          "color": "#FF6692",
          "symbol": "circle"
         },
         "mode": "markers",
         "name": "Wazeed",
         "orientation": "v",
         "showlegend": true,
         "type": "scatter",
         "x": [
          0.00009368283011242696
         ],
         "xaxis": "x",
         "y": [
          0.0006576598858508027
         ],
         "yaxis": "y"
        },
        {
         "hovertemplate": "Area=Kammarpally<br>Deviance Scores Amount of Fires=%{x}<br>Deviance Scores PM2.5=%{y}<extra></extra>",
         "legendgroup": "Kammarpally",
         "marker": {
          "color": "#B6E880",
          "symbol": "circle"
         },
         "mode": "markers",
         "name": "Kammarpally",
         "orientation": "v",
         "showlegend": true,
         "type": "scatter",
         "x": [
          0.00009587713600607523
         ],
         "xaxis": "x",
         "y": [
          0.002436694478211795
         ],
         "yaxis": "y"
        },
        {
         "hovertemplate": "Area=Kodakandla<br>Deviance Scores Amount of Fires=%{x}<br>Deviance Scores PM2.5=%{y}<extra></extra>",
         "legendgroup": "Kodakandla",
         "marker": {
          "color": "#FF97FF",
          "symbol": "circle"
         },
         "mode": "markers",
         "name": "Kodakandla",
         "orientation": "v",
         "showlegend": true,
         "type": "scatter",
         "x": [
          0.00005820167199767963
         ],
         "xaxis": "x",
         "y": [
          0.001957978818223857
         ],
         "yaxis": "y"
        },
        {
         "hovertemplate": "Area=Krishna<br>Deviance Scores Amount of Fires=%{x}<br>Deviance Scores PM2.5=%{y}<extra></extra>",
         "legendgroup": "Krishna",
         "marker": {
          "color": "#FECB52",
          "symbol": "circle"
         },
         "mode": "markers",
         "name": "Krishna",
         "orientation": "v",
         "showlegend": true,
         "type": "scatter",
         "x": [
          0.0003471722865735
         ],
         "xaxis": "x",
         "y": [
          0.0008500650524661095
         ],
         "yaxis": "y"
        },
        {
         "hovertemplate": "Area=Kotapalle<br>Deviance Scores Amount of Fires=%{x}<br>Deviance Scores PM2.5=%{y}<extra></extra>",
         "legendgroup": "Kotapalle",
         "marker": {
          "color": "#636efa",
          "symbol": "circle"
         },
         "mode": "markers",
         "name": "Kotapalle",
         "orientation": "v",
         "showlegend": true,
         "type": "scatter",
         "x": [
          -0.000007279913867332112
         ],
         "xaxis": "x",
         "y": [
          0.0011321465542763979
         ],
         "yaxis": "y"
        },
        {
         "hovertemplate": "Area=Nadikuda<br>Deviance Scores Amount of Fires=%{x}<br>Deviance Scores PM2.5=%{y}<extra></extra>",
         "legendgroup": "Nadikuda",
         "marker": {
          "color": "#EF553B",
          "symbol": "circle"
         },
         "mode": "markers",
         "name": "Nadikuda",
         "orientation": "v",
         "showlegend": true,
         "type": "scatter",
         "x": [
          -0.000021679943399377227
         ],
         "xaxis": "x",
         "y": [
          0.0014416564265650417
         ],
         "yaxis": "y"
        },
        {
         "hovertemplate": "Area=Muduchinthalaphally<br>Deviance Scores Amount of Fires=%{x}<br>Deviance Scores PM2.5=%{y}<extra></extra>",
         "legendgroup": "Muduchinthalaphally",
         "marker": {
          "color": "#00cc96",
          "symbol": "circle"
         },
         "mode": "markers",
         "name": "Muduchinthalaphally",
         "orientation": "v",
         "showlegend": true,
         "type": "scatter",
         "x": [
          -0.000005828043491896871
         ],
         "xaxis": "x",
         "y": [
          0.00013321407370903103
         ],
         "yaxis": "y"
        },
        {
         "hovertemplate": "Area=Mosra<br>Deviance Scores Amount of Fires=%{x}<br>Deviance Scores PM2.5=%{y}<extra></extra>",
         "legendgroup": "Mosra",
         "marker": {
          "color": "#ab63fa",
          "symbol": "circle"
         },
         "mode": "markers",
         "name": "Mosra",
         "orientation": "v",
         "showlegend": true,
         "type": "scatter",
         "x": [
          0.0002073378926503
         ],
         "xaxis": "x",
         "y": [
          0.001393219174737465
         ],
         "yaxis": "y"
        },
        {
         "hovertemplate": "Area=Chandur<br>Deviance Scores Amount of Fires=%{x}<br>Deviance Scores PM2.5=%{y}<extra></extra>",
         "legendgroup": "Chandur",
         "marker": {
          "color": "#FFA15A",
          "symbol": "circle"
         },
         "mode": "markers",
         "name": "Chandur",
         "orientation": "v",
         "showlegend": true,
         "type": "scatter",
         "x": [
          0.0002773914951437
         ],
         "xaxis": "x",
         "y": [
          0.0022083454068297062
         ],
         "yaxis": "y"
        },
        {
         "hovertemplate": "Area=Chowtakur<br>Deviance Scores Amount of Fires=%{x}<br>Deviance Scores PM2.5=%{y}<extra></extra>",
         "legendgroup": "Chowtakur",
         "marker": {
          "color": "#19d3f3",
          "symbol": "circle"
         },
         "mode": "markers",
         "name": "Chowtakur",
         "orientation": "v",
         "showlegend": true,
         "type": "scatter",
         "x": [
          0.0002116498913355
         ],
         "xaxis": "x",
         "y": [
          0.0007092184344245526
         ],
         "yaxis": "y"
        }
       ],
       "layout": {
        "legend": {
         "title": {
          "text": "Area"
         },
         "tracegroupgap": 0
        },
        "template": {
         "data": {
          "bar": [
           {
            "error_x": {
             "color": "#2a3f5f"
            },
            "error_y": {
             "color": "#2a3f5f"
            },
            "marker": {
             "line": {
              "color": "#E5ECF6",
              "width": 0.5
             },
             "pattern": {
              "fillmode": "overlay",
              "size": 10,
              "solidity": 0.2
             }
            },
            "type": "bar"
           }
          ],
          "barpolar": [
           {
            "marker": {
             "line": {
              "color": "#E5ECF6",
              "width": 0.5
             },
             "pattern": {
              "fillmode": "overlay",
              "size": 10,
              "solidity": 0.2
             }
            },
            "type": "barpolar"
           }
          ],
          "carpet": [
           {
            "aaxis": {
             "endlinecolor": "#2a3f5f",
             "gridcolor": "white",
             "linecolor": "white",
             "minorgridcolor": "white",
             "startlinecolor": "#2a3f5f"
            },
            "baxis": {
             "endlinecolor": "#2a3f5f",
             "gridcolor": "white",
             "linecolor": "white",
             "minorgridcolor": "white",
             "startlinecolor": "#2a3f5f"
            },
            "type": "carpet"
           }
          ],
          "choropleth": [
           {
            "colorbar": {
             "outlinewidth": 0,
             "ticks": ""
            },
            "type": "choropleth"
           }
          ],
          "contour": [
           {
            "colorbar": {
             "outlinewidth": 0,
             "ticks": ""
            },
            "colorscale": [
             [
              0,
              "#0d0887"
             ],
             [
              0.1111111111111111,
              "#46039f"
             ],
             [
              0.2222222222222222,
              "#7201a8"
             ],
             [
              0.3333333333333333,
              "#9c179e"
             ],
             [
              0.4444444444444444,
              "#bd3786"
             ],
             [
              0.5555555555555556,
              "#d8576b"
             ],
             [
              0.6666666666666666,
              "#ed7953"
             ],
             [
              0.7777777777777778,
              "#fb9f3a"
             ],
             [
              0.8888888888888888,
              "#fdca26"
             ],
             [
              1,
              "#f0f921"
             ]
            ],
            "type": "contour"
           }
          ],
          "contourcarpet": [
           {
            "colorbar": {
             "outlinewidth": 0,
             "ticks": ""
            },
            "type": "contourcarpet"
           }
          ],
          "heatmap": [
           {
            "colorbar": {
             "outlinewidth": 0,
             "ticks": ""
            },
            "colorscale": [
             [
              0,
              "#0d0887"
             ],
             [
              0.1111111111111111,
              "#46039f"
             ],
             [
              0.2222222222222222,
              "#7201a8"
             ],
             [
              0.3333333333333333,
              "#9c179e"
             ],
             [
              0.4444444444444444,
              "#bd3786"
             ],
             [
              0.5555555555555556,
              "#d8576b"
             ],
             [
              0.6666666666666666,
              "#ed7953"
             ],
             [
              0.7777777777777778,
              "#fb9f3a"
             ],
             [
              0.8888888888888888,
              "#fdca26"
             ],
             [
              1,
              "#f0f921"
             ]
            ],
            "type": "heatmap"
           }
          ],
          "heatmapgl": [
           {
            "colorbar": {
             "outlinewidth": 0,
             "ticks": ""
            },
            "colorscale": [
             [
              0,
              "#0d0887"
             ],
             [
              0.1111111111111111,
              "#46039f"
             ],
             [
              0.2222222222222222,
              "#7201a8"
             ],
             [
              0.3333333333333333,
              "#9c179e"
             ],
             [
              0.4444444444444444,
              "#bd3786"
             ],
             [
              0.5555555555555556,
              "#d8576b"
             ],
             [
              0.6666666666666666,
              "#ed7953"
             ],
             [
              0.7777777777777778,
              "#fb9f3a"
             ],
             [
              0.8888888888888888,
              "#fdca26"
             ],
             [
              1,
              "#f0f921"
             ]
            ],
            "type": "heatmapgl"
           }
          ],
          "histogram": [
           {
            "marker": {
             "pattern": {
              "fillmode": "overlay",
              "size": 10,
              "solidity": 0.2
             }
            },
            "type": "histogram"
           }
          ],
          "histogram2d": [
           {
            "colorbar": {
             "outlinewidth": 0,
             "ticks": ""
            },
            "colorscale": [
             [
              0,
              "#0d0887"
             ],
             [
              0.1111111111111111,
              "#46039f"
             ],
             [
              0.2222222222222222,
              "#7201a8"
             ],
             [
              0.3333333333333333,
              "#9c179e"
             ],
             [
              0.4444444444444444,
              "#bd3786"
             ],
             [
              0.5555555555555556,
              "#d8576b"
             ],
             [
              0.6666666666666666,
              "#ed7953"
             ],
             [
              0.7777777777777778,
              "#fb9f3a"
             ],
             [
              0.8888888888888888,
              "#fdca26"
             ],
             [
              1,
              "#f0f921"
             ]
            ],
            "type": "histogram2d"
           }
          ],
          "histogram2dcontour": [
           {
            "colorbar": {
             "outlinewidth": 0,
             "ticks": ""
            },
            "colorscale": [
             [
              0,
              "#0d0887"
             ],
             [
              0.1111111111111111,
              "#46039f"
             ],
             [
              0.2222222222222222,
              "#7201a8"
             ],
             [
              0.3333333333333333,
              "#9c179e"
             ],
             [
              0.4444444444444444,
              "#bd3786"
             ],
             [
              0.5555555555555556,
              "#d8576b"
             ],
             [
              0.6666666666666666,
              "#ed7953"
             ],
             [
              0.7777777777777778,
              "#fb9f3a"
             ],
             [
              0.8888888888888888,
              "#fdca26"
             ],
             [
              1,
              "#f0f921"
             ]
            ],
            "type": "histogram2dcontour"
           }
          ],
          "mesh3d": [
           {
            "colorbar": {
             "outlinewidth": 0,
             "ticks": ""
            },
            "type": "mesh3d"
           }
          ],
          "parcoords": [
           {
            "line": {
             "colorbar": {
              "outlinewidth": 0,
              "ticks": ""
             }
            },
            "type": "parcoords"
           }
          ],
          "pie": [
           {
            "automargin": true,
            "type": "pie"
           }
          ],
          "scatter": [
           {
            "marker": {
             "colorbar": {
              "outlinewidth": 0,
              "ticks": ""
             }
            },
            "type": "scatter"
           }
          ],
          "scatter3d": [
           {
            "line": {
             "colorbar": {
              "outlinewidth": 0,
              "ticks": ""
             }
            },
            "marker": {
             "colorbar": {
              "outlinewidth": 0,
              "ticks": ""
             }
            },
            "type": "scatter3d"
           }
          ],
          "scattercarpet": [
           {
            "marker": {
             "colorbar": {
              "outlinewidth": 0,
              "ticks": ""
             }
            },
            "type": "scattercarpet"
           }
          ],
          "scattergeo": [
           {
            "marker": {
             "colorbar": {
              "outlinewidth": 0,
              "ticks": ""
             }
            },
            "type": "scattergeo"
           }
          ],
          "scattergl": [
           {
            "marker": {
             "colorbar": {
              "outlinewidth": 0,
              "ticks": ""
             }
            },
            "type": "scattergl"
           }
          ],
          "scattermapbox": [
           {
            "marker": {
             "colorbar": {
              "outlinewidth": 0,
              "ticks": ""
             }
            },
            "type": "scattermapbox"
           }
          ],
          "scatterpolar": [
           {
            "marker": {
             "colorbar": {
              "outlinewidth": 0,
              "ticks": ""
             }
            },
            "type": "scatterpolar"
           }
          ],
          "scatterpolargl": [
           {
            "marker": {
             "colorbar": {
              "outlinewidth": 0,
              "ticks": ""
             }
            },
            "type": "scatterpolargl"
           }
          ],
          "scatterternary": [
           {
            "marker": {
             "colorbar": {
              "outlinewidth": 0,
              "ticks": ""
             }
            },
            "type": "scatterternary"
           }
          ],
          "surface": [
           {
            "colorbar": {
             "outlinewidth": 0,
             "ticks": ""
            },
            "colorscale": [
             [
              0,
              "#0d0887"
             ],
             [
              0.1111111111111111,
              "#46039f"
             ],
             [
              0.2222222222222222,
              "#7201a8"
             ],
             [
              0.3333333333333333,
              "#9c179e"
             ],
             [
              0.4444444444444444,
              "#bd3786"
             ],
             [
              0.5555555555555556,
              "#d8576b"
             ],
             [
              0.6666666666666666,
              "#ed7953"
             ],
             [
              0.7777777777777778,
              "#fb9f3a"
             ],
             [
              0.8888888888888888,
              "#fdca26"
             ],
             [
              1,
              "#f0f921"
             ]
            ],
            "type": "surface"
           }
          ],
          "table": [
           {
            "cells": {
             "fill": {
              "color": "#EBF0F8"
             },
             "line": {
              "color": "white"
             }
            },
            "header": {
             "fill": {
              "color": "#C8D4E3"
             },
             "line": {
              "color": "white"
             }
            },
            "type": "table"
           }
          ]
         },
         "layout": {
          "annotationdefaults": {
           "arrowcolor": "#2a3f5f",
           "arrowhead": 0,
           "arrowwidth": 1
          },
          "autotypenumbers": "strict",
          "coloraxis": {
           "colorbar": {
            "outlinewidth": 0,
            "ticks": ""
           }
          },
          "colorscale": {
           "diverging": [
            [
             0,
             "#8e0152"
            ],
            [
             0.1,
             "#c51b7d"
            ],
            [
             0.2,
             "#de77ae"
            ],
            [
             0.3,
             "#f1b6da"
            ],
            [
             0.4,
             "#fde0ef"
            ],
            [
             0.5,
             "#f7f7f7"
            ],
            [
             0.6,
             "#e6f5d0"
            ],
            [
             0.7,
             "#b8e186"
            ],
            [
             0.8,
             "#7fbc41"
            ],
            [
             0.9,
             "#4d9221"
            ],
            [
             1,
             "#276419"
            ]
           ],
           "sequential": [
            [
             0,
             "#0d0887"
            ],
            [
             0.1111111111111111,
             "#46039f"
            ],
            [
             0.2222222222222222,
             "#7201a8"
            ],
            [
             0.3333333333333333,
             "#9c179e"
            ],
            [
             0.4444444444444444,
             "#bd3786"
            ],
            [
             0.5555555555555556,
             "#d8576b"
            ],
            [
             0.6666666666666666,
             "#ed7953"
            ],
            [
             0.7777777777777778,
             "#fb9f3a"
            ],
            [
             0.8888888888888888,
             "#fdca26"
            ],
            [
             1,
             "#f0f921"
            ]
           ],
           "sequentialminus": [
            [
             0,
             "#0d0887"
            ],
            [
             0.1111111111111111,
             "#46039f"
            ],
            [
             0.2222222222222222,
             "#7201a8"
            ],
            [
             0.3333333333333333,
             "#9c179e"
            ],
            [
             0.4444444444444444,
             "#bd3786"
            ],
            [
             0.5555555555555556,
             "#d8576b"
            ],
            [
             0.6666666666666666,
             "#ed7953"
            ],
            [
             0.7777777777777778,
             "#fb9f3a"
            ],
            [
             0.8888888888888888,
             "#fdca26"
            ],
            [
             1,
             "#f0f921"
            ]
           ]
          },
          "colorway": [
           "#636efa",
           "#EF553B",
           "#00cc96",
           "#ab63fa",
           "#FFA15A",
           "#19d3f3",
           "#FF6692",
           "#B6E880",
           "#FF97FF",
           "#FECB52"
          ],
          "font": {
           "color": "#2a3f5f"
          },
          "geo": {
           "bgcolor": "white",
           "lakecolor": "white",
           "landcolor": "#E5ECF6",
           "showlakes": true,
           "showland": true,
           "subunitcolor": "white"
          },
          "hoverlabel": {
           "align": "left"
          },
          "hovermode": "closest",
          "mapbox": {
           "style": "light"
          },
          "paper_bgcolor": "white",
          "plot_bgcolor": "#E5ECF6",
          "polar": {
           "angularaxis": {
            "gridcolor": "white",
            "linecolor": "white",
            "ticks": ""
           },
           "bgcolor": "#E5ECF6",
           "radialaxis": {
            "gridcolor": "white",
            "linecolor": "white",
            "ticks": ""
           }
          },
          "scene": {
           "xaxis": {
            "backgroundcolor": "#E5ECF6",
            "gridcolor": "white",
            "gridwidth": 2,
            "linecolor": "white",
            "showbackground": true,
            "ticks": "",
            "zerolinecolor": "white"
           },
           "yaxis": {
            "backgroundcolor": "#E5ECF6",
            "gridcolor": "white",
            "gridwidth": 2,
            "linecolor": "white",
            "showbackground": true,
            "ticks": "",
            "zerolinecolor": "white"
           },
           "zaxis": {
            "backgroundcolor": "#E5ECF6",
            "gridcolor": "white",
            "gridwidth": 2,
            "linecolor": "white",
            "showbackground": true,
            "ticks": "",
            "zerolinecolor": "white"
           }
          },
          "shapedefaults": {
           "line": {
            "color": "#2a3f5f"
           }
          },
          "ternary": {
           "aaxis": {
            "gridcolor": "white",
            "linecolor": "white",
            "ticks": ""
           },
           "baxis": {
            "gridcolor": "white",
            "linecolor": "white",
            "ticks": ""
           },
           "bgcolor": "#E5ECF6",
           "caxis": {
            "gridcolor": "white",
            "linecolor": "white",
            "ticks": ""
           }
          },
          "title": {
           "x": 0.05
          },
          "xaxis": {
           "automargin": true,
           "gridcolor": "white",
           "linecolor": "white",
           "ticks": "",
           "title": {
            "standoff": 15
           },
           "zerolinecolor": "white",
           "zerolinewidth": 2
          },
          "yaxis": {
           "automargin": true,
           "gridcolor": "white",
           "linecolor": "white",
           "ticks": "",
           "title": {
            "standoff": 15
           },
           "zerolinecolor": "white",
           "zerolinewidth": 2
          }
         }
        },
        "title": {
         "text": "Relation Between PM2.5 and Amount of Fires Changes over the Years 2015-2020"
        },
        "xaxis": {
         "anchor": "y",
         "domain": [
          0,
          1
         ],
         "title": {
          "text": "Deviance Scores Amount of Fires"
         }
        },
        "yaxis": {
         "anchor": "x",
         "domain": [
          0,
          1
         ],
         "title": {
          "text": "Deviance Scores PM2.5"
         }
        }
       }
      }
     },
     "metadata": {},
     "output_type": "display_data"
    },
    {
     "name": "stdout",
     "output_type": "stream",
     "text": [
      "Pearsons correlation: 0.204\n"
     ]
    },
    {
     "data": {
      "text/plain": [
       "()"
      ]
     },
     "execution_count": 20,
     "metadata": {},
     "output_type": "execute_result"
    }
   ],
   "source": [
    "os.chdir('c:\\\\Users\\\\Jesse\\\\OneDrive\\\\Documenten\\\\Master BAOR\\\\Thesis\\\\GitHub\\\\dicra\\\\analytics\\\\notebooks\\\\crop_fires\\\\DPPD_Jesse\\\\PM2.5')\n",
    "PM_df = pd.read_csv('PM_years_mandal.csv', index_col=0)\n",
    "correlation(PM_df, 2020, 'PM2.5', mandal_boundaries, 'Mandal_Nam')"
   ]
  }
 ],
 "metadata": {
  "kernelspec": {
   "display_name": "Python 3.8.11 ('gurobi')",
   "language": "python",
   "name": "python3"
  },
  "language_info": {
   "codemirror_mode": {
    "name": "ipython",
    "version": 3
   },
   "file_extension": ".py",
   "mimetype": "text/x-python",
   "name": "python",
   "nbconvert_exporter": "python",
   "pygments_lexer": "ipython3",
   "version": "3.8.11"
  },
  "orig_nbformat": 4,
  "vscode": {
   "interpreter": {
    "hash": "8137cca2c96495771a6332c43a92746d2e8f2f032dec7e1d4873522724197fcb"
   }
  }
 },
 "nbformat": 4,
 "nbformat_minor": 2
}
