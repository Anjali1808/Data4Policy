{
 "cells": [
  {
   "cell_type": "code",
   "execution_count": 2,
   "metadata": {},
   "outputs": [],
   "source": [
    "import pandas as pd\n",
    "import os\n",
    "import geopandas as gpd\n",
    "import geoplot\n",
    "import geoplot.crs as gcrs\n",
    "import matplotlib.pyplot as plt\n",
    "import rasterio\n",
    "from statsmodels.tsa.seasonal import STL\n",
    "import numpy as np\n",
    "from sklearn.linear_model import LinearRegression\n",
    "import datetime as dt\n",
    "from matplotlib.colors import TwoSlopeNorm\n",
    "import time\n",
    "from rasterstats import zonal_stats\n",
    "from scipy.stats import pearsonr\n",
    "import plotly.express as px"
   ]
  },
  {
   "cell_type": "code",
   "execution_count": 3,
   "metadata": {},
   "outputs": [],
   "source": [
    "os.chdir('c:\\\\Users\\\\Jesse\\\\OneDrive\\\\Documenten\\\\Master BAOR\\\\Thesis\\\\GitHub\\\\dicra\\\\analytics\\\\notebooks\\\\crop_fires\\\\Mandal_boundaries_pre')\n",
    "mandal_boundaries = gpd.read_file('mandal_boundaries.shp')\n",
    "mandal_boundaries = mandal_boundaries.reset_index()\n",
    "\n",
    "os.chdir('c:\\\\Users\\\\Jesse\\\\OneDrive\\\\Documenten\\\\Master BAOR\\\\Thesis\\\\GitHub\\\\dicra\\\\src\\\\data_preprocessing\\\\tsdm\\\\')\n",
    "district_boundaries = gpd.read_file('District_Boundary.shp')\n",
    "district_boundaries = district_boundaries.reset_index()\n"
   ]
  },
  {
   "cell_type": "code",
   "execution_count": 4,
   "metadata": {},
   "outputs": [],
   "source": [
    "def Trend_Score(df, index:int): \n",
    "    \"\"\"Determines the trend score of a polygon it takes as input a dataframe that counts the fires per region per month and the index of a specific region and returns \n",
    "    the deviance score of that particular region\"\"\"\n",
    "    df_selected = df[['ModifiedDateTime', index]]\n",
    "    df_selected = df_selected.sort_values(by=['ModifiedDateTime'])\n",
    "    df_selected.index = df_selected['ModifiedDateTime']\n",
    "\n",
    "    if not df_selected.empty:\n",
    "\n",
    "        X = df_selected[index]\n",
    "\n",
    "        #Decompose using STL Seasonal-Trend Decomposition using LOESS\n",
    "        stl = STL(X, seasonal=7)\n",
    "        res = stl.fit()\n",
    "\n",
    "        df_trend = res.trend.to_frame().reset_index().dropna()\n",
    "\n",
    "        #Date needs to be converted to a numerical value\n",
    "        df_trend['ModifiedDateTime_num'] = df_trend['ModifiedDateTime'].map(dt.datetime.toordinal)\n",
    "\n",
    "        #Set the data in the right format for Linear Regression\n",
    "        X = np.array(df_trend['ModifiedDateTime_num'])\n",
    "        X = X.reshape(-1, 1)\n",
    "        y = np.array(df_trend['trend'])\n",
    "        y = y.reshape(-1, 1)\n",
    "\n",
    "        #Perform Linear Regression and obtain the slope\n",
    "        reg = LinearRegression().fit(X, y)\n",
    "        y_pred_trend = reg.predict(X)\n",
    "        slope, intercept = np.polyfit(np.array(df_trend['ModifiedDateTime_num']), y_pred_trend,1)\n",
    "        line_slope = slope[0]\n",
    "\n",
    "    else:\n",
    "        #If the dataframe is empty there are no fires in that region at all, also no slope line. We are not interested in these regions.\n",
    "        line_slope = 'Unknown'\n",
    "\n",
    "    return(line_slope)"
   ]
  },
  {
   "cell_type": "code",
   "execution_count": 31,
   "metadata": {},
   "outputs": [],
   "source": [
    "def correlation(data, endyear, name, boundaries, col_name):\n",
    "    data['ModifiedDateTime'] = pd.to_datetime(data['ModifiedDateTime'])\n",
    "    data = data[data['ModifiedDateTime']<str(endyear+1)+'-01-01']\n",
    "\n",
    "    #We will loop over all boundaries and calculate it's deviant score\n",
    "    ids= []\n",
    "    scores = []\n",
    "\n",
    "    for i in data.columns[1:-1]:\n",
    "        ids.append(i)\n",
    "        #We use the previously defined function in order to calculate the trend score per specific area\n",
    "        score = Trend_Score(data, i)\n",
    "        scores.append(score)\n",
    "\n",
    "    #Create a Dataframe from the scores\n",
    "    DPPD_df = pd.DataFrame({'index': ids, 'Slope Score': scores}) \n",
    "\n",
    "    #Only select the regions that do not have unknown scores\n",
    "    DPPD_df = DPPD_df[DPPD_df['Slope Score'] != 'Unknown']\n",
    "\n",
    "    DPPD_df['index'] = DPPD_df['index'].astype(int)\n",
    "\n",
    "    #We merge the dataframe with the boundaries dataframe such that we have the geometry variable\n",
    "    DPPD_df = DPPD_df.merge(boundaries[['index', 'geometry']], how='left', on=['index'])\n",
    "\n",
    "    #Making sure data has the right type\n",
    "    DPPD_df = gpd.GeoDataFrame(DPPD_df, geometry = DPPD_df.geometry, crs = {'init': 'epsg:4326'}) \n",
    "    DPPD_df['Slope Score'] = DPPD_df['Slope Score'].astype('float')\n",
    "\n",
    "    if col_name == 'Dist_Name':\n",
    "        word = 'district level'\n",
    "    else:\n",
    "        word = 'mandal level'\n",
    "\n",
    "    #Define text for the plots\n",
    "    text = 'Changes ' + name + ' 2015-'+ str(endyear) + ' ' + word\n",
    "    ranges = max(abs(DPPD_df['Slope Score'].min()), (DPPD_df['Slope Score'].max()))\n",
    "    vmin, vmax, vcenter = ranges*-1 , ranges, 0\n",
    "    norm = TwoSlopeNorm(vmin= vmin , vcenter=vcenter, vmax= vmax) \n",
    "    # create a normalized colorbar\n",
    "    cmap = 'RdYlGn_r'\n",
    "    cbar = plt.cm.ScalarMappable(norm=norm, cmap=cmap)\n",
    "    DPPD_df.plot(column = 'Slope Score', \n",
    "                        legend = True, \n",
    "                        figsize = [20,10],\\\n",
    "                        legend_kwds = {'label': 'Deviance'}, \n",
    "                        cmap = 'RdYlGn_r',\n",
    "                        norm = norm)\n",
    "    plt.title(text)\n",
    "    os.chdir('c:\\\\Users\\\\Jesse\\\\OneDrive\\\\Documenten\\\\Master BAOR\\\\Thesis\\\\GitHub\\\\dicra\\\\analytics\\\\notebooks\\\\crop_fires\\\\DPPD_Jesse\\\\'+name+'\\\\result')\n",
    "    plt.savefig(text + '.png', bbox_inches='tight')\n",
    "    plt.show()\n",
    "\n",
    "    os.chdir('c:\\\\Users\\\\Jesse\\\\OneDrive\\\\Documenten\\\\Master BAOR\\\\Thesis\\\\GitHub\\\\dicra\\\\analytics\\\\notebooks\\\\crop_fires\\\\DPPD_Jesse\\\\Fires\\\\results')\n",
    "    DPPD_Fires = pd.read_csv('DPPD_Fires_'+str(endyear)+'.csv', index_col = 0)\n",
    "    DPPD_Fires.columns = ['index', 'Slope Score Fires', 'geometry']\n",
    "\n",
    "    Corr = DPPD_Fires.merge(DPPD_df[['Slope Score', 'index']], how = 'left', on = ['index'])\n",
    "    Corr = Corr.merge(boundaries[['index', col_name]], how = 'left', on = ['index'])\n",
    "    Corr = Corr.dropna()\n",
    "\n",
    "    fig = px.scatter(x=Corr['Slope Score Fires'], y=Corr['Slope Score'], color = Corr[col_name], title = 'Relation Between ' + name + ' and Amount of Fires Changes over the Years 2015-'+str(endyear),\n",
    "                    labels={\n",
    "                     \"x\": \"Deviance Scores Amount of Fires\",\n",
    "                     \"y\": \"Deviance Scores \" + name,\n",
    "                     \"color\": \"Area\"\n",
    "                 },)\n",
    "    fig.show()\n",
    "    os.chdir('c:\\\\Users\\\\Jesse\\\\OneDrive\\\\Documenten\\\\Master BAOR\\\\Thesis\\\\GitHub\\\\dicra\\\\analytics\\\\notebooks\\\\crop_fires\\\\DPPD_Jesse\\\\'+name+'\\\\result')\n",
    "    fig.write_image('Relation between '+ name +' and Fires Changes ' + word + '.png')\n",
    "    #plt.scatter(Corr['Slope Score Fires'], Corr['Slope Score'])\n",
    "    #plt.title('Relation Between ' + name + ' and Amount of Fires Changes over the Years 2015-'+str(endyear))\n",
    "    #plt.xlabel('Deviance Score Fires')\n",
    "    #plt.ylabel('Deviance Score '+name)\n",
    "    #os.chdir('c:\\\\Users\\\\Jesse\\\\OneDrive\\\\Documenten\\\\Master BAOR\\\\Thesis\\\\GitHub\\\\dicra\\\\analytics\\\\notebooks\\\\crop_fires\\\\DPPD_Jesse\\\\'+name+'\\\\result')\n",
    "    #plt.savefig('Relation between '+ name +' and Fires Changes.png', bbox_inches='tight')\n",
    "    #plt.show()\n",
    "\n",
    "    corr, _ = pearsonr(Corr['Slope Score Fires'], Corr['Slope Score'])\n",
    "    print('Pearsons correlation: %.3f' % corr)\n",
    "    return()"
   ]
  },
  {
   "cell_type": "code",
   "execution_count": null,
   "metadata": {},
   "outputs": [
    {
     "name": "stderr",
     "output_type": "stream",
     "text": [
      "c:\\Users\\Jesse\\Anaconda3\\envs\\gurobi\\lib\\site-packages\\geopandas\\geodataframe.py:1322: SettingWithCopyWarning: \n",
      "A value is trying to be set on a copy of a slice from a DataFrame.\n",
      "Try using .loc[row_indexer,col_indexer] = value instead\n",
      "\n",
      "See the caveats in the documentation: https://pandas.pydata.org/pandas-docs/stable/user_guide/indexing.html#returning-a-view-versus-a-copy\n",
      "  super(GeoDataFrame, self).__setitem__(key, value)\n",
      "c:\\Users\\Jesse\\Anaconda3\\envs\\gurobi\\lib\\site-packages\\pandas\\core\\indexing.py:1732: SettingWithCopyWarning: \n",
      "A value is trying to be set on a copy of a slice from a DataFrame\n",
      "\n",
      "See the caveats in the documentation: https://pandas.pydata.org/pandas-docs/stable/user_guide/indexing.html#returning-a-view-versus-a-copy\n",
      "  self._setitem_single_block(indexer, value, name)\n",
      "c:\\Users\\Jesse\\Anaconda3\\envs\\gurobi\\lib\\site-packages\\pandas\\core\\indexing.py:1965: SettingWithCopyWarning: \n",
      "A value is trying to be set on a copy of a slice from a DataFrame\n",
      "\n",
      "See the caveats in the documentation: https://pandas.pydata.org/pandas-docs/stable/user_guide/indexing.html#returning-a-view-versus-a-copy\n",
      "  self.obj._check_is_chained_assignment_possible()\n"
     ]
    }
   ],
   "source": [
    "#Read data from tiff files\n",
    "boundaries = district_boundaries\n",
    "columns =['index', 'Dist_Name','geometry']\n",
    "\n",
    "NOx_df = boundaries[columns]\n",
    "NOx_df.head()\n",
    "\n",
    "months = ['01', '02', '03', '04', '05', '06', '07', '08', '09', '10', '11', '12']\n",
    "\n",
    "for year in range(2015, 2022):\n",
    "    for month in months:\n",
    "        os.chdir('c:\\\\Users\\\\Jesse\\\\OneDrive\\\\Documenten\\\\Nitrogen Dioxide')\n",
    "        tiff = 'AURA_NO2_M_'+ str(year) + '-'+ month + '-01_rgb_3600x1800.tiff'\n",
    "        lulc = rasterio.open(tiff, mode = 'r')\n",
    "        lulc_array = lulc.read(1) \n",
    "        affine = lulc.transform\n",
    "\n",
    "        NOx_df[str(year) + '-'+ month + '-01'] = 0\n",
    "        for a in range(0, len(boundaries)):\n",
    "            NOx_mean = zonal_stats(boundaries.iloc[a].geometry, lulc_array, affine = affine, geojson_out = True, nodata = lulc.nodata)[0]['properties']['mean']\n",
    "            NOx_df[str(year) + '-'+ month + '-01'].iloc[a] = NOx_mean\n",
    "\n",
    "NOx_df = NOx_df.dropna()\n",
    "NOx_df = NOx_df.iloc[:, 4:].transpose().reset_index()\n",
    "NOx_df['ModifiedDateTime'] = pd.to_datetime(NOx_df['index'])\n",
    "\n",
    "os.chdir('c:\\\\Users\\\\Jesse\\\\OneDrive\\\\Documenten\\\\Master BAOR\\\\Thesis\\\\GitHub\\\\dicra\\\\analytics\\\\notebooks\\\\crop_fires\\\\DPPD_Jesse\\\\NOx')\n",
    "NOx_df.to_csv('NOx_years_district.csv')\n"
   ]
  },
  {
   "cell_type": "code",
   "execution_count": 33,
   "metadata": {},
   "outputs": [
    {
     "name": "stderr",
     "output_type": "stream",
     "text": [
      "c:\\Users\\Jesse\\Anaconda3\\envs\\gurobi\\lib\\site-packages\\pyproj\\crs\\crs.py:53: FutureWarning:\n",
      "\n",
      "'+init=<authority>:<code>' syntax is deprecated. '<authority>:<code>' is the preferred initialization method. When making the change, be mindful of axis order changes: https://pyproj4.github.io/pyproj/stable/gotchas.html#axis-order-changes-in-proj-6\n",
      "\n"
     ]
    },
    {
     "data": {
      "image/png": "[encoded data removed]",
      "text/plain": [
       "<Figure size 2000x1000 with 2 Axes>"
      ]
     },
     "metadata": {},
     "output_type": "display_data"
    },
    {
     "data": {
      "application/vnd.plotly.v1+json": {
       "config": {
        "plotlyServerURL": "https://plot.ly"
       },
       "data": [
        {
         "hovertemplate": "Area=Bhadradri Kothagudem<br>Deviance Scores Amount of Fires=%{x}<br>Deviance Scores NOx=%{y}<extra></extra>",
         "legendgroup": "Bhadradri Kothagudem",
         "marker": {
          "color": "#636efa",
          "symbol": "circle"
         },
         "mode": "markers",
         "name": "Bhadradri Kothagudem",
         "orientation": "v",
         "showlegend": true,
         "type": "scatter",
         "x": [
          -0.00003904194030099539
         ],
         "xaxis": "x",
         "y": [
          -0.0014451887255462904
         ],
         "yaxis": "y"
        },
        {
         "hovertemplate": "Area=Jagtial<br>Deviance Scores Amount of Fires=%{x}<br>Deviance Scores NOx=%{y}<extra></extra>",
         "legendgroup": "Jagtial",
         "marker": {
          "color": "#EF553B",
          "symbol": "circle"
         },
         "mode": "markers",
         "name": "Jagtial",
         "orientation": "v",
         "showlegend": true,
         "type": "scatter",
         "x": [
          0.00004817862055273215
         ],
         "xaxis": "x",
         "y": [
          -0.00019837272664136388
         ],
         "yaxis": "y"
        },
        {
         "hovertemplate": "Area=Mulugu<br>Deviance Scores Amount of Fires=%{x}<br>Deviance Scores NOx=%{y}<extra></extra>",
         "legendgroup": "Mulugu",
         "marker": {
          "color": "#00cc96",
          "symbol": "circle"
         },
         "mode": "markers",
         "name": "Mulugu",
         "orientation": "v",
         "showlegend": true,
         "type": "scatter",
         "x": [
          0.00007702679402203895
         ],
         "xaxis": "x",
         "y": [
          -0.00010319198229555686
         ],
         "yaxis": "y"
        },
        {
         "hovertemplate": "Area=Kamareddy<br>Deviance Scores Amount of Fires=%{x}<br>Deviance Scores NOx=%{y}<extra></extra>",
         "legendgroup": "Kamareddy",
         "marker": {
          "color": "#ab63fa",
          "symbol": "circle"
         },
         "mode": "markers",
         "name": "Kamareddy",
         "orientation": "v",
         "showlegend": true,
         "type": "scatter",
         "x": [
          0.0004656943424186
         ],
         "xaxis": "x",
         "y": [
          -0.0010854346855170916
         ],
         "yaxis": "y"
        },
        {
         "hovertemplate": "Area=Karimnagar<br>Deviance Scores Amount of Fires=%{x}<br>Deviance Scores NOx=%{y}<extra></extra>",
         "legendgroup": "Karimnagar",
         "marker": {
          "color": "#FFA15A",
          "symbol": "circle"
         },
         "mode": "markers",
         "name": "Karimnagar",
         "orientation": "v",
         "showlegend": true,
         "type": "scatter",
         "x": [
          -0.00001465475629417234
         ],
         "xaxis": "x",
         "y": [
          -0.0004844406380456702
         ],
         "yaxis": "y"
        },
        {
         "hovertemplate": "Area=Mahabubabad<br>Deviance Scores Amount of Fires=%{x}<br>Deviance Scores NOx=%{y}<extra></extra>",
         "legendgroup": "Mahabubabad",
         "marker": {
          "color": "#19d3f3",
          "symbol": "circle"
         },
         "mode": "markers",
         "name": "Mahabubabad",
         "orientation": "v",
         "showlegend": true,
         "type": "scatter",
         "x": [
          0.000024500426919763263
         ],
         "xaxis": "x",
         "y": [
          -0.0007012681614555888
         ],
         "yaxis": "y"
        },
        {
         "hovertemplate": "Area=Mancherial<br>Deviance Scores Amount of Fires=%{x}<br>Deviance Scores NOx=%{y}<extra></extra>",
         "legendgroup": "Mancherial",
         "marker": {
          "color": "#FF6692",
          "symbol": "circle"
         },
         "mode": "markers",
         "name": "Mancherial",
         "orientation": "v",
         "showlegend": true,
         "type": "scatter",
         "x": [
          0.00001684000864893318
         ],
         "xaxis": "x",
         "y": [
          0.0019281000796365954
         ],
         "yaxis": "y"
        },
        {
         "hovertemplate": "Area=Medak<br>Deviance Scores Amount of Fires=%{x}<br>Deviance Scores NOx=%{y}<extra></extra>",
         "legendgroup": "Medak",
         "marker": {
          "color": "#B6E880",
          "symbol": "circle"
         },
         "mode": "markers",
         "name": "Medak",
         "orientation": "v",
         "showlegend": true,
         "type": "scatter",
         "x": [
          0.00002666614412205709
         ],
         "xaxis": "x",
         "y": [
          -0.0017931412648943233
         ],
         "yaxis": "y"
        },
        {
         "hovertemplate": "Area=Nagarkurnool<br>Deviance Scores Amount of Fires=%{x}<br>Deviance Scores NOx=%{y}<extra></extra>",
         "legendgroup": "Nagarkurnool",
         "marker": {
          "color": "#FF97FF",
          "symbol": "circle"
         },
         "mode": "markers",
         "name": "Nagarkurnool",
         "orientation": "v",
         "showlegend": true,
         "type": "scatter",
         "x": [
          0.000020697297194972982
         ],
         "xaxis": "x",
         "y": [
          -0.0005773972153088426
         ],
         "yaxis": "y"
        },
        {
         "hovertemplate": "Area=Nalgonda<br>Deviance Scores Amount of Fires=%{x}<br>Deviance Scores NOx=%{y}<extra></extra>",
         "legendgroup": "Nalgonda",
         "marker": {
          "color": "#FECB52",
          "symbol": "circle"
         },
         "mode": "markers",
         "name": "Nalgonda",
         "orientation": "v",
         "showlegend": true,
         "type": "scatter",
         "x": [
          -0.00001344309143103946
         ],
         "xaxis": "x",
         "y": [
          -0.0004967015698780279
         ],
         "yaxis": "y"
        },
        {
         "hovertemplate": "Area=Nirmal<br>Deviance Scores Amount of Fires=%{x}<br>Deviance Scores NOx=%{y}<extra></extra>",
         "legendgroup": "Nirmal",
         "marker": {
          "color": "#636efa",
          "symbol": "circle"
         },
         "mode": "markers",
         "name": "Nirmal",
         "orientation": "v",
         "showlegend": true,
         "type": "scatter",
         "x": [
          -0.0000151779323594159
         ],
         "xaxis": "x",
         "y": [
          0.0004157065224744626
         ],
         "yaxis": "y"
        },
        {
         "hovertemplate": "Area=Rajanna Sircilla<br>Deviance Scores Amount of Fires=%{x}<br>Deviance Scores NOx=%{y}<extra></extra>",
         "legendgroup": "Rajanna Sircilla",
         "marker": {
          "color": "#EF553B",
          "symbol": "circle"
         },
         "mode": "markers",
         "name": "Rajanna Sircilla",
         "orientation": "v",
         "showlegend": true,
         "type": "scatter",
         "x": [
          0.000015364814241880098
         ],
         "xaxis": "x",
         "y": [
          -0.0004021523989784768
         ],
         "yaxis": "y"
        },
        {
         "hovertemplate": "Area=Vikarabad<br>Deviance Scores Amount of Fires=%{x}<br>Deviance Scores NOx=%{y}<extra></extra>",
         "legendgroup": "Vikarabad",
         "marker": {
          "color": "#00cc96",
          "symbol": "circle"
         },
         "mode": "markers",
         "name": "Vikarabad",
         "orientation": "v",
         "showlegend": true,
         "type": "scatter",
         "x": [
          0.00002612444171694199
         ],
         "xaxis": "x",
         "y": [
          -0.0005449005885211611
         ],
         "yaxis": "y"
        },
        {
         "hovertemplate": "Area=Wanaparthy<br>Deviance Scores Amount of Fires=%{x}<br>Deviance Scores NOx=%{y}<extra></extra>",
         "legendgroup": "Wanaparthy",
         "marker": {
          "color": "#ab63fa",
          "symbol": "circle"
         },
         "mode": "markers",
         "name": "Wanaparthy",
         "orientation": "v",
         "showlegend": true,
         "type": "scatter",
         "x": [
          -0.00001959912952713305
         ],
         "xaxis": "x",
         "y": [
          -0.001662592183292383
         ],
         "yaxis": "y"
        },
        {
         "hovertemplate": "Area=Warangal Rural<br>Deviance Scores Amount of Fires=%{x}<br>Deviance Scores NOx=%{y}<extra></extra>",
         "legendgroup": "Warangal Rural",
         "marker": {
          "color": "#FFA15A",
          "symbol": "circle"
         },
         "mode": "markers",
         "name": "Warangal Rural",
         "orientation": "v",
         "showlegend": true,
         "type": "scatter",
         "x": [
          -0.000008551544115508802
         ],
         "xaxis": "x",
         "y": [
          -0.0006287925665653268
         ],
         "yaxis": "y"
        },
        {
         "hovertemplate": "Area=Warangal Urban<br>Deviance Scores Amount of Fires=%{x}<br>Deviance Scores NOx=%{y}<extra></extra>",
         "legendgroup": "Warangal Urban",
         "marker": {
          "color": "#19d3f3",
          "symbol": "circle"
         },
         "mode": "markers",
         "name": "Warangal Urban",
         "orientation": "v",
         "showlegend": true,
         "type": "scatter",
         "x": [
          0.000128618555937
         ],
         "xaxis": "x",
         "y": [
          0.00013421731647353722
         ],
         "yaxis": "y"
        },
        {
         "hovertemplate": "Area=Yadadri Bhuvanagiri<br>Deviance Scores Amount of Fires=%{x}<br>Deviance Scores NOx=%{y}<extra></extra>",
         "legendgroup": "Yadadri Bhuvanagiri",
         "marker": {
          "color": "#FF6692",
          "symbol": "circle"
         },
         "mode": "markers",
         "name": "Yadadri Bhuvanagiri",
         "orientation": "v",
         "showlegend": true,
         "type": "scatter",
         "x": [
          -0.00006423419089129302
         ],
         "xaxis": "x",
         "y": [
          -0.0006059248551029639
         ],
         "yaxis": "y"
        },
        {
         "hovertemplate": "Area=Narayanpet<br>Deviance Scores Amount of Fires=%{x}<br>Deviance Scores NOx=%{y}<extra></extra>",
         "legendgroup": "Narayanpet",
         "marker": {
          "color": "#B6E880",
          "symbol": "circle"
         },
         "mode": "markers",
         "name": "Narayanpet",
         "orientation": "v",
         "showlegend": true,
         "type": "scatter",
         "x": [
          0.000024723627455510597
         ],
         "xaxis": "x",
         "y": [
          -0.0016463641101121052
         ],
         "yaxis": "y"
        },
        {
         "hovertemplate": "Area=Jogulamba Gadwal<br>Deviance Scores Amount of Fires=%{x}<br>Deviance Scores NOx=%{y}<extra></extra>",
         "legendgroup": "Jogulamba Gadwal",
         "marker": {
          "color": "#FF97FF",
          "symbol": "circle"
         },
         "mode": "markers",
         "name": "Jogulamba Gadwal",
         "orientation": "v",
         "showlegend": true,
         "type": "scatter",
         "x": [
          -0.000004512009435352603
         ],
         "xaxis": "x",
         "y": [
          -0.0016372749128639448
         ],
         "yaxis": "y"
        },
        {
         "hovertemplate": "Area=Suryapet<br>Deviance Scores Amount of Fires=%{x}<br>Deviance Scores NOx=%{y}<extra></extra>",
         "legendgroup": "Suryapet",
         "marker": {
          "color": "#FECB52",
          "symbol": "circle"
         },
         "mode": "markers",
         "name": "Suryapet",
         "orientation": "v",
         "showlegend": true,
         "type": "scatter",
         "x": [
          -0.00005261212269466971
         ],
         "xaxis": "x",
         "y": [
          -0.0004542935958831254
         ],
         "yaxis": "y"
        },
        {
         "hovertemplate": "Area=Medchal Malkajgiri<br>Deviance Scores Amount of Fires=%{x}<br>Deviance Scores NOx=%{y}<extra></extra>",
         "legendgroup": "Medchal Malkajgiri",
         "marker": {
          "color": "#636efa",
          "symbol": "circle"
         },
         "mode": "markers",
         "name": "Medchal Malkajgiri",
         "orientation": "v",
         "showlegend": true,
         "type": "scatter",
         "x": [
          -0.0001347562299189
         ],
         "xaxis": "x",
         "y": [
          -0.0006899874902648847
         ],
         "yaxis": "y"
        },
        {
         "hovertemplate": "Area=Adilabad<br>Deviance Scores Amount of Fires=%{x}<br>Deviance Scores NOx=%{y}<extra></extra>",
         "legendgroup": "Adilabad",
         "marker": {
          "color": "#EF553B",
          "symbol": "circle"
         },
         "mode": "markers",
         "name": "Adilabad",
         "orientation": "v",
         "showlegend": true,
         "type": "scatter",
         "x": [
          0.00000887957799205207
         ],
         "xaxis": "x",
         "y": [
          0.0011800037606516601
         ],
         "yaxis": "y"
        },
        {
         "hovertemplate": "Area=Hyderabad<br>Deviance Scores Amount of Fires=%{x}<br>Deviance Scores NOx=%{y}<extra></extra>",
         "legendgroup": "Hyderabad",
         "marker": {
          "color": "#00cc96",
          "symbol": "circle"
         },
         "mode": "markers",
         "name": "Hyderabad",
         "orientation": "v",
         "showlegend": true,
         "type": "scatter",
         "x": [
          -0.00008013384616764917
         ],
         "xaxis": "x",
         "y": [
          -0.00022332664998643635
         ],
         "yaxis": "y"
        },
        {
         "hovertemplate": "Area=Kumurambheem Asifabad<br>Deviance Scores Amount of Fires=%{x}<br>Deviance Scores NOx=%{y}<extra></extra>",
         "legendgroup": "Kumurambheem Asifabad",
         "marker": {
          "color": "#ab63fa",
          "symbol": "circle"
         },
         "mode": "markers",
         "name": "Kumurambheem Asifabad",
         "orientation": "v",
         "showlegend": true,
         "type": "scatter",
         "x": [
          0.00009504124752745903
         ],
         "xaxis": "x",
         "y": [
          0.0012299900641637809
         ],
         "yaxis": "y"
        },
        {
         "hovertemplate": "Area=Jayashankar Bhupalpally<br>Deviance Scores Amount of Fires=%{x}<br>Deviance Scores NOx=%{y}<extra></extra>",
         "legendgroup": "Jayashankar Bhupalpally",
         "marker": {
          "color": "#FFA15A",
          "symbol": "circle"
         },
         "mode": "markers",
         "name": "Jayashankar Bhupalpally",
         "orientation": "v",
         "showlegend": true,
         "type": "scatter",
         "x": [
          0.0000019910224268776446
         ],
         "xaxis": "x",
         "y": [
          0.0000862866346721054
         ],
         "yaxis": "y"
        },
        {
         "hovertemplate": "Area=Mahabubnagar<br>Deviance Scores Amount of Fires=%{x}<br>Deviance Scores NOx=%{y}<extra></extra>",
         "legendgroup": "Mahabubnagar",
         "marker": {
          "color": "#19d3f3",
          "symbol": "circle"
         },
         "mode": "markers",
         "name": "Mahabubnagar",
         "orientation": "v",
         "showlegend": true,
         "type": "scatter",
         "x": [
          -0.000075036844902414
         ],
         "xaxis": "x",
         "y": [
          -0.0007235145487522886
         ],
         "yaxis": "y"
        }
       ],
       "layout": {
        "legend": {
         "title": {
          "text": "Area"
         },
         "tracegroupgap": 0
        },
        "template": {
         "data": {
          "bar": [
           {
            "error_x": {
             "color": "#2a3f5f"
            },
            "error_y": {
             "color": "#2a3f5f"
            },
            "marker": {
             "line": {
              "color": "#E5ECF6",
              "width": 0.5
             },
             "pattern": {
              "fillmode": "overlay",
              "size": 10,
              "solidity": 0.2
             }
            },
            "type": "bar"
           }
          ],
          "barpolar": [
           {
            "marker": {
             "line": {
              "color": "#E5ECF6",
              "width": 0.5
             },
             "pattern": {
              "fillmode": "overlay",
              "size": 10,
              "solidity": 0.2
             }
            },
            "type": "barpolar"
           }
          ],
          "carpet": [
           {
            "aaxis": {
             "endlinecolor": "#2a3f5f",
             "gridcolor": "white",
             "linecolor": "white",
             "minorgridcolor": "white",
             "startlinecolor": "#2a3f5f"
            },
            "baxis": {
             "endlinecolor": "#2a3f5f",
             "gridcolor": "white",
             "linecolor": "white",
             "minorgridcolor": "white",
             "startlinecolor": "#2a3f5f"
            },
            "type": "carpet"
           }
          ],
          "choropleth": [
           {
            "colorbar": {
             "outlinewidth": 0,
             "ticks": ""
            },
            "type": "choropleth"
           }
          ],
          "contour": [
           {
            "colorbar": {
             "outlinewidth": 0,
             "ticks": ""
            },
            "colorscale": [
             [
              0,
              "#0d0887"
             ],
             [
              0.1111111111111111,
              "#46039f"
             ],
             [
              0.2222222222222222,
              "#7201a8"
             ],
             [
              0.3333333333333333,
              "#9c179e"
             ],
             [
              0.4444444444444444,
              "#bd3786"
             ],
             [
              0.5555555555555556,
              "#d8576b"
             ],
             [
              0.6666666666666666,
              "#ed7953"
             ],
             [
              0.7777777777777778,
              "#fb9f3a"
             ],
             [
              0.8888888888888888,
              "#fdca26"
             ],
             [
              1,
              "#f0f921"
             ]
            ],
            "type": "contour"
           }
          ],
          "contourcarpet": [
           {
            "colorbar": {
             "outlinewidth": 0,
             "ticks": ""
            },
            "type": "contourcarpet"
           }
          ],
          "heatmap": [
           {
            "colorbar": {
             "outlinewidth": 0,
             "ticks": ""
            },
            "colorscale": [
             [
              0,
              "#0d0887"
             ],
             [
              0.1111111111111111,
              "#46039f"
             ],
             [
              0.2222222222222222,
              "#7201a8"
             ],
             [
              0.3333333333333333,
              "#9c179e"
             ],
             [
              0.4444444444444444,
              "#bd3786"
             ],
             [
              0.5555555555555556,
              "#d8576b"
             ],
             [
              0.6666666666666666,
              "#ed7953"
             ],
             [
              0.7777777777777778,
              "#fb9f3a"
             ],
             [
              0.8888888888888888,
              "#fdca26"
             ],
             [
              1,
              "#f0f921"
             ]
            ],
            "type": "heatmap"
           }
          ],
          "heatmapgl": [
           {
            "colorbar": {
             "outlinewidth": 0,
             "ticks": ""
            },
            "colorscale": [
             [
              0,
              "#0d0887"
             ],
             [
              0.1111111111111111,
              "#46039f"
             ],
             [
              0.2222222222222222,
              "#7201a8"
             ],
             [
              0.3333333333333333,
              "#9c179e"
             ],
             [
              0.4444444444444444,
              "#bd3786"
             ],
             [
              0.5555555555555556,
              "#d8576b"
             ],
             [
              0.6666666666666666,
              "#ed7953"
             ],
             [
              0.7777777777777778,
              "#fb9f3a"
             ],
             [
              0.8888888888888888,
              "#fdca26"
             ],
             [
              1,
              "#f0f921"
             ]
            ],
            "type": "heatmapgl"
           }
          ],
          "histogram": [
           {
            "marker": {
             "pattern": {
              "fillmode": "overlay",
              "size": 10,
              "solidity": 0.2
             }
            },
            "type": "histogram"
           }
          ],
          "histogram2d": [
           {
            "colorbar": {
             "outlinewidth": 0,
             "ticks": ""
            },
            "colorscale": [
             [
              0,
              "#0d0887"
             ],
             [
              0.1111111111111111,
              "#46039f"
             ],
             [
              0.2222222222222222,
              "#7201a8"
             ],
             [
              0.3333333333333333,
              "#9c179e"
             ],
             [
              0.4444444444444444,
              "#bd3786"
             ],
             [
              0.5555555555555556,
              "#d8576b"
             ],
             [
              0.6666666666666666,
              "#ed7953"
             ],
             [
              0.7777777777777778,
              "#fb9f3a"
             ],
             [
              0.8888888888888888,
              "#fdca26"
             ],
             [
              1,
              "#f0f921"
             ]
            ],
            "type": "histogram2d"
           }
          ],
          "histogram2dcontour": [
           {
            "colorbar": {
             "outlinewidth": 0,
             "ticks": ""
            },
            "colorscale": [
             [
              0,
              "#0d0887"
             ],
             [
              0.1111111111111111,
              "#46039f"
             ],
             [
              0.2222222222222222,
              "#7201a8"
             ],
             [
              0.3333333333333333,
              "#9c179e"
             ],
             [
              0.4444444444444444,
              "#bd3786"
             ],
             [
              0.5555555555555556,
              "#d8576b"
             ],
             [
              0.6666666666666666,
              "#ed7953"
             ],
             [
              0.7777777777777778,
              "#fb9f3a"
             ],
             [
              0.8888888888888888,
              "#fdca26"
             ],
             [
              1,
              "#f0f921"
             ]
            ],
            "type": "histogram2dcontour"
           }
          ],
          "mesh3d": [
           {
            "colorbar": {
             "outlinewidth": 0,
             "ticks": ""
            },
            "type": "mesh3d"
           }
          ],
          "parcoords": [
           {
            "line": {
             "colorbar": {
              "outlinewidth": 0,
              "ticks": ""
             }
            },
            "type": "parcoords"
           }
          ],
          "pie": [
           {
            "automargin": true,
            "type": "pie"
           }
          ],
          "scatter": [
           {
            "marker": {
             "colorbar": {
              "outlinewidth": 0,
              "ticks": ""
             }
            },
            "type": "scatter"
           }
          ],
          "scatter3d": [
           {
            "line": {
             "colorbar": {
              "outlinewidth": 0,
              "ticks": ""
             }
            },
            "marker": {
             "colorbar": {
              "outlinewidth": 0,
              "ticks": ""
             }
            },
            "type": "scatter3d"
           }
          ],
          "scattercarpet": [
           {
            "marker": {
             "colorbar": {
              "outlinewidth": 0,
              "ticks": ""
             }
            },
            "type": "scattercarpet"
           }
          ],
          "scattergeo": [
           {
            "marker": {
             "colorbar": {
              "outlinewidth": 0,
              "ticks": ""
             }
            },
            "type": "scattergeo"
           }
          ],
          "scattergl": [
           {
            "marker": {
             "colorbar": {
              "outlinewidth": 0,
              "ticks": ""
             }
            },
            "type": "scattergl"
           }
          ],
          "scattermapbox": [
           {
            "marker": {
             "colorbar": {
              "outlinewidth": 0,
              "ticks": ""
             }
            },
            "type": "scattermapbox"
           }
          ],
          "scatterpolar": [
           {
            "marker": {
             "colorbar": {
              "outlinewidth": 0,
              "ticks": ""
             }
            },
            "type": "scatterpolar"
           }
          ],
          "scatterpolargl": [
           {
            "marker": {
             "colorbar": {
              "outlinewidth": 0,
              "ticks": ""
             }
            },
            "type": "scatterpolargl"
           }
          ],
          "scatterternary": [
           {
            "marker": {
             "colorbar": {
              "outlinewidth": 0,
              "ticks": ""
             }
            },
            "type": "scatterternary"
           }
          ],
          "surface": [
           {
            "colorbar": {
             "outlinewidth": 0,
             "ticks": ""
            },
            "colorscale": [
             [
              0,
              "#0d0887"
             ],
             [
              0.1111111111111111,
              "#46039f"
             ],
             [
              0.2222222222222222,
              "#7201a8"
             ],
             [
              0.3333333333333333,
              "#9c179e"
             ],
             [
              0.4444444444444444,
              "#bd3786"
             ],
             [
              0.5555555555555556,
              "#d8576b"
             ],
             [
              0.6666666666666666,
              "#ed7953"
             ],
             [
              0.7777777777777778,
              "#fb9f3a"
             ],
             [
              0.8888888888888888,
              "#fdca26"
             ],
             [
              1,
              "#f0f921"
             ]
            ],
            "type": "surface"
           }
          ],
          "table": [
           {
            "cells": {
             "fill": {
              "color": "#EBF0F8"
             },
             "line": {
              "color": "white"
             }
            },
            "header": {
             "fill": {
              "color": "#C8D4E3"
             },
             "line": {
              "color": "white"
             }
            },
            "type": "table"
           }
          ]
         },
         "layout": {
          "annotationdefaults": {
           "arrowcolor": "#2a3f5f",
           "arrowhead": 0,
           "arrowwidth": 1
          },
          "autotypenumbers": "strict",
          "coloraxis": {
           "colorbar": {
            "outlinewidth": 0,
            "ticks": ""
           }
          },
          "colorscale": {
           "diverging": [
            [
             0,
             "#8e0152"
            ],
            [
             0.1,
             "#c51b7d"
            ],
            [
             0.2,
             "#de77ae"
            ],
            [
             0.3,
             "#f1b6da"
            ],
            [
             0.4,
             "#fde0ef"
            ],
            [
             0.5,
             "#f7f7f7"
            ],
            [
             0.6,
             "#e6f5d0"
            ],
            [
             0.7,
             "#b8e186"
            ],
            [
             0.8,
             "#7fbc41"
            ],
            [
             0.9,
             "#4d9221"
            ],
            [
             1,
             "#276419"
            ]
           ],
           "sequential": [
            [
             0,
             "#0d0887"
            ],
            [
             0.1111111111111111,
             "#46039f"
            ],
            [
             0.2222222222222222,
             "#7201a8"
            ],
            [
             0.3333333333333333,
             "#9c179e"
            ],
            [
             0.4444444444444444,
             "#bd3786"
            ],
            [
             0.5555555555555556,
             "#d8576b"
            ],
            [
             0.6666666666666666,
             "#ed7953"
            ],
            [
             0.7777777777777778,
             "#fb9f3a"
            ],
            [
             0.8888888888888888,
             "#fdca26"
            ],
            [
             1,
             "#f0f921"
            ]
           ],
           "sequentialminus": [
            [
             0,
             "#0d0887"
            ],
            [
             0.1111111111111111,
             "#46039f"
            ],
            [
             0.2222222222222222,
             "#7201a8"
            ],
            [
             0.3333333333333333,
             "#9c179e"
            ],
            [
             0.4444444444444444,
             "#bd3786"
            ],
            [
             0.5555555555555556,
             "#d8576b"
            ],
            [
             0.6666666666666666,
             "#ed7953"
            ],
            [
             0.7777777777777778,
             "#fb9f3a"
            ],
            [
             0.8888888888888888,
             "#fdca26"
            ],
            [
             1,
             "#f0f921"
            ]
           ]
          },
          "colorway": [
           "#636efa",
           "#EF553B",
           "#00cc96",
           "#ab63fa",
           "#FFA15A",
           "#19d3f3",
           "#FF6692",
           "#B6E880",
           "#FF97FF",
           "#FECB52"
          ],
          "font": {
           "color": "#2a3f5f"
          },
          "geo": {
           "bgcolor": "white",
           "lakecolor": "white",
           "landcolor": "#E5ECF6",
           "showlakes": true,
           "showland": true,
           "subunitcolor": "white"
          },
          "hoverlabel": {
           "align": "left"
          },
          "hovermode": "closest",
          "mapbox": {
           "style": "light"
          },
          "paper_bgcolor": "white",
          "plot_bgcolor": "#E5ECF6",
          "polar": {
           "angularaxis": {
            "gridcolor": "white",
            "linecolor": "white",
            "ticks": ""
           },
           "bgcolor": "#E5ECF6",
           "radialaxis": {
            "gridcolor": "white",
            "linecolor": "white",
            "ticks": ""
           }
          },
          "scene": {
           "xaxis": {
            "backgroundcolor": "#E5ECF6",
            "gridcolor": "white",
            "gridwidth": 2,
            "linecolor": "white",
            "showbackground": true,
            "ticks": "",
            "zerolinecolor": "white"
           },
           "yaxis": {
            "backgroundcolor": "#E5ECF6",
            "gridcolor": "white",
            "gridwidth": 2,
            "linecolor": "white",
            "showbackground": true,
            "ticks": "",
            "zerolinecolor": "white"
           },
           "zaxis": {
            "backgroundcolor": "#E5ECF6",
            "gridcolor": "white",
            "gridwidth": 2,
            "linecolor": "white",
            "showbackground": true,
            "ticks": "",
            "zerolinecolor": "white"
           }
          },
          "shapedefaults": {
           "line": {
            "color": "#2a3f5f"
           }
          },
          "ternary": {
           "aaxis": {
            "gridcolor": "white",
            "linecolor": "white",
            "ticks": ""
           },
           "baxis": {
            "gridcolor": "white",
            "linecolor": "white",
            "ticks": ""
           },
           "bgcolor": "#E5ECF6",
           "caxis": {
            "gridcolor": "white",
            "linecolor": "white",
            "ticks": ""
           }
          },
          "title": {
           "x": 0.05
          },
          "xaxis": {
           "automargin": true,
           "gridcolor": "white",
           "linecolor": "white",
           "ticks": "",
           "title": {
            "standoff": 15
           },
           "zerolinecolor": "white",
           "zerolinewidth": 2
          },
          "yaxis": {
           "automargin": true,
           "gridcolor": "white",
           "linecolor": "white",
           "ticks": "",
           "title": {
            "standoff": 15
           },
           "zerolinecolor": "white",
           "zerolinewidth": 2
          }
         }
        },
        "title": {
         "text": "Relation Between NOx and Amount of Fires Changes over the Years 2015-2021"
        },
        "xaxis": {
         "anchor": "y",
         "domain": [
          0,
          1
         ],
         "title": {
          "text": "Deviance Scores Amount of Fires"
         }
        },
        "yaxis": {
         "anchor": "x",
         "domain": [
          0,
          1
         ],
         "title": {
          "text": "Deviance Scores NOx"
         }
        }
       }
      }
     },
     "metadata": {},
     "output_type": "display_data"
    },
    {
     "name": "stdout",
     "output_type": "stream",
     "text": [
      "Pearsons correlation: 0.021\n"
     ]
    },
    {
     "data": {
      "text/plain": [
       "()"
      ]
     },
     "execution_count": 33,
     "metadata": {},
     "output_type": "execute_result"
    }
   ],
   "source": [
    "os.chdir('c:\\\\Users\\\\Jesse\\\\OneDrive\\\\Documenten\\\\Master BAOR\\\\Thesis\\\\GitHub\\\\dicra\\\\analytics\\\\notebooks\\\\crop_fires\\\\DPPD_Jesse\\\\NOx')\n",
    "NOx_df = pd.read_csv('NOx_years_district.csv', index_col=0)\n",
    "correlation(NOx_df, 2021, 'NOx', district_boundaries, 'Dist_Name')"
   ]
  },
  {
   "cell_type": "code",
   "execution_count": 34,
   "metadata": {},
   "outputs": [
    {
     "name": "stderr",
     "output_type": "stream",
     "text": [
      "c:\\Users\\Jesse\\Anaconda3\\envs\\gurobi\\lib\\site-packages\\pyproj\\crs\\crs.py:53: FutureWarning:\n",
      "\n",
      "'+init=<authority>:<code>' syntax is deprecated. '<authority>:<code>' is the preferred initialization method. When making the change, be mindful of axis order changes: https://pyproj4.github.io/pyproj/stable/gotchas.html#axis-order-changes-in-proj-6\n",
      "\n"
     ]
    },
    {
     "data": {
      "image/png": "[encoded data removed]",
      "text/plain": [
       "<Figure size 2000x1000 with 2 Axes>"
      ]
     },
     "metadata": {},
     "output_type": "display_data"
    },
    {
     "data": {
      "application/vnd.plotly.v1+json": {
       "config": {
        "plotlyServerURL": "https://plot.ly"
       },
       "data": [
        {
         "hovertemplate": "Area=Abdullapurmet<br>Deviance Scores Amount of Fires=%{x}<br>Deviance Scores NOx=%{y}<extra></extra>",
         "legendgroup": "Abdullapurmet",
         "marker": {
          "color": "#636efa",
          "symbol": "circle"
         },
         "mode": "markers",
         "name": "Abdullapurmet",
         "orientation": "v",
         "showlegend": true,
         "type": "scatter",
         "x": [
          -0.00003904194030099539
         ],
         "xaxis": "x",
         "y": [
          -0.0008692944388169488
         ],
         "yaxis": "y"
        },
        {
         "hovertemplate": "Area=Achampet<br>Deviance Scores Amount of Fires=%{x}<br>Deviance Scores NOx=%{y}<extra></extra>",
         "legendgroup": "Achampet",
         "marker": {
          "color": "#EF553B",
          "symbol": "circle"
         },
         "mode": "markers",
         "name": "Achampet",
         "orientation": "v",
         "showlegend": true,
         "type": "scatter",
         "x": [
          0.00004817862055273215
         ],
         "xaxis": "x",
         "y": [
          -0.0011803338157271672
         ],
         "yaxis": "y"
        },
        {
         "hovertemplate": "Area=Addagudur<br>Deviance Scores Amount of Fires=%{x}<br>Deviance Scores NOx=%{y}<extra></extra>",
         "legendgroup": "Addagudur",
         "marker": {
          "color": "#00cc96",
          "symbol": "circle"
         },
         "mode": "markers",
         "name": "Addagudur",
         "orientation": "v",
         "showlegend": true,
         "type": "scatter",
         "x": [
          0.00007702679402203895
         ],
         "xaxis": "x",
         "y": [
          -0.000037514576831456095
         ],
         "yaxis": "y"
        },
        {
         "hovertemplate": "Area=Adilabad Rural<br>Deviance Scores Amount of Fires=%{x}<br>Deviance Scores NOx=%{y}<extra></extra>",
         "legendgroup": "Adilabad Rural",
         "marker": {
          "color": "#ab63fa",
          "symbol": "circle"
         },
         "mode": "markers",
         "name": "Adilabad Rural",
         "orientation": "v",
         "showlegend": true,
         "type": "scatter",
         "x": [
          -0.00001465475629417234
         ],
         "xaxis": "x",
         "y": [
          0.0027200636455064573
         ],
         "yaxis": "y"
        },
        {
         "hovertemplate": "Area=Aiza<br>Deviance Scores Amount of Fires=%{x}<br>Deviance Scores NOx=%{y}<extra></extra>",
         "legendgroup": "Aiza",
         "marker": {
          "color": "#FFA15A",
          "symbol": "circle"
         },
         "mode": "markers",
         "name": "Aiza",
         "orientation": "v",
         "showlegend": true,
         "type": "scatter",
         "x": [
          0.000024500426919763263
         ],
         "xaxis": "x",
         "y": [
          -0.0011060419469056772
         ],
         "yaxis": "y"
        },
        {
         "hovertemplate": "Area=Akkannapet<br>Deviance Scores Amount of Fires=%{x}<br>Deviance Scores NOx=%{y}<extra></extra>",
         "legendgroup": "Akkannapet",
         "marker": {
          "color": "#19d3f3",
          "symbol": "circle"
         },
         "mode": "markers",
         "name": "Akkannapet",
         "orientation": "v",
         "showlegend": true,
         "type": "scatter",
         "x": [
          0.00001684000864893318
         ],
         "xaxis": "x",
         "y": [
          0.000002387630964152927
         ],
         "yaxis": "y"
        },
        {
         "hovertemplate": "Area=Alair<br>Deviance Scores Amount of Fires=%{x}<br>Deviance Scores NOx=%{y}<extra></extra>",
         "legendgroup": "Alair",
         "marker": {
          "color": "#FF6692",
          "symbol": "circle"
         },
         "mode": "markers",
         "name": "Alair",
         "orientation": "v",
         "showlegend": true,
         "type": "scatter",
         "x": [
          0.00002666614412205709
         ],
         "xaxis": "x",
         "y": [
          -0.0003846863374494653
         ],
         "yaxis": "y"
        },
        {
         "hovertemplate": "Area=Alampur<br>Deviance Scores Amount of Fires=%{x}<br>Deviance Scores NOx=%{y}<extra></extra>",
         "legendgroup": "Alampur",
         "marker": {
          "color": "#B6E880",
          "symbol": "circle"
         },
         "mode": "markers",
         "name": "Alampur",
         "orientation": "v",
         "showlegend": true,
         "type": "scatter",
         "x": [
          0.000020697297194972982
         ],
         "xaxis": "x",
         "y": [
          -0.00019056560477315548
         ],
         "yaxis": "y"
        },
        {
         "hovertemplate": "Area=Alladurg<br>Deviance Scores Amount of Fires=%{x}<br>Deviance Scores NOx=%{y}<extra></extra>",
         "legendgroup": "Alladurg",
         "marker": {
          "color": "#FF97FF",
          "symbol": "circle"
         },
         "mode": "markers",
         "name": "Alladurg",
         "orientation": "v",
         "showlegend": true,
         "type": "scatter",
         "x": [
          -0.00001344309143103946
         ],
         "xaxis": "x",
         "y": [
          -0.001460809840850514
         ],
         "yaxis": "y"
        },
        {
         "hovertemplate": "Area=Allapalli<br>Deviance Scores Amount of Fires=%{x}<br>Deviance Scores NOx=%{y}<extra></extra>",
         "legendgroup": "Allapalli",
         "marker": {
          "color": "#FECB52",
          "symbol": "circle"
         },
         "mode": "markers",
         "name": "Allapalli",
         "orientation": "v",
         "showlegend": true,
         "type": "scatter",
         "x": [
          -0.0000151779323594159
         ],
         "xaxis": "x",
         "y": [
          0.00048685470282329386
         ],
         "yaxis": "y"
        },
        {
         "hovertemplate": "Area=Amrabad<br>Deviance Scores Amount of Fires=%{x}<br>Deviance Scores NOx=%{y}<extra></extra>",
         "legendgroup": "Amrabad",
         "marker": {
          "color": "#636efa",
          "symbol": "circle"
         },
         "mode": "markers",
         "name": "Amrabad",
         "orientation": "v",
         "showlegend": true,
         "type": "scatter",
         "x": [
          0.00002612444171694199
         ],
         "xaxis": "x",
         "y": [
          0.0006134711866672041
         ],
         "yaxis": "y"
        },
        {
         "hovertemplate": "Area=Ananthagiri<br>Deviance Scores Amount of Fires=%{x}<br>Deviance Scores NOx=%{y}<extra></extra>",
         "legendgroup": "Ananthagiri",
         "marker": {
          "color": "#EF553B",
          "symbol": "circle"
         },
         "mode": "markers",
         "name": "Ananthagiri",
         "orientation": "v",
         "showlegend": true,
         "type": "scatter",
         "x": [
          -0.00001959912952713305
         ],
         "xaxis": "x",
         "y": [
          -0.00016404151602457525
         ],
         "yaxis": "y"
        },
        {
         "hovertemplate": "Area=Andole<br>Deviance Scores Amount of Fires=%{x}<br>Deviance Scores NOx=%{y}<extra></extra>",
         "legendgroup": "Andole",
         "marker": {
          "color": "#00cc96",
          "symbol": "circle"
         },
         "mode": "markers",
         "name": "Andole",
         "orientation": "v",
         "showlegend": true,
         "type": "scatter",
         "x": [
          -0.000008551544115508802
         ],
         "xaxis": "x",
         "y": [
          -0.0010657657902890397
         ],
         "yaxis": "y"
        },
        {
         "hovertemplate": "Area=Annapureddipalle<br>Deviance Scores Amount of Fires=%{x}<br>Deviance Scores NOx=%{y}<extra></extra>",
         "legendgroup": "Annapureddipalle",
         "marker": {
          "color": "#ab63fa",
          "symbol": "circle"
         },
         "mode": "markers",
         "name": "Annapureddipalle",
         "orientation": "v",
         "showlegend": true,
         "type": "scatter",
         "x": [
          0.000128618555937
         ],
         "xaxis": "x",
         "y": [
          -0.0017402958862759953
         ],
         "yaxis": "y"
        },
        {
         "hovertemplate": "Area=Anumula_Haliya<br>Deviance Scores Amount of Fires=%{x}<br>Deviance Scores NOx=%{y}<extra></extra>",
         "legendgroup": "Anumula_Haliya",
         "marker": {
          "color": "#FFA15A",
          "symbol": "circle"
         },
         "mode": "markers",
         "name": "Anumula_Haliya",
         "orientation": "v",
         "showlegend": true,
         "type": "scatter",
         "x": [
          -0.00006423419089129302
         ],
         "xaxis": "x",
         "y": [
          0.00013883360478551886
         ],
         "yaxis": "y"
        },
        {
         "hovertemplate": "Area=Armoor<br>Deviance Scores Amount of Fires=%{x}<br>Deviance Scores NOx=%{y}<extra></extra>",
         "legendgroup": "Armoor",
         "marker": {
          "color": "#19d3f3",
          "symbol": "circle"
         },
         "mode": "markers",
         "name": "Armoor",
         "orientation": "v",
         "showlegend": true,
         "type": "scatter",
         "x": [
          0.000024723627455510597
         ],
         "xaxis": "x",
         "y": [
          -0.001044505509765428
         ],
         "yaxis": "y"
        },
        {
         "hovertemplate": "Area=Asifabad<br>Deviance Scores Amount of Fires=%{x}<br>Deviance Scores NOx=%{y}<extra></extra>",
         "legendgroup": "Asifabad",
         "marker": {
          "color": "#FF6692",
          "symbol": "circle"
         },
         "mode": "markers",
         "name": "Asifabad",
         "orientation": "v",
         "showlegend": true,
         "type": "scatter",
         "x": [
          -0.000004512009435352603
         ],
         "xaxis": "x",
         "y": [
          0.0019610745265146736
         ],
         "yaxis": "y"
        },
        {
         "hovertemplate": "Area=Aswapuram<br>Deviance Scores Amount of Fires=%{x}<br>Deviance Scores NOx=%{y}<extra></extra>",
         "legendgroup": "Aswapuram",
         "marker": {
          "color": "#B6E880",
          "symbol": "circle"
         },
         "mode": "markers",
         "name": "Aswapuram",
         "orientation": "v",
         "showlegend": true,
         "type": "scatter",
         "x": [
          -0.00005261212269466971
         ],
         "xaxis": "x",
         "y": [
          -0.0021798101820669417
         ],
         "yaxis": "y"
        },
        {
         "hovertemplate": "Area=Aswaraopeta<br>Deviance Scores Amount of Fires=%{x}<br>Deviance Scores NOx=%{y}<extra></extra>",
         "legendgroup": "Aswaraopeta",
         "marker": {
          "color": "#FF97FF",
          "symbol": "circle"
         },
         "mode": "markers",
         "name": "Aswaraopeta",
         "orientation": "v",
         "showlegend": true,
         "type": "scatter",
         "x": [
          -0.0001347562299189
         ],
         "xaxis": "x",
         "y": [
          -0.0013123787945857565
         ],
         "yaxis": "y"
        },
        {
         "hovertemplate": "Area=Athmakur (M)<br>Deviance Scores Amount of Fires=%{x}<br>Deviance Scores NOx=%{y}<extra></extra>",
         "legendgroup": "Athmakur (M)",
         "marker": {
          "color": "#FECB52",
          "symbol": "circle"
         },
         "mode": "markers",
         "name": "Athmakur (M)",
         "orientation": "v",
         "showlegend": true,
         "type": "scatter",
         "x": [
          0.00000887957799205207
         ],
         "xaxis": "x",
         "y": [
          -0.0009446770293065019
         ],
         "yaxis": "y"
        },
        {
         "hovertemplate": "Area=Atmakur<br>Deviance Scores Amount of Fires=%{x}<br>Deviance Scores NOx=%{y}<extra></extra>",
         "legendgroup": "Atmakur",
         "marker": {
          "color": "#636efa",
          "symbol": "circle"
         },
         "mode": "markers",
         "name": "Atmakur",
         "orientation": "v",
         "showlegend": true,
         "type": "scatter",
         "x": [
          -0.00008013384616764917,
          0.00009504124752745903
         ],
         "xaxis": "x",
         "y": [
          -0.0028764189358276393,
          -0.0007766980690460261
         ],
         "yaxis": "y"
        },
        {
         "hovertemplate": "Area=Atmakur_S<br>Deviance Scores Amount of Fires=%{x}<br>Deviance Scores NOx=%{y}<extra></extra>",
         "legendgroup": "Atmakur_S",
         "marker": {
          "color": "#EF553B",
          "symbol": "circle"
         },
         "mode": "markers",
         "name": "Atmakur_S",
         "orientation": "v",
         "showlegend": true,
         "type": "scatter",
         "x": [
          0.0000019910224268776446
         ],
         "xaxis": "x",
         "y": [
          -0.0005710855577633196
         ],
         "yaxis": "y"
        },
        {
         "hovertemplate": "Area=B.Pochampally<br>Deviance Scores Amount of Fires=%{x}<br>Deviance Scores NOx=%{y}<extra></extra>",
         "legendgroup": "B.Pochampally",
         "marker": {
          "color": "#00cc96",
          "symbol": "circle"
         },
         "mode": "markers",
         "name": "B.Pochampally",
         "orientation": "v",
         "showlegend": true,
         "type": "scatter",
         "x": [
          -0.000075036844902414
         ],
         "xaxis": "x",
         "y": [
          -0.0014304133516982764
         ],
         "yaxis": "y"
        },
        {
         "hovertemplate": "Area=Bachannapet<br>Deviance Scores Amount of Fires=%{x}<br>Deviance Scores NOx=%{y}<extra></extra>",
         "legendgroup": "Bachannapet",
         "marker": {
          "color": "#ab63fa",
          "symbol": "circle"
         },
         "mode": "markers",
         "name": "Bachannapet",
         "orientation": "v",
         "showlegend": true,
         "type": "scatter",
         "x": [
          0.00003340638839552044
         ],
         "xaxis": "x",
         "y": [
          -0.0002603608019880888
         ],
         "yaxis": "y"
        },
        {
         "hovertemplate": "Area=Balanagar<br>Deviance Scores Amount of Fires=%{x}<br>Deviance Scores NOx=%{y}<extra></extra>",
         "legendgroup": "Balanagar",
         "marker": {
          "color": "#FFA15A",
          "symbol": "circle"
         },
         "mode": "markers",
         "name": "Balanagar",
         "orientation": "v",
         "showlegend": true,
         "type": "scatter",
         "x": [
          0.00005332258216825061
         ],
         "xaxis": "x",
         "y": [
          0.0004100901642326427
         ],
         "yaxis": "y"
        },
        {
         "hovertemplate": "Area=Balapur<br>Deviance Scores Amount of Fires=%{x}<br>Deviance Scores NOx=%{y}<extra></extra>",
         "legendgroup": "Balapur",
         "marker": {
          "color": "#19d3f3",
          "symbol": "circle"
         },
         "mode": "markers",
         "name": "Balapur",
         "orientation": "v",
         "showlegend": true,
         "type": "scatter",
         "x": [
          0.00001983212116905084
         ],
         "xaxis": "x",
         "y": [
          -0.0003985288339145897
         ],
         "yaxis": "y"
        },
        {
         "hovertemplate": "Area=Balkonda<br>Deviance Scores Amount of Fires=%{x}<br>Deviance Scores NOx=%{y}<extra></extra>",
         "legendgroup": "Balkonda",
         "marker": {
          "color": "#FF6692",
          "symbol": "circle"
         },
         "mode": "markers",
         "name": "Balkonda",
         "orientation": "v",
         "showlegend": true,
         "type": "scatter",
         "x": [
          0.000015911049457220126
         ],
         "xaxis": "x",
         "y": [
          -0.0016201709122249544
         ],
         "yaxis": "y"
        },
        {
         "hovertemplate": "Area=Balmoor<br>Deviance Scores Amount of Fires=%{x}<br>Deviance Scores NOx=%{y}<extra></extra>",
         "legendgroup": "Balmoor",
         "marker": {
          "color": "#B6E880",
          "symbol": "circle"
         },
         "mode": "markers",
         "name": "Balmoor",
         "orientation": "v",
         "showlegend": true,
         "type": "scatter",
         "x": [
          -0.000031464312862038064
         ],
         "xaxis": "x",
         "y": [
          -0.0011781382421598384
         ],
         "yaxis": "y"
        },
        {
         "hovertemplate": "Area=Bantwaram<br>Deviance Scores Amount of Fires=%{x}<br>Deviance Scores NOx=%{y}<extra></extra>",
         "legendgroup": "Bantwaram",
         "marker": {
          "color": "#FF97FF",
          "symbol": "circle"
         },
         "mode": "markers",
         "name": "Bantwaram",
         "orientation": "v",
         "showlegend": true,
         "type": "scatter",
         "x": [
          -0.0000376082143246598
         ],
         "xaxis": "x",
         "y": [
          0.0003891793090014209
         ],
         "yaxis": "y"
        },
        {
         "hovertemplate": "Area=Basar<br>Deviance Scores Amount of Fires=%{x}<br>Deviance Scores NOx=%{y}<extra></extra>",
         "legendgroup": "Basar",
         "marker": {
          "color": "#FECB52",
          "symbol": "circle"
         },
         "mode": "markers",
         "name": "Basar",
         "orientation": "v",
         "showlegend": true,
         "type": "scatter",
         "x": [
          -0.000007164623477911956
         ],
         "xaxis": "x",
         "y": [
          -0.00003789376829111213
         ],
         "yaxis": "y"
        },
        {
         "hovertemplate": "Area=Basheerabad<br>Deviance Scores Amount of Fires=%{x}<br>Deviance Scores NOx=%{y}<extra></extra>",
         "legendgroup": "Basheerabad",
         "marker": {
          "color": "#636efa",
          "symbol": "circle"
         },
         "mode": "markers",
         "name": "Basheerabad",
         "orientation": "v",
         "showlegend": true,
         "type": "scatter",
         "x": [
          -0.000014554635269131057
         ],
         "xaxis": "x",
         "y": [
          -0.00048713883265630726
         ],
         "yaxis": "y"
        },
        {
         "hovertemplate": "Area=Bayyaram<br>Deviance Scores Amount of Fires=%{x}<br>Deviance Scores NOx=%{y}<extra></extra>",
         "legendgroup": "Bayyaram",
         "marker": {
          "color": "#EF553B",
          "symbol": "circle"
         },
         "mode": "markers",
         "name": "Bayyaram",
         "orientation": "v",
         "showlegend": true,
         "type": "scatter",
         "x": [
          -0.0003129681195003
         ],
         "xaxis": "x",
         "y": [
          -0.0007587304040215548
         ],
         "yaxis": "y"
        },
        {
         "hovertemplate": "Area=Bazarhathnoor<br>Deviance Scores Amount of Fires=%{x}<br>Deviance Scores NOx=%{y}<extra></extra>",
         "legendgroup": "Bazarhathnoor",
         "marker": {
          "color": "#00cc96",
          "symbol": "circle"
         },
         "mode": "markers",
         "name": "Bazarhathnoor",
         "orientation": "v",
         "showlegend": true,
         "type": "scatter",
         "x": [
          -0.000017573854757702368
         ],
         "xaxis": "x",
         "y": [
          0.0010765941105501523
         ],
         "yaxis": "y"
        },
        {
         "hovertemplate": "Area=Beerpur<br>Deviance Scores Amount of Fires=%{x}<br>Deviance Scores NOx=%{y}<extra></extra>",
         "legendgroup": "Beerpur",
         "marker": {
          "color": "#ab63fa",
          "symbol": "circle"
         },
         "mode": "markers",
         "name": "Beerpur",
         "orientation": "v",
         "showlegend": true,
         "type": "scatter",
         "x": [
          0.00004446482689267496
         ],
         "xaxis": "x",
         "y": [
          -0.0007588234554421596
         ],
         "yaxis": "y"
        },
        {
         "hovertemplate": "Area=Bejjanki<br>Deviance Scores Amount of Fires=%{x}<br>Deviance Scores NOx=%{y}<extra></extra>",
         "legendgroup": "Bejjanki",
         "marker": {
          "color": "#FFA15A",
          "symbol": "circle"
         },
         "mode": "markers",
         "name": "Bejjanki",
         "orientation": "v",
         "showlegend": true,
         "type": "scatter",
         "x": [
          -0.0000178239279882192
         ],
         "xaxis": "x",
         "y": [
          -0.00123108761301826
         ],
         "yaxis": "y"
        },
        {
         "hovertemplate": "Area=Bejjur<br>Deviance Scores Amount of Fires=%{x}<br>Deviance Scores NOx=%{y}<extra></extra>",
         "legendgroup": "Bejjur",
         "marker": {
          "color": "#19d3f3",
          "symbol": "circle"
         },
         "mode": "markers",
         "name": "Bejjur",
         "orientation": "v",
         "showlegend": true,
         "type": "scatter",
         "x": [
          0.000022012304247333523
         ],
         "xaxis": "x",
         "y": [
          0.0010421069950083774
         ],
         "yaxis": "y"
        },
        {
         "hovertemplate": "Area=Bellampalle<br>Deviance Scores Amount of Fires=%{x}<br>Deviance Scores NOx=%{y}<extra></extra>",
         "legendgroup": "Bellampalle",
         "marker": {
          "color": "#FF6692",
          "symbol": "circle"
         },
         "mode": "markers",
         "name": "Bellampalle",
         "orientation": "v",
         "showlegend": true,
         "type": "scatter",
         "x": [
          0.0000581437850213113
         ],
         "xaxis": "x",
         "y": [
          0.003427614910812057
         ],
         "yaxis": "y"
        },
        {
         "hovertemplate": "Area=Bhainsa<br>Deviance Scores Amount of Fires=%{x}<br>Deviance Scores NOx=%{y}<extra></extra>",
         "legendgroup": "Bhainsa",
         "marker": {
          "color": "#B6E880",
          "symbol": "circle"
         },
         "mode": "markers",
         "name": "Bhainsa",
         "orientation": "v",
         "showlegend": true,
         "type": "scatter",
         "x": [
          0.00000371082149456148
         ],
         "xaxis": "x",
         "y": [
          0.0007290048581499287
         ],
         "yaxis": "y"
        },
        {
         "hovertemplate": "Area=Bheemaram<br>Deviance Scores Amount of Fires=%{x}<br>Deviance Scores NOx=%{y}<extra></extra>",
         "legendgroup": "Bheemaram",
         "marker": {
          "color": "#FF97FF",
          "symbol": "circle"
         },
         "mode": "markers",
         "name": "Bheemaram",
         "orientation": "v",
         "showlegend": true,
         "type": "scatter",
         "x": [
          -0.000008381782678059807
         ],
         "xaxis": "x",
         "y": [
          0.004509122332530557
         ],
         "yaxis": "y"
        },
        {
         "hovertemplate": "Area=Bheemgal<br>Deviance Scores Amount of Fires=%{x}<br>Deviance Scores NOx=%{y}<extra></extra>",
         "legendgroup": "Bheemgal",
         "marker": {
          "color": "#FECB52",
          "symbol": "circle"
         },
         "mode": "markers",
         "name": "Bheemgal",
         "orientation": "v",
         "showlegend": true,
         "type": "scatter",
         "x": [
          -0.00003369236371509577
         ],
         "xaxis": "x",
         "y": [
          -0.0013211678396088816
         ],
         "yaxis": "y"
        },
        {
         "hovertemplate": "Area=Bheemini<br>Deviance Scores Amount of Fires=%{x}<br>Deviance Scores NOx=%{y}<extra></extra>",
         "legendgroup": "Bheemini",
         "marker": {
          "color": "#636efa",
          "symbol": "circle"
         },
         "mode": "markers",
         "name": "Bheemini",
         "orientation": "v",
         "showlegend": true,
         "type": "scatter",
         "x": [
          -0.000051633323216330326
         ],
         "xaxis": "x",
         "y": [
          0.0017911362968879101
         ],
         "yaxis": "y"
        },
        {
         "hovertemplate": "Area=Bheempoor<br>Deviance Scores Amount of Fires=%{x}<br>Deviance Scores NOx=%{y}<extra></extra>",
         "legendgroup": "Bheempoor",
         "marker": {
          "color": "#EF553B",
          "symbol": "circle"
         },
         "mode": "markers",
         "name": "Bheempoor",
         "orientation": "v",
         "showlegend": true,
         "type": "scatter",
         "x": [
          0.00000979224193981311
         ],
         "xaxis": "x",
         "y": [
          0.0018373044964877458
         ],
         "yaxis": "y"
        },
        {
         "hovertemplate": "Area=Bhiknoor<br>Deviance Scores Amount of Fires=%{x}<br>Deviance Scores NOx=%{y}<extra></extra>",
         "legendgroup": "Bhiknoor",
         "marker": {
          "color": "#00cc96",
          "symbol": "circle"
         },
         "mode": "markers",
         "name": "Bhiknoor",
         "orientation": "v",
         "showlegend": true,
         "type": "scatter",
         "x": [
          -0.00009089727774955634
         ],
         "xaxis": "x",
         "y": [
          -0.0025313190200278324
         ],
         "yaxis": "y"
        },
        {
         "hovertemplate": "Area=Bhongiri<br>Deviance Scores Amount of Fires=%{x}<br>Deviance Scores NOx=%{y}<extra></extra>",
         "legendgroup": "Bhongiri",
         "marker": {
          "color": "#ab63fa",
          "symbol": "circle"
         },
         "mode": "markers",
         "name": "Bhongiri",
         "orientation": "v",
         "showlegend": true,
         "type": "scatter",
         "x": [
          0.00001871523130249374
         ],
         "xaxis": "x",
         "y": [
          -0.000649706530490917
         ],
         "yaxis": "y"
        },
        {
         "hovertemplate": "Area=Bhoothpur<br>Deviance Scores Amount of Fires=%{x}<br>Deviance Scores NOx=%{y}<extra></extra>",
         "legendgroup": "Bhoothpur",
         "marker": {
          "color": "#FFA15A",
          "symbol": "circle"
         },
         "mode": "markers",
         "name": "Bhoothpur",
         "orientation": "v",
         "showlegend": true,
         "type": "scatter",
         "x": [
          -0.00005388557230328491
         ],
         "xaxis": "x",
         "y": [
          -0.0007545262454281338
         ],
         "yaxis": "y"
        },
        {
         "hovertemplate": "Area=Bhupalpally<br>Deviance Scores Amount of Fires=%{x}<br>Deviance Scores NOx=%{y}<extra></extra>",
         "legendgroup": "Bhupalpally",
         "marker": {
          "color": "#19d3f3",
          "symbol": "circle"
         },
         "mode": "markers",
         "name": "Bhupalpally",
         "orientation": "v",
         "showlegend": true,
         "type": "scatter",
         "x": [
          -0.00005860659939288905
         ],
         "xaxis": "x",
         "y": [
          0.00038231816807449365
         ],
         "yaxis": "y"
        },
        {
         "hovertemplate": "Area=Bibinagar<br>Deviance Scores Amount of Fires=%{x}<br>Deviance Scores NOx=%{y}<extra></extra>",
         "legendgroup": "Bibinagar",
         "marker": {
          "color": "#FF6692",
          "symbol": "circle"
         },
         "mode": "markers",
         "name": "Bibinagar",
         "orientation": "v",
         "showlegend": true,
         "type": "scatter",
         "x": [
          0.000018011600511526282
         ],
         "xaxis": "x",
         "y": [
          -0.0012130871712632985
         ],
         "yaxis": "y"
        },
        {
         "hovertemplate": "Area=Bibipet<br>Deviance Scores Amount of Fires=%{x}<br>Deviance Scores NOx=%{y}<extra></extra>",
         "legendgroup": "Bibipet",
         "marker": {
          "color": "#B6E880",
          "symbol": "circle"
         },
         "mode": "markers",
         "name": "Bibipet",
         "orientation": "v",
         "showlegend": true,
         "type": "scatter",
         "x": [
          -0.000019977779690741656
         ],
         "xaxis": "x",
         "y": [
          -0.0013375040668950446
         ],
         "yaxis": "y"
        },
        {
         "hovertemplate": "Area=Bijinapalle<br>Deviance Scores Amount of Fires=%{x}<br>Deviance Scores NOx=%{y}<extra></extra>",
         "legendgroup": "Bijinapalle",
         "marker": {
          "color": "#FF97FF",
          "symbol": "circle"
         },
         "mode": "markers",
         "name": "Bijinapalle",
         "orientation": "v",
         "showlegend": true,
         "type": "scatter",
         "x": [
          0.000055083424932321726
         ],
         "xaxis": "x",
         "y": [
          -0.0011727403676163827
         ],
         "yaxis": "y"
        },
        {
         "hovertemplate": "Area=Boath<br>Deviance Scores Amount of Fires=%{x}<br>Deviance Scores NOx=%{y}<extra></extra>",
         "legendgroup": "Boath",
         "marker": {
          "color": "#FECB52",
          "symbol": "circle"
         },
         "mode": "markers",
         "name": "Boath",
         "orientation": "v",
         "showlegend": true,
         "type": "scatter",
         "x": [
          -0.000038656931482939125
         ],
         "xaxis": "x",
         "y": [
          0.000763443722911289
         ],
         "yaxis": "y"
        },
        {
         "hovertemplate": "Area=Bodhan<br>Deviance Scores Amount of Fires=%{x}<br>Deviance Scores NOx=%{y}<extra></extra>",
         "legendgroup": "Bodhan",
         "marker": {
          "color": "#636efa",
          "symbol": "circle"
         },
         "mode": "markers",
         "name": "Bodhan",
         "orientation": "v",
         "showlegend": true,
         "type": "scatter",
         "x": [
          -0.0001067084626713
         ],
         "xaxis": "x",
         "y": [
          0.00003092680006851397
         ],
         "yaxis": "y"
        },
        {
         "hovertemplate": "Area=Boinpalli<br>Deviance Scores Amount of Fires=%{x}<br>Deviance Scores NOx=%{y}<extra></extra>",
         "legendgroup": "Boinpalli",
         "marker": {
          "color": "#EF553B",
          "symbol": "circle"
         },
         "mode": "markers",
         "name": "Boinpalli",
         "orientation": "v",
         "showlegend": true,
         "type": "scatter",
         "x": [
          0.000007224332118073138
         ],
         "xaxis": "x",
         "y": [
          -0.00006801318152989409
         ],
         "yaxis": "y"
        },
        {
         "hovertemplate": "Area=Bommaraspeta<br>Deviance Scores Amount of Fires=%{x}<br>Deviance Scores NOx=%{y}<extra></extra>",
         "legendgroup": "Bommaraspeta",
         "marker": {
          "color": "#00cc96",
          "symbol": "circle"
         },
         "mode": "markers",
         "name": "Bommaraspeta",
         "orientation": "v",
         "showlegend": true,
         "type": "scatter",
         "x": [
          -0.000008944372555280128
         ],
         "xaxis": "x",
         "y": [
          -0.0003721602605320533
         ],
         "yaxis": "y"
        },
        {
         "hovertemplate": "Area=Bonakal<br>Deviance Scores Amount of Fires=%{x}<br>Deviance Scores NOx=%{y}<extra></extra>",
         "legendgroup": "Bonakal",
         "marker": {
          "color": "#ab63fa",
          "symbol": "circle"
         },
         "mode": "markers",
         "name": "Bonakal",
         "orientation": "v",
         "showlegend": true,
         "type": "scatter",
         "x": [
          -0.00008448490114882627
         ],
         "xaxis": "x",
         "y": [
          -0.0006356644374814136
         ],
         "yaxis": "y"
        },
        {
         "hovertemplate": "Area=Buggaram<br>Deviance Scores Amount of Fires=%{x}<br>Deviance Scores NOx=%{y}<extra></extra>",
         "legendgroup": "Buggaram",
         "marker": {
          "color": "#FFA15A",
          "symbol": "circle"
         },
         "mode": "markers",
         "name": "Buggaram",
         "orientation": "v",
         "showlegend": true,
         "type": "scatter",
         "x": [
          -0.0000409741370278184
         ],
         "xaxis": "x",
         "y": [
          0.00045304730665719306
         ],
         "yaxis": "y"
        },
        {
         "hovertemplate": "Area=Burgampadu<br>Deviance Scores Amount of Fires=%{x}<br>Deviance Scores NOx=%{y}<extra></extra>",
         "legendgroup": "Burgampadu",
         "marker": {
          "color": "#19d3f3",
          "symbol": "circle"
         },
         "mode": "markers",
         "name": "Burgampadu",
         "orientation": "v",
         "showlegend": true,
         "type": "scatter",
         "x": [
          0.00006291042931960586
         ],
         "xaxis": "x",
         "y": [
          -0.004622296321820965
         ],
         "yaxis": "y"
        },
        {
         "hovertemplate": "Area=Chandampet<br>Deviance Scores Amount of Fires=%{x}<br>Deviance Scores NOx=%{y}<extra></extra>",
         "legendgroup": "Chandampet",
         "marker": {
          "color": "#FF6692",
          "symbol": "circle"
         },
         "mode": "markers",
         "name": "Chandampet",
         "orientation": "v",
         "showlegend": true,
         "type": "scatter",
         "x": [
          0.00004234121642340661
         ],
         "xaxis": "x",
         "y": [
          -0.0005690459592977541
         ],
         "yaxis": "y"
        },
        {
         "hovertemplate": "Area=Chandrugonda<br>Deviance Scores Amount of Fires=%{x}<br>Deviance Scores NOx=%{y}<extra></extra>",
         "legendgroup": "Chandrugonda",
         "marker": {
          "color": "#B6E880",
          "symbol": "circle"
         },
         "mode": "markers",
         "name": "Chandrugonda",
         "orientation": "v",
         "showlegend": true,
         "type": "scatter",
         "x": [
          -0.000014043345561058767
         ],
         "xaxis": "x",
         "y": [
          -0.0016832576837234742
         ],
         "yaxis": "y"
        },
        {
         "hovertemplate": "Area=Charakonda<br>Deviance Scores Amount of Fires=%{x}<br>Deviance Scores NOx=%{y}<extra></extra>",
         "legendgroup": "Charakonda",
         "marker": {
          "color": "#FF97FF",
          "symbol": "circle"
         },
         "mode": "markers",
         "name": "Charakonda",
         "orientation": "v",
         "showlegend": true,
         "type": "scatter",
         "x": [
          0.0000026745316672900645
         ],
         "xaxis": "x",
         "y": [
          -0.00007297039845268997
         ],
         "yaxis": "y"
        },
        {
         "hovertemplate": "Area=Chendurthi<br>Deviance Scores Amount of Fires=%{x}<br>Deviance Scores NOx=%{y}<extra></extra>",
         "legendgroup": "Chendurthi",
         "marker": {
          "color": "#FECB52",
          "symbol": "circle"
         },
         "mode": "markers",
         "name": "Chendurthi",
         "orientation": "v",
         "showlegend": true,
         "type": "scatter",
         "x": [
          -0.00007703990535824424
         ],
         "xaxis": "x",
         "y": [
          -0.0002792256031160652
         ],
         "yaxis": "y"
        },
        {
         "hovertemplate": "Area=Chennaraopet<br>Deviance Scores Amount of Fires=%{x}<br>Deviance Scores NOx=%{y}<extra></extra>",
         "legendgroup": "Chennaraopet",
         "marker": {
          "color": "#636efa",
          "symbol": "circle"
         },
         "mode": "markers",
         "name": "Chennaraopet",
         "orientation": "v",
         "showlegend": true,
         "type": "scatter",
         "x": [
          0.000047866746645490734
         ],
         "xaxis": "x",
         "y": [
          -0.0002537196164877543
         ],
         "yaxis": "y"
        },
        {
         "hovertemplate": "Area=Chennur<br>Deviance Scores Amount of Fires=%{x}<br>Deviance Scores NOx=%{y}<extra></extra>",
         "legendgroup": "Chennur",
         "marker": {
          "color": "#EF553B",
          "symbol": "circle"
         },
         "mode": "markers",
         "name": "Chennur",
         "orientation": "v",
         "showlegend": true,
         "type": "scatter",
         "x": [
          -0.000007484536475365336
         ],
         "xaxis": "x",
         "y": [
          0.002611359827963304
         ],
         "yaxis": "y"
        },
        {
         "hovertemplate": "Area=Cherial<br>Deviance Scores Amount of Fires=%{x}<br>Deviance Scores NOx=%{y}<extra></extra>",
         "legendgroup": "Cherial",
         "marker": {
          "color": "#00cc96",
          "symbol": "circle"
         },
         "mode": "markers",
         "name": "Cherial",
         "orientation": "v",
         "showlegend": true,
         "type": "scatter",
         "x": [
          -0.000001029581463470491
         ],
         "xaxis": "x",
         "y": [
          -0.0013159252696931993
         ],
         "yaxis": "y"
        },
        {
         "hovertemplate": "Area=Cherla<br>Deviance Scores Amount of Fires=%{x}<br>Deviance Scores NOx=%{y}<extra></extra>",
         "legendgroup": "Cherla",
         "marker": {
          "color": "#ab63fa",
          "symbol": "circle"
         },
         "mode": "markers",
         "name": "Cherla",
         "orientation": "v",
         "showlegend": true,
         "type": "scatter",
         "x": [
          -0.00003260633048153487
         ],
         "xaxis": "x",
         "y": [
          0.00217945657036876
         ],
         "yaxis": "y"
        },
        {
         "hovertemplate": "Area=Chevella<br>Deviance Scores Amount of Fires=%{x}<br>Deviance Scores NOx=%{y}<extra></extra>",
         "legendgroup": "Chevella",
         "marker": {
          "color": "#FFA15A",
          "symbol": "circle"
         },
         "mode": "markers",
         "name": "Chevella",
         "orientation": "v",
         "showlegend": true,
         "type": "scatter",
         "x": [
          0.00006823945796807914
         ],
         "xaxis": "x",
         "y": [
          0.00012030877759376377
         ],
         "yaxis": "y"
        },
        {
         "hovertemplate": "Area=Chigurumamidi<br>Deviance Scores Amount of Fires=%{x}<br>Deviance Scores NOx=%{y}<extra></extra>",
         "legendgroup": "Chigurumamidi",
         "marker": {
          "color": "#19d3f3",
          "symbol": "circle"
         },
         "mode": "markers",
         "name": "Chigurumamidi",
         "orientation": "v",
         "showlegend": true,
         "type": "scatter",
         "x": [
          0.0000779165514871015
         ],
         "xaxis": "x",
         "y": [
          -0.0007769998055864456
         ],
         "yaxis": "y"
        },
        {
         "hovertemplate": "Area=Chinna Chinta Kunta<br>Deviance Scores Amount of Fires=%{x}<br>Deviance Scores NOx=%{y}<extra></extra>",
         "legendgroup": "Chinna Chinta Kunta",
         "marker": {
          "color": "#FF6692",
          "symbol": "circle"
         },
         "mode": "markers",
         "name": "Chinna Chinta Kunta",
         "orientation": "v",
         "showlegend": true,
         "type": "scatter",
         "x": [
          0.000014411245942026244
         ],
         "xaxis": "x",
         "y": [
          -0.002543652261814337
         ],
         "yaxis": "y"
        },
        {
         "hovertemplate": "Area=Chinnakodur<br>Deviance Scores Amount of Fires=%{x}<br>Deviance Scores NOx=%{y}<extra></extra>",
         "legendgroup": "Chinnakodur",
         "marker": {
          "color": "#B6E880",
          "symbol": "circle"
         },
         "mode": "markers",
         "name": "Chinnakodur",
         "orientation": "v",
         "showlegend": true,
         "type": "scatter",
         "x": [
          -0.000038844943648054746
         ],
         "xaxis": "x",
         "y": [
          -0.0006105880465493123
         ],
         "yaxis": "y"
        },
        {
         "hovertemplate": "Area=Chinnambavi<br>Deviance Scores Amount of Fires=%{x}<br>Deviance Scores NOx=%{y}<extra></extra>",
         "legendgroup": "Chinnambavi",
         "marker": {
          "color": "#FF97FF",
          "symbol": "circle"
         },
         "mode": "markers",
         "name": "Chinnambavi",
         "orientation": "v",
         "showlegend": true,
         "type": "scatter",
         "x": [
          0.0000496340884050301
         ],
         "xaxis": "x",
         "y": [
          -0.0002905835611709317
         ],
         "yaxis": "y"
        },
        {
         "hovertemplate": "Area=Chintakani<br>Deviance Scores Amount of Fires=%{x}<br>Deviance Scores NOx=%{y}<extra></extra>",
         "legendgroup": "Chintakani",
         "marker": {
          "color": "#FECB52",
          "symbol": "circle"
         },
         "mode": "markers",
         "name": "Chintakani",
         "orientation": "v",
         "showlegend": true,
         "type": "scatter",
         "x": [
          0.00007738832170335005
         ],
         "xaxis": "x",
         "y": [
          -0.00036482193514420343
         ],
         "yaxis": "y"
        },
        {
         "hovertemplate": "Area=Chintalamanepally<br>Deviance Scores Amount of Fires=%{x}<br>Deviance Scores NOx=%{y}<extra></extra>",
         "legendgroup": "Chintalamanepally",
         "marker": {
          "color": "#636efa",
          "symbol": "circle"
         },
         "mode": "markers",
         "name": "Chintalamanepally",
         "orientation": "v",
         "showlegend": true,
         "type": "scatter",
         "x": [
          -0.000009717083699700925
         ],
         "xaxis": "x",
         "y": [
          0.00116277878414984
         ],
         "yaxis": "y"
        },
        {
         "hovertemplate": "Area=Chinthala palem<br>Deviance Scores Amount of Fires=%{x}<br>Deviance Scores NOx=%{y}<extra></extra>",
         "legendgroup": "Chinthala palem",
         "marker": {
          "color": "#EF553B",
          "symbol": "circle"
         },
         "mode": "markers",
         "name": "Chinthala palem",
         "orientation": "v",
         "showlegend": true,
         "type": "scatter",
         "x": [
          -0.00001398171812595507
         ],
         "xaxis": "x",
         "y": [
          -0.0008068245662417447
         ],
         "yaxis": "y"
        },
        {
         "hovertemplate": "Area=Chinthapally<br>Deviance Scores Amount of Fires=%{x}<br>Deviance Scores NOx=%{y}<extra></extra>",
         "legendgroup": "Chinthapally",
         "marker": {
          "color": "#00cc96",
          "symbol": "circle"
         },
         "mode": "markers",
         "name": "Chinthapally",
         "orientation": "v",
         "showlegend": true,
         "type": "scatter",
         "x": [
          0.0002119332439792
         ],
         "xaxis": "x",
         "y": [
          -0.0002809863311244539
         ],
         "yaxis": "y"
        },
        {
         "hovertemplate": "Area=Chityal<br>Deviance Scores Amount of Fires=%{x}<br>Deviance Scores NOx=%{y}<extra></extra>",
         "legendgroup": "Chityal",
         "marker": {
          "color": "#ab63fa",
          "symbol": "circle"
         },
         "mode": "markers",
         "name": "Chityal",
         "orientation": "v",
         "showlegend": true,
         "type": "scatter",
         "x": [
          0.000040384507085711405,
          0.00003936290505146362
         ],
         "xaxis": "x",
         "y": [
          0.0002752728104798123,
          -0.0007844956845823923
         ],
         "yaxis": "y"
        },
        {
         "hovertemplate": "Area=Chivvemla<br>Deviance Scores Amount of Fires=%{x}<br>Deviance Scores NOx=%{y}<extra></extra>",
         "legendgroup": "Chivvemla",
         "marker": {
          "color": "#FFA15A",
          "symbol": "circle"
         },
         "mode": "markers",
         "name": "Chivvemla",
         "orientation": "v",
         "showlegend": true,
         "type": "scatter",
         "x": [
          0.000013678012480492226
         ],
         "xaxis": "x",
         "y": [
          -0.0008837293964950192
         ],
         "yaxis": "y"
        },
        {
         "hovertemplate": "Area=Choppadandi<br>Deviance Scores Amount of Fires=%{x}<br>Deviance Scores NOx=%{y}<extra></extra>",
         "legendgroup": "Choppadandi",
         "marker": {
          "color": "#19d3f3",
          "symbol": "circle"
         },
         "mode": "markers",
         "name": "Choppadandi",
         "orientation": "v",
         "showlegend": true,
         "type": "scatter",
         "x": [
          0.0001866136126838
         ],
         "xaxis": "x",
         "y": [
          0.0008535238985311722
         ],
         "yaxis": "y"
        },
        {
         "hovertemplate": "Area=Choutuppal<br>Deviance Scores Amount of Fires=%{x}<br>Deviance Scores NOx=%{y}<extra></extra>",
         "legendgroup": "Choutuppal",
         "marker": {
          "color": "#FF6692",
          "symbol": "circle"
         },
         "mode": "markers",
         "name": "Choutuppal",
         "orientation": "v",
         "showlegend": true,
         "type": "scatter",
         "x": [
          0.0000049819216179297886
         ],
         "xaxis": "x",
         "y": [
          -0.0008615990168851821
         ],
         "yaxis": "y"
        },
        {
         "hovertemplate": "Area=Chunchupally<br>Deviance Scores Amount of Fires=%{x}<br>Deviance Scores NOx=%{y}<extra></extra>",
         "legendgroup": "Chunchupally",
         "marker": {
          "color": "#B6E880",
          "symbol": "circle"
         },
         "mode": "markers",
         "name": "Chunchupally",
         "orientation": "v",
         "showlegend": true,
         "type": "scatter",
         "x": [
          0.0001640766923315
         ],
         "xaxis": "x",
         "y": [
          -0.0030887223722759634
         ],
         "yaxis": "y"
        },
        {
         "hovertemplate": "Area=Dahegaon<br>Deviance Scores Amount of Fires=%{x}<br>Deviance Scores NOx=%{y}<extra></extra>",
         "legendgroup": "Dahegaon",
         "marker": {
          "color": "#FF97FF",
          "symbol": "circle"
         },
         "mode": "markers",
         "name": "Dahegaon",
         "orientation": "v",
         "showlegend": true,
         "type": "scatter",
         "x": [
          0.00005205641885558323
         ],
         "xaxis": "x",
         "y": [
          0.0018700886075016714
         ],
         "yaxis": "y"
        },
        {
         "hovertemplate": "Area=Damaracherla<br>Deviance Scores Amount of Fires=%{x}<br>Deviance Scores NOx=%{y}<extra></extra>",
         "legendgroup": "Damaracherla",
         "marker": {
          "color": "#FECB52",
          "symbol": "circle"
         },
         "mode": "markers",
         "name": "Damaracherla",
         "orientation": "v",
         "showlegend": true,
         "type": "scatter",
         "x": [
          -0.00002826023360395315
         ],
         "xaxis": "x",
         "y": [
          0.0000962466435230038
         ],
         "yaxis": "y"
        },
        {
         "hovertemplate": "Area=Damargidda<br>Deviance Scores Amount of Fires=%{x}<br>Deviance Scores NOx=%{y}<extra></extra>",
         "legendgroup": "Damargidda",
         "marker": {
          "color": "#636efa",
          "symbol": "circle"
         },
         "mode": "markers",
         "name": "Damargidda",
         "orientation": "v",
         "showlegend": true,
         "type": "scatter",
         "x": [
          -0.00002032454838750726
         ],
         "xaxis": "x",
         "y": [
          -0.00004936576066894563
         ],
         "yaxis": "y"
        },
        {
         "hovertemplate": "Area=Damera<br>Deviance Scores Amount of Fires=%{x}<br>Deviance Scores NOx=%{y}<extra></extra>",
         "legendgroup": "Damera",
         "marker": {
          "color": "#EF553B",
          "symbol": "circle"
         },
         "mode": "markers",
         "name": "Damera",
         "orientation": "v",
         "showlegend": true,
         "type": "scatter",
         "x": [
          -0.000019605896355022808
         ],
         "xaxis": "x",
         "y": [
          -0.0007218376749992001
         ],
         "yaxis": "y"
        },
        {
         "hovertemplate": "Area=Dammapeta<br>Deviance Scores Amount of Fires=%{x}<br>Deviance Scores NOx=%{y}<extra></extra>",
         "legendgroup": "Dammapeta",
         "marker": {
          "color": "#00cc96",
          "symbol": "circle"
         },
         "mode": "markers",
         "name": "Dammapeta",
         "orientation": "v",
         "showlegend": true,
         "type": "scatter",
         "x": [
          -0.000011841678451211177
         ],
         "xaxis": "x",
         "y": [
          -0.0016645315741785464
         ],
         "yaxis": "y"
        },
        {
         "hovertemplate": "Area=Dandepalle<br>Deviance Scores Amount of Fires=%{x}<br>Deviance Scores NOx=%{y}<extra></extra>",
         "legendgroup": "Dandepalle",
         "marker": {
          "color": "#ab63fa",
          "symbol": "circle"
         },
         "mode": "markers",
         "name": "Dandepalle",
         "orientation": "v",
         "showlegend": true,
         "type": "scatter",
         "x": [
          -0.000007454768512773685
         ],
         "xaxis": "x",
         "y": [
          0.001439839332698485
         ],
         "yaxis": "y"
        },
        {
         "hovertemplate": "Area=Danthalapalle<br>Deviance Scores Amount of Fires=%{x}<br>Deviance Scores NOx=%{y}<extra></extra>",
         "legendgroup": "Danthalapalle",
         "marker": {
          "color": "#FFA15A",
          "symbol": "circle"
         },
         "mode": "markers",
         "name": "Danthalapalle",
         "orientation": "v",
         "showlegend": true,
         "type": "scatter",
         "x": [
          0.00008920669995884536
         ],
         "xaxis": "x",
         "y": [
          -0.0008489658285088634
         ],
         "yaxis": "y"
        },
        {
         "hovertemplate": "Area=Devarakonda<br>Deviance Scores Amount of Fires=%{x}<br>Deviance Scores NOx=%{y}<extra></extra>",
         "legendgroup": "Devarakonda",
         "marker": {
          "color": "#19d3f3",
          "symbol": "circle"
         },
         "mode": "markers",
         "name": "Devarakonda",
         "orientation": "v",
         "showlegend": true,
         "type": "scatter",
         "x": [
          0.00005749405656366281
         ],
         "xaxis": "x",
         "y": [
          -0.00020217571242572222
         ],
         "yaxis": "y"
        },
        {
         "hovertemplate": "Area=Devarkadra<br>Deviance Scores Amount of Fires=%{x}<br>Deviance Scores NOx=%{y}<extra></extra>",
         "legendgroup": "Devarkadra",
         "marker": {
          "color": "#FF6692",
          "symbol": "circle"
         },
         "mode": "markers",
         "name": "Devarkadra",
         "orientation": "v",
         "showlegend": true,
         "type": "scatter",
         "x": [
          0.00007825755259941895
         ],
         "xaxis": "x",
         "y": [
          -0.0016456873185625657
         ],
         "yaxis": "y"
        },
        {
         "hovertemplate": "Area=Devaruppula<br>Deviance Scores Amount of Fires=%{x}<br>Deviance Scores NOx=%{y}<extra></extra>",
         "legendgroup": "Devaruppula",
         "marker": {
          "color": "#B6E880",
          "symbol": "circle"
         },
         "mode": "markers",
         "name": "Devaruppula",
         "orientation": "v",
         "showlegend": true,
         "type": "scatter",
         "x": [
          0.00002599279567009284
         ],
         "xaxis": "x",
         "y": [
          0.00020437517144741268
         ],
         "yaxis": "y"
        },
        {
         "hovertemplate": "Area=Dhanwada<br>Deviance Scores Amount of Fires=%{x}<br>Deviance Scores NOx=%{y}<extra></extra>",
         "legendgroup": "Dhanwada",
         "marker": {
          "color": "#FF97FF",
          "symbol": "circle"
         },
         "mode": "markers",
         "name": "Dhanwada",
         "orientation": "v",
         "showlegend": true,
         "type": "scatter",
         "x": [
          -0.000008517173742803076
         ],
         "xaxis": "x",
         "y": [
          -0.0016184632063290733
         ],
         "yaxis": "y"
        },
        {
         "hovertemplate": "Area=Dharmapuri<br>Deviance Scores Amount of Fires=%{x}<br>Deviance Scores NOx=%{y}<extra></extra>",
         "legendgroup": "Dharmapuri",
         "marker": {
          "color": "#FECB52",
          "symbol": "circle"
         },
         "mode": "markers",
         "name": "Dharmapuri",
         "orientation": "v",
         "showlegend": true,
         "type": "scatter",
         "x": [
          0.000008943456334268608
         ],
         "xaxis": "x",
         "y": [
          0.0008140279614334691
         ],
         "yaxis": "y"
        },
        {
         "hovertemplate": "Area=Dharmaram<br>Deviance Scores Amount of Fires=%{x}<br>Deviance Scores NOx=%{y}<extra></extra>",
         "legendgroup": "Dharmaram",
         "marker": {
          "color": "#636efa",
          "symbol": "circle"
         },
         "mode": "markers",
         "name": "Dharmaram",
         "orientation": "v",
         "showlegend": true,
         "type": "scatter",
         "x": [
          0.000008369255947338253
         ],
         "xaxis": "x",
         "y": [
          0.0004472880403184681
         ],
         "yaxis": "y"
        },
        {
         "hovertemplate": "Area=Dharoor<br>Deviance Scores Amount of Fires=%{x}<br>Deviance Scores NOx=%{y}<extra></extra>",
         "legendgroup": "Dharoor",
         "marker": {
          "color": "#EF553B",
          "symbol": "circle"
         },
         "mode": "markers",
         "name": "Dharoor",
         "orientation": "v",
         "showlegend": true,
         "type": "scatter",
         "x": [
          -0.000006069973463916811,
          -0.00002184807612306133
         ],
         "xaxis": "x",
         "y": [
          -0.0025390732756815694,
          0.00017442204194448714
         ],
         "yaxis": "y"
        },
        {
         "hovertemplate": "Area=Dharpally<br>Deviance Scores Amount of Fires=%{x}<br>Deviance Scores NOx=%{y}<extra></extra>",
         "legendgroup": "Dharpally",
         "marker": {
          "color": "#00cc96",
          "symbol": "circle"
         },
         "mode": "markers",
         "name": "Dharpally",
         "orientation": "v",
         "showlegend": true,
         "type": "scatter",
         "x": [
          0.0000015129727162137844
         ],
         "xaxis": "x",
         "y": [
          -0.00047822886048573386
         ],
         "yaxis": "y"
        },
        {
         "hovertemplate": "Area=Dichpally<br>Deviance Scores Amount of Fires=%{x}<br>Deviance Scores NOx=%{y}<extra></extra>",
         "legendgroup": "Dichpally",
         "marker": {
          "color": "#ab63fa",
          "symbol": "circle"
         },
         "mode": "markers",
         "name": "Dichpally",
         "orientation": "v",
         "showlegend": true,
         "type": "scatter",
         "x": [
          0.00003188496805450261
         ],
         "xaxis": "x",
         "y": [
          -0.0005395632867796146
         ],
         "yaxis": "y"
        },
        {
         "hovertemplate": "Area=Dilawarpur<br>Deviance Scores Amount of Fires=%{x}<br>Deviance Scores NOx=%{y}<extra></extra>",
         "legendgroup": "Dilawarpur",
         "marker": {
          "color": "#FFA15A",
          "symbol": "circle"
         },
         "mode": "markers",
         "name": "Dilawarpur",
         "orientation": "v",
         "showlegend": true,
         "type": "scatter",
         "x": [
          0.000025284389405894154
         ],
         "xaxis": "x",
         "y": [
          0.0005042939299975202
         ],
         "yaxis": "y"
        },
        {
         "hovertemplate": "Area=Dornakal<br>Deviance Scores Amount of Fires=%{x}<br>Deviance Scores NOx=%{y}<extra></extra>",
         "legendgroup": "Dornakal",
         "marker": {
          "color": "#19d3f3",
          "symbol": "circle"
         },
         "mode": "markers",
         "name": "Dornakal",
         "orientation": "v",
         "showlegend": true,
         "type": "scatter",
         "x": [
          -0.00004139731661049024
         ],
         "xaxis": "x",
         "y": [
          -0.0004560267566149213
         ],
         "yaxis": "y"
        },
        {
         "hovertemplate": "Area=Doulthabad<br>Deviance Scores Amount of Fires=%{x}<br>Deviance Scores NOx=%{y}<extra></extra>",
         "legendgroup": "Doulthabad",
         "marker": {
          "color": "#FF6692",
          "symbol": "circle"
         },
         "mode": "markers",
         "name": "Doulthabad",
         "orientation": "v",
         "showlegend": true,
         "type": "scatter",
         "x": [
          -0.000003473053285653931
         ],
         "xaxis": "x",
         "y": [
          -0.00024301968343725227
         ],
         "yaxis": "y"
        },
        {
         "hovertemplate": "Area=Dubbak<br>Deviance Scores Amount of Fires=%{x}<br>Deviance Scores NOx=%{y}<extra></extra>",
         "legendgroup": "Dubbak",
         "marker": {
          "color": "#B6E880",
          "symbol": "circle"
         },
         "mode": "markers",
         "name": "Dubbak",
         "orientation": "v",
         "showlegend": true,
         "type": "scatter",
         "x": [
          -0.00008127562409694963
         ],
         "xaxis": "x",
         "y": [
          -0.0013415714222789878
         ],
         "yaxis": "y"
        },
        {
         "hovertemplate": "Area=Dummugudem<br>Deviance Scores Amount of Fires=%{x}<br>Deviance Scores NOx=%{y}<extra></extra>",
         "legendgroup": "Dummugudem",
         "marker": {
          "color": "#FF97FF",
          "symbol": "circle"
         },
         "mode": "markers",
         "name": "Dummugudem",
         "orientation": "v",
         "showlegend": true,
         "type": "scatter",
         "x": [
          0.000003992167966019302
         ],
         "xaxis": "x",
         "y": [
          -0.000045479893001890014
         ],
         "yaxis": "y"
        },
        {
         "hovertemplate": "Area=Dundigal Gandimaisamma<br>Deviance Scores Amount of Fires=%{x}<br>Deviance Scores NOx=%{y}<extra></extra>",
         "legendgroup": "Dundigal Gandimaisamma",
         "marker": {
          "color": "#FECB52",
          "symbol": "circle"
         },
         "mode": "markers",
         "name": "Dundigal Gandimaisamma",
         "orientation": "v",
         "showlegend": true,
         "type": "scatter",
         "x": [
          -0.000004459557274881877
         ],
         "xaxis": "x",
         "y": [
          -0.0005525610266748782
         ],
         "yaxis": "y"
        },
        {
         "hovertemplate": "Area=Eligaid<br>Deviance Scores Amount of Fires=%{x}<br>Deviance Scores NOx=%{y}<extra></extra>",
         "legendgroup": "Eligaid",
         "marker": {
          "color": "#636efa",
          "symbol": "circle"
         },
         "mode": "markers",
         "name": "Eligaid",
         "orientation": "v",
         "showlegend": true,
         "type": "scatter",
         "x": [
          0.0001220322749828
         ],
         "xaxis": "x",
         "y": [
          -0.0004619154176666846
         ],
         "yaxis": "y"
        },
        {
         "hovertemplate": "Area=Ellandakunta<br>Deviance Scores Amount of Fires=%{x}<br>Deviance Scores NOx=%{y}<extra></extra>",
         "legendgroup": "Ellandakunta",
         "marker": {
          "color": "#EF553B",
          "symbol": "circle"
         },
         "mode": "markers",
         "name": "Ellandakunta",
         "orientation": "v",
         "showlegend": true,
         "type": "scatter",
         "x": [
          0.000059951990056436176
         ],
         "xaxis": "x",
         "y": [
          -0.0007750454694640866
         ],
         "yaxis": "y"
        },
        {
         "hovertemplate": "Area=Eturnagaram<br>Deviance Scores Amount of Fires=%{x}<br>Deviance Scores NOx=%{y}<extra></extra>",
         "legendgroup": "Eturnagaram",
         "marker": {
          "color": "#00cc96",
          "symbol": "circle"
         },
         "mode": "markers",
         "name": "Eturnagaram",
         "orientation": "v",
         "showlegend": true,
         "type": "scatter",
         "x": [
          -0.0001921335410768
         ],
         "xaxis": "x",
         "y": [
          0.0008892052432957267
         ],
         "yaxis": "y"
        },
        {
         "hovertemplate": "Area=Farooqnagar<br>Deviance Scores Amount of Fires=%{x}<br>Deviance Scores NOx=%{y}<extra></extra>",
         "legendgroup": "Farooqnagar",
         "marker": {
          "color": "#ab63fa",
          "symbol": "circle"
         },
         "mode": "markers",
         "name": "Farooqnagar",
         "orientation": "v",
         "showlegend": true,
         "type": "scatter",
         "x": [
          -0.00002489211647417153
         ],
         "xaxis": "x",
         "y": [
          -0.00035097885522822076
         ],
         "yaxis": "y"
        },
        {
         "hovertemplate": "Area=Gadwal<br>Deviance Scores Amount of Fires=%{x}<br>Deviance Scores NOx=%{y}<extra></extra>",
         "legendgroup": "Gadwal",
         "marker": {
          "color": "#FFA15A",
          "symbol": "circle"
         },
         "mode": "markers",
         "name": "Gadwal",
         "orientation": "v",
         "showlegend": true,
         "type": "scatter",
         "x": [
          -0.000030620885484275633
         ],
         "xaxis": "x",
         "y": [
          -0.002323805146491338
         ],
         "yaxis": "y"
        },
        {
         "hovertemplate": "Area=Gajwel<br>Deviance Scores Amount of Fires=%{x}<br>Deviance Scores NOx=%{y}<extra></extra>",
         "legendgroup": "Gajwel",
         "marker": {
          "color": "#19d3f3",
          "symbol": "circle"
         },
         "mode": "markers",
         "name": "Gajwel",
         "orientation": "v",
         "showlegend": true,
         "type": "scatter",
         "x": [
          -0.000011035118115307111
         ],
         "xaxis": "x",
         "y": [
          -0.00078207179433984
         ],
         "yaxis": "y"
        },
        {
         "hovertemplate": "Area=Gambhiraopet<br>Deviance Scores Amount of Fires=%{x}<br>Deviance Scores NOx=%{y}<extra></extra>",
         "legendgroup": "Gambhiraopet",
         "marker": {
          "color": "#FF6692",
          "symbol": "circle"
         },
         "mode": "markers",
         "name": "Gambhiraopet",
         "orientation": "v",
         "showlegend": true,
         "type": "scatter",
         "x": [
          -0.00001721058799524249
         ],
         "xaxis": "x",
         "y": [
          0.0002820284803030995
         ],
         "yaxis": "y"
        },
        {
         "hovertemplate": "Area=Gandhari<br>Deviance Scores Amount of Fires=%{x}<br>Deviance Scores NOx=%{y}<extra></extra>",
         "legendgroup": "Gandhari",
         "marker": {
          "color": "#B6E880",
          "symbol": "circle"
         },
         "mode": "markers",
         "name": "Gandhari",
         "orientation": "v",
         "showlegend": true,
         "type": "scatter",
         "x": [
          0.00007148932942127725
         ],
         "xaxis": "x",
         "y": [
          -0.00033644049150467135
         ],
         "yaxis": "y"
        },
        {
         "hovertemplate": "Area=Gangadhara<br>Deviance Scores Amount of Fires=%{x}<br>Deviance Scores NOx=%{y}<extra></extra>",
         "legendgroup": "Gangadhara",
         "marker": {
          "color": "#FF97FF",
          "symbol": "circle"
         },
         "mode": "markers",
         "name": "Gangadhara",
         "orientation": "v",
         "showlegend": true,
         "type": "scatter",
         "x": [
          0.000044880487731866434
         ],
         "xaxis": "x",
         "y": [
          -0.00006507240154863967
         ],
         "yaxis": "y"
        },
        {
         "hovertemplate": "Area=Gangaram<br>Deviance Scores Amount of Fires=%{x}<br>Deviance Scores NOx=%{y}<extra></extra>",
         "legendgroup": "Gangaram",
         "marker": {
          "color": "#FECB52",
          "symbol": "circle"
         },
         "mode": "markers",
         "name": "Gangaram",
         "orientation": "v",
         "showlegend": true,
         "type": "scatter",
         "x": [
          -0.0002239626799046
         ],
         "xaxis": "x",
         "y": [
          -0.00028940634440919536
         ],
         "yaxis": "y"
        },
        {
         "hovertemplate": "Area=Garidepalli<br>Deviance Scores Amount of Fires=%{x}<br>Deviance Scores NOx=%{y}<extra></extra>",
         "legendgroup": "Garidepalli",
         "marker": {
          "color": "#636efa",
          "symbol": "circle"
         },
         "mode": "markers",
         "name": "Garidepalli",
         "orientation": "v",
         "showlegend": true,
         "type": "scatter",
         "x": [
          -0.0000017408686113186543
         ],
         "xaxis": "x",
         "y": [
          0.00027656595289868774
         ],
         "yaxis": "y"
        },
        {
         "hovertemplate": "Area=Geesugonda<br>Deviance Scores Amount of Fires=%{x}<br>Deviance Scores NOx=%{y}<extra></extra>",
         "legendgroup": "Geesugonda",
         "marker": {
          "color": "#EF553B",
          "symbol": "circle"
         },
         "mode": "markers",
         "name": "Geesugonda",
         "orientation": "v",
         "showlegend": true,
         "type": "scatter",
         "x": [
          -0.00005413192853862896
         ],
         "xaxis": "x",
         "y": [
          0.00010579267478003902
         ],
         "yaxis": "y"
        },
        {
         "hovertemplate": "Area=Ghanapur_Mulug<br>Deviance Scores Amount of Fires=%{x}<br>Deviance Scores NOx=%{y}<extra></extra>",
         "legendgroup": "Ghanapur_Mulug",
         "marker": {
          "color": "#00cc96",
          "symbol": "circle"
         },
         "mode": "markers",
         "name": "Ghanapur_Mulug",
         "orientation": "v",
         "showlegend": true,
         "type": "scatter",
         "x": [
          -0.0002605550167632
         ],
         "xaxis": "x",
         "y": [
          0.0007002021050339966
         ],
         "yaxis": "y"
        },
        {
         "hovertemplate": "Area=Ghanpur (Stn)<br>Deviance Scores Amount of Fires=%{x}<br>Deviance Scores NOx=%{y}<extra></extra>",
         "legendgroup": "Ghanpur (Stn)",
         "marker": {
          "color": "#ab63fa",
          "symbol": "circle"
         },
         "mode": "markers",
         "name": "Ghanpur (Stn)",
         "orientation": "v",
         "showlegend": true,
         "type": "scatter",
         "x": [
          2.3737293855997e-7
         ],
         "xaxis": "x",
         "y": [
          0.00104483574449856
         ],
         "yaxis": "y"
        },
        {
         "hovertemplate": "Area=Ghatkesar<br>Deviance Scores Amount of Fires=%{x}<br>Deviance Scores NOx=%{y}<extra></extra>",
         "legendgroup": "Ghatkesar",
         "marker": {
          "color": "#FFA15A",
          "symbol": "circle"
         },
         "mode": "markers",
         "name": "Ghatkesar",
         "orientation": "v",
         "showlegend": true,
         "type": "scatter",
         "x": [
          0.000029923229311385786
         ],
         "xaxis": "x",
         "y": [
          -0.0010321954235648512
         ],
         "yaxis": "y"
        },
        {
         "hovertemplate": "Area=Ghattu<br>Deviance Scores Amount of Fires=%{x}<br>Deviance Scores NOx=%{y}<extra></extra>",
         "legendgroup": "Ghattu",
         "marker": {
          "color": "#19d3f3",
          "symbol": "circle"
         },
         "mode": "markers",
         "name": "Ghattu",
         "orientation": "v",
         "showlegend": true,
         "type": "scatter",
         "x": [
          0.000006040587210744618
         ],
         "xaxis": "x",
         "y": [
          -0.0022273449392107934
         ],
         "yaxis": "y"
        },
        {
         "hovertemplate": "Area=Govindaraopet<br>Deviance Scores Amount of Fires=%{x}<br>Deviance Scores NOx=%{y}<extra></extra>",
         "legendgroup": "Govindaraopet",
         "marker": {
          "color": "#FF6692",
          "symbol": "circle"
         },
         "mode": "markers",
         "name": "Govindaraopet",
         "orientation": "v",
         "showlegend": true,
         "type": "scatter",
         "x": [
          -0.0002137028568814
         ],
         "xaxis": "x",
         "y": [
          -0.0015201415703638185
         ],
         "yaxis": "y"
        },
        {
         "hovertemplate": "Area=Gudur<br>Deviance Scores Amount of Fires=%{x}<br>Deviance Scores NOx=%{y}<extra></extra>",
         "legendgroup": "Gudur",
         "marker": {
          "color": "#B6E880",
          "symbol": "circle"
         },
         "mode": "markers",
         "name": "Gudur",
         "orientation": "v",
         "showlegend": true,
         "type": "scatter",
         "x": [
          0.0000036045301071200326
         ],
         "xaxis": "x",
         "y": [
          -0.0008547355421933331
         ],
         "yaxis": "y"
        },
        {
         "hovertemplate": "Area=Gundala<br>Deviance Scores Amount of Fires=%{x}<br>Deviance Scores NOx=%{y}<extra></extra>",
         "legendgroup": "Gundala",
         "marker": {
          "color": "#FF97FF",
          "symbol": "circle"
         },
         "mode": "markers",
         "name": "Gundala",
         "orientation": "v",
         "showlegend": true,
         "type": "scatter",
         "x": [
          -0.0005573034548833,
          0.0001083083696327
         ],
         "xaxis": "x",
         "y": [
          -0.0003316474702715511,
          -0.00016533852178094525
         ],
         "yaxis": "y"
        },
        {
         "hovertemplate": "Area=Gundlapally<br>Deviance Scores Amount of Fires=%{x}<br>Deviance Scores NOx=%{y}<extra></extra>",
         "legendgroup": "Gundlapally",
         "marker": {
          "color": "#FECB52",
          "symbol": "circle"
         },
         "mode": "markers",
         "name": "Gundlapally",
         "orientation": "v",
         "showlegend": true,
         "type": "scatter",
         "x": [
          0.00003306348524368044
         ],
         "xaxis": "x",
         "y": [
          -0.000035207017798537604
         ],
         "yaxis": "y"
        },
        {
         "hovertemplate": "Area=Gurrampode<br>Deviance Scores Amount of Fires=%{x}<br>Deviance Scores NOx=%{y}<extra></extra>",
         "legendgroup": "Gurrampode",
         "marker": {
          "color": "#636efa",
          "symbol": "circle"
         },
         "mode": "markers",
         "name": "Gurrampode",
         "orientation": "v",
         "showlegend": true,
         "type": "scatter",
         "x": [
          0.000003918470083062929
         ],
         "xaxis": "x",
         "y": [
          0.0002433344610227449
         ],
         "yaxis": "y"
        },
        {
         "hovertemplate": "Area=Hajipur<br>Deviance Scores Amount of Fires=%{x}<br>Deviance Scores NOx=%{y}<extra></extra>",
         "legendgroup": "Hajipur",
         "marker": {
          "color": "#EF553B",
          "symbol": "circle"
         },
         "mode": "markers",
         "name": "Hajipur",
         "orientation": "v",
         "showlegend": true,
         "type": "scatter",
         "x": [
          -0.00000988712134653139
         ],
         "xaxis": "x",
         "y": [
          0.001612002191226331
         ],
         "yaxis": "y"
        },
        {
         "hovertemplate": "Area=Hasanparthy<br>Deviance Scores Amount of Fires=%{x}<br>Deviance Scores NOx=%{y}<extra></extra>",
         "legendgroup": "Hasanparthy",
         "marker": {
          "color": "#00cc96",
          "symbol": "circle"
         },
         "mode": "markers",
         "name": "Hasanparthy",
         "orientation": "v",
         "showlegend": true,
         "type": "scatter",
         "x": [
          0.00001910853066350949
         ],
         "xaxis": "x",
         "y": [
          0.000154633015925687
         ],
         "yaxis": "y"
        },
        {
         "hovertemplate": "Area=Hathnoora<br>Deviance Scores Amount of Fires=%{x}<br>Deviance Scores NOx=%{y}<extra></extra>",
         "legendgroup": "Hathnoora",
         "marker": {
          "color": "#ab63fa",
          "symbol": "circle"
         },
         "mode": "markers",
         "name": "Hathnoora",
         "orientation": "v",
         "showlegend": true,
         "type": "scatter",
         "x": [
          -0.000051850947344571137
         ],
         "xaxis": "x",
         "y": [
          -0.0006388042927854018
         ],
         "yaxis": "y"
        },
        {
         "hovertemplate": "Area=Havelighanpur<br>Deviance Scores Amount of Fires=%{x}<br>Deviance Scores NOx=%{y}<extra></extra>",
         "legendgroup": "Havelighanpur",
         "marker": {
          "color": "#FFA15A",
          "symbol": "circle"
         },
         "mode": "markers",
         "name": "Havelighanpur",
         "orientation": "v",
         "showlegend": true,
         "type": "scatter",
         "x": [
          -0.00006065654705303585
         ],
         "xaxis": "x",
         "y": [
          -0.002833604817251873
         ],
         "yaxis": "y"
        },
        {
         "hovertemplate": "Area=Husnabad<br>Deviance Scores Amount of Fires=%{x}<br>Deviance Scores NOx=%{y}<extra></extra>",
         "legendgroup": "Husnabad",
         "marker": {
          "color": "#19d3f3",
          "symbol": "circle"
         },
         "mode": "markers",
         "name": "Husnabad",
         "orientation": "v",
         "showlegend": true,
         "type": "scatter",
         "x": [
          -0.00004677382661652892
         ],
         "xaxis": "x",
         "y": [
          -0.0004062223434610755
         ],
         "yaxis": "y"
        },
        {
         "hovertemplate": "Area=Huzur nagar<br>Deviance Scores Amount of Fires=%{x}<br>Deviance Scores NOx=%{y}<extra></extra>",
         "legendgroup": "Huzur nagar",
         "marker": {
          "color": "#FF6692",
          "symbol": "circle"
         },
         "mode": "markers",
         "name": "Huzur nagar",
         "orientation": "v",
         "showlegend": true,
         "type": "scatter",
         "x": [
          -0.0001271187345737
         ],
         "xaxis": "x",
         "y": [
          0.00033604593625593073
         ],
         "yaxis": "y"
        },
        {
         "hovertemplate": "Area=Huzurabad<br>Deviance Scores Amount of Fires=%{x}<br>Deviance Scores NOx=%{y}<extra></extra>",
         "legendgroup": "Huzurabad",
         "marker": {
          "color": "#B6E880",
          "symbol": "circle"
         },
         "mode": "markers",
         "name": "Huzurabad",
         "orientation": "v",
         "showlegend": true,
         "type": "scatter",
         "x": [
          0.00005829855839404941
         ],
         "xaxis": "x",
         "y": [
          -0.0006486098125666783
         ],
         "yaxis": "y"
        },
        {
         "hovertemplate": "Area=Ibrahimpatnam<br>Deviance Scores Amount of Fires=%{x}<br>Deviance Scores NOx=%{y}<extra></extra>",
         "legendgroup": "Ibrahimpatnam",
         "marker": {
          "color": "#FF97FF",
          "symbol": "circle"
         },
         "mode": "markers",
         "name": "Ibrahimpatnam",
         "orientation": "v",
         "showlegend": true,
         "type": "scatter",
         "x": [
          0.00007898809739634305,
          0.00002907189251065565
         ],
         "xaxis": "x",
         "y": [
          -0.0011543967906304116,
          -0.0003644014997247411
         ],
         "yaxis": "y"
        },
        {
         "hovertemplate": "Area=Ichoda<br>Deviance Scores Amount of Fires=%{x}<br>Deviance Scores NOx=%{y}<extra></extra>",
         "legendgroup": "Ichoda",
         "marker": {
          "color": "#FECB52",
          "symbol": "circle"
         },
         "mode": "markers",
         "name": "Ichoda",
         "orientation": "v",
         "showlegend": true,
         "type": "scatter",
         "x": [
          -0.000024948926792639987
         ],
         "xaxis": "x",
         "y": [
          0.0014718942565028576
         ],
         "yaxis": "y"
        },
        {
         "hovertemplate": "Area=Illanthakunta<br>Deviance Scores Amount of Fires=%{x}<br>Deviance Scores NOx=%{y}<extra></extra>",
         "legendgroup": "Illanthakunta",
         "marker": {
          "color": "#636efa",
          "symbol": "circle"
         },
         "mode": "markers",
         "name": "Illanthakunta",
         "orientation": "v",
         "showlegend": true,
         "type": "scatter",
         "x": [
          -0.0000066256898455693445
         ],
         "xaxis": "x",
         "y": [
          -0.0006158278797967582
         ],
         "yaxis": "y"
        },
        {
         "hovertemplate": "Area=Inavolu<br>Deviance Scores Amount of Fires=%{x}<br>Deviance Scores NOx=%{y}<extra></extra>",
         "legendgroup": "Inavolu",
         "marker": {
          "color": "#EF553B",
          "symbol": "circle"
         },
         "mode": "markers",
         "name": "Inavolu",
         "orientation": "v",
         "showlegend": true,
         "type": "scatter",
         "x": [
          0.00003698283844788903
         ],
         "xaxis": "x",
         "y": [
          0.0006765400648397607
         ],
         "yaxis": "y"
        },
        {
         "hovertemplate": "Area=Indalwai<br>Deviance Scores Amount of Fires=%{x}<br>Deviance Scores NOx=%{y}<extra></extra>",
         "legendgroup": "Indalwai",
         "marker": {
          "color": "#00cc96",
          "symbol": "circle"
         },
         "mode": "markers",
         "name": "Indalwai",
         "orientation": "v",
         "showlegend": true,
         "type": "scatter",
         "x": [
          0.000004168685153476839
         ],
         "xaxis": "x",
         "y": [
          0.000034851722999980633
         ],
         "yaxis": "y"
        },
        {
         "hovertemplate": "Area=Inderavelly<br>Deviance Scores Amount of Fires=%{x}<br>Deviance Scores NOx=%{y}<extra></extra>",
         "legendgroup": "Inderavelly",
         "marker": {
          "color": "#ab63fa",
          "symbol": "circle"
         },
         "mode": "markers",
         "name": "Inderavelly",
         "orientation": "v",
         "showlegend": true,
         "type": "scatter",
         "x": [
          -0.000014957825921392195
         ],
         "xaxis": "x",
         "y": [
          0.0011909869577526517
         ],
         "yaxis": "y"
        },
        {
         "hovertemplate": "Area=Itikyal<br>Deviance Scores Amount of Fires=%{x}<br>Deviance Scores NOx=%{y}<extra></extra>",
         "legendgroup": "Itikyal",
         "marker": {
          "color": "#FFA15A",
          "symbol": "circle"
         },
         "mode": "markers",
         "name": "Itikyal",
         "orientation": "v",
         "showlegend": true,
         "type": "scatter",
         "x": [
          0.000015326042841794235
         ],
         "xaxis": "x",
         "y": [
          -0.0006473372403248758
         ],
         "yaxis": "y"
        },
        {
         "hovertemplate": "Area=Jadcherla<br>Deviance Scores Amount of Fires=%{x}<br>Deviance Scores NOx=%{y}<extra></extra>",
         "legendgroup": "Jadcherla",
         "marker": {
          "color": "#19d3f3",
          "symbol": "circle"
         },
         "mode": "markers",
         "name": "Jadcherla",
         "orientation": "v",
         "showlegend": true,
         "type": "scatter",
         "x": [
          0.000009248596104541823
         ],
         "xaxis": "x",
         "y": [
          0.00027934048835802914
         ],
         "yaxis": "y"
        },
        {
         "hovertemplate": "Area=Jagdevpur<br>Deviance Scores Amount of Fires=%{x}<br>Deviance Scores NOx=%{y}<extra></extra>",
         "legendgroup": "Jagdevpur",
         "marker": {
          "color": "#FF6692",
          "symbol": "circle"
         },
         "mode": "markers",
         "name": "Jagdevpur",
         "orientation": "v",
         "showlegend": true,
         "type": "scatter",
         "x": [
          0.000005252859017803975
         ],
         "xaxis": "x",
         "y": [
          -0.0007213241030285597
         ],
         "yaxis": "y"
        },
        {
         "hovertemplate": "Area=Jagityal_Rural<br>Deviance Scores Amount of Fires=%{x}<br>Deviance Scores NOx=%{y}<extra></extra>",
         "legendgroup": "Jagityal_Rural",
         "marker": {
          "color": "#B6E880",
          "symbol": "circle"
         },
         "mode": "markers",
         "name": "Jagityal_Rural",
         "orientation": "v",
         "showlegend": true,
         "type": "scatter",
         "x": [
          0.00000844411506924193
         ],
         "xaxis": "x",
         "y": [
          0.00031545816937355654
         ],
         "yaxis": "y"
        },
        {
         "hovertemplate": "Area=Jainad<br>Deviance Scores Amount of Fires=%{x}<br>Deviance Scores NOx=%{y}<extra></extra>",
         "legendgroup": "Jainad",
         "marker": {
          "color": "#FF97FF",
          "symbol": "circle"
         },
         "mode": "markers",
         "name": "Jainad",
         "orientation": "v",
         "showlegend": true,
         "type": "scatter",
         "x": [
          0.00006431316996989578
         ],
         "xaxis": "x",
         "y": [
          0.002850018266534914
         ],
         "yaxis": "y"
        },
        {
         "hovertemplate": "Area=Jaipur<br>Deviance Scores Amount of Fires=%{x}<br>Deviance Scores NOx=%{y}<extra></extra>",
         "legendgroup": "Jaipur",
         "marker": {
          "color": "#FECB52",
          "symbol": "circle"
         },
         "mode": "markers",
         "name": "Jaipur",
         "orientation": "v",
         "showlegend": true,
         "type": "scatter",
         "x": [
          0.00002041949355763514
         ],
         "xaxis": "x",
         "y": [
          0.0033681487196716453
         ],
         "yaxis": "y"
        },
        {
         "hovertemplate": "Area=Jajireddigudem<br>Deviance Scores Amount of Fires=%{x}<br>Deviance Scores NOx=%{y}<extra></extra>",
         "legendgroup": "Jajireddigudem",
         "marker": {
          "color": "#636efa",
          "symbol": "circle"
         },
         "mode": "markers",
         "name": "Jajireddigudem",
         "orientation": "v",
         "showlegend": true,
         "type": "scatter",
         "x": [
          -0.00002060742339080737
         ],
         "xaxis": "x",
         "y": [
          -0.00033393686835460503
         ],
         "yaxis": "y"
        },
        {
         "hovertemplate": "Area=Jammikunta<br>Deviance Scores Amount of Fires=%{x}<br>Deviance Scores NOx=%{y}<extra></extra>",
         "legendgroup": "Jammikunta",
         "marker": {
          "color": "#EF553B",
          "symbol": "circle"
         },
         "mode": "markers",
         "name": "Jammikunta",
         "orientation": "v",
         "showlegend": true,
         "type": "scatter",
         "x": [
          -0.0000676545433803172
         ],
         "xaxis": "x",
         "y": [
          -0.0009090706438269177
         ],
         "yaxis": "y"
        },
        {
         "hovertemplate": "Area=Jangoan<br>Deviance Scores Amount of Fires=%{x}<br>Deviance Scores NOx=%{y}<extra></extra>",
         "legendgroup": "Jangoan",
         "marker": {
          "color": "#00cc96",
          "symbol": "circle"
         },
         "mode": "markers",
         "name": "Jangoan",
         "orientation": "v",
         "showlegend": true,
         "type": "scatter",
         "x": [
          0.000007687023137008827
         ],
         "xaxis": "x",
         "y": [
          0.00019743619210356613
         ],
         "yaxis": "y"
        },
        {
         "hovertemplate": "Area=Jannaram<br>Deviance Scores Amount of Fires=%{x}<br>Deviance Scores NOx=%{y}<extra></extra>",
         "legendgroup": "Jannaram",
         "marker": {
          "color": "#ab63fa",
          "symbol": "circle"
         },
         "mode": "markers",
         "name": "Jannaram",
         "orientation": "v",
         "showlegend": true,
         "type": "scatter",
         "x": [
          0.00001718105108991029
         ],
         "xaxis": "x",
         "y": [
          0.0016614037781670634
         ],
         "yaxis": "y"
        },
        {
         "hovertemplate": "Area=Jharasangam<br>Deviance Scores Amount of Fires=%{x}<br>Deviance Scores NOx=%{y}<extra></extra>",
         "legendgroup": "Jharasangam",
         "marker": {
          "color": "#FFA15A",
          "symbol": "circle"
         },
         "mode": "markers",
         "name": "Jharasangam",
         "orientation": "v",
         "showlegend": true,
         "type": "scatter",
         "x": [
          0.00005691612439519311
         ],
         "xaxis": "x",
         "y": [
          0.000711406895919001
         ],
         "yaxis": "y"
        },
        {
         "hovertemplate": "Area=Jukkal<br>Deviance Scores Amount of Fires=%{x}<br>Deviance Scores NOx=%{y}<extra></extra>",
         "legendgroup": "Jukkal",
         "marker": {
          "color": "#19d3f3",
          "symbol": "circle"
         },
         "mode": "markers",
         "name": "Jukkal",
         "orientation": "v",
         "showlegend": true,
         "type": "scatter",
         "x": [
          -0.00000292537610553361
         ],
         "xaxis": "x",
         "y": [
          0.00022476194837568384
         ],
         "yaxis": "y"
        },
        {
         "hovertemplate": "Area=Kaddampeddur<br>Deviance Scores Amount of Fires=%{x}<br>Deviance Scores NOx=%{y}<extra></extra>",
         "legendgroup": "Kaddampeddur",
         "marker": {
          "color": "#FF6692",
          "symbol": "circle"
         },
         "mode": "markers",
         "name": "Kaddampeddur",
         "orientation": "v",
         "showlegend": true,
         "type": "scatter",
         "x": [
          -0.00005581848982575428
         ],
         "xaxis": "x",
         "y": [
          0.0011556420652309883
         ],
         "yaxis": "y"
        },
        {
         "hovertemplate": "Area=Kadthal<br>Deviance Scores Amount of Fires=%{x}<br>Deviance Scores NOx=%{y}<extra></extra>",
         "legendgroup": "Kadthal",
         "marker": {
          "color": "#B6E880",
          "symbol": "circle"
         },
         "mode": "markers",
         "name": "Kadthal",
         "orientation": "v",
         "showlegend": true,
         "type": "scatter",
         "x": [
          0.00002056534008108365
         ],
         "xaxis": "x",
         "y": [
          0.000041087295681516626
         ],
         "yaxis": "y"
        },
        {
         "hovertemplate": "Area=Kagaznagar<br>Deviance Scores Amount of Fires=%{x}<br>Deviance Scores NOx=%{y}<extra></extra>",
         "legendgroup": "Kagaznagar",
         "marker": {
          "color": "#FF97FF",
          "symbol": "circle"
         },
         "mode": "markers",
         "name": "Kagaznagar",
         "orientation": "v",
         "showlegend": true,
         "type": "scatter",
         "x": [
          0.000022961594924693608
         ],
         "xaxis": "x",
         "y": [
          0.0020637586767516705
         ],
         "yaxis": "y"
        },
        {
         "hovertemplate": "Area=Kalher<br>Deviance Scores Amount of Fires=%{x}<br>Deviance Scores NOx=%{y}<extra></extra>",
         "legendgroup": "Kalher",
         "marker": {
          "color": "#FECB52",
          "symbol": "circle"
         },
         "mode": "markers",
         "name": "Kalher",
         "orientation": "v",
         "showlegend": true,
         "type": "scatter",
         "x": [
          0.000027421929750068937
         ],
         "xaxis": "x",
         "y": [
          -0.000729977671870152
         ],
         "yaxis": "y"
        },
        {
         "hovertemplate": "Area=Kalluru<br>Deviance Scores Amount of Fires=%{x}<br>Deviance Scores NOx=%{y}<extra></extra>",
         "legendgroup": "Kalluru",
         "marker": {
          "color": "#636efa",
          "symbol": "circle"
         },
         "mode": "markers",
         "name": "Kalluru",
         "orientation": "v",
         "showlegend": true,
         "type": "scatter",
         "x": [
          -0.000015191759219095977
         ],
         "xaxis": "x",
         "y": [
          -0.00047575386699037477
         ],
         "yaxis": "y"
        },
        {
         "hovertemplate": "Area=Kaloor_Thimmandoddi<br>Deviance Scores Amount of Fires=%{x}<br>Deviance Scores NOx=%{y}<extra></extra>",
         "legendgroup": "Kaloor_Thimmandoddi",
         "marker": {
          "color": "#EF553B",
          "symbol": "circle"
         },
         "mode": "markers",
         "name": "Kaloor_Thimmandoddi",
         "orientation": "v",
         "showlegend": true,
         "type": "scatter",
         "x": [
          0.00001684000864893318
         ],
         "xaxis": "x",
         "y": [
          -0.0030081350310546006
         ],
         "yaxis": "y"
        },
        {
         "hovertemplate": "Area=Kalwakurthy<br>Deviance Scores Amount of Fires=%{x}<br>Deviance Scores NOx=%{y}<extra></extra>",
         "legendgroup": "Kalwakurthy",
         "marker": {
          "color": "#00cc96",
          "symbol": "circle"
         },
         "mode": "markers",
         "name": "Kalwakurthy",
         "orientation": "v",
         "showlegend": true,
         "type": "scatter",
         "x": [
          0.000003725742234915752
         ],
         "xaxis": "x",
         "y": [
          -0.0009507833247963198
         ],
         "yaxis": "y"
        },
        {
         "hovertemplate": "Area=Kamanpur<br>Deviance Scores Amount of Fires=%{x}<br>Deviance Scores NOx=%{y}<extra></extra>",
         "legendgroup": "Kamanpur",
         "marker": {
          "color": "#ab63fa",
          "symbol": "circle"
         },
         "mode": "markers",
         "name": "Kamanpur",
         "orientation": "v",
         "showlegend": true,
         "type": "scatter",
         "x": [
          0.000035760187494660067
         ],
         "xaxis": "x",
         "y": [
          0.0009003522250450043
         ],
         "yaxis": "y"
        },
        {
         "hovertemplate": "Area=Kamareddy<br>Deviance Scores Amount of Fires=%{x}<br>Deviance Scores NOx=%{y}<extra></extra>",
         "legendgroup": "Kamareddy",
         "marker": {
          "color": "#FFA15A",
          "symbol": "circle"
         },
         "mode": "markers",
         "name": "Kamareddy",
         "orientation": "v",
         "showlegend": true,
         "type": "scatter",
         "x": [
          0.00004149741642788737
         ],
         "xaxis": "x",
         "y": [
          -0.0002729191515184949
         ],
         "yaxis": "y"
        },
        {
         "hovertemplate": "Area=Kamepally<br>Deviance Scores Amount of Fires=%{x}<br>Deviance Scores NOx=%{y}<extra></extra>",
         "legendgroup": "Kamepally",
         "marker": {
          "color": "#19d3f3",
          "symbol": "circle"
         },
         "mode": "markers",
         "name": "Kamepally",
         "orientation": "v",
         "showlegend": true,
         "type": "scatter",
         "x": [
          0.00002989720790555023
         ],
         "xaxis": "x",
         "y": [
          -0.0009617252346166884
         ],
         "yaxis": "y"
        },
        {
         "hovertemplate": "Area=Kanagal<br>Deviance Scores Amount of Fires=%{x}<br>Deviance Scores NOx=%{y}<extra></extra>",
         "legendgroup": "Kanagal",
         "marker": {
          "color": "#FF6692",
          "symbol": "circle"
         },
         "mode": "markers",
         "name": "Kanagal",
         "orientation": "v",
         "showlegend": true,
         "type": "scatter",
         "x": [
          -0.00003865561307911884
         ],
         "xaxis": "x",
         "y": [
          -0.0004703053053984541
         ],
         "yaxis": "y"
        },
        {
         "hovertemplate": "Area=Kandukur<br>Deviance Scores Amount of Fires=%{x}<br>Deviance Scores NOx=%{y}<extra></extra>",
         "legendgroup": "Kandukur",
         "marker": {
          "color": "#B6E880",
          "symbol": "circle"
         },
         "mode": "markers",
         "name": "Kandukur",
         "orientation": "v",
         "showlegend": true,
         "type": "scatter",
         "x": [
          0.00007858493830262373
         ],
         "xaxis": "x",
         "y": [
          0.00013737965238009512
         ],
         "yaxis": "y"
        },
        {
         "hovertemplate": "Area=Kangti<br>Deviance Scores Amount of Fires=%{x}<br>Deviance Scores NOx=%{y}<extra></extra>",
         "legendgroup": "Kangti",
         "marker": {
          "color": "#FF97FF",
          "symbol": "circle"
         },
         "mode": "markers",
         "name": "Kangti",
         "orientation": "v",
         "showlegend": true,
         "type": "scatter",
         "x": [
          -0.000008287801934868748
         ],
         "xaxis": "x",
         "y": [
          0.00020673522088967048
         ],
         "yaxis": "y"
        },
        {
         "hovertemplate": "Area=Kannaigudem<br>Deviance Scores Amount of Fires=%{x}<br>Deviance Scores NOx=%{y}<extra></extra>",
         "legendgroup": "Kannaigudem",
         "marker": {
          "color": "#FECB52",
          "symbol": "circle"
         },
         "mode": "markers",
         "name": "Kannaigudem",
         "orientation": "v",
         "showlegend": true,
         "type": "scatter",
         "x": [
          -0.000023385352920669743
         ],
         "xaxis": "x",
         "y": [
          0.0003407939032609642
         ],
         "yaxis": "y"
        },
        {
         "hovertemplate": "Area=Kannepalli<br>Deviance Scores Amount of Fires=%{x}<br>Deviance Scores NOx=%{y}<extra></extra>",
         "legendgroup": "Kannepalli",
         "marker": {
          "color": "#636efa",
          "symbol": "circle"
         },
         "mode": "markers",
         "name": "Kannepalli",
         "orientation": "v",
         "showlegend": true,
         "type": "scatter",
         "x": [
          0.00005601069585023105
         ],
         "xaxis": "x",
         "y": [
          0.0028413583657980754
         ],
         "yaxis": "y"
        },
        {
         "hovertemplate": "Area=Karakagudem<br>Deviance Scores Amount of Fires=%{x}<br>Deviance Scores NOx=%{y}<extra></extra>",
         "legendgroup": "Karakagudem",
         "marker": {
          "color": "#EF553B",
          "symbol": "circle"
         },
         "mode": "markers",
         "name": "Karakagudem",
         "orientation": "v",
         "showlegend": true,
         "type": "scatter",
         "x": [
          0.000037750715675953466
         ],
         "xaxis": "x",
         "y": [
          0.0016704442613566098
         ],
         "yaxis": "y"
        },
        {
         "hovertemplate": "Area=Karimnagar_Rural<br>Deviance Scores Amount of Fires=%{x}<br>Deviance Scores NOx=%{y}<extra></extra>",
         "legendgroup": "Karimnagar_Rural",
         "marker": {
          "color": "#00cc96",
          "symbol": "circle"
         },
         "mode": "markers",
         "name": "Karimnagar_Rural",
         "orientation": "v",
         "showlegend": true,
         "type": "scatter",
         "x": [
          0.0000457409434624149
         ],
         "xaxis": "x",
         "y": [
          -0.0007916064063878686
         ],
         "yaxis": "y"
        },
        {
         "hovertemplate": "Area=Kataram<br>Deviance Scores Amount of Fires=%{x}<br>Deviance Scores NOx=%{y}<extra></extra>",
         "legendgroup": "Kataram",
         "marker": {
          "color": "#ab63fa",
          "symbol": "circle"
         },
         "mode": "markers",
         "name": "Kataram",
         "orientation": "v",
         "showlegend": true,
         "type": "scatter",
         "x": [
          0.000024281546098703967
         ],
         "xaxis": "x",
         "y": [
          0.0005574470080588619
         ],
         "yaxis": "y"
        },
        {
         "hovertemplate": "Area=Kathlapur<br>Deviance Scores Amount of Fires=%{x}<br>Deviance Scores NOx=%{y}<extra></extra>",
         "legendgroup": "Kathlapur",
         "marker": {
          "color": "#FFA15A",
          "symbol": "circle"
         },
         "mode": "markers",
         "name": "Kathlapur",
         "orientation": "v",
         "showlegend": true,
         "type": "scatter",
         "x": [
          0.00007816993337312558
         ],
         "xaxis": "x",
         "y": [
          -0.00009937223179289386
         ],
         "yaxis": "y"
        },
        {
         "hovertemplate": "Area=Kattangur<br>Deviance Scores Amount of Fires=%{x}<br>Deviance Scores NOx=%{y}<extra></extra>",
         "legendgroup": "Kattangur",
         "marker": {
          "color": "#19d3f3",
          "symbol": "circle"
         },
         "mode": "markers",
         "name": "Kattangur",
         "orientation": "v",
         "showlegend": true,
         "type": "scatter",
         "x": [
          0.0001058186174403
         ],
         "xaxis": "x",
         "y": [
          -0.0010663797950852415
         ],
         "yaxis": "y"
        },
        {
         "hovertemplate": "Area=Keesara<br>Deviance Scores Amount of Fires=%{x}<br>Deviance Scores NOx=%{y}<extra></extra>",
         "legendgroup": "Keesara",
         "marker": {
          "color": "#FF6692",
          "symbol": "circle"
         },
         "mode": "markers",
         "name": "Keesara",
         "orientation": "v",
         "showlegend": true,
         "type": "scatter",
         "x": [
          -0.0000230352446177079
         ],
         "xaxis": "x",
         "y": [
          -0.0006437315066552999
         ],
         "yaxis": "y"
        },
        {
         "hovertemplate": "Area=Kerameri<br>Deviance Scores Amount of Fires=%{x}<br>Deviance Scores NOx=%{y}<extra></extra>",
         "legendgroup": "Kerameri",
         "marker": {
          "color": "#B6E880",
          "symbol": "circle"
         },
         "mode": "markers",
         "name": "Kerameri",
         "orientation": "v",
         "showlegend": true,
         "type": "scatter",
         "x": [
          0.00002825949326269255
         ],
         "xaxis": "x",
         "y": [
          0.001838076789910856
         ],
         "yaxis": "y"
        },
        {
         "hovertemplate": "Area=Kesamudram<br>Deviance Scores Amount of Fires=%{x}<br>Deviance Scores NOx=%{y}<extra></extra>",
         "legendgroup": "Kesamudram",
         "marker": {
          "color": "#FF97FF",
          "symbol": "circle"
         },
         "mode": "markers",
         "name": "Kesamudram",
         "orientation": "v",
         "showlegend": true,
         "type": "scatter",
         "x": [
          0.00007064841085173132
         ],
         "xaxis": "x",
         "y": [
          -0.00024419563506126627
         ],
         "yaxis": "y"
        },
        {
         "hovertemplate": "Area=Keshampeta<br>Deviance Scores Amount of Fires=%{x}<br>Deviance Scores NOx=%{y}<extra></extra>",
         "legendgroup": "Keshampeta",
         "marker": {
          "color": "#FECB52",
          "symbol": "circle"
         },
         "mode": "markers",
         "name": "Keshampeta",
         "orientation": "v",
         "showlegend": true,
         "type": "scatter",
         "x": [
          0.00006145399454946237
         ],
         "xaxis": "x",
         "y": [
          -0.00010580962262688885
         ],
         "yaxis": "y"
        },
        {
         "hovertemplate": "Area=Kethepally<br>Deviance Scores Amount of Fires=%{x}<br>Deviance Scores NOx=%{y}<extra></extra>",
         "legendgroup": "Kethepally",
         "marker": {
          "color": "#636efa",
          "symbol": "circle"
         },
         "mode": "markers",
         "name": "Kethepally",
         "orientation": "v",
         "showlegend": true,
         "type": "scatter",
         "x": [
          -0.0000093824769451221
         ],
         "xaxis": "x",
         "y": [
          -0.0004590961452626217
         ],
         "yaxis": "y"
        },
        {
         "hovertemplate": "Area=Khaazipet<br>Deviance Scores Amount of Fires=%{x}<br>Deviance Scores NOx=%{y}<extra></extra>",
         "legendgroup": "Khaazipet",
         "marker": {
          "color": "#EF553B",
          "symbol": "circle"
         },
         "mode": "markers",
         "name": "Khaazipet",
         "orientation": "v",
         "showlegend": true,
         "type": "scatter",
         "x": [
          0.0000645057060173775
         ],
         "xaxis": "x",
         "y": [
          0.0004722993246354285
         ],
         "yaxis": "y"
        },
        {
         "hovertemplate": "Area=Khammam_Rural<br>Deviance Scores Amount of Fires=%{x}<br>Deviance Scores NOx=%{y}<extra></extra>",
         "legendgroup": "Khammam_Rural",
         "marker": {
          "color": "#00cc96",
          "symbol": "circle"
         },
         "mode": "markers",
         "name": "Khammam_Rural",
         "orientation": "v",
         "showlegend": true,
         "type": "scatter",
         "x": [
          0.00001657969263399111
         ],
         "xaxis": "x",
         "y": [
          -0.000651815562442139
         ],
         "yaxis": "y"
        },
        {
         "hovertemplate": "Area=Khammam_Urban<br>Deviance Scores Amount of Fires=%{x}<br>Deviance Scores NOx=%{y}<extra></extra>",
         "legendgroup": "Khammam_Urban",
         "marker": {
          "color": "#ab63fa",
          "symbol": "circle"
         },
         "mode": "markers",
         "name": "Khammam_Urban",
         "orientation": "v",
         "showlegend": true,
         "type": "scatter",
         "x": [
          0.000009357808421603843
         ],
         "xaxis": "x",
         "y": [
          -0.0005889512264606221
         ],
         "yaxis": "y"
        },
        {
         "hovertemplate": "Area=Khanapur<br>Deviance Scores Amount of Fires=%{x}<br>Deviance Scores NOx=%{y}<extra></extra>",
         "legendgroup": "Khanapur",
         "marker": {
          "color": "#FFA15A",
          "symbol": "circle"
         },
         "mode": "markers",
         "name": "Khanapur",
         "orientation": "v",
         "showlegend": true,
         "type": "scatter",
         "x": [
          0.00009845162607114878,
          0.00005728776691120001
         ],
         "xaxis": "x",
         "y": [
          0.00016885197325534863,
          -0.0008356163095794485
         ],
         "yaxis": "y"
        },
        {
         "hovertemplate": "Area=Kodad<br>Deviance Scores Amount of Fires=%{x}<br>Deviance Scores NOx=%{y}<extra></extra>",
         "legendgroup": "Kodad",
         "marker": {
          "color": "#19d3f3",
          "symbol": "circle"
         },
         "mode": "markers",
         "name": "Kodad",
         "orientation": "v",
         "showlegend": true,
         "type": "scatter",
         "x": [
          -0.000025755967419515583
         ],
         "xaxis": "x",
         "y": [
          0.00040801827203546247
         ],
         "yaxis": "y"
        },
        {
         "hovertemplate": "Area=Kodair<br>Deviance Scores Amount of Fires=%{x}<br>Deviance Scores NOx=%{y}<extra></extra>",
         "legendgroup": "Kodair",
         "marker": {
          "color": "#FF6692",
          "symbol": "circle"
         },
         "mode": "markers",
         "name": "Kodair",
         "orientation": "v",
         "showlegend": true,
         "type": "scatter",
         "x": [
          0.00003844475691325635
         ],
         "xaxis": "x",
         "y": [
          -0.00046404936438380163
         ],
         "yaxis": "y"
        },
        {
         "hovertemplate": "Area=Kodangal<br>Deviance Scores Amount of Fires=%{x}<br>Deviance Scores NOx=%{y}<extra></extra>",
         "legendgroup": "Kodangal",
         "marker": {
          "color": "#B6E880",
          "symbol": "circle"
         },
         "mode": "markers",
         "name": "Kodangal",
         "orientation": "v",
         "showlegend": true,
         "type": "scatter",
         "x": [
          0.0001199851072608
         ],
         "xaxis": "x",
         "y": [
          -0.00014010088166077994
         ],
         "yaxis": "y"
        },
        {
         "hovertemplate": "Area=Kodimial<br>Deviance Scores Amount of Fires=%{x}<br>Deviance Scores NOx=%{y}<extra></extra>",
         "legendgroup": "Kodimial",
         "marker": {
          "color": "#FF97FF",
          "symbol": "circle"
         },
         "mode": "markers",
         "name": "Kodimial",
         "orientation": "v",
         "showlegend": true,
         "type": "scatter",
         "x": [
          0.00002696186767774516
         ],
         "xaxis": "x",
         "y": [
          0.00017870667891846636
         ],
         "yaxis": "y"
        },
        {
         "hovertemplate": "Area=Koheda<br>Deviance Scores Amount of Fires=%{x}<br>Deviance Scores NOx=%{y}<extra></extra>",
         "legendgroup": "Koheda",
         "marker": {
          "color": "#FECB52",
          "symbol": "circle"
         },
         "mode": "markers",
         "name": "Koheda",
         "orientation": "v",
         "showlegend": true,
         "type": "scatter",
         "x": [
          0.00009264113135540946
         ],
         "xaxis": "x",
         "y": [
          -0.0005712151265029893
         ],
         "yaxis": "y"
        },
        {
         "hovertemplate": "Area=Kohir<br>Deviance Scores Amount of Fires=%{x}<br>Deviance Scores NOx=%{y}<extra></extra>",
         "legendgroup": "Kohir",
         "marker": {
          "color": "#636efa",
          "symbol": "circle"
         },
         "mode": "markers",
         "name": "Kohir",
         "orientation": "v",
         "showlegend": true,
         "type": "scatter",
         "x": [
          0.0001186494229106
         ],
         "xaxis": "x",
         "y": [
          0.00024365441204115087
         ],
         "yaxis": "y"
        },
        {
         "hovertemplate": "Area=Koilkonda<br>Deviance Scores Amount of Fires=%{x}<br>Deviance Scores NOx=%{y}<extra></extra>",
         "legendgroup": "Koilkonda",
         "marker": {
          "color": "#EF553B",
          "symbol": "circle"
         },
         "mode": "markers",
         "name": "Koilkonda",
         "orientation": "v",
         "showlegend": true,
         "type": "scatter",
         "x": [
          -0.000017161894035350814
         ],
         "xaxis": "x",
         "y": [
          -0.0006696171671907623
         ],
         "yaxis": "y"
        },
        {
         "hovertemplate": "Area=Konaraopet<br>Deviance Scores Amount of Fires=%{x}<br>Deviance Scores NOx=%{y}<extra></extra>",
         "legendgroup": "Konaraopet",
         "marker": {
          "color": "#00cc96",
          "symbol": "circle"
         },
         "mode": "markers",
         "name": "Konaraopet",
         "orientation": "v",
         "showlegend": true,
         "type": "scatter",
         "x": [
          -0.000001812412174963251
         ],
         "xaxis": "x",
         "y": [
          -0.0002488361486642325
         ],
         "yaxis": "y"
        },
        {
         "hovertemplate": "Area=Kondapak<br>Deviance Scores Amount of Fires=%{x}<br>Deviance Scores NOx=%{y}<extra></extra>",
         "legendgroup": "Kondapak",
         "marker": {
          "color": "#ab63fa",
          "symbol": "circle"
         },
         "mode": "markers",
         "name": "Kondapak",
         "orientation": "v",
         "showlegend": true,
         "type": "scatter",
         "x": [
          0.00002314495649092541
         ],
         "xaxis": "x",
         "y": [
          -0.0015703303762204946
         ],
         "yaxis": "y"
        },
        {
         "hovertemplate": "Area=Kondapur<br>Deviance Scores Amount of Fires=%{x}<br>Deviance Scores NOx=%{y}<extra></extra>",
         "legendgroup": "Kondapur",
         "marker": {
          "color": "#FFA15A",
          "symbol": "circle"
         },
         "mode": "markers",
         "name": "Kondapur",
         "orientation": "v",
         "showlegend": true,
         "type": "scatter",
         "x": [
          0.000020847919970308045
         ],
         "xaxis": "x",
         "y": [
          -0.0011869354601284356
         ],
         "yaxis": "y"
        },
        {
         "hovertemplate": "Area=Kondurg<br>Deviance Scores Amount of Fires=%{x}<br>Deviance Scores NOx=%{y}<extra></extra>",
         "legendgroup": "Kondurg",
         "marker": {
          "color": "#19d3f3",
          "symbol": "circle"
         },
         "mode": "markers",
         "name": "Kondurg",
         "orientation": "v",
         "showlegend": true,
         "type": "scatter",
         "x": [
          -0.0000320220559237325
         ],
         "xaxis": "x",
         "y": [
          -0.000014718739563849008
         ],
         "yaxis": "y"
        },
        {
         "hovertemplate": "Area=Konijerla<br>Deviance Scores Amount of Fires=%{x}<br>Deviance Scores NOx=%{y}<extra></extra>",
         "legendgroup": "Konijerla",
         "marker": {
          "color": "#FF6692",
          "symbol": "circle"
         },
         "mode": "markers",
         "name": "Konijerla",
         "orientation": "v",
         "showlegend": true,
         "type": "scatter",
         "x": [
          0.0001084588585878
         ],
         "xaxis": "x",
         "y": [
          -0.0010972439330387254
         ],
         "yaxis": "y"
        },
        {
         "hovertemplate": "Area=Korutla<br>Deviance Scores Amount of Fires=%{x}<br>Deviance Scores NOx=%{y}<extra></extra>",
         "legendgroup": "Korutla",
         "marker": {
          "color": "#B6E880",
          "symbol": "circle"
         },
         "mode": "markers",
         "name": "Korutla",
         "orientation": "v",
         "showlegend": true,
         "type": "scatter",
         "x": [
          -0.00006376855531959238
         ],
         "xaxis": "x",
         "y": [
          -0.00012071027036515704
         ],
         "yaxis": "y"
        },
        {
         "hovertemplate": "Area=Kosgi<br>Deviance Scores Amount of Fires=%{x}<br>Deviance Scores NOx=%{y}<extra></extra>",
         "legendgroup": "Kosgi",
         "marker": {
          "color": "#FF97FF",
          "symbol": "circle"
         },
         "mode": "markers",
         "name": "Kosgi",
         "orientation": "v",
         "showlegend": true,
         "type": "scatter",
         "x": [
          0.00004639862143085504
         ],
         "xaxis": "x",
         "y": [
          0.00039120436805849425
         ],
         "yaxis": "y"
        },
        {
         "hovertemplate": "Area=Kotagiri<br>Deviance Scores Amount of Fires=%{x}<br>Deviance Scores NOx=%{y}<extra></extra>",
         "legendgroup": "Kotagiri",
         "marker": {
          "color": "#FECB52",
          "symbol": "circle"
         },
         "mode": "markers",
         "name": "Kotagiri",
         "orientation": "v",
         "showlegend": true,
         "type": "scatter",
         "x": [
          -0.000030026169952014027
         ],
         "xaxis": "x",
         "y": [
          0.00014003648867089443
         ],
         "yaxis": "y"
        },
        {
         "hovertemplate": "Area=Kothaguda<br>Deviance Scores Amount of Fires=%{x}<br>Deviance Scores NOx=%{y}<extra></extra>",
         "legendgroup": "Kothaguda",
         "marker": {
          "color": "#636efa",
          "symbol": "circle"
         },
         "mode": "markers",
         "name": "Kothaguda",
         "orientation": "v",
         "showlegend": true,
         "type": "scatter",
         "x": [
          -0.0001881082586189
         ],
         "xaxis": "x",
         "y": [
          -0.0009848004021070465
         ],
         "yaxis": "y"
        },
        {
         "hovertemplate": "Area=Kothakota<br>Deviance Scores Amount of Fires=%{x}<br>Deviance Scores NOx=%{y}<extra></extra>",
         "legendgroup": "Kothakota",
         "marker": {
          "color": "#EF553B",
          "symbol": "circle"
         },
         "mode": "markers",
         "name": "Kothakota",
         "orientation": "v",
         "showlegend": true,
         "type": "scatter",
         "x": [
          0.000020030765438423148
         ],
         "xaxis": "x",
         "y": [
          -0.0024229156852766578
         ],
         "yaxis": "y"
        },
        {
         "hovertemplate": "Area=Kothapally<br>Deviance Scores Amount of Fires=%{x}<br>Deviance Scores NOx=%{y}<extra></extra>",
         "legendgroup": "Kothapally",
         "marker": {
          "color": "#00cc96",
          "symbol": "circle"
         },
         "mode": "markers",
         "name": "Kothapally",
         "orientation": "v",
         "showlegend": true,
         "type": "scatter",
         "x": [
          0.000004382987790132269
         ],
         "xaxis": "x",
         "y": [
          0.0002050525567901106
         ],
         "yaxis": "y"
        },
        {
         "hovertemplate": "Area=Kothur<br>Deviance Scores Amount of Fires=%{x}<br>Deviance Scores NOx=%{y}<extra></extra>",
         "legendgroup": "Kothur",
         "marker": {
          "color": "#ab63fa",
          "symbol": "circle"
         },
         "mode": "markers",
         "name": "Kothur",
         "orientation": "v",
         "showlegend": true,
         "type": "scatter",
         "x": [
          -0.000005960294912725894
         ],
         "xaxis": "x",
         "y": [
          -0.00046172609036825604
         ],
         "yaxis": "y"
        },
        {
         "hovertemplate": "Area=Kouthala<br>Deviance Scores Amount of Fires=%{x}<br>Deviance Scores NOx=%{y}<extra></extra>",
         "legendgroup": "Kouthala",
         "marker": {
          "color": "#FFA15A",
          "symbol": "circle"
         },
         "mode": "markers",
         "name": "Kouthala",
         "orientation": "v",
         "showlegend": true,
         "type": "scatter",
         "x": [
          0.000008860746948010082
         ],
         "xaxis": "x",
         "y": [
          0.001493003663306076
         ],
         "yaxis": "y"
        },
        {
         "hovertemplate": "Area=Kowdipally<br>Deviance Scores Amount of Fires=%{x}<br>Deviance Scores NOx=%{y}<extra></extra>",
         "legendgroup": "Kowdipally",
         "marker": {
          "color": "#19d3f3",
          "symbol": "circle"
         },
         "mode": "markers",
         "name": "Kowdipally",
         "orientation": "v",
         "showlegend": true,
         "type": "scatter",
         "x": [
          -0.000005908405161357243
         ],
         "xaxis": "x",
         "y": [
          -0.0009145280860238963
         ],
         "yaxis": "y"
        },
        {
         "hovertemplate": "Area=Kubeer<br>Deviance Scores Amount of Fires=%{x}<br>Deviance Scores NOx=%{y}<extra></extra>",
         "legendgroup": "Kubeer",
         "marker": {
          "color": "#FF6692",
          "symbol": "circle"
         },
         "mode": "markers",
         "name": "Kubeer",
         "orientation": "v",
         "showlegend": true,
         "type": "scatter",
         "x": [
          -0.00004391141383886101
         ],
         "xaxis": "x",
         "y": [
          0.001383683580120233
         ],
         "yaxis": "y"
        },
        {
         "hovertemplate": "Area=Kulcharam<br>Deviance Scores Amount of Fires=%{x}<br>Deviance Scores NOx=%{y}<extra></extra>",
         "legendgroup": "Kulcharam",
         "marker": {
          "color": "#B6E880",
          "symbol": "circle"
         },
         "mode": "markers",
         "name": "Kulcharam",
         "orientation": "v",
         "showlegend": true,
         "type": "scatter",
         "x": [
          -0.00007004237492323927
         ],
         "xaxis": "x",
         "y": [
          -0.0016328182271286124
         ],
         "yaxis": "y"
        },
        {
         "hovertemplate": "Area=Kuntala<br>Deviance Scores Amount of Fires=%{x}<br>Deviance Scores NOx=%{y}<extra></extra>",
         "legendgroup": "Kuntala",
         "marker": {
          "color": "#FF97FF",
          "symbol": "circle"
         },
         "mode": "markers",
         "name": "Kuntala",
         "orientation": "v",
         "showlegend": true,
         "type": "scatter",
         "x": [
          0.000056147405723195074
         ],
         "xaxis": "x",
         "y": [
          0.0011051208039205165
         ],
         "yaxis": "y"
        },
        {
         "hovertemplate": "Area=Kuravi<br>Deviance Scores Amount of Fires=%{x}<br>Deviance Scores NOx=%{y}<extra></extra>",
         "legendgroup": "Kuravi",
         "marker": {
          "color": "#FECB52",
          "symbol": "circle"
         },
         "mode": "markers",
         "name": "Kuravi",
         "orientation": "v",
         "showlegend": true,
         "type": "scatter",
         "x": [
          0.00009545702244212547
         ],
         "xaxis": "x",
         "y": [
          -0.00022697030915464202
         ],
         "yaxis": "y"
        },
        {
         "hovertemplate": "Area=Kusumanchi<br>Deviance Scores Amount of Fires=%{x}<br>Deviance Scores NOx=%{y}<extra></extra>",
         "legendgroup": "Kusumanchi",
         "marker": {
          "color": "#636efa",
          "symbol": "circle"
         },
         "mode": "markers",
         "name": "Kusumanchi",
         "orientation": "v",
         "showlegend": true,
         "type": "scatter",
         "x": [
          0.00001663029495065663
         ],
         "xaxis": "x",
         "y": [
          -0.0007177658005834528
         ],
         "yaxis": "y"
        },
        {
         "hovertemplate": "Area=Laxmanchanda<br>Deviance Scores Amount of Fires=%{x}<br>Deviance Scores NOx=%{y}<extra></extra>",
         "legendgroup": "Laxmanchanda",
         "marker": {
          "color": "#EF553B",
          "symbol": "circle"
         },
         "mode": "markers",
         "name": "Laxmanchanda",
         "orientation": "v",
         "showlegend": true,
         "type": "scatter",
         "x": [
          -0.0000335994693727125
         ],
         "xaxis": "x",
         "y": [
          0.0003559387863825941
         ],
         "yaxis": "y"
        },
        {
         "hovertemplate": "Area=Laxmidevipally<br>Deviance Scores Amount of Fires=%{x}<br>Deviance Scores NOx=%{y}<extra></extra>",
         "legendgroup": "Laxmidevipally",
         "marker": {
          "color": "#00cc96",
          "symbol": "circle"
         },
         "mode": "markers",
         "name": "Laxmidevipally",
         "orientation": "v",
         "showlegend": true,
         "type": "scatter",
         "x": [
          0.0001344928687139
         ],
         "xaxis": "x",
         "y": [
          -0.0038357600262133823
         ],
         "yaxis": "y"
        },
        {
         "hovertemplate": "Area=Lingalaghanpur<br>Deviance Scores Amount of Fires=%{x}<br>Deviance Scores NOx=%{y}<extra></extra>",
         "legendgroup": "Lingalaghanpur",
         "marker": {
          "color": "#ab63fa",
          "symbol": "circle"
         },
         "mode": "markers",
         "name": "Lingalaghanpur",
         "orientation": "v",
         "showlegend": true,
         "type": "scatter",
         "x": [
          -0.00002448008070868588
         ],
         "xaxis": "x",
         "y": [
          -0.0001261637853042561
         ],
         "yaxis": "y"
        },
        {
         "hovertemplate": "Area=Lingampet<br>Deviance Scores Amount of Fires=%{x}<br>Deviance Scores NOx=%{y}<extra></extra>",
         "legendgroup": "Lingampet",
         "marker": {
          "color": "#FFA15A",
          "symbol": "circle"
         },
         "mode": "markers",
         "name": "Lingampet",
         "orientation": "v",
         "showlegend": true,
         "type": "scatter",
         "x": [
          -0.000004852460936981996
         ],
         "xaxis": "x",
         "y": [
          -0.0008572420396817514
         ],
         "yaxis": "y"
        },
        {
         "hovertemplate": "Area=Lokeshwaram<br>Deviance Scores Amount of Fires=%{x}<br>Deviance Scores NOx=%{y}<extra></extra>",
         "legendgroup": "Lokeshwaram",
         "marker": {
          "color": "#19d3f3",
          "symbol": "circle"
         },
         "mode": "markers",
         "name": "Lokeshwaram",
         "orientation": "v",
         "showlegend": true,
         "type": "scatter",
         "x": [
          0.00005234798164892778
         ],
         "xaxis": "x",
         "y": [
          0.0004980965473424726
         ],
         "yaxis": "y"
        },
        {
         "hovertemplate": "Area=Luxettipet<br>Deviance Scores Amount of Fires=%{x}<br>Deviance Scores NOx=%{y}<extra></extra>",
         "legendgroup": "Luxettipet",
         "marker": {
          "color": "#FF6692",
          "symbol": "circle"
         },
         "mode": "markers",
         "name": "Luxettipet",
         "orientation": "v",
         "showlegend": true,
         "type": "scatter",
         "x": [
          -0.00002053215058838225
         ],
         "xaxis": "x",
         "y": [
          0.0020015189434367648
         ],
         "yaxis": "y"
        },
        {
         "hovertemplate": "Area=Machareddy<br>Deviance Scores Amount of Fires=%{x}<br>Deviance Scores NOx=%{y}<extra></extra>",
         "legendgroup": "Machareddy",
         "marker": {
          "color": "#B6E880",
          "symbol": "circle"
         },
         "mode": "markers",
         "name": "Machareddy",
         "orientation": "v",
         "showlegend": true,
         "type": "scatter",
         "x": [
          0.00004816876359978543
         ],
         "xaxis": "x",
         "y": [
          -0.0005613806176747413
         ],
         "yaxis": "y"
        },
        {
         "hovertemplate": "Area=Madanapur<br>Deviance Scores Amount of Fires=%{x}<br>Deviance Scores NOx=%{y}<extra></extra>",
         "legendgroup": "Madanapur",
         "marker": {
          "color": "#FF97FF",
          "symbol": "circle"
         },
         "mode": "markers",
         "name": "Madanapur",
         "orientation": "v",
         "showlegend": true,
         "type": "scatter",
         "x": [
          0.00003672274106178308
         ],
         "xaxis": "x",
         "y": [
          -0.0029740647658391454
         ],
         "yaxis": "y"
        },
        {
         "hovertemplate": "Area=Maddirala<br>Deviance Scores Amount of Fires=%{x}<br>Deviance Scores NOx=%{y}<extra></extra>",
         "legendgroup": "Maddirala",
         "marker": {
          "color": "#FECB52",
          "symbol": "circle"
         },
         "mode": "markers",
         "name": "Maddirala",
         "orientation": "v",
         "showlegend": true,
         "type": "scatter",
         "x": [
          4.903134152865732e-9
         ],
         "xaxis": "x",
         "y": [
          -0.0008069013984907114
         ],
         "yaxis": "y"
        },
        {
         "hovertemplate": "Area=Maddur<br>Deviance Scores Amount of Fires=%{x}<br>Deviance Scores NOx=%{y}<extra></extra>",
         "legendgroup": "Maddur",
         "marker": {
          "color": "#636efa",
          "symbol": "circle"
         },
         "mode": "markers",
         "name": "Maddur",
         "orientation": "v",
         "showlegend": true,
         "type": "scatter",
         "x": [
          0.00000829384727603822,
          0.000050932887377549655
         ],
         "xaxis": "x",
         "y": [
          -0.000025974072974940675,
          -0.000847917566011995
         ],
         "yaxis": "y"
        },
        {
         "hovertemplate": "Area=Madgul<br>Deviance Scores Amount of Fires=%{x}<br>Deviance Scores NOx=%{y}<extra></extra>",
         "legendgroup": "Madgul",
         "marker": {
          "color": "#EF553B",
          "symbol": "circle"
         },
         "mode": "markers",
         "name": "Madgul",
         "orientation": "v",
         "showlegend": true,
         "type": "scatter",
         "x": [
          0.00005210694795432976
         ],
         "xaxis": "x",
         "y": [
          -0.00023411592580462637
         ],
         "yaxis": "y"
        },
        {
         "hovertemplate": "Area=Madhira<br>Deviance Scores Amount of Fires=%{x}<br>Deviance Scores NOx=%{y}<extra></extra>",
         "legendgroup": "Madhira",
         "marker": {
          "color": "#00cc96",
          "symbol": "circle"
         },
         "mode": "markers",
         "name": "Madhira",
         "orientation": "v",
         "showlegend": true,
         "type": "scatter",
         "x": [
          0.000030919956408513245
         ],
         "xaxis": "x",
         "y": [
          -0.0011589420519972408
         ],
         "yaxis": "y"
        },
        {
         "hovertemplate": "Area=Madnur<br>Deviance Scores Amount of Fires=%{x}<br>Deviance Scores NOx=%{y}<extra></extra>",
         "legendgroup": "Madnur",
         "marker": {
          "color": "#ab63fa",
          "symbol": "circle"
         },
         "mode": "markers",
         "name": "Madnur",
         "orientation": "v",
         "showlegend": true,
         "type": "scatter",
         "x": [
          -0.000034864550408991574
         ],
         "xaxis": "x",
         "y": [
          0.00032910327531648513
         ],
         "yaxis": "y"
        },
        {
         "hovertemplate": "Area=Madugulapally<br>Deviance Scores Amount of Fires=%{x}<br>Deviance Scores NOx=%{y}<extra></extra>",
         "legendgroup": "Madugulapally",
         "marker": {
          "color": "#FFA15A",
          "symbol": "circle"
         },
         "mode": "markers",
         "name": "Madugulapally",
         "orientation": "v",
         "showlegend": true,
         "type": "scatter",
         "x": [
          -0.000018816112590139524
         ],
         "xaxis": "x",
         "y": [
          -0.00028094219221830584
         ],
         "yaxis": "y"
        },
        {
         "hovertemplate": "Area=Maganoor<br>Deviance Scores Amount of Fires=%{x}<br>Deviance Scores NOx=%{y}<extra></extra>",
         "legendgroup": "Maganoor",
         "marker": {
          "color": "#19d3f3",
          "symbol": "circle"
         },
         "mode": "markers",
         "name": "Maganoor",
         "orientation": "v",
         "showlegend": true,
         "type": "scatter",
         "x": [
          0.00007740610114165173
         ],
         "xaxis": "x",
         "y": [
          -0.0022101030605424592
         ],
         "yaxis": "y"
        },
        {
         "hovertemplate": "Area=Mahabubabad<br>Deviance Scores Amount of Fires=%{x}<br>Deviance Scores NOx=%{y}<extra></extra>",
         "legendgroup": "Mahabubabad",
         "marker": {
          "color": "#FF6692",
          "symbol": "circle"
         },
         "mode": "markers",
         "name": "Mahabubabad",
         "orientation": "v",
         "showlegend": true,
         "type": "scatter",
         "x": [
          -0.00000326188299608532
         ],
         "xaxis": "x",
         "y": [
          0.0000749143578341099
         ],
         "yaxis": "y"
        },
        {
         "hovertemplate": "Area=Mahabubnagar_Urban<br>Deviance Scores Amount of Fires=%{x}<br>Deviance Scores NOx=%{y}<extra></extra>",
         "legendgroup": "Mahabubnagar_Urban",
         "marker": {
          "color": "#B6E880",
          "symbol": "circle"
         },
         "mode": "markers",
         "name": "Mahabubnagar_Urban",
         "orientation": "v",
         "showlegend": true,
         "type": "scatter",
         "x": [
          -0.00002642527687295673
         ],
         "xaxis": "x",
         "y": [
          -0.00040735644828522594
         ],
         "yaxis": "y"
        },
        {
         "hovertemplate": "Area=Mahadevpur<br>Deviance Scores Amount of Fires=%{x}<br>Deviance Scores NOx=%{y}<extra></extra>",
         "legendgroup": "Mahadevpur",
         "marker": {
          "color": "#FF97FF",
          "symbol": "circle"
         },
         "mode": "markers",
         "name": "Mahadevpur",
         "orientation": "v",
         "showlegend": true,
         "type": "scatter",
         "x": [
          0.0001056906707451
         ],
         "xaxis": "x",
         "y": [
          0.001716589907972511
         ],
         "yaxis": "y"
        },
        {
         "hovertemplate": "Area=Maheswaram<br>Deviance Scores Amount of Fires=%{x}<br>Deviance Scores NOx=%{y}<extra></extra>",
         "legendgroup": "Maheswaram",
         "marker": {
          "color": "#FECB52",
          "symbol": "circle"
         },
         "mode": "markers",
         "name": "Maheswaram",
         "orientation": "v",
         "showlegend": true,
         "type": "scatter",
         "x": [
          -0.00004273073130582031
         ],
         "xaxis": "x",
         "y": [
          -0.0005711201295936429
         ],
         "yaxis": "y"
        },
        {
         "hovertemplate": "Area=Makloor<br>Deviance Scores Amount of Fires=%{x}<br>Deviance Scores NOx=%{y}<extra></extra>",
         "legendgroup": "Makloor",
         "marker": {
          "color": "#636efa",
          "symbol": "circle"
         },
         "mode": "markers",
         "name": "Makloor",
         "orientation": "v",
         "showlegend": true,
         "type": "scatter",
         "x": [
          -0.00009940647236925863
         ],
         "xaxis": "x",
         "y": [
          -0.0004563728698803454
         ],
         "yaxis": "y"
        },
        {
         "hovertemplate": "Area=Makthal<br>Deviance Scores Amount of Fires=%{x}<br>Deviance Scores NOx=%{y}<extra></extra>",
         "legendgroup": "Makthal",
         "marker": {
          "color": "#EF553B",
          "symbol": "circle"
         },
         "mode": "markers",
         "name": "Makthal",
         "orientation": "v",
         "showlegend": true,
         "type": "scatter",
         "x": [
          0.000052953241704113016
         ],
         "xaxis": "x",
         "y": [
          -0.002200626075448831
         ],
         "yaxis": "y"
        },
        {
         "hovertemplate": "Area=Maldakal<br>Deviance Scores Amount of Fires=%{x}<br>Deviance Scores NOx=%{y}<extra></extra>",
         "legendgroup": "Maldakal",
         "marker": {
          "color": "#00cc96",
          "symbol": "circle"
         },
         "mode": "markers",
         "name": "Maldakal",
         "orientation": "v",
         "showlegend": true,
         "type": "scatter",
         "x": [
          0.00001081926683142786
         ],
         "xaxis": "x",
         "y": [
          -0.0014834349047423904
         ],
         "yaxis": "y"
        },
        {
         "hovertemplate": "Area=Malharrao<br>Deviance Scores Amount of Fires=%{x}<br>Deviance Scores NOx=%{y}<extra></extra>",
         "legendgroup": "Malharrao",
         "marker": {
          "color": "#ab63fa",
          "symbol": "circle"
         },
         "mode": "markers",
         "name": "Malharrao",
         "orientation": "v",
         "showlegend": true,
         "type": "scatter",
         "x": [
          0.0001513742001905
         ],
         "xaxis": "x",
         "y": [
          0.0006347734366485868
         ],
         "yaxis": "y"
        },
        {
         "hovertemplate": "Area=Mallapur<br>Deviance Scores Amount of Fires=%{x}<br>Deviance Scores NOx=%{y}<extra></extra>",
         "legendgroup": "Mallapur",
         "marker": {
          "color": "#FFA15A",
          "symbol": "circle"
         },
         "mode": "markers",
         "name": "Mallapur",
         "orientation": "v",
         "showlegend": true,
         "type": "scatter",
         "x": [
          -0.000133890648644
         ],
         "xaxis": "x",
         "y": [
          -0.000560909827886275
         ],
         "yaxis": "y"
        },
        {
         "hovertemplate": "Area=Mallial<br>Deviance Scores Amount of Fires=%{x}<br>Deviance Scores NOx=%{y}<extra></extra>",
         "legendgroup": "Mallial",
         "marker": {
          "color": "#19d3f3",
          "symbol": "circle"
         },
         "mode": "markers",
         "name": "Mallial",
         "orientation": "v",
         "showlegend": true,
         "type": "scatter",
         "x": [
          -0.00001587550306462978
         ],
         "xaxis": "x",
         "y": [
          -0.0003881679913738208
         ],
         "yaxis": "y"
        },
        {
         "hovertemplate": "Area=Mamda<br>Deviance Scores Amount of Fires=%{x}<br>Deviance Scores NOx=%{y}<extra></extra>",
         "legendgroup": "Mamda",
         "marker": {
          "color": "#FF6692",
          "symbol": "circle"
         },
         "mode": "markers",
         "name": "Mamda",
         "orientation": "v",
         "showlegend": true,
         "type": "scatter",
         "x": [
          -0.00005545903817856015
         ],
         "xaxis": "x",
         "y": [
          0.0001111630749310556
         ],
         "yaxis": "y"
        },
        {
         "hovertemplate": "Area=Manakondur<br>Deviance Scores Amount of Fires=%{x}<br>Deviance Scores NOx=%{y}<extra></extra>",
         "legendgroup": "Manakondur",
         "marker": {
          "color": "#B6E880",
          "symbol": "circle"
         },
         "mode": "markers",
         "name": "Manakondur",
         "orientation": "v",
         "showlegend": true,
         "type": "scatter",
         "x": [
          0.00009857323467693874
         ],
         "xaxis": "x",
         "y": [
          -0.0008571961185026931
         ],
         "yaxis": "y"
        },
        {
         "hovertemplate": "Area=Manchal<br>Deviance Scores Amount of Fires=%{x}<br>Deviance Scores NOx=%{y}<extra></extra>",
         "legendgroup": "Manchal",
         "marker": {
          "color": "#FF97FF",
          "symbol": "circle"
         },
         "mode": "markers",
         "name": "Manchal",
         "orientation": "v",
         "showlegend": true,
         "type": "scatter",
         "x": [
          -0.00002826023360395315
         ],
         "xaxis": "x",
         "y": [
          -0.000306316909481636
         ],
         "yaxis": "y"
        },
        {
         "hovertemplate": "Area=Mandamarri<br>Deviance Scores Amount of Fires=%{x}<br>Deviance Scores NOx=%{y}<extra></extra>",
         "legendgroup": "Mandamarri",
         "marker": {
          "color": "#FECB52",
          "symbol": "circle"
         },
         "mode": "markers",
         "name": "Mandamarri",
         "orientation": "v",
         "showlegend": true,
         "type": "scatter",
         "x": [
          0.00007841817300665968
         ],
         "xaxis": "x",
         "y": [
          0.003386188827681729
         ],
         "yaxis": "y"
        },
        {
         "hovertemplate": "Area=Mangapet<br>Deviance Scores Amount of Fires=%{x}<br>Deviance Scores NOx=%{y}<extra></extra>",
         "legendgroup": "Mangapet",
         "marker": {
          "color": "#636efa",
          "symbol": "circle"
         },
         "mode": "markers",
         "name": "Mangapet",
         "orientation": "v",
         "showlegend": true,
         "type": "scatter",
         "x": [
          -0.00006981989066045704
         ],
         "xaxis": "x",
         "y": [
          0.0012904858736946523
         ],
         "yaxis": "y"
        },
        {
         "hovertemplate": "Area=Manoor<br>Deviance Scores Amount of Fires=%{x}<br>Deviance Scores NOx=%{y}<extra></extra>",
         "legendgroup": "Manoor",
         "marker": {
          "color": "#EF553B",
          "symbol": "circle"
         },
         "mode": "markers",
         "name": "Manoor",
         "orientation": "v",
         "showlegend": true,
         "type": "scatter",
         "x": [
          0.000023423253947992635
         ],
         "xaxis": "x",
         "y": [
          -0.0001637415966688064
         ],
         "yaxis": "y"
        },
        {
         "hovertemplate": "Area=Manopad<br>Deviance Scores Amount of Fires=%{x}<br>Deviance Scores NOx=%{y}<extra></extra>",
         "legendgroup": "Manopad",
         "marker": {
          "color": "#00cc96",
          "symbol": "circle"
         },
         "mode": "markers",
         "name": "Manopad",
         "orientation": "v",
         "showlegend": true,
         "type": "scatter",
         "x": [
          -0.00003998152523130581
         ],
         "xaxis": "x",
         "y": [
          -0.0006709623134626119
         ],
         "yaxis": "y"
        },
        {
         "hovertemplate": "Area=Manthani<br>Deviance Scores Amount of Fires=%{x}<br>Deviance Scores NOx=%{y}<extra></extra>",
         "legendgroup": "Manthani",
         "marker": {
          "color": "#ab63fa",
          "symbol": "circle"
         },
         "mode": "markers",
         "name": "Manthani",
         "orientation": "v",
         "showlegend": true,
         "type": "scatter",
         "x": [
          0.000026832989009312214
         ],
         "xaxis": "x",
         "y": [
          0.0013085194483512393
         ],
         "yaxis": "y"
        },
        {
         "hovertemplate": "Area=Manuguru<br>Deviance Scores Amount of Fires=%{x}<br>Deviance Scores NOx=%{y}<extra></extra>",
         "legendgroup": "Manuguru",
         "marker": {
          "color": "#FFA15A",
          "symbol": "circle"
         },
         "mode": "markers",
         "name": "Manuguru",
         "orientation": "v",
         "showlegend": true,
         "type": "scatter",
         "x": [
          -0.000050157340927327406
         ],
         "xaxis": "x",
         "y": [
          0.001070918183827546
         ],
         "yaxis": "y"
        },
        {
         "hovertemplate": "Area=Marikal<br>Deviance Scores Amount of Fires=%{x}<br>Deviance Scores NOx=%{y}<extra></extra>",
         "legendgroup": "Marikal",
         "marker": {
          "color": "#19d3f3",
          "symbol": "circle"
         },
         "mode": "markers",
         "name": "Marikal",
         "orientation": "v",
         "showlegend": true,
         "type": "scatter",
         "x": [
          0.000013096072129175975
         ],
         "xaxis": "x",
         "y": [
          -0.0017023352830611662
         ],
         "yaxis": "y"
        },
        {
         "hovertemplate": "Area=Maripeda<br>Deviance Scores Amount of Fires=%{x}<br>Deviance Scores NOx=%{y}<extra></extra>",
         "legendgroup": "Maripeda",
         "marker": {
          "color": "#FF6692",
          "symbol": "circle"
         },
         "mode": "markers",
         "name": "Maripeda",
         "orientation": "v",
         "showlegend": true,
         "type": "scatter",
         "x": [
          0.000027577939566780197
         ],
         "xaxis": "x",
         "y": [
          0.000013951834342190794
         ],
         "yaxis": "y"
        },
        {
         "hovertemplate": "Area=Markook<br>Deviance Scores Amount of Fires=%{x}<br>Deviance Scores NOx=%{y}<extra></extra>",
         "legendgroup": "Markook",
         "marker": {
          "color": "#B6E880",
          "symbol": "circle"
         },
         "mode": "markers",
         "name": "Markook",
         "orientation": "v",
         "showlegend": true,
         "type": "scatter",
         "x": [
          -0.0000414719738304098
         ],
         "xaxis": "x",
         "y": [
          -0.0001661879684881751
         ],
         "yaxis": "y"
        },
        {
         "hovertemplate": "Area=Marpalle<br>Deviance Scores Amount of Fires=%{x}<br>Deviance Scores NOx=%{y}<extra></extra>",
         "legendgroup": "Marpalle",
         "marker": {
          "color": "#FF97FF",
          "symbol": "circle"
         },
         "mode": "markers",
         "name": "Marpalle",
         "orientation": "v",
         "showlegend": true,
         "type": "scatter",
         "x": [
          0.0001807187856145
         ],
         "xaxis": "x",
         "y": [
          -0.0001587281598069758
         ],
         "yaxis": "y"
        },
        {
         "hovertemplate": "Area=Marriguda<br>Deviance Scores Amount of Fires=%{x}<br>Deviance Scores NOx=%{y}<extra></extra>",
         "legendgroup": "Marriguda",
         "marker": {
          "color": "#FECB52",
          "symbol": "circle"
         },
         "mode": "markers",
         "name": "Marriguda",
         "orientation": "v",
         "showlegend": true,
         "type": "scatter",
         "x": [
          0.000017747515179743085
         ],
         "xaxis": "x",
         "y": [
          -0.0006950025635479466
         ],
         "yaxis": "y"
        },
        {
         "hovertemplate": "Area=Mattampalli<br>Deviance Scores Amount of Fires=%{x}<br>Deviance Scores NOx=%{y}<extra></extra>",
         "legendgroup": "Mattampalli",
         "marker": {
          "color": "#636efa",
          "symbol": "circle"
         },
         "mode": "markers",
         "name": "Mattampalli",
         "orientation": "v",
         "showlegend": true,
         "type": "scatter",
         "x": [
          -0.000003318417901288806
         ],
         "xaxis": "x",
         "y": [
          -0.0009077275099260651
         ],
         "yaxis": "y"
        },
        {
         "hovertemplate": "Area=Medak<br>Deviance Scores Amount of Fires=%{x}<br>Deviance Scores NOx=%{y}<extra></extra>",
         "legendgroup": "Medak",
         "marker": {
          "color": "#EF553B",
          "symbol": "circle"
         },
         "mode": "markers",
         "name": "Medak",
         "orientation": "v",
         "showlegend": true,
         "type": "scatter",
         "x": [
          -0.00007279274997481969
         ],
         "xaxis": "x",
         "y": [
          -0.0018363359903876759
         ],
         "yaxis": "y"
        },
        {
         "hovertemplate": "Area=Medchal<br>Deviance Scores Amount of Fires=%{x}<br>Deviance Scores NOx=%{y}<extra></extra>",
         "legendgroup": "Medchal",
         "marker": {
          "color": "#00cc96",
          "symbol": "circle"
         },
         "mode": "markers",
         "name": "Medchal",
         "orientation": "v",
         "showlegend": true,
         "type": "scatter",
         "x": [
          0.00002866165334445717
         ],
         "xaxis": "x",
         "y": [
          0.00015194472610336103
         ],
         "yaxis": "y"
        },
        {
         "hovertemplate": "Area=Medipalle<br>Deviance Scores Amount of Fires=%{x}<br>Deviance Scores NOx=%{y}<extra></extra>",
         "legendgroup": "Medipalle",
         "marker": {
          "color": "#ab63fa",
          "symbol": "circle"
         },
         "mode": "markers",
         "name": "Medipalle",
         "orientation": "v",
         "showlegend": true,
         "type": "scatter",
         "x": [
          0.000006494105565837586
         ],
         "xaxis": "x",
         "y": [
          0.0002888389938948662
         ],
         "yaxis": "y"
        },
        {
         "hovertemplate": "Area=Mellachervu<br>Deviance Scores Amount of Fires=%{x}<br>Deviance Scores NOx=%{y}<extra></extra>",
         "legendgroup": "Mellachervu",
         "marker": {
          "color": "#FFA15A",
          "symbol": "circle"
         },
         "mode": "markers",
         "name": "Mellachervu",
         "orientation": "v",
         "showlegend": true,
         "type": "scatter",
         "x": [
          0.0000062116188056612976
         ],
         "xaxis": "x",
         "y": [
          -0.000010703183858406948
         ],
         "yaxis": "y"
        },
        {
         "hovertemplate": "Area=Mendora<br>Deviance Scores Amount of Fires=%{x}<br>Deviance Scores NOx=%{y}<extra></extra>",
         "legendgroup": "Mendora",
         "marker": {
          "color": "#19d3f3",
          "symbol": "circle"
         },
         "mode": "markers",
         "name": "Mendora",
         "orientation": "v",
         "showlegend": true,
         "type": "scatter",
         "x": [
          -0.000024289744560043978
         ],
         "xaxis": "x",
         "y": [
          -0.00037556014400962355
         ],
         "yaxis": "y"
        },
        {
         "hovertemplate": "Area=Metpalli<br>Deviance Scores Amount of Fires=%{x}<br>Deviance Scores NOx=%{y}<extra></extra>",
         "legendgroup": "Metpalli",
         "marker": {
          "color": "#FF6692",
          "symbol": "circle"
         },
         "mode": "markers",
         "name": "Metpalli",
         "orientation": "v",
         "showlegend": true,
         "type": "scatter",
         "x": [
          0.00009147060190410723
         ],
         "xaxis": "x",
         "y": [
          -0.00027426946912783093
         ],
         "yaxis": "y"
        },
        {
         "hovertemplate": "Area=Midjil<br>Deviance Scores Amount of Fires=%{x}<br>Deviance Scores NOx=%{y}<extra></extra>",
         "legendgroup": "Midjil",
         "marker": {
          "color": "#B6E880",
          "symbol": "circle"
         },
         "mode": "markers",
         "name": "Midjil",
         "orientation": "v",
         "showlegend": true,
         "type": "scatter",
         "x": [
          -0.000029935010560043607
         ],
         "xaxis": "x",
         "y": [
          -0.0000752133281285324
         ],
         "yaxis": "y"
        },
        {
         "hovertemplate": "Area=Mirdoddi<br>Deviance Scores Amount of Fires=%{x}<br>Deviance Scores NOx=%{y}<extra></extra>",
         "legendgroup": "Mirdoddi",
         "marker": {
          "color": "#FF97FF",
          "symbol": "circle"
         },
         "mode": "markers",
         "name": "Mirdoddi",
         "orientation": "v",
         "showlegend": true,
         "type": "scatter",
         "x": [
          0.00003833204278580099
         ],
         "xaxis": "x",
         "y": [
          -0.002054746366684378
         ],
         "yaxis": "y"
        },
        {
         "hovertemplate": "Area=Miryalaguda<br>Deviance Scores Amount of Fires=%{x}<br>Deviance Scores NOx=%{y}<extra></extra>",
         "legendgroup": "Miryalaguda",
         "marker": {
          "color": "#FECB52",
          "symbol": "circle"
         },
         "mode": "markers",
         "name": "Miryalaguda",
         "orientation": "v",
         "showlegend": true,
         "type": "scatter",
         "x": [
          -0.00002757968203359586
         ],
         "xaxis": "x",
         "y": [
          0.0002041133892148984
         ],
         "yaxis": "y"
        },
        {
         "hovertemplate": "Area=Moinabad<br>Deviance Scores Amount of Fires=%{x}<br>Deviance Scores NOx=%{y}<extra></extra>",
         "legendgroup": "Moinabad",
         "marker": {
          "color": "#636efa",
          "symbol": "circle"
         },
         "mode": "markers",
         "name": "Moinabad",
         "orientation": "v",
         "showlegend": true,
         "type": "scatter",
         "x": [
          -0.000028362107355315624
         ],
         "xaxis": "x",
         "y": [
          -0.0005446486786456692
         ],
         "yaxis": "y"
        },
        {
         "hovertemplate": "Area=Mominpet<br>Deviance Scores Amount of Fires=%{x}<br>Deviance Scores NOx=%{y}<extra></extra>",
         "legendgroup": "Mominpet",
         "marker": {
          "color": "#EF553B",
          "symbol": "circle"
         },
         "mode": "markers",
         "name": "Mominpet",
         "orientation": "v",
         "showlegend": true,
         "type": "scatter",
         "x": [
          0.0001605279546832
         ],
         "xaxis": "x",
         "y": [
          -0.00017929806685732774
         ],
         "yaxis": "y"
        },
        {
         "hovertemplate": "Area=Morthad<br>Deviance Scores Amount of Fires=%{x}<br>Deviance Scores NOx=%{y}<extra></extra>",
         "legendgroup": "Morthad",
         "marker": {
          "color": "#00cc96",
          "symbol": "circle"
         },
         "mode": "markers",
         "name": "Morthad",
         "orientation": "v",
         "showlegend": true,
         "type": "scatter",
         "x": [
          0.0001009158917969
         ],
         "xaxis": "x",
         "y": [
          -0.001745009893811734
         ],
         "yaxis": "y"
        },
        {
         "hovertemplate": "Area=Motakondur<br>Deviance Scores Amount of Fires=%{x}<br>Deviance Scores NOx=%{y}<extra></extra>",
         "legendgroup": "Motakondur",
         "marker": {
          "color": "#ab63fa",
          "symbol": "circle"
         },
         "mode": "markers",
         "name": "Motakondur",
         "orientation": "v",
         "showlegend": true,
         "type": "scatter",
         "x": [
          0.0000849594255643717
         ],
         "xaxis": "x",
         "y": [
          -0.0002873590947718914
         ],
         "yaxis": "y"
        },
        {
         "hovertemplate": "Area=Mothey<br>Deviance Scores Amount of Fires=%{x}<br>Deviance Scores NOx=%{y}<extra></extra>",
         "legendgroup": "Mothey",
         "marker": {
          "color": "#FFA15A",
          "symbol": "circle"
         },
         "mode": "markers",
         "name": "Mothey",
         "orientation": "v",
         "showlegend": true,
         "type": "scatter",
         "x": [
          -0.00002225385624568882
         ],
         "xaxis": "x",
         "y": [
          -0.0007942681309562178
         ],
         "yaxis": "y"
        },
        {
         "hovertemplate": "Area=Mothkur<br>Deviance Scores Amount of Fires=%{x}<br>Deviance Scores NOx=%{y}<extra></extra>",
         "legendgroup": "Mothkur",
         "marker": {
          "color": "#19d3f3",
          "symbol": "circle"
         },
         "mode": "markers",
         "name": "Mothkur",
         "orientation": "v",
         "showlegend": true,
         "type": "scatter",
         "x": [
          -0.000026069043714516023
         ],
         "xaxis": "x",
         "y": [
          -0.000260932339572903
         ],
         "yaxis": "y"
        },
        {
         "hovertemplate": "Area=Mudhole<br>Deviance Scores Amount of Fires=%{x}<br>Deviance Scores NOx=%{y}<extra></extra>",
         "legendgroup": "Mudhole",
         "marker": {
          "color": "#FF6692",
          "symbol": "circle"
         },
         "mode": "markers",
         "name": "Mudhole",
         "orientation": "v",
         "showlegend": true,
         "type": "scatter",
         "x": [
          0.00003762124255297427
         ],
         "xaxis": "x",
         "y": [
          0.00003514864793854531
         ],
         "yaxis": "y"
        },
        {
         "hovertemplate": "Area=Mudigonda<br>Deviance Scores Amount of Fires=%{x}<br>Deviance Scores NOx=%{y}<extra></extra>",
         "legendgroup": "Mudigonda",
         "marker": {
          "color": "#B6E880",
          "symbol": "circle"
         },
         "mode": "markers",
         "name": "Mudigonda",
         "orientation": "v",
         "showlegend": true,
         "type": "scatter",
         "x": [
          -0.000060670854063424265
         ],
         "xaxis": "x",
         "y": [
          -0.0001548867831323998
         ],
         "yaxis": "y"
        },
        {
         "hovertemplate": "Area=Mugpal<br>Deviance Scores Amount of Fires=%{x}<br>Deviance Scores NOx=%{y}<extra></extra>",
         "legendgroup": "Mugpal",
         "marker": {
          "color": "#FF97FF",
          "symbol": "circle"
         },
         "mode": "markers",
         "name": "Mugpal",
         "orientation": "v",
         "showlegend": true,
         "type": "scatter",
         "x": [
          0.0001603174066675
         ],
         "xaxis": "x",
         "y": [
          0.0001506595754995306
         ],
         "yaxis": "y"
        },
        {
         "hovertemplate": "Area=Mulakalapally<br>Deviance Scores Amount of Fires=%{x}<br>Deviance Scores NOx=%{y}<extra></extra>",
         "legendgroup": "Mulakalapally",
         "marker": {
          "color": "#FECB52",
          "symbol": "circle"
         },
         "mode": "markers",
         "name": "Mulakalapally",
         "orientation": "v",
         "showlegend": true,
         "type": "scatter",
         "x": [
          -0.000017034047638619456
         ],
         "xaxis": "x",
         "y": [
          -0.003397288066551432
         ],
         "yaxis": "y"
        },
        {
         "hovertemplate": "Area=Mulug<br>Deviance Scores Amount of Fires=%{x}<br>Deviance Scores NOx=%{y}<extra></extra>",
         "legendgroup": "Mulug",
         "marker": {
          "color": "#636efa",
          "symbol": "circle"
         },
         "mode": "markers",
         "name": "Mulug",
         "orientation": "v",
         "showlegend": true,
         "type": "scatter",
         "x": [
          -0.0001565083145085,
          0.00009617621866825006
         ],
         "xaxis": "x",
         "y": [
          -0.0021807471352755766,
          0.0000019365839567380694
         ],
         "yaxis": "y"
        },
        {
         "hovertemplate": "Area=Munagala<br>Deviance Scores Amount of Fires=%{x}<br>Deviance Scores NOx=%{y}<extra></extra>",
         "legendgroup": "Munagala",
         "marker": {
          "color": "#EF553B",
          "symbol": "circle"
         },
         "mode": "markers",
         "name": "Munagala",
         "orientation": "v",
         "showlegend": true,
         "type": "scatter",
         "x": [
          0.00002963465337416129
         ],
         "xaxis": "x",
         "y": [
          -0.00047244721519220333
         ],
         "yaxis": "y"
        },
        {
         "hovertemplate": "Area=Munipally<br>Deviance Scores Amount of Fires=%{x}<br>Deviance Scores NOx=%{y}<extra></extra>",
         "legendgroup": "Munipally",
         "marker": {
          "color": "#00cc96",
          "symbol": "circle"
         },
         "mode": "markers",
         "name": "Munipally",
         "orientation": "v",
         "showlegend": true,
         "type": "scatter",
         "x": [
          0.0000014213659108711036
         ],
         "xaxis": "x",
         "y": [
          -0.00024358567132558675
         ],
         "yaxis": "y"
        },
        {
         "hovertemplate": "Area=Mupkal<br>Deviance Scores Amount of Fires=%{x}<br>Deviance Scores NOx=%{y}<extra></extra>",
         "legendgroup": "Mupkal",
         "marker": {
          "color": "#ab63fa",
          "symbol": "circle"
         },
         "mode": "markers",
         "name": "Mupkal",
         "orientation": "v",
         "showlegend": true,
         "type": "scatter",
         "x": [
          -0.000013420192314869818
         ],
         "xaxis": "x",
         "y": [
          -0.0006069984792412012
         ],
         "yaxis": "y"
        },
        {
         "hovertemplate": "Area=Mustabad<br>Deviance Scores Amount of Fires=%{x}<br>Deviance Scores NOx=%{y}<extra></extra>",
         "legendgroup": "Mustabad",
         "marker": {
          "color": "#FFA15A",
          "symbol": "circle"
         },
         "mode": "markers",
         "name": "Mustabad",
         "orientation": "v",
         "showlegend": true,
         "type": "scatter",
         "x": [
          0.000007600880916531285
         ],
         "xaxis": "x",
         "y": [
          -0.0009829265464990715
         ],
         "yaxis": "y"
        },
        {
         "hovertemplate": "Area=Mutharam_Mahadevpur<br>Deviance Scores Amount of Fires=%{x}<br>Deviance Scores NOx=%{y}<extra></extra>",
         "legendgroup": "Mutharam_Mahadevpur",
         "marker": {
          "color": "#19d3f3",
          "symbol": "circle"
         },
         "mode": "markers",
         "name": "Mutharam_Mahadevpur",
         "orientation": "v",
         "showlegend": true,
         "type": "scatter",
         "x": [
          0.00006515373586578416
         ],
         "xaxis": "x",
         "y": [
          0.00006946236070682905
         ],
         "yaxis": "y"
        },
        {
         "hovertemplate": "Area=Mutharam_Manthani<br>Deviance Scores Amount of Fires=%{x}<br>Deviance Scores NOx=%{y}<extra></extra>",
         "legendgroup": "Mutharam_Manthani",
         "marker": {
          "color": "#FF6692",
          "symbol": "circle"
         },
         "mode": "markers",
         "name": "Mutharam_Manthani",
         "orientation": "v",
         "showlegend": true,
         "type": "scatter",
         "x": [
          -0.00006951042099137375
         ],
         "xaxis": "x",
         "y": [
          0.0004914240691230707
         ],
         "yaxis": "y"
        },
        {
         "hovertemplate": "Area=Nadigudem<br>Deviance Scores Amount of Fires=%{x}<br>Deviance Scores NOx=%{y}<extra></extra>",
         "legendgroup": "Nadigudem",
         "marker": {
          "color": "#B6E880",
          "symbol": "circle"
         },
         "mode": "markers",
         "name": "Nadigudem",
         "orientation": "v",
         "showlegend": true,
         "type": "scatter",
         "x": [
          -0.000021896513243848688
         ],
         "xaxis": "x",
         "y": [
          -0.00043389282316011983
         ],
         "yaxis": "y"
        },
        {
         "hovertemplate": "Area=Nagalgidda<br>Deviance Scores Amount of Fires=%{x}<br>Deviance Scores NOx=%{y}<extra></extra>",
         "legendgroup": "Nagalgidda",
         "marker": {
          "color": "#FF97FF",
          "symbol": "circle"
         },
         "mode": "markers",
         "name": "Nagalgidda",
         "orientation": "v",
         "showlegend": true,
         "type": "scatter",
         "x": [
          0.00003482108188597228
         ],
         "xaxis": "x",
         "y": [
          -0.00037617457848636255
         ],
         "yaxis": "y"
        },
        {
         "hovertemplate": "Area=Nagaram<br>Deviance Scores Amount of Fires=%{x}<br>Deviance Scores NOx=%{y}<extra></extra>",
         "legendgroup": "Nagaram",
         "marker": {
          "color": "#FECB52",
          "symbol": "circle"
         },
         "mode": "markers",
         "name": "Nagaram",
         "orientation": "v",
         "showlegend": true,
         "type": "scatter",
         "x": [
          0.000003928988418029202
         ],
         "xaxis": "x",
         "y": [
          0.00024926689871624557
         ],
         "yaxis": "y"
        },
        {
         "hovertemplate": "Area=Nagi_Reddypet<br>Deviance Scores Amount of Fires=%{x}<br>Deviance Scores NOx=%{y}<extra></extra>",
         "legendgroup": "Nagi_Reddypet",
         "marker": {
          "color": "#636efa",
          "symbol": "circle"
         },
         "mode": "markers",
         "name": "Nagi_Reddypet",
         "orientation": "v",
         "showlegend": true,
         "type": "scatter",
         "x": [
          0.00005686384267434289
         ],
         "xaxis": "x",
         "y": [
          -0.0025734901677118577
         ],
         "yaxis": "y"
        },
        {
         "hovertemplate": "Area=Nalgonda<br>Deviance Scores Amount of Fires=%{x}<br>Deviance Scores NOx=%{y}<extra></extra>",
         "legendgroup": "Nalgonda",
         "marker": {
          "color": "#EF553B",
          "symbol": "circle"
         },
         "mode": "markers",
         "name": "Nalgonda",
         "orientation": "v",
         "showlegend": true,
         "type": "scatter",
         "x": [
          0.0000987333935163548
         ],
         "xaxis": "x",
         "y": [
          -0.000980717566116101
         ],
         "yaxis": "y"
        },
        {
         "hovertemplate": "Area=Nallabelli<br>Deviance Scores Amount of Fires=%{x}<br>Deviance Scores NOx=%{y}<extra></extra>",
         "legendgroup": "Nallabelli",
         "marker": {
          "color": "#00cc96",
          "symbol": "circle"
         },
         "mode": "markers",
         "name": "Nallabelli",
         "orientation": "v",
         "showlegend": true,
         "type": "scatter",
         "x": [
          -0.0001934798538035
         ],
         "xaxis": "x",
         "y": [
          -0.001713280133053115
         ],
         "yaxis": "y"
        },
        {
         "hovertemplate": "Area=Nampally<br>Deviance Scores Amount of Fires=%{x}<br>Deviance Scores NOx=%{y}<extra></extra>",
         "legendgroup": "Nampally",
         "marker": {
          "color": "#ab63fa",
          "symbol": "circle"
         },
         "mode": "markers",
         "name": "Nampally",
         "orientation": "v",
         "showlegend": true,
         "type": "scatter",
         "x": [
          0.0001225320666071
         ],
         "xaxis": "x",
         "y": [
          0.00010670155108403529
         ],
         "yaxis": "y"
        },
        {
         "hovertemplate": "Area=Nandipet<br>Deviance Scores Amount of Fires=%{x}<br>Deviance Scores NOx=%{y}<extra></extra>",
         "legendgroup": "Nandipet",
         "marker": {
          "color": "#FFA15A",
          "symbol": "circle"
         },
         "mode": "markers",
         "name": "Nandipet",
         "orientation": "v",
         "showlegend": true,
         "type": "scatter",
         "x": [
          -0.000046581479618077885
         ],
         "xaxis": "x",
         "y": [
          -0.0008111669771245615
         ],
         "yaxis": "y"
        },
        {
         "hovertemplate": "Area=Nangnoor<br>Deviance Scores Amount of Fires=%{x}<br>Deviance Scores NOx=%{y}<extra></extra>",
         "legendgroup": "Nangnoor",
         "marker": {
          "color": "#19d3f3",
          "symbol": "circle"
         },
         "mode": "markers",
         "name": "Nangnoor",
         "orientation": "v",
         "showlegend": true,
         "type": "scatter",
         "x": [
          0.0001484004006987
         ],
         "xaxis": "x",
         "y": [
          -0.0010506777499854003
         ],
         "yaxis": "y"
        },
        {
         "hovertemplate": "Area=Narayanapoor<br>Deviance Scores Amount of Fires=%{x}<br>Deviance Scores NOx=%{y}<extra></extra>",
         "legendgroup": "Narayanapoor",
         "marker": {
          "color": "#FF6692",
          "symbol": "circle"
         },
         "mode": "markers",
         "name": "Narayanapoor",
         "orientation": "v",
         "showlegend": true,
         "type": "scatter",
         "x": [
          0.00001910911358727637
         ],
         "xaxis": "x",
         "y": [
          -0.0007620028085978327
         ],
         "yaxis": "y"
        },
        {
         "hovertemplate": "Area=Narayankhed<br>Deviance Scores Amount of Fires=%{x}<br>Deviance Scores NOx=%{y}<extra></extra>",
         "legendgroup": "Narayankhed",
         "marker": {
          "color": "#B6E880",
          "symbol": "circle"
         },
         "mode": "markers",
         "name": "Narayankhed",
         "orientation": "v",
         "showlegend": true,
         "type": "scatter",
         "x": [
          0.00008273381870033986
         ],
         "xaxis": "x",
         "y": [
          -0.0009882615480900645
         ],
         "yaxis": "y"
        },
        {
         "hovertemplate": "Area=Narayanpet<br>Deviance Scores Amount of Fires=%{x}<br>Deviance Scores NOx=%{y}<extra></extra>",
         "legendgroup": "Narayanpet",
         "marker": {
          "color": "#FF97FF",
          "symbol": "circle"
         },
         "mode": "markers",
         "name": "Narayanpet",
         "orientation": "v",
         "showlegend": true,
         "type": "scatter",
         "x": [
          3.97860249256112e-7
         ],
         "xaxis": "x",
         "y": [
          -0.0014679655525353466
         ],
         "yaxis": "y"
        },
        {
         "hovertemplate": "Area=Narketpally<br>Deviance Scores Amount of Fires=%{x}<br>Deviance Scores NOx=%{y}<extra></extra>",
         "legendgroup": "Narketpally",
         "marker": {
          "color": "#FECB52",
          "symbol": "circle"
         },
         "mode": "markers",
         "name": "Narketpally",
         "orientation": "v",
         "showlegend": true,
         "type": "scatter",
         "x": [
          0.000028346346278037595
         ],
         "xaxis": "x",
         "y": [
          -0.0006775007905084776
         ],
         "yaxis": "y"
        },
        {
         "hovertemplate": "Area=Narmetta<br>Deviance Scores Amount of Fires=%{x}<br>Deviance Scores NOx=%{y}<extra></extra>",
         "legendgroup": "Narmetta",
         "marker": {
          "color": "#636efa",
          "symbol": "circle"
         },
         "mode": "markers",
         "name": "Narmetta",
         "orientation": "v",
         "showlegend": true,
         "type": "scatter",
         "x": [
          -4.1827494826358374e-7
         ],
         "xaxis": "x",
         "y": [
          -0.00029168897949992124
         ],
         "yaxis": "y"
        },
        {
         "hovertemplate": "Area=Narnoor<br>Deviance Scores Amount of Fires=%{x}<br>Deviance Scores NOx=%{y}<extra></extra>",
         "legendgroup": "Narnoor",
         "marker": {
          "color": "#EF553B",
          "symbol": "circle"
         },
         "mode": "markers",
         "name": "Narnoor",
         "orientation": "v",
         "showlegend": true,
         "type": "scatter",
         "x": [
          0.000027075513212539585
         ],
         "xaxis": "x",
         "y": [
          0.0012756249619501226
         ],
         "yaxis": "y"
        },
        {
         "hovertemplate": "Area=Narsampet<br>Deviance Scores Amount of Fires=%{x}<br>Deviance Scores NOx=%{y}<extra></extra>",
         "legendgroup": "Narsampet",
         "marker": {
          "color": "#00cc96",
          "symbol": "circle"
         },
         "mode": "markers",
         "name": "Narsampet",
         "orientation": "v",
         "showlegend": true,
         "type": "scatter",
         "x": [
          0.000024974924333752905
         ],
         "xaxis": "x",
         "y": [
          -0.0010035988014840953
         ],
         "yaxis": "y"
        },
        {
         "hovertemplate": "Area=Narsapur<br>Deviance Scores Amount of Fires=%{x}<br>Deviance Scores NOx=%{y}<extra></extra>",
         "legendgroup": "Narsapur",
         "marker": {
          "color": "#ab63fa",
          "symbol": "circle"
         },
         "mode": "markers",
         "name": "Narsapur",
         "orientation": "v",
         "showlegend": true,
         "type": "scatter",
         "x": [
          0.00008676236483219658
         ],
         "xaxis": "x",
         "y": [
          -0.0009323256020344312
         ],
         "yaxis": "y"
        },
        {
         "hovertemplate": "Area=Narsapur_G<br>Deviance Scores Amount of Fires=%{x}<br>Deviance Scores NOx=%{y}<extra></extra>",
         "legendgroup": "Narsapur_G",
         "marker": {
          "color": "#FFA15A",
          "symbol": "circle"
         },
         "mode": "markers",
         "name": "Narsapur_G",
         "orientation": "v",
         "showlegend": true,
         "type": "scatter",
         "x": [
          -0.000005701175450059136
         ],
         "xaxis": "x",
         "y": [
          0.0008298145936999921
         ],
         "yaxis": "y"
        },
        {
         "hovertemplate": "Area=Narsingi<br>Deviance Scores Amount of Fires=%{x}<br>Deviance Scores NOx=%{y}<extra></extra>",
         "legendgroup": "Narsingi",
         "marker": {
          "color": "#19d3f3",
          "symbol": "circle"
         },
         "mode": "markers",
         "name": "Narsingi",
         "orientation": "v",
         "showlegend": true,
         "type": "scatter",
         "x": [
          0.00004396509649798743
         ],
         "xaxis": "x",
         "y": [
          -0.001875718812870999
         ],
         "yaxis": "y"
        },
        {
         "hovertemplate": "Area=Narva<br>Deviance Scores Amount of Fires=%{x}<br>Deviance Scores NOx=%{y}<extra></extra>",
         "legendgroup": "Narva",
         "marker": {
          "color": "#FF6692",
          "symbol": "circle"
         },
         "mode": "markers",
         "name": "Narva",
         "orientation": "v",
         "showlegend": true,
         "type": "scatter",
         "x": [
          0.000003469623193474365
         ],
         "xaxis": "x",
         "y": [
          -0.0020414211126186
         ],
         "yaxis": "y"
        },
        {
         "hovertemplate": "Area=Nasurullabad<br>Deviance Scores Amount of Fires=%{x}<br>Deviance Scores NOx=%{y}<extra></extra>",
         "legendgroup": "Nasurullabad",
         "marker": {
          "color": "#B6E880",
          "symbol": "circle"
         },
         "mode": "markers",
         "name": "Nasurullabad",
         "orientation": "v",
         "showlegend": true,
         "type": "scatter",
         "x": [
          0.000076094143119072
         ],
         "xaxis": "x",
         "y": [
          -0.0005227304794143071
         ],
         "yaxis": "y"
        },
        {
         "hovertemplate": "Area=Navipet<br>Deviance Scores Amount of Fires=%{x}<br>Deviance Scores NOx=%{y}<extra></extra>",
         "legendgroup": "Navipet",
         "marker": {
          "color": "#FF97FF",
          "symbol": "circle"
         },
         "mode": "markers",
         "name": "Navipet",
         "orientation": "v",
         "showlegend": true,
         "type": "scatter",
         "x": [
          0.0001848914210251
         ],
         "xaxis": "x",
         "y": [
          -0.00029949268298508163
         ],
         "yaxis": "y"
        },
        {
         "hovertemplate": "Area=Nawabpet<br>Deviance Scores Amount of Fires=%{x}<br>Deviance Scores NOx=%{y}<extra></extra>",
         "legendgroup": "Nawabpet",
         "marker": {
          "color": "#FECB52",
          "symbol": "circle"
         },
         "mode": "markers",
         "name": "Nawabpet",
         "orientation": "v",
         "showlegend": true,
         "type": "scatter",
         "x": [
          -0.00009054968002848948,
          0.000037950968640918175
         ],
         "xaxis": "x",
         "y": [
          0.00006865759988828503,
          0.00005021700634665257
         ],
         "yaxis": "y"
        },
        {
         "hovertemplate": "Area=Nekkonda<br>Deviance Scores Amount of Fires=%{x}<br>Deviance Scores NOx=%{y}<extra></extra>",
         "legendgroup": "Nekkonda",
         "marker": {
          "color": "#636efa",
          "symbol": "circle"
         },
         "mode": "markers",
         "name": "Nekkonda",
         "orientation": "v",
         "showlegend": true,
         "type": "scatter",
         "x": [
          0.000030842840881980536
         ],
         "xaxis": "x",
         "y": [
          -0.00016369566115870992
         ],
         "yaxis": "y"
        },
        {
         "hovertemplate": "Area=Nelakondapally<br>Deviance Scores Amount of Fires=%{x}<br>Deviance Scores NOx=%{y}<extra></extra>",
         "legendgroup": "Nelakondapally",
         "marker": {
          "color": "#EF553B",
          "symbol": "circle"
         },
         "mode": "markers",
         "name": "Nelakondapally",
         "orientation": "v",
         "showlegend": true,
         "type": "scatter",
         "x": [
          -0.0001553602325578
         ],
         "xaxis": "x",
         "y": [
          0.00003634405586440633
         ],
         "yaxis": "y"
        },
        {
         "hovertemplate": "Area=Nellikudur<br>Deviance Scores Amount of Fires=%{x}<br>Deviance Scores NOx=%{y}<extra></extra>",
         "legendgroup": "Nellikudur",
         "marker": {
          "color": "#00cc96",
          "symbol": "circle"
         },
         "mode": "markers",
         "name": "Nellikudur",
         "orientation": "v",
         "showlegend": true,
         "type": "scatter",
         "x": [
          -0.000010289378663805018
         ],
         "xaxis": "x",
         "y": [
          -0.00046186252517757727
         ],
         "yaxis": "y"
        },
        {
         "hovertemplate": "Area=Nennel<br>Deviance Scores Amount of Fires=%{x}<br>Deviance Scores NOx=%{y}<extra></extra>",
         "legendgroup": "Nennel",
         "marker": {
          "color": "#ab63fa",
          "symbol": "circle"
         },
         "mode": "markers",
         "name": "Nennel",
         "orientation": "v",
         "showlegend": true,
         "type": "scatter",
         "x": [
          -0.000009244817318026726
         ],
         "xaxis": "x",
         "y": [
          0.004551681169917422
         ],
         "yaxis": "y"
        },
        {
         "hovertemplate": "Area=Nereducherla<br>Deviance Scores Amount of Fires=%{x}<br>Deviance Scores NOx=%{y}<extra></extra>",
         "legendgroup": "Nereducherla",
         "marker": {
          "color": "#FFA15A",
          "symbol": "circle"
         },
         "mode": "markers",
         "name": "Nereducherla",
         "orientation": "v",
         "showlegend": true,
         "type": "scatter",
         "x": [
          -0.00006600725078930648
         ],
         "xaxis": "x",
         "y": [
          0.0002035442816075204
         ],
         "yaxis": "y"
        },
        {
         "hovertemplate": "Area=Neredugommu<br>Deviance Scores Amount of Fires=%{x}<br>Deviance Scores NOx=%{y}<extra></extra>",
         "legendgroup": "Neredugommu",
         "marker": {
          "color": "#19d3f3",
          "symbol": "circle"
         },
         "mode": "markers",
         "name": "Neredugommu",
         "orientation": "v",
         "showlegend": true,
         "type": "scatter",
         "x": [
          -0.000002679406731816192
         ],
         "xaxis": "x",
         "y": [
          -0.0007300409850985743
         ],
         "yaxis": "y"
        },
        {
         "hovertemplate": "Area=Nidamanoor<br>Deviance Scores Amount of Fires=%{x}<br>Deviance Scores NOx=%{y}<extra></extra>",
         "legendgroup": "Nidamanoor",
         "marker": {
          "color": "#FF6692",
          "symbol": "circle"
         },
         "mode": "markers",
         "name": "Nidamanoor",
         "orientation": "v",
         "showlegend": true,
         "type": "scatter",
         "x": [
          -0.0001079283086397
         ],
         "xaxis": "x",
         "y": [
          0.00007623942982882902
         ],
         "yaxis": "y"
        },
        {
         "hovertemplate": "Area=Nizamabad Rural<br>Deviance Scores Amount of Fires=%{x}<br>Deviance Scores NOx=%{y}<extra></extra>",
         "legendgroup": "Nizamabad Rural",
         "marker": {
          "color": "#B6E880",
          "symbol": "circle"
         },
         "mode": "markers",
         "name": "Nizamabad Rural",
         "orientation": "v",
         "showlegend": true,
         "type": "scatter",
         "x": [
          -0.000011348990624756925
         ],
         "xaxis": "x",
         "y": [
          -0.0005476817307629637
         ],
         "yaxis": "y"
        },
        {
         "hovertemplate": "Area=Nizamsagar<br>Deviance Scores Amount of Fires=%{x}<br>Deviance Scores NOx=%{y}<extra></extra>",
         "legendgroup": "Nizamsagar",
         "marker": {
          "color": "#FF97FF",
          "symbol": "circle"
         },
         "mode": "markers",
         "name": "Nizamsagar",
         "orientation": "v",
         "showlegend": true,
         "type": "scatter",
         "x": [
          0.00003179107565134521
         ],
         "xaxis": "x",
         "y": [
          -0.001192787017878161
         ],
         "yaxis": "y"
        },
        {
         "hovertemplate": "Area=Nyalkal<br>Deviance Scores Amount of Fires=%{x}<br>Deviance Scores NOx=%{y}<extra></extra>",
         "legendgroup": "Nyalkal",
         "marker": {
          "color": "#FECB52",
          "symbol": "circle"
         },
         "mode": "markers",
         "name": "Nyalkal",
         "orientation": "v",
         "showlegend": true,
         "type": "scatter",
         "x": [
          0.00007646502197347527
         ],
         "xaxis": "x",
         "y": [
          0.0007227325951816294
         ],
         "yaxis": "y"
        },
        {
         "hovertemplate": "Area=Odela<br>Deviance Scores Amount of Fires=%{x}<br>Deviance Scores NOx=%{y}<extra></extra>",
         "legendgroup": "Odela",
         "marker": {
          "color": "#636efa",
          "symbol": "circle"
         },
         "mode": "markers",
         "name": "Odela",
         "orientation": "v",
         "showlegend": true,
         "type": "scatter",
         "x": [
          0.0001666150573762
         ],
         "xaxis": "x",
         "y": [
          -0.0008639464384290259
         ],
         "yaxis": "y"
        },
        {
         "hovertemplate": "Area=Padara<br>Deviance Scores Amount of Fires=%{x}<br>Deviance Scores NOx=%{y}<extra></extra>",
         "legendgroup": "Padara",
         "marker": {
          "color": "#EF553B",
          "symbol": "circle"
         },
         "mode": "markers",
         "name": "Padara",
         "orientation": "v",
         "showlegend": true,
         "type": "scatter",
         "x": [
          0.00002907189251065565
         ],
         "xaxis": "x",
         "y": [
          0.0002568771463835272
         ],
         "yaxis": "y"
        },
        {
         "hovertemplate": "Area=Palakurthy<br>Deviance Scores Amount of Fires=%{x}<br>Deviance Scores NOx=%{y}<extra></extra>",
         "legendgroup": "Palakurthy",
         "marker": {
          "color": "#00cc96",
          "symbol": "circle"
         },
         "mode": "markers",
         "name": "Palakurthy",
         "orientation": "v",
         "showlegend": true,
         "type": "scatter",
         "x": [
          0.000016128430184278538,
          0.000004433237096602207
         ],
         "xaxis": "x",
         "y": [
          0.0003420792552658428,
          0.0003482951628425477
         ],
         "yaxis": "y"
        },
        {
         "hovertemplate": "Area=Palmela<br>Deviance Scores Amount of Fires=%{x}<br>Deviance Scores NOx=%{y}<extra></extra>",
         "legendgroup": "Palmela",
         "marker": {
          "color": "#ab63fa",
          "symbol": "circle"
         },
         "mode": "markers",
         "name": "Palmela",
         "orientation": "v",
         "showlegend": true,
         "type": "scatter",
         "x": [
          0.000018350353293393308
         ],
         "xaxis": "x",
         "y": [
          0.00020326981836989817
         ],
         "yaxis": "y"
        },
        {
         "hovertemplate": "Area=Palvancha<br>Deviance Scores Amount of Fires=%{x}<br>Deviance Scores NOx=%{y}<extra></extra>",
         "legendgroup": "Palvancha",
         "marker": {
          "color": "#FFA15A",
          "symbol": "circle"
         },
         "mode": "markers",
         "name": "Palvancha",
         "orientation": "v",
         "showlegend": true,
         "type": "scatter",
         "x": [
          -0.0001478521084098
         ],
         "xaxis": "x",
         "y": [
          -0.0021259132006456985
         ],
         "yaxis": "y"
        },
        {
         "hovertemplate": "Area=Papannapet<br>Deviance Scores Amount of Fires=%{x}<br>Deviance Scores NOx=%{y}<extra></extra>",
         "legendgroup": "Papannapet",
         "marker": {
          "color": "#19d3f3",
          "symbol": "circle"
         },
         "mode": "markers",
         "name": "Papannapet",
         "orientation": "v",
         "showlegend": true,
         "type": "scatter",
         "x": [
          -0.0001371638924681
         ],
         "xaxis": "x",
         "y": [
          -0.002350961431831383
         ],
         "yaxis": "y"
        },
        {
         "hovertemplate": "Area=Pargi<br>Deviance Scores Amount of Fires=%{x}<br>Deviance Scores NOx=%{y}<extra></extra>",
         "legendgroup": "Pargi",
         "marker": {
          "color": "#FF6692",
          "symbol": "circle"
         },
         "mode": "markers",
         "name": "Pargi",
         "orientation": "v",
         "showlegend": true,
         "type": "scatter",
         "x": [
          0.000010892479285086732
         ],
         "xaxis": "x",
         "y": [
          0.00009358293743654933
         ],
         "yaxis": "y"
        },
        {
         "hovertemplate": "Area=Parvathagiri<br>Deviance Scores Amount of Fires=%{x}<br>Deviance Scores NOx=%{y}<extra></extra>",
         "legendgroup": "Parvathagiri",
         "marker": {
          "color": "#B6E880",
          "symbol": "circle"
         },
         "mode": "markers",
         "name": "Parvathagiri",
         "orientation": "v",
         "showlegend": true,
         "type": "scatter",
         "x": [
          0.00004105849391036909
         ],
         "xaxis": "x",
         "y": [
          0.0004732540112417385
         ],
         "yaxis": "y"
        },
        {
         "hovertemplate": "Area=Patancheruvu<br>Deviance Scores Amount of Fires=%{x}<br>Deviance Scores NOx=%{y}<extra></extra>",
         "legendgroup": "Patancheruvu",
         "marker": {
          "color": "#FF97FF",
          "symbol": "circle"
         },
         "mode": "markers",
         "name": "Patancheruvu",
         "orientation": "v",
         "showlegend": true,
         "type": "scatter",
         "x": [
          -0.00002418570643459376
         ],
         "xaxis": "x",
         "y": [
          -0.0007666522785309659
         ],
         "yaxis": "y"
        },
        {
         "hovertemplate": "Area=Pebbair<br>Deviance Scores Amount of Fires=%{x}<br>Deviance Scores NOx=%{y}<extra></extra>",
         "legendgroup": "Pebbair",
         "marker": {
          "color": "#FECB52",
          "symbol": "circle"
         },
         "mode": "markers",
         "name": "Pebbair",
         "orientation": "v",
         "showlegend": true,
         "type": "scatter",
         "x": [
          0.000024848005609890566
         ],
         "xaxis": "x",
         "y": [
          -0.0011769935029569962
         ],
         "yaxis": "y"
        },
        {
         "hovertemplate": "Area=Peda Adisharla Palli<br>Deviance Scores Amount of Fires=%{x}<br>Deviance Scores NOx=%{y}<extra></extra>",
         "legendgroup": "Peda Adisharla Palli",
         "marker": {
          "color": "#636efa",
          "symbol": "circle"
         },
         "mode": "markers",
         "name": "Peda Adisharla Palli",
         "orientation": "v",
         "showlegend": true,
         "type": "scatter",
         "x": [
          0.000009916582327647464
         ],
         "xaxis": "x",
         "y": [
          -0.00045419234424022787
         ],
         "yaxis": "y"
        },
        {
         "hovertemplate": "Area=Peddakothapalle<br>Deviance Scores Amount of Fires=%{x}<br>Deviance Scores NOx=%{y}<extra></extra>",
         "legendgroup": "Peddakothapalle",
         "marker": {
          "color": "#EF553B",
          "symbol": "circle"
         },
         "mode": "markers",
         "name": "Peddakothapalle",
         "orientation": "v",
         "showlegend": true,
         "type": "scatter",
         "x": [
          -0.00004188925492166554
         ],
         "xaxis": "x",
         "y": [
          -0.0007885137608498109
         ],
         "yaxis": "y"
        },
        {
         "hovertemplate": "Area=Peddapalli<br>Deviance Scores Amount of Fires=%{x}<br>Deviance Scores NOx=%{y}<extra></extra>",
         "legendgroup": "Peddapalli",
         "marker": {
          "color": "#00cc96",
          "symbol": "circle"
         },
         "mode": "markers",
         "name": "Peddapalli",
         "orientation": "v",
         "showlegend": true,
         "type": "scatter",
         "x": [
          0.00008735831221652214
         ],
         "xaxis": "x",
         "y": [
          -0.0013466621059033187
         ],
         "yaxis": "y"
        },
        {
         "hovertemplate": "Area=Peddavangara<br>Deviance Scores Amount of Fires=%{x}<br>Deviance Scores NOx=%{y}<extra></extra>",
         "legendgroup": "Peddavangara",
         "marker": {
          "color": "#ab63fa",
          "symbol": "circle"
         },
         "mode": "markers",
         "name": "Peddavangara",
         "orientation": "v",
         "showlegend": true,
         "type": "scatter",
         "x": [
          0.000009016079635453842
         ],
         "xaxis": "x",
         "y": [
          -0.0005747157872743891
         ],
         "yaxis": "y"
        },
        {
         "hovertemplate": "Area=Peddavoora<br>Deviance Scores Amount of Fires=%{x}<br>Deviance Scores NOx=%{y}<extra></extra>",
         "legendgroup": "Peddavoora",
         "marker": {
          "color": "#FFA15A",
          "symbol": "circle"
         },
         "mode": "markers",
         "name": "Peddavoora",
         "orientation": "v",
         "showlegend": true,
         "type": "scatter",
         "x": [
          0.000004149924573537903
         ],
         "xaxis": "x",
         "y": [
          0.000018705115791772215
         ],
         "yaxis": "y"
        },
        {
         "hovertemplate": "Area=Peddemul<br>Deviance Scores Amount of Fires=%{x}<br>Deviance Scores NOx=%{y}<extra></extra>",
         "legendgroup": "Peddemul",
         "marker": {
          "color": "#19d3f3",
          "symbol": "circle"
         },
         "mode": "markers",
         "name": "Peddemul",
         "orientation": "v",
         "showlegend": true,
         "type": "scatter",
         "x": [
          0.00009293885188211462
         ],
         "xaxis": "x",
         "y": [
          -0.0003555234829247033
         ],
         "yaxis": "y"
        },
        {
         "hovertemplate": "Area=Pegadapalli<br>Deviance Scores Amount of Fires=%{x}<br>Deviance Scores NOx=%{y}<extra></extra>",
         "legendgroup": "Pegadapalli",
         "marker": {
          "color": "#FF6692",
          "symbol": "circle"
         },
         "mode": "markers",
         "name": "Pegadapalli",
         "orientation": "v",
         "showlegend": true,
         "type": "scatter",
         "x": [
          -0.00003579417803690386
         ],
         "xaxis": "x",
         "y": [
          0.00028505588537894327
         ],
         "yaxis": "y"
        },
        {
         "hovertemplate": "Area=Pembi<br>Deviance Scores Amount of Fires=%{x}<br>Deviance Scores NOx=%{y}<extra></extra>",
         "legendgroup": "Pembi",
         "marker": {
          "color": "#B6E880",
          "symbol": "circle"
         },
         "mode": "markers",
         "name": "Pembi",
         "orientation": "v",
         "showlegend": true,
         "type": "scatter",
         "x": [
          0.000003052408536571253
         ],
         "xaxis": "x",
         "y": [
          0.0006067149159875377
         ],
         "yaxis": "y"
        },
        {
         "hovertemplate": "Area=Penpahad<br>Deviance Scores Amount of Fires=%{x}<br>Deviance Scores NOx=%{y}<extra></extra>",
         "legendgroup": "Penpahad",
         "marker": {
          "color": "#FF97FF",
          "symbol": "circle"
         },
         "mode": "markers",
         "name": "Penpahad",
         "orientation": "v",
         "showlegend": true,
         "type": "scatter",
         "x": [
          -0.000026971838649512666
         ],
         "xaxis": "x",
         "y": [
          -0.000011843917160946233
         ],
         "yaxis": "y"
        },
        {
         "hovertemplate": "Area=Pentlavelli<br>Deviance Scores Amount of Fires=%{x}<br>Deviance Scores NOx=%{y}<extra></extra>",
         "legendgroup": "Pentlavelli",
         "marker": {
          "color": "#FECB52",
          "symbol": "circle"
         },
         "mode": "markers",
         "name": "Pentlavelli",
         "orientation": "v",
         "showlegend": true,
         "type": "scatter",
         "x": [
          0.000005596186402192325
         ],
         "xaxis": "x",
         "y": [
          -0.000330005937844045
         ],
         "yaxis": "y"
        },
        {
         "hovertemplate": "Area=Penuballi<br>Deviance Scores Amount of Fires=%{x}<br>Deviance Scores NOx=%{y}<extra></extra>",
         "legendgroup": "Penuballi",
         "marker": {
          "color": "#636efa",
          "symbol": "circle"
         },
         "mode": "markers",
         "name": "Penuballi",
         "orientation": "v",
         "showlegend": true,
         "type": "scatter",
         "x": [
          -0.0001711022564306
         ],
         "xaxis": "x",
         "y": [
          -0.0003208428952782489
         ],
         "yaxis": "y"
        },
        {
         "hovertemplate": "Area=Pinapaka<br>Deviance Scores Amount of Fires=%{x}<br>Deviance Scores NOx=%{y}<extra></extra>",
         "legendgroup": "Pinapaka",
         "marker": {
          "color": "#EF553B",
          "symbol": "circle"
         },
         "mode": "markers",
         "name": "Pinapaka",
         "orientation": "v",
         "showlegend": true,
         "type": "scatter",
         "x": [
          -0.0002606965616065
         ],
         "xaxis": "x",
         "y": [
          0.002144393681110424
         ],
         "yaxis": "y"
        },
        {
         "hovertemplate": "Area=Pudur<br>Deviance Scores Amount of Fires=%{x}<br>Deviance Scores NOx=%{y}<extra></extra>",
         "legendgroup": "Pudur",
         "marker": {
          "color": "#00cc96",
          "symbol": "circle"
         },
         "mode": "markers",
         "name": "Pudur",
         "orientation": "v",
         "showlegend": true,
         "type": "scatter",
         "x": [
          -0.00004936704781136283
         ],
         "xaxis": "x",
         "y": [
          0.00018998932826262872
         ],
         "yaxis": "y"
        },
        {
         "hovertemplate": "Area=Pulkal<br>Deviance Scores Amount of Fires=%{x}<br>Deviance Scores NOx=%{y}<extra></extra>",
         "legendgroup": "Pulkal",
         "marker": {
          "color": "#ab63fa",
          "symbol": "circle"
         },
         "mode": "markers",
         "name": "Pulkal",
         "orientation": "v",
         "showlegend": true,
         "type": "scatter",
         "x": [
          -0.0001100080136459
         ],
         "xaxis": "x",
         "y": [
          -0.00022411214308267038
         ],
         "yaxis": "y"
        },
        {
         "hovertemplate": "Area=Raghunadhapalem<br>Deviance Scores Amount of Fires=%{x}<br>Deviance Scores NOx=%{y}<extra></extra>",
         "legendgroup": "Raghunadhapalem",
         "marker": {
          "color": "#FFA15A",
          "symbol": "circle"
         },
         "mode": "markers",
         "name": "Raghunadhapalem",
         "orientation": "v",
         "showlegend": true,
         "type": "scatter",
         "x": [
          -0.000009482521925431817
         ],
         "xaxis": "x",
         "y": [
          -0.000988284057873339
         ],
         "yaxis": "y"
        },
        {
         "hovertemplate": "Area=Ragunathpally<br>Deviance Scores Amount of Fires=%{x}<br>Deviance Scores NOx=%{y}<extra></extra>",
         "legendgroup": "Ragunathpally",
         "marker": {
          "color": "#19d3f3",
          "symbol": "circle"
         },
         "mode": "markers",
         "name": "Ragunathpally",
         "orientation": "v",
         "showlegend": true,
         "type": "scatter",
         "x": [
          0.000051740032587433466
         ],
         "xaxis": "x",
         "y": [
          0.0005914737874273176
         ],
         "yaxis": "y"
        },
        {
         "hovertemplate": "Area=Raikal<br>Deviance Scores Amount of Fires=%{x}<br>Deviance Scores NOx=%{y}<extra></extra>",
         "legendgroup": "Raikal",
         "marker": {
          "color": "#FF6692",
          "symbol": "circle"
         },
         "mode": "markers",
         "name": "Raikal",
         "orientation": "v",
         "showlegend": true,
         "type": "scatter",
         "x": [
          0.0000665475149833428
         ],
         "xaxis": "x",
         "y": [
          0.0005448165742301446
         ],
         "yaxis": "y"
        },
        {
         "hovertemplate": "Area=Raikode<br>Deviance Scores Amount of Fires=%{x}<br>Deviance Scores NOx=%{y}<extra></extra>",
         "legendgroup": "Raikode",
         "marker": {
          "color": "#B6E880",
          "symbol": "circle"
         },
         "mode": "markers",
         "name": "Raikode",
         "orientation": "v",
         "showlegend": true,
         "type": "scatter",
         "x": [
          0.00007426234077208052
         ],
         "xaxis": "x",
         "y": [
          0.00024510497678692457
         ],
         "yaxis": "y"
        },
        {
         "hovertemplate": "Area=Raiparthy<br>Deviance Scores Amount of Fires=%{x}<br>Deviance Scores NOx=%{y}<extra></extra>",
         "legendgroup": "Raiparthy",
         "marker": {
          "color": "#FF97FF",
          "symbol": "circle"
         },
         "mode": "markers",
         "name": "Raiparthy",
         "orientation": "v",
         "showlegend": true,
         "type": "scatter",
         "x": [
          0.000027395613215215613
         ],
         "xaxis": "x",
         "y": [
          -0.0002472063352245171
         ],
         "yaxis": "y"
        },
        {
         "hovertemplate": "Area=Raipole<br>Deviance Scores Amount of Fires=%{x}<br>Deviance Scores NOx=%{y}<extra></extra>",
         "legendgroup": "Raipole",
         "marker": {
          "color": "#FECB52",
          "symbol": "circle"
         },
         "mode": "markers",
         "name": "Raipole",
         "orientation": "v",
         "showlegend": true,
         "type": "scatter",
         "x": [
          0.000012750603887236747
         ],
         "xaxis": "x",
         "y": [
          -0.002066392878185176
         ],
         "yaxis": "y"
        },
        {
         "hovertemplate": "Area=Rajampet<br>Deviance Scores Amount of Fires=%{x}<br>Deviance Scores NOx=%{y}<extra></extra>",
         "legendgroup": "Rajampet",
         "marker": {
          "color": "#636efa",
          "symbol": "circle"
         },
         "mode": "markers",
         "name": "Rajampet",
         "orientation": "v",
         "showlegend": true,
         "type": "scatter",
         "x": [
          0.00003021581978214897
         ],
         "xaxis": "x",
         "y": [
          -0.0017903627626439567
         ],
         "yaxis": "y"
        },
        {
         "hovertemplate": "Area=Rajapeta<br>Deviance Scores Amount of Fires=%{x}<br>Deviance Scores NOx=%{y}<extra></extra>",
         "legendgroup": "Rajapeta",
         "marker": {
          "color": "#EF553B",
          "symbol": "circle"
         },
         "mode": "markers",
         "name": "Rajapeta",
         "orientation": "v",
         "showlegend": true,
         "type": "scatter",
         "x": [
          0.000034517723637112446
         ],
         "xaxis": "x",
         "y": [
          0.00021756495678877495
         ],
         "yaxis": "y"
        },
        {
         "hovertemplate": "Area=Rajapur<br>Deviance Scores Amount of Fires=%{x}<br>Deviance Scores NOx=%{y}<extra></extra>",
         "legendgroup": "Rajapur",
         "marker": {
          "color": "#00cc96",
          "symbol": "circle"
         },
         "mode": "markers",
         "name": "Rajapur",
         "orientation": "v",
         "showlegend": true,
         "type": "scatter",
         "x": [
          -0.000032719790878835366
         ],
         "xaxis": "x",
         "y": [
          0.00019632886027943973
         ],
         "yaxis": "y"
        },
        {
         "hovertemplate": "Area=Ramachandrapuram<br>Deviance Scores Amount of Fires=%{x}<br>Deviance Scores NOx=%{y}<extra></extra>",
         "legendgroup": "Ramachandrapuram",
         "marker": {
          "color": "#ab63fa",
          "symbol": "circle"
         },
         "mode": "markers",
         "name": "Ramachandrapuram",
         "orientation": "v",
         "showlegend": true,
         "type": "scatter",
         "x": [
          0.00004509950191162576
         ],
         "xaxis": "x",
         "y": [
          -0.000846972038789643
         ],
         "yaxis": "y"
        },
        {
         "hovertemplate": "Area=Ramadugu<br>Deviance Scores Amount of Fires=%{x}<br>Deviance Scores NOx=%{y}<extra></extra>",
         "legendgroup": "Ramadugu",
         "marker": {
          "color": "#FFA15A",
          "symbol": "circle"
         },
         "mode": "markers",
         "name": "Ramadugu",
         "orientation": "v",
         "showlegend": true,
         "type": "scatter",
         "x": [
          0.000005120011121720818
         ],
         "xaxis": "x",
         "y": [
          -0.00021591786201580226
         ],
         "yaxis": "y"
        },
        {
         "hovertemplate": "Area=Ramagiri<br>Deviance Scores Amount of Fires=%{x}<br>Deviance Scores NOx=%{y}<extra></extra>",
         "legendgroup": "Ramagiri",
         "marker": {
          "color": "#19d3f3",
          "symbol": "circle"
         },
         "mode": "markers",
         "name": "Ramagiri",
         "orientation": "v",
         "showlegend": true,
         "type": "scatter",
         "x": [
          -0.000022375313447833693
         ],
         "xaxis": "x",
         "y": [
          0.0017150531379422017
         ],
         "yaxis": "y"
        },
        {
         "hovertemplate": "Area=Ramagundam<br>Deviance Scores Amount of Fires=%{x}<br>Deviance Scores NOx=%{y}<extra></extra>",
         "legendgroup": "Ramagundam",
         "marker": {
          "color": "#FF6692",
          "symbol": "circle"
         },
         "mode": "markers",
         "name": "Ramagundam",
         "orientation": "v",
         "showlegend": true,
         "type": "scatter",
         "x": [
          0.000017651655697642007
         ],
         "xaxis": "x",
         "y": [
          0.00014942757178773697
         ],
         "yaxis": "y"
        },
        {
         "hovertemplate": "Area=Ramannapet<br>Deviance Scores Amount of Fires=%{x}<br>Deviance Scores NOx=%{y}<extra></extra>",
         "legendgroup": "Ramannapet",
         "marker": {
          "color": "#B6E880",
          "symbol": "circle"
         },
         "mode": "markers",
         "name": "Ramannapet",
         "orientation": "v",
         "showlegend": true,
         "type": "scatter",
         "x": [
          0.0001205662224426
         ],
         "xaxis": "x",
         "y": [
          -0.0010453036741340325
         ],
         "yaxis": "y"
        },
        {
         "hovertemplate": "Area=Ramareddy<br>Deviance Scores Amount of Fires=%{x}<br>Deviance Scores NOx=%{y}<extra></extra>",
         "legendgroup": "Ramareddy",
         "marker": {
          "color": "#FF97FF",
          "symbol": "circle"
         },
         "mode": "markers",
         "name": "Ramareddy",
         "orientation": "v",
         "showlegend": true,
         "type": "scatter",
         "x": [
          -0.00002482869266353484
         ],
         "xaxis": "x",
         "y": [
          -0.00034040861941605723
         ],
         "yaxis": "y"
        },
        {
         "hovertemplate": "Area=Ramayampet<br>Deviance Scores Amount of Fires=%{x}<br>Deviance Scores NOx=%{y}<extra></extra>",
         "legendgroup": "Ramayampet",
         "marker": {
          "color": "#FECB52",
          "symbol": "circle"
         },
         "mode": "markers",
         "name": "Ramayampet",
         "orientation": "v",
         "showlegend": true,
         "type": "scatter",
         "x": [
          -0.0000013655481026293011
         ],
         "xaxis": "x",
         "y": [
          -0.0027673173501319213
         ],
         "yaxis": "y"
        },
        {
         "hovertemplate": "Area=Rebbena<br>Deviance Scores Amount of Fires=%{x}<br>Deviance Scores NOx=%{y}<extra></extra>",
         "legendgroup": "Rebbena",
         "marker": {
          "color": "#636efa",
          "symbol": "circle"
         },
         "mode": "markers",
         "name": "Rebbena",
         "orientation": "v",
         "showlegend": true,
         "type": "scatter",
         "x": [
          0.00001542597998483911
         ],
         "xaxis": "x",
         "y": [
          0.0019095250473107168
         ],
         "yaxis": "y"
        },
        {
         "hovertemplate": "Area=Regode<br>Deviance Scores Amount of Fires=%{x}<br>Deviance Scores NOx=%{y}<extra></extra>",
         "legendgroup": "Regode",
         "marker": {
          "color": "#EF553B",
          "symbol": "circle"
         },
         "mode": "markers",
         "name": "Regode",
         "orientation": "v",
         "showlegend": true,
         "type": "scatter",
         "x": [
          0.00005655049811836548
         ],
         "xaxis": "x",
         "y": [
          -0.0011179434210258775
         ],
         "yaxis": "y"
        },
        {
         "hovertemplate": "Area=Regonda<br>Deviance Scores Amount of Fires=%{x}<br>Deviance Scores NOx=%{y}<extra></extra>",
         "legendgroup": "Regonda",
         "marker": {
          "color": "#00cc96",
          "symbol": "circle"
         },
         "mode": "markers",
         "name": "Regonda",
         "orientation": "v",
         "showlegend": true,
         "type": "scatter",
         "x": [
          -0.000120320498386
         ],
         "xaxis": "x",
         "y": [
          -0.00032027434088333236
         ],
         "yaxis": "y"
        },
        {
         "hovertemplate": "Area=Renjal<br>Deviance Scores Amount of Fires=%{x}<br>Deviance Scores NOx=%{y}<extra></extra>",
         "legendgroup": "Renjal",
         "marker": {
          "color": "#ab63fa",
          "symbol": "circle"
         },
         "mode": "markers",
         "name": "Renjal",
         "orientation": "v",
         "showlegend": true,
         "type": "scatter",
         "x": [
          0.0001011757347157
         ],
         "xaxis": "x",
         "y": [
          -0.00020038013251798257
         ],
         "yaxis": "y"
        },
        {
         "hovertemplate": "Area=Sadashivnagar<br>Deviance Scores Amount of Fires=%{x}<br>Deviance Scores NOx=%{y}<extra></extra>",
         "legendgroup": "Sadashivnagar",
         "marker": {
          "color": "#FFA15A",
          "symbol": "circle"
         },
         "mode": "markers",
         "name": "Sadashivnagar",
         "orientation": "v",
         "showlegend": true,
         "type": "scatter",
         "x": [
          0.0001494729932344
         ],
         "xaxis": "x",
         "y": [
          0.0002083180736185314
         ],
         "yaxis": "y"
        },
        {
         "hovertemplate": "Area=Sadasivpet<br>Deviance Scores Amount of Fires=%{x}<br>Deviance Scores NOx=%{y}<extra></extra>",
         "legendgroup": "Sadasivpet",
         "marker": {
          "color": "#19d3f3",
          "symbol": "circle"
         },
         "mode": "markers",
         "name": "Sadasivpet",
         "orientation": "v",
         "showlegend": true,
         "type": "scatter",
         "x": [
          -0.000037959200630275055
         ],
         "xaxis": "x",
         "y": [
          -0.0008816663127609086
         ],
         "yaxis": "y"
        },
        {
         "hovertemplate": "Area=Sangareddy<br>Deviance Scores Amount of Fires=%{x}<br>Deviance Scores NOx=%{y}<extra></extra>",
         "legendgroup": "Sangareddy",
         "marker": {
          "color": "#FF6692",
          "symbol": "circle"
         },
         "mode": "markers",
         "name": "Sangareddy",
         "orientation": "v",
         "showlegend": true,
         "type": "scatter",
         "x": [
          0.000035217037061190534
         ],
         "xaxis": "x",
         "y": [
          -0.0007555807892152183
         ],
         "yaxis": "y"
        },
        {
         "hovertemplate": "Area=Sangem<br>Deviance Scores Amount of Fires=%{x}<br>Deviance Scores NOx=%{y}<extra></extra>",
         "legendgroup": "Sangem",
         "marker": {
          "color": "#B6E880",
          "symbol": "circle"
         },
         "mode": "markers",
         "name": "Sangem",
         "orientation": "v",
         "showlegend": true,
         "type": "scatter",
         "x": [
          -0.00009143604385468668
         ],
         "xaxis": "x",
         "y": [
          0.00019995464401979915
         ],
         "yaxis": "y"
        },
        {
         "hovertemplate": "Area=Sarangapur<br>Deviance Scores Amount of Fires=%{x}<br>Deviance Scores NOx=%{y}<extra></extra>",
         "legendgroup": "Sarangapur",
         "marker": {
          "color": "#FF97FF",
          "symbol": "circle"
         },
         "mode": "markers",
         "name": "Sarangapur",
         "orientation": "v",
         "showlegend": true,
         "type": "scatter",
         "x": [
          0.00007804192547450315,
          -0.0001749750508293
         ],
         "xaxis": "x",
         "y": [
          -0.00030193727163223396,
          0.0005501497088913897
         ],
         "yaxis": "y"
        },
        {
         "hovertemplate": "Area=Sathupally<br>Deviance Scores Amount of Fires=%{x}<br>Deviance Scores NOx=%{y}<extra></extra>",
         "legendgroup": "Sathupally",
         "marker": {
          "color": "#FECB52",
          "symbol": "circle"
         },
         "mode": "markers",
         "name": "Sathupally",
         "orientation": "v",
         "showlegend": true,
         "type": "scatter",
         "x": [
          -0.0001074734654008
         ],
         "xaxis": "x",
         "y": [
          -0.001107101617427623
         ],
         "yaxis": "y"
        },
        {
         "hovertemplate": "Area=Serilingampalle<br>Deviance Scores Amount of Fires=%{x}<br>Deviance Scores NOx=%{y}<extra></extra>",
         "legendgroup": "Serilingampalle",
         "marker": {
          "color": "#636efa",
          "symbol": "circle"
         },
         "mode": "markers",
         "name": "Serilingampalle",
         "orientation": "v",
         "showlegend": true,
         "type": "scatter",
         "x": [
          -0.000008287801934868748
         ],
         "xaxis": "x",
         "y": [
          -0.0005695889659724252
         ],
         "yaxis": "y"
        },
        {
         "hovertemplate": "Area=Shabad<br>Deviance Scores Amount of Fires=%{x}<br>Deviance Scores NOx=%{y}<extra></extra>",
         "legendgroup": "Shabad",
         "marker": {
          "color": "#EF553B",
          "symbol": "circle"
         },
         "mode": "markers",
         "name": "Shabad",
         "orientation": "v",
         "showlegend": true,
         "type": "scatter",
         "x": [
          0.00007939709797717111
         ],
         "xaxis": "x",
         "y": [
          -0.00025193026654591146
         ],
         "yaxis": "y"
        },
        {
         "hovertemplate": "Area=Shaligouraram<br>Deviance Scores Amount of Fires=%{x}<br>Deviance Scores NOx=%{y}<extra></extra>",
         "legendgroup": "Shaligouraram",
         "marker": {
          "color": "#00cc96",
          "symbol": "circle"
         },
         "mode": "markers",
         "name": "Shaligouraram",
         "orientation": "v",
         "showlegend": true,
         "type": "scatter",
         "x": [
          0.00004366393935261335
         ],
         "xaxis": "x",
         "y": [
          -0.0003569485570505796
         ],
         "yaxis": "y"
        },
        {
         "hovertemplate": "Area=Shamirpet<br>Deviance Scores Amount of Fires=%{x}<br>Deviance Scores NOx=%{y}<extra></extra>",
         "legendgroup": "Shamirpet",
         "marker": {
          "color": "#ab63fa",
          "symbol": "circle"
         },
         "mode": "markers",
         "name": "Shamirpet",
         "orientation": "v",
         "showlegend": true,
         "type": "scatter",
         "x": [
          0.000026482843910700136
         ],
         "xaxis": "x",
         "y": [
          -0.000572958093847233
         ],
         "yaxis": "y"
        },
        {
         "hovertemplate": "Area=Shamshabad<br>Deviance Scores Amount of Fires=%{x}<br>Deviance Scores NOx=%{y}<extra></extra>",
         "legendgroup": "Shamshabad",
         "marker": {
          "color": "#FFA15A",
          "symbol": "circle"
         },
         "mode": "markers",
         "name": "Shamshabad",
         "orientation": "v",
         "showlegend": true,
         "type": "scatter",
         "x": [
          0.00005814672865933985
         ],
         "xaxis": "x",
         "y": [
          -0.0013808878170963495
         ],
         "yaxis": "y"
        },
        {
         "hovertemplate": "Area=Shankarampet_A<br>Deviance Scores Amount of Fires=%{x}<br>Deviance Scores NOx=%{y}<extra></extra>",
         "legendgroup": "Shankarampet_A",
         "marker": {
          "color": "#19d3f3",
          "symbol": "circle"
         },
         "mode": "markers",
         "name": "Shankarampet_A",
         "orientation": "v",
         "showlegend": true,
         "type": "scatter",
         "x": [
          -0.0000482193067374245
         ],
         "xaxis": "x",
         "y": [
          -0.0018765442700767424
         ],
         "yaxis": "y"
        },
        {
         "hovertemplate": "Area=Shankarapatnam<br>Deviance Scores Amount of Fires=%{x}<br>Deviance Scores NOx=%{y}<extra></extra>",
         "legendgroup": "Shankarapatnam",
         "marker": {
          "color": "#FF6692",
          "symbol": "circle"
         },
         "mode": "markers",
         "name": "Shankarapatnam",
         "orientation": "v",
         "showlegend": true,
         "type": "scatter",
         "x": [
          0.0001192532400627
         ],
         "xaxis": "x",
         "y": [
          -0.00039277424466454576
         ],
         "yaxis": "y"
        },
        {
         "hovertemplate": "Area=Shankarpalle<br>Deviance Scores Amount of Fires=%{x}<br>Deviance Scores NOx=%{y}<extra></extra>",
         "legendgroup": "Shankarpalle",
         "marker": {
          "color": "#B6E880",
          "symbol": "circle"
         },
         "mode": "markers",
         "name": "Shankarpalle",
         "orientation": "v",
         "showlegend": true,
         "type": "scatter",
         "x": [
          0.0001936495096025
         ],
         "xaxis": "x",
         "y": [
          -0.0005861229643181079
         ],
         "yaxis": "y"
        },
        {
         "hovertemplate": "Area=Shayampet<br>Deviance Scores Amount of Fires=%{x}<br>Deviance Scores NOx=%{y}<extra></extra>",
         "legendgroup": "Shayampet",
         "marker": {
          "color": "#FF97FF",
          "symbol": "circle"
         },
         "mode": "markers",
         "name": "Shayampet",
         "orientation": "v",
         "showlegend": true,
         "type": "scatter",
         "x": [
          0.000033689119842719253
         ],
         "xaxis": "x",
         "y": [
          -0.0010126860582651037
         ],
         "yaxis": "y"
        },
        {
         "hovertemplate": "Area=Shivampet<br>Deviance Scores Amount of Fires=%{x}<br>Deviance Scores NOx=%{y}<extra></extra>",
         "legendgroup": "Shivampet",
         "marker": {
          "color": "#FECB52",
          "symbol": "circle"
         },
         "mode": "markers",
         "name": "Shivampet",
         "orientation": "v",
         "showlegend": true,
         "type": "scatter",
         "x": [
          0.00000922809046634338
         ],
         "xaxis": "x",
         "y": [
          -0.00040104091451283603
         ],
         "yaxis": "y"
        },
        {
         "hovertemplate": "Area=Siddipet_Urban<br>Deviance Scores Amount of Fires=%{x}<br>Deviance Scores NOx=%{y}<extra></extra>",
         "legendgroup": "Siddipet_Urban",
         "marker": {
          "color": "#636efa",
          "symbol": "circle"
         },
         "mode": "markers",
         "name": "Siddipet_Urban",
         "orientation": "v",
         "showlegend": true,
         "type": "scatter",
         "x": [
          0.000006150073626370578
         ],
         "xaxis": "x",
         "y": [
          -0.0007169283582139747
         ],
         "yaxis": "y"
        },
        {
         "hovertemplate": "Area=Singareni<br>Deviance Scores Amount of Fires=%{x}<br>Deviance Scores NOx=%{y}<extra></extra>",
         "legendgroup": "Singareni",
         "marker": {
          "color": "#EF553B",
          "symbol": "circle"
         },
         "mode": "markers",
         "name": "Singareni",
         "orientation": "v",
         "showlegend": true,
         "type": "scatter",
         "x": [
          1.3027195471269618e-7
         ],
         "xaxis": "x",
         "y": [
          -0.0012059301613387909
         ],
         "yaxis": "y"
        },
        {
         "hovertemplate": "Area=Sirgapoor<br>Deviance Scores Amount of Fires=%{x}<br>Deviance Scores NOx=%{y}<extra></extra>",
         "legendgroup": "Sirgapoor",
         "marker": {
          "color": "#00cc96",
          "symbol": "circle"
         },
         "mode": "markers",
         "name": "Sirgapoor",
         "orientation": "v",
         "showlegend": true,
         "type": "scatter",
         "x": [
          -0.000025377399616189123
         ],
         "xaxis": "x",
         "y": [
          -0.0008929733601339705
         ],
         "yaxis": "y"
        },
        {
         "hovertemplate": "Area=Sirikonda<br>Deviance Scores Amount of Fires=%{x}<br>Deviance Scores NOx=%{y}<extra></extra>",
         "legendgroup": "Sirikonda",
         "marker": {
          "color": "#ab63fa",
          "symbol": "circle"
         },
         "mode": "markers",
         "name": "Sirikonda",
         "orientation": "v",
         "showlegend": true,
         "type": "scatter",
         "x": [
          0.000018112743783797907,
          -0.000023911843619322076
         ],
         "xaxis": "x",
         "y": [
          0.0008821970259299004,
          -0.0004399945489466677
         ],
         "yaxis": "y"
        },
        {
         "hovertemplate": "Area=Sirpur_T<br>Deviance Scores Amount of Fires=%{x}<br>Deviance Scores NOx=%{y}<extra></extra>",
         "legendgroup": "Sirpur_T",
         "marker": {
          "color": "#FFA15A",
          "symbol": "circle"
         },
         "mode": "markers",
         "name": "Sirpur_T",
         "orientation": "v",
         "showlegend": true,
         "type": "scatter",
         "x": [
          0.00003231154143034139
         ],
         "xaxis": "x",
         "y": [
          0.0022669644950463245
         ],
         "yaxis": "y"
        },
        {
         "hovertemplate": "Area=Soan<br>Deviance Scores Amount of Fires=%{x}<br>Deviance Scores NOx=%{y}<extra></extra>",
         "legendgroup": "Soan",
         "marker": {
          "color": "#19d3f3",
          "symbol": "circle"
         },
         "mode": "markers",
         "name": "Soan",
         "orientation": "v",
         "showlegend": true,
         "type": "scatter",
         "x": [
          -0.00002113702290492296
         ],
         "xaxis": "x",
         "y": [
          -0.00029071585488881115
         ],
         "yaxis": "y"
        },
        {
         "hovertemplate": "Area=Srirampur<br>Deviance Scores Amount of Fires=%{x}<br>Deviance Scores NOx=%{y}<extra></extra>",
         "legendgroup": "Srirampur",
         "marker": {
          "color": "#FF6692",
          "symbol": "circle"
         },
         "mode": "markers",
         "name": "Srirampur",
         "orientation": "v",
         "showlegend": true,
         "type": "scatter",
         "x": [
          0.00009493288112366872
         ],
         "xaxis": "x",
         "y": [
          -0.00002986138187341454
         ],
         "yaxis": "y"
        },
        {
         "hovertemplate": "Area=Srirangapur<br>Deviance Scores Amount of Fires=%{x}<br>Deviance Scores NOx=%{y}<extra></extra>",
         "legendgroup": "Srirangapur",
         "marker": {
          "color": "#B6E880",
          "symbol": "circle"
         },
         "mode": "markers",
         "name": "Srirangapur",
         "orientation": "v",
         "showlegend": true,
         "type": "scatter",
         "x": [
          0.000004359996971280374
         ],
         "xaxis": "x",
         "y": [
          -0.0008426626963667261
         ],
         "yaxis": "y"
        },
        {
         "hovertemplate": "Area=Sultanabad<br>Deviance Scores Amount of Fires=%{x}<br>Deviance Scores NOx=%{y}<extra></extra>",
         "legendgroup": "Sultanabad",
         "marker": {
          "color": "#FF97FF",
          "symbol": "circle"
         },
         "mode": "markers",
         "name": "Sultanabad",
         "orientation": "v",
         "showlegend": true,
         "type": "scatter",
         "x": [
          0.00008213022514471242
         ],
         "xaxis": "x",
         "y": [
          -0.001043948962617167
         ],
         "yaxis": "y"
        },
        {
         "hovertemplate": "Area=Suryapet<br>Deviance Scores Amount of Fires=%{x}<br>Deviance Scores NOx=%{y}<extra></extra>",
         "legendgroup": "Suryapet",
         "marker": {
          "color": "#FECB52",
          "symbol": "circle"
         },
         "mode": "markers",
         "name": "Suryapet",
         "orientation": "v",
         "showlegend": true,
         "type": "scatter",
         "x": [
          -0.00001355888212096692
         ],
         "xaxis": "x",
         "y": [
          -0.0004166439163965017
         ],
         "yaxis": "y"
        },
        {
         "hovertemplate": "Area=Tadoor<br>Deviance Scores Amount of Fires=%{x}<br>Deviance Scores NOx=%{y}<extra></extra>",
         "legendgroup": "Tadoor",
         "marker": {
          "color": "#636efa",
          "symbol": "circle"
         },
         "mode": "markers",
         "name": "Tadoor",
         "orientation": "v",
         "showlegend": true,
         "type": "scatter",
         "x": [
          -0.00003527823299252821
         ],
         "xaxis": "x",
         "y": [
          -0.0007217605067809521
         ],
         "yaxis": "y"
        },
        {
         "hovertemplate": "Area=Tadvai (Sammakka Sarakka)<br>Deviance Scores Amount of Fires=%{x}<br>Deviance Scores NOx=%{y}<extra></extra>",
         "legendgroup": "Tadvai (Sammakka Sarakka)",
         "marker": {
          "color": "#EF553B",
          "symbol": "circle"
         },
         "mode": "markers",
         "name": "Tadvai (Sammakka Sarakka)",
         "orientation": "v",
         "showlegend": true,
         "type": "scatter",
         "x": [
          0.000004342904422294399
         ],
         "xaxis": "x",
         "y": [
          -0.000586489860668691
         ],
         "yaxis": "y"
        },
        {
         "hovertemplate": "Area=Tadwai<br>Deviance Scores Amount of Fires=%{x}<br>Deviance Scores NOx=%{y}<extra></extra>",
         "legendgroup": "Tadwai",
         "marker": {
          "color": "#00cc96",
          "symbol": "circle"
         },
         "mode": "markers",
         "name": "Tadwai",
         "orientation": "v",
         "showlegend": true,
         "type": "scatter",
         "x": [
          0.0002024220159065
         ],
         "xaxis": "x",
         "y": [
          -0.0006610760459829378
         ],
         "yaxis": "y"
        },
        {
         "hovertemplate": "Area=Talakondapally<br>Deviance Scores Amount of Fires=%{x}<br>Deviance Scores NOx=%{y}<extra></extra>",
         "legendgroup": "Talakondapally",
         "marker": {
          "color": "#ab63fa",
          "symbol": "circle"
         },
         "mode": "markers",
         "name": "Talakondapally",
         "orientation": "v",
         "showlegend": true,
         "type": "scatter",
         "x": [
          -0.000007865003352574705
         ],
         "xaxis": "x",
         "y": [
          -0.00006905353880725327
         ],
         "yaxis": "y"
        },
        {
         "hovertemplate": "Area=Talamadugu<br>Deviance Scores Amount of Fires=%{x}<br>Deviance Scores NOx=%{y}<extra></extra>",
         "legendgroup": "Talamadugu",
         "marker": {
          "color": "#FFA15A",
          "symbol": "circle"
         },
         "mode": "markers",
         "name": "Talamadugu",
         "orientation": "v",
         "showlegend": true,
         "type": "scatter",
         "x": [
          -0.00001345527126152698
         ],
         "xaxis": "x",
         "y": [
          0.0013853749084441769
         ],
         "yaxis": "y"
        },
        {
         "hovertemplate": "Area=Tandur<br>Deviance Scores Amount of Fires=%{x}<br>Deviance Scores NOx=%{y}<extra></extra>",
         "legendgroup": "Tandur",
         "marker": {
          "color": "#19d3f3",
          "symbol": "circle"
         },
         "mode": "markers",
         "name": "Tandur",
         "orientation": "v",
         "showlegend": true,
         "type": "scatter",
         "x": [
          0.00008306571913164499,
          0.00003518717850394755
         ],
         "xaxis": "x",
         "y": [
          0.0027733536451310407,
          -0.00033782587767389844
         ],
         "yaxis": "y"
        },
        {
         "hovertemplate": "Area=Tekmal<br>Deviance Scores Amount of Fires=%{x}<br>Deviance Scores NOx=%{y}<extra></extra>",
         "legendgroup": "Tekmal",
         "marker": {
          "color": "#FF6692",
          "symbol": "circle"
         },
         "mode": "markers",
         "name": "Tekmal",
         "orientation": "v",
         "showlegend": true,
         "type": "scatter",
         "x": [
          0.0001156570268019
         ],
         "xaxis": "x",
         "y": [
          -0.0015441558430094253
         ],
         "yaxis": "y"
        },
        {
         "hovertemplate": "Area=Tekulapalle<br>Deviance Scores Amount of Fires=%{x}<br>Deviance Scores NOx=%{y}<extra></extra>",
         "legendgroup": "Tekulapalle",
         "marker": {
          "color": "#B6E880",
          "symbol": "circle"
         },
         "mode": "markers",
         "name": "Tekulapalle",
         "orientation": "v",
         "showlegend": true,
         "type": "scatter",
         "x": [
          -0.0003248738174454
         ],
         "xaxis": "x",
         "y": [
          -0.0030587224838710134
         ],
         "yaxis": "y"
        },
        {
         "hovertemplate": "Area=Tekumatla<br>Deviance Scores Amount of Fires=%{x}<br>Deviance Scores NOx=%{y}<extra></extra>",
         "legendgroup": "Tekumatla",
         "marker": {
          "color": "#FF97FF",
          "symbol": "circle"
         },
         "mode": "markers",
         "name": "Tekumatla",
         "orientation": "v",
         "showlegend": true,
         "type": "scatter",
         "x": [
          0.000006758743038396768
         ],
         "xaxis": "x",
         "y": [
          0.0007192255872483164
         ],
         "yaxis": "y"
        },
        {
         "hovertemplate": "Area=Thallada<br>Deviance Scores Amount of Fires=%{x}<br>Deviance Scores NOx=%{y}<extra></extra>",
         "legendgroup": "Thallada",
         "marker": {
          "color": "#FECB52",
          "symbol": "circle"
         },
         "mode": "markers",
         "name": "Thallada",
         "orientation": "v",
         "showlegend": true,
         "type": "scatter",
         "x": [
          0.00000400333852174084
         ],
         "xaxis": "x",
         "y": [
          -0.0009227489282307987
         ],
         "yaxis": "y"
        },
        {
         "hovertemplate": "Area=Thangallapalli<br>Deviance Scores Amount of Fires=%{x}<br>Deviance Scores NOx=%{y}<extra></extra>",
         "legendgroup": "Thangallapalli",
         "marker": {
          "color": "#636efa",
          "symbol": "circle"
         },
         "mode": "markers",
         "name": "Thangallapalli",
         "orientation": "v",
         "showlegend": true,
         "type": "scatter",
         "x": [
          -0.00005365765604198426
         ],
         "xaxis": "x",
         "y": [
          0.000027474660432483205
         ],
         "yaxis": "y"
        },
        {
         "hovertemplate": "Area=Tharigoppula<br>Deviance Scores Amount of Fires=%{x}<br>Deviance Scores NOx=%{y}<extra></extra>",
         "legendgroup": "Tharigoppula",
         "marker": {
          "color": "#EF553B",
          "symbol": "circle"
         },
         "mode": "markers",
         "name": "Tharigoppula",
         "orientation": "v",
         "showlegend": true,
         "type": "scatter",
         "x": [
          -0.0000017976100051382666
         ],
         "xaxis": "x",
         "y": [
          0.00017291393097596813
         ],
         "yaxis": "y"
        },
        {
         "hovertemplate": "Area=Thimmajipeta<br>Deviance Scores Amount of Fires=%{x}<br>Deviance Scores NOx=%{y}<extra></extra>",
         "legendgroup": "Thimmajipeta",
         "marker": {
          "color": "#00cc96",
          "symbol": "circle"
         },
         "mode": "markers",
         "name": "Thimmajipeta",
         "orientation": "v",
         "showlegend": true,
         "type": "scatter",
         "x": [
          -0.000034097304851989534
         ],
         "xaxis": "x",
         "y": [
          -0.0006120423082154434
         ],
         "yaxis": "y"
        },
        {
         "hovertemplate": "Area=Thimmapur<br>Deviance Scores Amount of Fires=%{x}<br>Deviance Scores NOx=%{y}<extra></extra>",
         "legendgroup": "Thimmapur",
         "marker": {
          "color": "#ab63fa",
          "symbol": "circle"
         },
         "mode": "markers",
         "name": "Thimmapur",
         "orientation": "v",
         "showlegend": true,
         "type": "scatter",
         "x": [
          -0.000014576876198627327
         ],
         "xaxis": "x",
         "y": [
          -0.0010482414165169625
         ],
         "yaxis": "y"
        },
        {
         "hovertemplate": "Area=Thoguta<br>Deviance Scores Amount of Fires=%{x}<br>Deviance Scores NOx=%{y}<extra></extra>",
         "legendgroup": "Thoguta",
         "marker": {
          "color": "#FFA15A",
          "symbol": "circle"
         },
         "mode": "markers",
         "name": "Thoguta",
         "orientation": "v",
         "showlegend": true,
         "type": "scatter",
         "x": [
          0.0000431505776064982
         ],
         "xaxis": "x",
         "y": [
          -0.001568048293100669
         ],
         "yaxis": "y"
        },
        {
         "hovertemplate": "Area=Thorrur<br>Deviance Scores Amount of Fires=%{x}<br>Deviance Scores NOx=%{y}<extra></extra>",
         "legendgroup": "Thorrur",
         "marker": {
          "color": "#19d3f3",
          "symbol": "circle"
         },
         "mode": "markers",
         "name": "Thorrur",
         "orientation": "v",
         "showlegend": true,
         "type": "scatter",
         "x": [
          0.0001117809068782
         ],
         "xaxis": "x",
         "y": [
          -0.0006155050962430423
         ],
         "yaxis": "y"
        },
        {
         "hovertemplate": "Area=Tipparthy<br>Deviance Scores Amount of Fires=%{x}<br>Deviance Scores NOx=%{y}<extra></extra>",
         "legendgroup": "Tipparthy",
         "marker": {
          "color": "#FF6692",
          "symbol": "circle"
         },
         "mode": "markers",
         "name": "Tipparthy",
         "orientation": "v",
         "showlegend": true,
         "type": "scatter",
         "x": [
          0.000004455512674712861
         ],
         "xaxis": "x",
         "y": [
          -0.00047231562511371584
         ],
         "yaxis": "y"
        },
        {
         "hovertemplate": "Area=Tirumalayapalem<br>Deviance Scores Amount of Fires=%{x}<br>Deviance Scores NOx=%{y}<extra></extra>",
         "legendgroup": "Tirumalayapalem",
         "marker": {
          "color": "#B6E880",
          "symbol": "circle"
         },
         "mode": "markers",
         "name": "Tirumalayapalem",
         "orientation": "v",
         "showlegend": true,
         "type": "scatter",
         "x": [
          0.000012567332618338966
         ],
         "xaxis": "x",
         "y": [
          -0.00040451609935541935
         ],
         "yaxis": "y"
        },
        {
         "hovertemplate": "Area=Tiryani<br>Deviance Scores Amount of Fires=%{x}<br>Deviance Scores NOx=%{y}<extra></extra>",
         "legendgroup": "Tiryani",
         "marker": {
          "color": "#FF97FF",
          "symbol": "circle"
         },
         "mode": "markers",
         "name": "Tiryani",
         "orientation": "v",
         "showlegend": true,
         "type": "scatter",
         "x": [
          0.00002312797010352721
         ],
         "xaxis": "x",
         "y": [
          0.0014630408578946558
         ],
         "yaxis": "y"
        },
        {
         "hovertemplate": "Area=Tripuraram<br>Deviance Scores Amount of Fires=%{x}<br>Deviance Scores NOx=%{y}<extra></extra>",
         "legendgroup": "Tripuraram",
         "marker": {
          "color": "#FECB52",
          "symbol": "circle"
         },
         "mode": "markers",
         "name": "Tripuraram",
         "orientation": "v",
         "showlegend": true,
         "type": "scatter",
         "x": [
          -0.00001799930607415923
         ],
         "xaxis": "x",
         "y": [
          0.000413485071144617
         ],
         "yaxis": "y"
        },
        {
         "hovertemplate": "Area=Turkapalle_M<br>Deviance Scores Amount of Fires=%{x}<br>Deviance Scores NOx=%{y}<extra></extra>",
         "legendgroup": "Turkapalle_M",
         "marker": {
          "color": "#636efa",
          "symbol": "circle"
         },
         "mode": "markers",
         "name": "Turkapalle_M",
         "orientation": "v",
         "showlegend": true,
         "type": "scatter",
         "x": [
          0.0000565189865253851
         ],
         "xaxis": "x",
         "y": [
          0.0003817772416664818
         ],
         "yaxis": "y"
        },
        {
         "hovertemplate": "Area=Undavelly<br>Deviance Scores Amount of Fires=%{x}<br>Deviance Scores NOx=%{y}<extra></extra>",
         "legendgroup": "Undavelly",
         "marker": {
          "color": "#EF553B",
          "symbol": "circle"
         },
         "mode": "markers",
         "name": "Undavelly",
         "orientation": "v",
         "showlegend": true,
         "type": "scatter",
         "x": [
          0.00003682605192298657
         ],
         "xaxis": "x",
         "y": [
          0.00005328999045907342
         ],
         "yaxis": "y"
        },
        {
         "hovertemplate": "Area=Urkonda<br>Deviance Scores Amount of Fires=%{x}<br>Deviance Scores NOx=%{y}<extra></extra>",
         "legendgroup": "Urkonda",
         "marker": {
          "color": "#00cc96",
          "symbol": "circle"
         },
         "mode": "markers",
         "name": "Urkonda",
         "orientation": "v",
         "showlegend": true,
         "type": "scatter",
         "x": [
          0.00009054780651405844
         ],
         "xaxis": "x",
         "y": [
          -0.0006272964401152784
         ],
         "yaxis": "y"
        },
        {
         "hovertemplate": "Area=Utnur<br>Deviance Scores Amount of Fires=%{x}<br>Deviance Scores NOx=%{y}<extra></extra>",
         "legendgroup": "Utnur",
         "marker": {
          "color": "#ab63fa",
          "symbol": "circle"
         },
         "mode": "markers",
         "name": "Utnur",
         "orientation": "v",
         "showlegend": true,
         "type": "scatter",
         "x": [
          0.0000037853121179314726
         ],
         "xaxis": "x",
         "y": [
          0.0011998282409164391
         ],
         "yaxis": "y"
        },
        {
         "hovertemplate": "Area=V_Saidapur<br>Deviance Scores Amount of Fires=%{x}<br>Deviance Scores NOx=%{y}<extra></extra>",
         "legendgroup": "V_Saidapur",
         "marker": {
          "color": "#FFA15A",
          "symbol": "circle"
         },
         "mode": "markers",
         "name": "V_Saidapur",
         "orientation": "v",
         "showlegend": true,
         "type": "scatter",
         "x": [
          0.00007385229027612856
         ],
         "xaxis": "x",
         "y": [
          -0.0006410066234255882
         ],
         "yaxis": "y"
        },
        {
         "hovertemplate": "Area=Vailpur<br>Deviance Scores Amount of Fires=%{x}<br>Deviance Scores NOx=%{y}<extra></extra>",
         "legendgroup": "Vailpur",
         "marker": {
          "color": "#19d3f3",
          "symbol": "circle"
         },
         "mode": "markers",
         "name": "Vailpur",
         "orientation": "v",
         "showlegend": true,
         "type": "scatter",
         "x": [
          0.00006071202038362241
         ],
         "xaxis": "x",
         "y": [
          -0.001075681059579052
         ],
         "yaxis": "y"
        },
        {
         "hovertemplate": "Area=Valigonda<br>Deviance Scores Amount of Fires=%{x}<br>Deviance Scores NOx=%{y}<extra></extra>",
         "legendgroup": "Valigonda",
         "marker": {
          "color": "#FF6692",
          "symbol": "circle"
         },
         "mode": "markers",
         "name": "Valigonda",
         "orientation": "v",
         "showlegend": true,
         "type": "scatter",
         "x": [
          -0.000004127307312292944
         ],
         "xaxis": "x",
         "y": [
          -0.0009976436121950892
         ],
         "yaxis": "y"
        },
        {
         "hovertemplate": "Area=Vangoor<br>Deviance Scores Amount of Fires=%{x}<br>Deviance Scores NOx=%{y}<extra></extra>",
         "legendgroup": "Vangoor",
         "marker": {
          "color": "#B6E880",
          "symbol": "circle"
         },
         "mode": "markers",
         "name": "Vangoor",
         "orientation": "v",
         "showlegend": true,
         "type": "scatter",
         "x": [
          0.000007689628973517074
         ],
         "xaxis": "x",
         "y": [
          -0.000946456843765741
         ],
         "yaxis": "y"
        },
        {
         "hovertemplate": "Area=Vatpally<br>Deviance Scores Amount of Fires=%{x}<br>Deviance Scores NOx=%{y}<extra></extra>",
         "legendgroup": "Vatpally",
         "marker": {
          "color": "#FF97FF",
          "symbol": "circle"
         },
         "mode": "markers",
         "name": "Vatpally",
         "orientation": "v",
         "showlegend": true,
         "type": "scatter",
         "x": [
          0.000008014307927752381
         ],
         "xaxis": "x",
         "y": [
          -0.0007061040894846725
         ],
         "yaxis": "y"
        },
        {
         "hovertemplate": "Area=Veernapalli<br>Deviance Scores Amount of Fires=%{x}<br>Deviance Scores NOx=%{y}<extra></extra>",
         "legendgroup": "Veernapalli",
         "marker": {
          "color": "#FECB52",
          "symbol": "circle"
         },
         "mode": "markers",
         "name": "Veernapalli",
         "orientation": "v",
         "showlegend": true,
         "type": "scatter",
         "x": [
          -0.000051633323216330326
         ],
         "xaxis": "x",
         "y": [
          -0.0007618288742917343
         ],
         "yaxis": "y"
        },
        {
         "hovertemplate": "Area=Velair<br>Deviance Scores Amount of Fires=%{x}<br>Deviance Scores NOx=%{y}<extra></extra>",
         "legendgroup": "Velair",
         "marker": {
          "color": "#636efa",
          "symbol": "circle"
         },
         "mode": "markers",
         "name": "Velair",
         "orientation": "v",
         "showlegend": true,
         "type": "scatter",
         "x": [
          0.000005252859017803975
         ],
         "xaxis": "x",
         "y": [
          0.0007703497172323406
         ],
         "yaxis": "y"
        },
        {
         "hovertemplate": "Area=Veldanda<br>Deviance Scores Amount of Fires=%{x}<br>Deviance Scores NOx=%{y}<extra></extra>",
         "legendgroup": "Veldanda",
         "marker": {
          "color": "#EF553B",
          "symbol": "circle"
         },
         "mode": "markers",
         "name": "Veldanda",
         "orientation": "v",
         "showlegend": true,
         "type": "scatter",
         "x": [
          0.000042151527681923287
         ],
         "xaxis": "x",
         "y": [
          -0.0002064178332861075
         ],
         "yaxis": "y"
        },
        {
         "hovertemplate": "Area=Velgatur<br>Deviance Scores Amount of Fires=%{x}<br>Deviance Scores NOx=%{y}<extra></extra>",
         "legendgroup": "Velgatur",
         "marker": {
          "color": "#00cc96",
          "symbol": "circle"
         },
         "mode": "markers",
         "name": "Velgatur",
         "orientation": "v",
         "showlegend": true,
         "type": "scatter",
         "x": [
          0.000026575703070166727
         ],
         "xaxis": "x",
         "y": [
          0.001321166371308021
         ],
         "yaxis": "y"
        },
        {
         "hovertemplate": "Area=Vemanpalle<br>Deviance Scores Amount of Fires=%{x}<br>Deviance Scores NOx=%{y}<extra></extra>",
         "legendgroup": "Vemanpalle",
         "marker": {
          "color": "#ab63fa",
          "symbol": "circle"
         },
         "mode": "markers",
         "name": "Vemanpalle",
         "orientation": "v",
         "showlegend": true,
         "type": "scatter",
         "x": [
          -0.0000013655920226995543
         ],
         "xaxis": "x",
         "y": [
          0.002239234617498421
         ],
         "yaxis": "y"
        },
        {
         "hovertemplate": "Area=Vemsoor<br>Deviance Scores Amount of Fires=%{x}<br>Deviance Scores NOx=%{y}<extra></extra>",
         "legendgroup": "Vemsoor",
         "marker": {
          "color": "#FFA15A",
          "symbol": "circle"
         },
         "mode": "markers",
         "name": "Vemsoor",
         "orientation": "v",
         "showlegend": true,
         "type": "scatter",
         "x": [
          0.00009456500295708586
         ],
         "xaxis": "x",
         "y": [
          0.00011431162877493316
         ],
         "yaxis": "y"
        },
        {
         "hovertemplate": "Area=Vemulapally<br>Deviance Scores Amount of Fires=%{x}<br>Deviance Scores NOx=%{y}<extra></extra>",
         "legendgroup": "Vemulapally",
         "marker": {
          "color": "#19d3f3",
          "symbol": "circle"
         },
         "mode": "markers",
         "name": "Vemulapally",
         "orientation": "v",
         "showlegend": true,
         "type": "scatter",
         "x": [
          0.00003844839901822799
         ],
         "xaxis": "x",
         "y": [
          0.00018324088313368726
         ],
         "yaxis": "y"
        },
        {
         "hovertemplate": "Area=Vemulawada<br>Deviance Scores Amount of Fires=%{x}<br>Deviance Scores NOx=%{y}<extra></extra>",
         "legendgroup": "Vemulawada",
         "marker": {
          "color": "#FF6692",
          "symbol": "circle"
         },
         "mode": "markers",
         "name": "Vemulawada",
         "orientation": "v",
         "showlegend": true,
         "type": "scatter",
         "x": [
          -0.00000564460495047425
         ],
         "xaxis": "x",
         "y": [
          0.0000245524914293598
         ],
         "yaxis": "y"
        },
        {
         "hovertemplate": "Area=Vemulawada Rural<br>Deviance Scores Amount of Fires=%{x}<br>Deviance Scores NOx=%{y}<extra></extra>",
         "legendgroup": "Vemulawada Rural",
         "marker": {
          "color": "#B6E880",
          "symbol": "circle"
         },
         "mode": "markers",
         "name": "Vemulawada Rural",
         "orientation": "v",
         "showlegend": true,
         "type": "scatter",
         "x": [
          -0.0000010598348596423798
         ],
         "xaxis": "x",
         "y": [
          0.0000903229325511437
         ],
         "yaxis": "y"
        },
        {
         "hovertemplate": "Area=Venkatapur<br>Deviance Scores Amount of Fires=%{x}<br>Deviance Scores NOx=%{y}<extra></extra>",
         "legendgroup": "Venkatapur",
         "marker": {
          "color": "#FF97FF",
          "symbol": "circle"
         },
         "mode": "markers",
         "name": "Venkatapur",
         "orientation": "v",
         "showlegend": true,
         "type": "scatter",
         "x": [
          -0.0004514156847391
         ],
         "xaxis": "x",
         "y": [
          -0.0001222779474854073
         ],
         "yaxis": "y"
        },
        {
         "hovertemplate": "Area=Venkatapuram<br>Deviance Scores Amount of Fires=%{x}<br>Deviance Scores NOx=%{y}<extra></extra>",
         "legendgroup": "Venkatapuram",
         "marker": {
          "color": "#FECB52",
          "symbol": "circle"
         },
         "mode": "markers",
         "name": "Venkatapuram",
         "orientation": "v",
         "showlegend": true,
         "type": "scatter",
         "x": [
          -0.00002340599084938134
         ],
         "xaxis": "x",
         "y": [
          0.0017146576050770794
         ],
         "yaxis": "y"
        },
        {
         "hovertemplate": "Area=Vikarabad<br>Deviance Scores Amount of Fires=%{x}<br>Deviance Scores NOx=%{y}<extra></extra>",
         "legendgroup": "Vikarabad",
         "marker": {
          "color": "#636efa",
          "symbol": "circle"
         },
         "mode": "markers",
         "name": "Vikarabad",
         "orientation": "v",
         "showlegend": true,
         "type": "scatter",
         "x": [
          0.000151776204679
         ],
         "xaxis": "x",
         "y": [
          0.00016629991551218582
         ],
         "yaxis": "y"
        },
        {
         "hovertemplate": "Area=Waddepally<br>Deviance Scores Amount of Fires=%{x}<br>Deviance Scores NOx=%{y}<extra></extra>",
         "legendgroup": "Waddepally",
         "marker": {
          "color": "#EF553B",
          "symbol": "circle"
         },
         "mode": "markers",
         "name": "Waddepally",
         "orientation": "v",
         "showlegend": true,
         "type": "scatter",
         "x": [
          0.000036018969546808133
         ],
         "xaxis": "x",
         "y": [
          -0.0006077968465388648
         ],
         "yaxis": "y"
        },
        {
         "hovertemplate": "Area=Wanaparthy<br>Deviance Scores Amount of Fires=%{x}<br>Deviance Scores NOx=%{y}<extra></extra>",
         "legendgroup": "Wanaparthy",
         "marker": {
          "color": "#00cc96",
          "symbol": "circle"
         },
         "mode": "markers",
         "name": "Wanaparthy",
         "orientation": "v",
         "showlegend": true,
         "type": "scatter",
         "x": [
          -0.000016702592616828606
         ],
         "xaxis": "x",
         "y": [
          -0.002357188563408123
         ],
         "yaxis": "y"
        },
        {
         "hovertemplate": "Area=Wankidi<br>Deviance Scores Amount of Fires=%{x}<br>Deviance Scores NOx=%{y}<extra></extra>",
         "legendgroup": "Wankidi",
         "marker": {
          "color": "#ab63fa",
          "symbol": "circle"
         },
         "mode": "markers",
         "name": "Wankidi",
         "orientation": "v",
         "showlegend": true,
         "type": "scatter",
         "x": [
          0.00002825949326269255
         ],
         "xaxis": "x",
         "y": [
          0.001193604035639364
         ],
         "yaxis": "y"
        },
        {
         "hovertemplate": "Area=Wardhannapet<br>Deviance Scores Amount of Fires=%{x}<br>Deviance Scores NOx=%{y}<extra></extra>",
         "legendgroup": "Wardhannapet",
         "marker": {
          "color": "#FFA15A",
          "symbol": "circle"
         },
         "mode": "markers",
         "name": "Wardhannapet",
         "orientation": "v",
         "showlegend": true,
         "type": "scatter",
         "x": [
          0.00002366118184737109
         ],
         "xaxis": "x",
         "y": [
          0.00014599743816396283
         ],
         "yaxis": "y"
        },
        {
         "hovertemplate": "Area=Wargal<br>Deviance Scores Amount of Fires=%{x}<br>Deviance Scores NOx=%{y}<extra></extra>",
         "legendgroup": "Wargal",
         "marker": {
          "color": "#19d3f3",
          "symbol": "circle"
         },
         "mode": "markers",
         "name": "Wargal",
         "orientation": "v",
         "showlegend": true,
         "type": "scatter",
         "x": [
          8.696566046338488e-7
         ],
         "xaxis": "x",
         "y": [
          0.0003937130487366303
         ],
         "yaxis": "y"
        },
        {
         "hovertemplate": "Area=Weepangandla<br>Deviance Scores Amount of Fires=%{x}<br>Deviance Scores NOx=%{y}<extra></extra>",
         "legendgroup": "Weepangandla",
         "marker": {
          "color": "#FF6692",
          "symbol": "circle"
         },
         "mode": "markers",
         "name": "Weepangandla",
         "orientation": "v",
         "showlegend": true,
         "type": "scatter",
         "x": [
          0.000012730841535576634
         ],
         "xaxis": "x",
         "y": [
          -0.001063850912643649
         ],
         "yaxis": "y"
        },
        {
         "hovertemplate": "Area=Wyra<br>Deviance Scores Amount of Fires=%{x}<br>Deviance Scores NOx=%{y}<extra></extra>",
         "legendgroup": "Wyra",
         "marker": {
          "color": "#B6E880",
          "symbol": "circle"
         },
         "mode": "markers",
         "name": "Wyra",
         "orientation": "v",
         "showlegend": true,
         "type": "scatter",
         "x": [
          -0.00006831052029631657
         ],
         "xaxis": "x",
         "y": [
          -0.0007326873125090364
         ],
         "yaxis": "y"
        },
        {
         "hovertemplate": "Area=Yacharam<br>Deviance Scores Amount of Fires=%{x}<br>Deviance Scores NOx=%{y}<extra></extra>",
         "legendgroup": "Yacharam",
         "marker": {
          "color": "#FF97FF",
          "symbol": "circle"
         },
         "mode": "markers",
         "name": "Yacharam",
         "orientation": "v",
         "showlegend": true,
         "type": "scatter",
         "x": [
          0.0001202357633603
         ],
         "xaxis": "x",
         "y": [
          0.00006269640302338544
         ],
         "yaxis": "y"
        },
        {
         "hovertemplate": "Area=Yadagirigutta<br>Deviance Scores Amount of Fires=%{x}<br>Deviance Scores NOx=%{y}<extra></extra>",
         "legendgroup": "Yadagirigutta",
         "marker": {
          "color": "#FECB52",
          "symbol": "circle"
         },
         "mode": "markers",
         "name": "Yadagirigutta",
         "orientation": "v",
         "showlegend": true,
         "type": "scatter",
         "x": [
          0.000024783470643006043
         ],
         "xaxis": "x",
         "y": [
          0.00018673540712967624
         ],
         "yaxis": "y"
        },
        {
         "hovertemplate": "Area=Yelal<br>Deviance Scores Amount of Fires=%{x}<br>Deviance Scores NOx=%{y}<extra></extra>",
         "legendgroup": "Yelal",
         "marker": {
          "color": "#636efa",
          "symbol": "circle"
         },
         "mode": "markers",
         "name": "Yelal",
         "orientation": "v",
         "showlegend": true,
         "type": "scatter",
         "x": [
          0.0000016564905769558102
         ],
         "xaxis": "x",
         "y": [
          -0.0006495544219323288
         ],
         "yaxis": "y"
        },
        {
         "hovertemplate": "Area=Yeldurthy<br>Deviance Scores Amount of Fires=%{x}<br>Deviance Scores NOx=%{y}<extra></extra>",
         "legendgroup": "Yeldurthy",
         "marker": {
          "color": "#EF553B",
          "symbol": "circle"
         },
         "mode": "markers",
         "name": "Yeldurthy",
         "orientation": "v",
         "showlegend": true,
         "type": "scatter",
         "x": [
          -0.000024582824326011204
         ],
         "xaxis": "x",
         "y": [
          -0.0014775221053533883
         ],
         "yaxis": "y"
        },
        {
         "hovertemplate": "Area=Yellandu<br>Deviance Scores Amount of Fires=%{x}<br>Deviance Scores NOx=%{y}<extra></extra>",
         "legendgroup": "Yellandu",
         "marker": {
          "color": "#00cc96",
          "symbol": "circle"
         },
         "mode": "markers",
         "name": "Yellandu",
         "orientation": "v",
         "showlegend": true,
         "type": "scatter",
         "x": [
          -0.0004683816957436
         ],
         "xaxis": "x",
         "y": [
          -0.0006710396366612287
         ],
         "yaxis": "y"
        },
        {
         "hovertemplate": "Area=Yellareddy<br>Deviance Scores Amount of Fires=%{x}<br>Deviance Scores NOx=%{y}<extra></extra>",
         "legendgroup": "Yellareddy",
         "marker": {
          "color": "#ab63fa",
          "symbol": "circle"
         },
         "mode": "markers",
         "name": "Yellareddy",
         "orientation": "v",
         "showlegend": true,
         "type": "scatter",
         "x": [
          0.00003561457589592378
         ],
         "xaxis": "x",
         "y": [
          -0.001518647239093223
         ],
         "yaxis": "y"
        },
        {
         "hovertemplate": "Area=Yellareddypet<br>Deviance Scores Amount of Fires=%{x}<br>Deviance Scores NOx=%{y}<extra></extra>",
         "legendgroup": "Yellareddypet",
         "marker": {
          "color": "#FFA15A",
          "symbol": "circle"
         },
         "mode": "markers",
         "name": "Yellareddypet",
         "orientation": "v",
         "showlegend": true,
         "type": "scatter",
         "x": [
          -0.00003458259703599866
         ],
         "xaxis": "x",
         "y": [
          0.0000792959202159476
         ],
         "yaxis": "y"
        },
        {
         "hovertemplate": "Area=Yerrupalem<br>Deviance Scores Amount of Fires=%{x}<br>Deviance Scores NOx=%{y}<extra></extra>",
         "legendgroup": "Yerrupalem",
         "marker": {
          "color": "#19d3f3",
          "symbol": "circle"
         },
         "mode": "markers",
         "name": "Yerrupalem",
         "orientation": "v",
         "showlegend": true,
         "type": "scatter",
         "x": [
          0.0001127832082227
         ],
         "xaxis": "x",
         "y": [
          -0.0013298064830067466
         ],
         "yaxis": "y"
        },
        {
         "hovertemplate": "Area=Zaffergadh<br>Deviance Scores Amount of Fires=%{x}<br>Deviance Scores NOx=%{y}<extra></extra>",
         "legendgroup": "Zaffergadh",
         "marker": {
          "color": "#FF6692",
          "symbol": "circle"
         },
         "mode": "markers",
         "name": "Zaffergadh",
         "orientation": "v",
         "showlegend": true,
         "type": "scatter",
         "x": [
          0.000027075513212539585
         ],
         "xaxis": "x",
         "y": [
          0.000772462996367083
         ],
         "yaxis": "y"
        },
        {
         "hovertemplate": "Area=Zahirabad<br>Deviance Scores Amount of Fires=%{x}<br>Deviance Scores NOx=%{y}<extra></extra>",
         "legendgroup": "Zahirabad",
         "marker": {
          "color": "#B6E880",
          "symbol": "circle"
         },
         "mode": "markers",
         "name": "Zahirabad",
         "orientation": "v",
         "showlegend": true,
         "type": "scatter",
         "x": [
          0.0001798715922107
         ],
         "xaxis": "x",
         "y": [
          0.0003070481299086018
         ],
         "yaxis": "y"
        },
        {
         "hovertemplate": "Area=Lingal<br>Deviance Scores Amount of Fires=%{x}<br>Deviance Scores NOx=%{y}<extra></extra>",
         "legendgroup": "Lingal",
         "marker": {
          "color": "#FF97FF",
          "symbol": "circle"
         },
         "mode": "markers",
         "name": "Lingal",
         "orientation": "v",
         "showlegend": true,
         "type": "scatter",
         "x": [
          6.406623594062658e-7
         ],
         "xaxis": "x",
         "y": [
          -0.0009231751591211552
         ],
         "yaxis": "y"
        },
        {
         "hovertemplate": "Area=Nagar_Kurnool<br>Deviance Scores Amount of Fires=%{x}<br>Deviance Scores NOx=%{y}<extra></extra>",
         "legendgroup": "Nagar_Kurnool",
         "marker": {
          "color": "#FECB52",
          "symbol": "circle"
         },
         "mode": "markers",
         "name": "Nagar_Kurnool",
         "orientation": "v",
         "showlegend": true,
         "type": "scatter",
         "x": [
          -0.00006600990912841113
         ],
         "xaxis": "x",
         "y": [
          -0.001023773818607766
         ],
         "yaxis": "y"
        },
        {
         "hovertemplate": "Area=Mahabubnagar_Rural<br>Deviance Scores Amount of Fires=%{x}<br>Deviance Scores NOx=%{y}<extra></extra>",
         "legendgroup": "Mahabubnagar_Rural",
         "marker": {
          "color": "#636efa",
          "symbol": "circle"
         },
         "mode": "markers",
         "name": "Mahabubnagar_Rural",
         "orientation": "v",
         "showlegend": true,
         "type": "scatter",
         "x": [
          -0.000025816661608165163
         ],
         "xaxis": "x",
         "y": [
          -0.001199308416609989
         ],
         "yaxis": "y"
        },
        {
         "hovertemplate": "Area=Utkoor<br>Deviance Scores Amount of Fires=%{x}<br>Deviance Scores NOx=%{y}<extra></extra>",
         "legendgroup": "Utkoor",
         "marker": {
          "color": "#EF553B",
          "symbol": "circle"
         },
         "mode": "markers",
         "name": "Utkoor",
         "orientation": "v",
         "showlegend": true,
         "type": "scatter",
         "x": [
          0.000014280454523642084
         ],
         "xaxis": "x",
         "y": [
          -0.001735988037412933
         ],
         "yaxis": "y"
        },
        {
         "hovertemplate": "Area=Jinnaram<br>Deviance Scores Amount of Fires=%{x}<br>Deviance Scores NOx=%{y}<extra></extra>",
         "legendgroup": "Jinnaram",
         "marker": {
          "color": "#00cc96",
          "symbol": "circle"
         },
         "mode": "markers",
         "name": "Jinnaram",
         "orientation": "v",
         "showlegend": true,
         "type": "scatter",
         "x": [
          0.00004942737207481208
         ],
         "xaxis": "x",
         "y": [
          -0.0004402147067034493
         ],
         "yaxis": "y"
        },
        {
         "hovertemplate": "Area=Toopran<br>Deviance Scores Amount of Fires=%{x}<br>Deviance Scores NOx=%{y}<extra></extra>",
         "legendgroup": "Toopran",
         "marker": {
          "color": "#ab63fa",
          "symbol": "circle"
         },
         "mode": "markers",
         "name": "Toopran",
         "orientation": "v",
         "showlegend": true,
         "type": "scatter",
         "x": [
          0.00003128392955134174
         ],
         "xaxis": "x",
         "y": [
          -0.00014460747698971633
         ],
         "yaxis": "y"
        },
        {
         "hovertemplate": "Area=Manoharabad<br>Deviance Scores Amount of Fires=%{x}<br>Deviance Scores NOx=%{y}<extra></extra>",
         "legendgroup": "Manoharabad",
         "marker": {
          "color": "#FFA15A",
          "symbol": "circle"
         },
         "mode": "markers",
         "name": "Manoharabad",
         "orientation": "v",
         "showlegend": true,
         "type": "scatter",
         "x": [
          0.00004979159003214144
         ],
         "xaxis": "x",
         "y": [
          0.00030402563240391665
         ],
         "yaxis": "y"
        },
        {
         "hovertemplate": "Area=Chilipched<br>Deviance Scores Amount of Fires=%{x}<br>Deviance Scores NOx=%{y}<extra></extra>",
         "legendgroup": "Chilipched",
         "marker": {
          "color": "#19d3f3",
          "symbol": "circle"
         },
         "mode": "markers",
         "name": "Chilipched",
         "orientation": "v",
         "showlegend": true,
         "type": "scatter",
         "x": [
          -0.000010780627260841442
         ],
         "xaxis": "x",
         "y": [
          -0.0013403561748865991
         ],
         "yaxis": "y"
        },
        {
         "hovertemplate": "Area=Chegunta<br>Deviance Scores Amount of Fires=%{x}<br>Deviance Scores NOx=%{y}<extra></extra>",
         "legendgroup": "Chegunta",
         "marker": {
          "color": "#FF6692",
          "symbol": "circle"
         },
         "mode": "markers",
         "name": "Chegunta",
         "orientation": "v",
         "showlegend": true,
         "type": "scatter",
         "x": [
          -0.000010052215916702826
         ],
         "xaxis": "x",
         "y": [
          -0.0016908922675789777
         ],
         "yaxis": "y"
        },
        {
         "hovertemplate": "Area=Pitlam<br>Deviance Scores Amount of Fires=%{x}<br>Deviance Scores NOx=%{y}<extra></extra>",
         "legendgroup": "Pitlam",
         "marker": {
          "color": "#B6E880",
          "symbol": "circle"
         },
         "mode": "markers",
         "name": "Pitlam",
         "orientation": "v",
         "showlegend": true,
         "type": "scatter",
         "x": [
          -0.00006308051265112614
         ],
         "xaxis": "x",
         "y": [
          -0.0004250074181245299
         ],
         "yaxis": "y"
        },
        {
         "hovertemplate": "Area=Bichkunda<br>Deviance Scores Amount of Fires=%{x}<br>Deviance Scores NOx=%{y}<extra></extra>",
         "legendgroup": "Bichkunda",
         "marker": {
          "color": "#FF97FF",
          "symbol": "circle"
         },
         "mode": "markers",
         "name": "Bichkunda",
         "orientation": "v",
         "showlegend": true,
         "type": "scatter",
         "x": [
          0.00006449707788889298
         ],
         "xaxis": "x",
         "y": [
          -0.00038468554033233097
         ],
         "yaxis": "y"
        },
        {
         "hovertemplate": "Area=Wazeed<br>Deviance Scores Amount of Fires=%{x}<br>Deviance Scores NOx=%{y}<extra></extra>",
         "legendgroup": "Wazeed",
         "marker": {
          "color": "#FECB52",
          "symbol": "circle"
         },
         "mode": "markers",
         "name": "Wazeed",
         "orientation": "v",
         "showlegend": true,
         "type": "scatter",
         "x": [
          0.000027413877495056272
         ],
         "xaxis": "x",
         "y": [
          0.0008164053847756632
         ],
         "yaxis": "y"
        },
        {
         "hovertemplate": "Area=Kammarpally<br>Deviance Scores Amount of Fires=%{x}<br>Deviance Scores NOx=%{y}<extra></extra>",
         "legendgroup": "Kammarpally",
         "marker": {
          "color": "#636efa",
          "symbol": "circle"
         },
         "mode": "markers",
         "name": "Kammarpally",
         "orientation": "v",
         "showlegend": true,
         "type": "scatter",
         "x": [
          0.00003211313665523238
         ],
         "xaxis": "x",
         "y": [
          -0.0013863827535781957
         ],
         "yaxis": "y"
        },
        {
         "hovertemplate": "Area=Kodakandla<br>Deviance Scores Amount of Fires=%{x}<br>Deviance Scores NOx=%{y}<extra></extra>",
         "legendgroup": "Kodakandla",
         "marker": {
          "color": "#EF553B",
          "symbol": "circle"
         },
         "mode": "markers",
         "name": "Kodakandla",
         "orientation": "v",
         "showlegend": true,
         "type": "scatter",
         "x": [
          0.000009164537403589135
         ],
         "xaxis": "x",
         "y": [
          0.0001734756694673599
         ],
         "yaxis": "y"
        },
        {
         "hovertemplate": "Area=Krishna<br>Deviance Scores Amount of Fires=%{x}<br>Deviance Scores NOx=%{y}<extra></extra>",
         "legendgroup": "Krishna",
         "marker": {
          "color": "#00cc96",
          "symbol": "circle"
         },
         "mode": "markers",
         "name": "Krishna",
         "orientation": "v",
         "showlegend": true,
         "type": "scatter",
         "x": [
          0.00005939326039064888
         ],
         "xaxis": "x",
         "y": [
          -0.0035677891641942576
         ],
         "yaxis": "y"
        },
        {
         "hovertemplate": "Area=Kotapalle<br>Deviance Scores Amount of Fires=%{x}<br>Deviance Scores NOx=%{y}<extra></extra>",
         "legendgroup": "Kotapalle",
         "marker": {
          "color": "#ab63fa",
          "symbol": "circle"
         },
         "mode": "markers",
         "name": "Kotapalle",
         "orientation": "v",
         "showlegend": true,
         "type": "scatter",
         "x": [
          0.000014979234701830363
         ],
         "xaxis": "x",
         "y": [
          0.003658299047519581
         ],
         "yaxis": "y"
        },
        {
         "hovertemplate": "Area=Nadikuda<br>Deviance Scores Amount of Fires=%{x}<br>Deviance Scores NOx=%{y}<extra></extra>",
         "legendgroup": "Nadikuda",
         "marker": {
          "color": "#FFA15A",
          "symbol": "circle"
         },
         "mode": "markers",
         "name": "Nadikuda",
         "orientation": "v",
         "showlegend": true,
         "type": "scatter",
         "x": [
          0.0000065890000281568845
         ],
         "xaxis": "x",
         "y": [
          -0.00027323704032110823
         ],
         "yaxis": "y"
        },
        {
         "hovertemplate": "Area=Muduchinthalaphally<br>Deviance Scores Amount of Fires=%{x}<br>Deviance Scores NOx=%{y}<extra></extra>",
         "legendgroup": "Muduchinthalaphally",
         "marker": {
          "color": "#19d3f3",
          "symbol": "circle"
         },
         "mode": "markers",
         "name": "Muduchinthalaphally",
         "orientation": "v",
         "showlegend": true,
         "type": "scatter",
         "x": [
          0.00007558459500221681
         ],
         "xaxis": "x",
         "y": [
          0.00038193644086421437
         ],
         "yaxis": "y"
        },
        {
         "hovertemplate": "Area=Mosra<br>Deviance Scores Amount of Fires=%{x}<br>Deviance Scores NOx=%{y}<extra></extra>",
         "legendgroup": "Mosra",
         "marker": {
          "color": "#FF6692",
          "symbol": "circle"
         },
         "mode": "markers",
         "name": "Mosra",
         "orientation": "v",
         "showlegend": true,
         "type": "scatter",
         "x": [
          0.00003126660832468597
         ],
         "xaxis": "x",
         "y": [
          -0.00009903284058312713
         ],
         "yaxis": "y"
        },
        {
         "hovertemplate": "Area=Chandur<br>Deviance Scores Amount of Fires=%{x}<br>Deviance Scores NOx=%{y}<extra></extra>",
         "legendgroup": "Chandur",
         "marker": {
          "color": "#B6E880",
          "symbol": "circle"
         },
         "mode": "markers",
         "name": "Chandur",
         "orientation": "v",
         "showlegend": true,
         "type": "scatter",
         "x": [
          -0.00001905541610426912
         ],
         "xaxis": "x",
         "y": [
          -0.00028599670435203287
         ],
         "yaxis": "y"
        },
        {
         "hovertemplate": "Area=Chowtakur<br>Deviance Scores Amount of Fires=%{x}<br>Deviance Scores NOx=%{y}<extra></extra>",
         "legendgroup": "Chowtakur",
         "marker": {
          "color": "#FF97FF",
          "symbol": "circle"
         },
         "mode": "markers",
         "name": "Chowtakur",
         "orientation": "v",
         "showlegend": true,
         "type": "scatter",
         "x": [
          0.00006963827561083082
         ],
         "xaxis": "x",
         "y": [
          -0.00054029201325308
         ],
         "yaxis": "y"
        }
       ],
       "layout": {
        "legend": {
         "title": {
          "text": "Area"
         },
         "tracegroupgap": 0
        },
        "template": {
         "data": {
          "bar": [
           {
            "error_x": {
             "color": "#2a3f5f"
            },
            "error_y": {
             "color": "#2a3f5f"
            },
            "marker": {
             "line": {
              "color": "#E5ECF6",
              "width": 0.5
             },
             "pattern": {
              "fillmode": "overlay",
              "size": 10,
              "solidity": 0.2
             }
            },
            "type": "bar"
           }
          ],
          "barpolar": [
           {
            "marker": {
             "line": {
              "color": "#E5ECF6",
              "width": 0.5
             },
             "pattern": {
              "fillmode": "overlay",
              "size": 10,
              "solidity": 0.2
             }
            },
            "type": "barpolar"
           }
          ],
          "carpet": [
           {
            "aaxis": {
             "endlinecolor": "#2a3f5f",
             "gridcolor": "white",
             "linecolor": "white",
             "minorgridcolor": "white",
             "startlinecolor": "#2a3f5f"
            },
            "baxis": {
             "endlinecolor": "#2a3f5f",
             "gridcolor": "white",
             "linecolor": "white",
             "minorgridcolor": "white",
             "startlinecolor": "#2a3f5f"
            },
            "type": "carpet"
           }
          ],
          "choropleth": [
           {
            "colorbar": {
             "outlinewidth": 0,
             "ticks": ""
            },
            "type": "choropleth"
           }
          ],
          "contour": [
           {
            "colorbar": {
             "outlinewidth": 0,
             "ticks": ""
            },
            "colorscale": [
             [
              0,
              "#0d0887"
             ],
             [
              0.1111111111111111,
              "#46039f"
             ],
             [
              0.2222222222222222,
              "#7201a8"
             ],
             [
              0.3333333333333333,
              "#9c179e"
             ],
             [
              0.4444444444444444,
              "#bd3786"
             ],
             [
              0.5555555555555556,
              "#d8576b"
             ],
             [
              0.6666666666666666,
              "#ed7953"
             ],
             [
              0.7777777777777778,
              "#fb9f3a"
             ],
             [
              0.8888888888888888,
              "#fdca26"
             ],
             [
              1,
              "#f0f921"
             ]
            ],
            "type": "contour"
           }
          ],
          "contourcarpet": [
           {
            "colorbar": {
             "outlinewidth": 0,
             "ticks": ""
            },
            "type": "contourcarpet"
           }
          ],
          "heatmap": [
           {
            "colorbar": {
             "outlinewidth": 0,
             "ticks": ""
            },
            "colorscale": [
             [
              0,
              "#0d0887"
             ],
             [
              0.1111111111111111,
              "#46039f"
             ],
             [
              0.2222222222222222,
              "#7201a8"
             ],
             [
              0.3333333333333333,
              "#9c179e"
             ],
             [
              0.4444444444444444,
              "#bd3786"
             ],
             [
              0.5555555555555556,
              "#d8576b"
             ],
             [
              0.6666666666666666,
              "#ed7953"
             ],
             [
              0.7777777777777778,
              "#fb9f3a"
             ],
             [
              0.8888888888888888,
              "#fdca26"
             ],
             [
              1,
              "#f0f921"
             ]
            ],
            "type": "heatmap"
           }
          ],
          "heatmapgl": [
           {
            "colorbar": {
             "outlinewidth": 0,
             "ticks": ""
            },
            "colorscale": [
             [
              0,
              "#0d0887"
             ],
             [
              0.1111111111111111,
              "#46039f"
             ],
             [
              0.2222222222222222,
              "#7201a8"
             ],
             [
              0.3333333333333333,
              "#9c179e"
             ],
             [
              0.4444444444444444,
              "#bd3786"
             ],
             [
              0.5555555555555556,
              "#d8576b"
             ],
             [
              0.6666666666666666,
              "#ed7953"
             ],
             [
              0.7777777777777778,
              "#fb9f3a"
             ],
             [
              0.8888888888888888,
              "#fdca26"
             ],
             [
              1,
              "#f0f921"
             ]
            ],
            "type": "heatmapgl"
           }
          ],
          "histogram": [
           {
            "marker": {
             "pattern": {
              "fillmode": "overlay",
              "size": 10,
              "solidity": 0.2
             }
            },
            "type": "histogram"
           }
          ],
          "histogram2d": [
           {
            "colorbar": {
             "outlinewidth": 0,
             "ticks": ""
            },
            "colorscale": [
             [
              0,
              "#0d0887"
             ],
             [
              0.1111111111111111,
              "#46039f"
             ],
             [
              0.2222222222222222,
              "#7201a8"
             ],
             [
              0.3333333333333333,
              "#9c179e"
             ],
             [
              0.4444444444444444,
              "#bd3786"
             ],
             [
              0.5555555555555556,
              "#d8576b"
             ],
             [
              0.6666666666666666,
              "#ed7953"
             ],
             [
              0.7777777777777778,
              "#fb9f3a"
             ],
             [
              0.8888888888888888,
              "#fdca26"
             ],
             [
              1,
              "#f0f921"
             ]
            ],
            "type": "histogram2d"
           }
          ],
          "histogram2dcontour": [
           {
            "colorbar": {
             "outlinewidth": 0,
             "ticks": ""
            },
            "colorscale": [
             [
              0,
              "#0d0887"
             ],
             [
              0.1111111111111111,
              "#46039f"
             ],
             [
              0.2222222222222222,
              "#7201a8"
             ],
             [
              0.3333333333333333,
              "#9c179e"
             ],
             [
              0.4444444444444444,
              "#bd3786"
             ],
             [
              0.5555555555555556,
              "#d8576b"
             ],
             [
              0.6666666666666666,
              "#ed7953"
             ],
             [
              0.7777777777777778,
              "#fb9f3a"
             ],
             [
              0.8888888888888888,
              "#fdca26"
             ],
             [
              1,
              "#f0f921"
             ]
            ],
            "type": "histogram2dcontour"
           }
          ],
          "mesh3d": [
           {
            "colorbar": {
             "outlinewidth": 0,
             "ticks": ""
            },
            "type": "mesh3d"
           }
          ],
          "parcoords": [
           {
            "line": {
             "colorbar": {
              "outlinewidth": 0,
              "ticks": ""
             }
            },
            "type": "parcoords"
           }
          ],
          "pie": [
           {
            "automargin": true,
            "type": "pie"
           }
          ],
          "scatter": [
           {
            "marker": {
             "colorbar": {
              "outlinewidth": 0,
              "ticks": ""
             }
            },
            "type": "scatter"
           }
          ],
          "scatter3d": [
           {
            "line": {
             "colorbar": {
              "outlinewidth": 0,
              "ticks": ""
             }
            },
            "marker": {
             "colorbar": {
              "outlinewidth": 0,
              "ticks": ""
             }
            },
            "type": "scatter3d"
           }
          ],
          "scattercarpet": [
           {
            "marker": {
             "colorbar": {
              "outlinewidth": 0,
              "ticks": ""
             }
            },
            "type": "scattercarpet"
           }
          ],
          "scattergeo": [
           {
            "marker": {
             "colorbar": {
              "outlinewidth": 0,
              "ticks": ""
             }
            },
            "type": "scattergeo"
           }
          ],
          "scattergl": [
           {
            "marker": {
             "colorbar": {
              "outlinewidth": 0,
              "ticks": ""
             }
            },
            "type": "scattergl"
           }
          ],
          "scattermapbox": [
           {
            "marker": {
             "colorbar": {
              "outlinewidth": 0,
              "ticks": ""
             }
            },
            "type": "scattermapbox"
           }
          ],
          "scatterpolar": [
           {
            "marker": {
             "colorbar": {
              "outlinewidth": 0,
              "ticks": ""
             }
            },
            "type": "scatterpolar"
           }
          ],
          "scatterpolargl": [
           {
            "marker": {
             "colorbar": {
              "outlinewidth": 0,
              "ticks": ""
             }
            },
            "type": "scatterpolargl"
           }
          ],
          "scatterternary": [
           {
            "marker": {
             "colorbar": {
              "outlinewidth": 0,
              "ticks": ""
             }
            },
            "type": "scatterternary"
           }
          ],
          "surface": [
           {
            "colorbar": {
             "outlinewidth": 0,
             "ticks": ""
            },
            "colorscale": [
             [
              0,
              "#0d0887"
             ],
             [
              0.1111111111111111,
              "#46039f"
             ],
             [
              0.2222222222222222,
              "#7201a8"
             ],
             [
              0.3333333333333333,
              "#9c179e"
             ],
             [
              0.4444444444444444,
              "#bd3786"
             ],
             [
              0.5555555555555556,
              "#d8576b"
             ],
             [
              0.6666666666666666,
              "#ed7953"
             ],
             [
              0.7777777777777778,
              "#fb9f3a"
             ],
             [
              0.8888888888888888,
              "#fdca26"
             ],
             [
              1,
              "#f0f921"
             ]
            ],
            "type": "surface"
           }
          ],
          "table": [
           {
            "cells": {
             "fill": {
              "color": "#EBF0F8"
             },
             "line": {
              "color": "white"
             }
            },
            "header": {
             "fill": {
              "color": "#C8D4E3"
             },
             "line": {
              "color": "white"
             }
            },
            "type": "table"
           }
          ]
         },
         "layout": {
          "annotationdefaults": {
           "arrowcolor": "#2a3f5f",
           "arrowhead": 0,
           "arrowwidth": 1
          },
          "autotypenumbers": "strict",
          "coloraxis": {
           "colorbar": {
            "outlinewidth": 0,
            "ticks": ""
           }
          },
          "colorscale": {
           "diverging": [
            [
             0,
             "#8e0152"
            ],
            [
             0.1,
             "#c51b7d"
            ],
            [
             0.2,
             "#de77ae"
            ],
            [
             0.3,
             "#f1b6da"
            ],
            [
             0.4,
             "#fde0ef"
            ],
            [
             0.5,
             "#f7f7f7"
            ],
            [
             0.6,
             "#e6f5d0"
            ],
            [
             0.7,
             "#b8e186"
            ],
            [
             0.8,
             "#7fbc41"
            ],
            [
             0.9,
             "#4d9221"
            ],
            [
             1,
             "#276419"
            ]
           ],
           "sequential": [
            [
             0,
             "#0d0887"
            ],
            [
             0.1111111111111111,
             "#46039f"
            ],
            [
             0.2222222222222222,
             "#7201a8"
            ],
            [
             0.3333333333333333,
             "#9c179e"
            ],
            [
             0.4444444444444444,
             "#bd3786"
            ],
            [
             0.5555555555555556,
             "#d8576b"
            ],
            [
             0.6666666666666666,
             "#ed7953"
            ],
            [
             0.7777777777777778,
             "#fb9f3a"
            ],
            [
             0.8888888888888888,
             "#fdca26"
            ],
            [
             1,
             "#f0f921"
            ]
           ],
           "sequentialminus": [
            [
             0,
             "#0d0887"
            ],
            [
             0.1111111111111111,
             "#46039f"
            ],
            [
             0.2222222222222222,
             "#7201a8"
            ],
            [
             0.3333333333333333,
             "#9c179e"
            ],
            [
             0.4444444444444444,
             "#bd3786"
            ],
            [
             0.5555555555555556,
             "#d8576b"
            ],
            [
             0.6666666666666666,
             "#ed7953"
            ],
            [
             0.7777777777777778,
             "#fb9f3a"
            ],
            [
             0.8888888888888888,
             "#fdca26"
            ],
            [
             1,
             "#f0f921"
            ]
           ]
          },
          "colorway": [
           "#636efa",
           "#EF553B",
           "#00cc96",
           "#ab63fa",
           "#FFA15A",
           "#19d3f3",
           "#FF6692",
           "#B6E880",
           "#FF97FF",
           "#FECB52"
          ],
          "font": {
           "color": "#2a3f5f"
          },
          "geo": {
           "bgcolor": "white",
           "lakecolor": "white",
           "landcolor": "#E5ECF6",
           "showlakes": true,
           "showland": true,
           "subunitcolor": "white"
          },
          "hoverlabel": {
           "align": "left"
          },
          "hovermode": "closest",
          "mapbox": {
           "style": "light"
          },
          "paper_bgcolor": "white",
          "plot_bgcolor": "#E5ECF6",
          "polar": {
           "angularaxis": {
            "gridcolor": "white",
            "linecolor": "white",
            "ticks": ""
           },
           "bgcolor": "#E5ECF6",
           "radialaxis": {
            "gridcolor": "white",
            "linecolor": "white",
            "ticks": ""
           }
          },
          "scene": {
           "xaxis": {
            "backgroundcolor": "#E5ECF6",
            "gridcolor": "white",
            "gridwidth": 2,
            "linecolor": "white",
            "showbackground": true,
            "ticks": "",
            "zerolinecolor": "white"
           },
           "yaxis": {
            "backgroundcolor": "#E5ECF6",
            "gridcolor": "white",
            "gridwidth": 2,
            "linecolor": "white",
            "showbackground": true,
            "ticks": "",
            "zerolinecolor": "white"
           },
           "zaxis": {
            "backgroundcolor": "#E5ECF6",
            "gridcolor": "white",
            "gridwidth": 2,
            "linecolor": "white",
            "showbackground": true,
            "ticks": "",
            "zerolinecolor": "white"
           }
          },
          "shapedefaults": {
           "line": {
            "color": "#2a3f5f"
           }
          },
          "ternary": {
           "aaxis": {
            "gridcolor": "white",
            "linecolor": "white",
            "ticks": ""
           },
           "baxis": {
            "gridcolor": "white",
            "linecolor": "white",
            "ticks": ""
           },
           "bgcolor": "#E5ECF6",
           "caxis": {
            "gridcolor": "white",
            "linecolor": "white",
            "ticks": ""
           }
          },
          "title": {
           "x": 0.05
          },
          "xaxis": {
           "automargin": true,
           "gridcolor": "white",
           "linecolor": "white",
           "ticks": "",
           "title": {
            "standoff": 15
           },
           "zerolinecolor": "white",
           "zerolinewidth": 2
          },
          "yaxis": {
           "automargin": true,
           "gridcolor": "white",
           "linecolor": "white",
           "ticks": "",
           "title": {
            "standoff": 15
           },
           "zerolinecolor": "white",
           "zerolinewidth": 2
          }
         }
        },
        "title": {
         "text": "Relation Between NOx and Amount of Fires Changes over the Years 2015-2021"
        },
        "xaxis": {
         "anchor": "y",
         "domain": [
          0,
          1
         ],
         "title": {
          "text": "Deviance Scores Amount of Fires"
         }
        },
        "yaxis": {
         "anchor": "x",
         "domain": [
          0,
          1
         ],
         "title": {
          "text": "Deviance Scores NOx"
         }
        }
       }
      }
     },
     "metadata": {},
     "output_type": "display_data"
    },
    {
     "name": "stdout",
     "output_type": "stream",
     "text": [
      "Pearsons correlation: 0.025\n"
     ]
    },
    {
     "data": {
      "text/plain": [
       "()"
      ]
     },
     "execution_count": 34,
     "metadata": {},
     "output_type": "execute_result"
    }
   ],
   "source": [
    "os.chdir('c:\\\\Users\\\\Jesse\\\\OneDrive\\\\Documenten\\\\Master BAOR\\\\Thesis\\\\GitHub\\\\dicra\\\\analytics\\\\notebooks\\\\crop_fires\\\\DPPD_Jesse\\\\NOx')\n",
    "NOx_df = pd.read_csv('NOx_years_mandal.csv', index_col=0)\n",
    "correlation(NOx_df, 2021, 'NOx', mandal_boundaries, 'Mandal_Nam')"
   ]
  }
 ],
 "metadata": {
  "kernelspec": {
   "display_name": "Python 3.8.11 ('gurobi')",
   "language": "python",
   "name": "python3"
  },
  "language_info": {
   "codemirror_mode": {
    "name": "ipython",
    "version": 3
   },
   "file_extension": ".py",
   "mimetype": "text/x-python",
   "name": "python",
   "nbconvert_exporter": "python",
   "pygments_lexer": "ipython3",
   "version": "3.8.11"
  },
  "orig_nbformat": 4,
  "vscode": {
   "interpreter": {
    "hash": "8137cca2c96495771a6332c43a92746d2e8f2f032dec7e1d4873522724197fcb"
   }
  }
 },
 "nbformat": 4,
 "nbformat_minor": 2
}
