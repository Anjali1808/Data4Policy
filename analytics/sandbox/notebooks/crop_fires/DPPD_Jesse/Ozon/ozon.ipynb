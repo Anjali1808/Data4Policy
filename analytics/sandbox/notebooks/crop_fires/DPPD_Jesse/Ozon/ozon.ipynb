{
 "cells": [
  {
   "cell_type": "code",
   "execution_count": 1,
   "metadata": {},
   "outputs": [],
   "source": [
    "import pandas as pd\n",
    "import os\n",
    "import geopandas as gpd\n",
    "import geoplot\n",
    "import geoplot.crs as gcrs\n",
    "import matplotlib.pyplot as plt\n",
    "import rasterio\n",
    "from statsmodels.tsa.seasonal import STL\n",
    "import numpy as np\n",
    "from sklearn.linear_model import LinearRegression\n",
    "import datetime as dt\n",
    "from matplotlib.colors import TwoSlopeNorm\n",
    "import time\n",
    "from rasterstats import zonal_stats\n",
    "from scipy.stats import pearsonr\n",
    "import plotly.express as px"
   ]
  },
  {
   "cell_type": "code",
   "execution_count": 2,
   "metadata": {},
   "outputs": [],
   "source": [
    "os.chdir('c:\\\\Users\\\\Jesse\\\\OneDrive\\\\Documenten\\\\Master BAOR\\\\Thesis\\\\GitHub\\\\dicra\\\\analytics\\\\sandbox\\\\notebooks\\\\crop_fires\\\\Mandal_boundaries_pre')\n",
    "mandal_boundaries = gpd.read_file('mandal_boundaries.shp')\n",
    "mandal_boundaries = mandal_boundaries.reset_index()\n",
    "\n",
    "os.chdir('c:\\\\Users\\\\Jesse\\\\OneDrive\\\\Documenten\\\\Master BAOR\\\\Thesis\\\\GitHub\\\\dicra\\\\src\\\\data_preprocessing\\\\tsdm\\\\')\n",
    "district_boundaries = gpd.read_file('District_Boundary.shp')\n",
    "district_boundaries = district_boundaries.reset_index()\n"
   ]
  },
  {
   "cell_type": "code",
   "execution_count": 3,
   "metadata": {},
   "outputs": [],
   "source": [
    "def Trend_Score(df, index:int): \n",
    "    \"\"\"Determines the trend score of a polygon it takes as input a dataframe that counts the fires per region per month and the index of a specific region and returns \n",
    "    the deviance score of that particular region\"\"\"\n",
    "    df_selected = df[['ModifiedDateTime', index]]\n",
    "    df_selected = df_selected.sort_values(by=['ModifiedDateTime'])\n",
    "    df_selected.index = df_selected['ModifiedDateTime']\n",
    "\n",
    "    if not df_selected.empty:\n",
    "\n",
    "        X = df_selected[index]\n",
    "\n",
    "        #Decompose using STL Seasonal-Trend Decomposition using LOESS\n",
    "        stl = STL(X, seasonal=7)\n",
    "        res = stl.fit()\n",
    "\n",
    "        df_trend = res.trend.to_frame().reset_index().dropna()\n",
    "\n",
    "        #Date needs to be converted to a numerical value\n",
    "        df_trend['ModifiedDateTime_num'] = df_trend['ModifiedDateTime'].map(dt.datetime.toordinal)\n",
    "\n",
    "        #Set the data in the right format for Linear Regression\n",
    "        X = np.array(df_trend['ModifiedDateTime_num'])\n",
    "        X = X.reshape(-1, 1)\n",
    "        y = np.array(df_trend['trend'])\n",
    "        y = y.reshape(-1, 1)\n",
    "\n",
    "        #Perform Linear Regression and obtain the slope\n",
    "        reg = LinearRegression().fit(X, y)\n",
    "        y_pred_trend = reg.predict(X)\n",
    "        slope, intercept = np.polyfit(np.array(df_trend['ModifiedDateTime_num']), y_pred_trend,1)\n",
    "        line_slope = slope[0]\n",
    "\n",
    "    else:\n",
    "        #If the dataframe is empty there are no fires in that region at all, also no slope line. We are not interested in these regions.\n",
    "        line_slope = 'Unknown'\n",
    "\n",
    "    return(line_slope)"
   ]
  },
  {
   "cell_type": "code",
   "execution_count": 6,
   "metadata": {},
   "outputs": [],
   "source": [
    "def correlation(data, endyear, name, boundaries, col_name):\n",
    "    data['ModifiedDateTime'] = pd.to_datetime(data['ModifiedDateTime'])\n",
    "    data = data[data['ModifiedDateTime']<str(endyear+1)+'-01-01']\n",
    "\n",
    "    #We will loop over all boundaries and calculate it's deviant score\n",
    "    ids= []\n",
    "    scores = []\n",
    "\n",
    "    for i in data.columns[1:-1]:\n",
    "        ids.append(i)\n",
    "        #We use the previously defined function in order to calculate the trend score per specific area\n",
    "        score = Trend_Score(data, i)\n",
    "        scores.append(score)\n",
    "\n",
    "    #Create a Dataframe from the scores\n",
    "    DPPD_df = pd.DataFrame({'index': ids, 'Slope Score': scores}) \n",
    "\n",
    "    #Only select the regions that do not have unknown scores\n",
    "    DPPD_df = DPPD_df[DPPD_df['Slope Score'] != 'Unknown']\n",
    "\n",
    "    DPPD_df['index'] = DPPD_df['index'].astype(int)\n",
    "\n",
    "    #We merge the dataframe with the boundaries dataframe such that we have the geometry variable\n",
    "    DPPD_df = DPPD_df.merge(boundaries[['index', 'geometry']], how='left', on=['index'])\n",
    "\n",
    "    #Making sure data has the right type\n",
    "    DPPD_df = gpd.GeoDataFrame(DPPD_df, geometry = DPPD_df.geometry, crs = {'init': 'epsg:4326'}) \n",
    "    DPPD_df['Slope Score'] = DPPD_df['Slope Score'].astype('float')\n",
    "\n",
    "    if col_name == 'Dist_Name':\n",
    "        word = 'district level'\n",
    "    else:\n",
    "        word = 'mandal level'\n",
    "\n",
    "    #Define text for the plots\n",
    "    text = 'Changes ' + name + ' 2015-'+ str(endyear) + ' ' + word\n",
    "    ranges = max(abs(DPPD_df['Slope Score'].min()), (DPPD_df['Slope Score'].max()))\n",
    "    vmin, vmax, vcenter = ranges*-1 , ranges, 0\n",
    "    norm = TwoSlopeNorm(vmin= vmin , vcenter=vcenter, vmax= vmax) \n",
    "    # create a normalized colorbar\n",
    "    cmap = 'RdYlGn_r'\n",
    "    cbar = plt.cm.ScalarMappable(norm=norm, cmap=cmap)\n",
    "    DPPD_df.plot(column = 'Slope Score', \n",
    "                        legend = True, \n",
    "                        figsize = [20,10],\\\n",
    "                        legend_kwds = {'label': 'Deviance'}, \n",
    "                        cmap = 'RdYlGn_r',\n",
    "                        norm = norm)\n",
    "    plt.title(text)\n",
    "    os.chdir('c:\\\\Users\\\\Jesse\\\\OneDrive\\\\Documenten\\\\Master BAOR\\\\Thesis\\\\GitHub\\\\dicra\\\\analytics\\\\sandbox\\\\notebooks\\\\crop_fires\\\\DPPD_Jesse\\\\'+name+'\\\\result')\n",
    "    plt.savefig(text + '.png', bbox_inches='tight')\n",
    "    plt.show()\n",
    "\n",
    "    os.chdir('c:\\\\Users\\\\Jesse\\\\OneDrive\\\\Documenten\\\\Master BAOR\\\\Thesis\\\\GitHub\\\\dicra\\\\analytics\\\\sandbox\\\\notebooks\\\\crop_fires\\\\DPPD_Jesse\\\\Fires\\\\results')\n",
    "    DPPD_Fires = pd.read_csv('DPPD_Fires_'+str(endyear)+'.csv', index_col = 0)\n",
    "    DPPD_Fires.columns = ['index', 'Slope Score Fires', 'geometry']\n",
    "\n",
    "    Corr = DPPD_Fires.merge(DPPD_df[['Slope Score', 'index']], how = 'left', on = ['index'])\n",
    "    Corr = Corr.merge(boundaries[['index', col_name]], how = 'left', on = ['index'])\n",
    "    Corr = Corr.dropna()\n",
    "\n",
    "    fig = px.scatter(x=Corr['Slope Score Fires'], y=Corr['Slope Score'], color = Corr[col_name], title = 'Relation Between ' + name + ' and Amount of Fires Changes over the Years 2015-'+str(endyear),\n",
    "                    labels={\n",
    "                     \"x\": \"Deviance Scores Amount of Fires\",\n",
    "                     \"y\": \"Deviance Scores \" + name,\n",
    "                     \"color\": \"Area\"\n",
    "                 },)\n",
    "    fig.show()\n",
    "    os.chdir('c:\\\\Users\\\\Jesse\\\\OneDrive\\\\Documenten\\\\Master BAOR\\\\Thesis\\\\GitHub\\\\dicra\\\\analytics\\\\sandbox\\\\notebooks\\\\crop_fires\\\\DPPD_Jesse\\\\'+name+'\\\\result')\n",
    "    fig.write_image('Relation between '+ name +' and Fires Changes ' + word + '.png')\n",
    "\n",
    "    plt.scatter(Corr['Slope Score Fires'], Corr['Slope Score'])\n",
    "    plt.title('Relation Between ' + name + ' and Amount of Fires Changes over the Years 2015-'+str(endyear))\n",
    "    plt.xlabel('Deviance Score Fires')\n",
    "    plt.ylabel('Deviance Score '+name)\n",
    "    os.chdir('c:\\\\Users\\\\Jesse\\\\OneDrive\\\\Documenten\\\\Master BAOR\\\\Thesis\\\\GitHub\\\\dicra\\\\analytics\\\\sandbox\\\\notebooks\\\\crop_fires\\\\DPPD_Jesse\\\\'+name+'\\\\result')\n",
    "    plt.savefig('Relation between '+ name +' and Fires Changes matplotlib' + word + '.png', bbox_inches='tight')\n",
    "    #plt.show()\n",
    "\n",
    "    corr, _ = pearsonr(Corr['Slope Score Fires'], Corr['Slope Score'])\n",
    "    print('Pearsons correlation: %.3f' % corr)\n",
    "    return()"
   ]
  },
  {
   "cell_type": "code",
   "execution_count": 10,
   "metadata": {},
   "outputs": [
    {
     "name": "stderr",
     "output_type": "stream",
     "text": [
      "c:\\Users\\Jesse\\Anaconda3\\envs\\gurobi\\lib\\site-packages\\geopandas\\geodataframe.py:1322: SettingWithCopyWarning:\n",
      "\n",
      "\n",
      "A value is trying to be set on a copy of a slice from a DataFrame.\n",
      "Try using .loc[row_indexer,col_indexer] = value instead\n",
      "\n",
      "See the caveats in the documentation: https://pandas.pydata.org/pandas-docs/stable/user_guide/indexing.html#returning-a-view-versus-a-copy\n",
      "\n",
      "c:\\Users\\Jesse\\Anaconda3\\envs\\gurobi\\lib\\site-packages\\pandas\\core\\indexing.py:1732: SettingWithCopyWarning:\n",
      "\n",
      "\n",
      "A value is trying to be set on a copy of a slice from a DataFrame\n",
      "\n",
      "See the caveats in the documentation: https://pandas.pydata.org/pandas-docs/stable/user_guide/indexing.html#returning-a-view-versus-a-copy\n",
      "\n",
      "c:\\Users\\Jesse\\Anaconda3\\envs\\gurobi\\lib\\site-packages\\pandas\\core\\indexing.py:1965: SettingWithCopyWarning:\n",
      "\n",
      "\n",
      "A value is trying to be set on a copy of a slice from a DataFrame\n",
      "\n",
      "See the caveats in the documentation: https://pandas.pydata.org/pandas-docs/stable/user_guide/indexing.html#returning-a-view-versus-a-copy\n",
      "\n"
     ]
    }
   ],
   "source": [
    "#Read data from tiff files\n",
    "boundaries = mandal_boundaries\n",
    "columns =['index', 'Dist_Name', 'Mandal_Nam', 'geometry']\n",
    "\n",
    "Ozon_df = boundaries[columns]\n",
    "Ozon_df.head()\n",
    "\n",
    "months = ['01', '02', '03', '04', '05', '06', '07', '08', '09', '10', '11', '12']\n",
    "\n",
    "for year in range(2015, 2022):\n",
    "    for month in months:\n",
    "        os.chdir('c:\\\\Users\\\\Jesse\\\\OneDrive\\\\Documenten\\\\Ozon')\n",
    "        tiff = 'AURA_OZONE_M_'+ str(year) + '-'+ month + '-01_rgb_1440x720.tiff'\n",
    "        lulc = rasterio.open(tiff, mode = 'r')\n",
    "        lulc_array = lulc.read(1) \n",
    "        affine = lulc.transform\n",
    "\n",
    "        Ozon_df[str(year) + '-'+ month + '-01'] = 0\n",
    "        for a in range(0, len(boundaries)):\n",
    "            NOx_mean = zonal_stats(boundaries.iloc[a].geometry, lulc_array, affine = affine, geojson_out = True, nodata = lulc.nodata)[0]['properties']['mean']\n",
    "            Ozon_df[str(year) + '-'+ month + '-01'].iloc[a] = NOx_mean\n",
    "\n",
    "Ozon_df = Ozon_df.dropna()\n",
    "Ozon_df = Ozon_df.iloc[:, 4:].transpose().reset_index()\n",
    "Ozon_df['ModifiedDateTime'] = pd.to_datetime(Ozon_df['index'])\n",
    "\n",
    "os.chdir('c:\\\\Users\\\\Jesse\\\\OneDrive\\\\Documenten\\\\Master BAOR\\\\Thesis\\\\GitHub\\\\dicra\\\\analytics\\\\sandbox\\\\notebooks\\\\crop_fires\\\\DPPD_Jesse\\\\Ozon')\n",
    "Ozon_df.to_csv('Ozon_years_mandal.csv')"
   ]
  },
  {
   "cell_type": "code",
   "execution_count": 5,
   "metadata": {},
   "outputs": [
    {
     "name": "stderr",
     "output_type": "stream",
     "text": [
      "c:\\Users\\Jesse\\Anaconda3\\envs\\gurobi\\lib\\site-packages\\pyproj\\crs\\crs.py:53: FutureWarning: '+init=<authority>:<code>' syntax is deprecated. '<authority>:<code>' is the preferred initialization method. When making the change, be mindful of axis order changes: https://pyproj4.github.io/pyproj/stable/gotchas.html#axis-order-changes-in-proj-6\n",
      "  return _prepare_from_string(\" \".join(pjargs))\n"
     ]
    },
    {
     "data": {
      "image/png": "[encoded data removed]",
      "text/plain": [
       "<Figure size 2000x1000 with 2 Axes>"
      ]
     },
     "metadata": {},
     "output_type": "display_data"
    },
    {
     "data": {
      "application/vnd.plotly.v1+json": {
       "config": {
        "plotlyServerURL": "https://plot.ly"
       },
       "data": [
        {
         "hovertemplate": "Area=Bhadradri Kothagudem<br>Deviance Scores Amount of Fires=%{x}<br>Deviance Scores Ozon=%{y}<extra></extra>",
         "legendgroup": "Bhadradri Kothagudem",
         "marker": {
          "color": "#636efa",
          "symbol": "circle"
         },
         "mode": "markers",
         "name": "Bhadradri Kothagudem",
         "orientation": "v",
         "showlegend": true,
         "type": "scatter",
         "x": [
          -0.00003904194030099539
         ],
         "xaxis": "x",
         "y": [
          0.0009999951693934117
         ],
         "yaxis": "y"
        },
        {
         "hovertemplate": "Area=Jagtial<br>Deviance Scores Amount of Fires=%{x}<br>Deviance Scores Ozon=%{y}<extra></extra>",
         "legendgroup": "Jagtial",
         "marker": {
          "color": "#EF553B",
          "symbol": "circle"
         },
         "mode": "markers",
         "name": "Jagtial",
         "orientation": "v",
         "showlegend": true,
         "type": "scatter",
         "x": [
          0.00004817862055273215
         ],
         "xaxis": "x",
         "y": [
          0.0007450539624320549
         ],
         "yaxis": "y"
        },
        {
         "hovertemplate": "Area=Mulugu<br>Deviance Scores Amount of Fires=%{x}<br>Deviance Scores Ozon=%{y}<extra></extra>",
         "legendgroup": "Mulugu",
         "marker": {
          "color": "#00cc96",
          "symbol": "circle"
         },
         "mode": "markers",
         "name": "Mulugu",
         "orientation": "v",
         "showlegend": true,
         "type": "scatter",
         "x": [
          0.00007702679402203895
         ],
         "xaxis": "x",
         "y": [
          0.0008388095279049586
         ],
         "yaxis": "y"
        },
        {
         "hovertemplate": "Area=Kamareddy<br>Deviance Scores Amount of Fires=%{x}<br>Deviance Scores Ozon=%{y}<extra></extra>",
         "legendgroup": "Kamareddy",
         "marker": {
          "color": "#ab63fa",
          "symbol": "circle"
         },
         "mode": "markers",
         "name": "Kamareddy",
         "orientation": "v",
         "showlegend": true,
         "type": "scatter",
         "x": [
          0.0004656943424186
         ],
         "xaxis": "x",
         "y": [
          0.0006894869903622926
         ],
         "yaxis": "y"
        },
        {
         "hovertemplate": "Area=Karimnagar<br>Deviance Scores Amount of Fires=%{x}<br>Deviance Scores Ozon=%{y}<extra></extra>",
         "legendgroup": "Karimnagar",
         "marker": {
          "color": "#FFA15A",
          "symbol": "circle"
         },
         "mode": "markers",
         "name": "Karimnagar",
         "orientation": "v",
         "showlegend": true,
         "type": "scatter",
         "x": [
          -0.00001465475629417234
         ],
         "xaxis": "x",
         "y": [
          0.0006785403315797164
         ],
         "yaxis": "y"
        },
        {
         "hovertemplate": "Area=Mahabubabad<br>Deviance Scores Amount of Fires=%{x}<br>Deviance Scores Ozon=%{y}<extra></extra>",
         "legendgroup": "Mahabubabad",
         "marker": {
          "color": "#19d3f3",
          "symbol": "circle"
         },
         "mode": "markers",
         "name": "Mahabubabad",
         "orientation": "v",
         "showlegend": true,
         "type": "scatter",
         "x": [
          0.000024500426919763263
         ],
         "xaxis": "x",
         "y": [
          0.0007537107769877564
         ],
         "yaxis": "y"
        },
        {
         "hovertemplate": "Area=Mancherial<br>Deviance Scores Amount of Fires=%{x}<br>Deviance Scores Ozon=%{y}<extra></extra>",
         "legendgroup": "Mancherial",
         "marker": {
          "color": "#FF6692",
          "symbol": "circle"
         },
         "mode": "markers",
         "name": "Mancherial",
         "orientation": "v",
         "showlegend": true,
         "type": "scatter",
         "x": [
          0.00001684000864893318
         ],
         "xaxis": "x",
         "y": [
          0.0005963883975057776
         ],
         "yaxis": "y"
        },
        {
         "hovertemplate": "Area=Medak<br>Deviance Scores Amount of Fires=%{x}<br>Deviance Scores Ozon=%{y}<extra></extra>",
         "legendgroup": "Medak",
         "marker": {
          "color": "#B6E880",
          "symbol": "circle"
         },
         "mode": "markers",
         "name": "Medak",
         "orientation": "v",
         "showlegend": true,
         "type": "scatter",
         "x": [
          0.00002666614412205709
         ],
         "xaxis": "x",
         "y": [
          0.0006776593420075755
         ],
         "yaxis": "y"
        },
        {
         "hovertemplate": "Area=Nagarkurnool<br>Deviance Scores Amount of Fires=%{x}<br>Deviance Scores Ozon=%{y}<extra></extra>",
         "legendgroup": "Nagarkurnool",
         "marker": {
          "color": "#FF97FF",
          "symbol": "circle"
         },
         "mode": "markers",
         "name": "Nagarkurnool",
         "orientation": "v",
         "showlegend": true,
         "type": "scatter",
         "x": [
          0.000020697297194972982
         ],
         "xaxis": "x",
         "y": [
          0.0008267498655253072
         ],
         "yaxis": "y"
        },
        {
         "hovertemplate": "Area=Nalgonda<br>Deviance Scores Amount of Fires=%{x}<br>Deviance Scores Ozon=%{y}<extra></extra>",
         "legendgroup": "Nalgonda",
         "marker": {
          "color": "#FECB52",
          "symbol": "circle"
         },
         "mode": "markers",
         "name": "Nalgonda",
         "orientation": "v",
         "showlegend": true,
         "type": "scatter",
         "x": [
          -0.00001344309143103946
         ],
         "xaxis": "x",
         "y": [
          0.0008119192809458398
         ],
         "yaxis": "y"
        },
        {
         "hovertemplate": "Area=Nirmal<br>Deviance Scores Amount of Fires=%{x}<br>Deviance Scores Ozon=%{y}<extra></extra>",
         "legendgroup": "Nirmal",
         "marker": {
          "color": "#636efa",
          "symbol": "circle"
         },
         "mode": "markers",
         "name": "Nirmal",
         "orientation": "v",
         "showlegend": true,
         "type": "scatter",
         "x": [
          -0.0000151779323594159
         ],
         "xaxis": "x",
         "y": [
          0.0006813300806623588
         ],
         "yaxis": "y"
        },
        {
         "hovertemplate": "Area=Rajanna Sircilla<br>Deviance Scores Amount of Fires=%{x}<br>Deviance Scores Ozon=%{y}<extra></extra>",
         "legendgroup": "Rajanna Sircilla",
         "marker": {
          "color": "#EF553B",
          "symbol": "circle"
         },
         "mode": "markers",
         "name": "Rajanna Sircilla",
         "orientation": "v",
         "showlegend": true,
         "type": "scatter",
         "x": [
          0.000015364814241880098
         ],
         "xaxis": "x",
         "y": [
          0.0007604599138568156
         ],
         "yaxis": "y"
        },
        {
         "hovertemplate": "Area=Vikarabad<br>Deviance Scores Amount of Fires=%{x}<br>Deviance Scores Ozon=%{y}<extra></extra>",
         "legendgroup": "Vikarabad",
         "marker": {
          "color": "#00cc96",
          "symbol": "circle"
         },
         "mode": "markers",
         "name": "Vikarabad",
         "orientation": "v",
         "showlegend": true,
         "type": "scatter",
         "x": [
          0.00002612444171694199
         ],
         "xaxis": "x",
         "y": [
          0.0008801976162233612
         ],
         "yaxis": "y"
        },
        {
         "hovertemplate": "Area=Wanaparthy<br>Deviance Scores Amount of Fires=%{x}<br>Deviance Scores Ozon=%{y}<extra></extra>",
         "legendgroup": "Wanaparthy",
         "marker": {
          "color": "#ab63fa",
          "symbol": "circle"
         },
         "mode": "markers",
         "name": "Wanaparthy",
         "orientation": "v",
         "showlegend": true,
         "type": "scatter",
         "x": [
          -0.00001959912952713305
         ],
         "xaxis": "x",
         "y": [
          0.0008722563123793327
         ],
         "yaxis": "y"
        },
        {
         "hovertemplate": "Area=Warangal Rural<br>Deviance Scores Amount of Fires=%{x}<br>Deviance Scores Ozon=%{y}<extra></extra>",
         "legendgroup": "Warangal Rural",
         "marker": {
          "color": "#FFA15A",
          "symbol": "circle"
         },
         "mode": "markers",
         "name": "Warangal Rural",
         "orientation": "v",
         "showlegend": true,
         "type": "scatter",
         "x": [
          -0.000008551544115508802
         ],
         "xaxis": "x",
         "y": [
          0.0007801681989320842
         ],
         "yaxis": "y"
        },
        {
         "hovertemplate": "Area=Warangal Urban<br>Deviance Scores Amount of Fires=%{x}<br>Deviance Scores Ozon=%{y}<extra></extra>",
         "legendgroup": "Warangal Urban",
         "marker": {
          "color": "#19d3f3",
          "symbol": "circle"
         },
         "mode": "markers",
         "name": "Warangal Urban",
         "orientation": "v",
         "showlegend": true,
         "type": "scatter",
         "x": [
          0.000128618555937
         ],
         "xaxis": "x",
         "y": [
          0.0007933207684244981
         ],
         "yaxis": "y"
        },
        {
         "hovertemplate": "Area=Yadadri Bhuvanagiri<br>Deviance Scores Amount of Fires=%{x}<br>Deviance Scores Ozon=%{y}<extra></extra>",
         "legendgroup": "Yadadri Bhuvanagiri",
         "marker": {
          "color": "#FF6692",
          "symbol": "circle"
         },
         "mode": "markers",
         "name": "Yadadri Bhuvanagiri",
         "orientation": "v",
         "showlegend": true,
         "type": "scatter",
         "x": [
          -0.00006423419089129302
         ],
         "xaxis": "x",
         "y": [
          0.0008344702743857757
         ],
         "yaxis": "y"
        },
        {
         "hovertemplate": "Area=Narayanpet<br>Deviance Scores Amount of Fires=%{x}<br>Deviance Scores Ozon=%{y}<extra></extra>",
         "legendgroup": "Narayanpet",
         "marker": {
          "color": "#B6E880",
          "symbol": "circle"
         },
         "mode": "markers",
         "name": "Narayanpet",
         "orientation": "v",
         "showlegend": true,
         "type": "scatter",
         "x": [
          0.000024723627455510597
         ],
         "xaxis": "x",
         "y": [
          0.0008077272660227158
         ],
         "yaxis": "y"
        },
        {
         "hovertemplate": "Area=Jogulamba Gadwal<br>Deviance Scores Amount of Fires=%{x}<br>Deviance Scores Ozon=%{y}<extra></extra>",
         "legendgroup": "Jogulamba Gadwal",
         "marker": {
          "color": "#FF97FF",
          "symbol": "circle"
         },
         "mode": "markers",
         "name": "Jogulamba Gadwal",
         "orientation": "v",
         "showlegend": true,
         "type": "scatter",
         "x": [
          -0.000004512009435352603
         ],
         "xaxis": "x",
         "y": [
          0.0007539365873635445
         ],
         "yaxis": "y"
        },
        {
         "hovertemplate": "Area=Suryapet<br>Deviance Scores Amount of Fires=%{x}<br>Deviance Scores Ozon=%{y}<extra></extra>",
         "legendgroup": "Suryapet",
         "marker": {
          "color": "#FECB52",
          "symbol": "circle"
         },
         "mode": "markers",
         "name": "Suryapet",
         "orientation": "v",
         "showlegend": true,
         "type": "scatter",
         "x": [
          -0.00005261212269466971
         ],
         "xaxis": "x",
         "y": [
          0.0007072270403859907
         ],
         "yaxis": "y"
        },
        {
         "hovertemplate": "Area=Medchal Malkajgiri<br>Deviance Scores Amount of Fires=%{x}<br>Deviance Scores Ozon=%{y}<extra></extra>",
         "legendgroup": "Medchal Malkajgiri",
         "marker": {
          "color": "#636efa",
          "symbol": "circle"
         },
         "mode": "markers",
         "name": "Medchal Malkajgiri",
         "orientation": "v",
         "showlegend": true,
         "type": "scatter",
         "x": [
          -0.0001347562299189
         ],
         "xaxis": "x",
         "y": [
          0.0006839585289800917
         ],
         "yaxis": "y"
        },
        {
         "hovertemplate": "Area=Adilabad<br>Deviance Scores Amount of Fires=%{x}<br>Deviance Scores Ozon=%{y}<extra></extra>",
         "legendgroup": "Adilabad",
         "marker": {
          "color": "#EF553B",
          "symbol": "circle"
         },
         "mode": "markers",
         "name": "Adilabad",
         "orientation": "v",
         "showlegend": true,
         "type": "scatter",
         "x": [
          0.00000887957799205207
         ],
         "xaxis": "x",
         "y": [
          0.0006393902682548889
         ],
         "yaxis": "y"
        },
        {
         "hovertemplate": "Area=Kumurambheem Asifabad<br>Deviance Scores Amount of Fires=%{x}<br>Deviance Scores Ozon=%{y}<extra></extra>",
         "legendgroup": "Kumurambheem Asifabad",
         "marker": {
          "color": "#00cc96",
          "symbol": "circle"
         },
         "mode": "markers",
         "name": "Kumurambheem Asifabad",
         "orientation": "v",
         "showlegend": true,
         "type": "scatter",
         "x": [
          0.00009504124752745903
         ],
         "xaxis": "x",
         "y": [
          0.0005646446064354602
         ],
         "yaxis": "y"
        },
        {
         "hovertemplate": "Area=Jayashankar Bhupalpally<br>Deviance Scores Amount of Fires=%{x}<br>Deviance Scores Ozon=%{y}<extra></extra>",
         "legendgroup": "Jayashankar Bhupalpally",
         "marker": {
          "color": "#ab63fa",
          "symbol": "circle"
         },
         "mode": "markers",
         "name": "Jayashankar Bhupalpally",
         "orientation": "v",
         "showlegend": true,
         "type": "scatter",
         "x": [
          0.0000019910224268776446
         ],
         "xaxis": "x",
         "y": [
          0.0006503043156253291
         ],
         "yaxis": "y"
        },
        {
         "hovertemplate": "Area=Mahabubnagar<br>Deviance Scores Amount of Fires=%{x}<br>Deviance Scores Ozon=%{y}<extra></extra>",
         "legendgroup": "Mahabubnagar",
         "marker": {
          "color": "#FFA15A",
          "symbol": "circle"
         },
         "mode": "markers",
         "name": "Mahabubnagar",
         "orientation": "v",
         "showlegend": true,
         "type": "scatter",
         "x": [
          -0.000075036844902414
         ],
         "xaxis": "x",
         "y": [
          0.0009076737466971758
         ],
         "yaxis": "y"
        }
       ],
       "layout": {
        "legend": {
         "title": {
          "text": "Area"
         },
         "tracegroupgap": 0
        },
        "template": {
         "data": {
          "bar": [
           {
            "error_x": {
             "color": "#2a3f5f"
            },
            "error_y": {
             "color": "#2a3f5f"
            },
            "marker": {
             "line": {
              "color": "#E5ECF6",
              "width": 0.5
             },
             "pattern": {
              "fillmode": "overlay",
              "size": 10,
              "solidity": 0.2
             }
            },
            "type": "bar"
           }
          ],
          "barpolar": [
           {
            "marker": {
             "line": {
              "color": "#E5ECF6",
              "width": 0.5
             },
             "pattern": {
              "fillmode": "overlay",
              "size": 10,
              "solidity": 0.2
             }
            },
            "type": "barpolar"
           }
          ],
          "carpet": [
           {
            "aaxis": {
             "endlinecolor": "#2a3f5f",
             "gridcolor": "white",
             "linecolor": "white",
             "minorgridcolor": "white",
             "startlinecolor": "#2a3f5f"
            },
            "baxis": {
             "endlinecolor": "#2a3f5f",
             "gridcolor": "white",
             "linecolor": "white",
             "minorgridcolor": "white",
             "startlinecolor": "#2a3f5f"
            },
            "type": "carpet"
           }
          ],
          "choropleth": [
           {
            "colorbar": {
             "outlinewidth": 0,
             "ticks": ""
            },
            "type": "choropleth"
           }
          ],
          "contour": [
           {
            "colorbar": {
             "outlinewidth": 0,
             "ticks": ""
            },
            "colorscale": [
             [
              0,
              "#0d0887"
             ],
             [
              0.1111111111111111,
              "#46039f"
             ],
             [
              0.2222222222222222,
              "#7201a8"
             ],
             [
              0.3333333333333333,
              "#9c179e"
             ],
             [
              0.4444444444444444,
              "#bd3786"
             ],
             [
              0.5555555555555556,
              "#d8576b"
             ],
             [
              0.6666666666666666,
              "#ed7953"
             ],
             [
              0.7777777777777778,
              "#fb9f3a"
             ],
             [
              0.8888888888888888,
              "#fdca26"
             ],
             [
              1,
              "#f0f921"
             ]
            ],
            "type": "contour"
           }
          ],
          "contourcarpet": [
           {
            "colorbar": {
             "outlinewidth": 0,
             "ticks": ""
            },
            "type": "contourcarpet"
           }
          ],
          "heatmap": [
           {
            "colorbar": {
             "outlinewidth": 0,
             "ticks": ""
            },
            "colorscale": [
             [
              0,
              "#0d0887"
             ],
             [
              0.1111111111111111,
              "#46039f"
             ],
             [
              0.2222222222222222,
              "#7201a8"
             ],
             [
              0.3333333333333333,
              "#9c179e"
             ],
             [
              0.4444444444444444,
              "#bd3786"
             ],
             [
              0.5555555555555556,
              "#d8576b"
             ],
             [
              0.6666666666666666,
              "#ed7953"
             ],
             [
              0.7777777777777778,
              "#fb9f3a"
             ],
             [
              0.8888888888888888,
              "#fdca26"
             ],
             [
              1,
              "#f0f921"
             ]
            ],
            "type": "heatmap"
           }
          ],
          "heatmapgl": [
           {
            "colorbar": {
             "outlinewidth": 0,
             "ticks": ""
            },
            "colorscale": [
             [
              0,
              "#0d0887"
             ],
             [
              0.1111111111111111,
              "#46039f"
             ],
             [
              0.2222222222222222,
              "#7201a8"
             ],
             [
              0.3333333333333333,
              "#9c179e"
             ],
             [
              0.4444444444444444,
              "#bd3786"
             ],
             [
              0.5555555555555556,
              "#d8576b"
             ],
             [
              0.6666666666666666,
              "#ed7953"
             ],
             [
              0.7777777777777778,
              "#fb9f3a"
             ],
             [
              0.8888888888888888,
              "#fdca26"
             ],
             [
              1,
              "#f0f921"
             ]
            ],
            "type": "heatmapgl"
           }
          ],
          "histogram": [
           {
            "marker": {
             "pattern": {
              "fillmode": "overlay",
              "size": 10,
              "solidity": 0.2
             }
            },
            "type": "histogram"
           }
          ],
          "histogram2d": [
           {
            "colorbar": {
             "outlinewidth": 0,
             "ticks": ""
            },
            "colorscale": [
             [
              0,
              "#0d0887"
             ],
             [
              0.1111111111111111,
              "#46039f"
             ],
             [
              0.2222222222222222,
              "#7201a8"
             ],
             [
              0.3333333333333333,
              "#9c179e"
             ],
             [
              0.4444444444444444,
              "#bd3786"
             ],
             [
              0.5555555555555556,
              "#d8576b"
             ],
             [
              0.6666666666666666,
              "#ed7953"
             ],
             [
              0.7777777777777778,
              "#fb9f3a"
             ],
             [
              0.8888888888888888,
              "#fdca26"
             ],
             [
              1,
              "#f0f921"
             ]
            ],
            "type": "histogram2d"
           }
          ],
          "histogram2dcontour": [
           {
            "colorbar": {
             "outlinewidth": 0,
             "ticks": ""
            },
            "colorscale": [
             [
              0,
              "#0d0887"
             ],
             [
              0.1111111111111111,
              "#46039f"
             ],
             [
              0.2222222222222222,
              "#7201a8"
             ],
             [
              0.3333333333333333,
              "#9c179e"
             ],
             [
              0.4444444444444444,
              "#bd3786"
             ],
             [
              0.5555555555555556,
              "#d8576b"
             ],
             [
              0.6666666666666666,
              "#ed7953"
             ],
             [
              0.7777777777777778,
              "#fb9f3a"
             ],
             [
              0.8888888888888888,
              "#fdca26"
             ],
             [
              1,
              "#f0f921"
             ]
            ],
            "type": "histogram2dcontour"
           }
          ],
          "mesh3d": [
           {
            "colorbar": {
             "outlinewidth": 0,
             "ticks": ""
            },
            "type": "mesh3d"
           }
          ],
          "parcoords": [
           {
            "line": {
             "colorbar": {
              "outlinewidth": 0,
              "ticks": ""
             }
            },
            "type": "parcoords"
           }
          ],
          "pie": [
           {
            "automargin": true,
            "type": "pie"
           }
          ],
          "scatter": [
           {
            "marker": {
             "colorbar": {
              "outlinewidth": 0,
              "ticks": ""
             }
            },
            "type": "scatter"
           }
          ],
          "scatter3d": [
           {
            "line": {
             "colorbar": {
              "outlinewidth": 0,
              "ticks": ""
             }
            },
            "marker": {
             "colorbar": {
              "outlinewidth": 0,
              "ticks": ""
             }
            },
            "type": "scatter3d"
           }
          ],
          "scattercarpet": [
           {
            "marker": {
             "colorbar": {
              "outlinewidth": 0,
              "ticks": ""
             }
            },
            "type": "scattercarpet"
           }
          ],
          "scattergeo": [
           {
            "marker": {
             "colorbar": {
              "outlinewidth": 0,
              "ticks": ""
             }
            },
            "type": "scattergeo"
           }
          ],
          "scattergl": [
           {
            "marker": {
             "colorbar": {
              "outlinewidth": 0,
              "ticks": ""
             }
            },
            "type": "scattergl"
           }
          ],
          "scattermapbox": [
           {
            "marker": {
             "colorbar": {
              "outlinewidth": 0,
              "ticks": ""
             }
            },
            "type": "scattermapbox"
           }
          ],
          "scatterpolar": [
           {
            "marker": {
             "colorbar": {
              "outlinewidth": 0,
              "ticks": ""
             }
            },
            "type": "scatterpolar"
           }
          ],
          "scatterpolargl": [
           {
            "marker": {
             "colorbar": {
              "outlinewidth": 0,
              "ticks": ""
             }
            },
            "type": "scatterpolargl"
           }
          ],
          "scatterternary": [
           {
            "marker": {
             "colorbar": {
              "outlinewidth": 0,
              "ticks": ""
             }
            },
            "type": "scatterternary"
           }
          ],
          "surface": [
           {
            "colorbar": {
             "outlinewidth": 0,
             "ticks": ""
            },
            "colorscale": [
             [
              0,
              "#0d0887"
             ],
             [
              0.1111111111111111,
              "#46039f"
             ],
             [
              0.2222222222222222,
              "#7201a8"
             ],
             [
              0.3333333333333333,
              "#9c179e"
             ],
             [
              0.4444444444444444,
              "#bd3786"
             ],
             [
              0.5555555555555556,
              "#d8576b"
             ],
             [
              0.6666666666666666,
              "#ed7953"
             ],
             [
              0.7777777777777778,
              "#fb9f3a"
             ],
             [
              0.8888888888888888,
              "#fdca26"
             ],
             [
              1,
              "#f0f921"
             ]
            ],
            "type": "surface"
           }
          ],
          "table": [
           {
            "cells": {
             "fill": {
              "color": "#EBF0F8"
             },
             "line": {
              "color": "white"
             }
            },
            "header": {
             "fill": {
              "color": "#C8D4E3"
             },
             "line": {
              "color": "white"
             }
            },
            "type": "table"
           }
          ]
         },
         "layout": {
          "annotationdefaults": {
           "arrowcolor": "#2a3f5f",
           "arrowhead": 0,
           "arrowwidth": 1
          },
          "autotypenumbers": "strict",
          "coloraxis": {
           "colorbar": {
            "outlinewidth": 0,
            "ticks": ""
           }
          },
          "colorscale": {
           "diverging": [
            [
             0,
             "#8e0152"
            ],
            [
             0.1,
             "#c51b7d"
            ],
            [
             0.2,
             "#de77ae"
            ],
            [
             0.3,
             "#f1b6da"
            ],
            [
             0.4,
             "#fde0ef"
            ],
            [
             0.5,
             "#f7f7f7"
            ],
            [
             0.6,
             "#e6f5d0"
            ],
            [
             0.7,
             "#b8e186"
            ],
            [
             0.8,
             "#7fbc41"
            ],
            [
             0.9,
             "#4d9221"
            ],
            [
             1,
             "#276419"
            ]
           ],
           "sequential": [
            [
             0,
             "#0d0887"
            ],
            [
             0.1111111111111111,
             "#46039f"
            ],
            [
             0.2222222222222222,
             "#7201a8"
            ],
            [
             0.3333333333333333,
             "#9c179e"
            ],
            [
             0.4444444444444444,
             "#bd3786"
            ],
            [
             0.5555555555555556,
             "#d8576b"
            ],
            [
             0.6666666666666666,
             "#ed7953"
            ],
            [
             0.7777777777777778,
             "#fb9f3a"
            ],
            [
             0.8888888888888888,
             "#fdca26"
            ],
            [
             1,
             "#f0f921"
            ]
           ],
           "sequentialminus": [
            [
             0,
             "#0d0887"
            ],
            [
             0.1111111111111111,
             "#46039f"
            ],
            [
             0.2222222222222222,
             "#7201a8"
            ],
            [
             0.3333333333333333,
             "#9c179e"
            ],
            [
             0.4444444444444444,
             "#bd3786"
            ],
            [
             0.5555555555555556,
             "#d8576b"
            ],
            [
             0.6666666666666666,
             "#ed7953"
            ],
            [
             0.7777777777777778,
             "#fb9f3a"
            ],
            [
             0.8888888888888888,
             "#fdca26"
            ],
            [
             1,
             "#f0f921"
            ]
           ]
          },
          "colorway": [
           "#636efa",
           "#EF553B",
           "#00cc96",
           "#ab63fa",
           "#FFA15A",
           "#19d3f3",
           "#FF6692",
           "#B6E880",
           "#FF97FF",
           "#FECB52"
          ],
          "font": {
           "color": "#2a3f5f"
          },
          "geo": {
           "bgcolor": "white",
           "lakecolor": "white",
           "landcolor": "#E5ECF6",
           "showlakes": true,
           "showland": true,
           "subunitcolor": "white"
          },
          "hoverlabel": {
           "align": "left"
          },
          "hovermode": "closest",
          "mapbox": {
           "style": "light"
          },
          "paper_bgcolor": "white",
          "plot_bgcolor": "#E5ECF6",
          "polar": {
           "angularaxis": {
            "gridcolor": "white",
            "linecolor": "white",
            "ticks": ""
           },
           "bgcolor": "#E5ECF6",
           "radialaxis": {
            "gridcolor": "white",
            "linecolor": "white",
            "ticks": ""
           }
          },
          "scene": {
           "xaxis": {
            "backgroundcolor": "#E5ECF6",
            "gridcolor": "white",
            "gridwidth": 2,
            "linecolor": "white",
            "showbackground": true,
            "ticks": "",
            "zerolinecolor": "white"
           },
           "yaxis": {
            "backgroundcolor": "#E5ECF6",
            "gridcolor": "white",
            "gridwidth": 2,
            "linecolor": "white",
            "showbackground": true,
            "ticks": "",
            "zerolinecolor": "white"
           },
           "zaxis": {
            "backgroundcolor": "#E5ECF6",
            "gridcolor": "white",
            "gridwidth": 2,
            "linecolor": "white",
            "showbackground": true,
            "ticks": "",
            "zerolinecolor": "white"
           }
          },
          "shapedefaults": {
           "line": {
            "color": "#2a3f5f"
           }
          },
          "ternary": {
           "aaxis": {
            "gridcolor": "white",
            "linecolor": "white",
            "ticks": ""
           },
           "baxis": {
            "gridcolor": "white",
            "linecolor": "white",
            "ticks": ""
           },
           "bgcolor": "#E5ECF6",
           "caxis": {
            "gridcolor": "white",
            "linecolor": "white",
            "ticks": ""
           }
          },
          "title": {
           "x": 0.05
          },
          "xaxis": {
           "automargin": true,
           "gridcolor": "white",
           "linecolor": "white",
           "ticks": "",
           "title": {
            "standoff": 15
           },
           "zerolinecolor": "white",
           "zerolinewidth": 2
          },
          "yaxis": {
           "automargin": true,
           "gridcolor": "white",
           "linecolor": "white",
           "ticks": "",
           "title": {
            "standoff": 15
           },
           "zerolinecolor": "white",
           "zerolinewidth": 2
          }
         }
        },
        "title": {
         "text": "Relation Between Ozon and Amount of Fires Changes over the Years 2015-2021"
        },
        "xaxis": {
         "anchor": "y",
         "domain": [
          0,
          1
         ],
         "title": {
          "text": "Deviance Scores Amount of Fires"
         }
        },
        "yaxis": {
         "anchor": "x",
         "domain": [
          0,
          1
         ],
         "title": {
          "text": "Deviance Scores Ozon"
         }
        }
       }
      }
     },
     "metadata": {},
     "output_type": "display_data"
    },
    {
     "name": "stdout",
     "output_type": "stream",
     "text": [
      "Pearsons correlation: -0.204\n"
     ]
    },
    {
     "data": {
      "text/plain": [
       "()"
      ]
     },
     "execution_count": 5,
     "metadata": {},
     "output_type": "execute_result"
    }
   ],
   "source": [
    "os.chdir('c:\\\\Users\\\\Jesse\\\\OneDrive\\\\Documenten\\\\Master BAOR\\\\Thesis\\\\GitHub\\\\dicra\\\\analytics\\\\sandbox\\\\notebooks\\\\crop_fires\\\\DPPD_Jesse\\\\Ozon')\n",
    "Ozon_df = pd.read_csv('Ozon_years_district.csv', index_col=0)\n",
    "correlation(Ozon_df, 2021, 'Ozon', district_boundaries, 'Dist_Name')"
   ]
  },
  {
   "cell_type": "code",
   "execution_count": 7,
   "metadata": {},
   "outputs": [
    {
     "name": "stderr",
     "output_type": "stream",
     "text": [
      "c:\\Users\\Jesse\\Anaconda3\\envs\\gurobi\\lib\\site-packages\\pyproj\\crs\\crs.py:53: FutureWarning:\n",
      "\n",
      "'+init=<authority>:<code>' syntax is deprecated. '<authority>:<code>' is the preferred initialization method. When making the change, be mindful of axis order changes: https://pyproj4.github.io/pyproj/stable/gotchas.html#axis-order-changes-in-proj-6\n",
      "\n"
     ]
    },
    {
     "data": {
      "image/png": "[encoded data removed]",
      "text/plain": [
       "<Figure size 640x480 with 1 Axes>"
      ]
     },
     "metadata": {},
     "output_type": "display_data"
    },
    {
     "data": {
      "image/png": "[encoded data removed]",
      "text/plain": [
       "<Figure size 2000x1000 with 2 Axes>"
      ]
     },
     "metadata": {},
     "output_type": "display_data"
    },
    {
     "data": {
      "application/vnd.plotly.v1+json": {
       "config": {
        "plotlyServerURL": "https://plot.ly"
       },
       "data": [
        {
         "hovertemplate": "Area=Abdullapurmet<br>Deviance Scores Amount of Fires=%{x}<br>Deviance Scores Ozon=%{y}<extra></extra>",
         "legendgroup": "Abdullapurmet",
         "marker": {
          "color": "#636efa",
          "symbol": "circle"
         },
         "mode": "markers",
         "name": "Abdullapurmet",
         "orientation": "v",
         "showlegend": true,
         "type": "scatter",
         "x": [
          -0.00003904194030099539
         ],
         "xaxis": "x",
         "y": [
          0.0006736987122394012
         ],
         "yaxis": "y"
        },
        {
         "hovertemplate": "Area=Addagudur<br>Deviance Scores Amount of Fires=%{x}<br>Deviance Scores Ozon=%{y}<extra></extra>",
         "legendgroup": "Addagudur",
         "marker": {
          "color": "#EF553B",
          "symbol": "circle"
         },
         "mode": "markers",
         "name": "Addagudur",
         "orientation": "v",
         "showlegend": true,
         "type": "scatter",
         "x": [
          0.00007702679402203895
         ],
         "xaxis": "x",
         "y": [
          0.0008611235170715483
         ],
         "yaxis": "y"
        },
        {
         "hovertemplate": "Area=Adilabad Rural<br>Deviance Scores Amount of Fires=%{x}<br>Deviance Scores Ozon=%{y}<extra></extra>",
         "legendgroup": "Adilabad Rural",
         "marker": {
          "color": "#00cc96",
          "symbol": "circle"
         },
         "mode": "markers",
         "name": "Adilabad Rural",
         "orientation": "v",
         "showlegend": true,
         "type": "scatter",
         "x": [
          -0.00001465475629417234
         ],
         "xaxis": "x",
         "y": [
          0.0007530046390896199
         ],
         "yaxis": "y"
        },
        {
         "hovertemplate": "Area=Alair<br>Deviance Scores Amount of Fires=%{x}<br>Deviance Scores Ozon=%{y}<extra></extra>",
         "legendgroup": "Alair",
         "marker": {
          "color": "#ab63fa",
          "symbol": "circle"
         },
         "mode": "markers",
         "name": "Alair",
         "orientation": "v",
         "showlegend": true,
         "type": "scatter",
         "x": [
          0.00002666614412205709
         ],
         "xaxis": "x",
         "y": [
          0.0008725148314043063
         ],
         "yaxis": "y"
        },
        {
         "hovertemplate": "Area=Alampur<br>Deviance Scores Amount of Fires=%{x}<br>Deviance Scores Ozon=%{y}<extra></extra>",
         "legendgroup": "Alampur",
         "marker": {
          "color": "#FFA15A",
          "symbol": "circle"
         },
         "mode": "markers",
         "name": "Alampur",
         "orientation": "v",
         "showlegend": true,
         "type": "scatter",
         "x": [
          0.000020697297194972982
         ],
         "xaxis": "x",
         "y": [
          0.0008823688183055138
         ],
         "yaxis": "y"
        },
        {
         "hovertemplate": "Area=Allapalli<br>Deviance Scores Amount of Fires=%{x}<br>Deviance Scores Ozon=%{y}<extra></extra>",
         "legendgroup": "Allapalli",
         "marker": {
          "color": "#19d3f3",
          "symbol": "circle"
         },
         "mode": "markers",
         "name": "Allapalli",
         "orientation": "v",
         "showlegend": true,
         "type": "scatter",
         "x": [
          -0.0000151779323594159
         ],
         "xaxis": "x",
         "y": [
          0.0010602572196277366
         ],
         "yaxis": "y"
        },
        {
         "hovertemplate": "Area=Amrabad<br>Deviance Scores Amount of Fires=%{x}<br>Deviance Scores Ozon=%{y}<extra></extra>",
         "legendgroup": "Amrabad",
         "marker": {
          "color": "#FF6692",
          "symbol": "circle"
         },
         "mode": "markers",
         "name": "Amrabad",
         "orientation": "v",
         "showlegend": true,
         "type": "scatter",
         "x": [
          0.00002612444171694199
         ],
         "xaxis": "x",
         "y": [
          0.000748973757580363
         ],
         "yaxis": "y"
        },
        {
         "hovertemplate": "Area=Asifabad<br>Deviance Scores Amount of Fires=%{x}<br>Deviance Scores Ozon=%{y}<extra></extra>",
         "legendgroup": "Asifabad",
         "marker": {
          "color": "#B6E880",
          "symbol": "circle"
         },
         "mode": "markers",
         "name": "Asifabad",
         "orientation": "v",
         "showlegend": true,
         "type": "scatter",
         "x": [
          -0.000004512009435352603
         ],
         "xaxis": "x",
         "y": [
          0.0005315478143453947
         ],
         "yaxis": "y"
        },
        {
         "hovertemplate": "Area=Aswapuram<br>Deviance Scores Amount of Fires=%{x}<br>Deviance Scores Ozon=%{y}<extra></extra>",
         "legendgroup": "Aswapuram",
         "marker": {
          "color": "#FF97FF",
          "symbol": "circle"
         },
         "mode": "markers",
         "name": "Aswapuram",
         "orientation": "v",
         "showlegend": true,
         "type": "scatter",
         "x": [
          -0.00005261212269466971
         ],
         "xaxis": "x",
         "y": [
          0.0009560305057093947
         ],
         "yaxis": "y"
        },
        {
         "hovertemplate": "Area=Aswaraopeta<br>Deviance Scores Amount of Fires=%{x}<br>Deviance Scores Ozon=%{y}<extra></extra>",
         "legendgroup": "Aswaraopeta",
         "marker": {
          "color": "#FECB52",
          "symbol": "circle"
         },
         "mode": "markers",
         "name": "Aswaraopeta",
         "orientation": "v",
         "showlegend": true,
         "type": "scatter",
         "x": [
          -0.0001347562299189
         ],
         "xaxis": "x",
         "y": [
          0.0009445569331761045
         ],
         "yaxis": "y"
        },
        {
         "hovertemplate": "Area=B.Pochampally<br>Deviance Scores Amount of Fires=%{x}<br>Deviance Scores Ozon=%{y}<extra></extra>",
         "legendgroup": "B.Pochampally",
         "marker": {
          "color": "#636efa",
          "symbol": "circle"
         },
         "mode": "markers",
         "name": "B.Pochampally",
         "orientation": "v",
         "showlegend": true,
         "type": "scatter",
         "x": [
          -0.000075036844902414
         ],
         "xaxis": "x",
         "y": [
          0.0007938774418649502
         ],
         "yaxis": "y"
        },
        {
         "hovertemplate": "Area=Balkonda<br>Deviance Scores Amount of Fires=%{x}<br>Deviance Scores Ozon=%{y}<extra></extra>",
         "legendgroup": "Balkonda",
         "marker": {
          "color": "#EF553B",
          "symbol": "circle"
         },
         "mode": "markers",
         "name": "Balkonda",
         "orientation": "v",
         "showlegend": true,
         "type": "scatter",
         "x": [
          0.000015911049457220126
         ],
         "xaxis": "x",
         "y": [
          0.0006004696983758815
         ],
         "yaxis": "y"
        },
        {
         "hovertemplate": "Area=Balmoor<br>Deviance Scores Amount of Fires=%{x}<br>Deviance Scores Ozon=%{y}<extra></extra>",
         "legendgroup": "Balmoor",
         "marker": {
          "color": "#00cc96",
          "symbol": "circle"
         },
         "mode": "markers",
         "name": "Balmoor",
         "orientation": "v",
         "showlegend": true,
         "type": "scatter",
         "x": [
          -0.000031464312862038064
         ],
         "xaxis": "x",
         "y": [
          0.00076677611587804
         ],
         "yaxis": "y"
        },
        {
         "hovertemplate": "Area=Banswada<br>Deviance Scores Amount of Fires=%{x}<br>Deviance Scores Ozon=%{y}<extra></extra>",
         "legendgroup": "Banswada",
         "marker": {
          "color": "#ab63fa",
          "symbol": "circle"
         },
         "mode": "markers",
         "name": "Banswada",
         "orientation": "v",
         "showlegend": true,
         "type": "scatter",
         "x": [
          0.00001939849055080577
         ],
         "xaxis": "x",
         "y": [
          0.000667975088258564
         ],
         "yaxis": "y"
        },
        {
         "hovertemplate": "Area=Bayyaram<br>Deviance Scores Amount of Fires=%{x}<br>Deviance Scores Ozon=%{y}<extra></extra>",
         "legendgroup": "Bayyaram",
         "marker": {
          "color": "#FFA15A",
          "symbol": "circle"
         },
         "mode": "markers",
         "name": "Bayyaram",
         "orientation": "v",
         "showlegend": true,
         "type": "scatter",
         "x": [
          -0.0003129681195003
         ],
         "xaxis": "x",
         "y": [
          0.0006807006866710256
         ],
         "yaxis": "y"
        },
        {
         "hovertemplate": "Area=Bejjur<br>Deviance Scores Amount of Fires=%{x}<br>Deviance Scores Ozon=%{y}<extra></extra>",
         "legendgroup": "Bejjur",
         "marker": {
          "color": "#19d3f3",
          "symbol": "circle"
         },
         "mode": "markers",
         "name": "Bejjur",
         "orientation": "v",
         "showlegend": true,
         "type": "scatter",
         "x": [
          0.000022012304247333523
         ],
         "xaxis": "x",
         "y": [
          0.000571269357931507
         ],
         "yaxis": "y"
        },
        {
         "hovertemplate": "Area=Bheempoor<br>Deviance Scores Amount of Fires=%{x}<br>Deviance Scores Ozon=%{y}<extra></extra>",
         "legendgroup": "Bheempoor",
         "marker": {
          "color": "#FF6692",
          "symbol": "circle"
         },
         "mode": "markers",
         "name": "Bheempoor",
         "orientation": "v",
         "showlegend": true,
         "type": "scatter",
         "x": [
          0.00000979224193981311
         ],
         "xaxis": "x",
         "y": [
          0.0006658282428240419
         ],
         "yaxis": "y"
        },
        {
         "hovertemplate": "Area=Bhoothpur<br>Deviance Scores Amount of Fires=%{x}<br>Deviance Scores Ozon=%{y}<extra></extra>",
         "legendgroup": "Bhoothpur",
         "marker": {
          "color": "#B6E880",
          "symbol": "circle"
         },
         "mode": "markers",
         "name": "Bhoothpur",
         "orientation": "v",
         "showlegend": true,
         "type": "scatter",
         "x": [
          -0.00005388557230328491
         ],
         "xaxis": "x",
         "y": [
          0.0007707790880073324
         ],
         "yaxis": "y"
        },
        {
         "hovertemplate": "Area=Boath<br>Deviance Scores Amount of Fires=%{x}<br>Deviance Scores Ozon=%{y}<extra></extra>",
         "legendgroup": "Boath",
         "marker": {
          "color": "#FF97FF",
          "symbol": "circle"
         },
         "mode": "markers",
         "name": "Boath",
         "orientation": "v",
         "showlegend": true,
         "type": "scatter",
         "x": [
          -0.000038656931482939125
         ],
         "xaxis": "x",
         "y": [
          0.0006238384920476344
         ],
         "yaxis": "y"
        },
        {
         "hovertemplate": "Area=Buggaram<br>Deviance Scores Amount of Fires=%{x}<br>Deviance Scores Ozon=%{y}<extra></extra>",
         "legendgroup": "Buggaram",
         "marker": {
          "color": "#FECB52",
          "symbol": "circle"
         },
         "mode": "markers",
         "name": "Buggaram",
         "orientation": "v",
         "showlegend": true,
         "type": "scatter",
         "x": [
          -0.0000409741370278184
         ],
         "xaxis": "x",
         "y": [
          0.0006015537414543728
         ],
         "yaxis": "y"
        },
        {
         "hovertemplate": "Area=Chandrugonda<br>Deviance Scores Amount of Fires=%{x}<br>Deviance Scores Ozon=%{y}<extra></extra>",
         "legendgroup": "Chandrugonda",
         "marker": {
          "color": "#636efa",
          "symbol": "circle"
         },
         "mode": "markers",
         "name": "Chandrugonda",
         "orientation": "v",
         "showlegend": true,
         "type": "scatter",
         "x": [
          -0.000014043345561058767
         ],
         "xaxis": "x",
         "y": [
          0.0009550628546343643
         ],
         "yaxis": "y"
        },
        {
         "hovertemplate": "Area=Chennaraopet<br>Deviance Scores Amount of Fires=%{x}<br>Deviance Scores Ozon=%{y}<extra></extra>",
         "legendgroup": "Chennaraopet",
         "marker": {
          "color": "#EF553B",
          "symbol": "circle"
         },
         "mode": "markers",
         "name": "Chennaraopet",
         "orientation": "v",
         "showlegend": true,
         "type": "scatter",
         "x": [
          0.000047866746645490734
         ],
         "xaxis": "x",
         "y": [
          0.0007376306974248904
         ],
         "yaxis": "y"
        },
        {
         "hovertemplate": "Area=Cherla<br>Deviance Scores Amount of Fires=%{x}<br>Deviance Scores Ozon=%{y}<extra></extra>",
         "legendgroup": "Cherla",
         "marker": {
          "color": "#00cc96",
          "symbol": "circle"
         },
         "mode": "markers",
         "name": "Cherla",
         "orientation": "v",
         "showlegend": true,
         "type": "scatter",
         "x": [
          -0.00003260633048153487
         ],
         "xaxis": "x",
         "y": [
          0.0009734538000143288
         ],
         "yaxis": "y"
        },
        {
         "hovertemplate": "Area=Choppadandi<br>Deviance Scores Amount of Fires=%{x}<br>Deviance Scores Ozon=%{y}<extra></extra>",
         "legendgroup": "Choppadandi",
         "marker": {
          "color": "#ab63fa",
          "symbol": "circle"
         },
         "mode": "markers",
         "name": "Choppadandi",
         "orientation": "v",
         "showlegend": true,
         "type": "scatter",
         "x": [
          0.0001866136126838
         ],
         "xaxis": "x",
         "y": [
          0.0006358271420559438
         ],
         "yaxis": "y"
        },
        {
         "hovertemplate": "Area=Damera<br>Deviance Scores Amount of Fires=%{x}<br>Deviance Scores Ozon=%{y}<extra></extra>",
         "legendgroup": "Damera",
         "marker": {
          "color": "#FFA15A",
          "symbol": "circle"
         },
         "mode": "markers",
         "name": "Damera",
         "orientation": "v",
         "showlegend": true,
         "type": "scatter",
         "x": [
          -0.000019605896355022808
         ],
         "xaxis": "x",
         "y": [
          0.0007740154097374201
         ],
         "yaxis": "y"
        },
        {
         "hovertemplate": "Area=Devarakonda<br>Deviance Scores Amount of Fires=%{x}<br>Deviance Scores Ozon=%{y}<extra></extra>",
         "legendgroup": "Devarakonda",
         "marker": {
          "color": "#19d3f3",
          "symbol": "circle"
         },
         "mode": "markers",
         "name": "Devarakonda",
         "orientation": "v",
         "showlegend": true,
         "type": "scatter",
         "x": [
          0.00005749405656366281
         ],
         "xaxis": "x",
         "y": [
          0.0007886261969745733
         ],
         "yaxis": "y"
        },
        {
         "hovertemplate": "Area=Devarkadra<br>Deviance Scores Amount of Fires=%{x}<br>Deviance Scores Ozon=%{y}<extra></extra>",
         "legendgroup": "Devarkadra",
         "marker": {
          "color": "#FF6692",
          "symbol": "circle"
         },
         "mode": "markers",
         "name": "Devarkadra",
         "orientation": "v",
         "showlegend": true,
         "type": "scatter",
         "x": [
          0.00007825755259941895
         ],
         "xaxis": "x",
         "y": [
          0.000923982487010617
         ],
         "yaxis": "y"
        },
        {
         "hovertemplate": "Area=Devaruppula<br>Deviance Scores Amount of Fires=%{x}<br>Deviance Scores Ozon=%{y}<extra></extra>",
         "legendgroup": "Devaruppula",
         "marker": {
          "color": "#B6E880",
          "symbol": "circle"
         },
         "mode": "markers",
         "name": "Devaruppula",
         "orientation": "v",
         "showlegend": true,
         "type": "scatter",
         "x": [
          0.00002599279567009284
         ],
         "xaxis": "x",
         "y": [
          0.000806905578535438
         ],
         "yaxis": "y"
        },
        {
         "hovertemplate": "Area=Dharpally<br>Deviance Scores Amount of Fires=%{x}<br>Deviance Scores Ozon=%{y}<extra></extra>",
         "legendgroup": "Dharpally",
         "marker": {
          "color": "#FF97FF",
          "symbol": "circle"
         },
         "mode": "markers",
         "name": "Dharpally",
         "orientation": "v",
         "showlegend": true,
         "type": "scatter",
         "x": [
          0.0000015129727162137844
         ],
         "xaxis": "x",
         "y": [
          0.0005954706910377556
         ],
         "yaxis": "y"
        },
        {
         "hovertemplate": "Area=Dubbak<br>Deviance Scores Amount of Fires=%{x}<br>Deviance Scores Ozon=%{y}<extra></extra>",
         "legendgroup": "Dubbak",
         "marker": {
          "color": "#FECB52",
          "symbol": "circle"
         },
         "mode": "markers",
         "name": "Dubbak",
         "orientation": "v",
         "showlegend": true,
         "type": "scatter",
         "x": [
          -0.00008127562409694963
         ],
         "xaxis": "x",
         "y": [
          0.000773963010257713
         ],
         "yaxis": "y"
        },
        {
         "hovertemplate": "Area=Elkathurthi<br>Deviance Scores Amount of Fires=%{x}<br>Deviance Scores Ozon=%{y}<extra></extra>",
         "legendgroup": "Elkathurthi",
         "marker": {
          "color": "#636efa",
          "symbol": "circle"
         },
         "mode": "markers",
         "name": "Elkathurthi",
         "orientation": "v",
         "showlegend": true,
         "type": "scatter",
         "x": [
          0.000027523900402079844
         ],
         "xaxis": "x",
         "y": [
          0.0006853862247199474
         ],
         "yaxis": "y"
        },
        {
         "hovertemplate": "Area=Enkoor<br>Deviance Scores Amount of Fires=%{x}<br>Deviance Scores Ozon=%{y}<extra></extra>",
         "legendgroup": "Enkoor",
         "marker": {
          "color": "#EF553B",
          "symbol": "circle"
         },
         "mode": "markers",
         "name": "Enkoor",
         "orientation": "v",
         "showlegend": true,
         "type": "scatter",
         "x": [
          0.00004678123016103791
         ],
         "xaxis": "x",
         "y": [
          0.00094243887499273
         ],
         "yaxis": "y"
        },
        {
         "hovertemplate": "Area=Eturnagaram<br>Deviance Scores Amount of Fires=%{x}<br>Deviance Scores Ozon=%{y}<extra></extra>",
         "legendgroup": "Eturnagaram",
         "marker": {
          "color": "#00cc96",
          "symbol": "circle"
         },
         "mode": "markers",
         "name": "Eturnagaram",
         "orientation": "v",
         "showlegend": true,
         "type": "scatter",
         "x": [
          -0.0001921335410768
         ],
         "xaxis": "x",
         "y": [
          0.000959053514746259
         ],
         "yaxis": "y"
        },
        {
         "hovertemplate": "Area=Gandhari<br>Deviance Scores Amount of Fires=%{x}<br>Deviance Scores Ozon=%{y}<extra></extra>",
         "legendgroup": "Gandhari",
         "marker": {
          "color": "#ab63fa",
          "symbol": "circle"
         },
         "mode": "markers",
         "name": "Gandhari",
         "orientation": "v",
         "showlegend": true,
         "type": "scatter",
         "x": [
          0.00007148932942127725
         ],
         "xaxis": "x",
         "y": [
          0.0006268036956585521
         ],
         "yaxis": "y"
        },
        {
         "hovertemplate": "Area=Ghanapur_Mulug<br>Deviance Scores Amount of Fires=%{x}<br>Deviance Scores Ozon=%{y}<extra></extra>",
         "legendgroup": "Ghanapur_Mulug",
         "marker": {
          "color": "#FFA15A",
          "symbol": "circle"
         },
         "mode": "markers",
         "name": "Ghanapur_Mulug",
         "orientation": "v",
         "showlegend": true,
         "type": "scatter",
         "x": [
          -0.0002605550167632
         ],
         "xaxis": "x",
         "y": [
          0.0005646774979241567
         ],
         "yaxis": "y"
        },
        {
         "hovertemplate": "Area=Ghanpur (Stn)<br>Deviance Scores Amount of Fires=%{x}<br>Deviance Scores Ozon=%{y}<extra></extra>",
         "legendgroup": "Ghanpur (Stn)",
         "marker": {
          "color": "#19d3f3",
          "symbol": "circle"
         },
         "mode": "markers",
         "name": "Ghanpur (Stn)",
         "orientation": "v",
         "showlegend": true,
         "type": "scatter",
         "x": [
          2.3737293855997e-7
         ],
         "xaxis": "x",
         "y": [
          0.0008212651748869736
         ],
         "yaxis": "y"
        },
        {
         "hovertemplate": "Area=Ghattu<br>Deviance Scores Amount of Fires=%{x}<br>Deviance Scores Ozon=%{y}<extra></extra>",
         "legendgroup": "Ghattu",
         "marker": {
          "color": "#FF6692",
          "symbol": "circle"
         },
         "mode": "markers",
         "name": "Ghattu",
         "orientation": "v",
         "showlegend": true,
         "type": "scatter",
         "x": [
          0.000006040587210744618
         ],
         "xaxis": "x",
         "y": [
          0.0006606665432862149
         ],
         "yaxis": "y"
        },
        {
         "hovertemplate": "Area=Gummadidala<br>Deviance Scores Amount of Fires=%{x}<br>Deviance Scores Ozon=%{y}<extra></extra>",
         "legendgroup": "Gummadidala",
         "marker": {
          "color": "#B6E880",
          "symbol": "circle"
         },
         "mode": "markers",
         "name": "Gummadidala",
         "orientation": "v",
         "showlegend": true,
         "type": "scatter",
         "x": [
          -0.00001862011293099404
         ],
         "xaxis": "x",
         "y": [
          0.0007131317301334691
         ],
         "yaxis": "y"
        },
        {
         "hovertemplate": "Area=Gundala<br>Deviance Scores Amount of Fires=%{x}<br>Deviance Scores Ozon=%{y}<extra></extra>",
         "legendgroup": "Gundala",
         "marker": {
          "color": "#FF97FF",
          "symbol": "circle"
         },
         "mode": "markers",
         "name": "Gundala",
         "orientation": "v",
         "showlegend": true,
         "type": "scatter",
         "x": [
          -0.0005573034548833
         ],
         "xaxis": "x",
         "y": [
          0.000921634642732427
         ],
         "yaxis": "y"
        },
        {
         "hovertemplate": "Area=Gurrampode<br>Deviance Scores Amount of Fires=%{x}<br>Deviance Scores Ozon=%{y}<extra></extra>",
         "legendgroup": "Gurrampode",
         "marker": {
          "color": "#FECB52",
          "symbol": "circle"
         },
         "mode": "markers",
         "name": "Gurrampode",
         "orientation": "v",
         "showlegend": true,
         "type": "scatter",
         "x": [
          0.000003918470083062929
         ],
         "xaxis": "x",
         "y": [
          0.0007788367970577567
         ],
         "yaxis": "y"
        },
        {
         "hovertemplate": "Area=Hajipur<br>Deviance Scores Amount of Fires=%{x}<br>Deviance Scores Ozon=%{y}<extra></extra>",
         "legendgroup": "Hajipur",
         "marker": {
          "color": "#636efa",
          "symbol": "circle"
         },
         "mode": "markers",
         "name": "Hajipur",
         "orientation": "v",
         "showlegend": true,
         "type": "scatter",
         "x": [
          -0.00000988712134653139
         ],
         "xaxis": "x",
         "y": [
          0.000736902960277683
         ],
         "yaxis": "y"
        },
        {
         "hovertemplate": "Area=Huzur nagar<br>Deviance Scores Amount of Fires=%{x}<br>Deviance Scores Ozon=%{y}<extra></extra>",
         "legendgroup": "Huzur nagar",
         "marker": {
          "color": "#EF553B",
          "symbol": "circle"
         },
         "mode": "markers",
         "name": "Huzur nagar",
         "orientation": "v",
         "showlegend": true,
         "type": "scatter",
         "x": [
          -0.0001271187345737
         ],
         "xaxis": "x",
         "y": [
          0.0006682550178521902
         ],
         "yaxis": "y"
        },
        {
         "hovertemplate": "Area=Ibrahimpatnam<br>Deviance Scores Amount of Fires=%{x}<br>Deviance Scores Ozon=%{y}<extra></extra>",
         "legendgroup": "Ibrahimpatnam",
         "marker": {
          "color": "#00cc96",
          "symbol": "circle"
         },
         "mode": "markers",
         "name": "Ibrahimpatnam",
         "orientation": "v",
         "showlegend": true,
         "type": "scatter",
         "x": [
          0.00002907189251065565
         ],
         "xaxis": "x",
         "y": [
          0.000689470043634636
         ],
         "yaxis": "y"
        },
        {
         "hovertemplate": "Area=Itikyal<br>Deviance Scores Amount of Fires=%{x}<br>Deviance Scores Ozon=%{y}<extra></extra>",
         "legendgroup": "Itikyal",
         "marker": {
          "color": "#ab63fa",
          "symbol": "circle"
         },
         "mode": "markers",
         "name": "Itikyal",
         "orientation": "v",
         "showlegend": true,
         "type": "scatter",
         "x": [
          0.000015326042841794235
         ],
         "xaxis": "x",
         "y": [
          0.0005736116296331814
         ],
         "yaxis": "y"
        },
        {
         "hovertemplate": "Area=Jaipur<br>Deviance Scores Amount of Fires=%{x}<br>Deviance Scores Ozon=%{y}<extra></extra>",
         "legendgroup": "Jaipur",
         "marker": {
          "color": "#FFA15A",
          "symbol": "circle"
         },
         "mode": "markers",
         "name": "Jaipur",
         "orientation": "v",
         "showlegend": true,
         "type": "scatter",
         "x": [
          0.00002041949355763514
         ],
         "xaxis": "x",
         "y": [
          0.0005279034612449641
         ],
         "yaxis": "y"
        },
        {
         "hovertemplate": "Area=Jukkal<br>Deviance Scores Amount of Fires=%{x}<br>Deviance Scores Ozon=%{y}<extra></extra>",
         "legendgroup": "Jukkal",
         "marker": {
          "color": "#19d3f3",
          "symbol": "circle"
         },
         "mode": "markers",
         "name": "Jukkal",
         "orientation": "v",
         "showlegend": true,
         "type": "scatter",
         "x": [
          -0.00000292537610553361
         ],
         "xaxis": "x",
         "y": [
          0.0007542008151661208
         ],
         "yaxis": "y"
        },
        {
         "hovertemplate": "Area=Kaddampeddur<br>Deviance Scores Amount of Fires=%{x}<br>Deviance Scores Ozon=%{y}<extra></extra>",
         "legendgroup": "Kaddampeddur",
         "marker": {
          "color": "#FF6692",
          "symbol": "circle"
         },
         "mode": "markers",
         "name": "Kaddampeddur",
         "orientation": "v",
         "showlegend": true,
         "type": "scatter",
         "x": [
          -0.00005581848982575428
         ],
         "xaxis": "x",
         "y": [
          0.0006617652148710861
         ],
         "yaxis": "y"
        },
        {
         "hovertemplate": "Area=Kagaznagar<br>Deviance Scores Amount of Fires=%{x}<br>Deviance Scores Ozon=%{y}<extra></extra>",
         "legendgroup": "Kagaznagar",
         "marker": {
          "color": "#B6E880",
          "symbol": "circle"
         },
         "mode": "markers",
         "name": "Kagaznagar",
         "orientation": "v",
         "showlegend": true,
         "type": "scatter",
         "x": [
          0.000022961594924693608
         ],
         "xaxis": "x",
         "y": [
          0.0004526873930804897
         ],
         "yaxis": "y"
        },
        {
         "hovertemplate": "Area=Kalher<br>Deviance Scores Amount of Fires=%{x}<br>Deviance Scores Ozon=%{y}<extra></extra>",
         "legendgroup": "Kalher",
         "marker": {
          "color": "#FF97FF",
          "symbol": "circle"
         },
         "mode": "markers",
         "name": "Kalher",
         "orientation": "v",
         "showlegend": true,
         "type": "scatter",
         "x": [
          0.000027421929750068937
         ],
         "xaxis": "x",
         "y": [
          0.0006141337280791293
         ],
         "yaxis": "y"
        },
        {
         "hovertemplate": "Area=Kamareddy<br>Deviance Scores Amount of Fires=%{x}<br>Deviance Scores Ozon=%{y}<extra></extra>",
         "legendgroup": "Kamareddy",
         "marker": {
          "color": "#FECB52",
          "symbol": "circle"
         },
         "mode": "markers",
         "name": "Kamareddy",
         "orientation": "v",
         "showlegend": true,
         "type": "scatter",
         "x": [
          0.00004149741642788737
         ],
         "xaxis": "x",
         "y": [
          0.0007309568551320161
         ],
         "yaxis": "y"
        },
        {
         "hovertemplate": "Area=Kangti<br>Deviance Scores Amount of Fires=%{x}<br>Deviance Scores Ozon=%{y}<extra></extra>",
         "legendgroup": "Kangti",
         "marker": {
          "color": "#636efa",
          "symbol": "circle"
         },
         "mode": "markers",
         "name": "Kangti",
         "orientation": "v",
         "showlegend": true,
         "type": "scatter",
         "x": [
          -0.000008287801934868748
         ],
         "xaxis": "x",
         "y": [
          0.0009334151914870961
         ],
         "yaxis": "y"
        },
        {
         "hovertemplate": "Area=Kannepalli<br>Deviance Scores Amount of Fires=%{x}<br>Deviance Scores Ozon=%{y}<extra></extra>",
         "legendgroup": "Kannepalli",
         "marker": {
          "color": "#EF553B",
          "symbol": "circle"
         },
         "mode": "markers",
         "name": "Kannepalli",
         "orientation": "v",
         "showlegend": true,
         "type": "scatter",
         "x": [
          0.00005601069585023105
         ],
         "xaxis": "x",
         "y": [
          0.000584388780012561
         ],
         "yaxis": "y"
        },
        {
         "hovertemplate": "Area=Kataram<br>Deviance Scores Amount of Fires=%{x}<br>Deviance Scores Ozon=%{y}<extra></extra>",
         "legendgroup": "Kataram",
         "marker": {
          "color": "#00cc96",
          "symbol": "circle"
         },
         "mode": "markers",
         "name": "Kataram",
         "orientation": "v",
         "showlegend": true,
         "type": "scatter",
         "x": [
          0.000024281546098703967
         ],
         "xaxis": "x",
         "y": [
          0.0005481554947995631
         ],
         "yaxis": "y"
        },
        {
         "hovertemplate": "Area=Kesamudram<br>Deviance Scores Amount of Fires=%{x}<br>Deviance Scores Ozon=%{y}<extra></extra>",
         "legendgroup": "Kesamudram",
         "marker": {
          "color": "#ab63fa",
          "symbol": "circle"
         },
         "mode": "markers",
         "name": "Kesamudram",
         "orientation": "v",
         "showlegend": true,
         "type": "scatter",
         "x": [
          0.00007064841085173132
         ],
         "xaxis": "x",
         "y": [
          0.0007782267383527894
         ],
         "yaxis": "y"
        },
        {
         "hovertemplate": "Area=Khammam_Rural<br>Deviance Scores Amount of Fires=%{x}<br>Deviance Scores Ozon=%{y}<extra></extra>",
         "legendgroup": "Khammam_Rural",
         "marker": {
          "color": "#FFA15A",
          "symbol": "circle"
         },
         "mode": "markers",
         "name": "Khammam_Rural",
         "orientation": "v",
         "showlegend": true,
         "type": "scatter",
         "x": [
          0.00001657969263399111
         ],
         "xaxis": "x",
         "y": [
          0.0006457211074270117
         ],
         "yaxis": "y"
        },
        {
         "hovertemplate": "Area=Khila Warangal<br>Deviance Scores Amount of Fires=%{x}<br>Deviance Scores Ozon=%{y}<extra></extra>",
         "legendgroup": "Khila Warangal",
         "marker": {
          "color": "#19d3f3",
          "symbol": "circle"
         },
         "mode": "markers",
         "name": "Khila Warangal",
         "orientation": "v",
         "showlegend": true,
         "type": "scatter",
         "x": [
          -0.000003967962407573495
         ],
         "xaxis": "x",
         "y": [
          0.0008492690614184499
         ],
         "yaxis": "y"
        },
        {
         "hovertemplate": "Area=Kodangal<br>Deviance Scores Amount of Fires=%{x}<br>Deviance Scores Ozon=%{y}<extra></extra>",
         "legendgroup": "Kodangal",
         "marker": {
          "color": "#FF6692",
          "symbol": "circle"
         },
         "mode": "markers",
         "name": "Kodangal",
         "orientation": "v",
         "showlegend": true,
         "type": "scatter",
         "x": [
          0.0001199851072608
         ],
         "xaxis": "x",
         "y": [
          0.0009049951634765179
         ],
         "yaxis": "y"
        },
        {
         "hovertemplate": "Area=Kodimial<br>Deviance Scores Amount of Fires=%{x}<br>Deviance Scores Ozon=%{y}<extra></extra>",
         "legendgroup": "Kodimial",
         "marker": {
          "color": "#B6E880",
          "symbol": "circle"
         },
         "mode": "markers",
         "name": "Kodimial",
         "orientation": "v",
         "showlegend": true,
         "type": "scatter",
         "x": [
          0.00002696186767774516
         ],
         "xaxis": "x",
         "y": [
          0.0008024661443670212
         ],
         "yaxis": "y"
        },
        {
         "hovertemplate": "Area=Koheda<br>Deviance Scores Amount of Fires=%{x}<br>Deviance Scores Ozon=%{y}<extra></extra>",
         "legendgroup": "Koheda",
         "marker": {
          "color": "#FF97FF",
          "symbol": "circle"
         },
         "mode": "markers",
         "name": "Koheda",
         "orientation": "v",
         "showlegend": true,
         "type": "scatter",
         "x": [
          0.00009264113135540946
         ],
         "xaxis": "x",
         "y": [
          0.000655976620101231
         ],
         "yaxis": "y"
        },
        {
         "hovertemplate": "Area=Kothaguda<br>Deviance Scores Amount of Fires=%{x}<br>Deviance Scores Ozon=%{y}<extra></extra>",
         "legendgroup": "Kothaguda",
         "marker": {
          "color": "#FECB52",
          "symbol": "circle"
         },
         "mode": "markers",
         "name": "Kothaguda",
         "orientation": "v",
         "showlegend": true,
         "type": "scatter",
         "x": [
          -0.0001881082586189
         ],
         "xaxis": "x",
         "y": [
          0.0007992234556222891
         ],
         "yaxis": "y"
        },
        {
         "hovertemplate": "Area=Laxmidevipally<br>Deviance Scores Amount of Fires=%{x}<br>Deviance Scores Ozon=%{y}<extra></extra>",
         "legendgroup": "Laxmidevipally",
         "marker": {
          "color": "#636efa",
          "symbol": "circle"
         },
         "mode": "markers",
         "name": "Laxmidevipally",
         "orientation": "v",
         "showlegend": true,
         "type": "scatter",
         "x": [
          0.0001344928687139
         ],
         "xaxis": "x",
         "y": [
          0.0009685819765153443
         ],
         "yaxis": "y"
        },
        {
         "hovertemplate": "Area=Madanapur<br>Deviance Scores Amount of Fires=%{x}<br>Deviance Scores Ozon=%{y}<extra></extra>",
         "legendgroup": "Madanapur",
         "marker": {
          "color": "#EF553B",
          "symbol": "circle"
         },
         "mode": "markers",
         "name": "Madanapur",
         "orientation": "v",
         "showlegend": true,
         "type": "scatter",
         "x": [
          0.00003672274106178308
         ],
         "xaxis": "x",
         "y": [
          0.0007888268552884549
         ],
         "yaxis": "y"
        },
        {
         "hovertemplate": "Area=Maddur<br>Deviance Scores Amount of Fires=%{x}<br>Deviance Scores Ozon=%{y}<extra></extra>",
         "legendgroup": "Maddur",
         "marker": {
          "color": "#00cc96",
          "symbol": "circle"
         },
         "mode": "markers",
         "name": "Maddur",
         "orientation": "v",
         "showlegend": true,
         "type": "scatter",
         "x": [
          0.00000829384727603822
         ],
         "xaxis": "x",
         "y": [
          0.0007779351922508159
         ],
         "yaxis": "y"
        },
        {
         "hovertemplate": "Area=Madhira<br>Deviance Scores Amount of Fires=%{x}<br>Deviance Scores Ozon=%{y}<extra></extra>",
         "legendgroup": "Madhira",
         "marker": {
          "color": "#ab63fa",
          "symbol": "circle"
         },
         "mode": "markers",
         "name": "Madhira",
         "orientation": "v",
         "showlegend": true,
         "type": "scatter",
         "x": [
          0.000030919956408513245
         ],
         "xaxis": "x",
         "y": [
          0.0006768626569334465
         ],
         "yaxis": "y"
        },
        {
         "hovertemplate": "Area=Maheswaram<br>Deviance Scores Amount of Fires=%{x}<br>Deviance Scores Ozon=%{y}<extra></extra>",
         "legendgroup": "Maheswaram",
         "marker": {
          "color": "#FFA15A",
          "symbol": "circle"
         },
         "mode": "markers",
         "name": "Maheswaram",
         "orientation": "v",
         "showlegend": true,
         "type": "scatter",
         "x": [
          -0.00004273073130582031
         ],
         "xaxis": "x",
         "y": [
          0.0006926075499729347
         ],
         "yaxis": "y"
        },
        {
         "hovertemplate": "Area=Makthal<br>Deviance Scores Amount of Fires=%{x}<br>Deviance Scores Ozon=%{y}<extra></extra>",
         "legendgroup": "Makthal",
         "marker": {
          "color": "#19d3f3",
          "symbol": "circle"
         },
         "mode": "markers",
         "name": "Makthal",
         "orientation": "v",
         "showlegend": true,
         "type": "scatter",
         "x": [
          0.000052953241704113016
         ],
         "xaxis": "x",
         "y": [
          0.0007444681707478075
         ],
         "yaxis": "y"
        },
        {
         "hovertemplate": "Area=Mangapet<br>Deviance Scores Amount of Fires=%{x}<br>Deviance Scores Ozon=%{y}<extra></extra>",
         "legendgroup": "Mangapet",
         "marker": {
          "color": "#FF6692",
          "symbol": "circle"
         },
         "mode": "markers",
         "name": "Mangapet",
         "orientation": "v",
         "showlegend": true,
         "type": "scatter",
         "x": [
          -0.00006981989066045704
         ],
         "xaxis": "x",
         "y": [
          0.0009208362532667638
         ],
         "yaxis": "y"
        },
        {
         "hovertemplate": "Area=Manthani<br>Deviance Scores Amount of Fires=%{x}<br>Deviance Scores Ozon=%{y}<extra></extra>",
         "legendgroup": "Manthani",
         "marker": {
          "color": "#B6E880",
          "symbol": "circle"
         },
         "mode": "markers",
         "name": "Manthani",
         "orientation": "v",
         "showlegend": true,
         "type": "scatter",
         "x": [
          0.000026832989009312214
         ],
         "xaxis": "x",
         "y": [
          0.00043687276159804503
         ],
         "yaxis": "y"
        },
        {
         "hovertemplate": "Area=Maripeda<br>Deviance Scores Amount of Fires=%{x}<br>Deviance Scores Ozon=%{y}<extra></extra>",
         "legendgroup": "Maripeda",
         "marker": {
          "color": "#FF97FF",
          "symbol": "circle"
         },
         "mode": "markers",
         "name": "Maripeda",
         "orientation": "v",
         "showlegend": true,
         "type": "scatter",
         "x": [
          0.000027577939566780197
         ],
         "xaxis": "x",
         "y": [
          0.0007169758430214577
         ],
         "yaxis": "y"
        },
        {
         "hovertemplate": "Area=Metpalli<br>Deviance Scores Amount of Fires=%{x}<br>Deviance Scores Ozon=%{y}<extra></extra>",
         "legendgroup": "Metpalli",
         "marker": {
          "color": "#FECB52",
          "symbol": "circle"
         },
         "mode": "markers",
         "name": "Metpalli",
         "orientation": "v",
         "showlegend": true,
         "type": "scatter",
         "x": [
          0.00009147060190410723
         ],
         "xaxis": "x",
         "y": [
          0.0006734976810352549
         ],
         "yaxis": "y"
        },
        {
         "hovertemplate": "Area=Miryalaguda<br>Deviance Scores Amount of Fires=%{x}<br>Deviance Scores Ozon=%{y}<extra></extra>",
         "legendgroup": "Miryalaguda",
         "marker": {
          "color": "#636efa",
          "symbol": "circle"
         },
         "mode": "markers",
         "name": "Miryalaguda",
         "orientation": "v",
         "showlegend": true,
         "type": "scatter",
         "x": [
          -0.00002757968203359586
         ],
         "xaxis": "x",
         "y": [
          0.0006604554250715898
         ],
         "yaxis": "y"
        },
        {
         "hovertemplate": "Area=Mudigonda<br>Deviance Scores Amount of Fires=%{x}<br>Deviance Scores Ozon=%{y}<extra></extra>",
         "legendgroup": "Mudigonda",
         "marker": {
          "color": "#EF553B",
          "symbol": "circle"
         },
         "mode": "markers",
         "name": "Mudigonda",
         "orientation": "v",
         "showlegend": true,
         "type": "scatter",
         "x": [
          -0.000060670854063424265
         ],
         "xaxis": "x",
         "y": [
          0.000552232796238123
         ],
         "yaxis": "y"
        },
        {
         "hovertemplate": "Area=Mugpal<br>Deviance Scores Amount of Fires=%{x}<br>Deviance Scores Ozon=%{y}<extra></extra>",
         "legendgroup": "Mugpal",
         "marker": {
          "color": "#00cc96",
          "symbol": "circle"
         },
         "mode": "markers",
         "name": "Mugpal",
         "orientation": "v",
         "showlegend": true,
         "type": "scatter",
         "x": [
          0.0001603174066675
         ],
         "xaxis": "x",
         "y": [
          0.0007820141548826585
         ],
         "yaxis": "y"
        },
        {
         "hovertemplate": "Area=Mulakalapally<br>Deviance Scores Amount of Fires=%{x}<br>Deviance Scores Ozon=%{y}<extra></extra>",
         "legendgroup": "Mulakalapally",
         "marker": {
          "color": "#ab63fa",
          "symbol": "circle"
         },
         "mode": "markers",
         "name": "Mulakalapally",
         "orientation": "v",
         "showlegend": true,
         "type": "scatter",
         "x": [
          -0.000017034047638619456
         ],
         "xaxis": "x",
         "y": [
          0.0010324579057719228
         ],
         "yaxis": "y"
        },
        {
         "hovertemplate": "Area=Mulug<br>Deviance Scores Amount of Fires=%{x}<br>Deviance Scores Ozon=%{y}<extra></extra>",
         "legendgroup": "Mulug",
         "marker": {
          "color": "#FFA15A",
          "symbol": "circle"
         },
         "mode": "markers",
         "name": "Mulug",
         "orientation": "v",
         "showlegend": true,
         "type": "scatter",
         "x": [
          -0.0001565083145085
         ],
         "xaxis": "x",
         "y": [
          0.0006382382947769617
         ],
         "yaxis": "y"
        },
        {
         "hovertemplate": "Area=Munugode<br>Deviance Scores Amount of Fires=%{x}<br>Deviance Scores Ozon=%{y}<extra></extra>",
         "legendgroup": "Munugode",
         "marker": {
          "color": "#19d3f3",
          "symbol": "circle"
         },
         "mode": "markers",
         "name": "Munugode",
         "orientation": "v",
         "showlegend": true,
         "type": "scatter",
         "x": [
          0.00009669495275924688
         ],
         "xaxis": "x",
         "y": [
          0.000729981531446849
         ],
         "yaxis": "y"
        },
        {
         "hovertemplate": "Area=Mutharam_Mahadevpur<br>Deviance Scores Amount of Fires=%{x}<br>Deviance Scores Ozon=%{y}<extra></extra>",
         "legendgroup": "Mutharam_Mahadevpur",
         "marker": {
          "color": "#FF6692",
          "symbol": "circle"
         },
         "mode": "markers",
         "name": "Mutharam_Mahadevpur",
         "orientation": "v",
         "showlegend": true,
         "type": "scatter",
         "x": [
          0.00006515373586578416
         ],
         "xaxis": "x",
         "y": [
          0.0007396741537785586
         ],
         "yaxis": "y"
        },
        {
         "hovertemplate": "Area=Nadigudem<br>Deviance Scores Amount of Fires=%{x}<br>Deviance Scores Ozon=%{y}<extra></extra>",
         "legendgroup": "Nadigudem",
         "marker": {
          "color": "#B6E880",
          "symbol": "circle"
         },
         "mode": "markers",
         "name": "Nadigudem",
         "orientation": "v",
         "showlegend": true,
         "type": "scatter",
         "x": [
          -0.000021896513243848688
         ],
         "xaxis": "x",
         "y": [
          0.0006209693651175764
         ],
         "yaxis": "y"
        },
        {
         "hovertemplate": "Area=Nagi_Reddypet<br>Deviance Scores Amount of Fires=%{x}<br>Deviance Scores Ozon=%{y}<extra></extra>",
         "legendgroup": "Nagi_Reddypet",
         "marker": {
          "color": "#FF97FF",
          "symbol": "circle"
         },
         "mode": "markers",
         "name": "Nagi_Reddypet",
         "orientation": "v",
         "showlegend": true,
         "type": "scatter",
         "x": [
          0.00005686384267434289
         ],
         "xaxis": "x",
         "y": [
          0.0006561541615289091
         ],
         "yaxis": "y"
        },
        {
         "hovertemplate": "Area=Nampally<br>Deviance Scores Amount of Fires=%{x}<br>Deviance Scores Ozon=%{y}<extra></extra>",
         "legendgroup": "Nampally",
         "marker": {
          "color": "#FECB52",
          "symbol": "circle"
         },
         "mode": "markers",
         "name": "Nampally",
         "orientation": "v",
         "showlegend": true,
         "type": "scatter",
         "x": [
          0.0001225320666071
         ],
         "xaxis": "x",
         "y": [
          0.0007757082973649462
         ],
         "yaxis": "y"
        },
        {
         "hovertemplate": "Area=Nandipet<br>Deviance Scores Amount of Fires=%{x}<br>Deviance Scores Ozon=%{y}<extra></extra>",
         "legendgroup": "Nandipet",
         "marker": {
          "color": "#636efa",
          "symbol": "circle"
         },
         "mode": "markers",
         "name": "Nandipet",
         "orientation": "v",
         "showlegend": true,
         "type": "scatter",
         "x": [
          -0.000046581479618077885
         ],
         "xaxis": "x",
         "y": [
          0.0006615319605608664
         ],
         "yaxis": "y"
        },
        {
         "hovertemplate": "Area=Narayanapoor<br>Deviance Scores Amount of Fires=%{x}<br>Deviance Scores Ozon=%{y}<extra></extra>",
         "legendgroup": "Narayanapoor",
         "marker": {
          "color": "#EF553B",
          "symbol": "circle"
         },
         "mode": "markers",
         "name": "Narayanapoor",
         "orientation": "v",
         "showlegend": true,
         "type": "scatter",
         "x": [
          0.00001910911358727637
         ],
         "xaxis": "x",
         "y": [
          0.0007328312664340155
         ],
         "yaxis": "y"
        },
        {
         "hovertemplate": "Area=Narmetta<br>Deviance Scores Amount of Fires=%{x}<br>Deviance Scores Ozon=%{y}<extra></extra>",
         "legendgroup": "Narmetta",
         "marker": {
          "color": "#00cc96",
          "symbol": "circle"
         },
         "mode": "markers",
         "name": "Narmetta",
         "orientation": "v",
         "showlegend": true,
         "type": "scatter",
         "x": [
          -4.1827494826358374e-7
         ],
         "xaxis": "x",
         "y": [
          0.000865557490802745
         ],
         "yaxis": "y"
        },
        {
         "hovertemplate": "Area=Narsapur_G<br>Deviance Scores Amount of Fires=%{x}<br>Deviance Scores Ozon=%{y}<extra></extra>",
         "legendgroup": "Narsapur_G",
         "marker": {
          "color": "#ab63fa",
          "symbol": "circle"
         },
         "mode": "markers",
         "name": "Narsapur_G",
         "orientation": "v",
         "showlegend": true,
         "type": "scatter",
         "x": [
          -0.000005701175450059136
         ],
         "xaxis": "x",
         "y": [
          0.0006234309435347756
         ],
         "yaxis": "y"
        },
        {
         "hovertemplate": "Area=Nidamanoor<br>Deviance Scores Amount of Fires=%{x}<br>Deviance Scores Ozon=%{y}<extra></extra>",
         "legendgroup": "Nidamanoor",
         "marker": {
          "color": "#FFA15A",
          "symbol": "circle"
         },
         "mode": "markers",
         "name": "Nidamanoor",
         "orientation": "v",
         "showlegend": true,
         "type": "scatter",
         "x": [
          -0.0001079283086397
         ],
         "xaxis": "x",
         "y": [
          0.0008292096257242228
         ],
         "yaxis": "y"
        },
        {
         "hovertemplate": "Area=Nirmal Rural<br>Deviance Scores Amount of Fires=%{x}<br>Deviance Scores Ozon=%{y}<extra></extra>",
         "legendgroup": "Nirmal Rural",
         "marker": {
          "color": "#19d3f3",
          "symbol": "circle"
         },
         "mode": "markers",
         "name": "Nirmal Rural",
         "orientation": "v",
         "showlegend": true,
         "type": "scatter",
         "x": [
          0.00002220333164404397
         ],
         "xaxis": "x",
         "y": [
          0.0006544416596126549
         ],
         "yaxis": "y"
        },
        {
         "hovertemplate": "Area=Nyalkal<br>Deviance Scores Amount of Fires=%{x}<br>Deviance Scores Ozon=%{y}<extra></extra>",
         "legendgroup": "Nyalkal",
         "marker": {
          "color": "#FF6692",
          "symbol": "circle"
         },
         "mode": "markers",
         "name": "Nyalkal",
         "orientation": "v",
         "showlegend": true,
         "type": "scatter",
         "x": [
          0.00007646502197347527
         ],
         "xaxis": "x",
         "y": [
          0.0009042014573144707
         ],
         "yaxis": "y"
        },
        {
         "hovertemplate": "Area=Padara<br>Deviance Scores Amount of Fires=%{x}<br>Deviance Scores Ozon=%{y}<extra></extra>",
         "legendgroup": "Padara",
         "marker": {
          "color": "#B6E880",
          "symbol": "circle"
         },
         "mode": "markers",
         "name": "Padara",
         "orientation": "v",
         "showlegend": true,
         "type": "scatter",
         "x": [
          0.00002907189251065565
         ],
         "xaxis": "x",
         "y": [
          0.0008957260397821992
         ],
         "yaxis": "y"
        },
        {
         "hovertemplate": "Area=Peda Adisharla Palli<br>Deviance Scores Amount of Fires=%{x}<br>Deviance Scores Ozon=%{y}<extra></extra>",
         "legendgroup": "Peda Adisharla Palli",
         "marker": {
          "color": "#FF97FF",
          "symbol": "circle"
         },
         "mode": "markers",
         "name": "Peda Adisharla Palli",
         "orientation": "v",
         "showlegend": true,
         "type": "scatter",
         "x": [
          0.000009916582327647464
         ],
         "xaxis": "x",
         "y": [
          0.0008471517632068805
         ],
         "yaxis": "y"
        },
        {
         "hovertemplate": "Area=Peddakothapalle<br>Deviance Scores Amount of Fires=%{x}<br>Deviance Scores Ozon=%{y}<extra></extra>",
         "legendgroup": "Peddakothapalle",
         "marker": {
          "color": "#FECB52",
          "symbol": "circle"
         },
         "mode": "markers",
         "name": "Peddakothapalle",
         "orientation": "v",
         "showlegend": true,
         "type": "scatter",
         "x": [
          -0.00004188925492166554
         ],
         "xaxis": "x",
         "y": [
          0.0008550543194532075
         ],
         "yaxis": "y"
        },
        {
         "hovertemplate": "Area=Peddapalli<br>Deviance Scores Amount of Fires=%{x}<br>Deviance Scores Ozon=%{y}<extra></extra>",
         "legendgroup": "Peddapalli",
         "marker": {
          "color": "#636efa",
          "symbol": "circle"
         },
         "mode": "markers",
         "name": "Peddapalli",
         "orientation": "v",
         "showlegend": true,
         "type": "scatter",
         "x": [
          0.00008735831221652214
         ],
         "xaxis": "x",
         "y": [
          0.0006420513210501005
         ],
         "yaxis": "y"
        },
        {
         "hovertemplate": "Area=Peddemul<br>Deviance Scores Amount of Fires=%{x}<br>Deviance Scores Ozon=%{y}<extra></extra>",
         "legendgroup": "Peddemul",
         "marker": {
          "color": "#EF553B",
          "symbol": "circle"
         },
         "mode": "markers",
         "name": "Peddemul",
         "orientation": "v",
         "showlegend": true,
         "type": "scatter",
         "x": [
          0.00009293885188211462
         ],
         "xaxis": "x",
         "y": [
          0.0008465099586428088
         ],
         "yaxis": "y"
        },
        {
         "hovertemplate": "Area=Pembi<br>Deviance Scores Amount of Fires=%{x}<br>Deviance Scores Ozon=%{y}<extra></extra>",
         "legendgroup": "Pembi",
         "marker": {
          "color": "#00cc96",
          "symbol": "circle"
         },
         "mode": "markers",
         "name": "Pembi",
         "orientation": "v",
         "showlegend": true,
         "type": "scatter",
         "x": [
          0.000003052408536571253
         ],
         "xaxis": "x",
         "y": [
          0.0007529253365277169
         ],
         "yaxis": "y"
        },
        {
         "hovertemplate": "Area=Raikal<br>Deviance Scores Amount of Fires=%{x}<br>Deviance Scores Ozon=%{y}<extra></extra>",
         "legendgroup": "Raikal",
         "marker": {
          "color": "#ab63fa",
          "symbol": "circle"
         },
         "mode": "markers",
         "name": "Raikal",
         "orientation": "v",
         "showlegend": true,
         "type": "scatter",
         "x": [
          0.0000665475149833428
         ],
         "xaxis": "x",
         "y": [
          0.0008855365082731728
         ],
         "yaxis": "y"
        },
        {
         "hovertemplate": "Area=Raiparthy<br>Deviance Scores Amount of Fires=%{x}<br>Deviance Scores Ozon=%{y}<extra></extra>",
         "legendgroup": "Raiparthy",
         "marker": {
          "color": "#FFA15A",
          "symbol": "circle"
         },
         "mode": "markers",
         "name": "Raiparthy",
         "orientation": "v",
         "showlegend": true,
         "type": "scatter",
         "x": [
          0.000027395613215215613
         ],
         "xaxis": "x",
         "y": [
          0.0007844115906020926
         ],
         "yaxis": "y"
        },
        {
         "hovertemplate": "Area=Raipole<br>Deviance Scores Amount of Fires=%{x}<br>Deviance Scores Ozon=%{y}<extra></extra>",
         "legendgroup": "Raipole",
         "marker": {
          "color": "#19d3f3",
          "symbol": "circle"
         },
         "mode": "markers",
         "name": "Raipole",
         "orientation": "v",
         "showlegend": true,
         "type": "scatter",
         "x": [
          0.000012750603887236747
         ],
         "xaxis": "x",
         "y": [
          0.0006035855811989587
         ],
         "yaxis": "y"
        },
        {
         "hovertemplate": "Area=Rajapur<br>Deviance Scores Amount of Fires=%{x}<br>Deviance Scores Ozon=%{y}<extra></extra>",
         "legendgroup": "Rajapur",
         "marker": {
          "color": "#FF6692",
          "symbol": "circle"
         },
         "mode": "markers",
         "name": "Rajapur",
         "orientation": "v",
         "showlegend": true,
         "type": "scatter",
         "x": [
          -0.000032719790878835366
         ],
         "xaxis": "x",
         "y": [
          0.0008016649305138095
         ],
         "yaxis": "y"
        },
        {
         "hovertemplate": "Area=Ramayampet<br>Deviance Scores Amount of Fires=%{x}<br>Deviance Scores Ozon=%{y}<extra></extra>",
         "legendgroup": "Ramayampet",
         "marker": {
          "color": "#B6E880",
          "symbol": "circle"
         },
         "mode": "markers",
         "name": "Ramayampet",
         "orientation": "v",
         "showlegend": true,
         "type": "scatter",
         "x": [
          -0.0000013655481026293011
         ],
         "xaxis": "x",
         "y": [
          0.0006020784693533818
         ],
         "yaxis": "y"
        },
        {
         "hovertemplate": "Area=Rudrangi<br>Deviance Scores Amount of Fires=%{x}<br>Deviance Scores Ozon=%{y}<extra></extra>",
         "legendgroup": "Rudrangi",
         "marker": {
          "color": "#FF97FF",
          "symbol": "circle"
         },
         "mode": "markers",
         "name": "Rudrangi",
         "orientation": "v",
         "showlegend": true,
         "type": "scatter",
         "x": [
          0.00004671018480312384
         ],
         "xaxis": "x",
         "y": [
          0.0007158458413320685
         ],
         "yaxis": "y"
        },
        {
         "hovertemplate": "Area=Rudrur<br>Deviance Scores Amount of Fires=%{x}<br>Deviance Scores Ozon=%{y}<extra></extra>",
         "legendgroup": "Rudrur",
         "marker": {
          "color": "#FECB52",
          "symbol": "circle"
         },
         "mode": "markers",
         "name": "Rudrur",
         "orientation": "v",
         "showlegend": true,
         "type": "scatter",
         "x": [
          -0.00004720493430332565
         ],
         "xaxis": "x",
         "y": [
          0.0008016317918396727
         ],
         "yaxis": "y"
        },
        {
         "hovertemplate": "Area=Sadasivpet<br>Deviance Scores Amount of Fires=%{x}<br>Deviance Scores Ozon=%{y}<extra></extra>",
         "legendgroup": "Sadasivpet",
         "marker": {
          "color": "#636efa",
          "symbol": "circle"
         },
         "mode": "markers",
         "name": "Sadasivpet",
         "orientation": "v",
         "showlegend": true,
         "type": "scatter",
         "x": [
          -0.000037959200630275055
         ],
         "xaxis": "x",
         "y": [
          0.0008301645298266006
         ],
         "yaxis": "y"
        },
        {
         "hovertemplate": "Area=Sangareddy<br>Deviance Scores Amount of Fires=%{x}<br>Deviance Scores Ozon=%{y}<extra></extra>",
         "legendgroup": "Sangareddy",
         "marker": {
          "color": "#EF553B",
          "symbol": "circle"
         },
         "mode": "markers",
         "name": "Sangareddy",
         "orientation": "v",
         "showlegend": true,
         "type": "scatter",
         "x": [
          0.000035217037061190534
         ],
         "xaxis": "x",
         "y": [
          0.0008356634696205852
         ],
         "yaxis": "y"
        },
        {
         "hovertemplate": "Area=Shabad<br>Deviance Scores Amount of Fires=%{x}<br>Deviance Scores Ozon=%{y}<extra></extra>",
         "legendgroup": "Shabad",
         "marker": {
          "color": "#00cc96",
          "symbol": "circle"
         },
         "mode": "markers",
         "name": "Shabad",
         "orientation": "v",
         "showlegend": true,
         "type": "scatter",
         "x": [
          0.00007939709797717111
         ],
         "xaxis": "x",
         "y": [
          0.0007170605838973142
         ],
         "yaxis": "y"
        },
        {
         "hovertemplate": "Area=Shankarpalle<br>Deviance Scores Amount of Fires=%{x}<br>Deviance Scores Ozon=%{y}<extra></extra>",
         "legendgroup": "Shankarpalle",
         "marker": {
          "color": "#ab63fa",
          "symbol": "circle"
         },
         "mode": "markers",
         "name": "Shankarpalle",
         "orientation": "v",
         "showlegend": true,
         "type": "scatter",
         "x": [
          0.0001936495096025
         ],
         "xaxis": "x",
         "y": [
          0.0007926575650560012
         ],
         "yaxis": "y"
        },
        {
         "hovertemplate": "Area=Siddipet_Urban<br>Deviance Scores Amount of Fires=%{x}<br>Deviance Scores Ozon=%{y}<extra></extra>",
         "legendgroup": "Siddipet_Urban",
         "marker": {
          "color": "#FFA15A",
          "symbol": "circle"
         },
         "mode": "markers",
         "name": "Siddipet_Urban",
         "orientation": "v",
         "showlegend": true,
         "type": "scatter",
         "x": [
          0.000006150073626370578
         ],
         "xaxis": "x",
         "y": [
          0.000762018674132387
         ],
         "yaxis": "y"
        },
        {
         "hovertemplate": "Area=Sirikonda<br>Deviance Scores Amount of Fires=%{x}<br>Deviance Scores Ozon=%{y}<extra></extra>",
         "legendgroup": "Sirikonda",
         "marker": {
          "color": "#19d3f3",
          "symbol": "circle"
         },
         "mode": "markers",
         "name": "Sirikonda",
         "orientation": "v",
         "showlegend": true,
         "type": "scatter",
         "x": [
          0.000018112743783797907
         ],
         "xaxis": "x",
         "y": [
          0.0006230397774177276
         ],
         "yaxis": "y"
        },
        {
         "hovertemplate": "Area=Suryapet<br>Deviance Scores Amount of Fires=%{x}<br>Deviance Scores Ozon=%{y}<extra></extra>",
         "legendgroup": "Suryapet",
         "marker": {
          "color": "#FF6692",
          "symbol": "circle"
         },
         "mode": "markers",
         "name": "Suryapet",
         "orientation": "v",
         "showlegend": true,
         "type": "scatter",
         "x": [
          -0.00001355888212096692
         ],
         "xaxis": "x",
         "y": [
          0.0006304063489097646
         ],
         "yaxis": "y"
        },
        {
         "hovertemplate": "Area=Tadoor<br>Deviance Scores Amount of Fires=%{x}<br>Deviance Scores Ozon=%{y}<extra></extra>",
         "legendgroup": "Tadoor",
         "marker": {
          "color": "#B6E880",
          "symbol": "circle"
         },
         "mode": "markers",
         "name": "Tadoor",
         "orientation": "v",
         "showlegend": true,
         "type": "scatter",
         "x": [
          -0.00003527823299252821
         ],
         "xaxis": "x",
         "y": [
          0.0008703134980389069
         ],
         "yaxis": "y"
        },
        {
         "hovertemplate": "Area=Tadvai (Sammakka Sarakka)<br>Deviance Scores Amount of Fires=%{x}<br>Deviance Scores Ozon=%{y}<extra></extra>",
         "legendgroup": "Tadvai (Sammakka Sarakka)",
         "marker": {
          "color": "#FF97FF",
          "symbol": "circle"
         },
         "mode": "markers",
         "name": "Tadvai (Sammakka Sarakka)",
         "orientation": "v",
         "showlegend": true,
         "type": "scatter",
         "x": [
          0.000004342904422294399
         ],
         "xaxis": "x",
         "y": [
          0.0007923399150055783
         ],
         "yaxis": "y"
        },
        {
         "hovertemplate": "Area=Talakondapally<br>Deviance Scores Amount of Fires=%{x}<br>Deviance Scores Ozon=%{y}<extra></extra>",
         "legendgroup": "Talakondapally",
         "marker": {
          "color": "#FECB52",
          "symbol": "circle"
         },
         "mode": "markers",
         "name": "Talakondapally",
         "orientation": "v",
         "showlegend": true,
         "type": "scatter",
         "x": [
          -0.000007865003352574705
         ],
         "xaxis": "x",
         "y": [
          0.0008882182462700598
         ],
         "yaxis": "y"
        },
        {
         "hovertemplate": "Area=Talamadugu<br>Deviance Scores Amount of Fires=%{x}<br>Deviance Scores Ozon=%{y}<extra></extra>",
         "legendgroup": "Talamadugu",
         "marker": {
          "color": "#636efa",
          "symbol": "circle"
         },
         "mode": "markers",
         "name": "Talamadugu",
         "orientation": "v",
         "showlegend": true,
         "type": "scatter",
         "x": [
          -0.00001345527126152698
         ],
         "xaxis": "x",
         "y": [
          0.0006115021240320815
         ],
         "yaxis": "y"
        },
        {
         "hovertemplate": "Area=Tekumatla<br>Deviance Scores Amount of Fires=%{x}<br>Deviance Scores Ozon=%{y}<extra></extra>",
         "legendgroup": "Tekumatla",
         "marker": {
          "color": "#EF553B",
          "symbol": "circle"
         },
         "mode": "markers",
         "name": "Tekumatla",
         "orientation": "v",
         "showlegend": true,
         "type": "scatter",
         "x": [
          0.000006758743038396768
         ],
         "xaxis": "x",
         "y": [
          0.0006035486946374836
         ],
         "yaxis": "y"
        },
        {
         "hovertemplate": "Area=Thangallapalli<br>Deviance Scores Amount of Fires=%{x}<br>Deviance Scores Ozon=%{y}<extra></extra>",
         "legendgroup": "Thangallapalli",
         "marker": {
          "color": "#00cc96",
          "symbol": "circle"
         },
         "mode": "markers",
         "name": "Thangallapalli",
         "orientation": "v",
         "showlegend": true,
         "type": "scatter",
         "x": [
          -0.00005365765604198426
         ],
         "xaxis": "x",
         "y": [
          0.0008046953059314535
         ],
         "yaxis": "y"
        },
        {
         "hovertemplate": "Area=Tiryani<br>Deviance Scores Amount of Fires=%{x}<br>Deviance Scores Ozon=%{y}<extra></extra>",
         "legendgroup": "Tiryani",
         "marker": {
          "color": "#ab63fa",
          "symbol": "circle"
         },
         "mode": "markers",
         "name": "Tiryani",
         "orientation": "v",
         "showlegend": true,
         "type": "scatter",
         "x": [
          0.00002312797010352721
         ],
         "xaxis": "x",
         "y": [
          0.0006231782195165968
         ],
         "yaxis": "y"
        },
        {
         "hovertemplate": "Area=Turkapalle_M<br>Deviance Scores Amount of Fires=%{x}<br>Deviance Scores Ozon=%{y}<extra></extra>",
         "legendgroup": "Turkapalle_M",
         "marker": {
          "color": "#FFA15A",
          "symbol": "circle"
         },
         "mode": "markers",
         "name": "Turkapalle_M",
         "orientation": "v",
         "showlegend": true,
         "type": "scatter",
         "x": [
          0.0000565189865253851
         ],
         "xaxis": "x",
         "y": [
          0.00078821731641874
         ],
         "yaxis": "y"
        },
        {
         "hovertemplate": "Area=Valigonda<br>Deviance Scores Amount of Fires=%{x}<br>Deviance Scores Ozon=%{y}<extra></extra>",
         "legendgroup": "Valigonda",
         "marker": {
          "color": "#19d3f3",
          "symbol": "circle"
         },
         "mode": "markers",
         "name": "Valigonda",
         "orientation": "v",
         "showlegend": true,
         "type": "scatter",
         "x": [
          -0.000004127307312292944
         ],
         "xaxis": "x",
         "y": [
          0.0008127422145319115
         ],
         "yaxis": "y"
        },
        {
         "hovertemplate": "Area=Vangoor<br>Deviance Scores Amount of Fires=%{x}<br>Deviance Scores Ozon=%{y}<extra></extra>",
         "legendgroup": "Vangoor",
         "marker": {
          "color": "#FF6692",
          "symbol": "circle"
         },
         "mode": "markers",
         "name": "Vangoor",
         "orientation": "v",
         "showlegend": true,
         "type": "scatter",
         "x": [
          0.000007689628973517074
         ],
         "xaxis": "x",
         "y": [
          0.0008113931419912806
         ],
         "yaxis": "y"
        },
        {
         "hovertemplate": "Area=Vatpally<br>Deviance Scores Amount of Fires=%{x}<br>Deviance Scores Ozon=%{y}<extra></extra>",
         "legendgroup": "Vatpally",
         "marker": {
          "color": "#B6E880",
          "symbol": "circle"
         },
         "mode": "markers",
         "name": "Vatpally",
         "orientation": "v",
         "showlegend": true,
         "type": "scatter",
         "x": [
          0.000008014307927752381
         ],
         "xaxis": "x",
         "y": [
          0.0007176936939854697
         ],
         "yaxis": "y"
        },
        {
         "hovertemplate": "Area=Veenavanka<br>Deviance Scores Amount of Fires=%{x}<br>Deviance Scores Ozon=%{y}<extra></extra>",
         "legendgroup": "Veenavanka",
         "marker": {
          "color": "#FF97FF",
          "symbol": "circle"
         },
         "mode": "markers",
         "name": "Veenavanka",
         "orientation": "v",
         "showlegend": true,
         "type": "scatter",
         "x": [
          0.0001907639507191
         ],
         "xaxis": "x",
         "y": [
          0.0006301496207037736
         ],
         "yaxis": "y"
        },
        {
         "hovertemplate": "Area=Venkatapuram<br>Deviance Scores Amount of Fires=%{x}<br>Deviance Scores Ozon=%{y}<extra></extra>",
         "legendgroup": "Venkatapuram",
         "marker": {
          "color": "#FECB52",
          "symbol": "circle"
         },
         "mode": "markers",
         "name": "Venkatapuram",
         "orientation": "v",
         "showlegend": true,
         "type": "scatter",
         "x": [
          -0.00002340599084938134
         ],
         "xaxis": "x",
         "y": [
          0.0008980327603223701
         ],
         "yaxis": "y"
        },
        {
         "hovertemplate": "Area=Vikarabad<br>Deviance Scores Amount of Fires=%{x}<br>Deviance Scores Ozon=%{y}<extra></extra>",
         "legendgroup": "Vikarabad",
         "marker": {
          "color": "#636efa",
          "symbol": "circle"
         },
         "mode": "markers",
         "name": "Vikarabad",
         "orientation": "v",
         "showlegend": true,
         "type": "scatter",
         "x": [
          0.000151776204679
         ],
         "xaxis": "x",
         "y": [
          0.0007364462165153615
         ],
         "yaxis": "y"
        },
        {
         "hovertemplate": "Area=Weepangandla<br>Deviance Scores Amount of Fires=%{x}<br>Deviance Scores Ozon=%{y}<extra></extra>",
         "legendgroup": "Weepangandla",
         "marker": {
          "color": "#EF553B",
          "symbol": "circle"
         },
         "mode": "markers",
         "name": "Weepangandla",
         "orientation": "v",
         "showlegend": true,
         "type": "scatter",
         "x": [
          0.000012730841535576634
         ],
         "xaxis": "x",
         "y": [
          0.0009042437712192559
         ],
         "yaxis": "y"
        },
        {
         "hovertemplate": "Area=Wyra<br>Deviance Scores Amount of Fires=%{x}<br>Deviance Scores Ozon=%{y}<extra></extra>",
         "legendgroup": "Wyra",
         "marker": {
          "color": "#00cc96",
          "symbol": "circle"
         },
         "mode": "markers",
         "name": "Wyra",
         "orientation": "v",
         "showlegend": true,
         "type": "scatter",
         "x": [
          -0.00006831052029631657
         ],
         "xaxis": "x",
         "y": [
          0.0007394931929913533
         ],
         "yaxis": "y"
        },
        {
         "hovertemplate": "Area=Yeldurthy<br>Deviance Scores Amount of Fires=%{x}<br>Deviance Scores Ozon=%{y}<extra></extra>",
         "legendgroup": "Yeldurthy",
         "marker": {
          "color": "#ab63fa",
          "symbol": "circle"
         },
         "mode": "markers",
         "name": "Yeldurthy",
         "orientation": "v",
         "showlegend": true,
         "type": "scatter",
         "x": [
          -0.000024582824326011204
         ],
         "xaxis": "x",
         "y": [
          0.0005686485161994593
         ],
         "yaxis": "y"
        },
        {
         "hovertemplate": "Area=Yellandu<br>Deviance Scores Amount of Fires=%{x}<br>Deviance Scores Ozon=%{y}<extra></extra>",
         "legendgroup": "Yellandu",
         "marker": {
          "color": "#FFA15A",
          "symbol": "circle"
         },
         "mode": "markers",
         "name": "Yellandu",
         "orientation": "v",
         "showlegend": true,
         "type": "scatter",
         "x": [
          -0.0004683816957436
         ],
         "xaxis": "x",
         "y": [
          0.0009482454430346703
         ],
         "yaxis": "y"
        },
        {
         "hovertemplate": "Area=Yellareddypet<br>Deviance Scores Amount of Fires=%{x}<br>Deviance Scores Ozon=%{y}<extra></extra>",
         "legendgroup": "Yellareddypet",
         "marker": {
          "color": "#19d3f3",
          "symbol": "circle"
         },
         "mode": "markers",
         "name": "Yellareddypet",
         "orientation": "v",
         "showlegend": true,
         "type": "scatter",
         "x": [
          -0.00003458259703599866
         ],
         "xaxis": "x",
         "y": [
          0.0007545216901948598
         ],
         "yaxis": "y"
        },
        {
         "hovertemplate": "Area=Zahirabad<br>Deviance Scores Amount of Fires=%{x}<br>Deviance Scores Ozon=%{y}<extra></extra>",
         "legendgroup": "Zahirabad",
         "marker": {
          "color": "#FF6692",
          "symbol": "circle"
         },
         "mode": "markers",
         "name": "Zahirabad",
         "orientation": "v",
         "showlegend": true,
         "type": "scatter",
         "x": [
          0.0001798715922107
         ],
         "xaxis": "x",
         "y": [
          0.0009698868108441637
         ],
         "yaxis": "y"
        },
        {
         "hovertemplate": "Area=Utkoor<br>Deviance Scores Amount of Fires=%{x}<br>Deviance Scores Ozon=%{y}<extra></extra>",
         "legendgroup": "Utkoor",
         "marker": {
          "color": "#B6E880",
          "symbol": "circle"
         },
         "mode": "markers",
         "name": "Utkoor",
         "orientation": "v",
         "showlegend": true,
         "type": "scatter",
         "x": [
          0.000014280454523642084
         ],
         "xaxis": "x",
         "y": [
          0.0007378338270827295
         ],
         "yaxis": "y"
        },
        {
         "hovertemplate": "Area=Chilipched<br>Deviance Scores Amount of Fires=%{x}<br>Deviance Scores Ozon=%{y}<extra></extra>",
         "legendgroup": "Chilipched",
         "marker": {
          "color": "#FF97FF",
          "symbol": "circle"
         },
         "mode": "markers",
         "name": "Chilipched",
         "orientation": "v",
         "showlegend": true,
         "type": "scatter",
         "x": [
          -0.000010780627260841442
         ],
         "xaxis": "x",
         "y": [
          0.0008037443428589319
         ],
         "yaxis": "y"
        },
        {
         "hovertemplate": "Area=Kotapalle<br>Deviance Scores Amount of Fires=%{x}<br>Deviance Scores Ozon=%{y}<extra></extra>",
         "legendgroup": "Kotapalle",
         "marker": {
          "color": "#FECB52",
          "symbol": "circle"
         },
         "mode": "markers",
         "name": "Kotapalle",
         "orientation": "v",
         "showlegend": true,
         "type": "scatter",
         "x": [
          0.000014979234701830363
         ],
         "xaxis": "x",
         "y": [
          0.00048065003986797416
         ],
         "yaxis": "y"
        },
        {
         "hovertemplate": "Area=Muduchinthalaphally<br>Deviance Scores Amount of Fires=%{x}<br>Deviance Scores Ozon=%{y}<extra></extra>",
         "legendgroup": "Muduchinthalaphally",
         "marker": {
          "color": "#636efa",
          "symbol": "circle"
         },
         "mode": "markers",
         "name": "Muduchinthalaphally",
         "orientation": "v",
         "showlegend": true,
         "type": "scatter",
         "x": [
          0.00007558459500221681
         ],
         "xaxis": "x",
         "y": [
          0.000650065456925472
         ],
         "yaxis": "y"
        }
       ],
       "layout": {
        "legend": {
         "title": {
          "text": "Area"
         },
         "tracegroupgap": 0
        },
        "template": {
         "data": {
          "bar": [
           {
            "error_x": {
             "color": "#2a3f5f"
            },
            "error_y": {
             "color": "#2a3f5f"
            },
            "marker": {
             "line": {
              "color": "#E5ECF6",
              "width": 0.5
             },
             "pattern": {
              "fillmode": "overlay",
              "size": 10,
              "solidity": 0.2
             }
            },
            "type": "bar"
           }
          ],
          "barpolar": [
           {
            "marker": {
             "line": {
              "color": "#E5ECF6",
              "width": 0.5
             },
             "pattern": {
              "fillmode": "overlay",
              "size": 10,
              "solidity": 0.2
             }
            },
            "type": "barpolar"
           }
          ],
          "carpet": [
           {
            "aaxis": {
             "endlinecolor": "#2a3f5f",
             "gridcolor": "white",
             "linecolor": "white",
             "minorgridcolor": "white",
             "startlinecolor": "#2a3f5f"
            },
            "baxis": {
             "endlinecolor": "#2a3f5f",
             "gridcolor": "white",
             "linecolor": "white",
             "minorgridcolor": "white",
             "startlinecolor": "#2a3f5f"
            },
            "type": "carpet"
           }
          ],
          "choropleth": [
           {
            "colorbar": {
             "outlinewidth": 0,
             "ticks": ""
            },
            "type": "choropleth"
           }
          ],
          "contour": [
           {
            "colorbar": {
             "outlinewidth": 0,
             "ticks": ""
            },
            "colorscale": [
             [
              0,
              "#0d0887"
             ],
             [
              0.1111111111111111,
              "#46039f"
             ],
             [
              0.2222222222222222,
              "#7201a8"
             ],
             [
              0.3333333333333333,
              "#9c179e"
             ],
             [
              0.4444444444444444,
              "#bd3786"
             ],
             [
              0.5555555555555556,
              "#d8576b"
             ],
             [
              0.6666666666666666,
              "#ed7953"
             ],
             [
              0.7777777777777778,
              "#fb9f3a"
             ],
             [
              0.8888888888888888,
              "#fdca26"
             ],
             [
              1,
              "#f0f921"
             ]
            ],
            "type": "contour"
           }
          ],
          "contourcarpet": [
           {
            "colorbar": {
             "outlinewidth": 0,
             "ticks": ""
            },
            "type": "contourcarpet"
           }
          ],
          "heatmap": [
           {
            "colorbar": {
             "outlinewidth": 0,
             "ticks": ""
            },
            "colorscale": [
             [
              0,
              "#0d0887"
             ],
             [
              0.1111111111111111,
              "#46039f"
             ],
             [
              0.2222222222222222,
              "#7201a8"
             ],
             [
              0.3333333333333333,
              "#9c179e"
             ],
             [
              0.4444444444444444,
              "#bd3786"
             ],
             [
              0.5555555555555556,
              "#d8576b"
             ],
             [
              0.6666666666666666,
              "#ed7953"
             ],
             [
              0.7777777777777778,
              "#fb9f3a"
             ],
             [
              0.8888888888888888,
              "#fdca26"
             ],
             [
              1,
              "#f0f921"
             ]
            ],
            "type": "heatmap"
           }
          ],
          "heatmapgl": [
           {
            "colorbar": {
             "outlinewidth": 0,
             "ticks": ""
            },
            "colorscale": [
             [
              0,
              "#0d0887"
             ],
             [
              0.1111111111111111,
              "#46039f"
             ],
             [
              0.2222222222222222,
              "#7201a8"
             ],
             [
              0.3333333333333333,
              "#9c179e"
             ],
             [
              0.4444444444444444,
              "#bd3786"
             ],
             [
              0.5555555555555556,
              "#d8576b"
             ],
             [
              0.6666666666666666,
              "#ed7953"
             ],
             [
              0.7777777777777778,
              "#fb9f3a"
             ],
             [
              0.8888888888888888,
              "#fdca26"
             ],
             [
              1,
              "#f0f921"
             ]
            ],
            "type": "heatmapgl"
           }
          ],
          "histogram": [
           {
            "marker": {
             "pattern": {
              "fillmode": "overlay",
              "size": 10,
              "solidity": 0.2
             }
            },
            "type": "histogram"
           }
          ],
          "histogram2d": [
           {
            "colorbar": {
             "outlinewidth": 0,
             "ticks": ""
            },
            "colorscale": [
             [
              0,
              "#0d0887"
             ],
             [
              0.1111111111111111,
              "#46039f"
             ],
             [
              0.2222222222222222,
              "#7201a8"
             ],
             [
              0.3333333333333333,
              "#9c179e"
             ],
             [
              0.4444444444444444,
              "#bd3786"
             ],
             [
              0.5555555555555556,
              "#d8576b"
             ],
             [
              0.6666666666666666,
              "#ed7953"
             ],
             [
              0.7777777777777778,
              "#fb9f3a"
             ],
             [
              0.8888888888888888,
              "#fdca26"
             ],
             [
              1,
              "#f0f921"
             ]
            ],
            "type": "histogram2d"
           }
          ],
          "histogram2dcontour": [
           {
            "colorbar": {
             "outlinewidth": 0,
             "ticks": ""
            },
            "colorscale": [
             [
              0,
              "#0d0887"
             ],
             [
              0.1111111111111111,
              "#46039f"
             ],
             [
              0.2222222222222222,
              "#7201a8"
             ],
             [
              0.3333333333333333,
              "#9c179e"
             ],
             [
              0.4444444444444444,
              "#bd3786"
             ],
             [
              0.5555555555555556,
              "#d8576b"
             ],
             [
              0.6666666666666666,
              "#ed7953"
             ],
             [
              0.7777777777777778,
              "#fb9f3a"
             ],
             [
              0.8888888888888888,
              "#fdca26"
             ],
             [
              1,
              "#f0f921"
             ]
            ],
            "type": "histogram2dcontour"
           }
          ],
          "mesh3d": [
           {
            "colorbar": {
             "outlinewidth": 0,
             "ticks": ""
            },
            "type": "mesh3d"
           }
          ],
          "parcoords": [
           {
            "line": {
             "colorbar": {
              "outlinewidth": 0,
              "ticks": ""
             }
            },
            "type": "parcoords"
           }
          ],
          "pie": [
           {
            "automargin": true,
            "type": "pie"
           }
          ],
          "scatter": [
           {
            "marker": {
             "colorbar": {
              "outlinewidth": 0,
              "ticks": ""
             }
            },
            "type": "scatter"
           }
          ],
          "scatter3d": [
           {
            "line": {
             "colorbar": {
              "outlinewidth": 0,
              "ticks": ""
             }
            },
            "marker": {
             "colorbar": {
              "outlinewidth": 0,
              "ticks": ""
             }
            },
            "type": "scatter3d"
           }
          ],
          "scattercarpet": [
           {
            "marker": {
             "colorbar": {
              "outlinewidth": 0,
              "ticks": ""
             }
            },
            "type": "scattercarpet"
           }
          ],
          "scattergeo": [
           {
            "marker": {
             "colorbar": {
              "outlinewidth": 0,
              "ticks": ""
             }
            },
            "type": "scattergeo"
           }
          ],
          "scattergl": [
           {
            "marker": {
             "colorbar": {
              "outlinewidth": 0,
              "ticks": ""
             }
            },
            "type": "scattergl"
           }
          ],
          "scattermapbox": [
           {
            "marker": {
             "colorbar": {
              "outlinewidth": 0,
              "ticks": ""
             }
            },
            "type": "scattermapbox"
           }
          ],
          "scatterpolar": [
           {
            "marker": {
             "colorbar": {
              "outlinewidth": 0,
              "ticks": ""
             }
            },
            "type": "scatterpolar"
           }
          ],
          "scatterpolargl": [
           {
            "marker": {
             "colorbar": {
              "outlinewidth": 0,
              "ticks": ""
             }
            },
            "type": "scatterpolargl"
           }
          ],
          "scatterternary": [
           {
            "marker": {
             "colorbar": {
              "outlinewidth": 0,
              "ticks": ""
             }
            },
            "type": "scatterternary"
           }
          ],
          "surface": [
           {
            "colorbar": {
             "outlinewidth": 0,
             "ticks": ""
            },
            "colorscale": [
             [
              0,
              "#0d0887"
             ],
             [
              0.1111111111111111,
              "#46039f"
             ],
             [
              0.2222222222222222,
              "#7201a8"
             ],
             [
              0.3333333333333333,
              "#9c179e"
             ],
             [
              0.4444444444444444,
              "#bd3786"
             ],
             [
              0.5555555555555556,
              "#d8576b"
             ],
             [
              0.6666666666666666,
              "#ed7953"
             ],
             [
              0.7777777777777778,
              "#fb9f3a"
             ],
             [
              0.8888888888888888,
              "#fdca26"
             ],
             [
              1,
              "#f0f921"
             ]
            ],
            "type": "surface"
           }
          ],
          "table": [
           {
            "cells": {
             "fill": {
              "color": "#EBF0F8"
             },
             "line": {
              "color": "white"
             }
            },
            "header": {
             "fill": {
              "color": "#C8D4E3"
             },
             "line": {
              "color": "white"
             }
            },
            "type": "table"
           }
          ]
         },
         "layout": {
          "annotationdefaults": {
           "arrowcolor": "#2a3f5f",
           "arrowhead": 0,
           "arrowwidth": 1
          },
          "autotypenumbers": "strict",
          "coloraxis": {
           "colorbar": {
            "outlinewidth": 0,
            "ticks": ""
           }
          },
          "colorscale": {
           "diverging": [
            [
             0,
             "#8e0152"
            ],
            [
             0.1,
             "#c51b7d"
            ],
            [
             0.2,
             "#de77ae"
            ],
            [
             0.3,
             "#f1b6da"
            ],
            [
             0.4,
             "#fde0ef"
            ],
            [
             0.5,
             "#f7f7f7"
            ],
            [
             0.6,
             "#e6f5d0"
            ],
            [
             0.7,
             "#b8e186"
            ],
            [
             0.8,
             "#7fbc41"
            ],
            [
             0.9,
             "#4d9221"
            ],
            [
             1,
             "#276419"
            ]
           ],
           "sequential": [
            [
             0,
             "#0d0887"
            ],
            [
             0.1111111111111111,
             "#46039f"
            ],
            [
             0.2222222222222222,
             "#7201a8"
            ],
            [
             0.3333333333333333,
             "#9c179e"
            ],
            [
             0.4444444444444444,
             "#bd3786"
            ],
            [
             0.5555555555555556,
             "#d8576b"
            ],
            [
             0.6666666666666666,
             "#ed7953"
            ],
            [
             0.7777777777777778,
             "#fb9f3a"
            ],
            [
             0.8888888888888888,
             "#fdca26"
            ],
            [
             1,
             "#f0f921"
            ]
           ],
           "sequentialminus": [
            [
             0,
             "#0d0887"
            ],
            [
             0.1111111111111111,
             "#46039f"
            ],
            [
             0.2222222222222222,
             "#7201a8"
            ],
            [
             0.3333333333333333,
             "#9c179e"
            ],
            [
             0.4444444444444444,
             "#bd3786"
            ],
            [
             0.5555555555555556,
             "#d8576b"
            ],
            [
             0.6666666666666666,
             "#ed7953"
            ],
            [
             0.7777777777777778,
             "#fb9f3a"
            ],
            [
             0.8888888888888888,
             "#fdca26"
            ],
            [
             1,
             "#f0f921"
            ]
           ]
          },
          "colorway": [
           "#636efa",
           "#EF553B",
           "#00cc96",
           "#ab63fa",
           "#FFA15A",
           "#19d3f3",
           "#FF6692",
           "#B6E880",
           "#FF97FF",
           "#FECB52"
          ],
          "font": {
           "color": "#2a3f5f"
          },
          "geo": {
           "bgcolor": "white",
           "lakecolor": "white",
           "landcolor": "#E5ECF6",
           "showlakes": true,
           "showland": true,
           "subunitcolor": "white"
          },
          "hoverlabel": {
           "align": "left"
          },
          "hovermode": "closest",
          "mapbox": {
           "style": "light"
          },
          "paper_bgcolor": "white",
          "plot_bgcolor": "#E5ECF6",
          "polar": {
           "angularaxis": {
            "gridcolor": "white",
            "linecolor": "white",
            "ticks": ""
           },
           "bgcolor": "#E5ECF6",
           "radialaxis": {
            "gridcolor": "white",
            "linecolor": "white",
            "ticks": ""
           }
          },
          "scene": {
           "xaxis": {
            "backgroundcolor": "#E5ECF6",
            "gridcolor": "white",
            "gridwidth": 2,
            "linecolor": "white",
            "showbackground": true,
            "ticks": "",
            "zerolinecolor": "white"
           },
           "yaxis": {
            "backgroundcolor": "#E5ECF6",
            "gridcolor": "white",
            "gridwidth": 2,
            "linecolor": "white",
            "showbackground": true,
            "ticks": "",
            "zerolinecolor": "white"
           },
           "zaxis": {
            "backgroundcolor": "#E5ECF6",
            "gridcolor": "white",
            "gridwidth": 2,
            "linecolor": "white",
            "showbackground": true,
            "ticks": "",
            "zerolinecolor": "white"
           }
          },
          "shapedefaults": {
           "line": {
            "color": "#2a3f5f"
           }
          },
          "ternary": {
           "aaxis": {
            "gridcolor": "white",
            "linecolor": "white",
            "ticks": ""
           },
           "baxis": {
            "gridcolor": "white",
            "linecolor": "white",
            "ticks": ""
           },
           "bgcolor": "#E5ECF6",
           "caxis": {
            "gridcolor": "white",
            "linecolor": "white",
            "ticks": ""
           }
          },
          "title": {
           "x": 0.05
          },
          "xaxis": {
           "automargin": true,
           "gridcolor": "white",
           "linecolor": "white",
           "ticks": "",
           "title": {
            "standoff": 15
           },
           "zerolinecolor": "white",
           "zerolinewidth": 2
          },
          "yaxis": {
           "automargin": true,
           "gridcolor": "white",
           "linecolor": "white",
           "ticks": "",
           "title": {
            "standoff": 15
           },
           "zerolinecolor": "white",
           "zerolinewidth": 2
          }
         }
        },
        "title": {
         "text": "Relation Between Ozon and Amount of Fires Changes over the Years 2015-2021"
        },
        "xaxis": {
         "anchor": "y",
         "domain": [
          0,
          1
         ],
         "title": {
          "text": "Deviance Scores Amount of Fires"
         }
        },
        "yaxis": {
         "anchor": "x",
         "domain": [
          0,
          1
         ],
         "title": {
          "text": "Deviance Scores Ozon"
         }
        }
       }
      }
     },
     "metadata": {},
     "output_type": "display_data"
    },
    {
     "name": "stdout",
     "output_type": "stream",
     "text": [
      "Pearsons correlation: -0.109\n"
     ]
    },
    {
     "data": {
      "text/plain": [
       "()"
      ]
     },
     "execution_count": 7,
     "metadata": {},
     "output_type": "execute_result"
    }
   ],
   "source": [
    "os.chdir('c:\\\\Users\\\\Jesse\\\\OneDrive\\\\Documenten\\\\Master BAOR\\\\Thesis\\\\GitHub\\\\dicra\\\\analytics\\\\sandbox\\\\notebooks\\\\crop_fires\\\\DPPD_Jesse\\\\Ozon')\n",
    "Ozon_df = pd.read_csv('Ozon_years_mandal.csv', index_col=0)\n",
    "correlation(Ozon_df, 2021, 'Ozon', mandal_boundaries, 'Mandal_Nam')"
   ]
  }
 ],
 "metadata": {
  "kernelspec": {
   "display_name": "Python 3.8.11 ('gurobi')",
   "language": "python",
   "name": "python3"
  },
  "language_info": {
   "codemirror_mode": {
    "name": "ipython",
    "version": 3
   },
   "file_extension": ".py",
   "mimetype": "text/x-python",
   "name": "python",
   "nbconvert_exporter": "python",
   "pygments_lexer": "ipython3",
   "version": "3.8.11"
  },
  "orig_nbformat": 4,
  "vscode": {
   "interpreter": {
    "hash": "8137cca2c96495771a6332c43a92746d2e8f2f032dec7e1d4873522724197fcb"
   }
  }
 },
 "nbformat": 4,
 "nbformat_minor": 2
}
