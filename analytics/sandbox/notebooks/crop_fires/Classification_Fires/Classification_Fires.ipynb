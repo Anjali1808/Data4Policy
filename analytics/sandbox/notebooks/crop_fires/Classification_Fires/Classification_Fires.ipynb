{
 "cells": [
  {
   "cell_type": "code",
   "execution_count": 1,
   "metadata": {},
   "outputs": [],
   "source": [
    "import geopandas as gpd\n",
    "import pandas as pd\n",
    "import rasterio\n",
    "from rasterstats import zonal_stats\n",
    "import matplotlib.pyplot as plt\n",
    "from rasterio.plot import show\n",
    "import os"
   ]
  },
  {
   "cell_type": "code",
   "execution_count": 2,
   "metadata": {},
   "outputs": [],
   "source": [
    "os.chdir('c:\\\\Users\\\\Jesse\\\\OneDrive\\\\Documenten\\\\Master BAOR\\\\Thesis\\\\GitHub\\\\dicra\\\\analytics\\\\sandbox\\\\geospatial_internship\\\\datasets')\n",
    "fire_data = pd.read_csv('telangana_fires.csv')\n",
    "telangana_shape = gpd.read_file('telangana_shapefile.geojson')\n",
    "\n",
    "os.chdir('c:\\\\Users\\\\Jesse\\\\OneDrive\\\\Documenten\\\\Master BAOR\\\\Thesis\\\\GitHub\\\\dicra\\\\src\\\\data_preprocessing\\\\tsdm\\\\')\n",
    "district_boundaries = gpd.read_file('District_Boundary.shp')\n",
    "\n",
    "os.chdir('c:\\\\Users\\\\Jesse\\\\OneDrive\\\\Documenten\\\\Master BAOR\\\\Thesis\\\\GitHub\\\\dicra\\\\analytics\\\\sandbox\\\\notebooks\\\\crop_fires\\\\Classification_Fires')\n",
    "fires_2021 = gpd.read_file('telanganafire.geojson')"
   ]
  },
  {
   "cell_type": "code",
   "execution_count": 3,
   "metadata": {},
   "outputs": [],
   "source": [
    "fire_data['acq_date'] = pd.to_datetime(fire_data['acq_date'])\n",
    "fires_2021['acq_date'] = pd.to_datetime(fires_2021['acq_date'])"
   ]
  },
  {
   "cell_type": "code",
   "execution_count": 37,
   "metadata": {},
   "outputs": [
    {
     "name": "stderr",
     "output_type": "stream",
     "text": [
      "c:\\Users\\Jesse\\Anaconda3\\envs\\gurobi\\lib\\site-packages\\pyproj\\crs\\crs.py:53: FutureWarning: '+init=<authority>:<code>' syntax is deprecated. '<authority>:<code>' is the preferred initialization method. When making the change, be mindful of axis order changes: https://pyproj4.github.io/pyproj/stable/gotchas.html#axis-order-changes-in-proj-6\n",
      "  return _prepare_from_string(\" \".join(pjargs))\n",
      "c:\\Users\\Jesse\\Anaconda3\\envs\\gurobi\\lib\\site-packages\\geopandas\\geodataframe.py:1322: SettingWithCopyWarning: \n",
      "A value is trying to be set on a copy of a slice from a DataFrame.\n",
      "Try using .loc[row_indexer,col_indexer] = value instead\n",
      "\n",
      "See the caveats in the documentation: https://pandas.pydata.org/pandas-docs/stable/user_guide/indexing.html#returning-a-view-versus-a-copy\n",
      "  super(GeoDataFrame, self).__setitem__(key, value)\n",
      "c:\\Users\\Jesse\\Anaconda3\\envs\\gurobi\\lib\\site-packages\\pandas\\core\\indexing.py:1732: SettingWithCopyWarning: \n",
      "A value is trying to be set on a copy of a slice from a DataFrame\n",
      "\n",
      "See the caveats in the documentation: https://pandas.pydata.org/pandas-docs/stable/user_guide/indexing.html#returning-a-view-versus-a-copy\n",
      "  self._setitem_single_block(indexer, value, name)\n",
      "c:\\Users\\Jesse\\Anaconda3\\envs\\gurobi\\lib\\site-packages\\pandas\\core\\indexing.py:1965: SettingWithCopyWarning: \n",
      "A value is trying to be set on a copy of a slice from a DataFrame\n",
      "\n",
      "See the caveats in the documentation: https://pandas.pydata.org/pandas-docs/stable/user_guide/indexing.html#returning-a-view-versus-a-copy\n",
      "  self.obj._check_is_chained_assignment_possible()\n"
     ]
    }
   ],
   "source": [
    "#Create geodataframe from the data\n",
    "geo_fire_data = gpd.GeoDataFrame(fire_data,geometry = gpd.points_from_xy(fire_data.longitude,fire_data.latitude), crs = {'init': 'epsg:4326'}) \n",
    "\n",
    "#Make sure the\n",
    "geo_fire_data['geometry'] = geo_fire_data['geometry'].geometry.to_crs(epsg = 4326)\n",
    "district_boundaries['geometry'] = district_boundaries['geometry'].geometry.to_crs(epsg = 4326)\n",
    "\n",
    "#Combine fires from 2021 with the rest\n",
    "geo_fire_data = geo_fire_data.append(fires_2021)\n",
    "geo_fire_data['fireID'] = [a for a in range(0, len(geo_fire_data))]\n",
    "\n",
    "polygons = []\n",
    "\n",
    "#-------create a buffer of square of 1km size using buffer function from shapely-----#\n",
    "\n",
    "for i in geo_fire_data.geometry:\n",
    "    p1 = i\n",
    "    buffer = p1.buffer(0.004504505, cap_style = 3)         #500m = 0.004504505 and cap_style 3 is square box of same of 1km side length\n",
    "    polygons.append(buffer)\n",
    "\n",
    "#create a new column in GeoDataFrame newdf and dump polygon buffer of respective point values\n",
    "geo_fire_data['geometry buffered'] = polygons \n",
    "\n",
    "geo_fire_data['acq_date'] =  pd.to_datetime(geo_fire_data['acq_date'])\n",
    "geo_fire_data['year'] = (geo_fire_data['acq_date']).dt.year\n",
    "\n",
    "geo_fire_data = geo_fire_data[geo_fire_data['year']<2022]\n",
    "geo_fire_data\n",
    "\n",
    "os.chdir('c:\\\\Users\\\\Jesse\\\\OneDrive\\\\Documenten\\\\Master BAOR\\\\Thesis\\\\GitHub\\\\dicra\\\\analytics\\\\sandbox\\\\notebooks\\\\crop_fires\\\\Exploration\\\\Landuse_Analysis')\n",
    "df = pd.DataFrame(columns=geo_fire_data.columns)\n",
    "\n",
    "for a in geo_fire_data['year'].unique():\n",
    "    year = a\n",
    "    year_data = geo_fire_data[geo_fire_data['year'] == year]\n",
    "    if (year==2015) | (year == 2016):\n",
    "        tiff = '01-01-2017.tif'\n",
    "    else:\n",
    "        tiff = '01-01-'+str(year)+'.tif'\n",
    "    lulc = rasterio.open(tiff, mode = 'r')\n",
    "    lulc_array = lulc.read(1) # landuse corresponding to each rasterpixel, so we extracted the pixel values from the raster\n",
    "    # affine: 1: corresponds to the width of each pixel, 2: row rotation, 3: x-coordinate of the upper left pixel, 4: column rotation, 5: height of each pixel, 6: y-coordinate of the upper left pixel\n",
    "    affine = lulc.transform\n",
    "    cmap = {1: 'Water', 2: 'Trees', 4: 'Flooded Vegetation', 5: 'Crops', 7: 'Built Area', 8: 'Bare Ground', 9: 'Snow/Ice', 10: 'Clouds', 11: 'Rangeland'}\n",
    "    year_data['Land use'] = 0\n",
    "    year_data['Trees Around'] = 0\n",
    "\n",
    "    for i in range(0, len(year_data)):\n",
    "        test = zonal_stats(year_data['geometry'].iloc[i], lulc_array, affine = affine, geojson_out = True, stats = 'majority', nodata = lulc.nodata, categorical=True, category_map = cmap, all_touched=True)\n",
    "        try: \n",
    "            year_data['Land use'].iloc[i] = test[0]['properties']['majority']\n",
    "        except:\n",
    "            year_data['Land use'].iloc[i] = 'unknown'\n",
    "\n",
    "    for i in range(0, len(year_data)):\n",
    "        test = zonal_stats(year_data['geometry buffered'].iloc[i], lulc_array, affine = affine, geojson_out = True, stats = 'majority', nodata = lulc.nodata, categorical=True, category_map = cmap, all_touched=True)\n",
    "\n",
    "        if 'Trees' in list(test[0]['properties'].keys()):\n",
    "            year_data['Trees Around'].iloc[i]=1\n",
    "        else:\n",
    "            year_data['Trees Around'].iloc[i]=0\n",
    "\n",
    "    \n",
    "    df = pd.concat([df, year_data], axis = 0)\n",
    "\n",
    "    "
   ]
  },
  {
   "cell_type": "code",
   "execution_count": 38,
   "metadata": {},
   "outputs": [
    {
     "name": "stderr",
     "output_type": "stream",
     "text": [
      "c:\\Users\\Jesse\\Anaconda3\\envs\\gurobi\\lib\\site-packages\\pandas\\core\\indexing.py:1732: SettingWithCopyWarning: \n",
      "A value is trying to be set on a copy of a slice from a DataFrame\n",
      "\n",
      "See the caveats in the documentation: https://pandas.pydata.org/pandas-docs/stable/user_guide/indexing.html#returning-a-view-versus-a-copy\n",
      "  self._setitem_single_block(indexer, value, name)\n"
     ]
    }
   ],
   "source": [
    "df['agricultural'] = 0\n",
    "df['agricultural strict'] = 0\n",
    "\n",
    "for i in range(0, len(df)):\n",
    "    if (df['Land use'].iloc[i] == 5) | (df['Land use'].iloc[i] == 4) :\n",
    "        df['agricultural'].iloc[i] = 1\n",
    "    if ((df['Land use'].iloc[i] == 5) | (df['Land use'].iloc[i] == 4)) & (df['Trees Around'].iloc[i]==0):\n",
    "        df['agricultural strict'].iloc[i] = 1\n"
   ]
  },
  {
   "cell_type": "code",
   "execution_count": 41,
   "metadata": {},
   "outputs": [],
   "source": [
    "os.chdir('c:\\\\Users\\\\Jesse\\\\OneDrive\\\\Documenten\\\\Master BAOR\\\\Thesis\\\\GitHub\\\\dicra\\\\analytics\\\\sandbox\\\\notebooks\\\\crop_fires\\\\Classification_Fires')"
   ]
  },
  {
   "cell_type": "code",
   "execution_count": 42,
   "metadata": {},
   "outputs": [],
   "source": [
    "df[['fireID', 'latitude', 'longitude', 'brightness', 'scan', 'track',\n",
    "       'acq_date', 'acq_time', 'satellite', 'instrument', 'confidence',\n",
    "       'version', 'bright_t31', 'frp', 'daynight', 'type', 'geometry','agricultural', 'agricultural strict']].to_csv('fires_data_classified.csv')"
   ]
  },
  {
   "cell_type": "code",
   "execution_count": 43,
   "metadata": {},
   "outputs": [
    {
     "name": "stderr",
     "output_type": "stream",
     "text": [
      "c:\\Users\\Jesse\\Anaconda3\\envs\\gurobi\\lib\\site-packages\\pyproj\\crs\\crs.py:53: FutureWarning: '+init=<authority>:<code>' syntax is deprecated. '<authority>:<code>' is the preferred initialization method. When making the change, be mindful of axis order changes: https://pyproj4.github.io/pyproj/stable/gotchas.html#axis-order-changes-in-proj-6\n",
      "  return _prepare_from_string(\" \".join(pjargs))\n"
     ]
    }
   ],
   "source": [
    "df = gpd.GeoDataFrame(df,geometry = df.geometry, crs = {'init': 'epsg:4326'}) "
   ]
  },
  {
   "cell_type": "code",
   "execution_count": 44,
   "metadata": {},
   "outputs": [],
   "source": [
    "df[['fireID', 'latitude', 'longitude', 'brightness', 'scan', 'track',\n",
    "       'acq_date', 'acq_time', 'satellite', 'instrument', 'confidence',\n",
    "       'version', 'bright_t31', 'frp', 'daynight', 'type', 'geometry','agricultural', 'agricultural strict']].to_file('fires_data_classified.geojson', driver=\"GeoJSON\") "
   ]
  },
  {
   "cell_type": "markdown",
   "metadata": {},
   "source": [
    "# Classification (Using Shivangs Approach)"
   ]
  },
  {
   "cell_type": "markdown",
   "metadata": {},
   "source": [
    "###Reference : https://github.com/luckyw0w/Data4Policy/tree/main/Geospatial%20Data%20Science%20Internship/ShivangPandey\n",
    "\n",
    "So, the buffer function of geopandas (based on the shapely library) is to create a buffer polygon around a point. The first parameter of the buffer is to tell length in the degree to mark the point in a square pixel and 'cap_style' to tell the type of polygon. here 'cap_style = 3' means square polygon for buffer point. \n",
    "\n",
    "We need to create a polygon, because MODIS Thermal Anomalies & Fire Daily data is calculated on 1km resolution and given esri LULC data is at 10m resolution and we can say it like that 1 pixel of MODIS fire data should be as big as 10000 pixels of LULC map.\n",
    "How we are going to use that? by creating a polygon as a size of 10000 pixels of LULC map.\n"
   ]
  },
  {
   "cell_type": "markdown",
   "metadata": {},
   "source": [
    "###Reference: https://www.arcgis.com/home/item.html?id=d6642f8a4f6d4685a24ae2dc0c73d4ac"
   ]
  },
  {
   "cell_type": "code",
   "execution_count": 97,
   "metadata": {},
   "outputs": [
    {
     "name": "stderr",
     "output_type": "stream",
     "text": [
      "c:\\Users\\Jesse\\Anaconda3\\envs\\gurobi\\lib\\site-packages\\rasterstats\\io.py:301: UserWarning: Setting nodata to -999; specify nodata explicitly\n",
      "  warnings.warn(\"Setting nodata to -999; specify nodata explicitly\")\n"
     ]
    },
    {
     "name": "stdout",
     "output_type": "stream",
     "text": [
      "--- 167.75042867660522 seconds ---\n"
     ]
    }
   ],
   "source": [
    "os.chdir('c:\\\\Users\\\\Jesse\\\\OneDrive\\\\Documenten\\\\Master BAOR\\\\Thesis\\\\GitHub\\\\dicra\\\\analytics\\\\notebooks\\\\crop_fires')\n",
    "tiff = 'vmcx_mosiac_reprj.tif'\n",
    "\n",
    "data = geo_fire_data\n",
    "data['index'] = data.index\n",
    "\n",
    "#------------------Checking probability in mosaic tiff file----------------------#\n",
    "import time                                      #to calculate time taken to run the model\n",
    "start_time = time.time()                         #start time of the program\n",
    "\n",
    "index_list = []                               #declaring empty to get corresponding id of fire point\n",
    "flag_list = []                                #empty list to store class of corresponding fire points based polygon\n",
    "    \n",
    "for j in range(len(data)):                #iterating all rows of dataframe to get point info\n",
    "\n",
    "    stats = zonal_stats(data.iloc[j].geometry, tiff, stats=\"*\", categorical=True)         #getting statistics from the raster point \n",
    "    i = stats[0]                                                                          #storing statsistical dictionary in a value\n",
    "    if i['count'] != 0:                                                                   #check if polygon is within the tiff file or not\n",
    "        index = data.iloc[j]['index']                                                     #get id of polygon\n",
    "        index_list.append(index)                                                          #store id in a list\n",
    "        if (5 in i) or (4 in i): \n",
    "            #print(i)                                                         #check if crop class or flooded vegitation is in polygon region or not\n",
    "            flag = 1                                                                      #Mark whether occurence is in crop field\n",
    "        else:\n",
    "            flag = 0                                                                      # if crop class is not in polygon, return 0 pixels\n",
    "        flag_list.append(flag)                                                            #store class value in a list\n",
    "        \n",
    "print(\"--- %s seconds ---\" % (time.time() - start_time))                                  #print total time taken to run code \n",
    "\n",
    "#dictionary created wth fireID and class (1,0)\n",
    "id_class = {key: value for key, value in zip(index_list, flag_list)}\n",
    "\n",
    "#creating tuple of each key and  value pair\n",
    "data_items = id_class.items()                                                \n",
    "#dumping all tuples in a list\n",
    "data_list = list(data_items)\n",
    "\n",
    "#creating DataFrame with id and class values\n",
    "class_df = pd.DataFrame(data_list, columns= ['fireID','class (1,0)'])\n"
   ]
  },
  {
   "cell_type": "code",
   "execution_count": 98,
   "metadata": {},
   "outputs": [],
   "source": [
    "geo_fire_data['agricultural'] = class_df['class (1,0)']"
   ]
  },
  {
   "cell_type": "code",
   "execution_count": 99,
   "metadata": {},
   "outputs": [],
   "source": [
    "geo_fire_data[['fireID', 'latitude', 'longitude', 'brightness', 'scan', 'track',\n",
    "       'acq_date', 'acq_time', 'satellite', 'instrument', 'confidence',\n",
    "       'version', 'bright_t31', 'frp', 'daynight', 'type', 'geometry','agricultural']].to_csv('fires_data_classified.csv')"
   ]
  }
 ],
 "metadata": {
  "interpreter": {
   "hash": "8137cca2c96495771a6332c43a92746d2e8f2f032dec7e1d4873522724197fcb"
  },
  "kernelspec": {
   "display_name": "Python 3.8.11 ('gurobi')",
   "language": "python",
   "name": "python3"
  },
  "language_info": {
   "codemirror_mode": {
    "name": "ipython",
    "version": 3
   },
   "file_extension": ".py",
   "mimetype": "text/x-python",
   "name": "python",
   "nbconvert_exporter": "python",
   "pygments_lexer": "ipython3",
   "version": "3.8.11"
  },
  "orig_nbformat": 4
 },
 "nbformat": 4,
 "nbformat_minor": 2
}
