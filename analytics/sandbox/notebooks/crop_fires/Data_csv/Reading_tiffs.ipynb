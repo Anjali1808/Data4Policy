{
 "cells": [
  {
   "cell_type": "code",
   "execution_count": null,
   "metadata": {},
   "outputs": [],
   "source": [
    "import pandas as pd\n",
    "import os\n",
    "import geopandas as gpd\n",
    "import geoplot\n",
    "import geoplot.crs as gcrs\n",
    "import rasterio\n",
    "import matplotlib.pyplot as plt\n",
    "import time\n",
    "from rasterstats import zonal_stats\n",
    "from osgeo import gdal\n",
    "import numpy as np\n",
    "import sys\n",
    "\n",
    "sys.path.append(os.path.abspath(\"c:\\\\Users\\\\Jesse\\\\OneDrive\\\\Documenten\\\\Master BAOR\\\\Thesis\\\\GitHub\\\\dicra\\\\analytics\\\\sandbox\\\\notebooks\\\\crop_fires\\\\Functions\"))\n",
    "import Preprocess"
   ]
  },
  {
   "cell_type": "code",
   "execution_count": null,
   "metadata": {},
   "outputs": [],
   "source": [
    "os.chdir('c:\\\\Users\\\\Jesse\\\\OneDrive\\\\Documenten\\\\Master BAOR\\\\Thesis\\\\GitHub\\\\dicra\\\\src\\\\data_preprocessing\\\\tsdm\\\\')\n",
    "mandal_boundaries = gpd.read_file('Mandal_Boundary.shp')\n",
    "mandal_boundaries = mandal_boundaries.reset_index()\n",
    "\n",
    "os.chdir('c:\\\\Users\\\\Jesse\\\\OneDrive\\\\Documenten\\\\Master BAOR\\\\Thesis\\\\GitHub\\\\dicra\\\\src\\\\data_preprocessing\\\\tsdm\\\\')\n",
    "district_boundaries = gpd.read_file('District_Boundary.shp')\n",
    "district_boundaries = district_boundaries.reset_index()\n",
    "\n",
    "os.chdir('c:\\\\Users\\\\Jesse\\\\OneDrive\\\\Documenten\\\\Master BAOR\\\\Thesis\\\\GitHub\\\\dicra\\\\src\\\\data_preprocessing\\\\base_geojson')\n",
    "shape_telangana = gpd.read_file('TL_state_shapefile_for_clip.geojson')\n",
    "shape_telangana = shape_telangana.explode()\n",
    "\n",
    "#os.chdir('c:\\\\Users\\\\Jesse\\\\OneDrive\\\\Documenten\\\\Master BAOR\\\\Thesis\\\\GitHub\\\\dicra\\\\analytics\\\\sandbox\\\\notebooks\\\\crop_fires\\\\DPPD_Jesse\\\\Data')\n",
    "#one_km_grid = gpd.read_file('telangana_1km_grid.geojson')\n",
    "#one_km_grid = one_km_grid.reset_index()\n",
    "\n",
    "#os.chdir('c:\\\\Users\\\\Jesse\\\\OneDrive\\\\Documenten\\\\Master BAOR\\\\Thesis\\\\GitHub\\\\dicra\\\\analytics\\\\sandbox\\\\notebooks\\\\crop_fires\\\\DPPD_Jesse\\\\Data')\n",
    "#ten_km_grid = gpd.read_file('telangana_10km_grid.geojson')\n",
    "#ten_km_grid = ten_km_grid.reset_index()"
   ]
  },
  {
   "cell_type": "code",
   "execution_count": null,
   "metadata": {},
   "outputs": [],
   "source": [
    "import importlib\n",
    "importlib.reload(Preprocess)"
   ]
  },
  {
   "cell_type": "code",
   "execution_count": null,
   "metadata": {},
   "outputs": [],
   "source": [
    "stat_df_PM25 = Preprocess.read_tiffs(mandal_boundaries, 'Mandal', 'PM2.5', 3, 5, 6, 10, True, 'mean')\n",
    "stat_df_NO2 = Preprocess.read_tiffs(mandal_boundaries, 'Mandal',  'NO2', 3, 5, 6, 10, True, 'mean')\n",
    "stat_df_SSM = Preprocess.read_tiffs(mandal_boundaries, 'Mandal', 'SSM', 9, 11, 4, 8, True, 'mean')\n",
    "stat_df_SSM_median = Preprocess.read_tiffs(mandal_boundaries, 'Mandal', 'SSM', 9, 11, 4, 8, True, 'median')\n",
    "stat_df_BA = Preprocess.read_tiffs(mandal_boundaries, 'Mandal', 'BA_monthly', 5, 7, 0, 4, False, 'sum')\n"
   ]
  },
  {
   "cell_type": "code",
   "execution_count": 62,
   "metadata": {},
   "outputs": [],
   "source": [
    "stat_df_SSM_median = Preprocess.read_tiffs(mandal_boundaries, 'Mandal', 'SSM', 9, 11, 4, 8, True, 'median')"
   ]
  },
  {
   "cell_type": "code",
   "execution_count": null,
   "metadata": {},
   "outputs": [],
   "source": [
    "stat_df_ST_mean = Preprocess.read_tiffs(mandal_boundaries, 'Mandal', 'ST', 9, 11, 4, 8, True, 'mean')\n",
    "stat_df_ST_percentile_90 = Preprocess.read_tiffs(mandal_boundaries, 'Mandal', 'ST', 9, 11, 4, 8, True, 'percentile_90')\n",
    "stat_df_ST_max = Preprocess.read_tiffs(mandal_boundaries, 'Mandal', 'ST', 9, 11, 4, 8, True, 'max')\n",
    "stat_df_ST_min = Preprocess.read_tiffs(mandal_boundaries, 'Mandal', 'ST', 9, 11, 4, 8, True, 'min')\n",
    "stat_df_ST_median = Preprocess.read_tiffs(mandal_boundaries, 'Mandal', 'ST', 9, 11, 4, 8, True, 'median')"
   ]
  },
  {
   "cell_type": "code",
   "execution_count": null,
   "metadata": {},
   "outputs": [],
   "source": [
    "stat_df_AOT_mean = Preprocess.read_tiffs(mandal_boundaries, 'Mandal', 'AOT', 3, 5, 6, 10, True, 'mean')\n",
    "stat_df_AOT_percentile_90 = Preprocess.read_tiffs(mandal_boundaries, 'Mandal', 'AOT', 3, 5, 6, 10, True, 'percentile_90')\n",
    "stat_df_AOT_max = Preprocess.read_tiffs(mandal_boundaries, 'Mandal', 'AOT', 3, 5, 6, 10, True, 'max')\n",
    "stat_df_AOT_min = Preprocess.read_tiffs(mandal_boundaries, 'Mandal', 'AOT', 3, 5, 6, 10, True, 'min')\n",
    "stat_df_AOT_median = Preprocess.read_tiffs(mandal_boundaries, 'Mandal', 'AOT', 3, 5, 6, 10,  True, 'median')"
   ]
  },
  {
   "cell_type": "code",
   "execution_count": null,
   "metadata": {},
   "outputs": [],
   "source": [
    "stat_df_PRE_mean = Preprocess.read_tiffs(mandal_boundaries, 'Mandal', 'PRE_monthly', 5, 7, 0, 4, True, 'mean')\n",
    "stat_df_PRE_percentile_90 = Preprocess.read_tiffs(mandal_boundaries, 'Mandal', 'PRE_monthly', 5, 7, 0, 4, True, 'percentile_90')\n",
    "stat_df_PRE_max = Preprocess.read_tiffs(mandal_boundaries, 'Mandal', 'PRE_monthly', 5, 7, 0, 4, True, 'max')\n",
    "stat_df_PRE_min = Preprocess.read_tiffs(mandal_boundaries, 'Mandal', 'PRE_monthly', 5, 7, 0, 4, True, 'min')\n",
    "stat_df_PRE_median = Preprocess.read_tiffs(mandal_boundaries, 'Mandal', 'PRE_monthly', 5, 7, 0, 4, True, 'median')"
   ]
  },
  {
   "cell_type": "code",
   "execution_count": null,
   "metadata": {},
   "outputs": [],
   "source": [
    "stat_df_PRE_median = Preprocess.read_tiffs(mandal_boundaries, 'Mandal', 'PRE_monthly', 5, 7, 0, 4, True, 'median')\n",
    "stat_df_AOT_median = Preprocess.read_tiffs(mandal_boundaries, 'Mandal', 'AOT', 3, 5, 6, 10,  True, 'median')\n",
    "stat_df_ST_median = Preprocess.read_tiffs(mandal_boundaries, 'Mandal', 'ST', 9, 11, 4, 8, True, 'median')"
   ]
  },
  {
   "cell_type": "markdown",
   "metadata": {},
   "source": [
    "RWI"
   ]
  },
  {
   "cell_type": "code",
   "execution_count": null,
   "metadata": {},
   "outputs": [],
   "source": [
    "os.chdir('C:\\\\Users\\\\Jesse\\\\OneDrive\\\\Documenten\\\\Data_Thesis\\\\RWI_vector')\n",
    "\n",
    "stat_RWI_df = gpd.read_file('01-01-2021.geojson')\n",
    "stat_RWI_df = stat_RWI_df.reset_index()\n",
    "\n",
    "stat_df_RWI_percentile_90 = Preprocess.read_tiffs(mandal_boundaries, 'Mandal', 'RWI', 3, 5, 6, 10, False, 'percentile_90')\n",
    "stat_df_RWI_percentile_90 = stat_df_RWI_percentile_90.rename(columns = {'Value': 'RWI_percentile_90'})\n",
    "\n",
    "stat_RWI_df['RWI_mean'] = 0\n",
    "stat_RWI_df['RWI_min'] = 0\n",
    "stat_RWI_df['RWI_max'] = 0\n",
    "stat_RWI_df['RWI_median'] = 0\n",
    "\n",
    "for i in range (0, len(stat_RWI_df)):\n",
    "    stat_RWI_df['RWI_mean'].iloc[i] = stat_RWI_df['zonalstat'].iloc[i]['mean']\n",
    "    stat_RWI_df['RWI_min'].iloc[i] = stat_RWI_df['zonalstat'].iloc[i]['min']\n",
    "    stat_RWI_df['RWI_max'].iloc[i] = stat_RWI_df['zonalstat'].iloc[i]['max']\n",
    "    stat_RWI_df['RWI_median'].iloc[i] = stat_RWI_df['zonalstat'].iloc[i]['median']\n",
    " \n",
    "stat_df_RWI = pd.merge(stat_df_RWI_percentile_90, stat_RWI_df[['index', 'RWI_mean', 'RWI_max', 'RWI_min', 'RWI_median']])"
   ]
  },
  {
   "cell_type": "markdown",
   "metadata": {},
   "source": [
    "Population"
   ]
  },
  {
   "cell_type": "code",
   "execution_count": null,
   "metadata": {},
   "outputs": [],
   "source": [
    "stat_df_POP_mean = Preprocess.read_tiffs(mandal_boundaries, 'Mandal', 'Population', 3, 5, 6, 10, False, 'mean')\n",
    "stat_df_POP_median = Preprocess.read_tiffs(mandal_boundaries, 'Mandal', 'Population', 3, 5, 6, 10, False, 'median')\n",
    "\n",
    "stat_df_POP_mean = stat_df_POP_mean.rename(columns = {'Value': 'POP_mean'})\n",
    "stat_df_POP_median = stat_df_POP_median.rename(columns = {'Value': 'POP_median'})"
   ]
  },
  {
   "cell_type": "markdown",
   "metadata": {},
   "source": [
    "Soil Type"
   ]
  },
  {
   "cell_type": "code",
   "execution_count": null,
   "metadata": {},
   "outputs": [],
   "source": [
    "file_path = r'C:\\\\Users\\\\Jesse\\\\OneDrive\\\\Documenten\\\\Data_Thesis\\\\Soil Type\\\\soil_type.tif'\n",
    "param = rasterio.open(file_path, mode = 'r')\n",
    "# Assign raster values to a numpy nd array\n",
    "param_array = param.read(1) # landuse corresponding to each rasterpixel, so we extracted the pixel values from the raster\n",
    "# affine: 1: corresponds to the width of each pixel, 2: row rotation, 3: x-coordinate of the upper left pixel, 4: column rotation, 5: height of each pixel, 6: y-coordinate of the upper left pixel\n",
    "affine = param.transform\n",
    "param.meta\n",
    "# Geographical coordinate reference system is used (4326)\n",
    "# lulc.nodata # value which has been assigned for the nodata\n",
    "mode = zonal_stats(mandal_boundaries.geometry, param_array, affine = param.transform, geojson_out = True, nodata = param.nodata, all_touched = False, stats = ['majority'])\n",
    "# Extracting the landuse statistics from the list\n",
    "mode_soiltype = []\n",
    "i = 0\n",
    "while i < len(mode):\n",
    "    mode_soiltype.append(mode[i]['properties']['majority'])\n",
    "    i = i + 1"
   ]
  },
  {
   "cell_type": "markdown",
   "metadata": {},
   "source": [
    "Rural Areas"
   ]
  },
  {
   "cell_type": "code",
   "execution_count": null,
   "metadata": {},
   "outputs": [],
   "source": [
    "file_path = r'C:\\\\Users\\\\Jesse\\\\OneDrive\\\\Documenten\\\\Data_Thesis\\\\Rural_areas\\\\urban_rural_catchment_areas.tif'\n",
    "param = rasterio.open(file_path, mode = 'r')\n",
    "# Assign raster values to a numpy nd array\n",
    "param_array = param.read(1) # landuse corresponding to each rasterpixel, so we extracted the pixel values from the raster\n",
    "# affine: 1: corresponds to the width of each pixel, 2: row rotation, 3: x-coordinate of the upper left pixel, 4: column rotation, 5: height of each pixel, 6: y-coordinate of the upper left pixel\n",
    "affine = param.transform\n",
    "param.meta\n",
    "# Geographical coordinate reference system is used (4326)\n",
    "# lulc.nodata # value which has been assigned for the nodata\n",
    "mode = zonal_stats(mandal_boundaries.geometry, param_array, affine = param.transform, geojson_out = True, nodata = param.nodata, all_touched = False, stats = ['median'])\n",
    "# Extracting the landuse statistics from the list\n",
    "mode_rural_median = []\n",
    "i = 0\n",
    "while i < len(mode):\n",
    "    mode_rural_median.append(mode[i]['properties']['median'])\n",
    "    i = i + 1"
   ]
  },
  {
   "cell_type": "markdown",
   "metadata": {},
   "source": [
    "Crop Area"
   ]
  },
  {
   "cell_type": "code",
   "execution_count": null,
   "metadata": {},
   "outputs": [],
   "source": [
    "os.chdir('c:\\\\Users\\\\Jesse\\\\OneDrive\\\\Documenten\\\\Master BAOR\\\\Thesis\\\\GitHub\\\\dicra\\\\analytics\\\\sandbox\\\\notebooks\\\\crop_fires\\\\Exploration\\\\Landuse_Analysis')\n",
    "\n",
    "years = [2017, 2018]\n",
    "mandals = mandal_boundaries[['index', 'Mandal_Nam', 'Dist_Name', 'geometry']]\n",
    "\n",
    "for year in years:\n",
    "    tiff = '01-01-'+str(year)+'.tif'\n",
    "    lulc = rasterio.open(tiff, mode = 'r')\n",
    "    lulc_array = lulc.read(1) # landuse corresponding to each rasterpixel, so we extracted the pixel values from the raster\n",
    "    # affine: 1: corresponds to the width of each pixel, 2: row rotation, 3: x-coordinate of the upper left pixel, 4: column rotation, 5: height of each pixel, 6: y-coordinate of the upper left pixel\n",
    "    affine = lulc.transform\n",
    "\n",
    "    cmap = {1: 'Water', 2: 'Trees', 4: 'Flooded Vegetation', 5: 'Crops', 7: 'Built Area', 8: 'Bare Ground', 9: 'Snow/Ice', 10: 'Clouds', 11: 'Rangeland'}\n",
    "\n",
    "    test = zonal_stats(mandals.geometry, lulc_array, affine = affine, geojson_out = True, nodata = lulc.nodata, stats = 'majority', categorical=True, category_map = cmap)\n",
    "\n",
    "    mandals[str(year)+'-01-01 Crops']=0\n",
    "    mandals[str(year)+'-01-01 Flooded Vegetation']=0\n",
    "    mandals[str(year)+'-01-01 Trees']=0\n",
    "    mandals[str(year)+'-01-01 Built Area']=0\n",
    "\n",
    "    for i in range(0, len(test)):\n",
    "        try:\n",
    "            mandals[str(year)+'-01-01 Crops'].iloc[i] = test[i]['properties']['Crops'] \n",
    "        except:\n",
    "            mandals[str(year)+'-01-01 Crops'].iloc[i] = 0\n",
    "        try:\n",
    "            mandals[str(year)+'-01-01 Flooded Vegetation'].iloc[i] = test[i]['properties']['Flooded Vegetation'] \n",
    "        except:\n",
    "            mandals[str(year)+'-01-01 Flooded Vegetation'].iloc[i] = 0\n",
    "        try:\n",
    "            mandals[str(year)+'-01-01 Trees'].iloc[i] = test[i]['properties']['Trees'] \n",
    "        except:\n",
    "            mandals[str(year)+'-01-01 Trees'].iloc[i]=0\n",
    "        try:\n",
    "            mandals[str(year)+'-01-01 Built Area'].iloc[i] = test[i]['properties']['Built Area'] \n",
    "        except:\n",
    "            mandals[str(year)+'-01-01 Built Area'].iloc[i]=0\n",
    "            \n",
    "    mandals[str(year)+ ' Trees'] = mandals[str(year)+'-01-01 Trees'] * 0.0001\n",
    "    mandals[str(year)+ ' Built Area'] = mandals[str(year)+'-01-01 Built Area'] * 0.0001\n",
    "    mandals[str(year) + ' Crops'] = mandals[str(year)+'-01-01 Crops'] + mandals[str(year)+'-01-01 Flooded Vegetation']\n",
    "    mandals[str(year) + ' Crops'] = mandals[str(year) + ' Crops'] * 0.0001\n",
    "\n",
    "\n",
    "mandals['2016 Trees'] = mandals['2017 Trees']\n",
    "mandals['2016 Crops'] = mandals['2017 Crops']\n",
    "mandals['2016 Built Area'] = mandals['2017 Built Area']"
   ]
  },
  {
   "cell_type": "code",
   "execution_count": null,
   "metadata": {},
   "outputs": [],
   "source": [
    "mandals_crops = mandals[['index', 'Mandal_Nam', 'Dist_Name', '2016 Crops', '2017 Crops', '2018 Crops']]\n",
    "mandals_trees = mandals[['index', 'Mandal_Nam', 'Dist_Name', '2016 Trees', '2017 Trees', '2018 Trees']]\n",
    "mandals_built_area = mandals[['index', 'Mandal_Nam', 'Dist_Name', '2016 Built Area', '2017 Built Area', '2018 Built Area']]\n",
    "\n",
    "mandals_crops.columns = ['index', 'Mandal_Nam', 'Dist_Name', '2016', '2017', '2018']\n",
    "mandals_trees.columns = ['index', 'Mandal_Nam', 'Dist_Name', '2016', '2017', '2018']\n",
    "mandals_built_area.columns = ['index', 'Mandal_Nam', 'Dist_Name', '2016', '2017', '2018']"
   ]
  },
  {
   "cell_type": "code",
   "execution_count": null,
   "metadata": {},
   "outputs": [],
   "source": [
    "crops = pd.melt(mandals_crops, id_vars=['index', 'Mandal_Nam', 'Dist_Name'], value_vars=mandals_crops.columns[3:])\n",
    "crops = crops.rename(columns={\"variable\": 'Year', 'value': 'Crops'})\n",
    "\n",
    "trees = pd.melt(mandals_trees, id_vars=['index', 'Mandal_Nam', 'Dist_Name'], value_vars=mandals_trees.columns[3:])\n",
    "trees = trees.rename(columns={\"variable\": 'Year', 'value': 'Trees'})\n",
    "\n",
    "built_area = pd.melt(mandals_built_area, id_vars=['index', 'Mandal_Nam', 'Dist_Name'], value_vars=mandals_built_area.columns[3:])\n",
    "built_area = built_area.rename(columns={\"variable\": 'Year', 'value': 'Built Area'})"
   ]
  },
  {
   "cell_type": "code",
   "execution_count": null,
   "metadata": {},
   "outputs": [],
   "source": [
    "Croparea_df_selected = pd.merge(crops, trees, on=['index', 'Year', 'Mandal_Nam', 'Dist_Name'])\n",
    "Croparea_df_selected = pd.merge(Croparea_df_selected, built_area, on=['index', 'Year', 'Mandal_Nam', 'Dist_Name'])\n",
    "\n",
    "Croparea_df_selected['Year'] = Croparea_df_selected['Year'].astype(int)"
   ]
  },
  {
   "cell_type": "code",
   "execution_count": null,
   "metadata": {},
   "outputs": [],
   "source": [
    "os.chdir('c:\\\\Users\\\\Jesse\\\\OneDrive\\\\Documenten\\\\Master BAOR\\\\Thesis\\\\GitHub\\\\dicra\\\\analytics\\\\sandbox\\\\notebooks\\\\crop_fires\\\\Data_csv\\\\results_csv')\n",
    "Croparea_df_selected.to_csv('mandals_cropsarea.csv')"
   ]
  },
  {
   "cell_type": "markdown",
   "metadata": {},
   "source": [
    "Combining Everything"
   ]
  },
  {
   "cell_type": "code",
   "execution_count": null,
   "metadata": {},
   "outputs": [],
   "source": [
    "units = ['NO2', 'PM2.5', 'BA', 'SSM', 'SSM_median', 'ST_mean', 'ST_percentile_90', 'ST_max', 'ST_min', 'ST_median', 'AOT_mean', 'AOT_percentile_90', 'AOT_max', 'AOT_min', 'AOT_median', 'PRE_mean', 'PRE_percentile_90', 'PRE_max', 'PRE_min', 'PRE_median']\n",
    "dataframes = [stat_df_NO2, stat_df_PM25, stat_df_BA, stat_df_SSM, stat_df_SSM_median, stat_df_ST_mean, stat_df_ST_percentile_90, stat_df_ST_max, stat_df_ST_min, stat_df_ST_median, stat_df_AOT_mean, stat_df_AOT_percentile_90, stat_df_AOT_max, stat_df_AOT_min, stat_df_AOT_median,\n",
    "stat_df_PRE_mean, stat_df_PRE_percentile_90, stat_df_PRE_max, stat_df_PRE_min, stat_df_PRE_median]\n",
    "\n",
    "for a in range(0, len(units)):\n",
    "    dataframes[a] = dataframes[a].rename(columns={\"Value\": units[a]})"
   ]
  },
  {
   "cell_type": "code",
   "execution_count": null,
   "metadata": {},
   "outputs": [],
   "source": [
    "df = dataframes[0]\n",
    "\n",
    "for i in range(1, len(units)):\n",
    "    df = pd.merge(df, dataframes[i], on=['ModifiedDateTime', 'index', 'Dist_Name', 'Mandal_Nam', 'geometry'], how = 'outer')"
   ]
  },
  {
   "cell_type": "code",
   "execution_count": 64,
   "metadata": {},
   "outputs": [],
   "source": [
    "units = ['SSM_median']\n",
    "dataframes = [stat_df_SSM_median]\n",
    "\n",
    "for a in range(0, len(units)):\n",
    "    dataframes[a] = dataframes[a].rename(columns={\"Value\": units[a]})"
   ]
  },
  {
   "cell_type": "code",
   "execution_count": 65,
   "metadata": {},
   "outputs": [],
   "source": [
    "for i in range(0, len(units)):\n",
    "    df = pd.merge(df, dataframes[i][['index', 'ModifiedDateTime', units[i]]], on=['ModifiedDateTime', 'index'], how = 'outer')"
   ]
  },
  {
   "cell_type": "markdown",
   "metadata": {},
   "source": [
    "Combine POP, RWI, Soil Type, Crops, Trees, and Built Area seperately (Yearly Data)"
   ]
  },
  {
   "cell_type": "code",
   "execution_count": 63,
   "metadata": {},
   "outputs": [],
   "source": [
    "df = pd.read_csv('data_tiffs.csv', index_col=0)\n",
    "df['ModifiedDateTime'] = pd.to_datetime(df['ModifiedDateTime'])"
   ]
  },
  {
   "cell_type": "code",
   "execution_count": null,
   "metadata": {},
   "outputs": [],
   "source": [
    "df['Year'] = df['ModifiedDateTime'].dt.year\n",
    "df['Month'] = df['ModifiedDateTime'].dt.month"
   ]
  },
  {
   "cell_type": "code",
   "execution_count": null,
   "metadata": {},
   "outputs": [],
   "source": [
    "stat_df_POP_mean['Year'] = stat_df_POP_mean['ModifiedDateTime'].dt.year\n",
    "stat_df_POP_median['Year'] = stat_df_POP_median['ModifiedDateTime'].dt.year\n"
   ]
  },
  {
   "cell_type": "code",
   "execution_count": null,
   "metadata": {},
   "outputs": [],
   "source": [
    "df = pd.merge(df, Croparea_df_selected[['Year', 'index', 'Crops', 'Trees', 'Built Area']], on = ['Year', 'index'], how='left')\n",
    "df = pd.merge(df, stat_df_POP_mean[['Year', 'index', 'POP_mean']], on = ['Year', 'index'], how='left')\n",
    "df = pd.merge(df, stat_df_POP_median[['Year', 'index', 'POP_median']], on = ['Year', 'index'], how='left')\n",
    "df = pd.merge(df, stat_df_RWI[['index', 'RWI_mean', 'RWI_max', 'RWI_min', 'RWI_percentile_90', 'RWI_median']], on = ['index'], how='left')"
   ]
  },
  {
   "cell_type": "code",
   "execution_count": null,
   "metadata": {},
   "outputs": [],
   "source": [
    "mandal_boundaries['time_to_rur_median'] = mode_rural_median\n",
    "mandal_boundaries['Soil Type'] = mode_soiltype\n",
    "mandal_boundaries['Soil Type'] = mandal_boundaries['Soil Type'].astype(int)"
   ]
  },
  {
   "cell_type": "code",
   "execution_count": null,
   "metadata": {},
   "outputs": [],
   "source": [
    "cmap={3: 'Lithosols', 4: 'Pellic Luvisols', 13: 'Plinthic Luvisols', 17: 'Planosols', 27: 'Vertic Cambisols', 33: 'Eutric Nitosols', 37: 'Chromic Vertisols', 43: 'Chromic Luvisols'}\n",
    "\n",
    "for soil in range(0, len(mandal_boundaries['Soil Type'])):\n",
    "    mandal_boundaries['Soil Type'].iloc[soil] = cmap[mandal_boundaries['Soil Type'].iloc[soil]]"
   ]
  },
  {
   "cell_type": "code",
   "execution_count": null,
   "metadata": {},
   "outputs": [],
   "source": [
    "mandal_boundaries['Soil Type'].unique()"
   ]
  },
  {
   "cell_type": "code",
   "execution_count": null,
   "metadata": {},
   "outputs": [],
   "source": [
    "df = pd.merge(df, mandal_boundaries[['index', 'Soil Type']], on = ['index'], how='left')\n",
    "df = pd.merge(df, mandal_boundaries[['index', 'time_to_rur_median']], on = ['index'], how='left')"
   ]
  },
  {
   "cell_type": "markdown",
   "metadata": {},
   "source": [
    "Seasons"
   ]
  },
  {
   "cell_type": "code",
   "execution_count": null,
   "metadata": {},
   "outputs": [],
   "source": [
    "df['Season'] = 0\n",
    "\n",
    "for i in range(0, len(df)):\n",
    "    if (df['Month'].iloc[i] == 4) | (df['Month'].iloc[i] == 5):\n",
    "        df['Season'].iloc[i] = 'Rabi'\n",
    "    elif (df['Month'].iloc[i] == 9) | (df['Month'].iloc[i] == 10):\n",
    "        df['Season'].iloc[i] = 'Kharif' \n",
    "    else:\n",
    "        df['Season'].iloc[i] = 'None'\n"
   ]
  },
  {
   "cell_type": "code",
   "execution_count": 66,
   "metadata": {},
   "outputs": [
    {
     "data": {
      "text/plain": [
       "Index(['index', 'Mandal_Nam', 'Dist_Name', 'geometry', 'ModifiedDateTime',\n",
       "       'NO2', 'PM2.5', 'BA', 'SSM', 'ST_mean', 'ST_percentile_90', 'ST_max',\n",
       "       'ST_min', 'AOT_mean', 'AOT_percentile_90', 'AOT_max', 'AOT_min',\n",
       "       'PRE_mean', 'PRE_percentile_90', 'PRE_max', 'PRE_min', 'Year', 'Month',\n",
       "       'Crops', 'Trees', 'Built Area', 'POP_mean', 'RWI_mean', 'RWI_max',\n",
       "       'RWI_min', 'RWI_percentile_90', 'Soil Type', 'Season', 'POP_median',\n",
       "       'RWI_median', 'time_to_rur_median', 'ST_median', 'AOT_median',\n",
       "       'PRE_median', 'SSM_median'],\n",
       "      dtype='object')"
      ]
     },
     "execution_count": 66,
     "metadata": {},
     "output_type": "execute_result"
    }
   ],
   "source": [
    "df.columns"
   ]
  },
  {
   "cell_type": "code",
   "execution_count": 67,
   "metadata": {},
   "outputs": [],
   "source": [
    "df.to_csv('data_tiffs.csv')"
   ]
  }
 ],
 "metadata": {
  "kernelspec": {
   "display_name": "Python 3.8.11 ('gurobi')",
   "language": "python",
   "name": "python3"
  },
  "language_info": {
   "codemirror_mode": {
    "name": "ipython",
    "version": 3
   },
   "file_extension": ".py",
   "mimetype": "text/x-python",
   "name": "python",
   "nbconvert_exporter": "python",
   "pygments_lexer": "ipython3",
   "version": "3.8.11"
  },
  "orig_nbformat": 4,
  "vscode": {
   "interpreter": {
    "hash": "8137cca2c96495771a6332c43a92746d2e8f2f032dec7e1d4873522724197fcb"
   }
  }
 },
 "nbformat": 4,
 "nbformat_minor": 2
}
