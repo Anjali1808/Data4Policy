{
 "cells": [
  {
   "cell_type": "code",
   "execution_count": 7,
   "metadata": {},
   "outputs": [],
   "source": [
    "import pandas as pd\n",
    "import os\n",
    "import geopandas as gpd\n",
    "import geoplot\n",
    "import geoplot.crs as gcrs\n",
    "import rasterio\n",
    "import matplotlib.pyplot as plt\n",
    "import time\n",
    "from rasterstats import zonal_stats\n",
    "from osgeo import gdal\n",
    "import numpy as np\n",
    "import sys\n",
    "\n",
    "sys.path.append(os.path.abspath(\"c:\\\\Users\\\\Jesse\\\\OneDrive\\\\Documenten\\\\Master BAOR\\\\Thesis\\\\GitHub\\\\dicra\\\\analytics\\\\sandbox\\\\notebooks\\\\crop_fires\\\\Functions\"))\n",
    "import Preprocess"
   ]
  },
  {
   "cell_type": "code",
   "execution_count": 8,
   "metadata": {},
   "outputs": [],
   "source": [
    "os.chdir('c:\\\\Users\\\\Jesse\\\\OneDrive\\\\Documenten\\\\Master BAOR\\\\Thesis\\\\GitHub\\\\dicra\\\\src\\\\data_preprocessing\\\\tsdm\\\\')\n",
    "mandal_boundaries = gpd.read_file('Mandal_Boundary.shp')\n",
    "mandal_boundaries = mandal_boundaries.reset_index()\n",
    "\n",
    "os.chdir('c:\\\\Users\\\\Jesse\\\\OneDrive\\\\Documenten\\\\Master BAOR\\\\Thesis\\\\GitHub\\\\dicra\\\\src\\\\data_preprocessing\\\\tsdm\\\\')\n",
    "district_boundaries = gpd.read_file('District_Boundary.shp')\n",
    "district_boundaries = district_boundaries.reset_index()\n",
    "\n",
    "os.chdir('c:\\\\Users\\\\Jesse\\\\OneDrive\\\\Documenten\\\\Master BAOR\\\\Thesis\\\\GitHub\\\\dicra\\\\src\\\\data_preprocessing\\\\base_geojson')\n",
    "shape_telangana = gpd.read_file('TL_state_shapefile_for_clip.geojson')\n",
    "shape_telangana = shape_telangana.explode()\n",
    "\n",
    "os.chdir('c:\\\\Users\\\\Jesse\\\\OneDrive\\\\Documenten\\\\Master BAOR\\\\Thesis\\\\GitHub\\\\dicra\\\\analytics\\\\sandbox\\\\notebooks\\\\crop_fires\\\\DPPD_Jesse\\\\Data')\n",
    "one_km_grid = gpd.read_file('telangana_1km_grid.geojson')\n",
    "one_km_grid = one_km_grid.reset_index()\n",
    "\n",
    "os.chdir('c:\\\\Users\\\\Jesse\\\\OneDrive\\\\Documenten\\\\Master BAOR\\\\Thesis\\\\GitHub\\\\dicra\\\\analytics\\\\sandbox\\\\notebooks\\\\crop_fires\\\\DPPD_Jesse\\\\Data')\n",
    "ten_km_grid = gpd.read_file('telangana_10km_grid.geojson')\n",
    "ten_km_grid = ten_km_grid.reset_index()"
   ]
  },
  {
   "cell_type": "code",
   "execution_count": 9,
   "metadata": {},
   "outputs": [
    {
     "data": {
      "text/plain": [
       "<module 'Preprocess' from 'c:\\\\Users\\\\Jesse\\\\OneDrive\\\\Documenten\\\\Master BAOR\\\\Thesis\\\\GitHub\\\\dicra\\\\analytics\\\\sandbox\\\\notebooks\\\\crop_fires\\\\Functions\\\\Preprocess.py'>"
      ]
     },
     "execution_count": 9,
     "metadata": {},
     "output_type": "execute_result"
    }
   ],
   "source": [
    "import importlib\n",
    "importlib.reload(Preprocess)"
   ]
  },
  {
   "cell_type": "code",
   "execution_count": 6,
   "metadata": {},
   "outputs": [],
   "source": [
    "stat_df_PM25 = Preprocess.read_tiffs(district_boundaries, 'District', 'PM2.5', -6, -4, -10, -6, False)\n",
    "stat_df_NO2 = Preprocess.read_tiffs(district_boundaries, 'District',  'NO2', -24, -22, -29, -25, False)\n",
    "#stat_df_SSM = Preprocess.read_tiffs(district_boundaries, 'District', 'SSM', -6, -4, -11, -7, False)\n",
    "stat_df_ST = Preprocess.read_tiffs(district_boundaries, 'District', 'ST', -24, -22, -29, -25, False)"
   ]
  },
  {
   "cell_type": "code",
   "execution_count": 4,
   "metadata": {},
   "outputs": [],
   "source": [
    "stat_df_PM25 = Preprocess.read_tiffs(mandal_boundaries, 'Mandal', 'PM2.5', -6, -4, -10, -6, True)\n",
    "stat_df_NO2 = Preprocess.read_tiffs(mandal_boundaries, 'Mandal',  'NO2', -24, -22, -29, -25, True)\n",
    "#stat_df_SSM = Preprocess.read_tiffs(mandal_boundaries, 'Mandal', 'SSM', -6, -4, -11, -7, True)\n",
    "stat_df_ST = Preprocess.read_tiffs(mandal_boundaries, 'Mandal', 'ST', -24, -22, -29, -25, True)"
   ]
  }
 ],
 "metadata": {
  "kernelspec": {
   "display_name": "Python 3.8.11 ('gurobi')",
   "language": "python",
   "name": "python3"
  },
  "language_info": {
   "codemirror_mode": {
    "name": "ipython",
    "version": 3
   },
   "file_extension": ".py",
   "mimetype": "text/x-python",
   "name": "python",
   "nbconvert_exporter": "python",
   "pygments_lexer": "ipython3",
   "version": "3.8.11"
  },
  "orig_nbformat": 4,
  "vscode": {
   "interpreter": {
    "hash": "8137cca2c96495771a6332c43a92746d2e8f2f032dec7e1d4873522724197fcb"
   }
  }
 },
 "nbformat": 4,
 "nbformat_minor": 2
}
