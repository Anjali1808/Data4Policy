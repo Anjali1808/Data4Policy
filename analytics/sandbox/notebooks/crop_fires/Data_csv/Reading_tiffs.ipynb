{
 "cells": [
  {
   "cell_type": "code",
   "execution_count": 23,
   "metadata": {},
   "outputs": [],
   "source": [
    "import pandas as pd\n",
    "import os\n",
    "import geopandas as gpd\n",
    "import geoplot\n",
    "import geoplot.crs as gcrs\n",
    "import rasterio\n",
    "import matplotlib.pyplot as plt\n",
    "import time\n",
    "from rasterstats import zonal_stats\n",
    "from osgeo import gdal\n",
    "import numpy as np\n",
    "import sys\n",
    "import geopandas as gdp\n",
    "\n",
    "sys.path.append(os.path.abspath(\"c:\\\\Users\\\\Jesse\\\\OneDrive\\\\Documenten\\\\Master BAOR\\\\Thesis\\\\GitHub\\\\dicra\\\\analytics\\\\sandbox\\\\notebooks\\\\crop_fires\\\\Functions\"))\n",
    "import Preprocess"
   ]
  },
  {
   "cell_type": "code",
   "execution_count": 123,
   "metadata": {},
   "outputs": [],
   "source": [
    "os.chdir('c:\\\\Users\\\\Jesse\\\\OneDrive\\\\Documenten\\\\Master BAOR\\\\Thesis\\\\GitHub\\\\dicra\\\\src\\\\data_preprocessing\\\\tsdm\\\\')\n",
    "mandal_boundaries = gpd.read_file('Mandal_Boundary.shp')\n",
    "mandal_boundaries = mandal_boundaries.reset_index()\n",
    "\n",
    "os.chdir('c:\\\\Users\\\\Jesse\\\\OneDrive\\\\Documenten\\\\Master BAOR\\\\Thesis\\\\GitHub\\\\dicra\\\\src\\\\data_preprocessing\\\\tsdm\\\\')\n",
    "district_boundaries = gpd.read_file('District_Boundary.shp')\n",
    "district_boundaries = district_boundaries.reset_index()\n",
    "\n",
    "os.chdir('c:\\\\Users\\\\Jesse\\\\OneDrive\\\\Documenten\\\\Master BAOR\\\\Thesis\\\\GitHub\\\\dicra\\\\src\\\\data_preprocessing\\\\base_geojson')\n",
    "shape_telangana = gpd.read_file('TL_state_shapefile_for_clip.geojson')\n",
    "shape_telangana = shape_telangana.explode()\n",
    "\n",
    "#os.chdir('c:\\\\Users\\\\Jesse\\\\OneDrive\\\\Documenten\\\\Master BAOR\\\\Thesis\\\\GitHub\\\\dicra\\\\analytics\\\\sandbox\\\\notebooks\\\\crop_fires\\\\DPPD_Jesse\\\\Data')\n",
    "#one_km_grid = gpd.read_file('telangana_1km_grid.geojson')\n",
    "#one_km_grid = one_km_grid.reset_index()\n",
    "\n",
    "#os.chdir('c:\\\\Users\\\\Jesse\\\\OneDrive\\\\Documenten\\\\Master BAOR\\\\Thesis\\\\GitHub\\\\dicra\\\\analytics\\\\sandbox\\\\notebooks\\\\crop_fires\\\\DPPD_Jesse\\\\Data')\n",
    "#ten_km_grid = gpd.read_file('telangana_10km_grid.geojson')\n",
    "#ten_km_grid = ten_km_grid.reset_index()"
   ]
  },
  {
   "cell_type": "code",
   "execution_count": null,
   "metadata": {},
   "outputs": [],
   "source": [
    "import importlib\n",
    "importlib.reload(Preprocess)"
   ]
  },
  {
   "cell_type": "code",
   "execution_count": null,
   "metadata": {},
   "outputs": [],
   "source": [
    "stat_df_PM25 = Preprocess.read_tiffs(mandal_boundaries, 'Mandal', 'PM2.5', 3, 5, 6, 10, True, 'mean')\n",
    "stat_df_NO2 = Preprocess.read_tiffs(mandal_boundaries, 'Mandal',  'NO2', 3, 5, 6, 10, True, 'mean')\n",
    "stat_df_SSM = Preprocess.read_tiffs(mandal_boundaries, 'Mandal', 'SSM', 9, 11, 4, 8, True, 'mean')\n",
    "stat_df_SSM_median = Preprocess.read_tiffs(mandal_boundaries, 'Mandal', 'SSM', 9, 11, 4, 8, True, 'median')\n",
    "stat_df_BA_sum = Preprocess.read_tiffs(mandal_boundaries, 'Mandal', 'BA_monthly', 5, 7, 0, 4, False, 'sum')\n"
   ]
  },
  {
   "cell_type": "code",
   "execution_count": 173,
   "metadata": {},
   "outputs": [],
   "source": [
    "stat_df_SSM_median = Preprocess.read_tiffs(mandal_boundaries, 'Mandal', 'SSM', 9, 11, 4, 8, True, 'median')"
   ]
  },
  {
   "cell_type": "code",
   "execution_count": 186,
   "metadata": {},
   "outputs": [],
   "source": [
    "stat_df_SSM_mean = Preprocess.read_tiffs(mandal_boundaries, 'Mandal', 'SSM', 9, 11, 4, 8, True, 'mean')\n",
    "stat_df_SSM_max = Preprocess.read_tiffs(mandal_boundaries, 'Mandal', 'SSM', 9, 11, 4, 8, True, 'max')\n",
    "stat_df_SSM_min = Preprocess.read_tiffs(mandal_boundaries, 'Mandal', 'SSM', 9, 11, 4, 8, True, 'min')\n",
    "stat_df_SSM_percentile_90 = Preprocess.read_tiffs(mandal_boundaries, 'Mandal', 'SSM', 9, 11, 4, 8, True, 'percentile_90')"
   ]
  },
  {
   "cell_type": "code",
   "execution_count": 187,
   "metadata": {},
   "outputs": [],
   "source": [
    "stat_df_BA_mean = Preprocess.read_tiffs(mandal_boundaries, 'Mandal', 'BA_monthly', 5, 7, 0, 4, False, 'mean')\n",
    "stat_df_BA_median = Preprocess.read_tiffs(mandal_boundaries, 'Mandal', 'BA_monthly', 5, 7, 0, 4, False, 'median')\n",
    "stat_df_PRE_sum = Preprocess.read_tiffs(mandal_boundaries, 'Mandal', 'PRE_monthly', 5, 7, 0, 4, True, 'sum')\n"
   ]
  },
  {
   "cell_type": "code",
   "execution_count": null,
   "metadata": {},
   "outputs": [],
   "source": [
    "stat_df_ST_mean = Preprocess.read_tiffs(mandal_boundaries, 'Mandal', 'ST', 9, 11, 4, 8, True, 'mean')\n",
    "stat_df_ST_percentile_90 = Preprocess.read_tiffs(mandal_boundaries, 'Mandal', 'ST', 9, 11, 4, 8, True, 'percentile_90')\n",
    "stat_df_ST_max = Preprocess.read_tiffs(mandal_boundaries, 'Mandal', 'ST', 9, 11, 4, 8, True, 'max')\n",
    "stat_df_ST_min = Preprocess.read_tiffs(mandal_boundaries, 'Mandal', 'ST', 9, 11, 4, 8, True, 'min')\n",
    "stat_df_ST_median = Preprocess.read_tiffs(mandal_boundaries, 'Mandal', 'ST', 9, 11, 4, 8, True, 'median')"
   ]
  },
  {
   "cell_type": "code",
   "execution_count": null,
   "metadata": {},
   "outputs": [],
   "source": [
    "stat_df_AOT_mean = Preprocess.read_tiffs(mandal_boundaries, 'Mandal', 'AOT', 3, 5, 6, 10, True, 'mean')\n",
    "stat_df_AOT_percentile_90 = Preprocess.read_tiffs(mandal_boundaries, 'Mandal', 'AOT', 3, 5, 6, 10, True, 'percentile_90')\n",
    "stat_df_AOT_max = Preprocess.read_tiffs(mandal_boundaries, 'Mandal', 'AOT', 3, 5, 6, 10, True, 'max')\n",
    "stat_df_AOT_min = Preprocess.read_tiffs(mandal_boundaries, 'Mandal', 'AOT', 3, 5, 6, 10, True, 'min')\n",
    "stat_df_AOT_median = Preprocess.read_tiffs(mandal_boundaries, 'Mandal', 'AOT', 3, 5, 6, 10,  True, 'median')"
   ]
  },
  {
   "cell_type": "code",
   "execution_count": null,
   "metadata": {},
   "outputs": [],
   "source": [
    "stat_df_PRE_mean = Preprocess.read_tiffs(mandal_boundaries, 'Mandal', 'PRE_monthly', 5, 7, 0, 4, True, 'mean')\n",
    "stat_df_PRE_percentile_90 = Preprocess.read_tiffs(mandal_boundaries, 'Mandal', 'PRE_monthly', 5, 7, 0, 4, True, 'percentile_90')\n",
    "stat_df_PRE_max = Preprocess.read_tiffs(mandal_boundaries, 'Mandal', 'PRE_monthly', 5, 7, 0, 4, True, 'max')\n",
    "stat_df_PRE_min = Preprocess.read_tiffs(mandal_boundaries, 'Mandal', 'PRE_monthly', 5, 7, 0, 4, True, 'min')\n",
    "stat_df_PRE_median = Preprocess.read_tiffs(mandal_boundaries, 'Mandal', 'PRE_monthly', 5, 7, 0, 4, True, 'median')"
   ]
  },
  {
   "cell_type": "code",
   "execution_count": null,
   "metadata": {},
   "outputs": [],
   "source": [
    "stat_df_PRE_median = Preprocess.read_tiffs(mandal_boundaries, 'Mandal', 'PRE_monthly', 5, 7, 0, 4, True, 'median')\n",
    "stat_df_AOT_median = Preprocess.read_tiffs(mandal_boundaries, 'Mandal', 'AOT', 3, 5, 6, 10,  True, 'median')\n",
    "stat_df_ST_median = Preprocess.read_tiffs(mandal_boundaries, 'Mandal', 'ST', 9, 11, 4, 8, True, 'median')"
   ]
  },
  {
   "cell_type": "markdown",
   "metadata": {},
   "source": [
    "RWI"
   ]
  },
  {
   "cell_type": "code",
   "execution_count": null,
   "metadata": {},
   "outputs": [],
   "source": [
    "os.chdir('C:\\\\Users\\\\Jesse\\\\OneDrive\\\\Documenten\\\\Data_Thesis\\\\RWI_vector')\n",
    "\n",
    "stat_RWI_df = gpd.read_file('01-01-2021.geojson')\n",
    "stat_RWI_df = stat_RWI_df.reset_index()\n",
    "\n",
    "stat_df_RWI_percentile_90 = Preprocess.read_tiffs(mandal_boundaries, 'Mandal', 'RWI', 3, 5, 6, 10, False, 'percentile_90')\n",
    "stat_df_RWI_percentile_90 = stat_df_RWI_percentile_90.rename(columns = {'Value': 'RWI_percentile_90'})\n",
    "\n",
    "stat_RWI_df['RWI_mean'] = 0\n",
    "stat_RWI_df['RWI_min'] = 0\n",
    "stat_RWI_df['RWI_max'] = 0\n",
    "stat_RWI_df['RWI_median'] = 0\n",
    "\n",
    "for i in range (0, len(stat_RWI_df)):\n",
    "    stat_RWI_df['RWI_mean'].iloc[i] = stat_RWI_df['zonalstat'].iloc[i]['mean']\n",
    "    stat_RWI_df['RWI_min'].iloc[i] = stat_RWI_df['zonalstat'].iloc[i]['min']\n",
    "    stat_RWI_df['RWI_max'].iloc[i] = stat_RWI_df['zonalstat'].iloc[i]['max']\n",
    "    stat_RWI_df['RWI_median'].iloc[i] = stat_RWI_df['zonalstat'].iloc[i]['median']\n",
    " \n",
    "stat_df_RWI = pd.merge(stat_df_RWI_percentile_90, stat_RWI_df[['index', 'RWI_mean', 'RWI_max', 'RWI_min', 'RWI_median']])"
   ]
  },
  {
   "cell_type": "markdown",
   "metadata": {},
   "source": [
    "Population"
   ]
  },
  {
   "cell_type": "code",
   "execution_count": null,
   "metadata": {},
   "outputs": [],
   "source": [
    "stat_df_POP_mean = Preprocess.read_tiffs(mandal_boundaries, 'Mandal', 'Population', 3, 5, 6, 10, False, 'mean')\n",
    "stat_df_POP_median = Preprocess.read_tiffs(mandal_boundaries, 'Mandal', 'Population', 3, 5, 6, 10, False, 'median')\n",
    "\n",
    "stat_df_POP_mean = stat_df_POP_mean.rename(columns = {'Value': 'POP_mean'})\n",
    "stat_df_POP_median = stat_df_POP_median.rename(columns = {'Value': 'POP_median'})"
   ]
  },
  {
   "cell_type": "markdown",
   "metadata": {},
   "source": [
    "Soil Type"
   ]
  },
  {
   "cell_type": "code",
   "execution_count": null,
   "metadata": {},
   "outputs": [],
   "source": [
    "file_path = r'C:\\\\Users\\\\Jesse\\\\OneDrive\\\\Documenten\\\\Data_Thesis\\\\Soil Type\\\\soil_type.tif'\n",
    "param = rasterio.open(file_path, mode = 'r')\n",
    "# Assign raster values to a numpy nd array\n",
    "param_array = param.read(1) # landuse corresponding to each rasterpixel, so we extracted the pixel values from the raster\n",
    "# affine: 1: corresponds to the width of each pixel, 2: row rotation, 3: x-coordinate of the upper left pixel, 4: column rotation, 5: height of each pixel, 6: y-coordinate of the upper left pixel\n",
    "affine = param.transform\n",
    "param.meta\n",
    "# Geographical coordinate reference system is used (4326)\n",
    "# lulc.nodata # value which has been assigned for the nodata\n",
    "mode = zonal_stats(mandal_boundaries.geometry, param_array, affine = param.transform, geojson_out = True, nodata = param.nodata, all_touched = False, stats = ['majority'])\n",
    "# Extracting the landuse statistics from the list\n",
    "mode_soiltype = []\n",
    "i = 0\n",
    "while i < len(mode):\n",
    "    mode_soiltype.append(mode[i]['properties']['majority'])\n",
    "    i = i + 1"
   ]
  },
  {
   "cell_type": "markdown",
   "metadata": {},
   "source": [
    "Rural Areas"
   ]
  },
  {
   "cell_type": "code",
   "execution_count": null,
   "metadata": {},
   "outputs": [],
   "source": [
    "file_path = r'C:\\\\Users\\\\Jesse\\\\OneDrive\\\\Documenten\\\\Data_Thesis\\\\Rural_areas\\\\urban_rural_catchment_areas.tif'\n",
    "param = rasterio.open(file_path, mode = 'r')\n",
    "# Assign raster values to a numpy nd array\n",
    "param_array = param.read(1) # landuse corresponding to each rasterpixel, so we extracted the pixel values from the raster\n",
    "# affine: 1: corresponds to the width of each pixel, 2: row rotation, 3: x-coordinate of the upper left pixel, 4: column rotation, 5: height of each pixel, 6: y-coordinate of the upper left pixel\n",
    "affine = param.transform\n",
    "param.meta\n",
    "# Geographical coordinate reference system is used (4326)\n",
    "# lulc.nodata # value which has been assigned for the nodata\n",
    "mode = zonal_stats(mandal_boundaries.geometry, param_array, affine = param.transform, geojson_out = True, nodata = param.nodata, all_touched = False, stats = ['median'])\n",
    "# Extracting the landuse statistics from the list\n",
    "mode_rural_median = []\n",
    "i = 0\n",
    "while i < len(mode):\n",
    "    mode_rural_median.append(mode[i]['properties']['median'])\n",
    "    i = i + 1"
   ]
  },
  {
   "cell_type": "markdown",
   "metadata": {},
   "source": [
    "Crop Area"
   ]
  },
  {
   "cell_type": "code",
   "execution_count": null,
   "metadata": {},
   "outputs": [],
   "source": [
    "os.chdir('c:\\\\Users\\\\Jesse\\\\OneDrive\\\\Documenten\\\\Master BAOR\\\\Thesis\\\\GitHub\\\\dicra\\\\analytics\\\\sandbox\\\\notebooks\\\\crop_fires\\\\Exploration\\\\Landuse_Analysis')\n",
    "\n",
    "years = [2017, 2018]\n",
    "mandals = mandal_boundaries[['index', 'Mandal_Nam', 'Dist_Name', 'geometry']]\n",
    "\n",
    "for year in years:\n",
    "    tiff = '01-01-'+str(year)+'.tif'\n",
    "    lulc = rasterio.open(tiff, mode = 'r')\n",
    "    lulc_array = lulc.read(1) # landuse corresponding to each rasterpixel, so we extracted the pixel values from the raster\n",
    "    # affine: 1: corresponds to the width of each pixel, 2: row rotation, 3: x-coordinate of the upper left pixel, 4: column rotation, 5: height of each pixel, 6: y-coordinate of the upper left pixel\n",
    "    affine = lulc.transform\n",
    "\n",
    "    cmap = {1: 'Water', 2: 'Trees', 4: 'Flooded Vegetation', 5: 'Crops', 7: 'Built Area', 8: 'Bare Ground', 9: 'Snow/Ice', 10: 'Clouds', 11: 'Rangeland'}\n",
    "\n",
    "    test = zonal_stats(mandals.geometry, lulc_array, affine = affine, geojson_out = True, nodata = lulc.nodata, stats = 'majority', categorical=True, category_map = cmap)\n",
    "\n",
    "    mandals[str(year)+'-01-01 Crops']=0\n",
    "    mandals[str(year)+'-01-01 Flooded Vegetation']=0\n",
    "    mandals[str(year)+'-01-01 Trees']=0\n",
    "    mandals[str(year)+'-01-01 Built Area']=0\n",
    "\n",
    "    for i in range(0, len(test)):\n",
    "        try:\n",
    "            mandals[str(year)+'-01-01 Crops'].iloc[i] = test[i]['properties']['Crops'] \n",
    "        except:\n",
    "            mandals[str(year)+'-01-01 Crops'].iloc[i] = 0\n",
    "        try:\n",
    "            mandals[str(year)+'-01-01 Flooded Vegetation'].iloc[i] = test[i]['properties']['Flooded Vegetation'] \n",
    "        except:\n",
    "            mandals[str(year)+'-01-01 Flooded Vegetation'].iloc[i] = 0\n",
    "        try:\n",
    "            mandals[str(year)+'-01-01 Trees'].iloc[i] = test[i]['properties']['Trees'] \n",
    "        except:\n",
    "            mandals[str(year)+'-01-01 Trees'].iloc[i]=0\n",
    "        try:\n",
    "            mandals[str(year)+'-01-01 Built Area'].iloc[i] = test[i]['properties']['Built Area'] \n",
    "        except:\n",
    "            mandals[str(year)+'-01-01 Built Area'].iloc[i]=0\n",
    "            \n",
    "    mandals[str(year)+ ' Trees'] = mandals[str(year)+'-01-01 Trees'] * 0.0001\n",
    "    mandals[str(year)+ ' Built Area'] = mandals[str(year)+'-01-01 Built Area'] * 0.0001\n",
    "    mandals[str(year) + ' Crops'] = mandals[str(year)+'-01-01 Crops'] + mandals[str(year)+'-01-01 Flooded Vegetation']\n",
    "    mandals[str(year) + ' Crops'] = mandals[str(year) + ' Crops'] * 0.0001\n",
    "\n",
    "\n",
    "mandals['2016 Trees'] = mandals['2017 Trees']\n",
    "mandals['2016 Crops'] = mandals['2017 Crops']\n",
    "mandals['2016 Built Area'] = mandals['2017 Built Area']"
   ]
  },
  {
   "cell_type": "code",
   "execution_count": null,
   "metadata": {},
   "outputs": [],
   "source": [
    "mandals_crops = mandals[['index', 'Mandal_Nam', 'Dist_Name', '2016 Crops', '2017 Crops', '2018 Crops']]\n",
    "mandals_trees = mandals[['index', 'Mandal_Nam', 'Dist_Name', '2016 Trees', '2017 Trees', '2018 Trees']]\n",
    "mandals_built_area = mandals[['index', 'Mandal_Nam', 'Dist_Name', '2016 Built Area', '2017 Built Area', '2018 Built Area']]\n",
    "\n",
    "mandals_crops.columns = ['index', 'Mandal_Nam', 'Dist_Name', '2016', '2017', '2018']\n",
    "mandals_trees.columns = ['index', 'Mandal_Nam', 'Dist_Name', '2016', '2017', '2018']\n",
    "mandals_built_area.columns = ['index', 'Mandal_Nam', 'Dist_Name', '2016', '2017', '2018']"
   ]
  },
  {
   "cell_type": "code",
   "execution_count": null,
   "metadata": {},
   "outputs": [],
   "source": [
    "crops = pd.melt(mandals_crops, id_vars=['index', 'Mandal_Nam', 'Dist_Name'], value_vars=mandals_crops.columns[3:])\n",
    "crops = crops.rename(columns={\"variable\": 'Year', 'value': 'Crops'})\n",
    "\n",
    "trees = pd.melt(mandals_trees, id_vars=['index', 'Mandal_Nam', 'Dist_Name'], value_vars=mandals_trees.columns[3:])\n",
    "trees = trees.rename(columns={\"variable\": 'Year', 'value': 'Trees'})\n",
    "\n",
    "built_area = pd.melt(mandals_built_area, id_vars=['index', 'Mandal_Nam', 'Dist_Name'], value_vars=mandals_built_area.columns[3:])\n",
    "built_area = built_area.rename(columns={\"variable\": 'Year', 'value': 'Built Area'})"
   ]
  },
  {
   "cell_type": "code",
   "execution_count": null,
   "metadata": {},
   "outputs": [],
   "source": [
    "Croparea_df_selected = pd.merge(crops, trees, on=['index', 'Year', 'Mandal_Nam', 'Dist_Name'])\n",
    "Croparea_df_selected = pd.merge(Croparea_df_selected, built_area, on=['index', 'Year', 'Mandal_Nam', 'Dist_Name'])\n",
    "\n",
    "Croparea_df_selected['Year'] = Croparea_df_selected['Year'].astype(int)"
   ]
  },
  {
   "cell_type": "code",
   "execution_count": null,
   "metadata": {},
   "outputs": [],
   "source": [
    "os.chdir('c:\\\\Users\\\\Jesse\\\\OneDrive\\\\Documenten\\\\Master BAOR\\\\Thesis\\\\GitHub\\\\dicra\\\\analytics\\\\sandbox\\\\notebooks\\\\crop_fires\\\\Data_csv\\\\results_csv')\n",
    "Croparea_df_selected.to_csv('mandals_cropsarea.csv')"
   ]
  },
  {
   "cell_type": "markdown",
   "metadata": {},
   "source": [
    "Combining Everything"
   ]
  },
  {
   "cell_type": "code",
   "execution_count": null,
   "metadata": {},
   "outputs": [],
   "source": [
    "units = ['NO2', 'PM2.5', 'BA', 'SSM', 'SSM_median', 'ST_mean', 'ST_percentile_90', 'ST_max', 'ST_min', 'ST_median', 'AOT_mean', 'AOT_percentile_90', 'AOT_max', 'AOT_min', 'AOT_median', 'PRE_mean', 'PRE_percentile_90', 'PRE_max', 'PRE_min', 'PRE_median']\n",
    "dataframes = [stat_df_NO2, stat_df_PM25, stat_df_BA, stat_df_SSM, stat_df_SSM_median, stat_df_ST_mean, stat_df_ST_percentile_90, stat_df_ST_max, stat_df_ST_min, stat_df_ST_median, stat_df_AOT_mean, stat_df_AOT_percentile_90, stat_df_AOT_max, stat_df_AOT_min, stat_df_AOT_median,\n",
    "stat_df_PRE_mean, stat_df_PRE_percentile_90, stat_df_PRE_max, stat_df_PRE_min, stat_df_PRE_median]\n",
    "\n",
    "for a in range(0, len(units)):\n",
    "    dataframes[a] = dataframes[a].rename(columns={\"Value\": units[a]})"
   ]
  },
  {
   "cell_type": "code",
   "execution_count": null,
   "metadata": {},
   "outputs": [],
   "source": [
    "df = dataframes[0]\n",
    "\n",
    "for i in range(1, len(units)):\n",
    "    df = pd.merge(df, dataframes[i], on=['ModifiedDateTime', 'index', 'Dist_Name', 'Mandal_Nam', 'geometry'], how = 'outer')"
   ]
  },
  {
   "cell_type": "code",
   "execution_count": 64,
   "metadata": {},
   "outputs": [],
   "source": [
    "units = ['SSM_median']\n",
    "dataframes = [stat_df_SSM_median]\n",
    "\n",
    "for a in range(0, len(units)):\n",
    "    dataframes[a] = dataframes[a].rename(columns={\"Value\": units[a]})"
   ]
  },
  {
   "cell_type": "code",
   "execution_count": 65,
   "metadata": {},
   "outputs": [],
   "source": [
    "for i in range(0, len(units)):\n",
    "    df = pd.merge(df, dataframes[i][['index', 'ModifiedDateTime', units[i]]], on=['ModifiedDateTime', 'index'], how = 'outer')"
   ]
  },
  {
   "cell_type": "markdown",
   "metadata": {},
   "source": [
    "Combine POP, RWI, Soil Type, Crops, Trees, and Built Area seperately (Yearly Data)"
   ]
  },
  {
   "cell_type": "code",
   "execution_count": 63,
   "metadata": {},
   "outputs": [],
   "source": [
    "df = pd.read_csv('data_tiffs.csv', index_col=0)\n",
    "df['ModifiedDateTime'] = pd.to_datetime(df['ModifiedDateTime'])"
   ]
  },
  {
   "cell_type": "code",
   "execution_count": null,
   "metadata": {},
   "outputs": [],
   "source": [
    "df['Year'] = df['ModifiedDateTime'].dt.year\n",
    "df['Month'] = df['ModifiedDateTime'].dt.month"
   ]
  },
  {
   "cell_type": "code",
   "execution_count": null,
   "metadata": {},
   "outputs": [],
   "source": [
    "stat_df_POP_mean['Year'] = stat_df_POP_mean['ModifiedDateTime'].dt.year\n",
    "stat_df_POP_median['Year'] = stat_df_POP_median['ModifiedDateTime'].dt.year\n"
   ]
  },
  {
   "cell_type": "code",
   "execution_count": null,
   "metadata": {},
   "outputs": [],
   "source": [
    "df = pd.merge(df, Croparea_df_selected[['Year', 'index', 'Crops', 'Trees', 'Built Area']], on = ['Year', 'index'], how='left')\n",
    "df = pd.merge(df, stat_df_POP_mean[['Year', 'index', 'POP_mean']], on = ['Year', 'index'], how='left')\n",
    "df = pd.merge(df, stat_df_POP_median[['Year', 'index', 'POP_median']], on = ['Year', 'index'], how='left')\n",
    "df = pd.merge(df, stat_df_RWI[['index', 'RWI_mean', 'RWI_max', 'RWI_min', 'RWI_percentile_90', 'RWI_median']], on = ['index'], how='left')"
   ]
  },
  {
   "cell_type": "code",
   "execution_count": null,
   "metadata": {},
   "outputs": [],
   "source": [
    "mandal_boundaries['time_to_rur_median'] = mode_rural_median\n",
    "mandal_boundaries['Soil Type'] = mode_soiltype\n",
    "mandal_boundaries['Soil Type'] = mandal_boundaries['Soil Type'].astype(int)"
   ]
  },
  {
   "cell_type": "code",
   "execution_count": null,
   "metadata": {},
   "outputs": [],
   "source": [
    "cmap={3: 'Lithosols', 4: 'Pellic Luvisols', 13: 'Plinthic Luvisols', 17: 'Planosols', 27: 'Vertic Cambisols', 33: 'Eutric Nitosols', 37: 'Chromic Vertisols', 43: 'Chromic Luvisols'}\n",
    "\n",
    "for soil in range(0, len(mandal_boundaries['Soil Type'])):\n",
    "    mandal_boundaries['Soil Type'].iloc[soil] = cmap[mandal_boundaries['Soil Type'].iloc[soil]]"
   ]
  },
  {
   "cell_type": "code",
   "execution_count": null,
   "metadata": {},
   "outputs": [],
   "source": [
    "mandal_boundaries['Soil Type'].unique()"
   ]
  },
  {
   "cell_type": "code",
   "execution_count": null,
   "metadata": {},
   "outputs": [],
   "source": [
    "df = pd.merge(df, mandal_boundaries[['index', 'Soil Type']], on = ['index'], how='left')\n",
    "df = pd.merge(df, mandal_boundaries[['index', 'time_to_rur_median']], on = ['index'], how='left')"
   ]
  },
  {
   "cell_type": "markdown",
   "metadata": {},
   "source": [
    "Seasons"
   ]
  },
  {
   "cell_type": "code",
   "execution_count": null,
   "metadata": {},
   "outputs": [],
   "source": [
    "df['Season'] = 0\n",
    "\n",
    "for i in range(0, len(df)):\n",
    "    if (df['Month'].iloc[i] == 4) | (df['Month'].iloc[i] == 5):\n",
    "        df['Season'].iloc[i] = 'Rabi'\n",
    "    elif (df['Month'].iloc[i] == 9) | (df['Month'].iloc[i] == 10):\n",
    "        df['Season'].iloc[i] = 'Kharif' \n",
    "    else:\n",
    "        df['Season'].iloc[i] = 'None'\n"
   ]
  },
  {
   "cell_type": "markdown",
   "metadata": {},
   "source": [
    "Power Plants"
   ]
  },
  {
   "cell_type": "code",
   "execution_count": 141,
   "metadata": {},
   "outputs": [],
   "source": [
    "os.chdir('C:\\\\Users\\\\Jesse\\\\OneDrive\\\\Documenten\\\\Data_Thesis\\\\PowerPlants')\n",
    "power_plants = pd.read_excel('Coal Power Plants database_INDIA_FINAL.xlsx')\n",
    "power_plants_tel = power_plants[power_plants['State']=='Telangana']"
   ]
  },
  {
   "cell_type": "code",
   "execution_count": 142,
   "metadata": {},
   "outputs": [],
   "source": [
    "power_plants_tel = power_plants_tel[power_plants_tel['Commissioning year']<2019][['State','District', 'Location', 'Plant name ', 'Owner', 'Status', 'Capacity (MW)', 'Commissioning year', 'Latitude', 'Longitude', 2016, 2017, 2018]]"
   ]
  },
  {
   "cell_type": "code",
   "execution_count": 143,
   "metadata": {},
   "outputs": [],
   "source": [
    "for i in range(0, len(power_plants_tel)):\n",
    "    splitted_names = power_plants_tel['Plant name '].iloc[i].split()\n",
    "    if splitted_names[-2] == 'Stage':\n",
    "        power_plants_tel['Plant name '].iloc[i] = ' '.join(map(str, splitted_names[:-2]))"
   ]
  },
  {
   "cell_type": "code",
   "execution_count": 144,
   "metadata": {},
   "outputs": [],
   "source": [
    "plants = []\n",
    "max_capacities = []\n",
    "\n",
    "for plant_name in power_plants_tel['Plant name '].unique():\n",
    "    plant = power_plants_tel[power_plants_tel['Plant name '] == plant_name]\n",
    "    plants.append(plant_name)\n",
    "    max_cap = 0\n",
    "    for capacity in range (0, len(plant)):\n",
    "        if plant['Capacity (MW)'].iloc[capacity] > max_cap:\n",
    "            max_cap = plant['Capacity (MW)'].iloc[capacity]\n",
    "\n",
    "    max_capacities.append(max_cap)\n",
    "\n",
    "\n"
   ]
  },
  {
   "cell_type": "code",
   "execution_count": 145,
   "metadata": {},
   "outputs": [],
   "source": [
    "unique_power_plants = power_plants_tel.groupby(['District', 'Location', 'Plant name ', 'Owner', 'Latitude', 'Longitude'])['State'].count().reset_index()"
   ]
  },
  {
   "cell_type": "code",
   "execution_count": 146,
   "metadata": {},
   "outputs": [],
   "source": [
    "unique_power_plants['2016'] = 0\n",
    "unique_power_plants['2017'] = 0\n",
    "unique_power_plants['2018'] = 0 \n",
    "\n",
    "for i in range(0, len(unique_power_plants)):\n",
    "    for index in range(0, len(plants)):\n",
    "        if (unique_power_plants['Plant name '].iloc[i] == plants[index]) & (plants[index] =='Pegadapalli Power Station (Jaipur Mandal Power Station)'):\n",
    "            unique_power_plants['2017'].iloc[i] = max_capacities[index]\n",
    "            unique_power_plants['2018'].iloc[i] = max_capacities[index]\n",
    "        elif unique_power_plants['Plant name '].iloc[i] == plants[index]:\n",
    "            unique_power_plants['2016'].iloc[i] = max_capacities[index]\n",
    "            unique_power_plants['2017'].iloc[i] = max_capacities[index]\n",
    "            unique_power_plants['2018'].iloc[i] = max_capacities[index]\n"
   ]
  },
  {
   "cell_type": "code",
   "execution_count": 147,
   "metadata": {},
   "outputs": [],
   "source": [
    "del unique_power_plants['State']"
   ]
  },
  {
   "cell_type": "code",
   "execution_count": 148,
   "metadata": {},
   "outputs": [],
   "source": [
    "gdp_power_plants_tel = gdp.GeoDataFrame(unique_power_plants, geometry=gdp.points_from_xy(unique_power_plants.Longitude, unique_power_plants.Latitude, crs='EPSG:4326'))"
   ]
  },
  {
   "cell_type": "code",
   "execution_count": 149,
   "metadata": {},
   "outputs": [],
   "source": [
    "mandal_boundaries['Centroid'] = mandal_boundaries['geometry'].centroid.to_crs('EPSG:5234')\n",
    "gdp_power_plants_tel['geometry_meters'] = gdp_power_plants_tel['geometry'].to_crs('EPSG:5234')"
   ]
  },
  {
   "cell_type": "code",
   "execution_count": 150,
   "metadata": {},
   "outputs": [],
   "source": [
    "for plant in range(0, len(plants)):\n",
    "    plan_split = plants[plant].split()\n",
    "    mandal_boundaries[plants[plant]] = mandal_boundaries['Centroid'].distance(gdp_power_plants_tel['geometry_meters'].iloc[plant])\n"
   ]
  },
  {
   "cell_type": "code",
   "execution_count": 151,
   "metadata": {},
   "outputs": [],
   "source": [
    "power_plants_matched = pd.melt(mandal_boundaries, id_vars=['index', 'Dist_Name', 'Mandal_Nam', 'geometry'], value_vars=mandal_boundaries.columns[-8:])\n",
    "power_plants_matched = power_plants_matched.rename(columns = {'variable': 'Plant name ', 'value': 'Distance'})"
   ]
  },
  {
   "cell_type": "code",
   "execution_count": 152,
   "metadata": {},
   "outputs": [],
   "source": [
    "df_power_plants = pd.merge(power_plants_matched, gdp_power_plants_tel[['Plant name ', '2016', '2017', '2018']], on = ['Plant name '], how='left')"
   ]
  },
  {
   "cell_type": "code",
   "execution_count": 153,
   "metadata": {},
   "outputs": [],
   "source": [
    "df_power_plants['Distance'] = round(df_power_plants['Distance']/1000, 2)"
   ]
  },
  {
   "cell_type": "code",
   "execution_count": 158,
   "metadata": {},
   "outputs": [],
   "source": [
    "df_power_plants['Score 2016'] = df_power_plants['2016'] / df_power_plants['Distance']\n",
    "df_power_plants['Score 2017'] = df_power_plants['2017'] / df_power_plants['Distance']\n",
    "df_power_plants['Score 2018'] = df_power_plants['2018'] / df_power_plants['Distance']"
   ]
  },
  {
   "cell_type": "code",
   "execution_count": 164,
   "metadata": {},
   "outputs": [],
   "source": [
    "power_plant_scores = df_power_plants.groupby(['index', 'Dist_Name', 'Mandal_Nam'])['Score 2016', 'Score 2017', 'Score 2018'].sum().reset_index()"
   ]
  },
  {
   "cell_type": "code",
   "execution_count": 167,
   "metadata": {},
   "outputs": [],
   "source": [
    "power_plant_scores = pd.melt(power_plant_scores,  id_vars=['index', 'Dist_Name', 'Mandal_Nam'], value_vars = ['Score 2016', 'Score 2017', 'Score 2018'])\n",
    "power_plant_scores = power_plant_scores.rename(columns = {'variable': 'Year', 'value': 'PowP_score'})"
   ]
  },
  {
   "cell_type": "code",
   "execution_count": 170,
   "metadata": {},
   "outputs": [],
   "source": [
    "for line in range(0, len(power_plant_scores)):\n",
    "    power_plant_scores['Year'].iloc[line] = power_plant_scores['Year'].iloc[line].split()[1]"
   ]
  },
  {
   "cell_type": "code",
   "execution_count": 182,
   "metadata": {},
   "outputs": [],
   "source": [
    "power_plant_scores['Year'] = power_plant_scores['Year'].astype(int)"
   ]
  },
  {
   "cell_type": "code",
   "execution_count": 78,
   "metadata": {},
   "outputs": [
    {
     "data": {
      "image/png": "[encoded data removed]",
      "text/plain": [
       "<Figure size 640x480 with 1 Axes>"
      ]
     },
     "metadata": {},
     "output_type": "display_data"
    }
   ],
   "source": [
    "shape_telangana.plot()\n",
    "plt.scatter(gdp_power_plants_tel.Longitude, gdp_power_plants_tel.Latitude, c='red')\n",
    "plt.show()"
   ]
  },
  {
   "cell_type": "code",
   "execution_count": 174,
   "metadata": {},
   "outputs": [],
   "source": [
    "df = pd.read_csv('data_tiffs.csv', index_col=0)\n",
    "df['ModifiedDateTime'] = pd.to_datetime(df['ModifiedDateTime'])"
   ]
  },
  {
   "cell_type": "code",
   "execution_count": 184,
   "metadata": {},
   "outputs": [],
   "source": [
    "df = pd.merge(df, power_plant_scores[['index', 'Year', 'PowP_score']], how='left', on=['index', 'Year'])"
   ]
  },
  {
   "cell_type": "code",
   "execution_count": 202,
   "metadata": {},
   "outputs": [],
   "source": [
    "df_selected = df[['index', 'Mandal_Nam', 'Dist_Name', 'geometry', 'ModifiedDateTime', 'Year', 'Month', 'Season', 'NO2', 'PM2.5', 'SSM', 'SSM_median', 'SSM_min', 'SSM_max', 'SSM_percentile_90', 'PRE_mean', 'PRE_median', 'PRE_min', 'PRE_max', 'PRE_percentile_90', 'PRE_sum', \n",
    "    'POP_mean', 'POP_median', 'ST_mean', 'ST_median', 'ST_min', 'ST_max', 'ST_percentile_90', 'RWI_mean', 'RWI_median', 'RWI_min', 'RWI_max', 'RWI_percentile_90', 'AOT_mean', 'AOT_median', 'AOT_min', 'AOT_max', 'AOT_percentile_90',\n",
    "    'BA_mean', 'BA_median', 'BA', 'Crops', 'Trees', 'Built Area', 'time_to_rur_median', 'PowP_score', 'Soil Type']]"
   ]
  },
  {
   "cell_type": "code",
   "execution_count": 207,
   "metadata": {},
   "outputs": [],
   "source": [
    "df_selected = df_selected.rename(columns={'BA': 'BA_sum', 'SSM': 'SSM_mean'})"
   ]
  },
  {
   "cell_type": "code",
   "execution_count": 212,
   "metadata": {},
   "outputs": [
    {
     "data": {
      "text/plain": [
       "Index(['index', 'Mandal_Nam', 'Dist_Name', 'geometry', 'ModifiedDateTime',\n",
       "       'Year', 'Month', 'Season', 'NO2', 'PM2.5', 'SSM_mean', 'SSM_median',\n",
       "       'SSM_min', 'SSM_max', 'SSM_percentile_90', 'PRE_mean', 'PRE_median',\n",
       "       'PRE_min', 'PRE_max', 'PRE_percentile_90', 'PRE_sum', 'POP_mean',\n",
       "       'POP_median', 'ST_mean', 'ST_median', 'ST_min', 'ST_max',\n",
       "       'ST_percentile_90', 'RWI_mean', 'RWI_median', 'RWI_min', 'RWI_max',\n",
       "       'RWI_percentile_90', 'AOT_mean', 'AOT_median', 'AOT_min', 'AOT_max',\n",
       "       'AOT_percentile_90', 'BA_mean', 'BA_median', 'BA_sum', 'Crops', 'Trees',\n",
       "       'Built Area', 'time_to_rur_median', 'PowP_score', 'Soil Type'],\n",
       "      dtype='object')"
      ]
     },
     "execution_count": 212,
     "metadata": {},
     "output_type": "execute_result"
    }
   ],
   "source": [
    "df_selected.columns"
   ]
  },
  {
   "cell_type": "code",
   "execution_count": 213,
   "metadata": {},
   "outputs": [],
   "source": [
    "os.chdir('c:\\\\Users\\\\Jesse\\\\OneDrive\\\\Documenten\\\\Master BAOR\\\\Thesis\\\\GitHub\\\\dicra\\\\analytics\\\\sandbox\\\\notebooks\\\\crop_fires\\\\Data_csv\\\\results_csv')\n",
    "df_selected.to_csv('data_tiffs.csv')"
   ]
  }
 ],
 "metadata": {
  "kernelspec": {
   "display_name": "Python 3.8.11 ('gurobi')",
   "language": "python",
   "name": "python3"
  },
  "language_info": {
   "codemirror_mode": {
    "name": "ipython",
    "version": 3
   },
   "file_extension": ".py",
   "mimetype": "text/x-python",
   "name": "python",
   "nbconvert_exporter": "python",
   "pygments_lexer": "ipython3",
   "version": "3.8.11"
  },
  "orig_nbformat": 4,
  "vscode": {
   "interpreter": {
    "hash": "8137cca2c96495771a6332c43a92746d2e8f2f032dec7e1d4873522724197fcb"
   }
  }
 },
 "nbformat": 4,
 "nbformat_minor": 2
}
