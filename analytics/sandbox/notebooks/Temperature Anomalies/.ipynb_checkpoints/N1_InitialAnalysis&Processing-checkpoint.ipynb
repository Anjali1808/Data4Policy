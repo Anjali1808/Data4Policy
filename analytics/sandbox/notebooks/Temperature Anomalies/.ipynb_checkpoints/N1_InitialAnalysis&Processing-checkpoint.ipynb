{
 "cells": [
  {
   "cell_type": "markdown",
   "id": "0a0ef0d2-2688-4d48-913b-d8955d7c6b98",
   "metadata": {},
   "source": [
    "# Notebook 1: Initial Analysis & Processing of data"
   ]
  },
  {
   "cell_type": "markdown",
   "id": "e895c0c2-9c9c-4bd2-a02b-13977a148f11",
   "metadata": {},
   "source": [
    "Importing relevent libraries, make sure you have them installed."
   ]
  },
  {
   "cell_type": "code",
   "execution_count": 4,
   "id": "f4b96910-e211-4edd-b8a1-2340db2f202e",
   "metadata": {},
   "outputs": [],
   "source": [
    "import os\n",
    "\n",
    "import numpy as np\n",
    "import pandas as pd\n",
    "import matplotlib.pyplot as plt\n",
    "# netCDF4 needs to be installed in your environment for this to work\n",
    "import xarray as xr\n",
    "import rioxarray as rxr\n",
    "import cartopy.crs as ccrs\n",
    "import cartopy.feature as cfeature\n",
    "import seaborn as sns\n",
    "import geopandas as gpd\n",
    "import earthpy as et\n",
    "\n",
    "# Plotting options\n",
    "sns.set(font_scale=1.3)\n",
    "sns.set_style(\"white\")\n"
   ]
  },
  {
   "cell_type": "markdown",
   "id": "ff0284b4-a630-4403-95e2-3202a44a5a5c",
   "metadata": {},
   "source": [
    "## Importing Temperature data\n",
    "Temperature data used is [Copernicus ERA5-Land monthly averaged data from 1950 to present](https://cds.climate.copernicus.eu/cdsapp#!/dataset/reanalysis-era5-land-monthly-means?tab=overview)"
   ]
  },
  {
   "cell_type": "code",
   "execution_count": null,
   "id": "8edbf9f6-3c5c-4478-8245-4ad4206159c3",
   "metadata": {},
   "outputs": [],
   "source": [
    "path = \"download.nc\" #path of temperature data\n",
    "temp_xr = xr.open_dataset(path)\n",
    "skt = temp_xr['skt'] #Skin Temperature data loaded into array"
   ]
  },
  {
   "cell_type": "code",
   "execution_count": 3,
   "id": "a2e5a55c-5563-4bba-82cf-d1f2438a5be3",
   "metadata": {},
   "outputs": [],
   "source": [
    "#import ee\n",
    "#import geemap\n",
    "\n",
    "#optional way to get values using live map\n",
    "#Map = geemap.Map(center=(40, -100), zoom=4)\n",
    "#Map\n",
    "\n",
    "longitude = 79\n",
    "latitude = 18\n",
    "#default values are 79.0968, 18.2294"
   ]
  },
  {
   "cell_type": "markdown",
   "id": "c6c29083-4fa4-414c-9c62-f5bb5b79bc5f",
   "metadata": {},
   "source": [
    "## One point Analysis of the skin temperature data\n",
    "We take one geographic point on the map and look at it's features, trends we see, etc."
   ]
  },
  {
   "cell_type": "code",
   "execution_count": 10,
   "id": "004eff79-ef89-4c11-8afa-c7272304e0d5",
   "metadata": {},
   "outputs": [],
   "source": [
    "temp_single_point = skt.sel(latitude=latitude,longitude=longitude) #a geographical point is chosen.\n",
    "temp_single_point"
   ]
  },
  {
   "cell_type": "code",
   "execution_count": null,
   "id": "d3b51879-bde2-4bf6-9b84-3fdb3bbeb796",
   "metadata": {},
   "outputs": [],
   "source": [
    "f, ax = plt.subplots(figsize=(15, 7))\n",
    "temp_single_point.plot.line(hue='lat',marker=\"o\",ax=ax,color=\"black\")\n",
    "ax.set(title=\"Time Series For a Single Lat / Lon Location for year 1950-51\")\n",
    "\n",
    "# Uncomment the line below if you wish to export the figure as a .png file\n",
    "# plt.savefig(\"single_point_timeseries.png\")\n",
    "plt.show()"
   ]
  },
  {
   "cell_type": "code",
   "execution_count": null,
   "id": "64008309-0057-4c06-b9db-5778a8727236",
   "metadata": {},
   "outputs": [],
   "source": [
    "f, ax = plt.subplots(figsize=(15, 7))\n",
    "\n",
    "temp_single_point[0:50].plot.line(hue='lat',marker=\"o\",ax=ax,color=\"black\")\n",
    "ax.set(title=\"Time Series For a Single Lat / Lon Location for year 1950-51\")\n",
    "plt.show()"
   ]
  },
  {
   "cell_type": "code",
   "execution_count": 6,
   "id": "0b1e875d-5467-4e2a-9f28-9f0583309772",
   "metadata": {},
   "outputs": [],
   "source": [
    "#group the data by year and calculate max, min, and mean values\n",
    "singlepoint_max_val = temp_single_point.groupby('time.year').max(skipna=True)\n",
    "singlepoint_min_val = temp_single_point.groupby('time.year').min(skipna=True)\n",
    "mean_single_point = temp_single_point.groupby('time.year').mean()"
   ]
  },
  {
   "cell_type": "code",
   "execution_count": null,
   "id": "231ee479-7156-4a9b-b77d-5499e0e8b837",
   "metadata": {},
   "outputs": [],
   "source": [
    "# plot the min,max,mean values with purple markers\n",
    "f, ax = plt.subplots(figsize=(12, 6))\n",
    "singlepoint_max_val.plot.line(hue='lat',marker=\"o\",ax=ax,color=\"grey\",markerfacecolor=\"purple\",markeredgecolor=\"purple\")\n",
    "singlepoint_min_val.plot.line(hue='lat',marker=\"o\",ax=ax,color=\"black\",markerfacecolor=\"orange\",markeredgecolor=\"orange\")\n",
    "mean_single_point.plot.line(hue='lat',marker=\"o\",ax=ax,color=\"green\",markerfacecolor=\"yellow\",markeredgecolor=\"yellow\")\n",
    "ax.set(title=\"Annual Max Min and Average Temperature for a chosen Lat/Lon\")\n",
    "plt.show()"
   ]
  },
  {
   "cell_type": "code",
   "execution_count": null,
   "id": "50468cda-959f-4f47-80d1-3e29c89d2caf",
   "metadata": {},
   "outputs": [],
   "source": [
    "f, ax = plt.subplots(figsize=(12, 6))\n",
    "import seaborn as sns\n",
    "\n",
    "mean_single_point.plot.line(hue='lat',marker=\"o\",ax=ax,color=\"green\",markerfacecolor=\"yellow\",markeredgecolor=\"yellow\",label ='Mean temperature')\n",
    "sns.regplot(x = \"year\",y = mean_single_point, ci = None,data = mean_single_point,label ='Trend line')\n",
    "plt.axhline(y = mean_single_point.mean(), color = 'r', linestyle = '-',label ='Horizontal line along mean')\n",
    "\n",
    "plt.legend()\n",
    "ax.set(title=\"Average Temperature vs Trend for a chosen Lat/Lon\")\n",
    "plt.show()\n",
    "#plt.savefig('AverageTempMAforaSinglepoint.png')"
   ]
  },
  {
   "cell_type": "code",
   "execution_count": null,
   "id": "4721f3ad-6e32-4e07-981d-25126e9d0c09",
   "metadata": {},
   "outputs": [],
   "source": [
    "#Get mean yearly temperatures for the data.\n",
    "skt_yearly_mean = skt.groupby('time.year').mean()\n",
    "skt_yearly_mean.to_netcdf(path= \"yearlymean.nc\")"
   ]
  },
  {
   "cell_type": "code",
   "execution_count": 12,
   "id": "f132d2d4-33ec-479b-abb5-9cd07f20270d",
   "metadata": {},
   "outputs": [],
   "source": [
    "#get mean temperature data\n",
    "#skt_yearly_mean = skt_yearly_mean[0:72] #You can use this to get long term averages of a shorter duration\n",
    "final_skt_data = skt_yearly_mean.mean(dim = [\"year\"])"
   ]
  },
  {
   "cell_type": "code",
   "execution_count": 19,
   "id": "4d9a0160-c694-4a8c-93c7-73c4b1b5ad35",
   "metadata": {},
   "outputs": [],
   "source": [
    "#save the mean temperature data into output.nc\n",
    "final_skt_data.to_netcdf(path= \"output.nc\")"
   ]
  },
  {
   "cell_type": "markdown",
   "id": "a4a5e48d-4d91-4ed0-9f69-c56d6bca62ce",
   "metadata": {
    "tags": []
   },
   "source": [
    "### Now we have the average temperature data and yearly average temperature data. We can begin our anomaly analysis with these and find out further what this data means and use it for other purposes. "
   ]
  }
 ],
 "metadata": {
  "kernelspec": {
   "display_name": "Python 3 (ipykernel)",
   "language": "python",
   "name": "python3"
  },
  "language_info": {
   "codemirror_mode": {
    "name": "ipython",
    "version": 3
   },
   "file_extension": ".py",
   "mimetype": "text/x-python",
   "name": "python",
   "nbconvert_exporter": "python",
   "pygments_lexer": "ipython3",
   "version": "3.9.13"
  },
  "vscode": {
   "interpreter": {
    "hash": "11938c6bc6919ae2720b4d5011047913343b08a43b18698fd82dedb0d4417594"
   }
  }
 },
 "nbformat": 4,
 "nbformat_minor": 5
}
