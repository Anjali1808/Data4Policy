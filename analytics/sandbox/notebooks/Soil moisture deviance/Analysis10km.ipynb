{
 "cells": [
  {
   "cell_type": "code",
   "execution_count": 1,
   "id": "580f988c-f268-4c67-8e51-22af77533390",
   "metadata": {},
   "outputs": [
    {
     "name": "stderr",
     "output_type": "stream",
     "text": [
      "/home/luckyw0w/.local/lib/python3.10/site-packages/geopandas/_compat.py:123: UserWarning: The Shapely GEOS version (3.10.3-CAPI-1.16.1) is incompatible with the GEOS version PyGEOS was compiled with (3.10.4-CAPI-1.16.2). Conversions between both will be slow.\n",
      "  warnings.warn(\n"
     ]
    }
   ],
   "source": [
    "import numpy as np\n",
    "import pandas as pd\n",
    "import matplotlib.pyplot as plt\n",
    "from matplotlib import pyplot\n",
    "import seaborn as sns\n",
    "import pandas\n",
    "import rasterio\n",
    "from osgeo import gdal\n",
    "import geopandas as gpd\n",
    "from sklearn.linear_model import LinearRegression\n",
    "import os\n",
    "import georasters as gr\n",
    "import datetime as dt\n",
    "from statsmodels.tsa.seasonal import STL"
   ]
  },
  {
   "cell_type": "code",
   "execution_count": 2,
   "id": "0e190172",
   "metadata": {},
   "outputs": [],
   "source": [
    "import warnings\n",
    "warnings.filterwarnings('ignore')"
   ]
  },
  {
   "cell_type": "code",
   "execution_count": 3,
   "id": "8ddbf2e0",
   "metadata": {},
   "outputs": [],
   "source": [
    "directory = 'download_ssm/cog/'\n",
    "files = os.listdir(directory)\n",
    "files.sort()"
   ]
  },
  {
   "cell_type": "code",
   "execution_count": 4,
   "id": "b23e3eeb-6eaf-4856-9bf2-09184caf4341",
   "metadata": {},
   "outputs": [],
   "source": [
    "i = files[100][17:25]\n",
    "i = i[:4]+'-'+i[4:6]+'-'+i[6:]\n",
    "i\n",
    "df = pd.DataFrame()\n",
    "for i in files:\n",
    "    myRaster = directory+i\n",
    "    elevation = gr.from_file(myRaster)\n",
    "    elevation = elevation.to_pandas()\n",
    "    i = i[17:25]\n",
    "    i = i[:4]+'-'+i[4:6]+'-'+i[6:]\n",
    "    df[i] = elevation['value']\n",
    "#df['geometry'] = elevation['geometry']\n",
    "\n",
    "df = df.T\n",
    "df['Date'] = df.index\n",
    "df['Date'] = pd.to_datetime(df['Date'])\n",
    "DateOrdinal = [dt.datetime.toordinal(i) for i in df['Date']]\n",
    "df = df.reset_index()\n",
    "del df['index']"
   ]
  },
  {
   "cell_type": "code",
   "execution_count": 18,
   "id": "354ee06b",
   "metadata": {},
   "outputs": [],
   "source": [
    "def Trend_score(i, df, DateOrdinal):\n",
    "    sdf = pd.Series(list(df[i]), index=pd.to_datetime(df['Date']), name=\"Fires\")\n",
    "    stl = STL(sdf)\n",
    "    res = stl.fit()\n",
    "\n",
    "    #Set the data in the right format for Linear Regression\n",
    "    x = np.array(DateOrdinal)\n",
    "    X = x.reshape(-1, 1)\n",
    "    y = np.array(res.trend)\n",
    "    y = y.reshape(-1, 1)\n",
    "\n",
    "    #Perform Linear Regression and obtain the slope\n",
    "    reg = LinearRegression().fit(X, y)\n",
    "    y_pred_trend = reg.predict(X)\n",
    "    slope, intercept = np.polyfit(x, y_pred_trend,1)\n",
    "    \n",
    "    return slope[0]"
   ]
  },
  {
   "cell_type": "code",
   "execution_count": 22,
   "id": "0d43b868",
   "metadata": {},
   "outputs": [],
   "source": [
    "slopes = [Trend_score(i, df, DateOrdinal) for i in df.columns[:-1]]"
   ]
  },
  {
   "cell_type": "code",
   "execution_count": 26,
   "id": "83ca6bda",
   "metadata": {},
   "outputs": [],
   "source": [
    "res = np.array(slopes)\n",
    "data_norm = np.where(res >= 0, res/np.max(res), -res/np.min(res))"
   ]
  },
  {
   "cell_type": "code",
   "execution_count": 24,
   "id": "d11c590a",
   "metadata": {},
   "outputs": [],
   "source": [
    "elevation = gr.from_file(myRaster)\n",
    "elevation = elevation.to_geopandas()"
   ]
  },
  {
   "cell_type": "code",
   "execution_count": 37,
   "id": "08e6a846",
   "metadata": {},
   "outputs": [],
   "source": [
    "deviance = gpd.GeoDataFrame()\n",
    "#deviance['index'] = elevation.index\n",
    "deviance['deviance'] = data_norm\n",
    "deviance['geometry'] = elevation['geometry']"
   ]
  },
  {
   "cell_type": "code",
   "execution_count": 38,
   "id": "fa524433",
   "metadata": {},
   "outputs": [],
   "source": [
    "deviance.to_file('SSM_deviance_10km.json')"
   ]
  },
  {
   "cell_type": "code",
   "execution_count": 40,
   "id": "486ceaa1",
   "metadata": {},
   "outputs": [
    {
     "data": {
      "text/plain": [
       "1.0"
      ]
     },
     "execution_count": 40,
     "metadata": {},
     "output_type": "execute_result"
    }
   ],
   "source": [
    "data_norm.max()"
   ]
  },
  {
   "cell_type": "code",
   "execution_count": null,
   "id": "26aeff24",
   "metadata": {},
   "outputs": [],
   "source": []
  }
 ],
 "metadata": {
  "kernelspec": {
   "display_name": "Python 3.10.6 64-bit",
   "language": "python",
   "name": "python3"
  },
  "language_info": {
   "codemirror_mode": {
    "name": "ipython",
    "version": 3
   },
   "file_extension": ".py",
   "mimetype": "text/x-python",
   "name": "python",
   "nbconvert_exporter": "python",
   "pygments_lexer": "ipython3",
   "version": "3.10.6"
  },
  "vscode": {
   "interpreter": {
    "hash": "916dbcbb3f70747c44a77c7bcd40155683ae19c65e1c03b4aa3499c5328201f1"
   }
  }
 },
 "nbformat": 4,
 "nbformat_minor": 5
}
