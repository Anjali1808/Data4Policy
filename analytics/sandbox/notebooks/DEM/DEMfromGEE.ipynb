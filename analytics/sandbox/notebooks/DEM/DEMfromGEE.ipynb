{
 "cells": [
  {
   "cell_type": "markdown",
   "id": "01d9ef31",
   "metadata": {},
   "source": [
    "# Downloading SRTM DEM for Telangana\n",
    "Import all the required libraries and initialize the earth-engine api."
   ]
  },
  {
   "cell_type": "code",
   "execution_count": 1,
   "id": "901a73cb",
   "metadata": {},
   "outputs": [],
   "source": [
    "import ee\n",
    "import json\n",
    "from osgeo import gdal\n",
    "\n",
    "ee.Initialize() # Initialize"
   ]
  },
  {
   "cell_type": "markdown",
   "id": "4a95df6b",
   "metadata": {},
   "source": [
    "Import SRTM DEM 30 Image from GEE and clip it to Area of Interest(Telangana state). Later export it to google drive\n",
    "\n",
    "GEE images can be download directly from GEE to local system but pixel limit for that operation is 10000 and here dataset is much larger that's why exporting to drive option has been opted"
   ]
  },
  {
   "cell_type": "code",
   "execution_count": 3,
   "id": "83cad3a7",
   "metadata": {},
   "outputs": [
    {
     "name": "stdout",
     "output_type": "stream",
     "text": [
      "Polling for task (id: M27FQOPWM2NXJC7GA7FIXXD3).\n",
      "Polling for task (id: M27FQOPWM2NXJC7GA7FIXXD3).\n",
      "Polling for task (id: M27FQOPWM2NXJC7GA7FIXXD3).\n",
      "Polling for task (id: M27FQOPWM2NXJC7GA7FIXXD3).\n",
      "Polling for task (id: M27FQOPWM2NXJC7GA7FIXXD3).\n",
      "Polling for task (id: M27FQOPWM2NXJC7GA7FIXXD3).\n",
      "Polling for task (id: M27FQOPWM2NXJC7GA7FIXXD3).\n",
      "Polling for task (id: M27FQOPWM2NXJC7GA7FIXXD3).\n",
      "Polling for task (id: M27FQOPWM2NXJC7GA7FIXXD3).\n",
      "Polling for task (id: M27FQOPWM2NXJC7GA7FIXXD3).\n",
      "Polling for task (id: M27FQOPWM2NXJC7GA7FIXXD3).\n",
      "Polling for task (id: M27FQOPWM2NXJC7GA7FIXXD3).\n",
      "Polling for task (id: M27FQOPWM2NXJC7GA7FIXXD3).\n",
      "Polling for task (id: M27FQOPWM2NXJC7GA7FIXXD3).\n",
      "Polling for task (id: M27FQOPWM2NXJC7GA7FIXXD3).\n",
      "Polling for task (id: M27FQOPWM2NXJC7GA7FIXXD3).\n",
      "Polling for task (id: M27FQOPWM2NXJC7GA7FIXXD3).\n",
      "Polling for task (id: M27FQOPWM2NXJC7GA7FIXXD3).\n",
      "Polling for task (id: M27FQOPWM2NXJC7GA7FIXXD3).\n",
      "Polling for task (id: M27FQOPWM2NXJC7GA7FIXXD3).\n",
      "Polling for task (id: M27FQOPWM2NXJC7GA7FIXXD3).\n",
      "Polling for task (id: M27FQOPWM2NXJC7GA7FIXXD3).\n",
      "Polling for task (id: M27FQOPWM2NXJC7GA7FIXXD3).\n",
      "Polling for task (id: M27FQOPWM2NXJC7GA7FIXXD3).\n",
      "Polling for task (id: M27FQOPWM2NXJC7GA7FIXXD3).\n",
      "Polling for task (id: M27FQOPWM2NXJC7GA7FIXXD3).\n",
      "Polling for task (id: M27FQOPWM2NXJC7GA7FIXXD3).\n",
      "Polling for task (id: M27FQOPWM2NXJC7GA7FIXXD3).\n",
      "Polling for task (id: M27FQOPWM2NXJC7GA7FIXXD3).\n",
      "Polling for task (id: M27FQOPWM2NXJC7GA7FIXXD3).\n",
      "Polling for task (id: M27FQOPWM2NXJC7GA7FIXXD3).\n",
      "Polling for task (id: M27FQOPWM2NXJC7GA7FIXXD3).\n",
      "Polling for task (id: M27FQOPWM2NXJC7GA7FIXXD3).\n",
      "Polling for task (id: M27FQOPWM2NXJC7GA7FIXXD3).\n",
      "Polling for task (id: M27FQOPWM2NXJC7GA7FIXXD3).\n",
      "Polling for task (id: M27FQOPWM2NXJC7GA7FIXXD3).\n",
      "Polling for task (id: M27FQOPWM2NXJC7GA7FIXXD3).\n",
      "Polling for task (id: M27FQOPWM2NXJC7GA7FIXXD3).\n",
      "Polling for task (id: M27FQOPWM2NXJC7GA7FIXXD3).\n",
      "Polling for task (id: M27FQOPWM2NXJC7GA7FIXXD3).\n",
      "Polling for task (id: M27FQOPWM2NXJC7GA7FIXXD3).\n",
      "Polling for task (id: M27FQOPWM2NXJC7GA7FIXXD3).\n",
      "Polling for task (id: M27FQOPWM2NXJC7GA7FIXXD3).\n",
      "Polling for task (id: M27FQOPWM2NXJC7GA7FIXXD3).\n",
      "Polling for task (id: M27FQOPWM2NXJC7GA7FIXXD3).\n",
      "Polling for task (id: M27FQOPWM2NXJC7GA7FIXXD3).\n",
      "Polling for task (id: M27FQOPWM2NXJC7GA7FIXXD3).\n",
      "Polling for task (id: M27FQOPWM2NXJC7GA7FIXXD3).\n",
      "Polling for task (id: M27FQOPWM2NXJC7GA7FIXXD3).\n",
      "Polling for task (id: M27FQOPWM2NXJC7GA7FIXXD3).\n",
      "Polling for task (id: M27FQOPWM2NXJC7GA7FIXXD3).\n",
      "Polling for task (id: M27FQOPWM2NXJC7GA7FIXXD3).\n",
      "Polling for task (id: M27FQOPWM2NXJC7GA7FIXXD3).\n",
      "Polling for task (id: M27FQOPWM2NXJC7GA7FIXXD3).\n",
      "Polling for task (id: M27FQOPWM2NXJC7GA7FIXXD3).\n",
      "Polling for task (id: M27FQOPWM2NXJC7GA7FIXXD3).\n",
      "Polling for task (id: M27FQOPWM2NXJC7GA7FIXXD3).\n",
      "Polling for task (id: M27FQOPWM2NXJC7GA7FIXXD3).\n",
      "Polling for task (id: M27FQOPWM2NXJC7GA7FIXXD3).\n",
      "Polling for task (id: M27FQOPWM2NXJC7GA7FIXXD3).\n",
      "Polling for task (id: M27FQOPWM2NXJC7GA7FIXXD3).\n",
      "Polling for task (id: M27FQOPWM2NXJC7GA7FIXXD3).\n",
      "Polling for task (id: M27FQOPWM2NXJC7GA7FIXXD3).\n",
      "Polling for task (id: M27FQOPWM2NXJC7GA7FIXXD3).\n",
      "Polling for task (id: M27FQOPWM2NXJC7GA7FIXXD3).\n",
      "Polling for task (id: M27FQOPWM2NXJC7GA7FIXXD3).\n",
      "Polling for task (id: M27FQOPWM2NXJC7GA7FIXXD3).\n",
      "Polling for task (id: M27FQOPWM2NXJC7GA7FIXXD3).\n",
      "Polling for task (id: M27FQOPWM2NXJC7GA7FIXXD3).\n",
      "Polling for task (id: M27FQOPWM2NXJC7GA7FIXXD3).\n",
      "Polling for task (id: M27FQOPWM2NXJC7GA7FIXXD3).\n",
      "Polling for task (id: M27FQOPWM2NXJC7GA7FIXXD3).\n",
      "Polling for task (id: M27FQOPWM2NXJC7GA7FIXXD3).\n",
      "Polling for task (id: M27FQOPWM2NXJC7GA7FIXXD3).\n",
      "Polling for task (id: M27FQOPWM2NXJC7GA7FIXXD3).\n",
      "Polling for task (id: M27FQOPWM2NXJC7GA7FIXXD3).\n",
      "Polling for task (id: M27FQOPWM2NXJC7GA7FIXXD3).\n",
      "Polling for task (id: M27FQOPWM2NXJC7GA7FIXXD3).\n",
      "Polling for task (id: M27FQOPWM2NXJC7GA7FIXXD3).\n",
      "Polling for task (id: M27FQOPWM2NXJC7GA7FIXXD3).\n",
      "Polling for task (id: M27FQOPWM2NXJC7GA7FIXXD3).\n",
      "Polling for task (id: M27FQOPWM2NXJC7GA7FIXXD3).\n",
      "Polling for task (id: M27FQOPWM2NXJC7GA7FIXXD3).\n",
      "Polling for task (id: M27FQOPWM2NXJC7GA7FIXXD3).\n",
      "Polling for task (id: M27FQOPWM2NXJC7GA7FIXXD3).\n",
      "Polling for task (id: M27FQOPWM2NXJC7GA7FIXXD3).\n",
      "Polling for task (id: M27FQOPWM2NXJC7GA7FIXXD3).\n",
      "Polling for task (id: M27FQOPWM2NXJC7GA7FIXXD3).\n",
      "Polling for task (id: M27FQOPWM2NXJC7GA7FIXXD3).\n",
      "Polling for task (id: M27FQOPWM2NXJC7GA7FIXXD3).\n",
      "Polling for task (id: M27FQOPWM2NXJC7GA7FIXXD3).\n",
      "Polling for task (id: M27FQOPWM2NXJC7GA7FIXXD3).\n",
      "Polling for task (id: M27FQOPWM2NXJC7GA7FIXXD3).\n",
      "Polling for task (id: M27FQOPWM2NXJC7GA7FIXXD3).\n",
      "Polling for task (id: M27FQOPWM2NXJC7GA7FIXXD3).\n",
      "Polling for task (id: M27FQOPWM2NXJC7GA7FIXXD3).\n",
      "Polling for task (id: M27FQOPWM2NXJC7GA7FIXXD3).\n",
      "Polling for task (id: M27FQOPWM2NXJC7GA7FIXXD3).\n",
      "Polling for task (id: M27FQOPWM2NXJC7GA7FIXXD3).\n",
      "Polling for task (id: M27FQOPWM2NXJC7GA7FIXXD3).\n",
      "Polling for task (id: M27FQOPWM2NXJC7GA7FIXXD3).\n"
     ]
    }
   ],
   "source": [
    "f=  open('../../../../src/data_preprocessing/base_geojson/TL_state_shapefile_for_clip.geojson')\n",
    "data =json.load(f)\n",
    "data = data['features'][0]['geometry']['coordinates'][0]\n",
    "table = ee.Geometry.Polygon(data)\n",
    "\n",
    "MyImage  =  ee.Image(\"USGS/SRTMGL1_003\").clip(table).unmask(-9999.0)\n",
    "# Export the image, specifying scale and region.\n",
    "\n",
    "task = ee.batch.Export.image.toDrive(**{\n",
    "    'image': MyImage,\n",
    "    'description': 'UNDP',\n",
    "    'folder':'DEM',\n",
    "    'scale': 30,\n",
    "    'region': table.getInfo()['coordinates'],\n",
    "    'maxPixels': 1e13\n",
    "})\n",
    "task.start()\n",
    "\n",
    "import time \n",
    "while task.active():\n",
    "  print('Polling for task (id: {}).'.format(task.id))\n",
    "  time.sleep(5)"
   ]
  },
  {
   "cell_type": "markdown",
   "id": "a8d3e2dd",
   "metadata": {},
   "source": [
    "Download file from drive to the same folder repository folder and run this command for clipping no values from the GEE exported image"
   ]
  },
  {
   "cell_type": "code",
   "execution_count": null,
   "id": "a1c3eb70",
   "metadata": {},
   "outputs": [],
   "source": [
    "!gdalwarp -s_srs EPSG:4326 -t_srs EPSG:4326 -of GTiff -cutline TSDM/Telangana.shp -cl Telangana -crop_to_cutline -dstnodata -9999.0 DEM.tif DEM_clipped.tif"
   ]
  },
  {
   "cell_type": "markdown",
   "id": "3715250c",
   "metadata": {},
   "source": [
    "gdal translate command should be used to convert a Geotiff file to COG format. DEM_COG.tif will be resultant file"
   ]
  },
  {
   "cell_type": "code",
   "execution_count": null,
   "id": "94377555",
   "metadata": {},
   "outputs": [],
   "source": [
    "!gdal_translate DEM_clipped.tif DEM_COG.tif -co TFW=YES -co COMPRESS=DEFLATE -co PREDICTOR=2 -co ZLEVEL=9"
   ]
  },
  {
   "cell_type": "code",
   "execution_count": null,
   "id": "2d4f3d83",
   "metadata": {},
   "outputs": [],
   "source": [
    "'../../../../src/data_preprocessing/tsdm/District_Boundary.shp'"
   ]
  }
 ],
 "metadata": {
  "kernelspec": {
   "display_name": "Python 3.10.6 64-bit",
   "language": "python",
   "name": "python3"
  },
  "language_info": {
   "codemirror_mode": {
    "name": "ipython",
    "version": 3
   },
   "file_extension": ".py",
   "mimetype": "text/x-python",
   "name": "python",
   "nbconvert_exporter": "python",
   "pygments_lexer": "ipython3",
   "version": "3.10.6"
  },
  "vscode": {
   "interpreter": {
    "hash": "916dbcbb3f70747c44a77c7bcd40155683ae19c65e1c03b4aa3499c5328201f1"
   }
  }
 },
 "nbformat": 4,
 "nbformat_minor": 5
}
