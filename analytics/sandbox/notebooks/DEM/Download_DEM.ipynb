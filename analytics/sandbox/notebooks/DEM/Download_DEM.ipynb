{
 "cells": [
  {
   "cell_type": "markdown",
   "metadata": {},
   "source": [
    "Start by importing numpy for array creation and manipulation. The plt interface of matplotlib for plotting. seaborn for scientific graphs and geopandas that will be only used to import the area of study bounds"
   ]
  },
  {
   "cell_type": "code",
   "execution_count": 2,
   "metadata": {},
   "outputs": [
    {
     "name": "stderr",
     "output_type": "stream",
     "text": [
      "/home/luckyw0w/.local/lib/python3.10/site-packages/geopandas/_compat.py:123: UserWarning: The Shapely GEOS version (3.10.3-CAPI-1.16.1) is incompatible with the GEOS version PyGEOS was compiled with (3.10.4-CAPI-1.16.2). Conversions between both will be slow.\n",
      "  warnings.warn(\n"
     ]
    }
   ],
   "source": [
    "import numpy as np\n",
    "import matplotlib.pyplot as plt\n",
    "import seaborn as sns\n",
    "import geopandas as gpd\n",
    "%matplotlib inline"
   ]
  },
  {
   "cell_type": "markdown",
   "metadata": {},
   "source": [
    "Import the bounds of our Area of Study generated"
   ]
  },
  {
   "cell_type": "code",
   "execution_count": 3,
   "metadata": {},
   "outputs": [],
   "source": [
    "bounds = gpd.read_file('../../../../src/data_preprocessing/base_geojson/TL_state_shapefile_for_clip.geojson').bounds"
   ]
  },
  {
   "cell_type": "markdown",
   "metadata": {},
   "source": [
    "Split the list into separate variables."
   ]
  },
  {
   "cell_type": "code",
   "execution_count": 5,
   "metadata": {},
   "outputs": [],
   "source": [
    "west, south, east, north = bounds = bounds.loc[0]"
   ]
  },
  {
   "cell_type": "code",
   "execution_count": 6,
   "metadata": {},
   "outputs": [],
   "source": [
    "import elevation"
   ]
  },
  {
   "cell_type": "code",
   "execution_count": 13,
   "metadata": {},
   "outputs": [],
   "source": [
    "import os\n",
    "dem_path = '/DEM_Telangana.tif'\n",
    "output = os.getcwd() + dem_path"
   ]
  },
  {
   "cell_type": "code",
   "execution_count": 20,
   "metadata": {},
   "outputs": [
    {
     "name": "stdout",
     "output_type": "stream",
     "text": [
      "make: Entering directory '/home/luckyw0w/.cache/elevation/SRTM3'\n",
      "make: Nothing to be done for 'download'.\n",
      "make: Leaving directory '/home/luckyw0w/.cache/elevation/SRTM3'\n",
      "make: Entering directory '/home/luckyw0w/.cache/elevation/SRTM3'\n",
      "make: Nothing to be done for 'all'.\n",
      "make: Leaving directory '/home/luckyw0w/.cache/elevation/SRTM3'\n",
      "make: Entering directory '/home/luckyw0w/.cache/elevation/SRTM3'\n",
      "cp SRTM3.vrt SRTM3.be757fc7ae8647f89767c0506c18e757.vrt\n",
      "make: Leaving directory '/home/luckyw0w/.cache/elevation/SRTM3'\n",
      "make: Entering directory '/home/luckyw0w/.cache/elevation/SRTM3'\n",
      "gdal_translate -q -co TILED=YES -co COMPRESS=DEFLATE -co ZLEVEL=9 -co PREDICTOR=2 -projwin 77.23725451100006 19.91690008100005 81.31479948400005 15.836429923000026 SRTM3.be757fc7ae8647f89767c0506c18e757.vrt /home/luckyw0w/dicra/analytics/sandbox/notebooks/DEM/DEM_Telangana.tif\n",
      "rm -f SRTM3.be757fc7ae8647f89767c0506c18e757.vrt\n",
      "make: Leaving directory '/home/luckyw0w/.cache/elevation/SRTM3'\n"
     ]
    }
   ],
   "source": [
    "elevation.clip(bounds=bounds, output=output, product='SRTM3')"
   ]
  },
  {
   "cell_type": "code",
   "execution_count": 22,
   "metadata": {},
   "outputs": [
    {
     "name": "stdout",
     "output_type": "stream",
     "text": [
      "gdalwarp -dstnodata -9999 -cutline ../../../../src/data_preprocessing/base_geojson/TL_state_shapefile_for_clip.geojson -crop_to_cutline DEM_Telangana.tif DEM.tif -co TILED=YES -co COMPRESS=DEFLATE -co ZLEVEL=9 -co PREDICTOR=2\n",
      "Creating output file that is 4892P x 4896L.\n",
      "Processing DEM_Telangana.tif [1/1] : 0Using internal nodata values (e.g. -32768) for image DEM_Telangana.tif.\n",
      "...10...20...30...40...50...60...70...80...90...100 - done.\n"
     ]
    }
   ],
   "source": [
    "import subprocess as subp\n",
    "import time\n",
    "\n",
    "cmd=\"gdalwarp -dstnodata -9999 -cutline ../../../../src/data_preprocessing/base_geojson/TL_state_shapefile_for_clip.geojson -crop_to_cutline DEM_Telangana.tif DEM.tif -co TILED=YES -co COMPRESS=DEFLATE -co ZLEVEL=9 -co PREDICTOR=2\"\n",
    "print(cmd)\n",
    "try:\n",
    "    subp.check_call(str(cmd), shell=True)\n",
    "except:\n",
    "    print(\"end\")\n",
    "time.sleep(1)"
   ]
  },
  {
   "cell_type": "code",
   "execution_count": null,
   "metadata": {},
   "outputs": [],
   "source": []
  }
 ],
 "metadata": {
  "kernelspec": {
   "display_name": "Python 3.10.6 64-bit",
   "language": "python",
   "name": "python3"
  },
  "language_info": {
   "codemirror_mode": {
    "name": "ipython",
    "version": 3
   },
   "file_extension": ".py",
   "mimetype": "text/x-python",
   "name": "python",
   "nbconvert_exporter": "python",
   "pygments_lexer": "ipython3",
   "version": "3.10.6"
  },
  "orig_nbformat": 4,
  "vscode": {
   "interpreter": {
    "hash": "916dbcbb3f70747c44a77c7bcd40155683ae19c65e1c03b4aa3499c5328201f1"
   }
  }
 },
 "nbformat": 4,
 "nbformat_minor": 2
}
