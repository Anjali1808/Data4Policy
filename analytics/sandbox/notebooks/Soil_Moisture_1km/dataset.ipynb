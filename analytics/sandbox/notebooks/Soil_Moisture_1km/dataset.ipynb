{
 "cells": [
  {
   "cell_type": "code",
   "execution_count": 1,
   "metadata": {},
   "outputs": [],
   "source": [
    "import warnings\n",
    "warnings.filterwarnings('ignore')"
   ]
  },
  {
   "cell_type": "code",
   "execution_count": 2,
   "metadata": {},
   "outputs": [],
   "source": [
    "import rioxarray\n",
    "import rioxarray    \n",
    "import rasterio\n",
    "import numpy as np\n",
    "import pandas as pd\n",
    "import os\n",
    "import subprocess as subp\n",
    "import time\n",
    "from osgeo import gdal"
   ]
  },
  {
   "cell_type": "code",
   "execution_count": 3,
   "metadata": {},
   "outputs": [],
   "source": [
    "files = os.listdir('Data/')\n",
    "files = [elements for elements in files if '.xml' not in elements]\n",
    "files = [elements for elements in files if '.py' not in elements]\n",
    "files.sort()"
   ]
  },
  {
   "cell_type": "code",
   "execution_count": 4,
   "metadata": {},
   "outputs": [],
   "source": [
    "i = files[0]\n",
    "op_name = i[21:29]"
   ]
  },
  {
   "cell_type": "code",
   "execution_count": 5,
   "metadata": {},
   "outputs": [
    {
     "data": {
      "text/plain": [
       "'SMAP_L2_SM_SP_1AIWDV_20230108T005943_20230108T004628_076E20N_R18290_001.'"
      ]
     },
     "execution_count": 5,
     "metadata": {},
     "output_type": "execute_result"
    }
   ],
   "source": [
    "i[:-2]"
   ]
  },
  {
   "cell_type": "code",
   "execution_count": 6,
   "metadata": {},
   "outputs": [],
   "source": [
    "file_date = [elements for elements in files if op_name in elements[:29]]\n"
   ]
  },
  {
   "cell_type": "code",
   "execution_count": 7,
   "metadata": {},
   "outputs": [],
   "source": [
    "try:\n",
    "    os.mkdir('Tiff/')\n",
    "except:\n",
    "    pass\n",
    "for i in files:\n",
    "    xds = rioxarray.open_rasterio(\"Data/\"+i)\n",
    "\n",
    "    lats = np.array(xds[0]['Soil_Moisture_Retrieval_Data_1km_latitude_1km'])[0].flatten()\n",
    "    lons = np.array(xds[0]['Soil_Moisture_Retrieval_Data_1km_longitude_1km'])[0].flatten()\n",
    "    vals = np.array(xds[0]['Soil_Moisture_Retrieval_Data_1km_soil_moisture_1km'])[0].flatten()\n",
    "\n",
    "\n",
    "    df = pd.DataFrame()\n",
    "    df['latitude'] = lats\n",
    "    df['longitude'] = lons\n",
    "    df['value'] = vals\n",
    "\n",
    "\n",
    "    da = df.set_index(['latitude', 'longitude']).to_xarray()\n",
    "    da = da.set_coords(['latitude', 'longitude'])\n",
    "    da.rio.to_raster('Tiff/'+i[:-3]+'.tif')\n",
    "\n",
    "    dataset = rasterio.open('Tiff/'+i[:-3]+'.tif', 'r+')\n",
    "    dataset.driver='GTIFF'\n",
    "    dataset.dtype=rasterio.float32\n",
    "    dataset.compress='lzw'\n",
    "    dataset.nodata=-9999\n",
    "    dataset.crs='EPSG:4326'\n",
    "    dataset = None"
   ]
  },
  {
   "cell_type": "code",
   "execution_count": 9,
   "metadata": {},
   "outputs": [],
   "source": [
    "import geopandas as gpd\n",
    "gdf = gpd.read_file('../../../../src/data_preprocessing/base_geojson/TL_state_shapefile_for_clip.geojson')"
   ]
  },
  {
   "cell_type": "code",
   "execution_count": 25,
   "metadata": {},
   "outputs": [],
   "source": [
    "polygon = (((str(gdf['geometry'][0])[16:-3]).replace(\",\", \"\")).replace(\" \", \", \"))[:-38]"
   ]
  },
  {
   "cell_type": "code",
   "execution_count": 33,
   "metadata": {},
   "outputs": [],
   "source": [
    "files = os.listdir('Tiff/')\n",
    "files.sort()"
   ]
  },
  {
   "cell_type": "code",
   "execution_count": 41,
   "metadata": {},
   "outputs": [
    {
     "data": {
      "text/plain": [
       "'SMAP_L2_SM_SP_1AIWDV_20230108T005943_20230108T004628'"
      ]
     },
     "execution_count": 41,
     "metadata": {},
     "output_type": "execute_result"
    }
   ],
   "source": [
    "files[0][:-23]"
   ]
  },
  {
   "cell_type": "code",
   "execution_count": null,
   "metadata": {},
   "outputs": [],
   "source": []
  }
 ],
 "metadata": {
  "kernelspec": {
   "display_name": "Python 3.10.6 64-bit",
   "language": "python",
   "name": "python3"
  },
  "language_info": {
   "codemirror_mode": {
    "name": "ipython",
    "version": 3
   },
   "file_extension": ".py",
   "mimetype": "text/x-python",
   "name": "python",
   "nbconvert_exporter": "python",
   "pygments_lexer": "ipython3",
   "version": "3.10.6"
  },
  "orig_nbformat": 4,
  "vscode": {
   "interpreter": {
    "hash": "916dbcbb3f70747c44a77c7bcd40155683ae19c65e1c03b4aa3499c5328201f1"
   }
  }
 },
 "nbformat": 4,
 "nbformat_minor": 2
}
