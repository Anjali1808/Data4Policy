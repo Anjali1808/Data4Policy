{
 "cells": [
  {
   "cell_type": "code",
   "execution_count": 2,
   "metadata": {},
   "outputs": [],
   "source": [
    "import warnings\n",
    "warnings.filterwarnings('ignore')"
   ]
  },
  {
   "cell_type": "code",
   "execution_count": 3,
   "metadata": {},
   "outputs": [],
   "source": [
    "import pandas as pd\n",
    "import os\n",
    "import geopandas as gpd\n",
    "import geoplot\n",
    "import geoplot.crs as gcrs\n",
    "import matplotlib.pyplot as plt\n",
    "import rasterio\n",
    "from statsmodels.tsa.seasonal import STL\n",
    "import numpy as np\n",
    "from sklearn.linear_model import LinearRegression\n",
    "import datetime as dt\n",
    "from matplotlib.colors import TwoSlopeNorm \n",
    "import time\n",
    "import sys\n",
    "\n",
    "import rasterio\n",
    "from rasterstats import zonal_stats\n",
    "from rasterio.plot import show\n",
    "import multiprocessing"
   ]
  },
  {
   "cell_type": "code",
   "execution_count": 3,
   "metadata": {},
   "outputs": [],
   "source": [
    "#fire_data_classified = gpd.read_file('../../Classification_Fires/fires_data_classified.geojson')\n",
    "#Select only the agricultural fires\n",
    "#fire_data = fire_data_classified[fire_data_classified['agricultural'] == 1]\n",
    "\n",
    "shape = gpd.read_file('../../../../../../src/data_preprocessing/base_geojson/TL_state_shapefile_for_clip.geojson')\n",
    "shape = shape.explode()\n",
    "\n",
    "district = gpd.read_file('../../../../../../src/data_preprocessing/base_geojson/TS_district_boundary.json')\n",
    "district = district.reset_index()\n",
    "\n",
    "mandal = gpd.read_file('../../../../../../src/data_preprocessing/base_geojson/TS_mandal_boundary.json')\n",
    "mandal = mandal.reset_index()\n",
    "\n",
    "boundary = gpd.read_file('../../../../../../src/data_preprocessing/base_geojson/Telangana_grid1km.geojson')\n",
    "boundary = boundary.reset_index()\n"
   ]
  },
  {
   "cell_type": "code",
   "execution_count": 4,
   "metadata": {},
   "outputs": [],
   "source": [
    "viirs = pd.read_csv('../../../../../../../UNDP/Fire/data/VIIRS1.csv')"
   ]
  },
  {
   "cell_type": "code",
   "execution_count": 5,
   "metadata": {},
   "outputs": [],
   "source": [
    "fire_pts = gpd.GeoDataFrame(viirs,                        #Converting fire points into dataframe\n",
    "                        geometry=gpd.points_from_xy(\n",
    "                            viirs.longitude,\n",
    "                            viirs.latitude),\n",
    "                        crs=4326)"
   ]
  },
  {
   "cell_type": "code",
   "execution_count": 6,
   "metadata": {},
   "outputs": [
    {
     "data": {
      "text/html": [
       "<div>\n",
       "<style scoped>\n",
       "    .dataframe tbody tr th:only-of-type {\n",
       "        vertical-align: middle;\n",
       "    }\n",
       "\n",
       "    .dataframe tbody tr th {\n",
       "        vertical-align: top;\n",
       "    }\n",
       "\n",
       "    .dataframe thead th {\n",
       "        text-align: right;\n",
       "    }\n",
       "</style>\n",
       "<table border=\"1\" class=\"dataframe\">\n",
       "  <thead>\n",
       "    <tr style=\"text-align: right;\">\n",
       "      <th></th>\n",
       "      <th>acq_date</th>\n",
       "      <th>geometry</th>\n",
       "      <th>fireID</th>\n",
       "      <th>geometry buffered</th>\n",
       "      <th>year</th>\n",
       "    </tr>\n",
       "  </thead>\n",
       "  <tbody>\n",
       "    <tr>\n",
       "      <th>2829527</th>\n",
       "      <td>2021-05-08</td>\n",
       "      <td>POINT (80.35246 16.85648)</td>\n",
       "      <td>0</td>\n",
       "      <td>POLYGON ((80.35414418900001 16.858165189, 80.3...</td>\n",
       "      <td>2021</td>\n",
       "    </tr>\n",
       "    <tr>\n",
       "      <th>808260</th>\n",
       "      <td>2018-03-18</td>\n",
       "      <td>POINT (80.35403 16.86220)</td>\n",
       "      <td>1</td>\n",
       "      <td>POLYGON ((80.355716189 16.863887189, 80.355716...</td>\n",
       "      <td>2018</td>\n",
       "    </tr>\n",
       "    <tr>\n",
       "      <th>2531446</th>\n",
       "      <td>2021-03-23</td>\n",
       "      <td>POINT (80.35525 16.88592)</td>\n",
       "      <td>2</td>\n",
       "      <td>POLYGON ((80.35693618900001 16.887609189, 80.3...</td>\n",
       "      <td>2021</td>\n",
       "    </tr>\n",
       "    <tr>\n",
       "      <th>1977891</th>\n",
       "      <td>2020-04-19</td>\n",
       "      <td>POINT (80.33079 16.89140)</td>\n",
       "      <td>3</td>\n",
       "      <td>POLYGON ((80.332484189 16.893085189, 80.332484...</td>\n",
       "      <td>2020</td>\n",
       "    </tr>\n",
       "    <tr>\n",
       "      <th>2755220</th>\n",
       "      <td>2021-04-16</td>\n",
       "      <td>POINT (80.32949 16.89159)</td>\n",
       "      <td>4</td>\n",
       "      <td>POLYGON ((80.33118018900001 16.893279189, 80.3...</td>\n",
       "      <td>2021</td>\n",
       "    </tr>\n",
       "    <tr>\n",
       "      <th>...</th>\n",
       "      <td>...</td>\n",
       "      <td>...</td>\n",
       "      <td>...</td>\n",
       "      <td>...</td>\n",
       "      <td>...</td>\n",
       "    </tr>\n",
       "    <tr>\n",
       "      <th>119545</th>\n",
       "      <td>2017-03-08</td>\n",
       "      <td>POINT (77.53736 18.34765)</td>\n",
       "      <td>144726</td>\n",
       "      <td>POLYGON ((77.53905018900001 18.349338189, 77.5...</td>\n",
       "      <td>2017</td>\n",
       "    </tr>\n",
       "    <tr>\n",
       "      <th>2512051</th>\n",
       "      <td>2021-03-21</td>\n",
       "      <td>POINT (77.52328 18.35765)</td>\n",
       "      <td>144727</td>\n",
       "      <td>POLYGON ((77.524966189 18.359334189000002, 77....</td>\n",
       "      <td>2021</td>\n",
       "    </tr>\n",
       "    <tr>\n",
       "      <th>1874156</th>\n",
       "      <td>2020-03-27</td>\n",
       "      <td>POINT (77.53098 18.36233)</td>\n",
       "      <td>144728</td>\n",
       "      <td>POLYGON ((77.53267218900001 18.364018189, 77.5...</td>\n",
       "      <td>2020</td>\n",
       "    </tr>\n",
       "    <tr>\n",
       "      <th>147869</th>\n",
       "      <td>2017-03-19</td>\n",
       "      <td>POINT (77.52982 18.44215)</td>\n",
       "      <td>144729</td>\n",
       "      <td>POLYGON ((77.531505189 18.443841189, 77.531505...</td>\n",
       "      <td>2017</td>\n",
       "    </tr>\n",
       "    <tr>\n",
       "      <th>2751901</th>\n",
       "      <td>2021-04-15</td>\n",
       "      <td>POINT (77.53688 18.44327)</td>\n",
       "      <td>144730</td>\n",
       "      <td>POLYGON ((77.538569189 18.444961189, 77.538569...</td>\n",
       "      <td>2021</td>\n",
       "    </tr>\n",
       "  </tbody>\n",
       "</table>\n",
       "<p>144731 rows × 5 columns</p>\n",
       "</div>"
      ],
      "text/plain": [
       "          acq_date                   geometry  fireID  \\\n",
       "2829527 2021-05-08  POINT (80.35246 16.85648)       0   \n",
       "808260  2018-03-18  POINT (80.35403 16.86220)       1   \n",
       "2531446 2021-03-23  POINT (80.35525 16.88592)       2   \n",
       "1977891 2020-04-19  POINT (80.33079 16.89140)       3   \n",
       "2755220 2021-04-16  POINT (80.32949 16.89159)       4   \n",
       "...            ...                        ...     ...   \n",
       "119545  2017-03-08  POINT (77.53736 18.34765)  144726   \n",
       "2512051 2021-03-21  POINT (77.52328 18.35765)  144727   \n",
       "1874156 2020-03-27  POINT (77.53098 18.36233)  144728   \n",
       "147869  2017-03-19  POINT (77.52982 18.44215)  144729   \n",
       "2751901 2021-04-15  POINT (77.53688 18.44327)  144730   \n",
       "\n",
       "                                         geometry buffered  year  \n",
       "2829527  POLYGON ((80.35414418900001 16.858165189, 80.3...  2021  \n",
       "808260   POLYGON ((80.355716189 16.863887189, 80.355716...  2018  \n",
       "2531446  POLYGON ((80.35693618900001 16.887609189, 80.3...  2021  \n",
       "1977891  POLYGON ((80.332484189 16.893085189, 80.332484...  2020  \n",
       "2755220  POLYGON ((80.33118018900001 16.893279189, 80.3...  2021  \n",
       "...                                                    ...   ...  \n",
       "119545   POLYGON ((77.53905018900001 18.349338189, 77.5...  2017  \n",
       "2512051  POLYGON ((77.524966189 18.359334189000002, 77....  2021  \n",
       "1874156  POLYGON ((77.53267218900001 18.364018189, 77.5...  2020  \n",
       "147869   POLYGON ((77.531505189 18.443841189, 77.531505...  2017  \n",
       "2751901  POLYGON ((77.538569189 18.444961189, 77.538569...  2021  \n",
       "\n",
       "[144731 rows x 5 columns]"
      ]
     },
     "execution_count": 6,
     "metadata": {},
     "output_type": "execute_result"
    }
   ],
   "source": [
    "geo_fire_data = fire_pts[['acq_date','geometry']]\n",
    "geo_fire_data = geo_fire_data.sort_values(by=[\"acq_date\"])\n",
    "geo_fire_data['acq_date'] = pd.to_datetime(geo_fire_data['acq_date'])\n",
    "geo_fire_data = geo_fire_data.clip(boundary)\n",
    "geo_fire_data['fireID'] = [a for a in range(0, len(geo_fire_data))]\n",
    "\n",
    "polygons = []\n",
    "\n",
    "#-------create a buffer of square of 1km size using buffer function from shapely-----#\n",
    "\n",
    "for i in geo_fire_data.geometry:\n",
    "    p1 = i\n",
    "    buffer = p1.buffer(0.001689189, cap_style = 3)         #187.5m = 0.001689189 and cap_style 3 is square box of same of 375m side length\n",
    "    polygons.append(buffer)\n",
    "\n",
    "#create a new column in GeoDataFrame newdf and dump polygon buffer of respective point values\n",
    "geo_fire_data['geometry buffered'] = polygons \n",
    "\n",
    "geo_fire_data['acq_date'] =  pd.to_datetime(geo_fire_data['acq_date'])\n",
    "geo_fire_data['year'] = (geo_fire_data['acq_date']).dt.year\n",
    "\n",
    "geo_fire_data = geo_fire_data[geo_fire_data['year']<2022]\n",
    "geo_fire_data\n",
    "\n",
    "    "
   ]
  },
  {
   "cell_type": "code",
   "execution_count": 7,
   "metadata": {},
   "outputs": [],
   "source": [
    "LULC_location = '../../../../../../src/data_preprocessing/LULC/'\n",
    "df = pd.DataFrame(columns=geo_fire_data.columns)\n",
    "\n",
    "for a in geo_fire_data['year'].unique():\n",
    "\n",
    "    year_data = geo_fire_data[geo_fire_data['year'] == a]\n",
    "    tiff = LULC_location+'01-01-'+str(a)+'.tif'\n",
    "    lulc = rasterio.open(tiff, mode = 'r')\n",
    "    lulc_array = lulc.read(1) # landuse corresponding to each rasterpixel, so we extracted the pixel values from the raster\n",
    "    # affine: 1: corresponds to the width of each pixel, 2: row rotation, 3: x-coordinate of the upper left pixel, 4: column rotation, 5: height of each pixel, 6: y-coordinate of the upper left pixel\n",
    "    affine = lulc.transform\n",
    "    cmap = {1: 'Water', 2: 'Trees', 4: 'Flooded Vegetation', 5: 'Crops', 7: 'Built Area', 8: 'Bare Ground', 9: 'Snow/Ice', 10: 'Clouds', 11: 'Rangeland'}\n",
    "    year_data['Land use'] = 0\n",
    "    year_data['Trees Around'] = 0\n",
    "\n",
    "    for i in range(0, len(year_data)):\n",
    "        test = zonal_stats(year_data['geometry'].iloc[i], lulc_array, affine = affine, geojson_out = True, stats = 'majority', nodata = lulc.nodata, categorical=True, category_map = cmap, all_touched=True)\n",
    "        try: \n",
    "            year_data['Land use'].iloc[i] = test[0]['properties']['majority']\n",
    "        except:\n",
    "            year_data['Land use'].iloc[i] = 'unknown'\n",
    "\n",
    "    for i in range(0, len(year_data)):\n",
    "        test = zonal_stats(year_data['geometry buffered'].iloc[i], lulc_array, affine = affine, geojson_out = True, stats = 'majority', nodata = lulc.nodata, categorical=True, category_map = cmap, all_touched=True)\n",
    "\n",
    "        if 'Trees' in list(test[0]['properties'].keys()):\n",
    "            year_data['Trees Around'].iloc[i]=1\n",
    "        else:\n",
    "            year_data['Trees Around'].iloc[i]=0\n",
    "\n",
    "    \n",
    "    df = pd.concat([df, year_data], axis = 0)"
   ]
  },
  {
   "cell_type": "code",
   "execution_count": 8,
   "metadata": {},
   "outputs": [],
   "source": [
    "df['agricultural'] = 0\n",
    "df['agricultural strict'] = 0\n",
    "\n",
    "for i in range(0, len(df)):\n",
    "    if (df['Land use'].iloc[i] == 5) | (df['Land use'].iloc[i] == 4) :\n",
    "        df['agricultural'].iloc[i] = 1\n",
    "    if ((df['Land use'].iloc[i] == 5) | (df['Land use'].iloc[i] == 4)) & (df['Trees Around'].iloc[i]==0):\n",
    "        df['agricultural strict'].iloc[i] = 1"
   ]
  },
  {
   "cell_type": "code",
   "execution_count": 9,
   "metadata": {},
   "outputs": [],
   "source": [
    "df = gpd.GeoDataFrame(df[['fireID', 'acq_date','agricultural', 'agricultural strict', 'geometry']])"
   ]
  },
  {
   "cell_type": "code",
   "execution_count": 10,
   "metadata": {},
   "outputs": [],
   "source": [
    "df.to_file('fires_data_classified.geojson', driver=\"GeoJSON\")"
   ]
  },
  {
   "cell_type": "code",
   "execution_count": 4,
   "metadata": {},
   "outputs": [],
   "source": [
    "df = gpd.read_file('fires_data_classified.geojson')"
   ]
  },
  {
   "cell_type": "code",
   "execution_count": 113,
   "metadata": {},
   "outputs": [],
   "source": [
    "boundaries = boundary\n",
    "beginyear = 2017\n",
    "endyear = 2021\n",
    "'''\n",
    "#Make sure the geometry columns are in the right format\n",
    "geo_fire_data = df[['geometry', 'acq_date', 'fireID']]\n",
    "geo_fire_data['geometry'] = geo_fire_data['geometry'].to_crs(epsg = 4326)\n",
    "geo_fire_data['acq_date'] =  pd.to_datetime(geo_fire_data['acq_date'])\n",
    "geo_fire_data['year'] = (geo_fire_data['acq_date']).dt.year\n",
    "geo_fire_data['month'] = (geo_fire_data['acq_date']).dt.month\n",
    "geo_fire_data['day'] = (geo_fire_data['acq_date']).dt.day\n",
    "geo_fire_data = geo_fire_data[(geo_fire_data['acq_date'] >= str(beginyear)+'-01-01') & (geo_fire_data['acq_date'] < str(endyear+1)+'-01-01')]\n",
    "fires_per_boundaries= gpd.sjoin(geo_fire_data, boundaries, how=\"inner\")\n",
    "'''\n",
    "geo_fire_data['geometry'] = geo_fire_data['geometry'].to_crs(epsg = 4326)\n",
    "boundaries['geometry'] = boundaries['geometry'].to_crs(epsg = 4326)\n",
    "\n",
    "#Load date into date format\n",
    "geo_fire_data['acq_date'] =  pd.to_datetime(geo_fire_data['acq_date'])\n",
    "geo_fire_data['year'] = (geo_fire_data['acq_date']).dt.year\n",
    "geo_fire_data['month'] = (geo_fire_data['acq_date']).dt.month\n",
    "geo_fire_data['day'] = (geo_fire_data['acq_date']).dt.day\n",
    "\n",
    "#Selects the years we are interested in, depending on the input of the function\n",
    "geo_fire_data = geo_fire_data[(geo_fire_data['acq_date'] >= str(beginyear)+'-01-01') & (geo_fire_data['acq_date'] < str(endyear+1)+'-01-01')]\n",
    "\n",
    "#Count all fires within a region given by the boundaries dataframe\n",
    "fires_per_boundaries= gpd.sjoin(geo_fire_data, boundaries, how=\"inner\")\n",
    "\n",
    "#Create the right time format: We count per month\n",
    "fires_per_boundaries['day'] = 1 \n",
    "fires_per_boundaries['year'] = pd.Series(pd.to_numeric(fires_per_boundaries['year'], errors='coerce'), dtype='int64')\n",
    "fires_per_boundaries['month'] = pd.Series(pd.to_numeric(fires_per_boundaries['month'], errors='coerce'), dtype='int64')\n",
    "fires_per_boundaries['ModifiedDateTime'] = pd.to_datetime(fires_per_boundaries[['year', 'month', 'day']].astype('int64').astype('str'), yearfirst=True)\n",
    "\n",
    "#Sum amount of fires per mandal per month per year make sure that if no fire happens at a specific time write a zero\n",
    "fires_per_boundaries_count = fires_per_boundaries.groupby(['index', 'ModifiedDateTime'])['fireID'].count().unstack(fill_value=0).stack().reset_index()\n",
    "fires_per_boundaries_count['Fires'] = fires_per_boundaries_count[0] \n",
    "del fires_per_boundaries_count[0]\n"
   ]
  },
  {
   "cell_type": "code",
   "execution_count": null,
   "metadata": {},
   "outputs": [],
   "source": [
    "dates_ordinal = [dt.datetime.toordinal(i) for i in fires_per_boundaries_count[fires_per_boundaries_count['index'] == 0]['ModifiedDateTime']]\n",
    "\n",
    "indices = [i for i in fires_per_boundaries_count['index'].unique()]"
   ]
  },
  {
   "cell_type": "code",
   "execution_count": 139,
   "metadata": {},
   "outputs": [],
   "source": [
    "def Trend_Score(i):\n",
    "\n",
    "    df = fires_per_boundaries_count[fires_per_boundaries_count['index'] == i]\n",
    "    df = pd.Series(list(df['Fires']), index=pd.to_datetime(df['ModifiedDateTime']), name=\"Fires\")\n",
    "    stl = STL(df)\n",
    "\n",
    "    res = stl.fit()\n",
    "\n",
    "    #Set the data in the right format for Linear Regression\n",
    "    x = np.array(dates_ordinal)\n",
    "    X = x.reshape(-1, 1)\n",
    "    y = np.array(res.trend)\n",
    "    y = y.reshape(-1, 1)\n",
    "\n",
    "    #Perform Linear Regression and obtain the slope\n",
    "    reg = LinearRegression().fit(X, y)\n",
    "    y_pred_trend = reg.predict(X)\n",
    "    slope, intercept = np.polyfit(x, y_pred_trend,1)\n",
    "    return slope[0]"
   ]
  },
  {
   "cell_type": "code",
   "execution_count": 159,
   "metadata": {},
   "outputs": [
    {
     "name": "stdout",
     "output_type": "stream",
     "text": [
      "--- 121.11800622940063 seconds ---\n"
     ]
    }
   ],
   "source": [
    "start_time = time.time()\n",
    "\n",
    "\n",
    "pool = multiprocessing.Pool()\n",
    "\n",
    "#func = partial(ndvi_dppd, boundary, tiffs, directory)\n",
    "\n",
    "results = [result for result in pool.map(Trend_Score, fires_per_boundaries_count['index'].unique())]\n",
    "#pool.map(func, iterable)\n",
    "pool.close()\n",
    "pool.join()\n",
    "\n",
    "\n",
    "print(\"--- %s seconds ---\" % (time.time() - start_time))\n",
    "\n"
   ]
  },
  {
   "cell_type": "code",
   "execution_count": 182,
   "metadata": {},
   "outputs": [],
   "source": [
    "res = np.array(results)\n",
    "data_norm = np.where(res > 0, res/np.max(res), -res/np.min(res))\n",
    "data_norm = data_norm* -1  # negatives values means decrease trend in fire hence it is positive deviance"
   ]
  },
  {
   "cell_type": "code",
   "execution_count": 183,
   "metadata": {},
   "outputs": [],
   "source": [
    "df = pd.DataFrame()\n",
    "df['index'] = indices\n",
    "df['deviances'] = data_norm"
   ]
  },
  {
   "cell_type": "code",
   "execution_count": 184,
   "metadata": {},
   "outputs": [],
   "source": [
    "gdf = df.merge(boundary, on='index', how='left')"
   ]
  },
  {
   "cell_type": "code",
   "execution_count": 185,
   "metadata": {},
   "outputs": [],
   "source": [
    "gpd.GeoDataFrame(gdf).to_file('fire_deviance.json')"
   ]
  },
  {
   "cell_type": "code",
   "execution_count": 5,
   "metadata": {},
   "outputs": [],
   "source": [
    "gdf = gpd.read_file('fire_deviance.json')"
   ]
  },
  {
   "cell_type": "code",
   "execution_count": 10,
   "metadata": {},
   "outputs": [
    {
     "name": "stdout",
     "output_type": "stream",
     "text": [
      "POLYGON ((77.24690974997284 16.45502054967031, 77.24673599623769 16.464041072140393, 77.2373878002232 16.46387314973425, 77.23756198423618 16.454852724337336, 77.24690974997284 16.45502054967031))\n"
     ]
    }
   ],
   "source": [
    "print(gdf['geometry'][0])"
   ]
  },
  {
   "cell_type": "code",
   "execution_count": null,
   "metadata": {},
   "outputs": [],
   "source": []
  }
 ],
 "metadata": {
  "kernelspec": {
   "display_name": "Python 3.10.6 64-bit",
   "language": "python",
   "name": "python3"
  },
  "language_info": {
   "codemirror_mode": {
    "name": "ipython",
    "version": 3
   },
   "file_extension": ".py",
   "mimetype": "text/x-python",
   "name": "python",
   "nbconvert_exporter": "python",
   "pygments_lexer": "ipython3",
   "version": "3.10.6"
  },
  "orig_nbformat": 4,
  "vscode": {
   "interpreter": {
    "hash": "916dbcbb3f70747c44a77c7bcd40155683ae19c65e1c03b4aa3499c5328201f1"
   }
  }
 },
 "nbformat": 4,
 "nbformat_minor": 2
}
