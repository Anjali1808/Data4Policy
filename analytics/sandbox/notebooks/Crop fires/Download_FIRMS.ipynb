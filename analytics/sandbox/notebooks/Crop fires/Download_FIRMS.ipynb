{
 "cells": [
  {
   "cell_type": "markdown",
   "metadata": {},
   "source": [
    "# Download NASA FIRMS data daily\n",
    "\n",
    "Put 'VIIRS.csv' file in this folder and append new dataset in the same.<br>\n",
    "One can change the location of file as per convenience also\n"
   ]
  },
  {
   "cell_type": "code",
   "execution_count": 1,
   "metadata": {},
   "outputs": [],
   "source": [
    "import pandas as pd\n",
    "from datetime import datetime, timedelta\n",
    "import gdown"
   ]
  },
  {
   "cell_type": "code",
   "execution_count": 2,
   "metadata": {},
   "outputs": [],
   "source": [
    "yesterday = datetime.today() - timedelta(1)\n",
    "yesterday = yesterday.strftime(\"%Y-%m-%d\")"
   ]
  },
  {
   "cell_type": "code",
   "execution_count": 42,
   "metadata": {},
   "outputs": [
    {
     "name": "stderr",
     "output_type": "stream",
     "text": [
      "/tmp/ipykernel_6660/2994163697.py:1: DtypeWarning: Columns (10) have mixed types. Specify dtype option on import or set low_memory=False.\n",
      "  df = pd.read_csv('../../../../../UNDP/VIIRS.csv')\n"
     ]
    }
   ],
   "source": [
    "fire_path = '../../../../../UNDP/VIIRS.csv' #ENTER the path of FIRMS data csv file \n",
    "df = pd.read_csv(fire_path)     "
   ]
  },
  {
   "cell_type": "code",
   "execution_count": 43,
   "metadata": {},
   "outputs": [],
   "source": [
    "dates  = pd.date_range(start=list(df['acq_date'])[-1],end=yesterday).strftime('%Y-%m-%d')"
   ]
  },
  {
   "cell_type": "code",
   "execution_count": 44,
   "metadata": {},
   "outputs": [],
   "source": [
    "for i in dates:\n",
    "    df_tdy = pd.read_csv('https://firms.modaps.eosdis.nasa.gov/api/country/csv/8e3370fc3b32bd3e4e158e2b348dfbe6/VIIRS_SNPP_NRT/IND/10/'+i)\n",
    "    if yesterday not in list(df['acq_date']):\n",
    "        df= pd.concat([df, df_tdy])\n",
    "        \n",
    "df.to_csv(fire_path, index = False)\n"
   ]
  },
  {
   "cell_type": "code",
   "execution_count": null,
   "metadata": {},
   "outputs": [],
   "source": [
    "df_tdy.to_csv('latest_data.csv', index = False)"
   ]
  }
 ],
 "metadata": {
  "kernelspec": {
   "display_name": "Python 3.10.6 64-bit",
   "language": "python",
   "name": "python3"
  },
  "language_info": {
   "codemirror_mode": {
    "name": "ipython",
    "version": 3
   },
   "file_extension": ".py",
   "mimetype": "text/x-python",
   "name": "python",
   "nbconvert_exporter": "python",
   "pygments_lexer": "ipython3",
   "version": "3.10.6"
  },
  "orig_nbformat": 4,
  "vscode": {
   "interpreter": {
    "hash": "916dbcbb3f70747c44a77c7bcd40155683ae19c65e1c03b4aa3499c5328201f1"
   }
  }
 },
 "nbformat": 4,
 "nbformat_minor": 2
}
