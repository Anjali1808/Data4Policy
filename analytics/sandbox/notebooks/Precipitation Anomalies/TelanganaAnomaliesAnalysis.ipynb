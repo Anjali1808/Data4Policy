{
 "cells": [
  {
   "cell_type": "markdown",
   "id": "7e13de77-d765-44a3-88c4-edefaa6d8b8d",
   "metadata": {},
   "source": [
    "## Precipitation Anomaly analysis of Telangana"
   ]
  },
  {
   "cell_type": "code",
   "execution_count": 1,
   "id": "6e35cb49-d33f-4674-8dfb-35f5614b8fcb",
   "metadata": {},
   "outputs": [],
   "source": [
    "import os\n",
    "\n",
    "import numpy as np\n",
    "import pandas as pd\n",
    "import matplotlib.pyplot as plt\n",
    "# netCDF4 needs to be installed in your environment for this to work\n",
    "import xarray as xr\n",
    "import rioxarray as rxr\n",
    "import cartopy.crs as ccrs\n",
    "import cartopy.feature as cfeature\n",
    "import seaborn as sns\n",
    "import geopandas as gpd\n",
    "import earthpy as et\n",
    "#!pip install netCDF4 \n",
    "\n",
    "# Plotting options\n",
    "sns.set(font_scale=1.3)\n",
    "sns.set_style(\"white\")"
   ]
  },
  {
   "cell_type": "code",
   "execution_count": 13,
   "id": "37280a9c-4eb2-44cb-b9cd-9fafc4508fc7",
   "metadata": {},
   "outputs": [],
   "source": [
    "#Import Global Anomaly data\n",
    "global_anomalies = xr.open_dataset(\"monthlyanomaly.nc\")"
   ]
  },
  {
   "cell_type": "code",
   "execution_count": 14,
   "id": "13393f11-4b5d-4d45-9931-07bdd21df76d",
   "metadata": {},
   "outputs": [],
   "source": [
    "from shapely.geometry import mapping\n",
    "\n",
    "#Clip the data for Telangana\n",
    "geodf = gpd.read_file(\"C:/Users/007sh/Desktop/UNDP/telangana_shapefile/Telangana.shp\")\n",
    "global_anomalies.rio.write_crs(\"epsg:4326\", inplace=True)\n",
    "#xds = rxr.open_rasterio(\"telangana_shapefile/Telangana.shp\")\n",
    "telangana_anomalies = global_anomalies.rio.clip(geodf.geometry.apply(mapping), geodf.crs)"
   ]
  },
  {
   "cell_type": "code",
   "execution_count": 15,
   "id": "98a96dac-e7b2-4004-b386-42f8a3da3296",
   "metadata": {},
   "outputs": [],
   "source": [
    "telangana_anomalies = telangana_anomalies.__xarray_dataarray_variable__"
   ]
  },
  {
   "cell_type": "code",
   "execution_count": 16,
   "id": "c02b28df-9d67-4a60-80a8-62ceac9f6c09",
   "metadata": {},
   "outputs": [],
   "source": [
    "#Get Temperature anomalies of Telangana from 1951-2022 \n",
    "tel_anomaly = telangana_anomalies.mean((\"longitude\", \"latitude\"), skipna=True)"
   ]
  },
  {
   "cell_type": "code",
   "execution_count": 17,
   "id": "304af255",
   "metadata": {},
   "outputs": [],
   "source": [
    "#telangana_anomalies.to_netcdf(\"telanganaanomaly.nc\")"
   ]
  },
  {
   "cell_type": "code",
   "execution_count": 18,
   "id": "200e7858",
   "metadata": {},
   "outputs": [],
   "source": [
    "#tel = telangana_anomalies"
   ]
  },
  {
   "cell_type": "code",
   "execution_count": 4,
   "id": "13233674",
   "metadata": {},
   "outputs": [],
   "source": [
    "tel = xr.open_dataset(\"telanganaanomaly.nc\")\n",
    "tel = tel.__xarray_dataarray_variable__"
   ]
  },
  {
   "cell_type": "code",
   "execution_count": 8,
   "id": "8936c724",
   "metadata": {},
   "outputs": [],
   "source": [
    "for i in range (0, len(tel)):\n",
    "    tel[i].rio.to_raster(\"C:\\\\Users\\\\007sh\\\\Desktop\\\\UNDP\\\\Precipitation\\\\convert\\\\telanomaly\\\\\"+\"telanganaanomaly\"+str(i)+\".tif\")"
   ]
  },
  {
   "cell_type": "code",
   "execution_count": 5,
   "id": "02949200-c32a-4a51-a26b-2b5f940af3c7",
   "metadata": {},
   "outputs": [],
   "source": [
    "from itertools import chain\n",
    "data = []\n",
    "for i in range (0, len(tel)):\n",
    "    x = np.array(tel[i])\n",
    "    monthlydatapixel = list(chain.from_iterable(x))\n",
    "    data.append(monthlydatapixel)\n",
    "    \n",
    "df = pd.DataFrame(data)\n",
    "df = df.loc[:, (df != 0).any(axis=0)]\n",
    "df = df.loc[:, (df != -999).any(axis=0)]\n",
    "df = df.T.reset_index(drop=True).T\n",
    "df = df.fillna(0)\n",
    "#df.to_csv(\"telanomalies.csv\")"
   ]
  },
  {
   "cell_type": "code",
   "execution_count": 7,
   "id": "3eea9f94-067c-4b27-9c05-f2055b1b7fe3",
   "metadata": {
    "tags": []
   },
   "outputs": [
    {
     "ename": "ValueError",
     "evalue": "Only 1d and 2d plots are supported for facets in xarray. See the package `Seaborn` for more options.",
     "output_type": "error",
     "traceback": [
      "\u001b[1;31m---------------------------------------------------------------------------\u001b[0m",
      "\u001b[1;31mValueError\u001b[0m                                Traceback (most recent call last)",
      "Input \u001b[1;32mIn [7]\u001b[0m, in \u001b[0;36m<cell line: 4>\u001b[1;34m()\u001b[0m\n\u001b[0;32m      1\u001b[0m \u001b[38;5;66;03m#PLot of Temperature anomalies and Creating a trend line to understand better \u001b[39;00m\n\u001b[0;32m      2\u001b[0m f, ax \u001b[38;5;241m=\u001b[39m plt\u001b[38;5;241m.\u001b[39msubplots(figsize\u001b[38;5;241m=\u001b[39m(\u001b[38;5;241m18\u001b[39m, \u001b[38;5;241m7\u001b[39m))\n\u001b[1;32m----> 4\u001b[0m \u001b[43mtel\u001b[49m\u001b[38;5;241;43m.\u001b[39;49m\u001b[43mplot\u001b[49m\u001b[43m(\u001b[49m\u001b[43mhue\u001b[49m\u001b[38;5;241;43m=\u001b[39;49m\u001b[38;5;124;43m'\u001b[39;49m\u001b[38;5;124;43mlat\u001b[39;49m\u001b[38;5;124;43m'\u001b[39;49m\u001b[43m,\u001b[49m\u001b[43max\u001b[49m\u001b[38;5;241;43m=\u001b[39;49m\u001b[43max\u001b[49m\u001b[43m,\u001b[49m\u001b[43mcolor\u001b[49m\u001b[38;5;241;43m=\u001b[39;49m\u001b[38;5;124;43m\"\u001b[39;49m\u001b[38;5;124;43mpurple\u001b[39;49m\u001b[38;5;124;43m\"\u001b[39;49m\u001b[43m)\u001b[49m\n\u001b[0;32m      6\u001b[0m plt\u001b[38;5;241m.\u001b[39mxlabel(\u001b[38;5;124m'\u001b[39m\u001b[38;5;124mYear\u001b[39m\u001b[38;5;124m'\u001b[39m)\n\u001b[0;32m      7\u001b[0m plt\u001b[38;5;241m.\u001b[39mylabel(\u001b[38;5;124m'\u001b[39m\u001b[38;5;124mAnomaly\u001b[39m\u001b[38;5;124m'\u001b[39m)\n",
      "File \u001b[1;32m~\\Desktop\\UNDP\\lib\\site-packages\\xarray\\plot\\plot.py:868\u001b[0m, in \u001b[0;36m_PlotMethods.__call__\u001b[1;34m(self, **kwargs)\u001b[0m\n\u001b[0;32m    867\u001b[0m \u001b[38;5;28;01mdef\u001b[39;00m \u001b[38;5;21m__call__\u001b[39m(\u001b[38;5;28mself\u001b[39m, \u001b[38;5;241m*\u001b[39m\u001b[38;5;241m*\u001b[39mkwargs):\n\u001b[1;32m--> 868\u001b[0m     \u001b[38;5;28;01mreturn\u001b[39;00m plot(\u001b[38;5;28mself\u001b[39m\u001b[38;5;241m.\u001b[39m_da, \u001b[38;5;241m*\u001b[39m\u001b[38;5;241m*\u001b[39mkwargs)\n",
      "File \u001b[1;32m~\\Desktop\\UNDP\\lib\\site-packages\\xarray\\plot\\plot.py:329\u001b[0m, in \u001b[0;36mplot\u001b[1;34m(darray, row, col, col_wrap, ax, hue, rtol, subplot_kws, **kwargs)\u001b[0m\n\u001b[0;32m    327\u001b[0m \u001b[38;5;28;01melse\u001b[39;00m:\n\u001b[0;32m    328\u001b[0m     \u001b[38;5;28;01mif\u001b[39;00m row \u001b[38;5;129;01mor\u001b[39;00m col \u001b[38;5;129;01mor\u001b[39;00m hue:\n\u001b[1;32m--> 329\u001b[0m         \u001b[38;5;28;01mraise\u001b[39;00m \u001b[38;5;167;01mValueError\u001b[39;00m(error_msg)\n\u001b[0;32m    330\u001b[0m     plotfunc \u001b[38;5;241m=\u001b[39m hist\n\u001b[0;32m    332\u001b[0m kwargs[\u001b[38;5;124m\"\u001b[39m\u001b[38;5;124max\u001b[39m\u001b[38;5;124m\"\u001b[39m] \u001b[38;5;241m=\u001b[39m ax\n",
      "\u001b[1;31mValueError\u001b[0m: Only 1d and 2d plots are supported for facets in xarray. See the package `Seaborn` for more options."
     ]
    },
    {
     "data": {
      "image/png": "[encoded data removed]",
      "text/plain": [
       "<Figure size 1296x504 with 1 Axes>"
      ]
     },
     "metadata": {
      "needs_background": "light"
     },
     "output_type": "display_data"
    }
   ],
   "source": [
    "#PLot of Temperature anomalies and Creating a trend line to understand better \n",
    "f, ax = plt.subplots(figsize=(18, 7))\n",
    "\n",
    "tel.plot(hue='lat',ax=ax,color=\"purple\")\n",
    "\n",
    "plt.xlabel('Year')\n",
    "plt.ylabel('Anomaly')\n",
    "plt.title('Telangana precipitation anomalies from 1950 - Present')\n",
    "plt.savefig('TelanganaPrecpAnomalies.png')"
   ]
  },
  {
   "cell_type": "code",
   "execution_count": 23,
   "id": "7b44e646-03c4-4c8e-984c-6a9d1810a39e",
   "metadata": {},
   "outputs": [],
   "source": [
    "#Saving Telangana anomaly data for future use\n",
    "telangana_anomalies[870].to_netcdf(path=\"telanganaanomaly_july2022.tif\")"
   ]
  },
  {
   "cell_type": "code",
   "execution_count": 24,
   "id": "8d25858c-3f2d-4446-b014-2fd0aeda34fc",
   "metadata": {},
   "outputs": [],
   "source": [
    "from osgeo import gdal\n",
    "import matplotlib.pyplot as plt\n",
    "from osgeo import osr\n",
    "\n",
    "spatref = osr.SpatialReference()\n",
    "spatref.ImportFromEPSG(4326)\n",
    "crs_wkt = spatref.ExportToWkt()\n",
    "\n",
    "dataset = gdal.Open('telanganaanomaly_july2022.tif', gdal.GA_ReadOnly) \n",
    "dataset.SetProjection(crs_wkt)\n",
    "band = dataset.GetRasterBand(1)\n",
    "arr = band.ReadAsArray()"
   ]
  },
  {
   "cell_type": "code",
   "execution_count": 1,
   "id": "f04e6a44-37b3-43c4-8492-79ecf08cf3b8",
   "metadata": {},
   "outputs": [
    {
     "ename": "NameError",
     "evalue": "name 'dataset' is not defined",
     "output_type": "error",
     "traceback": [
      "\u001b[1;31m---------------------------------------------------------------------------\u001b[0m",
      "\u001b[1;31mNameError\u001b[0m                                 Traceback (most recent call last)",
      "\u001b[1;32mc:\\Users\\007sh\\Desktop\\UNDP\\Precipitation\\TelanganaAnomaliesAnalysis.ipynb Cell 13\u001b[0m in \u001b[0;36m<cell line: 1>\u001b[1;34m()\u001b[0m\n\u001b[1;32m----> <a href='vscode-notebook-cell:/c%3A/Users/007sh/Desktop/UNDP/Precipitation/TelanganaAnomaliesAnalysis.ipynb#X15sZmlsZQ%3D%3D?line=0'>1</a>\u001b[0m geotransform \u001b[39m=\u001b[39m dataset\u001b[39m.\u001b[39mGetGeoTransform()\n\u001b[0;32m      <a href='vscode-notebook-cell:/c%3A/Users/007sh/Desktop/UNDP/Precipitation/TelanganaAnomaliesAnalysis.ipynb#X15sZmlsZQ%3D%3D?line=2'>3</a>\u001b[0m originX,pixelWidth,empty,finalY,empty2,pixelHeight\u001b[39m=\u001b[39mgeotransform\n\u001b[0;32m      <a href='vscode-notebook-cell:/c%3A/Users/007sh/Desktop/UNDP/Precipitation/TelanganaAnomaliesAnalysis.ipynb#X15sZmlsZQ%3D%3D?line=3'>4</a>\u001b[0m cols \u001b[39m=\u001b[39m  dataset\u001b[39m.\u001b[39mRasterXSize\n",
      "\u001b[1;31mNameError\u001b[0m: name 'dataset' is not defined"
     ]
    }
   ],
   "source": [
    "geotransform = dataset.GetGeoTransform()\n",
    "\n",
    "originX,pixelWidth,empty,finalY,empty2,pixelHeight=geotransform\n",
    "cols =  dataset.RasterXSize\n",
    "rows =  dataset.RasterYSize\n",
    "\n",
    "projection = dataset.GetProjection()\n",
    "\n",
    "finalX = originX + pixelWidth * cols\n",
    "originY = finalY + pixelHeight * rows\n",
    "\n",
    "extentArray = [originX,finalX,originY,finalY]\n",
    "\n",
    "plt.figure(figsize=(8,8))\n",
    "\n",
    "im = plt.imshow(arr, cmap= \"RdYlGn_r\", extent=extentArray, origin=\"lower\")\n",
    "plt.colorbar(im, fraction=0.03)\n",
    "plt.gca().invert_yaxis()\n",
    "\n",
    "plt.rcParams.update({'font.size': 13})\n",
    "plt.title(\"Precipitation anomalies in Telangana July 2022\\n\")\n",
    "plt.xlabel('Longitude')\n",
    "plt.ylabel('Latitude')\n",
    "print(\" \")\n",
    "plt.show()"
   ]
  }
 ],
 "metadata": {
  "kernelspec": {
   "display_name": "Python 3.10.6 64-bit",
   "language": "python",
   "name": "python3"
  },
  "language_info": {
   "codemirror_mode": {
    "name": "ipython",
    "version": 3
   },
   "file_extension": ".py",
   "mimetype": "text/x-python",
   "name": "python",
   "nbconvert_exporter": "python",
   "pygments_lexer": "ipython3",
   "version": "3.10.6"
  },
  "vscode": {
   "interpreter": {
    "hash": "916dbcbb3f70747c44a77c7bcd40155683ae19c65e1c03b4aa3499c5328201f1"
   }
  }
 },
 "nbformat": 4,
 "nbformat_minor": 5
}
