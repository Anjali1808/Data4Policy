{
 "cells": [
  {
   "cell_type": "code",
   "execution_count": 1,
   "metadata": {},
   "outputs": [],
   "source": [
    "import ee\n",
    "import json\n",
    "from osgeo import gdal\n",
    "import geemap\n",
    "import os\n",
    "import json\n",
    "\n",
    "import time\n",
    "import subprocess as subp\n",
    "\n",
    "from osgeo import gdal, gdal_array\n",
    "from datetime import datetime, timedelta\n",
    "\n",
    "ee.Initialize() # Initialize"
   ]
  },
  {
   "cell_type": "code",
   "execution_count": 2,
   "metadata": {},
   "outputs": [],
   "source": [
    "year = 2017"
   ]
  },
  {
   "cell_type": "code",
   "execution_count": 5,
   "metadata": {},
   "outputs": [],
   "source": [
    "f=  open('../../../../src/data_preprocessing/base_geojson/TL_state_shapefile_for_clip.geojson')\n",
    "data =json.load(f)\n",
    "\n",
    "data = data['features'][0]['geometry']['coordinates'][0]\n",
    "roi = ee.Geometry.Polygon(data)\n",
    "\n",
    "features = geemap.fishnet(roi, rows=2, cols=2)\n",
    "#features = ee.FeatureCollection([roi])\n",
    "\n",
    "MyImage  = ee.ImageCollection(\"projects/sat-io/open-datasets/landcover/ESRI_Global-LULC_10m_TS\") \\\n",
    "                    .filterBounds(roi).filterDate(str(year)+'-01-01',str(year+1)+'-01-01') \\\n",
    "                    .mean().clip(roi)"
   ]
  },
  {
   "cell_type": "code",
   "execution_count": 6,
   "metadata": {},
   "outputs": [
    {
     "name": "stdout",
     "output_type": "stream",
     "text": [
      "Downloading 1/5: LULC_2017/LULC_1.tif\n"
     ]
    },
    {
     "name": "stderr",
     "output_type": "stream",
     "text": [
      "Consider adjusting `region`, `scale` and/or `dtype` to reduce the LULC_1.tif download size (raw: 4.12 GB).\n"
     ]
    },
    {
     "data": {
      "application/vnd.jupyter.widget-view+json": {
       "model_id": "8057fedbea444bb18906c8713c05d5a9",
       "version_major": 2,
       "version_minor": 0
      },
      "text/plain": [
       "LULC_1.tif: |          | 0.00/4.12G (raw) [  0.0%] in 00:00 (eta:     ?)"
      ]
     },
     "metadata": {},
     "output_type": "display_data"
    },
    {
     "name": "stderr",
     "output_type": "stream",
     "text": [
      "There is no STAC entry for: None\n"
     ]
    },
    {
     "name": "stdout",
     "output_type": "stream",
     "text": [
      "Downloading 2/5: LULC_2017/LULC_2.tif\n"
     ]
    },
    {
     "name": "stderr",
     "output_type": "stream",
     "text": [
      "Consider adjusting `region`, `scale` and/or `dtype` to reduce the LULC_2.tif download size (raw: 4.12 GB).\n"
     ]
    },
    {
     "data": {
      "application/vnd.jupyter.widget-view+json": {
       "model_id": "38787f5f2f774ae0aa34a83330c0072f",
       "version_major": 2,
       "version_minor": 0
      },
      "text/plain": [
       "LULC_2.tif: |          | 0.00/4.12G (raw) [  0.0%] in 00:00 (eta:     ?)"
      ]
     },
     "metadata": {},
     "output_type": "display_data"
    },
    {
     "name": "stdout",
     "output_type": "stream",
     "text": [
      "Downloading 3/5: LULC_2017/LULC_3.tif\n"
     ]
    },
    {
     "name": "stderr",
     "output_type": "stream",
     "text": [
      "Consider adjusting `region`, `scale` and/or `dtype` to reduce the LULC_3.tif download size (raw: 4.12 GB).\n"
     ]
    },
    {
     "data": {
      "application/vnd.jupyter.widget-view+json": {
       "model_id": "13e17f2f36964a9e8880705897e04082",
       "version_major": 2,
       "version_minor": 0
      },
      "text/plain": [
       "LULC_3.tif: |          | 0.00/4.12G (raw) [  0.0%] in 00:00 (eta:     ?)"
      ]
     },
     "metadata": {},
     "output_type": "display_data"
    },
    {
     "name": "stdout",
     "output_type": "stream",
     "text": [
      "Downloading 4/5: LULC_2017/LULC_4.tif\n"
     ]
    },
    {
     "name": "stderr",
     "output_type": "stream",
     "text": [
      "Consider adjusting `region`, `scale` and/or `dtype` to reduce the LULC_4.tif download size (raw: 4.12 GB).\n"
     ]
    },
    {
     "data": {
      "application/vnd.jupyter.widget-view+json": {
       "model_id": "15923117108347b3af809a96970f9e46",
       "version_major": 2,
       "version_minor": 0
      },
      "text/plain": [
       "LULC_4.tif: |          | 0.00/4.12G (raw) [  0.0%] in 00:00 (eta:     ?)"
      ]
     },
     "metadata": {},
     "output_type": "display_data"
    },
    {
     "name": "stdout",
     "output_type": "stream",
     "text": [
      "Downloading 5/5: LULC_2017/LULC_5.tif\n"
     ]
    },
    {
     "name": "stderr",
     "output_type": "stream",
     "text": [
      "Consider adjusting `region`, `scale` and/or `dtype` to reduce the LULC_5.tif download size (raw: 4.12 GB).\n"
     ]
    },
    {
     "data": {
      "application/vnd.jupyter.widget-view+json": {
       "model_id": "021205a230a647e48cd9376e95293a9e",
       "version_major": 2,
       "version_minor": 0
      },
      "text/plain": [
       "LULC_5.tif: |          | 0.00/4.12G (raw) [  0.0%] in 00:00 (eta:     ?)"
      ]
     },
     "metadata": {},
     "output_type": "display_data"
    }
   ],
   "source": [
    "geemap.download_ee_image_tiles(\n",
    "    MyImage, features, \"LULC_\"+str(year), prefix=\"LULC_\", crs=\"EPSG:4326\", scale=10,\n",
    ")\n",
    "\n",
    "#This step shows raw file size in GB but not worry, actual downloaded file will be in less than 100 mb"
   ]
  },
  {
   "cell_type": "code",
   "execution_count": 16,
   "metadata": {},
   "outputs": [
    {
     "data": {
      "text/plain": [
       "\"\\n# Export the image, specifying scale and region.\\n\\ntask = ee.batch.Export.image.toDrive(**{\\n    'image': MyImage,\\n    'description': 'LULC_'+str(year),\\n    'folder':'LULC_GEE',\\n    'scale': 10,\\n    'region': table.getInfo()['coordinates'],\\n    'maxPixels': 1e13\\n})\\ntask.start()\\n\\nimport time \\nwhile task.active():\\n  print('Polling for task (id: {}).'.format(task.id))\\n  time.sleep(5)\\n\\n\""
      ]
     },
     "execution_count": 16,
     "metadata": {},
     "output_type": "execute_result"
    }
   ],
   "source": [
    "'''\n",
    "# Export the image, specifying scale and region.\n",
    "\n",
    "task = ee.batch.Export.image.toDrive(**{\n",
    "    'image': MyImage,\n",
    "    'description': 'LULC_'+str(year),\n",
    "    'folder':'LULC_GEE',\n",
    "    'scale': 10,\n",
    "    'region': table.getInfo()['coordinates'],\n",
    "    'maxPixels': 1e13\n",
    "})\n",
    "task.start()\n",
    "\n",
    "import time \n",
    "while task.active():\n",
    "  print('Polling for task (id: {}).'.format(task.id))\n",
    "  time.sleep(5)\n",
    "\n",
    "'''"
   ]
  },
  {
   "cell_type": "code",
   "execution_count": 4,
   "metadata": {},
   "outputs": [
    {
     "name": "stdout",
     "output_type": "stream",
     "text": [
      "gdal_merge.py -of GTiff -co BIGTIFF=YES -co PREDICTOR=2 -co TILED=YES -co ZLEVEL=9 -o LULC_2017.tif LULC_2017/LULC_1.tif LULC_2017/LULC_2.tif LULC_2017/LULC_5.tif LULC_2017/LULC_3.tif LULC_2017/LULC_4.tif\n",
      "0"
     ]
    }
   ],
   "source": [
    "basepath='LULC_'+str(year)+'/'\n",
    "arr = os.listdir(basepath)\n",
    "\n",
    "cmd= \"gdal_merge.py -of GTiff -co TILED=YES -co COMPRESS=DEFLATE -co ZLEVEL=9 -co PREDICTOR=2 -o LULC_\"+str(year)+\".tif\"\n",
    "for i in arr:\n",
    "    #cmd=\"gdal_translate clipped/\"+str(i)+\" LULC-\"+str(year)+\"/\"+str(i)+\" -co COMPRESS=LZW -co ZLEVEL=9 -co TILED=YES\"\n",
    "    cmd = cmd+\" \"+basepath+i\n",
    "print(cmd)\n",
    "try:\n",
    "    subp.check_call(str(cmd), shell=True)\n",
    "except:\n",
    "    print(\"end\")\n",
    "time.sleep(1)\n",
    "\n",
    "cmd=\"gdalwarp -dstnodata -9999 -cutline TL_state_shapefile_for_clip.geojson -crop_to_cutline merged.tif LULC_\"+str(year)+\".tif -co TILED=YES -co COMPRESS=DEFLATE -co ZLEVEL=9 -co PREDICTOR=2\"\n",
    "print(cmd)\n",
    "try:\n",
    "    subp.check_call(str(cmd), shell=True)\n",
    "except:\n",
    "    print(\"end\")\n",
    "time.sleep(1)\n",
    "'''\n",
    "cmd=\"rm -r LULC_\"+str(year)+\" merged.tif\"\n",
    "print(cmd)\n",
    "try:\n",
    "    subp.check_call(str(cmd), shell=True)\n",
    "except:\n",
    "    print(\"end\")\n",
    "'''"
   ]
  },
  {
   "cell_type": "markdown",
   "metadata": {},
   "source": [
    "Above code wrapped in a function"
   ]
  },
  {
   "cell_type": "code",
   "execution_count": null,
   "metadata": {},
   "outputs": [],
   "source": [
    "def download_lulc(region, year):\n",
    "\n",
    "    f=  open('../../../../src/data_preprocessing/base_geojson/TL_state_shapefile_for_clip.geojson')\n",
    "    data =json.load(f)\n",
    "\n",
    "    data = data['features'][0]['geometry']['coordinates'][0]\n",
    "    roi = ee.Geometry.Polygon(data)\n",
    "\n",
    "    features = geemap.fishnet(roi, rows=2, cols=2)\n",
    "    #features = ee.FeatureCollection([roi])\n",
    "\n",
    "    MyImage  = ee.ImageCollection(\"projects/sat-io/open-datasets/landcover/ESRI_Global-LULC_10m_TS\") \\\n",
    "                        .filterBounds(roi).filterDate(str(year)+'-01-01',str(year+1)+'-01-01') \\ \n",
    "                        \n",
    "\n",
    "    geemap.download_ee_image_tiles(\n",
    "        MyImage, features, \"LULC_\"+str(year), prefix=\"LULC_\", crs=\"EPSG:4326\", scale=10,  #folder naming is optinal\n",
    "    )\n",
    "\n",
    "#This step shows raw file size in GB but not worry, actual downloaded file will be in less than 100 mb\n",
    "\n",
    "    basepath='LULC_'+str(year)+'/'\n",
    "    arr = os.listdir(basepath)\n",
    "\n",
    "    cmd= \"gdal_merge.py -of GTiff -co COMPRESS=DEFLATE -co PREDICTOR=2 -co ZLEVEL=9 -o LULC_\"+str(year)+\".tif\"\n",
    "    for i in arr:\n",
    "        #cmd=\"gdal_translate clipped/\"+str(i)+\" LULC-\"+str(year)+\"/\"+str(i)+\" -co COMPRESS=LZW -co ZLEVEL=9 -co TILED=YES\"\n",
    "        cmd = cmd+\" \"+basepath+i\n",
    "    print(cmd)\n",
    "    try:\n",
    "        subp.check_call(str(cmd), shell=True)\n",
    "    except:\n",
    "        print(\"end\")\n",
    "    time.sleep(1)\n",
    "\n",
    "    cmd=\"gdalwarp -dstnodata -9999 -cutline TL_state_shapefile_for_clip.geojson -crop_to_cutline merged.tif LULC_\"+str(year)+\".tif\"\n",
    "    print(cmd)\n",
    "    try:\n",
    "        subp.check_call(str(cmd), shell=True)\n",
    "    except:\n",
    "        print(\"end\")\n",
    "    time.sleep(1)\n",
    "    cmd=\"rm -r LULC_\"+str(year)+\" merged.tif\"\n",
    "    print(cmd)\n",
    "    try:\n",
    "        subp.check_call(str(cmd), shell=True)\n",
    "    except:\n",
    "        print(\"end\")\n"
   ]
  }
 ],
 "metadata": {
  "kernelspec": {
   "display_name": "Python 3.10.6 64-bit",
   "language": "python",
   "name": "python3"
  },
  "language_info": {
   "codemirror_mode": {
    "name": "ipython",
    "version": 3
   },
   "file_extension": ".py",
   "mimetype": "text/x-python",
   "name": "python",
   "nbconvert_exporter": "python",
   "pygments_lexer": "ipython3",
   "version": "3.10.6"
  },
  "orig_nbformat": 4,
  "vscode": {
   "interpreter": {
    "hash": "916dbcbb3f70747c44a77c7bcd40155683ae19c65e1c03b4aa3499c5328201f1"
   }
  }
 },
 "nbformat": 4,
 "nbformat_minor": 2
}
