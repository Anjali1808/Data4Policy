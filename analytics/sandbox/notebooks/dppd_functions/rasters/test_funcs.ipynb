{
 "cells": [
  {
   "cell_type": "code",
   "execution_count": null,
   "id": "deac633f-f3b2-4e2b-9080-dec2884c546d",
   "metadata": {},
   "outputs": [],
   "source": [
    "import pandas as pd\n",
    "import os\n",
    "import geopandas as gpd\n",
    "import geoplot\n",
    "import geoplot.crs as gcrs\n",
    "import matplotlib.pyplot as plt\n",
    "import rasterio\n",
    "from statsmodels.tsa.seasonal import STL\n",
    "import numpy as np\n",
    "from sklearn.linear_model import LinearRegression\n",
    "import datetime as dt\n",
    "from matplotlib.colors import TwoSlopeNorm\n",
    "import time\n",
    "from rasterstats import zonal_stats\n",
    "from scipy.stats import pearsonr\n",
    "import plotly.express as px\n",
    "\n",
    "import warnings\n",
    "warnings.filterwarnings('ignore')\n",
    "import raster_func  #import function python filee\n",
    "\n",
    "boundary = gpd.read_file('../Karnataka/District.geojson')"
   ]
  },
  {
   "cell_type": "code",
   "execution_count": null,
   "id": "5beb9608-8ee8-468c-9308-af5db053aced",
   "metadata": {},
   "outputs": [],
   "source": [
    "fig, df = raster_func.correlation('NDVI/Karnataka/', 2012, 2022,  boundary, 'NDVI for KA districts')"
   ]
  }
 ],
 "metadata": {
  "kernelspec": {
   "display_name": "Python 3.9.7 ('base')",
   "language": "python",
   "name": "python3"
  },
  "language_info": {
   "codemirror_mode": {
    "name": "ipython",
    "version": 3
   },
   "file_extension": ".py",
   "mimetype": "text/x-python",
   "name": "python",
   "nbconvert_exporter": "python",
   "pygments_lexer": "ipython3",
   "version": "3.9.7"
  },
  "vscode": {
   "interpreter": {
    "hash": "9bc77666b88a93c823efa9f24a54909d6fd806880c59e700ac6a37bcb7352378"
   }
  }
 },
 "nbformat": 4,
 "nbformat_minor": 5
}
