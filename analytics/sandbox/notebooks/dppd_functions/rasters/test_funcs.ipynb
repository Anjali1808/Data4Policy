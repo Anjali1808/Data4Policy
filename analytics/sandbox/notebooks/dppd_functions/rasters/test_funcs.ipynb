{
 "cells": [
  {
   "cell_type": "code",
   "execution_count": 5,
   "id": "deac633f-f3b2-4e2b-9080-dec2884c546d",
   "metadata": {},
   "outputs": [],
   "source": [
    "import pandas as pd\n",
    "import os\n",
    "import geopandas as gpd\n",
    "import geoplot\n",
    "import geoplot.crs as gcrs\n",
    "import matplotlib.pyplot as plt\n",
    "import rasterio\n",
    "from statsmodels.tsa.seasonal import STL\n",
    "import numpy as np\n",
    "from sklearn.linear_model import LinearRegression\n",
    "import datetime as dt\n",
    "from matplotlib.colors import TwoSlopeNorm\n",
    "import time\n",
    "from rasterstats import zonal_stats\n",
    "from scipy.stats import pearsonr\n",
    "import plotly.express as px\n",
    "\n",
    "import warnings\n",
    "warnings.filterwarnings('ignore')\n",
    "import raster_func  #import function python file\n",
    "\n",
    "boundary = gpd.read_file('../../../../../src/data_preprocessing/base_geojson/Telangana_grid1km.geojson')"
   ]
  },
  {
   "cell_type": "code",
   "execution_count": 4,
   "id": "5beb9608-8ee8-468c-9308-af5db053aced",
   "metadata": {},
   "outputs": [],
   "source": [
    "df = raster_func.correlation('cog/', 2015, 2021,  boundary.head(100), 'NDVI for KA districts')"
   ]
  },
  {
   "cell_type": "code",
   "execution_count": null,
   "id": "680484fe",
   "metadata": {},
   "outputs": [],
   "source": []
  }
 ],
 "metadata": {
  "kernelspec": {
   "display_name": "Python 3.10.6 64-bit",
   "language": "python",
   "name": "python3"
  },
  "language_info": {
   "codemirror_mode": {
    "name": "ipython",
    "version": 3
   },
   "file_extension": ".py",
   "mimetype": "text/x-python",
   "name": "python",
   "nbconvert_exporter": "python",
   "pygments_lexer": "ipython3",
   "version": "3.10.6"
  },
  "vscode": {
   "interpreter": {
    "hash": "916dbcbb3f70747c44a77c7bcd40155683ae19c65e1c03b4aa3499c5328201f1"
   }
  }
 },
 "nbformat": 4,
 "nbformat_minor": 5
}
