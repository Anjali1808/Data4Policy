{
 "cells": [
  {
   "cell_type": "code",
   "execution_count": 2,
   "id": "e3778ae8-0e0d-4309-a442-4dd32cb57478",
   "metadata": {},
   "outputs": [],
   "source": [
    "# Import packages\n",
    "import ee\n",
    "import geemap\n",
    "import os\n",
    "import json\n",
    "\n",
    "import time\n",
    "import subprocess as subp\n",
    "\n",
    "from osgeo import gdal, gdal_array\n",
    "from datetime import datetime, timedelta"
   ]
  },
  {
   "cell_type": "code",
   "execution_count": 3,
   "id": "3217232c",
   "metadata": {},
   "outputs": [],
   "source": [
    "import warnings\n",
    "warnings.filterwarnings('ignore')"
   ]
  },
  {
   "cell_type": "code",
   "execution_count": 4,
   "id": "58388abc-3af2-4e60-8374-047843444372",
   "metadata": {},
   "outputs": [
    {
     "name": "stdout",
     "output_type": "stream",
     "text": [
      "2023-01-12\n"
     ]
    }
   ],
   "source": [
    "date_tdy = datetime.today() \n",
    "date_tdy = date_tdy.strftime('%Y-%m-%d')\n",
    "print(date_tdy)\n",
    "\n",
    "ee.Initialize() # Initialize\n",
    "\n",
    "f=  open('../../../../../src/data_preprocessing/base_geojson/TL_state_shapefile_for_clip.geojson')\n",
    "data =json.load(f)\n",
    "\n",
    "data = data['features'][0]['geometry']['coordinates'][0]\n",
    "roi = ee.Geometry.Polygon(data)\n"
   ]
  },
  {
   "cell_type": "code",
   "execution_count": 5,
   "id": "5136a4bf",
   "metadata": {},
   "outputs": [
    {
     "name": "stdout",
     "output_type": "stream",
     "text": [
      "3644\n"
     ]
    }
   ],
   "source": [
    "collection_subset = ee.ImageCollection(\"MODIS/061/MOD11A1\") \\\n",
    "    .filterDate('2012-01-01', '2022-01-01').sort('IMAGE_DATE').select('LST_Day_1km') # Only select images for the years 2016-2021\n",
    "print(collection_subset.size().getInfo()) # Shows the number of images within the subcollection"
   ]
  },
  {
   "cell_type": "code",
   "execution_count": 22,
   "id": "27aa3940",
   "metadata": {},
   "outputs": [
    {
     "name": "stdout",
     "output_type": "stream",
     "text": [
      "1\n"
     ]
    }
   ],
   "source": [
    "collection_subset = ee.ImageCollection(\"MODIS/061/MOD11A2\") \\\n",
    "    .filterDate('2021-12-20', '2022-01-01').sort('IMAGE_DATE').select('LST_Day_1km') # Only select images for the years 2016-2021\n",
    "print(collection_subset.size().getInfo()) # Shows the number of images within the subcollection"
   ]
  },
  {
   "cell_type": "code",
   "execution_count": 23,
   "id": "8d8a0f8b-fc73-4a5e-8668-f696edaa46e9",
   "metadata": {},
   "outputs": [
    {
     "name": "stdout",
     "output_type": "stream",
     "text": [
      "Total number of images: 1\n",
      "\n",
      "Exporting 1/1: 2021_12_27.tif\n",
      "Generating URL ...\n",
      "Downloading data from https://earthengine.googleapis.com/v1alpha/projects/earthengine-legacy/thumbnails/5778a4487cf39352a3ed716b5453fe17-b10f3c242578e3d6e4769b39dbc00f68:getPixels\n",
      "Please wait ...\n",
      "Data downloaded to /home/luckyw0w/dicra/analytics/sandbox/notebooks/dppd_functions/rasters/GEE_LSTtifs\n",
      "\n",
      "\n"
     ]
    }
   ],
   "source": [
    "image = collection_subset.first().select('LST_Day_1km')  # Pick the first image from the 'list' and select the layer of interest\n",
    "geemap.image_props(image).getInfo() # Finds basic info of this image\n",
    "\n",
    "out = os.path.join('GEE_LSTtifs') # Set path to where we want to save the GeoTIF\n",
    "# Now export each image within the collection to a GeoTIF\n",
    "geemap.ee_export_image_collection(collection_subset, out_dir = out, scale=image.select('LST_Day_1km').projection().nominalScale(), region=roi, file_per_band=True, crs='EPSG:4326')\n",
    "\n",
    "# image.select('NDVI').projection().nominalScale() sets the scale equal to the resolution of the images within the collection\n",
    "# file_per_band=False: all bands are downloaded and put as one file\n",
    "# file_per_band=True: each band is downloaded in a single image"
   ]
  },
  {
   "cell_type": "code",
   "execution_count": 19,
   "id": "ce01dc64",
   "metadata": {},
   "outputs": [
    {
     "name": "stdout",
     "output_type": "stream",
     "text": [
      "gdalwarp -of GTIFF  -r cubic -t_srs '+proj=longlat +datum=WGS84 +no_defs' GEE_LSTtifs/2021_12_31.tif projected/2021_12_31.tif\n",
      "Creating output file that is 491P x 491L.\n",
      "Processing GEE_LSTtifs/2021_12_31.tif [1/1] : 0Using internal nodata values (e.g. 0) for image GEE_LSTtifs/2021_12_31.tif.\n",
      "Copying nodata values from source GEE_LSTtifs/2021_12_31.tif to destination projected/2021_12_31.tif.\n",
      "...10...20...30...40...50...60...70...80...90...100 - done.\n",
      "2021_12_31.tif\n",
      "gdalwarp -dstnodata -9999 -cutline tsdm/District_Boundary.shp -crop_to_cutline recalculated/2021_12_31.tif clipped/2021_12_31.tif\n",
      "Creating output file that is 489P x 489L.\n",
      "Processing recalculated/2021_12_31.tif [1/1] : 0...10...20...30...40...50...60...70...80...90...100 - done.\n",
      "directory exists\n",
      "gdal_translate clipped/2021_12_31.tif cog_lst/2021_12_31.tif -co COMPRESS=LZW -co TILED=YES\n",
      "Input file size is 489, 489\n",
      "0...10...20...30...40...50...60...70...80...90...100 - done.\n",
      "rm -r GEE_LSTtifs clipped projected recalculated\n"
     ]
    }
   ],
   "source": [
    "\n",
    "basepath='GEE_LSTtifs/'\n",
    "\n",
    "if 'projected' not in os.listdir():\n",
    "    os.mkdir('projected')\n",
    "else:\n",
    "    print('directory exists')\n",
    "\n",
    "arr = os.listdir('GEE_LSTtifs')\n",
    "for i in arr:\n",
    "    cmd=\"gdalwarp -of GTIFF  -r cubic -t_srs '+proj=longlat +datum=WGS84 +no_defs'\"+\" \"+basepath+str(i)+\" projected/\"+str(i)\n",
    "    print(cmd)\n",
    "    try:\n",
    "        subp.check_call(str(cmd), shell=True)\n",
    "    except:\n",
    "        print(\"end\")\n",
    "    time.sleep(1)\n",
    "\n",
    "# Open band 1 as array\n",
    "arr = os.listdir('projected/')\n",
    "\n",
    "if 'recalculated' not in os.listdir():\n",
    "    os.mkdir('recalculated')\n",
    "else:\n",
    "    print('directory exists')\n",
    "\n",
    "for i in arr:\n",
    "    ds = gdal.Open('projected/'+str(i))\n",
    "    b1 = ds.GetRasterBand(1)\n",
    "    arr_q = b1.ReadAsArray()\n",
    "   # ndv = 1\n",
    "    # apply scale factpr\n",
    "    data = arr_q*(0.02)  # LST Scale factor\n",
    "    #data = np.where(data > 1,-9999, data)\n",
    "    #data=np.where(data<0,-9999,data)\n",
    "    print(str(i))\n",
    "    # save array, using ds as a prototype\n",
    "    output=\"recalculated/\"+str(i)\n",
    "    gdal_array.SaveArray(data.astype(\"float32\"), output, \"GTIFF\", ds)\n",
    "\n",
    "    ds = None\n",
    "\n",
    "basepath='recalculated/'\n",
    "arr = os.listdir('recalculated')\n",
    "\n",
    "if 'clipped' not in os.listdir():\n",
    "    os.mkdir('clipped')\n",
    "else:\n",
    "    print('directory exists')\n",
    "    \n",
    "for i in arr:\n",
    "    cmd=\"gdalwarp -dstnodata -9999 -cutline tsdm/District_Boundary.shp -crop_to_cutline \"+basepath+str(i)+\" clipped/\"+i\n",
    "    print(cmd)\n",
    "    try:\n",
    "        subp.check_call(str(cmd), shell=True)\n",
    "    except:\n",
    "        print(\"end\")\n",
    "    time.sleep(1)\n",
    "\n",
    "arr = os.listdir('clipped/')\n",
    "\n",
    "if 'cog_lst' not in os.listdir():\n",
    "    os.mkdir('cog_lst')\n",
    "else:\n",
    "    print('directory exists')\n",
    "\n",
    "for i in arr:\n",
    "    cmd=\"gdal_translate clipped/\"+str(i)+\" cog_lst/\"+str(i)+\" -co COMPRESS=LZW -co TILED=YES\"\n",
    "    print(cmd)\n",
    "    try:\n",
    "        subp.check_call(str(cmd), shell=True)\n",
    "    except:\n",
    "        print(\"end\")\n",
    "    time.sleep(1)\n",
    "\n",
    "cmd=\"rm -r GEE_LSTtifs clipped projected recalculated\"\n",
    "print(cmd)\n",
    "try:\n",
    "    subp.check_call(str(cmd), shell=True)\n",
    "except:\n",
    "    print(\"end\")"
   ]
  },
  {
   "cell_type": "code",
   "execution_count": 3,
   "id": "df35bb27",
   "metadata": {},
   "outputs": [],
   "source": [
    "directory = 'cog_lst/'\n",
    "files = os.listdir(directory)\n",
    "files.sort()"
   ]
  },
  {
   "cell_type": "code",
   "execution_count": 1,
   "id": "a7816be5",
   "metadata": {},
   "outputs": [
    {
     "name": "stderr",
     "output_type": "stream",
     "text": [
      "/home/luckyw0w/.local/lib/python3.10/site-packages/geopandas/_compat.py:123: UserWarning: The Shapely GEOS version (3.10.3-CAPI-1.16.1) is incompatible with the GEOS version PyGEOS was compiled with (3.10.4-CAPI-1.16.2). Conversions between both will be slow.\n",
      "  warnings.warn(\n"
     ]
    }
   ],
   "source": [
    "import numpy as np\n",
    "import pandas as pd\n",
    "import matplotlib.pyplot as plt\n",
    "from matplotlib import pyplot\n",
    "import seaborn as sns\n",
    "import pandas\n",
    "import rasterio\n",
    "from osgeo import gdal\n",
    "import geopandas as gpd\n",
    "from sklearn.linear_model import LinearRegression\n",
    "import os\n",
    "import georasters as gr\n",
    "import datetime as dt\n",
    "from statsmodels.tsa.seasonal import STL"
   ]
  },
  {
   "cell_type": "code",
   "execution_count": 5,
   "id": "f9da499d",
   "metadata": {},
   "outputs": [],
   "source": [
    "\n",
    "df = pd.DataFrame()\n",
    "def data_frame(i):\n",
    "    myRaster = directory+i\n",
    "    elevation = gr.from_file(myRaster)\n",
    "    elevation = elevation.to_pandas()\n",
    "    i = i[:-4]\n",
    "    #df[i] = elevation['value']\n",
    "    return(elevation['value'])\n",
    "#df['geometry'] = elevation['geometry']\n",
    "\n"
   ]
  },
  {
   "cell_type": "code",
   "execution_count": 6,
   "id": "e3b1626b",
   "metadata": {},
   "outputs": [],
   "source": [
    "import multiprocessing\n",
    "import time\n"
   ]
  },
  {
   "cell_type": "code",
   "execution_count": 7,
   "id": "926d4979",
   "metadata": {},
   "outputs": [
    {
     "name": "stdout",
     "output_type": "stream",
     "text": [
      "--- 194.012353181839 seconds ---\n"
     ]
    }
   ],
   "source": [
    "start_time = time.time()\n",
    "\n",
    "\n",
    "pool = multiprocessing.Pool()\n",
    "\n",
    "#func = partial(ndvi_dppd, boundary, tiffs, directory)\n",
    "\n",
    "results = [result for result in pool.map(data_frame, files)]\n",
    "#pool.map(func, iterable)\n",
    "pool.close()\n",
    "pool.join()\n",
    "\n",
    "print(\"--- %s seconds ---\" % (time.time() - start_time))"
   ]
  },
  {
   "cell_type": "code",
   "execution_count": 8,
   "id": "53338a11",
   "metadata": {},
   "outputs": [],
   "source": [
    "df = pd.DataFrame()\n",
    "for i in range(len(results)):\n",
    "    df[i] = results[i]"
   ]
  },
  {
   "cell_type": "code",
   "execution_count": 9,
   "id": "5133bb53",
   "metadata": {},
   "outputs": [],
   "source": [
    "df = df.T"
   ]
  },
  {
   "cell_type": "code",
   "execution_count": 29,
   "id": "4799ad04",
   "metadata": {},
   "outputs": [],
   "source": [
    "i = files[100]\n",
    "myRaster = directory+i\n",
    "elevation = gr.from_file(myRaster)\n",
    "elevation = elevation.to_geopandas()"
   ]
  },
  {
   "cell_type": "code",
   "execution_count": 11,
   "id": "c2a3aedf",
   "metadata": {},
   "outputs": [],
   "source": [
    "dates = [i[:4]+'-'+i[5:7]+'-'+i[8:10] for i in files]"
   ]
  },
  {
   "cell_type": "code",
   "execution_count": 12,
   "id": "b48ef80a",
   "metadata": {},
   "outputs": [],
   "source": [
    "df['Date'] = dates\n",
    "df['Date'] = pd.to_datetime(df['Date'])"
   ]
  },
  {
   "cell_type": "code",
   "execution_count": 13,
   "id": "fb88f472",
   "metadata": {},
   "outputs": [],
   "source": [
    "myRaster = directory+i\n",
    "elevation = gr.from_file(myRaster)\n",
    "elevation = elevation.to_pandas()"
   ]
  },
  {
   "cell_type": "code",
   "execution_count": 20,
   "id": "d4964049",
   "metadata": {},
   "outputs": [],
   "source": [
    "def Trend_score(df, DateOrdinal, i):\n",
    "\n",
    "    sdf = df[:1510]\n",
    "    res = []\n",
    "\n",
    "    sdf = pd.Series(list(sdf[i]), index=pd.to_datetime(sdf['Date']), name=\"LST\")\n",
    "    stl = STL(sdf)\n",
    "    res1 = stl.fit()\n",
    "    res = res+list(res1.trend)\n",
    "\n",
    "    sdf = df[1510:]\n",
    "    sdf = pd.Series(list(sdf[i]), index=pd.to_datetime(sdf['Date']), name=\"LST\")\n",
    "    stl = STL(sdf)\n",
    "    res1 = stl.fit()\n",
    "    res = res+list(res1.trend)\n",
    "\n",
    "    #Set the data in the right format for Linear Regression\n",
    "    x = np.array(DateOrdinal)\n",
    "    X = x.reshape(-1, 1)\n",
    "    y = np.array(res)\n",
    "    y = y.reshape(-1, 1)\n",
    "\n",
    "    #Perform Linear Regression and obtain the slope\n",
    "    reg = LinearRegression().fit(X, y)\n",
    "    y_pred_trend = reg.predict(X)\n",
    "    slope, intercept = np.polyfit(x, y_pred_trend,1)\n",
    "    return slope[0]"
   ]
  },
  {
   "cell_type": "code",
   "execution_count": 15,
   "id": "98d3f831",
   "metadata": {},
   "outputs": [],
   "source": [
    "DateOrdinal = [dt.datetime.toordinal(i) for i in df['Date']]"
   ]
  },
  {
   "cell_type": "code",
   "execution_count": 24,
   "id": "9ea756f5",
   "metadata": {},
   "outputs": [],
   "source": [
    "slopes = [Trend_score(df, DateOrdinal, i) for i in df.columns[:-1]]"
   ]
  },
  {
   "cell_type": "code",
   "execution_count": 26,
   "id": "adab2814",
   "metadata": {},
   "outputs": [],
   "source": [
    "res = np.array(slopes)\n",
    "data_norm = np.where(res >= 0, res/np.max(res), -res/np.min(res))\n",
    "data_norm = data_norm * -1"
   ]
  },
  {
   "cell_type": "code",
   "execution_count": 30,
   "id": "46980d9d",
   "metadata": {},
   "outputs": [],
   "source": [
    "elevation\n",
    "deviance = gpd.GeoDataFrame()\n",
    "deviance['deviance'] = data_norm\n",
    "deviance['geometry'] = elevation['geometry']"
   ]
  },
  {
   "cell_type": "code",
   "execution_count": 8,
   "id": "6a2cf118",
   "metadata": {},
   "outputs": [],
   "source": [
    "deviance.to_file('lst_1km_deviance.json')"
   ]
  },
  {
   "cell_type": "code",
   "execution_count": 2,
   "id": "76fd4da1",
   "metadata": {},
   "outputs": [],
   "source": [
    "deviance = gpd.read_file('lst_1km_deviance.json')"
   ]
  },
  {
   "cell_type": "code",
   "execution_count": 6,
   "id": "75fb9c4d",
   "metadata": {},
   "outputs": [],
   "source": [
    "deviance['deviance'] = np.array(deviance['deviance'])* -1"
   ]
  },
  {
   "cell_type": "code",
   "execution_count": null,
   "id": "dfc0892e",
   "metadata": {},
   "outputs": [],
   "source": []
  }
 ],
 "metadata": {
  "kernelspec": {
   "display_name": "Python 3.10.6 64-bit",
   "language": "python",
   "name": "python3"
  },
  "language_info": {
   "codemirror_mode": {
    "name": "ipython",
    "version": 3
   },
   "file_extension": ".py",
   "mimetype": "text/x-python",
   "name": "python",
   "nbconvert_exporter": "python",
   "pygments_lexer": "ipython3",
   "version": "3.10.6"
  },
  "vscode": {
   "interpreter": {
    "hash": "916dbcbb3f70747c44a77c7bcd40155683ae19c65e1c03b4aa3499c5328201f1"
   }
  }
 },
 "nbformat": 4,
 "nbformat_minor": 5
}
