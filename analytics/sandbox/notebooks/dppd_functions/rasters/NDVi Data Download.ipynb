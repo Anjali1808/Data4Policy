{
 "cells": [
  {
   "cell_type": "code",
   "execution_count": 2,
   "id": "e3778ae8-0e0d-4309-a442-4dd32cb57478",
   "metadata": {},
   "outputs": [],
   "source": [
    "# Import packages\n",
    "import ee\n",
    "import geemap\n",
    "import os\n",
    "import json\n",
    "\n",
    "import time\n",
    "import subprocess as subp\n",
    "\n",
    "from osgeo import gdal, gdal_array\n",
    "from datetime import datetime, timedelta"
   ]
  },
  {
   "cell_type": "code",
   "execution_count": 3,
   "id": "58388abc-3af2-4e60-8374-047843444372",
   "metadata": {},
   "outputs": [
    {
     "name": "stdout",
     "output_type": "stream",
     "text": [
      "2023-01-10\n"
     ]
    }
   ],
   "source": [
    "date_tdy = datetime.today() \n",
    "date_tdy = date_tdy.strftime('%Y-%m-%d')\n",
    "print(date_tdy)\n",
    "\n",
    "ee.Initialize() # Initialize\n",
    "\n",
    "f=  open('../../../../../src/data_preprocessing/base_geojson/TL_state_shapefile_for_clip.geojson')\n",
    "data =json.load(f)\n",
    "\n",
    "data = data['features'][0]['geometry']['coordinates'][0]\n",
    "roi = ee.Geometry.Polygon(data)\n"
   ]
  },
  {
   "cell_type": "code",
   "execution_count": 4,
   "id": "8d8a0f8b-fc73-4a5e-8668-f696edaa46e9",
   "metadata": {},
   "outputs": [
    {
     "name": "stdout",
     "output_type": "stream",
     "text": [
      "1\n",
      "Total number of images: 1\n",
      "\n",
      "Exporting 1/1: 2012_01_01.tif\n",
      "Generating URL ...\n",
      "Downloading data from https://earthengine.googleapis.com/v1alpha/projects/earthengine-legacy/thumbnails/ce63f074c5a54e29614c09ede9546ac3-06453de1fdd4d37ff5ac19277a29815f:getPixels\n",
      "Please wait ...\n",
      "Data downloaded to /home/luckyw0w/dicra/analytics/sandbox/notebooks/dppd_functions/rasters/GEE_NDVItifs_scaled\n",
      "\n",
      "\n"
     ]
    }
   ],
   "source": [
    "collection_subset = ee.ImageCollection(\"MODIS/061/MOD13Q1\") \\\n",
    "    .filterDate('2012-01-01', '2012-01-11').sort('IMAGE_DATE').select('NDVI') # Only select images for the years 2016-2021\n",
    "print(collection_subset.size().getInfo()) # Shows the number of images within the subcollection\n",
    "image = collection_subset.first().select('NDVI')  # Pick the first image from the 'list' and select the layer of interest\n",
    "geemap.image_props(image).getInfo() # Finds basic info of this image\n",
    "\n",
    "out = os.path.join('GEE_NDVItifs_scaled') # Set path to where we want to save the GeoTIF\n",
    "# Now export each image within the collection to a GeoTIF\n",
    "geemap.ee_export_image_collection(collection_subset, out_dir = out, scale=1000, region=roi, file_per_band=True, crs='EPSG:4326')\n",
    "\n",
    "# image.select('NDVI').projection().nominalScale() sets the scale equal to the resolution of the images within the collection\n",
    "# file_per_band=False: all bands are downloaded and put as one file\n",
    "# file_per_band=True: each band is downloaded in a single image"
   ]
  },
  {
   "cell_type": "code",
   "execution_count": 5,
   "id": "ce01dc64",
   "metadata": {},
   "outputs": [
    {
     "name": "stdout",
     "output_type": "stream",
     "text": [
      "gdalwarp -of GTIFF  -r cubic -t_srs '+proj=longlat +datum=WGS84 +no_defs' GEE_NDVItifs_scaled/2012_01_01.tif projected/2012_01_01.tif\n",
      "Creating output file that is 454P x 456L.\n",
      "Processing GEE_NDVItifs_scaled/2012_01_01.tif [1/1] : 0Using internal nodata values (e.g. -32768) for image GEE_NDVItifs_scaled/2012_01_01.tif.\n",
      "Copying nodata values from source GEE_NDVItifs_scaled/2012_01_01.tif to destination projected/2012_01_01.tif.\n",
      "...10...20...30...40...50...60...70...80...90...100 - done.\n",
      "2012_01_01.tif\n",
      "gdalwarp -dstnodata -9999 -cutline tsdm/District_Boundary.shp -crop_to_cutline recalculated/2012_01_01.tif clipped/2012_01_01.tif\n",
      "Creating output file that is 453P x 454L.\n",
      "Processing recalculated/2012_01_01.tif [1/1] : 0...10...20...30...40...50...60...70...80...90...100 - done.\n",
      "gdal_translate clipped/2012_01_01.tif cog_ndvi/2012_01_01.tif -co COMPRESS=LZW -co TILED=YES\n",
      "Input file size is 453, 454\n",
      "0...10...20...30...40...50...60...70...80...90...100 - done.\n",
      "rm -r GEE_NDVItifs_scaled clipped projected recalculated\n"
     ]
    }
   ],
   "source": [
    "\n",
    "basepath='GEE_NDVItifs_scaled/'\n",
    "\n",
    "if 'projected' not in os.listdir():\n",
    "    os.mkdir('projected')\n",
    "else:\n",
    "    print('directory exists')\n",
    "\n",
    "arr = os.listdir('GEE_NDVItifs_scaled')\n",
    "for i in arr:\n",
    "    cmd=\"gdalwarp -of GTIFF  -r cubic -t_srs '+proj=longlat +datum=WGS84 +no_defs'\"+\" \"+basepath+str(i)+\" projected/\"+str(i)\n",
    "    print(cmd)\n",
    "    try:\n",
    "        subp.check_call(str(cmd), shell=True)\n",
    "    except:\n",
    "        print(\"end\")\n",
    "    time.sleep(1)\n",
    "\n",
    "# Open band 1 as array\n",
    "arr = os.listdir('projected/')\n",
    "\n",
    "if 'recalculated' not in os.listdir():\n",
    "    os.mkdir('recalculated')\n",
    "else:\n",
    "    print('directory exists')\n",
    "\n",
    "for i in arr:\n",
    "    ds = gdal.Open('projected/'+str(i))\n",
    "    b1 = ds.GetRasterBand(1)\n",
    "    arr_q = b1.ReadAsArray()\n",
    "   # ndv = 1\n",
    "    # apply scale factpr\n",
    "    data = arr_q*(0.0001)\n",
    "    #data = np.where(data > 1,-9999, data)\n",
    "    #data=np.where(data<0,-9999,data)\n",
    "    print(str(i))\n",
    "    # save array, using ds as a prototype\n",
    "    output=\"recalculated/\"+str(i)\n",
    "    gdal_array.SaveArray(data.astype(\"float32\"), output, \"GTIFF\", ds)\n",
    "\n",
    "    ds = None\n",
    "\n",
    "basepath='recalculated/'\n",
    "arr = os.listdir('recalculated')\n",
    "\n",
    "if 'clipped' not in os.listdir():\n",
    "    os.mkdir('clipped')\n",
    "else:\n",
    "    print('directory exists')\n",
    "    \n",
    "for i in arr:\n",
    "    cmd=\"gdalwarp -dstnodata -9999 -cutline tsdm/District_Boundary.shp -crop_to_cutline \"+basepath+str(i)+\" clipped/\"+i\n",
    "    print(cmd)\n",
    "    try:\n",
    "        subp.check_call(str(cmd), shell=True)\n",
    "    except:\n",
    "        print(\"end\")\n",
    "    time.sleep(1)\n",
    "\n",
    "arr = os.listdir('clipped/')\n",
    "\n",
    "if 'cog_ndvi' not in os.listdir():\n",
    "    os.mkdir('cog_ndvi')\n",
    "else:\n",
    "    print('directory exists')\n",
    "\n",
    "for i in arr:\n",
    "    cmd=\"gdal_translate clipped/\"+str(i)+\" cog_ndvi/\"+str(i)+\" -co COMPRESS=LZW -co TILED=YES\"\n",
    "    print(cmd)\n",
    "    try:\n",
    "        subp.check_call(str(cmd), shell=True)\n",
    "    except:\n",
    "        print(\"end\")\n",
    "    time.sleep(1)\n",
    "\n",
    "cmd=\"rm -r GEE_NDVItifs_scaled clipped projected recalculated\"\n",
    "print(cmd)\n",
    "try:\n",
    "    subp.check_call(str(cmd), shell=True)\n",
    "except:\n",
    "    print(\"end\")"
   ]
  },
  {
   "cell_type": "code",
   "execution_count": null,
   "id": "df35bb27",
   "metadata": {},
   "outputs": [],
   "source": []
  }
 ],
 "metadata": {
  "kernelspec": {
   "display_name": "Python 3.10.6 64-bit",
   "language": "python",
   "name": "python3"
  },
  "language_info": {
   "codemirror_mode": {
    "name": "ipython",
    "version": 3
   },
   "file_extension": ".py",
   "mimetype": "text/x-python",
   "name": "python",
   "nbconvert_exporter": "python",
   "pygments_lexer": "ipython3",
   "version": "3.10.6"
  },
  "vscode": {
   "interpreter": {
    "hash": "916dbcbb3f70747c44a77c7bcd40155683ae19c65e1c03b4aa3499c5328201f1"
   }
  }
 },
 "nbformat": 4,
 "nbformat_minor": 5
}
