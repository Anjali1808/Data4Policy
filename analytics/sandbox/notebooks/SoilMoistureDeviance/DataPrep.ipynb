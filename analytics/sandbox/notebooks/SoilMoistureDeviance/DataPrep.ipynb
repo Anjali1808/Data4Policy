{
 "cells": [
  {
   "cell_type": "code",
   "execution_count": 3,
   "id": "f9d9d215-8efb-48ff-865b-d9c19212f5e2",
   "metadata": {},
   "outputs": [],
   "source": [
    "import os \n",
    "from osgeo import gdal\n",
    "import matplotlib.pyplot as plt\n",
    "import numpy as np\n",
    "import rasterio\n",
    "from rasterio.plot import show\n",
    "import pandas as pd\n",
    "import warnings\n",
    "warnings.filterwarnings(\"ignore\")"
   ]
  },
  {
   "cell_type": "markdown",
   "id": "5ec48742",
   "metadata": {},
   "source": [
    "# checkpoint - shivagpandey"
   ]
  },
  {
   "cell_type": "code",
   "execution_count": 7,
   "id": "d0055179",
   "metadata": {},
   "outputs": [
    {
     "data": {
      "text/plain": [
       "array([[[-999., -999., -999., -999., -999.],\n",
       "        [-999., -999., -999., -999., -999.],\n",
       "        [-999., -999., -999., -999., -999.],\n",
       "        ...,\n",
       "        [-999., -999., -999., -999., -999.],\n",
       "        [-999., -999., -999., -999., -999.],\n",
       "        [-999., -999., -999., -999., -999.]],\n",
       "\n",
       "       [[-999., -999., -999., -999., -999.],\n",
       "        [-999., -999., -999., -999., -999.],\n",
       "        [-999., -999., -999., -999., -999.],\n",
       "        ...,\n",
       "        [-999., -999., -999., -999., -999.],\n",
       "        [-999., -999., -999., -999., -999.],\n",
       "        [-999., -999., -999., -999., -999.]],\n",
       "\n",
       "       [[-999., -999., -999., -999., -999.],\n",
       "        [-999., -999., -999., -999., -999.],\n",
       "        [-999., -999., -999., -999., -999.],\n",
       "        ...,\n",
       "        [-999., -999., -999., -999., -999.],\n",
       "        [-999., -999., -999., -999., -999.],\n",
       "        [-999., -999., -999., -999., -999.]],\n",
       "\n",
       "       ...,\n",
       "\n",
       "       [[-999., -999., -999., -999., -999.],\n",
       "        [-999., -999., -999., -999., -999.],\n",
       "        [-999., -999., -999., -999., -999.],\n",
       "        ...,\n",
       "        [-999., -999., -999., -999., -999.],\n",
       "        [-999., -999., -999., -999., -999.],\n",
       "        [-999., -999., -999., -999., -999.]],\n",
       "\n",
       "       [[-999., -999., -999., -999., -999.],\n",
       "        [-999., -999., -999., -999., -999.],\n",
       "        [-999., -999., -999., -999., -999.],\n",
       "        ...,\n",
       "        [-999., -999., -999., -999., -999.],\n",
       "        [-999., -999., -999., -999., -999.],\n",
       "        [-999., -999., -999., -999., -999.]],\n",
       "\n",
       "       [[-999., -999., -999., -999., -999.],\n",
       "        [-999., -999., -999., -999., -999.],\n",
       "        [-999., -999., -999., -999., -999.],\n",
       "        ...,\n",
       "        [-999., -999., -999., -999., -999.],\n",
       "        [-999., -999., -999., -999., -999.],\n",
       "        [-999., -999., -999., -999., -999.]]], dtype=float32)"
      ]
     },
     "execution_count": 7,
     "metadata": {},
     "output_type": "execute_result"
    }
   ],
   "source": [
    "url = 'https://gimms.gsfc.nasa.gov/SMOS/SMAP/SMAP_10KM_tiff/NASA_USDA_SMAP_SM20150402_20150404.tif'\n",
    "import requests\n",
    "import tifffile as tiff\n",
    "import io\n",
    "\n",
    "\n",
    "def read_image_from_url(url):\n",
    "    resp = requests.get(url)\n",
    "    # Check that request succeeded\n",
    "    return tiff.imread(io.BytesIO(resp.content))\n",
    "\n",
    "read_image_from_url(url)\n"
   ]
  },
  {
   "cell_type": "markdown",
   "id": "cc10556d",
   "metadata": {},
   "source": [
    "# checkpoint end"
   ]
  },
  {
   "cell_type": "code",
   "execution_count": 19,
   "id": "dacae0cf-dc7d-4f34-aea0-7bfd7b3c3f42",
   "metadata": {},
   "outputs": [],
   "source": [
    "path = r\"SM//\""
   ]
  },
  {
   "cell_type": "code",
   "execution_count": 20,
   "id": "d6c309b3-a78d-4b70-b8b7-e6ffa35e3ecb",
   "metadata": {},
   "outputs": [],
   "source": [
    "global_dataset = [ds for ds in os.listdir(path) if ds[-4:] == '.tif']"
   ]
  },
  {
   "cell_type": "code",
   "execution_count": 21,
   "id": "adc7759e-e24b-4abe-aba4-f891b22c4224",
   "metadata": {},
   "outputs": [
    {
     "name": "stdout",
     "output_type": "stream",
     "text": [
      "Imported 88 items\n"
     ]
    }
   ],
   "source": [
    "print(\"Imported\", len(global_dataset), \"items\")"
   ]
  },
  {
   "cell_type": "code",
   "execution_count": 22,
   "id": "0a85b1ab-3bfb-427c-bbb3-92305d25d320",
   "metadata": {},
   "outputs": [],
   "source": [
    "img = gdal.Open(path+\"//\"+global_dataset[0])"
   ]
  },
  {
   "cell_type": "code",
   "execution_count": 23,
   "id": "abeed0cc-15b4-4c09-a448-682d5596603b",
   "metadata": {},
   "outputs": [],
   "source": [
    "image = np.array(img.GetRasterBand(1).ReadAsArray())"
   ]
  },
  {
   "cell_type": "code",
   "execution_count": 24,
   "id": "b93ad7e6-52ce-4c26-8071-41d8a4103844",
   "metadata": {},
   "outputs": [
    {
     "name": "stdout",
     "output_type": "stream",
     "text": [
      "[[-999. -999. -999. ... -999. -999. -999.]\n",
      " [-999. -999. -999. ... -999. -999. -999.]\n",
      " [-999. -999. -999. ... -999. -999. -999.]\n",
      " ...\n",
      " [-999. -999. -999. ... -999. -999. -999.]\n",
      " [-999. -999. -999. ... -999. -999. -999.]\n",
      " [-999. -999. -999. ... -999. -999. -999.]]\n"
     ]
    }
   ],
   "source": [
    "print(image)"
   ]
  },
  {
   "cell_type": "code",
   "execution_count": 25,
   "id": "53807d73-4efb-4790-a0dd-6d099215a72c",
   "metadata": {},
   "outputs": [],
   "source": [
    "dataset = [ds for ds in os.listdir(path) if ds[-4:] == '.tif']"
   ]
  },
  {
   "cell_type": "code",
   "execution_count": 26,
   "id": "1d449022-0450-41b1-89a9-445d61a8d4e4",
   "metadata": {},
   "outputs": [],
   "source": [
    "def getImages(dataset,path):\n",
    "    Imagedata = []\n",
    "    for data in dataset:\n",
    "        img = gdal.Open(path+\"//\"+data)\n",
    "        image = np.array(img.GetRasterBand(1).ReadAsArray())\n",
    "        Imagedata.append(image)\n",
    "    return Imagedata"
   ]
  },
  {
   "cell_type": "code",
   "execution_count": 27,
   "id": "85db8623-5104-4558-891d-bc3e3b277e6d",
   "metadata": {},
   "outputs": [],
   "source": [
    "imagedata = getImages(dataset,path)"
   ]
  },
  {
   "cell_type": "code",
   "execution_count": 28,
   "id": "1b0a6cb7-da90-416b-b40e-033c7539a63a",
   "metadata": {},
   "outputs": [],
   "source": [
    "dataset = [imagedata]\n",
    "columns = [\"Year1\"]"
   ]
  },
  {
   "cell_type": "code",
   "execution_count": 29,
   "id": "d2fac9c9-39b2-4488-9799-54fbc1bffcc0",
   "metadata": {},
   "outputs": [],
   "source": [
    "#data needs to be in the format \n",
    "#Year1  month1  pixel1 pixel2 pixel3\n",
    "#Year1  month2  pixel1 pixel2 pixel3\n",
    "count = 0;\n",
    "from itertools import chain\n",
    "yearlydata = []\n",
    "df = pd.DataFrame()\n",
    "\n",
    "for months in dataset:\n",
    "    #print(len(months))\n",
    "    yearlydata = []\n",
    "    for month in months:\n",
    "        monthlydatapixel = list(chain.from_iterable(month))\n",
    "        #print(len(monthlydatapixel))\n",
    "        yearlydata.append(monthlydatapixel)\n",
    "    df = df.append(yearlydata)\n",
    "   "
   ]
  },
  {
   "cell_type": "code",
   "execution_count": 30,
   "id": "c7986a89-a754-4d58-9650-5a0ed44d0c1c",
   "metadata": {},
   "outputs": [
    {
     "data": {
      "text/html": [
       "<div>\n",
       "<style scoped>\n",
       "    .dataframe tbody tr th:only-of-type {\n",
       "        vertical-align: middle;\n",
       "    }\n",
       "\n",
       "    .dataframe tbody tr th {\n",
       "        vertical-align: top;\n",
       "    }\n",
       "\n",
       "    .dataframe thead th {\n",
       "        text-align: right;\n",
       "    }\n",
       "</style>\n",
       "<table border=\"1\" class=\"dataframe\">\n",
       "  <thead>\n",
       "    <tr style=\"text-align: right;\">\n",
       "      <th></th>\n",
       "      <th>0</th>\n",
       "      <th>1</th>\n",
       "      <th>2</th>\n",
       "      <th>3</th>\n",
       "      <th>4</th>\n",
       "      <th>5</th>\n",
       "      <th>6</th>\n",
       "      <th>7</th>\n",
       "      <th>8</th>\n",
       "      <th>9</th>\n",
       "      <th>...</th>\n",
       "      <th>4151</th>\n",
       "      <th>4152</th>\n",
       "      <th>4153</th>\n",
       "      <th>4154</th>\n",
       "      <th>4155</th>\n",
       "      <th>4156</th>\n",
       "      <th>4157</th>\n",
       "      <th>4158</th>\n",
       "      <th>4159</th>\n",
       "      <th>4160</th>\n",
       "    </tr>\n",
       "  </thead>\n",
       "  <tbody>\n",
       "    <tr>\n",
       "      <th>0</th>\n",
       "      <td>-999.0</td>\n",
       "      <td>-999.0</td>\n",
       "      <td>-999.0</td>\n",
       "      <td>-999.0</td>\n",
       "      <td>-999.0</td>\n",
       "      <td>-999.0</td>\n",
       "      <td>-999.0</td>\n",
       "      <td>-999.0</td>\n",
       "      <td>-999.0</td>\n",
       "      <td>-999.0</td>\n",
       "      <td>...</td>\n",
       "      <td>-999.0</td>\n",
       "      <td>-999.0</td>\n",
       "      <td>-999.0</td>\n",
       "      <td>-999.0</td>\n",
       "      <td>-999.0</td>\n",
       "      <td>-999.0</td>\n",
       "      <td>-999.0</td>\n",
       "      <td>-999.0</td>\n",
       "      <td>-999.0</td>\n",
       "      <td>-999.0</td>\n",
       "    </tr>\n",
       "    <tr>\n",
       "      <th>1</th>\n",
       "      <td>-999.0</td>\n",
       "      <td>-999.0</td>\n",
       "      <td>-999.0</td>\n",
       "      <td>-999.0</td>\n",
       "      <td>-999.0</td>\n",
       "      <td>-999.0</td>\n",
       "      <td>-999.0</td>\n",
       "      <td>-999.0</td>\n",
       "      <td>-999.0</td>\n",
       "      <td>-999.0</td>\n",
       "      <td>...</td>\n",
       "      <td>-999.0</td>\n",
       "      <td>-999.0</td>\n",
       "      <td>-999.0</td>\n",
       "      <td>-999.0</td>\n",
       "      <td>-999.0</td>\n",
       "      <td>-999.0</td>\n",
       "      <td>-999.0</td>\n",
       "      <td>-999.0</td>\n",
       "      <td>-999.0</td>\n",
       "      <td>-999.0</td>\n",
       "    </tr>\n",
       "    <tr>\n",
       "      <th>2</th>\n",
       "      <td>-999.0</td>\n",
       "      <td>-999.0</td>\n",
       "      <td>-999.0</td>\n",
       "      <td>-999.0</td>\n",
       "      <td>-999.0</td>\n",
       "      <td>-999.0</td>\n",
       "      <td>-999.0</td>\n",
       "      <td>-999.0</td>\n",
       "      <td>-999.0</td>\n",
       "      <td>-999.0</td>\n",
       "      <td>...</td>\n",
       "      <td>-999.0</td>\n",
       "      <td>-999.0</td>\n",
       "      <td>-999.0</td>\n",
       "      <td>-999.0</td>\n",
       "      <td>-999.0</td>\n",
       "      <td>-999.0</td>\n",
       "      <td>-999.0</td>\n",
       "      <td>-999.0</td>\n",
       "      <td>-999.0</td>\n",
       "      <td>-999.0</td>\n",
       "    </tr>\n",
       "    <tr>\n",
       "      <th>3</th>\n",
       "      <td>-999.0</td>\n",
       "      <td>-999.0</td>\n",
       "      <td>-999.0</td>\n",
       "      <td>-999.0</td>\n",
       "      <td>-999.0</td>\n",
       "      <td>-999.0</td>\n",
       "      <td>-999.0</td>\n",
       "      <td>-999.0</td>\n",
       "      <td>-999.0</td>\n",
       "      <td>-999.0</td>\n",
       "      <td>...</td>\n",
       "      <td>-999.0</td>\n",
       "      <td>-999.0</td>\n",
       "      <td>-999.0</td>\n",
       "      <td>-999.0</td>\n",
       "      <td>-999.0</td>\n",
       "      <td>-999.0</td>\n",
       "      <td>-999.0</td>\n",
       "      <td>-999.0</td>\n",
       "      <td>-999.0</td>\n",
       "      <td>-999.0</td>\n",
       "    </tr>\n",
       "    <tr>\n",
       "      <th>4</th>\n",
       "      <td>-999.0</td>\n",
       "      <td>-999.0</td>\n",
       "      <td>-999.0</td>\n",
       "      <td>-999.0</td>\n",
       "      <td>-999.0</td>\n",
       "      <td>-999.0</td>\n",
       "      <td>-999.0</td>\n",
       "      <td>-999.0</td>\n",
       "      <td>-999.0</td>\n",
       "      <td>-999.0</td>\n",
       "      <td>...</td>\n",
       "      <td>-999.0</td>\n",
       "      <td>-999.0</td>\n",
       "      <td>-999.0</td>\n",
       "      <td>-999.0</td>\n",
       "      <td>-999.0</td>\n",
       "      <td>-999.0</td>\n",
       "      <td>-999.0</td>\n",
       "      <td>-999.0</td>\n",
       "      <td>-999.0</td>\n",
       "      <td>-999.0</td>\n",
       "    </tr>\n",
       "  </tbody>\n",
       "</table>\n",
       "<p>5 rows × 4161 columns</p>\n",
       "</div>"
      ],
      "text/plain": [
       "    0      1      2      3      4      5      6      7      8      9     ...  \\\n",
       "0 -999.0 -999.0 -999.0 -999.0 -999.0 -999.0 -999.0 -999.0 -999.0 -999.0  ...   \n",
       "1 -999.0 -999.0 -999.0 -999.0 -999.0 -999.0 -999.0 -999.0 -999.0 -999.0  ...   \n",
       "2 -999.0 -999.0 -999.0 -999.0 -999.0 -999.0 -999.0 -999.0 -999.0 -999.0  ...   \n",
       "3 -999.0 -999.0 -999.0 -999.0 -999.0 -999.0 -999.0 -999.0 -999.0 -999.0  ...   \n",
       "4 -999.0 -999.0 -999.0 -999.0 -999.0 -999.0 -999.0 -999.0 -999.0 -999.0  ...   \n",
       "\n",
       "    4151   4152   4153   4154   4155   4156   4157   4158   4159   4160  \n",
       "0 -999.0 -999.0 -999.0 -999.0 -999.0 -999.0 -999.0 -999.0 -999.0 -999.0  \n",
       "1 -999.0 -999.0 -999.0 -999.0 -999.0 -999.0 -999.0 -999.0 -999.0 -999.0  \n",
       "2 -999.0 -999.0 -999.0 -999.0 -999.0 -999.0 -999.0 -999.0 -999.0 -999.0  \n",
       "3 -999.0 -999.0 -999.0 -999.0 -999.0 -999.0 -999.0 -999.0 -999.0 -999.0  \n",
       "4 -999.0 -999.0 -999.0 -999.0 -999.0 -999.0 -999.0 -999.0 -999.0 -999.0  \n",
       "\n",
       "[5 rows x 4161 columns]"
      ]
     },
     "execution_count": 30,
     "metadata": {},
     "output_type": "execute_result"
    }
   ],
   "source": [
    "#df = pd.DataFrame(data = dataset, columns = columns)\n",
    "df.head(5)"
   ]
  },
  {
   "cell_type": "code",
   "execution_count": 31,
   "id": "675603fa-23dd-48a8-8993-1c07e7ec3e73",
   "metadata": {},
   "outputs": [],
   "source": [
    "df = df.loc[:, (df != 0).any(axis=0)]\n",
    "df = df.loc[:, (df != -999).any(axis=0)]\n",
    "df = df.T.reset_index(drop=True).T"
   ]
  },
  {
   "cell_type": "code",
   "execution_count": 32,
   "id": "09aa9dca-49e7-4c8b-98b2-b5bc28c23f59",
   "metadata": {},
   "outputs": [
    {
     "data": {
      "text/html": [
       "<div>\n",
       "<style scoped>\n",
       "    .dataframe tbody tr th:only-of-type {\n",
       "        vertical-align: middle;\n",
       "    }\n",
       "\n",
       "    .dataframe tbody tr th {\n",
       "        vertical-align: top;\n",
       "    }\n",
       "\n",
       "    .dataframe thead th {\n",
       "        text-align: right;\n",
       "    }\n",
       "</style>\n",
       "<table border=\"1\" class=\"dataframe\">\n",
       "  <thead>\n",
       "    <tr style=\"text-align: right;\">\n",
       "      <th></th>\n",
       "      <th>0</th>\n",
       "      <th>1</th>\n",
       "      <th>2</th>\n",
       "      <th>3</th>\n",
       "      <th>4</th>\n",
       "      <th>5</th>\n",
       "      <th>6</th>\n",
       "      <th>7</th>\n",
       "      <th>8</th>\n",
       "      <th>9</th>\n",
       "      <th>...</th>\n",
       "      <th>1994</th>\n",
       "      <th>1995</th>\n",
       "      <th>1996</th>\n",
       "      <th>1997</th>\n",
       "      <th>1998</th>\n",
       "      <th>1999</th>\n",
       "      <th>2000</th>\n",
       "      <th>2001</th>\n",
       "      <th>2002</th>\n",
       "      <th>2003</th>\n",
       "    </tr>\n",
       "  </thead>\n",
       "  <tbody>\n",
       "    <tr>\n",
       "      <th>0</th>\n",
       "      <td>2.549002</td>\n",
       "      <td>2.829386</td>\n",
       "      <td>2.829386</td>\n",
       "      <td>3.751292</td>\n",
       "      <td>4.225150</td>\n",
       "      <td>2.257778</td>\n",
       "      <td>3.173797</td>\n",
       "      <td>3.163929</td>\n",
       "      <td>3.163929</td>\n",
       "      <td>2.876361</td>\n",
       "      <td>...</td>\n",
       "      <td>2.116667</td>\n",
       "      <td>2.116667</td>\n",
       "      <td>2.357201</td>\n",
       "      <td>1.847273</td>\n",
       "      <td>1.847273</td>\n",
       "      <td>2.178894</td>\n",
       "      <td>2.532894</td>\n",
       "      <td>2.532894</td>\n",
       "      <td>2.125161</td>\n",
       "      <td>2.192698</td>\n",
       "    </tr>\n",
       "    <tr>\n",
       "      <th>1</th>\n",
       "      <td>4.188626</td>\n",
       "      <td>3.091398</td>\n",
       "      <td>3.091398</td>\n",
       "      <td>4.527487</td>\n",
       "      <td>6.681919</td>\n",
       "      <td>4.198399</td>\n",
       "      <td>3.451913</td>\n",
       "      <td>2.927097</td>\n",
       "      <td>2.927097</td>\n",
       "      <td>3.950414</td>\n",
       "      <td>...</td>\n",
       "      <td>7.561326</td>\n",
       "      <td>7.561326</td>\n",
       "      <td>5.984145</td>\n",
       "      <td>6.350387</td>\n",
       "      <td>1.847273</td>\n",
       "      <td>2.982864</td>\n",
       "      <td>5.280305</td>\n",
       "      <td>5.280305</td>\n",
       "      <td>7.252660</td>\n",
       "      <td>2.364489</td>\n",
       "    </tr>\n",
       "  </tbody>\n",
       "</table>\n",
       "<p>2 rows × 2004 columns</p>\n",
       "</div>"
      ],
      "text/plain": [
       "       0         1         2         3         4         5         6     \\\n",
       "0  2.549002  2.829386  2.829386  3.751292  4.225150  2.257778  3.173797   \n",
       "1  4.188626  3.091398  3.091398  4.527487  6.681919  4.198399  3.451913   \n",
       "\n",
       "       7         8         9     ...      1994      1995      1996      1997  \\\n",
       "0  3.163929  3.163929  2.876361  ...  2.116667  2.116667  2.357201  1.847273   \n",
       "1  2.927097  2.927097  3.950414  ...  7.561326  7.561326  5.984145  6.350387   \n",
       "\n",
       "       1998      1999      2000      2001      2002      2003  \n",
       "0  1.847273  2.178894  2.532894  2.532894  2.125161  2.192698  \n",
       "1  1.847273  2.982864  5.280305  5.280305  7.252660  2.364489  \n",
       "\n",
       "[2 rows x 2004 columns]"
      ]
     },
     "execution_count": 32,
     "metadata": {},
     "output_type": "execute_result"
    }
   ],
   "source": [
    "df.head(2)"
   ]
  },
  {
   "cell_type": "code",
   "execution_count": 33,
   "id": "79779a1e-7b57-4d23-a576-3690c57a02d4",
   "metadata": {},
   "outputs": [],
   "source": [
    "df.to_csv(\"MaharashtraData.csv\",index=True)"
   ]
  },
  {
   "cell_type": "code",
   "execution_count": 36,
   "id": "d10b3bfd-dd16-49c9-ae72-d13a8af31d5c",
   "metadata": {},
   "outputs": [],
   "source": [
    "img = rasterio.open(\"C://Users//007sh//Desktop//UNDP//SM//NASA_USDA_SMAP_SM10.ssm.tif\")"
   ]
  },
  {
   "cell_type": "code",
   "execution_count": 37,
   "id": "55a6838e-3641-47b6-a147-ed7e2738d4d8",
   "metadata": {},
   "outputs": [
    {
     "data": {
      "image/png": "[encoded data removed]",
      "text/plain": [
       "<Figure size 432x288 with 1 Axes>"
      ]
     },
     "metadata": {
      "needs_background": "light"
     },
     "output_type": "display_data"
    },
    {
     "data": {
      "text/plain": [
       "<AxesSubplot:>"
      ]
     },
     "execution_count": 37,
     "metadata": {},
     "output_type": "execute_result"
    }
   ],
   "source": [
    "show(img)"
   ]
  },
  {
   "cell_type": "code",
   "execution_count": 41,
   "id": "5a5796fa-d3ff-486e-95a1-ad0dea4dd765",
   "metadata": {},
   "outputs": [
    {
     "name": "stderr",
     "output_type": "stream",
     "text": [
      "[2022-07-27 09:39:06 - INFO] - Getting geotransform and data...\n",
      "[2022-07-27 09:39:06 - INFO] - Getting XYZ data...\n",
      "[2022-07-27 09:39:06 - INFO] - Getting geotransformed coordinates...\n",
      "[2022-07-27 09:39:06 - INFO] - Building XYZ data...\n",
      "[2022-07-27 09:39:06 - INFO] - New XYZ (csv file) created...\n"
     ]
    }
   ],
   "source": [
    "from raster2xyz.raster2xyz import Raster2xyz\n",
    "\n",
    "input_raster = \"C://Users//007sh//Desktop//UNDP//SM//NASA_USDA_SMAP_SM10.ssm.tif\"\n",
    "out_csv = \"temp.csv\"\n",
    "\n",
    "rtxyz = Raster2xyz()\n",
    "rtxyz.translate(input_raster, out_csv)\n",
    "\n",
    "myRasterDF = pd.read_csv(out_csv)\n",
    "myRasterDF=myRasterDF[myRasterDF[\"z\"] != 0]\n",
    "myRasterDF=myRasterDF[myRasterDF[\"z\"] != -999]\n",
    "myRasterDF.to_csv(\"Maharashtracoordinates.csv\")"
   ]
  },
  {
   "cell_type": "code",
   "execution_count": null,
   "id": "a965a644-852e-4ad8-8a74-95088e913b59",
   "metadata": {},
   "outputs": [],
   "source": []
  }
 ],
 "metadata": {
  "kernelspec": {
   "display_name": "Python 3.10.6 64-bit",
   "language": "python",
   "name": "python3"
  },
  "language_info": {
   "codemirror_mode": {
    "name": "ipython",
    "version": 3
   },
   "file_extension": ".py",
   "mimetype": "text/x-python",
   "name": "python",
   "nbconvert_exporter": "python",
   "pygments_lexer": "ipython3",
   "version": "3.10.6"
  },
  "vscode": {
   "interpreter": {
    "hash": "916dbcbb3f70747c44a77c7bcd40155683ae19c65e1c03b4aa3499c5328201f1"
   }
  }
 },
 "nbformat": 4,
 "nbformat_minor": 5
}
