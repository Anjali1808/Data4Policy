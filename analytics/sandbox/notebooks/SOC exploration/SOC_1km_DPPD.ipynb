{
 "cells": [
  {
   "cell_type": "code",
   "execution_count": null,
   "metadata": {},
   "outputs": [],
   "source": [
    "import warnings\n",
    "warnings.filterwarnings('ignore')\n",
    "\n",
    "import geopandas as gpd\n",
    "import pandas as pd\n",
    "import rasterio\n",
    "from rasterstats import zonal_stats\n",
    "import seaborn as sns\n",
    "from sklearn.linear_model import LinearRegression\n",
    "import matplotlib.pyplot as plt\n",
    "from osgeo import gdal\n"
   ]
  },
  {
   "cell_type": "code",
   "execution_count": null,
   "metadata": {},
   "outputs": [],
   "source": [
    "data1 = gpd.read_file('../../../../src/data_preprocessing/base_geojson/Telangana_grid1km.geojson')"
   ]
  },
  {
   "cell_type": "code",
   "execution_count": null,
   "metadata": {},
   "outputs": [],
   "source": [
    "def meavaluesgrid(tif, data):\n",
    "    mean_list = []\n",
    "    for j in range(len(data)):                #iterating all rows of dataframe to get point info\n",
    "        stats = zonal_stats(data.iloc[j].geometry, tif, stats=\"*\", categorical=True)         #getting statistics from the raster point \n",
    "        i = stats[0]                                                                          #storing statsistical dictionary in a value\n",
    "        mean = i['mean']\n",
    "        mean_list.append(mean)\n",
    "    return(mean_list)"
   ]
  },
  {
   "cell_type": "code",
   "execution_count": null,
   "metadata": {},
   "outputs": [],
   "source": [
    "data = data1.reset_index()\n",
    "#data = data.head(100)\n",
    "soc_mandal = gpd.GeoDataFrame()\n",
    "mean_list = meavaluesgrid('SoilOrganicCarbon/SOC_2020_0-5cm.tif', data)\n",
    "soc_mandal['soc'] = mean_list\n",
    "mean_list = meavaluesgrid('SoilOrganicCarbon/NDVI.tif',data)\n",
    "soc_mandal['ndvi'] = mean_list\n",
    "mean_list = meavaluesgrid('SoilOrganicCarbon/SoilBulkDensity_0-5cm.tif', data)\n",
    "soc_mandal['bulkdensity'] = mean_list\n",
    "mean_list = meavaluesgrid('SoilOrganicCarbon/ClayContent_0-5cm.tif', data)\n",
    "soc_mandal['clay'] = mean_list\n",
    "mean_list = meavaluesgrid('SoilOrganicCarbon/DEM.tif', data)\n",
    "soc_mandal['dem'] = mean_list\n",
    "\n",
    "soc_mandal['geometry'] = data.geometry"
   ]
  },
  {
   "cell_type": "code",
   "execution_count": null,
   "metadata": {},
   "outputs": [],
   "source": [
    "soc_mandal = soc_mandal.dropna()"
   ]
  },
  {
   "cell_type": "code",
   "execution_count": null,
   "metadata": {},
   "outputs": [],
   "source": [
    "import numpy as np\n",
    "\n",
    "X = soc_mandal.values[:,1:5]\n",
    "y =soc_mandal.soc\n",
    "\n",
    "reg = LinearRegression().fit(X, y)\n",
    "y_pred_trend = reg.predict(X)\n",
    "\n",
    "from sklearn.metrics import mean_absolute_error\n",
    "from sklearn.metrics import mean_squared_error\n",
    "\n",
    "print('Regression Score: ',reg.score(X, y))\n",
    "print('Mean Absolute Error: ',mean_absolute_error(y, y_pred_trend))\n",
    "print('Root Mean Squared Error: ',mean_squared_error(y, y_pred_trend, squared=False))"
   ]
  },
  {
   "cell_type": "code",
   "execution_count": null,
   "metadata": {},
   "outputs": [],
   "source": [
    "res = np.subtract(y,y_pred_trend)\n",
    "#norm = (res - res.min())/ (res.max() - res.min())\n",
    "data_norm = np.where(res >= 0, res/np.max(res), -res/np.min(res))\n",
    "#data_norm1 = (norm - 0.5)/ 0.5\n",
    "soc_mandal['y_pred'] = list(y_pred_trend)\n",
    "soc_mandal['deviance'] = list(data_norm)\n",
    "\n",
    "#base = soc_mandal.plot(color='white', edgecolor='black', figsize=(15,15))\n",
    "#soc_mandal.plot(column='deviance', ax=base, cmap='RdYlGn', legend=True, legend_kwds={'label': \"Deviance\"}, figsize=(8,8))"
   ]
  },
  {
   "cell_type": "code",
   "execution_count": null,
   "metadata": {},
   "outputs": [],
   "source": [
    "soc_mandal.to_file('soc_deviance1km.geojson')"
   ]
  }
 ],
 "metadata": {
  "kernelspec": {
   "display_name": "Python 3.10.6 64-bit",
   "language": "python",
   "name": "python3"
  },
  "language_info": {
   "name": "python",
   "version": "3.10.6"
  },
  "orig_nbformat": 4,
  "vscode": {
   "interpreter": {
    "hash": "916dbcbb3f70747c44a77c7bcd40155683ae19c65e1c03b4aa3499c5328201f1"
   }
  }
 },
 "nbformat": 4,
 "nbformat_minor": 2
}
