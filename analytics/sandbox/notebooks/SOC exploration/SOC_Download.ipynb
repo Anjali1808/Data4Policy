{
 "cells": [
  {
   "cell_type": "code",
   "execution_count": 12,
   "metadata": {},
   "outputs": [],
   "source": [
    "import matplotlib.pyplot as plt\n",
    "from soilgrids import SoilGrids\n",
    "import geopandas as gpd\n",
    "import os\n",
    "import subprocess as subp\n",
    "import time\n",
    "from osgeo import gdal, gdal_array"
   ]
  },
  {
   "cell_type": "code",
   "execution_count": 40,
   "metadata": {},
   "outputs": [],
   "source": [
    "geojson = '../../../../src/data_preprocessing/base_geojson/TL_state_shapefile_for_clip.geojson'\n",
    "gdf = gpd.read_file(geojson)\n",
    "gdf = gdf.to_crs(3857) # because Soilgrid data is in EPSG:3857\n",
    "bnd  = gdf.bounds #get corner points"
   ]
  },
  {
   "cell_type": "code",
   "execution_count": 17,
   "metadata": {},
   "outputs": [],
   "source": [
    "os.mkdir('soil') #create directory to save file"
   ]
  },
  {
   "cell_type": "markdown",
   "metadata": {},
   "source": [
    "SOC"
   ]
  },
  {
   "cell_type": "code",
   "execution_count": 18,
   "metadata": {},
   "outputs": [
    {
     "name": "stdout",
     "output_type": "stream",
     "text": [
      "variable_name: Soil organic carbon content\n",
      "variable_units: dg/kg\n",
      "service_url: https://maps.isric.org/mapserv?map=/map/soc.map\n",
      "service_id: soc\n",
      "coverage_id: soc_0-5cm_mean\n",
      "crs: urn:ogc:def:crs:EPSG::3857\n",
      "bounding_box: (8598011.842434999, 1785788.1580495879, 9051922.07251603, 2263189.1948075155)\n",
      "grid_res: [250, 250]\n"
     ]
    }
   ],
   "source": [
    "# get data from SoilGrids\n",
    "soil_grids = SoilGrids()\n",
    "data = soil_grids.get_coverage_data(service_id='soc', coverage_id='soc_0-5cm_mean', \n",
    "                                    #height=2000,width=2000,\n",
    "                                       west=bnd.minx[0], south=bnd.miny[0], east=bnd.maxx[0], north=bnd.maxy[0],  \n",
    "                                       crs='urn:ogc:def:crs:EPSG::3857',output='soil/soc_0-5cm_mean_telangana.tif')\n",
    "\n",
    "# show metadata\n",
    "for key, value in soil_grids.metadata.items():\n",
    "    print('{}: {}'.format(key,value))\n"
   ]
  },
  {
   "cell_type": "markdown",
   "metadata": {},
   "source": [
    "CLay"
   ]
  },
  {
   "cell_type": "code",
   "execution_count": 19,
   "metadata": {},
   "outputs": [
    {
     "name": "stdout",
     "output_type": "stream",
     "text": [
      "variable_name: Clay content\n",
      "variable_units: g/kg\n",
      "service_url: https://maps.isric.org/mapserv?map=/map/clay.map\n",
      "service_id: clay\n",
      "coverage_id: clay_0-5cm_mean\n",
      "crs: urn:ogc:def:crs:EPSG::3857\n",
      "bounding_box: (8598011.842434999, 1785788.1580495879, 9051922.07251603, 2263189.1948075155)\n",
      "grid_res: [250, 250]\n"
     ]
    }
   ],
   "source": [
    "# get data from SoilGrids\n",
    "soil_grids = SoilGrids()\n",
    "data = soil_grids.get_coverage_data(service_id='clay', coverage_id='clay_0-5cm_mean', \n",
    "                                    #height=2000,width=2000,\n",
    "                                       west=bnd.minx[0], south=bnd.miny[0], east=bnd.maxx[0], north=bnd.maxy[0],  \n",
    "                                       crs='urn:ogc:def:crs:EPSG::3857',output='soil/clay_0-5cm_mean_telangana.tif')\n",
    "\n",
    "# show metadata\n",
    "for key, value in soil_grids.metadata.items():\n",
    "    print('{}: {}'.format(key,value))"
   ]
  },
  {
   "cell_type": "markdown",
   "metadata": {},
   "source": [
    "Bulk Density"
   ]
  },
  {
   "cell_type": "code",
   "execution_count": 20,
   "metadata": {},
   "outputs": [
    {
     "name": "stdout",
     "output_type": "stream",
     "text": [
      "variable_name: Bulk density\n",
      "variable_units: cg/cm3\n",
      "service_url: https://maps.isric.org/mapserv?map=/map/bdod.map\n",
      "service_id: bdod\n",
      "coverage_id: bdod_0-5cm_mean\n",
      "crs: urn:ogc:def:crs:EPSG::3857\n",
      "bounding_box: (8598011.842434999, 1785788.1580495879, 9051922.07251603, 2263189.1948075155)\n",
      "grid_res: [250, 250]\n"
     ]
    }
   ],
   "source": [
    "# get data from SoilGrids\n",
    "soil_grids = SoilGrids()\n",
    "data = soil_grids.get_coverage_data(service_id='bdod', coverage_id='bdod_0-5cm_mean', \n",
    "                                    #height=2000,width=2000,\n",
    "                                       west=bnd.minx[0], south=bnd.miny[0], east=bnd.maxx[0], north=bnd.maxy[0],  \n",
    "                                       crs='urn:ogc:def:crs:EPSG::3857',output='soil/bdod_0-5cm_mean_telangana.tif')\n",
    "\n",
    "# show metadata\n",
    "for key, value in soil_grids.metadata.items():\n",
    "    print('{}: {}'.format(key,value))"
   ]
  },
  {
   "cell_type": "markdown",
   "metadata": {},
   "source": [
    "Reproject, Clip and create COG"
   ]
  },
  {
   "cell_type": "code",
   "execution_count": 21,
   "metadata": {},
   "outputs": [
    {
     "name": "stdout",
     "output_type": "stream",
     "text": [
      "directory exists\n",
      "gdalwarp -of GTIFF  -r cubic -t_srs '+proj=longlat +datum=WGS84 +no_defs' soil/soc_0-5cm_mean_telangana.tif projected/soc_0-5cm_mean_telangana.tif\n",
      "Creating output file that is 1863P x 1864L.\n",
      "Processing soil/soc_0-5cm_mean_telangana.tif [1/1] : 0...10...20...30...40...50...60...70...80...90...100 - done.\n",
      "gdalwarp -of GTIFF  -r cubic -t_srs '+proj=longlat +datum=WGS84 +no_defs' soil/clay_0-5cm_mean_telangana.tif projected/clay_0-5cm_mean_telangana.tif\n",
      "Creating output file that is 1863P x 1864L.\n",
      "Processing soil/clay_0-5cm_mean_telangana.tif [1/1] : 0...10...20...30...40...50...60...70...80...90...100 - done.\n",
      "gdalwarp -of GTIFF  -r cubic -t_srs '+proj=longlat +datum=WGS84 +no_defs' soil/bdod_0-5cm_mean_telangana.tif projected/bdod_0-5cm_mean_telangana.tif\n",
      "Creating output file that is 1863P x 1864L.\n",
      "Processing soil/bdod_0-5cm_mean_telangana.tif [1/1] : 0...10...20...30...40...50...60...70...80...90...100 - done.\n",
      "gdalwarp -dstnodata -9999 -cutline TL_state_shapefile_for_clip.geojson -crop_to_cutline projected/soc_0-5cm_mean_telangana.tif clipped/soc_0-5cm_mean_telangana.tif\n",
      "Creating output file that is 1862P x 1864L.\n",
      "Processing projected/soc_0-5cm_mean_telangana.tif [1/1] : 0...10...20...30...40...50...60...70...80...90...100 - done.\n",
      "gdalwarp -dstnodata -9999 -cutline TL_state_shapefile_for_clip.geojson -crop_to_cutline projected/clay_0-5cm_mean_telangana.tif clipped/clay_0-5cm_mean_telangana.tif\n",
      "Creating output file that is 1862P x 1864L.\n",
      "Processing projected/clay_0-5cm_mean_telangana.tif [1/1] : 0...10...20...30...40...50...60...70...80...90...100 - done.\n",
      "gdalwarp -dstnodata -9999 -cutline TL_state_shapefile_for_clip.geojson -crop_to_cutline projected/bdod_0-5cm_mean_telangana.tif clipped/bdod_0-5cm_mean_telangana.tif\n",
      "Creating output file that is 1862P x 1864L.\n",
      "Processing projected/bdod_0-5cm_mean_telangana.tif [1/1] : 0...10...20...30...40...50...60...70...80...90...100 - done.\n",
      "directory exists\n",
      "gdal_translate clipped/soc_0-5cm_mean_telangana.tif cog/soc_0-5cm_mean_telangana.tif -co COMPRESS=DEFLATE -co PREDICTOR=2 -co ZLEVEL=9 -co TILED=YES\n",
      "Input file size is 1862, 1864\n",
      "0...10...20...30...40...50...60...70...80...90...100 - done.\n",
      "gdal_translate clipped/clay_0-5cm_mean_telangana.tif cog/clay_0-5cm_mean_telangana.tif -co COMPRESS=DEFLATE -co PREDICTOR=2 -co ZLEVEL=9 -co TILED=YES\n",
      "Input file size is 1862, 1864\n",
      "0...10...20...30...40...50...60...70...80...90...100 - done.\n",
      "gdal_translate clipped/bdod_0-5cm_mean_telangana.tif cog/bdod_0-5cm_mean_telangana.tif -co COMPRESS=DEFLATE -co PREDICTOR=2 -co ZLEVEL=9 -co TILED=YES\n",
      "Input file size is 1862, 1864\n",
      "0...10...20...30...40...50...60...70...80...90...100 - done.\n",
      "rm -r soil clipped projected\n"
     ]
    }
   ],
   "source": [
    "basepath='soil/'\n",
    "\n",
    "if 'projected' not in os.listdir():\n",
    "    os.mkdir('projected')\n",
    "else:\n",
    "    print('directory exists')\n",
    "\n",
    "arr = os.listdir(basepath)\n",
    "for i in arr:\n",
    "    cmd=\"gdalwarp -of GTIFF  -r cubic -t_srs '+proj=longlat +datum=WGS84 +no_defs'\"+\" \"+basepath+str(i)+\" projected/\"+str(i)\n",
    "    print(cmd)\n",
    "    try:\n",
    "        subp.check_call(str(cmd), shell=True)\n",
    "    except:\n",
    "        print(\"end\")\n",
    "    time.sleep(1)\n",
    "\n",
    "basepath = 'projected/'\n",
    "# Open band 1 as array\n",
    "arr = os.listdir(basepath)\n",
    "\n",
    "if 'clipped' not in os.listdir():\n",
    "    os.mkdir('clipped')\n",
    "else:\n",
    "    print('directory exists')\n",
    "    \n",
    "for i in arr:\n",
    "    cmd=\"gdalwarp -dstnodata -9999 -cutline \"+geojson+\" -crop_to_cutline \"+basepath+str(i)+\" clipped/\"+i\n",
    "    print(cmd)\n",
    "    try:\n",
    "        subp.check_call(str(cmd), shell=True)\n",
    "    except:\n",
    "        print(\"end\")\n",
    "    time.sleep(1)\n",
    "\n",
    "\n",
    "arr = os.listdir('clipped/')\n",
    "\n",
    "if 'cog' not in os.listdir():\n",
    "    os.mkdir('cog')\n",
    "else:\n",
    "    print('directory exists')\n",
    "\n",
    "for i in arr:\n",
    "    cmd=\"gdal_translate clipped/\"+str(i)+\" cog/\"+str(i)+\" -co COMPRESS=DEFLATE -co PREDICTOR=2 -co ZLEVEL=9 -co TILED=YES\"\n",
    "    print(cmd)\n",
    "    try:\n",
    "        subp.check_call(str(cmd), shell=True)\n",
    "    except:\n",
    "        print(\"end\")\n",
    "    time.sleep(1)\n",
    "\n",
    "cmd=\"rm -r soil clipped projected\"\n",
    "print(cmd)\n",
    "try:\n",
    "    subp.check_call(str(cmd), shell=True)\n",
    "except:\n",
    "    print(\"end\")"
   ]
  }
 ],
 "metadata": {
  "kernelspec": {
   "display_name": "Python 3.10.6 64-bit",
   "language": "python",
   "name": "python3"
  },
  "language_info": {
   "codemirror_mode": {
    "name": "ipython",
    "version": 3
   },
   "file_extension": ".py",
   "mimetype": "text/x-python",
   "name": "python",
   "nbconvert_exporter": "python",
   "pygments_lexer": "ipython3",
   "version": "3.10.6"
  },
  "orig_nbformat": 4,
  "vscode": {
   "interpreter": {
    "hash": "916dbcbb3f70747c44a77c7bcd40155683ae19c65e1c03b4aa3499c5328201f1"
   }
  }
 },
 "nbformat": 4,
 "nbformat_minor": 2
}
