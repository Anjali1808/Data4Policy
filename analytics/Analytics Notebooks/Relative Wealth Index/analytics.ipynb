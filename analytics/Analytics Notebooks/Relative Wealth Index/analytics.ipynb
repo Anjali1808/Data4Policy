{
 "cells": [
  {
   "cell_type": "code",
   "execution_count": 34,
   "metadata": {},
   "outputs": [],
   "source": [
    "import geopandas as gpd\n",
    "import pandas as pd\n",
    "import rasterio\n",
    "from rasterio import mask\n",
    "\n",
    "import shapely\n",
    "from shapely.geometry import Polygon, Point\n",
    "from shapely.ops import cascaded_union\n",
    "import shapely.speedups\n",
    "\n",
    "shapely.speedups.enable()"
   ]
  },
  {
   "cell_type": "code",
   "execution_count": 12,
   "metadata": {},
   "outputs": [],
   "source": [
    "df_district_boundaries = gpd.read_file('gadm40_IND_shp/gadm40_IND_2.shp')"
   ]
  },
  {
   "cell_type": "code",
   "execution_count": 13,
   "metadata": {},
   "outputs": [
    {
     "data": {
      "text/plain": [
       "659"
      ]
     },
     "execution_count": 13,
     "metadata": {},
     "output_type": "execute_result"
    }
   ],
   "source": [
    "df_district_boundaries['NAME_2'].nunique()"
   ]
  },
  {
   "cell_type": "code",
   "execution_count": 15,
   "metadata": {},
   "outputs": [
    {
     "name": "stdout",
     "output_type": "stream",
     "text": [
      "No. of bands: 1\n",
      "Total population - India (2020):  1.38 billion\n"
     ]
    }
   ],
   "source": [
    "india_worldpop_raster_2020 = rasterio.open('ind_ppp_2020_1km_Aggregated_UNadj.tif')\n",
    "print('No. of bands:',(india_worldpop_raster_2020.count))\n",
    "# Reading the first band, filtering negative raster values and visualise data with matplotlib\n",
    "india_worldpop_raster_2020_tot = india_worldpop_raster_2020.read(1)\n",
    "india_worldpop_raster_2020_tot[india_worldpop_raster_2020_tot<0] = None\n",
    "\n",
    "india_worldpop_raster_2020_nonzero = india_worldpop_raster_2020_tot[india_worldpop_raster_2020_tot>0]\n",
    "population_worldpop = india_worldpop_raster_2020_nonzero[india_worldpop_raster_2020_nonzero > 0].sum()\n",
    "print('Total population - India (2020): ',round(population_worldpop/1000000000,2),'billion')"
   ]
  },
  {
   "cell_type": "code",
   "execution_count": 19,
   "metadata": {},
   "outputs": [],
   "source": [
    "def get_population_count(vector_polygon,raster_layer):\n",
    "    gtraster, bound = rasterio.mask.mask(raster_layer, [vector_polygon], crop=True)\n",
    "    pop_estimate = gtraster[0][gtraster[0]>0].sum()\n",
    "    return (pop_estimate.round(2))"
   ]
  },
  {
   "cell_type": "code",
   "execution_count": 20,
   "metadata": {},
   "outputs": [
    {
     "name": "stdout",
     "output_type": "stream",
     "text": [
      "CPU times: user 1.91 s, sys: 63.4 ms, total: 1.97 s\n",
      "Wall time: 1.98 s\n"
     ]
    }
   ],
   "source": [
    "%%time\n",
    "df_district_boundaries['population_count_wp'] = df_district_boundaries['geometry'].apply(get_population_count,raster_layer=india_worldpop_raster_2020)\n"
   ]
  },
  {
   "cell_type": "code",
   "execution_count": 45,
   "metadata": {},
   "outputs": [],
   "source": [
    "district_population = df_district_boundaries.groupby(['NAME_2','NAME_1'])['population_count_wp'].sum().round().reset_index().sort_values(by='population_count_wp')\n"
   ]
  },
  {
   "cell_type": "code",
   "execution_count": 31,
   "metadata": {},
   "outputs": [],
   "source": [
    "relative_wealth_data = pd.read_csv('ind_pak_relative_wealth_index.csv')"
   ]
  },
  {
   "cell_type": "code",
   "execution_count": 36,
   "metadata": {},
   "outputs": [],
   "source": [
    "def convert_Point(facebook_relative_wealth):\n",
    "    return Point(facebook_relative_wealth['longitude'],facebook_relative_wealth['latitude'])\n",
    "\n",
    "relative_wealth_data['geometry'] = relative_wealth_data[['latitude','longitude']].apply(convert_Point,axis=1)\n",
    "relative_wealth_data = gpd.GeoDataFrame(relative_wealth_data)"
   ]
  },
  {
   "cell_type": "code",
   "execution_count": 37,
   "metadata": {},
   "outputs": [
    {
     "data": {
      "text/html": [
       "<div>\n",
       "<style scoped>\n",
       "    .dataframe tbody tr th:only-of-type {\n",
       "        vertical-align: middle;\n",
       "    }\n",
       "\n",
       "    .dataframe tbody tr th {\n",
       "        vertical-align: top;\n",
       "    }\n",
       "\n",
       "    .dataframe thead th {\n",
       "        text-align: right;\n",
       "    }\n",
       "</style>\n",
       "<table border=\"1\" class=\"dataframe\">\n",
       "  <thead>\n",
       "    <tr style=\"text-align: right;\">\n",
       "      <th></th>\n",
       "      <th>latitude</th>\n",
       "      <th>longitude</th>\n",
       "      <th>rwi</th>\n",
       "      <th>error</th>\n",
       "      <th>geometry</th>\n",
       "    </tr>\n",
       "  </thead>\n",
       "  <tbody>\n",
       "    <tr>\n",
       "      <th>0</th>\n",
       "      <td>33.897776</td>\n",
       "      <td>70.037842</td>\n",
       "      <td>-0.074</td>\n",
       "      <td>0.624</td>\n",
       "      <td>POINT (70.03784 33.89778)</td>\n",
       "    </tr>\n",
       "    <tr>\n",
       "      <th>1</th>\n",
       "      <td>31.118794</td>\n",
       "      <td>66.807861</td>\n",
       "      <td>-0.569</td>\n",
       "      <td>0.368</td>\n",
       "      <td>POINT (66.80786 31.11879)</td>\n",
       "    </tr>\n",
       "  </tbody>\n",
       "</table>\n",
       "</div>"
      ],
      "text/plain": [
       "    latitude  longitude    rwi  error                   geometry\n",
       "0  33.897776  70.037842 -0.074  0.624  POINT (70.03784 33.89778)\n",
       "1  31.118794  66.807861 -0.569  0.368  POINT (66.80786 31.11879)"
      ]
     },
     "execution_count": 37,
     "metadata": {},
     "output_type": "execute_result"
    }
   ],
   "source": [
    "relative_wealth_data.head(2)"
   ]
  },
  {
   "cell_type": "code",
   "execution_count": 39,
   "metadata": {},
   "outputs": [],
   "source": [
    "def get_rwi_mean(vector_polygon,vector_layer):\n",
    "    pip_mask = vector_layer.within(vector_polygon)\n",
    "    pip_data = vector_layer.loc[pip_mask]\n",
    "    mean_val = round(pip_data['rwi'].mean(),2)\n",
    "    return(mean_val)"
   ]
  },
  {
   "cell_type": "code",
   "execution_count": 41,
   "metadata": {},
   "outputs": [],
   "source": [
    "def get_rwi_median(vector_polygon,vector_layer):\n",
    "    pip_mask = vector_layer.within(vector_polygon)\n",
    "    pip_data = vector_layer.loc[pip_mask]\n",
    "    mean_val = round(pip_data['rwi'].median(),2)\n",
    "    return(mean_val)"
   ]
  },
  {
   "cell_type": "code",
   "execution_count": 40,
   "metadata": {},
   "outputs": [],
   "source": [
    "df_district_boundaries['rwi_mean'] = df_district_boundaries['geometry'].apply(get_rwi_mean,\n",
    "                                                                              vector_layer=relative_wealth_data)\n"
   ]
  },
  {
   "cell_type": "code",
   "execution_count": 47,
   "metadata": {},
   "outputs": [],
   "source": [
    "district_average_rwi = df_district_boundaries.groupby(['NAME_2','NAME_1'])['rwi_mean'].mean().reset_index().sort_values(by='rwi_mean')\n"
   ]
  },
  {
   "cell_type": "code",
   "execution_count": 46,
   "metadata": {},
   "outputs": [
    {
     "data": {
      "text/html": [
       "<div>\n",
       "<style scoped>\n",
       "    .dataframe tbody tr th:only-of-type {\n",
       "        vertical-align: middle;\n",
       "    }\n",
       "\n",
       "    .dataframe tbody tr th {\n",
       "        vertical-align: top;\n",
       "    }\n",
       "\n",
       "    .dataframe thead th {\n",
       "        text-align: right;\n",
       "    }\n",
       "</style>\n",
       "<table border=\"1\" class=\"dataframe\">\n",
       "  <thead>\n",
       "    <tr style=\"text-align: right;\">\n",
       "      <th></th>\n",
       "      <th>NAME_2</th>\n",
       "      <th>NAME_1</th>\n",
       "      <th>population_count_wp</th>\n",
       "    </tr>\n",
       "  </thead>\n",
       "  <tbody>\n",
       "    <tr>\n",
       "      <th>166</th>\n",
       "      <td>Dibang Valley</td>\n",
       "      <td>Arunachal Pradesh</td>\n",
       "      <td>6660.0</td>\n",
       "    </tr>\n",
       "    <tr>\n",
       "      <th>25</th>\n",
       "      <td>Anjaw</td>\n",
       "      <td>Arunachal Pradesh</td>\n",
       "      <td>23516.0</td>\n",
       "    </tr>\n",
       "  </tbody>\n",
       "</table>\n",
       "</div>"
      ],
      "text/plain": [
       "            NAME_2             NAME_1  population_count_wp\n",
       "166  Dibang Valley  Arunachal Pradesh               6660.0\n",
       "25           Anjaw  Arunachal Pradesh              23516.0"
      ]
     },
     "execution_count": 46,
     "metadata": {},
     "output_type": "execute_result"
    }
   ],
   "source": [
    "district_population.head(2)"
   ]
  },
  {
   "cell_type": "code",
   "execution_count": 49,
   "metadata": {},
   "outputs": [],
   "source": [
    "df_combined = pd.merge(district_average_rwi,district_population,on=['NAME_2','NAME_1'])"
   ]
  },
  {
   "cell_type": "code",
   "execution_count": 50,
   "metadata": {},
   "outputs": [],
   "source": [
    "df_combined['weighted'] = df_combined['population_count_wp']*df_combined['rwi_mean']"
   ]
  },
  {
   "cell_type": "code",
   "execution_count": 52,
   "metadata": {},
   "outputs": [],
   "source": [
    "df_combined.sort_values(by='weighted').to_excel('rwi_average.xlsx')"
   ]
  },
  {
   "cell_type": "code",
   "execution_count": 53,
   "metadata": {},
   "outputs": [],
   "source": [
    "df_district_boundaries['rwi_median'] = df_district_boundaries['geometry'].apply(get_rwi_median,\n",
    "                                                                              vector_layer=relative_wealth_data)\n",
    "\n"
   ]
  },
  {
   "cell_type": "code",
   "execution_count": 55,
   "metadata": {},
   "outputs": [],
   "source": [
    "district_median_rwi = df_district_boundaries.groupby(['NAME_2','NAME_1'])['rwi_median'].mean().reset_index().sort_values(by='rwi_median')\n",
    "\n"
   ]
  },
  {
   "cell_type": "code",
   "execution_count": 56,
   "metadata": {},
   "outputs": [],
   "source": [
    "df_combined = pd.merge(district_median_rwi,district_population,on=['NAME_2','NAME_1'])"
   ]
  },
  {
   "cell_type": "code",
   "execution_count": 58,
   "metadata": {},
   "outputs": [],
   "source": [
    "df_combined['weighted'] = df_combined['population_count_wp']*df_combined['rwi_median']"
   ]
  },
  {
   "cell_type": "code",
   "execution_count": 59,
   "metadata": {},
   "outputs": [],
   "source": [
    "df_combined.sort_values(by='weighted').to_excel('rwi_median.xlsx')"
   ]
  }
 ],
 "metadata": {
  "kernelspec": {
   "display_name": "Python 3",
   "language": "python",
   "name": "python3"
  },
  "language_info": {
   "codemirror_mode": {
    "name": "ipython",
    "version": 3
   },
   "file_extension": ".py",
   "mimetype": "text/x-python",
   "name": "python",
   "nbconvert_exporter": "python",
   "pygments_lexer": "ipython3",
   "version": "3.8.3"
  }
 },
 "nbformat": 4,
 "nbformat_minor": 4
}
